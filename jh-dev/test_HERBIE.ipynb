{
 "cells": [
  {
   "cell_type": "code",
   "execution_count": null,
   "id": "cd28b796-4661-4a6a-a84e-14fcba89fe83",
   "metadata": {},
   "outputs": [],
   "source": [
    "# Setup\n",
    "\n",
    "from herbie.core import Herbie\n",
    "from toolbox.gridded_data import pluck_points\n",
    "import pandas as pd\n",
    "import numpy as np"
   ]
  },
  {
   "cell_type": "markdown",
   "id": "6b7f5da2-a58c-48f5-99ee-59cd8f08bd12",
   "metadata": {},
   "source": [
    "## Gather Herbie Example\n",
    "\n",
    "Get HRRR data vars at one time period for list of coordinates. Coords are from the RAWS stations in WA state with complete fmda vars."
   ]
  },
  {
   "cell_type": "code",
   "execution_count": null,
   "id": "071d8d7e-6164-4934-900a-8cae98c91e38",
   "metadata": {
    "tags": []
   },
   "outputs": [],
   "source": [
    "# Read in list of RAWS Stations\n",
    "df = pd.read_csv(\"raws_stations_WA.csv\")\n",
    "\n",
    "# Filter to those with complete fmda data\n",
    "df = df[(df[['air_temp', 'relative_humidity', 'precip_accum',\n",
    "       'fuel_moisture', 'wind_speed', 'solar_radiation']]==1).sum(axis=1)==6]\n",
    "\n",
    "# Get list of coords\n",
    "points = list(df[[\"lon\",\"lat\"]].itertuples(index=False,name=None))\n",
    "names = np.unique(df['STID'])\n",
    "\n",
    "print(df.shape)"
   ]
  },
  {
   "cell_type": "markdown",
   "id": "59ebbf15-a92f-40c9-a181-ddfcd1c5e3ec",
   "metadata": {},
   "source": [
    "Get HRRR data."
   ]
  },
  {
   "cell_type": "code",
   "execution_count": null,
   "id": "1d7063e3-619a-40dd-9048-d79d52b7d244",
   "metadata": {
    "tags": []
   },
   "outputs": [],
   "source": [
    "H = Herbie(\n",
    "    \"2022-06-01-08:00\",\n",
    "    model=\"hrrr\"\n",
    ")"
   ]
  },
  {
   "cell_type": "markdown",
   "id": "edc502bb-9e86-4dec-b8aa-07468a38bf73",
   "metadata": {},
   "source": [
    "For each variable, pluck points at location.\n",
    "\n",
    "https://www.nco.ncep.noaa.gov/pmb/products/hrrr/hrrr.t00z.wrfsfcf00.grib2.shtml"
   ]
  },
  {
   "cell_type": "markdown",
   "id": "a1326a02-605a-45ed-8710-cde55093f15f",
   "metadata": {},
   "source": [
    "HOW TO: xarray all variables below at once? The obvious ways break."
   ]
  },
  {
   "cell_type": "code",
   "execution_count": null,
   "id": "b2dc91a9-afd4-45a7-b14b-5fd06f038c3d",
   "metadata": {
    "tags": []
   },
   "outputs": [],
   "source": [
    "len(points)"
   ]
  },
  {
   "cell_type": "code",
   "execution_count": null,
   "id": "441b87b9-e453-40c6-9621-d708d1da3c1a",
   "metadata": {},
   "outputs": [],
   "source": [
    "ds = H.xarray(\"(?:TMP|RH):2 m\", remove_grib=False)\n",
    "dsi = ds.herbie.nearest_points(\n",
    "    points=points,\n",
    "    names=names\n",
    ")"
   ]
  },
  {
   "cell_type": "code",
   "execution_count": null,
   "id": "7f381b60-502b-4539-8b6f-5f26222a2ec6",
   "metadata": {},
   "outputs": [],
   "source": [
    "dsi"
   ]
  },
  {
   "cell_type": "markdown",
   "id": "7497648c-9d71-40cc-998d-20ef93704758",
   "metadata": {},
   "source": [
    "## FastHerbie for Multiple Times"
   ]
  },
  {
   "cell_type": "code",
   "execution_count": null,
   "id": "eb96adc9-f33d-48f5-8477-d4bbca0fb278",
   "metadata": {},
   "outputs": [],
   "source": [
    "from herbie import FastHerbie\n",
    "import pandas as pd"
   ]
  },
  {
   "cell_type": "code",
   "execution_count": null,
   "id": "63da6b04-7f10-40cb-8701-08cc5a777e89",
   "metadata": {
    "tags": []
   },
   "outputs": [],
   "source": [
    "# Create a range of dates, June 1 to June 30\n",
    "dates = pd.date_range(\n",
    "    start=\"2022-06-01 00:00\",\n",
    "    periods=3,\n",
    "    freq=\"1H\",\n",
    ")"
   ]
  },
  {
   "cell_type": "code",
   "execution_count": null,
   "id": "26b4cd8c-1b16-4134-ba35-15a2eb5018c4",
   "metadata": {
    "tags": []
   },
   "outputs": [],
   "source": [
    "dates"
   ]
  },
  {
   "cell_type": "code",
   "execution_count": null,
   "id": "76b013be-3b41-47a6-acf1-634935cb37f6",
   "metadata": {
    "tags": []
   },
   "outputs": [],
   "source": [
    "# Make FastHerbie Object.\n",
    "fh = FastHerbie(dates, model=\"hrrr\")"
   ]
  },
  {
   "cell_type": "code",
   "execution_count": null,
   "id": "89b0dba3-7a1b-4f38-96a3-e590d3ff4603",
   "metadata": {
    "tags": []
   },
   "outputs": [],
   "source": [
    "fh.objects"
   ]
  },
  {
   "cell_type": "code",
   "execution_count": null,
   "id": "8336e98b-fc7c-4ce5-8c87-a203659ebe25",
   "metadata": {
    "tags": []
   },
   "outputs": [],
   "source": [
    "ds = fh.xarray(\"(?:TMP|RH):2 m\", remove_grib=False)\n",
    "dsi = ds.herbie.nearest_points(\n",
    "    points=points[0],\n",
    "    names=names[0]\n",
    ")"
   ]
  },
  {
   "cell_type": "raw",
   "id": "e74374e7-32af-4201-816c-a0c198b2c38b",
   "metadata": {
    "tags": []
   },
   "source": [
    "dsi"
   ]
  },
  {
   "cell_type": "markdown",
   "id": "59ddb9ba-d0d9-44fe-9173-ce3b1911e1bc",
   "metadata": {},
   "source": [
    "## Manually with PyDAP"
   ]
  },
  {
   "cell_type": "raw",
   "id": "f3203cf1-a2bc-4934-b09b-c28ca1236f96",
   "metadata": {},
   "source": []
  },
  {
   "cell_type": "code",
   "execution_count": null,
   "id": "593668b5-37c6-46dc-a2ce-78cfe4c878de",
   "metadata": {},
   "outputs": [],
   "source": []
  }
 ],
 "metadata": {
  "kernelspec": {
   "display_name": "Python 3 (ipykernel)",
   "language": "python",
   "name": "python3"
  },
  "language_info": {
   "codemirror_mode": {
    "name": "ipython",
    "version": 3
   },
   "file_extension": ".py",
   "mimetype": "text/x-python",
   "name": "python",
   "nbconvert_exporter": "python",
   "pygments_lexer": "ipython3",
   "version": "3.9.12"
  }
 },
 "nbformat": 4,
 "nbformat_minor": 5
}
