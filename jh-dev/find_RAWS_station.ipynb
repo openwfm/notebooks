{
 "cells": [
  {
   "cell_type": "markdown",
   "id": "b1100419-e2ec-46b6-89d3-327421288025",
   "metadata": {},
   "source": [
    "## Find Data Availability for Stations\n",
    "\n",
    "Find which RAWS stations in Colorado have data availability for variables of interest to fuel moisture model."
   ]
  },
  {
   "cell_type": "code",
   "execution_count": null,
   "id": "edb47918-af48-4002-8a66-7e78c7d10c77",
   "metadata": {},
   "outputs": [],
   "source": [
    "# !pip install MesoPy\n",
    "from MesoPy import Meso\n",
    "import os.path as osp\n",
    "from data_funcs import format_raws\n",
    "\n",
    "outpath = \".\"\n",
    "\n",
    "meso_token=\"4192c18707b848299783d59a9317c6e1\"\n",
    "m=Meso(meso_token)"
   ]
  },
  {
   "cell_type": "code",
   "execution_count": null,
   "id": "37683794-406d-4524-99d3-2c167ff444ea",
   "metadata": {},
   "outputs": [],
   "source": [
    "time_start = \"202206010800\"  # June 1 2018 08:00 in format yyyymmddHHMM\n",
    "time_s2    = \"202206010900\"  # June 1 2018 09:00 in format yyyymmddHHMM \n",
    "time_end   = \"202207200900\"  # June 20 2018 09:00 in format yyyymmddHHMM\n",
    "statestr = \"WA\"\n",
    "\n",
    "vars='air_temp,relative_humidity,precip_accum,fuel_moisture,wind_speed,solar_radiation'"
   ]
  },
  {
   "cell_type": "code",
   "execution_count": null,
   "id": "7dfb0387-6535-4976-9e9a-62e3cf9a69cd",
   "metadata": {},
   "outputs": [],
   "source": [
    "meso_obss = m.timeseries(time_start, time_s2, state=statestr, \n",
    "                             showemptystations = '0', vars=vars)"
   ]
  },
  {
   "cell_type": "code",
   "execution_count": null,
   "id": "2255f323-2685-47b1-b862-f86eca6a3991",
   "metadata": {},
   "outputs": [],
   "source": [
    "import pandas as pd\n",
    "import numpy as np\n",
    "\n",
    "station_df = pd.DataFrame(columns=['STID', 'air_temp', 'relative_humidity', 'precip_accum', \n",
    "                                   'fuel_moisture', 'wind_speed', 'solar_radiation', \n",
    "                                   'lon', 'lat'],\n",
    "                  index=range(0, len(meso_obss[\"STATION\"])))"
   ]
  },
  {
   "cell_type": "code",
   "execution_count": null,
   "id": "6f4fbe0d-dd16-4c1c-950e-97e23e5a1918",
   "metadata": {},
   "outputs": [],
   "source": [
    "for i in range(0, station_df.shape[0]):\n",
    "    station_df[\"STID\"][i] = meso_obss[\"STATION\"][i][\"STID\"]\n",
    "    station_df[\"air_temp\"][i] = int(\"air_temp\" in meso_obss[\"STATION\"][i][\"SENSOR_VARIABLES\"].keys())\n",
    "    station_df[\"relative_humidity\"][i] = int(\"relative_humidity\" in meso_obss[\"STATION\"][i][\"SENSOR_VARIABLES\"].keys())\n",
    "    station_df[\"precip_accum\"][i] = int(\"precip_accum\" in meso_obss[\"STATION\"][i][\"SENSOR_VARIABLES\"].keys())\n",
    "    station_df[\"fuel_moisture\"][i] = int(\"fuel_moisture\" in meso_obss[\"STATION\"][i][\"SENSOR_VARIABLES\"].keys())\n",
    "    station_df[\"wind_speed\"][i] = int(\"wind_speed\" in meso_obss[\"STATION\"][i][\"SENSOR_VARIABLES\"].keys())\n",
    "    station_df[\"solar_radiation\"][i] = int(\"solar_radiation\" in meso_obss[\"STATION\"][i][\"SENSOR_VARIABLES\"].keys())\n",
    "    station_df[\"lon\"][i]=meso_obss[\"STATION\"][i][\"LONGITUDE\"]\n",
    "    station_df[\"lat\"][i]=meso_obss[\"STATION\"][i][\"LATITUDE\"]"
   ]
  },
  {
   "cell_type": "code",
   "execution_count": null,
   "id": "de8ec8c9-4af7-4bdc-9dbc-1b361d011654",
   "metadata": {},
   "outputs": [],
   "source": [
    "station_df[station_df[\"fuel_moisture\"]==1].head()"
   ]
  },
  {
   "cell_type": "code",
   "execution_count": null,
   "id": "99dde77e-5f6f-4e45-babf-f7599e8fca14",
   "metadata": {},
   "outputs": [],
   "source": [
    "# write output\n",
    "station_df.to_csv(osp.join(outpath, \"raws_stations_\"+statestr+\".csv\"), index=False)"
   ]
  },
  {
   "cell_type": "markdown",
   "id": "8f63bc34-6deb-48bd-9aa9-c2f5a4cc293e",
   "metadata": {},
   "source": [
    "## Plot Timeseries for a Station\n",
    "\n",
    "Visualize the available data."
   ]
  },
  {
   "cell_type": "code",
   "execution_count": null,
   "id": "d45d76e5-ccb1-45b6-a187-25d0d1f91b8e",
   "metadata": {},
   "outputs": [],
   "source": [
    "meso_ts = m.timeseries(time_start, time_end, stid=\"CPTC2\", showemptystations = '0', vars=vars)   # ask the object for data"
   ]
  },
  {
   "cell_type": "code",
   "execution_count": null,
   "id": "cfb06872-19e7-4dc8-88e9-729e742d5a69",
   "metadata": {},
   "outputs": [],
   "source": [
    "meso_ts['STATION'][0].keys()"
   ]
  },
  {
   "cell_type": "code",
   "execution_count": null,
   "id": "05e37b54-e014-44e8-b0f4-e3d53b5dbf86",
   "metadata": {},
   "outputs": [],
   "source": [
    "from datetime import datetime, timedelta, time\n",
    "import numpy as np\n",
    "import matplotlib.pyplot as plt\n",
    "import pytz\n",
    "station = meso_ts['STATION'][0]\n",
    "time_str  = station['OBSERVATIONS']['date_time']\n",
    "obs_time = [datetime.strptime(t, '%Y-%m-%dT%H:%M:%SZ').replace(tzinfo=pytz.UTC) for t in time_str]\n",
    "start_time = obs_time[0].replace(minute=0)     # remember obs_time and start_time for later\n",
    "end_time = obs_time[-1]\n",
    "obs_data = np.array(station['OBSERVATIONS'][\"fuel_moisture_set_1\"])\n",
    "\n",
    "\n",
    "%matplotlib inline\n",
    "plt.figure(figsize=(16,4))\n",
    "plt.plot(obs_data,linestyle='-',c='k',label='10-h fuel data')\n",
    "plt.title(station['STID'] + ' 10 h fuel moisture data')\n",
    "plt.xlabel('Time (hours)') \n",
    "plt.ylabel('Fuel moisture content (%)')\n",
    "plt.legend()"
   ]
  },
  {
   "cell_type": "code",
   "execution_count": null,
   "id": "d58d9cb6-f87f-47a2-8845-97c6d6c15358",
   "metadata": {},
   "outputs": [],
   "source": [
    "obs_data = np.array(station['OBSERVATIONS'][\"relative_humidity_set_1\"])\n",
    "\n",
    "\n",
    "%matplotlib inline\n",
    "plt.figure(figsize=(16,4))\n",
    "plt.plot(obs_data,linestyle='-',c='k')\n",
    "plt.title(station['STID'] + ' relative humidity data')\n",
    "plt.xlabel('Time (hours)') \n",
    "plt.ylabel('Relative Humidity (%)')"
   ]
  },
  {
   "cell_type": "code",
   "execution_count": null,
   "id": "20176db9-997d-4a46-8d73-f2e7a08ee9d4",
   "metadata": {},
   "outputs": [],
   "source": [
    "obs_data = np.array(station['OBSERVATIONS'][\"precip_accum_set_1\"])\n",
    "\n",
    "\n",
    "%matplotlib inline\n",
    "plt.figure(figsize=(16,4))\n",
    "plt.plot(obs_data,linestyle='-',c='k')\n",
    "plt.title(station['STID'] + ' precip accum data')\n",
    "plt.xlabel('Time (hours)') \n",
    "plt.ylabel('Precipitation Accumulated (mm)')"
   ]
  },
  {
   "cell_type": "code",
   "execution_count": null,
   "id": "2cf93527-578c-4ce2-b4f6-1508b9dbfa7c",
   "metadata": {},
   "outputs": [],
   "source": [
    "obs_data = np.array(station['OBSERVATIONS'][\"air_temp_set_1\"])\n",
    "\n",
    "\n",
    "%matplotlib inline\n",
    "plt.figure(figsize=(16,4))\n",
    "plt.plot(obs_data,linestyle='-',c='k')\n",
    "plt.title(station['STID'] + ' air temp data')\n",
    "plt.xlabel('Time (hours)') \n",
    "plt.ylabel('Air Temp (C)')"
   ]
  },
  {
   "cell_type": "code",
   "execution_count": null,
   "id": "48b68f6a-4345-4878-8f33-a885aaa4e6c3",
   "metadata": {},
   "outputs": [],
   "source": [
    "raws_dat = format_raws(meso_ts['STATION'][0])"
   ]
  },
  {
   "cell_type": "code",
   "execution_count": null,
   "id": "45264085-d516-4803-bcc6-d0a64cc7e1c9",
   "metadata": {},
   "outputs": [],
   "source": [
    "import pickle\n",
    "\n",
    "with open('CPTC2.pickle', 'wb') as handle:\n",
    "    pickle.dump(raws_dat, handle, protocol=pickle.HIGHEST_PROTOCOL)"
   ]
  },
  {
   "cell_type": "code",
   "execution_count": null,
   "id": "0730d61b-6d71-407a-a31b-8b16494f1921",
   "metadata": {},
   "outputs": [],
   "source": [
    "print(meso_ts['STATION'][0]['LONGITUDE'])\n",
    "print(meso_ts['STATION'][0]['LATITUDE'])"
   ]
  },
  {
   "cell_type": "code",
   "execution_count": null,
   "id": "dbc3b694-1e87-48ed-9e92-65c484c343c3",
   "metadata": {},
   "outputs": [],
   "source": []
  }
 ],
 "metadata": {
  "kernelspec": {
   "display_name": "Python 3 (ipykernel)",
   "language": "python",
   "name": "python3"
  },
  "language_info": {
   "codemirror_mode": {
    "name": "ipython",
    "version": 3
   },
   "file_extension": ".py",
   "mimetype": "text/x-python",
   "name": "python",
   "nbconvert_exporter": "python",
   "pygments_lexer": "ipython3",
   "version": "3.11.3"
  }
 },
 "nbformat": 4,
 "nbformat_minor": 5
}
