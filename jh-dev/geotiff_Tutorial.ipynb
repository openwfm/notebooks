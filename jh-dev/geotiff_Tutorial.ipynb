{
 "cells": [
  {
   "cell_type": "code",
   "execution_count": null,
   "id": "8f4a7534-557c-4d40-9bff-7c1c1320310d",
   "metadata": {},
   "outputs": [],
   "source": [
    "import os.path as osp\n",
    "from osgeo import gdal\n",
    "from grib_to_geotiff import grib_to_geotiff"
   ]
  },
  {
   "cell_type": "code",
   "execution_count": null,
   "id": "416a09e7-70c8-4f3f-86d4-2c51d2a0b2c2",
   "metadata": {},
   "outputs": [],
   "source": [
    "# Get an existing grib file\n",
    "filename = 'data/hrrr_202206015.grib2'\n",
    "osp.exists(filename) # should be T"
   ]
  },
  {
   "cell_type": "code",
   "execution_count": null,
   "id": "2616a035-d16f-4cfe-a4d3-7ec88fd1d1d9",
   "metadata": {},
   "outputs": [],
   "source": [
    "# Save grib file as tiff\n",
    "grib_to_geotiff(filename,\n",
    "               output_filename_base = 'test',\n",
    "               band_number = 1)"
   ]
  },
  {
   "cell_type": "code",
   "execution_count": null,
   "id": "4b821f45-15bb-421a-aeeb-cf77f195717f",
   "metadata": {},
   "outputs": [],
   "source": [
    "# Read tiff file\n",
    "\n",
    "ds = gdal.Open('test.1.tif')"
   ]
  },
  {
   "cell_type": "code",
   "execution_count": null,
   "id": "b5412ae1-46a8-40f5-9ab5-bdad5ff13f2e",
   "metadata": {},
   "outputs": [],
   "source": []
  }
 ],
 "metadata": {
  "kernelspec": {
   "display_name": "Python 3 (ipykernel)",
   "language": "python",
   "name": "python3"
  },
  "language_info": {
   "codemirror_mode": {
    "name": "ipython",
    "version": 3
   },
   "file_extension": ".py",
   "mimetype": "text/x-python",
   "name": "python",
   "nbconvert_exporter": "python",
   "pygments_lexer": "ipython3",
   "version": "3.9.12"
  }
 },
 "nbformat": 4,
 "nbformat_minor": 5
}
