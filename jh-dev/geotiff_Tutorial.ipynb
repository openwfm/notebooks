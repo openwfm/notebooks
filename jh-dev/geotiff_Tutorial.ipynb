{
 "cells": [
  {
   "cell_type": "code",
   "execution_count": 9,
   "id": "8f4a7534-557c-4d40-9bff-7c1c1320310d",
   "metadata": {},
   "outputs": [],
   "source": [
    "import os.path as osp\n",
    "from osgeo import gdal\n",
    "from grib_to_geotiff import grib_to_geotiff"
   ]
  },
  {
   "cell_type": "code",
   "execution_count": 7,
   "id": "416a09e7-70c8-4f3f-86d4-2c51d2a0b2c2",
   "metadata": {},
   "outputs": [
    {
     "data": {
      "text/plain": [
       "True"
      ]
     },
     "execution_count": 7,
     "metadata": {},
     "output_type": "execute_result"
    }
   ],
   "source": [
    "# Get a grib file\n",
    "filename = 'data/hrrr_202206015.grib2'\n",
    "osp.exists(filename) # should be T"
   ]
  },
  {
   "cell_type": "code",
   "execution_count": 11,
   "id": "2616a035-d16f-4cfe-a4d3-7ec88fd1d1d9",
   "metadata": {},
   "outputs": [
    {
     "name": "stdout",
     "output_type": "stream",
     "text": [
      "Metadata for band 1:\n",
      "GRIB_COMMENT: Maximum / Composite radar reflectivity [dB]\n",
      "GRIB_DISCIPLINE: 0(Meteorological)\n",
      "GRIB_ELEMENT: REFC\n",
      "GRIB_FORECAST_SECONDS: 0\n",
      "GRIB_IDS: CENTER=7(US-NCEP) SUBCENTER=0 MASTER_TABLE=2 LOCAL_TABLE=1 SIGNF_REF_TIME=1(Start_of_Forecast) REF_TIME=2022-06-01T05:00:00Z PROD_STATUS=0(Operational) TYPE=1(Forecast)\n",
      "GRIB_PDS_PDTN: 0\n",
      "GRIB_PDS_TEMPLATE_ASSEMBLED_VALUES: 16 196 2 0 83 0 0 1 0 10 0 0 255 0 0\n",
      "GRIB_PDS_TEMPLATE_NUMBERS: 16 196 2 0 83 0 0 0 1 0 0 0 0 10 0 0 0 0 0 255 0 0 0 0 0\n",
      "GRIB_REF_TIME: 1654059600\n",
      "GRIB_SHORT_NAME: 0-EATM\n",
      "GRIB_UNIT: [dB]\n",
      "GRIB_VALID_TIME: 1654059600\n",
      "Band 1 from data/hrrr_202206015.grib2 saved to test.1.tif\n"
     ]
    }
   ],
   "source": [
    "grib_to_geotiff(filename,\n",
    "               output_filename_base = 'test',\n",
    "               band_number = 1)"
   ]
  },
  {
   "cell_type": "code",
   "execution_count": null,
   "id": "4b821f45-15bb-421a-aeeb-cf77f195717f",
   "metadata": {},
   "outputs": [],
   "source": []
  }
 ],
 "metadata": {
  "kernelspec": {
   "display_name": "Python 3 (ipykernel)",
   "language": "python",
   "name": "python3"
  },
  "language_info": {
   "codemirror_mode": {
    "name": "ipython",
    "version": 3
   },
   "file_extension": ".py",
   "mimetype": "text/x-python",
   "name": "python",
   "nbconvert_exporter": "python",
   "pygments_lexer": "ipython3",
   "version": "3.9.12"
  }
 },
 "nbformat": 4,
 "nbformat_minor": 5
}
