{
 "cells": [
  {
   "cell_type": "code",
   "execution_count": null,
   "id": "10555667-5a11-46bf-8c2e-69ddccd65a3e",
   "metadata": {
    "tags": []
   },
   "outputs": [],
   "source": [
    "# !pip install cfgrib s3fs h5netcdf h5pyd"
   ]
  },
  {
   "cell_type": "code",
   "execution_count": null,
   "id": "cd28b796-4661-4a6a-a84e-14fcba89fe83",
   "metadata": {},
   "outputs": [],
   "source": [
    "# Setup\n",
    "import os\n",
    "import pandas as pd\n",
    "import numpy as np\n",
    "import xarray as xr\n",
    "import datetime\n",
    "import io\n",
    "import requests\n",
    "import s3fs\n",
    "import subprocess\n",
    "from datetime import datetime\n",
    "\n",
    "start_time = \"2022-06-01 00:00\"\n",
    "end_time = \"2022-06-30 00:00\""
   ]
  },
  {
   "cell_type": "code",
   "execution_count": null,
   "id": "d042dffa-013a-43b1-a6cd-1c9fe202bfaa",
   "metadata": {
    "tags": []
   },
   "outputs": [],
   "source": [
    "# fmt = \"%Y-%m-%d %H:%M\"  # Date string format\n",
    "    \n",
    "# # Calculate time diff in hours\n",
    "# days_diff = datetime.strptime(end_time, fmt)-datetime.strptime(start_time, \"%Y-%m-%d %H:%M\")\n",
    "# times = (days_diff.days+1)*24\n",
    "# print(times)"
   ]
  },
  {
   "cell_type": "code",
   "execution_count": null,
   "id": "071d8d7e-6164-4934-900a-8cae98c91e38",
   "metadata": {
    "tags": []
   },
   "outputs": [],
   "source": [
    "# # Read in list of RAWS Stations\n",
    "# df = pd.read_csv(\"raws_stations_WA.csv\")\n",
    "\n",
    "# # Filter to those with complete fmda data\n",
    "# df = df[(df[['air_temp', 'relative_humidity', 'precip_accum',\n",
    "#        'fuel_moisture', 'wind_speed', 'solar_radiation']]==1).sum(axis=1)==6]\n",
    "\n",
    "# # Get list of coords\n",
    "# points = list(df[[\"lon\",\"lat\"]].itertuples(index=False,name=None))\n",
    "# names = np.unique(df['STID'])\n",
    "\n",
    "# print(df.shape)"
   ]
  },
  {
   "cell_type": "code",
   "execution_count": null,
   "id": "558465c4-dbaa-4814-9500-aa71262bb9f7",
   "metadata": {
    "tags": []
   },
   "outputs": [],
   "source": [
    "from data_funcs import download_grib"
   ]
  },
  {
   "cell_type": "code",
   "execution_count": null,
   "id": "bb4b5b2e-9b14-425b-8543-e7c1f73a2a49",
   "metadata": {
    "tags": []
   },
   "outputs": [],
   "source": [
    "\"https://noaa-hrrr-bdp-pds.s3.amazonaws.com/hrrr.20140730/conus/hrrr.t18z.wrfsubhf0015.grib2\""
   ]
  },
  {
   "cell_type": "code",
   "execution_count": null,
   "id": "da7214ff-1c46-41bd-9a1b-0dd21af7c8c3",
   "metadata": {
    "tags": []
   },
   "outputs": [],
   "source": [
    "download_grib(\n",
    "    source_url = \"https://noaa-hrrr-bdp-pds.s3.amazonaws.com/hrrr.\",\n",
    "    time = start_time,\n",
    "    model = \"t18z.wrfsubhf\",\n",
    "    dest_dir =  \"data\" # destination subdirectory for url content\n",
    ")"
   ]
  },
  {
   "cell_type": "code",
   "execution_count": null,
   "id": "8967de59-5b78-4bf2-8b9e-01b832692141",
   "metadata": {
    "tags": []
   },
   "outputs": [],
   "source": [
    "# os.remove(\"data/hrrr.20140830.grib2\")"
   ]
  },
  {
   "cell_type": "code",
   "execution_count": null,
   "id": "356233ce-f3c8-4aa8-8423-0fd2bcfe8ff7",
   "metadata": {
    "tags": []
   },
   "outputs": [],
   "source": [
    "end_time = \"2022-06-01 05:00\"\n",
    "\n",
    "time1 = datetime.strptime(start_time, fmt)\n",
    "time2 = datetime.strptime(end_time, fmt)\n",
    "dates = pd.date_range(start=time1,end=time2, freq=\"1H\") # Series of dates\n",
    "    \n",
    "time = dates[1].strptime(\"%Y-%M-%D %H:%M\")\n",
    "    \n",
    "download_grib(\n",
    "    source_url = \"https://noaa-hrrr-bdp-pds.s3.amazonaws.com/hrrr.\",\n",
    "    time = time,\n",
    "    model = \"t18z.wrfsubhf\",\n",
    "    dest_dir =  \"data\" # destination subdirectory for url content\n",
    ")"
   ]
  },
  {
   "cell_type": "code",
   "execution_count": null,
   "id": "f70428e7-a74c-42b8-81aa-75ed66b1f2eb",
   "metadata": {
    "tags": []
   },
   "outputs": [],
   "source": [
    "# gather_hrrr_time_range(\n",
    "#     start=start_time,\n",
    "#     end=end_time\n",
    "# )"
   ]
  },
  {
   "cell_type": "code",
   "execution_count": null,
   "id": "2c08c167-0aee-44c9-83dd-1422dea9c055",
   "metadata": {},
   "outputs": [],
   "source": []
  }
 ],
 "metadata": {
  "kernelspec": {
   "display_name": "Python 3 (ipykernel)",
   "language": "python",
   "name": "python3"
  },
  "language_info": {
   "codemirror_mode": {
    "name": "ipython",
    "version": 3
   },
   "file_extension": ".py",
   "mimetype": "text/x-python",
   "name": "python",
   "nbconvert_exporter": "python",
   "pygments_lexer": "ipython3",
   "version": "3.11.3"
  }
 },
 "nbformat": 4,
 "nbformat_minor": 5
}
