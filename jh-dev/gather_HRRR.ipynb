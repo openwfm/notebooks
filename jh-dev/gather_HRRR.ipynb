{
 "cells": [
  {
   "cell_type": "code",
   "execution_count": null,
   "id": "cd28b796-4661-4a6a-a84e-14fcba89fe83",
   "metadata": {},
   "outputs": [],
   "source": [
    "# Setup\n",
    "\n",
    "from herbie.core import Herbie\n",
    "from herbie import FastHerbie\n",
    "import pandas as pd\n",
    "import numpy as np"
   ]
  },
  {
   "cell_type": "code",
   "execution_count": null,
   "id": "071d8d7e-6164-4934-900a-8cae98c91e38",
   "metadata": {
    "tags": []
   },
   "outputs": [],
   "source": [
    "# Read in list of RAWS Stations\n",
    "df = pd.read_csv(\"raws_stations_WA.csv\")\n",
    "\n",
    "# Filter to those with complete fmda data\n",
    "df = df[(df[['air_temp', 'relative_humidity', 'precip_accum',\n",
    "       'fuel_moisture', 'wind_speed', 'solar_radiation']]==1).sum(axis=1)==6]\n",
    "\n",
    "# Get list of coords\n",
    "points = list(df[[\"lon\",\"lat\"]].itertuples(index=False,name=None))\n",
    "names = np.unique(df['STID'])\n",
    "\n",
    "print(df.shape)"
   ]
  },
  {
   "cell_type": "markdown",
   "id": "7497648c-9d71-40cc-998d-20ef93704758",
   "metadata": {},
   "source": [
    "## FastHerbie for Multiple Times"
   ]
  },
  {
   "cell_type": "code",
   "execution_count": null,
   "id": "63da6b04-7f10-40cb-8701-08cc5a777e89",
   "metadata": {
    "tags": []
   },
   "outputs": [],
   "source": [
    "# Create a range of dates, June 1 to June 30\n",
    "dates = pd.date_range(\n",
    "    start=\"2022-06-01 00:00\",\n",
    "    periods=24*30, # 1 month of data\n",
    "    freq=\"1H\",\n",
    ")"
   ]
  },
  {
   "cell_type": "code",
   "execution_count": null,
   "id": "76b013be-3b41-47a6-acf1-634935cb37f6",
   "metadata": {
    "tags": []
   },
   "outputs": [],
   "source": [
    "# Make FastHerbie Object.\n",
    "fh = FastHerbie(dates, model=\"hrrr\")"
   ]
  },
  {
   "cell_type": "code",
   "execution_count": null,
   "id": "d1e6fa60-b3be-443b-b46b-64fa172f9863",
   "metadata": {
    "tags": []
   },
   "outputs": [],
   "source": [
    "# 1 month of observations\n",
    "print(len(fh.objects))\n",
    "print(24*30)"
   ]
  },
  {
   "cell_type": "markdown",
   "id": "e215418e-216c-4461-8933-af26dd67b882",
   "metadata": {},
   "source": [
    "Get data from a Single Station Location"
   ]
  },
  {
   "cell_type": "code",
   "execution_count": null,
   "id": "0be596ac-1d3f-46d6-b6e4-879fb256ec33",
   "metadata": {
    "tags": []
   },
   "outputs": [],
   "source": [
    "df.iloc[0]"
   ]
  },
  {
   "cell_type": "code",
   "execution_count": null,
   "id": "8336e98b-fc7c-4ce5-8c87-a203659ebe25",
   "metadata": {
    "tags": []
   },
   "outputs": [],
   "source": [
    "ds = fh.xarray(\"(?:TMP|RH):2 m\", remove_grib=True)\n",
    "dsi = ds.herbie.nearest_points(\n",
    "    points=points[0],\n",
    "    names=names[0]\n",
    ")"
   ]
  },
  {
   "cell_type": "code",
   "execution_count": null,
   "id": "ac7c9038-12ae-4b7a-9f8e-5d74d8e51617",
   "metadata": {},
   "outputs": [],
   "source": [
    "import pickle\n",
    "with open('hrrr_wa_BMFW1_0623.pickle', 'wb') as handle:\n",
    "    pickle.dump(dsi, handle, protocol=pickle.HIGHEST_PROTOCOL)"
   ]
  },
  {
   "cell_type": "code",
   "execution_count": null,
   "id": "35ef82a6-1235-4101-8c3c-e90fbc5e1a25",
   "metadata": {},
   "outputs": [],
   "source": []
  }
 ],
 "metadata": {
  "kernelspec": {
   "display_name": "Python 3 (ipykernel)",
   "language": "python",
   "name": "python3"
  },
  "language_info": {
   "codemirror_mode": {
    "name": "ipython",
    "version": 3
   },
   "file_extension": ".py",
   "mimetype": "text/x-python",
   "name": "python",
   "nbconvert_exporter": "python",
   "pygments_lexer": "ipython3",
   "version": "3.11.3"
  }
 },
 "nbformat": 4,
 "nbformat_minor": 5
}
