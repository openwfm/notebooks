{
 "cells": [
  {
   "cell_type": "code",
   "execution_count": 1,
   "id": "10555667-5a11-46bf-8c2e-69ddccd65a3e",
   "metadata": {
    "tags": []
   },
   "outputs": [],
   "source": [
    "# !pip install cfgrib s3fs h5netcdf h5pyd"
   ]
  },
  {
   "cell_type": "code",
   "execution_count": 2,
   "id": "2683398e-2b13-4fce-857a-7eddb221bd5e",
   "metadata": {
    "tags": []
   },
   "outputs": [],
   "source": [
    "import io\n",
    "from datetime import date, timedelta, datetime"
   ]
  },
  {
   "cell_type": "code",
   "execution_count": 3,
   "id": "8b241a48-8816-4107-91bc-5529634fe2a7",
   "metadata": {
    "tags": []
   },
   "outputs": [
    {
     "name": "stdout",
     "output_type": "stream",
     "text": [
      "https://noaa-hrrr-bdp-pds.s3.amazonaws.com/hrrr.20220601/conus/hrrr.t12z.wrfsfcf00.grib2\n"
     ]
    }
   ],
   "source": [
    "# Constants for creating the full URL\n",
    "source_url = \"https://noaa-hrrr-bdp-pds.s3.amazonaws.com\"\n",
    "sector = \"conus\"\n",
    "start_time = \"2022-06-01 00:00\"\n",
    "fmt = \"%Y-%m-%d %H:%M\"\n",
    "time1 = datetime.strptime(start_time, fmt)\n",
    "day_date=time1.strftime(\"%Y%m%d\")\n",
    "cycle = 12          # hour\n",
    "forecast_hour = 0   # offset from cycle time\n",
    "product = \"wrfsfcf\" # 2D surface levels\n",
    "\n",
    "# Put it all together\n",
    "file_path = f\"hrrr.t{cycle:02}z.{product}{forecast_hour:02}.grib2\"\n",
    "grib_url=source_url+\"/hrrr.\"+day_date+\"/conus/\"+file_path\n",
    "\n",
    "print(grib_url)"
   ]
  },
  {
   "cell_type": "code",
   "execution_count": null,
   "id": "a323a7f2-3fcb-4e92-8eee-53fc34992d89",
   "metadata": {},
   "outputs": [],
   "source": []
  },
  {
   "cell_type": "code",
   "execution_count": 6,
   "id": "cd28b796-4661-4a6a-a84e-14fcba89fe83",
   "metadata": {},
   "outputs": [],
   "source": [
    "# Setup\n",
    "import os\n",
    "import pandas as pd\n",
    "import numpy as np\n",
    "import xarray as xr\n",
    "import datetime\n",
    "import io\n",
    "import requests\n",
    "import s3fs\n",
    "import subprocess\n",
    "from datetime import datetime\n",
    "\n",
    "start_time = \"2022-06-01 00:00\"\n",
    "end_time = \"2022-06-30 00:00\""
   ]
  },
  {
   "cell_type": "markdown",
   "id": "2a36fb87-f394-4262-9096-257d9e21e3c4",
   "metadata": {},
   "source": [
    "* https://registry.opendata.aws/noaa-hrrr-pds/\n",
    "\n",
    "* https://spire.com/tutorial/spire-weather-tutorial-intro-to-processing-grib2-data-with-python/\n",
    "\n",
    "* https://github.com/microsoft/AIforEarthDataSets/blob/main/data/noaa-hrrr.md\n",
    "\n",
    "* https://nbviewer.org/github/microsoft/AIforEarthDataSets/blob/main/data/noaa-hrrr.ipynb\n",
    "\n",
    "* https://github.com/ecmwf/cfgrib/issues/63"
   ]
  },
  {
   "cell_type": "code",
   "execution_count": 7,
   "id": "071d8d7e-6164-4934-900a-8cae98c91e38",
   "metadata": {
    "tags": []
   },
   "outputs": [
    {
     "name": "stdout",
     "output_type": "stream",
     "text": [
      "(40, 9)\n"
     ]
    }
   ],
   "source": [
    "# Read in list of RAWS Stations\n",
    "df = pd.read_csv(\"raws_stations_WA.csv\")\n",
    "\n",
    "# Filter to those with complete fmda data\n",
    "df = df[(df[['air_temp', 'relative_humidity', 'precip_accum',\n",
    "       'fuel_moisture', 'wind_speed', 'solar_radiation']]==1).sum(axis=1)==6]\n",
    "\n",
    "# Get list of coords\n",
    "points = list(df[[\"lon\",\"lat\"]].itertuples(index=False,name=None))\n",
    "names = np.unique(df['STID'])\n",
    "\n",
    "print(df.shape)"
   ]
  },
  {
   "cell_type": "code",
   "execution_count": 8,
   "id": "558465c4-dbaa-4814-9500-aa71262bb9f7",
   "metadata": {
    "tags": []
   },
   "outputs": [],
   "source": [
    "from data_funcs import download_grib"
   ]
  },
  {
   "cell_type": "markdown",
   "id": "3561bbc3-2159-47b5-a840-c20c0e861f2e",
   "metadata": {},
   "source": [
    "Test one download"
   ]
  },
  {
   "cell_type": "code",
   "execution_count": 9,
   "id": "da7214ff-1c46-41bd-9a1b-0dd21af7c8c3",
   "metadata": {
    "tags": []
   },
   "outputs": [
    {
     "name": "stdout",
     "output_type": "stream",
     "text": [
      "wget https://noaa-hrrr-bdp-pds.s3.amazonaws.com/hrrr.20220601/conus/hrrr.t00z.wrfsfcf00.grib2 -O data/hrrr_202206010.grib2\n",
      "The file 'data/hrrr_202206010.grib2' was successfully downloaded.\n"
     ]
    }
   ],
   "source": [
    "tempfile, url = download_grib(\n",
    "    source_url = \"https://noaa-hrrr-bdp-pds.s3.amazonaws.com\",\n",
    "    time = start_time,\n",
    "    model = \"wrfsfcf\",\n",
    "    dest_dir =  \"data\" # destination subdirectory for url content\n",
    ")"
   ]
  },
  {
   "cell_type": "code",
   "execution_count": 10,
   "id": "2c435dfe-abd2-440e-8221-7ac65055c7c6",
   "metadata": {
    "tags": []
   },
   "outputs": [
    {
     "name": "stdout",
     "output_type": "stream",
     "text": [
      "wget https://noaa-hrrr-bdp-pds.s3.amazonaws.com/hrrr.20220630/conus/hrrr.t00z.wrfsfcf00.grib2 -O data/hrrr_202206300.grib2\n",
      "The file 'data/hrrr_202206300.grib2' was successfully downloaded.\n"
     ]
    }
   ],
   "source": [
    "tempfile, url = download_grib(\n",
    "    source_url = \"https://noaa-hrrr-bdp-pds.s3.amazonaws.com\",\n",
    "    time = end_time,\n",
    "    model = \"wrfsfcf\",\n",
    "    dest_dir =  \"data\" # destination subdirectory for url content\n",
    ")"
   ]
  },
  {
   "cell_type": "code",
   "execution_count": 15,
   "id": "9593261e-a8ce-491d-af04-91117979efde",
   "metadata": {
    "tags": []
   },
   "outputs": [],
   "source": [
    "ds=xr.open_dataset(\n",
    "    tempfile,\n",
    "    filter_by_keys={'typeOfLevel': 'heightAboveGround', 'level': 2}\n",
    ")"
   ]
  },
  {
   "cell_type": "code",
   "execution_count": null,
   "id": "18fa78e0-f948-469f-bb0e-ee7efd991f11",
   "metadata": {},
   "outputs": [],
   "source": []
  },
  {
   "cell_type": "code",
   "execution_count": null,
   "id": "a1219bc9-3e27-4158-99dc-689d659b3bd9",
   "metadata": {},
   "outputs": [],
   "source": []
  },
  {
   "cell_type": "code",
   "execution_count": null,
   "id": "1a0b089f-c457-495e-bd49-559db9fa07a0",
   "metadata": {},
   "outputs": [],
   "source": []
  },
  {
   "cell_type": "code",
   "execution_count": null,
   "id": "68efd3d0-a3cd-4f74-a313-04d6be6f9ecd",
   "metadata": {},
   "outputs": [],
   "source": []
  },
  {
   "cell_type": "code",
   "execution_count": null,
   "id": "8967de59-5b78-4bf2-8b9e-01b832692141",
   "metadata": {
    "tags": []
   },
   "outputs": [],
   "source": [
    "os.remove(tempfile)"
   ]
  },
  {
   "cell_type": "markdown",
   "id": "36df73a0-2c54-41d8-acec-48afdc503fa0",
   "metadata": {},
   "source": [
    "---\n",
    "---\n",
    "\n",
    "Get time range by looping through dates and: \n",
    "\n",
    "* temporarily downloading grib file at that date\n",
    "* extract coords from temp file to build time series\n",
    "* delete tempfile before iterating"
   ]
  },
  {
   "cell_type": "code",
   "execution_count": null,
   "id": "2146e2aa-ad7f-492b-809e-7f498d6f8911",
   "metadata": {
    "tags": []
   },
   "outputs": [],
   "source": [
    "end_time = \"2022-06-01 05:00\"\n",
    "fmt = \"%Y-%m-%d %H:%M\"\n",
    "time1 = datetime.strptime(start_time, fmt)\n",
    "time2 = datetime.strptime(end_time, fmt)\n",
    "dates = pd.date_range(start=time1,end=time2, freq=\"1H\") # Series of dates"
   ]
  },
  {
   "cell_type": "code",
   "execution_count": null,
   "id": "45250b2f-7e9a-417d-9897-41a0285d1d73",
   "metadata": {
    "tags": []
   },
   "outputs": [],
   "source": [
    "# Initialize matrix of time series obs\n",
    "# (x, y, z) dims == (ntime, ncoords, nvars)\n",
    "vars=[\"rh\", \"temp\", \"solar1\", \"solar2\"]\n",
    "nvars=len(vars)\n",
    "obs_mat=np.zeros((dates.shape[0],len(points), nvars), np.float64)"
   ]
  },
  {
   "cell_type": "code",
   "execution_count": null,
   "id": "973d4d79-f2d2-406e-89ce-9db2df4448c1",
   "metadata": {
    "tags": []
   },
   "outputs": [],
   "source": [
    "for d in dates:\n",
    "    time=d.strftime(\"%Y-%m-%d %H:%M\")\n",
    "    # print(time)\n",
    "    \n",
    "    tempfile = download_grib(\n",
    "        source_url = \"https://noaa-hrrr-bdp-pds.s3.amazonaws.com/hrrr.\",\n",
    "        time = time,\n",
    "        model = \"t18z.wrfsubhf\",\n",
    "        dest_dir =  \"data\" # destination subdirectory for url content\n",
    "    )\n",
    "    \n",
    "    \n",
    "\n",
    "    ### manipulate tempfile\n",
    "\n",
    "    os.remove(tempfile)"
   ]
  },
  {
   "cell_type": "code",
   "execution_count": null,
   "id": "356233ce-f3c8-4aa8-8423-0fd2bcfe8ff7",
   "metadata": {
    "tags": []
   },
   "outputs": [],
   "source": [
    "\n",
    "time = dates[1].strftime(\"%Y-%m-%d %H:%M\")\n",
    "    \n",
    "tempfile = download_grib(\n",
    "    source_url = \"https://noaa-hrrr-bdp-pds.s3.amazonaws.com/hrrr.\",\n",
    "    time = time,\n",
    "    model = \"t18z.wrfsubhf\",\n",
    "    dest_dir =  \"data\" # destination subdirectory for url content\n",
    ")\n",
    "\n",
    "# manipulate tempfile\n",
    "\n",
    "os.remove(tempfile)"
   ]
  },
  {
   "cell_type": "code",
   "execution_count": null,
   "id": "f70428e7-a74c-42b8-81aa-75ed66b1f2eb",
   "metadata": {
    "tags": []
   },
   "outputs": [],
   "source": [
    "# gather_hrrr_time_range(\n",
    "#     start=start_time,\n",
    "#     end=end_time\n",
    "# )"
   ]
  },
  {
   "cell_type": "code",
   "execution_count": null,
   "id": "2c08c167-0aee-44c9-83dd-1422dea9c055",
   "metadata": {},
   "outputs": [],
   "source": []
  }
 ],
 "metadata": {
  "kernelspec": {
   "display_name": "Python 3 (ipykernel)",
   "language": "python",
   "name": "python3"
  },
  "language_info": {
   "codemirror_mode": {
    "name": "ipython",
    "version": 3
   },
   "file_extension": ".py",
   "mimetype": "text/x-python",
   "name": "python",
   "nbconvert_exporter": "python",
   "pygments_lexer": "ipython3",
   "version": "3.11.3"
  }
 },
 "nbformat": 4,
 "nbformat_minor": 5
}
