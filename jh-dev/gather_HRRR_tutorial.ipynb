{
 "cells": [
  {
   "cell_type": "code",
   "execution_count": null,
   "id": "cd28b796-4661-4a6a-a84e-14fcba89fe83",
   "metadata": {},
   "outputs": [],
   "source": [
    "# Setup\n",
    "import os\n",
    "import pandas as pd\n",
    "import numpy as np\n",
    "import xarray as xr\n",
    "from datetime import date, timedelta, datetime\n",
    "import matplotlib.pyplot as plt \n",
    "\n",
    "start_time = \"2022-06-01 00:00\"\n",
    "end_time = \"2022-06-01 05:00\""
   ]
  },
  {
   "cell_type": "markdown",
   "id": "2a36fb87-f394-4262-9096-257d9e21e3c4",
   "metadata": {},
   "source": [
    "## Sources\n",
    "\n",
    "* https://registry.opendata.aws/noaa-hrrr-pds/\n",
    "\n",
    "* https://spire.com/tutorial/spire-weather-tutorial-intro-to-processing-grib2-data-with-python/\n",
    "\n",
    "* https://github.com/microsoft/AIforEarthDataSets/blob/main/data/noaa-hrrr.md\n",
    "\n",
    "* https://nbviewer.org/github/microsoft/AIforEarthDataSets/blob/main/data/noaa-hrrr.ipynb\n",
    "\n",
    "* https://github.com/ecmwf/cfgrib/issues/63\n",
    "\n",
    "* https://github.com/blaylockbk/Herbie/discussions/45"
   ]
  },
  {
   "cell_type": "markdown",
   "id": "8556fbc0-4295-4229-90a8-4f48379d8a29",
   "metadata": {},
   "source": [
    "## Coordinates of Interest\n",
    "\n",
    "Read in data frame of latitude and longitude coordinates that correspond to RAWS station locations."
   ]
  },
  {
   "cell_type": "code",
   "execution_count": null,
   "id": "071d8d7e-6164-4934-900a-8cae98c91e38",
   "metadata": {
    "tags": []
   },
   "outputs": [],
   "source": [
    "# Read in list of RAWS Stations\n",
    "df = pd.read_csv(\"raws_stations_WA.csv\")\n",
    "\n",
    "# Filter to those with complete fmda data\n",
    "df = df[(df[['air_temp', 'relative_humidity', 'precip_accum',\n",
    "       'fuel_moisture', 'wind_speed', 'solar_radiation']]==1).sum(axis=1)==6]\n",
    "\n",
    "# Get first 10 rows for demo\n",
    "df = df[0:10]\n",
    "\n",
    "# Get list of coords\n",
    "points = list(df[[\"lon\",\"lat\"]].itertuples(index=False,name=None))\n",
    "names = np.unique(df['STID'])\n",
    "\n",
    "print(df.shape)"
   ]
  },
  {
   "cell_type": "markdown",
   "id": "1e4d2cc3-9c05-46a8-bdce-d6830198b4bd",
   "metadata": {},
   "source": [
    "## DEMO: Download HRRR Grib\n",
    "\n",
    "Given a single time slice, download the corresponding surface level HRRR grib file from AWS."
   ]
  },
  {
   "cell_type": "code",
   "execution_count": null,
   "id": "558465c4-dbaa-4814-9500-aa71262bb9f7",
   "metadata": {
    "tags": []
   },
   "outputs": [],
   "source": [
    "from gather_HRRR import download_grib"
   ]
  },
  {
   "cell_type": "code",
   "execution_count": null,
   "id": "2c435dfe-abd2-440e-8221-7ac65055c7c6",
   "metadata": {
    "tags": []
   },
   "outputs": [],
   "source": [
    "tempfile, url = download_grib(\n",
    "    source_url = \"https://noaa-hrrr-bdp-pds.s3.amazonaws.com\",\n",
    "    time = end_time,\n",
    "    model = \"wrfsfcf\",\n",
    "    dest_dir =  \"data\" # destination subdirectory for url content\n",
    ")"
   ]
  },
  {
   "cell_type": "markdown",
   "id": "767fc62d-ed82-409f-930e-13cb501b5c9f",
   "metadata": {},
   "source": [
    "## Extract Atmospheric Data\n",
    "\n",
    "Currently just gets temp and RH. Code modified from B. Blaylock: https://stackoverflow.com/questions/58758480/xarray-select-nearest-lat-lon-with-multi-dimension-coordinates"
   ]
  },
  {
   "cell_type": "code",
   "execution_count": null,
   "id": "9593261e-a8ce-491d-af04-91117979efde",
   "metadata": {
    "tags": []
   },
   "outputs": [],
   "source": [
    "ds=xr.open_dataset(\n",
    "    tempfile,\n",
    "    filter_by_keys={'typeOfLevel': 'heightAboveGround', 'level': 2}\n",
    ")"
   ]
  },
  {
   "cell_type": "markdown",
   "id": "e5a3aab7-b078-4252-96fe-e0c2e064975e",
   "metadata": {},
   "source": [
    "### Manually Extract and Plot\n",
    "\n",
    "This section demonstrates how to extract atmospheric data and plots it to show nearest neighbors methodology (again from previous B. Blaylock source)."
   ]
  },
  {
   "cell_type": "code",
   "execution_count": null,
   "id": "2979c082-1625-45e5-b638-5a3035c72fdd",
   "metadata": {
    "tags": []
   },
   "outputs": [],
   "source": [
    "## Function not used anymore\n",
    "\n",
    "# def west_to_east(pts):\n",
    "#     # Convert longitude in list of tuples \n",
    "#     # from deg W to deg E\n",
    "#     # pts: list of tuples of form (lon, lat)\n",
    "\n",
    "#     ## Extract list of lons and lats\n",
    "#     lons = list(map(lambda pt: pt[0], pts))\n",
    "#     lat = list(map(lambda pt: pt[1], pts))\n",
    "#     ## Convert deg west to deg east\n",
    "#     lons = list(map(lambda l: l+360,lons))\n",
    "    \n",
    "#     ## Combine back into list of tuples\n",
    "#     coords = [(lons[i], lats[i]) for i in range(0, len(lons))]\n",
    "    \n",
    "#     return coords"
   ]
  },
  {
   "cell_type": "code",
   "execution_count": null,
   "id": "36e9a93b-1ba1-451e-beae-5352e3245871",
   "metadata": {
    "tags": []
   },
   "outputs": [],
   "source": [
    "# Desired Lat/Lon pt\n",
    "lon = points[0][0]\n",
    "lat = points[0][1]\n",
    "# Convert to degrees east if HRRR formatted that way\n",
    "if ds.longitude.attrs['units']==\"degrees_east\":\n",
    "    lon = 360 + lon\n",
    "    # print(lon)\n",
    "    \n",
    "# Code modified from B. Blaylock https://stackoverflow.com/questions/58758480/xarray-select-nearest-lat-lon-with-multi-dimension-coordinates\n",
    "ds.t2m.plot(x='longitude', y='latitude')\n",
    "\n",
    "abslat = np.abs(ds.latitude-lat)\n",
    "abslon = np.abs(ds.longitude-lon)\n",
    "c = np.maximum(abslon, abslat)\n",
    "\n",
    "([xloc], [yloc]) = np.where(c == np.min(c))\n",
    "\n",
    "# Now I can use that index location to get the values at the x/y diminsion\n",
    "point_ds = ds.sel(x=yloc, y=xloc)\n",
    "\n",
    "# Plot requested lat/lon point blue\n",
    "plt.scatter(lon, lat, color='b')\n",
    "plt.text(lon, lat, 'requested')\n",
    "\n",
    "# Plot nearest point in the array red\n",
    "g=plt.scatter(point_ds.longitude, point_ds.latitude, color='r')\n",
    "g.set_facecolor('none')\n",
    "plt.text(point_ds.longitude, point_ds.latitude, 'nearest')\n",
    "\n",
    "plt.title('temp at nearest point: %s' % point_ds.t2m.data)"
   ]
  },
  {
   "cell_type": "code",
   "execution_count": null,
   "id": "7c6b813c-b0a7-4593-8c48-179ef2b10ef9",
   "metadata": {
    "tags": []
   },
   "outputs": [],
   "source": [
    "# Desired Lat/Lon pt\n",
    "lon = points[9][0]\n",
    "lat = points[9][1]\n",
    "# Convert to degrees east if HRRR formatted that way\n",
    "if ds.longitude.attrs['units']==\"degrees_east\":\n",
    "    lon = 360 + lon\n",
    "    # print(lon)|\n",
    "    \n",
    "# Code modified from B. Blaylock https://stackoverflow.com/questions/58758480/xarray-select-nearest-lat-lon-with-multi-dimension-coordinates\n",
    "ds.t2m.plot(x='longitude', y='latitude')\n",
    "\n",
    "abslat = np.abs(ds.latitude-lat)\n",
    "abslon = np.abs(ds.longitude-lon)\n",
    "c = np.maximum(abslon, abslat)\n",
    "\n",
    "([xloc], [yloc]) = np.where(c == np.min(c))\n",
    "\n",
    "# Now I can use that index location to get the values at the x/y diminsion\n",
    "point_ds = ds.sel(x=yloc, y=xloc)\n",
    "\n",
    "# Plot requested lat/lon point blue\n",
    "plt.scatter(lon, lat, color='b')\n",
    "plt.text(lon, lat, 'requested')\n",
    "\n",
    "# Plot nearest point in the array red\n",
    "g=plt.scatter(point_ds.longitude, point_ds.latitude, color='r')\n",
    "g.set_facecolor('none')\n",
    "plt.text(point_ds.longitude, point_ds.latitude, 'nearest')\n",
    "\n",
    "plt.title('temp at nearest point: %s' % point_ds.t2m.data)"
   ]
  },
  {
   "cell_type": "markdown",
   "id": "fc3935e8-da24-454e-97a5-d706f3910b51",
   "metadata": {},
   "source": [
    "### Extract Atmospheric Data with Module Functions"
   ]
  },
  {
   "cell_type": "code",
   "execution_count": null,
   "id": "84cb5593-3b32-44f1-9319-986b2cf8ce39",
   "metadata": {
    "tags": []
   },
   "outputs": [],
   "source": [
    "from gather_HRRR import extract_2m_vars"
   ]
  },
  {
   "cell_type": "code",
   "execution_count": null,
   "id": "40e1463a-b3ff-42b9-9618-c7b0985c4c27",
   "metadata": {
    "tags": []
   },
   "outputs": [],
   "source": [
    "## NOTE: compare values to previous plots\n",
    "extract_2m_vars(ds, points[0]).t2m.values"
   ]
  },
  {
   "cell_type": "code",
   "execution_count": null,
   "id": "5092f4e2-77ec-456a-8d62-ed62d7f8bb12",
   "metadata": {
    "tags": []
   },
   "outputs": [],
   "source": [
    "extract_2m_vars(ds, points[9]).t2m.values"
   ]
  },
  {
   "cell_type": "markdown",
   "id": "36df73a0-2c54-41d8-acec-48afdc503fa0",
   "metadata": {},
   "source": [
    "---\n",
    "\n",
    "## Build Timeseries by Looping\n",
    "\n",
    "Get time range by looping through dates and: \n",
    "\n",
    "* temporarily downloading grib file at that date\n",
    "* extract values at desired coordinates from temp file to build time series\n",
    "* delete tempfile before iterating"
   ]
  },
  {
   "cell_type": "code",
   "execution_count": null,
   "id": "cc7c7b62-b75f-4c97-9660-eeb8f4a1c65a",
   "metadata": {
    "tags": []
   },
   "outputs": [],
   "source": [
    "from gather_HRRR import gather_hrrr_time_range"
   ]
  },
  {
   "cell_type": "code",
   "execution_count": null,
   "id": "7c2ab40b-e94b-4b10-a9d0-e3dac754bb83",
   "metadata": {
    "tags": []
   },
   "outputs": [],
   "source": [
    "hrrr_dat = gather_hrrr_time_range(\n",
    "    start = start_time,\n",
    "    end = end_time,\n",
    "    pts = points,\n",
    ")"
   ]
  },
  {
   "cell_type": "code",
   "execution_count": null,
   "id": "2c08c167-0aee-44c9-83dd-1422dea9c055",
   "metadata": {},
   "outputs": [],
   "source": [
    "# Compare to demo above\n",
    "print(hrrr_dat[5,0,0])\n",
    "print(hrrr_dat[5,9,0])"
   ]
  },
  {
   "cell_type": "code",
   "execution_count": null,
   "id": "0c459aed-a807-4ad9-a4e9-19a94fb45e8a",
   "metadata": {},
   "outputs": [],
   "source": []
  },
  {
   "cell_type": "code",
   "execution_count": null,
   "id": "34569570-6b3b-4b98-b353-6c8c0ca8aa3f",
   "metadata": {},
   "outputs": [],
   "source": []
  },
  {
   "cell_type": "code",
   "execution_count": null,
   "id": "9ff8c6aa-84f0-4cf9-9de1-25aa151f4afb",
   "metadata": {},
   "outputs": [],
   "source": []
  }
 ],
 "metadata": {
  "kernelspec": {
   "display_name": "Python 3 (ipykernel)",
   "language": "python",
   "name": "python3"
  },
  "language_info": {
   "codemirror_mode": {
    "name": "ipython",
    "version": 3
   },
   "file_extension": ".py",
   "mimetype": "text/x-python",
   "name": "python",
   "nbconvert_exporter": "python",
   "pygments_lexer": "ipython3",
   "version": "3.11.3"
  }
 },
 "nbformat": 4,
 "nbformat_minor": 5
}
