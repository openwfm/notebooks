{
 "cells": [
  {
   "cell_type": "markdown",
   "id": "d41e38c5-ce35-4923-8d29-ae5b04b6adc0",
   "metadata": {},
   "source": [
    "# Fuel Moisture Scarios for Testing\n",
    "\n",
    "*Jonathon Hirschi*\n",
    "\n",
    "\n",
    "The purpose of this notebook is to generate fuel moisture scenarios for  model testing."
   ]
  },
  {
   "cell_type": "code",
   "execution_count": null,
   "id": "05c0d5f4-d619-4737-8feb-68a8cbb36a74",
   "metadata": {},
   "outputs": [],
   "source": [
    "# both can change\n",
    "# Environment\n",
    "import numpy as np, random\n",
    "import pandas as pd\n",
    "from MesoPy import Meso\n",
    "import matplotlib.pyplot as plt\n",
    "from datetime import datetime, timedelta\n",
    "\n",
    "# Local modules for handling data and running moisture models\n",
    "import data_funcs as datf\n",
    "from data_funcs import format_raws, retrieve_raws, format_precip, fixnan, create_synthetic_data, model_decay, synthetic_data\n",
    "\n",
    "meso_token=\"4192c18707b848299783d59a9317c6e1\"\n",
    "m=Meso(meso_token)"
   ]
  },
  {
   "cell_type": "code",
   "execution_count": null,
   "id": "8f6514e0-e40c-4701-a867-2b36a59e2ef0",
   "metadata": {},
   "outputs": [],
   "source": [
    "\n",
    "def synthetic_data(days=20,power=4,data_noise=0.02,process_noise=0.0,DeltaE=0.0,Emin=0.5,Emax=0.3, scale = False):\n",
    "    hours = days*24\n",
    "    h2 = int(hours/2)\n",
    "    hour = np.array(range(hours))\n",
    "    day = np.array(range(hours))/24.\n",
    "    # artificial equilibrium data\n",
    "    E = np.power(np.sin(np.pi*day),power) # diurnal curve\n",
    "    E = Emin+(Emax - Emin)*E\n",
    "    # FMC free run\n",
    "    m_f = np.zeros(hours)\n",
    "    m_f[0] = 0.1         # initial FMC\n",
    "    # process_noise=0.\n",
    "    for t in range(hours-1):\n",
    "        m_f[t+1] = max(0.,model_decay(m_f[t],E[t])  + random.gauss(0,process_noise) )\n",
    "    data = m_f + np.random.normal(loc=0,scale=data_noise,size=hours)\n",
    "    E = E + DeltaE    \n",
    "    Ed=E+1.0\n",
    "    Ew=np.maximum(E-1.0,0)\n",
    "    \n",
    "    if scale: E=E*100; Ew=Ew*100; Ed=Ed*100; m_f=m_f*100; data=data*100\n",
    "    \n",
    "    return {'E':E,'Ew':Ew,'Ed':Ed,'m_f':m_f, 'data':data,'hour':hour,'h2':h2,'DeltaE':DeltaE}"
   ]
  },
  {
   "cell_type": "code",
   "execution_count": null,
   "id": "c6d0ba36-4200-4a5a-9176-d165bfcfc657",
   "metadata": {},
   "outputs": [],
   "source": [
    "random.seed(123)\n",
    "np.random.seed(123)"
   ]
  },
  {
   "cell_type": "code",
   "execution_count": null,
   "id": "ac77d4af-a6e4-451d-ab5d-efb35496fae2",
   "metadata": {},
   "outputs": [],
   "source": [
    "dict1 = synthetic_data(days=20,power=4,data_noise=0.01,process_noise=0.0,DeltaE=0.0, Emin=.6, Emax=.8) "
   ]
  },
  {
   "cell_type": "code",
   "execution_count": null,
   "id": "956f1ed3-1a5f-4dc3-bfd0-3a52760e889e",
   "metadata": {},
   "outputs": [],
   "source": [
    "dict1['rain'] = np.zeros(len(dict1['hour']))"
   ]
  },
  {
   "cell_type": "code",
   "execution_count": null,
   "id": "5543c21b-6eb8-46e4-bf6a-7d96b929a0b0",
   "metadata": {},
   "outputs": [],
   "source": [
    "def plot_data(fm_dict):\n",
    "    h2 = fm_dict['h2']\n",
    "    plt.figure(figsize=(16,4))\n",
    "    plt.plot(fm_dict['hour'],fm_dict['E'],linestyle='-',c='r',label='Equilibrium', alpha=.8)\n",
    "    plt.plot(fm_dict['Ed'],linestyle=':',c='r',label='drying equilibrium', alpha=.5)\n",
    "    plt.plot(fm_dict['Ew'],linestyle=':',c='b',label='wetting equilibrium', alpha=.5)\n",
    "    plt.plot(fm_dict['hour'],fm_dict['m_f'],linestyle='-',c='k',label='10-h fuel truth')\n",
    "    plt.scatter(fm_dict['hour'][:h2],fm_dict['data'][:h2],c='k',label='10-h fuel data', alpha=.5, s = 15)\n",
    "    plt.title('Synthetic data')\n",
    "    plt.xlabel('Time (hours)')\n",
    "    plt.ylabel('Fuel moisture content (%)')\n",
    "    plt.plot(fm_dict['hour'],fm_dict['rain'],linestyle='-',c='b',label='Rain (mm/h)', alpha=.5)\n",
    "    plt.legend()"
   ]
  },
  {
   "cell_type": "code",
   "execution_count": null,
   "id": "c869014a-787a-4b20-af9a-a6da7567c368",
   "metadata": {},
   "outputs": [],
   "source": [
    "plot_data(dict1)"
   ]
  },
  {
   "cell_type": "markdown",
   "id": "eebed532-06c6-4be8-95f3-3bdddacd8b3b",
   "metadata": {},
   "source": [
    "[USGS Rainfall Guide](https://water.usgs.gov/edu/activity-howmuchrain-metric.html#:~:text=Slight%20rain%3A%20Less%20than%200.5,than%208%20mm%20per%20hour.)"
   ]
  },
  {
   "cell_type": "code",
   "execution_count": null,
   "id": "89ee125f-1267-4745-85bc-25da891a1a05",
   "metadata": {},
   "outputs": [],
   "source": [
    "# Step Function Rain\n",
    "first_rain = int(hours/2) # hours of first rain\n",
    "rain0 = np.zeros(len(dict1['hour']))\n",
    "rain1 = .25*np.heaviside(hour - first_rain, 1) # slight rain, .25 mm/hr\n",
    "rain2 = 2*np.heaviside(hour - first_rain, 1) # moderate rain, 2 mm/hr\n",
    "rain3 = 5*np.heaviside(hour - first_rain, 1) # heavy rain, 5 mm/hr\n",
    "rain4 = 10*np.heaviside(hour - first_rain, 1) # very heavy rain, 10 mm/hr"
   ]
  },
  {
   "cell_type": "code",
   "execution_count": null,
   "id": "e72d60ac-6481-411f-9d6e-80c07571e0de",
   "metadata": {},
   "outputs": [],
   "source": [
    "days = 5\n",
    "hours = days*24\n",
    "h2 = int(hours/2)\n",
    "hour = np.array(range(hours))\n",
    "day = np.array(range(hours))/24.\n",
    "\n",
    "\n",
    "rh = 5*np.sin(4*np.pi*day)+20\n",
    "print(rh.mean())\n",
    "print(rh.var())\n",
    "print(rh.max())\n",
    "print(rh.min())\n",
    "plt.plot(hour, rh)\n",
    "plt.plot(hour[:24], rh[:24])"
   ]
  },
  {
   "cell_type": "code",
   "execution_count": null,
   "id": "fd42b104-dd81-48fe-92e2-c2346cee5ffc",
   "metadata": {},
   "outputs": [],
   "source": [
    "# compute relative humidity\n",
    "t2 = np.array(rtma['temp']) # surface temp\n",
    "rh = 100*np.exp(17.625*243.04*(td - t2) / (243.04 + t2 - 273.15) / (243.0 + td - 273.15))\n",
    "Ed = 0.924*rh**0.679 + 0.000499*np.exp(0.1*rh) + 0.18*(21.1 + 273.15 - t2)*(1 - np.exp(-0.115*rh))\n",
    "Ew = 0.618*rh**0.753 + 0.000454*np.exp(0.1*rh) + 0.18*(21.1 + 273.15 - t2)*(1 - np.exp(-0.115*rh)))"
   ]
  },
  {
   "cell_type": "code",
   "execution_count": null,
   "id": "22549332-52b0-42e1-9dad-1c33dafcdd2a",
   "metadata": {},
   "outputs": [],
   "source": []
  },
  {
   "cell_type": "code",
   "execution_count": null,
   "id": "f962f48d-482c-49ba-989e-20b4212b6e52",
   "metadata": {},
   "outputs": [],
   "source": [
    "E,m_f,data,hour,h2,DeltaE = create_synthetic_data(days=20,power=4,data_noise=0.01,process_noise=0.0,DeltaE=0.1) "
   ]
  }
 ],
 "metadata": {
  "kernelspec": {
   "display_name": "Python 3 (ipykernel)",
   "language": "python",
   "name": "python3"
  },
  "language_info": {
   "codemirror_mode": {
    "name": "ipython",
    "version": 3
   },
   "file_extension": ".py",
   "mimetype": "text/x-python",
   "name": "python",
   "nbconvert_exporter": "python",
   "pygments_lexer": "ipython3",
   "version": "3.9.12"
  }
 },
 "nbformat": 4,
 "nbformat_minor": 5
}
