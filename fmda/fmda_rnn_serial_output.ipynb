{
 "cells": [
  {
   "cell_type": "markdown",
   "id": "83b774b3-ef55-480a-b999-506676e49145",
   "metadata": {},
   "source": [
    "# v2.1 run RNN strategy serial by Location\n",
    "\n",
    "This version of the RNN runs the model on each location separately, one at a time. Two main runs:\n",
    "1. Run separate model at each location - training and prediction at least location independently - training mode periods 0:train_ind (was 0:h2), then prediction in test_ind:end. Validation data, if any, are from train_ind:test_ind\n",
    "2. Run same model with multiple fitting calls 0:train_ind at different locations, compare prediction accuracy in test_ind:end  at for all location. \n"
   ]
  },
  {
   "cell_type": "code",
   "execution_count": 1,
   "id": "83cc1dc4-3dcb-4325-9263-58101a3dc378",
   "metadata": {},
   "outputs": [
    {
     "name": "stderr",
     "output_type": "stream",
     "text": [
      "2024-09-20 17:43:51.718358: I tensorflow/core/platform/cpu_feature_guard.cc:210] This TensorFlow binary is optimized to use available CPU instructions in performance-critical operations.\n",
      "To enable the following instructions: AVX2 FMA, in other operations, rebuild TensorFlow with the appropriate compiler flags.\n"
     ]
    }
   ],
   "source": [
    "import numpy as np\n",
    "from utils import print_dict_summary, print_first, str2time, logging_setup\n",
    "import pickle\n",
    "import logging\n",
    "import os.path as osp\n",
    "from moisture_rnn_pkl import pkl2train\n",
    "from moisture_rnn import RNNParams, RNNData, RNN \n",
    "from utils import hash2, read_yml, read_pkl, retrieve_url\n",
    "from moisture_rnn import RNN\n",
    "import reproducibility\n",
    "from data_funcs import rmse, to_json\n",
    "from moisture_models import run_augmented_kf\n",
    "import copy\n",
    "import pandas as pd\n",
    "import matplotlib.pyplot as plt\n",
    "import yaml"
   ]
  },
  {
   "cell_type": "code",
   "execution_count": 2,
   "id": "17db9b90-a931-4674-a447-5b8ffbcdc86a",
   "metadata": {},
   "outputs": [],
   "source": [
    "logging_setup()"
   ]
  },
  {
   "cell_type": "code",
   "execution_count": 3,
   "id": "35319c1c-7849-4b8c-8262-f5aa6656e0c7",
   "metadata": {},
   "outputs": [
    {
     "name": "stdout",
     "output_type": "stream",
     "text": [
      "Attempting to downloaded https://demo.openwfm.org/web/data/fmda/dicts/test_CA_202401.pkl to fmda_nw_202401-05_f05.pkl\n"
     ]
    },
    {
     "name": "stderr",
     "output_type": "stream",
     "text": [
      "--2024-09-20 17:43:56--  https://demo.openwfm.org/web/data/fmda/dicts/test_CA_202401.pkl\n",
      "Resolving demo.openwfm.org (demo.openwfm.org)... 167.99.232.12\n",
      "Connecting to demo.openwfm.org (demo.openwfm.org)|167.99.232.12|:443... connected.\n",
      "HTTP request sent, awaiting response... 200 OK\n",
      "Length: 8551696 (8.2M) [application/octet-stream]\n",
      "Saving to: ‘fmda_nw_202401-05_f05.pkl’\n",
      "\n",
      "     0K .......... .......... .......... .......... ..........  0%  850K 10s\n",
      "    50K .......... .......... .......... .......... ..........  1%  915K 9s\n",
      "   100K .......... .......... .......... .......... ..........  1% 27.9M 6s\n",
      "   150K .......... .......... .......... .......... ..........  2%  160M 5s\n",
      "   200K .......... .......... .......... .......... ..........  2%  918K 6s\n",
      "   250K .......... .......... .......... .......... ..........  3% 70.9M 5s\n",
      "   300K .......... .......... .......... .......... ..........  4% 63.1M 4s\n",
      "   350K .......... .......... .......... .......... ..........  4% 76.5M 3s\n",
      "   400K .......... .......... .......... .......... ..........  5% 1.10M 4s\n",
      "   450K .......... .......... .......... .......... ..........  5% 4.50M 4s\n",
      "   500K .......... .......... .......... .......... ..........  6% 89.9M 3s\n",
      "   550K .......... .......... .......... .......... ..........  7% 63.5M 3s\n",
      "   600K .......... .......... .......... .......... ..........  7% 99.9M 3s\n",
      "   650K .......... .......... .......... .......... ..........  8% 86.1M 3s\n",
      "   700K .......... .......... .......... .......... ..........  8% 95.4M 2s\n",
      "   750K .......... .......... .......... .......... ..........  9%  635K 3s\n",
      "   800K .......... .......... .......... .......... .......... 10% 63.2M 3s\n",
      "   850K .......... .......... .......... .......... .......... 10%  123M 3s\n",
      "   900K .......... .......... .......... .......... .......... 11% 1.58M 3s\n",
      "   950K .......... .......... .......... .......... .......... 11%  111M 3s\n",
      "  1000K .......... .......... .......... .......... .......... 12% 3.33M 2s\n",
      "  1050K .......... .......... .......... .......... .......... 13% 2.03M 3s\n",
      "  1100K .......... .......... .......... .......... .......... 13% 85.5M 2s\n",
      "  1150K .......... .......... .......... .......... .......... 14% 67.6M 2s\n",
      "  1200K .......... .......... .......... .......... .......... 14% 98.6M 2s\n",
      "  1250K .......... .......... .......... .......... .......... 15%  120M 2s\n",
      "  1300K .......... .......... .......... .......... .......... 16% 95.4M 2s\n",
      "  1350K .......... .......... .......... .......... .......... 16%  119M 2s\n",
      "  1400K .......... .......... .......... .......... .......... 17%  154M 2s\n",
      "  1450K .......... .......... .......... .......... .......... 17%  131M 2s\n",
      "  1500K .......... .......... .......... .......... .......... 18%  129M 2s\n",
      "  1550K .......... .......... .......... .......... .......... 19%  110M 2s\n",
      "  1600K .......... .......... .......... .......... .......... 19%  116M 2s\n",
      "  1650K .......... .......... .......... .......... .......... 20%  146M 2s\n",
      "  1700K .......... .......... .......... .......... .......... 20% 1017K 2s\n",
      "  1750K .......... .......... .......... .......... .......... 21% 7.54M 2s\n",
      "  1800K .......... .......... .......... .......... .......... 22% 71.2M 2s\n",
      "  1850K .......... .......... .......... .......... .......... 22%  114M 2s\n",
      "  1900K .......... .......... .......... .......... .......... 23%  626K 2s\n",
      "  1950K .......... .......... .......... .......... .......... 23% 84.9M 2s\n",
      "  2000K .......... .......... .......... .......... .......... 24%  127M 2s\n",
      "  2050K .......... .......... .......... .......... .......... 25%  124M 2s\n",
      "  2100K .......... .......... .......... .......... .......... 25%  130M 2s\n",
      "  2150K .......... .......... .......... .......... .......... 26%  131M 1s\n",
      "  2200K .......... .......... .......... .......... .......... 26%  132M 1s\n",
      "  2250K .......... .......... .......... .......... .......... 27%  140M 1s\n",
      "  2300K .......... .......... .......... .......... .......... 28%  163M 1s\n",
      "  2350K .......... .......... .......... .......... .......... 28%  132M 1s\n",
      "  2400K .......... .......... .......... .......... .......... 29%  167M 1s\n",
      "  2450K .......... .......... .......... .......... .......... 29%  161M 1s\n",
      "  2500K .......... .......... .......... .......... .......... 30%  161M 1s\n",
      "  2550K .......... .......... .......... .......... .......... 31% 16.2M 1s\n",
      "  2600K .......... .......... .......... .......... .......... 31%  135M 1s\n",
      "  2650K .......... .......... .......... .......... .......... 32%  140M 1s\n",
      "  2700K .......... .......... .......... .......... .......... 32%  168M 1s\n",
      "  2750K .......... .......... .......... .......... .......... 33%  135M 1s\n",
      "  2800K .......... .......... .......... .......... .......... 34%  176M 1s\n",
      "  2850K .......... .......... .......... .......... .......... 34%  174M 1s\n",
      "  2900K .......... .......... .......... .......... .......... 35%  171M 1s\n",
      "  2950K .......... .......... .......... .......... .......... 35%  148M 1s\n",
      "  3000K .......... .......... .......... .......... .......... 36% 4.71M 1s\n",
      "  3050K .......... .......... .......... .......... .......... 37% 4.12M 1s\n",
      "  3100K .......... .......... .......... .......... .......... 37% 8.34M 1s\n",
      "  3150K .......... .......... .......... .......... .......... 38% 2.20M 1s\n",
      "  3200K .......... .......... .......... .......... .......... 38%  110M 1s\n",
      "  3250K .......... .......... .......... .......... .......... 39% 10.5M 1s\n",
      "  3300K .......... .......... .......... .......... .......... 40% 33.2M 1s\n",
      "  3350K .......... .......... .......... .......... .......... 40% 3.16M 1s\n",
      "  3400K .......... .......... .......... .......... .......... 41% 2.28M 1s\n",
      "  3450K .......... .......... .......... .......... .......... 41% 4.00M 1s\n",
      "  3500K .......... .......... .......... .......... .......... 42% 71.2M 1s\n",
      "  3550K .......... .......... .......... .......... .......... 43% 6.40M 1s\n",
      "  3600K .......... .......... .......... .......... .......... 43% 6.75M 1s\n",
      "  3650K .......... .......... .......... .......... .......... 44% 1.79M 1s\n",
      "  3700K .......... .......... .......... .......... .......... 44% 79.3M 1s\n",
      "  3750K .......... .......... .......... .......... .......... 45% 3.52M 1s\n",
      "  3800K .......... .......... .......... .......... .......... 46% 11.2M 1s\n",
      "  3850K .......... .......... .......... .......... .......... 46% 38.2M 1s\n",
      "  3900K .......... .......... .......... .......... .......... 47% 5.00M 1s\n",
      "  3950K .......... .......... .......... .......... .......... 47% 1.97M 1s\n",
      "  4000K .......... .......... .......... .......... .......... 48% 3.55M 1s\n",
      "  4050K .......... .......... .......... .......... .......... 49%  151M 1s\n",
      "  4100K .......... .......... .......... .......... .......... 49% 8.32M 1s\n",
      "  4150K .......... .......... .......... .......... .......... 50% 47.6M 1s\n",
      "  4200K .......... .......... .......... .......... .......... 50% 1.48M 1s\n",
      "  4250K .......... .......... .......... .......... .......... 51% 46.0M 1s\n",
      "  4300K .......... .......... .......... .......... .......... 52% 3.52M 1s\n",
      "  4350K .......... .......... .......... .......... .......... 52% 8.24M 1s\n",
      "  4400K .......... .......... .......... .......... .......... 53% 38.6M 1s\n",
      "  4450K .......... .......... .......... .......... .......... 53% 5.29M 1s\n",
      "  4500K .......... .......... .......... .......... .......... 54% 1.99M 1s\n",
      "  4550K .......... .......... .......... .......... .......... 55% 11.8M 1s\n",
      "  4600K .......... .......... .......... .......... .......... 55% 4.90M 1s\n",
      "  4650K .......... .......... .......... .......... .......... 56% 6.92M 1s\n",
      "  4700K .......... .......... .......... .......... .......... 56%  109M 1s\n",
      "  4750K .......... .......... .......... .......... .......... 57% 1.55M 1s\n",
      "  4800K .......... .......... .......... .......... .......... 58% 5.64M 1s\n",
      "  4850K .......... .......... .......... .......... .......... 58% 7.74M 1s\n",
      "  4900K .......... .......... .......... .......... .......... 59% 26.5M 1s\n",
      "  4950K .......... .......... .......... .......... .......... 59% 6.22M 1s\n",
      "  5000K .......... .......... .......... .......... .......... 60% 74.5M 1s\n",
      "  5050K .......... .......... .......... .......... .......... 61% 1.60M 1s\n",
      "  5100K .......... .......... .......... .......... .......... 61% 4.07M 1s\n",
      "  5150K .......... .......... .......... .......... .......... 62% 4.89M 1s\n",
      "  5200K .......... .......... .......... .......... .......... 62% 12.7M 1s\n",
      "  5250K .......... .......... .......... .......... .......... 63%  139M 1s\n",
      "  5300K .......... .......... .......... .......... .......... 64% 5.26M 1s\n",
      "  5350K .......... .......... .......... .......... .......... 64% 2.34M 1s\n",
      "  5400K .......... .......... .......... .......... .......... 65% 4.17M 1s\n",
      "  5450K .......... .......... .......... .......... .......... 65% 4.01M 1s\n",
      "  5500K .......... .......... .......... .......... .......... 66% 53.4M 1s\n",
      "  5550K .......... .......... .......... .......... .......... 67% 8.33M 1s\n",
      "  5600K .......... .......... .......... .......... .......... 67% 12.0M 0s\n",
      "  5650K .......... .......... .......... .......... .......... 68% 2.52M 0s\n",
      "  5700K .......... .......... .......... .......... .......... 68% 2.79M 0s\n",
      "  5750K .......... .......... .......... .......... .......... 69% 5.09M 0s\n",
      "  5800K .......... .......... .......... .......... .......... 70% 10.8M 0s\n",
      "  5850K .......... .......... .......... .......... .......... 70% 9.96M 0s\n",
      "  5900K .......... .......... .......... .......... .......... 71%  114M 0s\n",
      "  5950K .......... .......... .......... .......... .......... 71% 2.85M 0s\n",
      "  6000K .......... .......... .......... .......... .......... 72% 2.58M 0s\n",
      "  6050K .......... .......... .......... .......... .......... 73% 3.59M 0s\n",
      "  6100K .......... .......... .......... .......... .......... 73% 22.6M 0s\n",
      "  6150K .......... .......... .......... .......... .......... 74% 6.32M 0s\n",
      "  6200K .......... .......... .......... .......... .......... 74% 9.64M 0s\n",
      "  6250K .......... .......... .......... .......... .......... 75%  616K 0s\n",
      "  6300K .......... .......... .......... .......... .......... 76% 69.6M 0s\n",
      "  6350K .......... .......... .......... .......... .......... 76% 85.4M 0s\n",
      "  6400K .......... .......... .......... .......... .......... 77%  129M 0s\n",
      "  6450K .......... .......... .......... .......... .......... 77%  138M 0s\n",
      "  6500K .......... .......... .......... .......... .......... 78%  137M 0s\n",
      "  6550K .......... .......... .......... .......... .......... 79% 12.5M 0s\n",
      "  6600K .......... .......... .......... .......... .......... 79% 6.53M 0s\n",
      "  6650K .......... .......... .......... .......... .......... 80% 4.85M 0s\n",
      "  6700K .......... .......... .......... .......... .......... 80% 12.3M 0s\n",
      "  6750K .......... .......... .......... .......... .......... 81% 1.33M 0s\n",
      "  6800K .......... .......... .......... .......... .......... 82% 10.6M 0s\n",
      "  6850K .......... .......... .......... .......... .......... 82% 5.20M 0s\n",
      "  6900K .......... .......... .......... .......... .......... 83% 11.1M 0s\n",
      "  6950K .......... .......... .......... .......... .......... 83% 1.86M 0s\n",
      "  7000K .......... .......... .......... .......... .......... 84% 4.22M 0s\n",
      "  7050K .......... .......... .......... .......... .......... 85% 3.48M 0s\n",
      "  7100K .......... .......... .......... .......... .......... 85%  172M 0s\n",
      "  7150K .......... .......... .......... .......... .......... 86% 1.54M 0s\n",
      "  7200K .......... .......... .......... .......... .......... 86% 6.12M 0s\n",
      "  7250K .......... .......... .......... .......... .......... 87% 3.37M 0s\n",
      "  7300K .......... .......... .......... .......... .......... 88% 29.7M 0s\n",
      "  7350K .......... .......... .......... .......... .......... 88% 3.09M 0s\n",
      "  7400K .......... .......... .......... .......... .......... 89% 2.14M 0s\n",
      "  7450K .......... .......... .......... .......... .......... 89% 11.9M 0s\n",
      "  7500K .......... .......... .......... .......... .......... 90% 3.92M 0s\n",
      "  7550K .......... .......... .......... .......... .......... 91% 3.30M 0s\n",
      "  7600K .......... .......... .......... .......... .......... 91%  553K 0s\n",
      "  7650K .......... .......... .......... .......... .......... 92%  173M 0s\n",
      "  7700K .......... .......... .......... .......... .......... 92%  164M 0s\n",
      "  7750K .......... .......... .......... .......... .......... 93%  156M 0s\n",
      "  7800K .......... .......... .......... .......... .......... 93%  131M 0s\n",
      "  7850K .......... .......... .......... .......... .......... 94% 7.01M 0s\n",
      "  7900K .......... .......... .......... .......... .......... 95%  107M 0s\n",
      "  7950K .......... .......... .......... .......... .......... 95%  891K 0s\n",
      "  8000K .......... .......... .......... .......... .......... 96% 57.7M 0s\n",
      "  8050K .......... .......... .......... .......... .......... 96% 44.2M 0s\n",
      "  8100K .......... .......... .......... .......... .......... 97% 1.12M 0s\n",
      "  8150K .......... .......... .......... .......... .......... 98% 3.55M 0s\n",
      "  8200K .......... .......... .......... .......... .......... 98% 12.9M 0s\n",
      "  8250K .......... .......... .......... .......... .......... 99% 9.38M 0s\n",
      "  8300K ..."
     ]
    },
    {
     "name": "stdout",
     "output_type": "stream",
     "text": [
      "Successfully downloaded https://demo.openwfm.org/web/data/fmda/dicts/test_CA_202401.pkl to fmda_nw_202401-05_f05.pkl\n"
     ]
    },
    {
     "name": "stderr",
     "output_type": "stream",
     "text": [
      "....... .......... .......... .......... .......... 99%  409K 0s\n",
      "  8350K .                                                     100% 25.3K=1.9s\n",
      "\n",
      "2024-09-20 17:43:58 (4.40 MB/s) - ‘fmda_nw_202401-05_f05.pkl’ saved [8551696/8551696]\n",
      "\n"
     ]
    }
   ],
   "source": [
    "retrieve_url(\n",
    "    url = \"https://demo.openwfm.org/web/data/fmda/dicts/test_CA_202401.pkl\", \n",
    "    dest_path = \"fmda_nw_202401-05_f05.pkl\")"
   ]
  },
  {
   "cell_type": "code",
   "execution_count": 4,
   "id": "eabdbd9c-07d9-4bae-9851-cca79f321895",
   "metadata": {},
   "outputs": [],
   "source": [
    "repro_file = \"data/reproducibility_dict_v2_TEST.pkl\"\n",
    "file_names=['fmda_nw_202401-05_f05.pkl']\n",
    "file_dir='data'\n",
    "file_paths = [osp.join(file_dir,file_name) for file_name in file_names]"
   ]
  },
  {
   "cell_type": "code",
   "execution_count": 5,
   "id": "dcca6185-e799-4dd1-8acb-87ad33c411d7",
   "metadata": {},
   "outputs": [],
   "source": [
    "# read/write control\n",
    "train_file='data/train.pkl'\n",
    "train_create=True   # if false, read\n",
    "train_write=True\n",
    "train_read=True"
   ]
  },
  {
   "cell_type": "code",
   "execution_count": 6,
   "id": "bc0a775b-b587-42ef-8576-e36dc0be3a75",
   "metadata": {
    "scrolled": true
   },
   "outputs": [
    {
     "name": "stdout",
     "output_type": "stream",
     "text": [
      "loading file data/reproducibility_dict_v2_TEST.pkl\n",
      "2024-09-20 17:43:58,780 - INFO - creating the training cases from files ['data/fmda_nw_202401-05_f05.pkl']\n",
      "2024-09-20 17:43:58,782 - INFO - Using data from step f01\n",
      "2024-09-20 17:43:58,782 - INFO - Using rain as the difference of accumulated precipitation between f01 and f00\n"
     ]
    },
    {
     "ename": "FileNotFoundError",
     "evalue": "[Errno 2] No such file or directory: 'data/fmda_nw_202401-05_f05.pkl'",
     "output_type": "error",
     "traceback": [
      "\u001b[0;31m---------------------------------------------------------------------------\u001b[0m",
      "\u001b[0;31mFileNotFoundError\u001b[0m                         Traceback (most recent call last)",
      "Cell \u001b[0;32mIn[6], line 6\u001b[0m\n\u001b[1;32m      4\u001b[0m     logging\u001b[38;5;241m.\u001b[39minfo(\u001b[38;5;124m'\u001b[39m\u001b[38;5;124mcreating the training cases from files \u001b[39m\u001b[38;5;132;01m%s\u001b[39;00m\u001b[38;5;124m'\u001b[39m,file_paths)\n\u001b[1;32m      5\u001b[0m     \u001b[38;5;66;03m# osp.join works on windows too, joins paths using \\ or /\u001b[39;00m\n\u001b[0;32m----> 6\u001b[0m     train \u001b[38;5;241m=\u001b[39m \u001b[43mpkl2train\u001b[49m\u001b[43m(\u001b[49m\u001b[43mfile_paths\u001b[49m\u001b[43m)\u001b[49m\n\u001b[1;32m      7\u001b[0m \u001b[38;5;28;01mif\u001b[39;00m train_write:\n\u001b[1;32m      8\u001b[0m     \u001b[38;5;28;01mwith\u001b[39;00m \u001b[38;5;28mopen\u001b[39m(train_file, \u001b[38;5;124m'\u001b[39m\u001b[38;5;124mwb\u001b[39m\u001b[38;5;124m'\u001b[39m) \u001b[38;5;28;01mas\u001b[39;00m file:\n",
      "File \u001b[0;32m~/Projects/fmda/notebooks/fmda/moisture_rnn_pkl.py:57\u001b[0m, in \u001b[0;36mpkl2train\u001b[0;34m(input_file_paths, forecast_step, atm, features_all)\u001b[0m\n\u001b[1;32m     55\u001b[0m train \u001b[38;5;241m=\u001b[39m {}\n\u001b[1;32m     56\u001b[0m \u001b[38;5;28;01mfor\u001b[39;00m file_path \u001b[38;5;129;01min\u001b[39;00m input_file_paths:\n\u001b[0;32m---> 57\u001b[0m     \u001b[38;5;28;01mwith\u001b[39;00m \u001b[38;5;28;43mopen\u001b[39;49m\u001b[43m(\u001b[49m\u001b[43mfile_path\u001b[49m\u001b[43m,\u001b[49m\u001b[43m \u001b[49m\u001b[38;5;124;43m'\u001b[39;49m\u001b[38;5;124;43mrb\u001b[39;49m\u001b[38;5;124;43m'\u001b[39;49m\u001b[43m)\u001b[49m \u001b[38;5;28;01mas\u001b[39;00m file:\n\u001b[1;32m     58\u001b[0m         logging\u001b[38;5;241m.\u001b[39minfo(\u001b[38;5;124m\"\u001b[39m\u001b[38;5;124mloading file \u001b[39m\u001b[38;5;132;01m%s\u001b[39;00m\u001b[38;5;124m\"\u001b[39m, file_path)\n\u001b[1;32m     59\u001b[0m         d \u001b[38;5;241m=\u001b[39m pickle\u001b[38;5;241m.\u001b[39mload(file)\n",
      "\u001b[0;31mFileNotFoundError\u001b[0m: [Errno 2] No such file or directory: 'data/fmda_nw_202401-05_f05.pkl'"
     ]
    }
   ],
   "source": [
    "repro = read_pkl(repro_file)\n",
    "\n",
    "if train_create:\n",
    "    logging.info('creating the training cases from files %s',file_paths)\n",
    "    # osp.join works on windows too, joins paths using \\ or /\n",
    "    train = pkl2train(file_paths)\n",
    "if train_write:\n",
    "    with open(train_file, 'wb') as file:\n",
    "        logging.info('Writing the rain cases into file %s',train_file)\n",
    "        pickle.dump(train, file)\n",
    "if train_read:\n",
    "    logging.info('Reading the train cases from file %s',train_file)\n",
    "    train = read_pkl(train_file)"
   ]
  },
  {
   "cell_type": "code",
   "execution_count": null,
   "id": "211a1c2f-ba8d-40b8-b29c-daa38af97a26",
   "metadata": {},
   "outputs": [],
   "source": [
    "params_all = read_yml(\"params.yaml\")\n",
    "print(params_all.keys())"
   ]
  },
  {
   "cell_type": "code",
   "execution_count": null,
   "id": "698df86b-8550-4135-81df-45dbf503dd4e",
   "metadata": {},
   "outputs": [],
   "source": [
    "# from module_param_sets import param_sets"
   ]
  },
  {
   "cell_type": "code",
   "execution_count": null,
   "id": "4b0c9a9b-dd02-4251-aa4a-2acc1101e153",
   "metadata": {},
   "outputs": [],
   "source": [
    "param_sets_keys=['rnn']\n",
    "cases=list(train.keys())[0:50]\n",
    "# cases=list(train.keys())\n",
    "# cases.remove('reproducibility')\n",
    "cases"
   ]
  },
  {
   "cell_type": "code",
   "execution_count": null,
   "id": "dd22baf2-59d2-460e-8c47-b20116dd5982",
   "metadata": {},
   "outputs": [],
   "source": [
    "logging.info('Running over parameter sets %s',param_sets_keys)\n",
    "logging.info('Running over cases %s',cases)"
   ]
  },
  {
   "cell_type": "markdown",
   "id": "802f3eef-1702-4478-b6e3-2288a6edae24",
   "metadata": {},
   "source": [
    "## Run Reproducibility Case"
   ]
  },
  {
   "cell_type": "code",
   "execution_count": null,
   "id": "69a3adb9-39fd-4c0c-9c9b-aaa2a9a3af40",
   "metadata": {},
   "outputs": [],
   "source": [
    "params = repro['repro_info']['params']\n",
    "print(type(params))\n",
    "print(params)\n",
    "\n",
    "# Set up input data\n",
    "rnn_dat = RNNData(repro, scaler = params['scaler'], features_list = params['features_list'])\n",
    "rnn_dat.train_test_split(\n",
    "    time_fracs = params['time_fracs']\n",
    ")\n",
    "rnn_dat.scale_data()\n",
    "rnn_dat.batch_reshape(timesteps = params['timesteps'], batch_size = params['batch_size'])"
   ]
  },
  {
   "cell_type": "code",
   "execution_count": null,
   "id": "855703c4-d7a9-4579-bca7-7c737a81d0de",
   "metadata": {},
   "outputs": [],
   "source": [
    "reproducibility.set_seed(123)\n",
    "rnn = RNN(params)\n",
    "m, errs = rnn.run_model(rnn_dat, reproducibility_run=True)"
   ]
  },
  {
   "cell_type": "markdown",
   "id": "49e31fdd-4c14-4a81-9e2b-4c6ba94d1f83",
   "metadata": {},
   "source": [
    "## Separate Models by Location"
   ]
  },
  {
   "cell_type": "code",
   "execution_count": null,
   "id": "e11e7c83-183f-48ba-abd8-a6aedff66090",
   "metadata": {},
   "outputs": [],
   "source": [
    "# Set up output dictionaries\n",
    "outputs_kf = {}\n",
    "outputs_rnn = {}"
   ]
  },
  {
   "cell_type": "code",
   "execution_count": null,
   "id": "dc5b47bd-4fbc-44b8-b2dd-d118e068b450",
   "metadata": {
    "scrolled": true
   },
   "outputs": [],
   "source": [
    "\n",
    "for k in param_sets_keys:\n",
    "    params = RNNParams(params_all[k])\n",
    "    print(\"~\"*80)\n",
    "    print(\"Running with params:\")\n",
    "    print(params)\n",
    "    # Increase Val Frac so no errors, TODO fix validation\n",
    "    params.update({\n",
    "        'train_frac': .9,\n",
    "        'val_frac': .05,\n",
    "        'activation': ['relu', 'relu'],\n",
    "        'epochs': 10,\n",
    "        'dense_units': 10,\n",
    "        'rnn_layers': 2       \n",
    "    })\n",
    "    for case in cases:\n",
    "        print(\"~\"*50)\n",
    "        logging.info('Processing case %s',case)\n",
    "        print_dict_summary(train[case])\n",
    "        # Format data & Run Model\n",
    "        # rnn_dat = create_rnn_data2(train[case], params)\n",
    "        rnn_dat = RNNData(train[case], scaler = params['scaler'], features_list = params['features_list'])\n",
    "        rnn_dat.train_test_split(\n",
    "            time_fracs = [.9, .05, .05]\n",
    "        )\n",
    "        rnn_dat.scale_data()\n",
    "        rnn_dat.batch_reshape(timesteps = params['timesteps'], batch_size = params['batch_size'])\n",
    "        params.update({'bmax': rnn_dat.hours})\n",
    "        reproducibility.set_seed()\n",
    "        rnn = RNN(params)\n",
    "        m, errs = rnn.run_model(rnn_dat, plot_period=\"predict\")\n",
    "        # Add model output to case\n",
    "        train[case]['m_rnn']=m\n",
    "        # Get RMSE Prediction Error\n",
    "        print(f\"RMSE: {errs}\")\n",
    "        outputs_rnn[case] = {'case':case, 'errs': errs.copy()}\n",
    "        \n",
    "        # Run Augmented KF\n",
    "        print('Running Augmented KF')\n",
    "        train[case]['h2'] = rnn_dat.test_ind\n",
    "        train[case]['scale_fm'] = 1\n",
    "        m, Ec = run_augmented_kf(train[case])\n",
    "        y = rnn_dat['y']        \n",
    "        train[case]['m_kf'] = m\n",
    "        print(f\"KF RMSE: {rmse(m[rnn_dat.test_ind:],y[rnn_dat.test_ind:])}\")\n",
    "        outputs_kf[case] = {'case':case, 'errs': rmse(m[rnn_dat.test_ind:],y[rnn_dat.test_ind:])}\n",
    "\n",
    "        # Save Outputs \n",
    "        to_json(outputs_rnn, \"rnn_errs.json\")\n",
    "        to_json(outputs_kf, \"kf_errs.json\")"
   ]
  },
  {
   "cell_type": "code",
   "execution_count": null,
   "id": "15384e4d-b8ec-4700-bdc2-83b0433d11c9",
   "metadata": {},
   "outputs": [],
   "source": [
    "logging.info('fmda_rnn_serial.ipynb done')"
   ]
  },
  {
   "cell_type": "code",
   "execution_count": null,
   "id": "d0e78fb3-b501-49d6-81a9-1a13da0134a0",
   "metadata": {},
   "outputs": [],
   "source": [
    "import importlib\n",
    "import moisture_rnn\n",
    "importlib.reload(moisture_rnn)\n",
    "from moisture_rnn import RNN"
   ]
  },
  {
   "cell_type": "code",
   "execution_count": null,
   "id": "37053436-8dfe-4c40-8614-811817e83782",
   "metadata": {},
   "outputs": [],
   "source": [
    "for k in outputs_rnn:\n",
    "    print(\"~\"*50)\n",
    "    print(outputs_rnn[k]['case'])\n",
    "    print(outputs_rnn[k]['errs']['prediction'])"
   ]
  },
  {
   "cell_type": "code",
   "execution_count": null,
   "id": "9154d5f7-015f-4ef7-af45-020410a1ea65",
   "metadata": {},
   "outputs": [],
   "source": [
    "for k in outputs_kf:\n",
    "    print(\"~\"*50)\n",
    "    print(outputs_kf[k]['case'])\n",
    "    print(outputs_kf[k]['errs'])"
   ]
  },
  {
   "cell_type": "code",
   "execution_count": null,
   "id": "dfd90d87-fe08-48b5-8cc4-31bd19c5c20a",
   "metadata": {},
   "outputs": [],
   "source": []
  },
  {
   "cell_type": "markdown",
   "id": "f3c1c299-1655-4c64-a458-c7723db6ea6d",
   "metadata": {},
   "source": [
    "### TODO: FIX SCALING in Scheme below\n",
    "\n",
    "Scaling is done separately in each now."
   ]
  },
  {
   "cell_type": "markdown",
   "id": "0c0c3470-30f5-4915-98a7-dcdf5760d482",
   "metadata": {},
   "source": [
    "## Training at Multiple Locations\n",
    "\n",
    "Still sequential"
   ]
  },
  {
   "cell_type": "code",
   "execution_count": null,
   "id": "dd1aca73-7279-473e-b2a3-95aa1db7b1a8",
   "metadata": {},
   "outputs": [],
   "source": [
    "params = RNNParams(params_all['rnn'])\n",
    "params.update({\n",
    "    'epochs': 1, # less epochs since it is per location\n",
    "    'activation': ['relu', 'relu'],\n",
    "    'train_frac': .9,\n",
    "    'val_frac': .05,    \n",
    "    'dense_units': 10,\n",
    "    'rnn_layers': 2\n",
    "})\n",
    "\n",
    "# rnn_dat = create_rnn_data2(train[cases[0]], params)\n",
    "rnn_dat = RNNData(train[cases[0]], params['scaler'], params['features_list'])\n",
    "rnn_dat.train_test_split(\n",
    "    time_fracs = [.9, .05, .05]\n",
    ")\n",
    "rnn_dat.scale_data()\n",
    "rnn_dat.batch_reshape(timesteps = params['timesteps'], batch_size = params['batch_size'])"
   ]
  },
  {
   "cell_type": "code",
   "execution_count": null,
   "id": "65b2f9a3-a8f2-4ac1-8e4d-ba38a86eaf40",
   "metadata": {},
   "outputs": [],
   "source": [
    "reproducibility.set_seed()\n",
    "rnn = RNN(params)"
   ]
  },
  {
   "cell_type": "code",
   "execution_count": null,
   "id": "47a85ef2-8145-4de8-9f2e-86622306ffd8",
   "metadata": {
    "scrolled": true
   },
   "outputs": [],
   "source": [
    "print(\"~\"*80)\n",
    "print(\"Running with params:\")\n",
    "print(params)\n",
    "\n",
    "for case in cases[0:10]:\n",
    "    print(\"~\"*50)\n",
    "    logging.info('Processing case %s',case)\n",
    "    print_dict_summary(train[case])\n",
    "    rnn_dat_temp = RNNData(train[case], params['scaler'], params['features_list'])\n",
    "    rnn_dat_temp.train_test_split(\n",
    "        time_fracs = [.9, .05, .05]\n",
    "    )\n",
    "    rnn_dat_temp.scale_data()\n",
    "    rnn_dat_temp.batch_reshape(timesteps = params['timesteps'], batch_size = params['batch_size'])\n",
    "    rnn.fit(rnn_dat_temp['X_train'], rnn_dat_temp['y_train'],\n",
    "           validation_data=(rnn_dat_temp['X_val'], rnn_dat_temp['y_val']))\n",
    "    # run_rnn_pkl(train[case],param_sets[i])"
   ]
  },
  {
   "cell_type": "markdown",
   "id": "a0421b8d-49aa-4409-8cbf-7732f1137838",
   "metadata": {},
   "source": [
    "### Predict "
   ]
  },
  {
   "cell_type": "code",
   "execution_count": null,
   "id": "63d7854a-94f7-425c-9561-4fe518e044bb",
   "metadata": {
    "scrolled": true
   },
   "outputs": [],
   "source": [
    "# Predict Cases Used in Training\n",
    "rmses = []\n",
    "inds = np.arange(0,10)\n",
    "train_keys = list(train.keys())\n",
    "for i in inds:\n",
    "    print(\"~\"*50)\n",
    "    case = train_keys[i]\n",
    "    print(f\"Predicting case {case}\")\n",
    "    # rnn_dat = create_rnn_data2(train[case], params)\n",
    "    rnn_dat_temp = RNNData(train[case], params['scaler'], params['features_list'])\n",
    "    rnn_dat_temp.train_test_split(\n",
    "        time_fracs = [.9, .05, .05]\n",
    "    )\n",
    "    rnn_dat_temp.scale_data()\n",
    "    rnn_dat_temp.batch_reshape(timesteps = params['timesteps'], batch_size = params['batch_size'])\n",
    "    X_temp = rnn_dat_temp.scale_all_X()\n",
    "    m = rnn.predict(X_temp)\n",
    "    test_ind = rnn_dat['test_ind']\n",
    "    rmses.append(rmse(m[test_ind:], rnn_dat['y_test'].flatten()))"
   ]
  },
  {
   "cell_type": "code",
   "execution_count": null,
   "id": "2a5423e0-778b-4f69-9ed0-f0082a1fefe5",
   "metadata": {},
   "outputs": [],
   "source": [
    "rmses"
   ]
  },
  {
   "cell_type": "code",
   "execution_count": null,
   "id": "45c9caae-7ced-4f21-aa05-c9b125e8fdcb",
   "metadata": {},
   "outputs": [],
   "source": [
    "pd.DataFrame({'Case': list(train.keys())[0:10], 'RMSE': rmses}).style.hide(axis=\"index\")"
   ]
  },
  {
   "cell_type": "code",
   "execution_count": null,
   "id": "f710f482-b600-4ea5-9a8a-823a13b4ec7a",
   "metadata": {
    "scrolled": true
   },
   "outputs": [],
   "source": [
    "# Predict New Locations\n",
    "rmses = []\n",
    "for i, case in enumerate(list(train.keys())[10:100]):\n",
    "    print(\"~\"*50)\n",
    "    print(f\"Predicting case {case}\")\n",
    "    rnn_dat_temp = RNNData(train[case], params['scaler'], params['features_list'])\n",
    "    rnn_dat_temp.train_test_split(\n",
    "        time_fracs = [.9, .05, .05]\n",
    "    )\n",
    "    rnn_dat_temp.scale_data()\n",
    "    rnn_dat_temp.batch_reshape(timesteps = params['timesteps'], batch_size = params['batch_size'])\n",
    "    X = rnn_dat_temp.scale_all_X()\n",
    "    m = rnn.predict(X)\n",
    "    train[case]['m'] = m\n",
    "    test_ind = rnn_dat['test_ind']\n",
    "    rmses.append(rmse(m[test_ind:], rnn_dat.y_test.flatten()))\n",
    "\n",
    "df = pd.DataFrame({'Case': list(train.keys())[10:100], 'RMSE': rmses})"
   ]
  },
  {
   "cell_type": "code",
   "execution_count": null,
   "id": "d793ac87-d94b-4b16-a271-46cdc259b4fe",
   "metadata": {},
   "outputs": [],
   "source": [
    "df[0:5].style.hide(axis=\"index\")"
   ]
  },
  {
   "cell_type": "code",
   "execution_count": null,
   "id": "b99606d1-bd46-4041-8303-1bcbb196f6f4",
   "metadata": {},
   "outputs": [],
   "source": [
    "df"
   ]
  },
  {
   "cell_type": "code",
   "execution_count": null,
   "id": "52ec264d-d4b7-444c-b623-002d6383da30",
   "metadata": {},
   "outputs": [],
   "source": [
    "df.RMSE.mean()"
   ]
  },
  {
   "cell_type": "code",
   "execution_count": null,
   "id": "998922cd-46bb-4063-8284-0497e19c39b0",
   "metadata": {},
   "outputs": [],
   "source": [
    "plt.hist(df.RMSE)"
   ]
  },
  {
   "cell_type": "code",
   "execution_count": null,
   "id": "889f3bbb-9fb2-4621-9e93-1d0bc0f83e01",
   "metadata": {},
   "outputs": [],
   "source": []
  },
  {
   "cell_type": "code",
   "execution_count": null,
   "id": "fe407f61-15f2-4086-a386-7d7a5bb90d26",
   "metadata": {},
   "outputs": [],
   "source": []
  },
  {
   "cell_type": "code",
   "execution_count": null,
   "id": "2fdb63b3-68b8-4877-a7a2-f63257cb29d5",
   "metadata": {},
   "outputs": [],
   "source": []
  },
  {
   "cell_type": "code",
   "execution_count": null,
   "id": "5c7563c5-a880-45c7-8381-8ce4e1a44216",
   "metadata": {},
   "outputs": [],
   "source": []
  },
  {
   "cell_type": "code",
   "execution_count": null,
   "id": "ad5dae6c-1269-4674-a49e-2efe8b956911",
   "metadata": {},
   "outputs": [],
   "source": []
  }
 ],
 "metadata": {
  "kernelspec": {
   "display_name": "Python 3 (ipykernel)",
   "language": "python",
   "name": "python3"
  },
  "language_info": {
   "codemirror_mode": {
    "name": "ipython",
    "version": 3
   },
   "file_extension": ".py",
   "mimetype": "text/x-python",
   "name": "python",
   "nbconvert_exporter": "python",
   "pygments_lexer": "ipython3",
   "version": "3.12.5"
  }
 },
 "nbformat": 4,
 "nbformat_minor": 5
}
