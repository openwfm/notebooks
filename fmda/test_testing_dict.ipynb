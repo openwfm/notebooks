{
 "cells": [
  {
   "cell_type": "code",
   "execution_count": null,
   "id": "be267060-d899-4988-a5c5-cc5b5cc1954e",
   "metadata": {},
   "outputs": [],
   "source": [
    "# both can change\n",
    "# Environment\n",
    "import numpy as np\n",
    "import pandas as pd\n",
    "\n",
    "import math\n",
    "import json\n",
    "import matplotlib.pyplot as plt\n",
    "\n",
    "import pickle, os\n",
    "from utils import hash2\n",
    "from utils import print_dict_summary, print_first, str2time\n",
    "from data_funcs import load_and_fix_data\n",
    "\n",
    "%matplotlib inline"
   ]
  },
  {
   "cell_type": "code",
   "execution_count": null,
   "id": "660990c3-dbbf-4a78-9658-6b62f18e9cd2",
   "metadata": {},
   "outputs": [],
   "source": [
    "print('testing the original testing_dict for fmda__rnn_rain')"
   ]
  },
  {
   "cell_type": "code",
   "execution_count": null,
   "id": "8ef1ea7d-4d63-43dd-b308-fd3e6b4b60f7",
   "metadata": {},
   "outputs": [],
   "source": [
    "dict_file='data/testing_dict.pickle' # input path of FMDA dictionaries"
   ]
  },
  {
   "cell_type": "code",
   "execution_count": null,
   "id": "b8490d18-2b7d-4c09-a039-78929c97c66a",
   "metadata": {},
   "outputs": [],
   "source": [
    "testing_dict=load_and_fix_data(dict_file)"
   ]
  },
  {
   "cell_type": "code",
   "execution_count": null,
   "id": "97d19ea1-671f-4cd9-89a4-effb5d8fac6a",
   "metadata": {},
   "outputs": [],
   "source": [
    "print_dict_summary(testing_dict)"
   ]
  },
  {
   "cell_type": "code",
   "execution_count": null,
   "id": "39eefc05-18e8-485c-9b60-af2d6879fe5b",
   "metadata": {},
   "outputs": [],
   "source": [
    "with open(dict_file, 'rb') as file:\n",
    "    testing_dict_raw = pickle.load(file)"
   ]
  },
  {
   "cell_type": "code",
   "execution_count": null,
   "id": "fcd21a77-d698-4daa-a62d-ef9f2916a9c0",
   "metadata": {},
   "outputs": [],
   "source": [
    "print_dict_summary(testing_dict_raw)"
   ]
  },
  {
   "cell_type": "code",
   "execution_count": null,
   "id": "b133757d-ca77-442d-bebb-3e8bd23962d8",
   "metadata": {},
   "outputs": [],
   "source": []
  }
 ],
 "metadata": {
  "kernelspec": {
   "display_name": "Python 3 (ipykernel)",
   "language": "python",
   "name": "python3"
  },
  "language_info": {
   "codemirror_mode": {
    "name": "ipython",
    "version": 3
   },
   "file_extension": ".py",
   "mimetype": "text/x-python",
   "name": "python",
   "nbconvert_exporter": "python",
   "pygments_lexer": "ipython3",
   "version": "3.10.9"
  }
 },
 "nbformat": 4,
 "nbformat_minor": 5
}
