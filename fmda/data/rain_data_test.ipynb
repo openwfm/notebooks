{
 "cells": [
  {
   "cell_type": "code",
   "execution_count": null,
   "id": "504eb0fe-52e3-41a2-b757-ebef367f48a3",
   "metadata": {},
   "outputs": [],
   "source": [
    "import os\n",
    "import os.path as osp\n",
    "import subprocess\n",
    "import numpy as np\n",
    "import pandas as pd\n",
    "from datetime import datetime\n",
    "import matplotlib.pyplot as plt\n",
    "from osgeo import gdal"
   ]
  },
  {
   "cell_type": "markdown",
   "id": "488b205b-18dd-41b0-a1a3-7527afd54aec",
   "metadata": {},
   "source": [
    "# Rain Data Exploration\n",
    "\n",
    "The purpose of this notebook is to explore the rain data from RAWS and HRRR retrieval processes.\n",
    "\n",
    "* RAWS Rain Data:\n",
    "    * [RAWS Definitions](https://www.weather.gov/media/wrh/mesowest/MesoWest_Data_Variables_Definitions.pdf)\n",
    "    * They list hourly rainfall as parameters, but in practice stations only have wide data availability for accumulated precipitation\n",
    "    * This data is potentially flawed when the rain collecting apparatus is full, and will thus register zero new rainfall when the bucket is full.\n",
    "* HRRR Rain Data:\n",
    "    * [HRRR Definitions](https://www.nco.ncep.noaa.gov/pmb/products/hrrr/hrrr.t00z.wrfprsf00.grib2.shtml)\n",
    "    * Both rate and total ($kg\\; m^{-2}s^{-1}$ and $kg\\; m^{-2}$, respectively)"
   ]
  },
  {
   "cell_type": "markdown",
   "id": "971b6b28-54f9-41d3-836e-bf6f7a826b1c",
   "metadata": {},
   "source": [
    "## Read FMDA Data Dictionary"
   ]
  },
  {
   "cell_type": "code",
   "execution_count": null,
   "id": "b46971b5-2419-41c2-974c-d0a649f2c19a",
   "metadata": {},
   "outputs": [],
   "source": [
    "# if not osp.exists(\"co_202306.pkl\"):\n",
    "#     print(\"Retrieving FMDA data\")\n",
    "#     subprocess.call(\"wget -P . https://demo.openwfm.org/web/data/fmda/dicts/co_202306.pkl\", shell=True)\n",
    "#     assert osp.exists(\"co_202306.pkl\")    \n",
    "#     print(\"Downloaded https://demo.openwfm.org/web/data/fmda/dicts/co_202306.pkl as co_202306.pkl\")\n",
    "\n",
    "dat = pd.read_pickle(\"test_CA_202401.pkl\")"
   ]
  },
  {
   "cell_type": "code",
   "execution_count": null,
   "id": "4eae56e5-115a-418f-9e7e-cb10cfadd082",
   "metadata": {},
   "outputs": [],
   "source": [
    "dat.keys()"
   ]
  },
  {
   "cell_type": "markdown",
   "id": "76775237-2690-4920-bf3e-4efdd740b541",
   "metadata": {},
   "source": [
    "## Get Rain Data from a station"
   ]
  },
  {
   "cell_type": "code",
   "execution_count": null,
   "id": "f33302c1-bc46-4740-a880-0cf6248601b6",
   "metadata": {},
   "outputs": [],
   "source": [
    "x = dat[\"FCHC1_202401\"]\n",
    "print(x.keys())\n",
    "print(\"Station location info:\")\n",
    "print(x[\"loc\"])"
   ]
  },
  {
   "cell_type": "code",
   "execution_count": null,
   "id": "015a8546-8b54-4a23-8f95-7be2aae15be1",
   "metadata": {},
   "outputs": [],
   "source": [
    "print(x[\"RAWS\"].keys())\n",
    "rain_raws = x[\"RAWS\"][\"rain\"]\n",
    "rain_raws[0]=0 # assume 0 at time zero, it is NA because of first difference of accumlated\n",
    "precipa_raws = x[\"RAWS\"][\"precip_accum\"]"
   ]
  },
  {
   "cell_type": "code",
   "execution_count": null,
   "id": "59375b5e-e5aa-41b8-8ae5-500f58085280",
   "metadata": {},
   "outputs": [],
   "source": [
    "print(x[\"HRRR\"].keys())\n",
    "print(x[\"HRRR\"][\"f01\"].keys())\n",
    "rain0 = x[\"HRRR\"][\"f00\"][\"rain\"]\n",
    "rain1 = x[\"HRRR\"][\"f01\"][\"rain\"]\n",
    "\n",
    "precip0 = x[\"HRRR\"][\"f00\"][\"precip_accum\"]\n",
    "precip1 = x[\"HRRR\"][\"f01\"][\"precip_accum\"]"
   ]
  },
  {
   "cell_type": "markdown",
   "id": "e744b3d8-865c-4e34-9c6d-08972661c5e6",
   "metadata": {},
   "source": [
    "### Check Time lines up"
   ]
  },
  {
   "cell_type": "code",
   "execution_count": null,
   "id": "6a189964-363e-4fd7-aed4-c255aafe36be",
   "metadata": {},
   "outputs": [],
   "source": [
    "np.mean(x[\"RAWS\"][\"time\"] == x[\"HRRR\"][\"time\"])"
   ]
  },
  {
   "cell_type": "code",
   "execution_count": null,
   "id": "f4552d4d-0a35-4cc0-872c-c14f09020092",
   "metadata": {},
   "outputs": [],
   "source": [
    "# Print max time difference between queried time and actual time returned by RAWS\n",
    "np.max(np.array([datetime.strptime(val, '%Y-%m-%dT%H:%M:%SZ') for val in x[\"RAWS\"][\"time_raws\"]]) - np.array([datetime.strptime(val, '%Y-%m-%dT%H:%M:%SZ') for val in x[\"HRRR\"][\"time\"]]))"
   ]
  },
  {
   "cell_type": "markdown",
   "id": "84bcf9ac-6ac3-480f-8b5b-8a53cc066652",
   "metadata": {},
   "source": [
    "## HRRR Rain Data\n",
    "\n",
    "All zero at analysis hour f00. Rain at f01 nonzero, but we need to confirm it is reasonable."
   ]
  },
  {
   "cell_type": "code",
   "execution_count": null,
   "id": "85561827-d8ed-447f-a827-6d60571fbb4a",
   "metadata": {},
   "outputs": [],
   "source": [
    "print(np.unique(rain0))\n",
    "print(np.max(rain1))"
   ]
  },
  {
   "cell_type": "markdown",
   "id": "5b8d611b-a9b9-4d61-82a9-64e2ffe4be5b",
   "metadata": {},
   "source": [
    "## Plot Side by Side"
   ]
  },
  {
   "cell_type": "code",
   "execution_count": null,
   "id": "bf2716bd-e9d0-4ce1-8381-394ccae7681f",
   "metadata": {},
   "outputs": [],
   "source": [
    "fig, (ax1, ax2) = plt.subplots(1,2, figsize=(20,8))\n",
    "\n",
    "ax1.plot(rain_raws, label = \"RAWS\")\n",
    "ax2.plot(rain1, label = \"HRRR\")\n",
    "plt.legend()\n",
    "plt.title(\"Hourly Rain Accumulated Data\")"
   ]
  },
  {
   "cell_type": "markdown",
   "id": "d5290011-f1da-4e01-9544-19c605015fd4",
   "metadata": {},
   "source": [
    "## Reconcile Units\n",
    "\n",
    "* [HRRR](https://www.nco.ncep.noaa.gov/pmb/products/hrrr/hrrr.t00z.wrfprsf00.grib2.shtml): units for precipitation rate is [kg/m^2/s]\n",
    "* RAWS units for precipitation is $mm\\cdot h^{-1}$\n",
    "\n",
    "We HRRR to $mm\\cdot h^{-1}$. We utilize the fact that water has a specific density of roughly 1g per cubic cm. So 1km of water, or 1000g of water, spread over 1 $m^2$, or 10,000 $cm^2$, would cover that square meter to a depth of .1 cm, or 1mm. So 1 $kg\\cdot m^{-2}s^{-1}$ is equal to 1 $mm\\cdot s^{-1}$, so we just need to multiply by 3600 seconds per hour to get units of $mm\\cdot h^{-1}$."
   ]
  },
  {
   "cell_type": "code",
   "execution_count": null,
   "id": "6e286d84-3761-4f32-9370-1d3430f0540e",
   "metadata": {},
   "outputs": [],
   "source": [
    "# Confirm units from RAWS data\n",
    "from synoptic.services import variables\n",
    "variables(verbose=\"HIDE\").loc[\"precip_accum\"]"
   ]
  },
  {
   "cell_type": "code",
   "execution_count": null,
   "id": "91e80f4a-35e3-481d-aa98-6c52aa53a352",
   "metadata": {},
   "outputs": [],
   "source": [
    "# Print mean values of each to get a sense of scale of observations\n",
    "print(np.mean(rain_raws))\n",
    "print(np.mean(rain1))"
   ]
  },
  {
   "cell_type": "code",
   "execution_count": null,
   "id": "1b4193a1-3f20-4434-99ed-c7e0647e33c5",
   "metadata": {},
   "outputs": [],
   "source": [
    "# Convert HRRR print mean again\n",
    "\n",
    "print(np.mean(rain_raws))\n",
    "print(np.mean(rain1 * 3600))"
   ]
  },
  {
   "cell_type": "markdown",
   "id": "b91baeed-8035-46d0-ab0c-f568b29c2f68",
   "metadata": {},
   "source": [
    "There is difference between these two, since one is a computational model and the other are ground observations, but it is the same order of magnitude. To confirm this, we will calculate the mean for each station in the data dictionary."
   ]
  },
  {
   "cell_type": "code",
   "execution_count": null,
   "id": "87e2b473-cd6a-427e-8741-56d2feb5538b",
   "metadata": {},
   "outputs": [],
   "source": [
    "# Set up vector of means, not initializing since rain missing from some RAWS locations\n",
    "raws_means = []\n",
    "hrrr_means = []\n",
    "\n",
    "for i, k in enumerate(dat.keys()):\n",
    "    if \"rain\" in dat[k][\"RAWS\"].keys():\n",
    "        raws_means.append(np.nanmean(dat[k][\"RAWS\"][\"rain\"])) \n",
    "        hrrr_means.append(np.mean(dat[k][\"HRRR\"][\"f01\"][\"rain\"] * 3600))\n",
    "\n",
    "# Print summary\n",
    "print(np.mean(raws_means))\n",
    "print(np.mean(hrrr_means))"
   ]
  },
  {
   "cell_type": "markdown",
   "id": "24bfdd7f-9325-47a4-9110-68a67aff7920",
   "metadata": {},
   "source": [
    "Again, these are the same order of magnitude."
   ]
  },
  {
   "cell_type": "markdown",
   "id": "49d3150d-0a7a-488e-bbb2-4349f0119eb6",
   "metadata": {},
   "source": [
    "## Missing Data\n",
    "\n",
    "Synoptic simply excludes missing values from return, instead of filling with NA. Should we:\n",
    "* Fill with NA at the point of data retrieval?\n",
    "* Handle this later in the process?"
   ]
  },
  {
   "cell_type": "code",
   "execution_count": null,
   "id": "9029e493-58b8-49f0-aa5a-6114755516b7",
   "metadata": {},
   "outputs": [],
   "source": [
    "print(f\"Number of queried observations: {len(x['HRRR']['time'])}\")"
   ]
  },
  {
   "cell_type": "code",
   "execution_count": null,
   "id": "eee256c4-dbbc-441e-a48d-2a8b1110f9f9",
   "metadata": {},
   "outputs": [],
   "source": [
    "for k in dat:\n",
    "    print(\"~\"*50)\n",
    "    print(k)\n",
    "    print(f\"Number of RAWS observations: {len(dat[k]['RAWS']['time_raws'])}\")"
   ]
  },
  {
   "cell_type": "markdown",
   "id": "c1c36231-9882-4bd6-b9b0-0fbceb5c059e",
   "metadata": {},
   "source": [
    "## Some Sations Return data every 10min"
   ]
  },
  {
   "cell_type": "code",
   "execution_count": null,
   "id": "0301a252-43f2-4f18-a682-782a1f16912f",
   "metadata": {},
   "outputs": [],
   "source": [
    "dat[\"LIB31_202401\"][\"RAWS\"][\"time_raws\"][0:10]"
   ]
  },
  {
   "cell_type": "code",
   "execution_count": null,
   "id": "53c705c4-55e4-452b-91be-3ec2e2fe3845",
   "metadata": {},
   "outputs": [],
   "source": [
    "dat[\"LIB31_202401\"][\"RAWS\"][\"fm\"][0:10]"
   ]
  },
  {
   "cell_type": "code",
   "execution_count": null,
   "id": "5858cb1c-449c-402a-93a9-815ecdd08c4b",
   "metadata": {},
   "outputs": [],
   "source": []
  }
 ],
 "metadata": {
  "kernelspec": {
   "display_name": "Python 3 (ipykernel)",
   "language": "python",
   "name": "python3"
  },
  "language_info": {
   "codemirror_mode": {
    "name": "ipython",
    "version": 3
   },
   "file_extension": ".py",
   "mimetype": "text/x-python",
   "name": "python",
   "nbconvert_exporter": "python",
   "pygments_lexer": "ipython3",
   "version": "3.9.12"
  }
 },
 "nbformat": 4,
 "nbformat_minor": 5
}
