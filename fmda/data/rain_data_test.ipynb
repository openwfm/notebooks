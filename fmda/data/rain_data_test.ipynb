{
 "cells": [
  {
   "cell_type": "code",
   "execution_count": null,
   "id": "504eb0fe-52e3-41a2-b757-ebef367f48a3",
   "metadata": {},
   "outputs": [],
   "source": [
    "import os\n",
    "import os.path as osp\n",
    "import subprocess\n",
    "import numpy as np\n",
    "import pandas as pd"
   ]
  },
  {
   "cell_type": "markdown",
   "id": "488b205b-18dd-41b0-a1a3-7527afd54aec",
   "metadata": {},
   "source": [
    "# Rain Data Exploration\n",
    "\n",
    "The purpose of this notebook is to explore the rain data from RAWS and HRRR retrieval processes.\n",
    "\n",
    "* RAWS Rain Data:\n",
    "    * [RAWS Definitions](https://www.weather.gov/media/wrh/mesowest/MesoWest_Data_Variables_Definitions.pdf)\n",
    "    * They list hourly rainfall as parameters, but in practice stations only have wide data availability for accumulated precipitation\n",
    "    * This data is potentially flawed when the rain collecting apparatus is full, and will thus register zero new rainfall when the bucket is full.\n",
    "* HRRR Rain Data:\n",
    "    * [HRRR Definitions](https://www.nco.ncep.noaa.gov/pmb/products/hrrr/hrrr.t00z.wrfprsf00.grib2.shtml)\n",
    "    * Both rate and total ($kg\\; m^{-2}s^{-1}$ and $kg\\; m^{-2}$, respectively)"
   ]
  },
  {
   "cell_type": "code",
   "execution_count": null,
   "id": "b46971b5-2419-41c2-974c-d0a649f2c19a",
   "metadata": {},
   "outputs": [],
   "source": [
    "if not osp.exists(\"co_202306.pkl\"):\n",
    "    print(\"Retrieving FMDA data\")\n",
    "    subprocess.call(\"wget -P . https://demo.openwfm.org/web/data/fmda/dicts/co_202306.pkl\", shell=True)\n",
    "    assert osp.exists(\"co_202306.pkl\")    \n",
    "    print(\"Downloaded https://demo.openwfm.org/web/data/fmda/dicts/co_202306.pkl as co_202306.pkl\")"
   ]
  },
  {
   "cell_type": "code",
   "execution_count": null,
   "id": "4eae56e5-115a-418f-9e7e-cb10cfadd082",
   "metadata": {},
   "outputs": [],
   "source": []
  }
 ],
 "metadata": {
  "kernelspec": {
   "display_name": "Python 3 (ipykernel)",
   "language": "python",
   "name": "python3"
  },
  "language_info": {
   "codemirror_mode": {
    "name": "ipython",
    "version": 3
   },
   "file_extension": ".py",
   "mimetype": "text/x-python",
   "name": "python",
   "nbconvert_exporter": "python",
   "pygments_lexer": "ipython3",
   "version": "3.9.12"
  }
 },
 "nbformat": 4,
 "nbformat_minor": 5
}
