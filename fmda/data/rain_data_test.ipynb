{
 "cells": [
  {
   "cell_type": "code",
   "execution_count": null,
   "id": "504eb0fe-52e3-41a2-b757-ebef367f48a3",
   "metadata": {},
   "outputs": [],
   "source": [
    "import os\n",
    "import os.path as osp\n",
    "import subprocess\n",
    "import numpy as np\n",
    "import pandas as pd\n",
    "from datetime import datetime\n",
    "import matplotlib.pyplot as plt"
   ]
  },
  {
   "cell_type": "markdown",
   "id": "488b205b-18dd-41b0-a1a3-7527afd54aec",
   "metadata": {},
   "source": [
    "# Rain Data Exploration\n",
    "\n",
    "The purpose of this notebook is to explore the rain data from RAWS and HRRR retrieval processes.\n",
    "\n",
    "* RAWS Rain Data:\n",
    "    * [RAWS Definitions](https://www.weather.gov/media/wrh/mesowest/MesoWest_Data_Variables_Definitions.pdf)\n",
    "    * They list hourly rainfall as parameters, but in practice stations only have wide data availability for accumulated precipitation\n",
    "    * This data is potentially flawed when the rain collecting apparatus is full, and will thus register zero new rainfall when the bucket is full.\n",
    "* HRRR Rain Data:\n",
    "    * [HRRR Definitions](https://www.nco.ncep.noaa.gov/pmb/products/hrrr/hrrr.t00z.wrfprsf00.grib2.shtml)\n",
    "    * Both rate and total ($kg\\; m^{-2}s^{-1}$ and $kg\\; m^{-2}$, respectively)"
   ]
  },
  {
   "cell_type": "markdown",
   "id": "971b6b28-54f9-41d3-836e-bf6f7a826b1c",
   "metadata": {},
   "source": [
    "## Read FMDA Data Dictionary"
   ]
  },
  {
   "cell_type": "code",
   "execution_count": null,
   "id": "b46971b5-2419-41c2-974c-d0a649f2c19a",
   "metadata": {},
   "outputs": [],
   "source": [
    "if not osp.exists(\"co_202306.pkl\"):\n",
    "    print(\"Retrieving FMDA data\")\n",
    "    subprocess.call(\"wget -P . https://demo.openwfm.org/web/data/fmda/dicts/co_202306.pkl\", shell=True)\n",
    "    assert osp.exists(\"co_202306.pkl\")    \n",
    "    print(\"Downloaded https://demo.openwfm.org/web/data/fmda/dicts/co_202306.pkl as co_202306.pkl\")\n",
    "\n",
    "dat = pd.read_pickle(\"co_202306.pkl\")"
   ]
  },
  {
   "cell_type": "code",
   "execution_count": null,
   "id": "4eae56e5-115a-418f-9e7e-cb10cfadd082",
   "metadata": {},
   "outputs": [],
   "source": [
    "dat.keys()"
   ]
  },
  {
   "cell_type": "markdown",
   "id": "76775237-2690-4920-bf3e-4efdd740b541",
   "metadata": {},
   "source": [
    "## Get Rain Data from a station"
   ]
  },
  {
   "cell_type": "code",
   "execution_count": null,
   "id": "f33302c1-bc46-4740-a880-0cf6248601b6",
   "metadata": {},
   "outputs": [],
   "source": [
    "x = dat[\"CPTC2_202306\"]\n",
    "print(x.keys())\n",
    "print(\"Station location info:\")\n",
    "print(x[\"loc\"])"
   ]
  },
  {
   "cell_type": "code",
   "execution_count": null,
   "id": "015a8546-8b54-4a23-8f95-7be2aae15be1",
   "metadata": {},
   "outputs": [],
   "source": [
    "print(x[\"RAWS\"].keys())\n",
    "rain_raws = x[\"RAWS\"][\"rain\"]\n",
    "precipa_raws = x[\"RAWS\"][\"precip_accum\"]"
   ]
  },
  {
   "cell_type": "code",
   "execution_count": null,
   "id": "59375b5e-e5aa-41b8-8ae5-500f58085280",
   "metadata": {},
   "outputs": [],
   "source": [
    "print(x[\"HRRR\"].keys())\n",
    "rain_hrrr = x[\"HRRR\"][\"rain\"]\n",
    "precipa_hrrr = x[\"HRRR\"][\"precip_accum\"]"
   ]
  },
  {
   "cell_type": "markdown",
   "id": "e744b3d8-865c-4e34-9c6d-08972661c5e6",
   "metadata": {},
   "source": [
    "### Check Time lines up"
   ]
  },
  {
   "cell_type": "code",
   "execution_count": null,
   "id": "6a189964-363e-4fd7-aed4-c255aafe36be",
   "metadata": {},
   "outputs": [],
   "source": [
    "np.mean(x[\"RAWS\"][\"time\"] == x[\"HRRR\"][\"time\"])"
   ]
  },
  {
   "cell_type": "code",
   "execution_count": null,
   "id": "f4552d4d-0a35-4cc0-872c-c14f09020092",
   "metadata": {},
   "outputs": [],
   "source": [
    "# Print max time difference between queried time and actual time returned by RAWS\n",
    "np.max(np.array([datetime.strptime(val, '%Y-%m-%dT%H:%M:%SZ') for val in x[\"RAWS\"][\"time_raws\"]]) - np.array([datetime.strptime(val, '%Y-%m-%dT%H:%M:%SZ') for val in x[\"HRRR\"][\"time\"]]))"
   ]
  },
  {
   "cell_type": "markdown",
   "id": "5b8d611b-a9b9-4d61-82a9-64e2ffe4be5b",
   "metadata": {},
   "source": [
    "## Plot together"
   ]
  },
  {
   "cell_type": "code",
   "execution_count": null,
   "id": "bf2716bd-e9d0-4ce1-8381-394ccae7681f",
   "metadata": {},
   "outputs": [],
   "source": [
    "plt.plot(precipa_raws, label = \"RAWS\")\n",
    "plt.plot(precipa_hrrr, label = \"HRRR\")\n",
    "plt.legend()\n",
    "plt.title(\"Hourly Rain Accumulated Data\")"
   ]
  },
  {
   "cell_type": "code",
   "execution_count": null,
   "id": "149f49d5-d996-424c-8939-38ece341124b",
   "metadata": {},
   "outputs": [],
   "source": []
  }
 ],
 "metadata": {
  "kernelspec": {
   "display_name": "Python 3 (ipykernel)",
   "language": "python",
   "name": "python3"
  },
  "language_info": {
   "codemirror_mode": {
    "name": "ipython",
    "version": 3
   },
   "file_extension": ".py",
   "mimetype": "text/x-python",
   "name": "python",
   "nbconvert_exporter": "python",
   "pygments_lexer": "ipython3",
   "version": "3.9.12"
  }
 },
 "nbformat": 4,
 "nbformat_minor": 5
}
