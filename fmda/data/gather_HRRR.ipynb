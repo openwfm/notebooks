{
 "cells": [
  {
   "cell_type": "markdown",
   "id": "55248b75-ad0a-4a9d-9ebb-6ffbdfe7b429",
   "metadata": {},
   "source": [
    "# Gather HRRR Atmospheric Data\n",
    "\n",
    "The purpose of this notebook is to build time series of atmospheric observations at an arbitrary longitude/latitude coordinate in North America. The data source is the NOAA HRRR product from AWS. See the list of variables [here]().\n",
    "\n",
    "The time series are intended for development and training an ML model of fuel moisture content (FMC). For live deploying an atmospheric model across the country, see the Herbie python package: \n",
    "\n",
    "https://github.com/blaylockbk/Herbie/tree/main/herbie "
   ]
  },
  {
   "cell_type": "code",
   "execution_count": null,
   "id": "cd28b796-4661-4a6a-a84e-14fcba89fe83",
   "metadata": {},
   "outputs": [],
   "source": [
    "# Setup\n",
    "## Packages\n",
    "import os\n",
    "import pandas as pd\n",
    "import numpy as np\n",
    "import xarray as xr\n",
    "from datetime import date, timedelta, datetime\n",
    "import matplotlib.pyplot as plt \n",
    "import pickle\n",
    "## Local modules with very literal names\n",
    "from gather_HRRR import extract_hrrr, gather_hrrr_time_range, download_grib"
   ]
  },
  {
   "cell_type": "code",
   "execution_count": null,
   "id": "92fedaaf-97fa-4626-b3dd-951f0d06172d",
   "metadata": {
    "tags": []
   },
   "outputs": [],
   "source": [
    "# Time period of 1 month of data, June 2022\n",
    "start_time = \"2022-06-01 00:00\"\n",
    "end_time = \"2022-06-30 00:00\""
   ]
  },
  {
   "cell_type": "markdown",
   "id": "8556fbc0-4295-4229-90a8-4f48379d8a29",
   "metadata": {},
   "source": [
    "## Coordinates of Interest\n",
    "\n",
    "Read in data frame of latitude and longitude coordinates that correspond to RAWS station locations. These locations have sensors for FMC, the primary response variable of interest in this larger project."
   ]
  },
  {
   "cell_type": "code",
   "execution_count": null,
   "id": "071d8d7e-6164-4934-900a-8cae98c91e38",
   "metadata": {
    "tags": []
   },
   "outputs": [],
   "source": [
    "# Read in list of RAWS Stations\n",
    "df = pd.read_csv(\"raws_stations_WA.csv\")\n",
    "\n",
    "# Filter to those with complete fmda data\n",
    "df = df[(df[['air_temp', 'relative_humidity', 'precip_accum',\n",
    "       'fuel_moisture', 'wind_speed', 'solar_radiation']]==1).sum(axis=1)==6]\n",
    "\n",
    "# Get list of coords\n",
    "points = list(df[[\"lon\",\"lat\"]].itertuples(index=False,name=None))\n",
    "names = np.unique(df['STID'])\n",
    "\n",
    "print(df.shape)"
   ]
  },
  {
   "cell_type": "code",
   "execution_count": null,
   "id": "693957cd-c655-4647-8c3d-162c8f280789",
   "metadata": {
    "tags": []
   },
   "outputs": [],
   "source": [
    "# Get first 2 station locations\n",
    "points = points[0:2]\n",
    "names = names[0:2]"
   ]
  },
  {
   "cell_type": "markdown",
   "id": "767fc62d-ed82-409f-930e-13cb501b5c9f",
   "metadata": {
    "tags": []
   },
   "source": [
    "## Extract Atmospheric Data\n",
    "\n",
    "Variables of interest and their associated HRRR layer are:\n",
    "* Temperature: \"t2m\", 2m layer\n",
    "* RH: \"r2\", 2m layer\n",
    "* Rain: \"\", surface layer\n",
    "    - \"PRATE\", \"APCP\"\n",
    "* Solar Radiation: \"\", surface layer\n",
    "    - \"DSWRF\", downward short-wave flux\n",
    "    - \"USWRF\", upward short-wave\n",
    "    - \"DLWRF\", upward long-wave\n",
    "    - \"ULWRF\", upward long-wave\n",
    "* Wind: \"\", 10m layer\n",
    "    - \"u10\": Eastward component of wind\n",
    "    - \"v10\": Northward ncomponent of wind"
   ]
  },
  {
   "cell_type": "markdown",
   "id": "36df73a0-2c54-41d8-acec-48afdc503fa0",
   "metadata": {},
   "source": [
    "---\n",
    "\n",
    "## Build Timeseries\n",
    "\n",
    "This next step loops through the hours of the time range given at the beginning of the notebook and,\n",
    "\n",
    "* temporarily downloads grib file at that date\n",
    "* extracts values at desired coordinates from temp file to build time series\n",
    "* delete tempfile before iterating\n",
    "\n",
    "Variables extracted with a pandas dataframe specifying layer and variable name."
   ]
  },
  {
   "cell_type": "code",
   "execution_count": null,
   "id": "ed43c307-ff71-402e-a60a-dbf40cad432a",
   "metadata": {
    "tags": []
   },
   "outputs": [],
   "source": [
    "vs = pd.DataFrame({\n",
    "    'Common Name': ['temp', 'rh', \n",
    "                    'prate', 'dswrf', 'uswrf', 'dlwrf', 'ulwrf',\n",
    "                    'ewind', 'nwind', 'wind'],\n",
    "    'HRRR Name': ['t2m', 'r2', \n",
    "                  'prate', 'dswrf', 'uswrf', 'dlwrf', 'ulwrf',\n",
    "                  'u10', 'v10', 'si10'],\n",
    "    'Layer': ['2m', '2m', \n",
    "              'surface','surface','surface','surface','surface',\n",
    "              '10m', '10m', '10m']\n",
    "})\n",
    "vs"
   ]
  },
  {
   "cell_type": "code",
   "execution_count": null,
   "id": "7c2ab40b-e94b-4b10-a9d0-e3dac754bb83",
   "metadata": {
    "tags": []
   },
   "outputs": [],
   "source": [
    "## Break time period up for ease of running\n",
    "start_time = \"2022-06-01 00:00\"\n",
    "end_time1 = \"2022-06-10 00:00\"\n",
    "end_time2 = \"2022-06-20 00:00\"\n",
    "end_time3 = \"2022-06-30 00:00\"\n",
    "\n",
    "hrrr_dat = gather_hrrr_time_range(\n",
    "    start = end_time1,\n",
    "    end = end_time2,\n",
    "    pts = points,\n",
    "    vs = vs\n",
    ")"
   ]
  },
  {
   "cell_type": "code",
   "execution_count": null,
   "id": "2c08c167-0aee-44c9-83dd-1422dea9c055",
   "metadata": {},
   "outputs": [],
   "source": [
    "print(hrrr_dat[5,0,0]) # Compare to demo notebook\n",
    "print(hrrr_dat[5,1,0])"
   ]
  },
  {
   "cell_type": "code",
   "execution_count": null,
   "id": "0c459aed-a807-4ad9-a4e9-19a94fb45e8a",
   "metadata": {},
   "outputs": [],
   "source": [
    "# Data summary\n",
    "\n",
    "## Simple func to print summary\n",
    "def summary(dat):\n",
    "    ntime = dat.shape[0]\n",
    "    ncoords = dat.shape[1]\n",
    "    nvars = dat.shape[2]\n",
    "    \n",
    "    print('-'*25)\n",
    "    print('Sample Size:')\n",
    "    print('Time: '+str(ntime))\n",
    "    print('Coordinates: '+str(ncoords))\n",
    "    print('Atmospheric Vars: '+str(nvars))\n",
    "    print('-'*25)\n",
    "    \n",
    "summary(hrrr_dat)"
   ]
  },
  {
   "cell_type": "code",
   "execution_count": null,
   "id": "8af981c6-54ce-4451-af3c-508d76abddd3",
   "metadata": {
    "tags": []
   },
   "outputs": [],
   "source": [
    "# Plot a couple time series at a given pt\n",
    "temps2 = hrrr_dat[:,1,0]\n",
    "plt.plot(temps2)"
   ]
  },
  {
   "cell_type": "markdown",
   "id": "5cfb0615-832b-4e52-8212-6524ea4b8e14",
   "metadata": {},
   "source": [
    "## Write Output"
   ]
  },
  {
   "cell_type": "code",
   "execution_count": null,
   "id": "18e2a2a5-62c3-41f7-97ec-a94602c53a9f",
   "metadata": {
    "tags": []
   },
   "outputs": [],
   "source": [
    "hrrr_dict={\n",
    "    'time': pd.date_range(end_time1, end_time2, freq=\"1H\"),\n",
    "    'coords': points,\n",
    "    'data': hrrr_dat,\n",
    "    'variables': vs\n",
    "}"
   ]
  },
  {
   "cell_type": "code",
   "execution_count": null,
   "id": "9efafa34-5882-4a47-b708-823f5e6de01d",
   "metadata": {
    "tags": []
   },
   "outputs": [],
   "source": [
    "import pickle\n",
    "\n",
    "filename='hrrr_'+end_time1[0:10:1]+'.pickle' ## NOTE: assumes date format \"%Y-%m-%d %H:%M\"\n",
    "print(filename)\n",
    "\n",
    "with open(filename, 'wb') as handle:\n",
    "    pickle.dump(hrrr_dict, handle, protocol=pickle.HIGHEST_PROTOCOL)"
   ]
  },
  {
   "cell_type": "markdown",
   "id": "784344d3-7ec4-4047-82ca-b402018603f6",
   "metadata": {},
   "source": [
    "## Sources\n",
    "\n",
    "* https://registry.opendata.aws/noaa-hrrr-pds/\n",
    "\n",
    "* https://spire.com/tutorial/spire-weather-tutorial-intro-to-processing-grib2-data-with-python/\n",
    "\n",
    "* https://github.com/microsoft/AIforEarthDataSets/blob/main/data/noaa-hrrr.md\n",
    "\n",
    "* https://nbviewer.org/github/microsoft/AIforEarthDataSets/blob/main/data/noaa-hrrr.ipynb\n",
    "\n",
    "* https://github.com/ecmwf/cfgrib/issues/63\n",
    "\n",
    "* https://github.com/blaylockbk/Herbie/discussions/45"
   ]
  }
 ],
 "metadata": {
  "kernelspec": {
   "display_name": "Python 3 (ipykernel)",
   "language": "python",
   "name": "python3"
  },
  "language_info": {
   "codemirror_mode": {
    "name": "ipython",
    "version": 3
   },
   "file_extension": ".py",
   "mimetype": "text/x-python",
   "name": "python",
   "nbconvert_exporter": "python",
   "pygments_lexer": "ipython3",
   "version": "3.11.3"
  }
 },
 "nbformat": 4,
 "nbformat_minor": 5
}
