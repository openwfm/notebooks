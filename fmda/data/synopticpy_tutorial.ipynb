{
 "cells": [
  {
   "cell_type": "markdown",
   "id": "f1f4cc18-d23f-48ea-84dc-b0328a65e8e5",
   "metadata": {},
   "source": [
    "# Collect RAWS Data with SynopticPy"
   ]
  },
  {
   "cell_type": "markdown",
   "id": "84ed774d-7bef-48e7-b9a6-8f4ba4e17d81",
   "metadata": {},
   "source": [
    "## Setup"
   ]
  },
  {
   "cell_type": "code",
   "execution_count": null,
   "id": "509b32fd-9d6b-4582-b724-4d2a094a6832",
   "metadata": {},
   "outputs": [],
   "source": [
    "import matplotlib.pyplot as plt\n",
    "from datetime import datetime\n",
    "\n",
    "from synoptic.services import stations_timeseries"
   ]
  },
  {
   "cell_type": "markdown",
   "id": "4fbefa25-ac25-4164-adbc-187f9740b6b8",
   "metadata": {},
   "source": [
    "## Station Time Series"
   ]
  },
  {
   "cell_type": "code",
   "execution_count": null,
   "id": "8f05be2b-0120-4637-b5d2-a258211b2650",
   "metadata": {},
   "outputs": [],
   "source": [
    "params = dict(\n",
    "    stid=[\"PLFI1\"],\n",
    "    vars=[\"air_temp\", \"relative_humidity\", \"precip_accum\", \"fuel_moisture\", \"wind_speed\", \"solar_radiation\", \"soil_moisture\"],\n",
    "    start=datetime(2024, 1, 1),\n",
    "    end=datetime(2024, 6, 1),\n",
    ")\n",
    "\n",
    "a = stations_timeseries(verbose=\"HIDE\", **params)\n",
    "\n",
    "a"
   ]
  },
  {
   "cell_type": "code",
   "execution_count": null,
   "id": "8ce7b02c-4149-443e-b29d-da8cdf12583e",
   "metadata": {},
   "outputs": [],
   "source": [
    "type(a)"
   ]
  },
  {
   "cell_type": "code",
   "execution_count": null,
   "id": "880122b3-f947-4d0f-b391-841db74c8eef",
   "metadata": {},
   "outputs": [],
   "source": [
    "import numpy as np\n",
    "np.diff(a.precip_accum, 1)"
   ]
  },
  {
   "cell_type": "code",
   "execution_count": null,
   "id": "7068d270-d6e8-4afc-9bfe-881e8d7d4c6f",
   "metadata": {},
   "outputs": [],
   "source": [
    "a.precip_accum"
   ]
  },
  {
   "cell_type": "code",
   "execution_count": null,
   "id": "e711774a-f8be-4f60-ac8c-8908f5c192ec",
   "metadata": {},
   "outputs": [],
   "source": [
    "print(f'Station Elevation: {a.attrs[\"ELEVATION\"]}')\n",
    "print(f'Lat: {a.attrs[\"latitude\"]}')\n",
    "print(f'Lon: {a.attrs[\"longitude\"]}')\n",
    "print(f'Temp Units: {a.attrs[\"UNITS\"][\"air_temp\"]}')\n",
    "print(f'Wind Units: {a.attrs[\"UNITS\"][\"wind_speed\"]}')\n",
    "# print(f'Solar Rad. Units: {a.attrs[\"UNITS\"][\"solar_radiation\"]}')"
   ]
  },
  {
   "cell_type": "code",
   "execution_count": null,
   "id": "2058d705-a2d3-48d9-9151-a4536512057e",
   "metadata": {},
   "outputs": [],
   "source": [
    "a.attrs"
   ]
  },
  {
   "cell_type": "code",
   "execution_count": null,
   "id": "ccddffba-f785-4fb8-a053-b87ad648ef9c",
   "metadata": {},
   "outputs": [],
   "source": [
    "plt.plot(a.fuel_moisture)"
   ]
  },
  {
   "cell_type": "code",
   "execution_count": null,
   "id": "6901c78a-8f6f-4af7-8fbe-e0e15dea0b6c",
   "metadata": {},
   "outputs": [],
   "source": []
  }
 ],
 "metadata": {
  "kernelspec": {
   "display_name": "Python 3 (ipykernel)",
   "language": "python",
   "name": "python3"
  },
  "language_info": {
   "codemirror_mode": {
    "name": "ipython",
    "version": 3
   },
   "file_extension": ".py",
   "mimetype": "text/x-python",
   "name": "python",
   "nbconvert_exporter": "python",
   "pygments_lexer": "ipython3",
   "version": "3.12.5"
  }
 },
 "nbformat": 4,
 "nbformat_minor": 5
}
