{
 "cells": [
  {
   "cell_type": "markdown",
   "id": "f1f4cc18-d23f-48ea-84dc-b0328a65e8e5",
   "metadata": {},
   "source": [
    "# Collect RAWS Data with SynopticPy"
   ]
  },
  {
   "cell_type": "markdown",
   "id": "84ed774d-7bef-48e7-b9a6-8f4ba4e17d81",
   "metadata": {},
   "source": [
    "## Setup"
   ]
  },
  {
   "cell_type": "code",
   "execution_count": null,
   "id": "509b32fd-9d6b-4582-b724-4d2a094a6832",
   "metadata": {},
   "outputs": [],
   "source": [
    "import numpy as np\n",
    "import matplotlib.pyplot as plt\n",
    "from datetime import datetime\n",
    "\n",
    "from synoptic.services import stations_timeseries, stations_metadata"
   ]
  },
  {
   "cell_type": "markdown",
   "id": "4fbefa25-ac25-4164-adbc-187f9740b6b8",
   "metadata": {},
   "source": [
    "## Station Time Series"
   ]
  },
  {
   "cell_type": "code",
   "execution_count": null,
   "id": "8f05be2b-0120-4637-b5d2-a258211b2650",
   "metadata": {},
   "outputs": [],
   "source": [
    "params = dict(\n",
    "    stid=[\"KAFF\"],\n",
    "    vars=[\"air_temp\", \"relative_humidity\", \"precip_accum\", \"fuel_moisture\", \"wind_speed\", \"solar_radiation\"],\n",
    "    start=datetime(2023, 2, 1),\n",
    "    end=datetime(2024, 1, 31),\n",
    ")\n",
    "\n",
    "a = stations_timeseries(**params)\n",
    "\n",
    "a"
   ]
  },
  {
   "cell_type": "code",
   "execution_count": null,
   "id": "8ce7b02c-4149-443e-b29d-da8cdf12583e",
   "metadata": {},
   "outputs": [],
   "source": [
    "type(a)"
   ]
  },
  {
   "cell_type": "code",
   "execution_count": null,
   "id": "e711774a-f8be-4f60-ac8c-8908f5c192ec",
   "metadata": {},
   "outputs": [],
   "source": [
    "print(f'Station Elevation: {a.attrs[\"ELEVATION\"]}')\n",
    "print(f'Lat: {a.attrs[\"latitude\"]}')\n",
    "print(f'Lon: {a.attrs[\"longitude\"]}')\n",
    "print(f'Temp Units: {a.attrs[\"UNITS\"][\"air_temp\"]}')"
   ]
  },
  {
   "cell_type": "code",
   "execution_count": null,
   "id": "2058d705-a2d3-48d9-9151-a4536512057e",
   "metadata": {},
   "outputs": [],
   "source": [
    "a.attrs"
   ]
  },
  {
   "cell_type": "code",
   "execution_count": null,
   "id": "6901c78a-8f6f-4af7-8fbe-e0e15dea0b6c",
   "metadata": {},
   "outputs": [],
   "source": [
    "a.attrs[\"UNITS\"][\"air_temp\"] == \"Celsius\""
   ]
  },
  {
   "cell_type": "code",
   "execution_count": null,
   "id": "2dcb86be-78ef-447c-be97-b4aa6ea7a88e",
   "metadata": {},
   "outputs": [],
   "source": [
    "a.attrs[\"UNITS\"]['elevation']"
   ]
  },
  {
   "cell_type": "markdown",
   "id": "4a7d9339-faf4-4f13-9fb8-c2148c9f9ed7",
   "metadata": {},
   "source": [
    "## Get Data For Bounding Box\n",
    "\n",
    "For any moderate large bounding box, the package returns errors that too many station hours were requested. We will explore getting a paid token to get around this, but for now we will loop over available stations in the bounding box to collect data."
   ]
  },
  {
   "cell_type": "code",
   "execution_count": null,
   "id": "2a6159b2-b435-42a4-84c1-12e3e9d13d83",
   "metadata": {},
   "outputs": [],
   "source": [
    "box = [-105, 37, -103, 39]\n",
    "# Find all stations with fuel moisture\n",
    "sts = stations_metadata(\n",
    "    bbox=box,\n",
    "    vars=[\"fuel_moisture\"]\n",
    ")"
   ]
  },
  {
   "cell_type": "code",
   "execution_count": null,
   "id": "7fc428c1-b10b-402d-81f7-b4a2dced341b",
   "metadata": {},
   "outputs": [],
   "source": [
    "sts"
   ]
  },
  {
   "cell_type": "code",
   "execution_count": null,
   "id": "5af2ebba-e795-48c2-b15a-6ea012934c0e",
   "metadata": {},
   "outputs": [],
   "source": [
    "params = dict(\n",
    "    stid=[\"PLACEHOLDER\"], # change this in the loop\n",
    "    vars=[\"air_temp\", \"relative_humidity\", \"precip_accum\", \"fuel_moisture\", \"wind_speed\", \"solar_radiation\"],\n",
    "    start=datetime(2023, 6, 1),\n",
    "    end=datetime(2023, 6, 30),\n",
    ")"
   ]
  },
  {
   "cell_type": "code",
   "execution_count": null,
   "id": "58b809d2-fa64-43f8-a22f-e2cf870965d8",
   "metadata": {},
   "outputs": [],
   "source": [
    "# Set up final data dictionary\n",
    "raws_dict = {}"
   ]
  },
  {
   "cell_type": "code",
   "execution_count": null,
   "id": "f4c01d8c-9bf4-477e-bb77-667d189fa49a",
   "metadata": {},
   "outputs": [],
   "source": [
    "def format_raws_df(df):\n",
    "    # Given input dataframe (the output of retrieve_raws_api), return formatted dictionary\n",
    "    # Inputs:\n",
    "    # df: (dataframe)\n",
    "    # Returns: fmda dictionary\n",
    "\n",
    "    ## Format Return Dictionaries\n",
    "    loc = {\n",
    "        \"STID\": df.attrs[\"STID\"],\n",
    "        'lat' : df.attrs['latitude'],\n",
    "        'lon' : df.attrs['longitude'],\n",
    "        'elev': df.attrs[\"ELEVATION\"]\n",
    "    }\n",
    "    \n",
    "    ## Extract times from dataframe index\n",
    "    times = df.index.strftime('%Y-%m-%dT%H:%M:%SZ').to_numpy() # convert index to utc time\n",
    "    ## Convert dataframe to dictionary\n",
    "    raws = df.to_dict(orient = \"list\")\n",
    "    \n",
    "    # Convert lists to NumPy arrays\n",
    "    raws = {key: np.array(value) for key, value in raws.items()}\n",
    "\n",
    "    raws[\"time_raws\"]=times\n",
    "    raws[\"hours\"]=len(times)\n",
    "    \n",
    "    ## Convert C to K \n",
    "    if df.attrs[\"UNITS\"][\"air_temp\"] == \"Celsius\":\n",
    "        print(\"Converting RAWS temp from C to K\")\n",
    "        raws[\"air_temp\"] = raws[\"air_temp\"]+273.15\n",
    "\n",
    "    return loc, raws"
   ]
  },
  {
   "cell_type": "code",
   "execution_count": null,
   "id": "37fa1ec6-2df7-4754-8b65-eb42c07198b8",
   "metadata": {},
   "outputs": [],
   "source": [
    "for st in sts:\n",
    "    print(\"~\"*50)\n",
    "    print(f\"Collecting data for {st}\")\n",
    "    params[\"stid\"] = [st]\n",
    "    try:\n",
    "        dat = stations_timeseries(verbose=\"HIDE\", **params)\n",
    "\n",
    "        if \"fuel_moisture\" in dat.columns:\n",
    "            print(\"Collected FMC data\")\n",
    "            loc, raws = format_raws_df(dat)\n",
    "            raws_dict[st] = {\"loc\":loc, \"RAWS\": raws}\n",
    "        else:\n",
    "            print(\"No FMC found for this station and time\")\n",
    "    except AssertionError as e:\n",
    "        # Error handling behavior\n",
    "        print(\"AssertionError caught:\", e)\n",
    "        # Other behavior you want to execute if AssertionError is caught\n"
   ]
  },
  {
   "cell_type": "code",
   "execution_count": null,
   "id": "5916c7da-297b-4721-9160-ee98b13714c5",
   "metadata": {},
   "outputs": [],
   "source": [
    "# Write raws_dict pickle file use for testing in other areas.\n",
    "import pickle\n",
    "\n",
    "with open('test_raws_dict.pickle', 'wb') as handle:\n",
    "    pickle.dump(raws_dict, handle, protocol=pickle.HIGHEST_PROTOCOL)"
   ]
  },
  {
   "cell_type": "code",
   "execution_count": null,
   "id": "8c437db7-1840-46dd-a125-dc8d9d8c6451",
   "metadata": {},
   "outputs": [],
   "source": []
  },
  {
   "cell_type": "code",
   "execution_count": null,
   "id": "71776a68-187b-4b00-9a55-48c4ce831057",
   "metadata": {},
   "outputs": [],
   "source": []
  }
 ],
 "metadata": {
  "kernelspec": {
   "display_name": "Python 3 (ipykernel)",
   "language": "python",
   "name": "python3"
  },
  "language_info": {
   "codemirror_mode": {
    "name": "ipython",
    "version": 3
   },
   "file_extension": ".py",
   "mimetype": "text/x-python",
   "name": "python",
   "nbconvert_exporter": "python",
   "pygments_lexer": "ipython3",
   "version": "3.9.12"
  }
 },
 "nbformat": 4,
 "nbformat_minor": 5
}
