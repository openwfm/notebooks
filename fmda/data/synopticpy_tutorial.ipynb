{
 "cells": [
  {
   "cell_type": "markdown",
   "id": "f1f4cc18-d23f-48ea-84dc-b0328a65e8e5",
   "metadata": {},
   "source": [
    "# Collect RAWS Data with SynopticPy"
   ]
  },
  {
   "cell_type": "markdown",
   "id": "84ed774d-7bef-48e7-b9a6-8f4ba4e17d81",
   "metadata": {},
   "source": [
    "## Setup"
   ]
  },
  {
   "cell_type": "code",
   "execution_count": 1,
   "id": "509b32fd-9d6b-4582-b724-4d2a094a6832",
   "metadata": {},
   "outputs": [
    {
     "name": "stderr",
     "output_type": "stream",
     "text": [
      "C:\\Users\\jhirs\\anaconda3\\lib\\site-packages\\synoptic\\accessors.py:28: UserWarning: map making not available without Brian's cartopy_tools\n",
      "  warnings.warn(\"map making not available without Brian's cartopy_tools\")\n",
      "C:\\Users\\jhirs\\anaconda3\\lib\\site-packages\\requests\\__init__.py:109: RequestsDependencyWarning: urllib3 (1.26.15) or chardet (5.1.0)/charset_normalizer (2.0.12) doesn't match a supported version!\n",
      "  warnings.warn(\n"
     ]
    }
   ],
   "source": [
    "import matplotlib.pyplot as plt\n",
    "from datetime import datetime\n",
    "\n",
    "from synoptic.services import stations_timeseries"
   ]
  },
  {
   "cell_type": "markdown",
   "id": "4fbefa25-ac25-4164-adbc-187f9740b6b8",
   "metadata": {},
   "source": [
    "## Station Time Series"
   ]
  },
  {
   "cell_type": "code",
   "execution_count": 2,
   "id": "8f05be2b-0120-4637-b5d2-a258211b2650",
   "metadata": {},
   "outputs": [
    {
     "name": "stdout",
     "output_type": "stream",
     "text": [
      "\n",
      " 🚚💨 Speedy Delivery from Synoptic API [timeseries]: https://api.synopticdata.com/v2/stations/timeseries?stid=NWRU1&vars=air_temp,relative_humidity,precip_accum,fuel_moisture,wind_speed,solar_radiation&start=202308150000&end=202308180000&token=🙈HIDDEN\n",
      "\n"
     ]
    },
    {
     "data": {
      "text/html": [
       "<div>\n",
       "<style scoped>\n",
       "    .dataframe tbody tr th:only-of-type {\n",
       "        vertical-align: middle;\n",
       "    }\n",
       "\n",
       "    .dataframe tbody tr th {\n",
       "        vertical-align: top;\n",
       "    }\n",
       "\n",
       "    .dataframe thead th {\n",
       "        text-align: right;\n",
       "    }\n",
       "</style>\n",
       "<table border=\"1\" class=\"dataframe\">\n",
       "  <thead>\n",
       "    <tr style=\"text-align: right;\">\n",
       "      <th></th>\n",
       "      <th>air_temp</th>\n",
       "      <th>fuel_moisture</th>\n",
       "      <th>precip_accum</th>\n",
       "      <th>relative_humidity</th>\n",
       "      <th>solar_radiation</th>\n",
       "      <th>wind_speed</th>\n",
       "    </tr>\n",
       "    <tr>\n",
       "      <th>date_time</th>\n",
       "      <th></th>\n",
       "      <th></th>\n",
       "      <th></th>\n",
       "      <th></th>\n",
       "      <th></th>\n",
       "      <th></th>\n",
       "    </tr>\n",
       "  </thead>\n",
       "  <tbody>\n",
       "    <tr>\n",
       "      <th>2023-08-15 00:04:00+00:00</th>\n",
       "      <td>26.111</td>\n",
       "      <td>8.3</td>\n",
       "      <td>374.142</td>\n",
       "      <td>26.0</td>\n",
       "      <td>336.0</td>\n",
       "      <td>1.343</td>\n",
       "    </tr>\n",
       "    <tr>\n",
       "      <th>2023-08-15 01:04:00+00:00</th>\n",
       "      <td>25.556</td>\n",
       "      <td>8.0</td>\n",
       "      <td>374.142</td>\n",
       "      <td>27.0</td>\n",
       "      <td>314.0</td>\n",
       "      <td>1.343</td>\n",
       "    </tr>\n",
       "    <tr>\n",
       "      <th>2023-08-15 02:04:00+00:00</th>\n",
       "      <td>22.222</td>\n",
       "      <td>7.9</td>\n",
       "      <td>374.142</td>\n",
       "      <td>38.0</td>\n",
       "      <td>109.0</td>\n",
       "      <td>0.895</td>\n",
       "    </tr>\n",
       "    <tr>\n",
       "      <th>2023-08-15 03:04:00+00:00</th>\n",
       "      <td>16.111</td>\n",
       "      <td>8.4</td>\n",
       "      <td>374.142</td>\n",
       "      <td>60.0</td>\n",
       "      <td>3.0</td>\n",
       "      <td>0.000</td>\n",
       "    </tr>\n",
       "    <tr>\n",
       "      <th>2023-08-15 04:04:00+00:00</th>\n",
       "      <td>14.444</td>\n",
       "      <td>9.1</td>\n",
       "      <td>374.142</td>\n",
       "      <td>66.0</td>\n",
       "      <td>0.0</td>\n",
       "      <td>0.000</td>\n",
       "    </tr>\n",
       "    <tr>\n",
       "      <th>...</th>\n",
       "      <td>...</td>\n",
       "      <td>...</td>\n",
       "      <td>...</td>\n",
       "      <td>...</td>\n",
       "      <td>...</td>\n",
       "      <td>...</td>\n",
       "    </tr>\n",
       "    <tr>\n",
       "      <th>2023-08-17 19:04:00+00:00</th>\n",
       "      <td>24.444</td>\n",
       "      <td>10.2</td>\n",
       "      <td>394.970</td>\n",
       "      <td>46.0</td>\n",
       "      <td>398.0</td>\n",
       "      <td>0.000</td>\n",
       "    </tr>\n",
       "    <tr>\n",
       "      <th>2023-08-17 20:04:00+00:00</th>\n",
       "      <td>16.111</td>\n",
       "      <td>11.3</td>\n",
       "      <td>395.732</td>\n",
       "      <td>83.0</td>\n",
       "      <td>302.0</td>\n",
       "      <td>0.895</td>\n",
       "    </tr>\n",
       "    <tr>\n",
       "      <th>2023-08-17 21:04:00+00:00</th>\n",
       "      <td>17.222</td>\n",
       "      <td>17.7</td>\n",
       "      <td>395.732</td>\n",
       "      <td>83.0</td>\n",
       "      <td>83.0</td>\n",
       "      <td>0.895</td>\n",
       "    </tr>\n",
       "    <tr>\n",
       "      <th>2023-08-17 22:04:00+00:00</th>\n",
       "      <td>22.778</td>\n",
       "      <td>19.0</td>\n",
       "      <td>395.732</td>\n",
       "      <td>46.0</td>\n",
       "      <td>487.0</td>\n",
       "      <td>0.895</td>\n",
       "    </tr>\n",
       "    <tr>\n",
       "      <th>2023-08-17 23:04:00+00:00</th>\n",
       "      <td>22.222</td>\n",
       "      <td>14.6</td>\n",
       "      <td>395.732</td>\n",
       "      <td>51.0</td>\n",
       "      <td>307.0</td>\n",
       "      <td>0.448</td>\n",
       "    </tr>\n",
       "  </tbody>\n",
       "</table>\n",
       "<p>72 rows × 6 columns</p>\n",
       "</div>"
      ],
      "text/plain": [
       "                           air_temp  fuel_moisture  precip_accum  \\\n",
       "date_time                                                          \n",
       "2023-08-15 00:04:00+00:00    26.111            8.3       374.142   \n",
       "2023-08-15 01:04:00+00:00    25.556            8.0       374.142   \n",
       "2023-08-15 02:04:00+00:00    22.222            7.9       374.142   \n",
       "2023-08-15 03:04:00+00:00    16.111            8.4       374.142   \n",
       "2023-08-15 04:04:00+00:00    14.444            9.1       374.142   \n",
       "...                             ...            ...           ...   \n",
       "2023-08-17 19:04:00+00:00    24.444           10.2       394.970   \n",
       "2023-08-17 20:04:00+00:00    16.111           11.3       395.732   \n",
       "2023-08-17 21:04:00+00:00    17.222           17.7       395.732   \n",
       "2023-08-17 22:04:00+00:00    22.778           19.0       395.732   \n",
       "2023-08-17 23:04:00+00:00    22.222           14.6       395.732   \n",
       "\n",
       "                           relative_humidity  solar_radiation  wind_speed  \n",
       "date_time                                                                  \n",
       "2023-08-15 00:04:00+00:00               26.0            336.0       1.343  \n",
       "2023-08-15 01:04:00+00:00               27.0            314.0       1.343  \n",
       "2023-08-15 02:04:00+00:00               38.0            109.0       0.895  \n",
       "2023-08-15 03:04:00+00:00               60.0              3.0       0.000  \n",
       "2023-08-15 04:04:00+00:00               66.0              0.0       0.000  \n",
       "...                                      ...              ...         ...  \n",
       "2023-08-17 19:04:00+00:00               46.0            398.0       0.000  \n",
       "2023-08-17 20:04:00+00:00               83.0            302.0       0.895  \n",
       "2023-08-17 21:04:00+00:00               83.0             83.0       0.895  \n",
       "2023-08-17 22:04:00+00:00               46.0            487.0       0.895  \n",
       "2023-08-17 23:04:00+00:00               51.0            307.0       0.448  \n",
       "\n",
       "[72 rows x 6 columns]"
      ]
     },
     "execution_count": 2,
     "metadata": {},
     "output_type": "execute_result"
    }
   ],
   "source": [
    "params = dict(\n",
    "    stid=[\"NWRU1\"],\n",
    "    vars=[\"air_temp\", \"relative_humidity\", \"precip_accum\", \"fuel_moisture\", \"wind_speed\", \"solar_radiation\"],\n",
    "    start=datetime(2023, 8, 15),\n",
    "    end=datetime(2023, 8, 18),\n",
    ")\n",
    "\n",
    "a = stations_timeseries(verbose=\"HIDE\", **params)\n",
    "\n",
    "a"
   ]
  },
  {
   "cell_type": "code",
   "execution_count": 3,
   "id": "8ce7b02c-4149-443e-b29d-da8cdf12583e",
   "metadata": {},
   "outputs": [
    {
     "data": {
      "text/plain": [
       "pandas.core.frame.DataFrame"
      ]
     },
     "execution_count": 3,
     "metadata": {},
     "output_type": "execute_result"
    }
   ],
   "source": [
    "type(a)"
   ]
  },
  {
   "cell_type": "code",
   "execution_count": 4,
   "id": "e711774a-f8be-4f60-ac8c-8908f5c192ec",
   "metadata": {},
   "outputs": [
    {
     "name": "stdout",
     "output_type": "stream",
     "text": [
      "Station Elevation: 8280\n",
      "Lat: 40.6125\n",
      "Lon: -111.09833\n",
      "Temp Units: Celsius\n"
     ]
    }
   ],
   "source": [
    "print(f'Station Elevation: {a.attrs[\"ELEVATION\"]}')\n",
    "print(f'Lat: {a.attrs[\"latitude\"]}')\n",
    "print(f'Lon: {a.attrs[\"longitude\"]}')\n",
    "print(f'Temp Units: {a.attrs[\"UNITS\"][\"air_temp\"]}')"
   ]
  },
  {
   "cell_type": "code",
   "execution_count": 5,
   "id": "2058d705-a2d3-48d9-9151-a4536512057e",
   "metadata": {},
   "outputs": [
    {
     "data": {
      "text/plain": [
       "{'ID': 1496,\n",
       " 'STID': 'NWRU1',\n",
       " 'NAME': 'NORWAY',\n",
       " 'ELEVATION': 8280,\n",
       " 'STATUS': 'ACTIVE',\n",
       " 'MNET_ID': 2,\n",
       " 'STATE': 'UT',\n",
       " 'TIMEZONE': 'America/Denver',\n",
       " 'ELEV_DEM': 8251.3,\n",
       " 'PERIOD_OF_RECORD': {'start': '1998-07-28T00:00:00Z',\n",
       "  'end': '2024-02-12T20:04:00Z'},\n",
       " 'UNITS': {'position': 'm',\n",
       "  'elevation': 'ft',\n",
       "  'precip_accum': 'Millimeters',\n",
       "  'solar_radiation': 'W/m**2',\n",
       "  'air_temp': 'Celsius',\n",
       "  'fuel_moisture': 'gm',\n",
       "  'relative_humidity': '%',\n",
       "  'wind_speed': 'm/s'},\n",
       " 'QC_FLAGGED': False,\n",
       " 'RESTRICTED': False,\n",
       " 'RENAMED': {'air_temp_set_1': 'air_temp',\n",
       "  'fuel_moisture_set_1': 'fuel_moisture',\n",
       "  'precip_accum_set_1': 'precip_accum',\n",
       "  'relative_humidity_set_1': 'relative_humidity',\n",
       "  'solar_radiation_set_1': 'solar_radiation',\n",
       "  'wind_speed_set_1': 'wind_speed'},\n",
       " 'latitude': 40.6125,\n",
       " 'longitude': -111.09833,\n",
       " 'SUMMARY': {'NUMBER_OF_OBJECTS': 1,\n",
       "  'RESPONSE_CODE': 1,\n",
       "  'RESPONSE_MESSAGE': 'OK',\n",
       "  'METADATA_RESPONSE_TIME': '415.1 ms',\n",
       "  'DATA_QUERY_TIME': '13.7 ms',\n",
       "  'QC_QUERY_TIME': '5.2 ms',\n",
       "  'DATA_PARSING_TIME': '2.0 ms',\n",
       "  'TOTAL_DATA_TIME': '21.1 ms',\n",
       "  'VERSION': 'v2.23.1'},\n",
       " 'QC_SUMMARY': {'QC_CHECKS_APPLIED': ['sl_range_check'],\n",
       "  'TOTAL_OBSERVATIONS_FLAGGED': 0,\n",
       "  'PERCENT_OF_TOTAL_OBSERVATIONS_FLAGGED': 0.0},\n",
       " 'SENSOR_VARIABLES': {'precip_accum': {'precip_accum_set_1': {}},\n",
       "  'solar_radiation': {'solar_radiation_set_1': {}},\n",
       "  'air_temp': {'air_temp_set_1': {}},\n",
       "  'fuel_moisture': {'fuel_moisture_set_1': {}},\n",
       "  'relative_humidity': {'relative_humidity_set_1': {}},\n",
       "  'wind_speed': {'wind_speed_set_1': {}}},\n",
       " 'params': {'stid': ['NWRU1'],\n",
       "  'vars': ['air_temp',\n",
       "   'relative_humidity',\n",
       "   'precip_accum',\n",
       "   'fuel_moisture',\n",
       "   'wind_speed',\n",
       "   'solar_radiation'],\n",
       "  'start': datetime.datetime(2023, 8, 15, 0, 0),\n",
       "  'end': datetime.datetime(2023, 8, 18, 0, 0)},\n",
       " 'service': 'stations_timeseries'}"
      ]
     },
     "execution_count": 5,
     "metadata": {},
     "output_type": "execute_result"
    }
   ],
   "source": [
    "a.attrs"
   ]
  },
  {
   "cell_type": "code",
   "execution_count": null,
   "id": "6901c78a-8f6f-4af7-8fbe-e0e15dea0b6c",
   "metadata": {},
   "outputs": [],
   "source": []
  }
 ],
 "metadata": {
  "kernelspec": {
   "display_name": "Python 3 (ipykernel)",
   "language": "python",
   "name": "python3"
  },
  "language_info": {
   "codemirror_mode": {
    "name": "ipython",
    "version": 3
   },
   "file_extension": ".py",
   "mimetype": "text/x-python",
   "name": "python",
   "nbconvert_exporter": "python",
   "pygments_lexer": "ipython3",
   "version": "3.9.12"
  }
 },
 "nbformat": 4,
 "nbformat_minor": 5
}
