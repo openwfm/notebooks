{
 "cells": [
  {
   "cell_type": "code",
   "execution_count": 1,
   "id": "5db541f3-072f-4ac4-88fe-9dd744188c26",
   "metadata": {},
   "outputs": [
    {
     "name": "stdout",
     "output_type": "stream",
     "text": [
      "t2 correctly increments by one hour.\n",
      "DatetimeIndex(['2023-01-01 12:00:00', '2023-01-01 13:00:00',\n",
      "               '2023-01-01 14:00:00', '2023-01-01 15:00:00'],\n",
      "              dtype='datetime64[ns]', freq='H')\n",
      "[10.         16.66666667 18.33333333 15.        ]\n"
     ]
    }
   ],
   "source": [
    "import numpy as np\n",
    "import pandas as pd\n",
    "\n",
    "# Sample data: Replace these with your actual datetime arrays and value arrays\n",
    "t1 = pd.to_datetime(['2023-01-01 12:00', '2023-01-01 13:30', '2023-01-01 15:00'])\n",
    "v1 = np.array([10, 20, 15])\n",
    "\n",
    "t2 = pd.date_range(start='2023-01-01 12:00', periods=4, freq='H')\n",
    "\n",
    "# Create pandas Series from t1 and v1\n",
    "series_v1 = pd.Series(data=v1, index=t1)\n",
    "\n",
    "# Check that t2 increments by one hour\n",
    "if all(t2 == pd.date_range(start=t2[0], periods=len(t2), freq='H')):\n",
    "    print(\"t2 correctly increments by one hour.\")\n",
    "else:\n",
    "    print(\"Error: t2 does not increment correctly by one hour.\")\n",
    "\n",
    "# Interpolate (linearly) and extrapolate at endpoints\n",
    "series_v3 = series_v1.reindex(series_v1.index.union(t2)).interpolate(method='time').reindex(t2)\n",
    "\n",
    "# Check for need to extrapolate by constant at the endpoints\n",
    "if t2[0] < series_v1.index[0]:\n",
    "    series_v3[t2[0]] = series_v1.iloc[0]\n",
    "if t2[-1] > series_v1.index[-1]:\n",
    "    series_v3[t2[-1]] = series_v1.iloc[-1]\n",
    "\n",
    "# Prepare final output\n",
    "t3 = series_v3.index\n",
    "v3 = series_v3.values\n",
    "\n",
    "print(t3)\n",
    "print(v3)\n"
   ]
  },
  {
   "cell_type": "code",
   "execution_count": 2,
   "id": "5c6c16b5-4c90-4b61-adce-441a6282146e",
   "metadata": {},
   "outputs": [],
   "source": [
    "import numpy as np\n",
    "import pandas as pd\n",
    "from utils import time_intp\n"
   ]
  },
  {
   "cell_type": "code",
   "execution_count": 3,
   "id": "09768b38-ef92-4c8d-a0ed-31fb347f3883",
   "metadata": {},
   "outputs": [
    {
     "name": "stdout",
     "output_type": "stream",
     "text": [
      "t2 times: [Timestamp('2023-01-01 00:00:00') Timestamp('2023-01-03 00:00:00')\n",
      " Timestamp('2023-01-07 00:00:00') Timestamp('2023-01-10 00:00:00')]\n",
      "Interpolated v2 values: [1.         1.44444444 2.33333333 3.        ]\n"
     ]
    }
   ],
   "source": [
    "def time_intp_test():\n",
    "    # Create test data\n",
    "    t1 = np.array([pd.Timestamp('2023-01-01'), pd.Timestamp('2023-01-05'), pd.Timestamp('2023-01-10')])\n",
    "    v1 = np.array([1, np.nan, 3])\n",
    "    t2 = np.array([pd.Timestamp('2023-01-01'), pd.Timestamp('2023-01-03'), pd.Timestamp('2023-01-07'), pd.Timestamp('2023-01-10')])\n",
    "    \n",
    "    # Test the interpolation function\n",
    "    v2 = time_intp(t1, v1, t2)\n",
    "    \n",
    "    # Output the results for inspection\n",
    "    print(\"t2 times:\", t2)\n",
    "    print(\"Interpolated v2 values:\", v2)\n",
    "\n",
    "# Run the test function to see results\n",
    "time_intp_test()\n"
   ]
  },
  {
   "cell_type": "code",
   "execution_count": null,
   "id": "2ebbbc3b-0080-4ed1-b60a-41d374f4247d",
   "metadata": {},
   "outputs": [],
   "source": []
  }
 ],
 "metadata": {
  "kernelspec": {
   "display_name": "Python 3 (ipykernel)",
   "language": "python",
   "name": "python3"
  },
  "language_info": {
   "codemirror_mode": {
    "name": "ipython",
    "version": 3
   },
   "file_extension": ".py",
   "mimetype": "text/x-python",
   "name": "python",
   "nbconvert_exporter": "python",
   "pygments_lexer": "ipython3",
   "version": "3.10.9"
  }
 },
 "nbformat": 4,
 "nbformat_minor": 5
}
