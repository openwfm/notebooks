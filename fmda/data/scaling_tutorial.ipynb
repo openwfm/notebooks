{
 "cells": [
  {
   "cell_type": "code",
   "execution_count": null,
   "id": "af2710ac-2ae8-4e16-bc42-9d4da2c9ef35",
   "metadata": {},
   "outputs": [],
   "source": [
    "# Environment\n",
    "import numpy as np\n",
    "import pandas as pd\n",
    "import tensorflow as tf\n",
    "import matplotlib.pyplot as plt\n",
    "import sys\n",
    "# Local modules\n",
    "sys.path.append('..')\n",
    "import reproducibility\n",
    "from utils import print_dict_summary\n",
    "from data_funcs import load_and_fix_data, rmse\n",
    "from abc import ABC, abstractmethod\n",
    "from tensorflow.keras.callbacks import Callback\n",
    "from sklearn.metrics import mean_squared_error\n",
    "from utils import hash2\n",
    "from utils import logging_setup\n",
    "from moisture_rnn import create_rnn_data2\n",
    "from moisture_rnn_pkl import pkl2train\n",
    "logging_setup()"
   ]
  },
  {
   "cell_type": "code",
   "execution_count": null,
   "id": "982bbe08-09e4-4d6e-98ab-97b18fb932cd",
   "metadata": {},
   "outputs": [],
   "source": [
    "import importlib\n",
    "import moisture_rnn_pkl\n",
    "importlib.reload(moisture_rnn_pkl)\n",
    "from moisture_rnn_pkl import pkl2train"
   ]
  },
  {
   "cell_type": "code",
   "execution_count": null,
   "id": "0f00156a-8f3c-4ce1-8c7a-4c1a17dc37d7",
   "metadata": {
    "scrolled": true
   },
   "outputs": [],
   "source": [
    "file='test_CA_202401.pkl'\n",
    "train = pkl2train([file])"
   ]
  },
  {
   "cell_type": "code",
   "execution_count": null,
   "id": "91b6fd8a-9967-4d11-b03c-5d726e2cd545",
   "metadata": {},
   "outputs": [],
   "source": [
    "case = 'KRNC1_202401'"
   ]
  },
  {
   "cell_type": "code",
   "execution_count": null,
   "id": "98ab1322-52b3-420e-8b32-030ae5fc86ba",
   "metadata": {},
   "outputs": [],
   "source": [
    "train[case][\"X\"][0,:]"
   ]
  },
  {
   "cell_type": "code",
   "execution_count": null,
   "id": "cef48924-6fd5-4c51-8be0-50ec99cc1de8",
   "metadata": {},
   "outputs": [],
   "source": [
    "import yaml\n",
    "\n",
    "with open(\"../params.yaml\") as file:\n",
    "    params = yaml.safe_load(file)[\"rnn\"]\n",
    "params"
   ]
  },
  {
   "cell_type": "code",
   "execution_count": null,
   "id": "d2f33573-a683-42df-84c4-3def2c71ea91",
   "metadata": {},
   "outputs": [],
   "source": [
    "rnn_dat = create_rnn_data2(train[case], params)\n",
    "X_train = rnn_dat[\"X_train\"]\n",
    "X_test = rnn_dat[\"X_test\"]"
   ]
  },
  {
   "cell_type": "code",
   "execution_count": null,
   "id": "378a92b1-a626-420f-825b-13e7f7d51556",
   "metadata": {},
   "outputs": [],
   "source": [
    "hash2(X_train)"
   ]
  },
  {
   "cell_type": "code",
   "execution_count": null,
   "id": "4fe036ce-1330-40bc-8988-122020cfd405",
   "metadata": {},
   "outputs": [],
   "source": [
    "from sklearn.preprocessing import MinMaxScaler, StandardScaler"
   ]
  },
  {
   "cell_type": "code",
   "execution_count": null,
   "id": "c7e8757c-a0d2-403c-96c9-f0983dc641a5",
   "metadata": {},
   "outputs": [],
   "source": [
    "scaler = MinMaxScaler()\n",
    "scaler.fit(X_train)\n",
    "X_train2 = scaler.transform(X_train)\n",
    "print(hash2(X_train2))\n",
    "scaler.fit(X_test)\n",
    "X_test2 = scaler.transform(X_test)\n",
    "print(hash2(X_test2))"
   ]
  },
  {
   "cell_type": "code",
   "execution_count": null,
   "id": "25b81f3e-49b4-499c-bb93-ed4e91398e23",
   "metadata": {},
   "outputs": [],
   "source": [
    "import importlib\n",
    "import moisture_rnn\n",
    "importlib.reload(moisture_rnn)\n",
    "from moisture_rnn import scale_transform"
   ]
  },
  {
   "cell_type": "code",
   "execution_count": null,
   "id": "2a93d02d-05ec-4a84-b6c8-c476d6974a09",
   "metadata": {},
   "outputs": [],
   "source": [
    "scale_transform(X_train)"
   ]
  },
  {
   "cell_type": "code",
   "execution_count": null,
   "id": "f351db5f-2445-4be4-bbf3-5261bf0c98bc",
   "metadata": {},
   "outputs": [],
   "source": [
    "hash2(X_train)"
   ]
  },
  {
   "cell_type": "code",
   "execution_count": null,
   "id": "8170a4af-870b-41db-8c4f-475b5deb39d9",
   "metadata": {},
   "outputs": [],
   "source": [
    "X_val = None"
   ]
  },
  {
   "cell_type": "code",
   "execution_count": null,
   "id": "ecac900b-3562-4d06-9adb-a4a3951408ee",
   "metadata": {},
   "outputs": [],
   "source": [
    "scaler.transform(X_val)"
   ]
  },
  {
   "cell_type": "code",
   "execution_count": null,
   "id": "bd42f401-479a-4b61-98a5-dc359c32bdfc",
   "metadata": {},
   "outputs": [],
   "source": [
    "scaler = MinMaxScaler()\n",
    "\n",
    "scaler.fit(X_test)\n",
    "X_test2 = scaler.transform(X_test)\n",
    "print(hash2(X_test2))\n",
    "scaler.fit(X_train)\n",
    "X_train2 = scaler.transform(X_train)\n",
    "print(hash2(X_train2))"
   ]
  },
  {
   "cell_type": "code",
   "execution_count": null,
   "id": "ba2fdbd0-32a4-47a9-932f-cec0c606bfae",
   "metadata": {},
   "outputs": [],
   "source": [
    "print(scaler.data_min_)\n",
    "print(scaler.data_max_)"
   ]
  },
  {
   "cell_type": "code",
   "execution_count": null,
   "id": "756737e8-8c2d-4126-bacf-90a648404de2",
   "metadata": {},
   "outputs": [],
   "source": [
    "# Transform Datasets\n",
    " scaler.transform(X_train)\n",
    "print(X_train2[0,:])"
   ]
  },
  {
   "cell_type": "code",
   "execution_count": null,
   "id": "a7205f27-7b9a-488a-914c-c9dcf74767a4",
   "metadata": {},
   "outputs": [],
   "source": [
    "Z = scaler.inverse_transform(X_train2)\n",
    "hash2(Z)"
   ]
  },
  {
   "cell_type": "code",
   "execution_count": null,
   "id": "ee4983a3-167e-4667-99c0-03b2796b286c",
   "metadata": {
    "scrolled": true
   },
   "outputs": [],
   "source": [
    "np.max(np.abs(X_train - Z))"
   ]
  },
  {
   "cell_type": "code",
   "execution_count": null,
   "id": "9880963a-222b-4ab4-9ca2-5c02ca2518dc",
   "metadata": {},
   "outputs": [],
   "source": [
    "X_train"
   ]
  },
  {
   "cell_type": "code",
   "execution_count": null,
   "id": "3d143692-6265-4e80-a57c-df6926d9a414",
   "metadata": {},
   "outputs": [],
   "source": [
    "import importlib\n",
    "import moisture_rnn\n",
    "importlib.reload(moisture_rnn)\n",
    "from moisture_rnn import create_rnn_data2"
   ]
  },
  {
   "cell_type": "code",
   "execution_count": null,
   "id": "fed228a0-ecd3-4d5b-ab04-c214a1926009",
   "metadata": {},
   "outputs": [],
   "source": [
    "np.max(X_train - Z)"
   ]
  },
  {
   "cell_type": "code",
   "execution_count": null,
   "id": "5a90a370-a5a9-44e8-8df2-1b8dae5e1c6e",
   "metadata": {},
   "outputs": [],
   "source": []
  },
  {
   "cell_type": "code",
   "execution_count": null,
   "id": "f926ff0d-3d43-419f-b9a2-677d2f6541c7",
   "metadata": {},
   "outputs": [],
   "source": [
    "scaler = StandardScaler()\n",
    "scaler.fit(X_train)\n",
    "X_train2 = scaler.transform(X_train)\n",
    "Z = scaler.inverse_transform(X_train2)\n",
    "hash2(Z)"
   ]
  },
  {
   "cell_type": "code",
   "execution_count": null,
   "id": "d130678b-c5b6-4313-83fe-8577507578e6",
   "metadata": {},
   "outputs": [],
   "source": [
    "np.max(X_train - Z)"
   ]
  },
  {
   "cell_type": "code",
   "execution_count": null,
   "id": "24be8c57-e643-4351-8e03-18bc79fe24a0",
   "metadata": {},
   "outputs": [],
   "source": [
    "# Run again\n",
    "scaler = MinMaxScaler()\n",
    "scaler.fit(X_train)\n",
    "X_train2 = scaler.transform(X_train)\n",
    "Z = scaler.inverse_transform(X_train2)\n",
    "hash2(Z)"
   ]
  },
  {
   "cell_type": "code",
   "execution_count": null,
   "id": "77778826-e697-4069-ad2d-a849d3bb2be8",
   "metadata": {},
   "outputs": [],
   "source": []
  },
  {
   "cell_type": "code",
   "execution_count": null,
   "id": "d985c603-1a97-4e03-88a5-d868dcc38659",
   "metadata": {},
   "outputs": [],
   "source": []
  }
 ],
 "metadata": {
  "kernelspec": {
   "display_name": "Python 3 (ipykernel)",
   "language": "python",
   "name": "python3"
  },
  "language_info": {
   "codemirror_mode": {
    "name": "ipython",
    "version": 3
   },
   "file_extension": ".py",
   "mimetype": "text/x-python",
   "name": "python",
   "nbconvert_exporter": "python",
   "pygments_lexer": "ipython3",
   "version": "3.9.12"
  }
 },
 "nbformat": 4,
 "nbformat_minor": 5
}
