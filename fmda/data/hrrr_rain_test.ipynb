{
 "cells": [
  {
   "cell_type": "code",
   "execution_count": null,
   "id": "84da2f41-09c2-48fe-8f9c-9cce75ee4d3a",
   "metadata": {},
   "outputs": [],
   "source": [
    "import os\n",
    "import os.path as osp\n",
    "import subprocess\n",
    "import numpy as np\n",
    "import pandas as pd\n",
    "from datetime import datetime\n",
    "import matplotlib.pyplot as plt\n",
    "from osgeo import gdal"
   ]
  },
  {
   "cell_type": "markdown",
   "id": "69b08e55-31b6-448a-9bf5-8b1d358ce742",
   "metadata": {},
   "source": [
    "# HRRR Rain Data Test\n",
    "\n",
    "The purpose of this notebook is to investigate precipitation fields from HRRR that are all zero. The bands we seek are \"PRATE\", the precipitation rate, and \"APCP\", total accumulated precipitation. HRRR band numbers [definitions](https://www.nco.ncep.noaa.gov/pmb/products/hrrr/):\n",
    "* 3D Pressure Levels ([source](https://www.nco.ncep.noaa.gov/pmb/products/hrrr/hrrr.t00z.wrfprsf00.grib2.shtml)):\n",
    "    * `PRATE`: 628\n",
    "    * `APCP`: 629\n",
    "* Native Levels ([source](https://www.nco.ncep.noaa.gov/pmb/products/hrrr/hrrr.t00z.wrfnatf00.grib2.shtml)):\n",
    "    * `PRATE`: 1053\n",
    "    * `APCP`: 1054\n",
    "* 2D Surface Levels ([source](https://www.nco.ncep.noaa.gov/pmb/products/hrrr/hrrr.t00z.wrfsfcf00.grib2.shtml)):\n",
    "    * `PRATE`: 083\n",
    "    * `APCP`: 084\n",
    " \n",
    "Server of grib files linked from NOAA to: https://nomads.ncep.noaa.gov/pub/data/nccf/com/hrrr/prod/\n",
    "\n",
    "    - *NOTE:* this url provides an html interface for current and previous day. The urls to the grib files for older days should still work for data, but the file directories cannot be viewed in a browser"
   ]
  },
  {
   "cell_type": "markdown",
   "id": "61320714-78fa-41f1-85da-89f3e198a3c7",
   "metadata": {},
   "source": [
    "## Rain Data All Zero in HRRR"
   ]
  },
  {
   "cell_type": "code",
   "execution_count": null,
   "id": "f369afc6-ebf2-4c6a-b9ef-932b1afe7e22",
   "metadata": {},
   "outputs": [],
   "source": [
    "base_url = \"https://nomads.ncep.noaa.gov/pub/data/nccf/com/hrrr/prod/hrrr.20240313/conus/\""
   ]
  },
  {
   "cell_type": "code",
   "execution_count": null,
   "id": "7437aa1c-643d-43c7-8623-8d37090bc3aa",
   "metadata": {},
   "outputs": [],
   "source": [
    "url = base_url + \"/hrrr.t00z.wrfprsf00.grib2\"\n",
    "print(f\"Reading {url}\")\n",
    "ds = gdal.Open('/vsicurl/' + url)\n",
    "band_number = 628\n",
    "band = ds.GetRasterBand(band_number)\n",
    "data = band.ReadAsArray()\n",
    "\n",
    "# Close the dataset\n",
    "ds = None"
   ]
  },
  {
   "cell_type": "code",
   "execution_count": null,
   "id": "6c241cd1-218b-4131-9347-5cc90c2166dc",
   "metadata": {},
   "outputs": [],
   "source": [
    "print(f\"Unique vals: {np.unique(data)}\")"
   ]
  },
  {
   "cell_type": "code",
   "execution_count": null,
   "id": "71803229-4ed9-40db-b93c-5e15e23d7033",
   "metadata": {},
   "outputs": [],
   "source": [
    "plt.imshow(data)\n",
    "plt.colorbar()"
   ]
  },
  {
   "cell_type": "markdown",
   "id": "782540fc-d281-42df-8be9-79d8d0d2cfe6",
   "metadata": {},
   "source": [
    "Its zero for other model levels..."
   ]
  },
  {
   "cell_type": "code",
   "execution_count": null,
   "id": "235744e4-b6b7-488d-ad3f-af88909fa256",
   "metadata": {},
   "outputs": [],
   "source": [
    "url = base_url + \"/hrrr.t00z.wrfsfcf00.grib2\"\n",
    "print(f\"Reading {url}\")\n",
    "ds = gdal.Open('/vsicurl/' + url)\n",
    "band_number = 83\n",
    "band = ds.GetRasterBand(band_number)\n",
    "data = band.ReadAsArray()\n",
    "\n",
    "# Close the dataset\n",
    "ds = None\n",
    "\n",
    "print(f\"Unique vals: {np.unique(data)}\")"
   ]
  },
  {
   "cell_type": "code",
   "execution_count": null,
   "id": "88fa8550-e78e-42ea-bd11-f8cca3a44baa",
   "metadata": {},
   "outputs": [],
   "source": [
    "url = base_url + \"/hrrr.t00z.wrfnatf00.grib2\"\n",
    "print(f\"Reading {url}\")\n",
    "ds = gdal.Open('/vsicurl/' + url)\n",
    "band_number = 1053\n",
    "band = ds.GetRasterBand(band_number)\n",
    "data = band.ReadAsArray()\n",
    "\n",
    "# Close the dataset\n",
    "ds = None\n",
    "\n",
    "print(f\"Unique vals: {np.unique(data)}\")"
   ]
  },
  {
   "cell_type": "markdown",
   "id": "5e03d4ab-58ed-47c6-99da-04946b042ae5",
   "metadata": {},
   "source": [
    "## Other Bands Ok"
   ]
  },
  {
   "cell_type": "code",
   "execution_count": null,
   "id": "cd831660-94dd-4a80-9da7-2f85e90851af",
   "metadata": {},
   "outputs": [],
   "source": [
    "ds = gdal.Open('/vsicurl/' + url)\n",
    "band_number = 585 # Wind gust\n",
    "band = ds.GetRasterBand(band_number)\n",
    "data = band.ReadAsArray()\n",
    "\n",
    "# Close the dataset\n",
    "ds = None"
   ]
  },
  {
   "cell_type": "code",
   "execution_count": null,
   "id": "d31af6b6-75f2-4475-a089-3c688299a569",
   "metadata": {},
   "outputs": [],
   "source": [
    "plt.imshow(data)\n",
    "plt.colorbar()"
   ]
  },
  {
   "cell_type": "code",
   "execution_count": null,
   "id": "09aa71b9-fc02-4cc9-a3cf-a1b752352322",
   "metadata": {},
   "outputs": [],
   "source": []
  }
 ],
 "metadata": {
  "kernelspec": {
   "display_name": "Python 3 (ipykernel)",
   "language": "python",
   "name": "python3"
  },
  "language_info": {
   "codemirror_mode": {
    "name": "ipython",
    "version": 3
   },
   "file_extension": ".py",
   "mimetype": "text/x-python",
   "name": "python",
   "nbconvert_exporter": "python",
   "pygments_lexer": "ipython3",
   "version": "3.9.12"
  }
 },
 "nbformat": 4,
 "nbformat_minor": 5
}
