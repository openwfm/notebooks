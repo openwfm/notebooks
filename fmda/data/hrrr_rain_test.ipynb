{
 "cells": [
  {
   "cell_type": "code",
   "execution_count": null,
   "id": "84da2f41-09c2-48fe-8f9c-9cce75ee4d3a",
   "metadata": {},
   "outputs": [],
   "source": [
    "import os\n",
    "import os.path as osp\n",
    "import subprocess\n",
    "import numpy as np\n",
    "import pandas as pd\n",
    "from datetime import datetime\n",
    "import matplotlib.pyplot as plt\n",
    "from osgeo import gdal\n",
    "import requests\n",
    "import rasterio"
   ]
  },
  {
   "cell_type": "markdown",
   "id": "69b08e55-31b6-448a-9bf5-8b1d358ce742",
   "metadata": {},
   "source": [
    "# HRRR Rain Data Test\n",
    "\n",
    "The purpose of this notebook is to investigate precipitation data from HRRR that are all zero. The bands we use are \"PRATE\", the precipitation rate, and \"APCP\", total accumulated precipitation. HRRR band numbers [definitions](https://www.nco.ncep.noaa.gov/pmb/products/hrrr/):\n",
    "* 3D Pressure Levels ([source](https://www.nco.ncep.noaa.gov/pmb/products/hrrr/hrrr.t00z.wrfprsf00.grib2.shtml)):\n",
    "    * `PRATE`: 628\n",
    "    * `APCP`: 629\n",
    "* Native Levels ([source](https://www.nco.ncep.noaa.gov/pmb/products/hrrr/hrrr.t00z.wrfnatf00.grib2.shtml)):\n",
    "    * `PRATE`: 1053\n",
    "    * `APCP`: 1054\n",
    "* 2D Surface Levels ([source](https://www.nco.ncep.noaa.gov/pmb/products/hrrr/hrrr.t00z.wrfsfcf00.grib2.shtml)):\n",
    "    * `PRATE`: 083\n",
    "    * `APCP`: 084\n",
    " \n",
    "Server of grib files linked from NOAA to: https://nomads.ncep.noaa.gov/pub/data/nccf/com/hrrr/prod/\n",
    "\n",
    "    - *NOTE:* this url provides an html interface for current and previous day. The urls to the grib files for older days should still work for data, but the file directories cannot be viewed in a browser"
   ]
  },
  {
   "cell_type": "markdown",
   "id": "c8c3efdd-8fa2-4077-8f61-735f1757264c",
   "metadata": {},
   "source": [
    "## View HRRR Rain for Conus at different F Times"
   ]
  },
  {
   "cell_type": "code",
   "execution_count": null,
   "id": "766f27bf-e5d1-424a-ac3b-3e072d691799",
   "metadata": {},
   "outputs": [],
   "source": [
    "ft = [\"f00\", \"f01\", \"f02\", \"f03\", \"f04\", \"f05\", \"f06\"]"
   ]
  },
  {
   "cell_type": "code",
   "execution_count": null,
   "id": "df41a047-2dce-4e8b-8236-718be2063bda",
   "metadata": {},
   "outputs": [],
   "source": [
    "turl = \"https://demo.openwfm.org/web/data/fmda/tif/20240420/hrrr.t00z.wrfprsf06.629.tif\"\n",
    "with rasterio.open(turl) as src: \n",
    "    plt.imshow(src.read(1))\n",
    "    plt.title(\"test\")"
   ]
  },
  {
   "cell_type": "markdown",
   "id": "c3661b5b-6104-4248-8964-08677cc90c8c",
   "metadata": {},
   "source": [
    "## Read FMDA Dict"
   ]
  },
  {
   "cell_type": "code",
   "execution_count": null,
   "id": "b705ec98-3889-480e-b466-786b5dab1bce",
   "metadata": {},
   "outputs": [],
   "source": [
    "dict1 = pd.read_pickle(\"test_nw_202401_f03.pkl\")"
   ]
  },
  {
   "cell_type": "code",
   "execution_count": null,
   "id": "1023728c-5fa3-4441-9952-d3c3566deaf7",
   "metadata": {},
   "outputs": [],
   "source": [
    "# Print Forecast Hours in Data for 1st key\n",
    "\n",
    "print(dict1[[*dict1.keys()][0]][\"HRRR\"].keys())"
   ]
  },
  {
   "cell_type": "markdown",
   "id": "22e93c03-475d-467d-afe7-cb23020a189f",
   "metadata": {},
   "source": [
    "## Examine RAWS vs HRRR\n",
    "\n",
    "We compare rain arrays for similarity. For simplicity, we filter out raws with missing data to avoid interpolation, which is done elsewhere in the workflow. "
   ]
  },
  {
   "cell_type": "code",
   "execution_count": null,
   "id": "dd392786-2782-459a-b58e-6ca59f23b4ac",
   "metadata": {},
   "outputs": [],
   "source": [
    "raws = []\n",
    "hrrr1 = []\n",
    "hrrr2 = []\n",
    "hrrr3 = []\n",
    "\n",
    "for k in dict1:\n",
    "    if \"rain\" in dict1[k][\"RAWS\"].keys():\n",
    "        # Only add when length is same\n",
    "        if len(dict1[k][\"RAWS\"][\"rain\"][1:]) == len(dict1[k][\"HRRR\"][\"f01\"][\"rain\"][1:]):\n",
    "            raws.append(dict1[k][\"RAWS\"][\"rain\"][1:])\n",
    "            hrrr1.append(dict1[k][\"HRRR\"][\"f01\"][\"rain\"][1:])\n",
    "            hrrr2.append(dict1[k][\"HRRR\"][\"f02\"][\"rain\"][1:])\n",
    "            hrrr3.append(dict1[k][\"HRRR\"][\"f03\"][\"rain\"][1:])\n",
    "        \n",
    "raws = np.concatenate(raws)\n",
    "hrrr1 = np.concatenate(hrrr1)\n",
    "hrrr2 = np.concatenate(hrrr2)\n",
    "hrrr3 = np.concatenate(hrrr3)"
   ]
  },
  {
   "cell_type": "markdown",
   "id": "dc3bdaee-5292-4408-9ad5-00900756e460",
   "metadata": {},
   "source": [
    "### Reconcile Units\n",
    "\n",
    "* [HRRR](https://www.nco.ncep.noaa.gov/pmb/products/hrrr/hrrr.t00z.wrfprsf00.grib2.shtml): units for precipitation rate is $kg\\cdot m^{-2}s^{-1}$\n",
    "* RAWS units for precipitation is $mm\\cdot h^{-1}$\n",
    "\n",
    "We HRRR to $mm\\cdot h^{-1}$. We utilize the fact that water has a specific density of roughly 1g per cubic cm. So 1km of water, or 1000g of water, spread over 1 $m^2$, or 10,000 $cm^2$, would cover that square meter to a depth of .1 cm, or 1mm. So 1 $kg\\cdot m^{-2}s^{-1}$ is equal to 1 $mm\\cdot s^{-1}$, so we just need to multiply by 3600 seconds per hour to get units of $mm\\cdot h^{-1}$."
   ]
  },
  {
   "cell_type": "code",
   "execution_count": null,
   "id": "4dae1899-b449-4260-a004-a4243cf3bec5",
   "metadata": {},
   "outputs": [],
   "source": [
    "# Confirm units from RAWS data\n",
    "from synoptic.services import variables\n",
    "variables(verbose=\"HIDE\").loc[\"precip_accum\"]"
   ]
  },
  {
   "cell_type": "code",
   "execution_count": null,
   "id": "b023b410-345a-4cb1-a006-17b771a0c81a",
   "metadata": {},
   "outputs": [],
   "source": [
    "hrrr1 = hrrr1*3600\n",
    "hrrr2 = hrrr2*3600\n",
    "hrrr3 = hrrr3*3600"
   ]
  },
  {
   "cell_type": "markdown",
   "id": "08c9629f-780d-4905-9a2d-99a73e6c9e43",
   "metadata": {},
   "source": [
    "Plot Relationship"
   ]
  },
  {
   "cell_type": "code",
   "execution_count": null,
   "id": "09aa71b9-fc02-4cc9-a3cf-a1b752352322",
   "metadata": {},
   "outputs": [],
   "source": [
    "plt.plot(raws, hrrr1, 'o', label = \"f01\")\n",
    "plt.plot(raws, hrrr2, 'o', label = \"f02\")\n",
    "plt.plot(raws, hrrr3, 'o', label = \"f03\")\n",
    "plt.legend()"
   ]
  },
  {
   "cell_type": "markdown",
   "id": "9f268109-944e-42f8-a2d2-99e68f193a08",
   "metadata": {},
   "source": [
    "### Summarize raw correlation"
   ]
  },
  {
   "cell_type": "code",
   "execution_count": null,
   "id": "4c9942ba-ef2f-4acf-baf2-faca4cee1f6d",
   "metadata": {},
   "outputs": [],
   "source": [
    "print(\"Correlations between RAWS and HRRR rain\")\n",
    "print(f\"F01: {np.corrcoef(raws, hrrr1)}\")\n",
    "print(f\"F02: {np.corrcoef(raws, hrrr2)}\")\n",
    "print(f\"F03: {np.corrcoef(raws, hrrr3)}\")"
   ]
  },
  {
   "cell_type": "code",
   "execution_count": null,
   "id": "1a267787-9a31-4118-8115-7b27630abb46",
   "metadata": {},
   "outputs": [],
   "source": []
  }
 ],
 "metadata": {
  "kernelspec": {
   "display_name": "Python 3 (ipykernel)",
   "language": "python",
   "name": "python3"
  },
  "language_info": {
   "codemirror_mode": {
    "name": "ipython",
    "version": 3
   },
   "file_extension": ".py",
   "mimetype": "text/x-python",
   "name": "python",
   "nbconvert_exporter": "python",
   "pygments_lexer": "ipython3",
   "version": "3.9.12"
  }
 },
 "nbformat": 4,
 "nbformat_minor": 5
}
