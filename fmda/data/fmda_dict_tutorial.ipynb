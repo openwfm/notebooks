{
 "cells": [
  {
   "cell_type": "markdown",
   "id": "3dd3fd0f-d4dc-4d3d-ab91-77bd19e4b64b",
   "metadata": {},
   "source": [
    "# FMDA Dictionary Tutorial\n",
    "\n",
    "The purpose of this notebook is to demonstrate creating fmda dictionaries to be used for training ML models of fuel moisture. This notebook combines the techniques from other notebooks in this directory, so see `interpolation_tutorial` and `synopticpy_tutorial` for more information. This code will live in `wrfxpy` in the python module `build_fmda_dict.py`.\n",
    "\n",
    "**Goals:** given a user input of a date range and latitude/longitude bounding box, return a dictionary with top-level keys for each RAWS station within the bounding box that has fuel moisture data, and then for each station subdictionaries of formatted static location information, RAWS goundlevel sensor data, and atmospheric data from HRRR interpolated to the station location.\n",
    "\n",
    "This notebook will demonstrate retrieving RAWS data using `SynopticPy`, but within `wrfxpy` for older times this data is retrieved from a stash of saved fuel moisture data.\n",
    "\n",
    "*Note:* this requires a formatted stash of geotiff files, which are bands extracted from HRRR grib files."
   ]
  },
  {
   "cell_type": "markdown",
   "id": "735ea125-109c-407a-a9b2-656ceae7604c",
   "metadata": {},
   "source": [
    "## User Inputs\n",
    "\n",
    "Below we manually enter the user inputs to define the spatiotemporal frame for the data collection. Within `wrfxpy`, these arguments are entered from the command line and read within python as system arguments with `sys.argv[...]`. The arguments should be formatted as:\n",
    "\n",
    "* `start`: (str) start time formatted as \"YYYYMMDDHHmm\"\n",
    "* `end`: (str) end time formatted as \"YYYYMMDDHHmm\"\n",
    "* `bbox`: (list) of format `[lonmin, latmin, lonmax, lonmin]` (mimicking format from `SynopticPy`)"
   ]
  },
  {
   "cell_type": "code",
   "execution_count": null,
   "id": "f3b6f8bb-7cd0-4a36-9c9d-2f26da4c0b7e",
   "metadata": {},
   "outputs": [],
   "source": [
    "start = \"202401010000\" # Jan 1, 2024, midnight UTC\n",
    "end = \"202401010200\" # Jan 31, 2024, 2am UTC\n",
    "bbox = [-105, 37, -103, 39]"
   ]
  },
  {
   "cell_type": "markdown",
   "id": "951c4812-a346-4501-b34d-a6b8ad4f40bb",
   "metadata": {},
   "source": [
    "## Static Data Objects\n",
    "\n",
    "Below are objects decalred at the start of `build_fmda_dict.py` and used throughout. They include a dataframe of HRRR data bands, determined from [HRRR documentation](https://www.nco.ncep.noaa.gov/pmb/products/hrrr/hrrr.t00z.wrfprsf00.grib2.shtml). Also, there is a file path string object `hrrrpath` which points to the stash of formatted geotiff files. For this tutorial, those data simply live in the same directory."
   ]
  },
  {
   "cell_type": "code",
   "execution_count": null,
   "id": "f4ca7ce6-092f-4a99-931f-626e46f2d667",
   "metadata": {},
   "outputs": [],
   "source": [
    "band_df_hrrr = pd.DataFrame({\n",
    "    'Band': [585, 616, 620, 628, 629, 661, 662, 663, 664],\n",
    "    'hrrr_name': ['GUST', 'TMP', 'RH', 'PRATE', 'APCP',\n",
    "                  'DSWRF', 'DLWRF', 'USWRF', 'ULWRF'],\n",
    "    'descr': ['surface Wind Speed (Gust) [m/s]',\n",
    "              '2 m Temperature [K]', \n",
    "              '2 m Relative Humidity [%]', \n",
    "              'surface Precip. Rate [kg/m^2/s]',\n",
    "              'surface Total Precipitation [kg/m^2]',\n",
    "              'surface Downward Short-Wave Radiation Flux [W/m^2]',\n",
    "              'surface Downward Long-Wave Rad. Flux [W/m^2]',\n",
    "              'surface Upward Short-Wave Radiation Flux [W/m^2]',\n",
    "              'Upward Long-Wave Rad. Flux [W/m^2]']\n",
    "})\n",
    "\n",
    "hrrrpath = \"~/geotiff_files\" # path for atmospheric data stash"
   ]
  },
  {
   "cell_type": "code",
   "execution_count": null,
   "id": "98974707-72fe-4205-a7b6-593b89e3a8be",
   "metadata": {},
   "outputs": [],
   "source": []
  },
  {
   "cell_type": "code",
   "execution_count": null,
   "id": "fbc6ca0d-b5a1-4a9a-8997-a86aab96bfa5",
   "metadata": {},
   "outputs": [],
   "source": []
  }
 ],
 "metadata": {
  "kernelspec": {
   "display_name": "Python 3 (ipykernel)",
   "language": "python",
   "name": "python3"
  },
  "language_info": {
   "codemirror_mode": {
    "name": "ipython",
    "version": 3
   },
   "file_extension": ".py",
   "mimetype": "text/x-python",
   "name": "python",
   "nbconvert_exporter": "python",
   "pygments_lexer": "ipython3",
   "version": "3.9.12"
  }
 },
 "nbformat": 4,
 "nbformat_minor": 5
}
