{
 "cells": [
  {
   "cell_type": "markdown",
   "id": "b1100419-e2ec-46b6-89d3-327421288025",
   "metadata": {},
   "source": [
    "## Find Data Availability for Stations\n",
    "\n",
    "Find which RAWS stations in given state have data availability for variables of interest to fuel moisture model."
   ]
  },
  {
   "cell_type": "code",
   "execution_count": null,
   "id": "edb47918-af48-4002-8a66-7e78c7d10c77",
   "metadata": {},
   "outputs": [],
   "source": [
    "# !pip install MesoPy\n",
    "import pickle\n",
    "from MesoPy import Meso\n",
    "import os.path as osp\n",
    "import os\n",
    "import pandas as pd\n",
    "import numpy as np\n",
    "\n",
    "outpath = \".\"\n",
    "\n",
    "meso_token=\"4192c18707b848299783d59a9317c6e1\" # Get your own token...\n",
    "m=Meso(meso_token)"
   ]
  },
  {
   "cell_type": "code",
   "execution_count": null,
   "id": "fe4c6fbf-0242-4345-9fc5-38cdb5628861",
   "metadata": {},
   "outputs": [],
   "source": [
    "os.chdir('..')\n",
    "from data_funcs import format_raws"
   ]
  },
  {
   "cell_type": "code",
   "execution_count": null,
   "id": "37683794-406d-4524-99d3-2c167ff444ea",
   "metadata": {},
   "outputs": [],
   "source": [
    "time_start = \"202306010800\"  # June 1 2022 08:00 in format yyyymmddHHMM\n",
    "time_s2    = \"202306010900\"  # small time to get station ids\n",
    "time_end   = \"202306300900\"  # June 30 2022 09:00 in format yyyymmddHHMM\n",
    "state_str = \"CO\"\n",
    "\n",
    "vars='air_temp,relative_humidity,precip_accum,fuel_moisture,wind_speed,solar_radiation'"
   ]
  },
  {
   "cell_type": "code",
   "execution_count": null,
   "id": "7dfb0387-6535-4976-9e9a-62e3cf9a69cd",
   "metadata": {},
   "outputs": [],
   "source": [
    "meso_obss = m.timeseries(start=time_start,end=time_s2, state=state_str, \n",
    "                             showemptystations = '0', vars=vars)"
   ]
  },
  {
   "cell_type": "code",
   "execution_count": null,
   "id": "2255f323-2685-47b1-b862-f86eca6a3991",
   "metadata": {},
   "outputs": [],
   "source": [
    "station_df = pd.DataFrame(columns=['STID', 'air_temp', 'relative_humidity', 'precip_accum', 'fuel_moisture', 'wind_speed', 'solar_radiation'],\n",
    "                  index=range(0, len(meso_obss[\"STATION\"])))"
   ]
  },
  {
   "cell_type": "code",
   "execution_count": null,
   "id": "6f4fbe0d-dd16-4c1c-950e-97e23e5a1918",
   "metadata": {},
   "outputs": [],
   "source": [
    "for i in range(0, station_df.shape[0]):\n",
    "    station_df[\"STID\"][i] = meso_obss[\"STATION\"][i][\"STID\"]\n",
    "    station_df[\"air_temp\"][i] = int(\"air_temp\" in meso_obss[\"STATION\"][i][\"SENSOR_VARIABLES\"].keys())\n",
    "    station_df[\"relative_humidity\"][i] = int(\"relative_humidity\" in meso_obss[\"STATION\"][i][\"SENSOR_VARIABLES\"].keys())\n",
    "    station_df[\"precip_accum\"][i] = int(\"precip_accum\" in meso_obss[\"STATION\"][i][\"SENSOR_VARIABLES\"].keys())\n",
    "    station_df[\"fuel_moisture\"][i] = int(\"fuel_moisture\" in meso_obss[\"STATION\"][i][\"SENSOR_VARIABLES\"].keys())\n",
    "    station_df[\"wind_speed\"][i] = int(\"wind_speed\" in meso_obss[\"STATION\"][i][\"SENSOR_VARIABLES\"].keys())\n",
    "    station_df[\"solar_radiation\"][i] = int(\"solar_radiation\" in meso_obss[\"STATION\"][i][\"SENSOR_VARIABLES\"].keys())"
   ]
  },
  {
   "cell_type": "code",
   "execution_count": null,
   "id": "99938a78-4cac-440b-a2d8-6509b30f8c31",
   "metadata": {
    "tags": []
   },
   "outputs": [],
   "source": [
    "# Filter to stations with complete observations over time period\n",
    "station_df = station_df[\n",
    "    (station_df[\"fuel_moisture\"]==1) & \n",
    "    (station_df[\"relative_humidity\"]==1) &\n",
    "    (station_df[\"precip_accum\"]==1) &\n",
    "    (station_df[\"air_temp\"]==1) &\n",
    "    (station_df[\"wind_speed\"]==1) &\n",
    "    (station_df[\"solar_radiation\"]==1)\n",
    "]\n",
    "# Extract station IDs\n",
    "\n",
    "ids = station_df['STID'].tolist()"
   ]
  },
  {
   "cell_type": "code",
   "execution_count": null,
   "id": "5492a962-b3da-4407-86d9-8ba35d004c29",
   "metadata": {
    "tags": []
   },
   "outputs": [],
   "source": [
    "print('Number of RAWS Stations: ',station_df.shape[0])"
   ]
  },
  {
   "cell_type": "code",
   "execution_count": null,
   "id": "99dde77e-5f6f-4e45-babf-f7599e8fca14",
   "metadata": {},
   "outputs": [],
   "source": [
    "# write output\n",
    "# station_df.to_csv(osp.join(outpath, 'station_df_co.csv'), index=False)"
   ]
  },
  {
   "cell_type": "markdown",
   "id": "1d92fcdb-afaa-4048-848e-e201b29040c4",
   "metadata": {},
   "source": [
    "## Get Observations"
   ]
  },
  {
   "cell_type": "code",
   "execution_count": null,
   "id": "5ca1523d-b381-457c-9051-d2352144a666",
   "metadata": {
    "tags": []
   },
   "outputs": [],
   "source": [
    "# Queuery all stations with complete vars\n",
    "meso_ts = m.timeseries(time_start, time_end, stid=ids, showemptystations = '0', vars=vars)   # ask the object for data"
   ]
  },
  {
   "cell_type": "code",
   "execution_count": null,
   "id": "7abd402f-af58-46ce-8cb6-6854201f9d31",
   "metadata": {
    "tags": []
   },
   "outputs": [],
   "source": [
    "# Dictionary to be saved for testing\n",
    "test_dict = {}"
   ]
  },
  {
   "cell_type": "code",
   "execution_count": null,
   "id": "86e20fc8-f935-4577-83d7-ac188739698d",
   "metadata": {
    "tags": []
   },
   "outputs": [],
   "source": [
    "for i in range(0, len(meso_ts['STATION'])):\n",
    "    raws1 = format_raws(meso_ts['STATION'][i])\n",
    "    dict1={\n",
    "        'id': 'case'+str(i+1),\n",
    "        'time': raws1['time'],\n",
    "        'rain': raws1['rain'],\n",
    "        'fm' : raws1['fm'],\n",
    "        'rh' : raws1['rh'],\n",
    "        'temp' : raws1['temp'],\n",
    "        'Ed' : raws1['Ed'],\n",
    "        'Ew' : raws1['Ew'],\n",
    "        'wind' : raws1['wind_speed'],\n",
    "        'solar' : raws1['solar'],\n",
    "        'STID' : raws1['STID'],\n",
    "        'title' : 'RAWS Station '+raws1['STID'],\n",
    "        'descr' : 'RAWS sensor data, Colorado',\n",
    "        'hours':len(raws1['time']),\n",
    "        'h2':int(24*20),\n",
    "        'other': {'lon': raws1['lon'], 'lat': raws1['lat']}\n",
    "    }\n",
    "    test_dict['case'+str(i+1)] = dict1 # save to test dictionary"
   ]
  },
  {
   "cell_type": "markdown",
   "id": "35ab9bfc-1773-4d50-a83c-69780945245b",
   "metadata": {},
   "source": [
    "## Save Dictionary"
   ]
  },
  {
   "cell_type": "code",
   "execution_count": null,
   "id": "5f0f7cff-96bb-4b1e-a2b7-3fc2afcf5770",
   "metadata": {
    "tags": []
   },
   "outputs": [],
   "source": [
    "# Create file name from environment vars\n",
    "filename = \"testing_dict\"+\"_\"+state_str+\"_\"+time_start[0:6:1]\n",
    "print(filename)"
   ]
  },
  {
   "cell_type": "code",
   "execution_count": null,
   "id": "6aac2c25-b605-4437-b1de-f0f46cbba308",
   "metadata": {
    "tags": []
   },
   "outputs": [],
   "source": [
    "os.chdir('data')\n",
    "with open(filename+'.pickle', 'wb') as handle:\n",
    "    pickle.dump(test_dict, handle, protocol=pickle.HIGHEST_PROTOCOL)"
   ]
  },
  {
   "cell_type": "code",
   "execution_count": null,
   "id": "a6bdb681-0843-4dac-be53-e45aa0f4b991",
   "metadata": {},
   "outputs": [],
   "source": []
  }
 ],
 "metadata": {
  "kernelspec": {
   "display_name": "Python 3 (ipykernel)",
   "language": "python",
   "name": "python3"
  },
  "language_info": {
   "codemirror_mode": {
    "name": "ipython",
    "version": 3
   },
   "file_extension": ".py",
   "mimetype": "text/x-python",
   "name": "python",
   "nbconvert_exporter": "python",
   "pygments_lexer": "ipython3",
   "version": "3.9.12"
  }
 },
 "nbformat": 4,
 "nbformat_minor": 5
}
