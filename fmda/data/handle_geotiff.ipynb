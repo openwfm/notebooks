{
 "cells": [
  {
   "cell_type": "markdown",
   "id": "f03213ea-7260-4f78-9b3b-99cc2ac18358",
   "metadata": {},
   "source": [
    "# Geotiff Interpolation Tutorial\n",
    "\n",
    "The purpose of this notebook is to demonstrate interpolation from geotiff files to lon/lat pairs. In this case, the geotiff files are bands from HRRR grib2 files collected using `wrfxpy` methods on Alderaan. The lon/lat pairs are collected from RAWS stations with `Mesopy`, and assumed to be in the WGS84 standard coordinate system AKA EPSG 4326.\n",
    "\n",
    "The tiff files are saved with naming a convention that stores the UTC time info as well as the associated band. See:\n",
    "\n",
    "https://www.nco.ncep.noaa.gov/pmb/products/hrrr/hrrr.t00z.wrfprsf00.grib2.shtml"
   ]
  },
  {
   "cell_type": "markdown",
   "id": "9f0e2346-5d88-4b9f-9b07-751238700af9",
   "metadata": {},
   "source": [
    "# Setup "
   ]
  },
  {
   "cell_type": "code",
   "execution_count": null,
   "id": "110e36b1-61ea-4578-afc1-f774b7f61ee2",
   "metadata": {},
   "outputs": [],
   "source": [
    "import os\n",
    "import os.path as osp\n",
    "import numpy as np\n",
    "from osgeo import gdal, osr\n",
    "import matplotlib.pyplot as plt\n",
    "import pandas as pd"
   ]
  },
  {
   "cell_type": "code",
   "execution_count": null,
   "id": "840400eb-378d-42d7-bfc3-7280046550ae",
   "metadata": {},
   "outputs": [],
   "source": [
    "path = os.getcwd()\n",
    "tpath = osp.join(path,\"hrrr.t00z.wrfprsf00.616.tif\")"
   ]
  },
  {
   "cell_type": "code",
   "execution_count": null,
   "id": "5eaf3f83-a862-488d-a860-b2301a35ead3",
   "metadata": {
    "scrolled": true
   },
   "outputs": [],
   "source": [
    "# Get RAWS Station lat/lon\n",
    "sts = pd.read_csv(\"C:/Users/jhirs/Documents/Projects/openwfm/notebooks/fmda/data/raws_stations_CO.csv\")\n",
    "sts"
   ]
  },
  {
   "cell_type": "code",
   "execution_count": null,
   "id": "8135266a-3638-4332-b79e-58fbca955f01",
   "metadata": {},
   "outputs": [],
   "source": [
    "# Extract data from tif file\n",
    "ds = gdal.Open(tpath)\n",
    "width = ds.RasterXSize\n",
    "height = ds.RasterYSize\n",
    "gt = ds.GetGeoTransform()\n",
    "gp = ds.GetProjection()\n",
    "# data = np.array(ds.ReadAsArray())"
   ]
  },
  {
   "cell_type": "code",
   "execution_count": null,
   "id": "b1195375-c6e8-4d57-b296-a5ed3f467a39",
   "metadata": {},
   "outputs": [],
   "source": [
    "print(width)\n",
    "print(height)\n",
    "print(gt)\n",
    "print(gp)"
   ]
  },
  {
   "cell_type": "code",
   "execution_count": null,
   "id": "1bdb1170-6d6d-4dba-84a0-2dbe8ecac11c",
   "metadata": {},
   "outputs": [],
   "source": [
    "print('Raster count: ' + str(ds.RasterCount))"
   ]
  },
  {
   "cell_type": "code",
   "execution_count": null,
   "id": "7c9ac9cd-a4ec-4f95-923f-ba6ec1f51d30",
   "metadata": {},
   "outputs": [],
   "source": [
    "band = ds.GetRasterBand(1)\n",
    "data = band.ReadAsArray()"
   ]
  },
  {
   "cell_type": "markdown",
   "id": "74b529ac-9ad4-407c-bb92-31828f4b43d9",
   "metadata": {},
   "source": [
    "# Plot Raster File\n",
    "\n",
    "Using `imshow`, add a point at 100,100 just to demonstrate image indexing.\n",
    "\n",
    "source: https://www.geeksforgeeks.org/visualizing-tiff-file-using-matplotlib-and-gdal-using-python/"
   ]
  },
  {
   "cell_type": "code",
   "execution_count": null,
   "id": "0dcb3b37-d7d9-41ac-871b-bcc064cb2207",
   "metadata": {
    "scrolled": true
   },
   "outputs": [],
   "source": [
    "# Plot\n",
    "plt.imshow(data)\n",
    "plt.plot(100, 100, marker='o', color='blue', markersize=6)\n",
    "plt.annotate(\"(100,100)\", (100,100), color='blue')"
   ]
  },
  {
   "cell_type": "markdown",
   "id": "87ba2725-1512-4218-9bf7-e5e3082d4bb8",
   "metadata": {},
   "source": [
    "# Interp Lat/Lon\n",
    "\n",
    "Source (nearest neighbor method): https://stackoverflow.com/questions/69034965/given-a-geotiff-file-how-does-one-find-the-single-pixel-closest-to-a-given-lati"
   ]
  },
  {
   "cell_type": "code",
   "execution_count": null,
   "id": "d332d1d5-4e2a-454c-bbf7-a8d5401296e7",
   "metadata": {},
   "outputs": [],
   "source": [
    "point_srs = osr.SpatialReference()\n",
    "point_srs.ImportFromEPSG(4326) # hardcode for lon/lat\n",
    "\n",
    "# GDAL>=3: make sure it's x/y\n",
    "# see https://trac.osgeo.org/gdal/wiki/rfc73_proj6_wkt2_srsbarn\n",
    "point_srs.SetAxisMappingStrategy(osr.OAMS_TRADITIONAL_GIS_ORDER)     \n",
    "\n",
    "file_srs = osr.SpatialReference()\n",
    "file_srs.ImportFromWkt(gp)"
   ]
  },
  {
   "cell_type": "code",
   "execution_count": null,
   "id": "3399032e-2832-473d-a0f9-701a107303e1",
   "metadata": {},
   "outputs": [],
   "source": [
    "ct = osr.CoordinateTransformation(point_srs, file_srs)\n",
    "\n",
    "point_x = sts['lon'][0] # lon\n",
    "point_y = sts['lat'][0]  # lat\n",
    "mapx, mapy, z = ct.TransformPoint(point_x, point_y) # output: coordinate pair (m)"
   ]
  },
  {
   "cell_type": "code",
   "execution_count": null,
   "id": "e7d90e9a-031f-49c9-9229-1da02125376f",
   "metadata": {},
   "outputs": [],
   "source": [
    "gt_inv = gdal.InvGeoTransform(gt)\n",
    "pixel_x, pixel_y = gdal.ApplyGeoTransform(gt_inv, mapx, mapy)"
   ]
  },
  {
   "cell_type": "markdown",
   "id": "b188fe33-3d41-437e-8eec-6b050a79bfb3",
   "metadata": {},
   "source": [
    "We plot the image with the pixel annotated. The lon/lat pair is from a RAWS station near Colorado Springs, which matches the image below."
   ]
  },
  {
   "cell_type": "code",
   "execution_count": null,
   "id": "7bbfb4ef-11f9-4f01-a8cc-01ddd972a000",
   "metadata": {},
   "outputs": [],
   "source": [
    "plt.imshow(data)\n",
    "\n",
    "# Plot pixel translation with annotations\n",
    "plt.plot(pixel_x,pixel_y, marker='o', color='blue', markersize=6)\n",
    "plt.annotate(f\"Pixels: ({round(pixel_x, 2)}, {round(pixel_y, 2)})\", xy=(pixel_x, pixel_y),\n",
    "            xytext=(pixel_x-100, pixel_y-100), fontsize=8, color='blue')\n",
    "plt.annotate(f\"Lon/Lat: ({round(point_x, 2)}, {round(point_y, 2)})\", xy=(pixel_x, pixel_y),\n",
    "           xytext=(pixel_x-100, pixel_y-50), fontsize=8, color='blue')"
   ]
  },
  {
   "cell_type": "markdown",
   "id": "19bc96c4-5b62-4484-bcec-94ce9bec27a5",
   "metadata": {},
   "source": [
    "After this point, the tutorial goes on to describe a method for nearest neighbor. This is just one form of interpolation, so various methods will be explored below.\n",
    "\n",
    "We will plot a zoomed in version of the pixels to demonstrate this."
   ]
  },
  {
   "cell_type": "code",
   "execution_count": null,
   "id": "242d8106-79c7-4948-a15d-6f4e4ddf0cec",
   "metadata": {},
   "outputs": [],
   "source": [
    "plt.imshow(data)\n",
    "\n",
    "# Plot pixel translation with annotations\n",
    "plt.plot(pixel_x,pixel_y, marker='o', color='blue', markersize=6,\n",
    "        label=f\"({round(pixel_x, 2)}, {round(pixel_y, 2)})\")\n",
    "\n",
    "# Zoom in, set limits from plotted pixel\n",
    "offset = 5\n",
    "plt.xlim(pixel_x-offset, pixel_x+offset) # Note different +/- bc origin is topright\n",
    "plt.ylim(pixel_y+offset,pixel_y-offset)\n",
    "\n",
    "# Plot 4 points bracketing target pixel\n",
    "x1, y1=np.floor(pixel_x), np.floor(pixel_y)\n",
    "x2, y2=np.floor(pixel_x), np.ceil(pixel_y)\n",
    "x3, y3=np.ceil(pixel_x), np.floor(pixel_y)\n",
    "x4, y4=np.ceil(pixel_x), np.ceil(pixel_y)\n",
    "\n",
    "plt.plot(x1,y1, marker='o', color='red', markersize=4, label='Bracketing Pixels')\n",
    "plt.plot(x2,y2, marker='o', color='red', markersize=4)\n",
    "plt.plot(x3,y3, marker='o', color='red', markersize=4)\n",
    "plt.plot(x4,y4, marker='o', color='red', markersize=4)\n",
    "\n",
    "plt.legend()"
   ]
  },
  {
   "cell_type": "markdown",
   "id": "a3362432-1469-47e2-aa77-d5eb4aede959",
   "metadata": {},
   "source": [
    "# Interpolation Methods"
   ]
  },
  {
   "cell_type": "markdown",
   "id": "c0b16dbc-d206-414f-aa55-9c91482f3489",
   "metadata": {},
   "source": [
    "## Nearest Neighbor (L1)\n",
    "\n",
    "The tutorial linked above simply rounds the pixel x and y coordinates to the nearest pixels and takes the value from that grid location. This is mathematically equivalent to an L1 nearest neighbor, or manhattan distance minimization."
   ]
  },
  {
   "cell_type": "code",
   "execution_count": null,
   "id": "7dc6b796-33fc-461b-be5c-5b175d8a1d1f",
   "metadata": {},
   "outputs": [],
   "source": [
    "# round to pixel\n",
    "x_l1 = round(pixel_x)\n",
    "y_l1 = round(pixel_y)"
   ]
  },
  {
   "cell_type": "code",
   "execution_count": null,
   "id": "e4bf3262-752d-46f5-a4f8-9f90a68a6b4c",
   "metadata": {},
   "outputs": [],
   "source": [
    "plt.imshow(data)\n",
    "\n",
    "# Plot pixel translation with annotations\n",
    "plt.plot(pixel_x,pixel_y, marker='o', color='blue', markersize=6,\n",
    "        label=f\"({round(pixel_x, 2)}, {round(pixel_y, 2)})\")\n",
    "\n",
    "# Zoom in, set limits from plotted pixel\n",
    "offset = 5\n",
    "plt.xlim(pixel_x-offset, pixel_x+offset) # Note different +/- bc origin is topright\n",
    "plt.ylim(pixel_y+offset,pixel_y-offset)\n",
    "\n",
    "# Plot 4 points bracketing target pixel\n",
    "x1, y1=np.floor(pixel_x), np.floor(pixel_y)\n",
    "x2, y2=np.floor(pixel_x), np.ceil(pixel_y)\n",
    "x3, y3=np.ceil(pixel_x), np.floor(pixel_y)\n",
    "x4, y4=np.ceil(pixel_x), np.ceil(pixel_y)\n",
    "\n",
    "plt.plot(x1,y1, marker='o', color='red', markersize=4, label='Bracketing Pixels')\n",
    "plt.plot(x2,y2, marker='o', color='red', markersize=4)\n",
    "plt.plot(x3,y3, marker='o', color='red', markersize=4)\n",
    "plt.plot(x4,y4, marker='o', color='red', markersize=4)\n",
    "\n",
    "# Plot interpolated pixel\n",
    "plt.plot(x_l1,y_l1, marker='o', color='purple', markersize=5,\n",
    "        label='Interpolated')\n",
    "interp_val = data[y_l1, x_l1]\n",
    "plt.annotate(\"Interp. Value=\"+str(round(interp_val, 5)), xy=(x_l1, y_l1), xytext=(x_l1-1, y_l1-2), color='purple')\n",
    "\n",
    "plt.title(\"L1 Nearest Neighbor\")\n",
    "plt.legend()"
   ]
  },
  {
   "cell_type": "markdown",
   "id": "5be4be9c-e5e8-4531-840a-833cbb07b5d0",
   "metadata": {},
   "source": [
    "NOTE: The HRRR documentation says that 2m Temperature, band 616, should be in degrees K. But obviously this data is in degrees C. We will have to check this in the future."
   ]
  },
  {
   "cell_type": "markdown",
   "id": "ec7f3ce4-96b1-49b8-b1c5-46f31bad88c6",
   "metadata": {},
   "source": [
    "## Nearest Neighbor (L2)\n",
    "\n",
    "In `wrfxpy`, the function `find_closest_grid_point` is defined to find the L2 nearest neighbor, which finds the minimum sum of squared distance (Euclidean norm).\n",
    "\n",
    "https://github.com/openwfm/wrfxpy/blob/master/src/utils.py#L529\n",
    "\n",
    "NOTE: very slow implementation, but I wanted to reproduce the method clearly. In this case, the interpolated value is the same as L1."
   ]
  },
  {
   "cell_type": "code",
   "execution_count": null,
   "id": "09d65190-a4d0-4e8a-b6cf-494b636ce37a",
   "metadata": {},
   "outputs": [],
   "source": [
    "x = np.arange(0, band.XSize)\n",
    "y = np.arange(0, band.YSize)\n",
    "pixels = [(xx, yy) for xx in x for yy in y]\n",
    "d = np.zeros(len(pixels))\n",
    "for i in range(0, len(pixels)):\n",
    "    p = pixels[i]\n",
    "    d[i] = (pixel_x - p[0])**2 + (pixel_y - p[1])**2\n",
    "\n",
    "nearest = pixels[np.argmin(d)]"
   ]
  },
  {
   "cell_type": "code",
   "execution_count": null,
   "id": "c8165a6e-f63b-4b9e-841d-27570829b3ee",
   "metadata": {},
   "outputs": [],
   "source": [
    "plt.imshow(data)\n",
    "\n",
    "# Plot pixel translation with annotations\n",
    "plt.plot(pixel_x,pixel_y, marker='o', color='blue', markersize=6,\n",
    "        label=f\"({round(pixel_x, 2)}, {round(pixel_y, 2)})\")\n",
    "\n",
    "# Zoom in, set limits from plotted pixel\n",
    "offset = 5\n",
    "plt.xlim(pixel_x-offset, pixel_x+offset) # Note different +/- bc origin is topright\n",
    "plt.ylim(pixel_y+offset,pixel_y-offset)\n",
    "\n",
    "# Plot 4 points bracketing target pixel\n",
    "x1, y1=np.floor(pixel_x), np.floor(pixel_y)\n",
    "x2, y2=np.floor(pixel_x), np.ceil(pixel_y)\n",
    "x3, y3=np.ceil(pixel_x), np.floor(pixel_y)\n",
    "x4, y4=np.ceil(pixel_x), np.ceil(pixel_y)\n",
    "\n",
    "plt.plot(x1,y1, marker='o', color='red', markersize=4, label='Bracketing Pixels')\n",
    "plt.plot(x2,y2, marker='o', color='red', markersize=4)\n",
    "plt.plot(x3,y3, marker='o', color='red', markersize=4)\n",
    "plt.plot(x4,y4, marker='o', color='red', markersize=4)\n",
    "\n",
    "# find nearest L2 pixel\n",
    "plt.plot(nearest[0],nearest[1], marker='o', color='purple', markersize=5,\n",
    "        label='Interpolated')\n",
    "interp_val = data[nearest[1], nearest[0]]\n",
    "plt.annotate(\"Interp. Value=\"+str(round(interp_val, 5)), xy=(x_l1, y_l1), xytext=(x_l1-1, y_l1-2), color='purple')\n",
    "\n",
    "\n",
    "plt.title(\"L2 Nearest Neighbor\")\n",
    "plt.legend()"
   ]
  },
  {
   "cell_type": "markdown",
   "id": "a6c2987c-99ed-4313-85bc-47630f111775",
   "metadata": {},
   "source": [
    "## Average Bracketing Points\n",
    "\n",
    "Given the 4 bracketing points, interpolate the mean value."
   ]
  },
  {
   "cell_type": "code",
   "execution_count": null,
   "id": "8d0124de-dd5a-4913-acb9-b2b81ba2bfcc",
   "metadata": {},
   "outputs": [],
   "source": [
    "plt.imshow(data)\n",
    "\n",
    "# Plot pixel translation with annotations\n",
    "plt.plot(pixel_x,pixel_y, marker='o', color='blue', markersize=6,\n",
    "        label=f\"({round(pixel_x, 2)}, {round(pixel_y, 2)})\")\n",
    "\n",
    "# Zoom in, set limits from plotted pixel\n",
    "offset = 5\n",
    "plt.xlim(pixel_x-offset, pixel_x+offset) # Note different +/- bc origin is topright\n",
    "plt.ylim(pixel_y+offset,pixel_y-offset)\n",
    "\n",
    "# Plot 4 points bracketing target pixel\n",
    "x1, y1=int(np.floor(pixel_x)), int(np.floor(pixel_y))\n",
    "x2, y2=int(np.floor(pixel_x)), int(np.ceil(pixel_y))\n",
    "x3, y3=int(np.ceil(pixel_x)), int(np.floor(pixel_y))\n",
    "x4, y4=int(np.ceil(pixel_x)), int(np.ceil(pixel_y))\n",
    "\n",
    "plt.plot(x1,y1, marker='o', color='red', markersize=4, label='Bracketing Pixels')\n",
    "plt.plot(x2,y2, marker='o', color='red', markersize=4)\n",
    "plt.plot(x3,y3, marker='o', color='red', markersize=4)\n",
    "plt.plot(x4,y4, marker='o', color='red', markersize=4)\n",
    "\n",
    "interp_val = np.mean([data[y1, x1], data[y2, x2], data[y3, x3], data[y4, 4]])\n",
    "plt.annotate(\"Interp. Value=\"+str(round(interp_val, 5)), xy=(pixel_x, pixel_y), xytext=(pixel_x-1, pixel_y-2), color='purple')\n",
    "\n",
    "\n",
    "plt.title(\"Average 4 Nearest Neighbors\")\n",
    "plt.legend()"
   ]
  },
  {
   "cell_type": "markdown",
   "id": "80322dc5-efa2-4241-8f08-ffc58828f6f2",
   "metadata": {},
   "source": [
    "## Scipy griddata interpolation package"
   ]
  },
  {
   "cell_type": "markdown",
   "id": "76f5146e-b6ed-4b2b-8da6-927a747c0ed0",
   "metadata": {},
   "source": [
    "https://docs.scipy.org/doc/scipy/reference/generated/scipy.interpolate.griddata.html"
   ]
  },
  {
   "cell_type": "code",
   "execution_count": null,
   "id": "361bdffc-13e8-4366-8b4e-4d9292f135ae",
   "metadata": {},
   "outputs": [],
   "source": [
    "from scipy.interpolate import griddata"
   ]
  },
  {
   "cell_type": "markdown",
   "id": "6da0597f-b393-4d27-9e2a-e522bf8506f3",
   "metadata": {},
   "source": [
    "## Validate Geolocation\n",
    "\n",
    "Goals:\n",
    "\n",
    "* create two fake geotiff\n",
    "* create data array with known lon/lat values\n",
    "* evaluate and you should get coord back exactly\n",
    "\n",
    "Steps here:\n",
    "\n",
    "* Convert pixel indices (e.g. (0,0), (0,1)...) to lat lon\n",
    "* Save lats and lons in array of same dimension as raster band\n",
    "* Save as geotiff\n",
    "* Read that file back in to do steps above\n",
    "\n",
    "\n",
    "Modified from Source: https://stackoverflow.com/questions/59052516/find-lat-long-coordinates-from-pixel-point-in-geotiff-using-python-and-gdaltly"
   ]
  },
  {
   "cell_type": "code",
   "execution_count": null,
   "id": "7d3560ad-6e14-4686-8ca3-cac6816b77e4",
   "metadata": {},
   "outputs": [],
   "source": [
    "# Generate Arrays of pixel indices\n",
    "lons = np.zeros((1059, 1799))\n",
    "lats = np.zeros((1059, 1799))"
   ]
  },
  {
   "cell_type": "code",
   "execution_count": null,
   "id": "b356ed24-b99c-4a3c-b783-9b708a34555c",
   "metadata": {},
   "outputs": [],
   "source": [
    "from osgeo import osr, ogr, gdal\n",
    "\n",
    "def pixel_to_world(geo_matrix, x, y):\n",
    "    # Given geotransform info of a geotiff file and an (x,y) pixel coord pair, return the coord pair that matches the geotiff in meters\n",
    "    # Inputs: \n",
    "    # geomatrix: output of ds.GetGeoTransform() for given geotiff file\n",
    "    # tuple of length 6 contains: \n",
    "    # A geotransform consists in a set of 6 coefficients\n",
    "    # GT(0) x-coordinate of the upper-left corner of the upper-left pixel.\n",
    "    # GT(1) w-e pixel resolution / pixel width.\n",
    "    # GT(2) row rotation (typically zero).\n",
    "    # GT(3) y-coordinate of the upper-left corner of the upper-left pixel.\n",
    "    # GT(4) column rotation (typically zero).\n",
    "    # GT(5) n-s pixel resolution / pixel height (negative value for a north-up image).\n",
    "    # x: pixel index x coord (1)\n",
    "    # y: pixel index y coord (1)\n",
    "    # Return: coordinates of same point as given x,y as offset from UL (m)\n",
    "    # Example: pixel_to_world(mat, 0, 0) returns UL x,y from geotiff\n",
    "    \n",
    "    ul_x = geo_matrix[0]\n",
    "    ul_y = geo_matrix[3]\n",
    "    x_dist = geo_matrix[1]\n",
    "    y_dist = geo_matrix[5]\n",
    "    _x = x * x_dist + ul_x\n",
    "    _y = y * y_dist + ul_y\n",
    "    return _x, _y\n",
    "\n",
    "\n",
    "def build_transform_inverse(dataset, EPSG):\n",
    "    # Given gdal dataset and target EPSG, return transformation function that transforms meter coord pairs to pixel coord pairs \n",
    "    # Inputs:\n",
    "    # dataset: geotiff file\n",
    "    # EPSG: integer\n",
    "    source = osr.SpatialReference(wkt=dataset.GetProjection())\n",
    "    target = osr.SpatialReference()\n",
    "    target.ImportFromEPSG(EPSG)\n",
    "    return osr.CoordinateTransformation(source, target)\n",
    "\n",
    "def world_to_epsg(wx, wy, trans):\n",
    "    # Inputs:\n",
    "    # wx, wy: output of build_transform_inverse\n",
    "    # wx: x coordinate (m) related to geotiff reference point\n",
    "    # wy: y coordinate (m) related to geotiff reference point\n",
    "    # transform: function to transform to given epsg, function type is osgeo.osr.CoordinateTransformation\n",
    "    point = ogr.Geometry(ogr.wkbPoint)\n",
    "    point.AddPoint(wx, wy)\n",
    "    point.Transform(trans)\n",
    "    return point\n",
    "\n",
    "def find_spatial_coordinate_from_pixel(dataset, x, y, epsg=4326):\n",
    "    # Given gdal dataset, target x y pixel pair, and EPSG, return the EPSG defined coordinate pair \n",
    "    # dataset: gdal dataset, from geotiff file\n",
    "    # x: pixel x coord\n",
    "    # y: pixel y coord\n",
    "    # Return: coord pair in given epsg, eg lat/lon\n",
    "    transform = build_transform_inverse(ds, epsg)\n",
    "    world_x, world_y = pixel_to_world(dataset.GetGeoTransform(), x, y)\n",
    "    point = world_to_epsg(world_x, world_y, transform)\n",
    "    return point.GetX(), point.GetY()\n",
    "\n",
    "ds = gdal.Open(tpath)"
   ]
  },
  {
   "cell_type": "markdown",
   "id": "2f86b706-7eea-49d5-8e32-c5f332b7f439",
   "metadata": {},
   "source": [
    "We want this process to match information from the gdalinfo in the geotiff file. The command line `gdalinfo hrrr.t00z.wrfprsf00.616.tif` returns info on the corner coordinates and center (not (0,0) for some reason). The following output should thus match the return of that command.\n",
    "\n",
    "`gdalinfo` returns coordinates in the \"degrees minute second\" format, so we need to convert decimal degrees to this format to make sure it matches. \n"
   ]
  },
  {
   "cell_type": "code",
   "execution_count": null,
   "id": "9a278659-2196-4055-8f0f-9f79196d8c26",
   "metadata": {},
   "outputs": [],
   "source": [
    "## Test world_to_epsg\n",
    "## For 'center' in file (-520.143, -306.153), not zero for some reason\n",
    "## Should return ( 97d30'21.52\"W, 38d29'50.09\"N)\n",
    "trans = build_transform_inverse(ds, 4326)\n",
    "pt = world_to_epsg(-520.143, -306.153, trans)\n",
    "print(f\"({pt.GetX()},{pt.GetY()})\")"
   ]
  },
  {
   "cell_type": "code",
   "execution_count": null,
   "id": "58d1ff37-dbc2-45dd-9b09-c13b6e39a6c6",
   "metadata": {},
   "outputs": [],
   "source": [
    "## Test on a corner coords\n",
    "print(find_spatial_coordinate_from_pixel(ds, 0, 0)) # upper left\n",
    "print(find_spatial_coordinate_from_pixel(ds, 0, 1058)) # upper right\n",
    "print(find_spatial_coordinate_from_pixel(ds, 1798, 0)) # lower left\n",
    "print(find_spatial_coordinate_from_pixel(ds, 1798, 1058)) # lower right"
   ]
  },
  {
   "cell_type": "markdown",
   "id": "80950022-acbb-4c79-a544-a5c805e28da4",
   "metadata": {},
   "source": [
    "`gdalinfo` returns coordinates with the format \"degree minute second(direction)\", so we need to convert the previous decimal coordinates to make sure we are matching `gdalinfo`."
   ]
  },
  {
   "cell_type": "code",
   "execution_count": null,
   "id": "2dcb20d2-35d9-46d0-9b15-16cd7ec900b4",
   "metadata": {},
   "outputs": [],
   "source": []
  },
  {
   "cell_type": "code",
   "execution_count": null,
   "id": "7e82f6fe-fdd6-4b25-8cbc-3c3d1c3858e2",
   "metadata": {},
   "outputs": [],
   "source": []
  }
 ],
 "metadata": {
  "kernelspec": {
   "display_name": "Python 3 (ipykernel)",
   "language": "python",
   "name": "python3"
  },
  "language_info": {
   "codemirror_mode": {
    "name": "ipython",
    "version": 3
   },
   "file_extension": ".py",
   "mimetype": "text/x-python",
   "name": "python",
   "nbconvert_exporter": "python",
   "pygments_lexer": "ipython3",
   "version": "3.9.12"
  }
 },
 "nbformat": 4,
 "nbformat_minor": 5
}
