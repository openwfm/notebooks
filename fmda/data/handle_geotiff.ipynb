{
 "cells": [
  {
   "cell_type": "markdown",
   "id": "f03213ea-7260-4f78-9b3b-99cc2ac18358",
   "metadata": {},
   "source": [
    "# Geotiff Interpolation Tutorial\n",
    "\n",
    "The purpose of this notebook is to demonstrate interpolation from geotiff files to lon/lat pairs. In this case, the geotiff files are bands from HRRR grib2 files collected using `wrfxpy` methods on Alderaan. The lon/lat pairs are collected from RAWS stations with `Mesopy`, and assumed to be in the WGS84 standard coordinate system AKA EPSG 4326.\n",
    "\n",
    "The tiff files are saved with naming a convention that stores the UTC time info as well as the associated band. See:\n",
    "\n",
    "https://www.nco.ncep.noaa.gov/pmb/products/hrrr/hrrr.t00z.wrfprsf00.grib2.shtml"
   ]
  },
  {
   "cell_type": "markdown",
   "id": "9f0e2346-5d88-4b9f-9b07-751238700af9",
   "metadata": {},
   "source": [
    "# Setup "
   ]
  },
  {
   "cell_type": "code",
   "execution_count": null,
   "id": "110e36b1-61ea-4578-afc1-f774b7f61ee2",
   "metadata": {},
   "outputs": [],
   "source": [
    "import os\n",
    "import os.path as osp\n",
    "import numpy as np\n",
    "from osgeo import gdal, osr\n",
    "import matplotlib.pyplot as plt\n",
    "import pandas as pd\n",
    "import sys\n",
    "sys.path.append('..')\n",
    "from utils import retrieve_url"
   ]
  },
  {
   "cell_type": "code",
   "execution_count": null,
   "id": "3aa52e7f-fbb2-44ff-8308-a27ff93f8ef3",
   "metadata": {},
   "outputs": [],
   "source": [
    "import importlib\n",
    "import utils\n",
    "importlib.reload(utils)\n",
    "from utils import retrieve_url"
   ]
  },
  {
   "cell_type": "code",
   "execution_count": null,
   "id": "c30fdba7-5a53-4bb9-8723-ae9253ae8036",
   "metadata": {},
   "outputs": [],
   "source": [
    "tfile = \"hrrr.t00z.wrfprsf00.585.tif\"\n",
    "retrieve_url(\n",
    "    url = f\"https://demo.openwfm.org/web/data/fmda/tif/20240101/{tfile}\", \n",
    "    dest_path = f\"{tfile}\")"
   ]
  },
  {
   "cell_type": "code",
   "execution_count": null,
   "id": "5eaf3f83-a862-488d-a860-b2301a35ead3",
   "metadata": {
    "scrolled": true
   },
   "outputs": [],
   "source": [
    "# Get RAWS Station lat/lon\n",
    "sts = pd.read_csv(\"C:/Users/jhirs/Documents/Projects/openwfm/notebooks/fmda/data/raws_stations_CO.csv\")\n",
    "sts"
   ]
  },
  {
   "cell_type": "markdown",
   "id": "236d8863-309c-4cbc-8b34-bd5cddda420b",
   "metadata": {},
   "source": [
    "## Read Raster File"
   ]
  },
  {
   "cell_type": "code",
   "execution_count": null,
   "id": "8135266a-3638-4332-b79e-58fbca955f01",
   "metadata": {},
   "outputs": [],
   "source": [
    "# Extract data from tif file\n",
    "ds = gdal.Open(tfile)\n",
    "width = ds.RasterXSize\n",
    "height = ds.RasterYSize\n",
    "gt = ds.GetGeoTransform()\n",
    "gp = ds.GetProjection()\n",
    "# data = np.array(ds.ReadAsArray())"
   ]
  },
  {
   "cell_type": "code",
   "execution_count": null,
   "id": "b1195375-c6e8-4d57-b296-a5ed3f467a39",
   "metadata": {},
   "outputs": [],
   "source": [
    "print(width)\n",
    "print(height)\n",
    "print(gt)\n",
    "print(gp)"
   ]
  },
  {
   "cell_type": "code",
   "execution_count": null,
   "id": "c10688f1-9649-44b6-a32f-9ae794548da0",
   "metadata": {},
   "outputs": [],
   "source": [
    "print(gt)"
   ]
  },
  {
   "cell_type": "code",
   "execution_count": null,
   "id": "1bdb1170-6d6d-4dba-84a0-2dbe8ecac11c",
   "metadata": {},
   "outputs": [],
   "source": [
    "print('Raster count: ' + str(ds.RasterCount))"
   ]
  },
  {
   "cell_type": "code",
   "execution_count": null,
   "id": "7c9ac9cd-a4ec-4f95-923f-ba6ec1f51d30",
   "metadata": {},
   "outputs": [],
   "source": [
    "band = ds.GetRasterBand(1)\n",
    "data = band.ReadAsArray()"
   ]
  },
  {
   "cell_type": "markdown",
   "id": "74b529ac-9ad4-407c-bb92-31828f4b43d9",
   "metadata": {},
   "source": [
    "# Plot Raster File\n",
    "\n",
    "Using `imshow`, add a point at 100,100 just to demonstrate image indexing.\n",
    "\n",
    "source: https://www.geeksforgeeks.org/visualizing-tiff-file-using-matplotlib-and-gdal-using-python/"
   ]
  },
  {
   "cell_type": "code",
   "execution_count": null,
   "id": "0dcb3b37-d7d9-41ac-871b-bcc064cb2207",
   "metadata": {
    "scrolled": true
   },
   "outputs": [],
   "source": [
    "# Plot\n",
    "plt.imshow(data)\n",
    "plt.plot(100, 100, marker='o', color='blue', markersize=6)\n",
    "plt.annotate(\"(100,100)\", (100,100), color='blue')"
   ]
  },
  {
   "cell_type": "markdown",
   "id": "87ba2725-1512-4218-9bf7-e5e3082d4bb8",
   "metadata": {},
   "source": [
    "# Nearest Neighbor Lat/Lon\n",
    "\n",
    "Source (nearest neighbor method): https://stackoverflow.com/questions/69034965/given-a-geotiff-file-how-does-one-find-the-single-pixel-closest-to-a-given-lati"
   ]
  },
  {
   "cell_type": "code",
   "execution_count": null,
   "id": "d332d1d5-4e2a-454c-bbf7-a8d5401296e7",
   "metadata": {},
   "outputs": [],
   "source": [
    "point_srs = osr.SpatialReference()\n",
    "point_srs.ImportFromEPSG(4326) # hardcode for lon/lat\n",
    "\n",
    "# GDAL>=3: make sure it's x/y\n",
    "# see https://trac.osgeo.org/gdal/wiki/rfc73_proj6_wkt2_srsbarn\n",
    "point_srs.SetAxisMappingStrategy(osr.OAMS_TRADITIONAL_GIS_ORDER)     \n",
    "\n",
    "file_srs = osr.SpatialReference()\n",
    "file_srs.ImportFromWkt(gp)"
   ]
  },
  {
   "cell_type": "code",
   "execution_count": null,
   "id": "3399032e-2832-473d-a0f9-701a107303e1",
   "metadata": {},
   "outputs": [],
   "source": [
    "ct = osr.CoordinateTransformation(point_srs, file_srs)\n",
    "\n",
    "point_x = -105.002133 # lon\n",
    "point_y = 39.746153  # lat\n",
    "mapx, mapy, z = ct.TransformPoint(point_x, point_y) # output: coordinate pair (m)"
   ]
  },
  {
   "cell_type": "code",
   "execution_count": null,
   "id": "352bef20-7e53-4b80-8669-fea2b3c0767f",
   "metadata": {},
   "outputs": [],
   "source": [
    "mapx"
   ]
  },
  {
   "cell_type": "code",
   "execution_count": null,
   "id": "a4203c63-a0bb-421f-b476-b27ea9f6abbe",
   "metadata": {},
   "outputs": [],
   "source": [
    "mapy"
   ]
  },
  {
   "cell_type": "code",
   "execution_count": null,
   "id": "f93b0e4a-d632-4787-8edc-e736eb881e03",
   "metadata": {},
   "outputs": [],
   "source": [
    "z"
   ]
  },
  {
   "cell_type": "code",
   "execution_count": null,
   "id": "e7d90e9a-031f-49c9-9229-1da02125376f",
   "metadata": {},
   "outputs": [],
   "source": [
    "gt_inv = gdal.InvGeoTransform(gt)\n",
    "pixel_x, pixel_y = gdal.ApplyGeoTransform(gt_inv, mapx, mapy)"
   ]
  },
  {
   "cell_type": "markdown",
   "id": "b188fe33-3d41-437e-8eec-6b050a79bfb3",
   "metadata": {},
   "source": [
    "We plot the image with the pixel annotated. The lon/lat pair is from a RAWS station near Colorado Springs, which matches the image below."
   ]
  },
  {
   "cell_type": "code",
   "execution_count": null,
   "id": "7bbfb4ef-11f9-4f01-a8cc-01ddd972a000",
   "metadata": {},
   "outputs": [],
   "source": [
    "plt.imshow(data)\n",
    "\n",
    "# Plot pixel translation with annotations\n",
    "plt.plot(pixel_x,pixel_y, marker='o', color='blue', markersize=6)\n",
    "plt.annotate(f\"Pixels: ({round(pixel_x, 2)}, {round(pixel_y, 2)})\", xy=(pixel_x, pixel_y),\n",
    "            xytext=(pixel_x-100, pixel_y-100), fontsize=8, color='lightblue')\n",
    "plt.annotate(f\"Lon/Lat: ({round(point_x, 2)}, {round(point_y, 2)})\", xy=(pixel_x, pixel_y),\n",
    "           xytext=(pixel_x-100, pixel_y-50), fontsize=8, color='lightblue')"
   ]
  },
  {
   "cell_type": "markdown",
   "id": "19bc96c4-5b62-4484-bcec-94ce9bec27a5",
   "metadata": {},
   "source": [
    "After this point, the tutorial goes on to describe a method for nearest neighbor. This is just one form of interpolation, so various methods will be explored below.\n",
    "\n",
    "We will plot a zoomed in version of the pixels to demonstrate this."
   ]
  },
  {
   "cell_type": "code",
   "execution_count": null,
   "id": "242d8106-79c7-4948-a15d-6f4e4ddf0cec",
   "metadata": {},
   "outputs": [],
   "source": [
    "plt.imshow(data)\n",
    "\n",
    "# Plot pixel translation with annotations\n",
    "plt.plot(pixel_x,pixel_y, marker='o', color='lightblue', markersize=6,\n",
    "        label=f\"({round(pixel_x, 2)}, {round(pixel_y, 2)})\")\n",
    "\n",
    "# Zoom in, set limits from plotted pixel\n",
    "offset = 5\n",
    "plt.xlim(pixel_x-offset, pixel_x+offset) # Note different +/- bc origin is topright\n",
    "plt.ylim(pixel_y+offset,pixel_y-offset)\n",
    "\n",
    "# Plot 4 points bracketing target pixel\n",
    "x1, y1=np.floor(pixel_x), np.floor(pixel_y)\n",
    "x2, y2=np.floor(pixel_x), np.ceil(pixel_y)\n",
    "x3, y3=np.ceil(pixel_x), np.floor(pixel_y)\n",
    "x4, y4=np.ceil(pixel_x), np.ceil(pixel_y)\n",
    "\n",
    "plt.plot(x1,y1, marker='o', color='red', markersize=4, label='Bracketing Points')\n",
    "plt.plot(x2,y2, marker='o', color='red', markersize=4)\n",
    "plt.plot(x3,y3, marker='o', color='red', markersize=4)\n",
    "plt.plot(x4,y4, marker='o', color='red', markersize=4)\n",
    "\n",
    "plt.legend()"
   ]
  },
  {
   "cell_type": "markdown",
   "id": "a3362432-1469-47e2-aa77-d5eb4aede959",
   "metadata": {},
   "source": [
    "# Interpolation Methods"
   ]
  },
  {
   "cell_type": "markdown",
   "id": "c0b16dbc-d206-414f-aa55-9c91482f3489",
   "metadata": {},
   "source": [
    "## Nearest Neighbor\n",
    "\n",
    "The tutorial linked above simply rounds the pixel x and y coordinates to the nearest pixels and takes the value from that grid location. This is mathematically equivalent to an L1 nearest neighbor, or manhattan distance minimization."
   ]
  },
  {
   "cell_type": "code",
   "execution_count": null,
   "id": "7dc6b796-33fc-461b-be5c-5b175d8a1d1f",
   "metadata": {},
   "outputs": [],
   "source": [
    "# round to pixel\n",
    "x_l1 = round(pixel_x)\n",
    "y_l1 = round(pixel_y)"
   ]
  },
  {
   "cell_type": "code",
   "execution_count": null,
   "id": "e4bf3262-752d-46f5-a4f8-9f90a68a6b4c",
   "metadata": {},
   "outputs": [],
   "source": [
    "plt.imshow(data)\n",
    "\n",
    "# Plot pixel translation with annotations\n",
    "plt.plot(pixel_x,pixel_y, marker='o', color='blue', markersize=6,\n",
    "        label=f\"({round(pixel_x, 2)}, {round(pixel_y, 2)})\")\n",
    "\n",
    "# Zoom in, set limits from plotted pixel\n",
    "offset = 5\n",
    "plt.xlim(pixel_x-offset, pixel_x+offset) # Note different +/- bc origin is topright\n",
    "plt.ylim(pixel_y+offset,pixel_y-offset)\n",
    "\n",
    "# Plot 4 points bracketing target pixel\n",
    "x1, y1=np.floor(pixel_x), np.floor(pixel_y)\n",
    "x2, y2=np.floor(pixel_x), np.ceil(pixel_y)\n",
    "x3, y3=np.ceil(pixel_x), np.floor(pixel_y)\n",
    "x4, y4=np.ceil(pixel_x), np.ceil(pixel_y)\n",
    "\n",
    "plt.plot(x1,y1, marker='o', color='red', markersize=4, label='Bracketing Points')\n",
    "plt.plot(x2,y2, marker='o', color='red', markersize=4)\n",
    "plt.plot(x3,y3, marker='o', color='red', markersize=4)\n",
    "plt.plot(x4,y4, marker='o', color='red', markersize=4)\n",
    "\n",
    "# Plot interpolated pixel\n",
    "plt.plot(x_l1,y_l1, marker='o', color='purple', markersize=5,\n",
    "        label='Interpolated')\n",
    "interp_val = data[y_l1, x_l1]\n",
    "plt.annotate(\"Interp. Value=\"+str(round(interp_val, 5)), xy=(x_l1, y_l1), xytext=(x_l1-1, y_l1-2), color='purple')\n",
    "\n",
    "plt.title(\"L1 Nearest Neighbor\")\n",
    "plt.legend()"
   ]
  },
  {
   "cell_type": "code",
   "execution_count": null,
   "id": "f75be7c9-1957-4daf-8ec8-368aab6beb90",
   "metadata": {},
   "outputs": [],
   "source": []
  },
  {
   "cell_type": "markdown",
   "id": "ec7f3ce4-96b1-49b8-b1c5-46f31bad88c6",
   "metadata": {},
   "source": [
    "## Nearest Neighbor (Euclidean)\n",
    "\n",
    "In `wrfxpy`, the function `find_closest_grid_point` is defined to find the L2 nearest neighbor, which finds the minimum sum of squared distance (Euclidean norm).\n",
    "\n",
    "https://github.com/openwfm/wrfxpy/blob/master/src/utils.py#L529\n",
    "\n",
    "NOTE: very slow implementation, but I wanted to reproduce the method clearly. In this case, the interpolated value is the same as L1."
   ]
  },
  {
   "cell_type": "code",
   "execution_count": null,
   "id": "09d65190-a4d0-4e8a-b6cf-494b636ce37a",
   "metadata": {},
   "outputs": [],
   "source": [
    "x = np.arange(0, band.XSize)\n",
    "y = np.arange(0, band.YSize)\n",
    "pixels = [(xx, yy) for xx in x for yy in y]\n",
    "d = np.zeros(len(pixels))\n",
    "for i in range(0, len(pixels)):\n",
    "    p = pixels[i]\n",
    "    d[i] = (pixel_x - p[0])**2 + (pixel_y - p[1])**2\n",
    "\n",
    "nearest = pixels[np.argmin(d)]"
   ]
  },
  {
   "cell_type": "code",
   "execution_count": null,
   "id": "c8165a6e-f63b-4b9e-841d-27570829b3ee",
   "metadata": {},
   "outputs": [],
   "source": [
    "plt.imshow(data)\n",
    "\n",
    "# Plot pixel translation with annotations\n",
    "plt.plot(pixel_x,pixel_y, marker='o', color='blue', markersize=6,\n",
    "        label=f\"({round(pixel_x, 2)}, {round(pixel_y, 2)})\")\n",
    "\n",
    "# Zoom in, set limits from plotted pixel\n",
    "offset = 5\n",
    "plt.xlim(pixel_x-offset, pixel_x+offset) # Note different +/- bc origin is topright\n",
    "plt.ylim(pixel_y+offset,pixel_y-offset)\n",
    "\n",
    "# Plot 4 points bracketing target pixel\n",
    "x1, y1=np.floor(pixel_x), np.floor(pixel_y)\n",
    "x2, y2=np.floor(pixel_x), np.ceil(pixel_y)\n",
    "x3, y3=np.ceil(pixel_x), np.floor(pixel_y)\n",
    "x4, y4=np.ceil(pixel_x), np.ceil(pixel_y)\n",
    "\n",
    "plt.plot(x1,y1, marker='o', color='red', markersize=4, label='Bracketing Pixels')\n",
    "plt.plot(x2,y2, marker='o', color='red', markersize=4)\n",
    "plt.plot(x3,y3, marker='o', color='red', markersize=4)\n",
    "plt.plot(x4,y4, marker='o', color='red', markersize=4)\n",
    "\n",
    "# find nearest L2 pixel\n",
    "plt.plot(nearest[0],nearest[1], marker='o', color='purple', markersize=5,\n",
    "        label='Interpolated')\n",
    "interp_val = data[nearest[1], nearest[0]]\n",
    "plt.annotate(\"Interp. Value=\"+str(round(interp_val, 5)), xy=(x_l1, y_l1), xytext=(x_l1-1, y_l1-2), color='purple')\n",
    "\n",
    "\n",
    "plt.title(\"L2 Nearest Neighbor\")\n",
    "plt.legend()"
   ]
  },
  {
   "cell_type": "markdown",
   "id": "a6c2987c-99ed-4313-85bc-47630f111775",
   "metadata": {},
   "source": [
    "## Average Bracketing Points\n",
    "\n",
    "Given the 4 bracketing points, interpolate the mean value."
   ]
  },
  {
   "cell_type": "code",
   "execution_count": null,
   "id": "8d0124de-dd5a-4913-acb9-b2b81ba2bfcc",
   "metadata": {},
   "outputs": [],
   "source": [
    "plt.imshow(data)\n",
    "\n",
    "# Plot pixel translation with annotations\n",
    "plt.plot(pixel_x,pixel_y, marker='o', color='blue', markersize=6,\n",
    "        label=f\"({round(pixel_x, 2)}, {round(pixel_y, 2)})\")\n",
    "\n",
    "# Zoom in, set limits from plotted pixel\n",
    "offset = 5\n",
    "plt.xlim(pixel_x-offset, pixel_x+offset) # Note different +/- bc origin is topright\n",
    "plt.ylim(pixel_y+offset,pixel_y-offset)\n",
    "\n",
    "# Plot 4 points bracketing target pixel\n",
    "x1, y1=int(np.floor(pixel_x)), int(np.floor(pixel_y))\n",
    "x2, y2=int(np.floor(pixel_x)), int(np.ceil(pixel_y))\n",
    "x3, y3=int(np.ceil(pixel_x)), int(np.floor(pixel_y))\n",
    "x4, y4=int(np.ceil(pixel_x)), int(np.ceil(pixel_y))\n",
    "\n",
    "plt.plot(x1,y1, marker='o', color='red', markersize=4, label='Bracketing Points')\n",
    "plt.plot(x2,y2, marker='o', color='red', markersize=4)\n",
    "plt.plot(x3,y3, marker='o', color='red', markersize=4)\n",
    "plt.plot(x4,y4, marker='o', color='red', markersize=4)\n",
    "\n",
    "interp_val = np.mean([data[y1, x1], data[y2, x2], data[y3, x3], data[y4, 4]])\n",
    "plt.annotate(\"Interp. Value=\"+str(round(interp_val, 5)), xy=(pixel_x, pixel_y), xytext=(pixel_x-1, pixel_y-2), color='purple')\n",
    "\n",
    "\n",
    "plt.title(\"Average 4 Nearest Neighbors\")\n",
    "plt.legend()"
   ]
  },
  {
   "cell_type": "markdown",
   "id": "80322dc5-efa2-4241-8f08-ffc58828f6f2",
   "metadata": {},
   "source": [
    "## Scipy griddata interpolation package"
   ]
  },
  {
   "cell_type": "markdown",
   "id": "76f5146e-b6ed-4b2b-8da6-927a747c0ed0",
   "metadata": {},
   "source": [
    "https://docs.scipy.org/doc/scipy/reference/generated/scipy.interpolate.griddata.html"
   ]
  },
  {
   "cell_type": "code",
   "execution_count": null,
   "id": "361bdffc-13e8-4366-8b4e-4d9292f135ae",
   "metadata": {},
   "outputs": [],
   "source": [
    "from scipy.interpolate import griddata"
   ]
  },
  {
   "cell_type": "markdown",
   "id": "5e969ec7-dd62-4a70-bfaf-76c70e70a02d",
   "metadata": {},
   "source": [
    "## WRF-Fire Method\n",
    "\n",
    "The WRF-Fire interpolation method combines a nearest neighbors approach and a linear interpolation. The steps are:\n",
    "* Find nearest neighbor\n",
    "* Construct 3x3 array centered at nearest neighbor\n",
    "* Run linear interpolation (matlab's `scatteredInterpolant` method)\n",
    "\n",
    "The python equivalent of `scatteredInterpolant` is `scipy.interpolate.griddata` (according to StackOverflow and ChatGPT).\n",
    "\n",
    "WRF-Fire Sources:\n",
    "\n",
    "https://github.com/openwfm/wrf-fire-matlab/blob/master/vis/ts_at.m\n",
    "\r\n",
    "https://github.com/openwfm/wrf-fire-matlab/blob/master/vis/ts_at_test.m\r\n"
   ]
  },
  {
   "cell_type": "markdown",
   "id": "6da0597f-b393-4d27-9e2a-e522bf8506f3",
   "metadata": {},
   "source": [
    "## Validate Geolocation\n",
    "\n",
    "Goals:\n",
    "\n",
    "* create two fake geotiff\n",
    "* create data array with known lon/lat values\n",
    "* evaluate and you should get coord back exactly\n",
    "\n",
    "Steps here:\n",
    "\n",
    "* Convert pixel indices (e.g. (0,0), (0,1)...) to lat lon\n",
    "* Save lats and lons in array of same dimension as raster band\n",
    "* Save as geotiff\n",
    "* Read that file back in to do steps above\n",
    "\n",
    "\n",
    "Modified from Source: https://stackoverflow.com/questions/59052516/find-lat-long-coordinates-from-pixel-point-in-geotiff-using-python-and-gdaltly"
   ]
  },
  {
   "cell_type": "code",
   "execution_count": null,
   "id": "7d3560ad-6e14-4686-8ca3-cac6816b77e4",
   "metadata": {},
   "outputs": [],
   "source": [
    "# Generate Arrays of pixel indices\n",
    "lons = np.zeros((1059, 1799))\n",
    "lats = np.zeros((1059, 1799))"
   ]
  },
  {
   "cell_type": "code",
   "execution_count": null,
   "id": "b356ed24-b99c-4a3c-b783-9b708a34555c",
   "metadata": {},
   "outputs": [],
   "source": [
    "from osgeo import osr, ogr, gdal\n",
    "\n",
    "def pixel_to_world(geo_matrix, x, y):\n",
    "    # Given geotransform info of a geotiff file and an (x,y) pixel coord pair, return the coord pair that matches the geotiff in meters\n",
    "    # Inputs: \n",
    "    # geomatrix: output of ds.GetGeoTransform() for given geotiff file\n",
    "    # tuple of length 6 contains: \n",
    "    # A geotransform consists in a set of 6 coefficients\n",
    "    # GT(0) x-coordinate of the upper-left corner of the upper-left pixel.\n",
    "    # GT(1) w-e pixel resolution / pixel width.\n",
    "    # GT(2) row rotation (typically zero).\n",
    "    # GT(3) y-coordinate of the upper-left corner of the upper-left pixel.\n",
    "    # GT(4) column rotation (typically zero).\n",
    "    # GT(5) n-s pixel resolution / pixel height (negative value for a north-up image).\n",
    "    # x: pixel index x coord (1)\n",
    "    # y: pixel index y coord (1)\n",
    "    # Return: coordinates of same point as given x,y as offset from UL (m)\n",
    "    # Example: pixel_to_world(mat, 0, 0) returns UL x,y from geotiff\n",
    "    \n",
    "    ul_x = geo_matrix[0]\n",
    "    ul_y = geo_matrix[3]\n",
    "    x_dist = geo_matrix[1]\n",
    "    y_dist = geo_matrix[5]\n",
    "    _x = x * x_dist + ul_x\n",
    "    _y = y * y_dist + ul_y\n",
    "    return _x, _y\n",
    "\n",
    "\n",
    "def build_transform_inverse(dataset, EPSG):\n",
    "    # Given gdal dataset and target EPSG, return transformation function that transforms meter coord pairs to pixel coord pairs \n",
    "    # Inputs:\n",
    "    # dataset: geotiff file\n",
    "    # EPSG: integer\n",
    "    source = osr.SpatialReference(wkt=dataset.GetProjection())\n",
    "    target = osr.SpatialReference()\n",
    "    target.ImportFromEPSG(EPSG)\n",
    "    return osr.CoordinateTransformation(source, target)\n",
    "\n",
    "def world_to_epsg(wx, wy, trans):\n",
    "    # Inputs:\n",
    "    # wx, wy: output of build_transform_inverse\n",
    "    # wx: x coordinate (m) related to geotiff reference point\n",
    "    # wy: y coordinate (m) related to geotiff reference point\n",
    "    # transform: function to transform to given epsg, function type is osgeo.osr.CoordinateTransformation\n",
    "    # Return: \n",
    "    # point from osgeo Geometry object\n",
    "    point = ogr.Geometry(ogr.wkbPoint)\n",
    "    point.AddPoint(wx, wy)\n",
    "    point.Transform(trans)\n",
    "    return point\n",
    "\n",
    "def find_spatial_coordinate_from_pixel(dataset, x, y, transform=None, epsg=4326):\n",
    "    # Given gdal dataset, target x y pixel pair, and EPSG, return the EPSG defined coordinate pair \n",
    "    # dataset: gdal dataset, from geotiff file\n",
    "    # x (int): pixel x index \n",
    "    # y (int): pixel y index \n",
    "    ## Upper left corner is often (0,0)\n",
    "    # transform: transform inverse. output of build_transform_inverse, default none and it calculates from epsg\n",
    "    # supply transform to save computational time\n",
    "    # epsg: default 4326 (WGS84)\n",
    "    # Return: coord pair in given epsg, eg lat/lon (floats)\n",
    "    if transform is None:\n",
    "        transform = build_transform_inverse(ds, epsg)\n",
    "    world_x, world_y = pixel_to_world(dataset.GetGeoTransform(), x, y)\n",
    "    point = world_to_epsg(world_x, world_y, transform)\n",
    "    return point.GetX(), point.GetY()\n",
    "\n",
    "ds = gdal.Open(tfile)"
   ]
  },
  {
   "cell_type": "markdown",
   "id": "2f86b706-7eea-49d5-8e32-c5f332b7f439",
   "metadata": {},
   "source": [
    "We want this process to match information from the gdalinfo in the geotiff file. The command line `gdalinfo hrrr.t00z.wrfprsf00.616.tif` returns info on the corner coordinates and center (not (0,0) for some reason). The following output should thus match the return of that command.\n",
    "\n",
    "`gdalinfo` returns coordinates in the \"degrees minute second\" format, so we need to convert decimal degrees to this format to make sure it matches. \n"
   ]
  },
  {
   "cell_type": "code",
   "execution_count": null,
   "id": "9a278659-2196-4055-8f0f-9f79196d8c26",
   "metadata": {},
   "outputs": [],
   "source": [
    "## Test world_to_epsg\n",
    "## For 'center' in file (-520.143, -306.153), not zero for some reason\n",
    "## Should return ( 97d30'21.52\"W, 38d29'50.09\"N)\n",
    "trans = build_transform_inverse(ds, 4326)\n",
    "pt = world_to_epsg(-520.143, -306.153, trans)\n",
    "print(f\"({pt.GetX()},{pt.GetY()})\")"
   ]
  },
  {
   "cell_type": "code",
   "execution_count": null,
   "id": "58d1ff37-dbc2-45dd-9b09-c13b6e39a6c6",
   "metadata": {},
   "outputs": [],
   "source": [
    "## Test on a corner coords\n",
    "print(find_spatial_coordinate_from_pixel(ds, 0, 0)) # upper left\n",
    "print(find_spatial_coordinate_from_pixel(ds, 0, 1058)) # upper right\n",
    "print(find_spatial_coordinate_from_pixel(ds, 1798, 0)) # lower left\n",
    "print(find_spatial_coordinate_from_pixel(ds, 1798, 1058)) # lower right"
   ]
  },
  {
   "cell_type": "markdown",
   "id": "80950022-acbb-4c79-a544-a5c805e28da4",
   "metadata": {},
   "source": [
    "`gdalinfo` returns coordinates with the format \"degree minute second(direction)\", so we convert the values from `gdalinfo` to check...\n",
    "\n",
    "Source: stackexchange ___"
   ]
  },
  {
   "cell_type": "code",
   "execution_count": null,
   "id": "d0fc3849-1dac-4fc0-b2a6-9cf270932fff",
   "metadata": {},
   "outputs": [],
   "source": [
    "def decdeg2dms(dd, nsec=4):\n",
    "    # Given decimal degree, turn Degree Minute Second format\n",
    "    # dd: decimal lat/lon coord\n",
    "     # nsec: number of digits to round second\n",
    "    mult = -1 if dd < 0 else 1\n",
    "    mnt,sec = divmod(abs(dd)*3600, 60)\n",
    "    deg,mnt = divmod(mnt, 60)\n",
    "    deg=mult*deg\n",
    "    mnt=mult*mnt\n",
    "    sec=np.round(mult*sec, nsec)\n",
    "    \n",
    "    date_str = f\"{deg}d {mnt}'{sec}\"\n",
    "    return date_str"
   ]
  },
  {
   "cell_type": "markdown",
   "id": "9050dd35-202d-44f8-ab6f-744910839515",
   "metadata": {},
   "source": [
    "Check on coordinates listed in `gdalinfo`\n",
    "\n",
    "Using coords in meters, convert first with `world_to_epsg` then evaluate with `decdeg2dms`. Note: negative coordinates correspond to degrees West or degrees South from point of origin (in HRRR files the origin is in continental US)."
   ]
  },
  {
   "cell_type": "code",
   "execution_count": null,
   "id": "6ab633c2-bfa4-41b3-b7b0-1f8646261414",
   "metadata": {},
   "outputs": [],
   "source": [
    "# Print lon/lat coords\n",
    "ul = world_to_epsg(-2699020.143, 1588193.847, trans) # Upper left\n",
    "print(f\"({ul.GetX()},{ul.GetY()})\")\n",
    "ll = world_to_epsg(-2699020.143,-1588806.153, trans) # Lower left\n",
    "print(f\"({ll.GetX()},{ll.GetY()})\")\n",
    "ur = world_to_epsg(2697979.857, 1588193.847, trans) # Upper right\n",
    "print(f\"({ur.GetX()},{ur.GetY()})\")\n",
    "lr = world_to_epsg(2697979.857,-1588806.153, trans) # Lower right\n",
    "print(f\"({lr.GetX()},{lr.GetY()})\")\n",
    "center = world_to_epsg(-520.143, -306.153, trans) # center\n",
    "print(f\"({center.GetX()},{center.GetY()})\")"
   ]
  },
  {
   "cell_type": "code",
   "execution_count": null,
   "id": "ab76e16c-c5ad-420a-b43a-5c63d1b6a20e",
   "metadata": {},
   "outputs": [],
   "source": [
    "# Convert to dms\n",
    "print(f\"({decdeg2dms(ul.GetY())}, {decdeg2dms(ul.GetX())})\")\n",
    "print(f\"({decdeg2dms(ll.GetY())}, {decdeg2dms(ll.GetX())})\")\n",
    "print(f\"({decdeg2dms(ur.GetY())}, {decdeg2dms(ur.GetX())})\")\n",
    "print(f\"({decdeg2dms(lr.GetY())}, {decdeg2dms(lr.GetX())})\")\n",
    "print(f\"({decdeg2dms(center.GetY())}, {decdeg2dms(center.GetX())})\")"
   ]
  },
  {
   "cell_type": "markdown",
   "id": "8c769665-6014-4f7c-b83b-31fc67e9a658",
   "metadata": {},
   "source": [
    "### Build dummy geotiff files\n",
    "\n",
    "Create 2 geotiff files with latitude/longitude values corresponding to grid pixel locations."
   ]
  },
  {
   "cell_type": "code",
   "execution_count": null,
   "id": "a9944588-50df-4f47-8af3-cdf4727cfd1a",
   "metadata": {},
   "outputs": [],
   "source": [
    "# dimensions of numpy ndarray stored as values of geotiff file\n",
    "print(np.shape(data)) "
   ]
  },
  {
   "cell_type": "code",
   "execution_count": null,
   "id": "d084fb21-0de9-4b27-b7ce-aa9f70afba25",
   "metadata": {},
   "outputs": [],
   "source": [
    "# Initialize empty arrays\n",
    "lons=np.zeros(np.shape(data))\n",
    "lats=np.zeros(np.shape(data))"
   ]
  },
  {
   "cell_type": "code",
   "execution_count": null,
   "id": "d762a7d7-d322-4063-8704-2a5cd7ebb684",
   "metadata": {},
   "outputs": [],
   "source": [
    "# get transformation once and reuse\n",
    "transform = build_transform_inverse(ds, EPSG=4326)\n",
    "# Loop over indices and fill\n",
    "for i in range(0, np.shape(lons)[0]): # iterate i over x coord (longitude)\n",
    "    for j in range(0, np.shape(lons)[1]): # iterate j over y coord (latitude)\n",
    "        coord = find_spatial_coordinate_from_pixel(ds, j, i, transform=transform) # note order flip is intentional\n",
    "        lats[i,j]=coord[0]\n",
    "        lons[i,j]=coord[1]"
   ]
  },
  {
   "cell_type": "markdown",
   "id": "b4efef93-bee9-4c87-a353-f86eab767954",
   "metadata": {},
   "source": [
    "Function to write geotiff file.\n",
    "\n",
    "source: https://here.isnew.info/how-to-save-a-numpy-array-as-a-geotiff-file-using-gdal.html"
   ]
  },
  {
   "cell_type": "code",
   "execution_count": null,
   "id": "927270f5-af27-4bbd-a9a9-8f4f73ddfc16",
   "metadata": {},
   "outputs": [],
   "source": [
    "def write_geotiff(filename, arr, in_ds): \n",
    "    # Given file name, data array, and reference gdal Dataset, write data array as geotiff file with geolocation from reference\n",
    "    # Inputs:\n",
    "    # filename: output file name, expecting .tif extension\n",
    "    # arr: numpy ndarray\n",
    "    # in_ds: gdal dataset with geolocation info\n",
    "\n",
    "    print(\"Writing \"+filename)\n",
    "    \n",
    "    if arr.dtype == np.float32:\n",
    "        arr_type = gdal.GDT_Float32\n",
    "    else:\n",
    "        arr_type = gdal.GDT_Int32\n",
    "\n",
    "    driver = gdal.GetDriverByName(\"GTiff\")\n",
    "    out_ds = driver.Create(filename, arr.shape[1], arr.shape[0], 1, arr_type)\n",
    "    out_ds.SetProjection(in_ds.GetProjection())\n",
    "    out_ds.SetGeoTransform(in_ds.GetGeoTransform())\n",
    "    band = out_ds.GetRasterBand(1)\n",
    "    band.WriteArray(arr)\n",
    "    band.FlushCache()\n",
    "    band.ComputeStatistics(False)"
   ]
  },
  {
   "cell_type": "code",
   "execution_count": null,
   "id": "c22e54fb-e65c-4cf7-87c8-0af326300943",
   "metadata": {},
   "outputs": [],
   "source": [
    "# Write output as geotiff file\n",
    "# osp.join(os.getcwd(), \"lons.tif\")\n",
    "# osp.join(os.getcwd(), \"lats.tif\")\n",
    "write_geotiff(osp.join(os.getcwd(), \"lons.tif\"), lons, ds)\n",
    "write_geotiff(osp.join(os.getcwd(), \"lats.tif\"), lats, ds)"
   ]
  },
  {
   "cell_type": "markdown",
   "id": "6b2230db-0699-4152-aa53-fbc87a928139",
   "metadata": {},
   "source": [
    "### Validate geolocation procedure\n",
    "\n",
    "Using geotiff files written above, use the procedure for plucking nearest points on the lat/lon pairs from RAWS stations. Given input lat/lon, expect the same values back."
   ]
  },
  {
   "cell_type": "code",
   "execution_count": null,
   "id": "a4a4e32a-9131-412d-8fde-3a251ba465dd",
   "metadata": {},
   "outputs": [],
   "source": [
    "ds_lon = gdal.Open(osp.join(os.getcwd(), \"lons.tif\"))\n",
    "ds_lat = gdal.Open(osp.join(os.getcwd(), \"lats.tif\"))"
   ]
  },
  {
   "cell_type": "code",
   "execution_count": null,
   "id": "d2664341-88d4-4a26-a417-eeb3f9322306",
   "metadata": {},
   "outputs": [],
   "source": [
    "ds = gdal.Open(tfile)\n",
    "gt = ds_lon.GetGeoTransform()\n",
    "gp = ds_lon.GetProjection()\n",
    "\n",
    "# Check values the same for lat file\n",
    "print('Geotrans matches: '+str(gt == ds_lon.GetGeoTransform()))\n",
    "print('Proj matches: '+str(gp == ds_lat.GetProjection()))"
   ]
  },
  {
   "cell_type": "code",
   "execution_count": null,
   "id": "cb48ccd8-bb12-4e0d-81ea-48eeb29d7504",
   "metadata": {},
   "outputs": [],
   "source": [
    "# Get Projection info\n",
    "point_srs = osr.SpatialReference()\n",
    "point_srs.ImportFromEPSG(4326) # hardcode for lon/lat\n",
    "# GDAL>=3: make sure it's x/y\n",
    "# see https://trac.osgeo.org/gdal/wiki/rfc73_proj6_wkt2_srsbarn\n",
    "point_srs.SetAxisMappingStrategy(osr.OAMS_TRADITIONAL_GIS_ORDER)     \n",
    "file_srs = osr.SpatialReference()\n",
    "file_srs.ImportFromWkt(gp)\n",
    "ct = osr.CoordinateTransformation(point_srs, file_srs)"
   ]
  },
  {
   "cell_type": "code",
   "execution_count": null,
   "id": "e65462e0-7a33-40c8-9eb7-4a3c793652aa",
   "metadata": {},
   "outputs": [],
   "source": [
    "lons = ds_lon.GetRasterBand(1).ReadAsArray()\n",
    "lats = ds_lat.GetRasterBand(1).ReadAsArray()"
   ]
  },
  {
   "cell_type": "markdown",
   "id": "8140fcb7-fc99-425d-84bf-74e0014731a6",
   "metadata": {},
   "source": [
    "Loop through some RAWS sites. Print out known lat/lon coord and then the value from the geotiff files, expect the output to be the same."
   ]
  },
  {
   "cell_type": "code",
   "execution_count": null,
   "id": "8e093ec2-2db2-4d6c-bd1c-db906312c99a",
   "metadata": {},
   "outputs": [],
   "source": [
    "# Helper function to define nearest neighbor approach\n",
    "def interp_l1(x, y):\n",
    "    x = round(x)\n",
    "    y = round(y)\n",
    "    return x, y\n",
    "\n",
    "# loop through first N station coords\n",
    "for i in range(0, 10):\n",
    "    print(\"~\"*35)\n",
    "    point_x = sts['lon'][i] # lon\n",
    "    point_y = sts['lat'][i]  # lat\n",
    "    print(f\"RAWS Station {sts['STID'][i]} lon/lat: ({point_x}, {point_y})\")\n",
    "\n",
    "    mapx, mapy, z = ct.TransformPoint(np.float64(point_x), np.float64(point_y))\n",
    "    gt_inv = gdal.InvGeoTransform(gt)\n",
    "    pixel_x, pixel_y = gdal.ApplyGeoTransform(gt_inv, mapx, mapy)\n",
    "    x, y = interp_l1(pixel_x, pixel_y)\n",
    "    print(f\"Fitted: ({lons[y, x]}, {lats[y,x]})\")\n"
   ]
  },
  {
   "cell_type": "code",
   "execution_count": null,
   "id": "119b2302-1aef-4d6c-bb82-fb512a58b9a4",
   "metadata": {},
   "outputs": [],
   "source": []
  },
  {
   "cell_type": "code",
   "execution_count": null,
   "id": "6e40fd62-31e2-461f-b32a-bdc5a26a9e2b",
   "metadata": {},
   "outputs": [],
   "source": []
  },
  {
   "cell_type": "code",
   "execution_count": null,
   "id": "aa402e2c-318a-4041-a20b-61f3d941aa54",
   "metadata": {},
   "outputs": [],
   "source": []
  }
 ],
 "metadata": {
  "kernelspec": {
   "display_name": "Python 3 (ipykernel)",
   "language": "python",
   "name": "python3"
  },
  "language_info": {
   "codemirror_mode": {
    "name": "ipython",
    "version": 3
   },
   "file_extension": ".py",
   "mimetype": "text/x-python",
   "name": "python",
   "nbconvert_exporter": "python",
   "pygments_lexer": "ipython3",
   "version": "3.12.5"
  }
 },
 "nbformat": 4,
 "nbformat_minor": 5
}
