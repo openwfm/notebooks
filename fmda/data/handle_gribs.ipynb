{
 "cells": [
  {
   "cell_type": "code",
   "execution_count": 1,
   "id": "3c9149ef-05ba-41d5-a746-43d57990a795",
   "metadata": {},
   "outputs": [],
   "source": [
    "import pandas as pd\n",
    "import matplotlib.pyplot as plt\n",
    "import numpy as np\n",
    "import os\n",
    "import timeit\n",
    "from osgeo import gdal, osr\n",
    "from contextlib import redirect_stdout\n",
    "import io\n",
    "\n",
    "from grib_to_geotiff import grib_to_geotiff\n",
    "from grib_to_geotiff2 import grib_to_geotiff2"
   ]
  },
  {
   "cell_type": "code",
   "execution_count": 2,
   "id": "a0abdeb5-e3bb-409b-8d23-a5d821992538",
   "metadata": {},
   "outputs": [],
   "source": [
    "grib_file = \"hrrr.t02z.wrfprsf00.grib2\"\n",
    "bands = [585, 616, 620, 628, 629, 661, 662, 663, 664]"
   ]
  },
  {
   "cell_type": "markdown",
   "id": "e3a990ed-cf77-46d0-b95c-703f822337cd",
   "metadata": {},
   "source": [
    "## Run both functions"
   ]
  },
  {
   "cell_type": "code",
   "execution_count": 3,
   "id": "2b3603b1-aead-4c47-a36d-a6be062dd118",
   "metadata": {},
   "outputs": [],
   "source": [
    "def suppress_print_output(func):\n",
    "    def wrapper(*args, **kwargs):\n",
    "        with io.StringIO() as buf, redirect_stdout(buf):\n",
    "            func(*args, **kwargs)\n",
    "    return wrapper\n",
    "\n",
    "def f1_verbose():\n",
    "    for band in bands:\n",
    "        # print(f\"Extracting band {band}\")\n",
    "        grib_to_geotiff(grib_file, \"AAA\",band)\n",
    "def f2_verbose():\n",
    "    grib_to_geotiff2(grib_file, \"BBB\",bands)\n",
    "\n",
    "# Wrap the original function with the suppress_print_output function\n",
    "f1 = suppress_print_output(f1_verbose)\n",
    "f2 = suppress_print_output(f2_verbose)"
   ]
  },
  {
   "cell_type": "code",
   "execution_count": 4,
   "id": "f531e371-f9b2-4a7b-9b97-65cc9c5e190f",
   "metadata": {},
   "outputs": [],
   "source": [
    "f1()"
   ]
  },
  {
   "cell_type": "code",
   "execution_count": 5,
   "id": "5cd00472-49ce-4daa-9168-f4d5ece202ad",
   "metadata": {},
   "outputs": [
    {
     "ename": "KeyboardInterrupt",
     "evalue": "",
     "output_type": "error",
     "traceback": [
      "\u001b[1;31m---------------------------------------------------------------------------\u001b[0m",
      "\u001b[1;31mKeyboardInterrupt\u001b[0m                         Traceback (most recent call last)",
      "Cell \u001b[1;32mIn[5], line 1\u001b[0m\n\u001b[1;32m----> 1\u001b[0m \u001b[43mf2\u001b[49m\u001b[43m(\u001b[49m\u001b[43m)\u001b[49m\n",
      "Cell \u001b[1;32mIn[3], line 4\u001b[0m, in \u001b[0;36msuppress_print_output.<locals>.wrapper\u001b[1;34m(*args, **kwargs)\u001b[0m\n\u001b[0;32m      2\u001b[0m \u001b[38;5;28;01mdef\u001b[39;00m \u001b[38;5;21mwrapper\u001b[39m(\u001b[38;5;241m*\u001b[39margs, \u001b[38;5;241m*\u001b[39m\u001b[38;5;241m*\u001b[39mkwargs):\n\u001b[0;32m      3\u001b[0m     \u001b[38;5;28;01mwith\u001b[39;00m io\u001b[38;5;241m.\u001b[39mStringIO() \u001b[38;5;28;01mas\u001b[39;00m buf, redirect_stdout(buf):\n\u001b[1;32m----> 4\u001b[0m         func(\u001b[38;5;241m*\u001b[39margs, \u001b[38;5;241m*\u001b[39m\u001b[38;5;241m*\u001b[39mkwargs)\n",
      "Cell \u001b[1;32mIn[3], line 12\u001b[0m, in \u001b[0;36mf2_verbose\u001b[1;34m()\u001b[0m\n\u001b[0;32m     11\u001b[0m \u001b[38;5;28;01mdef\u001b[39;00m \u001b[38;5;21mf2_verbose\u001b[39m():\n\u001b[1;32m---> 12\u001b[0m     \u001b[43mgrib_to_geotiff2\u001b[49m\u001b[43m(\u001b[49m\u001b[43mgrib_file\u001b[49m\u001b[43m,\u001b[49m\u001b[43m \u001b[49m\u001b[38;5;124;43m\"\u001b[39;49m\u001b[38;5;124;43mBBB\u001b[39;49m\u001b[38;5;124;43m\"\u001b[39;49m\u001b[43m,\u001b[49m\u001b[43mbands\u001b[49m\u001b[43m)\u001b[49m\n",
      "File \u001b[1;32m~\\Documents\\Projects\\openwfm\\notebooks\\fmda\\data\\grib_to_geotiff2.py:67\u001b[0m, in \u001b[0;36mgrib_to_geotiff2\u001b[1;34m(input_filename, output_filename_base, band_numbers)\u001b[0m\n\u001b[0;32m     64\u001b[0m     \u001b[38;5;28mprint\u001b[39m(\u001b[38;5;124mf\u001b[39m\u001b[38;5;124m\"\u001b[39m\u001b[38;5;132;01m{\u001b[39;00mkey\u001b[38;5;132;01m}\u001b[39;00m\u001b[38;5;124m: \u001b[39m\u001b[38;5;132;01m{\u001b[39;00mvalue\u001b[38;5;132;01m}\u001b[39;00m\u001b[38;5;124m\"\u001b[39m)\n\u001b[0;32m     66\u001b[0m \u001b[38;5;66;03m# Check if the band data is 2D\u001b[39;00m\n\u001b[1;32m---> 67\u001b[0m arr \u001b[38;5;241m=\u001b[39m \u001b[43mband\u001b[49m\u001b[38;5;241;43m.\u001b[39;49m\u001b[43mReadAsArray\u001b[49m\u001b[43m(\u001b[49m\u001b[43m)\u001b[49m\n\u001b[0;32m     69\u001b[0m \u001b[38;5;28;01mif\u001b[39;00m \u001b[38;5;28mlen\u001b[39m(arr\u001b[38;5;241m.\u001b[39mshape) \u001b[38;5;241m!=\u001b[39m \u001b[38;5;241m2\u001b[39m:\n\u001b[0;32m     70\u001b[0m     \u001b[38;5;28mprint\u001b[39m(\u001b[38;5;124mf\u001b[39m\u001b[38;5;124m\"\u001b[39m\u001b[38;5;124mSkipping band \u001b[39m\u001b[38;5;132;01m{\u001b[39;00mband_number\u001b[38;5;132;01m}\u001b[39;00m\u001b[38;5;124m because it is not 2D\u001b[39m\u001b[38;5;124m\"\u001b[39m)\n",
      "File \u001b[1;32m~\\anaconda3\\lib\\site-packages\\osgeo\\gdal.py:4150\u001b[0m, in \u001b[0;36mBand.ReadAsArray\u001b[1;34m(self, xoff, yoff, win_xsize, win_ysize, buf_xsize, buf_ysize, buf_type, buf_obj, resample_alg, callback, callback_data)\u001b[0m\n\u001b[0;32m   4145\u001b[0m \u001b[38;5;250m\u001b[39m\u001b[38;5;124;03m\"\"\" Reading a chunk of a GDAL band into a numpy array. The optional (buf_xsize,buf_ysize,buf_type)\u001b[39;00m\n\u001b[0;32m   4146\u001b[0m \u001b[38;5;124;03mparameters should generally not be specified if buf_obj is specified. The array is returned\"\"\"\u001b[39;00m\n\u001b[0;32m   4148\u001b[0m \u001b[38;5;28;01mfrom\u001b[39;00m \u001b[38;5;21;01mosgeo\u001b[39;00m \u001b[38;5;28;01mimport\u001b[39;00m gdal_array\n\u001b[1;32m-> 4150\u001b[0m \u001b[38;5;28;01mreturn\u001b[39;00m \u001b[43mgdal_array\u001b[49m\u001b[38;5;241;43m.\u001b[39;49m\u001b[43mBandReadAsArray\u001b[49m\u001b[43m(\u001b[49m\u001b[38;5;28;43mself\u001b[39;49m\u001b[43m,\u001b[49m\u001b[43m \u001b[49m\u001b[43mxoff\u001b[49m\u001b[43m,\u001b[49m\u001b[43m \u001b[49m\u001b[43myoff\u001b[49m\u001b[43m,\u001b[49m\n\u001b[0;32m   4151\u001b[0m \u001b[43m                                   \u001b[49m\u001b[43mwin_xsize\u001b[49m\u001b[43m,\u001b[49m\u001b[43m \u001b[49m\u001b[43mwin_ysize\u001b[49m\u001b[43m,\u001b[49m\n\u001b[0;32m   4152\u001b[0m \u001b[43m                                   \u001b[49m\u001b[43mbuf_xsize\u001b[49m\u001b[43m,\u001b[49m\u001b[43m \u001b[49m\u001b[43mbuf_ysize\u001b[49m\u001b[43m,\u001b[49m\u001b[43m \u001b[49m\u001b[43mbuf_type\u001b[49m\u001b[43m,\u001b[49m\u001b[43m \u001b[49m\u001b[43mbuf_obj\u001b[49m\u001b[43m,\u001b[49m\n\u001b[0;32m   4153\u001b[0m \u001b[43m                                   \u001b[49m\u001b[43mresample_alg\u001b[49m\u001b[38;5;241;43m=\u001b[39;49m\u001b[43mresample_alg\u001b[49m\u001b[43m,\u001b[49m\n\u001b[0;32m   4154\u001b[0m \u001b[43m                                   \u001b[49m\u001b[43mcallback\u001b[49m\u001b[38;5;241;43m=\u001b[39;49m\u001b[43mcallback\u001b[49m\u001b[43m,\u001b[49m\n\u001b[0;32m   4155\u001b[0m \u001b[43m                                   \u001b[49m\u001b[43mcallback_data\u001b[49m\u001b[38;5;241;43m=\u001b[39;49m\u001b[43mcallback_data\u001b[49m\u001b[43m)\u001b[49m\n",
      "File \u001b[1;32m~\\anaconda3\\lib\\site-packages\\osgeo\\gdal_array.py:454\u001b[0m, in \u001b[0;36mBandReadAsArray\u001b[1;34m(band, xoff, yoff, win_xsize, win_ysize, buf_xsize, buf_ysize, buf_type, buf_obj, resample_alg, callback, callback_data)\u001b[0m\n\u001b[0;32m    451\u001b[0m         \u001b[38;5;28;01mraise\u001b[39;00m \u001b[38;5;167;01mValueError\u001b[39;00m(\u001b[38;5;124m\"\u001b[39m\u001b[38;5;124mSpecified buf_type not consistent with array type\u001b[39m\u001b[38;5;124m\"\u001b[39m)\n\u001b[0;32m    452\u001b[0m     buf_type \u001b[38;5;241m=\u001b[39m datatype\n\u001b[1;32m--> 454\u001b[0m \u001b[38;5;28;01mif\u001b[39;00m \u001b[43mBandRasterIONumPy\u001b[49m\u001b[43m(\u001b[49m\u001b[43mband\u001b[49m\u001b[43m,\u001b[49m\u001b[43m \u001b[49m\u001b[38;5;241;43m0\u001b[39;49m\u001b[43m,\u001b[49m\u001b[43m \u001b[49m\u001b[43mxoff\u001b[49m\u001b[43m,\u001b[49m\u001b[43m \u001b[49m\u001b[43myoff\u001b[49m\u001b[43m,\u001b[49m\u001b[43m \u001b[49m\u001b[43mwin_xsize\u001b[49m\u001b[43m,\u001b[49m\u001b[43m \u001b[49m\u001b[43mwin_ysize\u001b[49m\u001b[43m,\u001b[49m\n\u001b[0;32m    455\u001b[0m \u001b[43m                     \u001b[49m\u001b[43mbuf_obj\u001b[49m\u001b[43m,\u001b[49m\u001b[43m \u001b[49m\u001b[43mbuf_type\u001b[49m\u001b[43m,\u001b[49m\u001b[43m \u001b[49m\u001b[43mresample_alg\u001b[49m\u001b[43m,\u001b[49m\u001b[43m \u001b[49m\u001b[43mcallback\u001b[49m\u001b[43m,\u001b[49m\u001b[43m \u001b[49m\u001b[43mcallback_data\u001b[49m\u001b[43m)\u001b[49m \u001b[38;5;241m!=\u001b[39m \u001b[38;5;241m0\u001b[39m:\n\u001b[0;32m    456\u001b[0m     _RaiseException()\n\u001b[0;32m    457\u001b[0m     \u001b[38;5;28;01mreturn\u001b[39;00m \u001b[38;5;28;01mNone\u001b[39;00m\n",
      "File \u001b[1;32m~\\anaconda3\\lib\\site-packages\\osgeo\\gdal_array.py:111\u001b[0m, in \u001b[0;36mBandRasterIONumPy\u001b[1;34m(band, bWrite, xoff, yoff, xsize, ysize, psArray, buf_type, resample_alg, callback, callback_data)\u001b[0m\n\u001b[0;32m    109\u001b[0m \u001b[38;5;28;01mdef\u001b[39;00m \u001b[38;5;21mBandRasterIONumPy\u001b[39m(band: \u001b[38;5;124m\"\u001b[39m\u001b[38;5;124mBand\u001b[39m\u001b[38;5;124m\"\u001b[39m, bWrite: \u001b[38;5;124m\"\u001b[39m\u001b[38;5;124mint\u001b[39m\u001b[38;5;124m\"\u001b[39m, xoff: \u001b[38;5;124m\"\u001b[39m\u001b[38;5;124mdouble\u001b[39m\u001b[38;5;124m\"\u001b[39m, yoff: \u001b[38;5;124m\"\u001b[39m\u001b[38;5;124mdouble\u001b[39m\u001b[38;5;124m\"\u001b[39m, xsize: \u001b[38;5;124m\"\u001b[39m\u001b[38;5;124mdouble\u001b[39m\u001b[38;5;124m\"\u001b[39m, ysize: \u001b[38;5;124m\"\u001b[39m\u001b[38;5;124mdouble\u001b[39m\u001b[38;5;124m\"\u001b[39m, psArray: \u001b[38;5;124m\"\u001b[39m\u001b[38;5;124mPyArrayObject *\u001b[39m\u001b[38;5;124m\"\u001b[39m, buf_type: \u001b[38;5;124m\"\u001b[39m\u001b[38;5;124mGDALDataType\u001b[39m\u001b[38;5;124m\"\u001b[39m, resample_alg: \u001b[38;5;124m\"\u001b[39m\u001b[38;5;124mGDALRIOResampleAlg\u001b[39m\u001b[38;5;124m\"\u001b[39m, callback: \u001b[38;5;124m\"\u001b[39m\u001b[38;5;124mGDALProgressFunc\u001b[39m\u001b[38;5;124m\"\u001b[39m\u001b[38;5;241m=\u001b[39m\u001b[38;5;241m0\u001b[39m, callback_data: \u001b[38;5;124m\"\u001b[39m\u001b[38;5;124mvoid *\u001b[39m\u001b[38;5;124m\"\u001b[39m\u001b[38;5;241m=\u001b[39m\u001b[38;5;28;01mNone\u001b[39;00m) \u001b[38;5;241m-\u001b[39m\u001b[38;5;241m>\u001b[39m \u001b[38;5;124m\"\u001b[39m\u001b[38;5;124mCPLErr\u001b[39m\u001b[38;5;124m\"\u001b[39m:\n\u001b[0;32m    110\u001b[0m \u001b[38;5;250m    \u001b[39m\u001b[38;5;124mr\u001b[39m\u001b[38;5;124;03m\"\"\"BandRasterIONumPy(Band band, int bWrite, double xoff, double yoff, double xsize, double ysize, PyArrayObject * psArray, GDALDataType buf_type, GDALRIOResampleAlg resample_alg, GDALProgressFunc callback=0, void * callback_data=None) -> CPLErr\"\"\"\u001b[39;00m\n\u001b[1;32m--> 111\u001b[0m     \u001b[38;5;28;01mreturn\u001b[39;00m \u001b[43m_gdal_array\u001b[49m\u001b[38;5;241;43m.\u001b[39;49m\u001b[43mBandRasterIONumPy\u001b[49m\u001b[43m(\u001b[49m\u001b[43mband\u001b[49m\u001b[43m,\u001b[49m\u001b[43m \u001b[49m\u001b[43mbWrite\u001b[49m\u001b[43m,\u001b[49m\u001b[43m \u001b[49m\u001b[43mxoff\u001b[49m\u001b[43m,\u001b[49m\u001b[43m \u001b[49m\u001b[43myoff\u001b[49m\u001b[43m,\u001b[49m\u001b[43m \u001b[49m\u001b[43mxsize\u001b[49m\u001b[43m,\u001b[49m\u001b[43m \u001b[49m\u001b[43mysize\u001b[49m\u001b[43m,\u001b[49m\u001b[43m \u001b[49m\u001b[43mpsArray\u001b[49m\u001b[43m,\u001b[49m\u001b[43m \u001b[49m\u001b[43mbuf_type\u001b[49m\u001b[43m,\u001b[49m\u001b[43m \u001b[49m\u001b[43mresample_alg\u001b[49m\u001b[43m,\u001b[49m\u001b[43m \u001b[49m\u001b[43mcallback\u001b[49m\u001b[43m,\u001b[49m\u001b[43m \u001b[49m\u001b[43mcallback_data\u001b[49m\u001b[43m)\u001b[49m\n",
      "\u001b[1;31mKeyboardInterrupt\u001b[0m: "
     ]
    }
   ],
   "source": [
    "f2()"
   ]
  },
  {
   "cell_type": "markdown",
   "id": "0258131e-5f34-4c19-8e7f-4caf00d349cd",
   "metadata": {},
   "source": [
    "## Check Equality"
   ]
  },
  {
   "cell_type": "code",
   "execution_count": 6,
   "id": "a09024c2-4d97-4247-9689-d7545d03a40d",
   "metadata": {},
   "outputs": [],
   "source": [
    "# Extract data from tif file\n",
    "ds = gdal.Open(\"AAA.585.tif\")\n",
    "band = ds.GetRasterBand(1)\n",
    "data1 = band.ReadAsArray()"
   ]
  },
  {
   "cell_type": "code",
   "execution_count": 7,
   "id": "d1496b6c-44ba-4570-823e-b92da9d4cd1a",
   "metadata": {},
   "outputs": [],
   "source": [
    "# Extract data from tif file\n",
    "ds = gdal.Open(\"BBB.fmda_bands.tif\")\n",
    "band = ds.GetRasterBand(1)\n",
    "data2 = band.ReadAsArray()"
   ]
  },
  {
   "cell_type": "code",
   "execution_count": 8,
   "id": "dff99200-28eb-49f0-8d49-8c3441342c23",
   "metadata": {},
   "outputs": [
    {
     "data": {
      "text/plain": [
       "True"
      ]
     },
     "execution_count": 8,
     "metadata": {},
     "output_type": "execute_result"
    }
   ],
   "source": [
    "np.all(data1 == data2)"
   ]
  },
  {
   "cell_type": "code",
   "execution_count": 9,
   "id": "1384a50b-36ff-42fb-989b-ffcb321d0213",
   "metadata": {},
   "outputs": [
    {
     "data": {
      "text/plain": [
       "True"
      ]
     },
     "execution_count": 9,
     "metadata": {},
     "output_type": "execute_result"
    }
   ],
   "source": [
    "ds = gdal.Open(\"AAA.628.tif\")\n",
    "band = ds.GetRasterBand(1)\n",
    "data1 = band.ReadAsArray()\n",
    "ds = gdal.Open(\"BBB.fmda_bands.tif\")\n",
    "band = ds.GetRasterBand(4)\n",
    "data2 = band.ReadAsArray()\n",
    "np.all(data1 == data2)"
   ]
  },
  {
   "cell_type": "code",
   "execution_count": 10,
   "id": "552ec63f-ddb1-4945-825f-540ff0352e3b",
   "metadata": {},
   "outputs": [
    {
     "data": {
      "text/plain": [
       "True"
      ]
     },
     "execution_count": 10,
     "metadata": {},
     "output_type": "execute_result"
    }
   ],
   "source": [
    "ds = gdal.Open(\"AAA.664.tif\")\n",
    "band = ds.GetRasterBand(1)\n",
    "data1 = band.ReadAsArray()\n",
    "ds = gdal.Open(\"BBB.fmda_bands.tif\")\n",
    "band = ds.GetRasterBand(len(bands))\n",
    "data2 = band.ReadAsArray()\n",
    "np.all(data1 == data2)"
   ]
  },
  {
   "cell_type": "markdown",
   "id": "4d80c604-dfcb-4f79-b732-4ba2ee43a8d6",
   "metadata": {},
   "source": [
    "## Time Methods"
   ]
  },
  {
   "cell_type": "markdown",
   "id": "2bb8bacc-d293-4a9c-9193-8964e4b63e57",
   "metadata": {},
   "source": [
    "### Time Band Extraction"
   ]
  },
  {
   "cell_type": "code",
   "execution_count": 11,
   "id": "9c701f62-c8f1-478e-b05a-a9b9965136f1",
   "metadata": {},
   "outputs": [
    {
     "data": {
      "text/plain": [
       "83.8478271"
      ]
     },
     "execution_count": 11,
     "metadata": {},
     "output_type": "execute_result"
    }
   ],
   "source": [
    "timeit.timeit(\n",
    "    f1, number = 20\n",
    ")"
   ]
  },
  {
   "cell_type": "code",
   "execution_count": 12,
   "id": "afc2d99b-a82d-415a-a562-84c862ae1dc6",
   "metadata": {},
   "outputs": [
    {
     "data": {
      "text/plain": [
       "24.0528841"
      ]
     },
     "execution_count": 12,
     "metadata": {},
     "output_type": "execute_result"
    }
   ],
   "source": [
    "timeit.timeit(\n",
    "    f2, number = 20\n",
    ")"
   ]
  },
  {
   "cell_type": "markdown",
   "id": "d8a42488-eb2c-4f4b-9bd4-d20828a4083c",
   "metadata": {},
   "source": [
    "### Time Reading"
   ]
  },
  {
   "cell_type": "code",
   "execution_count": 16,
   "id": "2b0ef8ef-835b-4227-9015-bbe02cfde077",
   "metadata": {},
   "outputs": [
    {
     "data": {
      "text/plain": [
       "[585, 616, 620, 628, 629, 661, 662, 663, 664]"
      ]
     },
     "execution_count": 16,
     "metadata": {},
     "output_type": "execute_result"
    }
   ],
   "source": [
    "bands"
   ]
  },
  {
   "cell_type": "code",
   "execution_count": 17,
   "id": "5c1d109f-fd44-47af-addd-a6b9db3154ff",
   "metadata": {},
   "outputs": [],
   "source": [
    "def r1():\n",
    "    for band in bands:\n",
    "        with gdal.Open(f\"AAA.{band}.tif\") as ds:\n",
    "        # ds = gdal.Open(f\"AAA.{band}.tif\")\n",
    "            band = ds.GetRasterBand(1)\n",
    "            data1 = band.ReadAsArray()\n",
    "            # print(hash(data1.tobytes())) # can use to compare results\n",
    "    \n",
    "# def r2():\n",
    "#     with gdal.Open(f\"BBB.fmda_bands.tif\") as ds:\n",
    "#     for i,band in enumerate(bands):\n",
    "#         band = ds.GetRasterBand(i+1)\n",
    "#         data2 = band.ReadAsArray()\n",
    "#         # print(hash(data2.tobytes()))"
   ]
  },
  {
   "cell_type": "code",
   "execution_count": 18,
   "id": "5b1e14f7-f687-404a-bf76-a11da6bdc6e9",
   "metadata": {},
   "outputs": [
    {
     "ename": "AttributeError",
     "evalue": "__enter__",
     "output_type": "error",
     "traceback": [
      "\u001b[1;31m---------------------------------------------------------------------------\u001b[0m",
      "\u001b[1;31mAttributeError\u001b[0m                            Traceback (most recent call last)",
      "Cell \u001b[1;32mIn[18], line 1\u001b[0m\n\u001b[1;32m----> 1\u001b[0m \u001b[43mr1\u001b[49m\u001b[43m(\u001b[49m\u001b[43m)\u001b[49m\n",
      "Cell \u001b[1;32mIn[17], line 3\u001b[0m, in \u001b[0;36mr1\u001b[1;34m()\u001b[0m\n\u001b[0;32m      1\u001b[0m \u001b[38;5;28;01mdef\u001b[39;00m \u001b[38;5;21mr1\u001b[39m():\n\u001b[0;32m      2\u001b[0m     \u001b[38;5;28;01mfor\u001b[39;00m band \u001b[38;5;129;01min\u001b[39;00m bands:\n\u001b[1;32m----> 3\u001b[0m         \u001b[38;5;28;01mwith\u001b[39;00m gdal\u001b[38;5;241m.\u001b[39mOpen(\u001b[38;5;124mf\u001b[39m\u001b[38;5;124m\"\u001b[39m\u001b[38;5;124mAAA.\u001b[39m\u001b[38;5;132;01m{\u001b[39;00mband\u001b[38;5;132;01m}\u001b[39;00m\u001b[38;5;124m.tif\u001b[39m\u001b[38;5;124m\"\u001b[39m) \u001b[38;5;28;01mas\u001b[39;00m ds:\n\u001b[0;32m      4\u001b[0m         \u001b[38;5;66;03m# ds = gdal.Open(f\"AAA.{band}.tif\")\u001b[39;00m\n\u001b[0;32m      5\u001b[0m             band \u001b[38;5;241m=\u001b[39m ds\u001b[38;5;241m.\u001b[39mGetRasterBand(\u001b[38;5;241m1\u001b[39m)\n\u001b[0;32m      6\u001b[0m             data1 \u001b[38;5;241m=\u001b[39m band\u001b[38;5;241m.\u001b[39mReadAsArray()\n",
      "\u001b[1;31mAttributeError\u001b[0m: __enter__"
     ]
    }
   ],
   "source": [
    "r1()"
   ]
  },
  {
   "cell_type": "code",
   "execution_count": 14,
   "id": "91b69a81-edab-432e-ab25-45496f112735",
   "metadata": {},
   "outputs": [
    {
     "data": {
      "text/plain": [
       "10.500918100000007"
      ]
     },
     "execution_count": 14,
     "metadata": {},
     "output_type": "execute_result"
    }
   ],
   "source": [
    "timeit.timeit(\n",
    "    r1, number = 100\n",
    ")"
   ]
  },
  {
   "cell_type": "code",
   "execution_count": 15,
   "id": "40a20324-8e1e-464b-b170-e2d9fc4083a2",
   "metadata": {},
   "outputs": [
    {
     "data": {
      "text/plain": [
       "10.302738799999986"
      ]
     },
     "execution_count": 15,
     "metadata": {},
     "output_type": "execute_result"
    }
   ],
   "source": [
    "timeit.timeit(\n",
    "    r2, number = 100\n",
    ")"
   ]
  },
  {
   "cell_type": "code",
   "execution_count": null,
   "id": "cb835dfa-b006-4773-94ec-5e845e74f3ba",
   "metadata": {},
   "outputs": [],
   "source": []
  }
 ],
 "metadata": {
  "kernelspec": {
   "display_name": "Python 3 (ipykernel)",
   "language": "python",
   "name": "python3"
  },
  "language_info": {
   "codemirror_mode": {
    "name": "ipython",
    "version": 3
   },
   "file_extension": ".py",
   "mimetype": "text/x-python",
   "name": "python",
   "nbconvert_exporter": "python",
   "pygments_lexer": "ipython3",
   "version": "3.9.12"
  }
 },
 "nbformat": 4,
 "nbformat_minor": 5
}
