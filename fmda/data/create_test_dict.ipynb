{
 "cells": [
  {
   "cell_type": "markdown",
   "id": "04617c3b-c110-4c6d-b6e5-d0611bf42181",
   "metadata": {},
   "source": [
    "# Create Test Dictionary\n",
    "\n",
    "The purpose of this notebook is to create a dictionary of fuel moisture scenarios for model testing.\n",
    "\n",
    "[USGS](https://water.usgs.gov/edu/activity-howmuchrain-metric.html#:~:text=Slight%20rain%3A%20Less%20than%200.5,than%208%20mm%20per%20hour.) classifies rainfall as:\n",
    "* Slight: $\\text{rain}<.5$ mm/hr\n",
    "* Moderate: $.5<\\text{rain}<4$ mm/hr\n",
    "* Heavy: $4<\\text{rain}<8$ mm/hr\n",
    "* Very Heavy: $8<\\text{rain}$ mm/hr"
   ]
  },
  {
   "cell_type": "markdown",
   "id": "18361bd2-6ff7-44c2-8e41-7a02f546f7c2",
   "metadata": {},
   "source": [
    "## Setup"
   ]
  },
  {
   "cell_type": "code",
   "execution_count": null,
   "id": "4d27bc2c-c134-48b0-8be9-cad80044a6ae",
   "metadata": {},
   "outputs": [],
   "source": [
    "# Change path for module imports\n",
    "import os\n",
    "os.chdir('..')\n",
    "\n",
    "import numpy as np, random\n",
    "from numpy.random import rand\n",
    "import matplotlib.pyplot as plt\n",
    "from data_funcs import synthetic_data, plot_data, to_json, from_json, format_raws, mse_data\n",
    "\n",
    "import moisture_models as mod\n",
    "from moisture_models import model_decay, model_moisture\n",
    "from datetime import datetime, timedelta\n",
    "import json\n",
    "from utils import hash2\n",
    "\n",
    "from MesoPy import Meso\n",
    "meso_token=\"4192c18707b848299783d59a9317c6e1\"\n",
    "m=Meso(meso_token)\n",
    "\n",
    "import reproducibility"
   ]
  },
  {
   "cell_type": "code",
   "execution_count": null,
   "id": "399206cf-32d9-4017-89e7-39d208517248",
   "metadata": {},
   "outputs": [],
   "source": [
    "# Change directory to data\n",
    "os.chdir('data')"
   ]
  },
  {
   "cell_type": "markdown",
   "id": "31a6243d-d894-4061-9027-1d8e4c812c10",
   "metadata": {},
   "source": [
    "---\n",
    "\n",
    "**Scenarios 1-6**: simulated moisture with default equilibrium parameters. Vary rain from none up to very heavy as described above."
   ]
  },
  {
   "cell_type": "code",
   "execution_count": null,
   "id": "0dc68c44-1c07-4704-8e4d-a824bad3a4d5",
   "metadata": {},
   "outputs": [],
   "source": [
    "# Dictionary to be saved for testing\n",
    "test_dict = {}"
   ]
  },
  {
   "cell_type": "code",
   "execution_count": null,
   "id": "aba3e81a-824c-4454-8696-4f4b2d6b4fa8",
   "metadata": {},
   "outputs": [],
   "source": [
    "## Case 1: no rain\n",
    "synt_dat=synthetic_data(max_rain = 0) \n",
    "synt_dat['id'] = 1\n",
    "synt_dat['title'] = 'Synthetic Data (no rain)'\n",
    "synt_dat['descr'] = 'Max rain: 0 mm/hr; Emin: 5; Emax: 30; 20 days'\n",
    "\n",
    "test_dict['case1'] = synt_dat # save to test dictionary"
   ]
  },
  {
   "cell_type": "code",
   "execution_count": null,
   "id": "2a2e36da-b047-454c-a000-1f34460f5738",
   "metadata": {},
   "outputs": [],
   "source": [
    "## Case 2: light rain\n",
    "synt_dat=synthetic_data(max_rain = 0.4) \n",
    "synt_dat['id'] = 2\n",
    "synt_dat['title'] = 'Synthetic Data (light rain)'\n",
    "synt_dat['descr'] = 'Max rain: .4 mm/hr; Emin: 5; Emax: 30; 20 days'\n",
    "\n",
    "test_dict['case2'] = synt_dat # save to test dictionary"
   ]
  },
  {
   "cell_type": "code",
   "execution_count": null,
   "id": "1defc608-4ace-4f62-8ad0-80eb3f4a3779",
   "metadata": {},
   "outputs": [],
   "source": [
    "## Case 3: moderate rain\n",
    "synt_dat=synthetic_data(max_rain = 3) \n",
    "synt_dat['id'] = 3\n",
    "synt_dat['title'] = 'Synthetic Data (med. rain)'\n",
    "synt_dat['descr'] = 'Max rain: 3 mm/hr; Emin: 5; Emax: 30; 20 days'\n",
    "\n",
    "test_dict['case3'] = synt_dat # save to test dictionary"
   ]
  },
  {
   "cell_type": "code",
   "execution_count": null,
   "id": "a2fc842d-4c60-484d-b9ec-408ac8cd5984",
   "metadata": {},
   "outputs": [],
   "source": [
    "## Case 4: heavy rain\n",
    "synt_dat=synthetic_data(max_rain = 6) \n",
    "synt_dat['id'] = 4\n",
    "synt_dat['title'] = 'Synthetic Data (heavy rain)'\n",
    "synt_dat['descr'] = 'Max rain: 6 mm/hr; Emin: 5; Emax: 30; 20 days'\n",
    "\n",
    "test_dict['case4'] = synt_dat # save to test dictionary"
   ]
  },
  {
   "cell_type": "code",
   "execution_count": null,
   "id": "1307e2b1-f907-4396-be97-ea8069efcd5a",
   "metadata": {},
   "outputs": [],
   "source": [
    "## Case 5: very heavy rain 1\n",
    "synt_dat=synthetic_data(max_rain = 10) \n",
    "synt_dat['id'] = 5\n",
    "synt_dat['title'] = 'Synthetic Data (very heavy rain 1)'\n",
    "synt_dat['descr'] = 'Max rain: 10 mm/hr; Emin: 5; Emax: 30; 20 days'\n",
    "\n",
    "test_dict['case5'] = synt_dat # save to test dictionary"
   ]
  },
  {
   "cell_type": "code",
   "execution_count": null,
   "id": "0b7d68cf-85d1-418e-935f-016c776c7f77",
   "metadata": {},
   "outputs": [],
   "source": [
    "## Case 6: very heavy rain 2\n",
    "synt_dat=synthetic_data(max_rain = 15) \n",
    "synt_dat['id'] = 6\n",
    "synt_dat['title'] = 'Synthetic Data (very heavy rain 2)'\n",
    "synt_dat['descr'] = 'Max rain: 15 mm/hr; Emin: 5; Emax: 30; 20 days'\n",
    "\n",
    "test_dict['case6'] = synt_dat # save to test dictionary"
   ]
  },
  {
   "cell_type": "code",
   "execution_count": null,
   "id": "f96c5be8-b237-4ddd-8ebe-0d34161ffa39",
   "metadata": {
    "tags": []
   },
   "outputs": [],
   "source": [
    "plot_data(test_dict['case6'])"
   ]
  },
  {
   "cell_type": "markdown",
   "id": "c065be74-3fef-4165-adaf-be2b1f36348d",
   "metadata": {},
   "source": [
    "---\n",
    "\n",
    "**Scenario 7-8:** RAWS Data, multiple time slices"
   ]
  },
  {
   "cell_type": "code",
   "execution_count": null,
   "id": "34f38801-aa57-423e-9191-db18a863b49d",
   "metadata": {},
   "outputs": [],
   "source": [
    "## Read RAWS data with MesoPy\n",
    "\n",
    "time_start = \"201806010800\"  # June 1 2018 08:00 in format yyyymmddHHMM\n",
    "time_end   = \"201907200900\"  # June 20 2018 09:00 in format yyyymmddHHMM\n",
    "\n",
    "vars='air_temp,relative_humidity,precip_accum,fuel_moisture'"
   ]
  },
  {
   "cell_type": "code",
   "execution_count": null,
   "id": "3f7b5ff0-9233-4a69-b4de-f7dfdb50f029",
   "metadata": {},
   "outputs": [],
   "source": [
    "meso_ts = m.timeseries(time_start, time_end, stid=\"CPTC2\", showemptystations = '0', vars=vars)   # ask the object for data"
   ]
  },
  {
   "cell_type": "code",
   "execution_count": null,
   "id": "4aa1c9bb-87b1-4b09-b6a7-efc127b01272",
   "metadata": {},
   "outputs": [],
   "source": [
    "\n",
    "def format_raws(stn, fixnames = True):\n",
    "    raws_dat = stn['OBSERVATIONS']\n",
    "    \n",
    "    # Convert to Numpy arrays, check data type for floats\n",
    "    for key in [*stn['OBSERVATIONS'].keys()]:\n",
    "        if type(stn['OBSERVATIONS'][key][0]) is float:\n",
    "            raws_dat[key] = np.array(stn['OBSERVATIONS'][key], dtype = 'float64')\n",
    "        else:\n",
    "            raws_dat[key] = np.array(stn['OBSERVATIONS'][key])\n",
    "    \n",
    "    # Transform Data\n",
    "    raws_dat['air_temp_set_1'] = raws_dat['air_temp_set_1'] + 273.15 ## convert C to K\n",
    "    if 'precip_accum_set_1' in raws_dat.keys():\n",
    "        raws_dat['precip_accum_set_1'] = format_precip(raws_dat['precip_accum_set_1']) ## format precip data, accumulated to hourly\n",
    "    \n",
    "    \n",
    "    # Calculate Equilibrium Temps\n",
    "    raws_dat['Ed'] = 0.924*raws_dat['relative_humidity_set_1']**0.679 + 0.000499*np.exp(0.1*raws_dat['relative_humidity_set_1']) + 0.18*(21.1 + 273.15 - raws_dat['air_temp_set_1'])*(1 - np.exp(-0.115*raws_dat['relative_humidity_set_1']))\n",
    "    raws_dat['Ew'] = 0.618*raws_dat['relative_humidity_set_1']**0.753 + 0.000454*np.exp(0.1*raws_dat['relative_humidity_set_1']) + 0.18*(21.1 + 273.15 - raws_dat['air_temp_set_1'])*(1 - np.exp(-0.115*raws_dat['relative_humidity_set_1']))\n",
    "    \n",
    "    # Fix nan values\n",
    "    for key in [*raws_dat.keys()]:\n",
    "        if type(raws_dat[key][0]) is float:\n",
    "            raws_dat[key] = fixnan(raws_dat[key], 2)\n",
    "    \n",
    "    # Add station id\n",
    "    raws_dat['STID'] = stn['STID']\n",
    "    \n",
    "    # Add lat/lon\n",
    "    raws_dat['LATITUDE'] = stn['LATITUDE']\n",
    "    raws_dat['LONGITUDE'] = stn['LONGITUDE']\n",
    "    \n",
    "    # Simplify names \n",
    "    if fixnames:\n",
    "        var_mapping = {\n",
    "            'date_time': 'time', 'precip_accum': 'rain', \n",
    "            'fuel_moisture': 'fm', 'relative_humidity': 'rh',\n",
    "            'air_temp': 'temp', 'Ed': 'Ed', 'Ew': 'Ew', 'STID': 'STID',\n",
    "            'LONGITUDE': 'lon', 'LATITUDE': 'lat'\n",
    "            }\n",
    "        old_keys = [*raws_dat.keys()]\n",
    "        old_keys = [k.replace(\"_set_1\", \"\") for k in old_keys]\n",
    "        new_keys = []\n",
    "        for key in old_keys:\n",
    "            new_keys.append(var_mapping.get(key, key))\n",
    "        old_keys = [*raws_dat.keys()]\n",
    "        old_keys = [k.replace(\"_set_1\", \"\") for k in old_keys]\n",
    "        new_keys = []\n",
    "        for key in old_keys:\n",
    "            new_keys.append(var_mapping.get(key, key))\n",
    "        raws_dat2 = dict(zip(new_keys, list(raws_dat.values())))\n",
    "        return raws_dat2\n",
    "    \n",
    "    else: return raws_dat\n",
    "\n",
    "def format_precip(precipa):\n",
    "    rain=np.array(precipa, dtype = 'float64')\n",
    "    rain = np.diff(rain) # first difference to convert accumulated to hourly\n",
    "    rain = np.insert(rain, 0, [np.NaN]) # add NaN entry to account for diff\n",
    "    rain[rain > 1000] = np.NaN # filter out erroneously high\n",
    "    rain[rain < 0] = np.NaN # filter out negative, results from diff function after precipa goes to zero\n",
    "    return rain"
   ]
  },
  {
   "cell_type": "code",
   "execution_count": null,
   "id": "0026b1d5-ac67-4f46-a4d1-3e82c2669353",
   "metadata": {},
   "outputs": [],
   "source": [
    "raws1 = format_raws(meso_ts['STATION'][0])"
   ]
  },
  {
   "cell_type": "code",
   "execution_count": null,
   "id": "0a0ebfde-e790-4800-955c-6a2636b8f1e5",
   "metadata": {},
   "outputs": [],
   "source": [
    "# Scenario 7: time 0-1200 for station\n",
    "## Heavy rain at end of time period\n",
    "dict1={\n",
    "    'id': 7,\n",
    "    'time': raws1['time'][0:1200],\n",
    "    'rain': raws1['rain'][0:1200],\n",
    "    'fm' : raws1['fm'][0:1200],\n",
    "    'rh' : raws1['rh'][0:1200],\n",
    "    'temp' : raws1['temp'][0:1200],\n",
    "    'Ed' : raws1['Ed'][0:1200],\n",
    "    'Ew' : raws1['Ew'][0:1200],\n",
    "    'STID' : raws1['STID'],\n",
    "    'title' : 'RAWS Station CPTC2 #1',\n",
    "    'descr' : 'Real surface level data, very heavy rain at end',\n",
    "    'hours':1200,\n",
    "    'h2':300,\n",
    "    'other': {'lon': raws1['lon'], 'lat': raws1['lat']}\n",
    "}\n",
    "\n",
    "test_dict['case7'] = dict1 # save to test dictionary"
   ]
  },
  {
   "cell_type": "code",
   "execution_count": null,
   "id": "8e2b7707-0c05-471e-a679-df11a1ba2047",
   "metadata": {},
   "outputs": [],
   "source": [
    "plot_data(dict1)"
   ]
  },
  {
   "cell_type": "code",
   "execution_count": null,
   "id": "5f9957cb-a858-406d-9fde-c8c615b2f262",
   "metadata": {},
   "outputs": [],
   "source": [
    "# Scenario 8: time 800-2000 for station\n",
    "## Heavy rain at beginning of time period\n",
    "dict1={\n",
    "    'id': 8,\n",
    "    'time': raws1['time'][800:2000],\n",
    "    'rain': raws1['rain'][800:2000],\n",
    "    'fm' : raws1['fm'][800:2000],\n",
    "    'rh' : raws1['rh'][800:2000],\n",
    "    'temp' : raws1['temp'][800:2000],\n",
    "    'Ed' : raws1['Ed'][800:2000],\n",
    "    'Ew' : raws1['Ew'][800:2000],\n",
    "    'STID' : raws1['STID'],\n",
    "    'title' : 'RAWS Station CPTC2 #2',\n",
    "    'descr' : 'Real surface level data, very heavy rain at beginning',\n",
    "    'hours':1200,\n",
    "    'h2':300,\n",
    "    'other': {'lon': raws1['lon'], 'lat': raws1['lat']}\n",
    "}\n",
    "\n",
    "test_dict['case8'] = dict1 # save to test dictionary"
   ]
  },
  {
   "cell_type": "code",
   "execution_count": null,
   "id": "7d97200d-604f-4092-8150-326f230e71d6",
   "metadata": {},
   "outputs": [],
   "source": [
    "plot_data(test_dict['case8'])"
   ]
  },
  {
   "cell_type": "markdown",
   "id": "a9e424a2-16d7-4c5d-a012-f4d0def14ae4",
   "metadata": {},
   "source": [
    "---\n",
    "\n",
    "**Scenario 9-10:** RTMA Data, multiple time slices at station BKCU1"
   ]
  },
  {
   "cell_type": "code",
   "execution_count": null,
   "id": "9d77a160-3955-4098-8348-3a6ffedfcca8",
   "metadata": {},
   "outputs": [],
   "source": [
    "rtma = from_json('kf_orig.json')"
   ]
  },
  {
   "cell_type": "code",
   "execution_count": null,
   "id": "b046d58b-f88c-42dc-8322-eb390dacdc3a",
   "metadata": {},
   "outputs": [],
   "source": [
    "rtma = from_json('rtma.json')"
   ]
  },
  {
   "cell_type": "code",
   "execution_count": null,
   "id": "4e8331e9-567e-4e02-9ece-535f39247cc3",
   "metadata": {},
   "outputs": [],
   "source": [
    "rtma.keys()\n",
    "# print(rtma['time_str'][3000])"
   ]
  },
  {
   "cell_type": "code",
   "execution_count": null,
   "id": "78c0e3f6-ec95-4c45-adcd-be453da4d105",
   "metadata": {},
   "outputs": [],
   "source": [
    "print(rtma['obs_lat'])\n",
    "print(rtma['obs_lon'])"
   ]
  },
  {
   "cell_type": "code",
   "execution_count": null,
   "id": "6aabbf30-452a-401e-a0dc-ad325bf9474d",
   "metadata": {},
   "outputs": [],
   "source": [
    "## Read RAWS data with MesoPy\n",
    "\n",
    "time_start = \"201807041600\"  # '2018-07-04 16:00'\n",
    "time_end   = \"201810040900\"  # '2018-10-04 08:00', 1 hr buffer\n",
    "\n",
    "vars='fuel_moisture'\n",
    "\n",
    "meso_ts = m.timeseries(time_start, time_end, stid=\"BKCU1\", showemptystations = '0', vars=vars)   # ask the object for data"
   ]
  },
  {
   "cell_type": "code",
   "execution_count": null,
   "id": "0309ca3a-981d-4ad0-b767-8779a2022e2b",
   "metadata": {},
   "outputs": [],
   "source": [
    "print(meso_ts['STATION'][0]['LATITUDE'])\n",
    "print(meso_ts['STATION'][0]['LONGITUDE'])"
   ]
  },
  {
   "cell_type": "code",
   "execution_count": null,
   "id": "926895c9-ed59-4ea2-ae5c-0a4ecd7d4670",
   "metadata": {},
   "outputs": [],
   "source": [
    "def format_rtma(rtma):\n",
    "    td = np.array(rtma['td'])\n",
    "    t2 = np.array(rtma['temp'])\n",
    "    rain=np.array(rtma['precipa'])\n",
    "    # compute relative humidity\n",
    "    rh = 100*np.exp(17.625*243.04*(td - t2) / (243.04 + t2 - 273.15) / (243.0 + td - 273.15))\n",
    "    Ed = 0.924*rh**0.679 + 0.000499*np.exp(0.1*rh) + 0.18*(21.1 + 273.15 - t2)*(1 - np.exp(-0.115*rh))\n",
    "    Ew = 0.618*rh**0.753 + 0.000454*np.exp(0.1*rh) + 0.18*(21.1 + 273.15 - t2)*(1 - np.exp(-0.115*rh))\n",
    "\n",
    "    rtma_dict = {\n",
    "        'time': rtma['time_str'],\n",
    "        'rain': format_precip(rtma['precipa']),\n",
    "        # 'fm' : np.array(fm),\n",
    "        'rh' : __,\n",
    "        'temp' : t2,\n",
    "        'rh' : rh,\n",
    "        'Ed' : Ed,\n",
    "        'Ew' : Ew,\n",
    "        'lat' : rtma['obs_lat'], \n",
    "        'lon' : rtma['obs_lon']\n",
    "    }\n",
    "    \n",
    "    return rtma_dict"
   ]
  },
  {
   "cell_type": "code",
   "execution_count": null,
   "id": "01653876-970a-4347-82c3-a0e8c21bc78c",
   "metadata": {},
   "outputs": [],
   "source": [
    "rtma1 = format_rtma(rtma)\n",
    "fm = np.array(meso_ts['STATION'][0]['OBSERVATIONS']['fuel_moisture_set_1'])"
   ]
  },
  {
   "cell_type": "code",
   "execution_count": null,
   "id": "2298a66d-429a-4347-9746-bd91ac38de31",
   "metadata": {},
   "outputs": [],
   "source": [
    "# Scenario 9: time 800:2000 for rtma location\n",
    "## moderate rain towards end of time period\n",
    "dict1={\n",
    "    'id': 9,\n",
    "    'time': rtma1['time'][800:2000],\n",
    "    'rain': rtma1['rain'][800:2000],\n",
    "    'fm' : fm[0:1200],\n",
    "    'rh' : rtma1['rh'][800:2000],\n",
    "    'temp' : rtma1['temp'][800:2000],\n",
    "    'Ed' : rtma1['Ed'][800:2000],\n",
    "    'Ew' : rtma1['Ew'][800:2000],\n",
    "    'title' : 'RTMA Data, Fuel from RAWS Station BKCU1 #1',\n",
    "    'descr' : 'rtma weather, surface level fuel, moderate rain at end',\n",
    "    'hours':1200,\n",
    "    'h2':300,\n",
    "    'other': {'lon': rtma1['lon'], 'lat': rtma1['lat']}\n",
    "}\n",
    "\n",
    "test_dict['case9'] = dict1 # save to test dictionary"
   ]
  },
  {
   "cell_type": "code",
   "execution_count": null,
   "id": "7b28db79-f79e-41ae-ac90-96ee7922a85f",
   "metadata": {},
   "outputs": [],
   "source": [
    "plot_data(test_dict['case9'])"
   ]
  },
  {
   "cell_type": "code",
   "execution_count": null,
   "id": "84693079-e468-494d-afee-76cef4198aba",
   "metadata": {},
   "outputs": [],
   "source": [
    "# Scenario 10: time 1000-2200 for same location\n",
    "## moderate rain towards end of time period\n",
    "dict1={\n",
    "    'id': 10,\n",
    "    'time': rtma1['time'][1800:3000],\n",
    "    'rain': rtma1['rain'][1800:3000],\n",
    "    'fm' : fm[1000:2200],\n",
    "    'rh' : rtma1['rh'][1800:3000],\n",
    "    'temp' : rtma1['temp'][1800:3000],\n",
    "    'Ed' : rtma1['Ed'][1800:3000],\n",
    "    'Ew' : rtma1['Ew'][1800:3000],\n",
    "    'title' : 'RTMA Data, Fuel from RAWS Station BKCU1 #2',\n",
    "    'descr' : 'rtma weather, surface level fuel, heavy rain at end',\n",
    "    'hours':1200,\n",
    "    'h2':300,\n",
    "    'other': {'lon': rtma1['lon'], 'lat': rtma1['lat']}\n",
    "}\n",
    "\n",
    "test_dict['case10'] = dict1 # save to test dictionary"
   ]
  },
  {
   "cell_type": "code",
   "execution_count": null,
   "id": "12803e8c-4024-4108-a808-9768cde9b2f3",
   "metadata": {},
   "outputs": [],
   "source": [
    "plot_data(test_dict['case10'])"
   ]
  },
  {
   "cell_type": "markdown",
   "id": "f9c5d8e4-a43a-4465-a4b1-0dc5c016b879",
   "metadata": {},
   "source": [
    "### Scenario 11: Original RNN\n",
    "\n",
    "RNN generated from notebook to a json file, used for reproducibility since the beginning. RTMA data from same station."
   ]
  },
  {
   "cell_type": "code",
   "execution_count": null,
   "id": "8d055b4f-47f4-4627-9e23-a3d6114dd22d",
   "metadata": {},
   "outputs": [],
   "source": [
    "rnn = from_json('rnn_orig.json')"
   ]
  },
  {
   "cell_type": "code",
   "execution_count": null,
   "id": "5bc86c64-29f8-495f-81cf-bcd4ab1e57fd",
   "metadata": {},
   "outputs": [],
   "source": [
    "rnn.keys()"
   ]
  },
  {
   "cell_type": "code",
   "execution_count": null,
   "id": "79277920-3d10-4fb9-85a3-5f59a1a84213",
   "metadata": {},
   "outputs": [],
   "source": [
    "# Scenario 11:\n",
    "N = rnn['Ed'].shape[0]\n",
    "\n",
    "dict1={\n",
    "    'id': 11,\n",
    "    'time': None,\n",
    "    'rain': rnn['rain'][0:N],\n",
    "    'fm' : rnn['fm'][0:N],\n",
    "    'Ed' : rnn['Ed'][0:N],\n",
    "    'Ew' : rnn['Ew'][0:N],\n",
    "    'rain' : rnn['rain'][0:N],\n",
    "    'title' : 'RNN Orig',\n",
    "    'descr' : 'rtma weather, surface level fuel, moderate rain at end',\n",
    "    'hours':N,\n",
    "    'h2':300,\n",
    "    'other': {'lon': rtma1['lon'], 'lat': rtma1['lat']}\n",
    "}\n",
    "\n",
    "test_dict['case11'] = dict1 # save to test dictionary"
   ]
  },
  {
   "cell_type": "code",
   "execution_count": null,
   "id": "3fb874a9-3604-4940-b99f-70cb5fcd1482",
   "metadata": {},
   "outputs": [],
   "source": [
    "plot_data(test_dict['case11'])"
   ]
  },
  {
   "cell_type": "markdown",
   "id": "1eb3cc2c-3ccc-4b11-8ae5-6faa61099b57",
   "metadata": {},
   "source": [
    "## Save Output"
   ]
  },
  {
   "cell_type": "code",
   "execution_count": null,
   "id": "681e5f96-fc3d-4b94-9fed-5cf5eb42e287",
   "metadata": {},
   "outputs": [],
   "source": [
    "import pickle\n",
    "with open('testing_dict.pickle', 'wb') as handle:\n",
    "    pickle.dump(test_dict, handle, protocol=pickle.HIGHEST_PROTOCOL)"
   ]
  },
  {
   "cell_type": "code",
   "execution_count": null,
   "id": "e97b4be1-716d-40bb-8adc-b503897bd5fe",
   "metadata": {},
   "outputs": [],
   "source": [
    "test_dict.keys()"
   ]
  },
  {
   "cell_type": "code",
   "execution_count": null,
   "id": "607c7e1d-b08f-4728-9a55-b118cb9d9a87",
   "metadata": {},
   "outputs": [],
   "source": [
    "test_dict['case3'].keys()"
   ]
  },
  {
   "cell_type": "markdown",
   "id": "ae83a1de-dd2d-4a97-89a5-5e3e65497c83",
   "metadata": {
    "tags": []
   },
   "source": [
    "## Sample KF Loop on Dict"
   ]
  },
  {
   "cell_type": "code",
   "execution_count": null,
   "id": "ad3b5cd2-f929-4b87-bc33-d44274533e93",
   "metadata": {},
   "outputs": [],
   "source": [
    "with open('testing_dict.pickle', 'rb') as handle:\n",
    "    test_dict = pickle.load(handle)"
   ]
  },
  {
   "cell_type": "code",
   "execution_count": null,
   "id": "3fbda713-01d5-4bd7-917c-e60f4c27c488",
   "metadata": {},
   "outputs": [],
   "source": [
    "err_dict = {} # dictionary to save validation error for cases"
   ]
  },
  {
   "cell_type": "code",
   "execution_count": null,
   "id": "03676256-b728-4ac9-b094-45b61901753a",
   "metadata": {},
   "outputs": [],
   "source": [
    "# Calculate mean squared error\n",
    "def mse(a, b):\n",
    "    return ((a - b)**2).mean()\n",
    "\n",
    "def mse_data(dat, hours = None, h2 = None):\n",
    "    if hours is None:\n",
    "        hours = dat['hours']\n",
    "    if h2 is None:\n",
    "        h2 = dat['h2']\n",
    "    \n",
    "    m = dat['m']\n",
    "    fm = dat['fm']\n",
    "    \n",
    "    train = mse(m[:h2], fm[:h2])\n",
    "    test = mse(m[h2:hours], fm[h2:hours])\n",
    "    print('Training MSE:   ' + str(np.round(train, 4)))\n",
    "    print('Prediction MSE: ' + str(np.round(test, 4)))\n",
    "          \n",
    "    return train, test"
   ]
  },
  {
   "cell_type": "code",
   "execution_count": null,
   "id": "aa6d38af-67f8-44d2-ac66-3d05d45dd6b2",
   "metadata": {},
   "outputs": [],
   "source": [
    "for key in [*test_dict.keys()]:\n",
    "    print(key, ':', test_dict[key]['title'])\n",
    "    \n",
    "    dict1 = test_dict[key]\n",
    "    m,Ec = mod.run_augmented_kf(dict1)\n",
    "    dict1['m']=m\n",
    "    \n",
    "    errs = mse_data(dict1)\n",
    "    \n",
    "    print('-'*25)\n",
    "    \n",
    "    err_dict[key] = {\n",
    "        'title' : test_dict[key]['title'],\n",
    "        'train' : errs[0],\n",
    "        'test' : errs[1],\n",
    "        'm_hash' : int(hash2(m)),\n",
    "        # 'm' : m,\n",
    "        'Ec' : Ec # equil. correction learned by training\n",
    "    }"
   ]
  },
  {
   "cell_type": "code",
   "execution_count": null,
   "id": "444efc30-8454-4efe-8800-ac5836c1b4db",
   "metadata": {},
   "outputs": [],
   "source": [
    "to_json(err_dict, 'errors.json')"
   ]
  },
  {
   "cell_type": "code",
   "execution_count": null,
   "id": "e41a06e2-cbc7-45d4-8384-b56315906772",
   "metadata": {},
   "outputs": [],
   "source": [
    "err_dict"
   ]
  },
  {
   "cell_type": "code",
   "execution_count": null,
   "id": "cf9e356b-7e6c-4b08-ae7f-70a9d5736a23",
   "metadata": {},
   "outputs": [],
   "source": []
  }
 ],
 "metadata": {
  "kernelspec": {
   "display_name": "Python 3 (ipykernel)",
   "language": "python",
   "name": "python3"
  },
  "language_info": {
   "codemirror_mode": {
    "name": "ipython",
    "version": 3
   },
   "file_extension": ".py",
   "mimetype": "text/x-python",
   "name": "python",
   "nbconvert_exporter": "python",
   "pygments_lexer": "ipython3",
   "version": "3.9.12"
  }
 },
 "nbformat": 4,
 "nbformat_minor": 5
}
