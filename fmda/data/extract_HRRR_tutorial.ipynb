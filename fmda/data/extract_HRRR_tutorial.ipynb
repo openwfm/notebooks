{
 "cells": [
  {
   "cell_type": "code",
   "execution_count": null,
   "id": "3c9149ef-05ba-41d5-a746-43d57990a795",
   "metadata": {},
   "outputs": [],
   "source": [
    "import pandas as pd\n",
    "import matplotlib.pyplot as plt\n",
    "import numpy as np\n",
    "import os\n",
    "import os.path as osp\n",
    "import timeit\n",
    "from osgeo import gdal, osr\n",
    "from contextlib import redirect_stdout\n",
    "import io\n",
    "from pathlib import Path\n",
    "\n",
    "from grib_to_geotiff import grib_to_geotiff\n",
    "from grib_to_geotiff2 import grib_to_geotiff2"
   ]
  },
  {
   "cell_type": "markdown",
   "id": "7abb35fc-6850-4787-bd3a-71bf034a9154",
   "metadata": {},
   "source": [
    "The purpose of this notebook is to demonstrate data extraction from HRRR grib files. The grib files are retrieved via `wrfxpy/src/ingest/retrieve_gribs`. The HRRR bands are extracted from the 3d Pressure Levels model. The bands and their definitions can be found at the [HRRR inventory](https://www.nco.ncep.noaa.gov/pmb/products/hrrr/hrrr.t00z.wrfprsf00.grib2.shtml). Each HRRR band needed for training FMDA models is extracted and saved as an individual geotiff file. The code below demonstrates how that is done, given existing `.grib2` files."
   ]
  },
  {
   "cell_type": "markdown",
   "id": "744e4304-0501-426e-9456-dff098b47208",
   "metadata": {},
   "source": [
    "# Extract HRRR Bands\n",
    "\n",
    "A dataframe will determine which bands to extract, and provides useful metadata on those fields. The code will loop over rows of the dataframe and save individual `.tif` files."
   ]
  },
  {
   "cell_type": "code",
   "execution_count": null,
   "id": "12d51e2e-97e2-41e2-baa8-710fba280381",
   "metadata": {},
   "outputs": [],
   "source": [
    "band_df_hrrr = pd.DataFrame({\n",
    "    'Band': [616, 620, 624, 628, 629, 661, 561, 612, 643],\n",
    "    'hrrr_name': ['TMP', 'RH', \"WIND\", 'PRATE', 'APCP',\n",
    "                  'DSWRF', 'SOILW', 'CNWAT', 'GFLUX'],\n",
    "    'dict_name': [\"temp\", \"rh\", \"wind\", \"rain\", \"precip_accum\",\n",
    "                 \"solar\", \"soilm\", \"canopyw\", \"groundflux\"],\n",
    "    'descr': ['2m Temperature [K]', \n",
    "              '2m Relative Humidity [%]', \n",
    "              '10m Wind Speed [m/s]'\n",
    "              'surface Precip. Rate [kg/m^2/s]',\n",
    "              'surface Total Precipitation [kg/m^2]',\n",
    "              'surface Downward Short-Wave Radiation Flux [W/m^2]',\n",
    "              'surface Total Precipitation [kg/m^2]',\n",
    "              '0.0m below ground Volumetric Soil Moisture Content [Fraction]',\n",
    "              'Plant Canopy Surface Water [kg/m^2]',\n",
    "              'surface Ground Heat Flux [W/m^2]']\n",
    "})\n",
    "\n",
    "band_df_hrrr"
   ]
  },
  {
   "cell_type": "code",
   "execution_count": null,
   "id": "15de3664-a29e-4808-b6c3-253326fad274",
   "metadata": {},
   "outputs": [],
   "source": [
    "# Path to HRRR grib2 file\n",
    "grib_path = \"hrrr.t02z.wrfprsf00.grib2\"\n",
    "outpath = \".\""
   ]
  },
  {
   "cell_type": "code",
   "execution_count": null,
   "id": "554f77bb-05c4-4eb2-9457-4ad94e8fd29c",
   "metadata": {},
   "outputs": [],
   "source": [
    "# Loop over df and extract\n",
    "for index, row in band_df_hrrr.iterrows():\n",
    "    print(\"~\"*25)\n",
    "    band = row[\"Band\"]\n",
    "    filename_prefix = osp.join(outpath, Path(osp.basename(grib_path)).stem)\n",
    "    print(filename_prefix)\n",
    "    print(f\"Extracting band {band}, {row['descr']}\")\n",
    "    grib_to_geotiff(grib_path, filename_prefix, band)"
   ]
  },
  {
   "cell_type": "markdown",
   "id": "f5e46061-0808-40c0-86e3-9239a810a3d0",
   "metadata": {},
   "source": [
    "# Speed Benchmark Test\n",
    "\n",
    "The methodology above saves individual bands in their own `.tif` files. So there is one file for each band and each hour. Below we compare the speed of this methdology with another approach that saves the needed HRRR bands in a single `.tif` file per hour. This alternative method appears faster for extracting and writing data, but it is no faster when it comes to reading in the data. Since it is the speed of reading the data into a model that we are primarily concerned with, we won't change the methodology in the above sections."
   ]
  },
  {
   "cell_type": "markdown",
   "id": "e3a990ed-cf77-46d0-b95c-703f822337cd",
   "metadata": {},
   "source": [
    "## Run both functions"
   ]
  },
  {
   "cell_type": "code",
   "execution_count": null,
   "id": "2b3603b1-aead-4c47-a36d-a6be062dd118",
   "metadata": {},
   "outputs": [],
   "source": [
    "def suppress_print_output(func):\n",
    "    def wrapper(*args, **kwargs):\n",
    "        with io.StringIO() as buf, redirect_stdout(buf):\n",
    "            func(*args, **kwargs)\n",
    "    return wrapper\n",
    "\n",
    "def f1_verbose():\n",
    "    for band in bands:\n",
    "        # print(f\"Extracting band {band}\")\n",
    "        grib_to_geotiff(grib_path, \"AAA\",band)\n",
    "def f2_verbose():\n",
    "    grib_to_geotiff2(grib_path, \"BBB\",bands)\n",
    "\n",
    "# Wrap the original function with the suppress_print_output function\n",
    "f1 = suppress_print_output(f1_verbose)\n",
    "f2 = suppress_print_output(f2_verbose)"
   ]
  },
  {
   "cell_type": "code",
   "execution_count": null,
   "id": "f531e371-f9b2-4a7b-9b97-65cc9c5e190f",
   "metadata": {},
   "outputs": [],
   "source": [
    "f1()"
   ]
  },
  {
   "cell_type": "code",
   "execution_count": null,
   "id": "5cd00472-49ce-4daa-9168-f4d5ece202ad",
   "metadata": {},
   "outputs": [],
   "source": [
    "f2()"
   ]
  },
  {
   "cell_type": "markdown",
   "id": "0258131e-5f34-4c19-8e7f-4caf00d349cd",
   "metadata": {},
   "source": [
    "## Check Equality"
   ]
  },
  {
   "cell_type": "code",
   "execution_count": null,
   "id": "a09024c2-4d97-4247-9689-d7545d03a40d",
   "metadata": {},
   "outputs": [],
   "source": [
    "# Extract data from tif file\n",
    "ds = gdal.Open(\"AAA.585.tif\")\n",
    "band = ds.GetRasterBand(1)\n",
    "data1 = band.ReadAsArray()"
   ]
  },
  {
   "cell_type": "code",
   "execution_count": null,
   "id": "d1496b6c-44ba-4570-823e-b92da9d4cd1a",
   "metadata": {},
   "outputs": [],
   "source": [
    "# Extract data from tif file\n",
    "ds = gdal.Open(\"BBB.fmda_bands.tif\")\n",
    "band = ds.GetRasterBand(1)\n",
    "data2 = band.ReadAsArray()"
   ]
  },
  {
   "cell_type": "code",
   "execution_count": null,
   "id": "dff99200-28eb-49f0-8d49-8c3441342c23",
   "metadata": {},
   "outputs": [],
   "source": [
    "np.all(data1 == data2)"
   ]
  },
  {
   "cell_type": "code",
   "execution_count": null,
   "id": "1384a50b-36ff-42fb-989b-ffcb321d0213",
   "metadata": {},
   "outputs": [],
   "source": [
    "ds = gdal.Open(\"AAA.628.tif\")\n",
    "band = ds.GetRasterBand(1)\n",
    "data1 = band.ReadAsArray()\n",
    "ds = gdal.Open(\"BBB.fmda_bands.tif\")\n",
    "band = ds.GetRasterBand(4)\n",
    "data2 = band.ReadAsArray()\n",
    "np.all(data1 == data2)"
   ]
  },
  {
   "cell_type": "code",
   "execution_count": null,
   "id": "552ec63f-ddb1-4945-825f-540ff0352e3b",
   "metadata": {},
   "outputs": [],
   "source": [
    "ds = gdal.Open(\"AAA.664.tif\")\n",
    "band = ds.GetRasterBand(1)\n",
    "data1 = band.ReadAsArray()\n",
    "ds = gdal.Open(\"BBB.fmda_bands.tif\")\n",
    "band = ds.GetRasterBand(len(bands))\n",
    "data2 = band.ReadAsArray()\n",
    "np.all(data1 == data2)"
   ]
  },
  {
   "cell_type": "markdown",
   "id": "4d80c604-dfcb-4f79-b732-4ba2ee43a8d6",
   "metadata": {},
   "source": [
    "## Time Methods"
   ]
  },
  {
   "cell_type": "markdown",
   "id": "2bb8bacc-d293-4a9c-9193-8964e4b63e57",
   "metadata": {},
   "source": [
    "### Time Band Extraction"
   ]
  },
  {
   "cell_type": "code",
   "execution_count": null,
   "id": "9c701f62-c8f1-478e-b05a-a9b9965136f1",
   "metadata": {},
   "outputs": [],
   "source": [
    "timeit.timeit(\n",
    "    f1, number = 20\n",
    ")"
   ]
  },
  {
   "cell_type": "code",
   "execution_count": null,
   "id": "afc2d99b-a82d-415a-a562-84c862ae1dc6",
   "metadata": {},
   "outputs": [],
   "source": [
    "timeit.timeit(\n",
    "    f2, number = 20\n",
    ")"
   ]
  },
  {
   "cell_type": "markdown",
   "id": "d8a42488-eb2c-4f4b-9bd4-d20828a4083c",
   "metadata": {},
   "source": [
    "### Time Reading"
   ]
  },
  {
   "cell_type": "code",
   "execution_count": null,
   "id": "2b0ef8ef-835b-4227-9015-bbe02cfde077",
   "metadata": {},
   "outputs": [],
   "source": [
    "bands"
   ]
  },
  {
   "cell_type": "code",
   "execution_count": null,
   "id": "5c1d109f-fd44-47af-addd-a6b9db3154ff",
   "metadata": {},
   "outputs": [],
   "source": [
    "def r1():\n",
    "    for band in bands:\n",
    "        with gdal.Open(f\"AAA.{band}.tif\") as ds:\n",
    "        # ds = gdal.Open(f\"AAA.{band}.tif\")\n",
    "            band = ds.GetRasterBand(1)\n",
    "            data1 = band.ReadAsArray()\n",
    "            # print(hash(data1.tobytes())) # can use to compare results\n",
    "    \n",
    "# def r2():\n",
    "#     with gdal.Open(f\"BBB.fmda_bands.tif\") as ds:\n",
    "#     for i,band in enumerate(bands):\n",
    "#         band = ds.GetRasterBand(i+1)\n",
    "#         data2 = band.ReadAsArray()\n",
    "#         # print(hash(data2.tobytes()))"
   ]
  },
  {
   "cell_type": "code",
   "execution_count": null,
   "id": "5b1e14f7-f687-404a-bf76-a11da6bdc6e9",
   "metadata": {},
   "outputs": [],
   "source": [
    "r1()"
   ]
  },
  {
   "cell_type": "code",
   "execution_count": null,
   "id": "91b69a81-edab-432e-ab25-45496f112735",
   "metadata": {},
   "outputs": [],
   "source": [
    "timeit.timeit(\n",
    "    r1, number = 100\n",
    ")"
   ]
  },
  {
   "cell_type": "code",
   "execution_count": null,
   "id": "40a20324-8e1e-464b-b170-e2d9fc4083a2",
   "metadata": {},
   "outputs": [],
   "source": [
    "timeit.timeit(\n",
    "    r2, number = 100\n",
    ")"
   ]
  },
  {
   "cell_type": "code",
   "execution_count": null,
   "id": "cb835dfa-b006-4773-94ec-5e845e74f3ba",
   "metadata": {},
   "outputs": [],
   "source": []
  }
 ],
 "metadata": {
  "kernelspec": {
   "display_name": "Python 3 (ipykernel)",
   "language": "python",
   "name": "python3"
  },
  "language_info": {
   "codemirror_mode": {
    "name": "ipython",
    "version": 3
   },
   "file_extension": ".py",
   "mimetype": "text/x-python",
   "name": "python",
   "nbconvert_exporter": "python",
   "pygments_lexer": "ipython3",
   "version": "3.9.12"
  }
 },
 "nbformat": 4,
 "nbformat_minor": 5
}
