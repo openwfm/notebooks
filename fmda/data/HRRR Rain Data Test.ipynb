{
 "cells": [
  {
   "cell_type": "code",
   "execution_count": null,
   "id": "84da2f41-09c2-48fe-8f9c-9cce75ee4d3a",
   "metadata": {},
   "outputs": [],
   "source": [
    "import os\n",
    "import os.path as osp\n",
    "import subprocess\n",
    "import numpy as np\n",
    "import pandas as pd\n",
    "from datetime import datetime\n",
    "import matplotlib.pyplot as plt\n",
    "from osgeo import gdal"
   ]
  },
  {
   "cell_type": "code",
   "execution_count": null,
   "id": "7437aa1c-643d-43c7-8623-8d37090bc3aa",
   "metadata": {},
   "outputs": [],
   "source": [
    "url = \"https://nomads.ncep.noaa.gov/pub/data/nccf/com/hrrr/prod/hrrr.20240312/conus/hrrr.t00z.wrfprsf00.grib2\"\n",
    "ds = gdal.Open('/vsicurl/' + url)\n",
    "band_number = 629\n",
    "band = ds.GetRasterBand(band_number)\n",
    "data = band.ReadAsArray()\n",
    "\n",
    "# Close the dataset\n",
    "ds = None"
   ]
  },
  {
   "cell_type": "code",
   "execution_count": null,
   "id": "6c241cd1-218b-4131-9347-5cc90c2166dc",
   "metadata": {},
   "outputs": [],
   "source": [
    "print(np.max(data))"
   ]
  },
  {
   "cell_type": "code",
   "execution_count": null,
   "id": "71803229-4ed9-40db-b93c-5e15e23d7033",
   "metadata": {},
   "outputs": [],
   "source": [
    "plt.imshow(data)\n",
    "plt.colorbar()"
   ]
  },
  {
   "cell_type": "code",
   "execution_count": null,
   "id": "cd831660-94dd-4a80-9da7-2f85e90851af",
   "metadata": {},
   "outputs": [],
   "source": [
    "ds = gdal.Open('/vsicurl/' + url)\n",
    "band_number = 585\n",
    "band = ds.GetRasterBand(band_number)\n",
    "data = band.ReadAsArray()\n",
    "\n",
    "# Close the dataset\n",
    "ds = None"
   ]
  },
  {
   "cell_type": "code",
   "execution_count": null,
   "id": "d31af6b6-75f2-4475-a089-3c688299a569",
   "metadata": {},
   "outputs": [],
   "source": [
    "plt.imshow(data)\n",
    "plt.colorbar()"
   ]
  },
  {
   "cell_type": "code",
   "execution_count": null,
   "id": "09aa71b9-fc02-4cc9-a3cf-a1b752352322",
   "metadata": {},
   "outputs": [],
   "source": []
  }
 ],
 "metadata": {
  "kernelspec": {
   "display_name": "Python 3 (ipykernel)",
   "language": "python",
   "name": "python3"
  },
  "language_info": {
   "codemirror_mode": {
    "name": "ipython",
    "version": 3
   },
   "file_extension": ".py",
   "mimetype": "text/x-python",
   "name": "python",
   "nbconvert_exporter": "python",
   "pygments_lexer": "ipython3",
   "version": "3.9.12"
  }
 },
 "nbformat": 4,
 "nbformat_minor": 5
}
