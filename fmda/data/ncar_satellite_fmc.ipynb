{
 "cells": [
  {
   "cell_type": "markdown",
   "id": "aace229a-e363-431f-aaaa-2de3cd7fefd4",
   "metadata": {},
   "source": [
    "# Explore NCAR Satellite FMC Data Product\n",
    "\n",
    "https://ral.ucar.edu/tool/fuel-moisture-content-retrievals"
   ]
  },
  {
   "cell_type": "code",
   "execution_count": 1,
   "id": "4ef4054e-44c4-43b0-b17a-ead17d9170a3",
   "metadata": {},
   "outputs": [],
   "source": [
    "from netCDF4 import Dataset\n",
    "import numpy as np\n",
    "\n",
    "# Open the .nc file\n",
    "nc_file = \"fmc_2023100200.nc\"\n",
    "nc_data = Dataset(nc_file, \"r\")"
   ]
  },
  {
   "cell_type": "code",
   "execution_count": 2,
   "id": "286f5f93-9e65-4636-b6c9-49c64d6a18b9",
   "metadata": {},
   "outputs": [
    {
     "data": {
      "text/plain": [
       "{'10h_dead_fuel_moisture_content': <class 'netCDF4._netCDF4.Variable'>\n",
       " float32 10h_dead_fuel_moisture_content(ny, nx)\n",
       "     _FillValue: nan\n",
       " unlimited dimensions: \n",
       " current shape = (1319, 2079)\n",
       " filling on,\n",
       " 'latitude': <class 'netCDF4._netCDF4.Variable'>\n",
       " float32 latitude(ny, nx)\n",
       "     _FillValue: nan\n",
       " unlimited dimensions: \n",
       " current shape = (1319, 2079)\n",
       " filling on,\n",
       " 'longitude': <class 'netCDF4._netCDF4.Variable'>\n",
       " float32 longitude(ny, nx)\n",
       "     _FillValue: nan\n",
       " unlimited dimensions: \n",
       " current shape = (1319, 2079)\n",
       " filling on}"
      ]
     },
     "execution_count": 2,
     "metadata": {},
     "output_type": "execute_result"
    }
   ],
   "source": [
    "nc_data.variables"
   ]
  },
  {
   "cell_type": "code",
   "execution_count": 3,
   "id": "c2bbfc19-97ac-4115-bbd8-279aa4bbb5a1",
   "metadata": {},
   "outputs": [
    {
     "data": {
      "text/plain": [
       "dict_keys(['10h_dead_fuel_moisture_content', 'latitude', 'longitude'])"
      ]
     },
     "execution_count": 3,
     "metadata": {},
     "output_type": "execute_result"
    }
   ],
   "source": [
    "nc_data.variables.keys()"
   ]
  },
  {
   "cell_type": "code",
   "execution_count": 4,
   "id": "4784ab39-5578-440a-b993-7116d805b066",
   "metadata": {},
   "outputs": [
    {
     "data": {
      "text/plain": [
       "<class 'netCDF4._netCDF4.Variable'>\n",
       "float32 longitude(ny, nx)\n",
       "    _FillValue: nan\n",
       "unlimited dimensions: \n",
       "current shape = (1319, 2079)\n",
       "filling on"
      ]
     },
     "execution_count": 4,
     "metadata": {},
     "output_type": "execute_result"
    }
   ],
   "source": [
    "nc_data.variables[\"longitude\"]"
   ]
  },
  {
   "cell_type": "code",
   "execution_count": 5,
   "id": "2e259623-434f-4a88-a8fd-790cc3b4e853",
   "metadata": {},
   "outputs": [
    {
     "data": {
      "text/plain": [
       "<class 'netCDF4._netCDF4.Variable'>\n",
       "float32 10h_dead_fuel_moisture_content(ny, nx)\n",
       "    _FillValue: nan\n",
       "unlimited dimensions: \n",
       "current shape = (1319, 2079)\n",
       "filling on"
      ]
     },
     "execution_count": 5,
     "metadata": {},
     "output_type": "execute_result"
    }
   ],
   "source": [
    "nc_data.variables['10h_dead_fuel_moisture_content']"
   ]
  },
  {
   "cell_type": "code",
   "execution_count": 6,
   "id": "6bd3ec61-28cf-4b04-96da-01fa44c42060",
   "metadata": {},
   "outputs": [
    {
     "data": {
      "text/plain": [
       "masked_array(\n",
       "  data=[[--, --, --, ..., --, --, --],\n",
       "        [--, --, --, ..., --, --, --],\n",
       "        [--, --, --, ..., --, --, --],\n",
       "        ...,\n",
       "        [--, --, --, ..., --, --, --],\n",
       "        [--, --, --, ..., --, --, --],\n",
       "        [--, --, --, ..., --, --, --]],\n",
       "  mask=[[ True,  True,  True, ...,  True,  True,  True],\n",
       "        [ True,  True,  True, ...,  True,  True,  True],\n",
       "        [ True,  True,  True, ...,  True,  True,  True],\n",
       "        ...,\n",
       "        [ True,  True,  True, ...,  True,  True,  True],\n",
       "        [ True,  True,  True, ...,  True,  True,  True],\n",
       "        [ True,  True,  True, ...,  True,  True,  True]],\n",
       "  fill_value=nan,\n",
       "  dtype=float32)"
      ]
     },
     "execution_count": 6,
     "metadata": {},
     "output_type": "execute_result"
    }
   ],
   "source": [
    "nc_data.variables['10h_dead_fuel_moisture_content'][:]"
   ]
  },
  {
   "cell_type": "code",
   "execution_count": 7,
   "id": "e79a39ee-2d54-4a6a-a921-2ab6d384cf25",
   "metadata": {},
   "outputs": [
    {
     "data": {
      "text/plain": [
       "array([[nan, nan, nan, ..., nan, nan, nan],\n",
       "       [nan, nan, nan, ..., nan, nan, nan],\n",
       "       [nan, nan, nan, ..., nan, nan, nan],\n",
       "       ...,\n",
       "       [nan, nan, nan, ..., nan, nan, nan],\n",
       "       [nan, nan, nan, ..., nan, nan, nan],\n",
       "       [nan, nan, nan, ..., nan, nan, nan]], dtype=float32)"
      ]
     },
     "execution_count": 7,
     "metadata": {},
     "output_type": "execute_result"
    }
   ],
   "source": [
    "nc_data.variables['10h_dead_fuel_moisture_content'][:].data"
   ]
  },
  {
   "cell_type": "code",
   "execution_count": 8,
   "id": "4fedac34-137f-481b-aa64-d0ad34d96c1b",
   "metadata": {},
   "outputs": [
    {
     "data": {
      "text/plain": [
       "array([0.0000000e+00, 8.4873805e-05, 2.9597510e-04, ..., 3.6929150e+01,\n",
       "       4.2293365e+01,           nan], dtype=float32)"
      ]
     },
     "execution_count": 8,
     "metadata": {},
     "output_type": "execute_result"
    }
   ],
   "source": [
    "np.unique(nc_data.variables['10h_dead_fuel_moisture_content'][:].data)"
   ]
  },
  {
   "cell_type": "code",
   "execution_count": 9,
   "id": "8ed95df8-9989-4864-8675-4ab2a9f55e08",
   "metadata": {},
   "outputs": [
    {
     "data": {
      "text/plain": [
       "0.46962312390667205"
      ]
     },
     "execution_count": 9,
     "metadata": {},
     "output_type": "execute_result"
    }
   ],
   "source": [
    "np.mean(np.isnan(nc_data.variables['10h_dead_fuel_moisture_content'][:].data))"
   ]
  },
  {
   "cell_type": "code",
   "execution_count": 10,
   "id": "197a0a69-432b-4b67-9ded-cc29ccc5eac4",
   "metadata": {},
   "outputs": [
    {
     "data": {
      "text/plain": [
       "0"
      ]
     },
     "execution_count": 10,
     "metadata": {},
     "output_type": "execute_result"
    }
   ],
   "source": [
    "np.sum(np.isnan(nc_data.variables[\"latitude\"][:].data))"
   ]
  },
  {
   "cell_type": "code",
   "execution_count": 13,
   "id": "f637c4bb-15c4-4b2c-95a0-d3a3e125b960",
   "metadata": {},
   "outputs": [
    {
     "name": "stdout",
     "output_type": "stream",
     "text": [
      "22.801903\n",
      "-118.97806\n"
     ]
    }
   ],
   "source": [
    "print(nc_data.variables[\"latitude\"][:].data[0,0])\n",
    "print(nc_data.variables[\"longitude\"][:].data[0,0])"
   ]
  },
  {
   "cell_type": "code",
   "execution_count": null,
   "id": "5590f918-3a8d-4422-98ff-55b009a53671",
   "metadata": {},
   "outputs": [],
   "source": [
    "nc_data.close()"
   ]
  },
  {
   "cell_type": "code",
   "execution_count": null,
   "id": "805ebd72-0182-42e8-b740-26c00920f57d",
   "metadata": {},
   "outputs": [],
   "source": []
  }
 ],
 "metadata": {
  "kernelspec": {
   "display_name": "Python 3 (ipykernel)",
   "language": "python",
   "name": "python3"
  },
  "language_info": {
   "codemirror_mode": {
    "name": "ipython",
    "version": 3
   },
   "file_extension": ".py",
   "mimetype": "text/x-python",
   "name": "python",
   "nbconvert_exporter": "python",
   "pygments_lexer": "ipython3",
   "version": "3.9.12"
  }
 },
 "nbformat": 4,
 "nbformat_minor": 5
}
