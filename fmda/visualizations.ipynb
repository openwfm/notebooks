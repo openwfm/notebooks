{
 "cells": [
  {
   "cell_type": "code",
   "execution_count": null,
   "id": "dd71eb39-f938-440e-99a8-3dc02ee55102",
   "metadata": {},
   "outputs": [],
   "source": [
    "from utils import read_pkl\n",
    "from data_funcs import combine_nested\n",
    "import pandas as pd\n",
    "import matplotlib.pyplot as plt\n",
    "import plotly.express as px\n",
    "import plotly.graph_objects as go\n",
    "import numpy as np\n",
    "from mpl_toolkits.basemap import Basemap\n",
    "from matplotlib.patches import Polygon\n",
    "import os.path as osp"
   ]
  },
  {
   "cell_type": "code",
   "execution_count": null,
   "id": "f8ac5c75-a590-4dae-8a5f-737c8833af1e",
   "metadata": {},
   "outputs": [],
   "source": []
  },
  {
   "cell_type": "code",
   "execution_count": null,
   "id": "4197b2ae-d8e3-4878-b87b-795f7622c753",
   "metadata": {},
   "outputs": [],
   "source": [
    "# dat = read_pkl(\"train.pkl\")\n",
    "dat = read_pkl(\"data/fmda_rocky_202403-05_f05.pkl\")"
   ]
  },
  {
   "cell_type": "code",
   "execution_count": null,
   "id": "28dcf75e-2fad-4fc5-8deb-354f1e31a472",
   "metadata": {},
   "outputs": [],
   "source": [
    "dat['CPTC2_202403'].keys()"
   ]
  },
  {
   "cell_type": "code",
   "execution_count": null,
   "id": "d28d3760-92ad-4e14-90fd-69020c2c4b56",
   "metadata": {},
   "outputs": [],
   "source": [
    "# NW GACC\n",
    "bbox = [37, -111, 46, -95]"
   ]
  },
  {
   "cell_type": "code",
   "execution_count": null,
   "id": "189ab08a-06f5-4758-8d9f-ee95e5cafa70",
   "metadata": {},
   "outputs": [],
   "source": [
    "data = []\n",
    "for key in dat:\n",
    "    loc_data = dat[key]['loc']\n",
    "    data.append([loc_data['STID'], loc_data['lat'], loc_data['lon']])\n",
    "\n",
    "df = pd.DataFrame(data, columns=['STID', 'lat', 'lon'])\n",
    "df"
   ]
  },
  {
   "cell_type": "code",
   "execution_count": null,
   "id": "4c04a46d-7096-4fad-8c20-807e409f8f80",
   "metadata": {},
   "outputs": [],
   "source": [
    "def make_st_map_interactive(df):\n",
    "    fig = go.Figure(go.Scattermapbox(\n",
    "        lat=df['lat'],\n",
    "        lon=df['lon'],\n",
    "        mode='markers',\n",
    "        marker=go.scattermapbox.Marker(\n",
    "            size=10,\n",
    "            opacity=0.7,\n",
    "        ),\n",
    "        text=df['STID'],\n",
    "        name='',\n",
    "        showlegend=False  # Turn off legend\n",
    "    ))\n",
    "\n",
    "    # Add Points\n",
    "    center_lon=df['lon'].median()\n",
    "    center_lat=df['lat'].median()\n",
    "    fig.update_layout(\n",
    "        mapbox_style=\"open-street-map\",\n",
    "        mapbox_center=dict(lat=center_lat, lon=center_lon)\n",
    "    )\n",
    "    # Add Lines for Bounding Box\n",
    "    \n",
    "    fig.add_trace(go.Scattermapbox(\n",
    "        mode=\"lines\",\n",
    "        lon=[df['lon'].min(), df['lon'].min(), df['lon'].max(), df['lon'].max(), df['lon'].min()],\n",
    "        lat=[df['lat'].min(), df['lat'].max(), df['lat'].max(), df['lat'].min(), df['lat'].min()],\n",
    "        marker=dict(size=5, color=\"black\"),\n",
    "        line=dict(width=1.5, color=\"black\"),\n",
    "        showlegend=False\n",
    "    ))\n",
    "    \n",
    "    fig.update_layout(\n",
    "        margin={\"r\":0,\"t\":0,\"l\":0,\"b\":0},\n",
    "        mapbox_zoom =5,\n",
    "        mapbox_center={\"lat\": np.median(df.lat), \"lon\": np.median(df.lon)},  # Center the map on desired location\n",
    "        width=1000,\n",
    "        height=800\n",
    "    )\n",
    "    return fig"
   ]
  },
  {
   "cell_type": "code",
   "execution_count": null,
   "id": "1fd6cfd9-8ce5-44a8-a618-fc06ba898666",
   "metadata": {},
   "outputs": [],
   "source": [
    "make_st_map_interactive(df)"
   ]
  },
  {
   "cell_type": "code",
   "execution_count": null,
   "id": "39374ba7-e4fb-4a7d-a9b0-7bca76e2f950",
   "metadata": {},
   "outputs": [],
   "source": [
    "st = \"TGSK1_202403\""
   ]
  },
  {
   "cell_type": "code",
   "execution_count": null,
   "id": "62053cfb-d882-4044-90c5-38165572596e",
   "metadata": {},
   "outputs": [],
   "source": [
    "fig, ax = plt.subplots()\n",
    "plt.title(f\"RAWS Station {st}\")\n",
    "ax.plot(dat[st]['RAWS']['fm'][0:500], linestyle='-',c='#468a29',label='FMC Observed')\n",
    "plt.legend(loc='upper right')\n",
    "ax.set_ylabel(\"Fuel Moisture Content (%)\")\n",
    "ax.set_xlabel(\"Hour\")\n",
    "plt.savefig(\"outputs/fmc_plot2.png\")\n",
    "# Increase the thickness of the axis borders\n",
    "ax.spines['top'].set_linewidth(1.5)\n",
    "ax.spines['bottom'].set_linewidth(1.5)\n",
    "ax.spines['left'].set_linewidth(1.5)\n",
    "ax.spines['right'].set_linewidth(1.5)\n",
    "\n",
    "# plt.savefig(\"outputs/fmc_plot2.png\")"
   ]
  },
  {
   "cell_type": "markdown",
   "id": "d9aba79a-70b0-4fdb-aeaf-bc593daa0bda",
   "metadata": {},
   "source": [
    "## Plot Tif Files Remotely"
   ]
  },
  {
   "cell_type": "code",
   "execution_count": null,
   "id": "6e5ce074-d1c6-4521-857e-d31aec07f88b",
   "metadata": {},
   "outputs": [],
   "source": [
    "url = \"https://demo.openwfm.org/web/data/fmda/tif/20210428/\"\n",
    "tif_files = [\"hrrr.t00z.wrfprsf00.629.tif\", \"hrrr.t00z.wrfprsf01.629.tif\",\n",
    "            \"hrrr.t00z.wrfprsf03.629.tif\", \"hrrr.t00z.wrfprsf06.629.tif\"]"
   ]
  },
  {
   "cell_type": "code",
   "execution_count": null,
   "id": "0d5d84da-39ce-46b6-ade1-5afb774e9159",
   "metadata": {},
   "outputs": [],
   "source": [
    "import rasterio\n",
    "from rasterio.plot import show\n",
    "import matplotlib.pyplot as plt"
   ]
  },
  {
   "cell_type": "code",
   "execution_count": null,
   "id": "08d8d690-fdaa-479f-a597-77f2fa4aace9",
   "metadata": {},
   "outputs": [],
   "source": [
    "with rasterio.open(osp.join(url, tif_files[0])) as dataset:\n",
    "    # Plot the dataset\n",
    "    fig, ax = plt.subplots()\n",
    "    show(dataset, ax=ax)\n",
    "    plt.show()    "
   ]
  },
  {
   "cell_type": "code",
   "execution_count": null,
   "id": "7cfd568d-30d9-4a0a-b83a-9b500fced3b4",
   "metadata": {},
   "outputs": [],
   "source": [
    "with rasterio.open(osp.join(url, tif_files[2])) as dataset:\n",
    "    # Plot the dataset\n",
    "    fig, ax = plt.subplots()\n",
    "    show(dataset, ax=ax)\n",
    "    plt.show()    "
   ]
  },
  {
   "cell_type": "code",
   "execution_count": null,
   "id": "1ca98402-5fa4-4383-8798-969db67f7352",
   "metadata": {},
   "outputs": [],
   "source": []
  },
  {
   "cell_type": "code",
   "execution_count": null,
   "id": "86d94b91-fbb4-47fb-bba0-e41551f361b5",
   "metadata": {},
   "outputs": [],
   "source": []
  }
 ],
 "metadata": {
  "kernelspec": {
   "display_name": "Python 3 (ipykernel)",
   "language": "python",
   "name": "python3"
  },
  "language_info": {
   "codemirror_mode": {
    "name": "ipython",
    "version": 3
   },
   "file_extension": ".py",
   "mimetype": "text/x-python",
   "name": "python",
   "nbconvert_exporter": "python",
   "pygments_lexer": "ipython3",
   "version": "3.12.5"
  }
 },
 "nbformat": 4,
 "nbformat_minor": 5
}
