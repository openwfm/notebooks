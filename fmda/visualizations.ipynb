{
 "cells": [
  {
   "cell_type": "code",
   "execution_count": null,
   "id": "dd71eb39-f938-440e-99a8-3dc02ee55102",
   "metadata": {},
   "outputs": [],
   "source": [
    "from utils import read_pkl\n",
    "from data_funcs import combine_nested\n",
    "import pandas as pd\n",
    "import matplotlib.pyplot as plt\n",
    "import plotly.express as px\n",
    "import plotly.graph_objects as go\n",
    "import numpy as np\n",
    "from mpl_toolkits.basemap import Basemap\n",
    "from matplotlib.patches import Polygon"
   ]
  },
  {
   "cell_type": "code",
   "execution_count": null,
   "id": "4197b2ae-d8e3-4878-b87b-795f7622c753",
   "metadata": {},
   "outputs": [],
   "source": [
    "dat = read_pkl(\"train.pkl\")"
   ]
  },
  {
   "cell_type": "code",
   "execution_count": null,
   "id": "524d7d5f-7b07-4e9f-87e6-a1853bf4ef27",
   "metadata": {},
   "outputs": [],
   "source": [
    "list([*dat.keys()]).index('CHRO3_202401')"
   ]
  },
  {
   "cell_type": "code",
   "execution_count": null,
   "id": "df0ef300-c4d8-4120-889a-7765da096d9a",
   "metadata": {},
   "outputs": [],
   "source": [
    "d = combine_nested(dat)"
   ]
  },
  {
   "cell_type": "code",
   "execution_count": null,
   "id": "14b96f79-b8bd-403d-9a4a-8a3b9ae87ee6",
   "metadata": {},
   "outputs": [],
   "source": [
    "d.keys()"
   ]
  },
  {
   "cell_type": "code",
   "execution_count": null,
   "id": "116d180c-324a-4804-b5d4-28707aac7bc9",
   "metadata": {},
   "outputs": [],
   "source": [
    "locs = d['loc']\n",
    "locs.keys()"
   ]
  },
  {
   "cell_type": "code",
   "execution_count": null,
   "id": "d28d3760-92ad-4e14-90fd-69020c2c4b56",
   "metadata": {},
   "outputs": [],
   "source": [
    "# NW GACC\n",
    "bbox = [42, -124.6, 49, -116.4]"
   ]
  },
  {
   "cell_type": "code",
   "execution_count": null,
   "id": "eb6ad122-815b-4f83-8049-c3e28fb62c12",
   "metadata": {},
   "outputs": [],
   "source": [
    "df = pd.DataFrame({key: locs[key] for key in ['STID', 'lat', 'lon']})\n",
    "df"
   ]
  },
  {
   "cell_type": "code",
   "execution_count": null,
   "id": "4c04a46d-7096-4fad-8c20-807e409f8f80",
   "metadata": {},
   "outputs": [],
   "source": [
    "def make_st_map_interactive(df):\n",
    "    fig = go.Figure(go.Scattermapbox(\n",
    "        lat=df['lat'],\n",
    "        lon=df['lon'],\n",
    "        mode='markers',\n",
    "        marker=go.scattermapbox.Marker(\n",
    "            size=10,\n",
    "            opacity=0.7,\n",
    "        ),\n",
    "        text=df['STID'],\n",
    "        name='',\n",
    "        showlegend=False  # Turn off legend\n",
    "    ))\n",
    "\n",
    "    # Add Points\n",
    "    center_lon=df['lon'].median()\n",
    "    center_lat=df['lat'].median()\n",
    "    fig.update_layout(\n",
    "        mapbox_style=\"open-street-map\",\n",
    "        mapbox_center=dict(lat=center_lat, lon=center_lon)\n",
    "    )\n",
    "    # Add Lines for Bounding Box\n",
    "    \n",
    "    fig.add_trace(go.Scattermapbox(\n",
    "        mode=\"lines\",\n",
    "        lon=[df['lon'].min(), df['lon'].min(), df['lon'].max(), df['lon'].max(), df['lon'].min()],\n",
    "        lat=[df['lat'].min(), df['lat'].max(), df['lat'].max(), df['lat'].min(), df['lat'].min()],\n",
    "        marker=dict(size=5, color=\"black\"),\n",
    "        line=dict(width=1.5, color=\"black\"),\n",
    "        showlegend=False\n",
    "    ))\n",
    "    \n",
    "    fig.update_layout(\n",
    "        margin={\"r\":0,\"t\":0,\"l\":0,\"b\":0},\n",
    "        mapbox_zoom =5,\n",
    "        mapbox_center={\"lat\": np.median(df.lat), \"lon\": np.median(df.lon)},  # Center the map on desired location\n",
    "        width=1000,\n",
    "        height=800\n",
    "    )\n",
    "    return fig"
   ]
  },
  {
   "cell_type": "code",
   "execution_count": null,
   "id": "1fd6cfd9-8ce5-44a8-a618-fc06ba898666",
   "metadata": {},
   "outputs": [],
   "source": [
    "make_st_map_interactive(df)"
   ]
  },
  {
   "cell_type": "code",
   "execution_count": null,
   "id": "39374ba7-e4fb-4a7d-a9b0-7bca76e2f950",
   "metadata": {},
   "outputs": [],
   "source": [
    "st = \"HOOI1\"\n",
    "ind = d['loc']['STID'].index(st)"
   ]
  },
  {
   "cell_type": "code",
   "execution_count": null,
   "id": "62053cfb-d882-4044-90c5-38165572596e",
   "metadata": {},
   "outputs": [],
   "source": [
    "fig, ax = plt.subplots()\n",
    "plt.title(f\"RAWS Station {st}\")\n",
    "ax.plot(d['y'][ind][3000:3500], linestyle='-',c='#468a29',label='FMC Observed')\n",
    "plt.legend(loc='upper right')\n",
    "ax.set_ylabel(\"Fuel Moisture Content (%)\")\n",
    "ax.set_xlabel(\"Hour\")\n",
    "plt.savefig(\"outputs/fmc_plot2.png\")\n",
    "# Increase the thickness of the axis borders\n",
    "ax.spines['top'].set_linewidth(1.5)\n",
    "ax.spines['bottom'].set_linewidth(1.5)\n",
    "ax.spines['left'].set_linewidth(1.5)\n",
    "ax.spines['right'].set_linewidth(1.5)\n",
    "\n",
    "plt.savefig(\"outputs/fmc_plot2.png\")"
   ]
  },
  {
   "cell_type": "code",
   "execution_count": null,
   "id": "58961640-8836-4920-8a08-e891f5b17c34",
   "metadata": {},
   "outputs": [],
   "source": []
  },
  {
   "cell_type": "code",
   "execution_count": null,
   "id": "0dcdc7ca-da86-430f-a38b-ad5abe4abfe6",
   "metadata": {},
   "outputs": [],
   "source": []
  },
  {
   "cell_type": "code",
   "execution_count": null,
   "id": "86d94b91-fbb4-47fb-bba0-e41551f361b5",
   "metadata": {},
   "outputs": [],
   "source": []
  }
 ],
 "metadata": {
  "kernelspec": {
   "display_name": "Python 3 (ipykernel)",
   "language": "python",
   "name": "python3"
  },
  "language_info": {
   "codemirror_mode": {
    "name": "ipython",
    "version": 3
   },
   "file_extension": ".py",
   "mimetype": "text/x-python",
   "name": "python",
   "nbconvert_exporter": "python",
   "pygments_lexer": "ipython3",
   "version": "3.10.13"
  }
 },
 "nbformat": 4,
 "nbformat_minor": 5
}
