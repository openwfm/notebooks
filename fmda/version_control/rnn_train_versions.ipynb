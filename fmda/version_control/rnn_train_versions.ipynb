{
 "cells": [
  {
   "cell_type": "code",
   "execution_count": null,
   "id": "8530bc7e-61ae-4463-a14f-d5eb42f0b83e",
   "metadata": {},
   "outputs": [],
   "source": [
    "# Environment\n",
    "import numpy as np\n",
    "import pandas as pd\n",
    "import tensorflow as tf\n",
    "import matplotlib.pyplot as plt\n",
    "import sys\n",
    "# Local modules\n",
    "sys.path.append('..')\n",
    "import reproducibility\n",
    "from utils import print_dict_summary\n",
    "from data_funcs import load_and_fix_data, rmse\n",
    "from moisture_rnn import run_case"
   ]
  },
  {
   "cell_type": "markdown",
   "id": "1cad6dcd-7a0a-4afb-aec7-6cd5aa7ee568",
   "metadata": {},
   "source": [
    "## Original Case - Single Batch"
   ]
  },
  {
   "cell_type": "markdown",
   "id": "63d275da-b13a-405e-9e1a-aa3f972119b5",
   "metadata": {},
   "source": [
    "### Reproducibility Dataset"
   ]
  },
  {
   "cell_type": "code",
   "execution_count": null,
   "id": "2dfa08fa-01c9-4fd7-927b-541b0a532e4f",
   "metadata": {},
   "outputs": [],
   "source": [
    "reproducibility_file='../data/reproducibility_dict.pickle'\n",
    "\n",
    "repro={}\n",
    "repro.update(load_and_fix_data(reproducibility_file))\n",
    "print_dict_summary(repro)"
   ]
  },
  {
   "cell_type": "code",
   "execution_count": null,
   "id": "db563737-4aa8-409a-a3f2-86495678ba2b",
   "metadata": {},
   "outputs": [],
   "source": [
    "param_sets_ORIG = {'id':0,\n",
    "        'purpose':'reproducibility',\n",
    "        'batch_size':np.inf,\n",
    "        'training':None,\n",
    "        'cases':['case11'],\n",
    "        'scale':0,\n",
    "        'rain_do':False,\n",
    "#        'verbose':False,\n",
    "        'verbose':1,\n",
    "        'timesteps':5,\n",
    "        'activation':['linear','linear'],\n",
    "        'centering':[0.0,0.0],\n",
    "        'hidden_units':6,\n",
    "        'dense_units':1,\n",
    "        'dense_layers':1,\n",
    "        'DeltaE':[0,-1],    # -1.0 is to correct E bias but put at the end\n",
    "        'synthetic':False,  # run also synthetic cases\n",
    "        'T1': 0.1,          # 1/fuel class (10)\n",
    "        'fm_raise_vs_rain': 2.0,         # fm increase per mm rain                              \n",
    "        'epochs':5000,\n",
    "        'verbose_fit':0,\n",
    "        'verbose_weights':False,\n",
    "        'note':'check 5 should give zero error'\n",
    "        }"
   ]
  },
  {
   "cell_type": "markdown",
   "id": "785d0e34-35c7-4a8d-802d-4a176e2c19bd",
   "metadata": {},
   "source": [
    "### Using `run_case` Function"
   ]
  },
  {
   "cell_type": "code",
   "execution_count": null,
   "id": "49cb8274-7c1a-40c0-ad81-d1fbcb498884",
   "metadata": {},
   "outputs": [],
   "source": [
    "reproducibility.set_seed()\n",
    "print('Running reproducibility')\n",
    "assert param_sets_ORIG['purpose'] == 'reproducibility'\n",
    "param_sets_ORIG['initialize']=True \n",
    "case = 'case11'\n",
    "case_data=repro[case]\n",
    "run_case(case_data,param_sets_ORIG)"
   ]
  },
  {
   "cell_type": "markdown",
   "id": "6ddef6dc-c56b-4257-b603-783001a94262",
   "metadata": {},
   "source": [
    "### Manual Steps"
   ]
  },
  {
   "cell_type": "code",
   "execution_count": null,
   "id": "80c18a79-dce2-4fce-be0b-2605c043268d",
   "metadata": {},
   "outputs": [],
   "source": [
    "from moisture_rnn import create_rnn_data_1, create_rnn_data_2, train_rnn\n",
    "h2=case_data['h2']\n",
    "params = param_sets_ORIG\n",
    "reproducibility.set_seed() # Set seed for reproducibility\n",
    "rnn_dat = create_rnn_data_1(case_data,params)\n",
    "create_rnn_data_2(rnn_dat,params)\n",
    "\n",
    "print(rnn_dat[\"x_train\"].shape)\n",
    "print(rnn_dat[\"y_train\"].shape)"
   ]
  },
  {
   "cell_type": "code",
   "execution_count": null,
   "id": "583776e1-aee4-47a9-9486-71a66587a475",
   "metadata": {},
   "outputs": [],
   "source": [
    "model_predict = train_rnn(\n",
    "    rnn_dat,\n",
    "    params,\n",
    "    rnn_dat['hours'],\n",
    "    fit=True\n",
    ")"
   ]
  },
  {
   "cell_type": "code",
   "execution_count": null,
   "id": "200e9def-f0b2-4868-a676-2757a86892ef",
   "metadata": {},
   "outputs": [],
   "source": []
  },
  {
   "cell_type": "markdown",
   "id": "87f59db1-fa7b-44f4-bbe4-7e49221226e9",
   "metadata": {},
   "source": [
    "## Reproduce with Stateful\n",
    "\n",
    "*NOTE*: using fewer epochs as the training loss levels off much quicker with stateful."
   ]
  },
  {
   "cell_type": "code",
   "execution_count": null,
   "id": "f30fbbe3-2801-4623-9960-016ef701709a",
   "metadata": {},
   "outputs": [],
   "source": [
    "param_sets_STATEFUL = {'id':0,\n",
    "        'purpose':'reproducibility',\n",
    "        'batch_size':32,\n",
    "        'training':5,\n",
    "        'cases':['case11'],\n",
    "        'scale':0,\n",
    "        'rain_do':False,\n",
    "#        'verbose':False,\n",
    "        'verbose':1,\n",
    "        'timesteps':5,\n",
    "        'activation':['linear','linear'],\n",
    "        'centering':[0.0,0.0],\n",
    "        'hidden_units':6,\n",
    "        'dense_units':1,\n",
    "        'dense_layers':1,\n",
    "        'DeltaE':[0,-1],    # -1.0 is to correct E bias but put at the end\n",
    "        'synthetic':False,  # run also synthetic cases\n",
    "        'T1': 0.1,          # 1/fuel class (10)\n",
    "        'fm_raise_vs_rain': 2.0,         # fm increase per mm rain                              \n",
    "        'epochs':500,\n",
    "        'verbose_fit':0,\n",
    "        'verbose_weights':False,\n",
    "        'note':'check 5 should give zero error',\n",
    "        'verbose': False # another verbose arg used in staircase_2\n",
    "        }"
   ]
  },
  {
   "cell_type": "markdown",
   "id": "a5ee76d9-2a0f-4bca-9fef-5d0f9361a02d",
   "metadata": {},
   "source": [
    "### Using `run_case`"
   ]
  },
  {
   "cell_type": "code",
   "execution_count": null,
   "id": "29596ede-689a-4629-8f07-412289e51122",
   "metadata": {},
   "outputs": [],
   "source": [
    "reproducibility.set_seed()\n",
    "param_sets_STATEFUL['initialize']=True \n",
    "case = 'case11'\n",
    "case_data=repro[case]\n",
    "run_case(case_data,param_sets_STATEFUL)"
   ]
  },
  {
   "cell_type": "markdown",
   "id": "d135d6e5-505c-474b-8ed6-b70a37691b2c",
   "metadata": {},
   "source": [
    "### Manual Steps"
   ]
  },
  {
   "cell_type": "code",
   "execution_count": null,
   "id": "07a5baef-d24c-4d70-9e27-c6f29d5b2782",
   "metadata": {},
   "outputs": [],
   "source": [
    "h2=case_data['h2']\n",
    "params = param_sets_STATEFUL\n",
    "reproducibility.set_seed() # Set seed for reproducibility\n",
    "rnn_dat = create_rnn_data_1(case_data,params)\n",
    "create_rnn_data_2(rnn_dat,params)\n",
    "\n",
    "print(rnn_dat[\"x_train\"].shape)\n",
    "print(rnn_dat[\"y_train\"].shape)"
   ]
  },
  {
   "cell_type": "code",
   "execution_count": null,
   "id": "b97eeedb-e1e8-46fc-be71-214bc3bef664",
   "metadata": {},
   "outputs": [],
   "source": [
    "import importlib\n",
    "import moisture_rnn\n",
    "importlib.reload(moisture_rnn)\n",
    "from moisture_rnn import train_rnn"
   ]
  },
  {
   "cell_type": "code",
   "execution_count": null,
   "id": "df7627e2-4131-4f7a-9237-0b28e76680e7",
   "metadata": {},
   "outputs": [],
   "source": [
    "model_predict = train_rnn(\n",
    "    rnn_dat,\n",
    "    params,\n",
    "    rnn_dat['hours'],\n",
    "    fit=True\n",
    ")"
   ]
  },
  {
   "cell_type": "code",
   "execution_count": null,
   "id": "83693fd3-fc1f-44e9-8f20-4dd450cda0d0",
   "metadata": {},
   "outputs": [],
   "source": [
    "from moisture_rnn import rnn_predict\n",
    "preds = rnn_predict(model_predict, param_sets_STATEFUL, rnn_dat)\n",
    "\n",
    "np.sqrt(np.sum((preds - np.squeeze(rnn_dat[\"Y\"]))**2))"
   ]
  },
  {
   "cell_type": "code",
   "execution_count": null,
   "id": "891f1378-d76d-4cda-9db6-5d4230a65c26",
   "metadata": {},
   "outputs": [],
   "source": []
  },
  {
   "cell_type": "markdown",
   "id": "aebbf38f-fbcd-49bd-a018-43ce22e4e243",
   "metadata": {},
   "source": [
    "# Changing Other Hyperparams"
   ]
  },
  {
   "cell_type": "markdown",
   "id": "70f554de-3034-4bb0-8381-386dae1b62a0",
   "metadata": {},
   "source": [
    "## Stateless RNN"
   ]
  },
  {
   "cell_type": "code",
   "execution_count": null,
   "id": "35b8c30e-13f4-4283-b91c-5899534ffe04",
   "metadata": {},
   "outputs": [],
   "source": [
    "N = len(repro[case][\"fm\"]) # total observations\n",
    "# train_ind = int(N*.8) # index of train/val split\n",
    "train_ind = 300\n",
    "# test_ind = int(N*.9) # index of train/test split\n",
    "test_ind = 500\n",
    "\n",
    "X = np.vstack((repro[case][\"Ed\"], repro[case][\"Ew\"])).T\n",
    "y = repro[case][\"fm\"]\n",
    "\n",
    "X_train = X[:train_ind]\n",
    "X_val = X[train_ind:test_ind]\n",
    "X_test = X[test_ind:]\n",
    "y_train = y[:train_ind].reshape(-1,1)\n",
    "y_val = y[train_ind:test_ind].reshape(-1,1)\n",
    "y_test = y[test_ind:].reshape(-1,1)\n",
    "\n",
    "print(f\"Total Observations: {N}\")\n",
    "print(f\"Num Training: {X_train.shape[0]}\")\n",
    "print(f\"Num Validation: {X_val.shape[0]}\")\n",
    "print(f\"Num Test: {X_test.shape[0]}\")"
   ]
  },
  {
   "cell_type": "code",
   "execution_count": null,
   "id": "77068a1f-2976-4ad5-b032-3cc197573515",
   "metadata": {},
   "outputs": [],
   "source": [
    "params = {\n",
    "        'timesteps':5, # length of sequence used in gradient calculation\n",
    "        'batch_size':32, # number of sequences (of length timesteps) processed in single training pass\n",
    "        'scale':0,\n",
    "        'activation':['linear','linear'], # [hidden layer, output layer]\n",
    "        'hidden_units':6,\n",
    "        # 'dense_units':1, # for single timeseries\n",
    "        # 'dense_layers':1,                           \n",
    "        'epochs':100\n",
    "        }"
   ]
  },
  {
   "cell_type": "code",
   "execution_count": null,
   "id": "83bb44da-d5ac-4802-8137-fe354182320e",
   "metadata": {},
   "outputs": [],
   "source": [
    "from moisture_rnn import staircase\n",
    "X_train, y_train = staircase(X_train, y_train, timesteps = params[\"timesteps\"], datapoints = len(y_train))\n",
    "X_val, y_val = staircase(X_val, y_val, timesteps = params[\"timesteps\"], datapoints = len(y_val))\n",
    "X_test, y_test = staircase(X_test, y_test, timesteps = params[\"timesteps\"], datapoints = len(y_test))"
   ]
  },
  {
   "cell_type": "code",
   "execution_count": null,
   "id": "907f4253-31ef-4d4e-b48d-e2d1799e03ac",
   "metadata": {},
   "outputs": [],
   "source": [
    "print(f\"y_train shape: {y_train.shape}\")\n",
    "print(f\"X_train shape: {X_train.shape}\")\n",
    "print(f\"y_val shape: {y_val.shape}\")\n",
    "print(f\"X_val shape: {X_val.shape}\")\n",
    "print(f\"y_test shape: {y_test.shape}\")\n",
    "print(f\"X_test shape: {X_test.shape}\")"
   ]
  },
  {
   "cell_type": "code",
   "execution_count": null,
   "id": "c11b01a7-493f-4b37-94e7-0654c71b5abe",
   "metadata": {},
   "outputs": [],
   "source": [
    "reproducibility.set_seed()\n",
    "model = tf.keras.Sequential()\n",
    "model.add(tf.keras.layers.SimpleRNN(6, input_shape=(params[\"timesteps\"], X_train.shape[2]), activation=\"linear\"))\n",
    "model.add(tf.keras.layers.Dense(1, activation=\"linear\")) \n",
    "model.compile(loss='mean_squared_error', optimizer='adam')\n",
    "history = model.fit(X_train, y_train, epochs=100, validation_data=(X_val, y_val))"
   ]
  },
  {
   "cell_type": "code",
   "execution_count": null,
   "id": "8ad343e1-134c-43a6-9c80-c059741b97e5",
   "metadata": {},
   "outputs": [],
   "source": [
    "fitted = model.predict(X_train)\n",
    "preds = model.predict(X_test)\n",
    "print(\"~\"*50)\n",
    "print(f\"RMSE Train: {rmse(fitted, y_train)}\")\n",
    "print(f\"RMSE Test: {rmse(preds, y_test)}\")"
   ]
  },
  {
   "cell_type": "code",
   "execution_count": null,
   "id": "44afc998-8e6c-4295-b139-ee7ede98c9f0",
   "metadata": {},
   "outputs": [],
   "source": [
    "plt.figure(figsize=(10, 6))\n",
    "plt.plot(history.history['loss'], label='Training Loss')\n",
    "plt.plot(history.history['val_loss'], label='Validation Loss')\n",
    "plt.title('Training and Validation Loss')\n",
    "plt.xlabel('Epochs')\n",
    "plt.ylabel('Loss')\n",
    "plt.legend()\n",
    "plt.semilogy()\n",
    "plt.show()"
   ]
  },
  {
   "cell_type": "code",
   "execution_count": null,
   "id": "49285efd-5258-4b70-b67d-f407228953e3",
   "metadata": {},
   "outputs": [],
   "source": [
    "repro[case].keys()"
   ]
  },
  {
   "cell_type": "markdown",
   "id": "44e329f9-6f98-4d35-b74c-5935ab148fc2",
   "metadata": {},
   "source": [
    "## Changing Hyperparams"
   ]
  },
  {
   "cell_type": "code",
   "execution_count": null,
   "id": "3f362ec1-91fc-46f9-8c45-291e1deacd09",
   "metadata": {},
   "outputs": [],
   "source": [
    "reproducibility.set_seed()\n",
    "model = tf.keras.Sequential()\n",
    "model.add(tf.keras.layers.SimpleRNN(\n",
    "    units=6, \n",
    "    input_shape=(params[\"timesteps\"], X_train.shape[2]), \n",
    "    activation=\"linear\",\n",
    "    dropout= 0.2,\n",
    "    recurrent_dropout = 0.2,\n",
    "))\n",
    "model.add(tf.keras.layers.Dense(1, activation=\"linear\")) \n",
    "optimizer = tf.keras.optimizers.Adam(learning_rate=0.001)\n",
    "model.compile(loss='mean_squared_error', optimizer=optimizer)\n",
    "model.fit(X_train, y_train, \n",
    "          epochs=20, \n",
    "          batch_size = 16, \n",
    "          validation_data=(X_val, y_val))\n",
    "\n",
    "fitted = model.predict(X_train)\n",
    "preds = model.predict(X_test)\n",
    "\n",
    "print(f\"RMSE Train: {rmse(fitted, y_train)}\")\n",
    "print(f\"RMSE Test: {rmse(preds, y_test)}\")"
   ]
  },
  {
   "cell_type": "code",
   "execution_count": null,
   "id": "83cfb691-6338-4af7-9279-c55745512998",
   "metadata": {},
   "outputs": [],
   "source": [
    "plt.figure(figsize=(10, 6))\n",
    "plt.plot(history.history['loss'], label='Training Loss')\n",
    "plt.plot(history.history['val_loss'], label='Validation Loss')\n",
    "plt.title('Training and Validation Loss')\n",
    "plt.xlabel('Epochs')\n",
    "plt.ylabel('Loss')\n",
    "plt.semilogy()\n",
    "plt.legend()\n",
    "plt.show()"
   ]
  },
  {
   "cell_type": "markdown",
   "id": "9a6a9aff-48b9-4ed9-85b4-8408bc2fdc42",
   "metadata": {},
   "source": [
    "## Stateful RNN - Batch Size in Inputs"
   ]
  },
  {
   "cell_type": "code",
   "execution_count": null,
   "id": "400e612a-2824-4327-84b6-2ee33a433ef1",
   "metadata": {},
   "outputs": [],
   "source": [
    "N = len(repro[case][\"fm\"]) # total observations\n",
    "train_ind = 300 # index of train/val split\n",
    "test_ind = 500 # index of train/test split\n",
    "\n",
    "X = np.vstack((repro[case][\"Ed\"], repro[case][\"Ew\"])).T\n",
    "y = repro[case][\"fm\"]\n",
    "\n",
    "X_train = X[:train_ind]\n",
    "X_val = X[train_ind:test_ind]\n",
    "X_test = X[test_ind:]\n",
    "y_train = y[:train_ind].reshape(-1,1)\n",
    "y_val = y[train_ind:test_ind].reshape(-1,1)\n",
    "y_test = y[test_ind:].reshape(-1,1)\n",
    "\n",
    "print(f\"Total Observations: {N}\")\n",
    "print(f\"Num Training: {X_train.shape[0]}\")\n",
    "print(f\"Num Validation: {X_val.shape[0]}\")\n",
    "print(f\"Num Test: {X_test.shape[0]}\")"
   ]
  },
  {
   "cell_type": "code",
   "execution_count": null,
   "id": "2073920c-6d45-49a9-ab2d-3aa11593d781",
   "metadata": {},
   "outputs": [],
   "source": [
    "X_train.shape"
   ]
  },
  {
   "cell_type": "code",
   "execution_count": null,
   "id": "92a2fc57-c76c-42ff-bba0-16b10d31d597",
   "metadata": {},
   "outputs": [],
   "source": [
    "batch_size = params[\"batch_size\"]\n",
    "timesteps = params[\"timesteps\"]\n",
    "features = X_train.shape[1]\n",
    "\n",
    "reproducibility.set_seed()\n",
    "model = tf.keras.Sequential()\n",
    "model.add(tf.keras.layers.SimpleRNN(6, batch_input_shape=(batch_size, timesteps, features), activation=\"linear\", stateful=True))\n",
    "model.add(tf.keras.layers.Dense(1, activation=\"linear\")) \n",
    "model.compile(loss='mean_squared_error', optimizer='adam')"
   ]
  },
  {
   "cell_type": "code",
   "execution_count": null,
   "id": "a2442bee-1864-4541-8728-b6d1aba168e8",
   "metadata": {},
   "outputs": [],
   "source": [
    "## Naive approach DOESN'T WORK\n",
    "# ntrain = X_train.shape[0]\n",
    "# X_train.reshape((ntrain, timesteps, features))"
   ]
  },
  {
   "cell_type": "code",
   "execution_count": null,
   "id": "a2947f61-0bca-40b9-b372-2ba82c0d2070",
   "metadata": {},
   "outputs": [],
   "source": [
    "from moisture_rnn import staircase_2\n",
    "X_train, y_train = staircase_2(X_train, y_train, timesteps = params[\"timesteps\"], batch_size=params[\"batch_size\"], verbose=False)\n",
    "X_val, y_val = staircase_2(X_val, y_val, timesteps = params[\"timesteps\"], batch_size=params[\"batch_size\"], verbose=False)\n",
    "X_test, y_test = staircase_2(X_test, y_test, timesteps = params[\"timesteps\"], batch_size=params[\"batch_size\"], verbose=False)"
   ]
  },
  {
   "cell_type": "code",
   "execution_count": null,
   "id": "2c138539-4017-4d7c-a15c-67d78b81bab5",
   "metadata": {},
   "outputs": [],
   "source": [
    "history = model.fit(X_train, y_train, epochs=100, validation_data = (X_val, y_val))"
   ]
  },
  {
   "cell_type": "code",
   "execution_count": null,
   "id": "92a4ddd2-e28a-4f18-974a-42c9acfd335d",
   "metadata": {},
   "outputs": [],
   "source": [
    "fitted = model.predict(X_train)\n",
    "preds = model.predict(X_test)\n",
    "\n",
    "print(f\"RMSE Train: {rmse(fitted, y_train)}\")\n",
    "print(f\"RMSE Test: {rmse(preds, y_test)}\")"
   ]
  },
  {
   "cell_type": "code",
   "execution_count": null,
   "id": "ab182fd5-8b84-4c8f-b173-72c9ba8785e2",
   "metadata": {},
   "outputs": [],
   "source": [
    "plt.figure(figsize=(10, 6))\n",
    "plt.plot(history.history['loss'], label='Training Loss')\n",
    "plt.plot(history.history['val_loss'], label='Validation Loss')\n",
    "plt.title('Training and Validation Loss')\n",
    "plt.xlabel('Epochs')\n",
    "plt.ylabel('Loss')\n",
    "plt.legend()\n",
    "plt.show()"
   ]
  },
  {
   "cell_type": "markdown",
   "id": "f25bf5d7-522e-43df-bd97-217aa9f85f53",
   "metadata": {},
   "source": [
    "## With Keras Data Function"
   ]
  },
  {
   "cell_type": "code",
   "execution_count": null,
   "id": "17ba26d8-115c-4750-be1d-417571834f2e",
   "metadata": {},
   "outputs": [],
   "source": [
    "N = len(repro[case][\"fm\"]) # total observations\n",
    "train_ind = 300 # index of train/val split\n",
    "test_ind = 500 # index of train/test split\n",
    "\n",
    "X = np.vstack((repro[case][\"Ed\"], repro[case][\"Ew\"])).T\n",
    "y = repro[case][\"fm\"]\n",
    "\n",
    "X_train = X[:train_ind]\n",
    "X_val = X[train_ind:test_ind]\n",
    "X_test = X[test_ind:]\n",
    "y_train = y[:train_ind].reshape(-1,1)\n",
    "y_val = y[train_ind:test_ind].reshape(-1,1)\n",
    "y_test = y[test_ind:].reshape(-1,1)\n",
    "\n",
    "print(f\"Total Observations: {N}\")\n",
    "print(f\"Num Training: {X_train.shape[0]}\")\n",
    "print(f\"Num Validation: {X_val.shape[0]}\")\n",
    "print(f\"Num Test: {X_test.shape[0]}\")"
   ]
  },
  {
   "cell_type": "code",
   "execution_count": null,
   "id": "155ba32e-5ea0-4d76-9f6b-be32e8a80443",
   "metadata": {},
   "outputs": [],
   "source": [
    "from tensorflow.keras.preprocessing import timeseries_dataset_from_array\n",
    "\n",
    "dataset=timeseries_dataset_from_array(\n",
    "    X_train,\n",
    "    targets=y_train,\n",
    "    sequence_length=timesteps,\n",
    "    batch_size=batch_size,\n",
    "    shuffle=False\n",
    ")\n",
    "\n",
    "def drop_last_incomplete_batch(dataset):\n",
    "    return dataset.filter(lambda x, y: tf.shape(x)[0] == batch_size)\n",
    "\n",
    "dataset = drop_last_incomplete_batch(dataset)\n",
    "\n",
    "# Ensure the input data has the correct shape\n",
    "def preprocess(features, labels):\n",
    "    features = tf.expand_dims(features, axis=-1)  # add the channel dimension\n",
    "    return features, labels\n",
    "\n",
    "dataset = dataset.map(preprocess)"
   ]
  },
  {
   "cell_type": "code",
   "execution_count": null,
   "id": "ea723518-d9bc-4f74-916a-c4ba1181334d",
   "metadata": {},
   "outputs": [],
   "source": [
    "# Define the stateful SimpleRNN model\n",
    "model = tf.keras.Sequential([\n",
    "    tf.keras.layers.SimpleRNN(6, activation='linear', stateful=True, batch_input_shape=(batch_size, timesteps, features)),\n",
    "    tf.keras.layers.Dense(1)\n",
    "])\n",
    "\n",
    "# Compile the model\n",
    "model.compile(optimizer='adam', loss='mse')\n",
    "\n",
    "# Fit the model with shuffle=False\n",
    "model.fit(dataset, epochs=200, shuffle=False)"
   ]
  },
  {
   "cell_type": "code",
   "execution_count": null,
   "id": "feddb397-2310-482f-b3a5-cec861324c56",
   "metadata": {},
   "outputs": [],
   "source": [
    "dataset_test=timeseries_dataset_from_array(\n",
    "    X_test,\n",
    "    targets=y_test,\n",
    "    sequence_length=timesteps,\n",
    "    batch_size=batch_size,\n",
    "    shuffle=False\n",
    ")\n",
    "\n",
    "dataset_test = drop_last_incomplete_batch(dataset_test)\n",
    "dataset_test = dataset_test.map(preprocess)"
   ]
  },
  {
   "cell_type": "code",
   "execution_count": null,
   "id": "409e2ba3-e4ef-403a-85cb-d348c3219267",
   "metadata": {},
   "outputs": [],
   "source": [
    "fitted = model.predict(dataset).flatten()\n",
    "y_train = np.concatenate([y.numpy() for _, y in dataset], axis=0)\n",
    "preds = model.predict(dataset_test).flatten()\n",
    "y_test = np.concatenate([y.numpy() for _, y in dataset_test], axis=0)\n",
    "\n",
    "print(\"~\"*50)\n",
    "print(f\"RMSE Train: {rmse(fitted, y_train)}\")\n",
    "print(f\"RMSE Test: {rmse(preds, y_test)}\")"
   ]
  },
  {
   "cell_type": "code",
   "execution_count": null,
   "id": "e84f8219-3f71-43d2-b159-4f200a7cf1c0",
   "metadata": {},
   "outputs": [],
   "source": []
  }
 ],
 "metadata": {
  "kernelspec": {
   "display_name": "Python 3 (ipykernel)",
   "language": "python",
   "name": "python3"
  },
  "language_info": {
   "codemirror_mode": {
    "name": "ipython",
    "version": 3
   },
   "file_extension": ".py",
   "mimetype": "text/x-python",
   "name": "python",
   "nbconvert_exporter": "python",
   "pygments_lexer": "ipython3",
   "version": "3.9.12"
  }
 },
 "nbformat": 4,
 "nbformat_minor": 5
}
