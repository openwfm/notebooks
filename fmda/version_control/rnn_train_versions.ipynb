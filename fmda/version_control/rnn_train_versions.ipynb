{
 "cells": [
  {
   "cell_type": "markdown",
   "id": "e20166f4-1a8b-4471-a9a9-e944cc4b1087",
   "metadata": {},
   "source": [
    "# Use to Check Reproducibility - v2.2 Code\n",
    "\n",
    "Version 2.1 relies on conda environment built from yaml file `fmda/install/fmda_ml.yml`. This environment uses python version `>=3.12` tensorflow version `>=2.16`. This led to substantial changes from the old reproducibility for code v2.0, so those old reproducibility hashes are no longer supported.\n",
    "\n",
    "To see old code and reproduciblity results, see commit \"911c6d7a\" or PR#11."
   ]
  },
  {
   "cell_type": "markdown",
   "id": "ccbfa419-70b9-484f-ada7-82fcc70b5b38",
   "metadata": {},
   "source": [
    "## Setup"
   ]
  },
  {
   "cell_type": "code",
   "execution_count": null,
   "id": "8530bc7e-61ae-4463-a14f-d5eb42f0b83e",
   "metadata": {},
   "outputs": [],
   "source": [
    "# Environment\n",
    "import numpy as np\n",
    "import pandas as pd\n",
    "import tensorflow as tf\n",
    "import matplotlib.pyplot as plt\n",
    "import sys\n",
    "# Local modules\n",
    "sys.path.append('..')\n",
    "import reproducibility\n",
    "from utils import print_dict_summary, read_yml, read_pkl\n",
    "from moisture_rnn_pkl import pkl2train\n",
    "from moisture_rnn import RNN, RNNData, RNNParams\n",
    "import logging\n",
    "from utils import logging_setup\n",
    "logging_setup()"
   ]
  },
  {
   "cell_type": "markdown",
   "id": "63d275da-b13a-405e-9e1a-aa3f972119b5",
   "metadata": {},
   "source": [
    "### Reproducibility Dataset"
   ]
  },
  {
   "cell_type": "code",
   "execution_count": null,
   "id": "2dfa08fa-01c9-4fd7-927b-541b0a532e4f",
   "metadata": {},
   "outputs": [],
   "source": [
    "# Original File\n",
    "repro_file='../data/reproducibility_dict_v2.2.pkl'\n",
    "repro = read_pkl(repro_file)"
   ]
  },
  {
   "cell_type": "markdown",
   "id": "87f59db1-fa7b-44f4-bbe4-7e49221226e9",
   "metadata": {},
   "source": [
    "## RNN Single Case"
   ]
  },
  {
   "cell_type": "code",
   "execution_count": null,
   "id": "134d13b9-f329-49fb-8b53-16b4b109ae18",
   "metadata": {},
   "outputs": [],
   "source": [
    "# Set up params\n",
    "params = repro['single']['repro_info']['params']\n",
    "print(type(params))\n",
    "print(params)"
   ]
  },
  {
   "cell_type": "code",
   "execution_count": null,
   "id": "17537021-71eb-4f5f-8209-7d932f3a5f42",
   "metadata": {},
   "outputs": [],
   "source": [
    "# params = RNNParams(read_yml('../params.yaml', subkey='rnn'))"
   ]
  },
  {
   "cell_type": "code",
   "execution_count": null,
   "id": "059d7d91-2a78-407e-b17a-c8a2415c09e6",
   "metadata": {},
   "outputs": [],
   "source": [
    "# params.update({\n",
    "#     'epochs': 300,\n",
    "#     'activation' : ['tanh', 'tanh'],\n",
    "#     'learning_rate': 0.0001,\n",
    "#     'batch_schedule_type': 'step',\n",
    "#     'estep': 5,\n",
    "#     'bmax': repro['single']['y'].shape[0]\n",
    "# })"
   ]
  },
  {
   "cell_type": "code",
   "execution_count": null,
   "id": "549a6628-c291-40e7-bddb-cf67b34cd276",
   "metadata": {},
   "outputs": [],
   "source": [
    "\n",
    "params.update({\n",
    "    'learning_rate': 0.005,\n",
    "    'batch_schedule_type': 'step',\n",
    "    'estep': 5,\n",
    "    'bmin' : 20,\n",
    "    'bmax': repro['single']['y'].shape[0],\n",
    "    'early_stopping_patience': 20,\n",
    "    'dense_layers': 2,\n",
    "    'dense_units': 20,\n",
    "    'rnn_units': 30,\n",
    "    'activation': ['tanh', 'relu']\n",
    "})"
   ]
  },
  {
   "cell_type": "code",
   "execution_count": null,
   "id": "7a6724c0-6657-46fb-8bc7-ca4d465ef7d6",
   "metadata": {},
   "outputs": [],
   "source": [
    "params['learning_rate']"
   ]
  },
  {
   "cell_type": "code",
   "execution_count": null,
   "id": "e9867f1b-f0fe-4032-a302-ec093782b227",
   "metadata": {},
   "outputs": [],
   "source": [
    "# Set up input data\n",
    "rnn_dat = RNNData(repro['single'], scaler = params['scaler'], features_list = params['features_list'])\n",
    "rnn_dat.train_test_split(\n",
    "    time_fracs = [.5, .2, .3]\n",
    ")\n",
    "rnn_dat.scale_data()\n",
    "rnn_dat.batch_reshape(timesteps = params['timesteps'], batch_size = params['batch_size'])"
   ]
  },
  {
   "cell_type": "code",
   "execution_count": null,
   "id": "293e4ef1-cc19-4e3d-8bad-5f84c58b6a74",
   "metadata": {},
   "outputs": [],
   "source": [
    "import importlib\n",
    "import moisture_rnn\n",
    "importlib.reload(moisture_rnn)\n",
    "from moisture_rnn import RNN"
   ]
  },
  {
   "cell_type": "code",
   "execution_count": null,
   "id": "458ea3bb-2b19-42b3-8ac8-fdec96c6d315",
   "metadata": {},
   "outputs": [],
   "source": [
    "reproducibility.set_seed()\n",
    "rnn = RNN(params)\n",
    "m, errs = rnn.run_model(rnn_dat, reproducibility_run=True, plot_period=\"predict\")"
   ]
  },
  {
   "cell_type": "markdown",
   "id": "d4103c38-e067-4e72-a694-27080fa5265e",
   "metadata": {},
   "source": [
    "### Physics Initialized"
   ]
  },
  {
   "cell_type": "code",
   "execution_count": null,
   "id": "01a6ca8b-1f2a-45e6-b5b6-f5b2a6d51ba9",
   "metadata": {},
   "outputs": [],
   "source": [
    "params.update({\n",
    "    'phys_initialize': True,\n",
    "    'scaler': None,\n",
    "    'features_list': ['Ed', 'Ew', 'rain'],\n",
    "    'dense_layers': 0\n",
    "})"
   ]
  },
  {
   "cell_type": "code",
   "execution_count": null,
   "id": "c76b18fe-7009-4a78-9565-f34a3a13fdcf",
   "metadata": {},
   "outputs": [],
   "source": [
    "# Set up input data\n",
    "rnn_dat = RNNData(repro['single'], scaler = params['scaler'], features_list = params['features_list'])\n",
    "rnn_dat.train_test_split(\n",
    "    time_fracs = params['time_fracs']\n",
    ")\n",
    "rnn_dat.batch_reshape(timesteps = params['timesteps'], batch_size = params['batch_size'])"
   ]
  },
  {
   "cell_type": "code",
   "execution_count": null,
   "id": "383e2870-a581-4ac2-8669-f16ac41a64a4",
   "metadata": {
    "scrolled": true
   },
   "outputs": [],
   "source": [
    "reproducibility.set_seed()\n",
    "rnn = RNN(params)\n",
    "m, errs = rnn.run_model(rnn_dat, reproducibility_run=True, plot_period='predict')"
   ]
  },
  {
   "cell_type": "code",
   "execution_count": null,
   "id": "d4043bd9-124a-4df6-b75b-9a9ac6ac43e1",
   "metadata": {},
   "outputs": [],
   "source": []
  },
  {
   "cell_type": "markdown",
   "id": "192d6cb4-d494-423c-98a3-2ca6c2879978",
   "metadata": {},
   "source": [
    "## Spatial Case"
   ]
  },
  {
   "cell_type": "code",
   "execution_count": null,
   "id": "4e0bd2c4-d9ac-4211-9847-f4861a53b5e1",
   "metadata": {},
   "outputs": [],
   "source": [
    "# Set up params\n",
    "params = repro['spatial']['repro_info']['params']\n",
    "print(type(params))\n",
    "print(params)"
   ]
  },
  {
   "cell_type": "code",
   "execution_count": null,
   "id": "c9350fb6-6c9f-428a-9e4a-8455e9c8ce6a",
   "metadata": {},
   "outputs": [],
   "source": [
    "# Set up input data\n",
    "rnn_dat = RNNData(repro['spatial'], scaler = params['scaler'], features_list = params['features_list'])\n",
    "rnn_dat.train_test_split(\n",
    "    time_fracs = [.5, .2, .3],\n",
    "    space_fracs = params['space_fracs']\n",
    ")\n",
    "rnn_dat.scale_data()\n",
    "rnn_dat.batch_reshape(timesteps = params['timesteps'], batch_size = params['batch_size'])"
   ]
  },
  {
   "cell_type": "code",
   "execution_count": null,
   "id": "9092090b-2003-4aa1-8ea8-edfd64fdc7d0",
   "metadata": {},
   "outputs": [],
   "source": [
    "params.update({\n",
    "    'loc_batch_reset': rnn_dat.n_seqs # Used to reset hidden state when location changes for a given batch\n",
    "})"
   ]
  },
  {
   "cell_type": "code",
   "execution_count": null,
   "id": "8f3144f3-a9bf-45ee-8bdd-0e3f2e12e09b",
   "metadata": {},
   "outputs": [],
   "source": [
    "reproducibility.set_seed()\n",
    "rnn = RNN(params)\n",
    "m, errs = rnn.run_model(rnn_dat)"
   ]
  },
  {
   "cell_type": "code",
   "execution_count": null,
   "id": "1dcd4cac-3646-422c-b3a6-96bee3f886e6",
   "metadata": {},
   "outputs": [],
   "source": [
    "errs.mean()"
   ]
  },
  {
   "cell_type": "code",
   "execution_count": null,
   "id": "546a3db0-ef8a-4fd2-b983-553395ac98e2",
   "metadata": {},
   "outputs": [],
   "source": []
  }
 ],
 "metadata": {
  "kernelspec": {
   "display_name": "Python 3 (ipykernel)",
   "language": "python",
   "name": "python3"
  },
  "language_info": {
   "codemirror_mode": {
    "name": "ipython",
    "version": 3
   },
   "file_extension": ".py",
   "mimetype": "text/x-python",
   "name": "python",
   "nbconvert_exporter": "python",
   "pygments_lexer": "ipython3",
   "version": "3.12.5"
  }
 },
 "nbformat": 4,
 "nbformat_minor": 5
}
