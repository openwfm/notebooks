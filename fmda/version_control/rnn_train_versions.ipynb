{
 "cells": [
  {
   "cell_type": "code",
   "execution_count": null,
   "id": "8530bc7e-61ae-4463-a14f-d5eb42f0b83e",
   "metadata": {},
   "outputs": [],
   "source": [
    "# Environment\n",
    "import numpy as np\n",
    "import pandas as pd\n",
    "import tensorflow as tf\n",
    "import matplotlib.pyplot as plt\n",
    "import sys\n",
    "# Local modules\n",
    "sys.path.append('..')\n",
    "import reproducibility\n",
    "from utils import print_dict_summary\n",
    "from data_funcs import load_and_fix_data, rmse\n",
    "from moisture_rnn import run_case"
   ]
  },
  {
   "cell_type": "markdown",
   "id": "1cad6dcd-7a0a-4afb-aec7-6cd5aa7ee568",
   "metadata": {},
   "source": [
    "## Original Case - Single Batch"
   ]
  },
  {
   "cell_type": "markdown",
   "id": "63d275da-b13a-405e-9e1a-aa3f972119b5",
   "metadata": {},
   "source": [
    "### Reproducibility Dataset"
   ]
  },
  {
   "cell_type": "code",
   "execution_count": null,
   "id": "2dfa08fa-01c9-4fd7-927b-541b0a532e4f",
   "metadata": {},
   "outputs": [],
   "source": [
    "reproducibility_file='../data/reproducibility_dict.pickle'\n",
    "\n",
    "repro={}\n",
    "repro.update(load_and_fix_data(reproducibility_file))\n",
    "print_dict_summary(repro)"
   ]
  },
  {
   "cell_type": "code",
   "execution_count": null,
   "id": "db563737-4aa8-409a-a3f2-86495678ba2b",
   "metadata": {},
   "outputs": [],
   "source": [
    "param_sets_ORIG = {'id':0,\n",
    "        'purpose':'reproducibility',\n",
    "        'batch_size':np.inf,\n",
    "        'training':None,\n",
    "        'cases':['case11'],\n",
    "        'scale':0,\n",
    "        'rain_do':False,\n",
    "#        'verbose':False,\n",
    "        'verbose':1,\n",
    "        'timesteps':5,\n",
    "        'activation':['linear','linear'],\n",
    "        'centering':[0.0,0.0],\n",
    "        'hidden_units':6,\n",
    "        'dense_units':1,\n",
    "        'dense_layers':1,\n",
    "        'DeltaE':[0,-1],    # -1.0 is to correct E bias but put at the end\n",
    "        'synthetic':False,  # run also synthetic cases\n",
    "        'T1': 0.1,          # 1/fuel class (10)\n",
    "        'fm_raise_vs_rain': 2.0,         # fm increase per mm rain                              \n",
    "        'epochs':5000,\n",
    "        'verbose_fit':0,\n",
    "        'verbose_weights':True,\n",
    "        'note':'check 5 should give zero error'\n",
    "        }"
   ]
  },
  {
   "cell_type": "markdown",
   "id": "785d0e34-35c7-4a8d-802d-4a176e2c19bd",
   "metadata": {},
   "source": [
    "### Using `run_case` Function"
   ]
  },
  {
   "cell_type": "code",
   "execution_count": null,
   "id": "49cb8274-7c1a-40c0-ad81-d1fbcb498884",
   "metadata": {},
   "outputs": [],
   "source": [
    "reproducibility.set_seed()\n",
    "print('Running reproducibility')\n",
    "assert param_sets_ORIG['purpose'] == 'reproducibility'\n",
    "param_sets_ORIG['initialize']=False \n",
    "case = 'case11'\n",
    "case_data=repro[case]\n",
    "case_data[\"h2\"]=300\n",
    "run_case(case_data,param_sets_ORIG)"
   ]
  },
  {
   "cell_type": "markdown",
   "id": "6ddef6dc-c56b-4257-b603-783001a94262",
   "metadata": {},
   "source": [
    "### Manual Steps"
   ]
  },
  {
   "cell_type": "code",
   "execution_count": null,
   "id": "80c18a79-dce2-4fce-be0b-2605c043268d",
   "metadata": {},
   "outputs": [],
   "source": [
    "from moisture_rnn import create_rnn_data_1, create_rnn_data_2, train_rnn\n",
    "# print(h2)\n",
    "params = param_sets_ORIG\n",
    "reproducibility.set_seed() # Set seed for reproducibility\n",
    "rnn_dat = create_rnn_data_1(case_data,params)\n",
    "create_rnn_data_2(rnn_dat,params)\n",
    "\n",
    "print(rnn_dat[\"x_train\"].shape)\n",
    "print(rnn_dat[\"y_train\"].shape)"
   ]
  },
  {
   "cell_type": "code",
   "execution_count": null,
   "id": "583776e1-aee4-47a9-9486-71a66587a475",
   "metadata": {},
   "outputs": [],
   "source": [
    "model_predict = train_rnn(\n",
    "    rnn_dat,\n",
    "    params,\n",
    "    rnn_dat['hours'],\n",
    "    fit=True\n",
    ")"
   ]
  },
  {
   "cell_type": "code",
   "execution_count": null,
   "id": "200e9def-f0b2-4868-a676-2757a86892ef",
   "metadata": {},
   "outputs": [],
   "source": [
    "from moisture_rnn import rnn_predict\n",
    "from utils import hash2\n",
    "m = rnn_predict(model_predict, params, rnn_dat)\n",
    "print(hash2(m))"
   ]
  },
  {
   "cell_type": "code",
   "execution_count": null,
   "id": "4d462d29-75dc-4a95-af26-41f0ed5da220",
   "metadata": {},
   "outputs": [],
   "source": [
    "hours, features = rnn_dat['X'].shape\n",
    "\n",
    "x_input=np.reshape(rnn_dat['X'],(1, hours, features))\n",
    "y_output = model_predict.predict(x_input, verbose = True)\n",
    "\n",
    "m = np.reshape(y_output,hours)"
   ]
  },
  {
   "cell_type": "code",
   "execution_count": null,
   "id": "108a7fbb-73cf-42fe-bd44-61d92f69ba2b",
   "metadata": {},
   "outputs": [],
   "source": [
    "print(hash2(m))\n",
    "print(np.sqrt(((m - rnn_dat[\"Y\"])**2).mean()))"
   ]
  },
  {
   "cell_type": "code",
   "execution_count": null,
   "id": "486e1c1d-5594-4369-90b3-fe6722a40cd9",
   "metadata": {},
   "outputs": [],
   "source": [
    "from data_funcs import rmse_data\n",
    "print(hash2(case_data[\"m\"]))\n",
    "rmse_data(case_data)"
   ]
  },
  {
   "cell_type": "code",
   "execution_count": null,
   "id": "fccae35f-e157-4918-86ae-c58419819cd2",
   "metadata": {},
   "outputs": [],
   "source": [
    "from data_funcs import rmse"
   ]
  },
  {
   "cell_type": "code",
   "execution_count": null,
   "id": "d35eba16-8987-4133-86c8-554055d851fe",
   "metadata": {},
   "outputs": [],
   "source": [
    "hours = rnn_dat['hours']\n",
    "rmse(m[:hours], rnn_dat[\"Y\"])"
   ]
  },
  {
   "cell_type": "code",
   "execution_count": null,
   "id": "8540c4b7-48be-47bc-ac1a-6552b5dc7f7d",
   "metadata": {},
   "outputs": [],
   "source": [
    "rmse(m[:hours], case_data[\"fm\"])"
   ]
  },
  {
   "cell_type": "code",
   "execution_count": null,
   "id": "80644ebd-4302-4dd7-9bf2-0b1e61eb9206",
   "metadata": {},
   "outputs": [],
   "source": [
    "np.mean(case_data[\"fm\"] == rnn_dat[\"Y\"])"
   ]
  },
  {
   "cell_type": "code",
   "execution_count": null,
   "id": "62f17c0a-b564-4dde-aa1e-6764d4a75a81",
   "metadata": {},
   "outputs": [],
   "source": [
    "np.mean(case_data[\"fm\"] == rnn_dat[\"Y\"].flatten())"
   ]
  },
  {
   "cell_type": "code",
   "execution_count": null,
   "id": "255bb5d9-8c9b-45bf-916f-8ca15150e997",
   "metadata": {},
   "outputs": [],
   "source": [
    "m[:hours].shape"
   ]
  },
  {
   "cell_type": "code",
   "execution_count": null,
   "id": "4ea52936-a552-4d82-aea9-e1ce2a66790c",
   "metadata": {},
   "outputs": [],
   "source": [
    "rnn_dat[\"Y\"].shape"
   ]
  },
  {
   "cell_type": "code",
   "execution_count": null,
   "id": "cb42d24a-5ffc-4639-8f29-046e3093f635",
   "metadata": {},
   "outputs": [],
   "source": [
    "rnn_dat[\"Y\"].shape"
   ]
  },
  {
   "cell_type": "code",
   "execution_count": null,
   "id": "b1a76493-1ead-48d7-a078-036e14560e65",
   "metadata": {},
   "outputs": [],
   "source": [
    "rnn_dat[\"Y\"].flatten().shape"
   ]
  },
  {
   "cell_type": "code",
   "execution_count": null,
   "id": "1d10be19-7f7b-42b3-aa72-da2c8f690340",
   "metadata": {},
   "outputs": [],
   "source": [
    "rmse(m[:hours], rnn_dat[\"Y\"].flatten())"
   ]
  },
  {
   "cell_type": "code",
   "execution_count": null,
   "id": "5b5063cb-da15-4639-a848-e09bc0dfa5df",
   "metadata": {},
   "outputs": [],
   "source": [
    "rmse(m[:hours], rnn_dat[\"Y\"])"
   ]
  },
  {
   "cell_type": "code",
   "execution_count": null,
   "id": "f8aacf14-b4cd-4777-8d9c-9a00fa9a2283",
   "metadata": {},
   "outputs": [],
   "source": [
    "def rmse(a, b):\n",
    "    return np.sqrt(((a - b)**2).mean())"
   ]
  },
  {
   "cell_type": "code",
   "execution_count": null,
   "id": "7e79655c-9e0a-4bdf-b90d-59eb290eaf89",
   "metadata": {},
   "outputs": [],
   "source": [
    "from sklearn.metrics import mean_squared_error"
   ]
  },
  {
   "cell_type": "code",
   "execution_count": null,
   "id": "d70b5f46-74e5-4b46-9ae2-58990326c3b2",
   "metadata": {},
   "outputs": [],
   "source": [
    "np.sqrt(mean_squared_error(m, rnn_dat[\"Y\"]))"
   ]
  },
  {
   "cell_type": "code",
   "execution_count": null,
   "id": "00abe78d-6b10-4d3a-8e59-7f6d61ddefbf",
   "metadata": {},
   "outputs": [],
   "source": [
    "np.sqrt(mean_squared_error(m, rnn_dat[\"Y\"].flatten()))"
   ]
  },
  {
   "cell_type": "code",
   "execution_count": null,
   "id": "2a19c79e-b3ef-40b6-b7f5-3068c4de55fe",
   "metadata": {},
   "outputs": [],
   "source": [
    "mse=[]\n",
    "for i in range(0, len(m)):\n",
    "    mse.append((m[i]-rnn_dat[\"Y\"][i])**2)\n",
    "print(np.sqrt(np.mean(mse)))"
   ]
  },
  {
   "cell_type": "code",
   "execution_count": null,
   "id": "cf4c9d12-ea39-424d-9bc7-7881be0c0b1e",
   "metadata": {},
   "outputs": [],
   "source": [
    "m.shape"
   ]
  },
  {
   "cell_type": "code",
   "execution_count": null,
   "id": "0342615d-458d-4d41-9436-85358989b244",
   "metadata": {},
   "outputs": [],
   "source": [
    "rnn_dat[\"Y\"].shape"
   ]
  },
  {
   "cell_type": "code",
   "execution_count": null,
   "id": "4cfcc61a-4874-4470-bb09-d54d22249d47",
   "metadata": {},
   "outputs": [],
   "source": [
    "(m - rnn_dat[\"Y\"]).shape"
   ]
  },
  {
   "cell_type": "code",
   "execution_count": null,
   "id": "ba19bc35-c39b-4fd8-ba70-8f41681036c6",
   "metadata": {},
   "outputs": [],
   "source": [
    "(m - rnn_dat[\"Y\"].flatten()).shape"
   ]
  },
  {
   "cell_type": "code",
   "execution_count": null,
   "id": "f668aa0b-cfe7-434d-aa6e-877c782b461c",
   "metadata": {},
   "outputs": [],
   "source": [
    "rnn_dat[\"Y\"].flatten().shape"
   ]
  },
  {
   "cell_type": "markdown",
   "id": "87f59db1-fa7b-44f4-bbe4-7e49221226e9",
   "metadata": {},
   "source": [
    "## Reproduce with Stateful Batch Training\n",
    "\n",
    "*NOTE*: using fewer epochs as the training loss levels off much quicker with stateful."
   ]
  },
  {
   "cell_type": "code",
   "execution_count": null,
   "id": "f30fbbe3-2801-4623-9960-016ef701709a",
   "metadata": {},
   "outputs": [],
   "source": [
    "param_sets_STATEFUL = {'id':0,\n",
    "        'purpose':'reproducibility',\n",
    "        'batch_size':32,\n",
    "        'training':5,\n",
    "        'cases':['case11'],\n",
    "        'scale':1,\n",
    "        'rain_do':True,\n",
    "#        'verbose':False,\n",
    "        'verbose':1,\n",
    "        'timesteps':5,\n",
    "        'activation':['linear','linear'],\n",
    "        'centering':[0.0,0.0],\n",
    "        'hidden_units':20,\n",
    "        'dense_units':1,\n",
    "        'dense_layers':1,\n",
    "        'DeltaE':[0,-1],    # -1.0 is to correct E bias but put at the end\n",
    "        'synthetic':False,  # run also synthetic cases\n",
    "        'T1': 0.1,          # 1/fuel class (10)\n",
    "        'fm_raise_vs_rain': 2.0,         # fm increase per mm rain                              \n",
    "        'epochs':200,\n",
    "        'verbose_fit':0,\n",
    "        'verbose_weights':False,\n",
    "        'note':'check 5 should give zero error',\n",
    "        'verbose': False # another verbose arg used in staircase_2\n",
    "        }"
   ]
  },
  {
   "cell_type": "markdown",
   "id": "a5ee76d9-2a0f-4bca-9fef-5d0f9361a02d",
   "metadata": {},
   "source": [
    "### Using `run_case`"
   ]
  },
  {
   "cell_type": "code",
   "execution_count": null,
   "id": "29596ede-689a-4629-8f07-412289e51122",
   "metadata": {},
   "outputs": [],
   "source": [
    "reproducibility.set_seed()\n",
    "param_sets_STATEFUL['initialize']=False \n",
    "case = 'case11'\n",
    "case_data=repro[case]\n",
    "case_data['h2']=427\n",
    "run_case(case_data,param_sets_STATEFUL)"
   ]
  },
  {
   "cell_type": "code",
   "execution_count": null,
   "id": "4303e754-581c-4ffd-a81b-4b9064d281a1",
   "metadata": {},
   "outputs": [],
   "source": []
  },
  {
   "cell_type": "markdown",
   "id": "d135d6e5-505c-474b-8ed6-b70a37691b2c",
   "metadata": {},
   "source": [
    "### Manual Steps"
   ]
  },
  {
   "cell_type": "code",
   "execution_count": null,
   "id": "07a5baef-d24c-4d70-9e27-c6f29d5b2782",
   "metadata": {},
   "outputs": [],
   "source": [
    "h2=case_data['h2']\n",
    "params = param_sets_STATEFUL\n",
    "reproducibility.set_seed() # Set seed for reproducibility\n",
    "rnn_dat = create_rnn_data_1(case_data,params)\n",
    "create_rnn_data_2(rnn_dat,params)\n",
    "\n",
    "print(rnn_dat[\"x_train\"].shape)\n",
    "print(rnn_dat[\"y_train\"].shape)"
   ]
  },
  {
   "cell_type": "code",
   "execution_count": null,
   "id": "df7627e2-4131-4f7a-9237-0b28e76680e7",
   "metadata": {},
   "outputs": [],
   "source": [
    "from moisture_rnn import create_RNN_2\n",
    "features = rnn_dat[\"x_train\"].shape[2]\n",
    "reproducibility.set_seed() # Set seed for reproducibility\n",
    "model_fit=create_RNN_2(hidden_units=params['hidden_units'], \n",
    "                    dense_units=params['dense_units'], \n",
    "                    batch_shape=rnn_dat[\"x_train\"].shape,\n",
    "                    stateful=True,\n",
    "                    return_sequences=False,\n",
    "                    # initial_state=h0,\n",
    "                    activation=params['activation'],\n",
    "                    dense_layers=params['dense_layers'],\n",
    "                    verbose = False)\n",
    "\n",
    "model_predict=create_RNN_2(hidden_units=params['hidden_units'], \n",
    "                    dense_units=params['dense_units'],  \n",
    "                    input_shape=(hours,features),stateful = False,\n",
    "                    return_sequences=True,\n",
    "                    activation=params['activation'],\n",
    "                    dense_layers=params['dense_layers'],\n",
    "                    verbose = False)"
   ]
  },
  {
   "cell_type": "code",
   "execution_count": null,
   "id": "9f10a4b6-8bf5-43e4-8b24-1372fb1ba87a",
   "metadata": {},
   "outputs": [],
   "source": [
    "hash2(model_fit.get_weights())"
   ]
  },
  {
   "cell_type": "code",
   "execution_count": null,
   "id": "8c83d8c8-8af4-4756-9572-9abe8f18b549",
   "metadata": {},
   "outputs": [],
   "source": [
    "w_fitted=model_fit.get_weights()\n",
    "model_predict.set_weights(w_fitted)"
   ]
  },
  {
   "cell_type": "code",
   "execution_count": null,
   "id": "658ac9a8-c80d-4e6a-8bff-39bd2d81f49c",
   "metadata": {},
   "outputs": [],
   "source": [
    "m = rnn_predict(model_predict, params, rnn_dat)\n",
    "hash2(m)"
   ]
  },
  {
   "cell_type": "code",
   "execution_count": null,
   "id": "891f1378-d76d-4cda-9db6-5d4230a65c26",
   "metadata": {},
   "outputs": [],
   "source": [
    "# model_fit(rnn_dat['x_train'])"
   ]
  },
  {
   "cell_type": "code",
   "execution_count": null,
   "id": "fceeed39-60c1-4589-a9e2-a2bb74789dc7",
   "metadata": {},
   "outputs": [],
   "source": [
    "reproducibility.set_seed()\n",
    "model_predict = train_rnn(\n",
    "    rnn_dat,\n",
    "    params,\n",
    "    rnn_dat['hours'],\n",
    "    fit=True\n",
    ")"
   ]
  },
  {
   "cell_type": "code",
   "execution_count": null,
   "id": "4ede9568-cbfa-41b1-ab93-69155344383a",
   "metadata": {},
   "outputs": [],
   "source": []
  },
  {
   "cell_type": "code",
   "execution_count": null,
   "id": "e84f8219-3f71-43d2-b159-4f200a7cf1c0",
   "metadata": {},
   "outputs": [],
   "source": []
  }
 ],
 "metadata": {
  "kernelspec": {
   "display_name": "Python 3 (ipykernel)",
   "language": "python",
   "name": "python3"
  },
  "language_info": {
   "codemirror_mode": {
    "name": "ipython",
    "version": 3
   },
   "file_extension": ".py",
   "mimetype": "text/x-python",
   "name": "python",
   "nbconvert_exporter": "python",
   "pygments_lexer": "ipython3",
   "version": "3.9.12"
  }
 },
 "nbformat": 4,
 "nbformat_minor": 5
}
