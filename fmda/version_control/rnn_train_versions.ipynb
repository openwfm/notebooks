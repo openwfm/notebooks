{
 "cells": [
  {
   "cell_type": "markdown",
   "id": "e20166f4-1a8b-4471-a9a9-e944cc4b1087",
   "metadata": {},
   "source": [
    "# Getting same hash with v1 (Boise) and v2 (classes)\n",
    "See the comments in the commit before PR#11 for details"
   ]
  },
  {
   "cell_type": "code",
   "execution_count": null,
   "id": "8530bc7e-61ae-4463-a14f-d5eb42f0b83e",
   "metadata": {},
   "outputs": [],
   "source": [
    "# Environment\n",
    "import numpy as np\n",
    "import pandas as pd\n",
    "import tensorflow as tf\n",
    "import matplotlib.pyplot as plt\n",
    "import sys\n",
    "# Local modules\n",
    "sys.path.append('..')\n",
    "from moisture_rnn import RNN, RNNParams\n",
    "import reproducibility\n",
    "from utils import print_dict_summary\n",
    "from data_funcs import load_and_fix_data, rmse\n",
    "from moisture_rnn0 import run_case\n",
    "from moisture_rnn_pkl import pkl2train\n",
    "from utils import hash2, read_yml"
   ]
  },
  {
   "cell_type": "markdown",
   "id": "63d275da-b13a-405e-9e1a-aa3f972119b5",
   "metadata": {},
   "source": [
    "### Reproducibility Datasets"
   ]
  },
  {
   "cell_type": "code",
   "execution_count": null,
   "id": "2dfa08fa-01c9-4fd7-927b-541b0a532e4f",
   "metadata": {},
   "outputs": [],
   "source": [
    "# Original File\n",
    "reproducibility_file='reproducibility_dict0.pickle'\n",
    "\n",
    "repro={}\n",
    "repro.update(load_and_fix_data(reproducibility_file))\n",
    "print_dict_summary(repro)"
   ]
  },
  {
   "cell_type": "code",
   "execution_count": null,
   "id": "f5f4c46a-6e9f-46a0-86e7-3503b83d1816",
   "metadata": {},
   "outputs": [],
   "source": [
    "# Restructured original file\n",
    "reproducibility_file='../data/reproducibility_dict2.pickle'\n",
    "repro2 = pkl2train([reproducibility_file])\n",
    "print_dict_summary(repro2)"
   ]
  },
  {
   "cell_type": "markdown",
   "id": "87f59db1-fa7b-44f4-bbe4-7e49221226e9",
   "metadata": {},
   "source": [
    "## RNN with Stateful Batch Training\n"
   ]
  },
  {
   "cell_type": "markdown",
   "id": "d135d6e5-505c-474b-8ed6-b70a37691b2c",
   "metadata": {},
   "source": [
    "### Custom Class"
   ]
  },
  {
   "cell_type": "code",
   "execution_count": null,
   "id": "4ede9568-cbfa-41b1-ab93-69155344383a",
   "metadata": {},
   "outputs": [],
   "source": [
    "from moisture_rnn import create_rnn_data2, RNN\n",
    "import logging\n",
    "from utils import logging_setup\n",
    "logging_setup()"
   ]
  },
  {
   "cell_type": "code",
   "execution_count": null,
   "id": "e84f8219-3f71-43d2-b159-4f200a7cf1c0",
   "metadata": {},
   "outputs": [],
   "source": [
    "params = read_yml(\"../params.yaml\", subkey=\"rnn_repro\")\n",
    "params = RNNParams(params)"
   ]
  },
  {
   "cell_type": "code",
   "execution_count": null,
   "id": "749a4a1c-e3b7-4a6c-9305-ed2349ca7647",
   "metadata": {},
   "outputs": [],
   "source": [
    "rnn_dat = create_rnn_data2(repro2[\"reproducibility\"], params)"
   ]
  },
  {
   "cell_type": "code",
   "execution_count": null,
   "id": "458ea3bb-2b19-42b3-8ac8-fdec96c6d315",
   "metadata": {},
   "outputs": [],
   "source": [
    "reproducibility.set_seed()\n",
    "rnn = RNN(params)\n",
    "m, errs = rnn.run_model(rnn_dat)"
   ]
  },
  {
   "cell_type": "markdown",
   "id": "d4103c38-e067-4e72-a694-27080fa5265e",
   "metadata": {},
   "source": [
    "### Physics Initialized"
   ]
  },
  {
   "cell_type": "code",
   "execution_count": null,
   "id": "383e2870-a581-4ac2-8669-f16ac41a64a4",
   "metadata": {},
   "outputs": [],
   "source": [
    "params.update({'phys_initialize': True})\n",
    "reproducibility.set_seed()\n",
    "rnn = RNN(params)\n",
    "m, errs = rnn.run_model(rnn_dat)"
   ]
  },
  {
   "cell_type": "markdown",
   "id": "a5ee76d9-2a0f-4bca-9fef-5d0f9361a02d",
   "metadata": {},
   "source": [
    "### Using Old Code with `run_case`"
   ]
  },
  {
   "cell_type": "code",
   "execution_count": null,
   "id": "6875a379-bf28-438a-b7fc-d5f81879b26f",
   "metadata": {},
   "outputs": [],
   "source": [
    "from module_param_sets0 import param_sets\n",
    "params = param_sets['0']"
   ]
  },
  {
   "cell_type": "code",
   "execution_count": null,
   "id": "29596ede-689a-4629-8f07-412289e51122",
   "metadata": {
    "scrolled": true
   },
   "outputs": [],
   "source": [
    "reproducibility.set_seed()\n",
    "params['initialize']=False \n",
    "case = 'case11'\n",
    "case_data=repro[case]\n",
    "case_data['h2']=427\n",
    "run_case(case_data,params)"
   ]
  },
  {
   "cell_type": "markdown",
   "id": "f67940bd-3540-455c-862d-60d7818973eb",
   "metadata": {},
   "source": [
    "### Physics Initialized"
   ]
  },
  {
   "cell_type": "code",
   "execution_count": null,
   "id": "56452fc3-3043-4882-b6bf-29cef45ed88b",
   "metadata": {},
   "outputs": [],
   "source": [
    "from module_param_sets0 import param_sets\n",
    "params = param_sets['0']\n",
    "params['verbose_weights']=True\n",
    "reproducibility.set_seed()\n",
    "params['initialize']=True \n",
    "case = 'case11'\n",
    "case_data=repro[case]\n",
    "case_data['h2']=427\n",
    "run_case(case_data,params)"
   ]
  },
  {
   "cell_type": "code",
   "execution_count": null,
   "id": "33584d39-cd5d-4613-b330-48ab960cb42e",
   "metadata": {},
   "outputs": [],
   "source": []
  },
  {
   "cell_type": "code",
   "execution_count": null,
   "id": "9bfbd951-c89a-4b69-be94-7ac4783f5eb7",
   "metadata": {},
   "outputs": [],
   "source": []
  }
 ],
 "metadata": {
  "kernelspec": {
   "display_name": "Python 3 (ipykernel)",
   "language": "python",
   "name": "python3"
  },
  "language_info": {
   "codemirror_mode": {
    "name": "ipython",
    "version": 3
   },
   "file_extension": ".py",
   "mimetype": "text/x-python",
   "name": "python",
   "nbconvert_exporter": "python",
   "pygments_lexer": "ipython3",
   "version": "3.9.12"
  }
 },
 "nbformat": 4,
 "nbformat_minor": 5
}
