{
 "cells": [
  {
   "cell_type": "markdown",
   "id": "e20166f4-1a8b-4471-a9a9-e944cc4b1087",
   "metadata": {},
   "source": [
    "# Use to Check Reproducibility - v2.1 Code\n",
    "\n",
    "Version 2.1 relies on conda environment built from yaml file `fmda/install/fmda_ml.yml`. This environment uses python version `>=3.12` tensorflow version `>=2.16`. This led to substantial changes from the old reproducibility for code v2.0, so those old reproducibility hashes are no longer supported.\n",
    "\n",
    "To see old code and reproduciblity results, see commit \"911c6d7a\" or PR#11."
   ]
  },
  {
   "cell_type": "markdown",
   "id": "ccbfa419-70b9-484f-ada7-82fcc70b5b38",
   "metadata": {},
   "source": [
    "## Setup"
   ]
  },
  {
   "cell_type": "code",
   "execution_count": null,
   "id": "8530bc7e-61ae-4463-a14f-d5eb42f0b83e",
   "metadata": {},
   "outputs": [],
   "source": [
    "# Environment\n",
    "import numpy as np\n",
    "import pandas as pd\n",
    "import tensorflow as tf\n",
    "import matplotlib.pyplot as plt\n",
    "import sys\n",
    "# Local modules\n",
    "sys.path.append('..')\n",
    "from moisture_rnn import RNN, RNNParams, RNNData\n",
    "import reproducibility\n",
    "from utils import print_dict_summary, read_yml, read_pkl\n",
    "from moisture_rnn_pkl import pkl2train\n",
    "from moisture_rnn import RNN, RNNData, RNNParams\n",
    "import logging\n",
    "from utils import logging_setup\n",
    "logging_setup()"
   ]
  },
  {
   "cell_type": "markdown",
   "id": "63d275da-b13a-405e-9e1a-aa3f972119b5",
   "metadata": {},
   "source": [
    "### Reproducibility Dataset"
   ]
  },
  {
   "cell_type": "code",
   "execution_count": null,
   "id": "2dfa08fa-01c9-4fd7-927b-541b0a532e4f",
   "metadata": {},
   "outputs": [],
   "source": [
    "# Original File\n",
    "repro_file='../data/reproducibility_dict_v2_TEST.pkl'\n",
    "repro = read_pkl(repro_file)"
   ]
  },
  {
   "cell_type": "markdown",
   "id": "87f59db1-fa7b-44f4-bbe4-7e49221226e9",
   "metadata": {},
   "source": [
    "## RNN with Stateful Batch Training\n"
   ]
  },
  {
   "cell_type": "code",
   "execution_count": null,
   "id": "134d13b9-f329-49fb-8b53-16b4b109ae18",
   "metadata": {},
   "outputs": [],
   "source": [
    "# Set up params\n",
    "params = repro['repro_info']['params']\n",
    "print(type(params))\n",
    "print(params)"
   ]
  },
  {
   "cell_type": "code",
   "execution_count": null,
   "id": "e9867f1b-f0fe-4032-a302-ec093782b227",
   "metadata": {},
   "outputs": [],
   "source": [
    "# Set up input data\n",
    "rnn_dat = RNNData(repro, scaler = params['scaler'], features_list = params['features_list'])\n",
    "rnn_dat.train_test_split(\n",
    "    train_frac = params['train_frac'],\n",
    "    val_frac = params['val_frac']\n",
    ")\n",
    "rnn_dat.scale_data()\n",
    "rnn_dat.batch_reshape(timesteps = params['timesteps'], batch_size = params['batch_size'])"
   ]
  },
  {
   "cell_type": "code",
   "execution_count": null,
   "id": "458ea3bb-2b19-42b3-8ac8-fdec96c6d315",
   "metadata": {},
   "outputs": [],
   "source": [
    "reproducibility.set_seed()\n",
    "rnn = RNN(params)\n",
    "m, errs = rnn.run_model(rnn_dat, reproducibility_run=True)"
   ]
  },
  {
   "cell_type": "code",
   "execution_count": null,
   "id": "ac65f5e4-b9a6-4592-998c-3e5161125449",
   "metadata": {},
   "outputs": [],
   "source": []
  },
  {
   "cell_type": "code",
   "execution_count": null,
   "id": "0e66d653-92d9-40cb-8690-dc9aa9c7b504",
   "metadata": {},
   "outputs": [],
   "source": []
  },
  {
   "cell_type": "code",
   "execution_count": null,
   "id": "591cd4d8-8b15-4d94-b258-76e92176f298",
   "metadata": {},
   "outputs": [],
   "source": []
  },
  {
   "cell_type": "code",
   "execution_count": null,
   "id": "67b6d000-b41b-4d5f-bead-814167e79fce",
   "metadata": {},
   "outputs": [],
   "source": []
  },
  {
   "cell_type": "markdown",
   "id": "d4103c38-e067-4e72-a694-27080fa5265e",
   "metadata": {},
   "source": [
    "### Physics Initialized"
   ]
  },
  {
   "cell_type": "code",
   "execution_count": null,
   "id": "383e2870-a581-4ac2-8669-f16ac41a64a4",
   "metadata": {},
   "outputs": [],
   "source": [
    "print(\"NOT YET IMPLEMENTED\")\n",
    "# params.update({'phys_initialize': True})\n",
    "# reproducibility.set_seed()\n",
    "# rnn = RNN(params)\n",
    "# m, errs = rnn.run_model(rnn_dat)"
   ]
  },
  {
   "cell_type": "code",
   "execution_count": null,
   "id": "33584d39-cd5d-4613-b330-48ab960cb42e",
   "metadata": {},
   "outputs": [],
   "source": []
  },
  {
   "cell_type": "code",
   "execution_count": null,
   "id": "9bfbd951-c89a-4b69-be94-7ac4783f5eb7",
   "metadata": {},
   "outputs": [],
   "source": []
  }
 ],
 "metadata": {
  "kernelspec": {
   "display_name": "Python 3 (ipykernel)",
   "language": "python",
   "name": "python3"
  },
  "language_info": {
   "codemirror_mode": {
    "name": "ipython",
    "version": 3
   },
   "file_extension": ".py",
   "mimetype": "text/x-python",
   "name": "python",
   "nbconvert_exporter": "python",
   "pygments_lexer": "ipython3",
   "version": "3.12.5"
  }
 },
 "nbformat": 4,
 "nbformat_minor": 5
}
