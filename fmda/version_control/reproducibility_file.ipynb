{
 "cells": [
  {
   "cell_type": "markdown",
   "id": "c887bd3d-4f89-4d8f-9cc8-b8a20c50b2a2",
   "metadata": {},
   "source": [
    "# Utility to create stable file used for reproduciblity checks\n",
    "\n",
    "## v2.2 Code"
   ]
  },
  {
   "cell_type": "code",
   "execution_count": null,
   "id": "58a6ff55-f5c6-41ee-8c71-fc97813f18d6",
   "metadata": {},
   "outputs": [],
   "source": [
    "import pickle\n",
    "import numpy as np\n",
    "import os.path as osp\n",
    "import os\n",
    "import pandas as pd\n",
    "import tensorflow as tf\n",
    "import sys\n",
    "sys.path.append('..')\n",
    "from moisture_rnn_pkl import pkl2train\n",
    "from moisture_rnn import RNNParams\n",
    "from data_funcs import build_train_dict, combine_nested\n",
    "from utils import read_yml, read_pkl, print_dict_summary, retrieve_url"
   ]
  },
  {
   "cell_type": "code",
   "execution_count": null,
   "id": "d1d4f235-2c02-4472-a0d6-969b1a46f66e",
   "metadata": {},
   "outputs": [],
   "source": [
    "filename = \"fmda_rocky_202403-05_f05.pkl\"\n",
    "retrieve_url(\n",
    "    url = f\"https://demo.openwfm.org/web/data/fmda/dicts/{filename}\", \n",
    "    dest_path = f\"../data/{filename}\")"
   ]
  },
  {
   "cell_type": "code",
   "execution_count": null,
   "id": "18a399f9-e66a-448f-82bc-8816a19444f0",
   "metadata": {},
   "outputs": [],
   "source": [
    "pkl_file = f\"../data/{filename}\"\n",
    "case_name = \"CPTC2_202403_set_2\"\n",
    "# Destination File\n",
    "outfile = \"../data/reproducibility_dict_v2.2.pkl\""
   ]
  },
  {
   "cell_type": "markdown",
   "id": "a4c7c4b3-9652-405f-b0b9-fbc26241afdc",
   "metadata": {},
   "source": [
    "## Read Data and Extract Case"
   ]
  },
  {
   "cell_type": "code",
   "execution_count": null,
   "id": "afc594ef-242b-4e84-a519-c5a195cc922f",
   "metadata": {},
   "outputs": [],
   "source": [
    "params_data = read_yml(\"../params_data.yaml\")\n",
    "params_data"
   ]
  },
  {
   "cell_type": "code",
   "execution_count": null,
   "id": "5514e1c7-4f54-4c0f-9b09-8a36527a0594",
   "metadata": {
    "scrolled": true
   },
   "outputs": [],
   "source": [
    "train = build_train_dict([pkl_file], params_data=params_data,\n",
    "                         spatial=False, forecast_step=1)"
   ]
  },
  {
   "cell_type": "code",
   "execution_count": null,
   "id": "1cca7585-fc05-4de3-bd0a-9fc0c139537e",
   "metadata": {},
   "outputs": [],
   "source": [
    "train.keys()"
   ]
  },
  {
   "cell_type": "code",
   "execution_count": null,
   "id": "9732a641-0ca0-4fd3-9159-45883d6e56ed",
   "metadata": {},
   "outputs": [],
   "source": [
    "single_case = train[case_name].copy()\n",
    "print_dict_summary(single_case)"
   ]
  },
  {
   "cell_type": "code",
   "execution_count": null,
   "id": "84710371-d288-4a07-b05a-63cc0469633c",
   "metadata": {},
   "outputs": [],
   "source": [
    "spatial_case = combine_nested(train.copy())\n",
    "print_dict_summary(spatial_case)"
   ]
  },
  {
   "cell_type": "code",
   "execution_count": null,
   "id": "ec0a3aaf-ee6a-4405-8434-4c37144c34d3",
   "metadata": {},
   "outputs": [],
   "source": [
    "# rnn_dat_single = RNNData(single_case, params)\n",
    "# rnn_dat_spatial = RNNData(single_case, params)"
   ]
  },
  {
   "cell_type": "markdown",
   "id": "4597d3f5-2833-41df-b070-f99d4f8b4ff9",
   "metadata": {},
   "source": [
    "## Add Reproducibility Info"
   ]
  },
  {
   "cell_type": "code",
   "execution_count": null,
   "id": "b7525bd2-5c3e-430a-87e9-3c3ec048553e",
   "metadata": {},
   "outputs": [],
   "source": [
    "params = read_yml('../params.yaml', subkey=\"rnn_repro_NEW\")\n",
    "params"
   ]
  },
  {
   "cell_type": "code",
   "execution_count": null,
   "id": "05d67048-acf3-4668-b371-5184d9ee2c28",
   "metadata": {},
   "outputs": [],
   "source": [
    "params_single = params.copy()\n",
    "# Remove keys not used for single case\n",
    "keys_to_remove = ['features_list_spatial', 'space_fracs']\n",
    "for key in keys_to_remove:\n",
    "    params_single.pop(key)\n",
    "params_single['features_list'] = params_single.pop('features_list_single')\n",
    "\n",
    "# Remove keys not used for spatial case\n",
    "params_spatial = params.copy()\n",
    "params_spatial.pop('features_list_single')\n",
    "params_spatial['features_list'] = params_spatial.pop('features_list_spatial')"
   ]
  },
  {
   "cell_type": "code",
   "execution_count": null,
   "id": "e820012b-6f48-4c58-bc6e-6c9811935ec9",
   "metadata": {},
   "outputs": [],
   "source": [
    "repro_info_single = {\n",
    "    'phys_initialize': {\n",
    "        'fitted_weights_hash': '2ac4a00bf08f8e21d9661daecbbd7fdc',\n",
    "        'preds_hash': 'fe059c66e8ea8fe8b0df5ddf817f16cb'\n",
    "    },\n",
    "    'rand_initialize':{\n",
    "        'fitted_weights_hash': '8b1916fce4461ebb7f345b4810d97c6d',\n",
    "        'preds_hash': 'bb3915900bf8d8c3420cc2147678c447'\n",
    "    },\n",
    "    'env_info':{\n",
    "        'py_version': sys.version[0:6],\n",
    "        'tf_version': tf.__version__,\n",
    "        'seed': 123\n",
    "    },\n",
    "    'params': RNNParams(params_single)\n",
    "}\n",
    "\n",
    "single_case['repro_info'] = repro_info_single"
   ]
  },
  {
   "cell_type": "code",
   "execution_count": null,
   "id": "48b65db5-a5af-4789-9c34-dba3679da869",
   "metadata": {},
   "outputs": [],
   "source": [
    "repro_info_spatial = {\n",
    "    'phys_initialize': \"Not Implemented Yet\",\n",
    "    'rand_initialize':{\n",
    "        'fitted_weights_hash': '77d0580aace582c1a622a757827ff8d4',\n",
    "        'preds_hash': '18df0540385f3cca6840f035c90cf3cd'\n",
    "    },\n",
    "    'env_info':{\n",
    "        'py_version': sys.version[0:6],\n",
    "        'tf_version': tf.__version__,\n",
    "        'seed': 123\n",
    "    },\n",
    "    'params': RNNParams(params_spatial)\n",
    "}\n",
    "spatial_case['repro_info'] = repro_info_spatial"
   ]
  },
  {
   "cell_type": "markdown",
   "id": "d15f56fe-a5b1-4d66-91c2-0c9a7f7929bf",
   "metadata": {},
   "source": [
    "## Write Output"
   ]
  },
  {
   "cell_type": "code",
   "execution_count": null,
   "id": "4cc57cd9-4dd7-488d-abd5-b253aa2cee7d",
   "metadata": {},
   "outputs": [],
   "source": [
    "with open(outfile, 'wb') as file:\n",
    "    print(f\"Writing file: {outfile}\")\n",
    "    pickle.dump({'single': single_case, 'spatial': spatial_case}, file)"
   ]
  },
  {
   "cell_type": "code",
   "execution_count": null,
   "id": "9b71e5c7-c4b4-42a1-a910-ec4586e410ba",
   "metadata": {},
   "outputs": [],
   "source": []
  }
 ],
 "metadata": {
  "kernelspec": {
   "display_name": "Python 3 (ipykernel)",
   "language": "python",
   "name": "python3"
  },
  "language_info": {
   "codemirror_mode": {
    "name": "ipython",
    "version": 3
   },
   "file_extension": ".py",
   "mimetype": "text/x-python",
   "name": "python",
   "nbconvert_exporter": "python",
   "pygments_lexer": "ipython3",
   "version": "3.12.5"
  }
 },
 "nbformat": 4,
 "nbformat_minor": 5
}
