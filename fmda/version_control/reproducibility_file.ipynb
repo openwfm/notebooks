{
 "cells": [
  {
   "cell_type": "markdown",
   "id": "c887bd3d-4f89-4d8f-9cc8-b8a20c50b2a2",
   "metadata": {},
   "source": [
    "# Utility to transform the old reproducibility data file to equivalent for the new class structure"
   ]
  },
  {
   "cell_type": "code",
   "execution_count": 1,
   "id": "58a6ff55-f5c6-41ee-8c71-fc97813f18d6",
   "metadata": {},
   "outputs": [],
   "source": [
    "import pickle\n",
    "import numpy as np\n",
    "from MesoPy import Meso\n",
    "import os.path as osp\n",
    "import os\n",
    "import pandas as pd"
   ]
  },
  {
   "cell_type": "markdown",
   "id": "340a09a5-433b-4ccb-9637-16ad947ea568",
   "metadata": {},
   "source": [
    "Read in old reproduciblity file"
   ]
  },
  {
   "cell_type": "code",
   "execution_count": 2,
   "id": "894e962c-76eb-41a4-8913-14148faf7f6f",
   "metadata": {},
   "outputs": [],
   "source": [
    "outfile = \"../data/reproducibility_dict2.pickle\"\n",
    "repro_path = \"../data/reproducibility_dict.pickle\"\n",
    "with open(repro_path, 'rb') as file:\n",
    "    d = pickle.load(file)"
   ]
  },
  {
   "cell_type": "code",
   "execution_count": 3,
   "id": "ffe0f1ef-6df6-4e5f-83c2-b101e700e2d1",
   "metadata": {},
   "outputs": [
    {
     "data": {
      "text/plain": [
       "dict_keys(['id', 'time', 'rain', 'fm', 'Ed', 'Ew', 'title', 'descr', 'hours', 'h2', 'other', 'case', 'filename'])"
      ]
     },
     "execution_count": 3,
     "metadata": {},
     "output_type": "execute_result"
    }
   ],
   "source": [
    "d[\"case11\"].keys()"
   ]
  },
  {
   "cell_type": "markdown",
   "id": "b22aa74a-9eec-4432-ab08-a3737caaccbf",
   "metadata": {},
   "source": [
    "Reformat reproducibility file to match new data retrieval format. *Note:* original data didn't collect elevation nor exact time, so filling those in randomly. Also, original atmospheric data for reproducibility came from RTMA..."
   ]
  },
  {
   "cell_type": "code",
   "execution_count": 4,
   "id": "fe3e913e-3e6c-454a-8784-a2b150eb1e78",
   "metadata": {},
   "outputs": [],
   "source": [
    "d2 = {\n",
    "    'reproducibility': {\n",
    "        'loc': {\n",
    "            'lon': d[\"case11\"][\"other\"][\"lon\"],\n",
    "            'lat': d[\"case11\"][\"other\"][\"lat\"],\n",
    "            'elev': 1000\n",
    "        },\n",
    "        'RAWS': {\n",
    "            'fm': d[\"case11\"][\"fm\"],\n",
    "            'Ed': d[\"case11\"][\"Ed\"],\n",
    "            'Ew': d[\"case11\"][\"Ew\"],\n",
    "            'rain': np.zeros_like(d[\"case11\"][\"Ew\"])\n",
    "        }\n",
    "    }\n",
    "}"
   ]
  },
  {
   "cell_type": "code",
   "execution_count": 5,
   "id": "3a4ed0b7-0913-4400-9591-2c9f83460d19",
   "metadata": {},
   "outputs": [],
   "source": [
    "start_time = '2023-06-01 00:00:00'\n",
    "date_range = pd.date_range(start=start_time, periods=len(d2['reproducibility'][\"RAWS\"]['Ed']), freq='H')\n",
    "d2[\"reproducibility\"][\"RAWS\"]['time'] = date_range.strftime('%Y-%m-%dT%H:%M:%SZ').tolist()\n",
    "d2[\"reproducibility\"][\"RAWS\"]['time_raws'] = date_range.strftime('%Y-%m-%dT%H:%M:%SZ').tolist()"
   ]
  },
  {
   "cell_type": "code",
   "execution_count": 6,
   "id": "e034d827-2337-471b-b875-c6c1e2307ed9",
   "metadata": {},
   "outputs": [],
   "source": [
    "with open(outfile, 'wb') as handle:\n",
    "    pickle.dump(d2, handle, protocol=pickle.HIGHEST_PROTOCOL)"
   ]
  },
  {
   "cell_type": "code",
   "execution_count": null,
   "id": "d7b6cf2f-ba9c-45a5-9451-520835046d32",
   "metadata": {},
   "outputs": [],
   "source": []
  }
 ],
 "metadata": {
  "kernelspec": {
   "display_name": "Python 3 (ipykernel)",
   "language": "python",
   "name": "python3"
  },
  "language_info": {
   "codemirror_mode": {
    "name": "ipython",
    "version": 3
   },
   "file_extension": ".py",
   "mimetype": "text/x-python",
   "name": "python",
   "nbconvert_exporter": "python",
   "pygments_lexer": "ipython3",
   "version": "3.10.9"
  }
 },
 "nbformat": 4,
 "nbformat_minor": 5
}
