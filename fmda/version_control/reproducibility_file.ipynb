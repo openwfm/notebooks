{
 "cells": [
  {
   "cell_type": "markdown",
   "id": "c887bd3d-4f89-4d8f-9cc8-b8a20c50b2a2",
   "metadata": {},
   "source": [
    "# Utility to create stable file used for reproduciblity checks\n",
    "\n",
    "## v2.1 Code"
   ]
  },
  {
   "cell_type": "code",
   "execution_count": null,
   "id": "58a6ff55-f5c6-41ee-8c71-fc97813f18d6",
   "metadata": {},
   "outputs": [],
   "source": [
    "import pickle\n",
    "import numpy as np\n",
    "import os.path as osp\n",
    "import os\n",
    "import pandas as pd\n",
    "import tensorflow as tf\n",
    "import sys\n",
    "sys.path.append('..')\n",
    "from moisture_rnn_pkl import pkl2train\n",
    "from moisture_rnn import RNNParams\n",
    "from data_funcs import build_train_dict\n",
    "from utils import read_yml, read_pkl, print_dict_summary, retrieve_url"
   ]
  },
  {
   "cell_type": "code",
   "execution_count": null,
   "id": "d1d4f235-2c02-4472-a0d6-969b1a46f66e",
   "metadata": {},
   "outputs": [],
   "source": [
    "filename = \"test_CA_202401.pkl\"\n",
    "retrieve_url(\n",
    "    url = f\"https://demo.openwfm.org/web/data/fmda/dicts/{filename}\", \n",
    "    dest_path = f\"../data/{filename}\")"
   ]
  },
  {
   "cell_type": "code",
   "execution_count": null,
   "id": "18a399f9-e66a-448f-82bc-8816a19444f0",
   "metadata": {},
   "outputs": [],
   "source": [
    "pkl_file = f\"../data/{filename}\"\n",
    "case_name = \"NV020_202401\"\n",
    "# Destination File\n",
    "outfile = \"../data/reproducibility_dict_v2_TEST.pkl\""
   ]
  },
  {
   "cell_type": "markdown",
   "id": "a4c7c4b3-9652-405f-b0b9-fbc26241afdc",
   "metadata": {},
   "source": [
    "## Read Data and Extract Case"
   ]
  },
  {
   "cell_type": "code",
   "execution_count": null,
   "id": "c5736d74-be32-47b9-a99e-f28320d0ba10",
   "metadata": {},
   "outputs": [],
   "source": [
    "train = read_pkl(pkl_file)"
   ]
  },
  {
   "cell_type": "code",
   "execution_count": null,
   "id": "afc594ef-242b-4e84-a519-c5a195cc922f",
   "metadata": {},
   "outputs": [],
   "source": [
    "params_data = read_yml(\"../params_data.yaml\")"
   ]
  },
  {
   "cell_type": "code",
   "execution_count": null,
   "id": "20d75fda-cb3e-4234-b0df-99d3fc15bab8",
   "metadata": {},
   "outputs": [],
   "source": [
    "params_data.update({'hours': 168})"
   ]
  },
  {
   "cell_type": "code",
   "execution_count": null,
   "id": "5514e1c7-4f54-4c0f-9b09-8a36527a0594",
   "metadata": {
    "scrolled": true
   },
   "outputs": [],
   "source": [
    "train = build_train_dict([pkl_file], params_data=params_data,\n",
    "                         spatial=False)"
   ]
  },
  {
   "cell_type": "code",
   "execution_count": null,
   "id": "e6a76831-a898-41c0-9caa-0f060f978417",
   "metadata": {},
   "outputs": [],
   "source": [
    "print_dict_summary(train[case_name])"
   ]
  },
  {
   "cell_type": "markdown",
   "id": "4597d3f5-2833-41df-b070-f99d4f8b4ff9",
   "metadata": {},
   "source": [
    "## Add Reproducibility Info"
   ]
  },
  {
   "cell_type": "code",
   "execution_count": null,
   "id": "b7525bd2-5c3e-430a-87e9-3c3ec048553e",
   "metadata": {},
   "outputs": [],
   "source": [
    "params = read_yml('../params.yaml', subkey=\"rnn_repro\")\n",
    "params"
   ]
  },
  {
   "cell_type": "code",
   "execution_count": null,
   "id": "e820012b-6f48-4c58-bc6e-6c9811935ec9",
   "metadata": {},
   "outputs": [],
   "source": [
    "repro_info = {\n",
    "    'phys_initialize': \"NOT YET IMPLEMENTED WITH v2.1\",\n",
    "    'rand_initialize':{\n",
    "        'fitted_weights_hash': '01513ac086d842dc67d40eb94ee1110c',\n",
    "        'preds_hash': '4999d10893207f2b40086e3f84c214a3'\n",
    "    },\n",
    "    'env_info':{\n",
    "        'py_version': sys.version[0:6],\n",
    "        'tf_version': tf.__version__,\n",
    "        'seed': 123\n",
    "    },\n",
    "    'params': RNNParams(params)\n",
    "}\n",
    "\n",
    "train[case_name]['repro_info'] = repro_info"
   ]
  },
  {
   "cell_type": "markdown",
   "id": "d15f56fe-a5b1-4d66-91c2-0c9a7f7929bf",
   "metadata": {},
   "source": [
    "## Write Output"
   ]
  },
  {
   "cell_type": "code",
   "execution_count": null,
   "id": "4cc57cd9-4dd7-488d-abd5-b253aa2cee7d",
   "metadata": {},
   "outputs": [],
   "source": [
    "with open(outfile, 'wb') as file:\n",
    "    print(f\"Writing file: {outfile}\")\n",
    "    pickle.dump(train[case_name], file)"
   ]
  },
  {
   "cell_type": "code",
   "execution_count": null,
   "id": "9b71e5c7-c4b4-42a1-a910-ec4586e410ba",
   "metadata": {},
   "outputs": [],
   "source": []
  }
 ],
 "metadata": {
  "kernelspec": {
   "display_name": "Python 3 (ipykernel)",
   "language": "python",
   "name": "python3"
  },
  "language_info": {
   "codemirror_mode": {
    "name": "ipython",
    "version": 3
   },
   "file_extension": ".py",
   "mimetype": "text/x-python",
   "name": "python",
   "nbconvert_exporter": "python",
   "pygments_lexer": "ipython3",
   "version": "3.12.5"
  }
 },
 "nbformat": 4,
 "nbformat_minor": 5
}
