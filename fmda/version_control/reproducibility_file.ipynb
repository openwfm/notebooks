{
 "cells": [
  {
   "cell_type": "markdown",
   "id": "c887bd3d-4f89-4d8f-9cc8-b8a20c50b2a2",
   "metadata": {},
   "source": [
    "# Utility to create stable file used for reproduciblity checks\n",
    "\n",
    "## v2.1 Code"
   ]
  },
  {
   "cell_type": "code",
   "execution_count": 1,
   "id": "58a6ff55-f5c6-41ee-8c71-fc97813f18d6",
   "metadata": {},
   "outputs": [],
   "source": [
    "import pickle\n",
    "import numpy as np\n",
    "import os.path as osp\n",
    "import os\n",
    "import pandas as pd\n",
    "import tensorflow as tf\n",
    "import sys\n",
    "sys.path.append('..')\n",
    "from moisture_rnn_pkl import pkl2train\n",
    "from moisture_rnn import RNNParams\n",
    "from utils import read_yml, read_pkl, print_dict_summary, load_and_fix_data"
   ]
  },
  {
   "cell_type": "code",
   "execution_count": 2,
   "id": "18a399f9-e66a-448f-82bc-8816a19444f0",
   "metadata": {},
   "outputs": [],
   "source": [
    "pkl_file = \"../data/test_CA_202401.pkl\"\n",
    "case_name = \"NV020_202401\"\n",
    "# Destination File\n",
    "outfile = \"../data/reproducibility_dict_v2_TEST.pkl\""
   ]
  },
  {
   "cell_type": "markdown",
   "id": "a4c7c4b3-9652-405f-b0b9-fbc26241afdc",
   "metadata": {},
   "source": [
    "## Read Data and Extract Case"
   ]
  },
  {
   "cell_type": "markdown",
   "id": "f9378d70-5e4a-4d26-8445-4ab4c959b3bd",
   "metadata": {},
   "source": [
    "### Read subdict directly"
   ]
  },
  {
   "cell_type": "code",
   "execution_count": 3,
   "id": "513c5f9c-5ce1-440e-85aa-bfb986e74e20",
   "metadata": {},
   "outputs": [
    {
     "name": "stdout",
     "output_type": "stream",
     "text": [
      "loading file ../data/test_CA_202401.pkl\n",
      "loc\n",
      "      STID : NV020\n",
      "      lat : 38.7482\n",
      "      lon : -119.53656\n",
      "      elev : 5677\n",
      "      pixel_x : 268.6997896202013\n",
      "      pixel_y : 444.2995027841032\n",
      "RAWS\n",
      "     temp: NumPy array of shape (1009,), min: 263.15, max: 280.506\n",
      "     fm: NumPy array of shape (1009,), min: 8.62, max: 16.2\n",
      "     rh: NumPy array of shape (1009,), min: 14.52, max: 93.7\n",
      "     wind: NumPy array of shape (1009,), min: nan, max: nan\n",
      "     time_raws: NumPy array of shape (1009,), type object\n",
      "      hours : 1009\n",
      "     time: NumPy array of shape (168,), type object\n",
      "     Ed: NumPy array of shape (1009,), min: 8.049790374634147, max: 30.42933179653953\n",
      "     Ew: NumPy array of shape (1009,), min: 6.999615289304687, max: 28.609014502317358\n",
      "HRRR\n",
      "     time: NumPy array of shape (168,), type object\n",
      "     f00\n",
      "          temp: NumPy array of shape (168,), min: 262.1491059538274, max: 278.6557143358586\n",
      "          rh: NumPy array of shape (168,), min: 19.766470197815824, max: 88.04762200131668\n",
      "          wind: NumPy array of shape (168,), min: 0.4422897586312999, max: 11.740318800249659\n",
      "          rain: NumPy array of shape (168,), min: 0.0, max: 0.0\n",
      "          precip_accum: NumPy array of shape (168,), min: 0.0, max: 0.0\n",
      "          solar: NumPy array of shape (168,), min: 0.0, max: 531.9806798402358\n",
      "          soilm: NumPy array of shape (168,), min: 0.04917251652964121, max: 0.12315401646785898\n",
      "          canopyw: NumPy array of shape (168,), min: 0.0, max: 0.0\n",
      "          groundflux: NumPy array of shape (168,), min: -131.7843148684105, max: 323.2364124714159\n",
      "          Ed: NumPy array of shape (168,), min: 10.01036196657367, max: 27.084001303686698\n",
      "          Ew: NumPy array of shape (168,), min: 8.847334592947469, max: 25.46199682778882\n",
      "           descr : Source: HRRR data from 3d pressure model, linear grid interpolated to RAWS location\n",
      "     f01\n",
      "          temp: NumPy array of shape (168,), min: 262.62389410746255, max: 277.81355191096424\n",
      "          rh: NumPy array of shape (168,), min: 19.11316672559181, max: 91.87131998621496\n",
      "          wind: NumPy array of shape (168,), min: 1.2391147980713344, max: 13.282109257495303\n",
      "          rain: NumPy array of shape (168,), min: 0.0, max: 0.00039006309462551956\n",
      "          precip_accum: NumPy array of shape (168,), min: 0.0, max: 0.945306784924014\n",
      "          solar: NumPy array of shape (168,), min: 0.0, max: 545.6303389769764\n",
      "          soilm: NumPy array of shape (168,), min: 0.04868231485555667, max: 0.12315401646785898\n",
      "          canopyw: NumPy array of shape (168,), min: 0.0, max: 0.0\n",
      "          groundflux: NumPy array of shape (168,), min: -128.93263270355502, max: 84.48231533782075\n",
      "          Ed: NumPy array of shape (168,), min: 10.55464038561572, max: 28.68516905374082\n",
      "          Ew: NumPy array of shape (168,), min: 9.403674257216629, max: 26.943124103890092\n",
      "           descr : Source: HRRR data from 3d pressure model, linear grid interpolated to RAWS location\n",
      " case : NV020_202401\n",
      " filename : ../data/test_CA_202401.pkl\n",
      " title : NV020_202401\n",
      " descr : NV020_202401 FMDA dictionary\n"
     ]
    }
   ],
   "source": [
    "dat = load_and_fix_data(pkl_file)\n",
    "print_dict_summary(dat[case_name])"
   ]
  },
  {
   "cell_type": "markdown",
   "id": "40eff829-d24e-4ef9-bcb2-773112063359",
   "metadata": {},
   "source": [
    "### Extract processed case"
   ]
  },
  {
   "cell_type": "code",
   "execution_count": 4,
   "id": "1e3403e6-de9c-47a2-af31-190e212210a1",
   "metadata": {},
   "outputs": [],
   "source": [
    "train = pkl2train([pkl_file])"
   ]
  },
  {
   "cell_type": "code",
   "execution_count": 5,
   "id": "e6a76831-a898-41c0-9caa-0f060f978417",
   "metadata": {},
   "outputs": [
    {
     "name": "stdout",
     "output_type": "stream",
     "text": [
      " id : NV020_202401\n",
      " case : NV020_202401\n",
      " filename : ../data/test_CA_202401.pkl\n",
      "loc\n",
      "      STID : NV020\n",
      "      lat : 38.7482\n",
      "      lon : -119.53656\n",
      "      elev : 5677\n",
      "      pixel_x : 268.6997896202013\n",
      "      pixel_y : 444.2995027841032\n",
      " hours : 168\n",
      " h2 : 168\n",
      "time: NumPy array of shape (168,), type object\n",
      " scale_fm : 1\n",
      "X: NumPy array of shape (168, 8), min: -119.53656, max: 5677.0\n",
      "features_list: Array of 8 items\n",
      "y: NumPy array of shape (168,), min: 8.62, max: 15.98\n"
     ]
    }
   ],
   "source": [
    "print_dict_summary(train[case_name])"
   ]
  },
  {
   "cell_type": "markdown",
   "id": "4597d3f5-2833-41df-b070-f99d4f8b4ff9",
   "metadata": {},
   "source": [
    "## Add Reproducibility Info"
   ]
  },
  {
   "cell_type": "code",
   "execution_count": 6,
   "id": "b7525bd2-5c3e-430a-87e9-3c3ec048553e",
   "metadata": {},
   "outputs": [
    {
     "data": {
      "text/plain": [
       "{'batch_size': 32,\n",
       " 'timesteps': 5,\n",
       " 'optimizer': 'adam',\n",
       " 'rnn_layers': 1,\n",
       " 'rnn_units': 20,\n",
       " 'dense_layers': 1,\n",
       " 'dense_units': 5,\n",
       " 'activation': ['linear', 'linear'],\n",
       " 'centering': [0.0, 0.0],\n",
       " 'dropout': [0.2, 0.2],\n",
       " 'recurrent_dropout': 0.2,\n",
       " 'reset_states': True,\n",
       " 'epochs': 300,\n",
       " 'learning_rate': 0.001,\n",
       " 'clipvalue': 10.0,\n",
       " 'phys_initialize': False,\n",
       " 'stateful': True,\n",
       " 'verbose_weights': True,\n",
       " 'verbose_fit': False,\n",
       " 'features_list': ['Ed', 'Ew', 'solar', 'wind', 'rain'],\n",
       " 'scale': True,\n",
       " 'scaler': 'minmax',\n",
       " 'train_frac': 0.5,\n",
       " 'val_frac': 0.2}"
      ]
     },
     "execution_count": 6,
     "metadata": {},
     "output_type": "execute_result"
    }
   ],
   "source": [
    "params = read_yml('../params.yaml', subkey=\"rnn_repro\")\n",
    "params"
   ]
  },
  {
   "cell_type": "code",
   "execution_count": 7,
   "id": "e820012b-6f48-4c58-bc6e-6c9811935ec9",
   "metadata": {},
   "outputs": [
    {
     "name": "stdout",
     "output_type": "stream",
     "text": [
      "Checking params...\n",
      "Input dictionary passed all checks.\n",
      "Calculating shape params based on features list, timesteps, and batch size\n",
      "Input Feature List: ['Ed', 'Ew', 'solar', 'wind', 'rain']\n",
      "Input Timesteps: 5\n",
      "Input Batch Size: 32\n",
      "Calculated params:\n",
      "Number of features: 5\n",
      "Batch Shape: (32, 5, 5)\n",
      "{'batch_size': 32, 'timesteps': 5, 'optimizer': 'adam', 'rnn_layers': 1, 'rnn_units': 20, 'dense_layers': 1, 'dense_units': 5, 'activation': ['linear', 'linear'], 'centering': [0.0, 0.0], 'dropout': [0.2, 0.2], 'recurrent_dropout': 0.2, 'reset_states': True, 'epochs': 300, 'learning_rate': 0.001, 'clipvalue': 10.0, 'phys_initialize': False, 'stateful': True, 'verbose_weights': True, 'verbose_fit': False, 'features_list': ['Ed', 'Ew', 'solar', 'wind', 'rain'], 'scale': True, 'scaler': 'minmax', 'train_frac': 0.5, 'val_frac': 0.2, 'n_features': 5, 'batch_shape': (32, 5, 5)}\n"
     ]
    }
   ],
   "source": [
    "repro_info = {\n",
    "    'phys_initialize': \"NOT YET IMPLEMENTED WITH v2.1\",\n",
    "    'rand_initialize':{\n",
    "        'fitted_weights_hash': '01513ac086d842dc67d40eb94ee1110c',\n",
    "        'preds_hash': '4999d10893207f2b40086e3f84c214a3'\n",
    "    },\n",
    "    'env_info':{\n",
    "        'py_version': sys.version[0:6],\n",
    "        'tf_version': tf.__version__,\n",
    "        'seed': 123\n",
    "    },\n",
    "    'params': RNNParams(params)\n",
    "}\n",
    "\n",
    "train[case_name]['repro_info'] = repro_info"
   ]
  },
  {
   "cell_type": "markdown",
   "id": "d15f56fe-a5b1-4d66-91c2-0c9a7f7929bf",
   "metadata": {},
   "source": [
    "## Write Output"
   ]
  },
  {
   "cell_type": "code",
   "execution_count": 8,
   "id": "4cc57cd9-4dd7-488d-abd5-b253aa2cee7d",
   "metadata": {},
   "outputs": [
    {
     "name": "stdout",
     "output_type": "stream",
     "text": [
      "Writing file: ../data/reproducibility_dict_v2_TEST.pkl\n"
     ]
    }
   ],
   "source": [
    "with open(outfile, 'wb') as file:\n",
    "    print(f\"Writing file: {outfile}\")\n",
    "    pickle.dump(train[case_name], file)"
   ]
  },
  {
   "cell_type": "code",
   "execution_count": null,
   "id": "d1846862-af98-4781-bcad-e8f32a87412c",
   "metadata": {},
   "outputs": [],
   "source": []
  }
 ],
 "metadata": {
  "kernelspec": {
   "display_name": "Python 3 (ipykernel)",
   "language": "python",
   "name": "python3"
  },
  "language_info": {
   "codemirror_mode": {
    "name": "ipython",
    "version": 3
   },
   "file_extension": ".py",
   "mimetype": "text/x-python",
   "name": "python",
   "nbconvert_exporter": "python",
   "pygments_lexer": "ipython3",
   "version": "3.12.5"
  }
 },
 "nbformat": 4,
 "nbformat_minor": 5
}
