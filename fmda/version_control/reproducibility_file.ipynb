{
 "cells": [
  {
   "cell_type": "markdown",
   "id": "c887bd3d-4f89-4d8f-9cc8-b8a20c50b2a2",
   "metadata": {},
   "source": [
    "# Utility to create stable file used for reproduciblity checks\n",
    "\n",
    "## v2.1 Code"
   ]
  },
  {
   "cell_type": "code",
   "execution_count": null,
   "id": "58a6ff55-f5c6-41ee-8c71-fc97813f18d6",
   "metadata": {},
   "outputs": [],
   "source": [
    "import pickle\n",
    "import numpy as np\n",
    "import os.path as osp\n",
    "import os\n",
    "import pandas as pd\n",
    "import tensorflow as tf\n",
    "import sys\n",
    "sys.path.append('..')\n",
    "from moisture_rnn_pkl import pkl2train\n",
    "from moisture_rnn import RNNParams\n",
    "from utils import read_yml, read_pkl, print_dict_summary, load_and_fix_data"
   ]
  },
  {
   "cell_type": "code",
   "execution_count": null,
   "id": "18a399f9-e66a-448f-82bc-8816a19444f0",
   "metadata": {},
   "outputs": [],
   "source": [
    "pkl_file = \"../data/test_CA_202401.pkl\"\n",
    "case_name = \"NV020_202401\"\n",
    "# Destination File\n",
    "outfile = \"../data/reproducibility_dict_v2_TEST.pkl\""
   ]
  },
  {
   "cell_type": "markdown",
   "id": "a4c7c4b3-9652-405f-b0b9-fbc26241afdc",
   "metadata": {},
   "source": [
    "## Read Data and Extract Case"
   ]
  },
  {
   "cell_type": "markdown",
   "id": "f9378d70-5e4a-4d26-8445-4ab4c959b3bd",
   "metadata": {},
   "source": [
    "### Read subdict directly"
   ]
  },
  {
   "cell_type": "code",
   "execution_count": null,
   "id": "513c5f9c-5ce1-440e-85aa-bfb986e74e20",
   "metadata": {},
   "outputs": [],
   "source": [
    "dat = load_and_fix_data(pkl_file)\n",
    "print_dict_summary(dat[case_name])"
   ]
  },
  {
   "cell_type": "markdown",
   "id": "40eff829-d24e-4ef9-bcb2-773112063359",
   "metadata": {},
   "source": [
    "### Extract processed case"
   ]
  },
  {
   "cell_type": "code",
   "execution_count": null,
   "id": "1e3403e6-de9c-47a2-af31-190e212210a1",
   "metadata": {},
   "outputs": [],
   "source": [
    "train = pkl2train([pkl_file])"
   ]
  },
  {
   "cell_type": "code",
   "execution_count": null,
   "id": "e6a76831-a898-41c0-9caa-0f060f978417",
   "metadata": {},
   "outputs": [],
   "source": [
    "print_dict_summary(train[case_name])"
   ]
  },
  {
   "cell_type": "markdown",
   "id": "4597d3f5-2833-41df-b070-f99d4f8b4ff9",
   "metadata": {},
   "source": [
    "## Add Reproducibility Info"
   ]
  },
  {
   "cell_type": "code",
   "execution_count": null,
   "id": "b7525bd2-5c3e-430a-87e9-3c3ec048553e",
   "metadata": {},
   "outputs": [],
   "source": [
    "params = read_yml('../params.yaml', subkey=\"rnn_repro\")\n",
    "params"
   ]
  },
  {
   "cell_type": "code",
   "execution_count": null,
   "id": "e820012b-6f48-4c58-bc6e-6c9811935ec9",
   "metadata": {},
   "outputs": [],
   "source": [
    "repro_info = {\n",
    "    'phys_initialize': \"NOT YET IMPLEMENTED WITH v2.1\",\n",
    "    'rand_initialize':{\n",
    "        'fitted_weights_hash': '01513ac086d842dc67d40eb94ee1110c',\n",
    "        'preds_hash': '4999d10893207f2b40086e3f84c214a3'\n",
    "    },\n",
    "    'env_info':{\n",
    "        'py_version': sys.version[0:6],\n",
    "        'tf_version': tf.__version__,\n",
    "        'seed': 123\n",
    "    },\n",
    "    'params': RNNParams(params)\n",
    "}\n",
    "\n",
    "train[case_name]['repro_info'] = repro_info"
   ]
  },
  {
   "cell_type": "markdown",
   "id": "d15f56fe-a5b1-4d66-91c2-0c9a7f7929bf",
   "metadata": {},
   "source": [
    "## Write Output"
   ]
  },
  {
   "cell_type": "code",
   "execution_count": null,
   "id": "4cc57cd9-4dd7-488d-abd5-b253aa2cee7d",
   "metadata": {},
   "outputs": [],
   "source": [
    "with open(outfile, 'wb') as file:\n",
    "    print(f\"Writing file: {outfile}\")\n",
    "    pickle.dump(train[case_name], file)"
   ]
  },
  {
   "cell_type": "code",
   "execution_count": null,
   "id": "d1846862-af98-4781-bcad-e8f32a87412c",
   "metadata": {},
   "outputs": [],
   "source": []
  }
 ],
 "metadata": {
  "kernelspec": {
   "display_name": "Python 3 (ipykernel)",
   "language": "python",
   "name": "python3"
  },
  "language_info": {
   "codemirror_mode": {
    "name": "ipython",
    "version": 3
   },
   "file_extension": ".py",
   "mimetype": "text/x-python",
   "name": "python",
   "nbconvert_exporter": "python",
   "pygments_lexer": "ipython3",
   "version": "3.12.5"
  }
 },
 "nbformat": 4,
 "nbformat_minor": 5
}
