{
 "cells": [
  {
   "cell_type": "code",
   "execution_count": null,
   "id": "8b71194e-c5f8-488c-94d4-64b480805d44",
   "metadata": {},
   "outputs": [],
   "source": [
    "# Environment\n",
    "import numpy as np\n",
    "import pandas as pd\n",
    "import tensorflow as tf\n",
    "import matplotlib.pyplot as plt\n",
    "import sys\n",
    "# Local modules\n",
    "sys.path.append('..')\n",
    "import reproducibility\n",
    "from utils import print_dict_summary\n",
    "from data_funcs import load_and_fix_data, rmse\n",
    "from abc import ABC, abstractmethod\n",
    "from tensorflow.keras.callbacks import Callback\n",
    "from utils import hash2"
   ]
  },
  {
   "cell_type": "code",
   "execution_count": null,
   "id": "040a3833-210e-4625-b101-6f33c484b127",
   "metadata": {},
   "outputs": [],
   "source": [
    "reproducibility_file='data/reproducibility_dict.pickle'\n",
    "\n",
    "repro={}\n",
    "repro.update(load_and_fix_data(reproducibility_file))\n",
    "print_dict_summary(repro)\n",
    "\n",
    "case = 'case11'\n",
    "case_data=repro[case]"
   ]
  },
  {
   "cell_type": "code",
   "execution_count": null,
   "id": "669afe73-9fd4-4297-9aec-0c1b15ad0c56",
   "metadata": {},
   "outputs": [],
   "source": [
    "\n",
    "class ResetStatesCallback(Callback):\n",
    "    def on_epoch_end(self, epoch, logs=None):\n",
    "        self.model.reset_states()\n",
    "class RNNModel(ABC):\n",
    "    def __init__(self, params: dict):\n",
    "        self.params = params\n",
    "        if type(self) is RNNModel:\n",
    "            raise TypeError(\"MLModel is an abstract class and cannot be instantiated directly\")\n",
    "        super().__init__()\n",
    "\n",
    "    @abstractmethod\n",
    "    def fit(self, X_train, y_train, weights=None):\n",
    "        pass\n",
    "\n",
    "    @abstractmethod\n",
    "    def predict(self, X):\n",
    "        pass\n",
    "\n",
    "    def eval(self, X_test, y_test):\n",
    "        preds = self.predict(X_test)\n",
    "        rmse = np.sqrt(mean_squared_error(y_test, preds))\n",
    "        print(f\"Test RMSE: {rmse}\")\n",
    "        return rmse\n",
    "\n",
    "class RNN(RNNModel):\n",
    "    def __init__(self, params, loss='mean_squared_error'):\n",
    "        super().__init__(params)\n",
    "        self.model = self._build_model()\n",
    "        # self.compile_model()\n",
    "\n",
    "    def _build_model(self, return_sequences=False):\n",
    "        inputs = tf.keras.Input(batch_shape=self.params['batch_shape'])\n",
    "        x = inputs\n",
    "        for i in range(self.params['rnn_layers']):\n",
    "            x = tf.keras.layers.SimpleRNN(self.params['rnn_units'],activation=self.params['activation'][0],\n",
    "                  stateful=self.params['stateful'],return_sequences=return_sequences)(x)\n",
    "        for i in range(self.params['dense_layers']):\n",
    "            x = tf.keras.layers.Dense(self.params['dense_units'], activation=self.params['activation'][1])(x)\n",
    "        model = tf.keras.Model(inputs=inputs, outputs=x)\n",
    "        model.compile(loss='mean_squared_error', optimizer='adam')\n",
    "        if self.params[\"verbose_weights\"]:\n",
    "            print(f\"Initial Weights Hash: {hash2(model.get_weights())}\")\n",
    "        \n",
    "        return model\n",
    "    # def compile_model(self):\n",
    "    #     optimizer=tf.keras.optimizers.Adam(learning_rate=self.params['learning_rate'])\n",
    "    #     self.model.compile(optimizer=optimizer,\n",
    "    #                        loss='mean_squared_error',\n",
    "    #                        metrics=self.params.get('metrics', ['accuracy']))\n",
    "    def fit(self, X_train, y_train, plot=True, weights=None, callbacks=[], verbose_fit=None):\n",
    "        # verbose_fit argument is for printing out update after each epoch, which gets very long\n",
    "        # These print statements at the top could be turned off with a verbose argument, but then\n",
    "        # there would be a bunch of different verbose params\n",
    "        print(f\"Training simple RNN with params: {self.params}\")\n",
    "        print(f\"X_train hash: {hash2(X_train)}\")\n",
    "        print(f\"y_train hash: {hash2(y_train)}\")\n",
    "        # Note: we overload the params here so that verbose_fit can be easily turned on/off at the .fit call \n",
    "        if verbose_fit is None:\n",
    "            verbose_fit = self.params['verbose_fit']\n",
    "        history = self.model.fit(\n",
    "            X_train, y_train, \n",
    "            epochs=self.params['epochs'], batch_size=self.params['batch_size'],callbacks = callbacks,\n",
    "            verbose=verbose_fit)\n",
    "        if plot:\n",
    "            self.plot_history(history)\n",
    "        if self.params[\"verbose_weights\"]:\n",
    "            print(f\"Fitted Weights Hash: {hash2(self.model.get_weights())}\")\n",
    "    \n",
    "    def predict(self, X_test):\n",
    "        print(\"Predicting with simple RNN\")\n",
    "        return self.model.predict(X_test)\n",
    "\n",
    "\n",
    "    def plot_history(self, history):\n",
    "        plt.semilogy(history.history['loss'], label='Training loss')\n",
    "        if 'val_loss' in history.history:\n",
    "            plt.semilogy(history.history['val_loss'], label='Validation loss')\n",
    "        plt.title(case + ' Model loss')\n",
    "        plt.ylabel('Loss')\n",
    "        plt.xlabel('Epoch')\n",
    "        plt.legend(loc='upper left')\n",
    "        plt.show()\n"
   ]
  },
  {
   "cell_type": "code",
   "execution_count": null,
   "id": "106ef31c-c8fc-49e6-bbb8-dbcec4495527",
   "metadata": {},
   "outputs": [],
   "source": [
    "import yaml\n",
    "\n",
    "with open(\"params.yaml\") as file:\n",
    "    params = yaml.safe_load(file)[\"rnn_stateless\"]\n"
   ]
  },
  {
   "cell_type": "code",
   "execution_count": null,
   "id": "bc3e7dd7-a4de-4d2d-818f-70259122fc3e",
   "metadata": {},
   "outputs": [],
   "source": [
    "N = len(repro[case][\"fm\"]) # total observations\n",
    "# train_ind = int(N*.8) # index of train/val split\n",
    "train_ind = 300\n",
    "# test_ind = int(N*.9) # index of train/test split\n",
    "# test_ind = 500\n",
    "\n",
    "X = np.vstack((repro[case][\"Ed\"], repro[case][\"Ew\"])).T\n",
    "y = repro[case][\"fm\"]\n",
    "\n",
    "X_train = X[:train_ind]\n",
    "# X_val = X[train_ind:test_ind]\n",
    "X_test = X[train_ind:]\n",
    "y_train = y[:train_ind].reshape(-1,1)\n",
    "# y_val = y[train_ind:test_ind].reshape(-1,1)\n",
    "y_test = y[train_ind:].reshape(-1,1)\n",
    "\n",
    "print(f\"Total Observations: {N}\")\n",
    "print(f\"Num Training: {X_train.shape[0]}\")\n",
    "# print(f\"Num Validation: {X_val.shape[0]}\")\n",
    "print(f\"Num Test: {X_test.shape[0]}\")"
   ]
  },
  {
   "cell_type": "code",
   "execution_count": null,
   "id": "e6affcb1-7d43-4cd4-b4a5-ec5c43e2833d",
   "metadata": {},
   "outputs": [],
   "source": [
    "from moisture_rnn import staircase\n",
    "X_train, y_train = staircase(X_train, y_train, timesteps = params[\"timesteps\"], datapoints = len(y_train), verbose=True)\n",
    "print(\"~\"*50)\n",
    "# X_val, y_val = staircase(X_val, y_val, timesteps = params[\"timesteps\"], datapoints = len(y_val))\n",
    "# print(\"~\"*50)\n",
    "X_test, y_test = staircase(X_test, y_test, timesteps = params[\"timesteps\"], datapoints = len(y_test), verbose=True)"
   ]
  },
  {
   "cell_type": "code",
   "execution_count": null,
   "id": "88c38da9-47ac-43cc-b5d8-a3dbd3d9fee8",
   "metadata": {},
   "outputs": [],
   "source": [
    "samples, timesteps, features = X_train.shape\n",
    "batch_size = samples # Single batch for testing\n",
    "\n",
    "params.update({\n",
    "    'batch_shape': (batch_size,timesteps,features),\n",
    "    'batch_size': batch_size # Single Batch for testing\n",
    "})\n",
    "params.update({'epochs': 5000})\n",
    "params.update({'stateful': True})"
   ]
  },
  {
   "cell_type": "code",
   "execution_count": null,
   "id": "920ae417-d6f8-4a36-a593-caeebdb5e8cc",
   "metadata": {},
   "outputs": [],
   "source": [
    "reproducibility.set_seed()\n",
    "rnn = RNN(params)"
   ]
  },
  {
   "cell_type": "code",
   "execution_count": null,
   "id": "3ee49a9d-51d7-4962-b35f-c94c730d11d1",
   "metadata": {},
   "outputs": [],
   "source": [
    "rnn.fit(X_train, y_train, verbose_fit=False)"
   ]
  },
  {
   "cell_type": "code",
   "execution_count": null,
   "id": "e8bea3c9-ec71-4d9d-82df-4da0f276a324",
   "metadata": {},
   "outputs": [],
   "source": [
    "rnn.model.summary()"
   ]
  },
  {
   "cell_type": "code",
   "execution_count": null,
   "id": "37c34f06-215d-498b-bff2-98e535cdc573",
   "metadata": {},
   "outputs": [],
   "source": []
  },
  {
   "cell_type": "code",
   "execution_count": null,
   "id": "cd02493f-229d-4391-9052-a8541ba69bce",
   "metadata": {},
   "outputs": [],
   "source": []
  }
 ],
 "metadata": {
  "kernelspec": {
   "display_name": "Python 3 (ipykernel)",
   "language": "python",
   "name": "python3"
  },
  "language_info": {
   "codemirror_mode": {
    "name": "ipython",
    "version": 3
   },
   "file_extension": ".py",
   "mimetype": "text/x-python",
   "name": "python",
   "nbconvert_exporter": "python",
   "pygments_lexer": "ipython3",
   "version": "3.9.12"
  }
 },
 "nbformat": 4,
 "nbformat_minor": 5
}
