{
 "cells": [
  {
   "cell_type": "code",
   "execution_count": null,
   "id": "8b71194e-c5f8-488c-94d4-64b480805d44",
   "metadata": {},
   "outputs": [],
   "source": [
    "# Environment\n",
    "import numpy as np\n",
    "import pandas as pd\n",
    "import tensorflow as tf\n",
    "import matplotlib.pyplot as plt\n",
    "import sys\n",
    "# Local modules\n",
    "sys.path.append('..')\n",
    "import reproducibility\n",
    "from utils import print_dict_summary\n",
    "from data_funcs import load_and_fix_data, rmse\n",
    "from abc import ABC, abstractmethod\n",
    "from tensorflow.keras.callbacks import Callback\n",
    "from sklearn.metrics import mean_squared_error\n",
    "from utils import hash2"
   ]
  },
  {
   "cell_type": "code",
   "execution_count": null,
   "id": "040a3833-210e-4625-b101-6f33c484b127",
   "metadata": {},
   "outputs": [],
   "source": [
    "reproducibility_file='version_control/reproducibility_dict0.pickle'\n",
    "\n",
    "repro={}\n",
    "repro.update(load_and_fix_data(reproducibility_file))\n",
    "print_dict_summary(repro)\n",
    "\n",
    "case = 'case11'\n",
    "case_data=repro[case]\n",
    "case_data[\"h2\"]=300"
   ]
  },
  {
   "cell_type": "markdown",
   "id": "06e689c6-c520-4f13-b8b9-3cfc4d9059ac",
   "metadata": {},
   "source": [
    "## Single Batch Train"
   ]
  },
  {
   "cell_type": "code",
   "execution_count": null,
   "id": "669afe73-9fd4-4297-9aec-0c1b15ad0c56",
   "metadata": {},
   "outputs": [],
   "source": [
    "class ResetStatesCallback(Callback):\n",
    "    def on_epoch_end(self, epoch, logs=None):\n",
    "        self.model.reset_states()\n",
    "        \n",
    "from sklearn.metrics import mean_squared_error\n",
    "def rmse(a, b):\n",
    "    return np.sqrt(mean_squared_error(a.flatten(), b.flatten()))\n",
    "\n",
    "\n",
    "class RNNModel(ABC):\n",
    "    def __init__(self, params: dict):\n",
    "        self.params = params\n",
    "        if type(self) is RNNModel:\n",
    "            raise TypeError(\"MLModel is an abstract class and cannot be instantiated directly\")\n",
    "        super().__init__()\n",
    "\n",
    "    @abstractmethod\n",
    "    def fit(self, X_train, y_train, weights=None):\n",
    "        pass\n",
    "\n",
    "    @abstractmethod\n",
    "    def predict(self, X):\n",
    "        pass\n",
    "\n",
    "class RNN(RNNModel):\n",
    "    def __init__(self, params, loss='mean_squared_error'):\n",
    "        super().__init__(params)\n",
    "        self.model_fit = self._build_model_fit()\n",
    "        self.model_predict = self._build_model_predict()\n",
    "        # self.compile_model()\n",
    "\n",
    "    def _build_model_fit(self, return_sequences=False):\n",
    "        inputs = tf.keras.Input(batch_shape=self.params['batch_shape'])\n",
    "        x = inputs\n",
    "        for i in range(self.params['rnn_layers']):\n",
    "            x = tf.keras.layers.SimpleRNN(self.params['rnn_units'],activation=self.params['activation'][0],\n",
    "                  stateful=self.params['stateful'],return_sequences=return_sequences)(x)\n",
    "        for i in range(self.params['dense_layers']):\n",
    "            x = tf.keras.layers.Dense(self.params['dense_units'], activation=self.params['activation'][1])(x)\n",
    "        model = tf.keras.Model(inputs=inputs, outputs=x)\n",
    "        model.compile(loss='mean_squared_error', optimizer='adam')\n",
    "        if self.params[\"verbose_weights\"]:\n",
    "            print(f\"Initial Weights Hash: {hash2(model.get_weights())}\")\n",
    "        \n",
    "        return model\n",
    "    def _build_model_predict(self, return_sequences=True):\n",
    "        \n",
    "        inputs = tf.keras.Input(shape=self.params['pred_input_shape'])\n",
    "        x = inputs\n",
    "        for i in range(self.params['rnn_layers']):\n",
    "            x = tf.keras.layers.SimpleRNN(self.params['rnn_units'],activation=self.params['activation'][0],\n",
    "                  stateful=False,return_sequences=return_sequences)(x)\n",
    "        for i in range(self.params['dense_layers']):\n",
    "            x = tf.keras.layers.Dense(self.params['dense_units'], activation=self.params['activation'][1])(x)\n",
    "        model = tf.keras.Model(inputs=inputs, outputs=x)\n",
    "        model.compile(loss='mean_squared_error', optimizer='adam')  \n",
    "\n",
    "        # Set Weights to model_fit\n",
    "        w_fitted = self.model_fit.get_weights()\n",
    "        model.set_weights(w_fitted)\n",
    "        \n",
    "        return model\n",
    "    # def compile_model(self):\n",
    "    #     optimizer=tf.keras.optimizers.Adam(learning_rate=self.params['learning_rate'])\n",
    "    #     self.model.compile(optimizer=optimizer,\n",
    "    #                        loss='mean_squared_error',\n",
    "    #                        metrics=self.params.get('metrics', ['accuracy']))\n",
    "    def fit(self, X_train, y_train, plot=True, weights=None, callbacks=[], verbose_fit=None):\n",
    "        # verbose_fit argument is for printing out update after each epoch, which gets very long\n",
    "        # These print statements at the top could be turned off with a verbose argument, but then\n",
    "        # there would be a bunch of different verbose params\n",
    "        print(f\"Training simple RNN with params: {self.params}\")\n",
    "        print(f\"X_train hash: {hash2(X_train)}\")\n",
    "        print(f\"y_train hash: {hash2(y_train)}\")\n",
    "        print(f\"Initial weights before training hash: {hash2(self.model_fit.get_weights())}\")\n",
    "        # reproducibility.set_seed()\n",
    "        # Note: we overload the params here so that verbose_fit can be easily turned on/off at the .fit call \n",
    "        if verbose_fit is None:\n",
    "            verbose_fit = self.params['verbose_fit']\n",
    "        # Evaluate Model once to set nonzero initial state\n",
    "        if self.params[\"batch_size\"]>= X_train.shape[0]:\n",
    "            self.model_fit(X_train)\n",
    "        # Fit Model\n",
    "        history = self.model_fit.fit(\n",
    "            X_train, y_train+self.params['centering'][1], \n",
    "            epochs=self.params['epochs'], \n",
    "            batch_size=self.params['batch_size'],\n",
    "            callbacks = callbacks,\n",
    "            verbose=verbose_fit)\n",
    "        if plot:\n",
    "            self.plot_history(history)\n",
    "        if self.params[\"verbose_weights\"]:\n",
    "            print(f\"Fitted Weights Hash: {hash2(self.model_fit.get_weights())}\")\n",
    "\n",
    "        # Update Weights for Prediction Model\n",
    "        w_fitted = self.model_fit.get_weights()\n",
    "        self.model_predict.set_weights(w_fitted)\n",
    "    def predict(self, X_test):\n",
    "        print(\"Predicting with simple RNN\")\n",
    "        preds = self.model_predict.predict(X_test)\n",
    "        return preds\n",
    "    def plot_history(self, history):\n",
    "        plt.semilogy(history.history['loss'], label='Training loss')\n",
    "        if 'val_loss' in history.history:\n",
    "            plt.semilogy(history.history['val_loss'], label='Validation loss')\n",
    "        plt.title(case + ' Model loss')\n",
    "        plt.ylabel('Loss')\n",
    "        plt.xlabel('Epoch')\n",
    "        plt.legend(loc='upper left')\n",
    "        plt.show()\n"
   ]
  },
  {
   "cell_type": "code",
   "execution_count": null,
   "id": "106ef31c-c8fc-49e6-bbb8-dbcec4495527",
   "metadata": {},
   "outputs": [],
   "source": [
    "import yaml\n",
    "\n",
    "with open(\"params.yaml\") as file:\n",
    "    params = yaml.safe_load(file)[\"rnn\"]\n",
    "\n",
    "params.update({\n",
    "    'dropout': [0, 0], # NOTE: length must match total number of layers, default is 1 hidden recurrent layer and 1 dense output layer\n",
    "    'recurrent_dropout': 0, # Length must match number of recurrent layers\n",
    "})"
   ]
  },
  {
   "cell_type": "code",
   "execution_count": null,
   "id": "bc3e7dd7-a4de-4d2d-818f-70259122fc3e",
   "metadata": {},
   "outputs": [],
   "source": [
    "N = len(repro[case][\"fm\"]) # total observations\n",
    "# train_ind = int(N*.8) # index of train/val split\n",
    "train_ind = repro[case]['h2']\n",
    "# test_ind = int(N*.9) # index of train/test split\n",
    "# test_ind = 500\n",
    "\n",
    "X = np.vstack((repro[case][\"Ed\"], repro[case][\"Ew\"])).T\n",
    "y = repro[case][\"fm\"]\n",
    "\n",
    "X_train = X[:train_ind]\n",
    "# X_val = X[train_ind:test_ind]\n",
    "X_test = X[train_ind:]\n",
    "y_train = y[:train_ind].reshape(-1,1)\n",
    "# y_val = y[train_ind:test_ind].reshape(-1,1)\n",
    "y_test = y[train_ind:].reshape(-1,1)\n",
    "\n",
    "print(f\"Total Observations: {N}\")\n",
    "print(f\"Num Training: {X_train.shape[0]}\")\n",
    "# print(f\"Num Validation: {X_val.shape[0]}\")\n",
    "print(f\"Num Test: {X_test.shape[0]}\")"
   ]
  },
  {
   "cell_type": "code",
   "execution_count": null,
   "id": "e6affcb1-7d43-4cd4-b4a5-ec5c43e2833d",
   "metadata": {},
   "outputs": [],
   "source": [
    "from moisture_rnn import staircase\n",
    "X_train, y_train = staircase(X_train, y_train, timesteps = params[\"timesteps\"], datapoints = len(y_train), verbose=True)\n",
    "print(\"~\"*50)\n",
    "# X_val, y_val = staircase(X_val, y_val, timesteps = params[\"timesteps\"], datapoints = len(y_val))\n",
    "# print(\"~\"*50)\n",
    "# X_test, y_test = staircase(X_test, y_test, timesteps = params[\"timesteps\"], datapoints = len(y_test), verbose=True)\n",
    "phours, features = X_test.shape\n",
    "X_test = np.reshape(X_test,(1, phours, features))\n",
    "print(f\"X_test shape: {X_test.shape}\")"
   ]
  },
  {
   "cell_type": "code",
   "execution_count": null,
   "id": "88c38da9-47ac-43cc-b5d8-a3dbd3d9fee8",
   "metadata": {},
   "outputs": [],
   "source": [
    "samples, timesteps, features = X_train.shape\n",
    "batch_size = samples # Single batch for testing\n",
    "\n",
    "params.update({\n",
    "    'batch_shape': (batch_size,timesteps,features),\n",
    "    'batch_size': batch_size, # Single Batch for testing\n",
    "    'pred_input_shape': (X.shape[0], X.shape[1]),\n",
    "    'epochs': 5000,\n",
    "    'stateful': True\n",
    "})"
   ]
  },
  {
   "cell_type": "code",
   "execution_count": null,
   "id": "920ae417-d6f8-4a36-a593-caeebdb5e8cc",
   "metadata": {},
   "outputs": [],
   "source": [
    "reproducibility.set_seed()\n",
    "rnn = RNN(params)"
   ]
  },
  {
   "cell_type": "code",
   "execution_count": null,
   "id": "3dcfc7a9-6e56-468d-bdc6-4edbf9f1ede4",
   "metadata": {},
   "outputs": [],
   "source": [
    "m = rnn.predict(np.reshape(X,(1, X.shape[0], features)))"
   ]
  },
  {
   "cell_type": "code",
   "execution_count": null,
   "id": "944028a6-5fb8-499d-8eac-b221bedb4f47",
   "metadata": {},
   "outputs": [],
   "source": [
    "hash2(m)"
   ]
  },
  {
   "cell_type": "code",
   "execution_count": null,
   "id": "3ee49a9d-51d7-4962-b35f-c94c730d11d1",
   "metadata": {},
   "outputs": [],
   "source": [
    "rnn.fit(X_train, y_train, verbose_fit=False)"
   ]
  },
  {
   "cell_type": "code",
   "execution_count": null,
   "id": "b9690225-b30d-4a9b-8366-861d3a650524",
   "metadata": {},
   "outputs": [],
   "source": [
    "preds = rnn.predict(np.reshape(X,(1, X.shape[0], features)))"
   ]
  },
  {
   "cell_type": "code",
   "execution_count": null,
   "id": "973d3288-eb2b-4155-a2fd-622c759ef0a6",
   "metadata": {},
   "outputs": [],
   "source": [
    "from sklearn.metrics import mean_squared_error\n",
    "\n",
    "np.sqrt(mean_squared_error(preds.flatten(), y.flatten()))"
   ]
  },
  {
   "cell_type": "markdown",
   "id": "cf248365-2b11-4f86-8fa4-5d18cbf27ee8",
   "metadata": {},
   "source": [
    "## Stateful Batch Training"
   ]
  },
  {
   "cell_type": "code",
   "execution_count": null,
   "id": "0b3675ad-f7d9-46e1-ad60-7ad5432699ec",
   "metadata": {},
   "outputs": [],
   "source": [
    "from moisture_rnn import create_rnn_data, RNN\n",
    "import logging\n",
    "from utils import logging_setup\n",
    "logging_setup()"
   ]
  },
  {
   "cell_type": "code",
   "execution_count": null,
   "id": "12604830-a0ff-40fe-9a05-ee19cc470e10",
   "metadata": {},
   "outputs": [],
   "source": [
    "reproducibility_file='data/reproducibility_dict2.pickle'\n",
    "\n",
    "repro={}\n",
    "repro.update(load_and_fix_data(reproducibility_file))\n",
    "print_dict_summary(repro)"
   ]
  },
  {
   "cell_type": "code",
   "execution_count": null,
   "id": "024ea0f7-3574-4cc2-81d2-ad2af74b9ec9",
   "metadata": {},
   "outputs": [],
   "source": [
    "import yaml\n",
    "\n",
    "with open(\"params.yaml\") as file:\n",
    "    params = yaml.safe_load(file)[\"rnn\"]\n",
    "params.update({'scale': 1})\n",
    "params"
   ]
  },
  {
   "cell_type": "code",
   "execution_count": null,
   "id": "21ed1f73-885c-43c3-8869-0877b06f8ad5",
   "metadata": {},
   "outputs": [],
   "source": [
    "rnn_dat = create_rnn_data(repro[\"reproducibility\"], params)"
   ]
  },
  {
   "cell_type": "code",
   "execution_count": null,
   "id": "41a62222-9771-4b7a-b508-b82f4b38b46c",
   "metadata": {},
   "outputs": [],
   "source": [
    "# Update Params for Reproducibility\n",
    "\n",
    "params.update({\n",
    "    'epochs':200,\n",
    "    'dropout': [0, 0], # NOTE: length must match total number of layers, default is 1 hidden recurrent layer and 1 dense output layer\n",
    "    'recurrent_dropout': 0, # Length must match number of recurrent layers    \n",
    "    'rnn_units': 20\n",
    "})"
   ]
  },
  {
   "cell_type": "code",
   "execution_count": null,
   "id": "fc961d9e-2e66-472f-8fe4-ec0e888d1b04",
   "metadata": {},
   "outputs": [],
   "source": [
    "reproducibility.set_seed()\n",
    "rnn = RNN(params)"
   ]
  },
  {
   "cell_type": "code",
   "execution_count": null,
   "id": "080b491f-48ab-4592-8d73-2fbd5ccb82b4",
   "metadata": {},
   "outputs": [],
   "source": [
    "rnn.fit(rnn_dat[\"X_train\"], rnn_dat[\"y_train\"])\n",
    "# rnn.fit(X_train, y_train)"
   ]
  },
  {
   "cell_type": "code",
   "execution_count": null,
   "id": "882a1902-cdee-46bb-a8de-762465df03cd",
   "metadata": {},
   "outputs": [],
   "source": [
    "# preds = rnn.predict(np.reshape(X,(1, X.shape[0], features)))\n",
    "print(hash2(rnn_dat['X']))\n",
    "print(hash2(rnn_dat['y']))\n",
    "preds = rnn.predict(rnn_dat['X'])\n",
    "rmse(preds, rnn_dat['y'])"
   ]
  },
  {
   "cell_type": "code",
   "execution_count": null,
   "id": "b9cae53e-2130-4cba-9fc7-901747b6349e",
   "metadata": {},
   "outputs": [],
   "source": [
    "reproducibility.set_seed()\n",
    "rnn = RNN(params)\n",
    "rnn.run_model(rnn_dat)"
   ]
  },
  {
   "cell_type": "code",
   "execution_count": null,
   "id": "80466af6-a786-483d-8c61-7214a8dd0b67",
   "metadata": {},
   "outputs": [],
   "source": []
  },
  {
   "cell_type": "markdown",
   "id": "fd8f1b91-80db-4086-a44d-4bcc695466e4",
   "metadata": {},
   "source": [
    "---\n",
    "\n",
    "## New Developments"
   ]
  },
  {
   "cell_type": "markdown",
   "id": "fb3c3a94-e3ff-4efe-98f6-f29896cc1066",
   "metadata": {},
   "source": [
    "## Other Hyperparams"
   ]
  },
  {
   "cell_type": "code",
   "execution_count": null,
   "id": "0db3fe44-e056-49c5-88ac-00b1c43f3beb",
   "metadata": {},
   "outputs": [],
   "source": [
    "params.update({\n",
    "    'activation': ['sigmoid', 'relu'], # Length must match total number of layers\n",
    "    'dropout': [0.2, 0.2], # NOTE: length must match total number of layers, default is 1 hidden recurrent layer and 1 dense output layer\n",
    "    'recurrent_dropout': 0.2, # Length must match number of recurrent layers\n",
    "})"
   ]
  },
  {
   "cell_type": "code",
   "execution_count": null,
   "id": "78ccebaf-7ea4-465a-9af9-5bc3aad7cb25",
   "metadata": {},
   "outputs": [],
   "source": [
    "reproducibility.set_seed()\n",
    "rnn = RNN(params)"
   ]
  },
  {
   "cell_type": "code",
   "execution_count": null,
   "id": "70787b72-bbef-4774-919a-2fc725fbb6d7",
   "metadata": {},
   "outputs": [],
   "source": [
    "rnn.fit(rnn_dat[\"X_train\"], rnn_dat[\"y_train\"], verbose_fit=False)"
   ]
  },
  {
   "cell_type": "code",
   "execution_count": null,
   "id": "03afe3c9-480f-4e36-bd1f-f30a35927441",
   "metadata": {},
   "outputs": [],
   "source": [
    "preds = rnn.predict(rnn_dat[\"X\"])\n",
    "# np.sqrt(mean_squared_error(preds.flatten(), rnn_dat[\"y\"].flatten())\n",
    "rmse(preds, rnn_dat[\"y\"])"
   ]
  },
  {
   "cell_type": "markdown",
   "id": "6bc0e50e-5a34-42e7-9ae0-0ac688408e3a",
   "metadata": {},
   "source": [
    "## Validation Error"
   ]
  },
  {
   "cell_type": "code",
   "execution_count": null,
   "id": "6bb62317-707c-47a2-8a54-6c7276ae7d91",
   "metadata": {},
   "outputs": [],
   "source": [
    "params.update({\n",
    "    'train_frac': 0.5,\n",
    "    'val_frac': 0.1\n",
    "})\n",
    "rnn_dat = create_rnn_data(repro[\"reproducibility\"], params)"
   ]
  },
  {
   "cell_type": "code",
   "execution_count": null,
   "id": "e36bc1bd-31af-4369-9e8f-801d61a9aa25",
   "metadata": {},
   "outputs": [],
   "source": [
    "reproducibility.set_seed()\n",
    "rnn = RNN(params)\n",
    "rnn.fit(rnn_dat[\"X_train\"], rnn_dat[\"y_train\"], validation_data = (rnn_dat[\"X_val\"], rnn_dat[\"y_val\"]))"
   ]
  },
  {
   "cell_type": "code",
   "execution_count": null,
   "id": "d929cf6f-3e5e-4e06-85d0-d681a64e4a18",
   "metadata": {},
   "outputs": [],
   "source": [
    "preds = rnn.predict(rnn_dat[\"X\"])\n",
    "np.sqrt(mean_squared_error(preds.flatten(), rnn_dat[\"y\"].flatten()))"
   ]
  },
  {
   "cell_type": "code",
   "execution_count": null,
   "id": "5d7b172a-1f51-4346-a088-cbbbfcb56c13",
   "metadata": {},
   "outputs": [],
   "source": []
  },
  {
   "cell_type": "code",
   "execution_count": null,
   "id": "2ee11823-a3e1-406a-85b7-3085aa685318",
   "metadata": {},
   "outputs": [],
   "source": []
  },
  {
   "cell_type": "code",
   "execution_count": null,
   "id": "39ac96e3-4e6b-4ca3-b185-b18f04fbb764",
   "metadata": {},
   "outputs": [],
   "source": []
  },
  {
   "cell_type": "code",
   "execution_count": null,
   "id": "426c27f1-03e4-4605-be93-1f25d6b20a2b",
   "metadata": {},
   "outputs": [],
   "source": []
  },
  {
   "cell_type": "code",
   "execution_count": null,
   "id": "ee5c5a28-be6c-447e-9e8f-176ee16748e1",
   "metadata": {},
   "outputs": [],
   "source": []
  }
 ],
 "metadata": {
  "kernelspec": {
   "display_name": "Python 3 (ipykernel)",
   "language": "python",
   "name": "python3"
  },
  "language_info": {
   "codemirror_mode": {
    "name": "ipython",
    "version": 3
   },
   "file_extension": ".py",
   "mimetype": "text/x-python",
   "name": "python",
   "nbconvert_exporter": "python",
   "pygments_lexer": "ipython3",
   "version": "3.9.12"
  }
 },
 "nbformat": 4,
 "nbformat_minor": 5
}
