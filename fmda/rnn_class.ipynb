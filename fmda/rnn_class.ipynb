{
 "cells": [
  {
   "cell_type": "code",
   "execution_count": null,
   "id": "8b71194e-c5f8-488c-94d4-64b480805d44",
   "metadata": {},
   "outputs": [],
   "source": [
    "# Environment\n",
    "import numpy as np\n",
    "import pandas as pd\n",
    "import tensorflow as tf\n",
    "import matplotlib.pyplot as plt\n",
    "import sys\n",
    "# Local modules\n",
    "sys.path.append('..')\n",
    "import reproducibility\n",
    "from utils import print_dict_summary\n",
    "from data_funcs import load_and_fix_data, rmse\n",
    "from abc import ABC, abstractmethod\n",
    "from tensorflow.keras.callbacks import Callback\n",
    "from sklearn.metrics import mean_squared_error\n",
    "from utils import hash2"
   ]
  },
  {
   "cell_type": "code",
   "execution_count": null,
   "id": "040a3833-210e-4625-b101-6f33c484b127",
   "metadata": {},
   "outputs": [],
   "source": [
    "reproducibility_file='version_control/reproducibility_dict0.pickle'\n",
    "\n",
    "repro={}\n",
    "repro.update(load_and_fix_data(reproducibility_file))\n",
    "print_dict_summary(repro)\n",
    "\n",
    "case = 'case11'\n",
    "case_data=repro[case]\n",
    "case_data[\"h2\"]=300"
   ]
  },
  {
   "cell_type": "markdown",
   "id": "cf248365-2b11-4f86-8fa4-5d18cbf27ee8",
   "metadata": {},
   "source": [
    "## Stateful Batch Training"
   ]
  },
  {
   "cell_type": "code",
   "execution_count": null,
   "id": "0b3675ad-f7d9-46e1-ad60-7ad5432699ec",
   "metadata": {},
   "outputs": [],
   "source": [
    "from moisture_rnn import RNN, create_rnn_data2\n",
    "import logging\n",
    "from utils import logging_setup\n",
    "from moisture_rnn_pkl import pkl2train\n",
    "logging_setup()"
   ]
  },
  {
   "cell_type": "code",
   "execution_count": null,
   "id": "8f8df5cb-64f5-4a61-9aba-d4fc44751610",
   "metadata": {},
   "outputs": [],
   "source": [
    "reproducibility_file='data/reproducibility_dict2.pickle'\n",
    "train = pkl2train([reproducibility_file])"
   ]
  },
  {
   "cell_type": "code",
   "execution_count": null,
   "id": "024ea0f7-3574-4cc2-81d2-ad2af74b9ec9",
   "metadata": {},
   "outputs": [],
   "source": [
    "import yaml\n",
    "\n",
    "with open(\"params.yaml\") as file:\n",
    "    params = yaml.safe_load(file)[\"rnn_repro\"]\n",
    "params"
   ]
  },
  {
   "cell_type": "code",
   "execution_count": null,
   "id": "21ed1f73-885c-43c3-8869-0877b06f8ad5",
   "metadata": {},
   "outputs": [],
   "source": [
    "\n",
    "rnn_dat = create_rnn_data2(train[\"reproducibility\"], params)"
   ]
  },
  {
   "cell_type": "code",
   "execution_count": null,
   "id": "41a62222-9771-4b7a-b508-b82f4b38b46c",
   "metadata": {},
   "outputs": [],
   "source": [
    "# Update Params for Reproducibility\n",
    "\n",
    "params.update({\n",
    "    'epochs':200,\n",
    "    'dropout': [0, 0], # NOTE: length must match total number of layers, default is 1 hidden recurrent layer and 1 dense output layer\n",
    "    'recurrent_dropout': 0, # Length must match number of recurrent layers    \n",
    "    'rnn_units': 20\n",
    "})"
   ]
  },
  {
   "cell_type": "code",
   "execution_count": null,
   "id": "fc961d9e-2e66-472f-8fe4-ec0e888d1b04",
   "metadata": {},
   "outputs": [],
   "source": [
    "reproducibility.set_seed()\n",
    "rnn = RNN(params)"
   ]
  },
  {
   "cell_type": "code",
   "execution_count": null,
   "id": "080b491f-48ab-4592-8d73-2fbd5ccb82b4",
   "metadata": {},
   "outputs": [],
   "source": [
    "rnn.fit(rnn_dat[\"X_train\"], rnn_dat[\"y_train\"])\n",
    "# rnn.fit(X_train, y_train)"
   ]
  },
  {
   "cell_type": "code",
   "execution_count": null,
   "id": "882a1902-cdee-46bb-a8de-762465df03cd",
   "metadata": {},
   "outputs": [],
   "source": [
    "# preds = rnn.predict(np.reshape(X,(1, X.shape[0], features)))\n",
    "print(hash2(rnn_dat['X']))\n",
    "print(hash2(rnn_dat['y']))\n",
    "preds = rnn.predict(rnn_dat['X'])\n",
    "rmse(preds, rnn_dat['y'])"
   ]
  },
  {
   "cell_type": "code",
   "execution_count": null,
   "id": "b9cae53e-2130-4cba-9fc7-901747b6349e",
   "metadata": {},
   "outputs": [],
   "source": [
    "reproducibility.set_seed()\n",
    "rnn = RNN(params)\n",
    "rnn.run_model(rnn_dat)"
   ]
  },
  {
   "cell_type": "markdown",
   "id": "9d61b952-dbf8-4935-b795-974d9d5d6bbf",
   "metadata": {},
   "source": [
    "## Physics Initialized"
   ]
  },
  {
   "cell_type": "code",
   "execution_count": null,
   "id": "80466af6-a786-483d-8c61-7214a8dd0b67",
   "metadata": {},
   "outputs": [],
   "source": []
  },
  {
   "cell_type": "markdown",
   "id": "fd8f1b91-80db-4086-a44d-4bcc695466e4",
   "metadata": {},
   "source": [
    "---\n",
    "\n",
    "## New Developments"
   ]
  },
  {
   "cell_type": "markdown",
   "id": "fb3c3a94-e3ff-4efe-98f6-f29896cc1066",
   "metadata": {},
   "source": [
    "### Other Hyperparams"
   ]
  },
  {
   "cell_type": "code",
   "execution_count": null,
   "id": "0db3fe44-e056-49c5-88ac-00b1c43f3beb",
   "metadata": {},
   "outputs": [],
   "source": [
    "params.update({\n",
    "    'activation': ['sigmoid', 'relu'], # Length must match total number of layers\n",
    "    'dropout': [0.2, 0.2], # NOTE: length must match total number of layers, default is 1 hidden recurrent layer and 1 dense output layer\n",
    "    'recurrent_dropout': 0.2, # Length must match number of recurrent layers\n",
    "    'learning_rate': 0.003,\n",
    "    'rnn_units': 9,\n",
    "    'epochs': 100\n",
    "})"
   ]
  },
  {
   "cell_type": "code",
   "execution_count": null,
   "id": "78ccebaf-7ea4-465a-9af9-5bc3aad7cb25",
   "metadata": {},
   "outputs": [],
   "source": [
    "reproducibility.set_seed()\n",
    "rnn = RNN(params)"
   ]
  },
  {
   "cell_type": "code",
   "execution_count": null,
   "id": "70787b72-bbef-4774-919a-2fc725fbb6d7",
   "metadata": {},
   "outputs": [],
   "source": [
    "rnn.fit(rnn_dat[\"X_train\"], rnn_dat[\"y_train\"], verbose_fit=False)"
   ]
  },
  {
   "cell_type": "code",
   "execution_count": null,
   "id": "03afe3c9-480f-4e36-bd1f-f30a35927441",
   "metadata": {},
   "outputs": [],
   "source": [
    "preds = rnn.predict(rnn_dat[\"X\"])\n",
    "# np.sqrt(mean_squared_error(preds.flatten(), rnn_dat[\"y\"].flatten())\n",
    "rmse(preds, rnn_dat[\"y\"])"
   ]
  },
  {
   "cell_type": "markdown",
   "id": "6bc0e50e-5a34-42e7-9ae0-0ac688408e3a",
   "metadata": {},
   "source": [
    "### Validation Error"
   ]
  },
  {
   "cell_type": "code",
   "execution_count": null,
   "id": "6bb62317-707c-47a2-8a54-6c7276ae7d91",
   "metadata": {},
   "outputs": [],
   "source": [
    "params.update({\n",
    "    'train_frac': 0.5,\n",
    "    'val_frac': 0.1\n",
    "})\n",
    "rnn_dat = create_rnn_data2(train[\"reproducibility\"], params)"
   ]
  },
  {
   "cell_type": "code",
   "execution_count": null,
   "id": "e36bc1bd-31af-4369-9e8f-801d61a9aa25",
   "metadata": {},
   "outputs": [],
   "source": [
    "reproducibility.set_seed()\n",
    "rnn = RNN(params)\n",
    "rnn.fit(rnn_dat[\"X_train\"], rnn_dat[\"y_train\"], validation_data = (rnn_dat[\"X_val\"], rnn_dat[\"y_val\"]))"
   ]
  },
  {
   "cell_type": "code",
   "execution_count": null,
   "id": "e2fa46fd-4c08-4f92-96cf-e7ca3ff8b320",
   "metadata": {},
   "outputs": [],
   "source": [
    "import importlib\n",
    "import moisture_rnn\n",
    "importlib.reload(moisture_rnn)\n",
    "from moisture_rnn import RNN"
   ]
  },
  {
   "cell_type": "code",
   "execution_count": null,
   "id": "e534f3a6-faf6-4ce6-9f5f-b88af5928ec6",
   "metadata": {},
   "outputs": [],
   "source": [
    "reproducibility.set_seed()\n",
    "rnn = RNN(params)\n",
    "rnn.run_model(rnn_dat)"
   ]
  },
  {
   "cell_type": "code",
   "execution_count": null,
   "id": "2ee11823-a3e1-406a-85b7-3085aa685318",
   "metadata": {},
   "outputs": [],
   "source": []
  }
 ],
 "metadata": {
  "kernelspec": {
   "display_name": "Python 3 (ipykernel)",
   "language": "python",
   "name": "python3"
  },
  "language_info": {
   "codemirror_mode": {
    "name": "ipython",
    "version": 3
   },
   "file_extension": ".py",
   "mimetype": "text/x-python",
   "name": "python",
   "nbconvert_exporter": "python",
   "pygments_lexer": "ipython3",
   "version": "3.10.13"
  }
 },
 "nbformat": 4,
 "nbformat_minor": 5
}
