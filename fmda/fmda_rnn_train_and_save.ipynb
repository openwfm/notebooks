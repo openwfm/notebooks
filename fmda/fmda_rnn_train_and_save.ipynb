{
 "cells": [
  {
   "cell_type": "markdown",
   "id": "83b774b3-ef55-480a-b999-506676e49145",
   "metadata": {},
   "source": [
    "# v2.1 run RNN with Spatial Training\n",
    "\n",
    "This notebook is intended to set up a test where the RNN is run serial by location and compared to the spatial training scheme. Additionally, the ODE model with the augmented KF will be run as a comparison, but note that the RNN models will be predicting entirely without knowledge of the heldout locations, while the augmented KF will be run directly on the test locations.\n"
   ]
  },
  {
   "cell_type": "markdown",
   "id": "bbd84d61-a9cd-47b4-b538-4986fb10b98d",
   "metadata": {},
   "source": [
    "## Environment Setup"
   ]
  },
  {
   "cell_type": "code",
   "execution_count": null,
   "id": "83cc1dc4-3dcb-4325-9263-58101a3dc378",
   "metadata": {},
   "outputs": [],
   "source": [
    "import numpy as np\n",
    "from utils import print_dict_summary, print_first, str2time, logging_setup\n",
    "import pickle\n",
    "import logging\n",
    "import os.path as osp\n",
    "from moisture_rnn_pkl import pkl2train\n",
    "from moisture_rnn import RNNParams, RNNData, RNN \n",
    "from utils import hash2, read_yml, read_pkl, retrieve_url, Dict\n",
    "from moisture_rnn import RNN\n",
    "import reproducibility\n",
    "from data_funcs import rmse, to_json, combine_nested, subset_by_features, process_train_dict\n",
    "from moisture_models import run_augmented_kf\n",
    "import copy\n",
    "import pandas as pd\n",
    "import matplotlib.pyplot as plt\n",
    "import yaml\n",
    "import time"
   ]
  },
  {
   "cell_type": "code",
   "execution_count": null,
   "id": "17db9b90-a931-4674-a447-5b8ffbcdc86a",
   "metadata": {},
   "outputs": [],
   "source": [
    "logging_setup()"
   ]
  },
  {
   "cell_type": "code",
   "execution_count": null,
   "id": "35319c1c-7849-4b8c-8262-f5aa6656e0c7",
   "metadata": {},
   "outputs": [],
   "source": [
    "retrieve_url(\n",
    "    url = \"https://demo.openwfm.org/web/data/fmda/dicts/raws_rocky_202305-202405.pkl.pkl\", \n",
    "    dest_path = \"data/raws_rocky_202305-202405.pkl\")"
   ]
  },
  {
   "cell_type": "code",
   "execution_count": null,
   "id": "eabdbd9c-07d9-4bae-9851-cca79f321895",
   "metadata": {},
   "outputs": [],
   "source": [
    "file_paths = ['data/raws_rocky_202305-202405.pkl']"
   ]
  },
  {
   "cell_type": "code",
   "execution_count": null,
   "id": "dcca6185-e799-4dd1-8acb-87ad33c411d7",
   "metadata": {},
   "outputs": [],
   "source": [
    "# read/write control\n",
    "train_file='data/train.pkl'\n",
    "train_create=True   # if false, read\n",
    "train_write=False\n",
    "train_read=False"
   ]
  },
  {
   "cell_type": "code",
   "execution_count": null,
   "id": "604388de-11ab-45c3-9f0d-80bdff0cca60",
   "metadata": {},
   "outputs": [],
   "source": [
    "# Params used for data filtering\n",
    "params_data = read_yml(\"params_data.yaml\") \n",
    "params_data"
   ]
  },
  {
   "cell_type": "code",
   "execution_count": null,
   "id": "211a1c2f-ba8d-40b8-b29c-daa38af97a26",
   "metadata": {},
   "outputs": [],
   "source": [
    "# Params used for setting up RNN\n",
    "params = read_yml(\"params.yaml\", subkey='rnn') \n",
    "params"
   ]
  },
  {
   "cell_type": "code",
   "execution_count": null,
   "id": "38e6bc61-e123-4cc9-bdee-54b051bbb352",
   "metadata": {},
   "outputs": [],
   "source": [
    "feats = ['Ed', 'Ew', 'solar', 'wind', 'elev', 'lon', 'lat', 'rain']"
   ]
  },
  {
   "cell_type": "code",
   "execution_count": null,
   "id": "bc0a775b-b587-42ef-8576-e36dc0be3a75",
   "metadata": {
    "scrolled": true
   },
   "outputs": [],
   "source": [
    "if train_create:\n",
    "    params_data.update({'hours': 1440})\n",
    "    logging.info('creating the training cases from files %s',file_paths)\n",
    "    # osp.join works on windows too, joins paths using \\ or /\n",
    "    train = process_train_dict(file_paths, atm_dict = \"RAWS\", params_data = params_data, verbose=True)\n",
    "    train = subset_by_features(train, feats)\n",
    "    train = combine_nested(train)\n",
    "if train_write:\n",
    "    with open(train_file, 'wb') as file:\n",
    "        logging.info('Writing the rain cases into file %s',train_file)\n",
    "        pickle.dump(train, file)\n",
    "if train_read:\n",
    "    logging.info('Reading the train cases from file %s',train_file)\n",
    "    train = read_pkl(train_file)"
   ]
  },
  {
   "cell_type": "code",
   "execution_count": null,
   "id": "23cd60c0-9865-4314-9a96-948c3d400c08",
   "metadata": {},
   "outputs": [],
   "source": [
    "from itertools import islice\n",
    "train = {k: train[k] for k in islice(train, 500)}"
   ]
  },
  {
   "cell_type": "markdown",
   "id": "a24d76fc-6c25-43e7-99df-3cd5dbf84fc3",
   "metadata": {},
   "source": [
    "## Spatial Data Training\n",
    "\n",
    "This method combines the training timeseries data into a single 3-d array, with timeseries at the same location arranged appropriately in the right order for a given `batch_size` hyperparameter. The hidden state of the recurrent layers are set up reset when the location changes. "
   ]
  },
  {
   "cell_type": "code",
   "execution_count": null,
   "id": "36823193-b93c-421e-b699-8c1ae5719309",
   "metadata": {},
   "outputs": [],
   "source": [
    "reproducibility.set_seed(123)"
   ]
  },
  {
   "cell_type": "code",
   "execution_count": null,
   "id": "66f40c9f-c1c2-4b12-bf14-2ada8c26113d",
   "metadata": {},
   "outputs": [],
   "source": [
    "params = RNNParams(params)\n",
    "params.update({'epochs': 200, \n",
    "               'learning_rate': 0.001,\n",
    "               'activation': ['relu', 'relu'], # Activation for RNN Layers, Dense layers respectively.\n",
    "               'recurrent_layers': 1, 'recurrent_units': 30, \n",
    "               'dense_layers': 1, 'dense_units': 30,\n",
    "               'early_stopping_patience': 30, # how many epochs of no validation accuracy gain to wait before stopping\n",
    "               'batch_schedule_type': 'exp', # Hidden state batch reset schedule\n",
    "               'bmin': 20, # Lower bound of hidden state batch reset, \n",
    "               'bmax': params_data['hours'], # Upper bound of hidden state batch reset, using max hours\n",
    "               'features_list': feats\n",
    "              })"
   ]
  },
  {
   "cell_type": "code",
   "execution_count": null,
   "id": "faf93470-b55f-4770-9fa9-3288a2f13fcc",
   "metadata": {},
   "outputs": [],
   "source": [
    "# Combine Nested Dictionary into Spatial Data\n",
    "train_sp = Dict(train)"
   ]
  },
  {
   "cell_type": "code",
   "execution_count": null,
   "id": "c0c7f5fb-4c33-45f8-9a2e-38c9ab1cd4e3",
   "metadata": {},
   "outputs": [],
   "source": [
    "rnn_dat_sp = RNNData(\n",
    "    train_sp, # input dictionary\n",
    "    scaler=\"standard\",  # data scaling type\n",
    "    features_list = params['features_list'] # features for predicting outcome\n",
    ")\n",
    "\n",
    "\n",
    "rnn_dat_sp.train_test_split(   \n",
    "    time_fracs = [.8, .1, .1], # Percent of total time steps used for train/val/test\n",
    "    space_fracs = [.8, .1, .1] # Percent of total timeseries used for train/val/test\n",
    ")\n",
    "rnn_dat_sp.scale_data()\n",
    "\n",
    "rnn_dat_sp.batch_reshape(\n",
    "    timesteps = params['timesteps'], # Timesteps aka sequence length for RNN input data. \n",
    "    batch_size = params['batch_size'] # Number of samples of length timesteps for a single round of grad. descent\n",
    ")"
   ]
  },
  {
   "cell_type": "code",
   "execution_count": null,
   "id": "7431bc95-d384-40fd-a622-bbc0ee68e5cd",
   "metadata": {},
   "outputs": [],
   "source": [
    "# Update Params specific to spatial training\n",
    "params.update({\n",
    "    'loc_batch_reset': rnn_dat_sp.n_seqs # Used to reset hidden state when location changes for a given batch\n",
    "})"
   ]
  },
  {
   "cell_type": "code",
   "execution_count": null,
   "id": "4bc11474-fed8-47f2-b9cf-dfdda0d3d3b2",
   "metadata": {},
   "outputs": [],
   "source": [
    "rnn_sp = RNN(params)\n",
    "m_sp, errs = rnn_sp.run_model(rnn_dat_sp)"
   ]
  },
  {
   "cell_type": "code",
   "execution_count": null,
   "id": "704ad662-d81a-488d-be3d-e90bf775a5b8",
   "metadata": {},
   "outputs": [],
   "source": [
    "errs.mean()"
   ]
  },
  {
   "cell_type": "code",
   "execution_count": null,
   "id": "593705ad-be8b-43b6-b1b9-1472290a9b5b",
   "metadata": {},
   "outputs": [],
   "source": []
  },
  {
   "cell_type": "code",
   "execution_count": null,
   "id": "3d927e03-60c5-4005-820c-cccd224e0d91",
   "metadata": {},
   "outputs": [],
   "source": []
  },
  {
   "cell_type": "code",
   "execution_count": null,
   "id": "f333521f-c724-40bf-8c1c-32735aea52cc",
   "metadata": {},
   "outputs": [],
   "source": []
  },
  {
   "cell_type": "code",
   "execution_count": null,
   "id": "38ab08fb-ac97-45be-8907-6f9cd124243b",
   "metadata": {},
   "outputs": [],
   "source": []
  }
 ],
 "metadata": {
  "kernelspec": {
   "display_name": "Python 3 (ipykernel)",
   "language": "python",
   "name": "python3"
  },
  "language_info": {
   "codemirror_mode": {
    "name": "ipython",
    "version": 3
   },
   "file_extension": ".py",
   "mimetype": "text/x-python",
   "name": "python",
   "nbconvert_exporter": "python",
   "pygments_lexer": "ipython3",
   "version": "3.12.5"
  }
 },
 "nbformat": 4,
 "nbformat_minor": 5
}
