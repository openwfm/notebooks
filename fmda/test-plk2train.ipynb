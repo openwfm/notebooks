{
 "cells": [
  {
   "cell_type": "markdown",
   "id": "540bb001-bad1-4969-933f-5c3100060732",
   "metadata": {},
   "source": [
    "# v1 training on pkl data (April 2024 in Boise)"
   ]
  },
  {
   "cell_type": "code",
   "execution_count": null,
   "id": "83cc1dc4-3dcb-4325-9263-58101a3dc378",
   "metadata": {
    "tags": []
   },
   "outputs": [],
   "source": [
    "from utils import print_dict_summary, print_first, str2time, logging_setup\n",
    "import pickle\n",
    "import logging\n",
    "import os.path as osp\n",
    "from moisture_rnn_pkl import pkl2train, run_rnn_pkl\n",
    "from moisture_rnn import create_rnn_data_2 \n",
    "from utils import hash2"
   ]
  },
  {
   "cell_type": "code",
   "execution_count": null,
   "id": "17db9b90-a931-4674-a447-5b8ffbcdc86a",
   "metadata": {},
   "outputs": [],
   "source": [
    "logging_setup()"
   ]
  },
  {
   "cell_type": "code",
   "execution_count": null,
   "id": "eabdbd9c-07d9-4bae-9851-cca79f321895",
   "metadata": {},
   "outputs": [],
   "source": [
    "file_names=[\"reproducibility_dict2.pickle\",'test_NW_202401.pkl','test_CA_202401.pkl']\n",
    "file_dir='data'\n",
    "file_paths = [osp.join(file_dir,file_name) for file_name in file_names]"
   ]
  },
  {
   "cell_type": "code",
   "execution_count": null,
   "id": "dcca6185-e799-4dd1-8acb-87ad33c411d7",
   "metadata": {},
   "outputs": [],
   "source": [
    "# read/write control\n",
    "train_file='train.pkl'\n",
    "train_create=True   # if false, read\n",
    "train_write=True\n",
    "train_read=True"
   ]
  },
  {
   "cell_type": "code",
   "execution_count": null,
   "id": "62e31f16-d887-4552-bc2b-6024992c0a0b",
   "metadata": {},
   "outputs": [],
   "source": [
    "# print_dict_summary(train)"
   ]
  },
  {
   "cell_type": "code",
   "execution_count": null,
   "id": "bc0a775b-b587-42ef-8576-e36dc0be3a75",
   "metadata": {},
   "outputs": [],
   "source": [
    "if train_create:\n",
    "    logging.info('creating the training cases from files %s',file_paths)\n",
    "    # osp.join works on windows too, joins paths using \\ or /\n",
    "    train = pkl2train(file_paths)\n",
    "if train_write:\n",
    "    with open(train_file, 'wb') as file:\n",
    "        logging.info('Writing the rain cases into file %s',train_file)\n",
    "        pickle.dump(train, file)\n",
    "if train_read:\n",
    "    logging.info('Reading the train cases from file %s',train_file)\n",
    "    with open(train_file,'rb') as file:\n",
    "        train=pickle.load(file)"
   ]
  },
  {
   "cell_type": "code",
   "execution_count": null,
   "id": "698df86b-8550-4135-81df-45dbf503dd4e",
   "metadata": {},
   "outputs": [],
   "source": [
    "from module_param_sets import param_sets"
   ]
  },
  {
   "cell_type": "code",
   "execution_count": null,
   "id": "4b0c9a9b-dd02-4251-aa4a-2acc1101e153",
   "metadata": {},
   "outputs": [],
   "source": [
    "param_sets_keys=['0']\n",
    "cases=[list(train.keys())[0]]\n",
    "cases=list(train.keys())[0:10]\n",
    "cases"
   ]
  },
  {
   "cell_type": "code",
   "execution_count": null,
   "id": "dd22baf2-59d2-460e-8c47-b20116dd5982",
   "metadata": {},
   "outputs": [],
   "source": [
    "logging.info('Running over parameter sets %s',param_sets_keys)\n",
    "logging.info('Running over cases %s',cases)"
   ]
  },
  {
   "cell_type": "code",
   "execution_count": null,
   "id": "dc5b47bd-4fbc-44b8-b2dd-d118e068b450",
   "metadata": {},
   "outputs": [],
   "source": [
    "for i in param_sets_keys:\n",
    "    for case in cases:\n",
    "        logging.info('Processing case %s',case)\n",
    "        print_dict_summary(train[case])\n",
    "        logging.info('Misc fixes, change later')\n",
    "        param_sets[i]['initialize']=False\n",
    "        hours=train[case]['X'].shape[0]\n",
    "        train[case]['hours']=hours\n",
    "        train[case]['h2']   =hours     # not doing prediction yet                \n",
    "        train[case]['Y'] = train[case]['Y'].reshape(-1, 1)\n",
    "        print_dict_summary(train[case])\n",
    "        run_rnn_pkl(train[case],param_sets[i])"
   ]
  },
  {
   "cell_type": "code",
   "execution_count": null,
   "id": "15384e4d-b8ec-4700-bdc2-83b0433d11c9",
   "metadata": {},
   "outputs": [],
   "source": [
    "logging.info('test-plk2train.ipynb done')"
   ]
  },
  {
   "cell_type": "code",
   "execution_count": null,
   "id": "ad5dae6c-1269-4674-a49e-2efe8b956911",
   "metadata": {},
   "outputs": [],
   "source": []
  }
 ],
 "metadata": {
  "kernelspec": {
   "display_name": "Python 3 (ipykernel)",
   "language": "python",
   "name": "python3"
  },
  "language_info": {
   "codemirror_mode": {
    "name": "ipython",
    "version": 3
   },
   "file_extension": ".py",
   "mimetype": "text/x-python",
   "name": "python",
   "nbconvert_exporter": "python",
   "pygments_lexer": "ipython3",
   "version": "3.10.9"
  }
 },
 "nbformat": 4,
 "nbformat_minor": 5
}
