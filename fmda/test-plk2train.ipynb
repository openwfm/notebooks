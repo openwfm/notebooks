{
 "cells": [
  {
   "cell_type": "code",
   "execution_count": 1,
   "id": "83cc1dc4-3dcb-4325-9263-58101a3dc378",
   "metadata": {},
   "outputs": [
    {
     "name": "stderr",
     "output_type": "stream",
     "text": [
      "2024-04-14 16:05:32.939864: I tensorflow/core/platform/cpu_feature_guard.cc:193] This TensorFlow binary is optimized with oneAPI Deep Neural Network Library (oneDNN) to use the following CPU instructions in performance-critical operations:  AVX2 FMA\n",
      "To enable them in other operations, rebuild TensorFlow with the appropriate compiler flags.\n"
     ]
    }
   ],
   "source": [
    "from utils import print_dict_summary, print_first, str2time, logging_setup\n",
    "import pickle\n",
    "import os.path as osp\n",
    "from moisture_rnn import pkl2train"
   ]
  },
  {
   "cell_type": "code",
   "execution_count": 2,
   "id": "89e3ab9c-dfe0-4327-9ef6-0cd6f7afe1d4",
   "metadata": {},
   "outputs": [],
   "source": [
    "file_name='test_NW_202401.pkl'\n",
    "file_dir='data'"
   ]
  },
  {
   "cell_type": "code",
   "execution_count": 3,
   "id": "e0eea49b-bc80-4be0-9977-af5851d3256f",
   "metadata": {},
   "outputs": [],
   "source": [
    "file_name='test_CA_202401.pkl'\n",
    "file_dir='data'"
   ]
  },
  {
   "cell_type": "code",
   "execution_count": 4,
   "id": "70e99786-05b3-47a8-b305-31571babd46b",
   "metadata": {},
   "outputs": [],
   "source": [
    "file_path = osp.join(file_dir,file_name)"
   ]
  },
  {
   "cell_type": "code",
   "execution_count": 5,
   "id": "17db9b90-a931-4674-a447-5b8ffbcdc86a",
   "metadata": {},
   "outputs": [],
   "source": [
    "logging_setup()"
   ]
  },
  {
   "cell_type": "code",
   "execution_count": 6,
   "id": "4924a95d-e735-4f2a-9102-54dd3f9b5520",
   "metadata": {},
   "outputs": [
    {
     "name": "stderr",
     "output_type": "stream",
     "text": [
      "2024-04-14 16:05:37,703 - INFO - loading file data/test_CA_202401.pkl\n",
      "2024-04-14 16:05:37,735 - INFO - Processing subdictionary at key CNFC1_202401\n",
      "2024-04-14 16:05:37,739 - INFO - HRRR time array incremented by 1 hour\n",
      "2024-04-14 16:05:37,740 - INFO - Created features train[CNFC1_202401]['X'] shape (168, 8)\n",
      "2024-04-14 16:05:37,744 - INFO - Processing subdictionary at key CRVC1_202401\n",
      "2024-04-14 16:05:37,747 - INFO - HRRR time array incremented by 1 hour\n",
      "2024-04-14 16:05:37,748 - INFO - Created features train[CRVC1_202401]['X'] shape (168, 8)\n"
     ]
    },
    {
     "name": "stdout",
     "output_type": "stream",
     "text": [
      "RAWS.time length 168\n",
      "RAWS.fm length 168\n",
      "RAWS.time length 168\n",
      "RAWS.fm length 160\n"
     ]
    },
    {
     "ename": "ValueError",
     "evalue": "('Error: t1 and v1 have different lengths:', 168, 160)",
     "output_type": "error",
     "traceback": [
      "\u001b[0;31m---------------------------------------------------------------------------\u001b[0m",
      "\u001b[0;31mValueError\u001b[0m                                Traceback (most recent call last)",
      "Cell \u001b[0;32mIn[6], line 1\u001b[0m\n\u001b[0;32m----> 1\u001b[0m train \u001b[38;5;241m=\u001b[39m \u001b[43mpkl2train\u001b[49m\u001b[43m(\u001b[49m\u001b[43m[\u001b[49m\u001b[43mfile_path\u001b[49m\u001b[43m]\u001b[49m\u001b[43m)\u001b[49m\n",
      "File \u001b[0;32m~/Projects/fmda/notebooks/fmda/moisture_rnn.py:297\u001b[0m, in \u001b[0;36mpkl2train\u001b[0;34m(file_paths, fstep, fprev)\u001b[0m\n\u001b[1;32m    295\u001b[0m             \u001b[38;5;28mprint\u001b[39m(\u001b[38;5;124m'\u001b[39m\u001b[38;5;124mRAWS.fm length\u001b[39m\u001b[38;5;124m'\u001b[39m,\u001b[38;5;28mlen\u001b[39m(d[key][\u001b[38;5;124m'\u001b[39m\u001b[38;5;124mRAWS\u001b[39m\u001b[38;5;124m'\u001b[39m][\u001b[38;5;124m'\u001b[39m\u001b[38;5;124mfm\u001b[39m\u001b[38;5;124m'\u001b[39m]))\n\u001b[1;32m    296\u001b[0m             \u001b[38;5;66;03m# interpolate RAWS sensors to HRRR time and over NaNs\u001b[39;00m\n\u001b[0;32m--> 297\u001b[0m             train[key][\u001b[38;5;124m'\u001b[39m\u001b[38;5;124mY\u001b[39m\u001b[38;5;124m'\u001b[39m] \u001b[38;5;241m=\u001b[39m \u001b[43mtime_intp\u001b[49m\u001b[43m(\u001b[49m\u001b[43mraws_time\u001b[49m\u001b[43m,\u001b[49m\u001b[43md\u001b[49m\u001b[43m[\u001b[49m\u001b[43mkey\u001b[49m\u001b[43m]\u001b[49m\u001b[43m[\u001b[49m\u001b[38;5;124;43m'\u001b[39;49m\u001b[38;5;124;43mRAWS\u001b[39;49m\u001b[38;5;124;43m'\u001b[39;49m\u001b[43m]\u001b[49m\u001b[43m[\u001b[49m\u001b[38;5;124;43m'\u001b[39;49m\u001b[38;5;124;43mfm\u001b[39;49m\u001b[38;5;124;43m'\u001b[39;49m\u001b[43m]\u001b[49m\u001b[43m,\u001b[49m\u001b[43mhrrr_time\u001b[49m\u001b[43m)\u001b[49m\n\u001b[1;32m    299\u001b[0m \u001b[38;5;28;01mreturn\u001b[39;00m train\n",
      "File \u001b[0;32m~/Projects/fmda/notebooks/fmda/utils.py:180\u001b[0m, in \u001b[0;36mtime_intp\u001b[0;34m(t1, v1, t2)\u001b[0m\n\u001b[1;32m    178\u001b[0m \u001b[38;5;66;03m# Check if t1 and v1 have the same length\u001b[39;00m\n\u001b[1;32m    179\u001b[0m \u001b[38;5;28;01mif\u001b[39;00m \u001b[38;5;28mlen\u001b[39m(t1) \u001b[38;5;241m!=\u001b[39m \u001b[38;5;28mlen\u001b[39m(v1):\n\u001b[0;32m--> 180\u001b[0m     \u001b[38;5;28;01mraise\u001b[39;00m \u001b[38;5;167;01mValueError\u001b[39;00m(\u001b[38;5;124m\"\u001b[39m\u001b[38;5;124mError: t1 and v1 have different lengths:\u001b[39m\u001b[38;5;124m\"\u001b[39m,\u001b[38;5;28mlen\u001b[39m(t1),\u001b[38;5;28mlen\u001b[39m(v1))\n\u001b[1;32m    181\u001b[0m \u001b[38;5;66;03m# print('t1.dtype=',t1.dtype)\u001b[39;00m\n\u001b[1;32m    182\u001b[0m t1_no_nan, v1_no_nan \u001b[38;5;241m=\u001b[39m filter_nan_values(t1, v1)\n",
      "\u001b[0;31mValueError\u001b[0m: ('Error: t1 and v1 have different lengths:', 168, 160)"
     ]
    }
   ],
   "source": [
    "train = pkl2train([file_path])"
   ]
  },
  {
   "cell_type": "code",
   "execution_count": null,
   "id": "62e31f16-d887-4552-bc2b-6024992c0a0b",
   "metadata": {},
   "outputs": [],
   "source": [
    "print_dict_summary(train)"
   ]
  },
  {
   "cell_type": "code",
   "execution_count": null,
   "id": "b5a6b407-5872-46f9-8823-25c7a9803b9b",
   "metadata": {},
   "outputs": [],
   "source": [
    "print_dict_summary(dict,print_first=['time'])"
   ]
  },
  {
   "cell_type": "code",
   "execution_count": null,
   "id": "c2d62d94-f906-4a7d-950a-b616f3b6cb55",
   "metadata": {},
   "outputs": [],
   "source": []
  },
  {
   "cell_type": "code",
   "execution_count": null,
   "id": "490e700d-30e9-4b38-993f-edd59edf6f54",
   "metadata": {},
   "outputs": [],
   "source": []
  },
  {
   "cell_type": "code",
   "execution_count": null,
   "id": "2e876b3e-3839-4912-bf63-d56b8ea66b14",
   "metadata": {},
   "outputs": [],
   "source": []
  }
 ],
 "metadata": {
  "kernelspec": {
   "display_name": "Python 3 (ipykernel)",
   "language": "python",
   "name": "python3"
  },
  "language_info": {
   "codemirror_mode": {
    "name": "ipython",
    "version": 3
   },
   "file_extension": ".py",
   "mimetype": "text/x-python",
   "name": "python",
   "nbconvert_exporter": "python",
   "pygments_lexer": "ipython3",
   "version": "3.10.9"
  }
 },
 "nbformat": 4,
 "nbformat_minor": 5
}
