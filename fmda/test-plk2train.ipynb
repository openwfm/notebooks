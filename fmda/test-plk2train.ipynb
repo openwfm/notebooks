{
 "cells": [
  {
   "cell_type": "code",
   "execution_count": null,
   "id": "83cc1dc4-3dcb-4325-9263-58101a3dc378",
   "metadata": {},
   "outputs": [],
   "source": [
    "from utils import print_dict_summary, print_first, str2time, logging_setup\n",
    "import pickle\n",
    "import logging\n",
    "import os.path as osp\n",
    "from moisture_rnn_pkl import pkl2train, run_rnn_pkl\n",
    "from moisture_rnn import create_rnn_data_2 "
   ]
  },
  {
   "cell_type": "code",
   "execution_count": null,
   "id": "17db9b90-a931-4674-a447-5b8ffbcdc86a",
   "metadata": {},
   "outputs": [],
   "source": [
    "logging_setup()"
   ]
  },
  {
   "cell_type": "code",
   "execution_count": null,
   "id": "89e3ab9c-dfe0-4327-9ef6-0cd6f7afe1d4",
   "metadata": {},
   "outputs": [],
   "source": [
    "file_names=['test_NW_202401.pkl','test_CA_202401.pkl']\n",
    "file_dir='data'"
   ]
  },
  {
   "cell_type": "code",
   "execution_count": null,
   "id": "70e99786-05b3-47a8-b305-31571babd46b",
   "metadata": {},
   "outputs": [],
   "source": [
    "# osp.join works on windows too, joins paths using \\ or /\n",
    "file_paths = [osp.join(file_dir,file_name) for file_name in file_names]  "
   ]
  },
  {
   "cell_type": "code",
   "execution_count": null,
   "id": "4924a95d-e735-4f2a-9102-54dd3f9b5520",
   "metadata": {},
   "outputs": [],
   "source": [
    "# train = pkl2train(file_paths)"
   ]
  },
  {
   "cell_type": "code",
   "execution_count": null,
   "id": "57c9dbea-d033-4eb1-b38e-2bbba6980b92",
   "metadata": {},
   "outputs": [],
   "source": [
    "with open('train.pkl','rb') as file:\n",
    "    train=pickle.load(file)"
   ]
  },
  {
   "cell_type": "code",
   "execution_count": null,
   "id": "62e31f16-d887-4552-bc2b-6024992c0a0b",
   "metadata": {},
   "outputs": [],
   "source": [
    "# print_dict_summary(train)"
   ]
  },
  {
   "cell_type": "code",
   "execution_count": null,
   "id": "698df86b-8550-4135-81df-45dbf503dd4e",
   "metadata": {},
   "outputs": [],
   "source": [
    "from module_param_sets import param_sets"
   ]
  },
  {
   "cell_type": "code",
   "execution_count": null,
   "id": "4b0c9a9b-dd02-4251-aa4a-2acc1101e153",
   "metadata": {},
   "outputs": [],
   "source": [
    "param_sets_keys=['1']"
   ]
  },
  {
   "cell_type": "code",
   "execution_count": null,
   "id": "6b7ce5c3-4b6b-4fd4-9eb1-858318415270",
   "metadata": {},
   "outputs": [],
   "source": [
    "cases=[list(train.keys())[0]]"
   ]
  },
  {
   "cell_type": "code",
   "execution_count": null,
   "id": "dd22baf2-59d2-460e-8c47-b20116dd5982",
   "metadata": {},
   "outputs": [],
   "source": [
    "logging.info('Running over parameter sets %s',param_sets_keys)\n",
    "logging.info('Running over cases %s',cases)"
   ]
  },
  {
   "cell_type": "code",
   "execution_count": null,
   "id": "dc5b47bd-4fbc-44b8-b2dd-d118e068b450",
   "metadata": {},
   "outputs": [],
   "source": [
    "for i in param_sets_keys:\n",
    "    for case in cases:\n",
    "        run_rnn_pkl(train[case],param_sets[i])"
   ]
  },
  {
   "cell_type": "code",
   "execution_count": null,
   "id": "15384e4d-b8ec-4700-bdc2-83b0433d11c9",
   "metadata": {},
   "outputs": [],
   "source": [
    "logging.info('test-plk2train.ipynb done')"
   ]
  }
 ],
 "metadata": {
  "kernelspec": {
   "display_name": "Python 3 (ipykernel)",
   "language": "python",
   "name": "python3"
  },
  "language_info": {
   "codemirror_mode": {
    "name": "ipython",
    "version": 3
   },
   "file_extension": ".py",
   "mimetype": "text/x-python",
   "name": "python",
   "nbconvert_exporter": "python",
   "pygments_lexer": "ipython3",
   "version": "3.10.9"
  }
 },
 "nbformat": 4,
 "nbformat_minor": 5
}
