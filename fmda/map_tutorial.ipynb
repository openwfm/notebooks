{
 "cells": [
  {
   "cell_type": "code",
   "execution_count": null,
   "id": "725236d2-be96-451f-b82a-1f365a4166aa",
   "metadata": {},
   "outputs": [],
   "source": [
    "import numpy as np\n",
    "import os.path as osp\n",
    "import pickle\n",
    "import subprocess\n",
    "from osgeo import gdal, osr\n",
    "import matplotlib.pyplot as plt\n",
    "import pandas as pd\n",
    "# from utils import make_map, make_map2"
   ]
  },
  {
   "cell_type": "markdown",
   "id": "d8c6aa13-9508-4710-8e5a-459de1dc29bb",
   "metadata": {},
   "source": [
    "## Get Station Data"
   ]
  },
  {
   "cell_type": "code",
   "execution_count": null,
   "id": "702edc6f-b87d-4a11-9586-71701e08dbae",
   "metadata": {},
   "outputs": [],
   "source": [
    "# Data remote origin\n",
    "file = \"test_CA_202401.pkl\"\n",
    "durl = f\"https://demo.openwfm.org/web/data/fmda/dicts/{file}\"\n",
    "# Local Path for dictionary\n",
    "dpath = f\"data/{file}\" # 2m temperature band"
   ]
  },
  {
   "cell_type": "code",
   "execution_count": null,
   "id": "a5132a97-650c-4c0c-9b57-2a2201e59ba5",
   "metadata": {},
   "outputs": [],
   "source": [
    "if not osp.exists(dpath):\n",
    "    subprocess.call(f\"wget -P data {durl}\", shell=True)\n",
    "\n",
    "dat = pd.read_pickle(dpath)"
   ]
  },
  {
   "cell_type": "markdown",
   "id": "a4092116-576c-414a-bf78-d72bbe540359",
   "metadata": {},
   "source": [
    "## Map Station Locations"
   ]
  },
  {
   "cell_type": "code",
   "execution_count": null,
   "id": "8cee673a-471b-4f09-a8ed-65d68bd677ee",
   "metadata": {},
   "outputs": [],
   "source": [
    "# Get df of STID lat/lon\n",
    "# List of column names\n",
    "# column_names = ['STID', 'lat', 'lon', 'elevation']\n",
    "\n",
    "# Initialize DataFrame with column names and data types\n",
    "locs = []\n",
    "\n",
    "\n",
    "for k in dat:\n",
    "    locs.append(dat[k][\"loc\"])\n",
    "\n",
    "df = pd.DataFrame(locs)\n",
    "\n",
    "# Show df\n",
    "df"
   ]
  },
  {
   "cell_type": "code",
   "execution_count": null,
   "id": "e49c25c4-a2a1-4485-9b4f-a5f665077a3b",
   "metadata": {},
   "outputs": [],
   "source": [
    "import plotly.express as px\n",
    "import plotly.graph_objects as go\n",
    "\n",
    "# Map stations, credit https://stackoverflow.com/questions/53233228/plot-latitude-longitude-from-csv-in-python-3-6\n",
    "\n",
    "def make_map(df):\n",
    "    fig = px.scatter_mapbox(df, \n",
    "                        lat=\"lat\", \n",
    "                        lon=\"lon\", \n",
    "                        hover_name=\"STID\", \n",
    "                        zoom=6, \n",
    "                        height=600,\n",
    "                        width=800)\n",
    "\n",
    "    # Add Points\n",
    "    center_lon=df['lon'].median()\n",
    "    center_lat=df['lat'].median()\n",
    "    fig.update_layout(\n",
    "        mapbox_style=\"open-street-map\",\n",
    "        mapbox_center=dict(lat=center_lat, lon=center_lon)\n",
    "    )\n",
    "    # Add Lines for Bounding Box\n",
    "    \n",
    "    fig.add_trace(go.Scattermapbox(\n",
    "        mode=\"lines\",\n",
    "        lon=[df['lon'].min(), df['lon'].min(), df['lon'].max(), df['lon'].max(), df['lon'].min()],\n",
    "        lat=[df['lat'].min(), df['lat'].max(), df['lat'].max(), df['lat'].min(), df['lat'].min()],\n",
    "        marker=dict(size=8, color=\"black\"),\n",
    "        line=dict(width=1.5, color=\"black\"),\n",
    "        showlegend=False\n",
    "    ))\n",
    "    \n",
    "    fig.update_traces(marker=dict(size=10))\n",
    "    fig.update_layout(margin={\"r\":0,\"t\":0,\"l\":0,\"b\":0})\n",
    "    return fig"
   ]
  },
  {
   "cell_type": "code",
   "execution_count": null,
   "id": "6d6d1ef8-42e0-4486-95c4-cd90d78f418b",
   "metadata": {},
   "outputs": [],
   "source": [
    "make_map(df)"
   ]
  },
  {
   "cell_type": "markdown",
   "id": "98f1e855-3242-4b2e-94c7-52cb4d60fe4e",
   "metadata": {},
   "source": [
    "## Add Raster Background"
   ]
  },
  {
   "cell_type": "code",
   "execution_count": null,
   "id": "76c900a2-0c15-4db0-9b58-1d81e6d4e821",
   "metadata": {},
   "outputs": [],
   "source": [
    "# Geotiff file\n",
    "turl = \"https://demo.openwfm.org/web/data/fmda/tif/20240101/hrrr.t00z.wrfprsf00.616.tif\"\n",
    "tpath = \"data/hrrr.t00z.wrfprsf00.616.tif\"\n",
    "if not osp.exists(tpath):\n",
    "    subprocess.call(f\"wget -P data {turl}\", shell=True)\n",
    "\n",
    "ds = gdal.Open(tpath)\n",
    "band = ds.GetRasterBand(1)\n",
    "data = band.ReadAsArray()\n",
    "gt = ds.GetGeoTransform()\n",
    "gp = ds.GetProjection()"
   ]
  },
  {
   "cell_type": "code",
   "execution_count": null,
   "id": "cc51fd0f-60c8-40a5-a88f-fbfc8894d6ed",
   "metadata": {},
   "outputs": [],
   "source": [
    "print(type(data))"
   ]
  },
  {
   "cell_type": "markdown",
   "id": "cedd1cca-0191-4699-b346-1b600bc863cd",
   "metadata": {},
   "source": [
    "### Convert to lon/lat"
   ]
  },
  {
   "cell_type": "code",
   "execution_count": null,
   "id": "28206a77-c8ea-43b0-b3f6-9d09583e7737",
   "metadata": {},
   "outputs": [],
   "source": [
    "# Generate Arrays of pixel indices\n",
    "from osgeo import osr, ogr, gdal\n",
    "\n",
    "def pixel_to_world(geo_matrix, x, y):\n",
    "    # Given geotransform info of a geotiff file and an (x,y) pixel coord pair, return the coord pair that matches the geotiff in meters\n",
    "    # Inputs: \n",
    "    # geomatrix: output of ds.GetGeoTransform() for given geotiff file\n",
    "    # tuple of length 6 contains: \n",
    "    # A geotransform consists in a set of 6 coefficients\n",
    "    # GT(0) x-coordinate of the upper-left corner of the upper-left pixel.\n",
    "    # GT(1) w-e pixel resolution / pixel width.\n",
    "    # GT(2) row rotation (typically zero).\n",
    "    # GT(3) y-coordinate of the upper-left corner of the upper-left pixel.\n",
    "    # GT(4) column rotation (typically zero).\n",
    "    # GT(5) n-s pixel resolution / pixel height (negative value for a north-up image).\n",
    "    # x: pixel index x coord (1)\n",
    "    # y: pixel index y coord (1)\n",
    "    # Return: coordinates of same point as given x,y as offset from UL (m)\n",
    "    # Example: pixel_to_world(mat, 0, 0) returns UL x,y from geotiff\n",
    "    \n",
    "    ul_x = geo_matrix[0]\n",
    "    ul_y = geo_matrix[3]\n",
    "    x_dist = geo_matrix[1]\n",
    "    y_dist = geo_matrix[5]\n",
    "    _x = x * x_dist + ul_x\n",
    "    _y = y * y_dist + ul_y\n",
    "    return _x, _y\n",
    "\n",
    "\n",
    "def build_transform_inverse(dataset, EPSG):\n",
    "    # Given gdal dataset and target EPSG, return transformation function that transforms meter coord pairs to pixel coord pairs \n",
    "    # Inputs:\n",
    "    # dataset: geotiff file\n",
    "    # EPSG: integer\n",
    "    source = osr.SpatialReference(wkt=dataset.GetProjection())\n",
    "    target = osr.SpatialReference()\n",
    "    target.ImportFromEPSG(EPSG)\n",
    "    return osr.CoordinateTransformation(source, target)\n",
    "\n",
    "def world_to_epsg(wx, wy, trans):\n",
    "    # Inputs:\n",
    "    # wx, wy: output of build_transform_inverse\n",
    "    # wx: x coordinate (m) related to geotiff reference point\n",
    "    # wy: y coordinate (m) related to geotiff reference point\n",
    "    # transform: function to transform to given epsg, function type is osgeo.osr.CoordinateTransformation\n",
    "    # Return: \n",
    "    # point from osgeo Geometry object\n",
    "    point = ogr.Geometry(ogr.wkbPoint)\n",
    "    point.AddPoint(wx, wy)\n",
    "    point.Transform(trans)\n",
    "    return point\n",
    "\n",
    "def find_spatial_coordinate_from_pixel(dataset, x, y, transform=None, epsg=4326):\n",
    "    # Given gdal dataset, target x y pixel pair, and EPSG, return the EPSG defined coordinate pair \n",
    "    # dataset: gdal dataset, from geotiff file\n",
    "    # x (int): pixel x index \n",
    "    # y (int): pixel y index \n",
    "    ## Upper left corner is often (0,0)\n",
    "    # transform: transform inverse. output of build_transform_inverse, default none and it calculates from epsg\n",
    "    # supply transform to save computational time\n",
    "    # epsg: default 4326 (WGS84)\n",
    "    # Return: coord pair in given epsg, eg lat/lon (floats)\n",
    "    if transform is None:\n",
    "        transform = build_transform_inverse(ds, epsg)\n",
    "    world_x, world_y = pixel_to_world(dataset.GetGeoTransform(), x, y)\n",
    "    point = world_to_epsg(world_x, world_y, transform)\n",
    "    return point.GetX(), point.GetY()"
   ]
  },
  {
   "cell_type": "code",
   "execution_count": null,
   "id": "2d177a57-3558-4d48-80b0-fd9dae946b55",
   "metadata": {},
   "outputs": [],
   "source": [
    "# Initialize empty arrays\n",
    "lons=np.zeros(np.shape(data))\n",
    "lats=np.zeros(np.shape(data))\n",
    "\n",
    "# get transformation once and reuse\n",
    "transform = build_transform_inverse(ds, EPSG=4326)\n",
    "# Loop over indices and fill\n",
    "for i in range(0, np.shape(lons)[0]): # iterate i over x coord (longitude)\n",
    "    for j in range(0, np.shape(lons)[1]): # iterate j over y coord (latitude)\n",
    "        coord = find_spatial_coordinate_from_pixel(ds, j, i, transform=transform) # note order flip is intentional\n",
    "        lats[i,j]=coord[0]\n",
    "        lons[i,j]=coord[1]"
   ]
  },
  {
   "cell_type": "code",
   "execution_count": null,
   "id": "cb052ebc-6d2e-45d0-803e-601e3ddfec1a",
   "metadata": {},
   "outputs": [],
   "source": [
    "# Get lons and lats within range of df\n",
    "min_lon = df['lon'].min()\n",
    "max_lon = df['lon'].max()\n",
    "min_lat = df['lat'].min()\n",
    "max_lat = df['lat'].max()\n",
    "\n",
    "## THIS DOESNT WORK YET\n",
    "mask_lon = (lons >= min_lon) & (lons <= max_lon)\n",
    "mask_lat = (lats >= min_lat) & (lats <= max_lat)\n",
    "lon_subset = lons[mask_lon]\n",
    "lat_subset = lats[mask_lat]"
   ]
  },
  {
   "cell_type": "code",
   "execution_count": null,
   "id": "47081d3c-ef19-40e3-a3f4-63ce966562f3",
   "metadata": {},
   "outputs": [],
   "source": []
  }
 ],
 "metadata": {
  "kernelspec": {
   "display_name": "Python 3 (ipykernel)",
   "language": "python",
   "name": "python3"
  },
  "language_info": {
   "codemirror_mode": {
    "name": "ipython",
    "version": 3
   },
   "file_extension": ".py",
   "mimetype": "text/x-python",
   "name": "python",
   "nbconvert_exporter": "python",
   "pygments_lexer": "ipython3",
   "version": "3.9.12"
  }
 },
 "nbformat": 4,
 "nbformat_minor": 5
}
