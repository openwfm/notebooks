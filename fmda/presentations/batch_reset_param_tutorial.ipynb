{
 "cells": [
  {
   "cell_type": "markdown",
   "id": "6b50356b-169f-471d-92e0-8d82a2911185",
   "metadata": {},
   "source": [
    "# Batch Reset Hyperparameter Tutorial"
   ]
  },
  {
   "cell_type": "markdown",
   "id": "f6b09663-b3d5-46a5-a214-22b02467afb4",
   "metadata": {},
   "source": [
    "When training data are very long, a stateful model is prone to instability since at the early iterations of training, an unreasonable hidden state is generated and propogated through many batches of training.\n",
    "\n",
    "We introduce the hyperparameter `batch_reset`, which resets the hidden state after a fixed number of batches. Future work will make this a schedule where the number of batches before reset is increased as the network learns and will be less subject to exploding/vanishing gradients."
   ]
  },
  {
   "cell_type": "markdown",
   "id": "9d9f20b3-6cad-43f2-8eab-7b065b02891b",
   "metadata": {},
   "source": [
    "## Environment and Data Setup"
   ]
  },
  {
   "cell_type": "code",
   "execution_count": null,
   "id": "23115780-950f-46ea-b1d8-72bd5f3ec3bd",
   "metadata": {},
   "outputs": [],
   "source": [
    "# Environment\n",
    "import os\n",
    "import os.path as osp\n",
    "import matplotlib.pyplot as plt\n",
    "import sys\n",
    "import numpy as np\n",
    "import pandas as pd\n",
    "# Local modules\n",
    "sys.path.append('..')\n",
    "import reproducibility\n",
    "from utils import print_dict_summary\n",
    "from data_funcs import rmse\n",
    "from moisture_rnn import RNNParams, RNNData, RNN\n",
    "from moisture_rnn_pkl import pkl2train\n",
    "from utils import read_yml, read_pkl\n",
    "import yaml\n",
    "import pickle"
   ]
  },
  {
   "cell_type": "code",
   "execution_count": null,
   "id": "40e68cdd-bb04-499c-8370-3cbdb3aebc46",
   "metadata": {},
   "outputs": [],
   "source": [
    "dat = read_pkl(\"batch_reset_tutorial_case.pkl\")"
   ]
  },
  {
   "cell_type": "code",
   "execution_count": null,
   "id": "25e64ffb-3b4c-44c7-9737-caf05303ad0d",
   "metadata": {},
   "outputs": [],
   "source": [
    "params = read_yml(\"../params.yaml\", subkey=\"rnn\")\n",
    "params = RNNParams(params)\n",
    "params.update({'epochs': 10})"
   ]
  },
  {
   "cell_type": "code",
   "execution_count": null,
   "id": "67b36002-7d78-4723-80d5-8f3a6ac5886d",
   "metadata": {},
   "outputs": [],
   "source": [
    "rnn_dat = RNNData(dat, scaler = params['scaler'], features_list = params['features_list'])\n",
    "rnn_dat.train_test_split(\n",
    "    train_frac = .9,\n",
    "    val_frac = .05\n",
    ")\n",
    "rnn_dat.scale_data()"
   ]
  },
  {
   "cell_type": "markdown",
   "id": "10eb476a-5791-459d-8ecf-901a11fee1f2",
   "metadata": {},
   "source": [
    "## Train without Stateful"
   ]
  },
  {
   "cell_type": "code",
   "execution_count": null,
   "id": "3e32c020-12e8-42f3-8278-3e15431b042c",
   "metadata": {},
   "outputs": [],
   "source": [
    "params.update({'verbose_fit': True, 'stateful': False, 'batch_reset':9999})\n",
    "reproducibility.set_seed(123)\n",
    "rnn = RNN(params)\n",
    "m, errs = rnn.run_model(rnn_dat)"
   ]
  },
  {
   "cell_type": "code",
   "execution_count": null,
   "id": "05ab6d32-6626-4a18-ab15-c1dddf8496ed",
   "metadata": {},
   "outputs": [],
   "source": [
    "rnn.predict(rnn_dat.X_train[0:500])"
   ]
  },
  {
   "cell_type": "markdown",
   "id": "c1172389-8c3a-4838-9c99-8bb575ba2014",
   "metadata": {},
   "source": [
    "## Train with Stateful, without Batch Reset\n",
    "\n",
    "We turn off the parameter by setting it to a huge value."
   ]
  },
  {
   "cell_type": "code",
   "execution_count": null,
   "id": "81232bf4-1995-490c-a609-0f8b88cef65d",
   "metadata": {},
   "outputs": [],
   "source": [
    "params.update({'verbose_fit': True, 'stateful': True, 'batch_reset':9999})\n",
    "params.update({'epochs': 10})\n",
    "reproducibility.set_seed(123)\n",
    "rnn = RNN(params)"
   ]
  },
  {
   "cell_type": "code",
   "execution_count": null,
   "id": "65e4f4af-9b02-4329-b25e-b89e3c893ba7",
   "metadata": {},
   "outputs": [],
   "source": [
    "m, errs = rnn.run_model(rnn_dat)"
   ]
  },
  {
   "cell_type": "markdown",
   "id": "92058207-1186-4389-8fbc-ad39672d5cdb",
   "metadata": {},
   "source": [
    "## Train with Stateful, with Batch Reset"
   ]
  },
  {
   "cell_type": "code",
   "execution_count": null,
   "id": "06fb5624-6d47-452d-b41b-3c7ae2f987e3",
   "metadata": {},
   "outputs": [],
   "source": [
    "params.update({'verbose_fit': True, 'stateful': True, 'batch_reset':20})\n",
    "params.update({'epochs': 30})\n",
    "reproducibility.set_seed(123)\n",
    "rnn = RNN(params)"
   ]
  },
  {
   "cell_type": "code",
   "execution_count": null,
   "id": "33938583-4823-4e84-8afd-9652d85d164a",
   "metadata": {},
   "outputs": [],
   "source": [
    "m, errs = rnn.run_model(rnn_dat, plot_period=\"predict\")"
   ]
  },
  {
   "cell_type": "code",
   "execution_count": null,
   "id": "ef0ba2c2-46a4-4040-9c04-a611646ae029",
   "metadata": {},
   "outputs": [],
   "source": []
  },
  {
   "cell_type": "code",
   "execution_count": null,
   "id": "7c2e8c55-a749-4bf9-a11d-467f6b2759bd",
   "metadata": {},
   "outputs": [],
   "source": []
  },
  {
   "cell_type": "code",
   "execution_count": null,
   "id": "43a93f08-fd55-4915-bf85-1c5c01379e5d",
   "metadata": {},
   "outputs": [],
   "source": []
  },
  {
   "cell_type": "code",
   "execution_count": null,
   "id": "e6588375-c1bc-4b73-ad34-f8e6c2606979",
   "metadata": {},
   "outputs": [],
   "source": []
  }
 ],
 "metadata": {
  "kernelspec": {
   "display_name": "Python 3 (ipykernel)",
   "language": "python",
   "name": "python3"
  },
  "language_info": {
   "codemirror_mode": {
    "name": "ipython",
    "version": 3
   },
   "file_extension": ".py",
   "mimetype": "text/x-python",
   "name": "python",
   "nbconvert_exporter": "python",
   "pygments_lexer": "ipython3",
   "version": "3.12.5"
  }
 },
 "nbformat": 4,
 "nbformat_minor": 5
}
