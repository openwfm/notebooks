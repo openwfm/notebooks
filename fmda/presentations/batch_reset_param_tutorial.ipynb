{
 "cells": [
  {
   "cell_type": "markdown",
   "id": "6b50356b-169f-471d-92e0-8d82a2911185",
   "metadata": {},
   "source": [
    "# Batch Reset Hyperparameter Tutorial"
   ]
  },
  {
   "cell_type": "markdown",
   "id": "f6b09663-b3d5-46a5-a214-22b02467afb4",
   "metadata": {},
   "source": [
    "When training data are very long, a stateful model is prone to instability since at the early iterations of training, an unreasonable hidden state is generated and propogated through many batches of training.\n",
    "\n",
    "We introduce the hyperparameter `batch_reset`, which resets the hidden state after a fixed number of batches. Future work will make this a schedule where the number of batches before reset is increased as the network learns and will be less subject to exploding/vanishing gradients.\n",
    "\n",
    "We demonstrate with linear activation since the benefit of the scheduler is much more pronounced. With more typical nonlinear activations like ReLu or tanh, the batch resetting schedule iss empirically useful for speeding up and improving training. But it is much more demonstrable with linear activation, so we use linear activation here for educational purposes."
   ]
  },
  {
   "cell_type": "markdown",
   "id": "9d9f20b3-6cad-43f2-8eab-7b065b02891b",
   "metadata": {},
   "source": [
    "## Environment and Data Setup"
   ]
  },
  {
   "cell_type": "code",
   "execution_count": null,
   "id": "23115780-950f-46ea-b1d8-72bd5f3ec3bd",
   "metadata": {},
   "outputs": [],
   "source": [
    "# Environment\n",
    "import os\n",
    "import os.path as osp\n",
    "import matplotlib.pyplot as plt\n",
    "import sys\n",
    "import numpy as np\n",
    "import pandas as pd\n",
    "# Local modules\n",
    "sys.path.append('..')\n",
    "import reproducibility\n",
    "from utils import print_dict_summary\n",
    "from data_funcs import rmse\n",
    "from moisture_rnn import RNNParams, RNNData, RNN\n",
    "from moisture_rnn_pkl import pkl2train\n",
    "from utils import read_yml, read_pkl\n",
    "import yaml\n",
    "import pickle"
   ]
  },
  {
   "cell_type": "code",
   "execution_count": null,
   "id": "40e68cdd-bb04-499c-8370-3cbdb3aebc46",
   "metadata": {},
   "outputs": [],
   "source": [
    "dat = read_pkl(\"batch_reset_tutorial_case.pkl\")"
   ]
  },
  {
   "cell_type": "code",
   "execution_count": null,
   "id": "25e64ffb-3b4c-44c7-9737-caf05303ad0d",
   "metadata": {},
   "outputs": [],
   "source": [
    "params = read_yml(\"../params.yaml\", subkey=\"rnn\")\n",
    "params = RNNParams(params)\n",
    "params.update({'epochs': 10, 'timesteps': 5, 'activation': ['linear', 'linear']})"
   ]
  },
  {
   "cell_type": "code",
   "execution_count": null,
   "id": "67b36002-7d78-4723-80d5-8f3a6ac5886d",
   "metadata": {},
   "outputs": [],
   "source": [
    "rnn_dat = RNNData(dat, scaler = params['scaler'], features_list = params['features_list'])\n",
    "rnn_dat.train_test_split(\n",
    "    time_fracs = [.9, .05, .05]\n",
    ")\n",
    "rnn_dat.scale_data()\n",
    "rnn_dat.batch_reshape(timesteps = params['timesteps'], batch_size = params['batch_size'])"
   ]
  },
  {
   "cell_type": "markdown",
   "id": "10eb476a-5791-459d-8ecf-901a11fee1f2",
   "metadata": {},
   "source": [
    "## Train without Stateful"
   ]
  },
  {
   "cell_type": "code",
   "execution_count": null,
   "id": "3e32c020-12e8-42f3-8278-3e15431b042c",
   "metadata": {},
   "outputs": [],
   "source": [
    "params.update({'verbose_fit': True, 'stateful': False, \n",
    "               'batch_schedule_type': None})\n",
    "reproducibility.set_seed(123)\n",
    "rnn = RNN(params)\n",
    "try:\n",
    "    m, errs = rnn.run_model(rnn_dat)\n",
    "except Exception as e:\n",
    "    print(\"*\"*50)\n",
    "    print(f\"Caught Error {e}\")\n",
    "    print(\"*\"*50)"
   ]
  },
  {
   "cell_type": "code",
   "execution_count": null,
   "id": "05ab6d32-6626-4a18-ab15-c1dddf8496ed",
   "metadata": {},
   "outputs": [],
   "source": [
    "X = rnn_dat.scale_all_X()\n",
    "X = X.reshape(1, X.shape[0], X.shape[1])\n",
    "rnn.predict(X)[0:150]"
   ]
  },
  {
   "cell_type": "markdown",
   "id": "c1172389-8c3a-4838-9c99-8bb575ba2014",
   "metadata": {},
   "source": [
    "## Train with Stateful, without Batch Reset\n"
   ]
  },
  {
   "cell_type": "code",
   "execution_count": null,
   "id": "81232bf4-1995-490c-a609-0f8b88cef65d",
   "metadata": {},
   "outputs": [],
   "source": [
    "params.update({'verbose_fit': True, 'stateful': True, 'batch_schedule_type':None})\n",
    "params.update({'epochs': 30})\n",
    "reproducibility.set_seed(123)\n",
    "rnn = RNN(params)"
   ]
  },
  {
   "cell_type": "code",
   "execution_count": null,
   "id": "65e4f4af-9b02-4329-b25e-b89e3c893ba7",
   "metadata": {},
   "outputs": [],
   "source": [
    "try:\n",
    "    m, errs = rnn.run_model(rnn_dat)\n",
    "except Exception as e:\n",
    "    print(\"*\"*50)\n",
    "    print(f\"Caught Error {e}\")\n",
    "    print(\"*\"*50)"
   ]
  },
  {
   "cell_type": "markdown",
   "id": "92058207-1186-4389-8fbc-ad39672d5cdb",
   "metadata": {},
   "source": [
    "## Train with Stateful, with Periodic Batch Reset"
   ]
  },
  {
   "cell_type": "code",
   "execution_count": null,
   "id": "06fb5624-6d47-452d-b41b-3c7ae2f987e3",
   "metadata": {},
   "outputs": [],
   "source": [
    "params.update({'verbose_fit': True, 'stateful': True, 'batch_schedule_type':'constant', 'bmin': 20})\n",
    "params.update({'epochs': 30})\n",
    "reproducibility.set_seed(123)\n",
    "rnn = RNN(params)"
   ]
  },
  {
   "cell_type": "code",
   "execution_count": null,
   "id": "33938583-4823-4e84-8afd-9652d85d164a",
   "metadata": {},
   "outputs": [],
   "source": [
    "try:\n",
    "    m, errs = rnn.run_model(rnn_dat, plot_period=\"predict\")\n",
    "except Exception as e:\n",
    "    print(\"*\"*50)\n",
    "    print(f\"Caught Error {e}\")\n",
    "    print(\"*\"*50)"
   ]
  },
  {
   "cell_type": "markdown",
   "id": "6f071895-ae8c-4c5a-8c5c-331fbfec1e6a",
   "metadata": {},
   "source": [
    "## Batch Reset Schedules"
   ]
  },
  {
   "cell_type": "code",
   "execution_count": null,
   "id": "4958e7e0-1216-4392-a239-399f47917d98",
   "metadata": {},
   "outputs": [],
   "source": [
    "from moisture_rnn import calc_exp_intervals, calc_log_intervals, calc_step_intervals"
   ]
  },
  {
   "cell_type": "code",
   "execution_count": null,
   "id": "e37db25b-a24e-4b37-abdc-ca6830afafc2",
   "metadata": {},
   "outputs": [],
   "source": [
    "epochs = 50\n",
    "bmin = 10\n",
    "bmax = 200\n",
    "\n",
    "egrid = np.arange(epochs)"
   ]
  },
  {
   "cell_type": "code",
   "execution_count": null,
   "id": "ea826c89-5af7-438e-8db1-f91702ae032d",
   "metadata": {},
   "outputs": [],
   "source": [
    "plt.plot(egrid, np.linspace(bmin, bmax, epochs), label='Linear Increase')\n",
    "plt.plot(egrid, calc_exp_intervals(bmin, bmax, epochs), label='Exponential Increase')\n",
    "plt.plot(egrid, calc_log_intervals(bmin, bmax, epochs), label='Logarithmic Increase')\n",
    "plt.plot(egrid, calc_step_intervals(bmin, bmax, epochs, estep=25), label='Step Increase')\n",
    "plt.xlabel('Epoch')\n",
    "plt.ylabel('Batch Reset Value')\n",
    "plt.legend()\n",
    "plt.title('Batch Reset Value vs Epoch')\n",
    "plt.show()"
   ]
  },
  {
   "cell_type": "markdown",
   "id": "92e06001-4b27-47e8-aa5e-03bffdb9ba03",
   "metadata": {},
   "source": [
    "### Linear Schedule"
   ]
  },
  {
   "cell_type": "code",
   "execution_count": null,
   "id": "cf4819b7-7e8e-4da9-8dee-217eda8f274f",
   "metadata": {},
   "outputs": [],
   "source": [
    "params.update({'verbose_fit': False, 'stateful': True, \n",
    "               'batch_schedule_type':'linear', 'bmin': 20, 'bmax': rnn_dat.hours})\n",
    "params.update({'epochs': 40})\n",
    "reproducibility.set_seed(123)\n",
    "rnn = RNN(params)\n",
    "m, errs = rnn.run_model(rnn_dat, plot_period = \"predict\")"
   ]
  },
  {
   "cell_type": "markdown",
   "id": "362dad1f-7584-4a04-a146-c13c2da2dc84",
   "metadata": {},
   "source": [
    "### Exponential Increase"
   ]
  },
  {
   "cell_type": "code",
   "execution_count": null,
   "id": "d8e590af-4bdc-4e3f-bced-af2f4479e015",
   "metadata": {},
   "outputs": [],
   "source": [
    "params.update({'verbose_fit': True, 'stateful': True, \n",
    "               'batch_schedule_type':'exp', 'bmin': 20, 'bmax': rnn_dat.hours,\n",
    "               'early_stopping_patience': 10})\n",
    "params.update({'epochs': 40})\n",
    "reproducibility.set_seed(123)\n",
    "rnn = RNN(params)\n",
    "m, errs = rnn.run_model(rnn_dat, plot_period = \"predict\")"
   ]
  },
  {
   "cell_type": "markdown",
   "id": "2424801b-3482-4542-9236-dbebae2c1143",
   "metadata": {},
   "source": [
    "### Log Increase"
   ]
  },
  {
   "cell_type": "code",
   "execution_count": null,
   "id": "00d32580-6c20-4916-b241-1af281fedbd9",
   "metadata": {},
   "outputs": [],
   "source": [
    "params.update({'verbose_fit': False, 'stateful': True, \n",
    "               'batch_schedule_type':'log', 'bmin': 20, 'bmax': rnn_dat.hours})\n",
    "params.update({'epochs': 40})\n",
    "reproducibility.set_seed(123)\n",
    "rnn = RNN(params)\n",
    "m, errs = rnn.run_model(rnn_dat, plot_period = \"predict\")"
   ]
  },
  {
   "cell_type": "code",
   "execution_count": null,
   "id": "e6588375-c1bc-4b73-ad34-f8e6c2606979",
   "metadata": {},
   "outputs": [],
   "source": []
  }
 ],
 "metadata": {
  "kernelspec": {
   "display_name": "Python 3 (ipykernel)",
   "language": "python",
   "name": "python3"
  },
  "language_info": {
   "codemirror_mode": {
    "name": "ipython",
    "version": 3
   },
   "file_extension": ".py",
   "mimetype": "text/x-python",
   "name": "python",
   "nbconvert_exporter": "python",
   "pygments_lexer": "ipython3",
   "version": "3.12.5"
  }
 },
 "nbformat": 4,
 "nbformat_minor": 5
}
