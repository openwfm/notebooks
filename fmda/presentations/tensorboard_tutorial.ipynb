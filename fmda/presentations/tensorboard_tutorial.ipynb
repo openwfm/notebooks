{
 "cells": [
  {
   "cell_type": "markdown",
   "id": "881b3085-13b7-420e-9fc5-1d51778a8933",
   "metadata": {},
   "source": [
    "# Tensorboard Setup\n",
    "\n",
    "https://www.tensorflow.org/tensorboard/get_started\n",
    "\n",
    "Run all code cells below, then run on console:\n",
    "\n",
    "`tensorboard --logdir logs/train`"
   ]
  },
  {
   "cell_type": "code",
   "execution_count": null,
   "id": "730eaef2-51b5-4596-9454-2c0ef3706b86",
   "metadata": {},
   "outputs": [],
   "source": [
    "import sys\n",
    "import os\n",
    "sys.path.append(\"..\")"
   ]
  },
  {
   "cell_type": "code",
   "execution_count": null,
   "id": "4916811f-67b8-4abd-b38e-7f0645dd56f6",
   "metadata": {},
   "outputs": [],
   "source": [
    "# Setup\n",
    "import reproducibility\n",
    "\n",
    "# both can change\n",
    "# Environment\n",
    "import numpy as np\n",
    "import pandas as pd\n",
    "import tensorflow as tf\n",
    "from keras.models import Sequential\n",
    "from keras.layers import Dense, SimpleRNN\n",
    "# from keras.utils.vis_utils import plot_model\n",
    "from keras.utils import plot_model\n",
    "\n",
    "from sklearn.preprocessing import MinMaxScaler\n",
    "from sklearn.metrics import mean_squared_error\n",
    "import math\n",
    "import json\n",
    "import matplotlib.pyplot as plt\n",
    "import tensorflow as tf\n",
    "import keras.backend as K\n",
    "# from keras.utils.vis_utils import plot_model\n",
    "from scipy.interpolate import LinearNDInterpolator, interpn\n",
    "from scipy.optimize import root\n",
    "import pickle, os\n",
    "from utils import hash2\n",
    "%matplotlib inline\n",
    "\n",
    "# Local modules for handling data and running moisture models\n",
    "import data_funcs as datf\n",
    "from data_funcs import format_raws, retrieve_raws, format_precip, fixnan, load_and_fix_data\n",
    "from data_funcs import raws_data, synthetic_data, plot_data, check_data, rmse_data, to_json, from_json\n",
    "import moisture_models as mod\n",
    "from moisture_rnn import run_case, run_rnn, create_RNN_2, staircase, create_rnn_data, train_rnn, rnn_predict\n"
   ]
  },
  {
   "cell_type": "code",
   "execution_count": null,
   "id": "e49a4c0a-78d0-4a7e-a39e-012a882d78e8",
   "metadata": {},
   "outputs": [],
   "source": [
    "# Data\n",
    "# Change directory for data read/write\n",
    "\n",
    "dict_file='../data/raws_CO_202306.pickle' # input path of FMDA dictionaries\n",
    "reproducibility_file='../data/reproducibility_dict.pickle'\n",
    "\n",
    "# read test datasets\n",
    "test_dict={}\n",
    "test_dict.update(load_and_fix_data(dict_file))\n",
    "print(test_dict.keys())\n",
    "\n",
    "repro_dict={}\n",
    "repro_dict.update(load_and_fix_data(reproducibility_file))\n",
    "print(repro_dict.keys())"
   ]
  },
  {
   "cell_type": "code",
   "execution_count": null,
   "id": "bc72419b-a2fa-4e54-addd-5778785d387b",
   "metadata": {},
   "outputs": [],
   "source": [
    "# Build Case Data\n",
    "id = \"CPTC2_202306010000\"\n",
    "case_data=test_dict[id]\n",
    "case_data[\"hours\"]=len(case_data['fm'])\n",
    "case_data[\"h2\"]=int(24*20)"
   ]
  },
  {
   "cell_type": "code",
   "execution_count": null,
   "id": "968595b9-905d-4fec-81f8-6a50aee6d0e2",
   "metadata": {},
   "outputs": [],
   "source": [
    "# Linear Activation Params\n",
    "params={'id':1,\n",
    "        'purpose':'test 1',\n",
    "        'cases':'all',\n",
    "        'scale':1,        # every feature in [0, scale]\n",
    "        'rain_do':True,\n",
    "        'verbose':False,\n",
    "        'timesteps':5,\n",
    "        'activation':['linear','linear'],\n",
    "        'hidden_units':1,  \n",
    "        'dense_units':1,    # do not change\n",
    "        'dense_layers':1,   # do not change\n",
    "        'centering':[0.0,0.0],  # should be activation at 0\n",
    "        'DeltaE':[0,-1],    # bias correction\n",
    "        'synthetic':False,  # run also synthetic cases\n",
    "        'T1': 0.1,          # 1/fuel class (10)\n",
    "        'fm_raise_vs_rain': 2.0,         # fm increase per mm rain \n",
    "        'train_frac':0.5,  # time fraction to spend on training\n",
    "        'epochs':1000,\n",
    "        'verbose_fit':False,\n",
    "        'verbose_weights':False,\n",
    "}"
   ]
  },
  {
   "cell_type": "code",
   "execution_count": null,
   "id": "c38ee016-a418-456f-ab10-5cbe9ec0d7c3",
   "metadata": {},
   "outputs": [],
   "source": [
    "# Callback\n",
    "log_dir = \"logs\"\n",
    "tensorboard_callback = tf.keras.callbacks.TensorBoard(log_dir=log_dir, histogram_freq=1)"
   ]
  },
  {
   "cell_type": "code",
   "execution_count": null,
   "id": "9fb46a3c-0dbd-42da-87c7-8db947a53ae5",
   "metadata": {},
   "outputs": [],
   "source": [
    "reproducibility.set_seed() # Set seed for reproducibility\n",
    "rnn_dat = create_rnn_data(case_data,params)\n",
    "model1 = train_rnn(\n",
    "    rnn_dat,\n",
    "    params,\n",
    "    rnn_dat['hours'],\n",
    "    fit=True,\n",
    "    callbacks = [tensorboard_callback]\n",
    ")\n",
    "case_data['m'] = rnn_predict(model1, params, rnn_dat)\n",
    "fit_linear = case_data['m']"
   ]
  },
  {
   "cell_type": "code",
   "execution_count": null,
   "id": "a4335a23-6fab-4782-8b74-a282a5b9ab81",
   "metadata": {},
   "outputs": [],
   "source": [
    "plot_data(case_data,title2='Trained RNN Linear')"
   ]
  },
  {
   "cell_type": "markdown",
   "id": "565e04ce-87d7-401d-81c8-d00941263d52",
   "metadata": {},
   "source": []
  }
 ],
 "metadata": {
  "kernelspec": {
   "display_name": "Python 3 (ipykernel)",
   "language": "python",
   "name": "python3"
  },
  "language_info": {
   "codemirror_mode": {
    "name": "ipython",
    "version": 3
   },
   "file_extension": ".py",
   "mimetype": "text/x-python",
   "name": "python",
   "nbconvert_exporter": "python",
   "pygments_lexer": "ipython3",
   "version": "3.9.12"
  }
 },
 "nbformat": 4,
 "nbformat_minor": 5
}
