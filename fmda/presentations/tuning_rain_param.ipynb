{
 "cells": [
  {
   "cell_type": "markdown",
   "id": "d48e8d64-1e41-4483-905c-f8f20f829a5c",
   "metadata": {},
   "source": [
    "# Rain Hyperparameter Initialization\n",
    "\n",
    "The purpose of this notebook is to examine the hyperparameter associated with rain in the FMDA RNN model. The current architecture is to have an additive effect of rain on fuel moisture in the initiated model. There is a hyperparameter associated with this effect that we wish to set from a physics-based model.\n",
    "\n",
    "## Background: Physics Model from Vanderkamp 2014\n",
    "\n",
    "Vanderkamp (2014) establish the following physics-based model of the affect of rain on fuels. The depth of a stick is modeled, and there is assumed to be radial symmetry and symmetry along the length of the stick. During rain, the outer layer of the stick absorbs the rain. The amount of absorbed rain $P_{abs}$, in units of $kg/s$, is calculated from the diamter of the stick $2r$, length $l$ and the incident precipitation rate $P_{inc}$ (in units of $kg s^{-1}m^{-2}$):\n",
    "\n",
    "$P_{abs}=2r l P_{inc}$\n",
    "\n",
    "Additionally, the moisture is limited to a max value $m_{max}$, which is \"determined through model calibration\". For 10-h fuels, they arrived on $m_{max}=76.8\\%$. This value was valibrated at a single study location."
   ]
  },
  {
   "cell_type": "markdown",
   "id": "a3143f6d-bfa7-4183-bef1-0a57f0cc4dc1",
   "metadata": {},
   "source": [
    "## Translate Vanderkamp Model to our context"
   ]
  },
  {
   "cell_type": "markdown",
   "id": "125cba75-957c-497a-b4cb-582136c7f047",
   "metadata": {},
   "source": [
    "### Calculate Expected Change from 1mm Rain\n",
    "\n",
    "In order to apply this physical principle to the physics-initiated RNN, we use this formula to calculate the expected increase in fuel moisture content from 1mm of rain over an hour. Additionally, we are working with 10h fuels, which correspond to roughly 1/2 inch diamter sticks, or $0.0127 m$\n",
    "\n",
    "1mm of rain spread over $1m^2$ over an hour corresponds to 1kg of water per hour, so let $P_{inc}=1kg hr^{-1}=1/3600 \\; kg s^{-1}$.\n",
    "* 1mm is .001m, and if spread over $1m^2$, we have a 3-d volume of water .001 $m^3$\n",
    "* The density of water is approximately 1,000kg per $m^3$, so $1,000 kgm^{-3}\\cdot .001 m^3=1kg$"
   ]
  },
  {
   "cell_type": "markdown",
   "id": "123b8b0c-a588-4adb-9bfb-ef4babb9897a",
   "metadata": {},
   "source": [
    "The percent change in fuel moisture content per hour, in units of $hr{-1}$ is calculated assuming an initial dry weight of $M$ kg. Denote this term $K$:\n",
    "\n",
    "$$\n",
    "K = \\frac{\\text{Weight of water per hour}\\;kg\\;hr^{-1}}{M\\; kg},\\quad\\text{Units: }hr^{-1}\n",
    "$$\n",
    "$$\n",
    "= \\frac{2lr P_{inc}\\; kg\\;s^{-1} \\cdot 3600 s\\;hr{-1}}{M \\; kg}\n",
    "$$\n",
    "\n",
    "The mass of the stick is $M=\\text{Volume}\\cdot \\text{Density}$. The volume can be calculated geometrically, and the Density comes from literature. [Research suggests](https://www.engineeringtoolbox.com/wood-density-d_40.html) that the density of woods varies from 300 to 900 $kg\\;m{-3}$. \n",
    "\n",
    "$$\n",
    "K = \\frac{2lr}{\\pi r^2 l \\rho}\n",
    "$$\n",
    "$$\n",
    "= \\frac{2}{\\pi r \\rho}=\\frac{4}{\\pi d \\rho}\n",
    "$$\n",
    "\n",
    "Here, $d$ is the diameter of the stick, $0.0127 m$. So substituting this into the equation, with wood densities of 300 to 900 $kg \\; m^{-3}$, we get:\n",
    "\n",
    "$$\n",
    "K = 0.11 \\text{ to } 0.33\n",
    "$$\n",
    "\n",
    "In percentage terms this is $11$ to $33$ percent fuel moisture per mm of rain in an hour. As a feasibility check, working with the denser wood estimate a stick would have moisture content of 100 if exposed to 9mm of rain in an hour. [AMS](https://glossary.ametsoc.org/wiki/Rain) classifies this as very heavy rain, so it is feasible that a dry stick exposed to very heavy rain for an hour would absorb up to its weight in water. Furthermore, the stick would reach saturation level of 250% from about 23 mm of rain per hour, which corresponds to a torrential downpour. This again is feasible."
   ]
  },
  {
   "cell_type": "markdown",
   "id": "e02cbe45-47ba-4593-afd1-16df1287ee1b",
   "metadata": {},
   "source": [
    "For RAWS 10-hour sensors specifically, they utilize a wooden dowel made of Ponderosa pine with a weight of 45g (or .045 kg), according to the 2017 brochure from Campbell Scientific. The dimensions are .5in by 20in, or .0127m by .508m. Assuming this is the pure dry weight, the density calculation (in $kgm^{-3}$) would be:\n",
    "\n",
    "$$\n",
    "\\begin{align}\n",
    "    \\text{Density} &= \\frac{\\text{Mass}}{\\text{Volume}}\\\\\n",
    "    & = \\frac{0.045 kg}{\\pi\\cdot (.0127/2)^2\\cdot.508 m^3}\\\\\n",
    "    & = 700 kgm^{-3}\n",
    "\\end{align}\n",
    "$$\n",
    "\n",
    "This would correspond to $K=0.143$"
   ]
  },
  {
   "cell_type": "markdown",
   "id": "fb0afdec-c172-4ad9-9838-4ac943a1db98",
   "metadata": {},
   "source": [
    "### Implementing in the RNN Model\n",
    "\n",
    "In the RNN model, the equilibrium inputs are scaled by a parameter $S$. Currently (1/5/2024) this is calculated from the maximum observed fm in the input data:\n",
    "\n",
    "$$\n",
    "\\begin{align}\n",
    "E_d &= E_d/S\\\\\n",
    "E_w &= E_w/S\\\\\n",
    "fm &= fm/S\n",
    "\\end{align}\n",
    "$$\n",
    "\n",
    "This results in fuel moisture values that are roughly scaled to be decimal values instead of in percentage terms (i.e. 0.1 instead of 10)."
   ]
  },
  {
   "cell_type": "markdown",
   "id": "35adf93f-6d69-4706-b2fd-a63e65cd6e06",
   "metadata": {},
   "source": [
    "Currently (Jan 5 2024), the initialized model adds a constant effect to fuel moisture per mm of rain. So the fuel moisture at time $t+1$, $m_{t+1}$, is calculated using the ODE time lag model on the moisture at time $t$, denote this $f(m_t, E_t)$, plus the additive effect of rain. Let the fm increase per mm of rain parameter be $K$ and the rain at time $t$ is $R_t$:\n",
    "\n",
    "$$\n",
    "m_{t+1}=f(m_t, E_t)+K\\cdot R_t\n",
    "$$\n",
    "\n",
    "The additive rain term needs to be scaled properly. To figure out the scaling for the rain term, we walk through an example calculation below."
   ]
  },
  {
   "cell_type": "markdown",
   "id": "d363909d-697c-4f6c-9152-62ee06d00d05",
   "metadata": {},
   "source": [
    "Suppose the initial moisture is zero, or $m_0=0$. Note this is how the RNN initializes the hidden state by default. Also suppose the equilibrium moisture at $t=0$ is $10$ ($E_d$ and $E_w$ are averaged on input, so ignore this for now) and the scale parameter is $30$, which is a feasible maximum observable moisture value. So the scaled input at $t=0$ is $.3$. The ODE portion of the model is:\n",
    "\n",
    "$$\n",
    "f(m_t, E_t) = e^{-.1}\\cdot m_t + (1-e^{-.1})\\cdot E_t\n",
    "$$\n",
    "$$\n",
    "= (1-e^{-.1})\\cdot 0.3 \\approx 0.03\n",
    "$$\n",
    "\n",
    "So, with zero rain the fuel moisture $m_{t+1}=0.03$, or 3%."
   ]
  },
  {
   "cell_type": "markdown",
   "id": "8b2adae3-92ea-4969-b713-5c03254f1722",
   "metadata": {},
   "source": [
    "If we assume $1mm$ of rain at $t=0$, and a middle-valued wood density of $600 \\;kg\\;m{-3}$, we would have:\n",
    "\n",
    "$$\n",
    "K\\cdot R_0=.167 \\cdot 1 = 0.167\n",
    "$$\n",
    "\n",
    "So, the modeled fuel moisture at time $t=1$ would be:\n",
    "\n",
    "$$\n",
    "m_{t+1}=0.03 + 0.167 = 0.17\n",
    "$$\n",
    "\n",
    "So in this formulation, the rain would be unscaled and the percent change in fuel moisture per mm of rain would be in decimal terms, or about $0.167$."
   ]
  },
  {
   "cell_type": "markdown",
   "id": "432b0d78-f10f-4990-88e5-7806bd4c0d21",
   "metadata": {},
   "source": [
    "## Setup"
   ]
  },
  {
   "cell_type": "code",
   "execution_count": null,
   "id": "c6389c7c-7141-4027-8f14-482f8aceb305",
   "metadata": {},
   "outputs": [],
   "source": [
    "import sys\n",
    "sys.path.append(\"..\")"
   ]
  },
  {
   "cell_type": "code",
   "execution_count": null,
   "id": "1a736c92-8aeb-44e7-ae5f-06cee976a659",
   "metadata": {},
   "outputs": [],
   "source": [
    "# Setup\n",
    "import reproducibility\n",
    "\n",
    "# both can change\n",
    "# Environment\n",
    "import numpy as np\n",
    "import pandas as pd\n",
    "import tensorflow as tf\n",
    "\n",
    "import matplotlib.pyplot as plt\n",
    "import tensorflow as tf\n",
    "import pickle, os\n",
    "\n",
    "from data_funcs import load_and_fix_data, plot_data\n",
    "from moisture_rnn import create_rnn_data, train_rnn, rnn_predict"
   ]
  },
  {
   "cell_type": "code",
   "execution_count": null,
   "id": "dc3a9ef0-0d70-4cc7-a084-21df96bba446",
   "metadata": {},
   "outputs": [],
   "source": [
    "# Data\n",
    "# Change directory for data read/write\n",
    "\n",
    "dict_file='../data/raws_CO_202306.pickle' # input path of FMDA dictionaries\n",
    "reproducibility_file='../data/reproducibility_dict.pickle'\n",
    "\n",
    "# read test datasets\n",
    "test_dict={}\n",
    "test_dict.update(load_and_fix_data(dict_file))\n",
    "print(test_dict.keys())\n",
    "\n",
    "repro_dict={}\n",
    "repro_dict.update(load_and_fix_data(reproducibility_file))\n",
    "print(repro_dict.keys())\n",
    "# Build Case Data\n",
    "id = \"CPTC2_202306010000\"\n",
    "case_data=test_dict[id]\n",
    "case_data[\"hours\"]=len(case_data['fm'])\n",
    "case_data[\"h2\"]=int(24*20)"
   ]
  },
  {
   "cell_type": "markdown",
   "id": "2bc23a55-2661-4656-9af6-a6b025d49da9",
   "metadata": {},
   "source": [
    "## References\n",
    "\n",
    "* Vanderkamp 2014\n",
    "* Mandel 2014\n",
    "* USDA Stick Diam: https://www.fs.usda.gov/t-d/pubs/htmlpubs/htm05512347/\n",
    "* AMS Rain: https://glossary.ametsoc.org/wiki/Rain\n",
    "* RAWS Sensor specifications: https://s.campbellsci.com/documents/us/product-brochures/b_cs506_cs205.pdf\n",
    "    * Stick Specs: https://www.campbellsci.com/pn26601"
   ]
  },
  {
   "cell_type": "code",
   "execution_count": null,
   "id": "b1aa3863-9fa4-4ca2-a809-041c42960916",
   "metadata": {},
   "outputs": [],
   "source": []
  }
 ],
 "metadata": {
  "kernelspec": {
   "display_name": "Python 3 (ipykernel)",
   "language": "python",
   "name": "python3"
  },
  "language_info": {
   "codemirror_mode": {
    "name": "ipython",
    "version": 3
   },
   "file_extension": ".py",
   "mimetype": "text/x-python",
   "name": "python",
   "nbconvert_exporter": "python",
   "pygments_lexer": "ipython3",
   "version": "3.9.12"
  }
 },
 "nbformat": 4,
 "nbformat_minor": 5
}
