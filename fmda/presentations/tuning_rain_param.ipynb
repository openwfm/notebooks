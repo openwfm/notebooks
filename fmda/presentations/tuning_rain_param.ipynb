{
 "cells": [
  {
   "cell_type": "markdown",
   "id": "d48e8d64-1e41-4483-905c-f8f20f829a5c",
   "metadata": {},
   "source": [
    "# Rain Hyperparameter Initialization\n",
    "\n",
    "The purpose of this notebook is to examine the hyperparameter associated with rain in the FMDA RNN model. The current architecture is to have an additive effect of rain on fuel moisture in the initiated model.\n",
    "\n",
    "## Background: Physics Model from Vanderkamp 2014\n",
    "\n",
    "Vanderkamp (2014) establish the following physics-based model of the affect of rain on fuels. The depth of a stick is modeled, and there is assumed to be radial symmetry and symmetry along the length of the stick. During rain, the outer layer of the stick absorbs the rain. The amount of absorbed rain $P_{abs}$, in units of $kg/s$, is calculated from the diamter of the stick $2r$ and the incident precipitation rate $P_{inc}$ (in units of $\\frac{kg}{sm^2}$):\n",
    "\n",
    "$P_{abs}=\\frac{2r}{P_{inc}}$\n",
    "\n",
    "Additionally, the moisture is limited to a max value $m_{max}$, which is \"determined through model calibration\". For 10-h fuels, they arrived on $m_{max}=76.8\\%$. This value was valibrated at a single study location."
   ]
  },
  {
   "cell_type": "markdown",
   "id": "a72def03-0e8c-4473-a9dd-e68b233062a1",
   "metadata": {},
   "source": [
    "## Translating the Vanderkamp Model\n",
    "\n",
    "### RNN Model of Rain\n",
    "\n",
    "The core of the physics-initiated model is an ODE built off of Mandel 2014. In the current version of the RNN (as of Jan 1 2024), the initiated model adds the effect of rain to the ODE moisture model. Call the ODE component of the model $f(m_t)$. So the modeled moisture at time $t=1$ would be the sum of the moisture model calculated on the previous timestep ($f(m_0)$) and a constant effect based on the rainfall. Let the following definitions for the model be:\n",
    "\n",
    "* $S_{fm}$: scale parameter associated with fuel moisture. Currently (Jan 1 2014), this is calculated as the maximum observed fuel moisture value in the training data. Moving forward, this will be a hyperparameter.\n",
    "* $S_{rain}$: scale parameter associated with rain. As before, this is calculated as from the training data as the maximum observed rain (units of mm).\n",
    "* $R_t$: the observed rainfall data at time $t$ (units of mm)\n",
    "* $K$: the hyperparameter associated with rain. It is the percent increase in fuel moisture per mm of rain per hour, in units of percentage of fuel moisture per hour millimeter $\\frac{\\%}{h\\cdot mm}$ (??? Get Jan to Confirm)\n",
    "\n",
    "Thus, the modeled moisture at time $t=1$ is:\n",
    "\n",
    "$$\n",
    "m_1 = f(m_0)+ K \\cdot \\frac{S_{fm}}{S_{rain}} \\cdot R_1\n",
    "$$\n",
    "\n",
    "In this notebook we will attempt to translate the Vanderkamp model of rain into the physics-initiated RNN to get a good value of the parameter $K$. Following that, we could conduct a grid-search on that parameter around this physics-based starting value."
   ]
  },
  {
   "cell_type": "markdown",
   "id": "90a56c00-4719-4ae0-9530-dc7bb6a5d293",
   "metadata": {},
   "source": [
    "### Setting Parameter K\n",
    "\n",
    "First, we will be working with 10h fuels, which corresponds to 1/2-inch sticks, per [USDA](https://www.fs.usda.gov/t-d/pubs/htmlpubs/htm05512347/index.htm#:~:text=Dead%20fuels%20are%20divided%20into,to%20absorb%20or%20lose%20moisture.), which is equal to 12.7 mm. So the numerator in the Vanderkamp model would be 12.7. The denominator is the incoming rain $P_{inc}$, in units of $kg s^{-1} m^{-2}$. The physics-initiated RNN formulation will constrain the rainfall to be 1-mm over an hour..."
   ]
  },
  {
   "cell_type": "markdown",
   "id": "432b0d78-f10f-4990-88e5-7806bd4c0d21",
   "metadata": {},
   "source": [
    "## Setup"
   ]
  },
  {
   "cell_type": "code",
   "execution_count": null,
   "id": "c6389c7c-7141-4027-8f14-482f8aceb305",
   "metadata": {},
   "outputs": [],
   "source": [
    "import sys\n",
    "sys.path.append(\"..\")"
   ]
  },
  {
   "cell_type": "code",
   "execution_count": null,
   "id": "1a736c92-8aeb-44e7-ae5f-06cee976a659",
   "metadata": {},
   "outputs": [],
   "source": [
    "# Setup\n",
    "import reproducibility\n",
    "\n",
    "# both can change\n",
    "# Environment\n",
    "import numpy as np\n",
    "import pandas as pd\n",
    "import tensorflow as tf\n",
    "\n",
    "import matplotlib.pyplot as plt\n",
    "import tensorflow as tf\n",
    "import pickle, os\n",
    "\n",
    "from data_funcs import load_and_fix_data, plot_data\n",
    "from moisture_rnn import create_rnn_data, train_rnn, rnn_predict"
   ]
  },
  {
   "cell_type": "code",
   "execution_count": null,
   "id": "dc3a9ef0-0d70-4cc7-a084-21df96bba446",
   "metadata": {},
   "outputs": [],
   "source": [
    "# Data\n",
    "# Change directory for data read/write\n",
    "\n",
    "dict_file='../data/raws_CO_202306.pickle' # input path of FMDA dictionaries\n",
    "reproducibility_file='../data/reproducibility_dict.pickle'\n",
    "\n",
    "# read test datasets\n",
    "test_dict={}\n",
    "test_dict.update(load_and_fix_data(dict_file))\n",
    "print(test_dict.keys())\n",
    "\n",
    "repro_dict={}\n",
    "repro_dict.update(load_and_fix_data(reproducibility_file))\n",
    "print(repro_dict.keys())\n",
    "# Build Case Data\n",
    "id = \"CPTC2_202306010000\"\n",
    "case_data=test_dict[id]\n",
    "case_data[\"hours\"]=len(case_data['fm'])\n",
    "case_data[\"h2\"]=int(24*20)"
   ]
  },
  {
   "cell_type": "markdown",
   "id": "2bc23a55-2661-4656-9af6-a6b025d49da9",
   "metadata": {},
   "source": [
    "## References\n",
    "\n",
    "* Vanderkamp 2014\n",
    "* Mandel 2014\n",
    "* USDA Stick Diam: https://www.fs.usda.gov/t-d/pubs/htmlpubs/htm05512347/"
   ]
  },
  {
   "cell_type": "code",
   "execution_count": null,
   "id": "9c84f203-0e56-4f16-bfee-542c0f5d908e",
   "metadata": {},
   "outputs": [],
   "source": []
  }
 ],
 "metadata": {
  "kernelspec": {
   "display_name": "Python 3 (ipykernel)",
   "language": "python",
   "name": "python3"
  },
  "language_info": {
   "codemirror_mode": {
    "name": "ipython",
    "version": 3
   },
   "file_extension": ".py",
   "mimetype": "text/x-python",
   "name": "python",
   "nbconvert_exporter": "python",
   "pygments_lexer": "ipython3",
   "version": "3.9.12"
  }
 },
 "nbformat": 4,
 "nbformat_minor": 5
}
