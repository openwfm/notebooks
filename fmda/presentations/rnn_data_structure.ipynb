{
 "cells": [
  {
   "cell_type": "code",
   "execution_count": null,
   "id": "2fa3f116-148d-4251-a8a5-e908710bc3e4",
   "metadata": {},
   "outputs": [],
   "source": [
    "import numpy as np\n",
    "from tensorflow.keras.preprocessing import timeseries_dataset_from_array"
   ]
  },
  {
   "cell_type": "code",
   "execution_count": null,
   "id": "03048248-0c81-491d-b0ce-a099bd984dae",
   "metadata": {},
   "outputs": [],
   "source": [
    "N=100\n",
    "features = 3\n",
    "data = []\n",
    "\n",
    "# Loop through row indices (i) from 1 to N\n",
    "for i in range(1, N + 1):\n",
    "    # Create a row with the required format\n",
    "    row = [f't{i}_f{j}' for j in range(1, features+1)]\n",
    "    # Append the row to the data list\n",
    "    data.append(row)\n",
    "\n",
    "# Convert the list of rows to a NumPy ndarray\n",
    "data = np.array(data)\n",
    "\n",
    "# Print head of dataa\n",
    "data[0:5,:]"
   ]
  },
  {
   "cell_type": "code",
   "execution_count": null,
   "id": "17dfd363-be74-478a-af42-377932f2f08b",
   "metadata": {},
   "outputs": [],
   "source": [
    "timesteps = 5  # Number of timesteps per sequence, AKA sequence_length in args\n",
    "batch_size = 32    # Number of samples per batch"
   ]
  },
  {
   "cell_type": "code",
   "execution_count": null,
   "id": "81fbb021-b3a2-475a-82c9-d5b9e43949a9",
   "metadata": {},
   "outputs": [],
   "source": [
    "dataset=timeseries_dataset_from_array(\n",
    "    data,\n",
    "    targets=None,\n",
    "    sequence_length=timesteps,\n",
    "    batch_size=batch_size\n",
    ")"
   ]
  },
  {
   "cell_type": "code",
   "execution_count": null,
   "id": "38f274ed-2fb8-4367-980f-d1b7ac1401e8",
   "metadata": {},
   "outputs": [],
   "source": [
    "for i, batch in enumerate(dataset):\n",
    "    print(f\"Batch {i + 1} shape: {batch.shape}\")\n",
    "    print(batch)\n",
    "    print(\"~\"*50)"
   ]
  },
  {
   "cell_type": "code",
   "execution_count": null,
   "id": "b3898af7-b504-4308-87b2-54c217709a54",
   "metadata": {},
   "outputs": [],
   "source": []
  }
 ],
 "metadata": {
  "kernelspec": {
   "display_name": "Python 3 (ipykernel)",
   "language": "python",
   "name": "python3"
  },
  "language_info": {
   "codemirror_mode": {
    "name": "ipython",
    "version": 3
   },
   "file_extension": ".py",
   "mimetype": "text/x-python",
   "name": "python",
   "nbconvert_exporter": "python",
   "pygments_lexer": "ipython3",
   "version": "3.9.12"
  }
 },
 "nbformat": 4,
 "nbformat_minor": 5
}
