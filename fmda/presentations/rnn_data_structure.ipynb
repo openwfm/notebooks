{
 "cells": [
  {
   "cell_type": "markdown",
   "id": "55855dde-0a45-4430-b576-29c7eb078794",
   "metadata": {},
   "source": [
    "# Input Data Structure for RNNs"
   ]
  },
  {
   "cell_type": "code",
   "execution_count": null,
   "id": "2fa3f116-148d-4251-a8a5-e908710bc3e4",
   "metadata": {},
   "outputs": [],
   "source": [
    "import numpy as np\n",
    "import sys\n",
    "sys.path.append(\"..\")\n",
    "from moisture_rnn import staircase, staircase_2\n",
    "import pandas as pd"
   ]
  },
  {
   "cell_type": "markdown",
   "id": "e8155370-6650-4d18-b3e4-c39260d217b4",
   "metadata": {},
   "source": [
    "\n",
    "## Background\n",
    "\n",
    "RNNs are a type of timeseries model that relates the outcome at time $t$ to the outcome at previous times. Like other machine learning models, training is typically done by calculating the gradient of the output with respect to the weights, or parameters, of the model. With recursive or other type of autoregressive models, the gradient calculation at time $t$ ends up depending on the gradient at $t-1, t-2, ...,$ and to $t=0$. This ends up being computationally expensive, but more importantly can lead to \"vanishing\" or \"exploding\" gradient problems, where many gradients are multiplied together and either blow up or shrink. See LINK_TO_RECURSIVE_GRADIENT_LATEX for more info...\n",
    "\n",
    "RRNs and other timeseries neural network architectures* get around this issue by approximating the gradient in more stable ways. In addition to many model architecture and hyperparameter options, timeseries neural networks use two main ways of restructuring the input data.\n",
    "\n",
    "* **Sequence Length:** The input data is divided into smaller collections of ordered events, known as sequences. When calculating the gradient with respect to the model weights, the gradient only looks back this number of timesteps. Also known as `timesteps`, `sequence_length`, or just \"sample\" in `tensorflow` functions and related literature. For a sequence length of 3, the unique sequences of length 3 are: `[1,2,3], [2,3,4], ..., [T-2, T-1, T]`, for a total number of sequences `T-timesteps+1`\n",
    "\n",
    "* **Batch size:** Sequences are grouped together into batches. The batch size determines how many sequences the network processes in a single step of calculating loss and updating weights. Used as `batch_size` in `tensorflow`.\n",
    "\n",
    "The total number of batches is therefore determined from the total number of observations $T$ and the batch size. In a single batch, the loss is typically calculated for each sequence and then averaged to produce a single value. Then, the gradient of the loss with respect to the parameters (weights and biases) is computed for each sequence in the batch. So each batch will have a single gradient calculation that is the sum of the gradients of each sequence in the batch.\n",
    "\n",
    "**Note:* these same data principles apply to more complex versions of timeseries neural network layers, such as LSTM and GRU."
   ]
  },
  {
   "cell_type": "markdown",
   "id": "39fa2a9d-c74b-445d-a875-e7591c7a6666",
   "metadata": {},
   "source": [
    "## Stateless vs Stateful Networks\n",
    "\n",
    "RNNs have a hidden state that represents the recurrent layer output at a previous time. There is a weight and bias at each RNN cell that determines the relative contribution of the previous output to the current output. When updating weights in RNNs, there are two main types of training scheme:\n",
    "\n",
    "**Stateless:** the hidden state is reset to the initial state (often zero) at the start of each new sequence in a batch. So, the network treats each sequence independently, and no information is carried over in time between sequences. These models are simpler, but work better when time dependence is relatively short.\n",
    "* **Input Data Shape:** (`n_sequence`, `timesteps`, `features`), where `n_sequence` is total number of sequences (a function of total observed times `T` and the user choice of timesteps). The input data does NOT need to be structured with batch size in stateless RNNs.\n",
    "* **Tensorflow RNN Args:** for a stateless RNN, use the `input_shape` parameter, with `input_shape`=(`timesteps`, `features`). Then, `batch_size` can be declared in the fitting stage with `model.fit(X_train, batch_size = __)`. \n",
    "\n",
    "**Stateful:** the hidden states are carried over from one sequence to the next within a batch. Longer time dependencies can be learned in this way.\n",
    "* **Input Data Shape:** (`batch_size`, `timesteps`, `features`). In order for the hidden state to be passed between sequences, the input data must be formatted using the `batch_size` hyperparameter.\n",
    "* **Tensorflow RNN Args:** for a stateful RNN, use the `batch_input_shape` parameter, with `batch_input_shape`=(`batch_size`, `timesteps`, `features`)"
   ]
  },
  {
   "cell_type": "markdown",
   "id": "50e9011c-ee92-4bc2-bf6b-461b5bf9c662",
   "metadata": {},
   "source": [
    "## Examples\n",
    "\n",
    "### Data Description\n",
    "\n",
    "Consider $T=100$ observations of a variable in time $y_t$, so $t=1, ..., 100$. A feature matrix with $1$ features has dimensions $100\\times 1$, and must be restructured for use in RNNs."
   ]
  },
  {
   "cell_type": "code",
   "execution_count": null,
   "id": "03048248-0c81-491d-b0ce-a099bd984dae",
   "metadata": {},
   "outputs": [],
   "source": [
    "T=100 # total number of times obseved\n",
    "\n",
    "data = np.arange(0, 100).reshape(-1, 1)\n",
    "# data = np.array([[f\"x{i}\"] for i in range(100)])\n",
    "\n",
    "\n",
    "# Generate random response vector, needed by staircase func\n",
    "y = np.arange(1, 101).reshape(-1, 1)\n",
    "\n",
    "print(f\"Response Data Shape: {y.shape}\")\n",
    "print(\"First 10 rows\")\n",
    "print(y[0:10])\n",
    "\n",
    "# Print head of data\n",
    "print(f\"Feature Data Shape: {data.shape}\")\n",
    "print(\"First 10 rows\")\n",
    "data[0:10,:]"
   ]
  },
  {
   "cell_type": "markdown",
   "id": "eb559e3f-b7ca-40a6-8d64-98df3bcb0f51",
   "metadata": {},
   "source": [
    "The rows of the input data array represent all features at a single timepoint. The first digit represents the feature number, and the second digit represents time point. So value $13$ represents feature 1 at time 3. "
   ]
  },
  {
   "cell_type": "markdown",
   "id": "571efd5b-7a38-4a79-9f34-8c5c7a64933f",
   "metadata": {},
   "source": [
    "### Single Batch Example\n",
    "\n",
    "With a stateless RNN, the input data is structured to be of shape (`n_sequence`, `timesteps`, `features`). The `batch_size` is not needed to structure the data for a stateless RNN.\n",
    "\n",
    "When using functions that expect `batch_size` to structure the data, an option is to set `batch_size` to be some large number greater than the total number of observed times $T$, so that all the data is guarenteed to be in one batch. *NOTE:* here we trick the function by using a large batch size, but `batch_size` could still be declared at the fitting stage of the model.\n",
    "\n",
    "Suppose in we use `timesteps=5`, so we would get sequences of times `[1,2,3,4,5]` for the first sequence, then `[2,3,4,5,6]` for the next, and so on until `[96,97,98,99,100]`. \n",
    "\n",
    "Thus, there are `100-5+1=96` possible ordered sequences of length `5`. "
   ]
  },
  {
   "cell_type": "markdown",
   "id": "7e17e4dc-62be-4001-ae07-1e9a985f5b9e",
   "metadata": {},
   "source": [
    "We need to structure the input data to the RNN to be of shape (96, 5, 3). *Note:* since the model is stateless, and the sequences are treated independently, the actual order of the sequences doesn't matter."
   ]
  },
  {
   "cell_type": "markdown",
   "id": "af506b7e-7ffd-484f-a1d5-a748da8f2f6d",
   "metadata": {},
   "source": [
    "For a stateless RNN, the batches could consist of any collection of the sequences, since the sequences are indepenent. \n",
    "\n",
    "We want all of the data sequences to be in a single batch, but number of batches is not a direct user input for most built-in functions. To get around this, we make the batch size some number larger than the total number of observed times."
   ]
  },
  {
   "cell_type": "markdown",
   "id": "865805e0-caf8-4931-b9d2-6bd64cda0189",
   "metadata": {},
   "source": [
    "We now recreate this using the custom `staircase` function, which produces the same results for the input data:"
   ]
  },
  {
   "cell_type": "code",
   "execution_count": null,
   "id": "e350c887-af78-4036-bd66-f0e9fe574d1d",
   "metadata": {
    "scrolled": true
   },
   "outputs": [],
   "source": [
    "X_train, y_train = staircase(data, y, timesteps = 5, datapoints = len(y), verbose=True)"
   ]
  },
  {
   "cell_type": "code",
   "execution_count": null,
   "id": "7b51ca33-40ea-4ef4-a26d-b1a875e61313",
   "metadata": {},
   "outputs": [],
   "source": [
    "print(X_train.shape)\n",
    "print(y_train.shape)"
   ]
  },
  {
   "cell_type": "markdown",
   "id": "0bcca61f-c765-4553-861f-b2da60cb5fcc",
   "metadata": {},
   "source": [
    "The first input sequence will be 5 observations of the features starting at time 0:"
   ]
  },
  {
   "cell_type": "code",
   "execution_count": null,
   "id": "32140b50-12e8-4352-80fd-507db473c5c5",
   "metadata": {},
   "outputs": [],
   "source": [
    "print(\"Sequence 1:\")\n",
    "print(X_train[0,:,:])"
   ]
  },
  {
   "cell_type": "markdown",
   "id": "b0a006c9-122c-4968-86cc-312472f26e02",
   "metadata": {},
   "source": [
    "The second input sequence will be 5 observations of the features starting at time 1:"
   ]
  },
  {
   "cell_type": "code",
   "execution_count": null,
   "id": "418da438-16f4-4179-a997-6f0e1f3a974e",
   "metadata": {},
   "outputs": [],
   "source": [
    "print(\"Sequence 2:\")\n",
    "X_train[1,:,:]"
   ]
  },
  {
   "cell_type": "markdown",
   "id": "ec684b9c-a6bb-48a0-92f8-9350286a0dfd",
   "metadata": {},
   "source": [
    "In this implementation, we structure the input data as all possible sequences of length 5, but there is no requirement to do it this way. With a stateless RNN, you can use any combination of sequences. The input data does not need to be highly structured, you can put any combination of sequences you want in an array."
   ]
  },
  {
   "cell_type": "markdown",
   "id": "b14965b3-75cf-43e9-b3fe-85900e473a86",
   "metadata": {},
   "source": [
    "### Stateful Multi-Batch Example"
   ]
  },
  {
   "cell_type": "markdown",
   "id": "ce8685b5-7e79-462b-b782-6a493dc63184",
   "metadata": {},
   "source": [
    "We now need the data in the format (`batch_size`, `timesteps`, `features`) for each batch. A stateful RNN maintains a hidden state between batches. So sequence $i$ in batch $j$ needs to be a continuation of sequence $i$ in batch $j-1$."
   ]
  },
  {
   "cell_type": "code",
   "execution_count": null,
   "id": "341283b8-f66a-4c6b-a314-a3df4d1f08bb",
   "metadata": {},
   "outputs": [],
   "source": [
    "X_train, y_train = staircase_2(data, y, timesteps = 5, batch_size = 32, verbose=False)"
   ]
  },
  {
   "cell_type": "markdown",
   "id": "a28a11c9-c3f2-4e78-a455-7611a0edb920",
   "metadata": {},
   "source": [
    "The first input sequence will again be 5 observations of the features starting at time 0:"
   ]
  },
  {
   "cell_type": "code",
   "execution_count": null,
   "id": "a7164cbf-8009-43bb-aa0b-1ed7c22d1212",
   "metadata": {},
   "outputs": [],
   "source": [
    "print(\"Sequence 1, Batch 1:\")\n",
    "X_train[0,:,:]"
   ]
  },
  {
   "cell_type": "code",
   "execution_count": null,
   "id": "c74a00f8-8fa8-4f99-b0db-4100d9fdcd27",
   "metadata": {},
   "outputs": [],
   "source": [
    "print(\"Sequence 2, Batch 1:\")\n",
    "X_train[1,:,:]"
   ]
  },
  {
   "cell_type": "markdown",
   "id": "5051720f-fe70-4263-b405-60417e90a7f8",
   "metadata": {},
   "source": [
    "Since the batch size is 32, the 33rd input sequence will be a continuation of the 1st input sequence. So the 33rd input sequence starts at time 5:"
   ]
  },
  {
   "cell_type": "code",
   "execution_count": null,
   "id": "3f97ae1c-6882-40f0-a15a-7bfa69b77d22",
   "metadata": {},
   "outputs": [],
   "source": [
    "print(\"Sequence 1, Batch 2:\")\n",
    "X_train[0+32,:,:]"
   ]
  },
  {
   "cell_type": "code",
   "execution_count": null,
   "id": "bc2be811-bb3d-4ccb-95b1-d3ba284380bb",
   "metadata": {},
   "outputs": [],
   "source": [
    "print(\"Sequence 2, Batch 2:\")\n",
    "X_train[1+32,:,:]"
   ]
  },
  {
   "cell_type": "code",
   "execution_count": null,
   "id": "0142dc18-a983-4330-af65-f769f802a1fb",
   "metadata": {},
   "outputs": [],
   "source": [
    "print(\"Sequence 1, Batch 3:\")\n",
    "X_train[32+32,:,:]"
   ]
  },
  {
   "cell_type": "code",
   "execution_count": null,
   "id": "2ddf3edc-b0cb-4d93-99ef-ac2e57aa75d7",
   "metadata": {},
   "outputs": [],
   "source": [
    "print(\"Sequence 2, Batch 3:\")\n",
    "X_train[33+32,:,:]"
   ]
  },
  {
   "cell_type": "markdown",
   "id": "a261a94f-8fbb-4cb9-98ae-86df0ea8f6d8",
   "metadata": {},
   "source": [
    "By setting a RNN to be stateful with batch size 32, in the first batch the model will run each sequence through the model. The hidden state at the end of sequence $i$ is used as the initial hidden state for seqeunce $i$ in the next batch.\n",
    "\n",
    "In this example we again structured the data to use all possible sequences of length 5. So within batch 1, the 1st sequence starts at time zero, the next sequence starts at time 1. But within a batch, there does not need to be any temporal relationship between the sequences. The only requirement is that the $i^{th}$ sequence within each batch lines up."
   ]
  },
  {
   "cell_type": "markdown",
   "id": "6105be3d-c5c0-4faa-ac56-056121579ff0",
   "metadata": {},
   "source": [
    "## Multiple Timeseries Data Structure"
   ]
  },
  {
   "cell_type": "markdown",
   "id": "3f23cf68-224a-4b39-87db-827b6614fb3f",
   "metadata": {},
   "source": [
    "Before we showed how to structure the input data if we have observations from 1 timeseries. In spatial contexts, there will be observation at multiple locations. There are many different ways to implement training for RNNs using multiple timeseries."
   ]
  },
  {
   "cell_type": "markdown",
   "id": "94891cfc-b853-4fa4-a46b-fed2c8b1f4e6",
   "metadata": {},
   "source": [
    "### Example: Stateful & Locations Equals Batch Size, Same Start Time\n",
    "\n",
    "As a simplifying first example, suppose we set the batch size equal to the number of unique locations. So suppose we have 3 timeseries of observations at 3 unique locations. In this example, we will suppose they occur at the same time, but the data structure used here does not depend on that. The only temporal dependence is between sequences that will share a hidden state across batches in a stateful RNN. We include a second column in the feature matrix for location index below, values 1, 2, or 3. "
   ]
  },
  {
   "cell_type": "code",
   "execution_count": null,
   "id": "df2514f5-8e04-4ec3-b934-145f92122803",
   "metadata": {},
   "outputs": [],
   "source": [
    "data2 = np.column_stack(\n",
    "    (np.concatenate((np.arange(0, 100), np.arange(0, 100), np.arange(0, 100))),\n",
    "    np.concatenate((np.repeat(1, 100), np.repeat(2, 100), np.repeat(3, 100))))\n",
    ")"
   ]
  },
  {
   "cell_type": "code",
   "execution_count": null,
   "id": "613dd7e9-d518-4cb4-ac88-fc15baeb966a",
   "metadata": {},
   "outputs": [],
   "source": [
    "print('First 10 observations at location 1:')\n",
    "data2[0:10,:]"
   ]
  },
  {
   "cell_type": "code",
   "execution_count": null,
   "id": "e8af0cc6-9985-4c65-a18a-0770a32636fd",
   "metadata": {},
   "outputs": [],
   "source": [
    "print('First 10 observations at location 2:')\n",
    "data2[100:110,:]"
   ]
  },
  {
   "cell_type": "code",
   "execution_count": null,
   "id": "fcc9c682-1f68-43ca-a033-c189f34320ae",
   "metadata": {},
   "outputs": [],
   "source": [
    "print('First 10 observations at location 3:')\n",
    "data2[200:210,:]"
   ]
  },
  {
   "cell_type": "markdown",
   "id": "d2cbd92c-c6f7-467d-869a-e63588799e5a",
   "metadata": {},
   "source": [
    "In this example, we construct a dataset with `batch_size` = 3."
   ]
  },
  {
   "cell_type": "code",
   "execution_count": null,
   "id": "3ff0bd5c-7934-47a9-9ad1-cad842c87c39",
   "metadata": {},
   "outputs": [],
   "source": [
    "X1, y1 = staircase_2(data2[data2[:,1] == 1], y, timesteps = 5, batch_size = 1, verbose=False)\n",
    "X2, y2 = staircase_2(data2[data2[:,1] == 2], y, timesteps = 5, batch_size = 1, verbose=False)\n",
    "X3, y3 = staircase_2(data2[data2[:,1] == 3], y, timesteps = 5, batch_size = 1, verbose=False)\n",
    "\n",
    "Xs = [X1, X2, X3]"
   ]
  },
  {
   "cell_type": "code",
   "execution_count": null,
   "id": "2cd24d17-9936-4ec9-9781-0312d307d34b",
   "metadata": {},
   "outputs": [],
   "source": [
    "[Xi.shape[0] for Xi in Xs]"
   ]
  },
  {
   "cell_type": "code",
   "execution_count": null,
   "id": "7a17fa42-70df-4da0-aae4-62b4306a8d85",
   "metadata": {},
   "outputs": [],
   "source": [
    "locs = len(Xs)\n",
    "XX = np.empty((Xs[0].shape[0]*locs, 5, 2))"
   ]
  },
  {
   "cell_type": "code",
   "execution_count": null,
   "id": "7233bde1-8169-4731-b78d-6cc9efa4cd3f",
   "metadata": {},
   "outputs": [],
   "source": [
    "for i in range(0,locs):\n",
    "    XX[i::locs] =  Xs[i]"
   ]
  },
  {
   "cell_type": "code",
   "execution_count": null,
   "id": "3c637c93-882a-4e09-9871-5c406b3efb88",
   "metadata": {},
   "outputs": [],
   "source": [
    "print(\"Sequence 1, Batch 1\")\n",
    "print(XX[0,:,:])\n",
    "print(\"Sequence 1, Batch 2\")\n",
    "print(XX[3,:,:])"
   ]
  },
  {
   "cell_type": "code",
   "execution_count": null,
   "id": "7351737c-d0fa-42c9-b2cc-8530e3a88a76",
   "metadata": {},
   "outputs": [],
   "source": [
    "print(\"Sequence 2, Batch 1\")\n",
    "print(XX[1,:,:])\n",
    "print(\"Sequence 2, Batch 2\")\n",
    "print(XX[4,:,:])"
   ]
  },
  {
   "cell_type": "code",
   "execution_count": null,
   "id": "74ed5a15-198a-4a4b-b334-f2720fee2185",
   "metadata": {},
   "outputs": [],
   "source": [
    "print(\"Sequence 3, Batch 1\")\n",
    "print(XX[2,:,:])\n",
    "print(\"Sequence 3, Batch 2\")\n",
    "print(XX[5,:,:])"
   ]
  },
  {
   "cell_type": "markdown",
   "id": "3ff9f26c-5c58-4450-b885-81e5e1f203ea",
   "metadata": {},
   "source": [
    "### Example: Stateful & Locations Equals Batch Size, Staggered Start Time\n",
    "\n",
    "In the previous example, within a batch the sequences all start at the same time. This can lead to over-reliance on the particular ordering of the data. In this next example, we will use the same data from 3 locations as before, but we will stagger the start time of the sequences. This will result in losing a sequence at the end of the timeseries that are offset, so we filter out the data to match in dimensions."
   ]
  },
  {
   "cell_type": "code",
   "execution_count": null,
   "id": "d4940983-9568-4092-9705-98b5b5383103",
   "metadata": {},
   "outputs": [],
   "source": [
    "X1, y1 = staircase_2(data2[(data2[:,1] == 1) & (data2[:,0]>= 0)], y, timesteps = 5, batch_size = 1, verbose=False)\n",
    "X2, y2 = staircase_2(data2[(data2[:,1] == 2) & (data2[:,0]>= 1)], y, timesteps = 5, batch_size = 1, verbose=False)\n",
    "X3, y3 = staircase_2(data2[(data2[:,1] == 3) & (data2[:,0]>= 2)], y, timesteps = 5, batch_size = 1, verbose=False)\n",
    "\n",
    "Xs = [X1, X2, X3]"
   ]
  },
  {
   "cell_type": "code",
   "execution_count": null,
   "id": "577d1a36-67f5-42a2-ab1f-9d6ade3404dd",
   "metadata": {},
   "outputs": [],
   "source": [
    "lens = [Xi.shape[0] for Xi in Xs]\n",
    "print(lens)\n",
    "print(min(lens))"
   ]
  },
  {
   "cell_type": "code",
   "execution_count": null,
   "id": "cd43b870-99b4-43ff-857d-8a36a7e26cfd",
   "metadata": {},
   "outputs": [],
   "source": [
    "# Filter each array to be same length\n",
    "min_shape = min(lens)\n",
    "Xs = [Xi[:min_shape] for Xi in Xs]"
   ]
  },
  {
   "cell_type": "code",
   "execution_count": null,
   "id": "7648b9bb-df00-41b7-b942-76e6887e2ac7",
   "metadata": {},
   "outputs": [],
   "source": [
    "[Xi.shape[0] for Xi in Xs]"
   ]
  },
  {
   "cell_type": "code",
   "execution_count": null,
   "id": "06976280-3f5a-4d7a-8a86-211f1109152c",
   "metadata": {},
   "outputs": [],
   "source": [
    "locs = len(Xs)\n",
    "XX = np.empty((Xs[0].shape[0]*locs, 5, 2))\n",
    "\n",
    "for i in range(0,locs):\n",
    "    XX[i::locs] =  Xs[i]"
   ]
  },
  {
   "cell_type": "code",
   "execution_count": null,
   "id": "58241ac4-adcc-4cd5-b1af-9485788fe6fd",
   "metadata": {},
   "outputs": [],
   "source": [
    "print(\"Sequence 1, Batch 1\")\n",
    "print(XX[0,:,:])\n",
    "print(\"Sequence 1, Batch 2\")\n",
    "print(XX[3,:,:])"
   ]
  },
  {
   "cell_type": "code",
   "execution_count": null,
   "id": "520d62d2-d735-4f0d-8481-8dfe86c3c563",
   "metadata": {},
   "outputs": [],
   "source": [
    "print(\"Sequence 2, Batch 1\")\n",
    "print(XX[1,:,:])\n",
    "print(\"Sequence 2, Batch 2\")\n",
    "print(XX[4,:,:])"
   ]
  },
  {
   "cell_type": "code",
   "execution_count": null,
   "id": "3ffa7073-841d-444b-b6b1-71dd6b3f8040",
   "metadata": {},
   "outputs": [],
   "source": [
    "print(\"Sequence 3, Batch 1\")\n",
    "print(XX[2,:,:])\n",
    "print(\"Sequence 3, Batch 2\")\n",
    "print(XX[5,:,:])"
   ]
  },
  {
   "cell_type": "markdown",
   "id": "4a3db8d5-3df8-4d23-b2ba-47c9bd90e97c",
   "metadata": {},
   "source": [
    "### Example: Fewer Locations than Batch Size"
   ]
  },
  {
   "cell_type": "code",
   "execution_count": null,
   "id": "08954a73-5b7b-4c05-bbdc-6324b07b389c",
   "metadata": {},
   "outputs": [],
   "source": [
    "# X1, y1 = staircase_2(data2[(data2[:,1] == 1) & (data2[:,0]>= 0)], y, timesteps = 5, batch_size = 1, verbose=False)\n",
    "# X2, y2 = staircase_2(data2[(data2[:,1] == 2) & (data2[:,0]>= 1)], y, timesteps = 5, batch_size = 1, verbose=False)\n",
    "# X3, y3 = staircase_2(data2[(data2[:,1] == 3) & (data2[:,0]>= 2)], y, timesteps = 5, batch_size = 1, verbose=False)\n",
    "\n",
    "# Xs = [X1, X2, X3]"
   ]
  },
  {
   "cell_type": "markdown",
   "id": "eed650eb-d76e-4b95-9cf7-f92d4746379a",
   "metadata": {},
   "source": [
    "### Example: More Locations than Batch Size"
   ]
  },
  {
   "cell_type": "code",
   "execution_count": null,
   "id": "e8ca3d48-3b17-488a-b03c-2704455c91c1",
   "metadata": {},
   "outputs": [],
   "source": [
    "data_config = {\n",
    "    'locs': 3,\n",
    "    'start_times': [0,1,2], # relative to first observation, must match number of locs\n",
    "    'total_hours': 100, # total number of hours to use from data\n",
    "    'batch_size': 2\n",
    "}"
   ]
  },
  {
   "cell_type": "code",
   "execution_count": null,
   "id": "f26d3350-497f-46d6-bd9d-82d2613cb75c",
   "metadata": {},
   "outputs": [],
   "source": [
    "locs = len(np.unique(data2[:,1]))\n",
    "print(f\"Unique Locations: {locs}\")"
   ]
  },
  {
   "cell_type": "code",
   "execution_count": null,
   "id": "2f670fe4-1903-430a-92fd-59168526e03c",
   "metadata": {},
   "outputs": [],
   "source": [
    "batch_size = 2"
   ]
  },
  {
   "cell_type": "code",
   "execution_count": null,
   "id": "1dded017-6565-46ff-a6a6-a416d7b05f63",
   "metadata": {},
   "outputs": [],
   "source": [
    "j = 0 # starting location index\n",
    "for j in range():\n",
    "    X1, y1 = staircase_2(data2[(data2[:,1] == 1) & (data2[:,0]>= 0)], y, timesteps = 5, batch_size = 1, verbose=False)\n",
    "    X2, y2 = staircase_2(data2[(data2[:,1] == 2) & (data2[:,0]>= 1)], y, timesteps = 5, batch_size = 1, verbose=False)\n",
    "    X3, y3 = staircase_2(data2[(data2[:,1] == 3) & (data2[:,0]>= 2)], y, timesteps = 5, batch_size = 1, verbose=False)\n",
    "    \n",
    "    Xs = [X1, X2, X3]"
   ]
  },
  {
   "cell_type": "code",
   "execution_count": null,
   "id": "93e14f0a-cbfc-4ccc-9f53-33c4d733f994",
   "metadata": {},
   "outputs": [],
   "source": []
  },
  {
   "cell_type": "code",
   "execution_count": null,
   "id": "0d5e1c57-b045-4719-bd96-cd6bec8ed8e8",
   "metadata": {},
   "outputs": [],
   "source": []
  },
  {
   "cell_type": "markdown",
   "id": "f0905891-6b67-4a47-93f7-222dedcf74cb",
   "metadata": {},
   "source": [
    "## References\n",
    "\n",
    "https://d2l.ai/chapter_recurrent-neural-networks/bptt.html\n",
    "\n",
    "https://www.tensorflow.org/guide/keras/working_with_rnns#cross-batch_statefulness\n",
    "\n",
    "Tensorflow `timeseries_dataset_from_array` tutorial: https://www.tensorflow.org/api_docs/python/tf/keras/preprocessing/timeseries_dataset_from_array\n",
    "\n",
    "Wiki BPTT: https://en.wikipedia.org/wiki/Backpropagation_through_time#:~:text=Backpropagation%20through%20time%20(BPTT)%20is,independently%20derived%20by%20numerous%20researchers.\n",
    "\n",
    "https://machinelearningmastery.com/understanding-stateful-lstm-recurrent-neural-networks-python-keras/"
   ]
  },
  {
   "cell_type": "code",
   "execution_count": null,
   "id": "b3898af7-b504-4308-87b2-54c217709a54",
   "metadata": {},
   "outputs": [],
   "source": []
  }
 ],
 "metadata": {
  "kernelspec": {
   "display_name": "Python 3 (ipykernel)",
   "language": "python",
   "name": "python3"
  },
  "language_info": {
   "codemirror_mode": {
    "name": "ipython",
    "version": 3
   },
   "file_extension": ".py",
   "mimetype": "text/x-python",
   "name": "python",
   "nbconvert_exporter": "python",
   "pygments_lexer": "ipython3",
   "version": "3.10.13"
  }
 },
 "nbformat": 4,
 "nbformat_minor": 5
}
