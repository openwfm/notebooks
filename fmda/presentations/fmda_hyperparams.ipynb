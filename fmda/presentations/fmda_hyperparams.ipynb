{
 "cells": [
  {
   "cell_type": "markdown",
   "id": "fcb342dd-21ed-430c-8428-f1ac85b00ad4",
   "metadata": {},
   "source": [
    "# Hyperparameter Selection"
   ]
  },
  {
   "cell_type": "markdown",
   "id": "0cc32691-28d2-487e-a0ff-09be833e12a4",
   "metadata": {},
   "source": [
    "## List of Hyperparameters\n",
    "\n",
    "For a timeseries NN:\n",
    "\n",
    "**Architecture Params**\n",
    "\n",
    "* Number of hidden layers\n",
    "* Number of Units per layer (multiplies with number of layers for total number of hyperparams)\n",
    "* Dropout, various types\n",
    "    * Initial dropout: of input layers\n",
    "    * Recurrent dropout: of hidden state aka recurrent state\n",
    "    * Layer dropout: of other connections\n",
    "    * \"Zoneout\": method designed for RNNs where some hidden units maintain previous values\n",
    "* Initialization scheme\n",
    "    * Random: uniform & normal are most common\n",
    "    * Physics based\n",
    "\n",
    "**Training Prams**\n",
    "\n",
    "* Activation function (of each layer)\n",
    "* Learning Rate\n",
    "* Momentum: avoid oscillations in params by keeping knowledge of previous steps\n",
    "* Number of Epochs\n",
    "* Batch size"
   ]
  },
  {
   "cell_type": "markdown",
   "id": "c197aa8f-58f0-48d2-b898-85c88698a553",
   "metadata": {},
   "source": [
    "## Possible Tuning Schemes\n",
    "\n",
    "* NCAR ML paper (McCandless 2020) did a \"manual grid search\", so probably just changing things as you go until performance stops increasing\n",
    "    * *My impression:* any systematic approach would be a contribution to fuel moisture modeling lit\n",
    "* Grid search: define search space and systematically test all combos, computationally infeasible for large number of hyperparams\n",
    "* Random search: define search space and randomly sample parameters, choose best at the end. Simpler form of latin hypercube\n",
    "* Latin Hypercube Sampling\n",
    "    * Kochanski 2018"
   ]
  },
  {
   "cell_type": "markdown",
   "id": "bb5a2f86-60ce-4cae-85a8-6349cb2e1f4c",
   "metadata": {},
   "source": []
  },
  {
   "cell_type": "markdown",
   "id": "800ccb42-1602-4963-99b0-8a93f79fbbf1",
   "metadata": {},
   "source": []
  }
 ],
 "metadata": {
  "kernelspec": {
   "display_name": "Python 3 (ipykernel)",
   "language": "python",
   "name": "python3"
  },
  "language_info": {
   "codemirror_mode": {
    "name": "ipython",
    "version": 3
   },
   "file_extension": ".py",
   "mimetype": "text/x-python",
   "name": "python",
   "nbconvert_exporter": "python",
   "pygments_lexer": "ipython3",
   "version": "3.9.12"
  }
 },
 "nbformat": 4,
 "nbformat_minor": 5
}
