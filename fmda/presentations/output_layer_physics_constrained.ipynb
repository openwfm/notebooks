{
 "cells": [
  {
   "cell_type": "code",
   "execution_count": null,
   "id": "95909853-fb1d-43fd-82fe-d215a215b24d",
   "metadata": {},
   "outputs": [],
   "source": [
    "import sys\n",
    "sys.path.append(\"..\")"
   ]
  },
  {
   "cell_type": "code",
   "execution_count": null,
   "id": "a19b50d3-6524-4365-9855-ad487e5d87f2",
   "metadata": {},
   "outputs": [],
   "source": [
    "# Setup\n",
    "import reproducibility\n",
    "\n",
    "# both can change\n",
    "# Environment\n",
    "import numpy as np\n",
    "import pandas as pd\n",
    "import tensorflow as tf\n",
    "\n",
    "import matplotlib.pyplot as plt\n",
    "import tensorflow as tf\n",
    "import pickle, os\n",
    "\n",
    "from data_funcs import load_and_fix_data, plot_data\n",
    "from moisture_rnn import create_rnn_data, train_rnn, rnn_predict"
   ]
  },
  {
   "cell_type": "markdown",
   "id": "268f2737-feec-4d6e-accf-dd21e7fbb2e9",
   "metadata": {},
   "source": [
    "# Physics-Initiated Neural Networks - Output Layers\n",
    "\n",
    "The purpose of this notebook is to discuss the final output layer of physics-initiated Neural Networks. Physics might constrain the range of model outputs, so it might make sense to hard-code this into the output layer. Furthermore, a physical system may have different behavior when it approaches the minimum and maximum allowable values."
   ]
  },
  {
   "cell_type": "markdown",
   "id": "9b94cb41-9d27-415b-b033-dcce2f139d82",
   "metadata": {},
   "source": [
    "## Fuel Moisture Models\n",
    "\n",
    "In the fuel moisture content (FM) modeling framework, there are constraints on the model outputs to make it physically reasonable. First, FM cannot go below 0%, when there is no water content in the fuels. The maximum possible water content depends on the fuel type. Live fuels range from 200-250% maximum allowable moisture. For dead fuels, Mandel et.al. 2014 use the model below with a \"saturation\" moisture level $S=250\\%$:\n",
    "\n",
    "\n",
    "$$\n",
    "\\frac{\\mathrm{d}m}{\\mathrm{d}t}=\\frac{S-m}{t_{\\mathrm{r}}}\\left(1-\\exp\\left(-\\frac{r-r_0}{r_{\\mathrm{s}}}\n",
    "\\right)  \\right),\\ \\text{if}\\ r>r_0, \n",
    "$$\n",
    "\n",
    "A simple approach would be to constrain the outputs with a piece-wise linear function, or a \"clipped relu\" function as depicted below:\n",
    "\n",
    "![activation functions](https://www.researchgate.net/profile/Md-Hossain-331/publication/343096012/figure/fig2/AS:915583516278784@1595303529166/Activation-Functions-f-x-and-their-corresponding-1-st-derivatives-Dx-The-proposed.png)\n",
    "\n",
    "For the purposes of this notebook, we will constrain dead fuel moisture values to be less than or equal to 250%. Additionally, a physically reasonable process would have moisture content approach the maximum logarithmically, but the minimum moisture content of 0% could be reached more easily. Thus, the \"log-tailed relu\" depicted above could be preferrable, though this function will approach infinity instead of being capped at a maximum value. We will explore augmenting the log-tailed relu idea to have the range of outputs exponentially approach a maximum value."
   ]
  },
  {
   "cell_type": "markdown",
   "id": "c5c5b843-2e7b-4079-aab9-b19d177bb851",
   "metadata": {},
   "source": [
    "Sources:\n",
    "* [Live Fuel Moistures](https://www.nwcg.gov/publications/pms437/fuel-moisture/live-fuel-moisture-content)\n",
    "* [Fuel Moisture Processes](https://www.nwcg.gov/publications/pms425-1/weather-and-fuel-moisture), includes discussion of fiber-saturation level"
   ]
  },
  {
   "cell_type": "markdown",
   "id": "a027cc49-2a4b-4d44-a449-5fd1117a6f32",
   "metadata": {},
   "source": [
    "## Alternative ReLU Functions \n",
    "\n",
    "Below we define the activation functions and plot the range. (The primary source for this section is Hossain 2020.)\n",
    "\n",
    "The Clipped-ReLU function is identical to the ReLU up to a threshold value, after which it is constant with zero slope. The mathematical form of the clipped-ReLU with threshold value $A$ is:\n",
    "\n",
    "$$\n",
    "f(x)=\\begin{cases}\n",
    "    \\max(0, x) &  0<x\\leq A\\\\\n",
    "    A &  x> A\n",
    "\\end{cases}\n",
    "$$\n",
    "\n",
    "This can be easily programmed as a piecewise linear function by taking the maximum of 0 and the input $x$, and then the minimum of that output with the threshold value:"
   ]
  },
  {
   "cell_type": "code",
   "execution_count": null,
   "id": "ab050a17-87c6-4be7-a4ff-f4a77d45f45f",
   "metadata": {},
   "outputs": [],
   "source": [
    "# Define standard ReLU function\n",
    "def relu(x):\n",
    "    return tf.keras.backend.maximum(0., x)\n",
    "\n",
    "# Define clipped ReLU function\n",
    "def clipped_relu(x, threshold=250):\n",
    "    return tf.keras.backend.minimum(tf.keras.backend.maximum(0., x), threshold)"
   ]
  },
  {
   "cell_type": "code",
   "execution_count": null,
   "id": "2170e86b-63e2-4702-b495-8c653a23e7e8",
   "metadata": {},
   "outputs": [],
   "source": [
    "xgrid = np.linspace(-100, 400, 50)"
   ]
  },
  {
   "cell_type": "code",
   "execution_count": null,
   "id": "3f090c69-7423-4998-a9c7-9222fd699793",
   "metadata": {},
   "outputs": [],
   "source": [
    "plt.ylim(-50, 400)\n",
    "plt.axline((-1, 0), (0, 0), color=\"k\", linestyle=\":\") # x axis line\n",
    "plt.axline((0, 0), (0, 1), color=\"k\", linestyle=\":\") # y axis line\n",
    "plt.plot(xgrid, relu(xgrid), label = \"Standard Relu\", linestyle=\"dashed\")\n",
    "plt.plot(xgrid, clipped_relu(xgrid), label = \"Clipped Relu\")\n",
    "plt.legend()\n",
    "plt.grid()"
   ]
  },
  {
   "cell_type": "markdown",
   "id": "da021082-8e29-4e65-b9f3-860e9dafa9fd",
   "metadata": {},
   "source": [
    "The log-tailed ReLU function is similarly identical to the standard ReLU up to a threshold value, and then proceeds logarithmically from there. The mathematical specification, for a threshold value of $A$, is:\n",
    "\n",
    "$$\n",
    "f(x)=\\begin{cases}\n",
    "    0 &  x\\leq 0\\\\\n",
    "    x &  0<x\\leq A\\\\\n",
    "    A+\\log(x-A + 1) &  x> A\n",
    "\\end{cases}\n",
    "$$"
   ]
  },
  {
   "cell_type": "code",
   "execution_count": null,
   "id": "e6333440-2e6b-45bd-b654-3c55830cfabd",
   "metadata": {},
   "outputs": [],
   "source": [
    "# Define Log-Tailed Relu\n",
    "def logtailed_relu(x, threshold=240):\n",
    "    fx = np.maximum(0., x)\n",
    "    x2 = x[x>threshold]\n",
    "    fx[np.where(fx>threshold)]=threshold+np.log(x2-threshold+1)\n",
    "    return fx"
   ]
  },
  {
   "cell_type": "code",
   "execution_count": null,
   "id": "b5b3c053-16f4-470e-af87-335c06b6b852",
   "metadata": {
    "scrolled": true
   },
   "outputs": [],
   "source": [
    "plt.ylim(-50, 400)\n",
    "plt.axline((-1, 0), (0, 0), color=\"k\", linestyle=\":\") # x axis line\n",
    "plt.axline((0, 0), (0, 1), color=\"k\", linestyle=\":\") # y axis line\n",
    "plt.plot(xgrid, relu(xgrid), label = \"Standard Relu\", linestyle=\"dashed\")\n",
    "plt.plot(xgrid, clipped_relu(xgrid), label = \"Clipped Relu\")\n",
    "plt.plot(xgrid, logtailed_relu(xgrid), label = \"Log-Tailed Relu\")\n",
    "plt.legend()\n",
    "plt.grid()"
   ]
  },
  {
   "cell_type": "markdown",
   "id": "51accc9a-838a-453e-82c9-3fb68b47ce3f",
   "metadata": {},
   "source": [
    "The log-tailed ReLU as presented above is virtually identical to the clipped ReLU until very near the saturation level.\n",
    "\n",
    "The maximum difference in the fitted values is about half of a tenth of a percent, so there was no dramatic effect after training. Fuels rarely get to this level, so maybe it is preferrable to start the log tail at a lower value, such as 25% when most fuels are already at extinction moisture level."
   ]
  },
  {
   "cell_type": "code",
   "execution_count": null,
   "id": "7419302d-1244-45fa-b668-8db1f034fe35",
   "metadata": {},
   "outputs": [],
   "source": [
    "plt.ylim(-50, 400)\n",
    "plt.axline((-1, 0), (0, 0), color=\"k\", linestyle=\":\") # x axis line\n",
    "plt.axline((0, 0), (0, 1), color=\"k\", linestyle=\":\") # y axis line\n",
    "plt.plot(xgrid, relu(xgrid), label = \"Standard Relu\", linestyle=\"dashed\")\n",
    "plt.plot(xgrid, clipped_relu(xgrid), label = \"Clipped Relu\")\n",
    "plt.plot(xgrid, logtailed_relu(xgrid, threshold=25), label = \"Log-Tailed Relu\")\n",
    "plt.legend()\n",
    "plt.grid()"
   ]
  },
  {
   "cell_type": "markdown",
   "id": "f534117b-2634-41c6-9274-c4fc5aba69eb",
   "metadata": {},
   "source": [
    "## Testing Models with Various Output Layer Activation"
   ]
  },
  {
   "cell_type": "code",
   "execution_count": null,
   "id": "45f9484b-881d-4e57-b9e0-bbd5e5ad62a0",
   "metadata": {},
   "outputs": [],
   "source": [
    "# Data\n",
    "# Change directory for data read/write\n",
    "\n",
    "dict_file='../data/raws_CO_202306.pickle' # input path of FMDA dictionaries\n",
    "reproducibility_file='../data/reproducibility_dict.pickle'\n",
    "\n",
    "# read test datasets\n",
    "test_dict={}\n",
    "test_dict.update(load_and_fix_data(dict_file))\n",
    "print(test_dict.keys())\n",
    "\n",
    "repro_dict={}\n",
    "repro_dict.update(load_and_fix_data(reproducibility_file))\n",
    "print(repro_dict.keys())\n",
    "# Build Case Data\n",
    "id = \"CPTC2_202306010000\"\n",
    "case_data=test_dict[id]\n",
    "case_data[\"hours\"]=len(case_data['fm'])\n",
    "case_data[\"h2\"]=int(24*20)"
   ]
  },
  {
   "cell_type": "code",
   "execution_count": null,
   "id": "0f5f7f8a-e07c-4645-8109-bd293403cb51",
   "metadata": {},
   "outputs": [],
   "source": [
    "# Re-Define log-tailed ReLU function, since I don't know how to pass args through this interface\n",
    "# Define Log-Tailed Relu\n",
    "def logtailed_relu(x, threshold=25):\n",
    "    fx = np.maximum(0., x)\n",
    "    x2 = x[x>threshold]\n",
    "    fx[np.where(fx>threshold)]=threshold+np.log(x2-threshold)\n",
    "    return fx"
   ]
  },
  {
   "cell_type": "markdown",
   "id": "f358a06a-a237-4a13-a416-21c16a16e747",
   "metadata": {},
   "source": [
    "The clipped ReLU must be scaled..."
   ]
  },
  {
   "cell_type": "code",
   "execution_count": null,
   "id": "e7d92a91-6d66-4ddf-9fff-18e6c896c94c",
   "metadata": {},
   "outputs": [],
   "source": [
    "# Linear Activation Params\n",
    "param_sets={}\n",
    "param_sets.update({1:{'id':1,\n",
    "        'purpose':'Linear Activation',\n",
    "        'cases':'all',\n",
    "        'batch_type':2,\n",
    "        'training':5,\n",
    "        'scale':1,        # every feature in [0, scale]\n",
    "        'rain_do':True,\n",
    "        'verbose':False,\n",
    "        'timesteps':5,\n",
    "        'activation':['linear','linear'],\n",
    "        'hidden_units':1,  \n",
    "        'dense_units':1,    # do not change\n",
    "        'dense_layers':1,   # do not change\n",
    "        'centering':[0.0,0.0],  # should be activation at 0\n",
    "        'DeltaE':[0,-1],    # bias correction\n",
    "        'synthetic':False,  # run also synthetic cases\n",
    "        'T1': 0.1,          # 1/fuel class (10)\n",
    "        'fm_raise_vs_rain': 2,         # fm increase per mm rain, .143 is calculated from Vanderkamp method\n",
    "        'train_frac':0.5,  # time fraction to spend on training\n",
    "        'epochs':2000,\n",
    "        'verbose_fit':False,\n",
    "        'verbose_weights':False,\n",
    "}})"
   ]
  },
  {
   "cell_type": "code",
   "execution_count": null,
   "id": "68ea1a67-bad2-45c1-b07e-5a53f55b83f0",
   "metadata": {},
   "outputs": [],
   "source": [
    "rnn_dat = create_rnn_data(case_data,param_sets[1])\n",
    "# Define clipped ReLU function\n",
    "def clipped_relu(x, threshold=250/rnn_dat['scale_fm']):\n",
    "    return tf.keras.backend.minimum(tf.keras.backend.maximum(0., x), threshold)"
   ]
  },
  {
   "cell_type": "code",
   "execution_count": null,
   "id": "f57d3c90-eb69-40e3-90fa-1b06b308ad01",
   "metadata": {},
   "outputs": [],
   "source": [
    "param_sets.update({2:{'id':2,\n",
    "        'purpose':'Clipped ReLU (250 threshold)',\n",
    "        'cases':'all',\n",
    "        'scale':1,        # every feature in [0, scale]\n",
    "        'batch_type':2,\n",
    "        'training':5,\n",
    "        'rain_do':True,\n",
    "        'verbose':False,\n",
    "        'timesteps':5,\n",
    "        'activation':['linear',clipped_relu],\n",
    "        'hidden_units':1,  \n",
    "        'dense_units':1,    # do not change\n",
    "        'dense_layers':1,   # do not change\n",
    "        'centering':[0.0,0.0],  # should be activation at 0\n",
    "        'DeltaE':[0,-1],    # bias correction\n",
    "        'synthetic':False,  # run also synthetic cases\n",
    "        'T1': 0.1,          # 1/fuel class (10)\n",
    "        'fm_raise_vs_rain': 2,         # fm increase per mm rain, .143 is calculated from Vanderkamp method\n",
    "        'train_frac':0.5,  # time fraction to spend on training\n",
    "        'epochs':2000,\n",
    "        'verbose_fit':False,\n",
    "        'verbose_weights':False,\n",
    "}})\n",
    "param_sets.update({3:{'id':3,\n",
    "        'purpose':'Log-Tailed ReLU (25 threshold)',\n",
    "        'cases':'all',\n",
    "        'scale':1,        # every feature in [0, scale]\n",
    "        'batch_type':2,\n",
    "        'training':5,\n",
    "        'rain_do':True,\n",
    "        'verbose':False,\n",
    "        'timesteps':5,\n",
    "        'activation':['linear',logtailed_relu],\n",
    "        'hidden_units':1,  \n",
    "        'dense_units':1,    # do not change\n",
    "        'dense_layers':1,   # do not change\n",
    "        'centering':[0.0,0.0],  # should be activation at 0\n",
    "        'DeltaE':[0,-1],    # bias correction\n",
    "        'synthetic':False,  # run also synthetic cases\n",
    "        'T1': 0.1,          # 1/fuel class (10)\n",
    "        'fm_raise_vs_rain': 2,         # fm increase per mm rain, .143 is calculated from Vanderkamp method\n",
    "        'train_frac':0.5,  # time fraction to spend on training\n",
    "        'epochs':2000,\n",
    "        'verbose_fit':False,\n",
    "        'verbose_weights':False,\n",
    "}})"
   ]
  },
  {
   "cell_type": "markdown",
   "id": "b5477a1a-42b0-4a71-b47c-aea423f50cee",
   "metadata": {},
   "source": [
    "### Check Initial Fit"
   ]
  },
  {
   "cell_type": "code",
   "execution_count": null,
   "id": "0bf897cb-acfb-4433-960c-687fd579ccca",
   "metadata": {},
   "outputs": [],
   "source": [
    "rnn_dat = create_rnn_data(case_data,param_sets[1])\n",
    "model1 = train_rnn(\n",
    "    rnn_dat,\n",
    "    param_sets[1],\n",
    "    rnn_dat['hours'],\n",
    "    fit=False\n",
    ")\n",
    "fit1 = rnn_predict(model1, param_sets[1], rnn_dat)\n",
    "\n",
    "rnn_dat = create_rnn_data(case_data,param_sets[2])\n",
    "model2 = train_rnn(\n",
    "    rnn_dat,\n",
    "    param_sets[2],\n",
    "    rnn_dat['hours'],\n",
    "    fit=False\n",
    ")\n",
    "fit2 = rnn_predict(model2, param_sets[2], rnn_dat)\n",
    "plt.plot(fit1, label=\"Linear Output\")\n",
    "plt.plot(fit2, \"--\", label=\"Clipped Relu Output\")\n",
    "plt.legend()"
   ]
  },
  {
   "cell_type": "markdown",
   "id": "5cbfb9ea-370b-46b5-a8d1-7d83b1e56415",
   "metadata": {},
   "source": [
    "### Check Trained Fit with Good Rain Param"
   ]
  },
  {
   "cell_type": "code",
   "execution_count": null,
   "id": "82ac668e-5a80-45b4-8242-8a8a9d4aed17",
   "metadata": {},
   "outputs": [],
   "source": [
    "# Linear Activation Params\n",
    "param_sets={}\n",
    "param_sets.update({1:{'id':1,\n",
    "        'purpose':'Linear Activation',\n",
    "        'cases':'all',\n",
    "        'batch_type':2,\n",
    "        'training':5,\n",
    "        'scale':1,        # every feature in [0, scale]\n",
    "        'rain_do':True,\n",
    "        'verbose':False,\n",
    "        'timesteps':5,\n",
    "        'activation':['linear','linear'],\n",
    "        'hidden_units':1,  \n",
    "        'dense_units':1,    # do not change\n",
    "        'dense_layers':1,   # do not change\n",
    "        'centering':[0.0,0.0],  # should be activation at 0\n",
    "        'DeltaE':[0,-1],    # bias correction\n",
    "        'synthetic':False,  # run also synthetic cases\n",
    "        'T1': 0.1,          # 1/fuel class (10)\n",
    "        'fm_raise_vs_rain': 0.143,         # fm increase per mm rain, .143 is calculated from Vanderkamp method\n",
    "        'train_frac':0.5,  # time fraction to spend on training\n",
    "        'epochs':2000,\n",
    "        'verbose_fit':False,\n",
    "        'verbose_weights':False,\n",
    "}})\n",
    "param_sets.update({2:{'id':2,\n",
    "        'purpose':'Clipped ReLU (250 threshold)',\n",
    "        'cases':'all',\n",
    "        'scale':1,        # every feature in [0, scale]\n",
    "        'batch_type':2,\n",
    "        'training':5,\n",
    "        'rain_do':True,\n",
    "        'verbose':False,\n",
    "        'timesteps':5,\n",
    "        'activation':['linear',clipped_relu],\n",
    "        'hidden_units':1,  \n",
    "        'dense_units':1,    # do not change\n",
    "        'dense_layers':1,   # do not change\n",
    "        'centering':[0.0,0.0],  # should be activation at 0\n",
    "        'DeltaE':[0,-1],    # bias correction\n",
    "        'synthetic':False,  # run also synthetic cases\n",
    "        'T1': 0.1,          # 1/fuel class (10)\n",
    "        'fm_raise_vs_rain': 0.143,         # fm increase per mm rain, .143 is calculated from Vanderkamp method\n",
    "        'train_frac':0.5,  # time fraction to spend on training\n",
    "        'epochs':2000,\n",
    "        'verbose_fit':False,\n",
    "        'verbose_weights':False,\n",
    "}})"
   ]
  },
  {
   "cell_type": "code",
   "execution_count": null,
   "id": "9174fc29-a60b-4811-a71e-1b1e9cbfd2b5",
   "metadata": {},
   "outputs": [],
   "source": [
    "reproducibility.set_seed() # Set seed for reproducibility\n",
    "params = param_sets[1]\n",
    "\n",
    "rnn_dat = create_rnn_data(case_data,params)\n",
    "model1 = train_rnn(\n",
    "    rnn_dat,\n",
    "    params,\n",
    "    rnn_dat['hours'],\n",
    "    fit=True\n",
    ")\n",
    "case_data['m'] = rnn_predict(model1, params, rnn_dat)\n",
    "fit_linear = case_data['m']"
   ]
  },
  {
   "cell_type": "code",
   "execution_count": null,
   "id": "0262a9db-59fd-4f49-8217-a171d818d33d",
   "metadata": {},
   "outputs": [],
   "source": [
    "plot_data(case_data,title2='Initial RNN Linear')"
   ]
  },
  {
   "cell_type": "code",
   "execution_count": null,
   "id": "16b0fcaa-e027-4acb-a21e-618d0eba05e4",
   "metadata": {},
   "outputs": [],
   "source": [
    "reproducibility.set_seed() # Set seed for reproducibility\n",
    "params = param_sets[2]\n",
    "\n",
    "rnn_dat = create_rnn_data(case_data,params)\n",
    "model1 = train_rnn(\n",
    "    rnn_dat,\n",
    "    params,\n",
    "    rnn_dat['hours'],\n",
    "    fit=True\n",
    ")\n",
    "case_data['m'] = rnn_predict(model1, params, rnn_dat)\n",
    "fit_clipped = case_data['m']"
   ]
  },
  {
   "cell_type": "code",
   "execution_count": null,
   "id": "3bf4bec6-9fce-4e82-b1f0-6cae9dd8bbce",
   "metadata": {},
   "outputs": [],
   "source": [
    "plot_data(case_data,title2='Initial RNN Clipped')"
   ]
  },
  {
   "cell_type": "code",
   "execution_count": null,
   "id": "32875d7d-914a-438e-b5c7-29fdeb016a37",
   "metadata": {},
   "outputs": [],
   "source": [
    "print(np.max(fit_linear - fit_clipped))"
   ]
  },
  {
   "cell_type": "markdown",
   "id": "0092f572-d920-4bac-8598-a4a26ff9f79b",
   "metadata": {},
   "source": [
    "No difference. Likely the clip level is too high. "
   ]
  },
  {
   "cell_type": "markdown",
   "id": "c94d6765-b17c-41ff-a08d-32dc3709b73d",
   "metadata": {},
   "source": [
    "## Sources\n",
    "\n",
    "Hossain, Md & Teng, Shyh & Sohel, Ferdous & Lu, Guojun. (2020). Robust Image Classification Using A Low-Pass Activation Function and DCT Augmentation. "
   ]
  },
  {
   "cell_type": "code",
   "execution_count": null,
   "id": "138af0b6-031b-4b80-acbe-8dd474a70b5d",
   "metadata": {},
   "outputs": [],
   "source": []
  }
 ],
 "metadata": {
  "kernelspec": {
   "display_name": "Python 3 (ipykernel)",
   "language": "python",
   "name": "python3"
  },
  "language_info": {
   "codemirror_mode": {
    "name": "ipython",
    "version": 3
   },
   "file_extension": ".py",
   "mimetype": "text/x-python",
   "name": "python",
   "nbconvert_exporter": "python",
   "pygments_lexer": "ipython3",
   "version": "3.9.12"
  }
 },
 "nbformat": 4,
 "nbformat_minor": 5
}
