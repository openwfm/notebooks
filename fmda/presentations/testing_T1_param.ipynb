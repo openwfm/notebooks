{
 "cells": [
  {
   "cell_type": "markdown",
   "id": "41b6c912-a46b-461f-bde3-9add77ef0af6",
   "metadata": {},
   "source": [
    "## Setup"
   ]
  },
  {
   "cell_type": "code",
   "execution_count": null,
   "id": "27c7ed06-0862-4949-8de4-94c2daa07186",
   "metadata": {},
   "outputs": [],
   "source": [
    "import sys\n",
    "sys.path.append(\"..\")"
   ]
  },
  {
   "cell_type": "code",
   "execution_count": null,
   "id": "f1852edc-a583-4371-9bc8-c802ae6575ae",
   "metadata": {
    "scrolled": true
   },
   "outputs": [],
   "source": [
    "# Setup\n",
    "import reproducibility\n",
    "\n",
    "# both can change\n",
    "# Environment\n",
    "import numpy as np\n",
    "import pandas as pd\n",
    "import tensorflow as tf\n",
    "from keras.models import Sequential\n",
    "from keras.layers import Dense, SimpleRNN\n",
    "# from keras.utils.vis_utils import plot_model\n",
    "from keras.utils import plot_model\n",
    "\n",
    "from sklearn.preprocessing import MinMaxScaler\n",
    "from sklearn.metrics import mean_squared_error\n",
    "import math\n",
    "import json\n",
    "import matplotlib.pyplot as plt\n",
    "import tensorflow as tf\n",
    "import keras.backend as K\n",
    "# from keras.utils.vis_utils import plot_model\n",
    "from scipy.interpolate import LinearNDInterpolator, interpn\n",
    "from scipy.optimize import root\n",
    "import pickle, os\n",
    "from utils import hash2\n",
    "%matplotlib inline\n",
    "\n",
    "# Local modules for handling data and running moisture models\n",
    "import data_funcs as datf\n",
    "from data_funcs import format_raws, retrieve_raws, format_precip, fixnan, load_and_fix_data\n",
    "from data_funcs import raws_data, synthetic_data, plot_data, check_data, rmse_data, to_json, from_json\n",
    "import moisture_models as mod\n",
    "from moisture_rnn import run_case, run_rnn, create_RNN_2, staircase, create_rnn_data, train_rnn, rnn_predict\n"
   ]
  },
  {
   "cell_type": "markdown",
   "id": "aac6b625-4e3a-44b7-96e9-524d2ef6fe65",
   "metadata": {},
   "source": [
    "# Testing Time Lag Parameter\n",
    "\n",
    "The parameter $T_1 = 1/T$, where $T$ is the time lag fuel class (1h, 10h, 100h, 1000h). Changing this parameter should only affect how quickly the fmda model reacts to changes in the equilibrium moisture content. We test this with the following setup:\n",
    "\n",
    "The equilibrium moisture content is simply a step function from 0 to 10 %. Assume this represents the true fuel moisture content."
   ]
  },
  {
   "cell_type": "code",
   "execution_count": null,
   "id": "79e0c96c-b63f-41f8-a830-190158ef31ec",
   "metadata": {},
   "outputs": [],
   "source": [
    "hours = 200\n",
    "Ed = np.zeros(hours)\n",
    "Ed[100:200] = 10\n",
    "Ew = Ed\n",
    "fm = Ew\n",
    "rain = np.zeros(hours)\n",
    "\n",
    "plt.plot(Ed)\n",
    "plt.xlabel('Hour')\n",
    "plt.ylabel('FM %')"
   ]
  },
  {
   "cell_type": "code",
   "execution_count": null,
   "id": "aa8b7455-0e10-41d7-8b07-8ba1a9c5c269",
   "metadata": {},
   "outputs": [],
   "source": [
    "# Build Case Data\n",
    "case_data = {\n",
    "    'Ew': Ew,\n",
    "    'Ed': Ed,\n",
    "    'rain': rain,\n",
    "    'fm': fm,\n",
    "    'hours': hours,\n",
    "    'h2': 100\n",
    "}"
   ]
  },
  {
   "cell_type": "markdown",
   "id": "aff388b0-4e48-4ab4-96b4-d36c122764b9",
   "metadata": {},
   "source": [
    "We then setup an RNN with linear activation and 1 hidden unit, then for different fuel classes:\n",
    "* Param set 1: 1h fuel\n",
    "* Param set 10: 10h fuel\n",
    "* Param set 100: 100h fuel"
   ]
  },
  {
   "cell_type": "code",
   "execution_count": null,
   "id": "5b7877fa-1f19-4501-8006-9802e282d2aa",
   "metadata": {},
   "outputs": [],
   "source": [
    "param_sets={}\n",
    "# Linear Activation Params\n",
    "param_sets.update({1:{'id':1,\n",
    "        'purpose':'test 1',\n",
    "        'cases':'all',\n",
    "        'batch_type':2,\n",
    "        'training':5,\n",
    "        'scale':1,        # every feature in [0, scale]\n",
    "        'rain_do':True,\n",
    "        'verbose':False,\n",
    "        'timesteps':5,\n",
    "        'activation':['linear','linear'],\n",
    "        'hidden_units':1,  \n",
    "        'dense_units':1,    # do not change\n",
    "        'dense_layers':1,   # do not change\n",
    "        'centering':[0.0,0.0],  # should be activation at 0\n",
    "        'DeltaE':[0,-1],    # bias correction\n",
    "        'synthetic':False,  # run also synthetic cases\n",
    "        'T1': 1,          # 1/fuel class (1)\n",
    "        'fm_raise_vs_rain': 0.17,         # fm increase per mm rain \n",
    "        'train_frac':0.5,  # time fraction to spend on training\n",
    "        'epochs':1000,\n",
    "        'verbose_fit':False,\n",
    "        'verbose_weights':False,\n",
    "}})\n",
    "param_sets.update({10:{'id':10,\n",
    "        'purpose':'test 1',\n",
    "        'cases':'all',\n",
    "        'batch_type':2,\n",
    "        'training':5,\n",
    "        'scale':1,        # every feature in [0, scale]\n",
    "        'rain_do':True,\n",
    "        'verbose':False,\n",
    "        'timesteps':5,\n",
    "        'activation':['linear','linear'],\n",
    "        'hidden_units':1,  \n",
    "        'dense_units':1,    # do not change\n",
    "        'dense_layers':1,   # do not change\n",
    "        'centering':[0.0,0.0],  # should be activation at 0\n",
    "        'DeltaE':[0,-1],    # bias correction\n",
    "        'synthetic':False,  # run also synthetic cases\n",
    "        'T1': .1,          # 1/fuel class (10)\n",
    "        'fm_raise_vs_rain': 0.17,         # fm increase per mm rain \n",
    "        'train_frac':0.5,  # time fraction to spend on training\n",
    "        'epochs':1000,\n",
    "        'verbose_fit':False,\n",
    "        'verbose_weights':False,\n",
    "}})\n",
    "param_sets.update({100:{'id':100,\n",
    "        'purpose':'test 1',\n",
    "        'cases':'all',\n",
    "        'batch_type':2,\n",
    "        'training':5,\n",
    "        'scale':1,        # every feature in [0, scale]\n",
    "        'rain_do':True,\n",
    "        'verbose':False,\n",
    "        'timesteps':5,\n",
    "        'activation':['linear','linear'],\n",
    "        'hidden_units':1,  \n",
    "        'dense_units':1,    # do not change\n",
    "        'dense_layers':1,   # do not change\n",
    "        'centering':[0.0,0.0],  # should be activation at 0\n",
    "        'DeltaE':[0,-1],    # bias correction\n",
    "        'synthetic':False,  # run also synthetic cases\n",
    "        'T1': .01,          # 1/fuel class (100)\n",
    "        'fm_raise_vs_rain': 0.17,         # fm increase per mm rain \n",
    "        'train_frac':0.5,  # time fraction to spend on training\n",
    "        'epochs':1000,\n",
    "        'verbose_fit':False,\n",
    "        'verbose_weights':False,\n",
    "}})"
   ]
  },
  {
   "cell_type": "code",
   "execution_count": null,
   "id": "098d2eec-d5aa-46e0-82b8-e3354e712c3e",
   "metadata": {},
   "outputs": [],
   "source": [
    "print('~'*40)\n",
    "print('Running 1h fuels')\n",
    "rnn_dat = create_rnn_data(case_data,param_sets[1])\n",
    "model1 = train_rnn(\n",
    "        rnn_dat,\n",
    "        param_sets[1],\n",
    "        rnn_dat['hours'],\n",
    "        fit=False\n",
    "    )\n",
    "case_data['m'] = rnn_predict(model1, param_sets[1], rnn_dat)\n",
    "fit1 = case_data['m']\n",
    "print('~'*40)\n",
    "print('Running 10h fuels')\n",
    "rnn_dat10 = create_rnn_data(case_data,param_sets[10])\n",
    "model1 = train_rnn(\n",
    "        rnn_dat10,\n",
    "        param_sets[10],\n",
    "        rnn_dat['hours'],\n",
    "        fit=False\n",
    "    )\n",
    "case_data['m'] = rnn_predict(model1, param_sets[10], rnn_dat10)\n",
    "fit10 = case_data['m']\n",
    "print('~'*40)\n",
    "print('Running 100h fuels')\n",
    "rnn_dat100 = create_rnn_data(case_data,param_sets[100])\n",
    "model1 = train_rnn(\n",
    "        rnn_dat100,\n",
    "        param_sets[100],\n",
    "        rnn_dat['hours'],\n",
    "        fit=False\n",
    "    )\n",
    "case_data['m'] = rnn_predict(model1, param_sets[100], rnn_dat100)\n",
    "fit100 = case_data['m']"
   ]
  },
  {
   "cell_type": "code",
   "execution_count": null,
   "id": "1ccc7539-06b4-4b20-8f2f-35959bab09c8",
   "metadata": {},
   "outputs": [],
   "source": [
    "plt.plot(fm)\n",
    "plt.plot(fit1, label=\"1-h\")\n",
    "plt.plot(fit10, label=\"10-h\")\n",
    "plt.plot(fit100, label=\"100-h\")\n",
    "plt.legend()"
   ]
  },
  {
   "cell_type": "code",
   "execution_count": null,
   "id": "eac391ac-6b90-4b7d-acd4-223f405a6793",
   "metadata": {},
   "outputs": [],
   "source": [
    "print(rnn_dat['scale_fm'])\n",
    "print(rnn_dat10['scale_fm'])\n",
    "print(rnn_dat100['scale_fm'])"
   ]
  },
  {
   "cell_type": "code",
   "execution_count": null,
   "id": "730c7a88-3c08-4ada-b459-cd0a5082d973",
   "metadata": {},
   "outputs": [],
   "source": []
  }
 ],
 "metadata": {
  "kernelspec": {
   "display_name": "Python 3 (ipykernel)",
   "language": "python",
   "name": "python3"
  },
  "language_info": {
   "codemirror_mode": {
    "name": "ipython",
    "version": 3
   },
   "file_extension": ".py",
   "mimetype": "text/x-python",
   "name": "python",
   "nbconvert_exporter": "python",
   "pygments_lexer": "ipython3",
   "version": "3.9.12"
  }
 },
 "nbformat": 4,
 "nbformat_minor": 5
}
