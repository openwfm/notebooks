{
 "cells": [
  {
   "cell_type": "code",
   "execution_count": null,
   "id": "2106ddc4-8330-44ca-8a69-742f53796740",
   "metadata": {},
   "outputs": [],
   "source": [
    "import sys\n",
    "sys.path.append(\"..\")\n",
    "import reproducibility\n",
    "import pandas as pd\n",
    "from data_funcs import load_and_fix_data\n",
    "from moisture_rnn import create_RNN_2, create_rnn_data_1, create_rnn_data_2, train_rnn"
   ]
  },
  {
   "cell_type": "code",
   "execution_count": null,
   "id": "f5b25c8a-e879-4d3f-b144-ae7876aa70c3",
   "metadata": {},
   "outputs": [],
   "source": [
    "reproducibility_file='../data/reproducibility_dict.pickle'\n",
    "repro=load_and_fix_data(reproducibility_file)"
   ]
  },
  {
   "cell_type": "code",
   "execution_count": null,
   "id": "af32b30f-ad9c-44a2-9586-3012ba0450f5",
   "metadata": {},
   "outputs": [],
   "source": [
    "from module_param_sets import param_sets"
   ]
  },
  {
   "cell_type": "code",
   "execution_count": null,
   "id": "4a5a4137-2c9b-4fd9-8ad0-00b773ee99cd",
   "metadata": {},
   "outputs": [],
   "source": [
    "params = param_sets['0']"
   ]
  },
  {
   "cell_type": "code",
   "execution_count": null,
   "id": "b93faa27-c0f8-46cb-9084-7405f93470ea",
   "metadata": {},
   "outputs": [],
   "source": [
    "# Simplify params\n",
    "params['batch_size']=3\n",
    "params[\"timesteps\"]=2\n",
    "params[\"epochs\"]=1\n",
    "params[\"initialize\"]=False\n",
    "params[\"hidden_units\"]=1\n",
    "params[\"rain_do\"]=False\n",
    "params"
   ]
  },
  {
   "cell_type": "code",
   "execution_count": null,
   "id": "0be61c7d-59c4-4b3c-afec-6393a9289439",
   "metadata": {},
   "outputs": [],
   "source": [
    "# Format Data\n",
    "case_data = repro[\"case11\"]\n",
    "h2=20\n",
    "reproducibility.set_seed() # Set seed for reproducibility\n",
    "rnn_dat = create_rnn_data_1(case_data,params)\n",
    "create_rnn_data_2(rnn_dat,params)"
   ]
  },
  {
   "cell_type": "code",
   "execution_count": null,
   "id": "d1ced401-0b81-4404-b8dd-3bbb756be244",
   "metadata": {},
   "outputs": [],
   "source": [
    "features = rnn_dat[\"X\"].shape[1]\n",
    "features"
   ]
  },
  {
   "cell_type": "code",
   "execution_count": null,
   "id": "26d61ce5-f492-4d20-88d8-f5bbd41f31a4",
   "metadata": {},
   "outputs": [],
   "source": [
    "# Setup Model\n",
    "reproducibility.set_seed()\n",
    "model = create_RNN_2(\n",
    "    hidden_units=params[\"hidden_units\"], \n",
    "    dense_units=1, \n",
    "    activation=params[\"activation\"],\n",
    "    batch_shape=(params[\"batch_size\"],params[\"timesteps\"],features),\n",
    "    stateful=True\n",
    ")\n",
    "# Print initial weights\n",
    "model.get_weights()"
   ]
  },
  {
   "cell_type": "code",
   "execution_count": null,
   "id": "bca3b758-dde0-491b-9566-4a868f45286c",
   "metadata": {},
   "outputs": [],
   "source": [
    "# Run a sample through\n",
    "X = rnn_dat[\"x_train\"][0,:,:].reshape(-1,params[\"timesteps\"],features)\n",
    "X"
   ]
  },
  {
   "cell_type": "code",
   "execution_count": null,
   "id": "0e8b055c-426e-430c-ace8-87ea482876c7",
   "metadata": {},
   "outputs": [],
   "source": [
    "preds = model.predict(X)\n",
    "preds[0]"
   ]
  },
  {
   "cell_type": "code",
   "execution_count": null,
   "id": "fa267c9b-e76f-46c7-a10a-d3434c913aaa",
   "metadata": {},
   "outputs": [],
   "source": [
    "y = rnn_dat[\"y_train\"][0].reshape(-1, 1)"
   ]
  },
  {
   "cell_type": "code",
   "execution_count": null,
   "id": "9d11f8c4-d8c9-4665-8c93-6fd887b864d7",
   "metadata": {},
   "outputs": [],
   "source": [
    "# Calculate MSE\n",
    "(y - preds[0])**2"
   ]
  },
  {
   "cell_type": "code",
   "execution_count": null,
   "id": "d6b9b56e-52b7-4636-a524-ab310c059fe7",
   "metadata": {},
   "outputs": [],
   "source": [
    "# Use loss calculation from before to manually update weights\n",
    "model.output"
   ]
  },
  {
   "cell_type": "code",
   "execution_count": null,
   "id": "c3c47f67-52a2-4c13-ac5b-d1fc0de077bd",
   "metadata": {},
   "outputs": [],
   "source": [
    "model.optimizer.learning_rate.value"
   ]
  },
  {
   "cell_type": "code",
   "execution_count": null,
   "id": "d373fa86-2dc8-4a80-8882-cacc0db281c6",
   "metadata": {},
   "outputs": [],
   "source": [
    "reproducibility.set_seed()\n",
    "history = model.fit(X, \n",
    "            y, \n",
    "            epochs=params[\"epochs\"], \n",
    "            batch_size=params[\"batch_size\"])"
   ]
  },
  {
   "cell_type": "code",
   "execution_count": null,
   "id": "34bfa036-dbed-4fe9-a4cb-9e90b2de9185",
   "metadata": {},
   "outputs": [],
   "source": [
    "history.history"
   ]
  },
  {
   "cell_type": "code",
   "execution_count": null,
   "id": "ceac8930-bcc5-4a06-b929-7c5c943d6581",
   "metadata": {},
   "outputs": [],
   "source": [
    "# Print Trained Weights\n",
    "model.get_weights()"
   ]
  },
  {
   "cell_type": "code",
   "execution_count": null,
   "id": "3624a803-a45b-4314-b3d9-6628b1d2161b",
   "metadata": {},
   "outputs": [],
   "source": []
  }
 ],
 "metadata": {
  "kernelspec": {
   "display_name": "Python 3 (ipykernel)",
   "language": "python",
   "name": "python3"
  },
  "language_info": {
   "codemirror_mode": {
    "name": "ipython",
    "version": 3
   },
   "file_extension": ".py",
   "mimetype": "text/x-python",
   "name": "python",
   "nbconvert_exporter": "python",
   "pygments_lexer": "ipython3",
   "version": "3.9.12"
  }
 },
 "nbformat": 4,
 "nbformat_minor": 5
}
