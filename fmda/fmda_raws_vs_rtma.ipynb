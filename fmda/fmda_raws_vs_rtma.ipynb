{
 "cells": [
  {
   "cell_type": "markdown",
   "id": "42cbcc6e-c6de-4e3e-a875-ba3536d7a2ce",
   "metadata": {},
   "source": [
    "## Title"
   ]
  },
  {
   "cell_type": "markdown",
   "id": "8fb59559-697f-4a5a-b332-971a370e890b",
   "metadata": {},
   "source": [
    "The purpose of this notebook is to compare the errors associated with fuel moisture models when using interpolated data from RTMA versus actual data from RAWS sensors. The main focus is on precipitation. The other variables used from the RTMA data are relative humidity (RH) and temperature. These are expected to be smooth across space, while precipitation can vary widely even across small spatial scales."
   ]
  },
  {
   "cell_type": "markdown",
   "id": "53b848a1-52c7-4f89-bd36-12ae168d9a71",
   "metadata": {},
   "source": [
    "### Setup\n",
    "\n",
    "<mark>**Question for Jan:** best way to have meso token in code?<\\mark>"
   ]
  },
  {
   "cell_type": "code",
   "execution_count": null,
   "id": "2889acbb-a0e2-4a41-8b8c-78fb77320abe",
   "metadata": {},
   "outputs": [],
   "source": [
    "# Environment\n",
    "import numpy as np\n",
    "import pandas as pd\n",
    "from MesoPy import Meso\n",
    "import matplotlib.pyplot as plt\n",
    "from datetime import datetime, timedelta, time\n",
    "import pytz\n",
    "# Local modules for handling data and running moisture models\n",
    "import data_funcs as datf\n",
    "import moisture_models as mod\n",
    "\n",
    "meso_token=\"4192c18707b848299783d59a9317c6e1\"\n",
    "m=Meso(meso_token)"
   ]
  },
  {
   "cell_type": "markdown",
   "id": "f670c34f-ffe4-4e93-a8ef-bde4e15f3a54",
   "metadata": {},
   "source": [
    "### Data Read\n",
    "\n",
    "Below we print all the RAWS stations in Colorado with full data availability over the time period in question. The search and output is done in the notebook `find_RAWS_station`.,\n",
    "\n",
    "Note: the time period is arbitrary at this point, and the `find_RAWS_station` notebook summarized this data availability for this particular time period. We need to consider how this should work for a different time period. Question: will a particular STID give different available data series for different times, or always the same data series names?\n",
    "\n",
    "<mark>**Question for Jan:** should we include the RAWS station search code here? For the following I'm just using an arbitrary station CPTC2<\\mark>"
   ]
  },
  {
   "cell_type": "code",
   "execution_count": null,
   "id": "dca40610-483d-4540-b3eb-4c7ed9efd129",
   "metadata": {},
   "outputs": [],
   "source": [
    "vars='air_temp,relative_humidity,precip_accum,fuel_moisture'\n",
    "time_start = \"201806010800\"  # June 1 2018 08:00 in format yyyymmddHHMM\n",
    "time_end   = \"201907200900\"  # June 20 2018 09:00 in format yyyymmddHHMM \n",
    "\n",
    "meso_ts = m.timeseries(time_start, time_end, \n",
    "                       stid=\"CPTC2\", vars=vars)\n",
    "station = meso_ts['STATION'][0]"
   ]
  },
  {
   "cell_type": "markdown",
   "id": "355e0157-9c49-473d-80a7-f05ed5ccb51f",
   "metadata": {},
   "source": [
    "Organize RAWS data."
   ]
  },
  {
   "cell_type": "code",
   "execution_count": null,
   "id": "193485f5-796b-49ed-94d3-60a3746c3573",
   "metadata": {},
   "outputs": [],
   "source": [
    "import data_funcs as datf\n",
    "\n",
    "raws_dat = datf.format_raws(station)"
   ]
  },
  {
   "cell_type": "code",
   "execution_count": null,
   "id": "e90aa779-7ca3-46b2-8275-0df6a11d32cb",
   "metadata": {},
   "outputs": [],
   "source": [
    "%matplotlib inline\n",
    "plt.figure(figsize=(16,4))\n",
    "plt.plot(raws_dat['rh'],linestyle='-',c='k')\n",
    "plt.title(station['STID'] + ' rh')\n",
    "plt.xlabel('Time (hours)') \n",
    "plt.ylabel('Relative Humidity (%)')"
   ]
  },
  {
   "cell_type": "code",
   "execution_count": null,
   "id": "1fa29896-6962-4ef9-af6f-55230591cdb3",
   "metadata": {},
   "outputs": [],
   "source": [
    "%matplotlib inline\n",
    "plt.figure(figsize=(16,4))\n",
    "plt.plot(raws_dat['fm'],linestyle='-',c='k',label='10-h fuel data')\n",
    "plt.title(station['STID'] + ' 10 h fuel moisture data')\n",
    "plt.xlabel('Time (hours)') \n",
    "plt.ylabel('Fuel moisture content (%)')\n",
    "plt.legend()"
   ]
  },
  {
   "cell_type": "markdown",
   "id": "27bd7ffc-4a72-4683-a97a-05ea289b196e",
   "metadata": {},
   "source": [
    "## Run Augmented Moisture Model with RAWS Data"
   ]
  },
  {
   "cell_type": "code",
   "execution_count": null,
   "id": "70993f7b-c464-477c-8715-d8e873033e88",
   "metadata": {},
   "outputs": [],
   "source": [
    "## Model params\n",
    "\n",
    "hours=1200 # total simulation\n",
    "h2 = 300\n",
    "m = np.zeros(hours) # preallocate\n",
    "m[0]= raws_dat['fm'][0]             # initial state  \n",
    "P = np.zeros(hours)\n",
    "P[0] = 1e-3 # background state variance\n",
    "H = np.array([1.])   # all oQ = np.array([0.02]) # process noise variancebserved\n",
    "Q = np.array([1e-3]) # process noise variance\n",
    "R = np.array([1e-3]) # data variance"
   ]
  },
  {
   "cell_type": "markdown",
   "id": "4860f4a5-a56d-4b90-9b41-5227ec550b27",
   "metadata": {},
   "source": [
    "Augmented Model"
   ]
  },
  {
   "cell_type": "code",
   "execution_count": null,
   "id": "0cc8d535-3d92-4198-a30c-128db9eff4cd",
   "metadata": {},
   "outputs": [],
   "source": [
    "m,Ec = mod.run_augmented_kf(raws_dat,h2,hours)  # extract from state"
   ]
  },
  {
   "cell_type": "code",
   "execution_count": null,
   "id": "87e89264-491e-4139-986e-fdc4667e41d6",
   "metadata": {},
   "outputs": [],
   "source": [
    "def plot_moisture(hmin,hmax):\n",
    "  print('training from 0 to',h2,'plot from',hmin,'to',hmax)\n",
    "  plt.figure(figsize=(16,4))\n",
    "  plt.plot(range(hmin,hmax),raws_dat['Ed'][hmin:hmax],linestyle='--',c='r',label='Drying Equilibrium (%)')\n",
    "  plt.plot(range(hmin,hmax),raws_dat['Ew'][hmin:hmax],linestyle='--',c='b',label='Wetting Equilibrium (%)')\n",
    "  plt.plot(range(hmin,hmax),Ec[hmin:hmax],linestyle='--',c='g',label='Equilibrium Correction (%)')\n",
    "  plt.plot(range(hmin,hmax),m[hmin:hmax],linestyle='-',c='k',label='filtered')\n",
    "  plt.plot(range(hmin,hmax),raws_dat['fm'][hmin:hmax],linestyle='-',c='b',label='RAWS data (%)')\n",
    "  plt.plot(range(hmin,hmax),raws_dat['rain'][hmin:hmax],linestyle='-',c='b',label='RTMA rain (mm/h)')\n",
    "  if hmin>=h2:\n",
    "    plt.plot(m[hmin:h2],linestyle='-',c='k',label='Filtered')\n",
    "  h1 = np.maximum(hmin,h2)\n",
    "  plt.plot(range(h1,hmax),m[h1:hmax],linestyle='-',c='r',label='Forecast (%)')\n",
    "  plt.title(station['STID'] +' Kalman filtering and forecast with augmented state, real data. Training 0:%i hmax' % h2)\n",
    "  plt.xlabel('Time (hours)') \n",
    "  plt.ylabel('Fuel moisture content (%)')\n",
    "  plt.legend()"
   ]
  },
  {
   "cell_type": "code",
   "execution_count": null,
   "id": "cac76c32-2343-4d3d-9eb0-46e90333fca8",
   "metadata": {},
   "outputs": [],
   "source": [
    "plot_moisture(0,hours)"
   ]
  },
  {
   "cell_type": "code",
   "execution_count": null,
   "id": "6a86ff9d-bfa3-4c00-849f-90ce105dab40",
   "metadata": {},
   "outputs": [],
   "source": [
    "plot_moisture(1000,hours)"
   ]
  },
  {
   "cell_type": "markdown",
   "id": "bf25236e-8e50-49c6-b2ca-c055ec5b350a",
   "metadata": {},
   "source": [
    "## Model Validation\n",
    "\n",
    "Calculate Mean Absolute Prediction Error (MAPE) for the forecast versus observed fuel moisture data. For comparison, I will calculate MAPE for the entire series, the forecast period, and just the final value (where errors may have accumulated up to)."
   ]
  },
  {
   "cell_type": "code",
   "execution_count": null,
   "id": "24ed5d78-1de8-4e32-af3c-30f3dc445f3a",
   "metadata": {},
   "outputs": [],
   "source": [
    "def mape(a, b):\n",
    "    return ((a - b).__abs__()).mean()"
   ]
  },
  {
   "cell_type": "code",
   "execution_count": null,
   "id": "255fef4c-0f4c-4346-a9d9-239bb75e04c2",
   "metadata": {
    "tags": []
   },
   "outputs": [],
   "source": [
    "print('Total MAPE: '+ str(np.round(mape(raws_dat['fm'][0:hours], m), 5)))\n",
    "print('-'*25)\n",
    "print('Train Period: '+ str(np.round(mape(raws_dat['fm'][0:300], m[0:300]), 5)))\n",
    "print('-'*25)\n",
    "print('Test Period: '+ str(np.round(mape(raws_dat['fm'][301:hours], m[301:hours]), 5)))\n",
    "print('-'*25)\n",
    "print('Final Time: '+ str(np.round(mape(raws_dat['fm'][-1], m[-1]), 5)))"
   ]
  },
  {
   "cell_type": "code",
   "execution_count": null,
   "id": "f4d53996-49c0-4e21-a8c3-7fc51d6a33c8",
   "metadata": {},
   "outputs": [],
   "source": [
    "def mse(a, b):\n",
    "    return ((a - b)**2).mean()"
   ]
  },
  {
   "cell_type": "code",
   "execution_count": null,
   "id": "74361872-0bb9-44fb-b0e3-892963e52b10",
   "metadata": {},
   "outputs": [],
   "source": [
    "print('Total MAPE: '+ str(np.round(mse(raws_dat['fm'][0:hours], m), 5)))\n",
    "print('-'*25)\n",
    "print('Train Period: '+ str(np.round(mse(raws_dat['fm'][0:300], m[0:300]), 5)))\n",
    "print('-'*25)\n",
    "print('Test Period: '+ str(np.round(mse(raws_dat['fm'][301:hours], m[301:hours]), 5)))\n",
    "print('-'*25)\n",
    "print('Final Time: '+ str(np.round(mse(raws_dat['fm'][-1], m[-1]), 5)))"
   ]
  },
  {
   "cell_type": "code",
   "execution_count": null,
   "id": "f056dc10-de3f-4743-b49c-2dacdd36784e",
   "metadata": {},
   "outputs": [],
   "source": []
  }
 ],
 "metadata": {
  "kernelspec": {
   "display_name": "Python 3 (ipykernel)",
   "language": "python",
   "name": "python3"
  },
  "language_info": {
   "codemirror_mode": {
    "name": "ipython",
    "version": 3
   },
   "file_extension": ".py",
   "mimetype": "text/x-python",
   "name": "python",
   "nbconvert_exporter": "python",
   "pygments_lexer": "ipython3",
   "version": "3.9.12"
  }
 },
 "nbformat": 4,
 "nbformat_minor": 5
}
