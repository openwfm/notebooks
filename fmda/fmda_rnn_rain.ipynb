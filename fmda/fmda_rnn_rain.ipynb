{
 "cells": [
  {
   "cell_type": "code",
   "execution_count": null,
   "id": "d70c330d",
   "metadata": {},
   "outputs": [],
   "source": [
    "import reproducibility"
   ]
  },
  {
   "cell_type": "code",
   "execution_count": null,
   "id": "c7291842-a72d-4c4e-9312-6c0c31df18e0",
   "metadata": {},
   "outputs": [],
   "source": [
    "# both can change\n",
    "# Environment\n",
    "import numpy as np\n",
    "import pandas as pd\n",
    "import tensorflow as tf\n",
    "from keras.models import Sequential\n",
    "from keras.layers import Dense, SimpleRNN\n",
    "from keras.utils.vis_utils import plot_model\n",
    "from sklearn.preprocessing import MinMaxScaler\n",
    "from sklearn.metrics import mean_squared_error\n",
    "import math\n",
    "import json\n",
    "import matplotlib.pyplot as plt\n",
    "import tensorflow as tf\n",
    "import keras.backend as K\n",
    "from keras.utils.vis_utils import plot_model\n",
    "from scipy.interpolate import LinearNDInterpolator, interpn\n",
    "from scipy.optimize import root\n",
    "import pickle, os\n",
    "from utils import hash2\n",
    "%matplotlib inline\n",
    "\n",
    "# Local modules for handling data and running moisture models\n",
    "import data_funcs as datf\n",
    "from data_funcs import format_raws, retrieve_raws, format_precip, fixnan\n",
    "from data_funcs import raws_data, synthetic_data, plot_data, check_data, mse_data, to_json, from_json\n",
    "import moisture_models as mod\n",
    "from moisture_rnn import run_case, run_rnn, create_RNN_2, staircase, create_rnn_data, train_rnn, rnn_predict\n"
   ]
  },
  {
   "cell_type": "code",
   "execution_count": null,
   "id": "1de795c3-3cad-454c-9f0b-94a9e937b21a",
   "metadata": {},
   "outputs": [],
   "source": [
    "# Change directory for data read/write\n",
    "os.chdir('data')"
   ]
  },
  {
   "cell_type": "code",
   "execution_count": null,
   "id": "7ff87917-536b-4451-a472-90940d96a6cf",
   "metadata": {},
   "outputs": [],
   "source": [
    "# read test datasets\n",
    "# case_data = from_json('rnn_orig.json')\n",
    "filename = 'testing_dict.pickle'\n",
    "with open(filename, 'rb') as handle:\n",
    "    test_dict = pickle.load(handle)\n",
    "    for case in test_dict:\n",
    "        test_dict[case]['case'] = case\n",
    "        test_dict[case]['filename'] = filename\n"
   ]
  },
  {
   "cell_type": "code",
   "execution_count": null,
   "id": "fb9ea256-ff24-4a20-9f62-011b0155c002",
   "metadata": {},
   "outputs": [],
   "source": [
    "cases = ['case11']    # choose a test dataset\n",
    "#cases = test_dict.keys() # run all cases"
   ]
  },
  {
   "cell_type": "code",
   "execution_count": null,
   "id": "dc5b55ab-6142-4da5-b12c-350bac09d2d8",
   "metadata": {},
   "outputs": [],
   "source": [
    "for case in cases:\n",
    "    print('\\n***** ',case,' *****\\n')\n",
    "    case_data = test_dict[case]\n",
    "    run_case(case_data,verbose=False,title2='',scale=0)\n"
   ]
  },
  {
   "cell_type": "code",
   "execution_count": null,
   "id": "53406a17-b3d1-460d-bde7-448fee8ba5fc",
   "metadata": {},
   "outputs": [],
   "source": []
  }
 ],
 "metadata": {
  "kernelspec": {
   "display_name": "Python 3 (ipykernel)",
   "language": "python",
   "name": "python3"
  },
  "language_info": {
   "codemirror_mode": {
    "name": "ipython",
    "version": 3
   },
   "file_extension": ".py",
   "mimetype": "text/x-python",
   "name": "python",
   "nbconvert_exporter": "python",
   "pygments_lexer": "ipython3",
   "version": "3.10.9"
  }
 },
 "nbformat": 4,
 "nbformat_minor": 5
}
