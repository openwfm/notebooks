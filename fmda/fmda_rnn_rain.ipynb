{
 "cells": [
  {
   "cell_type": "code",
   "execution_count": null,
   "id": "d70c330d",
   "metadata": {},
   "outputs": [],
   "source": [
    "import reproducibility"
   ]
  },
  {
   "cell_type": "code",
   "execution_count": null,
   "id": "c7291842-a72d-4c4e-9312-6c0c31df18e0",
   "metadata": {},
   "outputs": [],
   "source": [
    "# both can change\n",
    "# Environment\n",
    "import numpy as np\n",
    "import pandas as pd\n",
    "import tensorflow as tf\n",
    "from keras.models import Sequential\n",
    "from keras.layers import Dense, SimpleRNN\n",
    "from keras.utils.vis_utils import plot_model\n",
    "from sklearn.preprocessing import MinMaxScaler\n",
    "from sklearn.metrics import mean_squared_error\n",
    "import math\n",
    "import json\n",
    "import matplotlib.pyplot as plt\n",
    "import tensorflow as tf\n",
    "import keras.backend as K\n",
    "from keras.utils.vis_utils import plot_model\n",
    "from scipy.interpolate import LinearNDInterpolator, interpn\n",
    "from scipy.optimize import root\n",
    "import pickle, os\n",
    "from utils import hash2\n",
    "%matplotlib inline\n",
    "\n",
    "# Local modules for handling data and running moisture models\n",
    "import data_funcs as datf\n",
    "from data_funcs import format_raws, retrieve_raws, format_precip, fixnan\n",
    "from data_funcs import raws_data, synthetic_data, plot_data, check_data, rmse_data, to_json, from_json\n",
    "import moisture_models as mod\n",
    "from moisture_rnn import run_case, run_rnn, create_RNN_2, staircase, create_rnn_data, train_rnn, rnn_predict\n"
   ]
  },
  {
   "cell_type": "code",
   "execution_count": null,
   "id": "1de795c3-3cad-454c-9f0b-94a9e937b21a",
   "metadata": {},
   "outputs": [],
   "source": [
    "# Change directory for data read/write\n",
    "os.chdir('data')"
   ]
  },
  {
   "cell_type": "code",
   "execution_count": null,
   "id": "7ff87917-536b-4451-a472-90940d96a6cf",
   "metadata": {},
   "outputs": [],
   "source": [
    "# read test datasets\n",
    "# case_data = from_json('rnn_orig.json')\n",
    "filename = 'testing_dict.pickle'\n",
    "with open(filename, 'rb') as handle:\n",
    "    test_dict = pickle.load(handle)\n",
    "    for case in test_dict:\n",
    "        test_dict[case]['case'] = case\n",
    "        test_dict[case]['filename'] = filename"
   ]
  },
  {
   "cell_type": "code",
   "execution_count": null,
   "id": "fb9ea256-ff24-4a20-9f62-011b0155c002",
   "metadata": {},
   "outputs": [],
   "source": [
    "params1 = {\n",
    "        'purpose':'testing 1',\n",
    "        'cases':test_dict.keys(),\n",
    "        'scale':1,        # every feature in [0, scale]\n",
    "        'rain_do':True,\n",
    "        'verbose':False,\n",
    "        'timesteps':5,\n",
    "        'activation':['sigmoid','sigmoid'],\n",
    "        'hidden_units':20,  \n",
    "        'dense_units':1,    # do not change\n",
    "        'dense_layers':1,   # do not change\n",
    "        'DeltaE':[0,-1],    # bias correction\n",
    "        'synthetic':False,  # run also synthetic cases\n",
    "        'T1': 0.1,          # 1/fuel class (10)\n",
    "        'fmr': 2.0,         # fm increase per mm rain \n",
    "        'train_frac':0.5,  # time fraction to spend on training\n",
    "        'epochs':1000,\n",
    "        'verbose_fit':False,\n",
    "}"
   ]
  },
  {
   "cell_type": "code",
   "execution_count": null,
   "id": "bb5d0a93-7fff-4c68-99e4-bf4d8e245d8e",
   "metadata": {},
   "outputs": [],
   "source": [
    "params2 = {\n",
    "        'purpose':'testing 2',\n",
    "        'cases':test_dict.keys(),\n",
    "        'scale':0.8,        # every feature in [0, scale]\n",
    "        'rain_do':True,\n",
    "        'verbose':False,\n",
    "        'timesteps':5,\n",
    "        'activation':['sigmoid','sigmoid'],\n",
    "        'hidden_units':20,  \n",
    "        'dense_units':1,    # do not change\n",
    "        'dense_layers':1,   # do not change\n",
    "        'DeltaE':[0,-1],    # bias correction\n",
    "        'synthetic':False,  # run also synthetic cases\n",
    "        'T1': 0.1,          # 1/fuel class (10)\n",
    "        'fmr': 2.0,         # fm increase per mm rain \n",
    "        'train_frac':0.5,  # time fraction to spend on training\n",
    "        'epochs':10000,\n",
    "        'verbose_fit':False,\n",
    "       }"
   ]
  },
  {
   "cell_type": "code",
   "execution_count": null,
   "id": "09e679c0-b489-4e85-b20b-2240bc55dbc9",
   "metadata": {},
   "outputs": [],
   "source": [
    "params0 = {        \n",
    "        'purpose':'reproducibility',\n",
    "        'cases':['case11'],\n",
    "        'scale':0,\n",
    "        'rain_do':False,\n",
    "        'verbose':False,\n",
    "        'timesteps':5,\n",
    "        'activation':['linear','linear'],\n",
    "        'hidden_units':6,\n",
    "        'dense_units':1,\n",
    "        'dense_layers':1,\n",
    "        'DeltaE':[0,-1],    #\n",
    "        'synthetic':False,  # run also synthetic cases\n",
    "        'T1': 0.1,          # 1/fuel class (10)\n",
    "        'fmr': 2.0,         # fm increase per mm rain                              \n",
    "        'epochs':5000,\n",
    "        'verbose_fit':False,\n",
    "       } # check 5 should give zero error"
   ]
  },
  {
   "cell_type": "code",
   "execution_count": null,
   "id": "a12aaf59-9276-484d-be48-c704a7c452da",
   "metadata": {},
   "outputs": [],
   "source": [
    "params = params0.copy()\n",
    "params"
   ]
  },
  {
   "cell_type": "code",
   "execution_count": null,
   "id": "dc5b55ab-6142-4da5-b12c-350bac09d2d8",
   "metadata": {},
   "outputs": [],
   "source": [
    "for case in params['cases']:\n",
    "    case_data = test_dict[case]\n",
    "    if params['synthetic'] or 'Synth' not in case_data['title']: \n",
    "        run_case(case_data,params)\n"
   ]
  },
  {
   "cell_type": "code",
   "execution_count": null,
   "id": "53406a17-b3d1-460d-bde7-448fee8ba5fc",
   "metadata": {},
   "outputs": [],
   "source": []
  }
 ],
 "metadata": {
  "kernelspec": {
   "display_name": "Python 3 (ipykernel)",
   "language": "python",
   "name": "python3"
  },
  "language_info": {
   "codemirror_mode": {
    "name": "ipython",
    "version": 3
   },
   "file_extension": ".py",
   "mimetype": "text/x-python",
   "name": "python",
   "nbconvert_exporter": "python",
   "pygments_lexer": "ipython3",
   "version": "3.10.9"
  }
 },
 "nbformat": 4,
 "nbformat_minor": 5
}
