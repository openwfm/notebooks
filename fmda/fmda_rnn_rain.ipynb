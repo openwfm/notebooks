{
 "cells": [
  {
   "cell_type": "code",
   "execution_count": null,
   "id": "c7291842-a72d-4c4e-9312-6c0c31df18e0",
   "metadata": {},
   "outputs": [],
   "source": [
    "# both can change\n",
    "# Environment\n",
    "import numpy as np\n",
    "import pandas as pd\n",
    "from MesoPy import Meso\n",
    "import matplotlib.pyplot as plt\n",
    "from datetime import datetime, timedelta\n",
    "\n",
    "import tensorflow as tf\n",
    "from keras.models import Sequential\n",
    "from keras.layers import Dense, SimpleRNN\n",
    "from keras.utils.vis_utils import plot_model\n",
    "from sklearn.preprocessing import MinMaxScaler\n",
    "from sklearn.metrics import mean_squared_error\n",
    "import math\n",
    "import matplotlib.pyplot as plt\n",
    "import tensorflow as tf\n",
    "import keras.backend as K\n",
    "from keras.utils.vis_utils import plot_model\n",
    "from scipy.interpolate import LinearNDInterpolator, interpn\n",
    "from scipy.optimize import root\n",
    "\n",
    "# Local modules for handling data and running moisture models\n",
    "import data_funcs as datf\n",
    "from data_funcs import format_raws, retrieve_raws, format_precip, fixnan\n",
    "import moisture_models as mod\n",
    "from moisture_rnn import create_RNN_2, staircase, create_rnn_data, train_rnn, rnn_predict\n",
    "\n",
    "meso_token=\"b40cb52cbdef43ef81329b84e8fd874f\"\n",
    "m=Meso(meso_token)"
   ]
  },
  {
   "cell_type": "code",
   "execution_count": null,
   "id": "7d299dea-9c39-4410-a4a5-a7f72d23ba99",
   "metadata": {},
   "outputs": [],
   "source": [
    "# Calculate mean squared error\n",
    "def mse(a, b):\n",
    "    return ((a - b)**2).mean()\n",
    "# Calculate mean absolute error\n",
    "def mape(a, b):\n",
    "    return ((a - b).__abs__()).mean()"
   ]
  },
  {
   "cell_type": "code",
   "execution_count": null,
   "id": "04d3b14a-20e8-4e4e-802f-88404d151991",
   "metadata": {},
   "outputs": [],
   "source": [
    "def vprint(*args):\n",
    "    if verbose: \n",
    "        for s in args[:(len(args)-1)]:\n",
    "            print(s, end=' ')\n",
    "        print(args[-1])"
   ]
  },
  {
   "cell_type": "markdown",
   "id": "947f972c-9a02-4550-8d82-1b9cf69d7e9c",
   "metadata": {},
   "source": [
    "## Validation Setup"
   ]
  },
  {
   "cell_type": "code",
   "execution_count": null,
   "id": "d6236755-11e7-4b31-bf50-ffedb6077795",
   "metadata": {},
   "outputs": [],
   "source": [
    "time_start = \"201806010800\"\n",
    "hours = 1200 # total simulation time\n",
    "time_end = datetime.strptime(time_start, \"%Y%m%d%H%M\")+timedelta(hours = hours+1) # end time, plus a buffer to control for time shift\n",
    "time_end = str(int(time_end.strftime(\"%Y%m%d%H%M\")))\n",
    "h2 = 300 # training period\n",
    "train_hrs = np.arange(0, h2) # training time\n",
    "test_hrs = np.arange(h2, hours) # forecast time\n",
    "\n",
    "print('Time Parameters:')\n",
    "print('-'*50)\n",
    "print('Time Start:', datetime.strptime(time_start, \"%Y%m%d%H%M\").strftime(\"%Y/%M/%d %H:%M\"))\n",
    "print('Time End:', datetime.strptime(time_end, \"%Y%m%d%H%M\").strftime(\"%Y/%M/%d %H:%M\"))\n",
    "print('Total Runtime:', hours, 'hours')\n",
    "print('Training Time:', h2, 'hours')\n",
    "print('-'*50)"
   ]
  },
  {
   "cell_type": "markdown",
   "id": "8320fb68-771e-4441-8849-e5bdec432bd1",
   "metadata": {},
   "source": [
    "## Retrieve RAWS Data"
   ]
  },
  {
   "cell_type": "code",
   "execution_count": null,
   "id": "6dae1750-0656-4369-a114-2ccaa885ff55",
   "metadata": {},
   "outputs": [],
   "source": [
    "raws_vars='air_temp,relative_humidity,precip_accum,fuel_moisture'"
   ]
  },
  {
   "cell_type": "code",
   "execution_count": null,
   "id": "a5d8616e-3f4d-4f56-8e52-f065e8d3d5ae",
   "metadata": {},
   "outputs": [],
   "source": [
    "station, raws_dat = retrieve_raws(m, \"BKCU1\", raws_vars, time_start, time_end)"
   ]
  },
  {
   "cell_type": "code",
   "execution_count": null,
   "id": "0d751525-58c9-4668-9755-f1aaeb34aa40",
   "metadata": {},
   "outputs": [],
   "source": [
    "def plot_dat(stn, dat, val):\n",
    "    plt.figure(figsize=(16,4))\n",
    "    plt.plot(dat[val],linestyle='-',c='k')\n",
    "    plt.title(stn['STID']+' '+ val)\n",
    "    plt.xlabel('Time (hours)') \n",
    "    plt.ylabel('val')"
   ]
  },
  {
   "cell_type": "code",
   "execution_count": null,
   "id": "013a6794-9c56-4a32-8699-15763465544f",
   "metadata": {},
   "outputs": [],
   "source": [
    "%matplotlib inline\n",
    "plot_dat(station, raws_dat, 'fm')"
   ]
  },
  {
   "cell_type": "code",
   "execution_count": null,
   "id": "ce5e033c-5d16-44ec-9b58-4a55ff76d04d",
   "metadata": {},
   "outputs": [],
   "source": [
    "print('Data Read:')\n",
    "print('-'*50)\n",
    "print('Station ID:', station['STID'])\n",
    "print('Lat / Lon:', station['LATITUDE'],', ',station['LONGITUDE'])\n",
    "if(station['QC_FLAGGED']): print('WARNING: station flagged for QC')\n",
    "print('-'*50)"
   ]
  },
  {
   "cell_type": "markdown",
   "id": "b45fcc1f-8394-418f-89ab-0cfbaa04d65f",
   "metadata": {},
   "source": [
    "## Retrieve RTMA Function\n",
    "\n",
    "<mark>Not needed?</mark>"
   ]
  },
  {
   "cell_type": "markdown",
   "id": "c7b64034",
   "metadata": {},
   "source": [
    "## Interface\n",
    "Jonathon changes above  create each case as a dictionary, then dictionary of dictionaries, figure out how to store and load dictionaries as a file. json is possible but: cannot contain datetime objects\n",
    "look into pickle also compresses while json is plain text clone wrfxpy look how for idioms, pickle added jan/angel lager\n",
    "Jan will edit from here below. \n",
    "cases will be extracted from dictionary as global variables for now at least"
   ]
  },
  {
   "cell_type": "markdown",
   "id": "907b1546",
   "metadata": {},
   "source": []
  },
  {
   "cell_type": "code",
   "execution_count": null,
   "id": "521b453c",
   "metadata": {},
   "outputs": [],
   "source": [
    "# dictionary raws_dat has all that is needed for the run \n",
    "# keeping the name raws_dat for now even if it may not be raws data\n",
    "from data_funcs import check_data\n",
    "check_data(raws_dat,h2,hours)\n",
    "    \n",
    "    "
   ]
  },
  {
   "cell_type": "markdown",
   "id": "6c42a886-ecff-4379-8a12-db9a77d64045",
   "metadata": {},
   "source": [
    "## Fit Augmented KF"
   ]
  },
  {
   "cell_type": "code",
   "execution_count": null,
   "id": "fda8aa6b-a241-47e3-881f-6e75373f1a2c",
   "metadata": {},
   "outputs": [],
   "source": [
    "m,Ec = mod.run_augmented_kf(raws_dat['fm'],raws_dat['Ed'],raws_dat['Ew'],raws_dat['rain'],h2,hours)  # extract from state"
   ]
  },
  {
   "cell_type": "code",
   "execution_count": null,
   "id": "c531fad3-1d6f-4738-a019-f587a7ab7139",
   "metadata": {},
   "outputs": [],
   "source": [
    "def plot_moisture(hmin,hmax):\n",
    "    print('training from 0 to',h2,'plot from',hmin,'to',hmax)\n",
    "    plt.figure(figsize=(16,4))\n",
    "    plt.plot(range(hmin,hmax),raws_dat['Ed'][hmin:hmax],linestyle='--',c='r',label='Drying Equilibrium (%)')\n",
    "    plt.plot(range(hmin,hmax),raws_dat['Ew'][hmin:hmax],linestyle='--',c='b',label='Wetting Equilibrium (%)')\n",
    "    plt.plot(range(hmin,hmax),Ec[hmin:hmax],linestyle='--',c='g',label='Equilibrium Correction (%)')\n",
    "    plt.plot(range(hmin,hmax),m[hmin:hmax],linestyle='-',c='k',label='filtered')\n",
    "    plt.plot(range(hmin,hmax),raws_dat['fm'][hmin:hmax],linestyle='-',c='b',label='RAWS data (%)')\n",
    "    plt.plot(range(hmin,hmax),raws_dat['rain'][hmin:hmax],linestyle='-',c='b',label='RTMA rain (mm/h)')\n",
    "    if hmin>=h2:\n",
    "        plt.plot(m[hmin:h2],linestyle='-',c='k',label='Filtered')\n",
    "    h1 = np.maximum(hmin,h2)\n",
    "    plt.plot(range(h1,hmax),m[h1:hmax],linestyle='-',c='r',label='Forecast (%)')\n",
    "    plt.title(station['STID'] +' Kalman filtering and forecast with augmented state, real data. Training 0:%i hmax' % h2)\n",
    "    plt.xlabel('Time (hours)') \n",
    "    plt.ylabel('Fuel moisture content (%)')\n",
    "    plt.legend()"
   ]
  },
  {
   "cell_type": "code",
   "execution_count": null,
   "id": "4d5388f2-1c21-4b4e-860f-a7ea7c7e2bbc",
   "metadata": {},
   "outputs": [],
   "source": [
    "plot_moisture(0, hours)"
   ]
  },
  {
   "cell_type": "code",
   "execution_count": null,
   "id": "ff9f0f20-b38f-4643-97cd-969914fca2dc",
   "metadata": {},
   "outputs": [],
   "source": [
    "# Forecast Error\n",
    "print('Forecast MSE: ' + str(np.round(mse(m[h2:hours], raws_dat['fm'][h2:hours]), 4)))"
   ]
  },
  {
   "cell_type": "markdown",
   "id": "f41a26c2-4a85-4c7e-b818-a1a2906dfb25",
   "metadata": {},
   "source": [
    "## Fit RNN Model"
   ]
  },
  {
   "cell_type": "code",
   "execution_count": null,
   "id": "01143521-8222-4e69-9cde-7dc7c7c780e0",
   "metadata": {},
   "outputs": [],
   "source": [
    "# Set seed for reproducibility\n",
    "tf.random.set_seed(123)"
   ]
  },
  {
   "cell_type": "code",
   "execution_count": null,
   "id": "cff5a394-c6f0-4af1-9890-37bf65ba0e68",
   "metadata": {},
   "outputs": [],
   "source": [
    "verbose = False\n",
    "scale = False\n",
    "rnn_dat = create_rnn_data(raws_dat, hours, h2, scale)"
   ]
  },
  {
   "cell_type": "code",
   "execution_count": null,
   "id": "871821a9-bcd9-47db-9bd6-1933094ac137",
   "metadata": {},
   "outputs": [],
   "source": [
    "model_predict = train_rnn(\n",
    "    rnn_dat,\n",
    "    hours,\n",
    "    activation=['linear','linear'],\n",
    "    hidden_units=3,\n",
    "    dense_units=1,\n",
    "    dense_layers=1,\n",
    "    verbose = verbose\n",
    ")"
   ]
  },
  {
   "cell_type": "code",
   "execution_count": null,
   "id": "5dc3ec60-292d-4526-a793-7d466f4ce9c7",
   "metadata": {},
   "outputs": [],
   "source": [
    "verbose = 0\n",
    "m = rnn_predict(model_predict, rnn_dat, hours)"
   ]
  },
  {
   "cell_type": "code",
   "execution_count": null,
   "id": "6ccc15fc-5d08-4df1-a4d5-4f0107171c15",
   "metadata": {},
   "outputs": [],
   "source": [
    "hour=np.array(range(hours))\n",
    "title=\"RNN forecast\"\n",
    "plt.figure(figsize=(16,4))\n",
    "plt.plot(hour,rnn_dat['Et'][:,0],linestyle='--',c='r',label='E=Equilibrium data')\n",
    "# print(len(hour),len(m_f))\n",
    "plt.plot(hour,raws_dat['fm'],linestyle='-',c='b',label='data')\n",
    "# plt.scatter(hour,raws_dat['fm'],c='b',label='data=10-h fuel data')\n",
    "if m is not None:\n",
    "    plt.plot(hour[:h2],m[:h2],linestyle='-',c='k',label='m=filtered')\n",
    "    plt.plot(hour[h2:hours],m[h2:hours],linestyle='-',c='r',label='m=forecast')\n",
    "plt.title(title) \n",
    "plt.legend()"
   ]
  },
  {
   "cell_type": "code",
   "execution_count": null,
   "id": "1d06f6ee-2c05-4473-956c-ba490cf773d2",
   "metadata": {},
   "outputs": [],
   "source": [
    "# Overall Error\n",
    "print(mse(m, raws_dat['fm'][0:hours]))\n",
    "\n",
    "# Forecast Eror\n",
    "print(mse(m[h2:hours], raws_dat['fm'][h2:hours]))"
   ]
  },
  {
   "cell_type": "code",
   "execution_count": null,
   "id": "1e7253c4-0e4c-4076-8f2a-f661e057efd8",
   "metadata": {},
   "outputs": [],
   "source": []
  },
  {
   "cell_type": "code",
   "execution_count": null,
   "id": "cf3afa39",
   "metadata": {},
   "outputs": [],
   "source": []
  },
  {
   "cell_type": "code",
   "execution_count": null,
   "id": "b3b20ae2",
   "metadata": {},
   "outputs": [],
   "source": []
  },
  {
   "cell_type": "code",
   "execution_count": null,
   "id": "3048fb47",
   "metadata": {},
   "outputs": [],
   "source": []
  }
 ],
 "metadata": {
  "kernelspec": {
   "display_name": "Python 3 (ipykernel)",
   "language": "python",
   "name": "python3"
  },
  "language_info": {
   "codemirror_mode": {
    "name": "ipython",
    "version": 3
   },
   "file_extension": ".py",
   "mimetype": "text/x-python",
   "name": "python",
   "nbconvert_exporter": "python",
   "pygments_lexer": "ipython3",
   "version": "3.9.12"
  }
 },
 "nbformat": 4,
 "nbformat_minor": 5
}
