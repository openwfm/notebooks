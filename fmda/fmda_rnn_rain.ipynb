{
 "cells": [
  {
   "cell_type": "code",
   "execution_count": null,
   "id": "d70c330d",
   "metadata": {},
   "outputs": [],
   "source": [
    "import reproducibility"
   ]
  },
  {
   "cell_type": "code",
   "execution_count": null,
   "id": "c7291842-a72d-4c4e-9312-6c0c31df18e0",
   "metadata": {},
   "outputs": [],
   "source": [
    "# both can change\n",
    "# Environment\n",
    "import numpy as np\n",
    "import pandas as pd\n",
    "import tensorflow as tf\n",
    "from keras.models import Sequential\n",
    "from keras.layers import Dense, SimpleRNN\n",
    "from keras.utils.vis_utils import plot_model\n",
    "from sklearn.preprocessing import MinMaxScaler\n",
    "from sklearn.metrics import mean_squared_error\n",
    "import math\n",
    "import json\n",
    "import matplotlib.pyplot as plt\n",
    "import tensorflow as tf\n",
    "import keras.backend as K\n",
    "from keras.utils.vis_utils import plot_model\n",
    "from scipy.interpolate import LinearNDInterpolator, interpn\n",
    "from scipy.optimize import root\n",
    "import pickle, os\n",
    "from utils import hash2\n",
    "\n",
    "# Local modules for handling data and running moisture models\n",
    "import data_funcs as datf\n",
    "from data_funcs import format_raws, retrieve_raws, format_precip, fixnan\n",
    "from data_funcs import raws_data, synthetic_data, plot_data, check_data, mse_data, to_json, from_json\n",
    "import moisture_models as mod\n",
    "from moisture_rnn import create_RNN_2, staircase, create_rnn_data, train_rnn, rnn_predict\n",
    "\n",
    "meso_token=\"b40cb52cbdef43ef81329b84e8fd874f\"\n"
   ]
  },
  {
   "cell_type": "code",
   "execution_count": null,
   "id": "1de795c3-3cad-454c-9f0b-94a9e937b21a",
   "metadata": {},
   "outputs": [],
   "source": [
    "# Change directory for data read/write\n",
    "os.chdir('data')"
   ]
  },
  {
   "cell_type": "markdown",
   "id": "8320fb68-771e-4441-8849-e5bdec432bd1",
   "metadata": {},
   "source": [
    "## Retrieve Data"
   ]
  },
  {
   "cell_type": "code",
   "execution_count": null,
   "id": "7ff87917-536b-4451-a472-90940d96a6cf",
   "metadata": {},
   "outputs": [],
   "source": [
    "# read test datasets\n",
    "# case_data = from_json('rnn_orig.json')\n",
    "filename = 'testing_dict.pickle'\n",
    "with open(filename, 'rb') as handle:\n",
    "    test_dict = pickle.load(handle)\n",
    "    for case in test_dict:\n",
    "        test_dict[case]['case'] = case\n",
    "        test_dict[case]['filename'] = filename\n"
   ]
  },
  {
   "cell_type": "code",
   "execution_count": null,
   "id": "fb9ea256-ff24-4a20-9f62-011b0155c002",
   "metadata": {},
   "outputs": [],
   "source": [
    "case = 'case11'    # choose a test dataset"
   ]
  },
  {
   "cell_type": "code",
   "execution_count": null,
   "id": "dc5b55ab-6142-4da5-b12c-350bac09d2d8",
   "metadata": {},
   "outputs": [],
   "source": [
    "case_data = test_dict[case]\n",
    "check_data(case_data)\n",
    "hours=case_data['hours']\n",
    "h2=case_data['h2'] "
   ]
  },
  {
   "cell_type": "code",
   "execution_count": null,
   "id": "8c1766b6",
   "metadata": {},
   "outputs": [],
   "source": [
    "%matplotlib inline\n",
    "plot_data(case_data)"
   ]
  },
  {
   "cell_type": "code",
   "execution_count": null,
   "id": "c655b1b9",
   "metadata": {},
   "outputs": [],
   "source": [
    "plot_data(case_data,hmax=h2)"
   ]
  },
  {
   "cell_type": "code",
   "execution_count": null,
   "id": "df5a0e60",
   "metadata": {},
   "outputs": [],
   "source": [
    "%matplotlib inline\n",
    "if 0:\n",
    "    synt_dat=synthetic_data()  # just testinh\n",
    "    check_data(case_data)\n",
    "    plot_data(synt_dat)"
   ]
  },
  {
   "cell_type": "code",
   "execution_count": null,
   "id": "521b453c",
   "metadata": {},
   "outputs": [],
   "source": [
    "# dictionary case_data has all that is needed for the run \n",
    "# keeping the name case_data for now even if it may not be raws data\n",
    "\n"
   ]
  },
  {
   "cell_type": "markdown",
   "id": "6c42a886-ecff-4379-8a12-db9a77d64045",
   "metadata": {},
   "source": [
    "## Fit Augmented KF"
   ]
  },
  {
   "cell_type": "code",
   "execution_count": null,
   "id": "fda8aa6b-a241-47e3-881f-6e75373f1a2c",
   "metadata": {},
   "outputs": [],
   "source": [
    "m,Ec = mod.run_augmented_kf(case_data)  # extract from state\n",
    "case_data['m']=m\n",
    "case_data['Ec']=Ec\n",
    "plot_data(case_data,title2='augmented KF')"
   ]
  },
  {
   "cell_type": "code",
   "execution_count": null,
   "id": "e98780d3",
   "metadata": {},
   "outputs": [],
   "source": [
    "plot_data(case_data,hmin=0,hmax=h2,title2='augmented KF')"
   ]
  },
  {
   "cell_type": "code",
   "execution_count": null,
   "id": "4d5388f2-1c21-4b4e-860f-a7ea7c7e2bbc",
   "metadata": {},
   "outputs": [],
   "source": [
    "plot_data(case_data,hmin=h2,hmax=hours,title2='augmented KF')"
   ]
  },
  {
   "cell_type": "code",
   "execution_count": null,
   "id": "ff9f0f20-b38f-4643-97cd-969914fca2dc",
   "metadata": {},
   "outputs": [],
   "source": [
    "mse_data(case_data) \n"
   ]
  },
  {
   "cell_type": "markdown",
   "id": "f41a26c2-4a85-4c7e-b818-a1a2906dfb25",
   "metadata": {},
   "source": [
    "## Fit RNN Model"
   ]
  },
  {
   "cell_type": "code",
   "execution_count": null,
   "id": "01143521-8222-4e69-9cde-7dc7c7c780e0",
   "metadata": {},
   "outputs": [],
   "source": [
    "# Set seed for reproducibility\n",
    "reproducibility.set_seed()"
   ]
  },
  {
   "cell_type": "code",
   "execution_count": null,
   "id": "c61000f9-0e3a-4b76-8622-4f5edb476dc2",
   "metadata": {},
   "outputs": [],
   "source": [
    "plot_data(case_data,title2='from testing_dict.pickle')"
   ]
  },
  {
   "cell_type": "code",
   "execution_count": null,
   "id": "1fcfc8e5",
   "metadata": {},
   "outputs": [],
   "source": [
    "plot_data(case_data,title2='from testing_dict.pickle',hmin=0,hmax=h2)"
   ]
  },
  {
   "cell_type": "code",
   "execution_count": null,
   "id": "249b93d6",
   "metadata": {},
   "outputs": [],
   "source": [
    "plot_data(case_data,title2='from testing_dict.pickle',hmin=h2,hmax=hours)"
   ]
  },
  {
   "cell_type": "code",
   "execution_count": null,
   "id": "46b34ba2",
   "metadata": {},
   "outputs": [],
   "source": [
    "if 'm' in case_data:\n",
    "    mse_data(case_data)  # just check sdolution if there\n",
    "    del case_data['m']   \n",
    "    print('cleanup - removed old solution m')\n",
    "if 'Ec' in case_data:\n",
    "    del case_data['Ec']\n",
    "    print('cleanup - removed old correction Ec')"
   ]
  },
  {
   "cell_type": "code",
   "execution_count": null,
   "id": "58615e60",
   "metadata": {},
   "outputs": [],
   "source": [
    "verbose = False\n",
    "reproducibility.set_seed() # Set seed for reproducibility\n",
    "rnn_dat = create_rnn_data(case_data,scale=False, verbose=verbose)\n",
    "check_data(rnn_dat,case=0,name='rnn_dat')"
   ]
  },
  {
   "cell_type": "code",
   "execution_count": null,
   "id": "871821a9-bcd9-47db-9bd6-1933094ac137",
   "metadata": {},
   "outputs": [],
   "source": [
    "model_predict = train_rnn(\n",
    "    rnn_dat,\n",
    "    rnn_dat['hours'],\n",
    "    activation=['linear','linear'],\n",
    "    hidden_units=6,\n",
    "    dense_units=1,\n",
    "    dense_layers=1,\n",
    "    verbose = verbose\n",
    ")"
   ]
  },
  {
   "cell_type": "code",
   "execution_count": null,
   "id": "5dc3ec60-292d-4526-a793-7d466f4ce9c7",
   "metadata": {
    "tags": []
   },
   "outputs": [],
   "source": [
    "case_data['m'] = rnn_predict(model_predict, rnn_dat, rnn_dat['hours'], verbose = verbose)\n",
    "note = 'm replaced by a solution from fmda_rnn_rain'\n",
    "if 'note' in case_data:\n",
    "    case_data['note'] = case_data['note'] + '\\n' + note\n",
    "else:\n",
    "    case_data['note'] = note\n",
    "check_data(case_data)"
   ]
  },
  {
   "cell_type": "code",
   "execution_count": null,
   "id": "1d06f6ee-2c05-4473-956c-ba490cf773d2",
   "metadata": {
    "tags": []
   },
   "outputs": [],
   "source": [
    "mse_data(case_data)"
   ]
  },
  {
   "cell_type": "code",
   "execution_count": null,
   "id": "2f6ae799-63d0-43f4-840e-72916b8afa8c",
   "metadata": {},
   "outputs": [],
   "source": [
    "plot_data(case_data,title2='with trained RNN')"
   ]
  },
  {
   "cell_type": "code",
   "execution_count": null,
   "id": "6ccc15fc-5d08-4df1-a4d5-4f0107171c15",
   "metadata": {
    "tags": []
   },
   "outputs": [],
   "source": [
    "plot_data(case_data,title2='with trained RNN',hmin=0,hmax=h2)"
   ]
  },
  {
   "cell_type": "code",
   "execution_count": null,
   "id": "4e1668f8",
   "metadata": {
    "tags": []
   },
   "outputs": [],
   "source": [
    "plot_data(case_data,title2='RNN prediction',hmin=h2,hmax=hours)"
   ]
  },
  {
   "cell_type": "code",
   "execution_count": null,
   "id": "ac1e992b-31b6-4821-8a94-4de13c9e32e6",
   "metadata": {},
   "outputs": [],
   "source": [
    "# check 5\n",
    "print(hash2(model_predict.get_weights()))"
   ]
  }
 ],
 "metadata": {
  "kernelspec": {
   "display_name": "Python 3 (ipykernel)",
   "language": "python",
   "name": "python3"
  },
  "language_info": {
   "codemirror_mode": {
    "name": "ipython",
    "version": 3
   },
   "file_extension": ".py",
   "mimetype": "text/x-python",
   "name": "python",
   "nbconvert_exporter": "python",
   "pygments_lexer": "ipython3",
   "version": "3.10.9"
  }
 },
 "nbformat": 4,
 "nbformat_minor": 5
}
