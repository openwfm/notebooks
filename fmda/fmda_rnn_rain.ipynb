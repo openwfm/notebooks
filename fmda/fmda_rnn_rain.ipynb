{
 "cells": [
  {
   "cell_type": "markdown",
   "id": "9131b151-f29c-47da-8ef8-880f0017d559",
   "metadata": {},
   "source": [
    "## Setup"
   ]
  },
  {
   "cell_type": "code",
   "execution_count": null,
   "id": "d70c330d",
   "metadata": {},
   "outputs": [],
   "source": [
    "import reproducibility"
   ]
  },
  {
   "cell_type": "code",
   "execution_count": null,
   "id": "c7291842-a72d-4c4e-9312-6c0c31df18e0",
   "metadata": {},
   "outputs": [],
   "source": [
    "# both can change\n",
    "# Environment\n",
    "import numpy as np\n",
    "import pandas as pd\n",
    "import tensorflow as tf\n",
    "import logging\n",
    "\n",
    "# Configuring the number of threads\n",
    "#NUM_THREADS = 5\n",
    "#tf.config.threading.set_intra_op_parallelism_threads(NUM_THREADS)\n",
    "#tf.config.threading.set_inter_op_parallelism_threads(NUM_THREADS)\n",
    "\n",
    "from keras.models import Sequential\n",
    "from keras.layers import Dense, SimpleRNN\n",
    "# from keras.utils.vis_utils import plot_model\n",
    "from keras.utils import plot_model\n",
    "\n",
    "from sklearn.preprocessing import MinMaxScaler\n",
    "from sklearn.metrics import mean_squared_error\n",
    "import math\n",
    "import json\n",
    "import matplotlib.pyplot as plt\n",
    "import tensorflow as tf\n",
    "import keras.backend as K\n",
    "# from keras.utils.vis_utils import plot_model\n",
    "from scipy.interpolate import LinearNDInterpolator, interpn\n",
    "from scipy.optimize import root\n",
    "import pickle, os\n",
    "from utils import hash2\n",
    "%matplotlib inline"
   ]
  },
  {
   "cell_type": "code",
   "execution_count": null,
   "id": "75cbad66-7e26-486b-b6e3-91d3cc7a4dbd",
   "metadata": {},
   "outputs": [],
   "source": [
    "from utils import logging_setup\n",
    "logging_setup()"
   ]
  },
  {
   "cell_type": "code",
   "execution_count": null,
   "id": "bb5b3dcf-e0b1-4939-ac18-866060715ae5",
   "metadata": {},
   "outputs": [],
   "source": [
    "# Local modules for handling data and running moisture models\n",
    "import data_funcs as datf\n",
    "from data_funcs import format_raws, retrieve_raws, format_precip, fixnan, load_and_fix_data\n",
    "from data_funcs import raws_data, synthetic_data, plot_data, check_data, rmse_data, to_json, from_json\n",
    "import moisture_models as mod\n",
    "from moisture_rnn import run_case, run_rnn, create_RNN_2, staircase, train_rnn, rnn_predict"
   ]
  },
  {
   "cell_type": "markdown",
   "id": "eebb5f2a-d5d9-47db-bc01-87a6560c19e5",
   "metadata": {},
   "source": [
    "## User options"
   ]
  },
  {
   "cell_type": "code",
   "execution_count": null,
   "id": "1de795c3-3cad-454c-9f0b-94a9e937b21a",
   "metadata": {},
   "outputs": [],
   "source": [
    "# Change directory for data read/write\n",
    "\n",
    "dict_file='data/testing_dict.pickle' # input path of FMDA dictionaries\n",
    "output_path='outputs/outputs.json' # RNN output file\n",
    "reproducibility_file='data/reproducibility_dict.pickle'"
   ]
  },
  {
   "cell_type": "code",
   "execution_count": null,
   "id": "58d0dd9d",
   "metadata": {},
   "outputs": [],
   "source": [
    "from module_param_sets import param_sets"
   ]
  },
  {
   "cell_type": "code",
   "execution_count": null,
   "id": "94c55b47-97d8-4cc9-956f-38efc5be74e2",
   "metadata": {},
   "outputs": [],
   "source": [
    "param_sets_keys=['0']\n",
    "# param_sets_keys = param_sets.keys()"
   ]
  },
  {
   "cell_type": "code",
   "execution_count": null,
   "id": "a12aaf59-9276-484d-be48-c704a7c452da",
   "metadata": {},
   "outputs": [],
   "source": [
    "# read test datasets\n",
    "test_dict=load_and_fix_data(dict_file)\n",
    "logging.info(\"testing datasets test_dict.keys():%s\",test_dict.keys())\n",
    "\n",
    "repro_dict=load_and_fix_data(reproducibility_file)\n",
    "logging.info(\"reproducibity dataset repro_dict.keys(): %s\",repro_dict.keys())"
   ]
  },
  {
   "cell_type": "code",
   "execution_count": null,
   "id": "7ff87917-536b-4451-a472-90940d96a6cf",
   "metadata": {},
   "outputs": [],
   "source": [
    "output={}\n",
    "logging.info('params_sets_keys=%s',param_sets_keys)\n",
    "\n",
    "for i in param_sets_keys:\n",
    "    print('i=',i)\n",
    "    params=param_sets[i]\n",
    "    if i == '0':\n",
    "        # Run reproducbility case\n",
    "        print('Running reproducibility')\n",
    "        assert param_sets[i]['purpose'] == 'reproducibility'\n",
    "        output[i]={'params':params,'cases':{}}\n",
    "        case = 'case11'\n",
    "        case_data=repro_dict[case]\n",
    "        output[i]['cases'][case]=run_case(case_data,params)\n",
    "        print('*** params',i,'reproducibility case','summary ***')\n",
    "        print('params=',params)\n",
    "        print('outputs=',json.dumps(output[i]['cases'][case],indent=4,sort_keys=True))\n",
    "        print('writing the results to file',output_path)\n",
    "        json.dump(output,open(output_path,'w'),indent=4,sort_keys=True)\n",
    "    else:\n",
    "        #print('params=',params)\n",
    "        if params['cases'] == 'all':\n",
    "            params['cases'] = list(test_dict.keys())\n",
    "            print(\"expanding 'all' to\",params['cases'])\n",
    "        output[i]={'params':params,'cases':{}}\n",
    "        cases = params['cases']\n",
    "        print('cases=',cases)\n",
    "        for case in cases:\n",
    "          for initialize in [True,False]:\n",
    "            # print(json.dumps(params,indent=4,sort_keys=True))\n",
    "            case_data=test_dict[case]\n",
    "            print('case=',case,case_data['title'])\n",
    "            if not 'title' in case_data.keys():\n",
    "                case_data['title']=case\n",
    "            if not 'hours' in case_data.keys():\n",
    "                case_data['hours']=len(case_data['fm'])\n",
    "                # case_data['h2']=int(20*24) # length of training period\n",
    "            if params['synthetic'] or 'Synth' not in case_data['title']: \n",
    "                params['initialize']=initialize \n",
    "                output[i]['cases'][case]={'initialize':{initialize:run_case(case_data,params)}}  # add to results\n",
    "                print('*** params',i,'case',case,'summary ***')\n",
    "                print('params=',params)\n",
    "                print('outputs=',json.dumps(output[i]['cases'][case],indent=4,sort_keys=True))\n",
    "                print('writing the results to file',output_path)\n",
    "                json.dump(output,open(output_path,'w'),indent=4,sort_keys=True)\n",
    "            else:\n",
    "                print('skipping synthetic case',case,case_data['title'])\n",
    "        print('cases=',cases)\n",
    "print(json.dumps(output,indent=4,sort_keys=True))\n",
    "   "
   ]
  },
  {
   "cell_type": "code",
   "execution_count": null,
   "id": "d64157c2-24e6-4e42-9c8d-0be45ce0c529",
   "metadata": {},
   "outputs": [],
   "source": [
    "logging.info('fmda_rnn_rain.ipynb done')"
   ]
  },
  {
   "cell_type": "code",
   "execution_count": null,
   "id": "93900f51",
   "metadata": {},
   "outputs": [],
   "source": []
  },
  {
   "cell_type": "code",
   "execution_count": null,
   "id": "ad908ee1",
   "metadata": {},
   "outputs": [],
   "source": []
  }
 ],
 "metadata": {
  "kernelspec": {
   "display_name": "Python 3 (ipykernel)",
   "language": "python",
   "name": "python3"
  },
  "language_info": {
   "codemirror_mode": {
    "name": "ipython",
    "version": 3
   },
   "file_extension": ".py",
   "mimetype": "text/x-python",
   "name": "python",
   "nbconvert_exporter": "python",
   "pygments_lexer": "ipython3",
   "version": "3.9.12"
  }
 },
 "nbformat": 4,
 "nbformat_minor": 5
}
