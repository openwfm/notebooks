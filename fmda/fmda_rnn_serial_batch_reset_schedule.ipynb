{
 "cells": [
  {
   "cell_type": "markdown",
   "id": "83b774b3-ef55-480a-b999-506676e49145",
   "metadata": {},
   "source": [
    "# v2.1 run RNN strategy serial by Location\n",
    "\n",
    "This version of the RNN runs the model on each location separately, one at a time. Two main runs:\n",
    "1. Run separate model at each location - training and prediction at least location independently - training mode periods 0:train_ind (was 0:h2), then prediction in test_ind:end. Validation data, if any, are from train_ind:test_ind\n",
    "2. Run same model with multiple fitting calls 0:train_ind at different locations, compare prediction accuracy in test_ind:end  at for all location. \n"
   ]
  },
  {
   "cell_type": "code",
   "execution_count": null,
   "id": "83cc1dc4-3dcb-4325-9263-58101a3dc378",
   "metadata": {},
   "outputs": [],
   "source": [
    "import numpy as np\n",
    "from utils import print_dict_summary, print_first, str2time, logging_setup\n",
    "import pickle\n",
    "import logging\n",
    "import os.path as osp\n",
    "from moisture_rnn_pkl import pkl2train\n",
    "from moisture_rnn import RNNParams, RNNData, RNN \n",
    "from utils import hash2, read_yml, read_pkl, retrieve_url\n",
    "from moisture_rnn import RNN\n",
    "import reproducibility\n",
    "from data_funcs import rmse, to_json\n",
    "from moisture_models import run_augmented_kf\n",
    "import copy\n",
    "import pandas as pd\n",
    "import matplotlib.pyplot as plt\n",
    "import yaml\n",
    "import time"
   ]
  },
  {
   "cell_type": "code",
   "execution_count": null,
   "id": "17db9b90-a931-4674-a447-5b8ffbcdc86a",
   "metadata": {},
   "outputs": [],
   "source": [
    "logging_setup()"
   ]
  },
  {
   "cell_type": "code",
   "execution_count": null,
   "id": "35319c1c-7849-4b8c-8262-f5aa6656e0c7",
   "metadata": {},
   "outputs": [],
   "source": [
    "retrieve_url(\n",
    "    url = \"https://demo.openwfm.org/web/data/fmda/dicts/test_CA_202401.pkl\", \n",
    "    dest_path = \"fmda_nw_202401-05_f05.pkl\")"
   ]
  },
  {
   "cell_type": "code",
   "execution_count": null,
   "id": "eabdbd9c-07d9-4bae-9851-cca79f321895",
   "metadata": {},
   "outputs": [],
   "source": [
    "repro_file = \"data/reproducibility_dict_v2_TEST.pkl\"\n",
    "file_names=['fmda_nw_202401-05_f05.pkl']\n",
    "file_dir='data'\n",
    "file_paths = [osp.join(file_dir,file_name) for file_name in file_names]"
   ]
  },
  {
   "cell_type": "code",
   "execution_count": null,
   "id": "dcca6185-e799-4dd1-8acb-87ad33c411d7",
   "metadata": {},
   "outputs": [],
   "source": [
    "# read/write control\n",
    "train_file='train.pkl'\n",
    "train_create=False   # if false, read\n",
    "train_write=False\n",
    "train_read=True"
   ]
  },
  {
   "cell_type": "code",
   "execution_count": null,
   "id": "bc0a775b-b587-42ef-8576-e36dc0be3a75",
   "metadata": {
    "scrolled": true
   },
   "outputs": [],
   "source": [
    "repro = read_pkl(repro_file)\n",
    "\n",
    "if train_create:\n",
    "    logging.info('creating the training cases from files %s',file_paths)\n",
    "    # osp.join works on windows too, joins paths using \\ or /\n",
    "    train = pkl2train(file_paths)\n",
    "if train_write:\n",
    "    with open(train_file, 'wb') as file:\n",
    "        logging.info('Writing the rain cases into file %s',train_file)\n",
    "        pickle.dump(train, file)\n",
    "if train_read:\n",
    "    logging.info('Reading the train cases from file %s',train_file)\n",
    "    train = read_pkl(train_file)"
   ]
  },
  {
   "cell_type": "code",
   "execution_count": null,
   "id": "211a1c2f-ba8d-40b8-b29c-daa38af97a26",
   "metadata": {},
   "outputs": [],
   "source": [
    "params_all = read_yml(\"params.yaml\")\n",
    "print(params_all.keys())"
   ]
  },
  {
   "cell_type": "code",
   "execution_count": null,
   "id": "698df86b-8550-4135-81df-45dbf503dd4e",
   "metadata": {},
   "outputs": [],
   "source": [
    "# from module_param_sets import param_sets"
   ]
  },
  {
   "cell_type": "code",
   "execution_count": null,
   "id": "4b0c9a9b-dd02-4251-aa4a-2acc1101e153",
   "metadata": {},
   "outputs": [],
   "source": [
    "param_sets_keys=['rnn']\n",
    "cases=list(train.keys())\n",
    "# cases=list(train.keys())\n",
    "# cases.remove('reproducibility')\n",
    "train_cases = cases[0:100]"
   ]
  },
  {
   "cell_type": "code",
   "execution_count": null,
   "id": "22c87832-5cd5-4ed4-b755-25b4a192ddcb",
   "metadata": {},
   "outputs": [],
   "source": [
    "print(f\"Number of Training Locations: {len(train_cases)}\")"
   ]
  },
  {
   "cell_type": "markdown",
   "id": "49e31fdd-4c14-4a81-9e2b-4c6ba94d1f83",
   "metadata": {},
   "source": [
    "## Separate Models by Location"
   ]
  },
  {
   "cell_type": "code",
   "execution_count": null,
   "id": "e11e7c83-183f-48ba-abd8-a6aedff66090",
   "metadata": {},
   "outputs": [],
   "source": [
    "# Set up output dictionaries\n",
    "outputs_const = {}\n",
    "outputs_exp = {}"
   ]
  },
  {
   "cell_type": "code",
   "execution_count": null,
   "id": "dc5b47bd-4fbc-44b8-b2dd-d118e068b450",
   "metadata": {
    "scrolled": true
   },
   "outputs": [],
   "source": [
    "params = RNNParams(params_all['rnn'])\n",
    "print(\"~\"*80)\n",
    "print(\"Running with params:\")\n",
    "print(params)\n",
    "params.update({\n",
    "    'activation': ['relu', 'relu'],\n",
    "    'epochs': 20,\n",
    "    'rnn_layers' : 2,\n",
    "    'rnn_units' : 30,\n",
    "    'dense_units': 20,\n",
    "    'rnn_layers': 2       \n",
    "})\n",
    "for case in train_cases:\n",
    "    print(\"~\"*50)\n",
    "    logging.info('Processing case %s',case)\n",
    "    print_dict_summary(train[case])\n",
    "    # Format data & Run Model\n",
    "    # rnn_dat = create_rnn_data2(train[case], params)\n",
    "    rnn_dat = RNNData(train[case], scaler = params['scaler'], features_list = params['features_list'])\n",
    "    rnn_dat.train_test_split(\n",
    "        time_fracs = [.9, .05, .05]\n",
    "    )\n",
    "    rnn_dat.scale_data()\n",
    "    rnn_dat.batch_reshape(timesteps = params['timesteps'], batch_size = params['batch_size'])\n",
    "    \n",
    "    params.update({'batch_schedule_type':'constant', 'bmin':20})\n",
    "    reproducibility.set_seed()\n",
    "    rnn = RNN(params)\n",
    "    m, errs, best_ep = rnn.run_model(rnn_dat, return_epochs=True)\n",
    "    # Get RMSE Prediction Error\n",
    "    print(f\"RMSE: {errs}\")\n",
    "    outputs_const[case] = {'case':case, 'errs': errs.copy(), 'epochs': best_ep}\n",
    "    \n",
    "    ###########\n",
    "    params.update({'batch_schedule_type':'exp', \n",
    "                   'bmin':20, 'bmax': rnn_dat.hours})\n",
    "    reproducibility.set_seed()\n",
    "    rnn = RNN(params)\n",
    "    m, errs, best_ep = rnn.run_model(rnn_dat, return_epochs=True)\n",
    "    # Get RMSE Prediction Error\n",
    "    print(f\"RMSE: {errs}\")\n",
    "    outputs_exp[case] = {'case':case, 'errs': errs.copy(), 'epochs': best_ep}"
   ]
  },
  {
   "cell_type": "markdown",
   "id": "31cba687-a66b-4c0f-b3db-c8f1ccb354ae",
   "metadata": {},
   "source": [
    "## Compare"
   ]
  },
  {
   "cell_type": "code",
   "execution_count": null,
   "id": "2fdb63b3-68b8-4877-a7a2-f63257cb29d5",
   "metadata": {},
   "outputs": [],
   "source": [
    "# Prepare lists to store the extracted values\n",
    "cases = []\n",
    "predictions = []\n",
    "epochs = []\n",
    "\n",
    "# Iterate through the dictionary to extract the needed values\n",
    "for key, value in outputs_const.items():\n",
    "    cases.append(value['case'])\n",
    "    predictions.append(value['errs']['prediction'])\n",
    "    epochs.append(value['epochs'])\n",
    "\n",
    "# Create the DataFrame\n",
    "df1 = pd.DataFrame({\n",
    "    'case': cases,\n",
    "    'prediction': predictions,\n",
    "    'epochs' : epochs\n",
    "})\n"
   ]
  },
  {
   "cell_type": "code",
   "execution_count": null,
   "id": "5c7563c5-a880-45c7-8381-8ce4e1a44216",
   "metadata": {},
   "outputs": [],
   "source": [
    "# Prepare lists to store the extracted values\n",
    "cases = []\n",
    "predictions = []\n",
    "epochs = []\n",
    "\n",
    "# Iterate through the dictionary to extract the needed values\n",
    "for key, value in outputs_exp.items():\n",
    "    cases.append(value['case'])\n",
    "    predictions.append(value['errs']['prediction'])\n",
    "    epochs.append(value['epochs'])\n",
    "\n",
    "# Create the DataFrame\n",
    "df2 = pd.DataFrame({\n",
    "    'case': cases,\n",
    "    'prediction': predictions,\n",
    "    'epochs' : epochs\n",
    "})"
   ]
  },
  {
   "cell_type": "code",
   "execution_count": null,
   "id": "df2c2dfd-3896-4dff-bae6-6d9c3d25c2ab",
   "metadata": {},
   "outputs": [],
   "source": [
    "df1.head()"
   ]
  },
  {
   "cell_type": "code",
   "execution_count": null,
   "id": "ea0ddeb1-726d-4b15-9565-e098733521e4",
   "metadata": {},
   "outputs": [],
   "source": [
    "df2.head()"
   ]
  },
  {
   "cell_type": "code",
   "execution_count": null,
   "id": "6bce90d6-803a-4e61-b031-351bb5aa3071",
   "metadata": {},
   "outputs": [],
   "source": [
    "df1.prediction.mean()"
   ]
  },
  {
   "cell_type": "code",
   "execution_count": null,
   "id": "c458d837-25e3-4b73-a7a3-1dc8dbe533cf",
   "metadata": {},
   "outputs": [],
   "source": [
    "df2.prediction.mean()"
   ]
  },
  {
   "cell_type": "code",
   "execution_count": null,
   "id": "86a6f0c0-80b7-4200-8d46-c7baea2ec72e",
   "metadata": {},
   "outputs": [],
   "source": [
    "df1.epochs.mean()"
   ]
  },
  {
   "cell_type": "code",
   "execution_count": null,
   "id": "9994864d-6a8a-4cca-875f-de68ac9ca091",
   "metadata": {},
   "outputs": [],
   "source": [
    "df2.epochs.mean()"
   ]
  },
  {
   "cell_type": "code",
   "execution_count": null,
   "id": "22c36713-96e5-413d-8e60-ce87fe2896e6",
   "metadata": {},
   "outputs": [],
   "source": []
  }
 ],
 "metadata": {
  "kernelspec": {
   "display_name": "Python 3 (ipykernel)",
   "language": "python",
   "name": "python3"
  },
  "language_info": {
   "codemirror_mode": {
    "name": "ipython",
    "version": 3
   },
   "file_extension": ".py",
   "mimetype": "text/x-python",
   "name": "python",
   "nbconvert_exporter": "python",
   "pygments_lexer": "ipython3",
   "version": "3.12.5"
  }
 },
 "nbformat": 4,
 "nbformat_minor": 5
}
