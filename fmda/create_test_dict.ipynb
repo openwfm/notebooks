{
 "cells": [
  {
   "cell_type": "markdown",
   "id": "04617c3b-c110-4c6d-b6e5-d0611bf42181",
   "metadata": {},
   "source": [
    "# Create Test Dictionary\n",
    "\n",
    "The purpose of this notebook is to create a dictionary of fuel moisture scenarios for model testing.\n",
    "\n",
    "[USGS](https://water.usgs.gov/edu/activity-howmuchrain-metric.html#:~:text=Slight%20rain%3A%20Less%20than%200.5,than%208%20mm%20per%20hour.) classifies rainfall as:\n",
    "* Slight: $\\text{rain}<.5$ mm/hr\n",
    "* Moderate: $.5<\\text{rain}<4$ mm/hr\n",
    "* Heavy: $4<\\text{rain}<8$ mm/hr\n",
    "* Very Heavy: $8<\\text{rain}$ mm/hr"
   ]
  },
  {
   "cell_type": "markdown",
   "id": "18361bd2-6ff7-44c2-8e41-7a02f546f7c2",
   "metadata": {},
   "source": [
    "## Setup"
   ]
  },
  {
   "cell_type": "code",
   "execution_count": null,
   "id": "4d27bc2c-c134-48b0-8be9-cad80044a6ae",
   "metadata": {},
   "outputs": [],
   "source": [
    "import numpy as np, random\n",
    "from numpy.random import rand\n",
    "import matplotlib.pyplot as plt\n",
    "from data_funcs import synthetic_data, plot_data, to_json, from_json, format_raws\n",
    "\n",
    "from moisture_models import model_decay, model_moisture\n",
    "from datetime import datetime, timedelta\n",
    "import json\n",
    "from utils import hash2\n",
    "\n",
    "from MesoPy import Meso\n",
    "meso_token=\"4192c18707b848299783d59a9317c6e1\"\n",
    "m=Meso(meso_token)"
   ]
  },
  {
   "cell_type": "code",
   "execution_count": null,
   "id": "11f8483d-64b4-49a8-a8b7-360fce6eb715",
   "metadata": {},
   "outputs": [],
   "source": [
    "# Set seed for reproduciblity\n",
    "random.seed(123)\n",
    "\n",
    "def synthetic_data(days=20,power=4,data_noise=0.02,process_noise=0.0,\n",
    "    DeltaE=0.0,Emin=5,Emax=30,p_rain=0.01,max_rain=10.0):\n",
    "    hours = days*24\n",
    "    h2 = int(hours/2)\n",
    "    hour = np.array(range(hours))\n",
    "    day = np.array(range(hours))/24.\n",
    "    # artificial equilibrium data\n",
    "    E = np.power(np.sin(np.pi*day),power) # diurnal curve betwen 0 and 1\n",
    "    E = Emin+(Emax - Emin)*E\n",
    "    E = E + DeltaE\n",
    "    Ed=E+0.5\n",
    "    Ew=np.maximum(E-0.5,0)\n",
    "    rain = np.multiply(rand(hours) < p_rain, rand(hours)*max_rain)\n",
    "    # FMC free run\n",
    "    m_f = np.zeros(hours)\n",
    "    m_f[0] = 0.1         # initial FMC\n",
    "    # process_noise=0.\n",
    "    for t in range(hours-1):\n",
    "        m_f[t+1] = max(0.,model_moisture(m_f[t],Ed[t-1],Ew[t-1],rain[t-1])  + random.gauss(0,process_noise))\n",
    "    m_f = m_f + np.random.normal(loc=0,scale=data_noise,size=hours)\n",
    "    dat = {'E':E,'Ew':Ew,'Ed':Ed,'m_f':m_f,'hours':hours,'h2':h2,'DeltaE':DeltaE,'rain':rain,'title':'Synthetic data'}\n",
    "    \n",
    "    return dat"
   ]
  },
  {
   "cell_type": "markdown",
   "id": "31a6243d-d894-4061-9027-1d8e4c812c10",
   "metadata": {},
   "source": [
    "---\n",
    "\n",
    "**Scenarios 1-6**: simulated moisture with default equilibrium parameters. Vary rain from none up to very heavy as described above."
   ]
  },
  {
   "cell_type": "code",
   "execution_count": null,
   "id": "0dc68c44-1c07-4704-8e4d-a824bad3a4d5",
   "metadata": {},
   "outputs": [],
   "source": [
    "# Dictionary to be saved for testing\n",
    "test_dict = {}"
   ]
  },
  {
   "cell_type": "code",
   "execution_count": null,
   "id": "aba3e81a-824c-4454-8696-4f4b2d6b4fa8",
   "metadata": {},
   "outputs": [],
   "source": [
    "## Case 1: no rain\n",
    "synt_dat=synthetic_data(max_rain = 0) \n",
    "synt_dat['id'] = 1\n",
    "synt_dat['title'] = 'Synthetic Data (no rain)'\n",
    "synt_dat['descr'] = 'Max rain: 0 mm/hr; Emin: 5; Emax: 30; 20 days'\n",
    "\n",
    "test_dict['case1'] = synt_dat # save to test dictionary"
   ]
  },
  {
   "cell_type": "code",
   "execution_count": null,
   "id": "2a2e36da-b047-454c-a000-1f34460f5738",
   "metadata": {},
   "outputs": [],
   "source": [
    "## Case 2: light rain\n",
    "synt_dat=synthetic_data(max_rain = 0.4) \n",
    "synt_dat['id'] = 2\n",
    "synt_dat['title'] = 'Synthetic Data (light rain)'\n",
    "synt_dat['descr'] = 'Max rain: .4 mm/hr; Emin: 5; Emax: 30; 20 days'\n",
    "\n",
    "test_dict['case2'] = synt_dat # save to test dictionary"
   ]
  },
  {
   "cell_type": "code",
   "execution_count": null,
   "id": "1defc608-4ace-4f62-8ad0-80eb3f4a3779",
   "metadata": {},
   "outputs": [],
   "source": [
    "## Case 3: moderate rain\n",
    "synt_dat=synthetic_data(max_rain = 3) \n",
    "synt_dat['id'] = 3\n",
    "synt_dat['title'] = 'Synthetic Data (med. rain)'\n",
    "synt_dat['descr'] = 'Max rain: 3 mm/hr; Emin: 5; Emax: 30; 20 days'\n",
    "\n",
    "test_dict['case3'] = synt_dat # save to test dictionary"
   ]
  },
  {
   "cell_type": "code",
   "execution_count": null,
   "id": "a2fc842d-4c60-484d-b9ec-408ac8cd5984",
   "metadata": {},
   "outputs": [],
   "source": [
    "## Case 4: heavy rain\n",
    "synt_dat=synthetic_data(max_rain = 6) \n",
    "synt_dat['id'] = 4\n",
    "synt_dat['title'] = 'Synthetic Data (heavy rain)'\n",
    "synt_dat['descr'] = 'Max rain: 6 mm/hr; Emin: 5; Emax: 30; 20 days'\n",
    "\n",
    "test_dict['case4'] = synt_dat # save to test dictionary"
   ]
  },
  {
   "cell_type": "code",
   "execution_count": null,
   "id": "1307e2b1-f907-4396-be97-ea8069efcd5a",
   "metadata": {},
   "outputs": [],
   "source": [
    "## Case 5: very heavy rain 1\n",
    "synt_dat=synthetic_data(max_rain = 10) \n",
    "synt_dat['id'] = 5\n",
    "synt_dat['title'] = 'Synthetic Data (very heavy rain 1)'\n",
    "synt_dat['descr'] = 'Max rain: 10 mm/hr; Emin: 5; Emax: 30; 20 days'\n",
    "\n",
    "test_dict['case5'] = synt_dat # save to test dictionary"
   ]
  },
  {
   "cell_type": "code",
   "execution_count": null,
   "id": "0b7d68cf-85d1-418e-935f-016c776c7f77",
   "metadata": {},
   "outputs": [],
   "source": [
    "## Case 6: very heavy rain 2\n",
    "synt_dat=synthetic_data(max_rain = 15) \n",
    "synt_dat['id'] = 6\n",
    "synt_dat['title'] = 'Synthetic Data (very heavy rain 2)'\n",
    "synt_dat['descr'] = 'Max rain: 15 mm/hr; Emin: 5; Emax: 30; 20 days'\n",
    "\n",
    "test_dict['case6'] = synt_dat # save to test dictionary"
   ]
  },
  {
   "cell_type": "code",
   "execution_count": null,
   "id": "f96c5be8-b237-4ddd-8ebe-0d34161ffa39",
   "metadata": {
    "tags": []
   },
   "outputs": [],
   "source": [
    "plot_data(test_dict['case6'])"
   ]
  },
  {
   "cell_type": "code",
   "execution_count": null,
   "id": "93e4e6fd-0ca1-44e8-adc5-347ec9910a0c",
   "metadata": {},
   "outputs": [],
   "source": [
    "test_dict.keys()"
   ]
  },
  {
   "cell_type": "markdown",
   "id": "c065be74-3fef-4165-adaf-be2b1f36348d",
   "metadata": {},
   "source": [
    "---\n",
    "\n",
    "**Scenario 7-8:** RAWS Data, multiple time slices"
   ]
  },
  {
   "cell_type": "code",
   "execution_count": null,
   "id": "34f38801-aa57-423e-9191-db18a863b49d",
   "metadata": {},
   "outputs": [],
   "source": [
    "## Read RAWS data with MesoPy\n",
    "\n",
    "time_start = \"201806010800\"  # June 1 2018 08:00 in format yyyymmddHHMM\n",
    "time_s2    = \"201806010900\"  # June 1 2018 09:00 in format yyyymmddHHMM \n",
    "time_end   = \"201907200900\"  # June 20 2018 09:00 in format yyyymmddHHMM\n",
    "\n",
    "vars='air_temp,relative_humidity,precip_accum,fuel_moisture'"
   ]
  },
  {
   "cell_type": "code",
   "execution_count": null,
   "id": "3f7b5ff0-9233-4a69-b4de-f7dfdb50f029",
   "metadata": {},
   "outputs": [],
   "source": [
    "meso_ts = m.timeseries(time_start, time_end, stid=\"CPTC2\", showemptystations = '0', vars=vars)   # ask the object for data"
   ]
  },
  {
   "cell_type": "code",
   "execution_count": null,
   "id": "0026b1d5-ac67-4f46-a4d1-3e82c2669353",
   "metadata": {},
   "outputs": [],
   "source": [
    "raws1 = format_raws(meso_ts['STATION'][0])"
   ]
  },
  {
   "cell_type": "code",
   "execution_count": null,
   "id": "0a0ebfde-e790-4800-955c-6a2636b8f1e5",
   "metadata": {},
   "outputs": [],
   "source": [
    "# Scenario 7: time 0-1200 for station\n",
    "## Heavy rain at end of time period\n",
    "dict1={\n",
    "    'id': 7,\n",
    "    'time': raws1['time'][0:1200],\n",
    "    'rain': raws1['rain'][0:1200],\n",
    "    'fm' : raws1['fm'][0:1200],\n",
    "    'rh' : raws1['rh'][0:1200],\n",
    "    'temp' : raws1['temp'][0:1200],\n",
    "    'Ed' : raws1['Ed'][0:1200],\n",
    "    'Ew' : raws1['Ew'][0:1200],\n",
    "    'STID' : raws1['STID'],\n",
    "    'title' : 'RAWS Station CPTC2 #1',\n",
    "    'descr' : 'Real surface level data, very heavy rain at end'\n",
    "}\n",
    "\n",
    "test_dict['case7'] = dict1 # save to test dictionary"
   ]
  },
  {
   "cell_type": "code",
   "execution_count": null,
   "id": "8e2b7707-0c05-471e-a679-df11a1ba2047",
   "metadata": {},
   "outputs": [],
   "source": [
    "plot_data(dict1)"
   ]
  },
  {
   "cell_type": "code",
   "execution_count": null,
   "id": "5f9957cb-a858-406d-9fde-c8c615b2f262",
   "metadata": {},
   "outputs": [],
   "source": [
    "# Scenario 8: time 800-2000 for station\n",
    "## Heavy rain at beginning of time period\n",
    "dict1={\n",
    "    'id': 8,\n",
    "    'time': raws1['time'][800:2000],\n",
    "    'rain': raws1['rain'][800:2000],\n",
    "    'fm' : raws1['fm'][800:2000],\n",
    "    'rh' : raws1['rh'][800:2000],\n",
    "    'temp' : raws1['temp'][800:2000],\n",
    "    'Ed' : raws1['Ed'][800:2000],\n",
    "    'Ew' : raws1['Ew'][800:2000],\n",
    "    'STID' : raws1['STID'],\n",
    "    'title' : 'RAWS Station CPTC2 #2',\n",
    "    'descr' : 'Real surface level data, very heavy rain at beginning'\n",
    "}\n",
    "\n",
    "test_dict['case8'] = dict1 # save to test dictionary"
   ]
  },
  {
   "cell_type": "code",
   "execution_count": null,
   "id": "7d97200d-604f-4092-8150-326f230e71d6",
   "metadata": {},
   "outputs": [],
   "source": [
    "plot_data(test_dict['case8'])"
   ]
  },
  {
   "cell_type": "markdown",
   "id": "1eb3cc2c-3ccc-4b11-8ae5-6faa61099b57",
   "metadata": {},
   "source": [
    "## Save Output\n",
    "\n",
    "Pickle or json?"
   ]
  },
  {
   "cell_type": "code",
   "execution_count": null,
   "id": "681e5f96-fc3d-4b94-9fed-5cf5eb42e287",
   "metadata": {},
   "outputs": [],
   "source": [
    "import pickle\n",
    "with open('testing_dict.pickle', 'wb') as handle:\n",
    "    pickle.dump(test_dict, handle, protocol=pickle.HIGHEST_PROTOCOL)"
   ]
  },
  {
   "cell_type": "code",
   "execution_count": null,
   "id": "2065ca12-cb88-4384-ace6-2a53250e3ef3",
   "metadata": {},
   "outputs": [],
   "source": [
    "# with open('filename.pickle', 'rb') as handle:\n",
    "#     b = pickle.load(handle)"
   ]
  }
 ],
 "metadata": {
  "kernelspec": {
   "display_name": "Python 3 (ipykernel)",
   "language": "python",
   "name": "python3"
  },
  "language_info": {
   "codemirror_mode": {
    "name": "ipython",
    "version": 3
   },
   "file_extension": ".py",
   "mimetype": "text/x-python",
   "name": "python",
   "nbconvert_exporter": "python",
   "pygments_lexer": "ipython3",
   "version": "3.9.12"
  }
 },
 "nbformat": 4,
 "nbformat_minor": 5
}
