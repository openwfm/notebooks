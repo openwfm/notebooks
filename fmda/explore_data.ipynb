{
 "cells": [
  {
   "cell_type": "code",
   "execution_count": null,
   "id": "6d28f8ee-2537-4dbb-872f-863cb8fb0381",
   "metadata": {},
   "outputs": [],
   "source": [
    "import reproducibility\n",
    "import pickle, os, math\n",
    "import numpy as np\n",
    "import matplotlib.pyplot as plt\n",
    "from data_funcs import raws_data, synthetic_data, plot_data, check_data, mse_data, plot_one\n",
    "%matplotlib inline"
   ]
  },
  {
   "cell_type": "code",
   "execution_count": null,
   "id": "68d5eee1-63f9-4ef9-a2f4-c1549d6909a0",
   "metadata": {},
   "outputs": [],
   "source": [
    "filename = 'data/testing_dict.pickle'\n",
    "with open(filename, 'rb') as handle:\n",
    "    test_dict = pickle.load(handle)"
   ]
  },
  {
   "cell_type": "code",
   "execution_count": null,
   "id": "65d182ba-d9af-4ed3-ad50-b3f22e430929",
   "metadata": {},
   "outputs": [],
   "source": [
    "for case in test_dict:\n",
    "    test_dict[case]['case'] = case\n",
    "    test_dict[case]['filename'] = filename"
   ]
  },
  {
   "cell_type": "code",
   "execution_count": null,
   "id": "2ca2b65e-37e3-4f4f-8f1a-d7b7a6a1bc23",
   "metadata": {},
   "outputs": [],
   "source": [
    "def plt_rain_fmd(rain,fmd):\n",
    "    plt.figure(figsize=(16,4))\n",
    "    plt.scatter(rain,fmd)\n",
    "    plt.xlabel('Rain (mm/h)')\n",
    "    plt.ylabel('FMC change (%/h)')\n",
    "    plt.show()\n",
    "    "
   ]
  },
  {
   "cell_type": "code",
   "execution_count": null,
   "id": "89e2983e-be46-4dc6-89f7-a7c41bdecb22",
   "metadata": {},
   "outputs": [],
   "source": [
    "def rain_to_fmd(dat):\n",
    "    rain = dat['rain']\n",
    "    fm = dat['fm'] \n",
    "    hmin=1\n",
    "    hmax=len(rain)\n",
    "    dat['fmg']=np.zeros(hmax)\n",
    "    dat['fmr']=np.zeros(hmax)\n",
    "    rain_out=[]\n",
    "    fmd_out=[]\n",
    "    for i in range(hmin,hmax):\n",
    "        if rain[i]>0.0:\n",
    "            fmd = fm[i] - fm[i-1]\n",
    "            dat['fmg'][i] = fmd.copy()           # fm gradient in past hour\n",
    "            dat['fmr'][i] = fmd/rain[i] # increase in fm per mm of rain\n",
    "            rain_out.append(rain[i])\n",
    "            fmd_out.append(fmd)\n",
    "    plt.figure(figsize=(16,4))\n",
    "    plot_one(hmin,hmax,dat,'fmg',linestyle='-',c='r',label='FM change in 1h')\n",
    "    plot_one(hmin,hmax,dat,'rain',linestyle='--',c='r',label='rain (mm/h)')\n",
    "    plot_one(hmin,hmax,dat,'fmr',linestyle='-',c='k',label='FM change/mm rain')\n",
    "    plt.title(case + '-' + dat['title'])\n",
    "    plt.xlabel('Time (hours)')\n",
    "    plt.ylabel('FMC (%) change/rain mm')\n",
    "    plt.legend()\n",
    "    plt.show()\n",
    "    # print('rain',rain_out)\n",
    "    # print('fmd',fmd_out)\n",
    "    print(\"rain\",\" \".join(f\"{num:.2f}\" for num in rain_out))\n",
    "    print(\"fmd \",\" \".join(f\"{num:.2f}\" for num in fmd_out))\n",
    " \n",
    "    return rain_out,fmd_out\n"
   ]
  },
  {
   "cell_type": "code",
   "execution_count": null,
   "id": "f23e84a7-31a6-4640-9a5f-c4a5f77eb581",
   "metadata": {},
   "outputs": [],
   "source": [
    "rain_all=[]\n",
    "fmd_all=[]\n",
    "for case in test_dict:\n",
    "    case_data = test_dict[case]\n",
    "    if 'Synth' not in case_data['title']: \n",
    "        print('\\n***** ',case,'*****\\n')\n",
    "        plot_data(case_data)\n",
    "        plt.show()\n",
    "        rain_out,fmd_out = rain_to_fmd(case_data)\n",
    "        plt_rain_fmd(rain_out,fmd_out)\n",
    "        rain_all.extend(rain_out)\n",
    "        fmd_all.extend(fmd_out)\n",
    "        check_data(case_data)\n",
    "plt_rain_fmd(rain_all,fmd_all)\n"
   ]
  },
  {
   "cell_type": "code",
   "execution_count": null,
   "id": "811ea57a-4e7b-41e9-a373-4b00bb777282",
   "metadata": {},
   "outputs": [],
   "source": []
  }
 ],
 "metadata": {
  "kernelspec": {
   "display_name": "Python 3 (ipykernel)",
   "language": "python",
   "name": "python3"
  },
  "language_info": {
   "codemirror_mode": {
    "name": "ipython",
    "version": 3
   },
   "file_extension": ".py",
   "mimetype": "text/x-python",
   "name": "python",
   "nbconvert_exporter": "python",
   "pygments_lexer": "ipython3",
   "version": "3.10.9"
  }
 },
 "nbformat": 4,
 "nbformat_minor": 5
}
