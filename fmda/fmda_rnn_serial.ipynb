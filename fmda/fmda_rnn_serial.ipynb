{
 "cells": [
  {
   "cell_type": "markdown",
   "id": "83b774b3-ef55-480a-b999-506676e49145",
   "metadata": {},
   "source": [
    "# RNN Serial by Location\n",
    "\n",
    "This version of the RNN runs the model on each location separately, one at a time. Two main runs:\n",
    "1. Run separate model at each location\n",
    "2. Run same model with multiple fitting calls at different locations, compare prediction accuracy for all of them at the end."
   ]
  },
  {
   "cell_type": "code",
   "execution_count": null,
   "id": "83cc1dc4-3dcb-4325-9263-58101a3dc378",
   "metadata": {},
   "outputs": [],
   "source": [
    "import numpy as np\n",
    "import pandas as pd\n",
    "from utils import print_dict_summary, print_first, str2time, logging_setup\n",
    "import pickle\n",
    "import matplotlib.pyplot as plt\n",
    "import logging\n",
    "import os.path as osp\n",
    "from moisture_rnn_pkl import pkl2train\n",
    "from moisture_rnn import create_rnn_data2 \n",
    "from utils import hash2\n",
    "from moisture_rnn import RNN\n",
    "import reproducibility\n",
    "from data_funcs import rmse"
   ]
  },
  {
   "cell_type": "code",
   "execution_count": null,
   "id": "17db9b90-a931-4674-a447-5b8ffbcdc86a",
   "metadata": {},
   "outputs": [],
   "source": [
    "logging_setup()"
   ]
  },
  {
   "cell_type": "code",
   "execution_count": null,
   "id": "eabdbd9c-07d9-4bae-9851-cca79f321895",
   "metadata": {},
   "outputs": [],
   "source": [
    "file_names=[\"reproducibility_dict2.pickle\",'test_NW_202401.pkl','test_CA_202401.pkl']\n",
    "file_dir='data'\n",
    "file_paths = [osp.join(file_dir,file_name) for file_name in file_names]"
   ]
  },
  {
   "cell_type": "code",
   "execution_count": null,
   "id": "dcca6185-e799-4dd1-8acb-87ad33c411d7",
   "metadata": {},
   "outputs": [],
   "source": [
    "# read/write control\n",
    "train_file='train.pkl'\n",
    "train_create=False   # if false, read\n",
    "train_write=False\n",
    "train_read=True"
   ]
  },
  {
   "cell_type": "code",
   "execution_count": null,
   "id": "bc0a775b-b587-42ef-8576-e36dc0be3a75",
   "metadata": {
    "scrolled": true
   },
   "outputs": [],
   "source": [
    "if train_create:\n",
    "    logging.info('creating the training cases from files %s',file_paths)\n",
    "    # osp.join works on windows too, joins paths using \\ or /\n",
    "    train = pkl2train(file_paths)\n",
    "if train_write:\n",
    "    with open(train_file, 'wb') as file:\n",
    "        logging.info('Writing the rain cases into file %s',train_file)\n",
    "        pickle.dump(train, file)\n",
    "if train_read:\n",
    "    logging.info('Reading the train cases from file %s',train_file)\n",
    "    with open(train_file,'rb') as file:\n",
    "        train=pickle.load(file)"
   ]
  },
  {
   "cell_type": "code",
   "execution_count": null,
   "id": "211a1c2f-ba8d-40b8-b29c-daa38af97a26",
   "metadata": {},
   "outputs": [],
   "source": [
    "import yaml\n",
    "\n",
    "with open(\"params.yaml\") as file:\n",
    "    params_all = yaml.safe_load(file)\n",
    "params_all.keys()"
   ]
  },
  {
   "cell_type": "code",
   "execution_count": null,
   "id": "698df86b-8550-4135-81df-45dbf503dd4e",
   "metadata": {},
   "outputs": [],
   "source": [
    "# from module_param_sets import param_sets"
   ]
  },
  {
   "cell_type": "code",
   "execution_count": null,
   "id": "4b0c9a9b-dd02-4251-aa4a-2acc1101e153",
   "metadata": {},
   "outputs": [],
   "source": [
    "param_sets_keys=['rnn_repro', 'rnn']\n",
    "# cases=[list(train.keys())[0]]\n",
    "cases=list(train.keys())[205:210]\n",
    "# cases.remove('reproducibility')\n",
    "cases"
   ]
  },
  {
   "cell_type": "code",
   "execution_count": null,
   "id": "dd22baf2-59d2-460e-8c47-b20116dd5982",
   "metadata": {},
   "outputs": [],
   "source": [
    "logging.info('Running over parameter sets %s',param_sets_keys)\n",
    "logging.info('Running over cases %s',cases)"
   ]
  },
  {
   "cell_type": "markdown",
   "id": "49e31fdd-4c14-4a81-9e2b-4c6ba94d1f83",
   "metadata": {
    "jp-MarkdownHeadingCollapsed": true
   },
   "source": [
    "## Separate Models by Location"
   ]
  },
  {
   "cell_type": "code",
   "execution_count": null,
   "id": "dc5b47bd-4fbc-44b8-b2dd-d118e068b450",
   "metadata": {
    "jupyter": {
     "source_hidden": true
    },
    "scrolled": true
   },
   "outputs": [],
   "source": [
    "rmses = []\n",
    "for k in param_sets_keys:\n",
    "    params = params_all[k]\n",
    "    print(\"~\"*80)\n",
    "    print(\"Running with params:\")\n",
    "    print(params)\n",
    "    if k == \"rnn_repro\":\n",
    "        case = 'reproducibility'\n",
    "        logging.info('Running reproducibility case')\n",
    "        rnn_dat = create_rnn_data2(train[case], params)\n",
    "        reproducibility.set_seed()\n",
    "        rnn = RNN(params)\n",
    "        m, errs = rnn.run_model(rnn_dat)\n",
    "        print(f\"RMSE: {errs}\")\n",
    "    else:\n",
    "        for case in cases:\n",
    "            # Increase Val Frac so no errors, TODO fix validation\n",
    "            params.update({\n",
    "                'train_frac': .5,\n",
    "                'val_frac': .2\n",
    "            })\n",
    "            print(\"~\"*50)\n",
    "            logging.info('Processing case %s',case)\n",
    "            print_dict_summary(train[case])\n",
    "            # Format data & Run Model\n",
    "            rnn_dat = create_rnn_data2(train[case], params)\n",
    "            reproducibility.set_seed()\n",
    "            rnn = RNN(params)\n",
    "            m, errs = rnn.run_model(rnn_dat)\n",
    "            # Add model output to case\n",
    "            train[case]['m']=m\n",
    "            # Get RMSE Prediction Error\n",
    "            rmses.append(errs['prediction'])\n",
    "            print(f\"RMSE: {errs}\")\n"
   ]
  },
  {
   "cell_type": "code",
   "execution_count": null,
   "id": "7bea796b-45e1-4b50-8b3d-09bf00214f61",
   "metadata": {
    "jupyter": {
     "source_hidden": true
    }
   },
   "outputs": [],
   "source": [
    "pd.DataFrame({'Case': cases, 'RMSE': rmses}).style.hide(axis=\"index\")"
   ]
  },
  {
   "cell_type": "code",
   "execution_count": null,
   "id": "15384e4d-b8ec-4700-bdc2-83b0433d11c9",
   "metadata": {
    "jupyter": {
     "source_hidden": true
    }
   },
   "outputs": [],
   "source": [
    "logging.info('test-plk2train.ipynb done')"
   ]
  },
  {
   "cell_type": "code",
   "execution_count": null,
   "id": "d0e78fb3-b501-49d6-81a9-1a13da0134a0",
   "metadata": {
    "jupyter": {
     "source_hidden": true
    }
   },
   "outputs": [],
   "source": [
    "import importlib\n",
    "import moisture_rnn\n",
    "importlib.reload(moisture_rnn)\n",
    "from moisture_rnn import RNN"
   ]
  },
  {
   "cell_type": "markdown",
   "id": "0c0c3470-30f5-4915-98a7-dcdf5760d482",
   "metadata": {},
   "source": [
    "## Training at Multiple Locations\n",
    "\n",
    "Still sequential"
   ]
  },
  {
   "cell_type": "code",
   "execution_count": null,
   "id": "dd1aca73-7279-473e-b2a3-95aa1db7b1a8",
   "metadata": {},
   "outputs": [],
   "source": [
    "params = params_all['rnn']\n",
    "params.update({'epochs': 20})\n",
    "rnn_dat = create_rnn_data2(train['reproducibility'], params)"
   ]
  },
  {
   "cell_type": "code",
   "execution_count": null,
   "id": "65b2f9a3-a8f2-4ac1-8e4d-ba38a86eaf40",
   "metadata": {},
   "outputs": [],
   "source": [
    "reproducibility.set_seed()\n",
    "rnn = RNN(params)"
   ]
  },
  {
   "cell_type": "code",
   "execution_count": null,
   "id": "47a85ef2-8145-4de8-9f2e-86622306ffd8",
   "metadata": {
    "scrolled": true
   },
   "outputs": [],
   "source": [
    "for k in param_sets_keys:\n",
    "    params = params_all[k]\n",
    "    print(\"~\"*80)\n",
    "    print(\"Running with params:\")\n",
    "    print(params)\n",
    "    if k == \"rnn_repro\":\n",
    "        continue\n",
    "    else:\n",
    "        for case in cases:\n",
    "            # Increase Val Frac so no errors, TODO fix validation\n",
    "            params.update({\n",
    "                'train_frac': .5,\n",
    "                'val_frac': .2\n",
    "            })\n",
    "            print(\"~\"*50)\n",
    "            logging.info('Processing case %s',case)\n",
    "            print_dict_summary(train[case])\n",
    "            rnn_dat = create_rnn_data2(train[case], params)\n",
    "            rnn.fit(rnn_dat['X_train'], rnn_dat['y_train'],\n",
    "                   validation_data=(rnn_dat['X_val'], rnn_dat['y_val']))\n",
    "            # run_rnn_pkl(train[case],param_sets[i])"
   ]
  },
  {
   "cell_type": "markdown",
   "id": "a0421b8d-49aa-4409-8cbf-7732f1137838",
   "metadata": {},
   "source": [
    "### Predict "
   ]
  },
  {
   "cell_type": "code",
   "execution_count": null,
   "id": "63d7854a-94f7-425c-9561-4fe518e044bb",
   "metadata": {
    "scrolled": true
   },
   "outputs": [],
   "source": [
    "# Predict Cases Used in Training\n",
    "rmses = []\n",
    "for i, case in enumerate(list(train.keys())[200:210]):\n",
    "    print(\"~\"*50)\n",
    "    print(f\"Predicting case {case}\")\n",
    "    rnn_dat = create_rnn_data2(train[case], params)\n",
    "    m = rnn.predict(rnn_dat[\"X\"])\n",
    "    test_ind = rnn_dat['test_ind']\n",
    "    rmses.append(rmse(m[test_ind:], rnn_dat['y_test'].flatten()))"
   ]
  },
  {
   "cell_type": "code",
   "execution_count": null,
   "id": "2a5423e0-778b-4f69-9ed0-f0082a1fefe5",
   "metadata": {},
   "outputs": [],
   "source": [
    "rmses"
   ]
  },
  {
   "cell_type": "code",
   "execution_count": null,
   "id": "45c9caae-7ced-4f21-aa05-c9b125e8fdcb",
   "metadata": {},
   "outputs": [],
   "source": [
    "pd.DataFrame({'Case': list(train.keys())[200:210], 'RMSE': rmses}).style.hide(axis=\"index\")"
   ]
  },
  {
   "cell_type": "code",
   "execution_count": null,
   "id": "f710f482-b600-4ea5-9a8a-823a13b4ec7a",
   "metadata": {
    "scrolled": true
   },
   "outputs": [],
   "source": [
    "# Predict New Locations\n",
    "rmses = []\n",
    "for i, case in enumerate(list(train.keys())[150:180]):\n",
    "    print(\"~\"*50)\n",
    "    print(f\"Predicting case {case}\")\n",
    "    rnn_dat = create_rnn_data2(train[case], params)\n",
    "    m = rnn.predict(rnn_dat[\"X\"])\n",
    "    test_ind = rnn_dat['test_ind']\n",
    "    rmses.append(rmse(m[test_ind:], rnn_dat['y_test'].flatten()))\n",
    "\n",
    "df = pd.DataFrame({'Case': list(train.keys())[150:180], 'RMSE': rmses})"
   ]
  },
  {
   "cell_type": "code",
   "execution_count": null,
   "id": "d793ac87-d94b-4b16-a271-46cdc259b4fe",
   "metadata": {},
   "outputs": [],
   "source": [
    "df[0:5].style.hide(axis=\"index\")"
   ]
  },
  {
   "cell_type": "code",
   "execution_count": null,
   "id": "52ec264d-d4b7-444c-b623-002d6383da30",
   "metadata": {},
   "outputs": [],
   "source": [
    "df.RMSE.mean()"
   ]
  },
  {
   "cell_type": "code",
   "execution_count": null,
   "id": "998922cd-46bb-4063-8284-0497e19c39b0",
   "metadata": {},
   "outputs": [],
   "source": [
    "plt.hist(df.RMSE)"
   ]
  },
  {
   "cell_type": "code",
   "execution_count": null,
   "id": "ad5dae6c-1269-4674-a49e-2efe8b956911",
   "metadata": {},
   "outputs": [],
   "source": []
  }
 ],
 "metadata": {
  "kernelspec": {
   "display_name": "Python 3 (ipykernel)",
   "language": "python",
   "name": "python3"
  },
  "language_info": {
   "codemirror_mode": {
    "name": "ipython",
    "version": 3
   },
   "file_extension": ".py",
   "mimetype": "text/x-python",
   "name": "python",
   "nbconvert_exporter": "python",
   "pygments_lexer": "ipython3",
   "version": "3.9.12"
  }
 },
 "nbformat": 4,
 "nbformat_minor": 5
}
