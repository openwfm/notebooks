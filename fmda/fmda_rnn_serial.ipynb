{
 "cells": [
  {
   "cell_type": "markdown",
   "id": "83b774b3-ef55-480a-b999-506676e49145",
   "metadata": {},
   "source": [
    "# v2.1 run RNN strategy serial by Location\n",
    "\n",
    "This version of the RNN runs the model on each location separately, one at a time. Two main runs:\n",
    "1. Run separate model at each location - training and prediction at least location independently - training mode periods 0:train_ind (was 0:h2), then prediction in test_ind:end. Validation data, if any, are from train_ind:test_ind\n",
    "2. Run same model with multiple fitting calls 0:train_ind at different locations, compare prediction accuracy in test_ind:end  at for all location. \n"
   ]
  },
  {
   "cell_type": "code",
   "execution_count": null,
   "id": "83cc1dc4-3dcb-4325-9263-58101a3dc378",
   "metadata": {},
   "outputs": [],
   "source": [
    "import numpy as np\n",
    "from utils import print_dict_summary, print_first, str2time, logging_setup\n",
    "import pickle\n",
    "import logging\n",
    "import os.path as osp\n",
    "from moisture_rnn_pkl import pkl2train\n",
    "from moisture_rnn import RNNParams, RNNData, RNN, create_rnn_data2 \n",
    "from utils import hash2, read_yml, read_pkl, retrieve_url\n",
    "from moisture_rnn import RNN\n",
    "import reproducibility\n",
    "from data_funcs import rmse\n",
    "from moisture_models import run_augmented_kf\n",
    "import copy\n",
    "import pandas as pd\n",
    "import matplotlib.pyplot as plt\n",
    "import yaml"
   ]
  },
  {
   "cell_type": "code",
   "execution_count": null,
   "id": "17db9b90-a931-4674-a447-5b8ffbcdc86a",
   "metadata": {},
   "outputs": [],
   "source": [
    "logging_setup()"
   ]
  },
  {
   "cell_type": "code",
   "execution_count": null,
   "id": "35319c1c-7849-4b8c-8262-f5aa6656e0c7",
   "metadata": {},
   "outputs": [],
   "source": [
    "retrieve_url(\n",
    "    url = \"https://demo.openwfm.org/web/data/fmda/dicts/test_CA_202401.pkl\", \n",
    "    dest_path = \"data/test_CA_202401.pkl\")"
   ]
  },
  {
   "cell_type": "code",
   "execution_count": null,
   "id": "eabdbd9c-07d9-4bae-9851-cca79f321895",
   "metadata": {},
   "outputs": [],
   "source": [
    "repro_file = \"data/reproducibility_dict_v2_TEST.pkl\"\n",
    "file_names=['test_CA_202401.pkl']\n",
    "file_dir='data'\n",
    "file_paths = [osp.join(file_dir,file_name) for file_name in file_names]"
   ]
  },
  {
   "cell_type": "code",
   "execution_count": null,
   "id": "dcca6185-e799-4dd1-8acb-87ad33c411d7",
   "metadata": {},
   "outputs": [],
   "source": [
    "# read/write control\n",
    "train_file='train.pkl'\n",
    "train_create=True   # if false, read\n",
    "train_write=True\n",
    "train_read=True"
   ]
  },
  {
   "cell_type": "code",
   "execution_count": null,
   "id": "bc0a775b-b587-42ef-8576-e36dc0be3a75",
   "metadata": {
    "scrolled": true
   },
   "outputs": [],
   "source": [
    "repro = read_pkl(repro_file)\n",
    "\n",
    "if train_create:\n",
    "    logging.info('creating the training cases from files %s',file_paths)\n",
    "    # osp.join works on windows too, joins paths using \\ or /\n",
    "    train = pkl2train(file_paths)\n",
    "if train_write:\n",
    "    with open(train_file, 'wb') as file:\n",
    "        logging.info('Writing the rain cases into file %s',train_file)\n",
    "        pickle.dump(train, file)\n",
    "if train_read:\n",
    "    logging.info('Reading the train cases from file %s',train_file)\n",
    "    train = read_pkl(train_file)"
   ]
  },
  {
   "cell_type": "code",
   "execution_count": null,
   "id": "211a1c2f-ba8d-40b8-b29c-daa38af97a26",
   "metadata": {},
   "outputs": [],
   "source": [
    "params_all = read_yml(\"params.yaml\")\n",
    "print(params_all.keys())"
   ]
  },
  {
   "cell_type": "code",
   "execution_count": null,
   "id": "698df86b-8550-4135-81df-45dbf503dd4e",
   "metadata": {},
   "outputs": [],
   "source": [
    "# from module_param_sets import param_sets"
   ]
  },
  {
   "cell_type": "code",
   "execution_count": null,
   "id": "4b0c9a9b-dd02-4251-aa4a-2acc1101e153",
   "metadata": {},
   "outputs": [],
   "source": [
    "param_sets_keys=['rnn']\n",
    "# cases=[list(train.keys())[0]]\n",
    "cases=list(train.keys())[70:90]\n",
    "# cases.remove('reproducibility')\n",
    "cases"
   ]
  },
  {
   "cell_type": "code",
   "execution_count": null,
   "id": "dd22baf2-59d2-460e-8c47-b20116dd5982",
   "metadata": {},
   "outputs": [],
   "source": [
    "logging.info('Running over parameter sets %s',param_sets_keys)\n",
    "logging.info('Running over cases %s',cases)"
   ]
  },
  {
   "cell_type": "markdown",
   "id": "802f3eef-1702-4478-b6e3-2288a6edae24",
   "metadata": {},
   "source": [
    "## Run Reproducibility Case"
   ]
  },
  {
   "cell_type": "code",
   "execution_count": null,
   "id": "69a3adb9-39fd-4c0c-9c9b-aaa2a9a3af40",
   "metadata": {},
   "outputs": [],
   "source": [
    "params = repro['repro_info']['params']\n",
    "print(type(params))\n",
    "print(params)\n",
    "\n",
    "# Set up input data\n",
    "rnn_dat = RNNData(repro, scaler = params['scaler'], features_list = params['features_list'])\n",
    "rnn_dat.train_test_split(\n",
    "    train_frac = params['train_frac'],\n",
    "    val_frac = params['val_frac']\n",
    ")\n",
    "rnn_dat.scale_data()"
   ]
  },
  {
   "cell_type": "code",
   "execution_count": null,
   "id": "855703c4-d7a9-4579-bca7-7c737a81d0de",
   "metadata": {},
   "outputs": [],
   "source": [
    "reproducibility.set_seed(123)\n",
    "rnn = RNN(params)\n",
    "m, errs = rnn.run_model(rnn_dat, reproducibility_run=True)"
   ]
  },
  {
   "cell_type": "markdown",
   "id": "49e31fdd-4c14-4a81-9e2b-4c6ba94d1f83",
   "metadata": {},
   "source": [
    "## Separate Models by Location"
   ]
  },
  {
   "cell_type": "code",
   "execution_count": null,
   "id": "e11e7c83-183f-48ba-abd8-a6aedff66090",
   "metadata": {},
   "outputs": [],
   "source": [
    "# Set up output dictionaries\n",
    "outputs_kf = {}\n",
    "outputs_rnn = {}"
   ]
  },
  {
   "cell_type": "code",
   "execution_count": null,
   "id": "dc5b47bd-4fbc-44b8-b2dd-d118e068b450",
   "metadata": {},
   "outputs": [],
   "source": [
    "\n",
    "for k in param_sets_keys:\n",
    "    params = RNNParams(params_all[k])\n",
    "    print(\"~\"*80)\n",
    "    print(\"Running with params:\")\n",
    "    print(params)\n",
    "    # Increase Val Frac so no errors, TODO fix validation\n",
    "    params.update({\n",
    "        'train_frac': .5,\n",
    "        'val_frac': .2,\n",
    "        'activation': ['relu', 'relu'],\n",
    "        'epochs': 200\n",
    "    })\n",
    "    for case in cases:\n",
    "        print(\"~\"*50)\n",
    "        logging.info('Processing case %s',case)\n",
    "        print_dict_summary(train[case])\n",
    "        # Format data & Run Model\n",
    "        # rnn_dat = create_rnn_data2(train[case], params)\n",
    "        rnn_dat = RNNData(train[case], scaler = params['scaler'], features_list = params['features_list'])\n",
    "        rnn_dat.train_test_split(\n",
    "            train_frac = params['train_frac'],\n",
    "            val_frac = params['val_frac']\n",
    "        )\n",
    "        rnn_dat.scale_data()\n",
    "        reproducibility.set_seed()\n",
    "        rnn = RNN(params)\n",
    "        m, errs = rnn.run_model(rnn_dat)\n",
    "        # Add model output to case\n",
    "        train[case]['m']=m\n",
    "        # Get RMSE Prediction Error\n",
    "        print(f\"RMSE: {errs}\")\n",
    "        outputs_rnn[case] = {'case':case, 'm': m.copy(), 'errs': errs.copy()}\n",
    "        \n",
    "        # Run Augmented KF\n",
    "        print('Running Augmented KF')\n",
    "        train[case]['h2'] = train[case]['hours'] // 2\n",
    "        train[case]['scale_fm'] = 1\n",
    "        m, Ec = run_augmented_kf(train[case])\n",
    "        m = m*rnn_dat['scale_fm']\n",
    "        y = rnn_dat['y']*rnn_dat['scale_fm']          \n",
    "        train[case]['m'] = m\n",
    "        print(f\"KF RMSE: {rmse(m,y)}\")\n",
    "        outputs_kf[case] = {'case':case, 'm': m.copy(), 'errs': rmse(m,y)}"
   ]
  },
  {
   "cell_type": "code",
   "execution_count": null,
   "id": "15384e4d-b8ec-4700-bdc2-83b0433d11c9",
   "metadata": {},
   "outputs": [],
   "source": [
    "logging.info('fmda_rnn_serial.ipynb done')"
   ]
  },
  {
   "cell_type": "code",
   "execution_count": null,
   "id": "d0e78fb3-b501-49d6-81a9-1a13da0134a0",
   "metadata": {},
   "outputs": [],
   "source": [
    "import importlib\n",
    "import moisture_rnn\n",
    "importlib.reload(moisture_rnn)\n",
    "from moisture_rnn import RNN"
   ]
  },
  {
   "cell_type": "code",
   "execution_count": null,
   "id": "37053436-8dfe-4c40-8614-811817e83782",
   "metadata": {},
   "outputs": [],
   "source": [
    "for k in outputs_rnn:\n",
    "    print(\"~\"*50)\n",
    "    print(outputs_rnn[k]['case'])\n",
    "    print(outputs_rnn[k]['errs']['prediction'])"
   ]
  },
  {
   "cell_type": "code",
   "execution_count": null,
   "id": "9154d5f7-015f-4ef7-af45-020410a1ea65",
   "metadata": {},
   "outputs": [],
   "source": [
    "for k in outputs_kf:\n",
    "    print(\"~\"*50)\n",
    "    print(outputs_kf[k]['case'])\n",
    "    print(outputs_kf[k]['errs'])"
   ]
  },
  {
   "cell_type": "code",
   "execution_count": null,
   "id": "fe407f61-15f2-4086-a386-7d7a5bb90d26",
   "metadata": {},
   "outputs": [],
   "source": []
  },
  {
   "cell_type": "code",
   "execution_count": null,
   "id": "2fdb63b3-68b8-4877-a7a2-f63257cb29d5",
   "metadata": {},
   "outputs": [],
   "source": []
  },
  {
   "cell_type": "code",
   "execution_count": null,
   "id": "5c7563c5-a880-45c7-8381-8ce4e1a44216",
   "metadata": {},
   "outputs": [],
   "source": []
  },
  {
   "cell_type": "code",
   "execution_count": null,
   "id": "ad5dae6c-1269-4674-a49e-2efe8b956911",
   "metadata": {},
   "outputs": [],
   "source": []
  }
 ],
 "metadata": {
  "kernelspec": {
   "display_name": "Python 3 (ipykernel)",
   "language": "python",
   "name": "python3"
  },
  "language_info": {
   "codemirror_mode": {
    "name": "ipython",
    "version": 3
   },
   "file_extension": ".py",
   "mimetype": "text/x-python",
   "name": "python",
   "nbconvert_exporter": "python",
   "pygments_lexer": "ipython3",
   "version": "3.12.5"
  }
 },
 "nbformat": 4,
 "nbformat_minor": 5
}
