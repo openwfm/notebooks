{
 "cells": [
  {
   "cell_type": "markdown",
   "id": "83b774b3-ef55-480a-b999-506676e49145",
   "metadata": {},
   "source": [
    "# v2.3 Check Physics\n",
    "\n",
    "This notebook is intended to test traing and then saving a model object for later use.\n"
   ]
  },
  {
   "cell_type": "markdown",
   "id": "bbd84d61-a9cd-47b4-b538-4986fb10b98d",
   "metadata": {},
   "source": [
    "## Environment Setup"
   ]
  },
  {
   "cell_type": "code",
   "execution_count": null,
   "id": "83cc1dc4-3dcb-4325-9263-58101a3dc378",
   "metadata": {},
   "outputs": [],
   "source": [
    "import numpy as np\n",
    "import sys\n",
    "sys.path.append('..')\n",
    "import pickle\n",
    "import logging\n",
    "import os.path as osp\n",
    "import tensorflow as tf\n",
    "from moisture_rnn_pkl import pkl2train\n",
    "from moisture_rnn import RNNParams, RNNData, RNN, rnn_data_wrap\n",
    "from utils import hash2, read_yml, read_pkl, retrieve_url, Dict, print_dict_summary, print_first, str2time, logging_setup\n",
    "from moisture_rnn import RNN\n",
    "import reproducibility\n",
    "from data_funcs import rmse, to_json, combine_nested, subset_by_features, build_train_dict\n",
    "from moisture_models import run_augmented_kf\n",
    "import copy\n",
    "import pandas as pd\n",
    "import matplotlib.pyplot as plt\n",
    "import yaml\n",
    "import time"
   ]
  },
  {
   "cell_type": "code",
   "execution_count": null,
   "id": "17db9b90-a931-4674-a447-5b8ffbcdc86a",
   "metadata": {},
   "outputs": [],
   "source": [
    "logging_setup()"
   ]
  },
  {
   "cell_type": "code",
   "execution_count": null,
   "id": "35319c1c-7849-4b8c-8262-f5aa6656e0c7",
   "metadata": {},
   "outputs": [],
   "source": [
    "filename = \"fmda_rocky_202403-05_f05.pkl\"\n",
    "retrieve_url(\n",
    "    url = f\"https://demo.openwfm.org/web/data/fmda/dicts/{filename}\", \n",
    "    dest_path = f\"../data/{filename}\")"
   ]
  },
  {
   "cell_type": "code",
   "execution_count": null,
   "id": "eabdbd9c-07d9-4bae-9851-cca79f321895",
   "metadata": {},
   "outputs": [],
   "source": [
    "file_paths = [f'../data/{filename}']"
   ]
  },
  {
   "cell_type": "code",
   "execution_count": null,
   "id": "dcca6185-e799-4dd1-8acb-87ad33c411d7",
   "metadata": {},
   "outputs": [],
   "source": [
    "# # read/write control\n",
    "# train_file='../data/train.pkl'\n",
    "# train_create=True   # if false, read\n",
    "# train_write=False\n",
    "# train_read=False"
   ]
  },
  {
   "cell_type": "code",
   "execution_count": null,
   "id": "604388de-11ab-45c3-9f0d-80bdff0cca60",
   "metadata": {},
   "outputs": [],
   "source": [
    "# Params used for data filtering\n",
    "params_data = read_yml(\"../params_data.yaml\") \n",
    "params_data"
   ]
  },
  {
   "cell_type": "code",
   "execution_count": null,
   "id": "211a1c2f-ba8d-40b8-b29c-daa38af97a26",
   "metadata": {},
   "outputs": [],
   "source": [
    "# Params used for setting up RNN\n",
    "params = read_yml(\"../params.yaml\", subkey='rnn') "
   ]
  },
  {
   "cell_type": "code",
   "execution_count": null,
   "id": "38e6bc61-e123-4cc9-bdee-54b051bbb352",
   "metadata": {},
   "outputs": [],
   "source": [
    "feats = ['Ed', 'Ew', 'solar', 'wind', 'elev', 'lon', 'lat', 'rain']\n",
    "params.update({'features_list': feats})"
   ]
  },
  {
   "cell_type": "code",
   "execution_count": null,
   "id": "ef84104f-9898-4cd9-be54-7c480536ee0e",
   "metadata": {
    "scrolled": true
   },
   "outputs": [],
   "source": [
    "train = build_train_dict(file_paths, atm_source=\"HRRR\", params_data = params_data,\n",
    "                         features_subset = feats, spatial=True, verbose=True)"
   ]
  },
  {
   "cell_type": "code",
   "execution_count": null,
   "id": "bc0a775b-b587-42ef-8576-e36dc0be3a75",
   "metadata": {
    "scrolled": true
   },
   "outputs": [],
   "source": [
    "# if train_create:\n",
    "#     params_data.update({'hours': 1440})\n",
    "#     logging.info('creating the training cases from files %s',file_paths)\n",
    "#     # osp.join works on windows too, joins paths using \\ or /\n",
    "#     train = process_train_dict(file_paths, atm_dict = \"RAWS\", params_data = params_data, verbose=True)\n",
    "#     train = subset_by_features(train, feats)\n",
    "#     train = combine_nested(train)\n",
    "# if train_write:\n",
    "#     with open(train_file, 'wb') as file:\n",
    "#         logging.info('Writing the rain cases into file %s',train_file)\n",
    "#         pickle.dump(train, file)\n",
    "# if train_read:\n",
    "#     logging.info('Reading the train cases from file %s',train_file)\n",
    "#     train = read_pkl(train_file)"
   ]
  },
  {
   "cell_type": "markdown",
   "id": "a24d76fc-6c25-43e7-99df-3cd5dbf84fc3",
   "metadata": {},
   "source": [
    "## Train Models"
   ]
  },
  {
   "cell_type": "code",
   "execution_count": null,
   "id": "36823193-b93c-421e-b699-8c1ae5719309",
   "metadata": {},
   "outputs": [],
   "source": [
    "reproducibility.set_seed(123)"
   ]
  },
  {
   "cell_type": "code",
   "execution_count": null,
   "id": "66f40c9f-c1c2-4b12-bf14-2ada8c26113d",
   "metadata": {},
   "outputs": [],
   "source": [
    "params = RNNParams(params)\n",
    "\n",
    "params.update({\n",
    "    'hidden_layers': ['lstm', 'conv1d', 'dense', 'dense'],\n",
    "    'hidden_units': [32, 32, 32, 16],\n",
    "    'hidden_activation': ['tanh', 'tanh', 'relu', 'relu'],\n",
    "    'early_stopping_patience': 25\n",
    "})"
   ]
  },
  {
   "cell_type": "code",
   "execution_count": null,
   "id": "82bc407d-9d26-41e3-8b58-ab3f7238e105",
   "metadata": {},
   "outputs": [],
   "source": [
    "import importlib\n",
    "import moisture_rnn\n",
    "importlib.reload(moisture_rnn)\n",
    "from moisture_rnn import RNNData"
   ]
  },
  {
   "cell_type": "code",
   "execution_count": null,
   "id": "924549ba-ea73-4fc9-91b3-8f1f0e32e831",
   "metadata": {},
   "outputs": [],
   "source": [
    "rnn_dat_sp = rnn_data_wrap(train, params)\n",
    "params.update({\n",
    "    'loc_batch_reset': rnn_dat_sp.n_seqs, # Used to reset hidden state when location changes for a given batch\n",
    "    'bmax': params_data['hours']\n",
    "})"
   ]
  },
  {
   "cell_type": "code",
   "execution_count": null,
   "id": "4bc11474-fed8-47f2-b9cf-dfdda0d3d3b2",
   "metadata": {},
   "outputs": [],
   "source": [
    "# Rand Initialize\n",
    "rnn0 = RNN(params)\n",
    "m0, errs0, ep0 = rnn0.run_model(rnn_dat_sp, return_epochs=True)\n",
    "print(f\"{errs0.mean()=}\")\n",
    "print(f\"{ep0=}\")"
   ]
  },
  {
   "cell_type": "code",
   "execution_count": null,
   "id": "704ad662-d81a-488d-be3d-e90bf775a5b8",
   "metadata": {},
   "outputs": [],
   "source": [
    "# Phys Initialize\n",
    "params.update({\n",
    "    'epochs':100,\n",
    "    'hidden_layers': ['rnn'],\n",
    "    'hidden_activation': ['relu'],\n",
    "    'hidden_units': [32],\n",
    "    'phys_initialize': False,\n",
    "    'dropout': 0.2,\n",
    "    'features_list': [\"Ew\", \"Ed\", \"rain\"],\n",
    "    'space_fracs': [.8, .1, .1],\n",
    "    'scaler': None    \n",
    "})\n",
    "\n",
    "rnn_dat1 = rnn_data_wrap(train, params)\n",
    "params.update({\n",
    "    'loc_batch_reset': rnn_dat_sp.n_seqs, # Used to reset hidden state when location changes for a given batch\n",
    "    'bmax': params_data['hours']\n",
    "})"
   ]
  },
  {
   "cell_type": "code",
   "execution_count": null,
   "id": "e2c54e81-fdc5-4f6a-afa5-bd4556e423cb",
   "metadata": {},
   "outputs": [],
   "source": [
    "rnn1 = RNN(params)\n",
    "m1, errs1, ep1 = rnn1.run_model(rnn_dat1, return_epochs=True)\n",
    "print(f\"{errs1.mean()=}\")\n",
    "print(f\"{ep1=}\")"
   ]
  },
  {
   "cell_type": "code",
   "execution_count": null,
   "id": "4f4d80cb-edef-4720-b335-4af5a04992c3",
   "metadata": {},
   "outputs": [],
   "source": []
  },
  {
   "cell_type": "code",
   "execution_count": null,
   "id": "e9d7f913-b391-4e14-9b64-46a0a9786f4a",
   "metadata": {},
   "outputs": [],
   "source": []
  }
 ],
 "metadata": {
  "kernelspec": {
   "display_name": "Python 3 (ipykernel)",
   "language": "python",
   "name": "python3"
  },
  "language_info": {
   "codemirror_mode": {
    "name": "ipython",
    "version": 3
   },
   "file_extension": ".py",
   "mimetype": "text/x-python",
   "name": "python",
   "nbconvert_exporter": "python",
   "pygments_lexer": "ipython3",
   "version": "3.12.6"
  }
 },
 "nbformat": 4,
 "nbformat_minor": 5
}
