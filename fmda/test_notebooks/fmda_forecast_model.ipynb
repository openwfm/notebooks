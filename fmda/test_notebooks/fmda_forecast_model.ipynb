{
 "cells": [
  {
   "cell_type": "markdown",
   "id": "83b774b3-ef55-480a-b999-506676e49145",
   "metadata": {},
   "source": [
    "# v2.3 Forecast on a grid\n",
    "\n",
    "This notebook is intended test reading in a saved, trained model and deploying it on a grid.\n"
   ]
  },
  {
   "cell_type": "markdown",
   "id": "bbd84d61-a9cd-47b4-b538-4986fb10b98d",
   "metadata": {},
   "source": [
    "## Environment Setup"
   ]
  },
  {
   "cell_type": "code",
   "execution_count": null,
   "id": "83cc1dc4-3dcb-4325-9263-58101a3dc378",
   "metadata": {},
   "outputs": [],
   "source": [
    "import numpy as np\n",
    "import sys\n",
    "sys.path.append('..')\n",
    "import pickle\n",
    "import logging\n",
    "import os.path as osp\n",
    "import tensorflow as tf\n",
    "from moisture_rnn_pkl import pkl2train\n",
    "from moisture_rnn import RNNParams, RNNData, RNN, rnn_data_wrap\n",
    "from utils import read_yml, read_pkl, retrieve_url, Dict, print_dict_summary, rmse_3d\n",
    "from moisture_rnn import RNN\n",
    "import reproducibility\n",
    "from data_funcs import rmse, to_json, combine_nested, subset_by_features, build_train_dict\n",
    "from moisture_models import run_augmented_kf\n",
    "import copy\n",
    "import pandas as pd\n",
    "import matplotlib.pyplot as plt\n",
    "import yaml\n",
    "import time"
   ]
  },
  {
   "cell_type": "markdown",
   "id": "bc1c601f-23a9-41b0-b921-47f1340f2a47",
   "metadata": {},
   "source": [
    "## Load Model and Examine"
   ]
  },
  {
   "cell_type": "code",
   "execution_count": null,
   "id": "3c27b3c1-6f60-450e-82ea-18eaf012fece",
   "metadata": {},
   "outputs": [],
   "source": [
    "filename = \"../outputs/models/model_predict_raws_rocky.keras\"\n",
    "mod = tf.keras.models.load_model(filename) # prediction model"
   ]
  },
  {
   "cell_type": "code",
   "execution_count": null,
   "id": "44061a00-68c9-462f-b9c4-93e2c629a26b",
   "metadata": {},
   "outputs": [],
   "source": [
    "# Print Model Summary\n",
    "mod.summary()"
   ]
  },
  {
   "cell_type": "code",
   "execution_count": null,
   "id": "885b51fa-42f6-4542-9d7a-333ce02ad5d8",
   "metadata": {},
   "outputs": [],
   "source": [
    "dat = read_pkl(f\"../outputs/models/rnn_data_rocky.pkl\")"
   ]
  },
  {
   "cell_type": "code",
   "execution_count": null,
   "id": "3d329c21-b23b-4dd8-844b-dbab98ca8b02",
   "metadata": {},
   "outputs": [],
   "source": [
    "type(dat)"
   ]
  },
  {
   "cell_type": "code",
   "execution_count": null,
   "id": "4f4d80cb-edef-4720-b335-4af5a04992c3",
   "metadata": {},
   "outputs": [],
   "source": [
    "dat.keys()"
   ]
  },
  {
   "cell_type": "code",
   "execution_count": null,
   "id": "bbde8943-9be2-464a-bd26-140265f5943d",
   "metadata": {},
   "outputs": [],
   "source": [
    "dat.X_test.shape"
   ]
  },
  {
   "cell_type": "markdown",
   "id": "6d34d26e-18dc-49dd-8f22-52ec5cbcbda8",
   "metadata": {},
   "source": [
    "## Predict"
   ]
  },
  {
   "cell_type": "code",
   "execution_count": null,
   "id": "63373fa5-74d1-45dc-822f-554527202e63",
   "metadata": {},
   "outputs": [],
   "source": [
    "preds = mod.predict(dat.X_test)\n",
    "\n",
    "print(f\"{preds.shape=}\")"
   ]
  },
  {
   "cell_type": "code",
   "execution_count": null,
   "id": "aed536af-367b-476a-9f7e-ad99b17bbd38",
   "metadata": {},
   "outputs": [],
   "source": [
    "errs = rmse_3d(preds, dat.y_test)\n",
    "print(f\"Test Error: {errs}\")"
   ]
  },
  {
   "cell_type": "markdown",
   "id": "7b21d063-4076-4526-a579-1536b7bd85a9",
   "metadata": {},
   "source": [
    "## Plot"
   ]
  },
  {
   "cell_type": "markdown",
   "id": "f15e1a2f-87c3-4203-a27d-14bbaa0df291",
   "metadata": {},
   "source": [
    "### Single Plot"
   ]
  },
  {
   "cell_type": "code",
   "execution_count": null,
   "id": "da69389c-6dd8-4f41-9adb-e364a482c075",
   "metadata": {},
   "outputs": [],
   "source": [
    "dat.keys()"
   ]
  },
  {
   "cell_type": "code",
   "execution_count": null,
   "id": "60ea9ac7-6534-444b-860e-ccbe2d4a86df",
   "metadata": {},
   "outputs": [],
   "source": [
    "from utils import Dict\n",
    "keys_to_copy = ['features_list', 'all_features_list']\n",
    "d = Dict({key: dat[key] for key in keys_to_copy if key in dat})\n",
    "\n",
    "loc_ind = 23\n",
    "\n",
    "d['id'] = dat.id[loc_ind]\n",
    "d['X'] = dat.X[loc_ind][dat.test_ind:, :]\n",
    "d['y'] = dat.y_test[loc_ind, :, :]\n",
    "d['hours'] = len(d['y'])\n",
    "d['m'] = preds[loc_ind, :, :]"
   ]
  },
  {
   "cell_type": "code",
   "execution_count": null,
   "id": "015bff30-52a8-4b45-a22d-00cee2ea3b5f",
   "metadata": {},
   "outputs": [],
   "source": [
    "import importlib\n",
    "import data_funcs\n",
    "importlib.reload(data_funcs)\n",
    "from data_funcs import plot_data"
   ]
  },
  {
   "cell_type": "code",
   "execution_count": null,
   "id": "4d3bd61e-586b-48f7-8218-4cf6f9f35e72",
   "metadata": {},
   "outputs": [],
   "source": [
    "plot_data(d, title=\"RNN Prediction Error\", title2=d['id'], plot_period=\"all\")"
   ]
  },
  {
   "cell_type": "markdown",
   "id": "f7667277-cd34-4ac6-b299-6a2feb17fd11",
   "metadata": {},
   "source": [
    "## Plot Grid"
   ]
  },
  {
   "cell_type": "code",
   "execution_count": null,
   "id": "5daa22df-bbed-465c-9a77-14e0c13e050f",
   "metadata": {},
   "outputs": [],
   "source": [
    "dat.loc.keys()"
   ]
  },
  {
   "cell_type": "code",
   "execution_count": null,
   "id": "dc2a6ea0-796b-4193-872f-fda5d82784b6",
   "metadata": {},
   "outputs": [],
   "source": [
    "test_indices = [i for i, val in enumerate(dat[\"id\"]) if val in dat.loc['test_locs']]\n",
    "x_coord_test = [dat.loc[\"pixel_x\"][i] for i in test_indices]\n",
    "y_coord_test = [dat.loc[\"pixel_y\"][i] for i in test_indices]"
   ]
  },
  {
   "cell_type": "code",
   "execution_count": null,
   "id": "8f8a9568-7e98-4649-b1aa-dc3555dafcfb",
   "metadata": {},
   "outputs": [],
   "source": [
    "len(x_coord_test)"
   ]
  },
  {
   "cell_type": "code",
   "execution_count": null,
   "id": "d9bb9446-9cb7-45d1-b6b6-1461f87ed15c",
   "metadata": {},
   "outputs": [],
   "source": [
    "preds.shape"
   ]
  },
  {
   "cell_type": "code",
   "execution_count": null,
   "id": "bae49a58-7ee3-47de-8348-14fb2a270fc7",
   "metadata": {},
   "outputs": [],
   "source": [
    "tstep = 0\n",
    "\n",
    "sc = plt.scatter(\n",
    "    x_coord_test, y_coord_test,\n",
    "    c = preds[:, tstep, 0],  # Assuming the first dimension is to be used for color\n",
    "    cmap='viridis'  # Choose a colormap\n",
    ")\n",
    "plt.colorbar(sc)  # Add colorbar for scale\n",
    "plt.xlabel(\"X Grid Coordinate\")\n",
    "plt.ylabel(\"Y Grid Coordinate\")\n",
    "plt.show()"
   ]
  },
  {
   "cell_type": "code",
   "execution_count": null,
   "id": "6954b184-7910-499d-a023-8adce25c9225",
   "metadata": {},
   "outputs": [],
   "source": [
    "%matplotlib inline"
   ]
  },
  {
   "cell_type": "code",
   "execution_count": null,
   "id": "f8e5da73-3b4f-4319-aeab-3f9f6fb97f33",
   "metadata": {},
   "outputs": [],
   "source": [
    "from matplotlib.animation import FuncAnimation, PillowWriter\n",
    "\n",
    "\n",
    "fig, ax = plt.subplots()\n",
    "sc = ax.scatter(x_coord_test, y_coord_test, c=preds[:, 0, 0], cmap='viridis')\n",
    "plt.colorbar(sc)\n",
    "ax.set_xlabel(\"X Grid Coordinate\")\n",
    "ax.set_ylabel(\"Y Grid Coordinate\")\n",
    "\n",
    "# Function to update the scatter plot at each frame\n",
    "def update(tstep):\n",
    "    sc.set_array(preds[:, tstep, 0])  # Update the colors based on tstep\n",
    "    ax.set_title(f'Time Step: {tstep}')\n",
    "    return sc,\n",
    "\n",
    "# Number of frames (time steps)\n",
    "num_timesteps = preds.shape[1]\n",
    "\n",
    "# Create the animation\n",
    "ani = FuncAnimation(\n",
    "    fig, update, frames=np.arange(num_timesteps), interval=200, repeat=True\n",
    ")\n",
    "\n",
    "# Save the animation as a GIF\n",
    "ani.save(\"../outputs/animation.gif\", writer=PillowWriter(fps=5))\n"
   ]
  },
  {
   "cell_type": "code",
   "execution_count": null,
   "id": "e5fe7d5b-2ad6-46c1-8608-53b45368583a",
   "metadata": {},
   "outputs": [],
   "source": [
    "# from IPython.display import Image\n",
    "# Image(filename=\"../outputs/animation.gif\")"
   ]
  },
  {
   "cell_type": "code",
   "execution_count": null,
   "id": "17e1b6e0-024e-4330-a403-78f0415d9ce2",
   "metadata": {},
   "outputs": [],
   "source": []
  },
  {
   "cell_type": "code",
   "execution_count": null,
   "id": "6c4c149a-b70b-4a07-b354-a1119b196363",
   "metadata": {},
   "outputs": [],
   "source": []
  },
  {
   "cell_type": "code",
   "execution_count": null,
   "id": "d9543769-b81d-4e7e-8b15-a2d45b35941f",
   "metadata": {},
   "outputs": [],
   "source": []
  },
  {
   "cell_type": "code",
   "execution_count": null,
   "id": "190b3a8d-b5f2-446d-b63f-bfcdb65f75ae",
   "metadata": {},
   "outputs": [],
   "source": []
  }
 ],
 "metadata": {
  "kernelspec": {
   "display_name": "Python 3 (ipykernel)",
   "language": "python",
   "name": "python3"
  },
  "language_info": {
   "codemirror_mode": {
    "name": "ipython",
    "version": 3
   },
   "file_extension": ".py",
   "mimetype": "text/x-python",
   "name": "python",
   "nbconvert_exporter": "python",
   "pygments_lexer": "ipython3",
   "version": "3.12.5"
  }
 },
 "nbformat": 4,
 "nbformat_minor": 5
}
