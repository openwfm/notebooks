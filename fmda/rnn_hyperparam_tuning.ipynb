{
 "cells": [
  {
   "cell_type": "code",
   "execution_count": null,
   "id": "4988786f-6672-46b7-b837-172f57dbf986",
   "metadata": {},
   "outputs": [],
   "source": [
    "from sklearn.model_selection import ParameterGrid"
   ]
  },
  {
   "cell_type": "code",
   "execution_count": null,
   "id": "b6fb2286-77ae-4905-8d4f-b40b305b53ea",
   "metadata": {},
   "outputs": [],
   "source": [
    "import yaml\n",
    "\n",
    "with open(\"params.yaml\") as file:\n",
    "    params = yaml.safe_load(file)[\"rnn\"]\n",
    "params.update({'scale': 1})\n",
    "params"
   ]
  },
  {
   "cell_type": "code",
   "execution_count": null,
   "id": "ee18a132-de42-4665-88f6-fc6944e7e23a",
   "metadata": {},
   "outputs": [],
   "source": [
    "param_grids = {\n",
    "    'batch_size': [12, 24, 32, 48],\n",
    "    'timesteps': [3, 5, 8, 10],\n",
    "    'rnn_units': [3, 6, 12, 15, 20],\n",
    "    'activation': [['linear', 'linear'], ['relu', 'relu'], ['sigmoid', 'sigmoid'], ['sigmoid', 'relu']],\n",
    "    'dropout': [[0.0,0.0], [0.0,0.2], [0.2,0.0], [0.2,0.2], [0.4,0.4]],\n",
    "    'clipvalue': [[1], [2], [3], [4], [5]],\n",
    "    'recurrent_dropout': [0.0, 0.1, 0.2, 0.4],\n",
    "    'epochs': [20, 50, 100, 200, 500],\n",
    "    'learning_rate': [0.0001, 0.001, 0.01, 0.1]\n",
    "}"
   ]
  },
  {
   "cell_type": "code",
   "execution_count": null,
   "id": "3d2130b4-a085-419c-b8e5-6fe46755e9b6",
   "metadata": {},
   "outputs": [],
   "source": [
    "print(len(list(ParameterGrid(param_grids))))\n",
    "list(ParameterGrid(param_grids))[0:5]"
   ]
  },
  {
   "cell_type": "code",
   "execution_count": null,
   "id": "cf962e03-8154-4aca-b11e-64b2d8101b27",
   "metadata": {},
   "outputs": [],
   "source": []
  }
 ],
 "metadata": {
  "kernelspec": {
   "display_name": "Python 3 (ipykernel)",
   "language": "python",
   "name": "python3"
  },
  "language_info": {
   "codemirror_mode": {
    "name": "ipython",
    "version": 3
   },
   "file_extension": ".py",
   "mimetype": "text/x-python",
   "name": "python",
   "nbconvert_exporter": "python",
   "pygments_lexer": "ipython3",
   "version": "3.12.5"
  }
 },
 "nbformat": 4,
 "nbformat_minor": 5
}
