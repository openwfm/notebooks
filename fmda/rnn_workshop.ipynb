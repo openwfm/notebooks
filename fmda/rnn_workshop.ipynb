{
 "cells": [
  {
   "cell_type": "markdown",
   "id": "244c2fb0-4339-476c-a2db-a641e124e25a",
   "metadata": {},
   "source": [
    "# v2.1 exploration trying to make it work better"
   ]
  },
  {
   "cell_type": "code",
   "execution_count": null,
   "id": "e6cc7920-e380-4b81-bac0-cd6840450e9a",
   "metadata": {},
   "outputs": [],
   "source": [
    "# Environment\n",
    "import os\n",
    "import os.path as osp\n",
    "import numpy as np\n",
    "import pandas as pd\n",
    "import tensorflow as tf\n",
    "import matplotlib.pyplot as plt\n",
    "import sys\n",
    "# Local modules\n",
    "sys.path.append('..')\n",
    "import reproducibility\n",
    "import pandas as pd\n",
    "from utils import print_dict_summary\n",
    "from data_funcs import rmse, process_train_dict\n",
    "from moisture_rnn import RNNParams, RNNData, RNN, RNN_LSTM\n",
    "from moisture_rnn_pkl import pkl2train\n",
    "from tensorflow.keras.callbacks import Callback\n",
    "from utils import hash2\n",
    "import copy\n",
    "import logging\n",
    "import pickle\n",
    "from utils import logging_setup, read_yml, read_pkl, hash_ndarray, hash_weights\n",
    "import yaml\n",
    "import copy"
   ]
  },
  {
   "cell_type": "code",
   "execution_count": null,
   "id": "f58e8839-bf0e-4995-b966-c09e4df001ce",
   "metadata": {},
   "outputs": [],
   "source": [
    "logging_setup()"
   ]
  },
  {
   "cell_type": "markdown",
   "id": "fae67b50-f916-45a7-bcc7-61995ba39449",
   "metadata": {},
   "source": [
    "## Test Data"
   ]
  },
  {
   "cell_type": "code",
   "execution_count": null,
   "id": "3efed1fa-9cda-4934-8a6c-edcf179c8755",
   "metadata": {},
   "outputs": [],
   "source": [
    "file_paths = ['data/fmda_nw_202401-05_f05.pkl']"
   ]
  },
  {
   "cell_type": "code",
   "execution_count": null,
   "id": "28fd3746-1861-4afa-ab7e-ac449fbed322",
   "metadata": {},
   "outputs": [],
   "source": [
    "# Params used for data filtering\n",
    "params_data = read_yml(\"params_data.yaml\") \n",
    "params_data"
   ]
  },
  {
   "cell_type": "code",
   "execution_count": null,
   "id": "32a46674-8377-47f8-9c3a-e6b07f9505cf",
   "metadata": {},
   "outputs": [],
   "source": [
    "params = read_yml(\"params.yaml\", subkey='rnn') \n",
    "params = RNNParams(params)\n",
    "params.update({'epochs': 200, \n",
    "               'learning_rate': 0.001,\n",
    "               'activation': ['tanh', 'tanh'], # Activation for RNN Layers, Dense layers respectively.\n",
    "               'recurrent_layers': 2, 'recurrent_units': 30, \n",
    "               'dense_layers': 2, 'dense_units': 30,\n",
    "               'early_stopping_patience': 30, # how many epochs of no validation accuracy gain to wait before stopping\n",
    "               'batch_schedule_type': 'exp', # Hidden state batch reset schedule\n",
    "               'bmin': 20, # Lower bound of hidden state batch reset, \n",
    "               'bmax': params_data['hours'], # Upper bound of hidden state batch reset, using max hours\n",
    "               'features_list': ['Ed', 'Ew', 'rain', 'elev', 'lon', 'lat', 'solar', 'wind'],\n",
    "               'timesteps': 12\n",
    "              })"
   ]
  },
  {
   "cell_type": "code",
   "execution_count": null,
   "id": "91466d1b-3106-4b49-8ee8-47cbf58f938c",
   "metadata": {
    "scrolled": true
   },
   "outputs": [],
   "source": [
    "from data_funcs import build_train_dict2\n",
    "train2 = build_train_dict2(file_paths, params_data, spatial=False)"
   ]
  },
  {
   "cell_type": "code",
   "execution_count": null,
   "id": "117dcd97-fa2a-4324-9a0e-6f7723c9c0ce",
   "metadata": {
    "scrolled": true
   },
   "outputs": [],
   "source": [
    "train = process_train_dict(file_paths, atm_dict=\"HRRR\", params_data = params_data, verbose=True, spatial=False)"
   ]
  },
  {
   "cell_type": "code",
   "execution_count": null,
   "id": "ce8e3803-44c7-4602-882c-8c69530546e7",
   "metadata": {},
   "outputs": [],
   "source": [
    "key = \"PLFI1_202401\"\n",
    "train[key]['features_list']"
   ]
  },
  {
   "cell_type": "code",
   "execution_count": null,
   "id": "ca760d99-5348-4437-b30d-c5fcb252a6a1",
   "metadata": {},
   "outputs": [],
   "source": [
    "train2[key]['features_list']"
   ]
  },
  {
   "cell_type": "code",
   "execution_count": null,
   "id": "c3557d4b-162e-45bb-b297-4192e6b977d1",
   "metadata": {
    "scrolled": true
   },
   "outputs": [],
   "source": [
    "for k in train:\n",
    "    print(\"~\"*50)\n",
    "    print(k)\n",
    "    print(np.all(train[k]['X'][:,-1] == train2[k]['X'][:,-1]))"
   ]
  },
  {
   "cell_type": "code",
   "execution_count": null,
   "id": "d378b9fd-c92d-4c76-b039-364fb10512d9",
   "metadata": {},
   "outputs": [],
   "source": [
    "reproducibility.set_seed(123)"
   ]
  },
  {
   "cell_type": "code",
   "execution_count": null,
   "id": "3ec92f91-90cc-4096-a091-9ec54870ea77",
   "metadata": {},
   "outputs": [],
   "source": [
    "from itertools import islice\n",
    "train = {k: train[k] for k in islice(train, 250)}"
   ]
  },
  {
   "cell_type": "code",
   "execution_count": null,
   "id": "0fb060ed-1239-44da-8c9b-923ff2004e38",
   "metadata": {},
   "outputs": [],
   "source": [
    "from data_funcs import combine_nested"
   ]
  },
  {
   "cell_type": "code",
   "execution_count": null,
   "id": "377ff40a-c8f3-469b-b5f5-bd46b6dc1ae1",
   "metadata": {},
   "outputs": [],
   "source": [
    "d1 = RNNData(\n",
    "    combine_nested(train), # input dictionary\n",
    "    scaler=\"standard\",  # data scaling type\n",
    "    features_list = params['features_list'] # features for predicting outcome\n",
    ")\n",
    "\n",
    "\n",
    "d1.train_test_split(   \n",
    "    time_fracs = [.8, .1, .1], # Percent of total time steps used for train/val/test\n",
    "    space_fracs = [.8, .1, .1] # Percent of total timeseries used for train/val/test\n",
    ")\n",
    "d1.scale_data()\n",
    "\n",
    "d1.batch_reshape(\n",
    "    timesteps = params['timesteps'], # Timesteps aka sequence length for RNN input data. \n",
    "    batch_size = params['batch_size'] # Number of samples of length timesteps for a single round of grad. descent\n",
    ")"
   ]
  },
  {
   "cell_type": "code",
   "execution_count": null,
   "id": "cc7ea493-6beb-43c6-a933-032d30b8415f",
   "metadata": {},
   "outputs": [],
   "source": [
    "# Update Params specific to spatial training\n",
    "params.update({\n",
    "    'loc_batch_reset': d1.n_seqs # Used to reset hidden state when location changes for a given batch\n",
    "})"
   ]
  },
  {
   "cell_type": "code",
   "execution_count": null,
   "id": "11c2ec92-e51d-4015-88ed-5a5c3ea4a58f",
   "metadata": {},
   "outputs": [],
   "source": [
    "reproducibility.set_seed(123)\n",
    "rnn_sp = RNN(params)\n",
    "m, errs = rnn_sp.run_model(d1)"
   ]
  },
  {
   "cell_type": "code",
   "execution_count": null,
   "id": "7b17fa96-eb8f-455f-80c3-24b384ae65e7",
   "metadata": {},
   "outputs": [],
   "source": [
    "errs.mean()"
   ]
  },
  {
   "cell_type": "code",
   "execution_count": null,
   "id": "5403b69a-b0c2-45d1-be52-d232fcfbe7d9",
   "metadata": {},
   "outputs": [],
   "source": []
  },
  {
   "cell_type": "code",
   "execution_count": null,
   "id": "baefb163-198e-4b8c-920a-3c520eba8579",
   "metadata": {},
   "outputs": [],
   "source": [
    "from itertools import islice\n",
    "train2 = {k: train2[k] for k in islice(train2, 250)}"
   ]
  },
  {
   "cell_type": "code",
   "execution_count": null,
   "id": "54b3ea85-a4ed-4b9b-8fb5-4c2669100177",
   "metadata": {},
   "outputs": [],
   "source": [
    "d2 = RNNData(\n",
    "    combine_nested(train), # input dictionary\n",
    "    scaler=\"standard\",  # data scaling type\n",
    "    features_list = params['features_list'] # features for predicting outcome\n",
    ")\n",
    "\n",
    "\n",
    "d2.train_test_split(   \n",
    "    time_fracs = [.8, .1, .1], # Percent of total time steps used for train/val/test\n",
    "    space_fracs = [.8, .1, .1] # Percent of total timeseries used for train/val/test\n",
    ")\n",
    "d2.scale_data()\n",
    "\n",
    "d2.batch_reshape(\n",
    "    timesteps = params['timesteps'], # Timesteps aka sequence length for RNN input data. \n",
    "    batch_size = params['batch_size'] # Number of samples of length timesteps for a single round of grad. descent\n",
    ")\n",
    "# Update Params specific to spatial training\n",
    "params.update({\n",
    "    'loc_batch_reset': d2.n_seqs # Used to reset hidden state when location changes for a given batch\n",
    "})"
   ]
  },
  {
   "cell_type": "code",
   "execution_count": null,
   "id": "aa0b0073-7b0e-4871-9c87-8d19e1c49758",
   "metadata": {},
   "outputs": [],
   "source": [
    "reproducibility.set_seed(123)\n",
    "rnn2 = RNN(params)\n",
    "m2, errs2 = rnn2.run_model(d2)"
   ]
  },
  {
   "cell_type": "code",
   "execution_count": null,
   "id": "89cdbdb5-2eee-4412-92d2-d47ef3e3549e",
   "metadata": {},
   "outputs": [],
   "source": [
    "errs2.mean()"
   ]
  },
  {
   "cell_type": "code",
   "execution_count": null,
   "id": "6b045231-710c-452a-bfc4-214d5e148cd8",
   "metadata": {},
   "outputs": [],
   "source": []
  },
  {
   "cell_type": "code",
   "execution_count": null,
   "id": "05184bee-a561-4541-a3e6-7dd63cb491f7",
   "metadata": {},
   "outputs": [],
   "source": []
  },
  {
   "cell_type": "code",
   "execution_count": null,
   "id": "b722325b-af18-402d-acda-daf4586e6bbc",
   "metadata": {},
   "outputs": [],
   "source": []
  },
  {
   "cell_type": "code",
   "execution_count": null,
   "id": "2685870d-6b05-4228-97f9-e017b2a4d1ee",
   "metadata": {},
   "outputs": [],
   "source": []
  },
  {
   "cell_type": "code",
   "execution_count": null,
   "id": "641aa6cd-80cf-4d62-a13c-6a7de4644778",
   "metadata": {},
   "outputs": [],
   "source": []
  },
  {
   "cell_type": "code",
   "execution_count": null,
   "id": "c110fa06-1eb4-4f24-aca4-fd852e5297c5",
   "metadata": {},
   "outputs": [],
   "source": [
    "from data_funcs import combine_nested"
   ]
  },
  {
   "cell_type": "code",
   "execution_count": null,
   "id": "2143ecb6-6edb-4948-8a30-698cfaceefa2",
   "metadata": {},
   "outputs": [],
   "source": [
    "nest = combine_nested(train)"
   ]
  },
  {
   "cell_type": "code",
   "execution_count": null,
   "id": "f8ce412b-cc9f-4273-b423-21cb53002258",
   "metadata": {},
   "outputs": [],
   "source": [
    "nest2 = combine_nested(train2)"
   ]
  },
  {
   "cell_type": "code",
   "execution_count": null,
   "id": "64ec6aa5-0d44-4e84-a5e7-89b2c4b4ec1a",
   "metadata": {},
   "outputs": [],
   "source": [
    "nest.keys()"
   ]
  },
  {
   "cell_type": "code",
   "execution_count": null,
   "id": "657e77d5-b0db-4a92-8171-0cc4e9796bb9",
   "metadata": {},
   "outputs": [],
   "source": [
    "nest2.keys()"
   ]
  },
  {
   "cell_type": "code",
   "execution_count": null,
   "id": "f4b2cd20-cac7-4870-8b51-2cf0726ff286",
   "metadata": {},
   "outputs": [],
   "source": []
  },
  {
   "cell_type": "code",
   "execution_count": null,
   "id": "04809b38-61af-47eb-bca5-aed80167e0ec",
   "metadata": {},
   "outputs": [],
   "source": []
  },
  {
   "cell_type": "code",
   "execution_count": null,
   "id": "8404317e-f13e-4758-82cf-07549ee9efc1",
   "metadata": {},
   "outputs": [],
   "source": []
  },
  {
   "cell_type": "code",
   "execution_count": null,
   "id": "e73de0d3-b57b-41e4-8ea1-fe7d4ac69c9b",
   "metadata": {},
   "outputs": [],
   "source": []
  },
  {
   "cell_type": "code",
   "execution_count": null,
   "id": "3582f92a-bf5b-45b7-b8ae-ea50f7ae46cd",
   "metadata": {},
   "outputs": [],
   "source": []
  },
  {
   "cell_type": "code",
   "execution_count": null,
   "id": "a54246b4-f093-4c4f-be6b-dbe9d7a8a3fd",
   "metadata": {},
   "outputs": [],
   "source": []
  },
  {
   "cell_type": "markdown",
   "id": "6322f0bc-107d-40a5-96dc-804495085a99",
   "metadata": {
    "jp-MarkdownHeadingCollapsed": true
   },
   "source": [
    "## Test Other ML"
   ]
  },
  {
   "cell_type": "code",
   "execution_count": null,
   "id": "12992b9a-407f-4131-ac61-e1dc338386bf",
   "metadata": {},
   "outputs": [],
   "source": [
    "params = read_yml(\"params.yaml\", subkey='xgb')\n",
    "params"
   ]
  },
  {
   "cell_type": "code",
   "execution_count": null,
   "id": "f214fdf8-bb76-4912-8f8c-5d0c8c1230c2",
   "metadata": {},
   "outputs": [],
   "source": [
    "dat = read_pkl(\"data/train.pkl\")"
   ]
  },
  {
   "cell_type": "code",
   "execution_count": null,
   "id": "888b7805-15f6-4c09-a05b-7aed7d253f6e",
   "metadata": {},
   "outputs": [],
   "source": [
    "cases = [*dat.keys()]"
   ]
  },
  {
   "cell_type": "code",
   "execution_count": null,
   "id": "375055d8-c070-4639-9561-e47d3f21f1f8",
   "metadata": {},
   "outputs": [],
   "source": [
    "rnn_dat = RNNData(dat[cases[10]], params['scaler'], params['features_list'])\n",
    "rnn_dat.train_test_split(\n",
    "    time_fracs = [.8, .1, .1]\n",
    ")\n",
    "rnn_dat.scale_data()"
   ]
  },
  {
   "cell_type": "code",
   "execution_count": null,
   "id": "e79f8dc8-5cf8-4190-b4ff-e640f61bd78b",
   "metadata": {},
   "outputs": [],
   "source": [
    "from moisture_models import XGB, RF, LM"
   ]
  },
  {
   "cell_type": "code",
   "execution_count": null,
   "id": "b3aeb47f-261e-4e29-9eeb-67215e5628f6",
   "metadata": {},
   "outputs": [],
   "source": [
    "mod = XGB(params)"
   ]
  },
  {
   "cell_type": "code",
   "execution_count": null,
   "id": "cae9a20d-1caf-45aa-a9c4-aef21b65d9c8",
   "metadata": {},
   "outputs": [],
   "source": [
    "mod.params"
   ]
  },
  {
   "cell_type": "code",
   "execution_count": null,
   "id": "68a07b25-c586-4fc4-a3d5-c857354e7a2c",
   "metadata": {},
   "outputs": [],
   "source": [
    "mod.fit(rnn_dat.X_train, rnn_dat.y_train)"
   ]
  },
  {
   "cell_type": "code",
   "execution_count": null,
   "id": "c8f88819-0a7a-4420-abb9-56a47015a4de",
   "metadata": {},
   "outputs": [],
   "source": [
    "preds = mod.predict(rnn_dat.X_test)"
   ]
  },
  {
   "cell_type": "code",
   "execution_count": null,
   "id": "cb7cdf14-74d6-45e4-bc1b-7d4d47dd41ac",
   "metadata": {},
   "outputs": [],
   "source": [
    "rmse(preds, rnn_dat.y_test)"
   ]
  },
  {
   "cell_type": "code",
   "execution_count": null,
   "id": "74d478c7-8c01-448e-9a00-dd0e1ee8e325",
   "metadata": {},
   "outputs": [],
   "source": [
    "plt.plot(rnn_dat.y_test)\n",
    "plt.plot(preds)"
   ]
  },
  {
   "cell_type": "code",
   "execution_count": null,
   "id": "c5441014-c39a-4414-a779-95b81e1ed6a8",
   "metadata": {},
   "outputs": [],
   "source": [
    "params = read_yml(\"params.yaml\", subkey='rf')\n",
    "rnn_dat = RNNData(dat[cases[10]], features_list = ['Ed', 'Ew', 'solar', 'wind', 'rain'])\n",
    "rnn_dat.train_test_split(\n",
    "    time_fracs = [.8, .1, .1]\n",
    ")"
   ]
  },
  {
   "cell_type": "code",
   "execution_count": null,
   "id": "cafe711a-20cb-4bd3-a4bc-4995a843a021",
   "metadata": {},
   "outputs": [],
   "source": [
    "import importlib\n",
    "import moisture_models\n",
    "importlib.reload(moisture_models)"
   ]
  },
  {
   "cell_type": "code",
   "execution_count": null,
   "id": "ee45f7d6-f57f-4ff6-995a-527565565f94",
   "metadata": {},
   "outputs": [],
   "source": [
    "params"
   ]
  },
  {
   "cell_type": "code",
   "execution_count": null,
   "id": "fafe76e5-0212-4bd1-a058-535935a08780",
   "metadata": {},
   "outputs": [],
   "source": [
    "mod2 = RF(params)\n",
    "mod2.fit(rnn_dat.X_train, rnn_dat.y_train.flatten())\n",
    "preds2 = mod2.predict(rnn_dat.X_test)\n",
    "print(rmse(preds2, rnn_dat.y_test.flatten()))\n",
    "plt.plot(rnn_dat.y_test)\n",
    "plt.plot(preds2)"
   ]
  },
  {
   "cell_type": "code",
   "execution_count": null,
   "id": "c0ab4244-996c-49af-bf4a-8b0c47b0b6db",
   "metadata": {},
   "outputs": [],
   "source": [
    "from moisture_models import RF\n",
    "mod2 = RF(params)"
   ]
  },
  {
   "cell_type": "code",
   "execution_count": null,
   "id": "aa6c33fd-db35-4c77-9eee-fdb39a934959",
   "metadata": {},
   "outputs": [],
   "source": []
  },
  {
   "cell_type": "code",
   "execution_count": null,
   "id": "c5598bfe-2d87-4d23-869e-aff127782462",
   "metadata": {},
   "outputs": [],
   "source": [
    "params = read_yml(\"params.yaml\", subkey='lm')\n",
    "rnn_dat = RNNData(dat[cases[10]], features_list = ['Ed', 'Ew', 'solar', 'wind', 'rain'])\n",
    "rnn_dat.train_test_split(\n",
    "    time_fracs = [.8, .1, .1]\n",
    ")\n",
    "mod = LM(params)"
   ]
  },
  {
   "cell_type": "code",
   "execution_count": null,
   "id": "d828c15c-4078-4967-abff-c1fd15d4696d",
   "metadata": {},
   "outputs": [],
   "source": [
    "mod.fit(rnn_dat.X_train, rnn_dat.y_train)\n",
    "preds = mod.predict(rnn_dat.X_test)\n",
    "print(rmse(preds2, rnn_dat.y_test.flatten()))"
   ]
  },
  {
   "cell_type": "code",
   "execution_count": null,
   "id": "8496a32a-8269-4d6b-953e-7f33fe626789",
   "metadata": {},
   "outputs": [],
   "source": []
  },
  {
   "cell_type": "code",
   "execution_count": null,
   "id": "75ce8bf3-6efb-4dc7-b895-def92f6ce6b4",
   "metadata": {},
   "outputs": [],
   "source": []
  },
  {
   "cell_type": "markdown",
   "id": "282cb651-b21f-401d-94c5-9e07530a9ba8",
   "metadata": {},
   "source": [
    "## RNN"
   ]
  },
  {
   "cell_type": "code",
   "execution_count": null,
   "id": "fa38f35a-d367-4df8-b2d3-7691ff4b0cf4",
   "metadata": {},
   "outputs": [],
   "source": []
  },
  {
   "cell_type": "markdown",
   "id": "5ef092ff-8af1-491a-b0bf-cc3e674330e0",
   "metadata": {},
   "source": [
    "## Phys Initialized"
   ]
  },
  {
   "cell_type": "code",
   "execution_count": null,
   "id": "5488628e-4552-4909-83e9-413fd6878bdd",
   "metadata": {},
   "outputs": [],
   "source": [
    "params.update({\n",
    "    'epochs':100,\n",
    "    'dense_layers': 0,\n",
    "    'activation': ['relu', 'relu'],\n",
    "    'phys_initialize': False,\n",
    "    'dropout': [0,0]\n",
    "})"
   ]
  },
  {
   "cell_type": "code",
   "execution_count": null,
   "id": "56bdf26c-07e7-4e4a-a567-af7dd0f564d9",
   "metadata": {},
   "outputs": [],
   "source": [
    "reproducibility.set_seed()\n",
    "rnn = RNN(params)\n",
    "m, errs = rnn.run_model(rnn_dat)"
   ]
  },
  {
   "cell_type": "code",
   "execution_count": null,
   "id": "01227b79-98f3-4931-bdfc-ff08afa8be5f",
   "metadata": {},
   "outputs": [],
   "source": [
    "rnn.model_train.summary()"
   ]
  },
  {
   "cell_type": "code",
   "execution_count": null,
   "id": "918a8bf0-638b-4b4b-82fe-c6a1965a72dd",
   "metadata": {},
   "outputs": [],
   "source": []
  },
  {
   "cell_type": "code",
   "execution_count": null,
   "id": "0aab34c7-8a09-480a-9d3e-619f7cf82b34",
   "metadata": {},
   "outputs": [],
   "source": [
    "params.update({\n",
    "    'phys_initialize': True,\n",
    "    'scaler': None, # TODO\n",
    "    'dense_layers': 0, # NOT including single Dense output layer which is hard-coded\n",
    "    'activation': ['linear', 'linear'], # TODO tanh, relu the same\n",
    "    'batch_schedule_type': None # Hopefully this isn't a necessity like before, but maybe it will help\n",
    "})"
   ]
  },
  {
   "cell_type": "code",
   "execution_count": null,
   "id": "ab549075-f71f-42ad-b36f-3d1e90247e33",
   "metadata": {},
   "outputs": [],
   "source": [
    "rnn_dat2 = RNNData(dat[cases[10]], params['scaler'], params['features_list'])\n",
    "rnn_dat2.train_test_split(\n",
    "    time_fracs = [.8, .1, .1]\n",
    ")\n",
    "rnn_dat2.batch_reshape(timesteps = params['timesteps'], batch_size = params['batch_size'])"
   ]
  },
  {
   "cell_type": "code",
   "execution_count": null,
   "id": "195f337a-ac8a-4471-8226-94863b9385e2",
   "metadata": {},
   "outputs": [],
   "source": [
    "import importlib\n",
    "import moisture_rnn\n",
    "importlib.reload(moisture_rnn)\n",
    "from moisture_rnn import RNN, RNNData"
   ]
  },
  {
   "cell_type": "code",
   "execution_count": null,
   "id": "9395d147-17a5-44ba-aaa2-a213ffde062b",
   "metadata": {
    "scrolled": true
   },
   "outputs": [],
   "source": [
    "reproducibility.set_seed()\n",
    "\n",
    "rnn = RNN(params)"
   ]
  },
  {
   "cell_type": "code",
   "execution_count": null,
   "id": "d3eebe8a-ff12-454b-81b6-6a138924f127",
   "metadata": {},
   "outputs": [],
   "source": [
    "m, errs = rnn.run_model(rnn_dat2)"
   ]
  },
  {
   "cell_type": "code",
   "execution_count": null,
   "id": "bcbb0159-74c5-4f56-9d69-d85a58ddbd1a",
   "metadata": {},
   "outputs": [],
   "source": [
    "rnn.model_predict.get_weights()"
   ]
  },
  {
   "cell_type": "code",
   "execution_count": null,
   "id": "c25f741a-6280-4cf2-8017-e56672236fdb",
   "metadata": {},
   "outputs": [],
   "source": []
  },
  {
   "cell_type": "code",
   "execution_count": null,
   "id": "e8ed2b03-6123-4bdf-9e26-ef2ce4951663",
   "metadata": {},
   "outputs": [],
   "source": [
    "params['rnn_units']"
   ]
  },
  {
   "cell_type": "code",
   "execution_count": null,
   "id": "e44302bf-af49-4140-ae31-54f7c88a6735",
   "metadata": {},
   "outputs": [],
   "source": [
    "params.update({\n",
    "    'phys_initialize': True,\n",
    "    'scaler': None, # TODO\n",
    "    'dense_layers': 0, # NOT including single Dense output layer which is hard-coded\n",
    "    'activation': ['relu', 'relu'], # TODO tanh, relu the same\n",
    "    'batch_schedule_type': None # Hopefully this isn't a necessity like before, but maybe it will help\n",
    "})"
   ]
  },
  {
   "cell_type": "code",
   "execution_count": null,
   "id": "9a8ac32d-551c-43e8-988e-a3b13e6d9cd9",
   "metadata": {},
   "outputs": [],
   "source": [
    "rnn_dat2 = RNNData(dat[cases[10]], params['scaler'], params['features_list'])\n",
    "rnn_dat2.train_test_split(\n",
    "    time_fracs = [.8, .1, .1]\n",
    ")\n",
    "rnn_dat2.batch_reshape(timesteps = params['timesteps'], batch_size = params['batch_size'])"
   ]
  },
  {
   "cell_type": "code",
   "execution_count": null,
   "id": "ff727da8-38fb-4fda-999b-f712b98de0df",
   "metadata": {
    "scrolled": true
   },
   "outputs": [],
   "source": [
    "reproducibility.set_seed()\n",
    "\n",
    "rnn = RNN(params)\n",
    "m, errs = rnn.run_model(rnn_dat2)"
   ]
  },
  {
   "cell_type": "code",
   "execution_count": null,
   "id": "b165074c-ea88-4b4d-8e41-6b6f22b4d221",
   "metadata": {},
   "outputs": [],
   "source": []
  },
  {
   "cell_type": "code",
   "execution_count": null,
   "id": "aa5cd4e6-4441-4c77-a086-e9edefbeb83b",
   "metadata": {},
   "outputs": [],
   "source": []
  },
  {
   "cell_type": "code",
   "execution_count": null,
   "id": "7bd1e05b-5cd8-48b4-8469-4842313d6097",
   "metadata": {},
   "outputs": [],
   "source": []
  },
  {
   "cell_type": "code",
   "execution_count": null,
   "id": "b399346d-20b8-4c97-898a-606a4be98065",
   "metadata": {},
   "outputs": [],
   "source": []
  },
  {
   "cell_type": "code",
   "execution_count": null,
   "id": "521285e6-6b6a-4d23-b688-9eb84b8eab68",
   "metadata": {},
   "outputs": [],
   "source": []
  },
  {
   "cell_type": "code",
   "execution_count": null,
   "id": "12c66af1-54fd-4398-8ee2-36eeb937c40d",
   "metadata": {},
   "outputs": [],
   "source": []
  },
  {
   "cell_type": "code",
   "execution_count": null,
   "id": "eb21fb8e-05c6-4a39-bdf1-4a57067c786d",
   "metadata": {},
   "outputs": [],
   "source": []
  },
  {
   "cell_type": "code",
   "execution_count": null,
   "id": "628a9105-ca06-44c4-ad00-13808e2f4773",
   "metadata": {},
   "outputs": [],
   "source": []
  },
  {
   "cell_type": "code",
   "execution_count": null,
   "id": "37fdbb3a-3e83-4541-93b2-982b6d4cbe93",
   "metadata": {},
   "outputs": [],
   "source": []
  },
  {
   "cell_type": "code",
   "execution_count": null,
   "id": "a592a4c9-cb3b-4174-8eaa-02afd00a1897",
   "metadata": {},
   "outputs": [],
   "source": []
  },
  {
   "cell_type": "code",
   "execution_count": null,
   "id": "3832fb05-417c-4648-8e2e-7748c06b3768",
   "metadata": {},
   "outputs": [],
   "source": []
  },
  {
   "cell_type": "markdown",
   "id": "d2360aef-e9c4-4a71-922d-336e53b82537",
   "metadata": {},
   "source": [
    "## LSTM\n",
    "\n",
    "TODO: FIX BELOW"
   ]
  },
  {
   "cell_type": "code",
   "execution_count": null,
   "id": "71d4e441-9bf1-4d57-bb37-091553e23212",
   "metadata": {},
   "outputs": [],
   "source": [
    "import importlib \n",
    "import moisture_rnn\n",
    "importlib.reload(moisture_rnn)\n",
    "from moisture_rnn import RNN_LSTM"
   ]
  },
  {
   "cell_type": "code",
   "execution_count": null,
   "id": "0f6ba896-e3be-4a9f-8a42-3df64aff7d63",
   "metadata": {},
   "outputs": [],
   "source": [
    "params = read_yml(\"params.yaml\", subkey=\"lstm\")\n",
    "params = RNNParams(params)"
   ]
  },
  {
   "cell_type": "code",
   "execution_count": null,
   "id": "a4cf567e-d623-4e14-b578-eed88b80d04e",
   "metadata": {},
   "outputs": [],
   "source": [
    "rnn_dat = RNNData(dat[cases[10]], params['scaler'], params['features_list'])\n",
    "rnn_dat.train_test_split(\n",
    "    time_fracs = [.8, .1, .1]\n",
    ")\n",
    "rnn_dat.scale_data()\n",
    "rnn_dat.batch_reshape(timesteps = params['timesteps'], batch_size = params['batch_size'])"
   ]
  },
  {
   "cell_type": "code",
   "execution_count": null,
   "id": "0157a6bc-3a99-4b87-a42c-ab770d19ae37",
   "metadata": {},
   "outputs": [],
   "source": [
    "from moisture_rnn import ResetStatesCallback, EarlyStoppingCallback\n",
    "params.update({'epochs': 50, 'learning_rate': 0.001, 'verbose_fit': True, 'rnn_layers': 2, 'rnn_units': 20, 'dense_layers': 1, 'dense_units': 10,\n",
    "              'activation': ['tanh', 'tanh'], 'features_list': rnn_dat.features_list,\n",
    "              'batch_schedule_type':'exp', 'bmin': 10, 'bmax':rnn_dat.hours})\n",
    "reproducibility.set_seed(123)\n",
    "lstm = RNN_LSTM(params)\n",
    "\n",
    "history = lstm.model_train.fit(rnn_dat.X_train, rnn_dat.y_train, \n",
    "                    batch_size = params['batch_size'], epochs=params['epochs'], \n",
    "                    callbacks = [ResetStatesCallback(params),\n",
    "                                EarlyStoppingCallback(patience = 15)],\n",
    "                   validation_data = (rnn_dat.X_val, rnn_dat.y_val))\n",
    "              "
   ]
  },
  {
   "cell_type": "code",
   "execution_count": null,
   "id": "ec95e7d4-6d57-441b-b673-f10625ee5dec",
   "metadata": {},
   "outputs": [],
   "source": []
  },
  {
   "cell_type": "code",
   "execution_count": null,
   "id": "9b3c8d8d-ea50-44ea-8c0c-414e07cd01ac",
   "metadata": {},
   "outputs": [],
   "source": []
  },
  {
   "cell_type": "code",
   "execution_count": null,
   "id": "03063e3c-e8f4-451d-b0cf-25bd965cd9d6",
   "metadata": {},
   "outputs": [],
   "source": [
    "params.update({'epochs': 50, 'learning_rate': 0.001, 'verbose_fit': True, 'rnn_layers': 2, 'rnn_units': 20, 'dense_layers': 1, 'dense_units': 10,\n",
    "              'activation': ['tanh', 'tanh'], 'features_list': rnn_dat.features_list,\n",
    "              'batch_schedule_type':'exp', 'bmin': 10, 'bmax':rnn_dat.hours,\n",
    "              'early_stopping_patience': 25})\n",
    "reproducibility.set_seed(123)\n",
    "lstm = RNN_LSTM(params)\n",
    "m, errs = lstm.run_model(rnn_dat)"
   ]
  },
  {
   "cell_type": "code",
   "execution_count": null,
   "id": "f60a24c6-9a67-45aa-bc5c-8818aa0ca049",
   "metadata": {},
   "outputs": [],
   "source": []
  },
  {
   "cell_type": "code",
   "execution_count": null,
   "id": "00910bd2-f050-438c-ab3b-c793b83cb5f5",
   "metadata": {},
   "outputs": [],
   "source": [
    "rnn_dat.spatial"
   ]
  },
  {
   "cell_type": "code",
   "execution_count": null,
   "id": "236b33e3-e864-4453-be16-cf07338c4105",
   "metadata": {},
   "outputs": [],
   "source": [
    "params = RNNParams(read_yml(\"params.yaml\", subkey='lstm'))\n",
    "params"
   ]
  },
  {
   "cell_type": "code",
   "execution_count": null,
   "id": "fe2a484c-dc99-45a9-89fc-2f451bd719b5",
   "metadata": {},
   "outputs": [],
   "source": [
    "train = read_pkl(\"data/train.pkl\")"
   ]
  },
  {
   "cell_type": "code",
   "execution_count": null,
   "id": "07bfac87-a6d4-4dcc-8d11-adf83eafab76",
   "metadata": {},
   "outputs": [],
   "source": [
    "from itertools import islice\n",
    "train = {k: train[k] for k in islice(train, 100)}"
   ]
  },
  {
   "cell_type": "code",
   "execution_count": null,
   "id": "4e26099b-f760-4047-afec-9e751d24b7a6",
   "metadata": {},
   "outputs": [],
   "source": [
    "from data_funcs import combine_nested\n",
    "rnn_dat_sp = RNNData(\n",
    "    combine_nested(train), # input dictionary\n",
    "    scaler=\"standard\",  # data scaling type\n",
    "    features_list = params['features_list'] # features for predicting outcome\n",
    ")\n",
    "\n",
    "\n",
    "rnn_dat_sp.train_test_split(   \n",
    "    time_fracs = [.8, .1, .1], # Percent of total time steps used for train/val/test\n",
    "    space_fracs = [.8, .1, .1] # Percent of total timeseries used for train/val/test\n",
    ")\n",
    "rnn_dat_sp.scale_data()\n",
    "\n",
    "rnn_dat_sp.batch_reshape(\n",
    "    timesteps = params['timesteps'], # Timesteps aka sequence length for RNN input data. \n",
    "    batch_size = params['batch_size'] # Number of samples of length timesteps for a single round of grad. descent\n",
    ")"
   ]
  },
  {
   "cell_type": "code",
   "execution_count": null,
   "id": "10738795-c83b-4da3-88ba-09278caa35f8",
   "metadata": {},
   "outputs": [],
   "source": [
    "params.update({\n",
    "    'loc_batch_reset': rnn_dat_sp.n_seqs # Used to reset hidden state when location changes for a given batch\n",
    "})"
   ]
  },
  {
   "cell_type": "code",
   "execution_count": null,
   "id": "9c5d45cc-bcf0-4b6c-9c51-c4c790a2d9a5",
   "metadata": {},
   "outputs": [],
   "source": [
    "rnn_sp = RNN_LSTM(params)\n",
    "m_sp, errs = rnn_sp.run_model(rnn_dat_sp)"
   ]
  },
  {
   "cell_type": "code",
   "execution_count": null,
   "id": "ee332ccf-4e4a-4f66-b4d6-c079dbdb1411",
   "metadata": {},
   "outputs": [],
   "source": [
    "errs.mean()"
   ]
  },
  {
   "cell_type": "code",
   "execution_count": null,
   "id": "739d4b26-641e-47b2-a90a-67cd32215d05",
   "metadata": {},
   "outputs": [],
   "source": []
  }
 ],
 "metadata": {
  "kernelspec": {
   "display_name": "Python 3 (ipykernel)",
   "language": "python",
   "name": "python3"
  },
  "language_info": {
   "codemirror_mode": {
    "name": "ipython",
    "version": 3
   },
   "file_extension": ".py",
   "mimetype": "text/x-python",
   "name": "python",
   "nbconvert_exporter": "python",
   "pygments_lexer": "ipython3",
   "version": "3.12.5"
  }
 },
 "nbformat": 4,
 "nbformat_minor": 5
}
