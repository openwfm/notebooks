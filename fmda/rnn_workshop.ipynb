{
 "cells": [
  {
   "cell_type": "markdown",
   "id": "244c2fb0-4339-476c-a2db-a641e124e25a",
   "metadata": {},
   "source": [
    "# v2.1 exploration trying to make it work better"
   ]
  },
  {
   "cell_type": "code",
   "execution_count": null,
   "id": "e6cc7920-e380-4b81-bac0-cd6840450e9a",
   "metadata": {},
   "outputs": [],
   "source": [
    "# Environment\n",
    "import os\n",
    "import os.path as osp\n",
    "import numpy as np\n",
    "import pandas as pd\n",
    "import tensorflow as tf\n",
    "import matplotlib.pyplot as plt\n",
    "import sys\n",
    "# Local modules\n",
    "sys.path.append('..')\n",
    "import reproducibility\n",
    "import pandas as pd\n",
    "from utils import print_dict_summary\n",
    "from data_funcs import rmse\n",
    "from moisture_rnn import RNNParams, RNNData, RNN, RNN_LSTM, create_rnn_data2\n",
    "from moisture_rnn_pkl import pkl2train\n",
    "from tensorflow.keras.callbacks import Callback\n",
    "from utils import hash2\n",
    "import copy\n",
    "import logging\n",
    "import pickle\n",
    "from utils import logging_setup, read_yml, read_pkl, hash_ndarray, hash_weights\n",
    "import yaml\n",
    "import copy"
   ]
  },
  {
   "cell_type": "code",
   "execution_count": null,
   "id": "f58e8839-bf0e-4995-b966-c09e4df001ce",
   "metadata": {},
   "outputs": [],
   "source": [
    "logging_setup()"
   ]
  },
  {
   "cell_type": "markdown",
   "id": "b8fe1011-a0cc-46a4-98b7-d82c2b22f5b0",
   "metadata": {},
   "source": [
    "## Test Batch Reset"
   ]
  },
  {
   "cell_type": "code",
   "execution_count": null,
   "id": "0df1c817-d422-4cfa-a4c5-b02549cdaffa",
   "metadata": {
    "scrolled": true
   },
   "outputs": [],
   "source": [
    "train = read_pkl('train.pkl')\n",
    "train.keys()"
   ]
  },
  {
   "cell_type": "code",
   "execution_count": null,
   "id": "4f2623ea-3504-446e-8243-f93ccce6b62e",
   "metadata": {},
   "outputs": [],
   "source": [
    "import importlib\n",
    "import moisture_rnn\n",
    "importlib.reload(moisture_rnn)\n",
    "from moisture_rnn import RNN, RNNData"
   ]
  },
  {
   "cell_type": "code",
   "execution_count": null,
   "id": "948138a6-1854-428c-b5ec-75e87c9c50e7",
   "metadata": {},
   "outputs": [],
   "source": [
    "params = read_yml(\"params.yaml\", subkey=\"rnn\")\n",
    "params = RNNParams(params)\n",
    "rnn_dat = RNNData(train['PLFI1_202401'], scaler=params['scaler'], features_list = params['features_list'])\n",
    "rnn_dat.train_test_split(\n",
    "    train_frac = .9,\n",
    "    val_frac = .05\n",
    ")\n",
    "rnn_dat.scale_data()\n",
    "rnn_dat.batch_reshape(timesteps = params['timesteps'], batch_size = params['batch_size'])"
   ]
  },
  {
   "cell_type": "code",
   "execution_count": null,
   "id": "78255617-5511-4e54-a022-8dba9946bbe2",
   "metadata": {},
   "outputs": [],
   "source": [
    "reproducibility.set_seed()\n",
    "params.update({'batch_schedule_type': 'exp', 'bmin': 20, 'bmax': rnn_dat.hours})\n",
    "rnn = RNN(params)\n",
    "m, errs = rnn.run_model(rnn_dat, plot_period=\"predict\")"
   ]
  },
  {
   "cell_type": "code",
   "execution_count": null,
   "id": "d3a32de3-9556-491a-9bf1-3d252762f2b7",
   "metadata": {},
   "outputs": [],
   "source": []
  },
  {
   "cell_type": "code",
   "execution_count": null,
   "id": "2a7d607c-8f29-4a18-948b-4d939ebd5a34",
   "metadata": {},
   "outputs": [],
   "source": []
  },
  {
   "cell_type": "code",
   "execution_count": null,
   "id": "552c6e02-4a2d-4f50-9d6a-7e11bdbcfffc",
   "metadata": {},
   "outputs": [],
   "source": []
  },
  {
   "cell_type": "code",
   "execution_count": null,
   "id": "5cfd0dbe-8e7d-4d9e-a21c-9001a498084c",
   "metadata": {},
   "outputs": [],
   "source": [
    "params.update({'epochs': 2, 'verbose_fit': True, 'batch_size': 32, \n",
    "        'rnn_layers': 2, 'activation':['relu', 'relu']})\n",
    "rnn_dat = RNNData(train['PLFI1_202401'], scaler=params['scaler'], features_list = params['features_list'])\n",
    "rnn_dat.train_test_split(\n",
    "    train_frac = .9,\n",
    "    val_frac = .05\n",
    ")\n",
    "rnn_dat.scale_data()\n",
    "rnn_dat.batch_reshape(timesteps = params['timesteps'], batch_size = params['batch_size'])\n",
    "reproducibility.set_seed()\n",
    "rnn = RNN(params)\n",
    "m, errs = rnn.run_model(rnn_dat, plot_period=\"predict\")"
   ]
  },
  {
   "cell_type": "code",
   "execution_count": null,
   "id": "db2abad4-16d4-4afc-a0d8-b2dec6b872c2",
   "metadata": {},
   "outputs": [],
   "source": []
  },
  {
   "cell_type": "code",
   "execution_count": null,
   "id": "74158e6e-c84f-4a90-9f0a-c35cb711d9ed",
   "metadata": {},
   "outputs": [],
   "source": []
  },
  {
   "cell_type": "code",
   "execution_count": null,
   "id": "c022cce2-8863-43f4-96e8-c604ba2fe8bc",
   "metadata": {},
   "outputs": [],
   "source": []
  },
  {
   "cell_type": "code",
   "execution_count": null,
   "id": "81037c9e-088f-4dd2-bbfa-5b9b2d044d80",
   "metadata": {},
   "outputs": [],
   "source": []
  },
  {
   "cell_type": "code",
   "execution_count": null,
   "id": "9aaaa2ff-6757-48a6-b03b-568d2b0d01b0",
   "metadata": {},
   "outputs": [],
   "source": []
  },
  {
   "cell_type": "code",
   "execution_count": null,
   "id": "ca8637d2-d111-4054-b174-ef913f0d9206",
   "metadata": {},
   "outputs": [],
   "source": []
  },
  {
   "cell_type": "code",
   "execution_count": null,
   "id": "12217194-a9be-49bc-99ef-6b2a107ab4f3",
   "metadata": {},
   "outputs": [],
   "source": []
  },
  {
   "cell_type": "code",
   "execution_count": null,
   "id": "7c3c428e-c628-4712-bdc7-15dce26837dd",
   "metadata": {},
   "outputs": [],
   "source": []
  },
  {
   "cell_type": "code",
   "execution_count": null,
   "id": "84fe9438-2f2e-483c-a5a4-9dd3a61f50aa",
   "metadata": {},
   "outputs": [],
   "source": []
  },
  {
   "cell_type": "code",
   "execution_count": null,
   "id": "77d90197-2b50-4621-9eee-def323ed836e",
   "metadata": {},
   "outputs": [],
   "source": []
  },
  {
   "cell_type": "code",
   "execution_count": null,
   "id": "e492ae99-ea1f-4185-9a33-41573263f2f1",
   "metadata": {},
   "outputs": [],
   "source": []
  },
  {
   "cell_type": "code",
   "execution_count": null,
   "id": "56b18e34-b50b-48a6-947a-5714b65e85cf",
   "metadata": {},
   "outputs": [],
   "source": [
    "ep = 15\n",
    "bmin = 10\n",
    "bmax = 500\n",
    "xgrid = np.arange(0, ep)\n",
    "plt.plot(xgrid, calc_exp_intervals(bmin, bmax, ep))\n",
    "plt.plot(xgrid, calc_log_intervals(bmin, bmax, ep))"
   ]
  },
  {
   "cell_type": "code",
   "execution_count": null,
   "id": "8ae6b9d7-f108-4071-a9fc-1b7a32b26d75",
   "metadata": {},
   "outputs": [],
   "source": []
  },
  {
   "cell_type": "code",
   "execution_count": null,
   "id": "7be5f53c-6130-4d94-986b-e9b5dce7fdae",
   "metadata": {},
   "outputs": [],
   "source": []
  },
  {
   "cell_type": "code",
   "execution_count": null,
   "id": "b0b0a959-f07c-4b62-bee2-faa993320dda",
   "metadata": {},
   "outputs": [],
   "source": []
  },
  {
   "cell_type": "code",
   "execution_count": null,
   "id": "23d94e44-cff1-4a2a-9a0e-039bf401d4e3",
   "metadata": {},
   "outputs": [],
   "source": []
  },
  {
   "cell_type": "code",
   "execution_count": null,
   "id": "98382367-820a-4aad-97da-3ea2bc895b0f",
   "metadata": {},
   "outputs": [],
   "source": []
  },
  {
   "cell_type": "code",
   "execution_count": null,
   "id": "185c6f90-fe7f-4b05-b5ef-20635051f18b",
   "metadata": {},
   "outputs": [],
   "source": []
  },
  {
   "cell_type": "code",
   "execution_count": null,
   "id": "5520cd04-72b3-4550-bc54-ad78cbf77ec0",
   "metadata": {},
   "outputs": [],
   "source": []
  },
  {
   "cell_type": "code",
   "execution_count": null,
   "id": "fd0a4fa9-603f-4662-ad4e-14df33337441",
   "metadata": {},
   "outputs": [],
   "source": []
  },
  {
   "cell_type": "code",
   "execution_count": null,
   "id": "253c667a-748d-48cc-8479-50616e043609",
   "metadata": {},
   "outputs": [],
   "source": []
  },
  {
   "cell_type": "code",
   "execution_count": null,
   "id": "90cafb80-72e9-4610-8413-ca407f03dbd0",
   "metadata": {},
   "outputs": [],
   "source": []
  },
  {
   "cell_type": "code",
   "execution_count": null,
   "id": "9ebf0ccd-554f-4a0a-87e9-36de0a62a34c",
   "metadata": {},
   "outputs": [],
   "source": []
  },
  {
   "cell_type": "code",
   "execution_count": null,
   "id": "23d8d51b-6206-471a-a792-a85f4ad89637",
   "metadata": {},
   "outputs": [],
   "source": []
  },
  {
   "cell_type": "code",
   "execution_count": null,
   "id": "d25faf9f-d00f-44a6-a43f-e4a3277aad78",
   "metadata": {},
   "outputs": [],
   "source": []
  },
  {
   "cell_type": "code",
   "execution_count": null,
   "id": "e8c47be0-92f6-454f-9e04-385c3cb41831",
   "metadata": {},
   "outputs": [],
   "source": []
  },
  {
   "cell_type": "code",
   "execution_count": null,
   "id": "c8d197e6-1959-4a6f-8d2d-c67a97a123f9",
   "metadata": {},
   "outputs": [],
   "source": []
  },
  {
   "cell_type": "code",
   "execution_count": null,
   "id": "3aa5aece-79c5-42b7-98a2-3f8a3cfb8e29",
   "metadata": {},
   "outputs": [],
   "source": []
  },
  {
   "cell_type": "code",
   "execution_count": null,
   "id": "a9f8a650-330f-493e-a158-a683e2fd872d",
   "metadata": {},
   "outputs": [],
   "source": []
  },
  {
   "cell_type": "markdown",
   "id": "b62f4360-e9d1-4510-bb5d-1d79a3a5ac75",
   "metadata": {},
   "source": [
    "## Test Spatial Data"
   ]
  },
  {
   "cell_type": "code",
   "execution_count": null,
   "id": "3a04c2d3-3bf1-451d-88bc-7b1e8701cb52",
   "metadata": {},
   "outputs": [],
   "source": [
    "train = read_pkl('train.pkl')"
   ]
  },
  {
   "cell_type": "code",
   "execution_count": null,
   "id": "3d416f92-995a-427f-b76d-a6125061ee98",
   "metadata": {},
   "outputs": [],
   "source": [
    "params = read_yml(\"params.yaml\", subkey=\"rnn\")\n",
    "params = RNNParams(params)"
   ]
  },
  {
   "cell_type": "code",
   "execution_count": null,
   "id": "1d76cd6e-2e0e-40ae-9a58-3ed62217a33d",
   "metadata": {},
   "outputs": [],
   "source": [
    "len(train.keys())"
   ]
  },
  {
   "cell_type": "code",
   "execution_count": null,
   "id": "4735052a-f046-4d52-8666-ce14e4a0e276",
   "metadata": {},
   "outputs": [],
   "source": [
    "from itertools import islice\n",
    "dat = {k: train[k] for k in islice(train, 100)}"
   ]
  },
  {
   "cell_type": "code",
   "execution_count": null,
   "id": "194f815f-c889-43ed-b0e8-853b1c4a8a81",
   "metadata": {},
   "outputs": [],
   "source": [
    "dat.keys()"
   ]
  },
  {
   "cell_type": "code",
   "execution_count": null,
   "id": "99819622-555b-4027-a644-5f75c76f7fbc",
   "metadata": {},
   "outputs": [],
   "source": [
    "from data_funcs import combine_nested\n",
    "dd = combine_nested(dat)"
   ]
  },
  {
   "cell_type": "code",
   "execution_count": null,
   "id": "4a647e8a-61f3-4e5b-abb3-44d43d7e0844",
   "metadata": {},
   "outputs": [],
   "source": [
    "import importlib\n",
    "import utils\n",
    "importlib.reload(utils)\n",
    "from utils import Dict"
   ]
  },
  {
   "cell_type": "code",
   "execution_count": null,
   "id": "6335deef-ea25-40bd-8a68-842af80cebe8",
   "metadata": {},
   "outputs": [],
   "source": [
    "dd = Dict(dd)"
   ]
  },
  {
   "cell_type": "code",
   "execution_count": null,
   "id": "e86c9e4d-4ccd-4d9d-92e1-2e4299549fa4",
   "metadata": {},
   "outputs": [],
   "source": [
    "import importlib\n",
    "import moisture_rnn\n",
    "importlib.reload(moisture_rnn)\n",
    "from moisture_rnn import RNNData"
   ]
  },
  {
   "cell_type": "code",
   "execution_count": null,
   "id": "966c3559-740d-44d3-b98d-cc2efe63afcd",
   "metadata": {},
   "outputs": [],
   "source": [
    "rnn_dat = RNNData(dd, scaler=\"standard\", features_list = ['Ed', 'Ew', 'rain'])\n",
    "rnn_dat.train_test_split(   \n",
    "    train_frac = .9,\n",
    "    val_frac = .05\n",
    ")"
   ]
  },
  {
   "cell_type": "code",
   "execution_count": null,
   "id": "72289573-56a1-45ca-8551-b24c4c073bfd",
   "metadata": {},
   "outputs": [],
   "source": [
    "rnn_dat.scale_data()"
   ]
  },
  {
   "cell_type": "code",
   "execution_count": null,
   "id": "b35a8e1a-a161-42af-a595-2e1bae0fd0ba",
   "metadata": {},
   "outputs": [],
   "source": [
    "rnn_dat.batch_reshape(timesteps = params['timesteps'], batch_size = params['batch_size'])"
   ]
  },
  {
   "cell_type": "code",
   "execution_count": null,
   "id": "c1520e93-0df1-41d1-98b3-f50edbe13b66",
   "metadata": {},
   "outputs": [],
   "source": []
  },
  {
   "cell_type": "code",
   "execution_count": null,
   "id": "fa14f0ab-07ff-4c67-bdcb-ff225610ffa2",
   "metadata": {},
   "outputs": [],
   "source": [
    "import importlib\n",
    "import moisture_rnn\n",
    "importlib.reload(moisture_rnn)\n",
    "from moisture_rnn import RNN"
   ]
  },
  {
   "cell_type": "code",
   "execution_count": null,
   "id": "94f2030f-dbc9-4a6c-8e98-b932fe7691c7",
   "metadata": {},
   "outputs": [],
   "source": [
    "from moisture_rnn import ResetStatesCallback, EarlyStoppingCallback\n",
    "params.update({'epochs': 20, 'learning_rate': 0.0001, 'verbose_fit': True, 'rnn_layers': 2, 'rnn_units': 20, 'dense_layers': 1, 'dense_units': 10,\n",
    "              'activation': ['relu', 'relu'], 'features_list': ['Ed', 'Ew', 'rain']})\n",
    "reproducibility.set_seed(123)\n",
    "rnn = RNN(params)\n",
    "\n",
    "history = rnn.model_train.fit(rnn_dat.X_train, rnn_dat.y_train, \n",
    "                    batch_size = params['batch_size'], epochs=params['epochs'], \n",
    "                    callbacks = [ResetStatesCallback(batch_reset = params['batch_reset'],\n",
    "                                                     loc_batch_reset = rnn_dat.n_seqs),\n",
    "                                EarlyStoppingCallback(patience = params['early_stopping_patience'])],\n",
    "                   validation_data = (rnn_dat.X_val, rnn_dat.y_val))\n",
    "              "
   ]
  },
  {
   "cell_type": "code",
   "execution_count": null,
   "id": "32c39f16-6d80-44ef-b58a-be12869cd638",
   "metadata": {},
   "outputs": [],
   "source": [
    "plt.figure()\n",
    "plt.semilogy(history.history['loss'], label='Training loss')\n",
    "if 'val_loss' in history.history:\n",
    "    plt.semilogy(history.history['val_loss'], label='Validation loss')\n",
    "plt.ylabel('Loss')\n",
    "plt.xlabel('Epoch')\n",
    "plt.legend(loc='upper left')\n",
    "plt.show()"
   ]
  },
  {
   "cell_type": "code",
   "execution_count": null,
   "id": "0166e780-3379-414b-b403-86bca3c36661",
   "metadata": {},
   "outputs": [],
   "source": [
    "preds = rnn.predict(rnn_dat.X_test[0])"
   ]
  },
  {
   "cell_type": "code",
   "execution_count": null,
   "id": "f878b950-b750-43db-b5e5-32723f9d0f07",
   "metadata": {},
   "outputs": [],
   "source": [
    "plt.plot(rnn_dat.y_test[2])\n",
    "plt.plot(preds)"
   ]
  },
  {
   "cell_type": "code",
   "execution_count": null,
   "id": "3aa8dd59-12f0-46ec-b422-dcd23d8076bf",
   "metadata": {},
   "outputs": [],
   "source": []
  },
  {
   "cell_type": "code",
   "execution_count": null,
   "id": "17e09a7a-19ac-4e82-af54-dcced5791669",
   "metadata": {},
   "outputs": [],
   "source": []
  },
  {
   "cell_type": "code",
   "execution_count": null,
   "id": "33072593-30a4-49a0-8372-67012e1213eb",
   "metadata": {},
   "outputs": [],
   "source": []
  },
  {
   "cell_type": "code",
   "execution_count": null,
   "id": "090b36f5-fd34-4cc7-a84d-f8dd0d582000",
   "metadata": {},
   "outputs": [],
   "source": []
  },
  {
   "cell_type": "code",
   "execution_count": null,
   "id": "7deda359-1e7f-447a-97b7-576b98712a74",
   "metadata": {},
   "outputs": [],
   "source": [
    "params.update({'epochs': 10, 'verbose_fit': True, 'rnn_layers': 1, 'rnn_units': 20, 'dense_layers': 1, 'dense_units': 20,\n",
    "              'activation': ['relu', 'relu'], 'stateful': False})\n",
    "reproducibility.set_seed(123)\n",
    "rnn = RNN(params)\n",
    "\n",
    "rnn.model_train.fit(rnn_dat.X_train, rnn_dat.y_train, \n",
    "                    batch_size = params['batch_size'], epochs=params['epochs'], \n",
    "                    callbacks = [ResetStatesCallback(batch_reset = params['batch_reset'],\n",
    "                                                     loc_batch_reset = rnn_dat.n_seqs),\n",
    "                                EarlyStoppingCallback(patience = params['early_stopping_patience'])],\n",
    "                   validation_data = (rnn_dat.X_val, rnn_dat.y_val))"
   ]
  },
  {
   "cell_type": "code",
   "execution_count": null,
   "id": "7fc05c26-9a54-4863-8956-d76913128701",
   "metadata": {},
   "outputs": [],
   "source": [
    "preds = rnn.predict(rnn_dat.X_test[0])\n",
    "\n",
    "plt.plot(rnn_dat.y_test[2])\n",
    "plt.plot(preds)"
   ]
  },
  {
   "cell_type": "code",
   "execution_count": null,
   "id": "c6d7d34c-dfae-4370-a398-a287790eff53",
   "metadata": {},
   "outputs": [],
   "source": [
    "rmse(rnn_dat.y_test[2], preds)"
   ]
  },
  {
   "cell_type": "code",
   "execution_count": null,
   "id": "150754f6-9927-4188-969a-d253bb0a5b22",
   "metadata": {},
   "outputs": [],
   "source": []
  },
  {
   "cell_type": "code",
   "execution_count": null,
   "id": "8592cce5-77fe-4804-8df2-de92f058d11f",
   "metadata": {},
   "outputs": [],
   "source": []
  },
  {
   "cell_type": "code",
   "execution_count": null,
   "id": "3047a7a3-32c2-4af0-aff9-bebdb1a877c1",
   "metadata": {},
   "outputs": [],
   "source": []
  },
  {
   "cell_type": "code",
   "execution_count": null,
   "id": "2880b410-35a2-4d6c-ac28-2e2f366ec3a2",
   "metadata": {},
   "outputs": [],
   "source": []
  },
  {
   "cell_type": "code",
   "execution_count": null,
   "id": "87623222-5fba-4833-8873-01933e9aba88",
   "metadata": {},
   "outputs": [],
   "source": []
  },
  {
   "cell_type": "code",
   "execution_count": null,
   "id": "7f922046-e74f-424e-aa1c-d6d4b2eb3a46",
   "metadata": {},
   "outputs": [],
   "source": []
  },
  {
   "cell_type": "code",
   "execution_count": null,
   "id": "47a098c2-28c3-483d-b062-da1d534f7766",
   "metadata": {},
   "outputs": [],
   "source": []
  },
  {
   "cell_type": "code",
   "execution_count": null,
   "id": "4a581630-2dc0-4cdb-8647-c81d41e149bc",
   "metadata": {},
   "outputs": [],
   "source": []
  },
  {
   "cell_type": "code",
   "execution_count": null,
   "id": "36b931d4-15dc-41a8-8748-610a2406ccad",
   "metadata": {},
   "outputs": [],
   "source": []
  },
  {
   "cell_type": "code",
   "execution_count": null,
   "id": "055d98f5-4028-4822-b409-b03d437490da",
   "metadata": {},
   "outputs": [],
   "source": []
  },
  {
   "cell_type": "code",
   "execution_count": null,
   "id": "beb357ab-16dc-4c91-a121-6dfc509f4ff6",
   "metadata": {},
   "outputs": [],
   "source": []
  },
  {
   "cell_type": "code",
   "execution_count": null,
   "id": "a319b314-b156-47af-8541-f97145352e5c",
   "metadata": {},
   "outputs": [],
   "source": []
  },
  {
   "cell_type": "code",
   "execution_count": null,
   "id": "b6922358-b824-4c77-abe4-c9b605a78738",
   "metadata": {},
   "outputs": [],
   "source": []
  },
  {
   "cell_type": "markdown",
   "id": "d2360aef-e9c4-4a71-922d-336e53b82537",
   "metadata": {
    "jp-MarkdownHeadingCollapsed": true
   },
   "source": [
    "## LSTM\n",
    "\n",
    "TODO: FIX BELOW"
   ]
  },
  {
   "cell_type": "code",
   "execution_count": null,
   "id": "71d4e441-9bf1-4d57-bb37-091553e23212",
   "metadata": {},
   "outputs": [],
   "source": [
    "import importlib \n",
    "import moisture_rnn\n",
    "importlib.reload(moisture_rnn)\n",
    "from moisture_rnn import RNN_LSTM"
   ]
  },
  {
   "cell_type": "code",
   "execution_count": null,
   "id": "59480f19-3567-4b24-b6ff-d9292dc8c2ec",
   "metadata": {},
   "outputs": [],
   "source": [
    "with open(\"params.yaml\") as file:\n",
    "    params = yaml.safe_load(file)[\"lstm\"]\n",
    "    \n",
    "rnn_dat2 = create_rnn_data2(train[case],params)"
   ]
  },
  {
   "cell_type": "code",
   "execution_count": null,
   "id": "2adff592-7aa4-4e59-a229-cad4a133297e",
   "metadata": {},
   "outputs": [],
   "source": [
    "params.update({'epochs': 10})"
   ]
  },
  {
   "cell_type": "code",
   "execution_count": null,
   "id": "b20539f0-eed2-44de-9269-ae8696c8e7c8",
   "metadata": {},
   "outputs": [],
   "source": []
  },
  {
   "cell_type": "code",
   "execution_count": null,
   "id": "6bfbcbb5-b631-4594-9ae5-618c4fe68e7b",
   "metadata": {},
   "outputs": [],
   "source": [
    "reproducibility.set_seed()\n",
    "rnn = RNN(params)\n",
    "m, errs = rnn.run_model(rnn_dat2)"
   ]
  },
  {
   "cell_type": "code",
   "execution_count": null,
   "id": "dd8a9700-f479-4c11-8655-ca7b45222402",
   "metadata": {},
   "outputs": [],
   "source": []
  },
  {
   "cell_type": "code",
   "execution_count": null,
   "id": "de46c481-74a7-46cc-8334-678ad8230cce",
   "metadata": {},
   "outputs": [],
   "source": [
    "import importlib\n",
    "importlib.reload(moisture_rnn)\n",
    "from moisture_rnn import RNN_LSTM"
   ]
  },
  {
   "cell_type": "code",
   "execution_count": null,
   "id": "2b6a699a-68e8-49ef-95f2-409137502fb6",
   "metadata": {},
   "outputs": [],
   "source": [
    "with open(\"params.yaml\") as file:\n",
    "    params = yaml.safe_load(file)[\"lstm\"]\n",
    "\n",
    "rnn_dat2 = create_rnn_data2(train[case],params)\n",
    "params"
   ]
  },
  {
   "cell_type": "code",
   "execution_count": null,
   "id": "188c0d5d-f3f6-4a61-83b0-b21dfc5d01b7",
   "metadata": {},
   "outputs": [],
   "source": [
    "params.update({\n",
    "    'learning_rate': 0.000001,\n",
    "    'epochs': 10,\n",
    "    'clipvalue':1.0\n",
    "})"
   ]
  },
  {
   "cell_type": "code",
   "execution_count": null,
   "id": "6a9d612e-8cd2-40ca-a789-91c99c3d6ccd",
   "metadata": {},
   "outputs": [],
   "source": [
    "reproducibility.set_seed()\n",
    "lstm = RNN_LSTM(params)\n",
    "m, errs = lstm.run_model(rnn_dat2)"
   ]
  },
  {
   "cell_type": "code",
   "execution_count": null,
   "id": "ec95e7d4-6d57-441b-b673-f10625ee5dec",
   "metadata": {},
   "outputs": [],
   "source": []
  },
  {
   "cell_type": "code",
   "execution_count": null,
   "id": "9b3c8d8d-ea50-44ea-8c0c-414e07cd01ac",
   "metadata": {},
   "outputs": [],
   "source": []
  },
  {
   "cell_type": "code",
   "execution_count": null,
   "id": "03063e3c-e8f4-451d-b0cf-25bd965cd9d6",
   "metadata": {},
   "outputs": [],
   "source": []
  },
  {
   "cell_type": "code",
   "execution_count": null,
   "id": "f60a24c6-9a67-45aa-bc5c-8818aa0ca049",
   "metadata": {},
   "outputs": [],
   "source": []
  }
 ],
 "metadata": {
  "kernelspec": {
   "display_name": "Python 3 (ipykernel)",
   "language": "python",
   "name": "python3"
  },
  "language_info": {
   "codemirror_mode": {
    "name": "ipython",
    "version": 3
   },
   "file_extension": ".py",
   "mimetype": "text/x-python",
   "name": "python",
   "nbconvert_exporter": "python",
   "pygments_lexer": "ipython3",
   "version": "3.12.5"
  }
 },
 "nbformat": 4,
 "nbformat_minor": 5
}
