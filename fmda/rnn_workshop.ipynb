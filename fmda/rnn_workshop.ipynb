{
 "cells": [
  {
   "cell_type": "markdown",
   "id": "244c2fb0-4339-476c-a2db-a641e124e25a",
   "metadata": {},
   "source": [
    "# v2.1 exploration trying to make it work better"
   ]
  },
  {
   "cell_type": "code",
   "execution_count": 1,
   "id": "e6cc7920-e380-4b81-bac0-cd6840450e9a",
   "metadata": {},
   "outputs": [],
   "source": [
    "# Environment\n",
    "import os\n",
    "import os.path as osp\n",
    "import numpy as np\n",
    "import pandas as pd\n",
    "import tensorflow as tf\n",
    "import matplotlib.pyplot as plt\n",
    "import sys\n",
    "# Local modules\n",
    "sys.path.append('..')\n",
    "import reproducibility\n",
    "import pandas as pd\n",
    "from utils import print_dict_summary\n",
    "from data_funcs import rmse, process_train_dict\n",
    "from moisture_rnn import RNNParams, RNNData, RNN, RNN_LSTM\n",
    "from moisture_rnn_pkl import pkl2train\n",
    "from tensorflow.keras.callbacks import Callback\n",
    "from utils import hash2\n",
    "import copy\n",
    "import logging\n",
    "import pickle\n",
    "from utils import logging_setup, read_yml, read_pkl, hash_ndarray, hash_weights\n",
    "import yaml\n",
    "import copy"
   ]
  },
  {
   "cell_type": "code",
   "execution_count": 2,
   "id": "f58e8839-bf0e-4995-b966-c09e4df001ce",
   "metadata": {},
   "outputs": [],
   "source": [
    "logging_setup()"
   ]
  },
  {
   "cell_type": "markdown",
   "id": "fae67b50-f916-45a7-bcc7-61995ba39449",
   "metadata": {},
   "source": [
    "## Test Data"
   ]
  },
  {
   "cell_type": "code",
   "execution_count": 3,
   "id": "c7336361-ae76-47be-9123-0d55905b71a5",
   "metadata": {},
   "outputs": [
    {
     "name": "stdout",
     "output_type": "stream",
     "text": [
      "Target data already exists at data/fmda_rocky_202403-05_f05.pkl\n"
     ]
    }
   ],
   "source": [
    "filename=\"fmda_rocky_202403-05_f05.pkl\"\n",
    "from utils import retrieve_url\n",
    "retrieve_url(\n",
    "    url = f\"https://demo.openwfm.org/web/data/fmda/dicts/{filename}\", \n",
    "    dest_path = f\"data/{filename}\")"
   ]
  },
  {
   "cell_type": "code",
   "execution_count": 4,
   "id": "576ff6f7-dd4b-41c5-93c7-3bbcb129f1bd",
   "metadata": {},
   "outputs": [],
   "source": [
    "input_file_path = f\"data/{filename}\""
   ]
  },
  {
   "cell_type": "code",
   "execution_count": 5,
   "id": "fc61f0b1-0131-468e-bc2e-b1914bc7a3ba",
   "metadata": {},
   "outputs": [],
   "source": [
    "import importlib\n",
    "import data_funcs\n",
    "importlib.reload(data_funcs)\n",
    "from data_funcs import build_train_dict"
   ]
  },
  {
   "cell_type": "code",
   "execution_count": null,
   "id": "52084c3d-e930-4dd0-b1c6-3ef197238c4e",
   "metadata": {
    "scrolled": true
   },
   "outputs": [],
   "source": [
    "train = build_train_dict('data/test_CA_202401.pkl', \n",
    "                         features_all=['Ed', 'Ew', 'solar', 'wind', 'elev', 'lon', 'lat', 'doy', 'hod', 'rain'])"
   ]
  },
  {
   "cell_type": "code",
   "execution_count": null,
   "id": "60ff65db-9482-4728-9f34-a1998b4804a1",
   "metadata": {
    "scrolled": true
   },
   "outputs": [],
   "source": [
    "train = build_train_dict('data/test_CA_202401.pkl', \n",
    "                         features_all=['Ed', 'Ew', 'solar', 'wind', 'elev', 'lon', 'lat', 'doy', 'hod', 'rain'])"
   ]
  },
  {
   "cell_type": "code",
   "execution_count": null,
   "id": "4b6ee3cc-f877-4815-99b2-6dbd64fa7652",
   "metadata": {},
   "outputs": [],
   "source": []
  },
  {
   "cell_type": "code",
   "execution_count": null,
   "id": "9cfd67b5-8fca-49d9-974e-47090338c6e0",
   "metadata": {},
   "outputs": [],
   "source": []
  },
  {
   "cell_type": "code",
   "execution_count": null,
   "id": "8e7d5054-d954-4f9d-b2e6-df56cd81db94",
   "metadata": {},
   "outputs": [],
   "source": []
  },
  {
   "cell_type": "code",
   "execution_count": 6,
   "id": "68dc8c7a-664e-44d2-991e-0110306e9a60",
   "metadata": {},
   "outputs": [
    {
     "name": "stdout",
     "output_type": "stream",
     "text": [
      "loading file data/test_CA_202401.pkl\n"
     ]
    }
   ],
   "source": [
    "dat = read_pkl('data/test_CA_202401.pkl')"
   ]
  },
  {
   "cell_type": "code",
   "execution_count": 7,
   "id": "dc278c61-0a2f-42d0-8e21-0edb219ee2df",
   "metadata": {},
   "outputs": [],
   "source": [
    "feature_types = {\n",
    "    # Static features are based on physical location, e.g. location of RAWS site\n",
    "    'static': ['elev', 'lon', 'lat'],\n",
    "    # Atmospheric weather features come from either RAWS subdict or HRRR\n",
    "    'atm': ['temp', 'rh', 'wind', 'solar', 'soilm', 'canopyw', 'groundflux', 'Ed', 'Ew'],\n",
    "    # Features that require calculation. NOTE: rain only calculated in HRRR, not RAWS\n",
    "    'engineered': ['doy', 'hod', 'rain']\n",
    "}"
   ]
  },
  {
   "cell_type": "code",
   "execution_count": null,
   "id": "c7fdba86-1a25-4a81-8f45-a400dd9e2edb",
   "metadata": {},
   "outputs": [],
   "source": [
    "subdict = dat['CNFC1_202401']"
   ]
  },
  {
   "cell_type": "code",
   "execution_count": null,
   "id": "7ea443f4-a665-4920-b8da-8af79d922e74",
   "metadata": {
    "scrolled": true
   },
   "outputs": [],
   "source": [
    "subdict['HRRR']['time']"
   ]
  },
  {
   "cell_type": "code",
   "execution_count": 15,
   "id": "b4847a87-c341-41d3-8a78-e17ab27314b5",
   "metadata": {},
   "outputs": [],
   "source": [
    "from utils import str2time, check_increment"
   ]
  },
  {
   "cell_type": "code",
   "execution_count": 16,
   "id": "28a5c3b1-f561-4c39-a791-398e0535de8c",
   "metadata": {},
   "outputs": [
    {
     "name": "stdout",
     "output_type": "stream",
     "text": [
      "loading file data/test_CA_202401.pkl\n"
     ]
    }
   ],
   "source": [
    "dat = read_pkl('data/test_CA_202401.pkl')"
   ]
  },
  {
   "cell_type": "code",
   "execution_count": 17,
   "id": "b1ffd6e8-ac1c-41d4-94e6-69802d53dcfe",
   "metadata": {},
   "outputs": [
    {
     "data": {
      "text/plain": [
       "dict_keys(['loc', 'RAWS', 'HRRR'])"
      ]
     },
     "execution_count": 17,
     "metadata": {},
     "output_type": "execute_result"
    }
   ],
   "source": [
    "key = 'CRVC1_202401'\n",
    "subdict = dat[key]\n",
    "subdict.keys()"
   ]
  },
  {
   "cell_type": "code",
   "execution_count": 18,
   "id": "e8cd1198-affc-4db0-a943-541c69dc250f",
   "metadata": {},
   "outputs": [],
   "source": [
    "def check_feat(feat, d):\n",
    "    if feat not in d:\n",
    "        raise ValueError(f\"Feature {feat} not found\")"
   ]
  },
  {
   "cell_type": "code",
   "execution_count": 19,
   "id": "a0284ec9-c43a-4009-aff4-66e3abfab86b",
   "metadata": {},
   "outputs": [],
   "source": [
    "def get_time(d, atm=\"HRRR\"):\n",
    "    check_feat('time', d[atm])\n",
    "    time = str2time(d[atm]['time'])\n",
    "    return time"
   ]
  },
  {
   "cell_type": "code",
   "execution_count": 20,
   "id": "b0eea7b9-81d0-454d-85fa-2046f9b57774",
   "metadata": {},
   "outputs": [],
   "source": [
    "time = get_time(subdict)\n",
    "hours = len(time)"
   ]
  },
  {
   "cell_type": "code",
   "execution_count": 21,
   "id": "846495e4-e1f9-4b3e-b226-1d0c2f4f7fa8",
   "metadata": {},
   "outputs": [
    {
     "name": "stdout",
     "output_type": "stream",
     "text": [
      "2024-10-02 14:47:22,924 - INFO - CRVC1_202401 HRRR.time time array increments are 1.0 hours\n"
     ]
    }
   ],
   "source": [
    "hrrr_increment = check_increment(time,id=key+f' {\"HRRR\"}.time')\n",
    "if  hrrr_increment < 1:\n",
    "    # logging.critical('HRRR increment is %s h must be at least 1 h',hrrr_increment)\n",
    "    raise(ValueError)"
   ]
  },
  {
   "cell_type": "code",
   "execution_count": 22,
   "id": "774da197-239c-4d72-b827-8e7d6e6fa077",
   "metadata": {},
   "outputs": [
    {
     "data": {
      "text/plain": [
       "['elev', 'lon', 'lat']"
      ]
     },
     "execution_count": 22,
     "metadata": {},
     "output_type": "execute_result"
    }
   ],
   "source": [
    "feature_types['static']"
   ]
  },
  {
   "cell_type": "code",
   "execution_count": 23,
   "id": "3d1147f6-c616-4591-aada-b75a629cc4bd",
   "metadata": {},
   "outputs": [],
   "source": [
    "def get_static(d, hours):\n",
    "    cols = []\n",
    "    # Use all static vars, don't allow for missing \n",
    "    names = feature_types['static']\n",
    "    for feat in names:\n",
    "        check_feat(feat, d['loc'])\n",
    "        cols.append(np.full(hours,d['loc'][feat]))\n",
    "    return cols, names"
   ]
  },
  {
   "cell_type": "code",
   "execution_count": 33,
   "id": "98da4a2d-dce1-4cf5-9175-4fb9aa44f7bf",
   "metadata": {},
   "outputs": [],
   "source": [
    "static_vars, static_names = get_static(subdict, hours)"
   ]
  },
  {
   "cell_type": "code",
   "execution_count": 34,
   "id": "0e5d270f-21de-4481-874f-9c159e46bf41",
   "metadata": {},
   "outputs": [
    {
     "data": {
      "text/plain": [
       "3"
      ]
     },
     "execution_count": 34,
     "metadata": {},
     "output_type": "execute_result"
    }
   ],
   "source": [
    "len(static_vars)"
   ]
  },
  {
   "cell_type": "code",
   "execution_count": 35,
   "id": "3fe92659-ba04-43a2-9423-8cc2d6b4dfba",
   "metadata": {},
   "outputs": [],
   "source": [
    "cols = []\n",
    "names = []"
   ]
  },
  {
   "cell_type": "code",
   "execution_count": 36,
   "id": "0ddb6cf5-63e6-4f7e-9e69-7fa6b34bfe9c",
   "metadata": {},
   "outputs": [],
   "source": [
    "cols.append(time)\n",
    "names.append('time')"
   ]
  },
  {
   "cell_type": "code",
   "execution_count": 37,
   "id": "be4db59e-d006-4f01-ae65-5da73cf31de8",
   "metadata": {},
   "outputs": [],
   "source": [
    "cols.extend(static_vars)\n",
    "names.extend(static_names)"
   ]
  },
  {
   "cell_type": "code",
   "execution_count": 38,
   "id": "71d014a6-0952-4590-8529-47f90fd0e9f7",
   "metadata": {},
   "outputs": [
    {
     "data": {
      "text/plain": [
       "4"
      ]
     },
     "execution_count": 38,
     "metadata": {},
     "output_type": "execute_result"
    }
   ],
   "source": [
    "len(cols)"
   ]
  },
  {
   "cell_type": "code",
   "execution_count": 39,
   "id": "f64865a1-c08e-4ab2-a1a4-0ad3bee32bc7",
   "metadata": {},
   "outputs": [
    {
     "data": {
      "text/plain": [
       "4"
      ]
     },
     "execution_count": 39,
     "metadata": {},
     "output_type": "execute_result"
    }
   ],
   "source": [
    "len(names)"
   ]
  },
  {
   "cell_type": "code",
   "execution_count": 40,
   "id": "b0d89547-750b-40d7-8e8d-fe3f2bd84db4",
   "metadata": {},
   "outputs": [],
   "source": [
    "def get_hrrr_atm(d, fstep):\n",
    "    cols = []\n",
    "    # Use all names, don't allow for missing \n",
    "    names = feature_types['atm'].copy()\n",
    "    for feat in names:\n",
    "        check_feat(feat, d[\"HRRR\"][fstep])\n",
    "        v = d[\"HRRR\"][fstep][feat] \n",
    "        cols.append(v)\n",
    "    return cols, names"
   ]
  },
  {
   "cell_type": "code",
   "execution_count": 41,
   "id": "781d129d-ee92-4389-a40c-5a558bde6c6b",
   "metadata": {},
   "outputs": [],
   "source": [
    "forecast_step = 1"
   ]
  },
  {
   "cell_type": "code",
   "execution_count": 42,
   "id": "7c9c799c-4dac-4682-8ec7-9375f43f2099",
   "metadata": {},
   "outputs": [],
   "source": [
    "if forecast_step > 0 and forecast_step < 100 and forecast_step == int(forecast_step):\n",
    "    fstep='f'+str(forecast_step).zfill(2)\n",
    "    fprev='f'+str(forecast_step-1).zfill(2)\n",
    "    # logging.info('Using data from step %s',fstep)\n",
    "    # logging.info('Using rain as the difference of accumulated precipitation between %s and %s',fstep,fprev)\n",
    "else:\n",
    "    # logging.critical('forecast_step must be integer between 1 and 99')\n",
    "    raise ValueError('bad forecast_step')"
   ]
  },
  {
   "cell_type": "code",
   "execution_count": 45,
   "id": "7a331b19-57ae-4acb-9a11-d19126c4b167",
   "metadata": {},
   "outputs": [],
   "source": [
    "atm_cols, atm_names = get_hrrr_atm(subdict, fstep)"
   ]
  },
  {
   "cell_type": "code",
   "execution_count": 46,
   "id": "a1768ebf-6cd6-421c-a10c-92fb7b48efba",
   "metadata": {},
   "outputs": [
    {
     "data": {
      "text/plain": [
       "9"
      ]
     },
     "execution_count": 46,
     "metadata": {},
     "output_type": "execute_result"
    }
   ],
   "source": [
    "len(atm_cols)"
   ]
  },
  {
   "cell_type": "code",
   "execution_count": 48,
   "id": "f2687911-3391-4e54-972a-d9653120303d",
   "metadata": {},
   "outputs": [],
   "source": [
    "cols.extend(atm_cols)\n",
    "names.extend(atm_names)"
   ]
  },
  {
   "cell_type": "code",
   "execution_count": 49,
   "id": "944109f3-ad20-4879-a9f3-e1672e7c66b5",
   "metadata": {},
   "outputs": [
    {
     "data": {
      "text/plain": [
       "13"
      ]
     },
     "execution_count": 49,
     "metadata": {},
     "output_type": "execute_result"
    }
   ],
   "source": [
    "len(cols)"
   ]
  },
  {
   "cell_type": "code",
   "execution_count": 50,
   "id": "22d15be2-cb93-424a-ae49-8159d071c24d",
   "metadata": {},
   "outputs": [
    {
     "data": {
      "text/plain": [
       "13"
      ]
     },
     "execution_count": 50,
     "metadata": {},
     "output_type": "execute_result"
    }
   ],
   "source": [
    "len(names)"
   ]
  },
  {
   "cell_type": "code",
   "execution_count": 51,
   "id": "11d4a584-cb1c-4a68-bbb9-f64dfd604eca",
   "metadata": {},
   "outputs": [],
   "source": [
    "def calc_time_features(time):\n",
    "    names = ['doy', 'hod']\n",
    "    doy = np.array([dt.timetuple().tm_yday - 1 for dt in time])\n",
    "    hod = time.astype('datetime64[h]').astype(int) % 24\n",
    "    cols = [doy, hod]\n",
    "    return cols, names"
   ]
  },
  {
   "cell_type": "code",
   "execution_count": 58,
   "id": "51fa8495-652f-411f-9ab0-95787eff6666",
   "metadata": {},
   "outputs": [],
   "source": [
    "tvars, tnames = calc_time_features(time)"
   ]
  },
  {
   "cell_type": "code",
   "execution_count": 59,
   "id": "23cf97b8-e23b-467f-8bd1-9c9880c66f6e",
   "metadata": {},
   "outputs": [
    {
     "data": {
      "text/plain": [
       "2"
      ]
     },
     "execution_count": 59,
     "metadata": {},
     "output_type": "execute_result"
    }
   ],
   "source": [
    "len(tvars)"
   ]
  },
  {
   "cell_type": "code",
   "execution_count": 60,
   "id": "a02a8753-7c40-477e-a7e4-3939b72216b4",
   "metadata": {},
   "outputs": [
    {
     "data": {
      "text/plain": [
       "2"
      ]
     },
     "execution_count": 60,
     "metadata": {},
     "output_type": "execute_result"
    }
   ],
   "source": [
    "len(tnames)"
   ]
  },
  {
   "cell_type": "code",
   "execution_count": 62,
   "id": "1e21bcf6-f437-4960-83ab-3407123aaf7c",
   "metadata": {},
   "outputs": [],
   "source": [
    "cols.extend(tvars)\n",
    "names.extend(tnames)"
   ]
  },
  {
   "cell_type": "code",
   "execution_count": 63,
   "id": "327144ac-fe46-4514-b42e-a16ddd7f3655",
   "metadata": {},
   "outputs": [
    {
     "data": {
      "text/plain": [
       "15"
      ]
     },
     "execution_count": 63,
     "metadata": {},
     "output_type": "execute_result"
    }
   ],
   "source": [
    "len(cols)"
   ]
  },
  {
   "cell_type": "code",
   "execution_count": 64,
   "id": "92376d54-02a3-4a92-8203-511c912c2192",
   "metadata": {},
   "outputs": [
    {
     "data": {
      "text/plain": [
       "15"
      ]
     },
     "execution_count": 64,
     "metadata": {},
     "output_type": "execute_result"
    }
   ],
   "source": [
    "len(names)"
   ]
  },
  {
   "cell_type": "code",
   "execution_count": 65,
   "id": "17bc5704-4bbf-4de3-8bc7-719a5f8e4326",
   "metadata": {},
   "outputs": [],
   "source": [
    "def calc_hrrr_rain(d, fstep):\n",
    "    rain = d[\"HRRR\"][fstep]['precip_accum']- d[\"HRRR\"][fprev]['precip_accum']\n",
    "    return rain"
   ]
  },
  {
   "cell_type": "code",
   "execution_count": 66,
   "id": "a0646009-99a9-4c40-a138-b87cbd13c421",
   "metadata": {},
   "outputs": [],
   "source": [
    "rain = calc_hrrr_rain(subdict, fstep)"
   ]
  },
  {
   "cell_type": "code",
   "execution_count": 67,
   "id": "647ae5d1-d061-41f1-90ea-bb8a9b899fc3",
   "metadata": {},
   "outputs": [],
   "source": [
    "cols.append(rain)\n",
    "names.append(\"rain\")"
   ]
  },
  {
   "cell_type": "code",
   "execution_count": 68,
   "id": "1e77b860-6537-4079-bc5f-2adf914759ae",
   "metadata": {},
   "outputs": [
    {
     "data": {
      "text/plain": [
       "16"
      ]
     },
     "execution_count": 68,
     "metadata": {},
     "output_type": "execute_result"
    }
   ],
   "source": [
    "len(cols)"
   ]
  },
  {
   "cell_type": "code",
   "execution_count": 69,
   "id": "de7b003d-c0b1-4a6c-b6f7-769df198041f",
   "metadata": {},
   "outputs": [
    {
     "data": {
      "text/plain": [
       "16"
      ]
     },
     "execution_count": 69,
     "metadata": {},
     "output_type": "execute_result"
    }
   ],
   "source": [
    "len(names)"
   ]
  },
  {
   "cell_type": "code",
   "execution_count": 70,
   "id": "bcf623ba-662e-4d9d-9f9d-eb61d6afdcef",
   "metadata": {},
   "outputs": [
    {
     "data": {
      "text/plain": [
       "['time',\n",
       " 'elev',\n",
       " 'lon',\n",
       " 'lat',\n",
       " 'temp',\n",
       " 'rh',\n",
       " 'wind',\n",
       " 'solar',\n",
       " 'soilm',\n",
       " 'canopyw',\n",
       " 'groundflux',\n",
       " 'Ed',\n",
       " 'Ew',\n",
       " 'doy',\n",
       " 'hod',\n",
       " 'rain']"
      ]
     },
     "execution_count": 70,
     "metadata": {},
     "output_type": "execute_result"
    }
   ],
   "source": [
    "names"
   ]
  },
  {
   "cell_type": "code",
   "execution_count": 72,
   "id": "0b6789c3-9d79-415c-97ad-037901a394f9",
   "metadata": {},
   "outputs": [
    {
     "data": {
      "text/plain": [
       "(168, 16)"
      ]
     },
     "execution_count": 72,
     "metadata": {},
     "output_type": "execute_result"
    }
   ],
   "source": [
    "X = np.column_stack(cols)\n",
    "X.shape"
   ]
  },
  {
   "cell_type": "code",
   "execution_count": 73,
   "id": "585ad4ba-220b-4106-b086-c14051c7e446",
   "metadata": {},
   "outputs": [],
   "source": [
    "from utils import time_intp"
   ]
  },
  {
   "cell_type": "code",
   "execution_count": 74,
   "id": "cbf72ba0-151e-4618-9444-712f36a8537b",
   "metadata": {},
   "outputs": [
    {
     "data": {
      "text/plain": [
       "['temp', 'rh', 'wind', 'solar', 'soilm', 'canopyw', 'groundflux', 'Ed', 'Ew']"
      ]
     },
     "execution_count": 74,
     "metadata": {},
     "output_type": "execute_result"
    }
   ],
   "source": [
    "feature_types['atm']"
   ]
  },
  {
   "cell_type": "code",
   "execution_count": 75,
   "id": "9cb60fae-0bf0-4dfa-bc5a-0188f67835aa",
   "metadata": {},
   "outputs": [],
   "source": [
    "def get_raws_atm(d, time):\n",
    "    # may not be the same as requested time vector, used to interpolate to input time\n",
    "    time_raws=str2time(d['RAWS']['time_raws']) \n",
    "\n",
    "    cols = []\n",
    "    names = []\n",
    "\n",
    "    # Loop through all features, including rain\n",
    "    for feat in feature_types['atm']+['rain']:\n",
    "        if feat in d['RAWS']:\n",
    "            v = d['RAWS'][feat]\n",
    "            v = time_intp(time_raws, v, time)\n",
    "            assert len(v)==len(time), f\"RAWS feature {feat} not equal length to input time: {len(v)} vs {len(time)}\"\n",
    "            cols.append(v)\n",
    "            names.append(feat)\n",
    "    return cols, names"
   ]
  },
  {
   "cell_type": "code",
   "execution_count": 76,
   "id": "46654c6b-91b2-44f5-a971-b4cb8f0a9f5f",
   "metadata": {},
   "outputs": [
    {
     "data": {
      "text/plain": [
       "['temp', 'rh', 'wind', 'solar', 'soilm', 'canopyw', 'groundflux', 'Ed', 'Ew']"
      ]
     },
     "execution_count": 76,
     "metadata": {},
     "output_type": "execute_result"
    }
   ],
   "source": [
    "feature_types['atm']"
   ]
  },
  {
   "cell_type": "code",
   "execution_count": 77,
   "id": "ea198b64-9f07-41fd-a6f5-e19299dbe9ba",
   "metadata": {},
   "outputs": [
    {
     "data": {
      "text/plain": [
       "['temp',\n",
       " 'rh',\n",
       " 'wind',\n",
       " 'solar',\n",
       " 'soilm',\n",
       " 'canopyw',\n",
       " 'groundflux',\n",
       " 'Ed',\n",
       " 'Ew',\n",
       " 'rain']"
      ]
     },
     "execution_count": 77,
     "metadata": {},
     "output_type": "execute_result"
    }
   ],
   "source": [
    "feature_types['atm']+['rain']"
   ]
  },
  {
   "cell_type": "code",
   "execution_count": 86,
   "id": "89171317-b4c5-4826-97d0-32c062441e4f",
   "metadata": {},
   "outputs": [],
   "source": [
    "cols2, names2 = get_raws_atm(subdict, time)"
   ]
  },
  {
   "cell_type": "code",
   "execution_count": 87,
   "id": "7c547ccb-8a9b-45a8-ae6d-e7d4df06a0e5",
   "metadata": {},
   "outputs": [
    {
     "data": {
      "text/plain": [
       "7"
      ]
     },
     "execution_count": 87,
     "metadata": {},
     "output_type": "execute_result"
    }
   ],
   "source": [
    "len(cols2)"
   ]
  },
  {
   "cell_type": "code",
   "execution_count": 88,
   "id": "ad887759-add2-43c8-8198-acb7308bd58c",
   "metadata": {},
   "outputs": [
    {
     "data": {
      "text/plain": [
       "['temp', 'rh', 'wind', 'solar', 'Ed', 'Ew', 'rain']"
      ]
     },
     "execution_count": 88,
     "metadata": {},
     "output_type": "execute_result"
    }
   ],
   "source": [
    "names2"
   ]
  },
  {
   "cell_type": "code",
   "execution_count": null,
   "id": "94f24707-11e5-4d00-b6ec-01849320ff51",
   "metadata": {},
   "outputs": [],
   "source": []
  },
  {
   "cell_type": "code",
   "execution_count": 90,
   "id": "421d92d6-1547-4e6e-9f7b-2a58139475c1",
   "metadata": {},
   "outputs": [],
   "source": [
    "def build_single_case(subdict, atm =\"HRRR\"):\n",
    "    # cols = []\n",
    "    # names = []\n",
    "    # Get Time variable\n",
    "    time = get_time(subdict)\n",
    "    # Calculate derived time variables\n",
    "    tvars, tnames = calc_time_features(time)\n",
    "    # Get Static Features, extends to hours\n",
    "    static_vars, static_names = get_static(subdict, hours = len(time))\n",
    "    # Get atmospheric variables based on data source. HRRR requires rain calculation\n",
    "    if atm == \"HRRR\":\n",
    "        atm_vars, atm_names = get_hrrr_atm(subdict, fstep)\n",
    "        rain = calc_hrrr_rain(subdict, fstep)\n",
    "        atm_vars.append(rain)\n",
    "        atm_names.append(\"rain\")\n",
    "    elif atm == \"RAWS\":\n",
    "        atm_vars, atm_names = get_raws_atm(subdict, time)\n",
    "    else:\n",
    "        raise ValueError(f\"Unrecognized atmospheric data source: {atm}\")\n",
    "    # Put everything together and stack\n",
    "    cols = [time] + tvars + static_vars + atm_vars\n",
    "    X = np.column_stack(cols)\n",
    "    names = ['time'] + tnames + static_names + atm_names\n",
    "    \n",
    "    return X, names"
   ]
  },
  {
   "cell_type": "code",
   "execution_count": 91,
   "id": "ba0a0ee5-21bc-48d3-9312-515d80561332",
   "metadata": {},
   "outputs": [
    {
     "data": {
      "text/plain": [
       "dict_keys(['loc', 'RAWS', 'HRRR'])"
      ]
     },
     "execution_count": 91,
     "metadata": {},
     "output_type": "execute_result"
    }
   ],
   "source": [
    "subdict.keys()"
   ]
  },
  {
   "cell_type": "code",
   "execution_count": 110,
   "id": "d596a010-732e-423f-accb-7a9cbcf0e8c0",
   "metadata": {},
   "outputs": [],
   "source": [
    "X, ns = build_single_case(subdict, atm=\"RAWS\")"
   ]
  },
  {
   "cell_type": "code",
   "execution_count": 111,
   "id": "e1da40cc-dae1-432e-a383-151b5aa32fe4",
   "metadata": {},
   "outputs": [
    {
     "data": {
      "text/plain": [
       "(168, 13)"
      ]
     },
     "execution_count": 111,
     "metadata": {},
     "output_type": "execute_result"
    }
   ],
   "source": [
    "X.shape"
   ]
  },
  {
   "cell_type": "code",
   "execution_count": 112,
   "id": "95c24e8e-3280-4ac1-b6b6-764333bbfac9",
   "metadata": {},
   "outputs": [
    {
     "data": {
      "text/plain": [
       "13"
      ]
     },
     "execution_count": 112,
     "metadata": {},
     "output_type": "execute_result"
    }
   ],
   "source": [
    "len(ns)"
   ]
  },
  {
   "cell_type": "code",
   "execution_count": 113,
   "id": "37dd60eb-1909-41c5-a964-4ed87aed55ef",
   "metadata": {},
   "outputs": [
    {
     "data": {
      "text/plain": [
       "['time',\n",
       " 'doy',\n",
       " 'hod',\n",
       " 'elev',\n",
       " 'lon',\n",
       " 'lat',\n",
       " 'temp',\n",
       " 'rh',\n",
       " 'wind',\n",
       " 'solar',\n",
       " 'Ed',\n",
       " 'Ew',\n",
       " 'rain']"
      ]
     },
     "execution_count": 113,
     "metadata": {},
     "output_type": "execute_result"
    }
   ],
   "source": [
    "ns[0:20]"
   ]
  },
  {
   "cell_type": "code",
   "execution_count": null,
   "id": "51524f01-6c40-43ef-9f38-c0005adabef0",
   "metadata": {},
   "outputs": [],
   "source": []
  },
  {
   "cell_type": "code",
   "execution_count": null,
   "id": "0e596f5d-e8ad-485e-819f-1d08e4f729d7",
   "metadata": {},
   "outputs": [],
   "source": []
  },
  {
   "cell_type": "code",
   "execution_count": 114,
   "id": "c2981454-b2f7-4611-a180-00443aefa9ce",
   "metadata": {},
   "outputs": [
    {
     "data": {
      "text/plain": [
       "(168,)"
      ]
     },
     "execution_count": 114,
     "metadata": {},
     "output_type": "execute_result"
    }
   ],
   "source": [
    "time.shape"
   ]
  },
  {
   "cell_type": "code",
   "execution_count": 115,
   "id": "e995704a-abb9-4b96-b8f2-a9f733fb0a29",
   "metadata": {},
   "outputs": [
    {
     "data": {
      "text/plain": [
       "3"
      ]
     },
     "execution_count": 115,
     "metadata": {},
     "output_type": "execute_result"
    }
   ],
   "source": [
    "len(static_vars)"
   ]
  },
  {
   "cell_type": "code",
   "execution_count": 116,
   "id": "551ff987-41f2-4f38-a6a1-fab857dc054c",
   "metadata": {},
   "outputs": [
    {
     "data": {
      "text/plain": [
       "9"
      ]
     },
     "execution_count": 116,
     "metadata": {},
     "output_type": "execute_result"
    }
   ],
   "source": [
    "len(atm_cols)"
   ]
  },
  {
   "cell_type": "code",
   "execution_count": null,
   "id": "531e61ea-7e45-4f6a-b247-ec4719b88489",
   "metadata": {},
   "outputs": [],
   "source": []
  },
  {
   "cell_type": "code",
   "execution_count": 117,
   "id": "2cf1fa09-709b-4f6d-9cc0-2433b030b0e2",
   "metadata": {},
   "outputs": [
    {
     "data": {
      "text/plain": [
       "13"
      ]
     },
     "execution_count": 117,
     "metadata": {},
     "output_type": "execute_result"
    }
   ],
   "source": [
    "len([time] + static_vars + atm_cols)"
   ]
  },
  {
   "cell_type": "code",
   "execution_count": 118,
   "id": "a9d73e82-49b3-47f3-9442-6012437d4cb2",
   "metadata": {},
   "outputs": [],
   "source": [
    "def get_fm(d, time):\n",
    "    fm = d['RAWS']['fm']\n",
    "    time_raws = str2time(d['RAWS']['time_raws'])\n",
    "    return time_intp(time_raws,fm,time)"
   ]
  },
  {
   "cell_type": "code",
   "execution_count": 119,
   "id": "2cdbc36e-a362-4279-8d74-9712fa784c8d",
   "metadata": {
    "scrolled": true
   },
   "outputs": [
    {
     "data": {
      "text/plain": [
       "array([12.5       , 12.48833333, 12.42333333, 12.62333333, 12.84666667,\n",
       "       13.24666667, 13.69333333, 14.48166667, 15.18166667, 15.88166667,\n",
       "       16.54666667, 16.92333333, 17.17      , 17.74666667, 18.135     ,\n",
       "       18.42916667, 18.67916667, 18.97      , 19.68666667, 20.52833333,\n",
       "       15.99      , 14.02666667, 11.235     , 11.45333333, 11.00666667,\n",
       "       10.23      ,  9.72333333,  9.99333333, 10.72333333, 10.95833333,\n",
       "       11.47      , 12.035     , 12.35833333, 12.85833333, 13.37      ,\n",
       "       13.94666667, 14.34666667, 14.68833333, 14.72833333, 15.72333333,\n",
       "       15.935     , 16.38666667, 17.60166667, 15.90166667, 14.225     ,\n",
       "       12.74833333, 11.53      , 10.94166667, 10.465     , 10.14166667,\n",
       "        9.77      , 10.3       , 10.32333333, 10.535     , 10.8       ,\n",
       "       10.82333333, 11.05833333, 11.59333333, 12.41666667, 13.41666667,\n",
       "       14.405     , 15.27      , 15.84666667, 16.165     , 16.04      ,\n",
       "       17.15833333, 17.53      , 16.81333333, 15.24833333, 14.065     ,\n",
       "       13.77666667, 13.51833333, 12.95833333, 13.34166667, 12.92333333,\n",
       "       13.205     , 14.315     , 16.68833333, 16.62333333, 16.78833333,\n",
       "       16.60666667, 16.005     , 16.73      , 16.375     , 17.71166667,\n",
       "       17.695     , 16.865     , 16.58833333, 16.61666667, 17.66333333,\n",
       "       19.05166667, 19.68666667, 15.765     , 14.99833333, 11.19416667,\n",
       "       11.14416667, 11.01833333, 10.41166667, 10.41833333,  9.81166667,\n",
       "       10.01666667, 10.9       , 10.935     , 11.22916667, 11.47916667,\n",
       "       11.75833333, 12.27      , 12.89333333, 13.65833333, 14.17      ,\n",
       "       14.77      , 15.39333333, 16.135     , 16.505     , 17.38166667,\n",
       "       17.46333333, 13.30666667, 12.355     , 10.52333333, 10.665     ,\n",
       "       10.37666667, 10.13      ,  9.53      ,  9.035     ,  9.28833333,\n",
       "        9.2       ,  9.24666667,  9.62333333,  9.81166667,  9.935     ,\n",
       "       10.28166667, 10.92333333, 11.12333333, 11.37      , 11.9175    ,\n",
       "       12.0675    , 12.14166667, 11.77      , 12.23      , 11.54833333,\n",
       "       10.4       , 10.31833333,  9.64166667,  9.17666667,  9.02333333,\n",
       "        9.24666667,  9.71666667, 10.64666667, 11.05833333, 11.55833333,\n",
       "       12.07      , 12.635     , 12.935     , 13.095     , 12.27666667,\n",
       "       12.15833333, 12.57666667, 12.365     , 12.11166667, 12.21166667,\n",
       "       12.28833333, 12.36333333, 13.81      , 15.14333333, 13.15333333,\n",
       "       12.57833333, 10.9       , 10.87666667])"
      ]
     },
     "execution_count": 119,
     "metadata": {},
     "output_type": "execute_result"
    }
   ],
   "source": [
    "get_fm(subdict, time)"
   ]
  },
  {
   "cell_type": "code",
   "execution_count": 120,
   "id": "4b3143af-3d71-4ec6-b221-acb8b687e174",
   "metadata": {},
   "outputs": [],
   "source": [
    "from data_funcs import combine_nested\n",
    "from utils import Dict"
   ]
  },
  {
   "cell_type": "code",
   "execution_count": 121,
   "id": "dc2df65a-9db2-4196-8e66-be833c732e48",
   "metadata": {},
   "outputs": [],
   "source": [
    "def build_train_dict(input_file_paths, spatial=True, atm=\"HRRR\", forecast_step=1, verbose=True):\n",
    "    new_dict = {}\n",
    "    for input_file_path in input_file_paths:\n",
    "        dict0 = read_pkl(input_file_path)\n",
    "        for key in dict0:\n",
    "            if verbose:\n",
    "                print(\"~\"*50)\n",
    "                print(f\"Processing case {key}\")\n",
    "            X, names = build_single_case(dict0[key], atm=atm)\n",
    "            time = str2time(dict0[key]['HRRR']['time'])\n",
    "            hrrr_increment = check_increment(time,id=key+f' {\"HRRR\"}.time')\n",
    "            if  hrrr_increment < 1:\n",
    "                # logging.critical('HRRR increment is %s h must be at least 1 h',hrrr_increment)\n",
    "                raise(ValueError)\n",
    "            new_dict[key] = {\n",
    "                'id': key,\n",
    "                'case': key,\n",
    "                'filename': input_file_path,\n",
    "                'loc': dict0[key]['loc'],\n",
    "                'time': time,\n",
    "                'X': X,\n",
    "                'y': get_fm(dict0[key], time),\n",
    "                'features_list': names\n",
    "            }\n",
    "    if spatial:\n",
    "        new_dict = combine_nested(new_dict)\n",
    "        \n",
    "    return Dict(new_dict)\n"
   ]
  },
  {
   "cell_type": "code",
   "execution_count": 122,
   "id": "863b6172-67c2-4c49-bd7a-def26473d7dd",
   "metadata": {
    "scrolled": true
   },
   "outputs": [
    {
     "name": "stdout",
     "output_type": "stream",
     "text": [
      "loading file data/test_CA_202401.pkl\n",
      "~~~~~~~~~~~~~~~~~~~~~~~~~~~~~~~~~~~~~~~~~~~~~~~~~~\n",
      "Processing case CNFC1_202401\n",
      "2024-10-02 14:50:31,030 - INFO - CNFC1_202401 HRRR.time time array increments are 1.0 hours\n",
      "~~~~~~~~~~~~~~~~~~~~~~~~~~~~~~~~~~~~~~~~~~~~~~~~~~\n",
      "Processing case CRVC1_202401\n",
      "2024-10-02 14:50:31,038 - INFO - CRVC1_202401 HRRR.time time array increments are 1.0 hours\n",
      "~~~~~~~~~~~~~~~~~~~~~~~~~~~~~~~~~~~~~~~~~~~~~~~~~~\n",
      "Processing case FCHC1_202401\n",
      "2024-10-02 14:50:31,046 - INFO - FCHC1_202401 HRRR.time time array increments are 1.0 hours\n",
      "~~~~~~~~~~~~~~~~~~~~~~~~~~~~~~~~~~~~~~~~~~~~~~~~~~\n",
      "Processing case FTNC1_202401\n",
      "2024-10-02 14:50:31,054 - INFO - FTNC1_202401 HRRR.time time array increments are 1.0 hours\n",
      "~~~~~~~~~~~~~~~~~~~~~~~~~~~~~~~~~~~~~~~~~~~~~~~~~~\n",
      "Processing case HTRC1_202401\n",
      "2024-10-02 14:50:31,061 - INFO - HTRC1_202401 HRRR.time time array increments are 1.0 hours\n",
      "~~~~~~~~~~~~~~~~~~~~~~~~~~~~~~~~~~~~~~~~~~~~~~~~~~\n",
      "Processing case KRNC1_202401\n",
      "2024-10-02 14:50:31,069 - INFO - KRNC1_202401 HRRR.time time array increments are 1.0 hours\n",
      "~~~~~~~~~~~~~~~~~~~~~~~~~~~~~~~~~~~~~~~~~~~~~~~~~~\n",
      "Processing case MPOC1_202401\n",
      "2024-10-02 14:50:31,078 - INFO - MPOC1_202401 HRRR.time time array increments are 1.0 hours\n",
      "~~~~~~~~~~~~~~~~~~~~~~~~~~~~~~~~~~~~~~~~~~~~~~~~~~\n",
      "Processing case MKEC1_202401\n",
      "2024-10-02 14:50:31,086 - INFO - MKEC1_202401 HRRR.time time array increments are 1.0 hours\n",
      "~~~~~~~~~~~~~~~~~~~~~~~~~~~~~~~~~~~~~~~~~~~~~~~~~~\n",
      "Processing case MCFC1_202401\n",
      "2024-10-02 14:50:31,094 - INFO - MCFC1_202401 HRRR.time time array increments are 1.0 hours\n",
      "~~~~~~~~~~~~~~~~~~~~~~~~~~~~~~~~~~~~~~~~~~~~~~~~~~\n",
      "Processing case PRGC1_202401\n",
      "2024-10-02 14:50:31,104 - INFO - PRGC1_202401 HRRR.time time array increments are 1.0 hours\n",
      "~~~~~~~~~~~~~~~~~~~~~~~~~~~~~~~~~~~~~~~~~~~~~~~~~~\n",
      "Processing case SHQC1_202401\n",
      "2024-10-02 14:50:31,112 - INFO - SHQC1_202401 HRRR.time time array increments are 1.0 hours\n",
      "~~~~~~~~~~~~~~~~~~~~~~~~~~~~~~~~~~~~~~~~~~~~~~~~~~\n",
      "Processing case WVTC1_202401\n",
      "2024-10-02 14:50:31,121 - INFO - WVTC1_202401 HRRR.time time array increments are 1.0 hours\n",
      "~~~~~~~~~~~~~~~~~~~~~~~~~~~~~~~~~~~~~~~~~~~~~~~~~~\n",
      "Processing case WWRC1_202401\n",
      "2024-10-02 14:50:31,128 - INFO - WWRC1_202401 HRRR.time time array increments are 1.0 hours\n",
      "~~~~~~~~~~~~~~~~~~~~~~~~~~~~~~~~~~~~~~~~~~~~~~~~~~\n",
      "Processing case KYCN2_202401\n",
      "2024-10-02 14:50:31,137 - INFO - KYCN2_202401 HRRR.time time array increments are 1.0 hours\n",
      "~~~~~~~~~~~~~~~~~~~~~~~~~~~~~~~~~~~~~~~~~~~~~~~~~~\n",
      "Processing case MTSN2_202401\n",
      "2024-10-02 14:50:31,144 - INFO - MTSN2_202401 HRRR.time time array increments are 1.0 hours\n",
      "~~~~~~~~~~~~~~~~~~~~~~~~~~~~~~~~~~~~~~~~~~~~~~~~~~\n",
      "Processing case MTTC1_202401\n",
      "2024-10-02 14:50:31,153 - INFO - MTTC1_202401 HRRR.time time array increments are 1.0 hours\n",
      "~~~~~~~~~~~~~~~~~~~~~~~~~~~~~~~~~~~~~~~~~~~~~~~~~~\n",
      "Processing case BKRC1_202401\n",
      "2024-10-02 14:50:31,160 - INFO - BKRC1_202401 HRRR.time time array increments are 1.0 hours\n",
      "~~~~~~~~~~~~~~~~~~~~~~~~~~~~~~~~~~~~~~~~~~~~~~~~~~\n",
      "Processing case JSNC1_202401\n",
      "2024-10-02 14:50:31,169 - INFO - JSNC1_202401 HRRR.time time array increments are 1.0 hours\n",
      "~~~~~~~~~~~~~~~~~~~~~~~~~~~~~~~~~~~~~~~~~~~~~~~~~~\n",
      "Processing case MTQC1_202401\n",
      "2024-10-02 14:50:31,173 - INFO - MTQC1_202401 HRRR.time time array increments are 1.0 hours\n",
      "~~~~~~~~~~~~~~~~~~~~~~~~~~~~~~~~~~~~~~~~~~~~~~~~~~\n",
      "Processing case NFRC1_202401\n",
      "2024-10-02 14:50:31,186 - INFO - NFRC1_202401 HRRR.time time array increments are 1.0 hours\n",
      "~~~~~~~~~~~~~~~~~~~~~~~~~~~~~~~~~~~~~~~~~~~~~~~~~~\n",
      "Processing case OORC1_202401\n",
      "2024-10-02 14:50:31,194 - INFO - OORC1_202401 HRRR.time time array increments are 1.0 hours\n",
      "~~~~~~~~~~~~~~~~~~~~~~~~~~~~~~~~~~~~~~~~~~~~~~~~~~\n",
      "Processing case UHLC1_202401\n",
      "2024-10-02 14:50:31,204 - INFO - UHLC1_202401 HRRR.time time array increments are 1.0 hours\n",
      "~~~~~~~~~~~~~~~~~~~~~~~~~~~~~~~~~~~~~~~~~~~~~~~~~~\n",
      "Processing case PHRC1_202401\n",
      "2024-10-02 14:50:31,212 - INFO - PHRC1_202401 HRRR.time time array increments are 1.0 hours\n",
      "~~~~~~~~~~~~~~~~~~~~~~~~~~~~~~~~~~~~~~~~~~~~~~~~~~\n",
      "Processing case WALC1_202401\n",
      "2024-10-02 14:50:31,220 - INFO - WALC1_202401 HRRR.time time array increments are 1.0 hours\n",
      "~~~~~~~~~~~~~~~~~~~~~~~~~~~~~~~~~~~~~~~~~~~~~~~~~~\n",
      "Processing case UBCC1_202401\n",
      "2024-10-02 14:50:31,225 - INFO - UBCC1_202401 HRRR.time time array increments are 1.0 hours\n",
      "~~~~~~~~~~~~~~~~~~~~~~~~~~~~~~~~~~~~~~~~~~~~~~~~~~\n",
      "Processing case BSNC1_202401\n",
      "2024-10-02 14:50:31,236 - INFO - BSNC1_202401 HRRR.time time array increments are 1.0 hours\n",
      "~~~~~~~~~~~~~~~~~~~~~~~~~~~~~~~~~~~~~~~~~~~~~~~~~~\n",
      "Processing case CGVC1_202401\n",
      "2024-10-02 14:50:31,243 - INFO - CGVC1_202401 HRRR.time time array increments are 1.0 hours\n",
      "~~~~~~~~~~~~~~~~~~~~~~~~~~~~~~~~~~~~~~~~~~~~~~~~~~\n",
      "Processing case DKYC1_202401\n",
      "2024-10-02 14:50:31,251 - INFO - DKYC1_202401 HRRR.time time array increments are 1.0 hours\n",
      "~~~~~~~~~~~~~~~~~~~~~~~~~~~~~~~~~~~~~~~~~~~~~~~~~~\n",
      "Processing case FNWC1_202401\n",
      "2024-10-02 14:50:31,257 - INFO - FNWC1_202401 HRRR.time time array increments are 1.0 hours\n",
      "~~~~~~~~~~~~~~~~~~~~~~~~~~~~~~~~~~~~~~~~~~~~~~~~~~\n",
      "Processing case PRHC1_202401\n",
      "2024-10-02 14:50:31,267 - INFO - PRHC1_202401 HRRR.time time array increments are 1.0 hours\n",
      "~~~~~~~~~~~~~~~~~~~~~~~~~~~~~~~~~~~~~~~~~~~~~~~~~~\n",
      "Processing case MMTC1_202401\n",
      "2024-10-02 14:50:31,275 - INFO - MMTC1_202401 HRRR.time time array increments are 1.0 hours\n",
      "~~~~~~~~~~~~~~~~~~~~~~~~~~~~~~~~~~~~~~~~~~~~~~~~~~\n",
      "Processing case TR172_202401\n",
      "2024-10-02 14:50:31,282 - INFO - TR172_202401 HRRR.time time array increments are 1.0 hours\n",
      "~~~~~~~~~~~~~~~~~~~~~~~~~~~~~~~~~~~~~~~~~~~~~~~~~~\n",
      "Processing case OVRC1_202401\n",
      "2024-10-02 14:50:31,291 - INFO - OVRC1_202401 HRRR.time time array increments are 1.0 hours\n",
      "~~~~~~~~~~~~~~~~~~~~~~~~~~~~~~~~~~~~~~~~~~~~~~~~~~\n",
      "Processing case RCEC1_202401\n",
      "2024-10-02 14:50:31,298 - INFO - RCEC1_202401 HRRR.time time array increments are 1.0 hours\n",
      "~~~~~~~~~~~~~~~~~~~~~~~~~~~~~~~~~~~~~~~~~~~~~~~~~~\n",
      "Processing case SHVC1_202401\n",
      "2024-10-02 14:50:31,306 - INFO - SHVC1_202401 HRRR.time time array increments are 1.0 hours\n",
      "~~~~~~~~~~~~~~~~~~~~~~~~~~~~~~~~~~~~~~~~~~~~~~~~~~\n",
      "Processing case TRMC1_202401\n",
      "2024-10-02 14:50:31,314 - INFO - TRMC1_202401 HRRR.time time array increments are 1.0 hours\n",
      "~~~~~~~~~~~~~~~~~~~~~~~~~~~~~~~~~~~~~~~~~~~~~~~~~~\n",
      "Processing case MIAC1_202401\n",
      "2024-10-02 14:50:31,323 - INFO - MIAC1_202401 HRRR.time time array increments are 1.0 hours\n",
      "~~~~~~~~~~~~~~~~~~~~~~~~~~~~~~~~~~~~~~~~~~~~~~~~~~\n",
      "Processing case HSQC1_202401\n",
      "2024-10-02 14:50:31,333 - INFO - HSQC1_202401 HRRR.time time array increments are 1.0 hours\n",
      "~~~~~~~~~~~~~~~~~~~~~~~~~~~~~~~~~~~~~~~~~~~~~~~~~~\n",
      "Processing case MOLC1_202401\n",
      "2024-10-02 14:50:31,340 - INFO - MOLC1_202401 HRRR.time time array increments are 1.0 hours\n",
      "~~~~~~~~~~~~~~~~~~~~~~~~~~~~~~~~~~~~~~~~~~~~~~~~~~\n",
      "Processing case DEMC1_202401\n",
      "2024-10-02 14:50:31,351 - INFO - DEMC1_202401 HRRR.time time array increments are 1.0 hours\n",
      "~~~~~~~~~~~~~~~~~~~~~~~~~~~~~~~~~~~~~~~~~~~~~~~~~~\n",
      "Processing case DWRN2_202401\n",
      "2024-10-02 14:50:31,359 - INFO - DWRN2_202401 HRRR.time time array increments are 1.0 hours\n",
      "~~~~~~~~~~~~~~~~~~~~~~~~~~~~~~~~~~~~~~~~~~~~~~~~~~\n",
      "Processing case JSDC1_202401\n",
      "2024-10-02 14:50:31,366 - INFO - JSDC1_202401 HRRR.time time array increments are 1.0 hours\n",
      "~~~~~~~~~~~~~~~~~~~~~~~~~~~~~~~~~~~~~~~~~~~~~~~~~~\n",
      "Processing case BPOC1_202401\n",
      "2024-10-02 14:50:31,374 - INFO - BPOC1_202401 HRRR.time time array increments are 1.0 hours\n",
      "~~~~~~~~~~~~~~~~~~~~~~~~~~~~~~~~~~~~~~~~~~~~~~~~~~\n",
      "Processing case GALN2_202401\n",
      "2024-10-02 14:50:31,383 - INFO - GALN2_202401 HRRR.time time array increments are 1.0 hours\n",
      "~~~~~~~~~~~~~~~~~~~~~~~~~~~~~~~~~~~~~~~~~~~~~~~~~~\n",
      "Processing case BKGC1_202401\n",
      "2024-10-02 14:50:31,391 - INFO - BKGC1_202401 HRRR.time time array increments are 1.0 hours\n",
      "~~~~~~~~~~~~~~~~~~~~~~~~~~~~~~~~~~~~~~~~~~~~~~~~~~\n",
      "Processing case YCGN2_202401\n",
      "2024-10-02 14:50:31,399 - INFO - YCGN2_202401 HRRR.time time array increments are 1.0 hours\n",
      "~~~~~~~~~~~~~~~~~~~~~~~~~~~~~~~~~~~~~~~~~~~~~~~~~~\n",
      "Processing case PIVC1_202401\n",
      "2024-10-02 14:50:31,407 - INFO - PIVC1_202401 HRRR.time time array increments are 1.0 hours\n",
      "~~~~~~~~~~~~~~~~~~~~~~~~~~~~~~~~~~~~~~~~~~~~~~~~~~\n",
      "Processing case TS566_202401\n",
      "2024-10-02 14:50:31,415 - INFO - TS566_202401 HRRR.time time array increments are 1.0 hours\n",
      "~~~~~~~~~~~~~~~~~~~~~~~~~~~~~~~~~~~~~~~~~~~~~~~~~~\n",
      "Processing case TSHC1_202401\n",
      "2024-10-02 14:50:31,421 - INFO - TSHC1_202401 HRRR.time time array increments are 1.0 hours\n",
      "~~~~~~~~~~~~~~~~~~~~~~~~~~~~~~~~~~~~~~~~~~~~~~~~~~\n",
      "Processing case PEPC1_202401\n",
      "2024-10-02 14:50:31,425 - INFO - PEPC1_202401 HRRR.time time array increments are 1.0 hours\n",
      "~~~~~~~~~~~~~~~~~~~~~~~~~~~~~~~~~~~~~~~~~~~~~~~~~~\n",
      "Processing case EPWC1_202401\n",
      "2024-10-02 14:50:31,440 - INFO - EPWC1_202401 HRRR.time time array increments are 1.0 hours\n",
      "~~~~~~~~~~~~~~~~~~~~~~~~~~~~~~~~~~~~~~~~~~~~~~~~~~\n",
      "Processing case WWNC1_202401\n",
      "2024-10-02 14:50:31,455 - INFO - WWNC1_202401 HRRR.time time array increments are 1.0 hours\n",
      "~~~~~~~~~~~~~~~~~~~~~~~~~~~~~~~~~~~~~~~~~~~~~~~~~~\n",
      "Processing case TMNC1_202401\n",
      "2024-10-02 14:50:31,461 - INFO - TMNC1_202401 HRRR.time time array increments are 1.0 hours\n",
      "~~~~~~~~~~~~~~~~~~~~~~~~~~~~~~~~~~~~~~~~~~~~~~~~~~\n",
      "Processing case DEXC1_202401\n",
      "2024-10-02 14:50:31,471 - INFO - DEXC1_202401 HRRR.time time array increments are 1.0 hours\n",
      "~~~~~~~~~~~~~~~~~~~~~~~~~~~~~~~~~~~~~~~~~~~~~~~~~~\n",
      "Processing case TWMC1_202401\n",
      "2024-10-02 14:50:31,478 - INFO - TWMC1_202401 HRRR.time time array increments are 1.0 hours\n",
      "~~~~~~~~~~~~~~~~~~~~~~~~~~~~~~~~~~~~~~~~~~~~~~~~~~\n",
      "Processing case WOCC1_202401\n",
      "2024-10-02 14:50:31,486 - INFO - WOCC1_202401 HRRR.time time array increments are 1.0 hours\n",
      "~~~~~~~~~~~~~~~~~~~~~~~~~~~~~~~~~~~~~~~~~~~~~~~~~~\n",
      "Processing case KNXN2_202401\n",
      "2024-10-02 14:50:31,494 - INFO - KNXN2_202401 HRRR.time time array increments are 1.0 hours\n",
      "~~~~~~~~~~~~~~~~~~~~~~~~~~~~~~~~~~~~~~~~~~~~~~~~~~\n",
      "Processing case YNWC1_202401\n",
      "2024-10-02 14:50:31,502 - INFO - YNWC1_202401 HRRR.time time array increments are 1.0 hours\n",
      "~~~~~~~~~~~~~~~~~~~~~~~~~~~~~~~~~~~~~~~~~~~~~~~~~~\n",
      "Processing case SKYN2_202401\n",
      "2024-10-02 14:50:31,511 - INFO - SKYN2_202401 HRRR.time time array increments are 1.0 hours\n",
      "~~~~~~~~~~~~~~~~~~~~~~~~~~~~~~~~~~~~~~~~~~~~~~~~~~\n",
      "Processing case TT336_202401\n",
      "2024-10-02 14:50:31,519 - INFO - TT336_202401 HRRR.time time array increments are 1.0 hours\n",
      "~~~~~~~~~~~~~~~~~~~~~~~~~~~~~~~~~~~~~~~~~~~~~~~~~~\n",
      "Processing case MNMC1_202401\n",
      "2024-10-02 14:50:31,526 - INFO - MNMC1_202401 HRRR.time time array increments are 1.0 hours\n",
      "~~~~~~~~~~~~~~~~~~~~~~~~~~~~~~~~~~~~~~~~~~~~~~~~~~\n",
      "Processing case LIB03_202401\n",
      "2024-10-02 14:50:31,536 - INFO - LIB03_202401 HRRR.time time array increments are 1.0 hours\n",
      "~~~~~~~~~~~~~~~~~~~~~~~~~~~~~~~~~~~~~~~~~~~~~~~~~~\n",
      "Processing case LIB05_202401\n",
      "2024-10-02 14:50:31,555 - INFO - LIB05_202401 HRRR.time time array increments are 1.0 hours\n",
      "~~~~~~~~~~~~~~~~~~~~~~~~~~~~~~~~~~~~~~~~~~~~~~~~~~\n",
      "Processing case LIB06_202401\n",
      "2024-10-02 14:50:31,574 - INFO - LIB06_202401 HRRR.time time array increments are 1.0 hours\n",
      "~~~~~~~~~~~~~~~~~~~~~~~~~~~~~~~~~~~~~~~~~~~~~~~~~~\n",
      "Processing case TT625_202401\n",
      "2024-10-02 14:50:31,592 - INFO - TT625_202401 HRRR.time time array increments are 1.0 hours\n",
      "~~~~~~~~~~~~~~~~~~~~~~~~~~~~~~~~~~~~~~~~~~~~~~~~~~\n",
      "Processing case NV001_202401\n",
      "2024-10-02 14:50:31,599 - INFO - NV001_202401 HRRR.time time array increments are 1.0 hours\n",
      "~~~~~~~~~~~~~~~~~~~~~~~~~~~~~~~~~~~~~~~~~~~~~~~~~~\n",
      "Processing case NV003_202401\n",
      "2024-10-02 14:50:31,617 - INFO - NV003_202401 HRRR.time time array increments are 1.0 hours\n",
      "~~~~~~~~~~~~~~~~~~~~~~~~~~~~~~~~~~~~~~~~~~~~~~~~~~\n",
      "Processing case NV004_202401\n",
      "2024-10-02 14:50:31,636 - INFO - NV004_202401 HRRR.time time array increments are 1.0 hours\n",
      "~~~~~~~~~~~~~~~~~~~~~~~~~~~~~~~~~~~~~~~~~~~~~~~~~~\n",
      "Processing case NV005_202401\n",
      "2024-10-02 14:50:31,654 - INFO - NV005_202401 HRRR.time time array increments are 1.0 hours\n",
      "~~~~~~~~~~~~~~~~~~~~~~~~~~~~~~~~~~~~~~~~~~~~~~~~~~\n",
      "Processing case NV006_202401\n",
      "2024-10-02 14:50:31,669 - INFO - NV006_202401 HRRR.time time array increments are 1.0 hours\n",
      "~~~~~~~~~~~~~~~~~~~~~~~~~~~~~~~~~~~~~~~~~~~~~~~~~~\n",
      "Processing case NV011_202401\n",
      "2024-10-02 14:50:31,690 - INFO - NV011_202401 HRRR.time time array increments are 1.0 hours\n",
      "~~~~~~~~~~~~~~~~~~~~~~~~~~~~~~~~~~~~~~~~~~~~~~~~~~\n",
      "Processing case NV019_202401\n",
      "2024-10-02 14:50:31,708 - INFO - NV019_202401 HRRR.time time array increments are 1.0 hours\n",
      "~~~~~~~~~~~~~~~~~~~~~~~~~~~~~~~~~~~~~~~~~~~~~~~~~~\n",
      "Processing case NV020_202401\n",
      "2024-10-02 14:50:31,727 - INFO - NV020_202401 HRRR.time time array increments are 1.0 hours\n",
      "~~~~~~~~~~~~~~~~~~~~~~~~~~~~~~~~~~~~~~~~~~~~~~~~~~\n",
      "Processing case NV021_202401\n",
      "2024-10-02 14:50:31,746 - INFO - NV021_202401 HRRR.time time array increments are 1.0 hours\n",
      "~~~~~~~~~~~~~~~~~~~~~~~~~~~~~~~~~~~~~~~~~~~~~~~~~~\n",
      "Processing case NV022_202401\n",
      "2024-10-02 14:50:31,752 - INFO - NV022_202401 HRRR.time time array increments are 1.0 hours\n",
      "~~~~~~~~~~~~~~~~~~~~~~~~~~~~~~~~~~~~~~~~~~~~~~~~~~\n",
      "Processing case NV023_202401\n",
      "2024-10-02 14:50:31,783 - INFO - NV023_202401 HRRR.time time array increments are 1.0 hours\n",
      "~~~~~~~~~~~~~~~~~~~~~~~~~~~~~~~~~~~~~~~~~~~~~~~~~~\n",
      "Processing case NV024_202401\n",
      "2024-10-02 14:50:31,790 - INFO - NV024_202401 HRRR.time time array increments are 1.0 hours\n",
      "~~~~~~~~~~~~~~~~~~~~~~~~~~~~~~~~~~~~~~~~~~~~~~~~~~\n",
      "Processing case NV026_202401\n",
      "2024-10-02 14:50:31,812 - INFO - NV026_202401 HRRR.time time array increments are 1.0 hours\n",
      "~~~~~~~~~~~~~~~~~~~~~~~~~~~~~~~~~~~~~~~~~~~~~~~~~~\n",
      "Processing case NV027_202401\n",
      "2024-10-02 14:50:31,833 - INFO - NV027_202401 HRRR.time time array increments are 1.0 hours\n",
      "~~~~~~~~~~~~~~~~~~~~~~~~~~~~~~~~~~~~~~~~~~~~~~~~~~\n",
      "Processing case TT646_202401\n",
      "2024-10-02 14:50:31,850 - INFO - TT646_202401 HRRR.time time array increments are 1.0 hours\n",
      "~~~~~~~~~~~~~~~~~~~~~~~~~~~~~~~~~~~~~~~~~~~~~~~~~~\n",
      "Processing case LIB19_202401\n",
      "2024-10-02 14:50:31,851 - INFO - LIB19_202401 HRRR.time time array increments are 1.0 hours\n",
      "~~~~~~~~~~~~~~~~~~~~~~~~~~~~~~~~~~~~~~~~~~~~~~~~~~\n",
      "Processing case LIB26_202401\n",
      "2024-10-02 14:50:31,874 - INFO - LIB26_202401 HRRR.time time array increments are 1.0 hours\n",
      "~~~~~~~~~~~~~~~~~~~~~~~~~~~~~~~~~~~~~~~~~~~~~~~~~~\n",
      "Processing case NV031_202401\n",
      "2024-10-02 14:50:31,893 - INFO - NV031_202401 HRRR.time time array increments are 1.0 hours\n",
      "~~~~~~~~~~~~~~~~~~~~~~~~~~~~~~~~~~~~~~~~~~~~~~~~~~\n",
      "Processing case NV032_202401\n",
      "2024-10-02 14:50:31,911 - INFO - NV032_202401 HRRR.time time array increments are 1.0 hours\n",
      "~~~~~~~~~~~~~~~~~~~~~~~~~~~~~~~~~~~~~~~~~~~~~~~~~~\n",
      "Processing case NV033_202401\n",
      "2024-10-02 14:50:31,928 - INFO - NV033_202401 HRRR.time time array increments are 1.0 hours\n",
      "~~~~~~~~~~~~~~~~~~~~~~~~~~~~~~~~~~~~~~~~~~~~~~~~~~\n",
      "Processing case NV034_202401\n",
      "2024-10-02 14:50:31,944 - INFO - NV034_202401 HRRR.time time array increments are 1.0 hours\n",
      "~~~~~~~~~~~~~~~~~~~~~~~~~~~~~~~~~~~~~~~~~~~~~~~~~~\n",
      "Processing case NV038_202401\n",
      "2024-10-02 14:50:31,965 - INFO - NV038_202401 HRRR.time time array increments are 1.0 hours\n",
      "~~~~~~~~~~~~~~~~~~~~~~~~~~~~~~~~~~~~~~~~~~~~~~~~~~\n",
      "Processing case NV039_202401\n",
      "2024-10-02 14:50:31,985 - INFO - NV039_202401 HRRR.time time array increments are 1.0 hours\n",
      "~~~~~~~~~~~~~~~~~~~~~~~~~~~~~~~~~~~~~~~~~~~~~~~~~~\n",
      "Processing case NV040_202401\n",
      "2024-10-02 14:50:32,003 - INFO - NV040_202401 HRRR.time time array increments are 1.0 hours\n",
      "~~~~~~~~~~~~~~~~~~~~~~~~~~~~~~~~~~~~~~~~~~~~~~~~~~\n",
      "Processing case NV041_202401\n",
      "2024-10-02 14:50:32,012 - INFO - NV041_202401 HRRR.time time array increments are 1.0 hours\n",
      "~~~~~~~~~~~~~~~~~~~~~~~~~~~~~~~~~~~~~~~~~~~~~~~~~~\n",
      "Processing case XMPC1_202401\n",
      "2024-10-02 14:50:32,023 - INFO - XMPC1_202401 HRRR.time time array increments are 1.0 hours\n",
      "~~~~~~~~~~~~~~~~~~~~~~~~~~~~~~~~~~~~~~~~~~~~~~~~~~\n",
      "Processing case XMLC1_202401\n",
      "2024-10-02 14:50:32,038 - INFO - XMLC1_202401 HRRR.time time array increments are 1.0 hours\n",
      "~~~~~~~~~~~~~~~~~~~~~~~~~~~~~~~~~~~~~~~~~~~~~~~~~~\n",
      "Processing case NV051_202401\n",
      "2024-10-02 14:50:32,047 - INFO - NV051_202401 HRRR.time time array increments are 1.0 hours\n",
      "~~~~~~~~~~~~~~~~~~~~~~~~~~~~~~~~~~~~~~~~~~~~~~~~~~\n",
      "Processing case NV052_202401\n",
      "2024-10-02 14:50:32,063 - INFO - NV052_202401 HRRR.time time array increments are 1.0 hours\n",
      "~~~~~~~~~~~~~~~~~~~~~~~~~~~~~~~~~~~~~~~~~~~~~~~~~~\n",
      "Processing case NV053_202401\n",
      "2024-10-02 14:50:32,082 - INFO - NV053_202401 HRRR.time time array increments are 1.0 hours\n",
      "~~~~~~~~~~~~~~~~~~~~~~~~~~~~~~~~~~~~~~~~~~~~~~~~~~\n",
      "Processing case NV054_202401\n",
      "2024-10-02 14:50:32,102 - INFO - NV054_202401 HRRR.time time array increments are 1.0 hours\n",
      "~~~~~~~~~~~~~~~~~~~~~~~~~~~~~~~~~~~~~~~~~~~~~~~~~~\n",
      "Processing case NV055_202401\n",
      "2024-10-02 14:50:32,122 - INFO - NV055_202401 HRRR.time time array increments are 1.0 hours\n",
      "~~~~~~~~~~~~~~~~~~~~~~~~~~~~~~~~~~~~~~~~~~~~~~~~~~\n",
      "Processing case NV058_202401\n",
      "2024-10-02 14:50:32,141 - INFO - NV058_202401 HRRR.time time array increments are 1.0 hours\n",
      "~~~~~~~~~~~~~~~~~~~~~~~~~~~~~~~~~~~~~~~~~~~~~~~~~~\n",
      "Processing case NV059_202401\n",
      "2024-10-02 14:50:32,160 - INFO - NV059_202401 HRRR.time time array increments are 1.0 hours\n",
      "~~~~~~~~~~~~~~~~~~~~~~~~~~~~~~~~~~~~~~~~~~~~~~~~~~\n",
      "Processing case NV060_202401\n",
      "2024-10-02 14:50:32,180 - INFO - NV060_202401 HRRR.time time array increments are 1.0 hours\n",
      "~~~~~~~~~~~~~~~~~~~~~~~~~~~~~~~~~~~~~~~~~~~~~~~~~~\n",
      "Processing case NV061_202401\n",
      "2024-10-02 14:50:32,198 - INFO - NV061_202401 HRRR.time time array increments are 1.0 hours\n",
      "~~~~~~~~~~~~~~~~~~~~~~~~~~~~~~~~~~~~~~~~~~~~~~~~~~\n",
      "Processing case NV062_202401\n",
      "2024-10-02 14:50:32,217 - INFO - NV062_202401 HRRR.time time array increments are 1.0 hours\n",
      "~~~~~~~~~~~~~~~~~~~~~~~~~~~~~~~~~~~~~~~~~~~~~~~~~~\n",
      "Processing case NV063_202401\n",
      "2024-10-02 14:50:32,236 - INFO - NV063_202401 HRRR.time time array increments are 1.0 hours\n",
      "~~~~~~~~~~~~~~~~~~~~~~~~~~~~~~~~~~~~~~~~~~~~~~~~~~\n",
      "Processing case NV064_202401\n",
      "2024-10-02 14:50:32,251 - INFO - NV064_202401 HRRR.time time array increments are 1.0 hours\n",
      "~~~~~~~~~~~~~~~~~~~~~~~~~~~~~~~~~~~~~~~~~~~~~~~~~~\n",
      "Processing case NV065_202401\n",
      "2024-10-02 14:50:32,273 - INFO - NV065_202401 HRRR.time time array increments are 1.0 hours\n",
      "~~~~~~~~~~~~~~~~~~~~~~~~~~~~~~~~~~~~~~~~~~~~~~~~~~\n",
      "Processing case NV066_202401\n",
      "2024-10-02 14:50:32,291 - INFO - NV066_202401 HRRR.time time array increments are 1.0 hours\n",
      "~~~~~~~~~~~~~~~~~~~~~~~~~~~~~~~~~~~~~~~~~~~~~~~~~~\n",
      "Processing case NV067_202401\n",
      "2024-10-02 14:50:32,309 - INFO - NV067_202401 HRRR.time time array increments are 1.0 hours\n",
      "~~~~~~~~~~~~~~~~~~~~~~~~~~~~~~~~~~~~~~~~~~~~~~~~~~\n",
      "Processing case TT753_202401\n",
      "2024-10-02 14:50:32,327 - INFO - TT753_202401 HRRR.time time array increments are 1.0 hours\n",
      "~~~~~~~~~~~~~~~~~~~~~~~~~~~~~~~~~~~~~~~~~~~~~~~~~~\n",
      "Processing case LIB31_202401\n",
      "2024-10-02 14:50:32,336 - INFO - LIB31_202401 HRRR.time time array increments are 1.0 hours\n",
      "loading file data/test_NW_202401.pkl\n",
      "~~~~~~~~~~~~~~~~~~~~~~~~~~~~~~~~~~~~~~~~~~~~~~~~~~\n",
      "Processing case LGFO3_202401\n",
      "2024-10-02 14:50:32,556 - INFO - LGFO3_202401 HRRR.time time array increments are 1.0 hours\n",
      "~~~~~~~~~~~~~~~~~~~~~~~~~~~~~~~~~~~~~~~~~~~~~~~~~~\n",
      "Processing case PYFO3_202401\n",
      "2024-10-02 14:50:32,562 - INFO - PYFO3_202401 HRRR.time time array increments are 1.0 hours\n",
      "~~~~~~~~~~~~~~~~~~~~~~~~~~~~~~~~~~~~~~~~~~~~~~~~~~\n",
      "Processing case RXFO3_202401\n",
      "2024-10-02 14:50:32,571 - INFO - RXFO3_202401 HRRR.time time array increments are 1.0 hours\n",
      "~~~~~~~~~~~~~~~~~~~~~~~~~~~~~~~~~~~~~~~~~~~~~~~~~~\n",
      "Processing case WMFO3_202401\n",
      "2024-10-02 14:50:32,580 - INFO - WMFO3_202401 HRRR.time time array increments are 1.0 hours\n",
      "~~~~~~~~~~~~~~~~~~~~~~~~~~~~~~~~~~~~~~~~~~~~~~~~~~\n",
      "Processing case CMFW1_202401\n",
      "2024-10-02 14:50:32,589 - INFO - CMFW1_202401 HRRR.time time array increments are 1.0 hours\n",
      "~~~~~~~~~~~~~~~~~~~~~~~~~~~~~~~~~~~~~~~~~~~~~~~~~~\n",
      "Processing case CYFW1_202401\n",
      "2024-10-02 14:50:32,597 - INFO - CYFW1_202401 HRRR.time time array increments are 1.0 hours\n",
      "~~~~~~~~~~~~~~~~~~~~~~~~~~~~~~~~~~~~~~~~~~~~~~~~~~\n",
      "Processing case CGFW1_202401\n",
      "2024-10-02 14:50:32,603 - INFO - CGFW1_202401 HRRR.time time array increments are 1.0 hours\n",
      "~~~~~~~~~~~~~~~~~~~~~~~~~~~~~~~~~~~~~~~~~~~~~~~~~~\n",
      "Processing case DIFW1_202401\n",
      "2024-10-02 14:50:32,607 - INFO - DIFW1_202401 HRRR.time time array increments are 1.0 hours\n",
      "~~~~~~~~~~~~~~~~~~~~~~~~~~~~~~~~~~~~~~~~~~~~~~~~~~\n",
      "Processing case DRYW1_202401\n",
      "2024-10-02 14:50:32,620 - INFO - DRYW1_202401 HRRR.time time array increments are 1.0 hours\n",
      "~~~~~~~~~~~~~~~~~~~~~~~~~~~~~~~~~~~~~~~~~~~~~~~~~~\n",
      "Processing case FIFW1_202401\n",
      "2024-10-02 14:50:32,628 - INFO - FIFW1_202401 HRRR.time time array increments are 1.0 hours\n",
      "~~~~~~~~~~~~~~~~~~~~~~~~~~~~~~~~~~~~~~~~~~~~~~~~~~\n",
      "Processing case FBFW1_202401\n",
      "2024-10-02 14:50:32,636 - INFO - FBFW1_202401 HRRR.time time array increments are 1.0 hours\n",
      "~~~~~~~~~~~~~~~~~~~~~~~~~~~~~~~~~~~~~~~~~~~~~~~~~~\n",
      "Processing case GHFW1_202401\n",
      "2024-10-02 14:50:32,645 - INFO - GHFW1_202401 HRRR.time time array increments are 1.0 hours\n",
      "~~~~~~~~~~~~~~~~~~~~~~~~~~~~~~~~~~~~~~~~~~~~~~~~~~\n",
      "Processing case HGFW1_202401\n",
      "2024-10-02 14:50:32,653 - INFO - HGFW1_202401 HRRR.time time array increments are 1.0 hours\n",
      "~~~~~~~~~~~~~~~~~~~~~~~~~~~~~~~~~~~~~~~~~~~~~~~~~~\n",
      "Processing case JEFW1_202401\n",
      "2024-10-02 14:50:32,656 - INFO - JEFW1_202401 HRRR.time time array increments are 1.0 hours\n",
      "~~~~~~~~~~~~~~~~~~~~~~~~~~~~~~~~~~~~~~~~~~~~~~~~~~\n",
      "Processing case SKKW1_202401\n",
      "2024-10-02 14:50:32,672 - INFO - SKKW1_202401 HRRR.time time array increments are 1.0 hours\n",
      "~~~~~~~~~~~~~~~~~~~~~~~~~~~~~~~~~~~~~~~~~~~~~~~~~~\n",
      "Processing case KCFW1_202401\n",
      "2024-10-02 14:50:32,680 - INFO - KCFW1_202401 HRRR.time time array increments are 1.0 hours\n",
      "~~~~~~~~~~~~~~~~~~~~~~~~~~~~~~~~~~~~~~~~~~~~~~~~~~\n",
      "Processing case LEFW1_202401\n",
      "2024-10-02 14:50:32,687 - INFO - LEFW1_202401 HRRR.time time array increments are 1.0 hours\n",
      "~~~~~~~~~~~~~~~~~~~~~~~~~~~~~~~~~~~~~~~~~~~~~~~~~~\n",
      "Processing case LSFW1_202401\n",
      "2024-10-02 14:50:32,694 - INFO - LSFW1_202401 HRRR.time time array increments are 1.0 hours\n",
      "~~~~~~~~~~~~~~~~~~~~~~~~~~~~~~~~~~~~~~~~~~~~~~~~~~\n",
      "Processing case NCSW1_202401\n",
      "2024-10-02 14:50:32,702 - INFO - NCSW1_202401 HRRR.time time array increments are 1.0 hours\n",
      "~~~~~~~~~~~~~~~~~~~~~~~~~~~~~~~~~~~~~~~~~~~~~~~~~~\n",
      "Processing case OCFW1_202401\n",
      "2024-10-02 14:50:32,710 - INFO - OCFW1_202401 HRRR.time time array increments are 1.0 hours\n",
      "~~~~~~~~~~~~~~~~~~~~~~~~~~~~~~~~~~~~~~~~~~~~~~~~~~\n",
      "Processing case QCNW1_202401\n",
      "2024-10-02 14:50:32,717 - INFO - QCNW1_202401 HRRR.time time array increments are 1.0 hours\n",
      "~~~~~~~~~~~~~~~~~~~~~~~~~~~~~~~~~~~~~~~~~~~~~~~~~~\n",
      "Processing case MEFW1_202401\n",
      "2024-10-02 14:50:32,725 - INFO - MEFW1_202401 HRRR.time time array increments are 1.0 hours\n",
      "~~~~~~~~~~~~~~~~~~~~~~~~~~~~~~~~~~~~~~~~~~~~~~~~~~\n",
      "Processing case FWFW1_202401\n",
      "2024-10-02 14:50:32,728 - INFO - FWFW1_202401 HRRR.time time array increments are 1.0 hours\n",
      "~~~~~~~~~~~~~~~~~~~~~~~~~~~~~~~~~~~~~~~~~~~~~~~~~~\n",
      "Processing case FTAW1_202401\n",
      "2024-10-02 14:50:32,740 - INFO - FTAW1_202401 HRRR.time time array increments are 1.0 hours\n",
      "~~~~~~~~~~~~~~~~~~~~~~~~~~~~~~~~~~~~~~~~~~~~~~~~~~\n",
      "Processing case BKRW1_202401\n",
      "2024-10-02 14:50:32,748 - INFO - BKRW1_202401 HRRR.time time array increments are 1.0 hours\n",
      "~~~~~~~~~~~~~~~~~~~~~~~~~~~~~~~~~~~~~~~~~~~~~~~~~~\n",
      "Processing case VPFW1_202401\n",
      "2024-10-02 14:50:32,755 - INFO - VPFW1_202401 HRRR.time time array increments are 1.0 hours\n",
      "~~~~~~~~~~~~~~~~~~~~~~~~~~~~~~~~~~~~~~~~~~~~~~~~~~\n",
      "Processing case WPKO3_202401\n",
      "2024-10-02 14:50:32,765 - INFO - WPKO3_202401 HRRR.time time array increments are 1.0 hours\n",
      "~~~~~~~~~~~~~~~~~~~~~~~~~~~~~~~~~~~~~~~~~~~~~~~~~~\n",
      "Processing case STRW1_202401\n",
      "2024-10-02 14:50:32,773 - INFO - STRW1_202401 HRRR.time time array increments are 1.0 hours\n",
      "~~~~~~~~~~~~~~~~~~~~~~~~~~~~~~~~~~~~~~~~~~~~~~~~~~\n",
      "Processing case TOFW1_202401\n",
      "2024-10-02 14:50:32,780 - INFO - TOFW1_202401 HRRR.time time array increments are 1.0 hours\n",
      "~~~~~~~~~~~~~~~~~~~~~~~~~~~~~~~~~~~~~~~~~~~~~~~~~~\n",
      "Processing case DCCW1_202401\n",
      "2024-10-02 14:50:32,788 - INFO - DCCW1_202401 HRRR.time time array increments are 1.0 hours\n",
      "~~~~~~~~~~~~~~~~~~~~~~~~~~~~~~~~~~~~~~~~~~~~~~~~~~\n",
      "Processing case OHAW1_202401\n",
      "2024-10-02 14:50:32,792 - INFO - OHAW1_202401 HRRR.time time array increments are 1.0 hours\n",
      "~~~~~~~~~~~~~~~~~~~~~~~~~~~~~~~~~~~~~~~~~~~~~~~~~~\n",
      "Processing case EGKO3_202401\n",
      "2024-10-02 14:50:32,805 - INFO - EGKO3_202401 HRRR.time time array increments are 1.0 hours\n",
      "~~~~~~~~~~~~~~~~~~~~~~~~~~~~~~~~~~~~~~~~~~~~~~~~~~\n",
      "Processing case MMRO3_202401\n",
      "2024-10-02 14:50:32,813 - INFO - MMRO3_202401 HRRR.time time array increments are 1.0 hours\n",
      "~~~~~~~~~~~~~~~~~~~~~~~~~~~~~~~~~~~~~~~~~~~~~~~~~~\n",
      "Processing case MLLO3_202401\n",
      "2024-10-02 14:50:32,821 - INFO - MLLO3_202401 HRRR.time time array increments are 1.0 hours\n",
      "~~~~~~~~~~~~~~~~~~~~~~~~~~~~~~~~~~~~~~~~~~~~~~~~~~\n",
      "Processing case TWRO3_202401\n",
      "2024-10-02 14:50:32,829 - INFO - TWRO3_202401 HRRR.time time array increments are 1.0 hours\n",
      "~~~~~~~~~~~~~~~~~~~~~~~~~~~~~~~~~~~~~~~~~~~~~~~~~~\n",
      "Processing case SFKO3_202401\n",
      "2024-10-02 14:50:32,837 - INFO - SFKO3_202401 HRRR.time time array increments are 1.0 hours\n",
      "~~~~~~~~~~~~~~~~~~~~~~~~~~~~~~~~~~~~~~~~~~~~~~~~~~\n",
      "Processing case TMKO3_202401\n",
      "2024-10-02 14:50:32,846 - INFO - TMKO3_202401 HRRR.time time array increments are 1.0 hours\n",
      "~~~~~~~~~~~~~~~~~~~~~~~~~~~~~~~~~~~~~~~~~~~~~~~~~~\n",
      "Processing case WSBO3_202401\n",
      "2024-10-02 14:50:32,853 - INFO - WSBO3_202401 HRRR.time time array increments are 1.0 hours\n",
      "~~~~~~~~~~~~~~~~~~~~~~~~~~~~~~~~~~~~~~~~~~~~~~~~~~\n",
      "Processing case YTCW1_202401\n",
      "2024-10-02 14:50:32,862 - INFO - YTCW1_202401 HRRR.time time array increments are 1.0 hours\n",
      "~~~~~~~~~~~~~~~~~~~~~~~~~~~~~~~~~~~~~~~~~~~~~~~~~~\n",
      "Processing case TT246_202401\n",
      "2024-10-02 14:50:32,871 - INFO - TT246_202401 HRRR.time time array increments are 1.0 hours\n",
      "~~~~~~~~~~~~~~~~~~~~~~~~~~~~~~~~~~~~~~~~~~~~~~~~~~\n",
      "Processing case RDSPN_202401\n",
      "2024-10-02 14:50:32,877 - INFO - RDSPN_202401 HRRR.time time array increments are 1.0 hours\n",
      "~~~~~~~~~~~~~~~~~~~~~~~~~~~~~~~~~~~~~~~~~~~~~~~~~~\n",
      "Processing case MTOPN_202401\n",
      "2024-10-02 14:50:32,896 - INFO - MTOPN_202401 HRRR.time time array increments are 1.0 hours\n",
      "~~~~~~~~~~~~~~~~~~~~~~~~~~~~~~~~~~~~~~~~~~~~~~~~~~\n",
      "Processing case TT705_202401\n",
      "2024-10-02 14:50:32,914 - INFO - TT705_202401 HRRR.time time array increments are 1.0 hours\n",
      "~~~~~~~~~~~~~~~~~~~~~~~~~~~~~~~~~~~~~~~~~~~~~~~~~~\n",
      "Processing case EACPN_202401\n",
      "2024-10-02 14:50:32,923 - INFO - EACPN_202401 HRRR.time time array increments are 1.0 hours\n",
      "~~~~~~~~~~~~~~~~~~~~~~~~~~~~~~~~~~~~~~~~~~~~~~~~~~\n",
      "Processing case SHRPN_202401\n",
      "2024-10-02 14:50:32,942 - INFO - SHRPN_202401 HRRR.time time array increments are 1.0 hours\n",
      "~~~~~~~~~~~~~~~~~~~~~~~~~~~~~~~~~~~~~~~~~~~~~~~~~~\n",
      "Processing case NPJPN_202401\n",
      "2024-10-02 14:50:32,960 - INFO - NPJPN_202401 HRRR.time time array increments are 1.0 hours\n",
      "~~~~~~~~~~~~~~~~~~~~~~~~~~~~~~~~~~~~~~~~~~~~~~~~~~\n",
      "Processing case NPPPN_202401\n",
      "2024-10-02 14:50:32,977 - INFO - NPPPN_202401 HRRR.time time array increments are 1.0 hours\n",
      "~~~~~~~~~~~~~~~~~~~~~~~~~~~~~~~~~~~~~~~~~~~~~~~~~~\n",
      "Processing case FLZPN_202401\n",
      "2024-10-02 14:50:32,998 - INFO - FLZPN_202401 HRRR.time time array increments are 1.0 hours\n",
      "~~~~~~~~~~~~~~~~~~~~~~~~~~~~~~~~~~~~~~~~~~~~~~~~~~\n",
      "Processing case SPRPN_202401\n",
      "2024-10-02 14:50:33,016 - INFO - SPRPN_202401 HRRR.time time array increments are 1.0 hours\n",
      "~~~~~~~~~~~~~~~~~~~~~~~~~~~~~~~~~~~~~~~~~~~~~~~~~~\n",
      "Processing case HDRPN_202401\n",
      "2024-10-02 14:50:33,033 - INFO - HDRPN_202401 HRRR.time time array increments are 1.0 hours\n",
      "~~~~~~~~~~~~~~~~~~~~~~~~~~~~~~~~~~~~~~~~~~~~~~~~~~\n",
      "Processing case HLVPN_202401\n",
      "2024-10-02 14:50:33,051 - INFO - HLVPN_202401 HRRR.time time array increments are 1.0 hours\n",
      "~~~~~~~~~~~~~~~~~~~~~~~~~~~~~~~~~~~~~~~~~~~~~~~~~~\n",
      "Processing case SKYPN_202401\n",
      "2024-10-02 14:50:33,070 - INFO - SKYPN_202401 HRRR.time time array increments are 1.0 hours\n",
      "~~~~~~~~~~~~~~~~~~~~~~~~~~~~~~~~~~~~~~~~~~~~~~~~~~\n",
      "Processing case ESCPN_202401\n",
      "2024-10-02 14:50:33,087 - INFO - ESCPN_202401 HRRR.time time array increments are 1.0 hours\n",
      "~~~~~~~~~~~~~~~~~~~~~~~~~~~~~~~~~~~~~~~~~~~~~~~~~~\n",
      "Processing case BDRPN_202401\n",
      "2024-10-02 14:50:33,106 - INFO - BDRPN_202401 HRRR.time time array increments are 1.0 hours\n",
      "~~~~~~~~~~~~~~~~~~~~~~~~~~~~~~~~~~~~~~~~~~~~~~~~~~\n",
      "Processing case LARPN_202401\n",
      "2024-10-02 14:50:33,124 - INFO - LARPN_202401 HRRR.time time array increments are 1.0 hours\n",
      "~~~~~~~~~~~~~~~~~~~~~~~~~~~~~~~~~~~~~~~~~~~~~~~~~~\n",
      "Processing case ESBPN_202401\n",
      "2024-10-02 14:50:33,142 - INFO - ESBPN_202401 HRRR.time time array increments are 1.0 hours\n",
      "~~~~~~~~~~~~~~~~~~~~~~~~~~~~~~~~~~~~~~~~~~~~~~~~~~\n",
      "Processing case SCHPN_202401\n",
      "2024-10-02 14:50:33,161 - INFO - SCHPN_202401 HRRR.time time array increments are 1.0 hours\n",
      "~~~~~~~~~~~~~~~~~~~~~~~~~~~~~~~~~~~~~~~~~~~~~~~~~~\n",
      "Processing case ESEPN_202401\n",
      "2024-10-02 14:50:33,179 - INFO - ESEPN_202401 HRRR.time time array increments are 1.0 hours\n",
      "~~~~~~~~~~~~~~~~~~~~~~~~~~~~~~~~~~~~~~~~~~~~~~~~~~\n",
      "Processing case MRTPN_202401\n",
      "2024-10-02 14:50:33,204 - INFO - MRTPN_202401 HRRR.time time array increments are 1.0 hours\n",
      "~~~~~~~~~~~~~~~~~~~~~~~~~~~~~~~~~~~~~~~~~~~~~~~~~~\n",
      "Processing case KELPN_202401\n",
      "2024-10-02 14:50:33,234 - INFO - KELPN_202401 HRRR.time time array increments are 1.0 hours\n",
      "~~~~~~~~~~~~~~~~~~~~~~~~~~~~~~~~~~~~~~~~~~~~~~~~~~\n",
      "Processing case HOWPN_202401\n",
      "2024-10-02 14:50:33,274 - INFO - HOWPN_202401 HRRR.time time array increments are 1.0 hours\n",
      "~~~~~~~~~~~~~~~~~~~~~~~~~~~~~~~~~~~~~~~~~~~~~~~~~~\n",
      "Processing case EVNPN_202401\n",
      "2024-10-02 14:50:33,306 - INFO - EVNPN_202401 HRRR.time time array increments are 1.0 hours\n",
      "~~~~~~~~~~~~~~~~~~~~~~~~~~~~~~~~~~~~~~~~~~~~~~~~~~\n",
      "Processing case FWRPN_202401\n",
      "2024-10-02 14:50:33,338 - INFO - FWRPN_202401 HRRR.time time array increments are 1.0 hours\n",
      "~~~~~~~~~~~~~~~~~~~~~~~~~~~~~~~~~~~~~~~~~~~~~~~~~~\n",
      "Processing case LEEPN_202401\n",
      "2024-10-02 14:50:33,370 - INFO - LEEPN_202401 HRRR.time time array increments are 1.0 hours\n",
      "~~~~~~~~~~~~~~~~~~~~~~~~~~~~~~~~~~~~~~~~~~~~~~~~~~\n",
      "Processing case MTSPN_202401\n",
      "2024-10-02 14:50:33,400 - INFO - MTSPN_202401 HRRR.time time array increments are 1.0 hours\n",
      "~~~~~~~~~~~~~~~~~~~~~~~~~~~~~~~~~~~~~~~~~~~~~~~~~~\n",
      "Processing case GDNPN_202401\n",
      "2024-10-02 14:50:33,432 - INFO - GDNPN_202401 HRRR.time time array increments are 1.0 hours\n",
      "~~~~~~~~~~~~~~~~~~~~~~~~~~~~~~~~~~~~~~~~~~~~~~~~~~\n",
      "Processing case RDGPN_202401\n",
      "2024-10-02 14:50:33,464 - INFO - RDGPN_202401 HRRR.time time array increments are 1.0 hours\n",
      "~~~~~~~~~~~~~~~~~~~~~~~~~~~~~~~~~~~~~~~~~~~~~~~~~~\n",
      "Processing case DCRPN_202401\n",
      "2024-10-02 14:50:33,495 - INFO - DCRPN_202401 HRRR.time time array increments are 1.0 hours\n",
      "~~~~~~~~~~~~~~~~~~~~~~~~~~~~~~~~~~~~~~~~~~~~~~~~~~\n",
      "Processing case MDWPN_202401\n",
      "2024-10-02 14:50:33,520 - INFO - MDWPN_202401 HRRR.time time array increments are 1.0 hours\n",
      "~~~~~~~~~~~~~~~~~~~~~~~~~~~~~~~~~~~~~~~~~~~~~~~~~~\n",
      "Processing case KNRPN_202401\n",
      "2024-10-02 14:50:33,552 - INFO - KNRPN_202401 HRRR.time time array increments are 1.0 hours\n",
      "~~~~~~~~~~~~~~~~~~~~~~~~~~~~~~~~~~~~~~~~~~~~~~~~~~\n",
      "Processing case BMPPN_202401\n",
      "2024-10-02 14:50:33,585 - INFO - BMPPN_202401 HRRR.time time array increments are 1.0 hours\n",
      "~~~~~~~~~~~~~~~~~~~~~~~~~~~~~~~~~~~~~~~~~~~~~~~~~~\n",
      "Processing case PHRPN_202401\n",
      "2024-10-02 14:50:33,609 - INFO - PHRPN_202401 HRRR.time time array increments are 1.0 hours\n",
      "~~~~~~~~~~~~~~~~~~~~~~~~~~~~~~~~~~~~~~~~~~~~~~~~~~\n",
      "Processing case QRDPN_202401\n",
      "2024-10-02 14:50:33,633 - INFO - QRDPN_202401 HRRR.time time array increments are 1.0 hours\n",
      "~~~~~~~~~~~~~~~~~~~~~~~~~~~~~~~~~~~~~~~~~~~~~~~~~~\n",
      "Processing case TRNPN_202401\n",
      "2024-10-02 14:50:33,652 - INFO - TRNPN_202401 HRRR.time time array increments are 1.0 hours\n",
      "~~~~~~~~~~~~~~~~~~~~~~~~~~~~~~~~~~~~~~~~~~~~~~~~~~\n",
      "Processing case SDSPN_202401\n",
      "2024-10-02 14:50:33,670 - INFO - SDSPN_202401 HRRR.time time array increments are 1.0 hours\n",
      "~~~~~~~~~~~~~~~~~~~~~~~~~~~~~~~~~~~~~~~~~~~~~~~~~~\n",
      "Processing case MSNPN_202401\n",
      "2024-10-02 14:50:33,688 - INFO - MSNPN_202401 HRRR.time time array increments are 1.0 hours\n",
      "~~~~~~~~~~~~~~~~~~~~~~~~~~~~~~~~~~~~~~~~~~~~~~~~~~\n",
      "Processing case PTVPN_202401\n",
      "2024-10-02 14:50:33,706 - INFO - PTVPN_202401 HRRR.time time array increments are 1.0 hours\n",
      "~~~~~~~~~~~~~~~~~~~~~~~~~~~~~~~~~~~~~~~~~~~~~~~~~~\n",
      "Processing case GOSPN_202401\n",
      "2024-10-02 14:50:33,727 - INFO - GOSPN_202401 HRRR.time time array increments are 1.0 hours\n",
      "~~~~~~~~~~~~~~~~~~~~~~~~~~~~~~~~~~~~~~~~~~~~~~~~~~\n",
      "Processing case GRNPN_202401\n",
      "2024-10-02 14:50:33,752 - INFO - GRNPN_202401 HRRR.time time array increments are 1.0 hours\n",
      "~~~~~~~~~~~~~~~~~~~~~~~~~~~~~~~~~~~~~~~~~~~~~~~~~~\n",
      "Processing case LTHPN_202401\n",
      "2024-10-02 14:50:33,770 - INFO - LTHPN_202401 HRRR.time time array increments are 1.0 hours\n",
      "~~~~~~~~~~~~~~~~~~~~~~~~~~~~~~~~~~~~~~~~~~~~~~~~~~\n",
      "Processing case ANDPN_202401\n",
      "2024-10-02 14:50:33,794 - INFO - ANDPN_202401 HRRR.time time array increments are 1.0 hours\n",
      "~~~~~~~~~~~~~~~~~~~~~~~~~~~~~~~~~~~~~~~~~~~~~~~~~~\n",
      "Processing case THMPN_202401\n",
      "2024-10-02 14:50:33,814 - INFO - THMPN_202401 HRRR.time time array increments are 1.0 hours\n",
      "~~~~~~~~~~~~~~~~~~~~~~~~~~~~~~~~~~~~~~~~~~~~~~~~~~\n",
      "Processing case O22PN_202401\n",
      "2024-10-02 14:50:33,832 - INFO - O22PN_202401 HRRR.time time array increments are 1.0 hours\n",
      "~~~~~~~~~~~~~~~~~~~~~~~~~~~~~~~~~~~~~~~~~~~~~~~~~~\n",
      "Processing case WLSPN_202401\n",
      "2024-10-02 14:50:33,851 - INFO - WLSPN_202401 HRRR.time time array increments are 1.0 hours\n",
      "~~~~~~~~~~~~~~~~~~~~~~~~~~~~~~~~~~~~~~~~~~~~~~~~~~\n",
      "Processing case TT775_202401\n",
      "2024-10-02 14:50:33,869 - INFO - TT775_202401 HRRR.time time array increments are 1.0 hours\n",
      "~~~~~~~~~~~~~~~~~~~~~~~~~~~~~~~~~~~~~~~~~~~~~~~~~~\n",
      "Processing case OXDPN_202401\n",
      "2024-10-02 14:50:33,876 - INFO - OXDPN_202401 HRRR.time time array increments are 1.0 hours\n",
      "~~~~~~~~~~~~~~~~~~~~~~~~~~~~~~~~~~~~~~~~~~~~~~~~~~\n",
      "Processing case GRUPN_202401\n",
      "2024-10-02 14:50:33,893 - INFO - GRUPN_202401 HRRR.time time array increments are 1.0 hours\n",
      "~~~~~~~~~~~~~~~~~~~~~~~~~~~~~~~~~~~~~~~~~~~~~~~~~~\n",
      "Processing case RAMPN_202401\n",
      "2024-10-02 14:50:33,912 - INFO - RAMPN_202401 HRRR.time time array increments are 1.0 hours\n",
      "~~~~~~~~~~~~~~~~~~~~~~~~~~~~~~~~~~~~~~~~~~~~~~~~~~\n",
      "Processing case HILPN_202401\n",
      "2024-10-02 14:50:33,932 - INFO - HILPN_202401 HRRR.time time array increments are 1.0 hours\n",
      "~~~~~~~~~~~~~~~~~~~~~~~~~~~~~~~~~~~~~~~~~~~~~~~~~~\n",
      "Processing case SBCPN_202401\n",
      "2024-10-02 14:50:33,952 - INFO - SBCPN_202401 HRRR.time time array increments are 1.0 hours\n",
      "~~~~~~~~~~~~~~~~~~~~~~~~~~~~~~~~~~~~~~~~~~~~~~~~~~\n",
      "Processing case RCRPN_202401\n",
      "2024-10-02 14:50:33,969 - INFO - RCRPN_202401 HRRR.time time array increments are 1.0 hours\n",
      "~~~~~~~~~~~~~~~~~~~~~~~~~~~~~~~~~~~~~~~~~~~~~~~~~~\n",
      "Processing case BLUPN_202401\n",
      "2024-10-02 14:50:33,987 - INFO - BLUPN_202401 HRRR.time time array increments are 1.0 hours\n",
      "~~~~~~~~~~~~~~~~~~~~~~~~~~~~~~~~~~~~~~~~~~~~~~~~~~\n",
      "Processing case LAMPN_202401\n",
      "2024-10-02 14:50:34,007 - INFO - LAMPN_202401 HRRR.time time array increments are 1.0 hours\n",
      "~~~~~~~~~~~~~~~~~~~~~~~~~~~~~~~~~~~~~~~~~~~~~~~~~~\n",
      "Processing case NMRPN_202401\n",
      "2024-10-02 14:50:34,024 - INFO - NMRPN_202401 HRRR.time time array increments are 1.0 hours\n",
      "~~~~~~~~~~~~~~~~~~~~~~~~~~~~~~~~~~~~~~~~~~~~~~~~~~\n",
      "Processing case NWFPN_202401\n",
      "2024-10-02 14:50:34,044 - INFO - NWFPN_202401 HRRR.time time array increments are 1.0 hours\n",
      "~~~~~~~~~~~~~~~~~~~~~~~~~~~~~~~~~~~~~~~~~~~~~~~~~~\n",
      "Processing case SHDPN_202401\n",
      "2024-10-02 14:50:34,062 - INFO - SHDPN_202401 HRRR.time time array increments are 1.0 hours\n",
      "~~~~~~~~~~~~~~~~~~~~~~~~~~~~~~~~~~~~~~~~~~~~~~~~~~\n",
      "Processing case TNCPN_202401\n",
      "2024-10-02 14:50:34,081 - INFO - TNCPN_202401 HRRR.time time array increments are 1.0 hours\n",
      "~~~~~~~~~~~~~~~~~~~~~~~~~~~~~~~~~~~~~~~~~~~~~~~~~~\n",
      "Processing case BATPN_202401\n",
      "2024-10-02 14:50:34,099 - INFO - BATPN_202401 HRRR.time time array increments are 1.0 hours\n",
      "~~~~~~~~~~~~~~~~~~~~~~~~~~~~~~~~~~~~~~~~~~~~~~~~~~\n",
      "Processing case STLPN_202401\n",
      "2024-10-02 14:50:34,117 - INFO - STLPN_202401 HRRR.time time array increments are 1.0 hours\n",
      "~~~~~~~~~~~~~~~~~~~~~~~~~~~~~~~~~~~~~~~~~~~~~~~~~~\n",
      "Processing case RCKPN_202401\n",
      "2024-10-02 14:50:34,129 - INFO - RCKPN_202401 HRRR.time time array increments are 1.0 hours\n",
      "~~~~~~~~~~~~~~~~~~~~~~~~~~~~~~~~~~~~~~~~~~~~~~~~~~\n",
      "Processing case WSNPN_202401\n",
      "2024-10-02 14:50:34,147 - INFO - WSNPN_202401 HRRR.time time array increments are 1.0 hours\n",
      "~~~~~~~~~~~~~~~~~~~~~~~~~~~~~~~~~~~~~~~~~~~~~~~~~~\n",
      "Processing case FSMPN_202401\n",
      "2024-10-02 14:50:34,166 - INFO - FSMPN_202401 HRRR.time time array increments are 1.0 hours\n",
      "~~~~~~~~~~~~~~~~~~~~~~~~~~~~~~~~~~~~~~~~~~~~~~~~~~\n",
      "Processing case ZENPN_202401\n",
      "2024-10-02 14:50:34,184 - INFO - ZENPN_202401 HRRR.time time array increments are 1.0 hours\n",
      "~~~~~~~~~~~~~~~~~~~~~~~~~~~~~~~~~~~~~~~~~~~~~~~~~~\n",
      "Processing case FRGPN_202401\n",
      "2024-10-02 14:50:34,203 - INFO - FRGPN_202401 HRRR.time time array increments are 1.0 hours\n",
      "~~~~~~~~~~~~~~~~~~~~~~~~~~~~~~~~~~~~~~~~~~~~~~~~~~\n",
      "Processing case BPLPN_202401\n",
      "2024-10-02 14:50:34,213 - INFO - BPLPN_202401 HRRR.time time array increments are 1.0 hours\n",
      "~~~~~~~~~~~~~~~~~~~~~~~~~~~~~~~~~~~~~~~~~~~~~~~~~~\n",
      "Processing case BLFPN_202401\n",
      "2024-10-02 14:50:34,230 - INFO - BLFPN_202401 HRRR.time time array increments are 1.0 hours\n",
      "~~~~~~~~~~~~~~~~~~~~~~~~~~~~~~~~~~~~~~~~~~~~~~~~~~\n",
      "Processing case PWLPN_202401\n",
      "2024-10-02 14:50:34,250 - INFO - PWLPN_202401 HRRR.time time array increments are 1.0 hours\n",
      "~~~~~~~~~~~~~~~~~~~~~~~~~~~~~~~~~~~~~~~~~~~~~~~~~~\n",
      "Processing case PVRPN_202401\n",
      "2024-10-02 14:50:34,270 - INFO - PVRPN_202401 HRRR.time time array increments are 1.0 hours\n",
      "~~~~~~~~~~~~~~~~~~~~~~~~~~~~~~~~~~~~~~~~~~~~~~~~~~\n",
      "Processing case WDLPN_202401\n",
      "2024-10-02 14:50:34,288 - INFO - WDLPN_202401 HRRR.time time array increments are 1.0 hours\n",
      "~~~~~~~~~~~~~~~~~~~~~~~~~~~~~~~~~~~~~~~~~~~~~~~~~~\n",
      "Processing case BNSPN_202401\n",
      "2024-10-02 14:50:34,306 - INFO - BNSPN_202401 HRRR.time time array increments are 1.0 hours\n"
     ]
    }
   ],
   "source": [
    "train_test = build_train_dict([\"data/test_CA_202401.pkl\", \"data/test_NW_202401.pkl\"])"
   ]
  },
  {
   "cell_type": "code",
   "execution_count": 123,
   "id": "0c5ec095-f19d-41dc-8186-f01af8a7c5ef",
   "metadata": {},
   "outputs": [
    {
     "data": {
      "text/plain": [
       "dict_keys(['id', 'case', 'filename', 'time', 'X', 'y', 'loc', 'features_list'])"
      ]
     },
     "execution_count": 123,
     "metadata": {},
     "output_type": "execute_result"
    }
   ],
   "source": [
    "train_test.keys()"
   ]
  },
  {
   "cell_type": "code",
   "execution_count": 125,
   "id": "c5952a06-1f3b-40f4-b632-34c9812c3ea4",
   "metadata": {
    "scrolled": true
   },
   "outputs": [
    {
     "data": {
      "text/plain": [
       "(168, 16)"
      ]
     },
     "execution_count": 125,
     "metadata": {},
     "output_type": "execute_result"
    }
   ],
   "source": [
    "train_test.X[1].shape"
   ]
  },
  {
   "cell_type": "code",
   "execution_count": null,
   "id": "34f3ae52-9bb2-469e-9190-990be0cbe57c",
   "metadata": {},
   "outputs": [],
   "source": []
  },
  {
   "cell_type": "markdown",
   "id": "6322f0bc-107d-40a5-96dc-804495085a99",
   "metadata": {
    "jp-MarkdownHeadingCollapsed": true
   },
   "source": [
    "## Test Other ML"
   ]
  },
  {
   "cell_type": "code",
   "execution_count": null,
   "id": "12992b9a-407f-4131-ac61-e1dc338386bf",
   "metadata": {},
   "outputs": [],
   "source": [
    "params = read_yml(\"params.yaml\", subkey='xgb')\n",
    "params"
   ]
  },
  {
   "cell_type": "code",
   "execution_count": null,
   "id": "f214fdf8-bb76-4912-8f8c-5d0c8c1230c2",
   "metadata": {},
   "outputs": [],
   "source": [
    "dat = read_pkl(\"data/train.pkl\")"
   ]
  },
  {
   "cell_type": "code",
   "execution_count": null,
   "id": "888b7805-15f6-4c09-a05b-7aed7d253f6e",
   "metadata": {},
   "outputs": [],
   "source": [
    "cases = [*dat.keys()]"
   ]
  },
  {
   "cell_type": "code",
   "execution_count": null,
   "id": "375055d8-c070-4639-9561-e47d3f21f1f8",
   "metadata": {},
   "outputs": [],
   "source": [
    "rnn_dat = RNNData(dat[cases[10]], params['scaler'], params['features_list'])\n",
    "rnn_dat.train_test_split(\n",
    "    time_fracs = [.8, .1, .1]\n",
    ")\n",
    "rnn_dat.scale_data()"
   ]
  },
  {
   "cell_type": "code",
   "execution_count": null,
   "id": "e79f8dc8-5cf8-4190-b4ff-e640f61bd78b",
   "metadata": {},
   "outputs": [],
   "source": [
    "from moisture_models import XGB, RF, LM"
   ]
  },
  {
   "cell_type": "code",
   "execution_count": null,
   "id": "b3aeb47f-261e-4e29-9eeb-67215e5628f6",
   "metadata": {},
   "outputs": [],
   "source": [
    "mod = XGB(params)"
   ]
  },
  {
   "cell_type": "code",
   "execution_count": null,
   "id": "cae9a20d-1caf-45aa-a9c4-aef21b65d9c8",
   "metadata": {},
   "outputs": [],
   "source": [
    "mod.params"
   ]
  },
  {
   "cell_type": "code",
   "execution_count": null,
   "id": "68a07b25-c586-4fc4-a3d5-c857354e7a2c",
   "metadata": {},
   "outputs": [],
   "source": [
    "mod.fit(rnn_dat.X_train, rnn_dat.y_train)"
   ]
  },
  {
   "cell_type": "code",
   "execution_count": null,
   "id": "c8f88819-0a7a-4420-abb9-56a47015a4de",
   "metadata": {},
   "outputs": [],
   "source": [
    "preds = mod.predict(rnn_dat.X_test)"
   ]
  },
  {
   "cell_type": "code",
   "execution_count": null,
   "id": "cb7cdf14-74d6-45e4-bc1b-7d4d47dd41ac",
   "metadata": {},
   "outputs": [],
   "source": [
    "rmse(preds, rnn_dat.y_test)"
   ]
  },
  {
   "cell_type": "code",
   "execution_count": null,
   "id": "74d478c7-8c01-448e-9a00-dd0e1ee8e325",
   "metadata": {},
   "outputs": [],
   "source": [
    "plt.plot(rnn_dat.y_test)\n",
    "plt.plot(preds)"
   ]
  },
  {
   "cell_type": "code",
   "execution_count": null,
   "id": "c5441014-c39a-4414-a779-95b81e1ed6a8",
   "metadata": {},
   "outputs": [],
   "source": [
    "params = read_yml(\"params.yaml\", subkey='rf')\n",
    "rnn_dat = RNNData(dat[cases[10]], features_list = ['Ed', 'Ew', 'solar', 'wind', 'rain'])\n",
    "rnn_dat.train_test_split(\n",
    "    time_fracs = [.8, .1, .1]\n",
    ")"
   ]
  },
  {
   "cell_type": "code",
   "execution_count": null,
   "id": "cafe711a-20cb-4bd3-a4bc-4995a843a021",
   "metadata": {},
   "outputs": [],
   "source": [
    "import importlib\n",
    "import moisture_models\n",
    "importlib.reload(moisture_models)"
   ]
  },
  {
   "cell_type": "code",
   "execution_count": null,
   "id": "ee45f7d6-f57f-4ff6-995a-527565565f94",
   "metadata": {},
   "outputs": [],
   "source": [
    "params"
   ]
  },
  {
   "cell_type": "code",
   "execution_count": null,
   "id": "fafe76e5-0212-4bd1-a058-535935a08780",
   "metadata": {},
   "outputs": [],
   "source": [
    "mod2 = RF(params)\n",
    "mod2.fit(rnn_dat.X_train, rnn_dat.y_train.flatten())\n",
    "preds2 = mod2.predict(rnn_dat.X_test)\n",
    "print(rmse(preds2, rnn_dat.y_test.flatten()))\n",
    "plt.plot(rnn_dat.y_test)\n",
    "plt.plot(preds2)"
   ]
  },
  {
   "cell_type": "code",
   "execution_count": null,
   "id": "c0ab4244-996c-49af-bf4a-8b0c47b0b6db",
   "metadata": {},
   "outputs": [],
   "source": [
    "from moisture_models import RF\n",
    "mod2 = RF(params)"
   ]
  },
  {
   "cell_type": "code",
   "execution_count": null,
   "id": "aa6c33fd-db35-4c77-9eee-fdb39a934959",
   "metadata": {},
   "outputs": [],
   "source": []
  },
  {
   "cell_type": "code",
   "execution_count": null,
   "id": "c5598bfe-2d87-4d23-869e-aff127782462",
   "metadata": {},
   "outputs": [],
   "source": [
    "params = read_yml(\"params.yaml\", subkey='lm')\n",
    "rnn_dat = RNNData(dat[cases[10]], features_list = ['Ed', 'Ew', 'solar', 'wind', 'rain'])\n",
    "rnn_dat.train_test_split(\n",
    "    time_fracs = [.8, .1, .1]\n",
    ")\n",
    "mod = LM(params)"
   ]
  },
  {
   "cell_type": "code",
   "execution_count": null,
   "id": "d828c15c-4078-4967-abff-c1fd15d4696d",
   "metadata": {},
   "outputs": [],
   "source": [
    "mod.fit(rnn_dat.X_train, rnn_dat.y_train)\n",
    "preds = mod.predict(rnn_dat.X_test)\n",
    "print(rmse(preds2, rnn_dat.y_test.flatten()))"
   ]
  },
  {
   "cell_type": "code",
   "execution_count": null,
   "id": "8496a32a-8269-4d6b-953e-7f33fe626789",
   "metadata": {},
   "outputs": [],
   "source": []
  },
  {
   "cell_type": "code",
   "execution_count": null,
   "id": "75ce8bf3-6efb-4dc7-b895-def92f6ce6b4",
   "metadata": {},
   "outputs": [],
   "source": []
  },
  {
   "cell_type": "markdown",
   "id": "282cb651-b21f-401d-94c5-9e07530a9ba8",
   "metadata": {},
   "source": [
    "## RNN"
   ]
  },
  {
   "cell_type": "code",
   "execution_count": null,
   "id": "fa38f35a-d367-4df8-b2d3-7691ff4b0cf4",
   "metadata": {},
   "outputs": [],
   "source": []
  },
  {
   "cell_type": "markdown",
   "id": "5ef092ff-8af1-491a-b0bf-cc3e674330e0",
   "metadata": {},
   "source": [
    "## Phys Initialized"
   ]
  },
  {
   "cell_type": "code",
   "execution_count": null,
   "id": "5488628e-4552-4909-83e9-413fd6878bdd",
   "metadata": {},
   "outputs": [],
   "source": [
    "params.update({\n",
    "    'epochs':100,\n",
    "    'dense_layers': 0,\n",
    "    'activation': ['relu', 'relu'],\n",
    "    'phys_initialize': False,\n",
    "    'dropout': [0,0]\n",
    "})"
   ]
  },
  {
   "cell_type": "code",
   "execution_count": null,
   "id": "56bdf26c-07e7-4e4a-a567-af7dd0f564d9",
   "metadata": {},
   "outputs": [],
   "source": [
    "reproducibility.set_seed()\n",
    "rnn = RNN(params)\n",
    "m, errs = rnn.run_model(rnn_dat)"
   ]
  },
  {
   "cell_type": "code",
   "execution_count": null,
   "id": "01227b79-98f3-4931-bdfc-ff08afa8be5f",
   "metadata": {},
   "outputs": [],
   "source": [
    "rnn.model_train.summary()"
   ]
  },
  {
   "cell_type": "code",
   "execution_count": null,
   "id": "918a8bf0-638b-4b4b-82fe-c6a1965a72dd",
   "metadata": {},
   "outputs": [],
   "source": []
  },
  {
   "cell_type": "code",
   "execution_count": null,
   "id": "0aab34c7-8a09-480a-9d3e-619f7cf82b34",
   "metadata": {},
   "outputs": [],
   "source": [
    "params.update({\n",
    "    'phys_initialize': True,\n",
    "    'scaler': None, # TODO\n",
    "    'dense_layers': 0, # NOT including single Dense output layer which is hard-coded\n",
    "    'activation': ['linear', 'linear'], # TODO tanh, relu the same\n",
    "    'batch_schedule_type': None # Hopefully this isn't a necessity like before, but maybe it will help\n",
    "})"
   ]
  },
  {
   "cell_type": "code",
   "execution_count": null,
   "id": "ab549075-f71f-42ad-b36f-3d1e90247e33",
   "metadata": {},
   "outputs": [],
   "source": [
    "rnn_dat2 = RNNData(dat[cases[10]], params['scaler'], params['features_list'])\n",
    "rnn_dat2.train_test_split(\n",
    "    time_fracs = [.8, .1, .1]\n",
    ")\n",
    "rnn_dat2.batch_reshape(timesteps = params['timesteps'], batch_size = params['batch_size'])"
   ]
  },
  {
   "cell_type": "code",
   "execution_count": null,
   "id": "195f337a-ac8a-4471-8226-94863b9385e2",
   "metadata": {},
   "outputs": [],
   "source": [
    "import importlib\n",
    "import moisture_rnn\n",
    "importlib.reload(moisture_rnn)\n",
    "from moisture_rnn import RNN, RNNData"
   ]
  },
  {
   "cell_type": "code",
   "execution_count": null,
   "id": "9395d147-17a5-44ba-aaa2-a213ffde062b",
   "metadata": {
    "scrolled": true
   },
   "outputs": [],
   "source": [
    "reproducibility.set_seed()\n",
    "\n",
    "rnn = RNN(params)"
   ]
  },
  {
   "cell_type": "code",
   "execution_count": null,
   "id": "d3eebe8a-ff12-454b-81b6-6a138924f127",
   "metadata": {},
   "outputs": [],
   "source": [
    "m, errs = rnn.run_model(rnn_dat2)"
   ]
  },
  {
   "cell_type": "code",
   "execution_count": null,
   "id": "bcbb0159-74c5-4f56-9d69-d85a58ddbd1a",
   "metadata": {},
   "outputs": [],
   "source": [
    "rnn.model_predict.get_weights()"
   ]
  },
  {
   "cell_type": "code",
   "execution_count": null,
   "id": "c25f741a-6280-4cf2-8017-e56672236fdb",
   "metadata": {},
   "outputs": [],
   "source": []
  },
  {
   "cell_type": "code",
   "execution_count": null,
   "id": "e8ed2b03-6123-4bdf-9e26-ef2ce4951663",
   "metadata": {},
   "outputs": [],
   "source": [
    "params['rnn_units']"
   ]
  },
  {
   "cell_type": "code",
   "execution_count": null,
   "id": "e44302bf-af49-4140-ae31-54f7c88a6735",
   "metadata": {},
   "outputs": [],
   "source": [
    "params.update({\n",
    "    'phys_initialize': True,\n",
    "    'scaler': None, # TODO\n",
    "    'dense_layers': 0, # NOT including single Dense output layer which is hard-coded\n",
    "    'activation': ['relu', 'relu'], # TODO tanh, relu the same\n",
    "    'batch_schedule_type': None # Hopefully this isn't a necessity like before, but maybe it will help\n",
    "})"
   ]
  },
  {
   "cell_type": "code",
   "execution_count": null,
   "id": "9a8ac32d-551c-43e8-988e-a3b13e6d9cd9",
   "metadata": {},
   "outputs": [],
   "source": [
    "rnn_dat2 = RNNData(dat[cases[10]], params['scaler'], params['features_list'])\n",
    "rnn_dat2.train_test_split(\n",
    "    time_fracs = [.8, .1, .1]\n",
    ")\n",
    "rnn_dat2.batch_reshape(timesteps = params['timesteps'], batch_size = params['batch_size'])"
   ]
  },
  {
   "cell_type": "code",
   "execution_count": null,
   "id": "ff727da8-38fb-4fda-999b-f712b98de0df",
   "metadata": {
    "scrolled": true
   },
   "outputs": [],
   "source": [
    "reproducibility.set_seed()\n",
    "\n",
    "rnn = RNN(params)\n",
    "m, errs = rnn.run_model(rnn_dat2)"
   ]
  },
  {
   "cell_type": "code",
   "execution_count": null,
   "id": "b165074c-ea88-4b4d-8e41-6b6f22b4d221",
   "metadata": {},
   "outputs": [],
   "source": []
  },
  {
   "cell_type": "code",
   "execution_count": null,
   "id": "aa5cd4e6-4441-4c77-a086-e9edefbeb83b",
   "metadata": {},
   "outputs": [],
   "source": []
  },
  {
   "cell_type": "code",
   "execution_count": null,
   "id": "7bd1e05b-5cd8-48b4-8469-4842313d6097",
   "metadata": {},
   "outputs": [],
   "source": []
  },
  {
   "cell_type": "code",
   "execution_count": null,
   "id": "b399346d-20b8-4c97-898a-606a4be98065",
   "metadata": {},
   "outputs": [],
   "source": []
  },
  {
   "cell_type": "code",
   "execution_count": null,
   "id": "521285e6-6b6a-4d23-b688-9eb84b8eab68",
   "metadata": {},
   "outputs": [],
   "source": []
  },
  {
   "cell_type": "code",
   "execution_count": null,
   "id": "12c66af1-54fd-4398-8ee2-36eeb937c40d",
   "metadata": {},
   "outputs": [],
   "source": []
  },
  {
   "cell_type": "code",
   "execution_count": null,
   "id": "eb21fb8e-05c6-4a39-bdf1-4a57067c786d",
   "metadata": {},
   "outputs": [],
   "source": []
  },
  {
   "cell_type": "code",
   "execution_count": null,
   "id": "628a9105-ca06-44c4-ad00-13808e2f4773",
   "metadata": {},
   "outputs": [],
   "source": []
  },
  {
   "cell_type": "code",
   "execution_count": null,
   "id": "37fdbb3a-3e83-4541-93b2-982b6d4cbe93",
   "metadata": {},
   "outputs": [],
   "source": []
  },
  {
   "cell_type": "code",
   "execution_count": null,
   "id": "a592a4c9-cb3b-4174-8eaa-02afd00a1897",
   "metadata": {},
   "outputs": [],
   "source": []
  },
  {
   "cell_type": "code",
   "execution_count": null,
   "id": "3832fb05-417c-4648-8e2e-7748c06b3768",
   "metadata": {},
   "outputs": [],
   "source": []
  },
  {
   "cell_type": "markdown",
   "id": "d2360aef-e9c4-4a71-922d-336e53b82537",
   "metadata": {},
   "source": [
    "## LSTM\n",
    "\n",
    "TODO: FIX BELOW"
   ]
  },
  {
   "cell_type": "code",
   "execution_count": null,
   "id": "71d4e441-9bf1-4d57-bb37-091553e23212",
   "metadata": {},
   "outputs": [],
   "source": [
    "import importlib \n",
    "import moisture_rnn\n",
    "importlib.reload(moisture_rnn)\n",
    "from moisture_rnn import RNN_LSTM"
   ]
  },
  {
   "cell_type": "code",
   "execution_count": null,
   "id": "0f6ba896-e3be-4a9f-8a42-3df64aff7d63",
   "metadata": {},
   "outputs": [],
   "source": [
    "params = read_yml(\"params.yaml\", subkey=\"lstm\")\n",
    "params = RNNParams(params)"
   ]
  },
  {
   "cell_type": "code",
   "execution_count": null,
   "id": "a4cf567e-d623-4e14-b578-eed88b80d04e",
   "metadata": {},
   "outputs": [],
   "source": [
    "rnn_dat = RNNData(dat[cases[10]], params['scaler'], params['features_list'])\n",
    "rnn_dat.train_test_split(\n",
    "    time_fracs = [.8, .1, .1]\n",
    ")\n",
    "rnn_dat.scale_data()\n",
    "rnn_dat.batch_reshape(timesteps = params['timesteps'], batch_size = params['batch_size'])"
   ]
  },
  {
   "cell_type": "code",
   "execution_count": null,
   "id": "0157a6bc-3a99-4b87-a42c-ab770d19ae37",
   "metadata": {},
   "outputs": [],
   "source": [
    "from moisture_rnn import ResetStatesCallback, EarlyStoppingCallback\n",
    "params.update({'epochs': 50, 'learning_rate': 0.001, 'verbose_fit': True, 'rnn_layers': 2, 'rnn_units': 20, 'dense_layers': 1, 'dense_units': 10,\n",
    "              'activation': ['tanh', 'tanh'], 'features_list': rnn_dat.features_list,\n",
    "              'batch_schedule_type':'exp', 'bmin': 10, 'bmax':rnn_dat.hours})\n",
    "reproducibility.set_seed(123)\n",
    "lstm = RNN_LSTM(params)\n",
    "\n",
    "history = lstm.model_train.fit(rnn_dat.X_train, rnn_dat.y_train, \n",
    "                    batch_size = params['batch_size'], epochs=params['epochs'], \n",
    "                    callbacks = [ResetStatesCallback(params),\n",
    "                                EarlyStoppingCallback(patience = 15)],\n",
    "                   validation_data = (rnn_dat.X_val, rnn_dat.y_val))\n",
    "              "
   ]
  },
  {
   "cell_type": "code",
   "execution_count": null,
   "id": "ec95e7d4-6d57-441b-b673-f10625ee5dec",
   "metadata": {},
   "outputs": [],
   "source": []
  },
  {
   "cell_type": "code",
   "execution_count": null,
   "id": "9b3c8d8d-ea50-44ea-8c0c-414e07cd01ac",
   "metadata": {},
   "outputs": [],
   "source": []
  },
  {
   "cell_type": "code",
   "execution_count": null,
   "id": "03063e3c-e8f4-451d-b0cf-25bd965cd9d6",
   "metadata": {},
   "outputs": [],
   "source": [
    "params.update({'epochs': 50, 'learning_rate': 0.001, 'verbose_fit': True, 'rnn_layers': 2, 'rnn_units': 20, 'dense_layers': 1, 'dense_units': 10,\n",
    "              'activation': ['tanh', 'tanh'], 'features_list': rnn_dat.features_list,\n",
    "              'batch_schedule_type':'exp', 'bmin': 10, 'bmax':rnn_dat.hours,\n",
    "              'early_stopping_patience': 25})\n",
    "reproducibility.set_seed(123)\n",
    "lstm = RNN_LSTM(params)\n",
    "m, errs = lstm.run_model(rnn_dat)"
   ]
  },
  {
   "cell_type": "code",
   "execution_count": null,
   "id": "f60a24c6-9a67-45aa-bc5c-8818aa0ca049",
   "metadata": {},
   "outputs": [],
   "source": []
  },
  {
   "cell_type": "code",
   "execution_count": null,
   "id": "00910bd2-f050-438c-ab3b-c793b83cb5f5",
   "metadata": {},
   "outputs": [],
   "source": [
    "rnn_dat.spatial"
   ]
  },
  {
   "cell_type": "code",
   "execution_count": null,
   "id": "236b33e3-e864-4453-be16-cf07338c4105",
   "metadata": {},
   "outputs": [],
   "source": [
    "params = RNNParams(read_yml(\"params.yaml\", subkey='lstm'))\n",
    "params"
   ]
  },
  {
   "cell_type": "code",
   "execution_count": null,
   "id": "fe2a484c-dc99-45a9-89fc-2f451bd719b5",
   "metadata": {},
   "outputs": [],
   "source": [
    "train = read_pkl(\"data/train.pkl\")"
   ]
  },
  {
   "cell_type": "code",
   "execution_count": null,
   "id": "07bfac87-a6d4-4dcc-8d11-adf83eafab76",
   "metadata": {},
   "outputs": [],
   "source": [
    "from itertools import islice\n",
    "train = {k: train[k] for k in islice(train, 100)}"
   ]
  },
  {
   "cell_type": "code",
   "execution_count": null,
   "id": "4e26099b-f760-4047-afec-9e751d24b7a6",
   "metadata": {},
   "outputs": [],
   "source": [
    "from data_funcs import combine_nested\n",
    "rnn_dat_sp = RNNData(\n",
    "    combine_nested(train), # input dictionary\n",
    "    scaler=\"standard\",  # data scaling type\n",
    "    features_list = params['features_list'] # features for predicting outcome\n",
    ")\n",
    "\n",
    "\n",
    "rnn_dat_sp.train_test_split(   \n",
    "    time_fracs = [.8, .1, .1], # Percent of total time steps used for train/val/test\n",
    "    space_fracs = [.8, .1, .1] # Percent of total timeseries used for train/val/test\n",
    ")\n",
    "rnn_dat_sp.scale_data()\n",
    "\n",
    "rnn_dat_sp.batch_reshape(\n",
    "    timesteps = params['timesteps'], # Timesteps aka sequence length for RNN input data. \n",
    "    batch_size = params['batch_size'] # Number of samples of length timesteps for a single round of grad. descent\n",
    ")"
   ]
  },
  {
   "cell_type": "code",
   "execution_count": null,
   "id": "10738795-c83b-4da3-88ba-09278caa35f8",
   "metadata": {},
   "outputs": [],
   "source": [
    "params.update({\n",
    "    'loc_batch_reset': rnn_dat_sp.n_seqs # Used to reset hidden state when location changes for a given batch\n",
    "})"
   ]
  },
  {
   "cell_type": "code",
   "execution_count": null,
   "id": "9c5d45cc-bcf0-4b6c-9c51-c4c790a2d9a5",
   "metadata": {},
   "outputs": [],
   "source": [
    "rnn_sp = RNN_LSTM(params)\n",
    "m_sp, errs = rnn_sp.run_model(rnn_dat_sp)"
   ]
  },
  {
   "cell_type": "code",
   "execution_count": null,
   "id": "ee332ccf-4e4a-4f66-b4d6-c079dbdb1411",
   "metadata": {},
   "outputs": [],
   "source": [
    "errs.mean()"
   ]
  },
  {
   "cell_type": "code",
   "execution_count": null,
   "id": "739d4b26-641e-47b2-a90a-67cd32215d05",
   "metadata": {},
   "outputs": [],
   "source": []
  }
 ],
 "metadata": {
  "kernelspec": {
   "display_name": "Python 3 (ipykernel)",
   "language": "python",
   "name": "python3"
  },
  "language_info": {
   "codemirror_mode": {
    "name": "ipython",
    "version": 3
   },
   "file_extension": ".py",
   "mimetype": "text/x-python",
   "name": "python",
   "nbconvert_exporter": "python",
   "pygments_lexer": "ipython3",
   "version": "3.12.5"
  }
 },
 "nbformat": 4,
 "nbformat_minor": 5
}
