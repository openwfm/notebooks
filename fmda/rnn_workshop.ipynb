{
 "cells": [
  {
   "cell_type": "markdown",
   "id": "244c2fb0-4339-476c-a2db-a641e124e25a",
   "metadata": {},
   "source": [
    "# v2.1 exploration trying to make it work better"
   ]
  },
  {
   "cell_type": "code",
   "execution_count": null,
   "id": "e6cc7920-e380-4b81-bac0-cd6840450e9a",
   "metadata": {},
   "outputs": [],
   "source": [
    "# Environment\n",
    "import os\n",
    "import os.path as osp\n",
    "import numpy as np\n",
    "import pandas as pd\n",
    "import tensorflow as tf\n",
    "import matplotlib.pyplot as plt\n",
    "import sys\n",
    "# Local modules\n",
    "sys.path.append('..')\n",
    "import reproducibility\n",
    "import pandas as pd\n",
    "from utils import print_dict_summary\n",
    "from data_funcs import rmse, process_train_dict\n",
    "from moisture_rnn import RNNParams, RNNData, RNN, RNN_LSTM\n",
    "from moisture_rnn_pkl import pkl2train\n",
    "from tensorflow.keras.callbacks import Callback\n",
    "from utils import hash2\n",
    "import copy\n",
    "import logging\n",
    "import pickle\n",
    "from utils import logging_setup, read_yml, read_pkl, hash_ndarray, hash_weights\n",
    "import yaml\n",
    "import copy"
   ]
  },
  {
   "cell_type": "code",
   "execution_count": null,
   "id": "f58e8839-bf0e-4995-b966-c09e4df001ce",
   "metadata": {},
   "outputs": [],
   "source": [
    "logging_setup()"
   ]
  },
  {
   "cell_type": "markdown",
   "id": "fae67b50-f916-45a7-bcc7-61995ba39449",
   "metadata": {},
   "source": [
    "## Tests"
   ]
  },
  {
   "cell_type": "code",
   "execution_count": null,
   "id": "27ea3de4-2cca-4e75-a13c-49fc7782f255",
   "metadata": {},
   "outputs": [],
   "source": [
    "from itertools import islice\n",
    "from data_funcs import combine_nested\n",
    "from utils import Dict\n",
    "params_data = read_yml(\"params_data.yaml\")\n",
    "params = read_yml(\"params.yaml\", subkey=\"rnn\")\n",
    "params = RNNParams(params)"
   ]
  },
  {
   "cell_type": "code",
   "execution_count": null,
   "id": "d1b5ec4a-b7f2-455c-9d03-ce621b253c32",
   "metadata": {},
   "outputs": [],
   "source": [
    "params_data['hours']"
   ]
  },
  {
   "cell_type": "code",
   "execution_count": null,
   "id": "ab630156-56c5-445b-a02c-19795ff14f23",
   "metadata": {
    "scrolled": true
   },
   "outputs": [],
   "source": [
    "train = process_train_dict([\"data/fmda_nw_202401-05_f05.pkl\"], params_data = params_data, verbose=True)"
   ]
  },
  {
   "cell_type": "code",
   "execution_count": null,
   "id": "81fa9c54-16aa-4f95-8d98-a19db1323ac8",
   "metadata": {},
   "outputs": [],
   "source": [
    "train = {k: train[k] for k in islice(train, 100)}\n",
    "dd = combine_nested(train)\n",
    "dd = Dict(dd)"
   ]
  },
  {
   "cell_type": "code",
   "execution_count": null,
   "id": "d310d160-5263-4cfa-a174-91cdc719a95c",
   "metadata": {},
   "outputs": [],
   "source": [
    "import importlib\n",
    "import moisture_rnn\n",
    "importlib.reload(moisture_rnn)\n",
    "from moisture_rnn import RNNData"
   ]
  },
  {
   "cell_type": "code",
   "execution_count": null,
   "id": "6caf2bc4-e9c5-460b-bae5-b15b6221aaa1",
   "metadata": {},
   "outputs": [],
   "source": [
    "rnn_dat = RNNData(dd, scaler=\"standard\", \n",
    "                  features_list = ['Ed', 'Ew', 'rain', 'elev', 'lon', 'lat'])\n",
    "rnn_dat.train_test_split(   \n",
    "    time_fracs = [.8, .1, .1],\n",
    "    space_fracs = [.8, .1, .1]\n",
    ")\n",
    "params.update({'batch_size': 32})\n",
    "rnn_dat.batch_reshape(\n",
    "    timesteps = params['timesteps'], \n",
    "    batch_size = params['batch_size'],\n",
    "    start_times = np.zeros(len(rnn_dat.case)).astype(int),\n",
    "    verbose=False\n",
    ")"
   ]
  },
  {
   "cell_type": "code",
   "execution_count": null,
   "id": "1b129c7a-0569-470d-a84b-51b9cdc5ae38",
   "metadata": {},
   "outputs": [],
   "source": [
    "params.update({'batch_schedule_type': 'exp', 'bmin': 20, 'bmax': rnn_dat.hours,\n",
    "               'loc_batch_reset': rnn_dat.n_seqs, \n",
    "               'epochs': 100, 'learning_rate': 0.001,\n",
    "               'activation': ['tanh', 'tanh'],\n",
    "               'recurrent_layers': 2, 'recurrent_units': 20, 'dense_layers': 1, 'dense_units': 20,\n",
    "              'features_list': rnn_dat.features_list})"
   ]
  },
  {
   "cell_type": "code",
   "execution_count": null,
   "id": "6188ee64-daea-4e08-a6cd-8fe8b8160a0e",
   "metadata": {},
   "outputs": [],
   "source": [
    "reproducibility.set_seed(123)\n",
    "rnn = RNN(params)\n",
    "m, errs = rnn.run_model(rnn_dat)"
   ]
  },
  {
   "cell_type": "code",
   "execution_count": null,
   "id": "8d3762e5-6489-4180-97d0-f5a74c6138b9",
   "metadata": {},
   "outputs": [],
   "source": [
    "errs.mean()"
   ]
  },
  {
   "cell_type": "code",
   "execution_count": null,
   "id": "d3eebe8a-ff12-454b-81b6-6a138924f127",
   "metadata": {},
   "outputs": [],
   "source": []
  },
  {
   "cell_type": "markdown",
   "id": "d2360aef-e9c4-4a71-922d-336e53b82537",
   "metadata": {},
   "source": [
    "## LSTM\n",
    "\n",
    "TODO: FIX BELOW"
   ]
  },
  {
   "cell_type": "code",
   "execution_count": null,
   "id": "71d4e441-9bf1-4d57-bb37-091553e23212",
   "metadata": {},
   "outputs": [],
   "source": [
    "import importlib \n",
    "import moisture_rnn\n",
    "importlib.reload(moisture_rnn)\n",
    "from moisture_rnn import RNN_LSTM"
   ]
  },
  {
   "cell_type": "code",
   "execution_count": null,
   "id": "0f6ba896-e3be-4a9f-8a42-3df64aff7d63",
   "metadata": {},
   "outputs": [],
   "source": [
    "params = read_yml(\"params.yaml\", subkey=\"lstm\")\n",
    "params = RNNParams(params)"
   ]
  },
  {
   "cell_type": "code",
   "execution_count": null,
   "id": "0157a6bc-3a99-4b87-a42c-ab770d19ae37",
   "metadata": {},
   "outputs": [],
   "source": [
    "from moisture_rnn import ResetStatesCallback, EarlyStoppingCallback\n",
    "params.update({'epochs': 50, 'learning_rate': 0.00005, 'verbose_fit': True, 'rnn_layers': 2, 'rnn_units': 20, 'dense_layers': 1, 'dense_units': 10,\n",
    "              'activation': ['relu', 'relu'], 'features_list': rnn_dat.features_list,\n",
    "              'batch_schedule_type':'exp', 'bmin': 10, 'bmax':rnn_dat.hours})\n",
    "reproducibility.set_seed(123)\n",
    "lstm = RNN_LSTM(params)\n",
    "\n",
    "history = lstm.model_train.fit(rnn_dat.X_train, rnn_dat.y_train, \n",
    "                    batch_size = params['batch_size'], epochs=params['epochs'], \n",
    "                    callbacks = [ResetStatesCallback(params),\n",
    "                                EarlyStoppingCallback(patience = 15)],\n",
    "                   validation_data = (rnn_dat.X_val, rnn_dat.y_val))\n",
    "              "
   ]
  },
  {
   "cell_type": "code",
   "execution_count": null,
   "id": "de0c00e7-838f-41b6-9cc5-70594656d155",
   "metadata": {},
   "outputs": [],
   "source": []
  },
  {
   "cell_type": "code",
   "execution_count": null,
   "id": "430a2224-6798-48fa-b198-a32800f88f66",
   "metadata": {},
   "outputs": [],
   "source": []
  },
  {
   "cell_type": "code",
   "execution_count": null,
   "id": "ec95e7d4-6d57-441b-b673-f10625ee5dec",
   "metadata": {},
   "outputs": [],
   "source": []
  },
  {
   "cell_type": "code",
   "execution_count": null,
   "id": "9b3c8d8d-ea50-44ea-8c0c-414e07cd01ac",
   "metadata": {},
   "outputs": [],
   "source": []
  },
  {
   "cell_type": "code",
   "execution_count": null,
   "id": "03063e3c-e8f4-451d-b0cf-25bd965cd9d6",
   "metadata": {},
   "outputs": [],
   "source": []
  },
  {
   "cell_type": "code",
   "execution_count": null,
   "id": "f60a24c6-9a67-45aa-bc5c-8818aa0ca049",
   "metadata": {},
   "outputs": [],
   "source": []
  }
 ],
 "metadata": {
  "kernelspec": {
   "display_name": "Python 3 (ipykernel)",
   "language": "python",
   "name": "python3"
  },
  "language_info": {
   "codemirror_mode": {
    "name": "ipython",
    "version": 3
   },
   "file_extension": ".py",
   "mimetype": "text/x-python",
   "name": "python",
   "nbconvert_exporter": "python",
   "pygments_lexer": "ipython3",
   "version": "3.12.5"
  }
 },
 "nbformat": 4,
 "nbformat_minor": 5
}
