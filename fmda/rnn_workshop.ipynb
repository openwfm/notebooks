{
 "cells": [
  {
   "cell_type": "markdown",
   "id": "244c2fb0-4339-476c-a2db-a641e124e25a",
   "metadata": {},
   "source": [
    "# v2.1 exploration trying to make it work better"
   ]
  },
  {
   "cell_type": "code",
   "execution_count": null,
   "id": "e6cc7920-e380-4b81-bac0-cd6840450e9a",
   "metadata": {},
   "outputs": [],
   "source": [
    "# Environment\n",
    "import os\n",
    "import os.path as osp\n",
    "import numpy as np\n",
    "import pandas as pd\n",
    "import tensorflow as tf\n",
    "import matplotlib.pyplot as plt\n",
    "import sys\n",
    "# Local modules\n",
    "sys.path.append('..')\n",
    "import reproducibility\n",
    "import pandas as pd\n",
    "from utils import print_dict_summary\n",
    "from data_funcs import rmse\n",
    "from moisture_rnn import RNNParams, RNNData, RNN, RNN_LSTM, create_rnn_data2\n",
    "from moisture_rnn_pkl import pkl2train\n",
    "from tensorflow.keras.callbacks import Callback\n",
    "from utils import hash2\n",
    "import copy\n",
    "import logging\n",
    "import pickle\n",
    "from utils import logging_setup, read_yml, read_pkl, hash_ndarray, hash_weights\n",
    "import yaml\n",
    "import copy"
   ]
  },
  {
   "cell_type": "code",
   "execution_count": null,
   "id": "f58e8839-bf0e-4995-b966-c09e4df001ce",
   "metadata": {},
   "outputs": [],
   "source": [
    "logging_setup()"
   ]
  },
  {
   "cell_type": "markdown",
   "id": "b62f4360-e9d1-4510-bb5d-1d79a3a5ac75",
   "metadata": {},
   "source": [
    "## Tests"
   ]
  },
  {
   "cell_type": "code",
   "execution_count": null,
   "id": "91155de8-1927-4485-80c9-095fb4d8613d",
   "metadata": {
    "scrolled": true
   },
   "outputs": [],
   "source": [
    "# data_file = 'data/test_CA_202401.pkl'\n",
    "# train = pkl2train([data_file])\n",
    "# # with open(\"train.pkl\", 'wb') as file:\n",
    "# #     logging.info('Writing the rain cases into file %s',\"train.pkl\")\n",
    "# #     pickle.dump(train, file)\n",
    "# train.keys()\n",
    "\n",
    "train = read_pkl(\"train.pkl\")"
   ]
  },
  {
   "cell_type": "code",
   "execution_count": null,
   "id": "a5979f46-7e1a-4552-a92f-fc17d2ca75b4",
   "metadata": {},
   "outputs": [],
   "source": [
    "train.keys()"
   ]
  },
  {
   "cell_type": "code",
   "execution_count": null,
   "id": "1bc6a3c7-e068-4d83-9ab0-131eaeec289e",
   "metadata": {},
   "outputs": [],
   "source": [
    "case = \"FBFW1_202401\"\n",
    "dat = train[case]"
   ]
  },
  {
   "cell_type": "code",
   "execution_count": null,
   "id": "84a4e8b6-9762-4406-b71e-bb6bf990fd9b",
   "metadata": {},
   "outputs": [],
   "source": [
    "params = read_yml(\"params.yaml\", subkey=\"rnn\")\n",
    "params = RNNParams(params)\n",
    "params"
   ]
  },
  {
   "cell_type": "code",
   "execution_count": null,
   "id": "92b7a5ed-5215-43a7-933c-5dd146241944",
   "metadata": {},
   "outputs": [],
   "source": [
    "rnn_dat = RNNData(dat, scaler = params['scaler'], features_list = params['features_list'])\n",
    "rnn_dat.train_test_split(\n",
    "    train_frac = .9,\n",
    "    val_frac = .05\n",
    ")\n",
    "rnn_dat.scale_data()"
   ]
  },
  {
   "cell_type": "code",
   "execution_count": null,
   "id": "9141a034-5912-4087-aaaa-a4c221e77495",
   "metadata": {},
   "outputs": [],
   "source": [
    "import importlib\n",
    "import moisture_rnn\n",
    "importlib.reload(moisture_rnn)\n",
    "from moisture_rnn import RNN"
   ]
  },
  {
   "cell_type": "code",
   "execution_count": null,
   "id": "2c570a67-0b67-4fe4-a536-68cf5a1f8256",
   "metadata": {},
   "outputs": [],
   "source": [
    "params.update({'epochs': 20})\n",
    "reproducibility.set_seed(123)\n",
    "rnn = RNN(params)\n"
   ]
  },
  {
   "cell_type": "code",
   "execution_count": null,
   "id": "034300ff-a71e-4807-85d7-368197962ab5",
   "metadata": {},
   "outputs": [],
   "source": [
    "m, errs = rnn.run_model(rnn_dat)"
   ]
  },
  {
   "cell_type": "code",
   "execution_count": null,
   "id": "1f5183e0-5e58-4ff3-9a1f-0f707241a698",
   "metadata": {},
   "outputs": [],
   "source": [
    "rnn.model_train"
   ]
  },
  {
   "cell_type": "code",
   "execution_count": null,
   "id": "0dc33ddc-cb10-4b0c-b7f2-af3302e28a23",
   "metadata": {},
   "outputs": [],
   "source": []
  },
  {
   "cell_type": "code",
   "execution_count": null,
   "id": "ebb4d0d3-0a9e-428e-bd56-6899bde36df7",
   "metadata": {},
   "outputs": [],
   "source": []
  },
  {
   "cell_type": "markdown",
   "id": "a42cc05f-1438-459f-9a15-64276aa2f651",
   "metadata": {},
   "source": [
    "## Test RNN"
   ]
  },
  {
   "cell_type": "code",
   "execution_count": null,
   "id": "d27c7277-c9e1-4fd1-b050-d4b6bc737822",
   "metadata": {},
   "outputs": [],
   "source": [
    "import importlib\n",
    "import utils\n",
    "importlib.reload(utils)\n",
    "from utils import read_pkl"
   ]
  },
  {
   "cell_type": "code",
   "execution_count": null,
   "id": "7a9a5414-d33f-4f0d-b1e5-b320b22d60f5",
   "metadata": {},
   "outputs": [],
   "source": [
    "train = read_pkl(\"train.pkl\")"
   ]
  },
  {
   "cell_type": "code",
   "execution_count": null,
   "id": "e0147836-f6ba-4141-9c9d-7c2e5d676bc2",
   "metadata": {},
   "outputs": [],
   "source": [
    "params = read_yml(\"params.yaml\", subkey=\"rnn\")\n",
    "params = RNNParams(params)"
   ]
  },
  {
   "cell_type": "code",
   "execution_count": null,
   "id": "4219f8e0-cf44-43a6-830b-fc859c3d954b",
   "metadata": {},
   "outputs": [],
   "source": [
    "params.update({'activation': ['linear', 'linear'], 'epochs':300, 'val_frac': .2, 'scaler': 'minmax', 'rnn_layers': 1, 'dense_layers': 1})"
   ]
  },
  {
   "cell_type": "code",
   "execution_count": null,
   "id": "722bd100-beaa-49c7-a1ab-b72765c89ebe",
   "metadata": {},
   "outputs": [],
   "source": [
    "rnn_dat = RNNData(train['NV020_202401'], scaler = params['scaler'], features_list = params['features_list'])"
   ]
  },
  {
   "cell_type": "code",
   "execution_count": null,
   "id": "2eb4adf9-c4eb-493c-9f62-59ba17f6da2f",
   "metadata": {},
   "outputs": [],
   "source": [
    "rnn_dat.train_test_split(\n",
    "    train_frac = params['train_frac'],\n",
    "    val_frac = params['val_frac']\n",
    ")"
   ]
  },
  {
   "cell_type": "code",
   "execution_count": null,
   "id": "2b4fa4e1-c1b9-483a-83ac-cf0ee46662fa",
   "metadata": {},
   "outputs": [],
   "source": [
    "rnn_dat.scale_data()"
   ]
  },
  {
   "cell_type": "code",
   "execution_count": null,
   "id": "fc362aa4-fe28-4848-9575-bb17f72ac9fd",
   "metadata": {},
   "outputs": [],
   "source": [
    "import importlib\n",
    "import moisture_rnn\n",
    "importlib.reload(moisture_rnn)\n",
    "from moisture_rnn import RNN"
   ]
  },
  {
   "cell_type": "code",
   "execution_count": null,
   "id": "79381a0b-2338-4a09-876e-91e50b968d3f",
   "metadata": {},
   "outputs": [],
   "source": [
    "rnn = RNN(params)"
   ]
  },
  {
   "cell_type": "code",
   "execution_count": null,
   "id": "155cebc4-e7f6-47ae-943e-556c3939ab95",
   "metadata": {},
   "outputs": [],
   "source": [
    "rnn.predict(rnn_dat.X_test)"
   ]
  },
  {
   "cell_type": "code",
   "execution_count": null,
   "id": "7d28dd8c-3d90-43ba-842e-4d4ed5deb823",
   "metadata": {},
   "outputs": [],
   "source": [
    "rnn.model_predict.summary()"
   ]
  },
  {
   "cell_type": "code",
   "execution_count": null,
   "id": "1f928e06-867e-4cc5-ab94-83b30b923374",
   "metadata": {},
   "outputs": [],
   "source": [
    "reproducibility.set_seed(123)\n",
    "rnn = RNN(params)\n",
    "m, errs = rnn.run_model(rnn_dat)"
   ]
  },
  {
   "cell_type": "code",
   "execution_count": null,
   "id": "4b4ca16e-7c40-4bb9-b971-dd0efa4e8a83",
   "metadata": {},
   "outputs": [],
   "source": []
  },
  {
   "cell_type": "code",
   "execution_count": null,
   "id": "54c917e9-20a6-4b8d-b6ab-04fdb0333467",
   "metadata": {},
   "outputs": [],
   "source": []
  },
  {
   "cell_type": "code",
   "execution_count": null,
   "id": "7c659050-e74e-4f07-b95a-3f7b57653061",
   "metadata": {},
   "outputs": [],
   "source": []
  },
  {
   "cell_type": "code",
   "execution_count": null,
   "id": "e86c9e4d-4ccd-4d9d-92e1-2e4299549fa4",
   "metadata": {},
   "outputs": [],
   "source": []
  },
  {
   "cell_type": "code",
   "execution_count": null,
   "id": "966c3559-740d-44d3-b98d-cc2efe63afcd",
   "metadata": {},
   "outputs": [],
   "source": []
  },
  {
   "cell_type": "code",
   "execution_count": null,
   "id": "52c1df9f-87ab-4882-aca1-e90cca7bd470",
   "metadata": {},
   "outputs": [],
   "source": []
  },
  {
   "cell_type": "code",
   "execution_count": null,
   "id": "1addf015-b2c1-42df-a769-39df81dd5d14",
   "metadata": {},
   "outputs": [],
   "source": []
  },
  {
   "cell_type": "code",
   "execution_count": null,
   "id": "3262a73f-0bd7-4e78-ade0-ca53a7da2b84",
   "metadata": {},
   "outputs": [],
   "source": []
  },
  {
   "cell_type": "code",
   "execution_count": null,
   "id": "eecfd38b-0a1a-4de3-b568-2f53ffbcc78c",
   "metadata": {},
   "outputs": [],
   "source": []
  },
  {
   "cell_type": "markdown",
   "id": "2298a1a1-b72c-4c7e-bcb6-2cdefe96fe3e",
   "metadata": {},
   "source": [
    "## Test Data Creation"
   ]
  },
  {
   "cell_type": "code",
   "execution_count": null,
   "id": "c4645246-edce-4544-9809-5ffb0760ae25",
   "metadata": {},
   "outputs": [],
   "source": [
    "import importlib\n",
    "import moisture_rnn_pkl\n",
    "importlib.reload(moisture_rnn_pkl)\n",
    "from moisture_rnn_pkl import pkl2train"
   ]
  },
  {
   "cell_type": "code",
   "execution_count": null,
   "id": "5b662edb-7a79-4532-b0d7-2492b1ad917d",
   "metadata": {},
   "outputs": [],
   "source": [
    "file_names=['test_CA_202401.pkl', 'test_NW_202401.pkl']\n",
    "file_dir='data'\n",
    "file_paths = [osp.join(file_dir,file_name) for file_name in file_names]"
   ]
  },
  {
   "cell_type": "code",
   "execution_count": null,
   "id": "1185c995-e9fa-4586-96c2-44b159ccf477",
   "metadata": {
    "scrolled": true
   },
   "outputs": [],
   "source": [
    "train = pkl2train(file_paths)"
   ]
  },
  {
   "cell_type": "code",
   "execution_count": null,
   "id": "665291be-0f40-46b5-9a63-27a58965f8ca",
   "metadata": {},
   "outputs": [],
   "source": [
    "train.keys()"
   ]
  },
  {
   "cell_type": "code",
   "execution_count": null,
   "id": "6b61a406-eed8-4595-9c3f-4c11e1aed7c8",
   "metadata": {},
   "outputs": [],
   "source": []
  },
  {
   "cell_type": "code",
   "execution_count": null,
   "id": "e234b0f6-3cc9-46d1-926a-d825c58e3991",
   "metadata": {},
   "outputs": [],
   "source": []
  },
  {
   "cell_type": "code",
   "execution_count": null,
   "id": "7fdf595c-68e1-4e93-a5ec-d6e20e2f1bdf",
   "metadata": {},
   "outputs": [],
   "source": []
  },
  {
   "cell_type": "code",
   "execution_count": null,
   "id": "fc3e8264-da29-4261-a560-ef457f42ed70",
   "metadata": {},
   "outputs": [],
   "source": []
  },
  {
   "cell_type": "code",
   "execution_count": null,
   "id": "7deda359-1e7f-447a-97b7-576b98712a74",
   "metadata": {},
   "outputs": [],
   "source": []
  },
  {
   "cell_type": "code",
   "execution_count": null,
   "id": "7fc05c26-9a54-4863-8956-d76913128701",
   "metadata": {},
   "outputs": [],
   "source": []
  },
  {
   "cell_type": "markdown",
   "id": "2afc2cf7-eab1-4a85-8632-4d306aead358",
   "metadata": {},
   "source": [
    "## Test RNN"
   ]
  },
  {
   "cell_type": "code",
   "execution_count": null,
   "id": "bfd419f0-9092-470d-81b7-d3b45e4bdc0b",
   "metadata": {},
   "outputs": [],
   "source": []
  },
  {
   "cell_type": "code",
   "execution_count": null,
   "id": "545ece65-9f4a-4b45-b87f-ea3a23032cac",
   "metadata": {},
   "outputs": [],
   "source": []
  },
  {
   "cell_type": "code",
   "execution_count": null,
   "id": "1e9ec6f9-8598-4560-b71e-222f5b4c4968",
   "metadata": {},
   "outputs": [],
   "source": []
  },
  {
   "cell_type": "code",
   "execution_count": null,
   "id": "e2a7840d-f7e4-424d-b343-06f913f9d3f6",
   "metadata": {},
   "outputs": [],
   "source": []
  },
  {
   "cell_type": "code",
   "execution_count": null,
   "id": "52e2942b-3bed-4c3d-8082-c7069d791036",
   "metadata": {},
   "outputs": [],
   "source": []
  },
  {
   "cell_type": "code",
   "execution_count": null,
   "id": "def73f2c-5d2f-42c6-8c2d-328ac5e8db20",
   "metadata": {},
   "outputs": [],
   "source": []
  },
  {
   "cell_type": "code",
   "execution_count": null,
   "id": "888dd72a-4eef-414b-ac33-f6f4bfbefe60",
   "metadata": {},
   "outputs": [],
   "source": [
    "errs"
   ]
  },
  {
   "cell_type": "code",
   "execution_count": null,
   "id": "7f40cdfd-b33a-43c1-8bc4-44a0ea6817ff",
   "metadata": {},
   "outputs": [],
   "source": [
    "import importlib \n",
    "import moisture_rnn\n",
    "importlib.reload(moisture_rnn)\n",
    "from moisture_rnn import RNN"
   ]
  },
  {
   "cell_type": "code",
   "execution_count": null,
   "id": "bdf0ba2e-f944-4c86-a20e-a59e023897cb",
   "metadata": {},
   "outputs": [],
   "source": [
    "params = read_yml(\"params.yaml\", subkey=\"rnn\")\n",
    "params = RNNParams(params)"
   ]
  },
  {
   "cell_type": "code",
   "execution_count": null,
   "id": "9dbd51b0-9342-4b90-a250-0ac2c75d3066",
   "metadata": {},
   "outputs": [],
   "source": [
    "reproducibility.set_seed()\n",
    "rnn = RNN(params)\n",
    "m, errs = rnn.run_model(rnn_dat)"
   ]
  },
  {
   "cell_type": "code",
   "execution_count": null,
   "id": "c6d7d34c-dfae-4370-a398-a287790eff53",
   "metadata": {},
   "outputs": [],
   "source": []
  },
  {
   "cell_type": "markdown",
   "id": "d2360aef-e9c4-4a71-922d-336e53b82537",
   "metadata": {},
   "source": [
    "## LSTM\n",
    "\n",
    "TODO: FIX BELOW"
   ]
  },
  {
   "cell_type": "code",
   "execution_count": null,
   "id": "71d4e441-9bf1-4d57-bb37-091553e23212",
   "metadata": {},
   "outputs": [],
   "source": [
    "import importlib \n",
    "import moisture_rnn\n",
    "importlib.reload(moisture_rnn)\n",
    "from moisture_rnn import RNN_LSTM"
   ]
  },
  {
   "cell_type": "code",
   "execution_count": null,
   "id": "59480f19-3567-4b24-b6ff-d9292dc8c2ec",
   "metadata": {},
   "outputs": [],
   "source": [
    "with open(\"params.yaml\") as file:\n",
    "    params = yaml.safe_load(file)[\"lstm\"]\n",
    "    \n",
    "rnn_dat2 = create_rnn_data2(train[case],params)"
   ]
  },
  {
   "cell_type": "code",
   "execution_count": null,
   "id": "2adff592-7aa4-4e59-a229-cad4a133297e",
   "metadata": {},
   "outputs": [],
   "source": [
    "params.update({'epochs': 10})"
   ]
  },
  {
   "cell_type": "code",
   "execution_count": null,
   "id": "b20539f0-eed2-44de-9269-ae8696c8e7c8",
   "metadata": {},
   "outputs": [],
   "source": []
  },
  {
   "cell_type": "code",
   "execution_count": null,
   "id": "6bfbcbb5-b631-4594-9ae5-618c4fe68e7b",
   "metadata": {},
   "outputs": [],
   "source": [
    "reproducibility.set_seed()\n",
    "rnn = RNN(params)\n",
    "m, errs = rnn.run_model(rnn_dat2)"
   ]
  },
  {
   "cell_type": "code",
   "execution_count": null,
   "id": "dd8a9700-f479-4c11-8655-ca7b45222402",
   "metadata": {},
   "outputs": [],
   "source": []
  },
  {
   "cell_type": "code",
   "execution_count": null,
   "id": "de46c481-74a7-46cc-8334-678ad8230cce",
   "metadata": {},
   "outputs": [],
   "source": [
    "import importlib\n",
    "importlib.reload(moisture_rnn)\n",
    "from moisture_rnn import RNN_LSTM"
   ]
  },
  {
   "cell_type": "code",
   "execution_count": null,
   "id": "2b6a699a-68e8-49ef-95f2-409137502fb6",
   "metadata": {},
   "outputs": [],
   "source": [
    "with open(\"params.yaml\") as file:\n",
    "    params = yaml.safe_load(file)[\"lstm\"]\n",
    "\n",
    "rnn_dat2 = create_rnn_data2(train[case],params)\n",
    "params"
   ]
  },
  {
   "cell_type": "code",
   "execution_count": null,
   "id": "188c0d5d-f3f6-4a61-83b0-b21dfc5d01b7",
   "metadata": {},
   "outputs": [],
   "source": [
    "params.update({\n",
    "    'learning_rate': 0.000001,\n",
    "    'epochs': 10,\n",
    "    'clipvalue':1.0\n",
    "})"
   ]
  },
  {
   "cell_type": "code",
   "execution_count": null,
   "id": "6a9d612e-8cd2-40ca-a789-91c99c3d6ccd",
   "metadata": {},
   "outputs": [],
   "source": [
    "reproducibility.set_seed()\n",
    "lstm = RNN_LSTM(params)\n",
    "m, errs = lstm.run_model(rnn_dat2)"
   ]
  },
  {
   "cell_type": "code",
   "execution_count": null,
   "id": "ec95e7d4-6d57-441b-b673-f10625ee5dec",
   "metadata": {},
   "outputs": [],
   "source": []
  },
  {
   "cell_type": "code",
   "execution_count": null,
   "id": "9b3c8d8d-ea50-44ea-8c0c-414e07cd01ac",
   "metadata": {},
   "outputs": [],
   "source": []
  },
  {
   "cell_type": "code",
   "execution_count": null,
   "id": "03063e3c-e8f4-451d-b0cf-25bd965cd9d6",
   "metadata": {},
   "outputs": [],
   "source": []
  },
  {
   "cell_type": "code",
   "execution_count": null,
   "id": "f60a24c6-9a67-45aa-bc5c-8818aa0ca049",
   "metadata": {},
   "outputs": [],
   "source": []
  }
 ],
 "metadata": {
  "kernelspec": {
   "display_name": "Python 3 (ipykernel)",
   "language": "python",
   "name": "python3"
  },
  "language_info": {
   "codemirror_mode": {
    "name": "ipython",
    "version": 3
   },
   "file_extension": ".py",
   "mimetype": "text/x-python",
   "name": "python",
   "nbconvert_exporter": "python",
   "pygments_lexer": "ipython3",
   "version": "3.12.5"
  }
 },
 "nbformat": 4,
 "nbformat_minor": 5
}
