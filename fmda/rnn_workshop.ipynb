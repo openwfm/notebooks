{
 "cells": [
  {
   "cell_type": "markdown",
   "id": "244c2fb0-4339-476c-a2db-a641e124e25a",
   "metadata": {},
   "source": [
    "# v2.2 exploration trying to make it work better"
   ]
  },
  {
   "cell_type": "code",
   "execution_count": 9,
   "id": "e6cc7920-e380-4b81-bac0-cd6840450e9a",
   "metadata": {},
   "outputs": [],
   "source": [
    "# Environment\n",
    "import os\n",
    "import os.path as osp\n",
    "import numpy as np\n",
    "import pandas as pd\n",
    "import tensorflow as tf\n",
    "import matplotlib.pyplot as plt\n",
    "import sys\n",
    "# Local modules\n",
    "sys.path.append('..')\n",
    "import reproducibility\n",
    "import pandas as pd\n",
    "from utils import print_dict_summary\n",
    "from data_funcs import rmse, build_train_dict, combine_nested, subset_by_features\n",
    "# from moisture_rnn import RNNParams, RNNData, RNN, RNN_LSTM, rnn_data_wrap\n",
    "from moisture_rnn_pkl import pkl2train\n",
    "from tensorflow.keras.callbacks import Callback\n",
    "from utils import hash2\n",
    "import copy\n",
    "import logging\n",
    "import pickle\n",
    "from utils import logging_setup, read_yml, read_pkl, hash_ndarray, hash_weights, str2time\n",
    "import yaml\n",
    "import copy\n",
    "import time"
   ]
  },
  {
   "cell_type": "code",
   "execution_count": 10,
   "id": "f58e8839-bf0e-4995-b966-c09e4df001ce",
   "metadata": {},
   "outputs": [],
   "source": [
    "logging_setup()"
   ]
  },
  {
   "cell_type": "markdown",
   "id": "fae67b50-f916-45a7-bcc7-61995ba39449",
   "metadata": {},
   "source": [
    "## Test Data"
   ]
  },
  {
   "cell_type": "code",
   "execution_count": 11,
   "id": "3efed1fa-9cda-4934-8a6c-edcf179c8755",
   "metadata": {},
   "outputs": [],
   "source": [
    "file_paths = ['data/fmda_rocky_202403-05_f05.pkl']"
   ]
  },
  {
   "cell_type": "code",
   "execution_count": 12,
   "id": "28fd3746-1861-4afa-ab7e-ac449fbed322",
   "metadata": {},
   "outputs": [
    {
     "data": {
      "text/plain": [
       "{'max_intp_time': 10,\n",
       " 'zero_lag_threshold': 10,\n",
       " 'hours': 720,\n",
       " 'min_fm': 1,\n",
       " 'max_fm': 90,\n",
       " 'min_rain': 0,\n",
       " 'max_rain': 100,\n",
       " 'min_wind': 0,\n",
       " 'max_wind': 35,\n",
       " 'min_solar': 0,\n",
       " 'max_solar': 1400,\n",
       " 'min_soilm': 0,\n",
       " 'features_all': ['Ed',\n",
       "  'Ew',\n",
       "  'solar',\n",
       "  'wind',\n",
       "  'elev',\n",
       "  'lon',\n",
       "  'lat',\n",
       "  'soilm',\n",
       "  'canopyw',\n",
       "  'groundflux',\n",
       "  'rain']}"
      ]
     },
     "execution_count": 12,
     "metadata": {},
     "output_type": "execute_result"
    }
   ],
   "source": [
    "# Params used for data filtering\n",
    "params_data = read_yml(\"params_data.yaml\") \n",
    "params_data"
   ]
  },
  {
   "cell_type": "code",
   "execution_count": 13,
   "id": "c45cb8ef-41fc-4bf7-b506-dad5fd24abb3",
   "metadata": {},
   "outputs": [
    {
     "name": "stdout",
     "output_type": "stream",
     "text": [
      "loading file data/fmda_rocky_202403-05_f05.pkl\n"
     ]
    }
   ],
   "source": [
    "dat = read_pkl(file_paths[0])"
   ]
  },
  {
   "cell_type": "code",
   "execution_count": 14,
   "id": "3c960d69-4f8a-4abb-a5d9-ed6cf98f899b",
   "metadata": {},
   "outputs": [],
   "source": [
    "import importlib\n",
    "import data_funcs\n",
    "importlib.reload(data_funcs)\n",
    "from data_funcs import build_train_dict"
   ]
  },
  {
   "cell_type": "code",
   "execution_count": 15,
   "id": "369cd913-85cb-4855-a80c-817d84637852",
   "metadata": {},
   "outputs": [],
   "source": [
    "params_data.update({'hours': None})"
   ]
  },
  {
   "cell_type": "code",
   "execution_count": 16,
   "id": "8cdc2ce8-45b4-4caa-81d9-646271ff2e97",
   "metadata": {
    "scrolled": true
   },
   "outputs": [
    {
     "name": "stdout",
     "output_type": "stream",
     "text": [
      "~~~~~~~~~~~~~~~~~~~~~~~~~~~~~~~~~~~~~~~~~~~~~~~~~~~~~~~~~~~~~~~~~~~~~~~~~~~\n",
      "Extracting data from input file data/fmda_rocky_202403-05_f05.pkl\n",
      "loading file data/fmda_rocky_202403-05_f05.pkl\n",
      "2024-10-21 11:27:35,248 - INFO - CPTC2_202403 HRRR.time time array increments are 1.0 hours\n",
      "2024-10-21 11:27:35,275 - INFO - CPTC2 RAWS.time_raws time array increments are min 1.0 max 2.0\n",
      "Shifted time based on forecast step 3. Dropping NA at beginning of feature data and corresponding times of output data\n",
      "2024-10-21 11:27:35,366 - INFO - CHAC2_202403 HRRR.time time array increments are 1.0 hours\n",
      "2024-10-21 11:27:35,394 - INFO - CHAC2 RAWS.time_raws time array increments are 1.0 hours\n",
      "Shifted time based on forecast step 3. Dropping NA at beginning of feature data and corresponding times of output data\n",
      "2024-10-21 11:27:35,487 - INFO - CHRC2_202403 HRRR.time time array increments are 1.0 hours\n",
      "2024-10-21 11:27:35,512 - INFO - CHRC2 RAWS.time_raws time array increments are min 1.0 max 3.0\n",
      "Shifted time based on forecast step 3. Dropping NA at beginning of feature data and corresponding times of output data\n",
      "2024-10-21 11:27:35,604 - INFO - DYKC2_202403 HRRR.time time array increments are 1.0 hours\n",
      "2024-10-21 11:27:35,639 - INFO - DYKC2 RAWS.time_raws time array increments are min 1.0 max 2.0\n",
      "Shifted time based on forecast step 3. Dropping NA at beginning of feature data and corresponding times of output data\n",
      "2024-10-21 11:27:35,735 - INFO - LKGC2_202403 HRRR.time time array increments are 1.0 hours\n",
      "2024-10-21 11:27:35,768 - INFO - LKGC2 RAWS.time_raws time array increments are min 1.0 max 6.0\n",
      "Shifted time based on forecast step 3. Dropping NA at beginning of feature data and corresponding times of output data\n",
      "2024-10-21 11:27:35,864 - INFO - CCEC2_202403 HRRR.time time array increments are 1.0 hours\n",
      "2024-10-21 11:27:35,892 - INFO - CCEC2 RAWS.time_raws time array increments are min 1.0 max 2.0\n",
      "Shifted time based on forecast step 3. Dropping NA at beginning of feature data and corresponding times of output data\n",
      "2024-10-21 11:27:35,981 - INFO - RDKC2_202403 HRRR.time time array increments are 1.0 hours\n",
      "2024-10-21 11:27:36,008 - INFO - RDKC2 RAWS.time_raws time array increments are min 1.0 max 2.0\n",
      "Shifted time based on forecast step 3. Dropping NA at beginning of feature data and corresponding times of output data\n",
      "2024-10-21 11:27:36,104 - INFO - RFRC2_202403 HRRR.time time array increments are 1.0 hours\n",
      "2024-10-21 11:27:36,140 - INFO - RFRC2 RAWS.time_raws time array increments are min 1.0 max 6.0\n",
      "Shifted time based on forecast step 3. Dropping NA at beginning of feature data and corresponding times of output data\n",
      "2024-10-21 11:27:36,240 - INFO - SAWC2_202403 HRRR.time time array increments are 1.0 hours\n",
      "2024-10-21 11:27:36,272 - INFO - SAWC2 RAWS.time_raws time array increments are 1.0 hours\n",
      "Shifted time based on forecast step 3. Dropping NA at beginning of feature data and corresponding times of output data\n",
      "2024-10-21 11:27:36,374 - INFO - WLCC2_202403 HRRR.time time array increments are 1.0 hours\n",
      "2024-10-21 11:27:36,404 - INFO - WLCC2 RAWS.time_raws time array increments are 1.0 hours\n",
      "Shifted time based on forecast step 3. Dropping NA at beginning of feature data and corresponding times of output data\n",
      "2024-10-21 11:27:36,499 - INFO - CCRU1_202403 HRRR.time time array increments are 1.0 hours\n",
      "2024-10-21 11:27:36,527 - INFO - CCRU1 RAWS.time_raws time array increments are 1.0 hours\n",
      "Shifted time based on forecast step 3. Dropping NA at beginning of feature data and corresponding times of output data\n",
      "2024-10-21 11:27:36,617 - INFO - HSRU1_202403 HRRR.time time array increments are 1.0 hours\n",
      "2024-10-21 11:27:36,655 - INFO - HSRU1 RAWS.time_raws time array increments are min 1.0 max 2.0\n",
      "Shifted time based on forecast step 3. Dropping NA at beginning of feature data and corresponding times of output data\n",
      "2024-10-21 11:27:36,753 - INFO - YLSU1_202403 HRRR.time time array increments are 1.0 hours\n",
      "2024-10-21 11:27:36,783 - INFO - YLSU1 RAWS.time_raws time array increments are min 1.0 max 2.0\n",
      "Shifted time based on forecast step 3. Dropping NA at beginning of feature data and corresponding times of output data\n",
      "2024-10-21 11:27:36,895 - INFO - BRLW4_202403 HRRR.time time array increments are 1.0 hours\n",
      "2024-10-21 11:27:36,927 - INFO - BRLW4 RAWS.time_raws time array increments are min 1.0 max 21.0\n",
      "Shifted time based on forecast step 3. Dropping NA at beginning of feature data and corresponding times of output data\n",
      "2024-10-21 11:27:37,034 - INFO - GTGW4_202403 HRRR.time time array increments are 1.0 hours\n",
      "2024-10-21 11:27:37,066 - INFO - GTGW4 RAWS.time_raws time array increments are min 1.0 max 2.0\n",
      "Shifted time based on forecast step 3. Dropping NA at beginning of feature data and corresponding times of output data\n",
      "2024-10-21 11:27:37,163 - INFO - SAWW4_202403 HRRR.time time array increments are 1.0 hours\n",
      "2024-10-21 11:27:37,191 - INFO - SAWW4 RAWS.time_raws time array increments are min 1.0 max 2.0\n",
      "Shifted time based on forecast step 3. Dropping NA at beginning of feature data and corresponding times of output data\n",
      "2024-10-21 11:27:37,280 - INFO - SPKW4_202403 HRRR.time time array increments are 1.0 hours\n",
      "2024-10-21 11:27:37,308 - INFO - SPKW4 RAWS.time_raws time array increments are min 1.0 max 2.0\n",
      "Shifted time based on forecast step 3. Dropping NA at beginning of feature data and corresponding times of output data\n",
      "2024-10-21 11:27:37,400 - INFO - ESPC2_202403 HRRR.time time array increments are 1.0 hours\n",
      "2024-10-21 11:27:37,428 - INFO - ESPC2 RAWS.time_raws time array increments are min 1.0 max 8.0\n",
      "Shifted time based on forecast step 3. Dropping NA at beginning of feature data and corresponding times of output data\n",
      "2024-10-21 11:27:37,518 - INFO - MRFC2_202403 HRRR.time time array increments are 1.0 hours\n",
      "2024-10-21 11:27:37,545 - INFO - MRFC2 RAWS.time_raws time array increments are min 1.0 max 2.0\n",
      "Shifted time based on forecast step 3. Dropping NA at beginning of feature data and corresponding times of output data\n",
      "2024-10-21 11:27:37,641 - INFO - PKLC2_202403 HRRR.time time array increments are 1.0 hours\n",
      "2024-10-21 11:27:37,672 - INFO - PKLC2 RAWS.time_raws time array increments are min 1.0 max 2.0\n",
      "Shifted time based on forecast step 3. Dropping NA at beginning of feature data and corresponding times of output data\n",
      "2024-10-21 11:27:37,773 - INFO - BRAU1_202403 HRRR.time time array increments are 1.0 hours\n",
      "2024-10-21 11:27:37,801 - INFO - BRAU1 RAWS.time_raws time array increments are min 1.0 max 2.0\n",
      "Shifted time based on forecast step 3. Dropping NA at beginning of feature data and corresponding times of output data\n",
      "2024-10-21 11:27:37,890 - INFO - NLPU1_202403 HRRR.time time array increments are 1.0 hours\n",
      "2024-10-21 11:27:37,918 - INFO - NLPU1 RAWS.time_raws time array increments are 1.0 hours\n",
      "Shifted time based on forecast step 3. Dropping NA at beginning of feature data and corresponding times of output data\n",
      "2024-10-21 11:27:38,009 - INFO - TS010_202403 HRRR.time time array increments are 1.0 hours\n",
      "2024-10-21 11:27:38,017 - INFO - TS010 RAWS.time_raws time array increments are min 1.0 max 314.0\n",
      "Shifted time based on forecast step 3. Dropping NA at beginning of feature data and corresponding times of output data\n",
      "2024-10-21 11:27:38,093 - INFO - CUHC2_202403 HRRR.time time array increments are 1.0 hours\n",
      "2024-10-21 11:27:38,120 - INFO - CUHC2 RAWS.time_raws time array increments are 1.0 hours\n",
      "Shifted time based on forecast step 3. Dropping NA at beginning of feature data and corresponding times of output data\n",
      "2024-10-21 11:27:38,206 - INFO - BAWC2_202403 HRRR.time time array increments are 1.0 hours\n",
      "2024-10-21 11:27:38,233 - INFO - BAWC2 RAWS.time_raws time array increments are 1.0 hours\n",
      "Shifted time based on forecast step 3. Dropping NA at beginning of feature data and corresponding times of output data\n",
      "2024-10-21 11:27:38,321 - INFO - BTAC2_202403 HRRR.time time array increments are 1.0 hours\n",
      "2024-10-21 11:27:38,348 - INFO - BTAC2 RAWS.time_raws time array increments are min 1.0 max 4.0\n",
      "Shifted time based on forecast step 3. Dropping NA at beginning of feature data and corresponding times of output data\n",
      "2024-10-21 11:27:38,435 - INFO - SOPC2_202403 HRRR.time time array increments are 1.0 hours\n",
      "2024-10-21 11:27:38,462 - INFO - SOPC2 RAWS.time_raws time array increments are min 1.0 max 2.0\n",
      "Shifted time based on forecast step 3. Dropping NA at beginning of feature data and corresponding times of output data\n",
      "2024-10-21 11:27:38,550 - INFO - BMOC2_202403 HRRR.time time array increments are 1.0 hours\n",
      "2024-10-21 11:27:38,579 - INFO - BMOC2 RAWS.time_raws time array increments are min 1.0 max 2.0\n",
      "Shifted time based on forecast step 3. Dropping NA at beginning of feature data and corresponding times of output data\n",
      "2024-10-21 11:27:38,674 - INFO - CYNC2_202403 HRRR.time time array increments are 1.0 hours\n",
      "2024-10-21 11:27:38,702 - INFO - CYNC2 RAWS.time_raws time array increments are min 1.0 max 2.0\n",
      "Shifted time based on forecast step 3. Dropping NA at beginning of feature data and corresponding times of output data\n",
      "2024-10-21 11:27:38,790 - INFO - TR223_202403 HRRR.time time array increments are 1.0 hours\n",
      "2024-10-21 11:27:38,805 - INFO - TR223 RAWS.time_raws time array increments are 1.0 hours\n",
      "Shifted time based on forecast step 3. Dropping NA at beginning of feature data and corresponding times of output data\n",
      "2024-10-21 11:27:38,885 - INFO - TCTM8_202403 HRRR.time time array increments are 1.0 hours\n",
      "2024-10-21 11:27:38,915 - INFO - TCTM8 RAWS.time_raws time array increments are 1.0 hours\n",
      "Shifted time based on forecast step 3. Dropping NA at beginning of feature data and corresponding times of output data\n",
      "2024-10-21 11:27:39,003 - INFO - TR337_202403 HRRR.time time array increments are 1.0 hours\n",
      "2024-10-21 11:27:39,013 - INFO - TR337 RAWS.time_raws time array increments are min 1.0 max 826.0\n",
      "Shifted time based on forecast step 3. Dropping NA at beginning of feature data and corresponding times of output data\n",
      "2024-10-21 11:27:39,124 - INFO - VLRW4_202403 HRRR.time time array increments are 1.0 hours\n",
      "2024-10-21 11:27:39,137 - INFO - VLRW4 RAWS.time_raws time array increments are 1.0 hours\n",
      "Shifted time based on forecast step 3. Dropping NA at beginning of feature data and corresponding times of output data\n",
      "2024-10-21 11:27:39,210 - INFO - TR383_202403 HRRR.time time array increments are 1.0 hours\n",
      "2024-10-21 11:27:39,228 - INFO - TR383 RAWS.time_raws time array increments are 1.0 hours\n",
      "Shifted time based on forecast step 3. Dropping NA at beginning of feature data and corresponding times of output data\n",
      "2024-10-21 11:27:39,305 - INFO - LEIW4_202403 HRRR.time time array increments are 1.0 hours\n",
      "2024-10-21 11:27:39,331 - INFO - LEIW4 RAWS.time_raws time array increments are min 1.0 max 2.0\n",
      "Shifted time based on forecast step 3. Dropping NA at beginning of feature data and corresponding times of output data\n",
      "2024-10-21 11:27:39,421 - INFO - TR390_202403 HRRR.time time array increments are 1.0 hours\n",
      "2024-10-21 11:27:39,426 - INFO - TR390 RAWS.time_raws time array increments are 1.0 hours\n",
      "Shifted time based on forecast step 3. Dropping NA at beginning of feature data and corresponding times of output data\n",
      "2024-10-21 11:27:39,492 - INFO - TS001_202403 HRRR.time time array increments are 1.0 hours\n",
      "2024-10-21 11:27:39,506 - INFO - TS001 RAWS.time_raws time array increments are min 1.0 max 2.0\n",
      "Shifted time based on forecast step 3. Dropping NA at beginning of feature data and corresponding times of output data\n",
      "2024-10-21 11:27:39,583 - INFO - HSYN1_202403 HRRR.time time array increments are 1.0 hours\n",
      "2024-10-21 11:27:39,611 - INFO - HSYN1 RAWS.time_raws time array increments are min 1.0 max 19.0\n",
      "Shifted time based on forecast step 3. Dropping NA at beginning of feature data and corresponding times of output data\n",
      "2024-10-21 11:27:39,703 - INFO - HRSN1_202403 HRRR.time time array increments are 1.0 hours\n",
      "2024-10-21 11:27:39,730 - INFO - HRSN1 RAWS.time_raws time array increments are min 1.0 max 2.0\n",
      "Shifted time based on forecast step 3. Dropping NA at beginning of feature data and corresponding times of output data\n",
      "2024-10-21 11:27:39,819 - INFO - SBFN1_202403 HRRR.time time array increments are 1.0 hours\n",
      "2024-10-21 11:27:39,846 - INFO - SBFN1 RAWS.time_raws time array increments are min 1.0 max 6.0\n",
      "Shifted time based on forecast step 3. Dropping NA at beginning of feature data and corresponding times of output data\n",
      "2024-10-21 11:27:39,934 - INFO - DOHS2_202403 HRRR.time time array increments are 1.0 hours\n",
      "2024-10-21 11:27:39,960 - INFO - DOHS2 RAWS.time_raws time array increments are min 1.0 max 3.0\n",
      "Shifted time based on forecast step 3. Dropping NA at beginning of feature data and corresponding times of output data\n",
      "2024-10-21 11:27:40,051 - INFO - BKFS2_202403 HRRR.time time array increments are 1.0 hours\n",
      "2024-10-21 11:27:40,081 - INFO - BKFS2 RAWS.time_raws time array increments are min 1.0 max 2.0\n",
      "Shifted time based on forecast step 3. Dropping NA at beginning of feature data and corresponding times of output data\n",
      "2024-10-21 11:27:40,169 - INFO - CRRS2_202403 HRRR.time time array increments are 1.0 hours\n",
      "2024-10-21 11:27:40,197 - INFO - CRRS2 RAWS.time_raws time array increments are min 1.0 max 3.0\n",
      "Shifted time based on forecast step 3. Dropping NA at beginning of feature data and corresponding times of output data\n",
      "2024-10-21 11:27:40,283 - INFO - NMOS2_202403 HRRR.time time array increments are 1.0 hours\n",
      "2024-10-21 11:27:40,312 - INFO - NMOS2 RAWS.time_raws time array increments are min 1.0 max 2.0\n",
      "Shifted time based on forecast step 3. Dropping NA at beginning of feature data and corresponding times of output data\n",
      "2024-10-21 11:27:40,398 - INFO - RDCS2_202403 HRRR.time time array increments are 1.0 hours\n",
      "2024-10-21 11:27:40,429 - INFO - RDCS2 RAWS.time_raws time array increments are min 1.0 max 2.0\n",
      "Shifted time based on forecast step 3. Dropping NA at beginning of feature data and corresponding times of output data\n",
      "2024-10-21 11:27:40,516 - INFO - TGSK1_202403 HRRR.time time array increments are 1.0 hours\n",
      "2024-10-21 11:27:40,545 - INFO - TGSK1 RAWS.time_raws time array increments are min 1.0 max 3.0\n",
      "Shifted time based on forecast step 3. Dropping NA at beginning of feature data and corresponding times of output data\n",
      "2024-10-21 11:27:40,640 - INFO - QNRK1_202403 HRRR.time time array increments are 1.0 hours\n",
      "2024-10-21 11:27:40,668 - INFO - QNRK1 RAWS.time_raws time array increments are min 1.0 max 2.0\n",
      "Shifted time based on forecast step 3. Dropping NA at beginning of feature data and corresponding times of output data\n",
      "2024-10-21 11:27:40,756 - INFO - RESN1_202403 HRRR.time time array increments are 1.0 hours\n",
      "2024-10-21 11:27:40,789 - INFO - RESN1 RAWS.time_raws time array increments are min 1.0 max 2.0\n",
      "Shifted time based on forecast step 3. Dropping NA at beginning of feature data and corresponding times of output data\n",
      "2024-10-21 11:27:40,877 - INFO - VRFN1_202403 HRRR.time time array increments are 1.0 hours\n",
      "2024-10-21 11:27:40,906 - INFO - VRFN1 RAWS.time_raws time array increments are min 1.0 max 2.0\n",
      "Shifted time based on forecast step 3. Dropping NA at beginning of feature data and corresponding times of output data\n",
      "2024-10-21 11:27:40,995 - INFO - KSHC2_202403 HRRR.time time array increments are 1.0 hours\n",
      "2024-10-21 11:27:41,023 - INFO - KSHC2 RAWS.time_raws time array increments are min 1.0 max 2.0\n",
      "Shifted time based on forecast step 3. Dropping NA at beginning of feature data and corresponding times of output data\n",
      "2024-10-21 11:27:41,115 - INFO - TR563_202403 HRRR.time time array increments are 1.0 hours\n",
      "2024-10-21 11:27:41,142 - INFO - TR563 RAWS.time_raws time array increments are min 1.0 max 2.0\n",
      "Shifted time based on forecast step 3. Dropping NA at beginning of feature data and corresponding times of output data\n",
      "2024-10-21 11:27:41,228 - INFO - CGLK1_202403 HRRR.time time array increments are 1.0 hours\n",
      "2024-10-21 11:27:41,256 - INFO - CGLK1 RAWS.time_raws time array increments are min 1.0 max 2.0\n",
      "Shifted time based on forecast step 3. Dropping NA at beginning of feature data and corresponding times of output data\n",
      "2024-10-21 11:27:41,345 - INFO - MRLS2_202403 HRRR.time time array increments are 1.0 hours\n",
      "2024-10-21 11:27:41,372 - INFO - MRLS2 RAWS.time_raws time array increments are min 1.0 max 2.0\n",
      "Shifted time based on forecast step 3. Dropping NA at beginning of feature data and corresponding times of output data\n",
      "2024-10-21 11:27:41,462 - INFO - TR755_202403 HRRR.time time array increments are 1.0 hours\n",
      "2024-10-21 11:27:41,467 - INFO - TR755 RAWS.time_raws time array increments are 1.0 hours\n",
      "Shifted time based on forecast step 3. Dropping NA at beginning of feature data and corresponding times of output data\n",
      "2024-10-21 11:27:41,535 - INFO - DEOI4_202403 HRRR.time time array increments are 1.0 hours\n",
      "2024-10-21 11:27:41,561 - INFO - DEOI4 RAWS.time_raws time array increments are min 1.0 max 20.0\n",
      "Shifted time based on forecast step 3. Dropping NA at beginning of feature data and corresponding times of output data\n",
      "2024-10-21 11:27:41,650 - INFO - CCYC2_202403 HRRR.time time array increments are 1.0 hours\n",
      "2024-10-21 11:27:41,677 - INFO - CCYC2 RAWS.time_raws time array increments are min 1.0 max 2.0\n",
      "Shifted time based on forecast step 3. Dropping NA at beginning of feature data and corresponding times of output data\n",
      "2024-10-21 11:27:41,766 - INFO - HBOM8_202403 HRRR.time time array increments are 1.0 hours\n",
      "2024-10-21 11:27:41,793 - INFO - HBOM8 RAWS.time_raws time array increments are min 1.0 max 2.0\n",
      "Shifted time based on forecast step 3. Dropping NA at beginning of feature data and corresponding times of output data\n",
      "2024-10-21 11:27:41,882 - INFO - TR937_202403 HRRR.time time array increments are 1.0 hours\n",
      "2024-10-21 11:27:41,892 - INFO - TR937 RAWS.time_raws time array increments are min 1.0 max 2.0\n",
      "Shifted time based on forecast step 3. Dropping NA at beginning of feature data and corresponding times of output data\n",
      "2024-10-21 11:27:41,967 - INFO - TR956_202403 HRRR.time time array increments are 1.0 hours\n",
      "2024-10-21 11:27:41,983 - INFO - TR956 RAWS.time_raws time array increments are min 1.0 max 2.0\n",
      "Shifted time based on forecast step 3. Dropping NA at beginning of feature data and corresponding times of output data\n",
      "2024-10-21 11:27:42,060 - INFO - PINS2_202403 HRRR.time time array increments are 1.0 hours\n",
      "2024-10-21 11:27:42,088 - INFO - PINS2 RAWS.time_raws time array increments are min 1.0 max 25.0\n",
      "Shifted time based on forecast step 3. Dropping NA at beginning of feature data and corresponding times of output data\n",
      "2024-10-21 11:27:42,175 - INFO - DVLW4_202403 HRRR.time time array increments are 1.0 hours\n",
      "2024-10-21 11:27:42,202 - INFO - DVLW4 RAWS.time_raws time array increments are 1.0 hours\n",
      "Shifted time based on forecast step 3. Dropping NA at beginning of feature data and corresponding times of output data\n",
      "2024-10-21 11:27:42,295 - INFO - TS040_202403 HRRR.time time array increments are 1.0 hours\n",
      "2024-10-21 11:27:42,312 - INFO - TS040 RAWS.time_raws time array increments are min 1.0 max 2.0\n",
      "Shifted time based on forecast step 3. Dropping NA at beginning of feature data and corresponding times of output data\n",
      "2024-10-21 11:27:42,390 - INFO - RLAS2_202403 HRRR.time time array increments are 1.0 hours\n",
      "2024-10-21 11:27:42,417 - INFO - RLAS2 RAWS.time_raws time array increments are 1.0 hours\n",
      "Shifted time based on forecast step 3. Dropping NA at beginning of feature data and corresponding times of output data\n",
      "2024-10-21 11:27:42,506 - INFO - RHUS2_202403 HRRR.time time array increments are 1.0 hours\n",
      "2024-10-21 11:27:42,530 - INFO - RHUS2 RAWS.time_raws time array increments are min 1.0 max 2.0\n",
      "Shifted time based on forecast step 3. Dropping NA at beginning of feature data and corresponding times of output data\n",
      "2024-10-21 11:27:42,617 - INFO - JNSC2_202403 HRRR.time time array increments are 1.0 hours\n",
      "2024-10-21 11:27:42,645 - INFO - JNSC2 RAWS.time_raws time array increments are 1.0 hours\n",
      "Shifted time based on forecast step 3. Dropping NA at beginning of feature data and corresponding times of output data\n",
      "2024-10-21 11:27:42,733 - INFO - LSHI4_202403 HRRR.time time array increments are 1.0 hours\n",
      "2024-10-21 11:27:42,760 - INFO - LSHI4 RAWS.time_raws time array increments are min 1.0 max 2.0\n",
      "Shifted time based on forecast step 3. Dropping NA at beginning of feature data and corresponding times of output data\n",
      "2024-10-21 11:27:42,850 - INFO - TS305_202403 HRRR.time time array increments are 1.0 hours\n",
      "2024-10-21 11:27:42,853 - INFO - TS305 RAWS.time_raws time array increments are min 1.0 max 1496.0\n",
      "Shifted time based on forecast step 3. Dropping NA at beginning of feature data and corresponding times of output data\n",
      "2024-10-21 11:27:42,924 - INFO - TS343_202403 HRRR.time time array increments are 1.0 hours\n",
      "2024-10-21 11:27:42,925 - INFO - TS343 RAWS.time_raws time array increments are 1.0 hours\n",
      "Shifted time based on forecast step 3. Dropping NA at beginning of feature data and corresponding times of output data\n",
      "2024-10-21 11:27:42,991 - INFO - LLKS2_202403 HRRR.time time array increments are 1.0 hours\n",
      "2024-10-21 11:27:43,019 - INFO - LLKS2 RAWS.time_raws time array increments are min 1.0 max 2.0\n",
      "Shifted time based on forecast step 3. Dropping NA at beginning of feature data and corresponding times of output data\n",
      "2024-10-21 11:27:43,108 - INFO - AGTN1_202403 HRRR.time time array increments are 1.0 hours\n",
      "2024-10-21 11:27:43,138 - INFO - AGTN1 RAWS.time_raws time array increments are min 1.0 max 3.0\n",
      "Shifted time based on forecast step 3. Dropping NA at beginning of feature data and corresponding times of output data\n",
      "2024-10-21 11:27:43,227 - INFO - WCAS2_202403 HRRR.time time array increments are 1.0 hours\n",
      "2024-10-21 11:27:43,253 - INFO - WCAS2 RAWS.time_raws time array increments are 1.0 hours\n",
      "Shifted time based on forecast step 3. Dropping NA at beginning of feature data and corresponding times of output data\n",
      "2024-10-21 11:27:43,347 - INFO - RHRS2_202403 HRRR.time time array increments are 1.0 hours\n",
      "2024-10-21 11:27:43,375 - INFO - RHRS2 RAWS.time_raws time array increments are 1.0 hours\n",
      "Shifted time based on forecast step 3. Dropping NA at beginning of feature data and corresponding times of output data\n",
      "2024-10-21 11:27:43,468 - INFO - TS485_202403 HRRR.time time array increments are 1.0 hours\n",
      "2024-10-21 11:27:43,500 - INFO - TS485 RAWS.time_raws time array increments are min 1.0 max 2.0\n",
      "Shifted time based on forecast step 3. Dropping NA at beginning of feature data and corresponding times of output data\n",
      "2024-10-21 11:27:43,601 - INFO - TS578_202403 HRRR.time time array increments are 1.0 hours\n",
      "2024-10-21 11:27:43,634 - INFO - TS578 RAWS.time_raws time array increments are min 1.0 max 2.0\n",
      "Shifted time based on forecast step 3. Dropping NA at beginning of feature data and corresponding times of output data\n",
      "2024-10-21 11:27:43,721 - INFO - TS582_202403 HRRR.time time array increments are 1.0 hours\n",
      "2024-10-21 11:27:43,736 - INFO - TS582 RAWS.time_raws time array increments are min 1.0 max 2.0\n",
      "Shifted time based on forecast step 3. Dropping NA at beginning of feature data and corresponding times of output data\n",
      "2024-10-21 11:27:43,812 - INFO - HITI4_202403 HRRR.time time array increments are 1.0 hours\n",
      "2024-10-21 11:27:43,839 - INFO - HITI4 RAWS.time_raws time array increments are min 1.0 max 2.0\n",
      "Shifted time based on forecast step 3. Dropping NA at beginning of feature data and corresponding times of output data\n",
      "2024-10-21 11:27:43,925 - INFO - KRNK1_202403 HRRR.time time array increments are 1.0 hours\n",
      "2024-10-21 11:27:43,951 - INFO - KRNK1 RAWS.time_raws time array increments are 1.0 hours\n",
      "Shifted time based on forecast step 3. Dropping NA at beginning of feature data and corresponding times of output data\n",
      "2024-10-21 11:27:44,041 - INFO - AENC2_202403 HRRR.time time array increments are 1.0 hours\n",
      "2024-10-21 11:27:44,066 - INFO - AENC2 RAWS.time_raws time array increments are min 1.0 max 2.0\n",
      "Shifted time based on forecast step 3. Dropping NA at beginning of feature data and corresponding times of output data\n",
      "2024-10-21 11:27:44,154 - INFO - LSTC2_202403 HRRR.time time array increments are 1.0 hours\n",
      "2024-10-21 11:27:44,182 - INFO - LSTC2 RAWS.time_raws time array increments are 1.0 hours\n",
      "Shifted time based on forecast step 3. Dropping NA at beginning of feature data and corresponding times of output data\n",
      "2024-10-21 11:27:44,268 - INFO - LPFC2_202403 HRRR.time time array increments are 1.0 hours\n",
      "2024-10-21 11:27:44,295 - INFO - LPFC2 RAWS.time_raws time array increments are 1.0 hours\n",
      "Shifted time based on forecast step 3. Dropping NA at beginning of feature data and corresponding times of output data\n",
      "2024-10-21 11:27:44,382 - INFO - LOOC2_202403 HRRR.time time array increments are 1.0 hours\n",
      "2024-10-21 11:27:44,395 - INFO - LOOC2 RAWS.time_raws time array increments are min 1.0 max 3.0\n",
      "Shifted time based on forecast step 3. Dropping NA at beginning of feature data and corresponding times of output data\n",
      "2024-10-21 11:27:44,469 - INFO - TS661_202403 HRRR.time time array increments are 1.0 hours\n",
      "2024-10-21 11:27:44,480 - INFO - TS661 RAWS.time_raws time array increments are 1.0 hours\n",
      "Shifted time based on forecast step 3. Dropping NA at beginning of feature data and corresponding times of output data\n",
      "2024-10-21 11:27:44,552 - INFO - TS872_202403 HRRR.time time array increments are 1.0 hours\n",
      "2024-10-21 11:27:44,578 - INFO - TS872 RAWS.time_raws time array increments are min 1.0 max 3.0\n",
      "Shifted time based on forecast step 3. Dropping NA at beginning of feature data and corresponding times of output data\n",
      "2024-10-21 11:27:44,666 - INFO - TS897_202403 HRRR.time time array increments are 1.0 hours\n",
      "2024-10-21 11:27:44,692 - INFO - TS897 RAWS.time_raws time array increments are min 1.0 max 2.0\n",
      "Shifted time based on forecast step 3. Dropping NA at beginning of feature data and corresponding times of output data\n",
      "2024-10-21 11:27:44,779 - INFO - RRAC2_202403 HRRR.time time array increments are 1.0 hours\n",
      "2024-10-21 11:27:44,808 - INFO - RRAC2 RAWS.time_raws time array increments are min 1.0 max 15.0\n",
      "Shifted time based on forecast step 3. Dropping NA at beginning of feature data and corresponding times of output data\n",
      "2024-10-21 11:27:44,897 - INFO - FKTC2_202403 HRRR.time time array increments are 1.0 hours\n",
      "2024-10-21 11:27:44,923 - INFO - FKTC2 RAWS.time_raws time array increments are min 1.0 max 15.0\n",
      "Shifted time based on forecast step 3. Dropping NA at beginning of feature data and corresponding times of output data\n",
      "2024-10-21 11:27:45,015 - INFO - DMTC2_202403 HRRR.time time array increments are 1.0 hours\n",
      "2024-10-21 11:27:45,021 - INFO - DMTC2 RAWS.time_raws time array increments are 1.0 hours\n",
      "Shifted time based on forecast step 3. Dropping NA at beginning of feature data and corresponding times of output data\n",
      "2024-10-21 11:27:45,087 - INFO - WPKS2_202403 HRRR.time time array increments are 1.0 hours\n",
      "2024-10-21 11:27:45,113 - INFO - WPKS2 RAWS.time_raws time array increments are min 1.0 max 2.0\n",
      "Shifted time based on forecast step 3. Dropping NA at beginning of feature data and corresponding times of output data\n",
      "2024-10-21 11:27:45,205 - INFO - KSEC2_202403 HRRR.time time array increments are 1.0 hours\n",
      "2024-10-21 11:27:45,234 - INFO - KSEC2 RAWS.time_raws time array increments are 1.0 hours\n",
      "Shifted time based on forecast step 3. Dropping NA at beginning of feature data and corresponding times of output data\n",
      "2024-10-21 11:27:45,323 - INFO - TS946_202403 HRRR.time time array increments are 1.0 hours\n",
      "2024-10-21 11:27:45,339 - INFO - TS946 RAWS.time_raws time array increments are min 1.0 max 364.0\n",
      "Shifted time based on forecast step 3. Dropping NA at beginning of feature data and corresponding times of output data\n",
      "2024-10-21 11:27:45,415 - INFO - TS954_202403 HRRR.time time array increments are 1.0 hours\n",
      "2024-10-21 11:27:45,440 - INFO - TS954 RAWS.time_raws time array increments are min 1.0 max 2.0\n",
      "Shifted time based on forecast step 3. Dropping NA at beginning of feature data and corresponding times of output data\n",
      "2024-10-21 11:27:45,526 - INFO - TS964_202403 HRRR.time time array increments are 1.0 hours\n",
      "2024-10-21 11:27:45,541 - INFO - TS964 RAWS.time_raws time array increments are min 1.0 max 3.0\n",
      "Shifted time based on forecast step 3. Dropping NA at beginning of feature data and corresponding times of output data\n",
      "2024-10-21 11:27:45,617 - INFO - TT065_202403 HRRR.time time array increments are 1.0 hours\n",
      "2024-10-21 11:27:45,644 - INFO - TT065 RAWS.time_raws time array increments are min 1.0 max 56.0\n",
      "Shifted time based on forecast step 3. Dropping NA at beginning of feature data and corresponding times of output data\n",
      "2024-10-21 11:27:45,729 - INFO - TT081_202403 HRRR.time time array increments are 1.0 hours\n",
      "2024-10-21 11:27:45,731 - INFO - TT081 RAWS.time_raws time array increments are 0.25 hours\n",
      "Shifted time based on forecast step 3. Dropping NA at beginning of feature data and corresponding times of output data\n",
      "2024-10-21 11:27:45,796 - INFO - CSPS2_202403 HRRR.time time array increments are 1.0 hours\n",
      "2024-10-21 11:27:45,822 - INFO - CSPS2 RAWS.time_raws time array increments are min 1.0 max 2.0\n",
      "Shifted time based on forecast step 3. Dropping NA at beginning of feature data and corresponding times of output data\n",
      "2024-10-21 11:27:45,917 - INFO - SDSS2_202403 HRRR.time time array increments are 1.0 hours\n",
      "2024-10-21 11:27:45,943 - INFO - SDSS2 RAWS.time_raws time array increments are 1.0 hours\n",
      "Shifted time based on forecast step 3. Dropping NA at beginning of feature data and corresponding times of output data\n",
      "2024-10-21 11:27:46,033 - INFO - SHDS2_202403 HRRR.time time array increments are 1.0 hours\n",
      "2024-10-21 11:27:46,060 - INFO - SHDS2 RAWS.time_raws time array increments are min 1.0 max 2.0\n",
      "Shifted time based on forecast step 3. Dropping NA at beginning of feature data and corresponding times of output data\n",
      "2024-10-21 11:27:46,148 - INFO - RWES2_202403 HRRR.time time array increments are 1.0 hours\n",
      "2024-10-21 11:27:46,176 - INFO - RWES2 RAWS.time_raws time array increments are min 1.0 max 3.0\n",
      "Shifted time based on forecast step 3. Dropping NA at beginning of feature data and corresponding times of output data\n",
      "2024-10-21 11:27:46,268 - INFO - TT283_202403 HRRR.time time array increments are 1.0 hours\n",
      "2024-10-21 11:27:46,278 - INFO - TT283 RAWS.time_raws time array increments are 1.0 hours\n",
      "Shifted time based on forecast step 3. Dropping NA at beginning of feature data and corresponding times of output data\n",
      "2024-10-21 11:27:46,348 - INFO - PMTW4_202403 HRRR.time time array increments are 1.0 hours\n",
      "2024-10-21 11:27:46,377 - INFO - PMTW4 RAWS.time_raws time array increments are min 1.0 max 2.0\n",
      "Shifted time based on forecast step 3. Dropping NA at beginning of feature data and corresponding times of output data\n",
      "2024-10-21 11:27:46,463 - INFO - TT364_202403 HRRR.time time array increments are 1.0 hours\n",
      "2024-10-21 11:27:46,468 - INFO - TT364 RAWS.time_raws time array increments are 1.0 hours\n",
      "Shifted time based on forecast step 3. Dropping NA at beginning of feature data and corresponding times of output data\n",
      "2024-10-21 11:27:46,532 - INFO - BEYC2_202403 HRRR.time time array increments are 1.0 hours\n",
      "2024-10-21 11:27:46,561 - INFO - BEYC2 RAWS.time_raws time array increments are 1.0 hours\n",
      "Shifted time based on forecast step 3. Dropping NA at beginning of feature data and corresponding times of output data\n",
      "2024-10-21 11:27:46,650 - INFO - TT456_202403 HRRR.time time array increments are 1.0 hours\n",
      "2024-10-21 11:27:46,670 - INFO - TT456 RAWS.time_raws time array increments are 1.0 hours\n",
      "Shifted time based on forecast step 3. Dropping NA at beginning of feature data and corresponding times of output data\n",
      "2024-10-21 11:27:46,752 - INFO - MTRN1_202403 HRRR.time time array increments are 1.0 hours\n",
      "2024-10-21 11:27:46,779 - INFO - MTRN1 RAWS.time_raws time array increments are min 1.0 max 2.0\n",
      "Shifted time based on forecast step 3. Dropping NA at beginning of feature data and corresponding times of output data\n",
      "2024-10-21 11:27:46,866 - INFO - MKVN1_202403 HRRR.time time array increments are 1.0 hours\n",
      "2024-10-21 11:27:46,893 - INFO - MKVN1 RAWS.time_raws time array increments are min 1.0 max 2.0\n",
      "Shifted time based on forecast step 3. Dropping NA at beginning of feature data and corresponding times of output data\n",
      "2024-10-21 11:27:46,984 - INFO - TT561_202403 HRRR.time time array increments are 1.0 hours\n",
      "2024-10-21 11:27:47,012 - INFO - TT561 RAWS.time_raws time array increments are min 1.0 max 2.0\n",
      "Shifted time based on forecast step 3. Dropping NA at beginning of feature data and corresponding times of output data\n",
      "2024-10-21 11:27:47,099 - INFO - TT562_202403 HRRR.time time array increments are 1.0 hours\n",
      "2024-10-21 11:27:47,127 - INFO - TT562 RAWS.time_raws time array increments are min 1.0 max 2.0\n",
      "Shifted time based on forecast step 3. Dropping NA at beginning of feature data and corresponding times of output data\n",
      "2024-10-21 11:27:47,212 - INFO - TT563_202403 HRRR.time time array increments are 1.0 hours\n",
      "2024-10-21 11:27:47,241 - INFO - TT563 RAWS.time_raws time array increments are min 1.0 max 2.0\n",
      "Shifted time based on forecast step 3. Dropping NA at beginning of feature data and corresponding times of output data\n",
      "2024-10-21 11:27:47,327 - INFO - TT564_202403 HRRR.time time array increments are 1.0 hours\n",
      "2024-10-21 11:27:47,354 - INFO - TT564 RAWS.time_raws time array increments are min 1.0 max 2.0\n",
      "Shifted time based on forecast step 3. Dropping NA at beginning of feature data and corresponding times of output data\n",
      "2024-10-21 11:27:47,443 - INFO - TT565_202403 HRRR.time time array increments are 1.0 hours\n",
      "2024-10-21 11:27:47,476 - INFO - TT565 RAWS.time_raws time array increments are min 1.0 max 2.0\n",
      "Shifted time based on forecast step 3. Dropping NA at beginning of feature data and corresponding times of output data\n",
      "2024-10-21 11:27:47,566 - INFO - TT566_202403 HRRR.time time array increments are 1.0 hours\n",
      "2024-10-21 11:27:47,595 - INFO - TT566 RAWS.time_raws time array increments are min 1.0 max 2.0\n",
      "Shifted time based on forecast step 3. Dropping NA at beginning of feature data and corresponding times of output data\n",
      "2024-10-21 11:27:47,692 - INFO - TT567_202403 HRRR.time time array increments are 1.0 hours\n",
      "2024-10-21 11:27:47,719 - INFO - TT567 RAWS.time_raws time array increments are min 1.0 max 2.0\n",
      "Shifted time based on forecast step 3. Dropping NA at beginning of feature data and corresponding times of output data\n",
      "2024-10-21 11:27:47,808 - INFO - TT568_202403 HRRR.time time array increments are 1.0 hours\n",
      "2024-10-21 11:27:47,835 - INFO - TT568 RAWS.time_raws time array increments are min 1.0 max 2.0\n",
      "Shifted time based on forecast step 3. Dropping NA at beginning of feature data and corresponding times of output data\n",
      "2024-10-21 11:27:47,924 - INFO - TT574_202403 HRRR.time time array increments are 1.0 hours\n",
      "2024-10-21 11:27:47,942 - INFO - TT574 RAWS.time_raws time array increments are min 1.0 max 2.0\n",
      "Shifted time based on forecast step 3. Dropping NA at beginning of feature data and corresponding times of output data\n",
      "2024-10-21 11:27:48,019 - INFO - SFRS2_202403 HRRR.time time array increments are 1.0 hours\n",
      "2024-10-21 11:27:48,046 - INFO - SFRS2 RAWS.time_raws time array increments are min 1.0 max 2.0\n",
      "Shifted time based on forecast step 3. Dropping NA at beginning of feature data and corresponding times of output data\n",
      "2024-10-21 11:27:48,133 - INFO - TT590_202403 HRRR.time time array increments are 1.0 hours\n",
      "2024-10-21 11:27:48,143 - INFO - TT590 RAWS.time_raws time array increments are min 1.0 max 2.0\n",
      "Shifted time based on forecast step 3. Dropping NA at beginning of feature data and corresponding times of output data\n",
      "2024-10-21 11:27:48,214 - INFO - TT591_202403 HRRR.time time array increments are 1.0 hours\n",
      "2024-10-21 11:27:48,241 - INFO - TT591 RAWS.time_raws time array increments are min 1.0 max 2.0\n",
      "Shifted time based on forecast step 3. Dropping NA at beginning of feature data and corresponding times of output data\n",
      "2024-10-21 11:27:48,336 - INFO - TT610_202403 HRRR.time time array increments are 1.0 hours\n",
      "2024-10-21 11:27:48,363 - INFO - TT610 RAWS.time_raws time array increments are min 1.0 max 2.0\n",
      "Shifted time based on forecast step 3. Dropping NA at beginning of feature data and corresponding times of output data\n",
      "2024-10-21 11:27:48,464 - INFO - TT681_202403 HRRR.time time array increments are 1.0 hours\n",
      "2024-10-21 11:27:48,473 - INFO - TT681 RAWS.time_raws time array increments are min 1.0 max 918.0\n",
      "Shifted time based on forecast step 3. Dropping NA at beginning of feature data and corresponding times of output data\n",
      "2024-10-21 11:27:48,543 - INFO - TT689_202403 HRRR.time time array increments are 1.0 hours\n",
      "2024-10-21 11:27:48,569 - INFO - TT689 RAWS.time_raws time array increments are min 1.0 max 2.0\n",
      "Shifted time based on forecast step 3. Dropping NA at beginning of feature data and corresponding times of output data\n",
      "2024-10-21 11:27:48,656 - INFO - TT695_202403 HRRR.time time array increments are 1.0 hours\n",
      "2024-10-21 11:27:48,682 - INFO - TT695 RAWS.time_raws time array increments are min 1.0 max 2.0\n",
      "Shifted time based on forecast step 3. Dropping NA at beginning of feature data and corresponding times of output data\n",
      "2024-10-21 11:27:48,773 - INFO - TT696_202403 HRRR.time time array increments are 1.0 hours\n",
      "2024-10-21 11:27:48,799 - INFO - TT696 RAWS.time_raws time array increments are min 1.0 max 2.0\n",
      "Shifted time based on forecast step 3. Dropping NA at beginning of feature data and corresponding times of output data\n",
      "2024-10-21 11:27:48,888 - INFO - C3SKI_202403 HRRR.time time array increments are 1.0 hours\n",
      "2024-10-21 11:27:48,914 - INFO - C3SKI RAWS.time_raws time array increments are min 1.0 max 19.0\n",
      "Shifted time based on forecast step 3. Dropping NA at beginning of feature data and corresponding times of output data\n",
      "2024-10-21 11:27:49,000 - INFO - TT784_202403 HRRR.time time array increments are 1.0 hours\n",
      "2024-10-21 11:27:49,010 - INFO - TT784 RAWS.time_raws time array increments are min 1.0 max 2.0\n",
      "Shifted time based on forecast step 3. Dropping NA at beginning of feature data and corresponding times of output data\n",
      "2024-10-21 11:27:49,082 - INFO - TT787_202403 HRRR.time time array increments are 1.0 hours\n",
      "2024-10-21 11:27:49,108 - INFO - TT787 RAWS.time_raws time array increments are 1.0 hours\n",
      "Shifted time based on forecast step 3. Dropping NA at beginning of feature data and corresponding times of output data\n",
      "2024-10-21 11:27:49,195 - INFO - TT788_202403 HRRR.time time array increments are 1.0 hours\n",
      "2024-10-21 11:27:49,221 - INFO - TT788 RAWS.time_raws time array increments are 1.0 hours\n",
      "Shifted time based on forecast step 3. Dropping NA at beginning of feature data and corresponding times of output data\n",
      "2024-10-21 11:27:49,311 - INFO - TT789_202403 HRRR.time time array increments are 1.0 hours\n",
      "2024-10-21 11:27:49,340 - INFO - TT789 RAWS.time_raws time array increments are 1.0 hours\n",
      "Shifted time based on forecast step 3. Dropping NA at beginning of feature data and corresponding times of output data\n",
      "2024-10-21 11:27:49,426 - INFO - TT813_202403 HRRR.time time array increments are 1.0 hours\n",
      "2024-10-21 11:27:49,441 - INFO - TT813 RAWS.time_raws time array increments are 1.0 hours\n",
      "Shifted time based on forecast step 3. Dropping NA at beginning of feature data and corresponding times of output data\n",
      "2024-10-21 11:27:49,517 - INFO - TT815_202403 HRRR.time time array increments are 1.0 hours\n",
      "2024-10-21 11:27:49,527 - INFO - TT815 RAWS.time_raws time array increments are min 1.0 max 7.0\n",
      "Shifted time based on forecast step 3. Dropping NA at beginning of feature data and corresponding times of output data\n",
      "2024-10-21 11:27:49,596 - INFO - TT816_202403 HRRR.time time array increments are 1.0 hours\n",
      "2024-10-21 11:27:49,607 - INFO - TT816 RAWS.time_raws time array increments are 1.0 hours\n",
      "Shifted time based on forecast step 3. Dropping NA at beginning of feature data and corresponding times of output data\n",
      "~~~~~~~~~~~~~~~~~~~~~~~~~~~~~~~~~~~~~~~~~~~~~~~~~~\n",
      "Case: CPTC2_202403\n",
      "Flagging case CPTC2_202403 for zero lag stretches greater than param 10\n",
      "Flagging case CPTC2_202403 for constant linear stretches greater than param 10\n",
      "~~~~~~~~~~~~~~~~~~~~~~~~~~~~~~~~~~~~~~~~~~~~~~~~~~\n",
      "Case: CHAC2_202403\n",
      "~~~~~~~~~~~~~~~~~~~~~~~~~~~~~~~~~~~~~~~~~~~~~~~~~~\n",
      "Case: CHRC2_202403\n",
      "~~~~~~~~~~~~~~~~~~~~~~~~~~~~~~~~~~~~~~~~~~~~~~~~~~\n",
      "Case: DYKC2_202403\n",
      "~~~~~~~~~~~~~~~~~~~~~~~~~~~~~~~~~~~~~~~~~~~~~~~~~~\n",
      "Case: LKGC2_202403\n",
      "~~~~~~~~~~~~~~~~~~~~~~~~~~~~~~~~~~~~~~~~~~~~~~~~~~\n",
      "Case: CCEC2_202403\n",
      "~~~~~~~~~~~~~~~~~~~~~~~~~~~~~~~~~~~~~~~~~~~~~~~~~~\n",
      "Case: RDKC2_202403\n",
      "~~~~~~~~~~~~~~~~~~~~~~~~~~~~~~~~~~~~~~~~~~~~~~~~~~\n",
      "Case: RFRC2_202403\n",
      "~~~~~~~~~~~~~~~~~~~~~~~~~~~~~~~~~~~~~~~~~~~~~~~~~~\n",
      "Case: SAWC2_202403\n",
      "Flagging case SAWC2_202403 for zero lag stretches greater than param 10\n",
      "Flagging case SAWC2_202403 for constant linear stretches greater than param 10\n",
      "~~~~~~~~~~~~~~~~~~~~~~~~~~~~~~~~~~~~~~~~~~~~~~~~~~\n",
      "Case: WLCC2_202403\n",
      "~~~~~~~~~~~~~~~~~~~~~~~~~~~~~~~~~~~~~~~~~~~~~~~~~~\n",
      "Case: CCRU1_202403\n",
      "~~~~~~~~~~~~~~~~~~~~~~~~~~~~~~~~~~~~~~~~~~~~~~~~~~\n",
      "Case: HSRU1_202403\n",
      "Flagging case HSRU1_202403 for zero lag stretches greater than param 10\n",
      "Flagging case HSRU1_202403 for constant linear stretches greater than param 10\n",
      "~~~~~~~~~~~~~~~~~~~~~~~~~~~~~~~~~~~~~~~~~~~~~~~~~~\n",
      "Case: YLSU1_202403\n",
      "~~~~~~~~~~~~~~~~~~~~~~~~~~~~~~~~~~~~~~~~~~~~~~~~~~\n",
      "Case: BRLW4_202403\n",
      "Flagging case BRLW4_202403 for constant linear stretches greater than param 10\n",
      "~~~~~~~~~~~~~~~~~~~~~~~~~~~~~~~~~~~~~~~~~~~~~~~~~~\n",
      "Case: GTGW4_202403\n",
      "Flagging case GTGW4_202403 for zero lag stretches greater than param 10\n",
      "Flagging case GTGW4_202403 for constant linear stretches greater than param 10\n",
      "~~~~~~~~~~~~~~~~~~~~~~~~~~~~~~~~~~~~~~~~~~~~~~~~~~\n",
      "Case: SAWW4_202403\n",
      "Flagging case SAWW4_202403 for zero lag stretches greater than param 10\n",
      "Flagging case SAWW4_202403 for constant linear stretches greater than param 10\n",
      "~~~~~~~~~~~~~~~~~~~~~~~~~~~~~~~~~~~~~~~~~~~~~~~~~~\n",
      "Case: SPKW4_202403\n",
      "~~~~~~~~~~~~~~~~~~~~~~~~~~~~~~~~~~~~~~~~~~~~~~~~~~\n",
      "Case: ESPC2_202403\n",
      "~~~~~~~~~~~~~~~~~~~~~~~~~~~~~~~~~~~~~~~~~~~~~~~~~~\n",
      "Case: MRFC2_202403\n",
      "~~~~~~~~~~~~~~~~~~~~~~~~~~~~~~~~~~~~~~~~~~~~~~~~~~\n",
      "Case: PKLC2_202403\n",
      "~~~~~~~~~~~~~~~~~~~~~~~~~~~~~~~~~~~~~~~~~~~~~~~~~~\n",
      "Case: BRAU1_202403\n",
      "Flagging case BRAU1_202403 for zero lag stretches greater than param 10\n",
      "Flagging case BRAU1_202403 for constant linear stretches greater than param 10\n",
      "~~~~~~~~~~~~~~~~~~~~~~~~~~~~~~~~~~~~~~~~~~~~~~~~~~\n",
      "Case: NLPU1_202403\n",
      "Flagging case NLPU1_202403 for zero lag stretches greater than param 10\n",
      "Flagging case NLPU1_202403 for constant linear stretches greater than param 10\n",
      "~~~~~~~~~~~~~~~~~~~~~~~~~~~~~~~~~~~~~~~~~~~~~~~~~~\n",
      "Case: TS010_202403\n",
      "Flagging case TS010_202403 for zero lag stretches greater than param 10\n",
      "Flagging case TS010_202403 for constant linear stretches greater than param 10\n",
      "~~~~~~~~~~~~~~~~~~~~~~~~~~~~~~~~~~~~~~~~~~~~~~~~~~\n",
      "Case: CUHC2_202403\n",
      "~~~~~~~~~~~~~~~~~~~~~~~~~~~~~~~~~~~~~~~~~~~~~~~~~~\n",
      "Case: BAWC2_202403\n",
      "~~~~~~~~~~~~~~~~~~~~~~~~~~~~~~~~~~~~~~~~~~~~~~~~~~\n",
      "Case: BTAC2_202403\n",
      "~~~~~~~~~~~~~~~~~~~~~~~~~~~~~~~~~~~~~~~~~~~~~~~~~~\n",
      "Case: SOPC2_202403\n",
      "Flagging case SOPC2_202403 for zero lag stretches greater than param 10\n",
      "Flagging case SOPC2_202403 for constant linear stretches greater than param 10\n",
      "~~~~~~~~~~~~~~~~~~~~~~~~~~~~~~~~~~~~~~~~~~~~~~~~~~\n",
      "Case: BMOC2_202403\n",
      "~~~~~~~~~~~~~~~~~~~~~~~~~~~~~~~~~~~~~~~~~~~~~~~~~~\n",
      "Case: CYNC2_202403\n",
      "Flagging case CYNC2_202403 for zero lag stretches greater than param 10\n",
      "Flagging case CYNC2_202403 for constant linear stretches greater than param 10\n",
      "~~~~~~~~~~~~~~~~~~~~~~~~~~~~~~~~~~~~~~~~~~~~~~~~~~\n",
      "Case: TR223_202403\n",
      "Flagging case TR223_202403 for zero lag stretches greater than param 10\n",
      "Flagging case TR223_202403 for constant linear stretches greater than param 10\n",
      "~~~~~~~~~~~~~~~~~~~~~~~~~~~~~~~~~~~~~~~~~~~~~~~~~~\n",
      "Case: TCTM8_202403\n",
      "~~~~~~~~~~~~~~~~~~~~~~~~~~~~~~~~~~~~~~~~~~~~~~~~~~\n",
      "Case: TR337_202403\n",
      "Flagging case TR337_202403 for zero lag stretches greater than param 10\n",
      "Flagging case TR337_202403 for constant linear stretches greater than param 10\n",
      "~~~~~~~~~~~~~~~~~~~~~~~~~~~~~~~~~~~~~~~~~~~~~~~~~~\n",
      "Case: VLRW4_202403\n",
      "Flagging case VLRW4_202403 for zero lag stretches greater than param 10\n",
      "Flagging case VLRW4_202403 for constant linear stretches greater than param 10\n",
      "~~~~~~~~~~~~~~~~~~~~~~~~~~~~~~~~~~~~~~~~~~~~~~~~~~\n",
      "Case: TR383_202403\n",
      "Flagging case TR383_202403 for zero lag stretches greater than param 10\n",
      "Flagging case TR383_202403 for constant linear stretches greater than param 10\n",
      "~~~~~~~~~~~~~~~~~~~~~~~~~~~~~~~~~~~~~~~~~~~~~~~~~~\n",
      "Case: LEIW4_202403\n",
      "~~~~~~~~~~~~~~~~~~~~~~~~~~~~~~~~~~~~~~~~~~~~~~~~~~\n",
      "Case: TR390_202403\n",
      "Flagging case TR390_202403 for zero lag stretches greater than param 10\n",
      "Flagging case TR390_202403 for constant linear stretches greater than param 10\n",
      "~~~~~~~~~~~~~~~~~~~~~~~~~~~~~~~~~~~~~~~~~~~~~~~~~~\n",
      "Case: TS001_202403\n",
      "Flagging case TS001_202403 for zero lag stretches greater than param 10\n",
      "Flagging case TS001_202403 for constant linear stretches greater than param 10\n",
      "~~~~~~~~~~~~~~~~~~~~~~~~~~~~~~~~~~~~~~~~~~~~~~~~~~\n",
      "Case: HSYN1_202403\n",
      "Flagging case HSYN1_202403 for constant linear stretches greater than param 10\n",
      "~~~~~~~~~~~~~~~~~~~~~~~~~~~~~~~~~~~~~~~~~~~~~~~~~~\n",
      "Case: HRSN1_202403\n",
      "~~~~~~~~~~~~~~~~~~~~~~~~~~~~~~~~~~~~~~~~~~~~~~~~~~\n",
      "Case: SBFN1_202403\n",
      "~~~~~~~~~~~~~~~~~~~~~~~~~~~~~~~~~~~~~~~~~~~~~~~~~~\n",
      "Case: DOHS2_202403\n",
      "~~~~~~~~~~~~~~~~~~~~~~~~~~~~~~~~~~~~~~~~~~~~~~~~~~\n",
      "Case: BKFS2_202403\n",
      "Flagging case BKFS2_202403 for zero lag stretches greater than param 10\n",
      "Flagging case BKFS2_202403 for constant linear stretches greater than param 10\n",
      "~~~~~~~~~~~~~~~~~~~~~~~~~~~~~~~~~~~~~~~~~~~~~~~~~~\n",
      "Case: CRRS2_202403\n",
      "~~~~~~~~~~~~~~~~~~~~~~~~~~~~~~~~~~~~~~~~~~~~~~~~~~\n",
      "Case: NMOS2_202403\n",
      "~~~~~~~~~~~~~~~~~~~~~~~~~~~~~~~~~~~~~~~~~~~~~~~~~~\n",
      "Case: RDCS2_202403\n",
      "~~~~~~~~~~~~~~~~~~~~~~~~~~~~~~~~~~~~~~~~~~~~~~~~~~\n",
      "Case: TGSK1_202403\n",
      "~~~~~~~~~~~~~~~~~~~~~~~~~~~~~~~~~~~~~~~~~~~~~~~~~~\n",
      "Case: QNRK1_202403\n",
      "~~~~~~~~~~~~~~~~~~~~~~~~~~~~~~~~~~~~~~~~~~~~~~~~~~\n",
      "Case: RESN1_202403\n",
      "~~~~~~~~~~~~~~~~~~~~~~~~~~~~~~~~~~~~~~~~~~~~~~~~~~\n",
      "Case: VRFN1_202403\n",
      "~~~~~~~~~~~~~~~~~~~~~~~~~~~~~~~~~~~~~~~~~~~~~~~~~~\n",
      "Case: KSHC2_202403\n",
      "~~~~~~~~~~~~~~~~~~~~~~~~~~~~~~~~~~~~~~~~~~~~~~~~~~\n",
      "Case: TR563_202403\n",
      "~~~~~~~~~~~~~~~~~~~~~~~~~~~~~~~~~~~~~~~~~~~~~~~~~~\n",
      "Case: CGLK1_202403\n",
      "~~~~~~~~~~~~~~~~~~~~~~~~~~~~~~~~~~~~~~~~~~~~~~~~~~\n",
      "Case: MRLS2_202403\n",
      "~~~~~~~~~~~~~~~~~~~~~~~~~~~~~~~~~~~~~~~~~~~~~~~~~~\n",
      "Case: TR755_202403\n",
      "Flagging case TR755_202403 for zero lag stretches greater than param 10\n",
      "Flagging case TR755_202403 for constant linear stretches greater than param 10\n",
      "~~~~~~~~~~~~~~~~~~~~~~~~~~~~~~~~~~~~~~~~~~~~~~~~~~\n",
      "Case: DEOI4_202403\n",
      "Flagging case DEOI4_202403 for constant linear stretches greater than param 10\n",
      "~~~~~~~~~~~~~~~~~~~~~~~~~~~~~~~~~~~~~~~~~~~~~~~~~~\n",
      "Case: CCYC2_202403\n",
      "~~~~~~~~~~~~~~~~~~~~~~~~~~~~~~~~~~~~~~~~~~~~~~~~~~\n",
      "Case: HBOM8_202403\n",
      "Flagging case HBOM8_202403 for zero lag stretches greater than param 10\n",
      "~~~~~~~~~~~~~~~~~~~~~~~~~~~~~~~~~~~~~~~~~~~~~~~~~~\n",
      "Case: TR937_202403\n",
      "Flagging case TR937_202403 for zero lag stretches greater than param 10\n",
      "Flagging case TR937_202403 for constant linear stretches greater than param 10\n",
      "~~~~~~~~~~~~~~~~~~~~~~~~~~~~~~~~~~~~~~~~~~~~~~~~~~\n",
      "Case: TR956_202403\n",
      "Flagging case TR956_202403 for zero lag stretches greater than param 10\n",
      "Flagging case TR956_202403 for constant linear stretches greater than param 10\n",
      "~~~~~~~~~~~~~~~~~~~~~~~~~~~~~~~~~~~~~~~~~~~~~~~~~~\n",
      "Case: PINS2_202403\n",
      "Flagging case PINS2_202403 for constant linear stretches greater than param 10\n",
      "~~~~~~~~~~~~~~~~~~~~~~~~~~~~~~~~~~~~~~~~~~~~~~~~~~\n",
      "Case: DVLW4_202403\n",
      "Flagging case DVLW4_202403 for zero lag stretches greater than param 10\n",
      "Flagging case DVLW4_202403 for constant linear stretches greater than param 10\n",
      "~~~~~~~~~~~~~~~~~~~~~~~~~~~~~~~~~~~~~~~~~~~~~~~~~~\n",
      "Case: TS040_202403\n",
      "Flagging case TS040_202403 for zero lag stretches greater than param 10\n",
      "Flagging case TS040_202403 for constant linear stretches greater than param 10\n",
      "~~~~~~~~~~~~~~~~~~~~~~~~~~~~~~~~~~~~~~~~~~~~~~~~~~\n",
      "Case: RLAS2_202403\n",
      "Flagging case RLAS2_202403 for zero lag stretches greater than param 10\n",
      "Flagging case RLAS2_202403 for constant linear stretches greater than param 10\n",
      "~~~~~~~~~~~~~~~~~~~~~~~~~~~~~~~~~~~~~~~~~~~~~~~~~~\n",
      "Case: RHUS2_202403\n",
      "Flagging case RHUS2_202403 for zero lag stretches greater than param 10\n",
      "Flagging case RHUS2_202403 for constant linear stretches greater than param 10\n",
      "~~~~~~~~~~~~~~~~~~~~~~~~~~~~~~~~~~~~~~~~~~~~~~~~~~\n",
      "Case: JNSC2_202403\n",
      "~~~~~~~~~~~~~~~~~~~~~~~~~~~~~~~~~~~~~~~~~~~~~~~~~~\n",
      "Case: LSHI4_202403\n",
      "~~~~~~~~~~~~~~~~~~~~~~~~~~~~~~~~~~~~~~~~~~~~~~~~~~\n",
      "Case: TS305_202403\n",
      "Flagging case TS305_202403 for zero lag stretches greater than param 10\n",
      "Flagging case TS305_202403 for constant linear stretches greater than param 10\n",
      "~~~~~~~~~~~~~~~~~~~~~~~~~~~~~~~~~~~~~~~~~~~~~~~~~~\n",
      "Case: TS343_202403\n",
      "Flagging case TS343_202403 for zero lag stretches greater than param 10\n",
      "Flagging case TS343_202403 for constant linear stretches greater than param 10\n",
      "~~~~~~~~~~~~~~~~~~~~~~~~~~~~~~~~~~~~~~~~~~~~~~~~~~\n",
      "Case: LLKS2_202403\n",
      "~~~~~~~~~~~~~~~~~~~~~~~~~~~~~~~~~~~~~~~~~~~~~~~~~~\n",
      "Case: AGTN1_202403\n",
      "~~~~~~~~~~~~~~~~~~~~~~~~~~~~~~~~~~~~~~~~~~~~~~~~~~\n",
      "Case: WCAS2_202403\n",
      "~~~~~~~~~~~~~~~~~~~~~~~~~~~~~~~~~~~~~~~~~~~~~~~~~~\n",
      "Case: RHRS2_202403\n",
      "~~~~~~~~~~~~~~~~~~~~~~~~~~~~~~~~~~~~~~~~~~~~~~~~~~\n",
      "Case: TS485_202403\n",
      "~~~~~~~~~~~~~~~~~~~~~~~~~~~~~~~~~~~~~~~~~~~~~~~~~~\n",
      "Case: TS578_202403\n",
      "~~~~~~~~~~~~~~~~~~~~~~~~~~~~~~~~~~~~~~~~~~~~~~~~~~\n",
      "Case: TS582_202403\n",
      "Flagging case TS582_202403 for zero lag stretches greater than param 10\n",
      "Flagging case TS582_202403 for constant linear stretches greater than param 10\n",
      "~~~~~~~~~~~~~~~~~~~~~~~~~~~~~~~~~~~~~~~~~~~~~~~~~~\n",
      "Case: HITI4_202403\n",
      "~~~~~~~~~~~~~~~~~~~~~~~~~~~~~~~~~~~~~~~~~~~~~~~~~~\n",
      "Case: KRNK1_202403\n",
      "~~~~~~~~~~~~~~~~~~~~~~~~~~~~~~~~~~~~~~~~~~~~~~~~~~\n",
      "Case: AENC2_202403\n",
      "~~~~~~~~~~~~~~~~~~~~~~~~~~~~~~~~~~~~~~~~~~~~~~~~~~\n",
      "Case: LSTC2_202403\n",
      "Flagging case LSTC2_202403 for zero lag stretches greater than param 10\n",
      "~~~~~~~~~~~~~~~~~~~~~~~~~~~~~~~~~~~~~~~~~~~~~~~~~~\n",
      "Case: LPFC2_202403\n",
      "~~~~~~~~~~~~~~~~~~~~~~~~~~~~~~~~~~~~~~~~~~~~~~~~~~\n",
      "Case: LOOC2_202403\n",
      "Flagging case LOOC2_202403 for zero lag stretches greater than param 10\n",
      "Flagging case LOOC2_202403 for constant linear stretches greater than param 10\n",
      "~~~~~~~~~~~~~~~~~~~~~~~~~~~~~~~~~~~~~~~~~~~~~~~~~~\n",
      "Case: TS661_202403\n",
      "Flagging case TS661_202403 for zero lag stretches greater than param 10\n",
      "Flagging case TS661_202403 for constant linear stretches greater than param 10\n",
      "~~~~~~~~~~~~~~~~~~~~~~~~~~~~~~~~~~~~~~~~~~~~~~~~~~\n",
      "Case: TS872_202403\n",
      "~~~~~~~~~~~~~~~~~~~~~~~~~~~~~~~~~~~~~~~~~~~~~~~~~~\n",
      "Case: TS897_202403\n",
      "Flagging case TS897_202403 for constant linear stretches greater than param 10\n",
      "~~~~~~~~~~~~~~~~~~~~~~~~~~~~~~~~~~~~~~~~~~~~~~~~~~\n",
      "Case: RRAC2_202403\n",
      "Flagging case RRAC2_202403 for constant linear stretches greater than param 10\n",
      "~~~~~~~~~~~~~~~~~~~~~~~~~~~~~~~~~~~~~~~~~~~~~~~~~~\n",
      "Case: FKTC2_202403\n",
      "Flagging case FKTC2_202403 for constant linear stretches greater than param 10\n",
      "~~~~~~~~~~~~~~~~~~~~~~~~~~~~~~~~~~~~~~~~~~~~~~~~~~\n",
      "Case: DMTC2_202403\n",
      "Flagging case DMTC2_202403 for zero lag stretches greater than param 10\n",
      "Flagging case DMTC2_202403 for constant linear stretches greater than param 10\n",
      "~~~~~~~~~~~~~~~~~~~~~~~~~~~~~~~~~~~~~~~~~~~~~~~~~~\n",
      "Case: WPKS2_202403\n",
      "~~~~~~~~~~~~~~~~~~~~~~~~~~~~~~~~~~~~~~~~~~~~~~~~~~\n",
      "Case: KSEC2_202403\n",
      "Flagging case KSEC2_202403 for zero lag stretches greater than param 10\n",
      "Flagging case KSEC2_202403 for constant linear stretches greater than param 10\n",
      "~~~~~~~~~~~~~~~~~~~~~~~~~~~~~~~~~~~~~~~~~~~~~~~~~~\n",
      "Case: TS946_202403\n",
      "Flagging case TS946_202403 for zero lag stretches greater than param 10\n",
      "Flagging case TS946_202403 for constant linear stretches greater than param 10\n",
      "~~~~~~~~~~~~~~~~~~~~~~~~~~~~~~~~~~~~~~~~~~~~~~~~~~\n",
      "Case: TS954_202403\n",
      "Flagging case TS954_202403 for zero lag stretches greater than param 10\n",
      "Flagging case TS954_202403 for constant linear stretches greater than param 10\n",
      "~~~~~~~~~~~~~~~~~~~~~~~~~~~~~~~~~~~~~~~~~~~~~~~~~~\n",
      "Case: TS964_202403\n",
      "Flagging case TS964_202403 for zero lag stretches greater than param 10\n",
      "Flagging case TS964_202403 for constant linear stretches greater than param 10\n",
      "~~~~~~~~~~~~~~~~~~~~~~~~~~~~~~~~~~~~~~~~~~~~~~~~~~\n",
      "Case: TT065_202403\n",
      "Flagging case TT065_202403 for constant linear stretches greater than param 10\n",
      "~~~~~~~~~~~~~~~~~~~~~~~~~~~~~~~~~~~~~~~~~~~~~~~~~~\n",
      "Case: TT081_202403\n",
      "Flagging case TT081_202403 for zero lag stretches greater than param 10\n",
      "Flagging case TT081_202403 for constant linear stretches greater than param 10\n",
      "~~~~~~~~~~~~~~~~~~~~~~~~~~~~~~~~~~~~~~~~~~~~~~~~~~\n",
      "Case: CSPS2_202403\n",
      "~~~~~~~~~~~~~~~~~~~~~~~~~~~~~~~~~~~~~~~~~~~~~~~~~~\n",
      "Case: SDSS2_202403\n",
      "~~~~~~~~~~~~~~~~~~~~~~~~~~~~~~~~~~~~~~~~~~~~~~~~~~\n",
      "Case: SHDS2_202403\n",
      "~~~~~~~~~~~~~~~~~~~~~~~~~~~~~~~~~~~~~~~~~~~~~~~~~~\n",
      "Case: RWES2_202403\n",
      "~~~~~~~~~~~~~~~~~~~~~~~~~~~~~~~~~~~~~~~~~~~~~~~~~~\n",
      "Case: TT283_202403\n",
      "Flagging case TT283_202403 for zero lag stretches greater than param 10\n",
      "Flagging case TT283_202403 for constant linear stretches greater than param 10\n",
      "~~~~~~~~~~~~~~~~~~~~~~~~~~~~~~~~~~~~~~~~~~~~~~~~~~\n",
      "Case: PMTW4_202403\n",
      "~~~~~~~~~~~~~~~~~~~~~~~~~~~~~~~~~~~~~~~~~~~~~~~~~~\n",
      "Case: TT364_202403\n",
      "Flagging case TT364_202403 for zero lag stretches greater than param 10\n",
      "Flagging case TT364_202403 for constant linear stretches greater than param 10\n",
      "~~~~~~~~~~~~~~~~~~~~~~~~~~~~~~~~~~~~~~~~~~~~~~~~~~\n",
      "Case: BEYC2_202403\n",
      "~~~~~~~~~~~~~~~~~~~~~~~~~~~~~~~~~~~~~~~~~~~~~~~~~~\n",
      "Case: TT456_202403\n",
      "Flagging case TT456_202403 for zero lag stretches greater than param 10\n",
      "Flagging case TT456_202403 for constant linear stretches greater than param 10\n",
      "~~~~~~~~~~~~~~~~~~~~~~~~~~~~~~~~~~~~~~~~~~~~~~~~~~\n",
      "Case: MTRN1_202403\n",
      "~~~~~~~~~~~~~~~~~~~~~~~~~~~~~~~~~~~~~~~~~~~~~~~~~~\n",
      "Case: MKVN1_202403\n",
      "~~~~~~~~~~~~~~~~~~~~~~~~~~~~~~~~~~~~~~~~~~~~~~~~~~\n",
      "Case: TT561_202403\n",
      "Flagging case TT561_202403 for zero lag stretches greater than param 10\n",
      "Flagging case TT561_202403 for constant linear stretches greater than param 10\n",
      "~~~~~~~~~~~~~~~~~~~~~~~~~~~~~~~~~~~~~~~~~~~~~~~~~~\n",
      "Case: TT562_202403\n",
      "~~~~~~~~~~~~~~~~~~~~~~~~~~~~~~~~~~~~~~~~~~~~~~~~~~\n",
      "Case: TT563_202403\n",
      "~~~~~~~~~~~~~~~~~~~~~~~~~~~~~~~~~~~~~~~~~~~~~~~~~~\n",
      "Case: TT564_202403\n",
      "~~~~~~~~~~~~~~~~~~~~~~~~~~~~~~~~~~~~~~~~~~~~~~~~~~\n",
      "Case: TT565_202403\n",
      "~~~~~~~~~~~~~~~~~~~~~~~~~~~~~~~~~~~~~~~~~~~~~~~~~~\n",
      "Case: TT566_202403\n",
      "~~~~~~~~~~~~~~~~~~~~~~~~~~~~~~~~~~~~~~~~~~~~~~~~~~\n",
      "Case: TT567_202403\n",
      "~~~~~~~~~~~~~~~~~~~~~~~~~~~~~~~~~~~~~~~~~~~~~~~~~~\n",
      "Case: TT568_202403\n",
      "~~~~~~~~~~~~~~~~~~~~~~~~~~~~~~~~~~~~~~~~~~~~~~~~~~\n",
      "Case: TT574_202403\n",
      "Flagging case TT574_202403 for zero lag stretches greater than param 10\n",
      "Flagging case TT574_202403 for constant linear stretches greater than param 10\n",
      "~~~~~~~~~~~~~~~~~~~~~~~~~~~~~~~~~~~~~~~~~~~~~~~~~~\n",
      "Case: SFRS2_202403\n",
      "~~~~~~~~~~~~~~~~~~~~~~~~~~~~~~~~~~~~~~~~~~~~~~~~~~\n",
      "Case: TT590_202403\n",
      "Flagging case TT590_202403 for zero lag stretches greater than param 10\n",
      "Flagging case TT590_202403 for constant linear stretches greater than param 10\n",
      "~~~~~~~~~~~~~~~~~~~~~~~~~~~~~~~~~~~~~~~~~~~~~~~~~~\n",
      "Case: TT591_202403\n",
      "~~~~~~~~~~~~~~~~~~~~~~~~~~~~~~~~~~~~~~~~~~~~~~~~~~\n",
      "Case: TT610_202403\n",
      "~~~~~~~~~~~~~~~~~~~~~~~~~~~~~~~~~~~~~~~~~~~~~~~~~~\n",
      "Case: TT681_202403\n",
      "Flagging case TT681_202403 for zero lag stretches greater than param 10\n",
      "Flagging case TT681_202403 for constant linear stretches greater than param 10\n",
      "~~~~~~~~~~~~~~~~~~~~~~~~~~~~~~~~~~~~~~~~~~~~~~~~~~\n",
      "Case: TT689_202403\n",
      "Flagging case TT689_202403 for zero lag stretches greater than param 10\n",
      "Flagging case TT689_202403 for constant linear stretches greater than param 10\n",
      "~~~~~~~~~~~~~~~~~~~~~~~~~~~~~~~~~~~~~~~~~~~~~~~~~~\n",
      "Case: TT695_202403\n",
      "Flagging case TT695_202403 for zero lag stretches greater than param 10\n",
      "Flagging case TT695_202403 for constant linear stretches greater than param 10\n",
      "~~~~~~~~~~~~~~~~~~~~~~~~~~~~~~~~~~~~~~~~~~~~~~~~~~\n",
      "Case: TT696_202403\n",
      "Flagging case TT696_202403 for zero lag stretches greater than param 10\n",
      "Flagging case TT696_202403 for constant linear stretches greater than param 10\n",
      "~~~~~~~~~~~~~~~~~~~~~~~~~~~~~~~~~~~~~~~~~~~~~~~~~~\n",
      "Case: C3SKI_202403\n",
      "Flagging case C3SKI_202403 for zero lag stretches greater than param 10\n",
      "Flagging case C3SKI_202403 for constant linear stretches greater than param 10\n",
      "Flagging case C3SKI_202403 for FMC outside param range (1, 90). FMC range for C3SKI_202403: (4.2, 100.0)\n",
      "~~~~~~~~~~~~~~~~~~~~~~~~~~~~~~~~~~~~~~~~~~~~~~~~~~\n",
      "Case: TT784_202403\n",
      "Flagging case TT784_202403 for zero lag stretches greater than param 10\n",
      "Flagging case TT784_202403 for constant linear stretches greater than param 10\n",
      "~~~~~~~~~~~~~~~~~~~~~~~~~~~~~~~~~~~~~~~~~~~~~~~~~~\n",
      "Case: TT787_202403\n",
      "~~~~~~~~~~~~~~~~~~~~~~~~~~~~~~~~~~~~~~~~~~~~~~~~~~\n",
      "Case: TT788_202403\n",
      "~~~~~~~~~~~~~~~~~~~~~~~~~~~~~~~~~~~~~~~~~~~~~~~~~~\n",
      "Case: TT789_202403\n",
      "~~~~~~~~~~~~~~~~~~~~~~~~~~~~~~~~~~~~~~~~~~~~~~~~~~\n",
      "Case: TT813_202403\n",
      "Flagging case TT813_202403 for zero lag stretches greater than param 10\n",
      "Flagging case TT813_202403 for constant linear stretches greater than param 10\n",
      "~~~~~~~~~~~~~~~~~~~~~~~~~~~~~~~~~~~~~~~~~~~~~~~~~~\n",
      "Case: TT815_202403\n",
      "Flagging case TT815_202403 for zero lag stretches greater than param 10\n",
      "Flagging case TT815_202403 for constant linear stretches greater than param 10\n",
      "~~~~~~~~~~~~~~~~~~~~~~~~~~~~~~~~~~~~~~~~~~~~~~~~~~\n",
      "Case: TT816_202403\n",
      "Flagging case TT816_202403 for zero lag stretches greater than param 10\n",
      "Flagging case TT816_202403 for constant linear stretches greater than param 10\n",
      "Removing key CPTC2_202403 due to data flags\n",
      "Removing key SAWC2_202403 due to data flags\n",
      "Removing key HSRU1_202403 due to data flags\n",
      "Removing key BRLW4_202403 due to data flags\n",
      "Removing key GTGW4_202403 due to data flags\n",
      "Removing key SAWW4_202403 due to data flags\n",
      "Removing key BRAU1_202403 due to data flags\n",
      "Removing key NLPU1_202403 due to data flags\n",
      "Removing key TS010_202403 due to data flags\n",
      "Removing key SOPC2_202403 due to data flags\n",
      "Removing key CYNC2_202403 due to data flags\n",
      "Removing key TR223_202403 due to data flags\n",
      "Removing key TR337_202403 due to data flags\n",
      "Removing key VLRW4_202403 due to data flags\n",
      "Removing key TR383_202403 due to data flags\n",
      "Removing key TR390_202403 due to data flags\n",
      "Removing key TS001_202403 due to data flags\n",
      "Removing key HSYN1_202403 due to data flags\n",
      "Removing key BKFS2_202403 due to data flags\n",
      "Removing key TR755_202403 due to data flags\n",
      "Removing key DEOI4_202403 due to data flags\n",
      "Removing key HBOM8_202403 due to data flags\n",
      "Removing key TR937_202403 due to data flags\n",
      "Removing key TR956_202403 due to data flags\n",
      "Removing key PINS2_202403 due to data flags\n",
      "Removing key DVLW4_202403 due to data flags\n",
      "Removing key TS040_202403 due to data flags\n",
      "Removing key RLAS2_202403 due to data flags\n",
      "Removing key RHUS2_202403 due to data flags\n",
      "Removing key TS305_202403 due to data flags\n",
      "Removing key TS343_202403 due to data flags\n",
      "Removing key TS582_202403 due to data flags\n",
      "Removing key LSTC2_202403 due to data flags\n",
      "Removing key LOOC2_202403 due to data flags\n",
      "Removing key TS661_202403 due to data flags\n",
      "Removing key TS897_202403 due to data flags\n",
      "Removing key RRAC2_202403 due to data flags\n",
      "Removing key FKTC2_202403 due to data flags\n",
      "Removing key DMTC2_202403 due to data flags\n",
      "Removing key KSEC2_202403 due to data flags\n",
      "Removing key TS946_202403 due to data flags\n",
      "Removing key TS954_202403 due to data flags\n",
      "Removing key TS964_202403 due to data flags\n",
      "Removing key TT065_202403 due to data flags\n",
      "Removing key TT081_202403 due to data flags\n",
      "Removing key TT283_202403 due to data flags\n",
      "Removing key TT364_202403 due to data flags\n",
      "Removing key TT456_202403 due to data flags\n",
      "Removing key TT561_202403 due to data flags\n",
      "Removing key TT574_202403 due to data flags\n",
      "Removing key TT590_202403 due to data flags\n",
      "Removing key TT681_202403 due to data flags\n",
      "Removing key TT689_202403 due to data flags\n",
      "Removing key TT695_202403 due to data flags\n",
      "Removing key TT696_202403 due to data flags\n",
      "Removing key C3SKI_202403 due to data flags\n",
      "Removing key TT784_202403 due to data flags\n",
      "Removing key TT813_202403 due to data flags\n",
      "Removing key TT815_202403 due to data flags\n",
      "Removing key TT816_202403 due to data flags\n"
     ]
    }
   ],
   "source": [
    "train3 = build_train_dict(file_paths, params_data, spatial=False, forecast_step=3, drop_na=True)\n"
   ]
  },
  {
   "cell_type": "code",
   "execution_count": null,
   "id": "3c4548ae-caa4-4bc4-9122-9f24e7e59ef7",
   "metadata": {},
   "outputs": [],
   "source": []
  },
  {
   "cell_type": "code",
   "execution_count": null,
   "id": "3dbb6f24-4435-47b3-90c6-6176582b0d4c",
   "metadata": {},
   "outputs": [],
   "source": []
  },
  {
   "cell_type": "markdown",
   "id": "6322f0bc-107d-40a5-96dc-804495085a99",
   "metadata": {
    "jp-MarkdownHeadingCollapsed": true
   },
   "source": [
    "## Test Other ML"
   ]
  },
  {
   "cell_type": "code",
   "execution_count": null,
   "id": "12992b9a-407f-4131-ac61-e1dc338386bf",
   "metadata": {},
   "outputs": [],
   "source": [
    "params = read_yml(\"params.yaml\", subkey='xgb')\n",
    "params"
   ]
  },
  {
   "cell_type": "code",
   "execution_count": null,
   "id": "f214fdf8-bb76-4912-8f8c-5d0c8c1230c2",
   "metadata": {},
   "outputs": [],
   "source": [
    "dat = read_pkl(\"data/train.pkl\")"
   ]
  },
  {
   "cell_type": "code",
   "execution_count": null,
   "id": "888b7805-15f6-4c09-a05b-7aed7d253f6e",
   "metadata": {},
   "outputs": [],
   "source": [
    "cases = [*dat.keys()]"
   ]
  },
  {
   "cell_type": "code",
   "execution_count": null,
   "id": "375055d8-c070-4639-9561-e47d3f21f1f8",
   "metadata": {},
   "outputs": [],
   "source": [
    "rnn_dat = RNNData(dat[cases[10]], params['scaler'], params['features_list'])\n",
    "rnn_dat.train_test_split(\n",
    "    time_fracs = [.8, .1, .1]\n",
    ")\n",
    "rnn_dat.scale_data()"
   ]
  },
  {
   "cell_type": "code",
   "execution_count": null,
   "id": "e79f8dc8-5cf8-4190-b4ff-e640f61bd78b",
   "metadata": {},
   "outputs": [],
   "source": [
    "from moisture_models import XGB, RF, LM"
   ]
  },
  {
   "cell_type": "code",
   "execution_count": null,
   "id": "b3aeb47f-261e-4e29-9eeb-67215e5628f6",
   "metadata": {},
   "outputs": [],
   "source": [
    "mod = XGB(params)"
   ]
  },
  {
   "cell_type": "code",
   "execution_count": null,
   "id": "cae9a20d-1caf-45aa-a9c4-aef21b65d9c8",
   "metadata": {},
   "outputs": [],
   "source": [
    "mod.params"
   ]
  },
  {
   "cell_type": "code",
   "execution_count": null,
   "id": "68a07b25-c586-4fc4-a3d5-c857354e7a2c",
   "metadata": {},
   "outputs": [],
   "source": [
    "mod.fit(rnn_dat.X_train, rnn_dat.y_train)"
   ]
  },
  {
   "cell_type": "code",
   "execution_count": null,
   "id": "c8f88819-0a7a-4420-abb9-56a47015a4de",
   "metadata": {},
   "outputs": [],
   "source": [
    "preds = mod.predict(rnn_dat.X_test)"
   ]
  },
  {
   "cell_type": "code",
   "execution_count": null,
   "id": "cb7cdf14-74d6-45e4-bc1b-7d4d47dd41ac",
   "metadata": {},
   "outputs": [],
   "source": [
    "rmse(preds, rnn_dat.y_test)"
   ]
  },
  {
   "cell_type": "code",
   "execution_count": null,
   "id": "74d478c7-8c01-448e-9a00-dd0e1ee8e325",
   "metadata": {},
   "outputs": [],
   "source": [
    "plt.plot(rnn_dat.y_test)\n",
    "plt.plot(preds)"
   ]
  },
  {
   "cell_type": "code",
   "execution_count": null,
   "id": "c5441014-c39a-4414-a779-95b81e1ed6a8",
   "metadata": {},
   "outputs": [],
   "source": [
    "params = read_yml(\"params.yaml\", subkey='rf')\n",
    "rnn_dat = RNNData(dat[cases[10]], features_list = ['Ed', 'Ew', 'solar', 'wind', 'rain'])\n",
    "rnn_dat.train_test_split(\n",
    "    time_fracs = [.8, .1, .1]\n",
    ")"
   ]
  },
  {
   "cell_type": "code",
   "execution_count": null,
   "id": "cafe711a-20cb-4bd3-a4bc-4995a843a021",
   "metadata": {},
   "outputs": [],
   "source": [
    "import importlib\n",
    "import moisture_models\n",
    "importlib.reload(moisture_models)"
   ]
  },
  {
   "cell_type": "code",
   "execution_count": null,
   "id": "ee45f7d6-f57f-4ff6-995a-527565565f94",
   "metadata": {},
   "outputs": [],
   "source": [
    "params"
   ]
  },
  {
   "cell_type": "code",
   "execution_count": null,
   "id": "fafe76e5-0212-4bd1-a058-535935a08780",
   "metadata": {},
   "outputs": [],
   "source": [
    "mod2 = RF(params)\n",
    "mod2.fit(rnn_dat.X_train, rnn_dat.y_train.flatten())\n",
    "preds2 = mod2.predict(rnn_dat.X_test)\n",
    "print(rmse(preds2, rnn_dat.y_test.flatten()))\n",
    "plt.plot(rnn_dat.y_test)\n",
    "plt.plot(preds2)"
   ]
  },
  {
   "cell_type": "code",
   "execution_count": null,
   "id": "c0ab4244-996c-49af-bf4a-8b0c47b0b6db",
   "metadata": {},
   "outputs": [],
   "source": [
    "from moisture_models import RF\n",
    "mod2 = RF(params)"
   ]
  },
  {
   "cell_type": "code",
   "execution_count": null,
   "id": "aa6c33fd-db35-4c77-9eee-fdb39a934959",
   "metadata": {},
   "outputs": [],
   "source": []
  },
  {
   "cell_type": "code",
   "execution_count": null,
   "id": "c5598bfe-2d87-4d23-869e-aff127782462",
   "metadata": {},
   "outputs": [],
   "source": [
    "params = read_yml(\"params.yaml\", subkey='lm')\n",
    "rnn_dat = RNNData(dat[cases[10]], features_list = ['Ed', 'Ew', 'solar', 'wind', 'rain'])\n",
    "rnn_dat.train_test_split(\n",
    "    time_fracs = [.8, .1, .1]\n",
    ")\n",
    "mod = LM(params)"
   ]
  },
  {
   "cell_type": "code",
   "execution_count": null,
   "id": "d828c15c-4078-4967-abff-c1fd15d4696d",
   "metadata": {},
   "outputs": [],
   "source": [
    "mod.fit(rnn_dat.X_train, rnn_dat.y_train)\n",
    "preds = mod.predict(rnn_dat.X_test)\n",
    "print(rmse(preds2, rnn_dat.y_test.flatten()))"
   ]
  },
  {
   "cell_type": "code",
   "execution_count": null,
   "id": "8496a32a-8269-4d6b-953e-7f33fe626789",
   "metadata": {},
   "outputs": [],
   "source": []
  },
  {
   "cell_type": "code",
   "execution_count": null,
   "id": "75ce8bf3-6efb-4dc7-b895-def92f6ce6b4",
   "metadata": {},
   "outputs": [],
   "source": []
  },
  {
   "cell_type": "markdown",
   "id": "d6e089d9-e466-45bb-80f2-15c563ae21ad",
   "metadata": {},
   "source": [
    "## Class RNN "
   ]
  },
  {
   "cell_type": "code",
   "execution_count": 17,
   "id": "3d5792a1-53e3-4099-8630-1bd5e3f52dcc",
   "metadata": {},
   "outputs": [],
   "source": [
    "from tensorflow.keras import layers,models"
   ]
  },
  {
   "cell_type": "code",
   "execution_count": 18,
   "id": "0962428e-1124-4e1f-8500-d02b26640204",
   "metadata": {},
   "outputs": [],
   "source": [
    "import importlib\n",
    "import moisture_rnn\n",
    "importlib.reload(moisture_rnn)\n",
    "from moisture_rnn import RNN, RNNParams"
   ]
  },
  {
   "cell_type": "code",
   "execution_count": 19,
   "id": "08733f57-493a-45e7-ac07-991d92073fb6",
   "metadata": {},
   "outputs": [],
   "source": [
    "from tensorflow.keras.callbacks import Callback, EarlyStopping, TerminateOnNaN"
   ]
  },
  {
   "cell_type": "code",
   "execution_count": null,
   "id": "3f3d377d-da64-4854-a831-a909208013ea",
   "metadata": {},
   "outputs": [],
   "source": []
  },
  {
   "cell_type": "code",
   "execution_count": null,
   "id": "83c45b38-35d0-4c41-b815-23dad89fc055",
   "metadata": {},
   "outputs": [],
   "source": []
  },
  {
   "cell_type": "code",
   "execution_count": null,
   "id": "e31ca700-7871-4fb5-b5d2-9b63b85f6688",
   "metadata": {},
   "outputs": [],
   "source": []
  },
  {
   "cell_type": "code",
   "execution_count": 43,
   "id": "42459583-a634-4dd9-a94b-4535302f481d",
   "metadata": {},
   "outputs": [],
   "source": [
    "params_test = {\n",
    "    'n_features': 8,\n",
    "    'timesteps': 12,\n",
    "    'batch_size': 32,\n",
    "    'hidden_layers': ['dense', 'lstm', 'dense', 'dense'],\n",
    "    'hidden_units': [64, 32, 32, 16],\n",
    "    'hidden_activation': ['relu', 'tanh', 'relu', 'relu'],\n",
    "    'dropout': 0.2,\n",
    "    'recurrent_dropout': 0.2,\n",
    "    'output_layer': 'dense',\n",
    "    'output_activation': 'linear',\n",
    "    'output_dimension': 1,\n",
    "    'learning_rate': 0.001,\n",
    "    'early_stopping_patience': 5,\n",
    "    'epochs': 30,\n",
    "    'reset_states': True,\n",
    "    'bmin': 10,\n",
    "    'bmax': 200,\n",
    "    'batch_schedule_type': 'step',\n",
    "    'estep': 5,\n",
    "    'features_list': ['Ed', 'Ew', 'solar', 'wind', 'rain', 'lon', 'lat', 'elev'],\n",
    "    'scaler': 'standard',\n",
    "    'time_fracs': [.8, .1, .1],\n",
    "    'space_fracs': [.8, .1, .1],\n",
    "    'stateful': True,\n",
    "    'verbose_fit': True,\n",
    "    'verbose_weights': True,\n",
    "    'return_sequences': True # whether or not the LAST recurrent layer should return sequences. If multiple, all previous need to be True\n",
    "}"
   ]
  },
  {
   "cell_type": "code",
   "execution_count": 44,
   "id": "a14f9c76-93eb-4b13-a11d-6ccb38285335",
   "metadata": {},
   "outputs": [],
   "source": [
    "params2 = read_yml(\"params.yaml\", subkey='rnn')"
   ]
  },
  {
   "cell_type": "code",
   "execution_count": 45,
   "id": "c316cfa8-4b96-433a-a115-0046b2af8198",
   "metadata": {},
   "outputs": [
    {
     "data": {
      "text/plain": [
       "'dense'"
      ]
     },
     "execution_count": 45,
     "metadata": {},
     "output_type": "execute_result"
    }
   ],
   "source": [
    "params2['output_layer']"
   ]
  },
  {
   "cell_type": "code",
   "execution_count": 46,
   "id": "7a7778d4-a71e-4d4a-9121-873552411af4",
   "metadata": {},
   "outputs": [
    {
     "name": "stdout",
     "output_type": "stream",
     "text": [
      "Checking params...\n",
      "Input dictionary passed all checks.\n",
      "Input dictionary passed all checks.\n",
      "Input dictionary passed all checks.\n",
      "Input dictionary passed all checks.\n",
      "Calculating shape params based on features list, timesteps, and batch size\n",
      "Input Feature List: ['Ed', 'Ew', 'solar', 'wind', 'rain', 'lon', 'lat', 'elev']\n",
      "Input Timesteps: 12\n",
      "Input Batch Size: 32\n",
      "Calculated params:\n",
      "Number of features: 8\n",
      "Batch Shape: (32, 12, 8)\n",
      "{'n_features': 8, 'timesteps': 12, 'batch_size': 32, 'hidden_layers': ['dense', 'lstm', 'dense', 'dense'], 'hidden_units': [64, 32, 32, 16], 'hidden_activation': ['relu', 'tanh', 'relu', 'relu'], 'dropout': 0.2, 'recurrent_dropout': 0.2, 'output_layer': 'dense', 'output_activation': 'linear', 'output_dimension': 1, 'learning_rate': 0.001, 'early_stopping_patience': 5, 'epochs': 30, 'reset_states': True, 'bmin': 10, 'bmax': 200, 'batch_schedule_type': 'step', 'estep': 5, 'features_list': ['Ed', 'Ew', 'solar', 'wind', 'rain', 'lon', 'lat', 'elev'], 'scaler': 'standard', 'time_fracs': [0.8, 0.1, 0.1], 'space_fracs': [0.8, 0.1, 0.1], 'stateful': True, 'verbose_fit': True, 'verbose_weights': True, 'return_sequences': True, 'batch_shape': (32, 12, 8)}\n"
     ]
    }
   ],
   "source": [
    "params = RNNParams(params_test)"
   ]
  },
  {
   "cell_type": "code",
   "execution_count": 47,
   "id": "343241d1-6a7b-44dc-9f52-3bb02c1e8e31",
   "metadata": {},
   "outputs": [
    {
     "data": {
      "text/plain": [
       "(32, 12, 8)"
      ]
     },
     "execution_count": 47,
     "metadata": {},
     "output_type": "execute_result"
    }
   ],
   "source": [
    "params['batch_shape']"
   ]
  },
  {
   "cell_type": "code",
   "execution_count": 48,
   "id": "c9287b15-3fe9-4d53-bf5e-a31da5eb13c7",
   "metadata": {},
   "outputs": [
    {
     "data": {
      "text/plain": [
       "8"
      ]
     },
     "execution_count": 48,
     "metadata": {},
     "output_type": "execute_result"
    }
   ],
   "source": [
    "params['n_features']"
   ]
  },
  {
   "cell_type": "code",
   "execution_count": null,
   "id": "ed3dd798-6a40-4e90-b40b-accabe49fb35",
   "metadata": {},
   "outputs": [],
   "source": []
  },
  {
   "cell_type": "code",
   "execution_count": 49,
   "id": "e559d0d7-5847-4fd0-81e4-7d3ca92147dd",
   "metadata": {},
   "outputs": [],
   "source": [
    "import importlib\n",
    "import moisture_rnn\n",
    "importlib.reload(moisture_rnn)\n",
    "from moisture_rnn import RNN, rnn_data_wrap"
   ]
  },
  {
   "cell_type": "code",
   "execution_count": 50,
   "id": "7c1627f9-f011-4159-98a2-1b5973929e71",
   "metadata": {},
   "outputs": [
    {
     "name": "stdout",
     "output_type": "stream",
     "text": [
      "resetting random seeds to 123\n",
      "Initial Weights Hash: 0208fb1e8e541de4491e3008c8d6443c\n"
     ]
    }
   ],
   "source": [
    "reproducibility.set_seed()\n",
    "mod = RNN(params)"
   ]
  },
  {
   "cell_type": "code",
   "execution_count": 51,
   "id": "5dbc66c0-ccb5-46c2-a073-1fa7a5be750a",
   "metadata": {},
   "outputs": [
    {
     "data": {
      "text/html": [
       "<pre style=\"white-space:pre;overflow-x:auto;line-height:normal;font-family:Menlo,'DejaVu Sans Mono',consolas,'Courier New',monospace\"><span style=\"font-weight: bold\">Model: \"functional_2\"</span>\n",
       "</pre>\n"
      ],
      "text/plain": [
       "\u001b[1mModel: \"functional_2\"\u001b[0m\n"
      ]
     },
     "metadata": {},
     "output_type": "display_data"
    },
    {
     "data": {
      "text/html": [
       "<pre style=\"white-space:pre;overflow-x:auto;line-height:normal;font-family:Menlo,'DejaVu Sans Mono',consolas,'Courier New',monospace\">┏━━━━━━━━━━━━━━━━━━━━━━━━━━━━━━━━━━━━━━┳━━━━━━━━━━━━━━━━━━━━━━━━━━━━━┳━━━━━━━━━━━━━━━━━┓\n",
       "┃<span style=\"font-weight: bold\"> Layer (type)                         </span>┃<span style=\"font-weight: bold\"> Output Shape                </span>┃<span style=\"font-weight: bold\">         Param # </span>┃\n",
       "┡━━━━━━━━━━━━━━━━━━━━━━━━━━━━━━━━━━━━━━╇━━━━━━━━━━━━━━━━━━━━━━━━━━━━━╇━━━━━━━━━━━━━━━━━┩\n",
       "│ input_layer_2 (<span style=\"color: #0087ff; text-decoration-color: #0087ff\">InputLayer</span>)           │ (<span style=\"color: #00af00; text-decoration-color: #00af00\">32</span>, <span style=\"color: #00af00; text-decoration-color: #00af00\">12</span>, <span style=\"color: #00af00; text-decoration-color: #00af00\">8</span>)                 │               <span style=\"color: #00af00; text-decoration-color: #00af00\">0</span> │\n",
       "├──────────────────────────────────────┼─────────────────────────────┼─────────────────┤\n",
       "│ dense_8 (<span style=\"color: #0087ff; text-decoration-color: #0087ff\">Dense</span>)                      │ (<span style=\"color: #00af00; text-decoration-color: #00af00\">32</span>, <span style=\"color: #00af00; text-decoration-color: #00af00\">12</span>, <span style=\"color: #00af00; text-decoration-color: #00af00\">64</span>)                │             <span style=\"color: #00af00; text-decoration-color: #00af00\">576</span> │\n",
       "├──────────────────────────────────────┼─────────────────────────────┼─────────────────┤\n",
       "│ lstm_2 (<span style=\"color: #0087ff; text-decoration-color: #0087ff\">LSTM</span>)                        │ (<span style=\"color: #00af00; text-decoration-color: #00af00\">32</span>, <span style=\"color: #00af00; text-decoration-color: #00af00\">12</span>, <span style=\"color: #00af00; text-decoration-color: #00af00\">32</span>)                │          <span style=\"color: #00af00; text-decoration-color: #00af00\">12,416</span> │\n",
       "├──────────────────────────────────────┼─────────────────────────────┼─────────────────┤\n",
       "│ dense_9 (<span style=\"color: #0087ff; text-decoration-color: #0087ff\">Dense</span>)                      │ (<span style=\"color: #00af00; text-decoration-color: #00af00\">32</span>, <span style=\"color: #00af00; text-decoration-color: #00af00\">12</span>, <span style=\"color: #00af00; text-decoration-color: #00af00\">32</span>)                │           <span style=\"color: #00af00; text-decoration-color: #00af00\">1,056</span> │\n",
       "├──────────────────────────────────────┼─────────────────────────────┼─────────────────┤\n",
       "│ dense_10 (<span style=\"color: #0087ff; text-decoration-color: #0087ff\">Dense</span>)                     │ (<span style=\"color: #00af00; text-decoration-color: #00af00\">32</span>, <span style=\"color: #00af00; text-decoration-color: #00af00\">12</span>, <span style=\"color: #00af00; text-decoration-color: #00af00\">16</span>)                │             <span style=\"color: #00af00; text-decoration-color: #00af00\">528</span> │\n",
       "├──────────────────────────────────────┼─────────────────────────────┼─────────────────┤\n",
       "│ dense_11 (<span style=\"color: #0087ff; text-decoration-color: #0087ff\">Dense</span>)                     │ (<span style=\"color: #00af00; text-decoration-color: #00af00\">32</span>, <span style=\"color: #00af00; text-decoration-color: #00af00\">12</span>, <span style=\"color: #00af00; text-decoration-color: #00af00\">1</span>)                 │              <span style=\"color: #00af00; text-decoration-color: #00af00\">17</span> │\n",
       "└──────────────────────────────────────┴─────────────────────────────┴─────────────────┘\n",
       "</pre>\n"
      ],
      "text/plain": [
       "┏━━━━━━━━━━━━━━━━━━━━━━━━━━━━━━━━━━━━━━┳━━━━━━━━━━━━━━━━━━━━━━━━━━━━━┳━━━━━━━━━━━━━━━━━┓\n",
       "┃\u001b[1m \u001b[0m\u001b[1mLayer (type)                        \u001b[0m\u001b[1m \u001b[0m┃\u001b[1m \u001b[0m\u001b[1mOutput Shape               \u001b[0m\u001b[1m \u001b[0m┃\u001b[1m \u001b[0m\u001b[1m        Param #\u001b[0m\u001b[1m \u001b[0m┃\n",
       "┡━━━━━━━━━━━━━━━━━━━━━━━━━━━━━━━━━━━━━━╇━━━━━━━━━━━━━━━━━━━━━━━━━━━━━╇━━━━━━━━━━━━━━━━━┩\n",
       "│ input_layer_2 (\u001b[38;5;33mInputLayer\u001b[0m)           │ (\u001b[38;5;34m32\u001b[0m, \u001b[38;5;34m12\u001b[0m, \u001b[38;5;34m8\u001b[0m)                 │               \u001b[38;5;34m0\u001b[0m │\n",
       "├──────────────────────────────────────┼─────────────────────────────┼─────────────────┤\n",
       "│ dense_8 (\u001b[38;5;33mDense\u001b[0m)                      │ (\u001b[38;5;34m32\u001b[0m, \u001b[38;5;34m12\u001b[0m, \u001b[38;5;34m64\u001b[0m)                │             \u001b[38;5;34m576\u001b[0m │\n",
       "├──────────────────────────────────────┼─────────────────────────────┼─────────────────┤\n",
       "│ lstm_2 (\u001b[38;5;33mLSTM\u001b[0m)                        │ (\u001b[38;5;34m32\u001b[0m, \u001b[38;5;34m12\u001b[0m, \u001b[38;5;34m32\u001b[0m)                │          \u001b[38;5;34m12,416\u001b[0m │\n",
       "├──────────────────────────────────────┼─────────────────────────────┼─────────────────┤\n",
       "│ dense_9 (\u001b[38;5;33mDense\u001b[0m)                      │ (\u001b[38;5;34m32\u001b[0m, \u001b[38;5;34m12\u001b[0m, \u001b[38;5;34m32\u001b[0m)                │           \u001b[38;5;34m1,056\u001b[0m │\n",
       "├──────────────────────────────────────┼─────────────────────────────┼─────────────────┤\n",
       "│ dense_10 (\u001b[38;5;33mDense\u001b[0m)                     │ (\u001b[38;5;34m32\u001b[0m, \u001b[38;5;34m12\u001b[0m, \u001b[38;5;34m16\u001b[0m)                │             \u001b[38;5;34m528\u001b[0m │\n",
       "├──────────────────────────────────────┼─────────────────────────────┼─────────────────┤\n",
       "│ dense_11 (\u001b[38;5;33mDense\u001b[0m)                     │ (\u001b[38;5;34m32\u001b[0m, \u001b[38;5;34m12\u001b[0m, \u001b[38;5;34m1\u001b[0m)                 │              \u001b[38;5;34m17\u001b[0m │\n",
       "└──────────────────────────────────────┴─────────────────────────────┴─────────────────┘\n"
      ]
     },
     "metadata": {},
     "output_type": "display_data"
    },
    {
     "data": {
      "text/html": [
       "<pre style=\"white-space:pre;overflow-x:auto;line-height:normal;font-family:Menlo,'DejaVu Sans Mono',consolas,'Courier New',monospace\"><span style=\"font-weight: bold\"> Total params: </span><span style=\"color: #00af00; text-decoration-color: #00af00\">14,593</span> (57.00 KB)\n",
       "</pre>\n"
      ],
      "text/plain": [
       "\u001b[1m Total params: \u001b[0m\u001b[38;5;34m14,593\u001b[0m (57.00 KB)\n"
      ]
     },
     "metadata": {},
     "output_type": "display_data"
    },
    {
     "data": {
      "text/html": [
       "<pre style=\"white-space:pre;overflow-x:auto;line-height:normal;font-family:Menlo,'DejaVu Sans Mono',consolas,'Courier New',monospace\"><span style=\"font-weight: bold\"> Trainable params: </span><span style=\"color: #00af00; text-decoration-color: #00af00\">14,593</span> (57.00 KB)\n",
       "</pre>\n"
      ],
      "text/plain": [
       "\u001b[1m Trainable params: \u001b[0m\u001b[38;5;34m14,593\u001b[0m (57.00 KB)\n"
      ]
     },
     "metadata": {},
     "output_type": "display_data"
    },
    {
     "data": {
      "text/html": [
       "<pre style=\"white-space:pre;overflow-x:auto;line-height:normal;font-family:Menlo,'DejaVu Sans Mono',consolas,'Courier New',monospace\"><span style=\"font-weight: bold\"> Non-trainable params: </span><span style=\"color: #00af00; text-decoration-color: #00af00\">0</span> (0.00 B)\n",
       "</pre>\n"
      ],
      "text/plain": [
       "\u001b[1m Non-trainable params: \u001b[0m\u001b[38;5;34m0\u001b[0m (0.00 B)\n"
      ]
     },
     "metadata": {},
     "output_type": "display_data"
    }
   ],
   "source": [
    "mod.model_train.summary()"
   ]
  },
  {
   "cell_type": "code",
   "execution_count": 52,
   "id": "882c5872-a017-4d9c-90be-88e692dd33e8",
   "metadata": {},
   "outputs": [
    {
     "data": {
      "text/html": [
       "<pre style=\"white-space:pre;overflow-x:auto;line-height:normal;font-family:Menlo,'DejaVu Sans Mono',consolas,'Courier New',monospace\"><span style=\"font-weight: bold\">Model: \"functional_3\"</span>\n",
       "</pre>\n"
      ],
      "text/plain": [
       "\u001b[1mModel: \"functional_3\"\u001b[0m\n"
      ]
     },
     "metadata": {},
     "output_type": "display_data"
    },
    {
     "data": {
      "text/html": [
       "<pre style=\"white-space:pre;overflow-x:auto;line-height:normal;font-family:Menlo,'DejaVu Sans Mono',consolas,'Courier New',monospace\">┏━━━━━━━━━━━━━━━━━━━━━━━━━━━━━━━━━━━━━━┳━━━━━━━━━━━━━━━━━━━━━━━━━━━━━┳━━━━━━━━━━━━━━━━━┓\n",
       "┃<span style=\"font-weight: bold\"> Layer (type)                         </span>┃<span style=\"font-weight: bold\"> Output Shape                </span>┃<span style=\"font-weight: bold\">         Param # </span>┃\n",
       "┡━━━━━━━━━━━━━━━━━━━━━━━━━━━━━━━━━━━━━━╇━━━━━━━━━━━━━━━━━━━━━━━━━━━━━╇━━━━━━━━━━━━━━━━━┩\n",
       "│ input_layer_3 (<span style=\"color: #0087ff; text-decoration-color: #0087ff\">InputLayer</span>)           │ (<span style=\"color: #00d7ff; text-decoration-color: #00d7ff\">None</span>, <span style=\"color: #00d7ff; text-decoration-color: #00d7ff\">None</span>, <span style=\"color: #00af00; text-decoration-color: #00af00\">8</span>)             │               <span style=\"color: #00af00; text-decoration-color: #00af00\">0</span> │\n",
       "├──────────────────────────────────────┼─────────────────────────────┼─────────────────┤\n",
       "│ dense_12 (<span style=\"color: #0087ff; text-decoration-color: #0087ff\">Dense</span>)                     │ (<span style=\"color: #00d7ff; text-decoration-color: #00d7ff\">None</span>, <span style=\"color: #00d7ff; text-decoration-color: #00d7ff\">None</span>, <span style=\"color: #00af00; text-decoration-color: #00af00\">64</span>)            │             <span style=\"color: #00af00; text-decoration-color: #00af00\">576</span> │\n",
       "├──────────────────────────────────────┼─────────────────────────────┼─────────────────┤\n",
       "│ lstm_3 (<span style=\"color: #0087ff; text-decoration-color: #0087ff\">LSTM</span>)                        │ (<span style=\"color: #00d7ff; text-decoration-color: #00d7ff\">None</span>, <span style=\"color: #00d7ff; text-decoration-color: #00d7ff\">None</span>, <span style=\"color: #00af00; text-decoration-color: #00af00\">32</span>)            │          <span style=\"color: #00af00; text-decoration-color: #00af00\">12,416</span> │\n",
       "├──────────────────────────────────────┼─────────────────────────────┼─────────────────┤\n",
       "│ dense_13 (<span style=\"color: #0087ff; text-decoration-color: #0087ff\">Dense</span>)                     │ (<span style=\"color: #00d7ff; text-decoration-color: #00d7ff\">None</span>, <span style=\"color: #00d7ff; text-decoration-color: #00d7ff\">None</span>, <span style=\"color: #00af00; text-decoration-color: #00af00\">32</span>)            │           <span style=\"color: #00af00; text-decoration-color: #00af00\">1,056</span> │\n",
       "├──────────────────────────────────────┼─────────────────────────────┼─────────────────┤\n",
       "│ dense_14 (<span style=\"color: #0087ff; text-decoration-color: #0087ff\">Dense</span>)                     │ (<span style=\"color: #00d7ff; text-decoration-color: #00d7ff\">None</span>, <span style=\"color: #00d7ff; text-decoration-color: #00d7ff\">None</span>, <span style=\"color: #00af00; text-decoration-color: #00af00\">16</span>)            │             <span style=\"color: #00af00; text-decoration-color: #00af00\">528</span> │\n",
       "├──────────────────────────────────────┼─────────────────────────────┼─────────────────┤\n",
       "│ dense_15 (<span style=\"color: #0087ff; text-decoration-color: #0087ff\">Dense</span>)                     │ (<span style=\"color: #00d7ff; text-decoration-color: #00d7ff\">None</span>, <span style=\"color: #00d7ff; text-decoration-color: #00d7ff\">None</span>, <span style=\"color: #00af00; text-decoration-color: #00af00\">1</span>)             │              <span style=\"color: #00af00; text-decoration-color: #00af00\">17</span> │\n",
       "└──────────────────────────────────────┴─────────────────────────────┴─────────────────┘\n",
       "</pre>\n"
      ],
      "text/plain": [
       "┏━━━━━━━━━━━━━━━━━━━━━━━━━━━━━━━━━━━━━━┳━━━━━━━━━━━━━━━━━━━━━━━━━━━━━┳━━━━━━━━━━━━━━━━━┓\n",
       "┃\u001b[1m \u001b[0m\u001b[1mLayer (type)                        \u001b[0m\u001b[1m \u001b[0m┃\u001b[1m \u001b[0m\u001b[1mOutput Shape               \u001b[0m\u001b[1m \u001b[0m┃\u001b[1m \u001b[0m\u001b[1m        Param #\u001b[0m\u001b[1m \u001b[0m┃\n",
       "┡━━━━━━━━━━━━━━━━━━━━━━━━━━━━━━━━━━━━━━╇━━━━━━━━━━━━━━━━━━━━━━━━━━━━━╇━━━━━━━━━━━━━━━━━┩\n",
       "│ input_layer_3 (\u001b[38;5;33mInputLayer\u001b[0m)           │ (\u001b[38;5;45mNone\u001b[0m, \u001b[38;5;45mNone\u001b[0m, \u001b[38;5;34m8\u001b[0m)             │               \u001b[38;5;34m0\u001b[0m │\n",
       "├──────────────────────────────────────┼─────────────────────────────┼─────────────────┤\n",
       "│ dense_12 (\u001b[38;5;33mDense\u001b[0m)                     │ (\u001b[38;5;45mNone\u001b[0m, \u001b[38;5;45mNone\u001b[0m, \u001b[38;5;34m64\u001b[0m)            │             \u001b[38;5;34m576\u001b[0m │\n",
       "├──────────────────────────────────────┼─────────────────────────────┼─────────────────┤\n",
       "│ lstm_3 (\u001b[38;5;33mLSTM\u001b[0m)                        │ (\u001b[38;5;45mNone\u001b[0m, \u001b[38;5;45mNone\u001b[0m, \u001b[38;5;34m32\u001b[0m)            │          \u001b[38;5;34m12,416\u001b[0m │\n",
       "├──────────────────────────────────────┼─────────────────────────────┼─────────────────┤\n",
       "│ dense_13 (\u001b[38;5;33mDense\u001b[0m)                     │ (\u001b[38;5;45mNone\u001b[0m, \u001b[38;5;45mNone\u001b[0m, \u001b[38;5;34m32\u001b[0m)            │           \u001b[38;5;34m1,056\u001b[0m │\n",
       "├──────────────────────────────────────┼─────────────────────────────┼─────────────────┤\n",
       "│ dense_14 (\u001b[38;5;33mDense\u001b[0m)                     │ (\u001b[38;5;45mNone\u001b[0m, \u001b[38;5;45mNone\u001b[0m, \u001b[38;5;34m16\u001b[0m)            │             \u001b[38;5;34m528\u001b[0m │\n",
       "├──────────────────────────────────────┼─────────────────────────────┼─────────────────┤\n",
       "│ dense_15 (\u001b[38;5;33mDense\u001b[0m)                     │ (\u001b[38;5;45mNone\u001b[0m, \u001b[38;5;45mNone\u001b[0m, \u001b[38;5;34m1\u001b[0m)             │              \u001b[38;5;34m17\u001b[0m │\n",
       "└──────────────────────────────────────┴─────────────────────────────┴─────────────────┘\n"
      ]
     },
     "metadata": {},
     "output_type": "display_data"
    },
    {
     "data": {
      "text/html": [
       "<pre style=\"white-space:pre;overflow-x:auto;line-height:normal;font-family:Menlo,'DejaVu Sans Mono',consolas,'Courier New',monospace\"><span style=\"font-weight: bold\"> Total params: </span><span style=\"color: #00af00; text-decoration-color: #00af00\">14,593</span> (57.00 KB)\n",
       "</pre>\n"
      ],
      "text/plain": [
       "\u001b[1m Total params: \u001b[0m\u001b[38;5;34m14,593\u001b[0m (57.00 KB)\n"
      ]
     },
     "metadata": {},
     "output_type": "display_data"
    },
    {
     "data": {
      "text/html": [
       "<pre style=\"white-space:pre;overflow-x:auto;line-height:normal;font-family:Menlo,'DejaVu Sans Mono',consolas,'Courier New',monospace\"><span style=\"font-weight: bold\"> Trainable params: </span><span style=\"color: #00af00; text-decoration-color: #00af00\">14,593</span> (57.00 KB)\n",
       "</pre>\n"
      ],
      "text/plain": [
       "\u001b[1m Trainable params: \u001b[0m\u001b[38;5;34m14,593\u001b[0m (57.00 KB)\n"
      ]
     },
     "metadata": {},
     "output_type": "display_data"
    },
    {
     "data": {
      "text/html": [
       "<pre style=\"white-space:pre;overflow-x:auto;line-height:normal;font-family:Menlo,'DejaVu Sans Mono',consolas,'Courier New',monospace\"><span style=\"font-weight: bold\"> Non-trainable params: </span><span style=\"color: #00af00; text-decoration-color: #00af00\">0</span> (0.00 B)\n",
       "</pre>\n"
      ],
      "text/plain": [
       "\u001b[1m Non-trainable params: \u001b[0m\u001b[38;5;34m0\u001b[0m (0.00 B)\n"
      ]
     },
     "metadata": {},
     "output_type": "display_data"
    }
   ],
   "source": [
    "mod.model_predict.summary()"
   ]
  },
  {
   "cell_type": "code",
   "execution_count": 53,
   "id": "30498201-3798-484d-922f-974909b195af",
   "metadata": {},
   "outputs": [
    {
     "name": "stdout",
     "output_type": "stream",
     "text": [
      "Input data from multiple timeseries.\n",
      "Setting data scaler: standard\n",
      "Setting features_list to ['Ed', 'Ew', 'solar', 'wind', 'rain', 'lon', 'lat', 'elev']. \n",
      "  NOTE: not subsetting features yet. That happens in train_test_split.\n",
      "Subsetting input data to features_list: ['Ed', 'Ew', 'solar', 'wind', 'rain', 'lon', 'lat', 'elev']\n",
      "Train index: 0 to 1764\n",
      "Validation index: 1764 to 1984\n",
      "Test index: 1984 to 2205\n",
      "Subsetting locations into train/val/test\n",
      "Total Locations: 70\n",
      "Train Locations: 56\n",
      "Val. Locations: 7\n",
      "Test Locations: 7\n",
      "X_train[0] shape: (1764, 8), y_train[0] shape: (1764, 1)\n",
      "X_val[0] shape: (220, 8), y_val[0] shape: (220, 1)\n",
      "X_test[0] shape: (221, 8), y_test[0] shape: (221, 1)\n",
      "Scaling training data with scaler StandardScaler(), fitting on X_train\n",
      "Reshaping spatial training data using batch size: 32 and timesteps: 12\n",
      "Setting total hours to minimum length of y in provided dictionary\n",
      "Reshaping validation data using batch size: 32 and timesteps: 12\n",
      "Setting total hours to minimum length of y in provided dictionary\n",
      "Reshaping test data by stacking. Output dimension will be (n_locs, test_hours, features)\n",
      "X_test shape: (7, 221, 8)\n",
      "y_test shape: (7, 221, 1)\n"
     ]
    }
   ],
   "source": [
    "rnn_dat = rnn_data_wrap(combine_nested(train3), params_test)"
   ]
  },
  {
   "cell_type": "code",
   "execution_count": 54,
   "id": "e213ffd7-d26c-41ce-8e2b-b17368fdd7a8",
   "metadata": {},
   "outputs": [],
   "source": [
    "params.update({\n",
    "    'loc_batch_reset': rnn_dat.n_seqs # Used to reset hidden state when location changes for a given batch\n",
    "})"
   ]
  },
  {
   "cell_type": "code",
   "execution_count": 55,
   "id": "74e599b6-7f4d-4175-a5f1-de892e72ebd4",
   "metadata": {},
   "outputs": [
    {
     "name": "stdout",
     "output_type": "stream",
     "text": [
      "Running Spatial Training Set\n",
      "Using ResetStatesCallback.\n",
      "Using ResetStatesCallback with Batch Reset Schedule: step\n",
      "batch_reset_intervals: [ 10  10  10  10  10 200 200 200 200 200 200 200 200 200 200 200 200 200\n",
      " 200 200 200 200 200 200 200 200 200 200 200 200]\n",
      "Using EarlyStoppingCallback\n",
      "Epoch 1/30\n",
      "\u001b[1m294/294\u001b[0m \u001b[32m━━━━━━━━━━━━━━━━━━━━\u001b[0m\u001b[37m\u001b[0m \u001b[1m4s\u001b[0m 6ms/step - loss: 78.6294 - val_loss: 20.0259\n",
      "Epoch 2/30\n",
      "\u001b[1m294/294\u001b[0m \u001b[32m━━━━━━━━━━━━━━━━━━━━\u001b[0m\u001b[37m\u001b[0m \u001b[1m1s\u001b[0m 5ms/step - loss: 15.1678 - val_loss: 19.1339\n",
      "Epoch 3/30\n",
      "\u001b[1m294/294\u001b[0m \u001b[32m━━━━━━━━━━━━━━━━━━━━\u001b[0m\u001b[37m\u001b[0m \u001b[1m1s\u001b[0m 5ms/step - loss: 14.7257 - val_loss: 18.6771\n",
      "Epoch 4/30\n",
      "\u001b[1m294/294\u001b[0m \u001b[32m━━━━━━━━━━━━━━━━━━━━\u001b[0m\u001b[37m\u001b[0m \u001b[1m1s\u001b[0m 5ms/step - loss: 14.2976 - val_loss: 18.2750\n",
      "Epoch 5/30\n",
      "\u001b[1m294/294\u001b[0m \u001b[32m━━━━━━━━━━━━━━━━━━━━\u001b[0m\u001b[37m\u001b[0m \u001b[1m1s\u001b[0m 4ms/step - loss: 14.3008 - val_loss: 18.1770\n",
      "Epoch 6/30\n",
      "\u001b[1m294/294\u001b[0m \u001b[32m━━━━━━━━━━━━━━━━━━━━\u001b[0m\u001b[37m\u001b[0m \u001b[1m1s\u001b[0m 4ms/step - loss: 14.2046 - val_loss: 17.7136\n",
      "Epoch 7/30\n",
      "\u001b[1m294/294\u001b[0m \u001b[32m━━━━━━━━━━━━━━━━━━━━\u001b[0m\u001b[37m\u001b[0m \u001b[1m1s\u001b[0m 4ms/step - loss: 14.0689 - val_loss: 18.2094\n",
      "Epoch 8/30\n",
      "\u001b[1m294/294\u001b[0m \u001b[32m━━━━━━━━━━━━━━━━━━━━\u001b[0m\u001b[37m\u001b[0m \u001b[1m1s\u001b[0m 4ms/step - loss: 13.9889 - val_loss: 17.7251\n",
      "Epoch 9/30\n",
      "\u001b[1m294/294\u001b[0m \u001b[32m━━━━━━━━━━━━━━━━━━━━\u001b[0m\u001b[37m\u001b[0m \u001b[1m1s\u001b[0m 4ms/step - loss: 13.9380 - val_loss: 17.6521\n",
      "Epoch 10/30\n",
      "\u001b[1m294/294\u001b[0m \u001b[32m━━━━━━━━━━━━━━━━━━━━\u001b[0m\u001b[37m\u001b[0m \u001b[1m1s\u001b[0m 4ms/step - loss: 13.8554 - val_loss: 17.6807\n",
      "Epoch 11/30\n",
      "\u001b[1m294/294\u001b[0m \u001b[32m━━━━━━━━━━━━━━━━━━━━\u001b[0m\u001b[37m\u001b[0m \u001b[1m1s\u001b[0m 4ms/step - loss: 13.8041 - val_loss: 18.1714\n",
      "Epoch 12/30\n",
      "\u001b[1m294/294\u001b[0m \u001b[32m━━━━━━━━━━━━━━━━━━━━\u001b[0m\u001b[37m\u001b[0m \u001b[1m1s\u001b[0m 4ms/step - loss: 13.7119 - val_loss: 17.4972\n",
      "Epoch 13/30\n",
      "\u001b[1m294/294\u001b[0m \u001b[32m━━━━━━━━━━━━━━━━━━━━\u001b[0m\u001b[37m\u001b[0m \u001b[1m1s\u001b[0m 4ms/step - loss: 13.7099 - val_loss: 17.5657\n",
      "Epoch 14/30\n",
      "\u001b[1m294/294\u001b[0m \u001b[32m━━━━━━━━━━━━━━━━━━━━\u001b[0m\u001b[37m\u001b[0m \u001b[1m1s\u001b[0m 4ms/step - loss: 13.6393 - val_loss: 18.0135\n",
      "Epoch 15/30\n",
      "\u001b[1m294/294\u001b[0m \u001b[32m━━━━━━━━━━━━━━━━━━━━\u001b[0m\u001b[37m\u001b[0m \u001b[1m1s\u001b[0m 4ms/step - loss: 13.6413 - val_loss: 17.8737\n",
      "Epoch 16/30\n",
      "\u001b[1m294/294\u001b[0m \u001b[32m━━━━━━━━━━━━━━━━━━━━\u001b[0m\u001b[37m\u001b[0m \u001b[1m1s\u001b[0m 4ms/step - loss: 13.6240 - val_loss: 17.8780\n",
      "Epoch 17/30\n",
      "\u001b[1m294/294\u001b[0m \u001b[32m━━━━━━━━━━━━━━━━━━━━\u001b[0m\u001b[37m\u001b[0m \u001b[1m1s\u001b[0m 4ms/step - loss: 13.5768 - val_loss: 17.5481\n",
      "Epoch 17: early stopping\n",
      "Restoring model weights from the end of the best epoch: 12.\n"
     ]
    },
    {
     "data": {
      "image/png": "[encoded data removed]",
      "text/plain": [
       "<Figure size 1000x600 with 1 Axes>"
      ]
     },
     "metadata": {},
     "output_type": "display_data"
    },
    {
     "name": "stdout",
     "output_type": "stream",
     "text": [
      "Predicting test data\n",
      "\u001b[1m1/1\u001b[0m \u001b[32m━━━━━━━━━━━━━━━━━━━━\u001b[0m\u001b[37m\u001b[0m \u001b[1m0s\u001b[0m 216ms/step\n"
     ]
    }
   ],
   "source": [
    "m, errs = mod.run_model(rnn_dat)"
   ]
  },
  {
   "cell_type": "code",
   "execution_count": 56,
   "id": "f894d203-d277-48f3-bb57-a610f162361f",
   "metadata": {},
   "outputs": [
    {
     "data": {
      "text/plain": [
       "2.9371844100586535"
      ]
     },
     "execution_count": 56,
     "metadata": {},
     "output_type": "execute_result"
    }
   ],
   "source": [
    "errs.mean()"
   ]
  },
  {
   "cell_type": "code",
   "execution_count": 57,
   "id": "b875ea70-41f9-4550-982b-88380ad1b5a0",
   "metadata": {},
   "outputs": [
    {
     "data": {
      "text/plain": [
       "{'n_features': 8,\n",
       " 'timesteps': 12,\n",
       " 'batch_size': 32,\n",
       " 'hidden_layers': ['dense', 'lstm', 'dense', 'dense'],\n",
       " 'hidden_units': [64, 32, 32, 16],\n",
       " 'hidden_activation': ['relu', 'tanh', 'relu', 'relu'],\n",
       " 'dropout': 0.2,\n",
       " 'recurrent_dropout': 0.2,\n",
       " 'output_layer': 'dense',\n",
       " 'output_activation': 'linear',\n",
       " 'output_dimension': 1,\n",
       " 'learning_rate': 0.001,\n",
       " 'early_stopping_patience': 5,\n",
       " 'epochs': 30,\n",
       " 'reset_states': True,\n",
       " 'bmin': 10,\n",
       " 'bmax': 200,\n",
       " 'batch_schedule_type': 'step',\n",
       " 'estep': 5,\n",
       " 'features_list': ['Ed', 'Ew', 'solar', 'wind', 'rain', 'lon', 'lat', 'elev'],\n",
       " 'scaler': 'standard',\n",
       " 'time_fracs': [0.8, 0.1, 0.1],\n",
       " 'space_fracs': [0.8, 0.1, 0.1],\n",
       " 'stateful': True,\n",
       " 'verbose_fit': True,\n",
       " 'verbose_weights': True,\n",
       " 'return_sequences': True,\n",
       " 'batch_shape': (32, 12, 8),\n",
       " 'loc_batch_reset': 147}"
      ]
     },
     "execution_count": 57,
     "metadata": {},
     "output_type": "execute_result"
    }
   ],
   "source": [
    "params"
   ]
  },
  {
   "cell_type": "markdown",
   "id": "282cb651-b21f-401d-94c5-9e07530a9ba8",
   "metadata": {},
   "source": [
    "## RNN"
   ]
  },
  {
   "cell_type": "code",
   "execution_count": null,
   "id": "8c1894e3-5283-4e5e-83ae-9c386836a990",
   "metadata": {},
   "outputs": [],
   "source": [
    "import importlib \n",
    "import moisture_rnn\n",
    "importlib.reload(moisture_rnn)\n",
    "from moisture_rnn import RNN"
   ]
  },
  {
   "cell_type": "code",
   "execution_count": null,
   "id": "aa1b690f-edaa-4c97-893c-ec9a3a615ce1",
   "metadata": {},
   "outputs": [],
   "source": [
    "params = read_yml(\"params.yaml\", subkey=\"lstm\")\n",
    "params = RNNParams(params)\n",
    "params.update({\n",
    "    'dense_layers': 2,\n",
    "    'dense_units': 32\n",
    "})"
   ]
  },
  {
   "cell_type": "code",
   "execution_count": null,
   "id": "054ab015-4e41-4255-8b1a-843b61e3d21d",
   "metadata": {},
   "outputs": [],
   "source": [
    "params.update({'batch_schedule_type': 'step'})"
   ]
  },
  {
   "cell_type": "code",
   "execution_count": null,
   "id": "fa38f35a-d367-4df8-b2d3-7691ff4b0cf4",
   "metadata": {},
   "outputs": [],
   "source": [
    "rnn_dat = rnn_data_wrap(combine_nested(train3), params)\n",
    "reproducibility.set_seed(123)\n",
    "rnn = RNN(params)"
   ]
  },
  {
   "cell_type": "code",
   "execution_count": null,
   "id": "27d11b75-89e9-43a9-8801-7be7fb845b09",
   "metadata": {},
   "outputs": [],
   "source": [
    "rnn.model_train.summary()"
   ]
  },
  {
   "cell_type": "code",
   "execution_count": null,
   "id": "b9a0b3fb-aaab-4948-b6e6-824e9dcb92a7",
   "metadata": {},
   "outputs": [],
   "source": [
    "rnn.model_predict.summary()"
   ]
  },
  {
   "cell_type": "code",
   "execution_count": null,
   "id": "ade176b9-2844-43b6-b85e-5bb30414aa35",
   "metadata": {},
   "outputs": [],
   "source": [
    "rnn.params"
   ]
  },
  {
   "cell_type": "code",
   "execution_count": null,
   "id": "5945e6c1-6b3a-4b7d-ade2-b5788860ef18",
   "metadata": {},
   "outputs": [],
   "source": [
    "rnn.model_train.fit(rnn_dat.X_train, rnn_dat.y_train, validation_data=(rnn_dat.X_val, rnn_dat.y_val), \n",
    "                    verbose=True, epochs=20)"
   ]
  },
  {
   "cell_type": "code",
   "execution_count": null,
   "id": "2d123b2b-047e-4a04-b49e-6629cc22edc6",
   "metadata": {},
   "outputs": [],
   "source": [
    "rnn.model_predict.set_weights(rnn.model_train.get_weights())"
   ]
  },
  {
   "cell_type": "code",
   "execution_count": null,
   "id": "db57df64-d2ac-4b91-bbfc-71a5834ddf41",
   "metadata": {},
   "outputs": [],
   "source": [
    "rnn.model_predict.summary()"
   ]
  },
  {
   "cell_type": "code",
   "execution_count": null,
   "id": "0466887f-9833-4a6a-a0c7-a4d56f207d33",
   "metadata": {},
   "outputs": [],
   "source": [
    "rnn_dat.X_test.shape"
   ]
  },
  {
   "cell_type": "code",
   "execution_count": null,
   "id": "1d3e630c-db69-4603-962e-95c576b45ac9",
   "metadata": {},
   "outputs": [],
   "source": [
    "preds = rnn.model_predict.predict(rnn_dat.X_test)"
   ]
  },
  {
   "cell_type": "code",
   "execution_count": null,
   "id": "8b8228a9-5b6d-4de1-8968-d40277edacd2",
   "metadata": {},
   "outputs": [],
   "source": [
    "preds.shape"
   ]
  },
  {
   "cell_type": "code",
   "execution_count": null,
   "id": "8b001dd8-ffd7-4fd1-bf11-413515ddc488",
   "metadata": {},
   "outputs": [],
   "source": [
    "rnn_dat.X_test.shape"
   ]
  },
  {
   "cell_type": "code",
   "execution_count": null,
   "id": "f96c6dbf-6ca8-451e-abc4-b68b8116871b",
   "metadata": {},
   "outputs": [],
   "source": [
    "squared_diff = np.square(preds - rnn_dat.y_test)\n",
    "mse = np.mean(squared_diff, axis=(1, 2))\n",
    "errs = np.sqrt(mse)\n",
    "errs.mean()"
   ]
  },
  {
   "cell_type": "markdown",
   "id": "5ef092ff-8af1-491a-b0bf-cc3e674330e0",
   "metadata": {},
   "source": [
    "## Phys Initialized"
   ]
  },
  {
   "cell_type": "code",
   "execution_count": null,
   "id": "5488628e-4552-4909-83e9-413fd6878bdd",
   "metadata": {},
   "outputs": [],
   "source": [
    "params.update({\n",
    "    'epochs':100,\n",
    "    'dense_layers': 0,\n",
    "    'activation': ['relu', 'relu'],\n",
    "    'phys_initialize': False,\n",
    "    'dropout': [0,0],\n",
    "    'space_fracs': [.8, .1, .1],\n",
    "    'scaler': None\n",
    "})"
   ]
  },
  {
   "cell_type": "code",
   "execution_count": null,
   "id": "ab7db7d6-949e-457d-90b9-22d9c5aa4739",
   "metadata": {},
   "outputs": [],
   "source": [
    "import importlib\n",
    "import moisture_rnn\n",
    "importlib.reload(moisture_rnn)\n",
    "from moisture_rnn import rnn_data_wrap"
   ]
  },
  {
   "cell_type": "code",
   "execution_count": null,
   "id": "d26cf1b2-2fad-409d-888f-4921b0ae4ba8",
   "metadata": {},
   "outputs": [],
   "source": [
    "params['scaler'] is None"
   ]
  },
  {
   "cell_type": "code",
   "execution_count": null,
   "id": "1c4627bc-0f90-44e6-9103-2efe5c5f439d",
   "metadata": {},
   "outputs": [],
   "source": [
    "rnn_dat = rnn_data_wrap(combine_nested(train3), params)"
   ]
  },
  {
   "cell_type": "code",
   "execution_count": null,
   "id": "56bdf26c-07e7-4e4a-a567-af7dd0f564d9",
   "metadata": {},
   "outputs": [],
   "source": [
    "reproducibility.set_seed()\n",
    "rnn = RNN(params)\n",
    "m, errs = rnn.run_model(rnn_dat)"
   ]
  },
  {
   "cell_type": "code",
   "execution_count": null,
   "id": "01227b79-98f3-4931-bdfc-ff08afa8be5f",
   "metadata": {},
   "outputs": [],
   "source": [
    "rnn.model_train.summary()"
   ]
  },
  {
   "cell_type": "code",
   "execution_count": null,
   "id": "918a8bf0-638b-4b4b-82fe-c6a1965a72dd",
   "metadata": {},
   "outputs": [],
   "source": [
    "errs.mean()"
   ]
  },
  {
   "cell_type": "code",
   "execution_count": null,
   "id": "37fdbb3a-3e83-4541-93b2-982b6d4cbe93",
   "metadata": {
    "scrolled": true
   },
   "outputs": [],
   "source": [
    "rnn_dat.X_train[:,:,0].mean()"
   ]
  },
  {
   "cell_type": "code",
   "execution_count": null,
   "id": "7ca41db1-72aa-44b6-b9dd-058735336ab3",
   "metadata": {},
   "outputs": [],
   "source": []
  },
  {
   "cell_type": "code",
   "execution_count": null,
   "id": "a592a4c9-cb3b-4174-8eaa-02afd00a1897",
   "metadata": {},
   "outputs": [],
   "source": [
    "rnn_dat['features_list']"
   ]
  },
  {
   "cell_type": "code",
   "execution_count": null,
   "id": "3832fb05-417c-4648-8e2e-7748c06b3768",
   "metadata": {},
   "outputs": [],
   "source": []
  },
  {
   "cell_type": "markdown",
   "id": "d2360aef-e9c4-4a71-922d-336e53b82537",
   "metadata": {},
   "source": [
    "## LSTM"
   ]
  },
  {
   "cell_type": "code",
   "execution_count": null,
   "id": "71d4e441-9bf1-4d57-bb37-091553e23212",
   "metadata": {},
   "outputs": [],
   "source": [
    "import importlib \n",
    "import moisture_rnn\n",
    "importlib.reload(moisture_rnn)\n",
    "from moisture_rnn import RNN_LSTM"
   ]
  },
  {
   "cell_type": "code",
   "execution_count": null,
   "id": "0f6ba896-e3be-4a9f-8a42-3df64aff7d63",
   "metadata": {},
   "outputs": [],
   "source": [
    "params = read_yml(\"params.yaml\", subkey=\"lstm\")\n",
    "params = RNNParams(params)"
   ]
  },
  {
   "cell_type": "code",
   "execution_count": null,
   "id": "a4cf567e-d623-4e14-b578-eed88b80d04e",
   "metadata": {},
   "outputs": [],
   "source": [
    "rnn_dat = rnn_data_wrap(combine_nested(train3), params)"
   ]
  },
  {
   "cell_type": "code",
   "execution_count": null,
   "id": "57bb5708-7be9-4474-abb4-3b7ff4bf79df",
   "metadata": {},
   "outputs": [],
   "source": [
    "params.update({\n",
    "    'loc_batch_reset': rnn_dat.n_seqs # Used to reset hidden state when location changes for a given batch\n",
    "})"
   ]
  },
  {
   "cell_type": "code",
   "execution_count": null,
   "id": "0157a6bc-3a99-4b87-a42c-ab770d19ae37",
   "metadata": {},
   "outputs": [],
   "source": [
    "from moisture_rnn import ResetStatesCallback, EarlyStoppingCallback\n",
    "params.update({'epochs': 50, 'learning_rate': 0.001, 'verbose_fit': True, 'rnn_layers': 2, 'rnn_units': 20, 'dense_layers': 1, 'dense_units': 10,\n",
    "              'activation': ['tanh', 'tanh'], 'features_list': rnn_dat.features_list,\n",
    "              'batch_schedule_type':'step', 'bmin': 10, 'bmax':rnn_dat.hours})\n",
    "reproducibility.set_seed(123)\n",
    "lstm = RNN_LSTM(params)\n",
    "\n",
    "history = lstm.model_train.fit(rnn_dat.X_train, rnn_dat.y_train, \n",
    "                    batch_size = params['batch_size'], epochs=params['epochs'], \n",
    "                    callbacks = [ResetStatesCallback(params),\n",
    "                                EarlyStoppingCallback(patience = 15)],\n",
    "                   validation_data = (rnn_dat.X_val, rnn_dat.y_val))\n",
    "              "
   ]
  },
  {
   "cell_type": "code",
   "execution_count": null,
   "id": "9b3c8d8d-ea50-44ea-8c0c-414e07cd01ac",
   "metadata": {},
   "outputs": [],
   "source": []
  },
  {
   "cell_type": "code",
   "execution_count": null,
   "id": "03063e3c-e8f4-451d-b0cf-25bd965cd9d6",
   "metadata": {},
   "outputs": [],
   "source": [
    "params = RNNParams(read_yml(\"params.yaml\", subkey=\"lstm\"))\n",
    "params.update({'epochs': 50, 'learning_rate': 0.001, 'verbose_fit': True, 'rnn_layers': 2, 'rnn_units': 20, 'dense_layers': 1, 'dense_units': 10,\n",
    "              'activation': ['tanh', 'tanh'], 'features_list': rnn_dat.features_list,\n",
    "              'batch_schedule_type':'step', 'bmin': 10, 'bmax':rnn_dat.hours})\n",
    "rnn_dat = rnn_data_wrap(combine_nested(train3), params)\n",
    "params.update({\n",
    "    'loc_batch_reset': rnn_dat.n_seqs # Used to reset hidden state when location changes for a given batch\n",
    "})\n",
    "reproducibility.set_seed(123)\n",
    "lstm = RNN_LSTM(params)\n",
    "m, errs = lstm.run_model(rnn_dat)"
   ]
  },
  {
   "cell_type": "code",
   "execution_count": null,
   "id": "be46a2dc-bf5c-4893-a1ee-a1682566f7a2",
   "metadata": {},
   "outputs": [],
   "source": [
    "errs.mean()"
   ]
  },
  {
   "cell_type": "code",
   "execution_count": null,
   "id": "0f319f37-7d13-41fd-95fa-66dbdfeab588",
   "metadata": {},
   "outputs": [],
   "source": []
  },
  {
   "cell_type": "code",
   "execution_count": null,
   "id": "b1252b08-62b9-4d24-add2-0f87d15b0ff2",
   "metadata": {},
   "outputs": [],
   "source": [
    "params = RNNParams(read_yml(\"params.yaml\", subkey=\"rnn\"))\n",
    "rnn_dat = rnn_data_wrap(combine_nested(train3), params)"
   ]
  },
  {
   "cell_type": "code",
   "execution_count": null,
   "id": "9281540b-eb26-4923-883b-1b31d8347634",
   "metadata": {},
   "outputs": [],
   "source": [
    "reproducibility.set_seed(123)\n",
    "rnn = RNN(params)\n",
    "m, errs = rnn.run_model(rnn_dat)"
   ]
  },
  {
   "cell_type": "code",
   "execution_count": null,
   "id": "8a0269b4-d6b7-4f20-8386-69814d7acaa3",
   "metadata": {},
   "outputs": [],
   "source": [
    "errs.mean()"
   ]
  },
  {
   "cell_type": "code",
   "execution_count": null,
   "id": "10b44de3-a0e9-49e4-9e03-873d69580c07",
   "metadata": {},
   "outputs": [],
   "source": []
  },
  {
   "cell_type": "code",
   "execution_count": null,
   "id": "27f4fee4-7fce-49c5-a455-97a90b754c13",
   "metadata": {},
   "outputs": [],
   "source": []
  },
  {
   "cell_type": "code",
   "execution_count": null,
   "id": "739d4b26-641e-47b2-a90a-67cd32215d05",
   "metadata": {},
   "outputs": [],
   "source": []
  }
 ],
 "metadata": {
  "kernelspec": {
   "display_name": "Python 3 (ipykernel)",
   "language": "python",
   "name": "python3"
  },
  "language_info": {
   "codemirror_mode": {
    "name": "ipython",
    "version": 3
   },
   "file_extension": ".py",
   "mimetype": "text/x-python",
   "name": "python",
   "nbconvert_exporter": "python",
   "pygments_lexer": "ipython3",
   "version": "3.12.5"
  }
 },
 "nbformat": 4,
 "nbformat_minor": 5
}
