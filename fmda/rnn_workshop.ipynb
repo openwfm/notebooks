{
 "cells": [
  {
   "cell_type": "markdown",
   "id": "244c2fb0-4339-476c-a2db-a641e124e25a",
   "metadata": {},
   "source": [
    "# v2 exploration trying to make it work better"
   ]
  },
  {
   "cell_type": "code",
   "execution_count": null,
   "id": "e6cc7920-e380-4b81-bac0-cd6840450e9a",
   "metadata": {},
   "outputs": [],
   "source": [
    "# Environment\n",
    "import numpy as np\n",
    "import pandas as pd\n",
    "import tensorflow as tf\n",
    "import matplotlib.pyplot as plt\n",
    "import sys\n",
    "# Local modules\n",
    "sys.path.append('..')\n",
    "import reproducibility\n",
    "import pandas as pd\n",
    "from utils import print_dict_summary\n",
    "from data_funcs import load_and_fix_data, rmse\n",
    "from moisture_rnn import RNN, RNN_LSTM, create_rnn_data2\n",
    "from moisture_rnn_pkl import pkl2train\n",
    "from tensorflow.keras.callbacks import Callback\n",
    "from sklearn.metrics import mean_squared_error\n",
    "from utils import hash2\n",
    "import copy\n",
    "import logging\n",
    "import pickle\n",
    "from utils import logging_setup\n",
    "import yaml"
   ]
  },
  {
   "cell_type": "code",
   "execution_count": null,
   "id": "f58e8839-bf0e-4995-b966-c09e4df001ce",
   "metadata": {},
   "outputs": [],
   "source": [
    "logging_setup()"
   ]
  },
  {
   "cell_type": "markdown",
   "id": "2298a1a1-b72c-4c7e-bcb6-2cdefe96fe3e",
   "metadata": {},
   "source": [
    "## Test Data Creation"
   ]
  },
  {
   "cell_type": "code",
   "execution_count": null,
   "id": "740e05fe-8353-41c3-be42-4051d2eb589c",
   "metadata": {},
   "outputs": [],
   "source": [
    "train_file='train.pkl'\n",
    "with open(train_file,'rb') as file:\n",
    "    train=pickle.load(file)"
   ]
  },
  {
   "cell_type": "markdown",
   "id": "2afc2cf7-eab1-4a85-8632-4d306aead358",
   "metadata": {},
   "source": [
    "## Test RNN"
   ]
  },
  {
   "cell_type": "code",
   "execution_count": null,
   "id": "58fa6d8b-aea5-45bf-8841-7fcfd403cf46",
   "metadata": {},
   "outputs": [],
   "source": [
    "with open(\"params.yaml\") as file:\n",
    "    params_all = yaml.safe_load(file)\n",
    "\n",
    "params = params_all['rnn']"
   ]
  },
  {
   "cell_type": "code",
   "execution_count": null,
   "id": "83c10ca8-ce5c-4fe8-86be-2d34174914c2",
   "metadata": {},
   "outputs": [],
   "source": [
    "import importlib\n",
    "import moisture_rnn\n",
    "importlib.reload(moisture_rnn)\n",
    "from moisture_rnn import create_rnn_data2"
   ]
  },
  {
   "cell_type": "code",
   "execution_count": null,
   "id": "20d53b27-d699-4ba9-a1bc-7e9c12835be8",
   "metadata": {},
   "outputs": [],
   "source": [
    "case = [*train.keys()][1]\n",
    "print(case)"
   ]
  },
  {
   "cell_type": "code",
   "execution_count": null,
   "id": "79e3c25a-cf08-4a6d-be2e-21afb861c976",
   "metadata": {},
   "outputs": [],
   "source": [
    "params.update({'val_frac': .2, 'scale': True, 'scaler': 'standard'})\n",
    "rnn_dat = create_rnn_data2(train[case], params)"
   ]
  },
  {
   "cell_type": "code",
   "execution_count": null,
   "id": "418f27e2-40ff-4032-b775-222d6fb2dacf",
   "metadata": {},
   "outputs": [],
   "source": [
    "print(rnn_dat['X'].shape)\n",
    "print(rnn_dat['features_list'])"
   ]
  },
  {
   "cell_type": "code",
   "execution_count": null,
   "id": "54879860-3e25-45bb-97a7-837c8e3c7d43",
   "metadata": {},
   "outputs": [],
   "source": [
    "params.update({'features_list': ['wind', 'Ed', 'Ew', 'solar', 'lat', 'rain']})\n",
    "params.update({'epochs': 200})"
   ]
  },
  {
   "cell_type": "code",
   "execution_count": null,
   "id": "f928a0cc-f8e7-40b6-83dc-fb1a02d0cc9d",
   "metadata": {},
   "outputs": [],
   "source": [
    "print(rnn_dat['X'].shape)\n",
    "print(rnn_dat['features_list'])"
   ]
  },
  {
   "cell_type": "code",
   "execution_count": null,
   "id": "41c213e6-e2b7-42ba-a772-cece78febccd",
   "metadata": {},
   "outputs": [],
   "source": []
  },
  {
   "cell_type": "code",
   "execution_count": null,
   "id": "e0a1147c-e882-4b67-9e77-36a3b4b8bde4",
   "metadata": {},
   "outputs": [],
   "source": [
    "reproducibility.set_seed()\n",
    "rnn = RNN(params)\n",
    "m, errs = rnn.run_model(rnn_dat)"
   ]
  },
  {
   "cell_type": "code",
   "execution_count": null,
   "id": "888dd72a-4eef-414b-ac33-f6f4bfbefe60",
   "metadata": {},
   "outputs": [],
   "source": [
    "errs"
   ]
  },
  {
   "cell_type": "markdown",
   "id": "d2360aef-e9c4-4a71-922d-336e53b82537",
   "metadata": {},
   "source": [
    "## LSTM"
   ]
  },
  {
   "cell_type": "code",
   "execution_count": null,
   "id": "71d4e441-9bf1-4d57-bb37-091553e23212",
   "metadata": {},
   "outputs": [],
   "source": [
    "import importlib \n",
    "import moisture_rnn\n",
    "importlib.reload(moisture_rnn)\n",
    "from moisture_rnn import RNN_LSTM"
   ]
  },
  {
   "cell_type": "code",
   "execution_count": null,
   "id": "59480f19-3567-4b24-b6ff-d9292dc8c2ec",
   "metadata": {},
   "outputs": [],
   "source": [
    "with open(\"params.yaml\") as file:\n",
    "    params = yaml.safe_load(file)[\"lstm\"]\n",
    "    \n",
    "rnn_dat2 = create_rnn_data2(train[case],params)"
   ]
  },
  {
   "cell_type": "code",
   "execution_count": null,
   "id": "2adff592-7aa4-4e59-a229-cad4a133297e",
   "metadata": {},
   "outputs": [],
   "source": [
    "params.update({'epochs': 10})"
   ]
  },
  {
   "cell_type": "code",
   "execution_count": null,
   "id": "b20539f0-eed2-44de-9269-ae8696c8e7c8",
   "metadata": {},
   "outputs": [],
   "source": []
  },
  {
   "cell_type": "code",
   "execution_count": null,
   "id": "6bfbcbb5-b631-4594-9ae5-618c4fe68e7b",
   "metadata": {},
   "outputs": [],
   "source": [
    "reproducibility.set_seed()\n",
    "rnn = RNN(params)\n",
    "m, errs = rnn.run_model(rnn_dat2)"
   ]
  },
  {
   "cell_type": "code",
   "execution_count": null,
   "id": "dd8a9700-f479-4c11-8655-ca7b45222402",
   "metadata": {},
   "outputs": [],
   "source": []
  },
  {
   "cell_type": "code",
   "execution_count": null,
   "id": "de46c481-74a7-46cc-8334-678ad8230cce",
   "metadata": {},
   "outputs": [],
   "source": [
    "import importlib\n",
    "importlib.reload(moisture_rnn)\n",
    "from moisture_rnn import RNN_LSTM"
   ]
  },
  {
   "cell_type": "code",
   "execution_count": null,
   "id": "2b6a699a-68e8-49ef-95f2-409137502fb6",
   "metadata": {},
   "outputs": [],
   "source": [
    "with open(\"params.yaml\") as file:\n",
    "    params = yaml.safe_load(file)[\"lstm\"]\n",
    "\n",
    "rnn_dat2 = create_rnn_data2(train[case],params)\n",
    "params"
   ]
  },
  {
   "cell_type": "code",
   "execution_count": null,
   "id": "188c0d5d-f3f6-4a61-83b0-b21dfc5d01b7",
   "metadata": {},
   "outputs": [],
   "source": [
    "params.update({\n",
    "    'learning_rate': 0.000001,\n",
    "    'epochs': 10,\n",
    "    'clipvalue':1.0\n",
    "})"
   ]
  },
  {
   "cell_type": "code",
   "execution_count": null,
   "id": "6a9d612e-8cd2-40ca-a789-91c99c3d6ccd",
   "metadata": {},
   "outputs": [],
   "source": [
    "reproducibility.set_seed()\n",
    "lstm = RNN_LSTM(params)\n",
    "m, errs = lstm.run_model(rnn_dat2)"
   ]
  },
  {
   "cell_type": "code",
   "execution_count": null,
   "id": "ec95e7d4-6d57-441b-b673-f10625ee5dec",
   "metadata": {},
   "outputs": [],
   "source": []
  },
  {
   "cell_type": "code",
   "execution_count": null,
   "id": "9b3c8d8d-ea50-44ea-8c0c-414e07cd01ac",
   "metadata": {},
   "outputs": [],
   "source": []
  },
  {
   "cell_type": "code",
   "execution_count": null,
   "id": "03063e3c-e8f4-451d-b0cf-25bd965cd9d6",
   "metadata": {},
   "outputs": [],
   "source": []
  },
  {
   "cell_type": "code",
   "execution_count": null,
   "id": "f60a24c6-9a67-45aa-bc5c-8818aa0ca049",
   "metadata": {},
   "outputs": [],
   "source": []
  }
 ],
 "metadata": {
  "kernelspec": {
   "display_name": "Python 3 (ipykernel)",
   "language": "python",
   "name": "python3"
  },
  "language_info": {
   "codemirror_mode": {
    "name": "ipython",
    "version": 3
   },
   "file_extension": ".py",
   "mimetype": "text/x-python",
   "name": "python",
   "nbconvert_exporter": "python",
   "pygments_lexer": "ipython3",
   "version": "3.9.12"
  }
 },
 "nbformat": 4,
 "nbformat_minor": 5
}
