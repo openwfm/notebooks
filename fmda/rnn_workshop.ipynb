{
 "cells": [
  {
   "cell_type": "markdown",
   "id": "244c2fb0-4339-476c-a2db-a641e124e25a",
   "metadata": {},
   "source": [
    "# v2.1 exploration trying to make it work better"
   ]
  },
  {
   "cell_type": "code",
   "execution_count": null,
   "id": "e6cc7920-e380-4b81-bac0-cd6840450e9a",
   "metadata": {},
   "outputs": [],
   "source": [
    "# Environment\n",
    "import os\n",
    "import os.path as osp\n",
    "import numpy as np\n",
    "import pandas as pd\n",
    "import tensorflow as tf\n",
    "import matplotlib.pyplot as plt\n",
    "import sys\n",
    "# Local modules\n",
    "sys.path.append('..')\n",
    "import reproducibility\n",
    "import pandas as pd\n",
    "from utils import print_dict_summary\n",
    "from data_funcs import rmse\n",
    "from moisture_rnn import RNNParams, RNNData, RNN, RNN_LSTM\n",
    "from moisture_rnn_pkl import pkl2train\n",
    "from tensorflow.keras.callbacks import Callback\n",
    "from utils import hash2\n",
    "import copy\n",
    "import logging\n",
    "import pickle\n",
    "from utils import logging_setup, read_yml, read_pkl, hash_ndarray, hash_weights\n",
    "import yaml\n",
    "import copy"
   ]
  },
  {
   "cell_type": "code",
   "execution_count": null,
   "id": "f58e8839-bf0e-4995-b966-c09e4df001ce",
   "metadata": {},
   "outputs": [],
   "source": [
    "logging_setup()"
   ]
  },
  {
   "cell_type": "markdown",
   "id": "b8fe1011-a0cc-46a4-98b7-d82c2b22f5b0",
   "metadata": {},
   "source": [
    "## Test Learning Schedule"
   ]
  },
  {
   "cell_type": "code",
   "execution_count": null,
   "id": "0df1c817-d422-4cfa-a4c5-b02549cdaffa",
   "metadata": {
    "scrolled": true
   },
   "outputs": [],
   "source": [
    "train = read_pkl('train.pkl')\n",
    "train.keys()"
   ]
  },
  {
   "cell_type": "code",
   "execution_count": null,
   "id": "4f2623ea-3504-446e-8243-f93ccce6b62e",
   "metadata": {},
   "outputs": [],
   "source": [
    "import importlib\n",
    "import moisture_rnn\n",
    "importlib.reload(moisture_rnn)\n",
    "from moisture_rnn import RNN, RNNData"
   ]
  },
  {
   "cell_type": "code",
   "execution_count": null,
   "id": "55748373-85a8-4a0b-a53b-c8e0533a47ca",
   "metadata": {},
   "outputs": [],
   "source": [
    "params = read_yml(\"params.yaml\", subkey=\"rnn\")\n",
    "params = RNNParams(params)"
   ]
  },
  {
   "cell_type": "code",
   "execution_count": null,
   "id": "5dbcd63c-84ce-4ead-88e7-447452d2832a",
   "metadata": {},
   "outputs": [],
   "source": [
    "rnn_dat = RNNData(train['PLFI1_202401'], scaler=params['scaler'], features_list = params['features_list'])"
   ]
  },
  {
   "cell_type": "code",
   "execution_count": null,
   "id": "948138a6-1854-428c-b5ec-75e87c9c50e7",
   "metadata": {},
   "outputs": [],
   "source": [
    "rnn_dat.train_test_split(\n",
    "    time_fracs = [.9, .05, .05]\n",
    ")\n",
    "rnn_dat.scale_data()\n",
    "rnn_dat.batch_reshape(timesteps = params['timesteps'], batch_size = params['batch_size'])"
   ]
  },
  {
   "cell_type": "code",
   "execution_count": null,
   "id": "b8966951-eabc-424f-ace7-efeecfd9f32e",
   "metadata": {},
   "outputs": [],
   "source": [
    "rnn_dat.print_hashes()"
   ]
  },
  {
   "cell_type": "code",
   "execution_count": null,
   "id": "78255617-5511-4e54-a022-8dba9946bbe2",
   "metadata": {},
   "outputs": [],
   "source": [
    "reproducibility.set_seed()\n",
    "params.update({'batch_schedule_type': 'constant', 'bmin': 20})\n",
    "params.update({'verbose_fit': True})\n",
    "params.update({\n",
    "    'train_frac': .9,\n",
    "    'val_frac': .05,\n",
    "    'activation': ['relu', 'relu'],\n",
    "    'epochs': 10,\n",
    "    'dense_units': 10,\n",
    "    'rnn_layers': 2       \n",
    "})\n",
    "rnn = RNN(params)\n",
    "m, errs, best = rnn.run_model(rnn_dat, plot_period=\"predict\", return_epochs=True)"
   ]
  },
  {
   "cell_type": "code",
   "execution_count": null,
   "id": "9455e0d8-013b-47f3-9736-ba88cbaff67c",
   "metadata": {},
   "outputs": [],
   "source": [
    "from moisture_models import run_augmented_kf\n",
    "print('Running Augmented KF')\n",
    "train[\"PLFI1_202401\"]['h2'] = rnn_dat.test_ind\n",
    "train[\"PLFI1_202401\"]['scale_fm'] = 1\n",
    "m_kf, Ec = run_augmented_kf(train[\"PLFI1_202401\"])\n",
    "y = rnn_dat['y']         \n",
    "train[\"PLFI1_202401\"]['m'] = m\n",
    "print(f\"KF RMSE: {rmse(m,y)}\")"
   ]
  },
  {
   "cell_type": "code",
   "execution_count": null,
   "id": "1e453b9c-63a3-4ea1-bfaf-8feda90dd294",
   "metadata": {},
   "outputs": [],
   "source": []
  },
  {
   "cell_type": "code",
   "execution_count": null,
   "id": "a8cfb0de-6f4e-4adc-bcae-8f7a1586023a",
   "metadata": {},
   "outputs": [],
   "source": []
  },
  {
   "cell_type": "code",
   "execution_count": null,
   "id": "bee5f76e-1e2c-4ad5-987a-3d436fb804b6",
   "metadata": {
    "scrolled": true
   },
   "outputs": [],
   "source": [
    "data_params = read_yml(\"params_data.yaml\")\n",
    "data_params.update({\n",
    "    'hours': 720\n",
    "})\n",
    "from data_funcs import process_train_dict\n",
    "train2 = process_train_dict(\"data/fmda_nw_202401-05_f05.pkl\", atm_dict=\"RAWS\", data_params=data_params, verbose=True)"
   ]
  },
  {
   "cell_type": "code",
   "execution_count": null,
   "id": "3ff5bab5-77eb-4669-a3eb-bc4052b99332",
   "metadata": {
    "scrolled": true
   },
   "outputs": [],
   "source": [
    "train2.keys()"
   ]
  },
  {
   "cell_type": "code",
   "execution_count": null,
   "id": "fc5fb724-530f-42a0-95b7-5f695c81c025",
   "metadata": {},
   "outputs": [],
   "source": [
    "import importlib\n",
    "import moisture_rnn\n",
    "importlib.reload(moisture_rnn)\n",
    "from moisture_rnn import RNN, RNNData"
   ]
  },
  {
   "cell_type": "code",
   "execution_count": null,
   "id": "dafa5d88-93c5-43a4-b218-0b7ba07f45fe",
   "metadata": {},
   "outputs": [],
   "source": [
    "rnn_dat2 = RNNData(train2['PLFI1_202401'], scaler=params['scaler'], features_list = params['features_list'])\n",
    "rnn_dat2.train_test_split(\n",
    "    time_fracs = [.9, .05, .05]\n",
    ")\n",
    "rnn_dat2.scale_data()\n",
    "rnn_dat2.batch_reshape(timesteps = params['timesteps'], batch_size = params['batch_size'],\n",
    "                      start_times=\"zero\", verbose=False)"
   ]
  },
  {
   "cell_type": "code",
   "execution_count": null,
   "id": "78879022-c427-45da-92bb-db2890921769",
   "metadata": {},
   "outputs": [],
   "source": [
    "rnn_dat2.X_val.shape"
   ]
  },
  {
   "cell_type": "code",
   "execution_count": null,
   "id": "b9e9f16e-26be-449a-a281-0f73930a361d",
   "metadata": {},
   "outputs": [],
   "source": [
    "reproducibility.set_seed()\n",
    "params.update({'batch_schedule_type': 'exp', 'bmin': 20, 'bmax': rnn_dat2.hours, 'epochs': 500,\n",
    "              'early_stopping_patience': 20, 'rnn_layers':2, 'dense_layers': 2, 'dense_units': 50, 'activation': ['relu', 'relu']})\n",
    "rnn = RNN(params)\n",
    "m, errs = rnn.run_model(rnn_dat2)"
   ]
  },
  {
   "cell_type": "code",
   "execution_count": null,
   "id": "564c6069-83d4-4fdc-872c-09020225d643",
   "metadata": {},
   "outputs": [],
   "source": [
    "rnn.model_predict.summary()"
   ]
  },
  {
   "cell_type": "code",
   "execution_count": null,
   "id": "fd020805-e967-4243-b7df-ed1ef52af982",
   "metadata": {},
   "outputs": [],
   "source": []
  },
  {
   "cell_type": "code",
   "execution_count": null,
   "id": "e3c53c71-f8ab-4988-8a7e-56550dcb1cbc",
   "metadata": {},
   "outputs": [],
   "source": []
  },
  {
   "cell_type": "code",
   "execution_count": null,
   "id": "3f50742d-8837-48ce-8d67-c508d1dab55f",
   "metadata": {},
   "outputs": [],
   "source": []
  },
  {
   "cell_type": "code",
   "execution_count": null,
   "id": "12acc354-5214-4545-a3ae-f28e2f7f214a",
   "metadata": {},
   "outputs": [],
   "source": [
    "rnn_dat2 = RNNData(train2['ESEPN_202401'], scaler=params['scaler'], features_list = params['features_list'])\n",
    "rnn_dat2.train_test_split(\n",
    "    time_fracs = [.9, .05, .05]\n",
    ")\n",
    "rnn_dat2.scale_data()\n",
    "rnn_dat2.batch_reshape(timesteps = params['timesteps'], batch_size = params['batch_size'])\n"
   ]
  },
  {
   "cell_type": "code",
   "execution_count": null,
   "id": "6cfb3f26-02e5-49bb-9786-e8bfe5a0a1dd",
   "metadata": {},
   "outputs": [],
   "source": [
    "reproducibility.set_seed()\n",
    "params.update({'batch_schedule_type': 'constant', 'bmin': 20})\n",
    "params.update({'verbose_fit': True})\n",
    "params.update({\n",
    "    'train_frac': .9,\n",
    "    'val_frac': .05,\n",
    "    'activation': ['relu', 'relu'],\n",
    "    'epochs': 10,\n",
    "    'dense_units': 10,\n",
    "    'rnn_layers': 2       \n",
    "})\n",
    "rnn2 = RNN(params)\n",
    "m2, errs2, best = rnn2.run_model(rnn_dat2, plot_period=\"predict\", return_epochs=True)"
   ]
  },
  {
   "cell_type": "markdown",
   "id": "b62f4360-e9d1-4510-bb5d-1d79a3a5ac75",
   "metadata": {},
   "source": [
    "## Test Spatial Data"
   ]
  },
  {
   "cell_type": "code",
   "execution_count": null,
   "id": "3a04c2d3-3bf1-451d-88bc-7b1e8701cb52",
   "metadata": {},
   "outputs": [],
   "source": [
    "train = read_pkl('data/train.pkl')"
   ]
  },
  {
   "cell_type": "code",
   "execution_count": null,
   "id": "3d416f92-995a-427f-b76d-a6125061ee98",
   "metadata": {},
   "outputs": [],
   "source": [
    "params = read_yml(\"params.yaml\", subkey=\"rnn\")\n",
    "params = RNNParams(params)"
   ]
  },
  {
   "cell_type": "code",
   "execution_count": null,
   "id": "1d76cd6e-2e0e-40ae-9a58-3ed62217a33d",
   "metadata": {},
   "outputs": [],
   "source": [
    "len(train.keys())"
   ]
  },
  {
   "cell_type": "code",
   "execution_count": null,
   "id": "4735052a-f046-4d52-8666-ce14e4a0e276",
   "metadata": {},
   "outputs": [],
   "source": [
    "from itertools import islice\n",
    "train2_cases = ['PLFI1_202401', 'SRFI1_202401', 'BGFO3_202401', 'CAFO3_202401', 'TPEO3_202401', 'CGFO3_202401', 'CWFO3_202401', 'HYFO3_202401', 'BBFO3_202401', 'KMRO3_202401', 'LPOW1_202401', 'TWRW1_202401', 'BHRO3_202401', 'EACPN_202401', 'NPJPN_202401', 'NPPPN_202401', 'FLZPN_202401', 'SPRPN_202401', 'HDRPN_202401', 'SKYPN_202401', 'ESCPN_202401', 'SSMPN_202401', 'BDRPN_202401', 'LARPN_202401', 'ESBPN_202401', 'SCHPN_202401', 'ESEPN_202401', 'MRTPN_202401', 'KELPN_202401', 'HOWPN_202401', 'FWRPN_202401', 'MTSPN_202401', 'GDNPN_202401', 'MDWPN_202401', 'KNRPN_202401', 'QRDPN_202401', 'PTVPN_202401', 'GOSPN_202401', 'ANDPN_202401', 'THMPN_202401', 'OXDPN_202401', 'GRUPN_202401', 'HILPN_202401', 'BLUPN_202401', 'LAMPN_202401', 'NWFPN_202401', 'SHDPN_202401', 'TNCPN_202401', 'RCKPN_202401', 'ZENPN_202401', 'SMVPN_202401', 'SWBPN_202401', 'BPLPN_202401', 'TT803_202401', 'SRRPN_202401', 'PCLPN_202401', 'BLFPN_202401', 'PWLPN_202401', 'PVRPN_202401']\n",
    "dat = {key: train[key] for key in train2_cases if key in train}"
   ]
  },
  {
   "cell_type": "code",
   "execution_count": null,
   "id": "194f815f-c889-43ed-b0e8-853b1c4a8a81",
   "metadata": {},
   "outputs": [],
   "source": [
    "dat.keys()"
   ]
  },
  {
   "cell_type": "code",
   "execution_count": null,
   "id": "99819622-555b-4027-a644-5f75c76f7fbc",
   "metadata": {},
   "outputs": [],
   "source": [
    "from data_funcs import combine_nested\n",
    "dd = combine_nested(dat)"
   ]
  },
  {
   "cell_type": "code",
   "execution_count": null,
   "id": "4a647e8a-61f3-4e5b-abb3-44d43d7e0844",
   "metadata": {},
   "outputs": [],
   "source": [
    "import importlib\n",
    "import utils\n",
    "importlib.reload(utils)\n",
    "from utils import Dict"
   ]
  },
  {
   "cell_type": "code",
   "execution_count": null,
   "id": "6335deef-ea25-40bd-8a68-842af80cebe8",
   "metadata": {},
   "outputs": [],
   "source": [
    "dd = Dict(dd)"
   ]
  },
  {
   "cell_type": "code",
   "execution_count": null,
   "id": "e86c9e4d-4ccd-4d9d-92e1-2e4299549fa4",
   "metadata": {},
   "outputs": [],
   "source": [
    "import importlib\n",
    "import moisture_rnn\n",
    "importlib.reload(moisture_rnn)\n",
    "from moisture_rnn import RNNData"
   ]
  },
  {
   "cell_type": "code",
   "execution_count": null,
   "id": "966c3559-740d-44d3-b98d-cc2efe63afcd",
   "metadata": {},
   "outputs": [],
   "source": [
    "rnn_dat = RNNData(dd, scaler=\"standard\", \n",
    "                  features_list = ['Ed', 'Ew', 'rain', 'elev', 'lon', 'lat'])"
   ]
  },
  {
   "cell_type": "code",
   "execution_count": null,
   "id": "fccf6c0c-eb33-4d22-a690-b30104c9e8ba",
   "metadata": {},
   "outputs": [],
   "source": [
    "# rnn_dat.train_test_split(   \n",
    "#     time_fracs = [.9, .05, .05],\n",
    "#     space_fracs = [.9, .05, .05]\n",
    "# )\n",
    "rnn_dat.train_test_split(   \n",
    "    time_fracs = [.9, .05, .05],\n",
    "    space_fracs = [.8, .1, .1]\n",
    ")"
   ]
  },
  {
   "cell_type": "code",
   "execution_count": null,
   "id": "72289573-56a1-45ca-8551-b24c4c073bfd",
   "metadata": {},
   "outputs": [],
   "source": [
    "rnn_dat.scale_data()"
   ]
  },
  {
   "cell_type": "code",
   "execution_count": null,
   "id": "5b636287-1943-45f7-8b1d-7a5e2a06826f",
   "metadata": {},
   "outputs": [],
   "source": [
    "print(params['batch_size'])"
   ]
  },
  {
   "cell_type": "code",
   "execution_count": null,
   "id": "b35a8e1a-a161-42af-a595-2e1bae0fd0ba",
   "metadata": {},
   "outputs": [],
   "source": [
    "rnn_dat.batch_reshape(\n",
    "    timesteps = params['timesteps'], \n",
    "    batch_size = params['batch_size'],\n",
    "    verbose=True\n",
    ")"
   ]
  },
  {
   "cell_type": "code",
   "execution_count": null,
   "id": "7c54d896-634e-4853-bbdf-461e367a8e55",
   "metadata": {},
   "outputs": [],
   "source": []
  },
  {
   "cell_type": "code",
   "execution_count": null,
   "id": "fa14f0ab-07ff-4c67-bdcb-ff225610ffa2",
   "metadata": {},
   "outputs": [],
   "source": [
    "import importlib\n",
    "import moisture_rnn\n",
    "importlib.reload(moisture_rnn)\n",
    "from moisture_rnn import RNN"
   ]
  },
  {
   "cell_type": "code",
   "execution_count": null,
   "id": "c3617c1c-d34d-411c-ad55-39d38da7b3d6",
   "metadata": {},
   "outputs": [],
   "source": [
    "from moisture_rnn import ResetStatesCallback, EarlyStoppingCallback\n",
    "params.update({'epochs': 25, 'learning_rate': 0.0001, 'verbose_fit': False, 'rnn_layers': 2, 'rnn_units': 20, 'dense_layers': 1, 'dense_units': 10,\n",
    "              'activation': ['relu', 'relu'],\n",
    "              'features_list': rnn_dat.features_list})\n",
    "params.update({'batch_schedule_type': 'exp', 'bmin': 20, 'bmax': rnn_dat.hours})\n",
    "reproducibility.set_seed(123)\n",
    "rnn = RNN(params)\n",
    "m, errs = rnn.run_model(rnn_dat)"
   ]
  },
  {
   "cell_type": "code",
   "execution_count": null,
   "id": "303b5071-4254-4a37-95d2-989b7e87be5e",
   "metadata": {},
   "outputs": [],
   "source": [
    "errs.mean()"
   ]
  },
  {
   "cell_type": "code",
   "execution_count": null,
   "id": "055d98f5-4028-4822-b409-b03d437490da",
   "metadata": {},
   "outputs": [],
   "source": []
  },
  {
   "cell_type": "code",
   "execution_count": null,
   "id": "d3abc849-6eb7-4b8c-a222-b136998f9db1",
   "metadata": {},
   "outputs": [],
   "source": []
  },
  {
   "cell_type": "code",
   "execution_count": null,
   "id": "b228d5ff-c60e-47fa-b0b1-25446791d232",
   "metadata": {},
   "outputs": [],
   "source": [
    "import importlib\n",
    "import data_funcs\n",
    "importlib.reload(data_funcs)\n",
    "from data_funcs import process_train_dict"
   ]
  },
  {
   "cell_type": "code",
   "execution_count": null,
   "id": "95b4a55f-2dbd-4320-a656-a6a0a3ca8f5a",
   "metadata": {
    "scrolled": true
   },
   "outputs": [],
   "source": [
    "from data_funcs import process_train_dict\n",
    "data_params = read_yml(\"params_data.yaml\")\n",
    "data_params.update({\n",
    "    'hours': 3648\n",
    "})\n",
    "train2 = process_train_dict(\"data/fmda_nw_202401-05_f05.pkl\", data_params=data_params, verbose=True)"
   ]
  },
  {
   "cell_type": "code",
   "execution_count": null,
   "id": "b78b45b4-1406-4657-9c31-08c9f24d93a1",
   "metadata": {},
   "outputs": [],
   "source": [
    "import importlib\n",
    "import moisture_rnn\n",
    "importlib.reload(moisture_rnn)\n",
    "from moisture_rnn import RNNData"
   ]
  },
  {
   "cell_type": "code",
   "execution_count": null,
   "id": "6caf2bc4-e9c5-460b-bae5-b15b6221aaa1",
   "metadata": {},
   "outputs": [],
   "source": [
    "dat = {k: train2[k] for k in islice(train2, 100)}\n",
    "dd = combine_nested(dat)\n",
    "dd = Dict(dd)\n",
    "rnn_dat2 = RNNData(dd, scaler=\"standard\", \n",
    "                  features_list = ['Ed', 'Ew', 'rain', 'elev', 'lon', 'lat'])\n",
    "rnn_dat2.train_test_split(   \n",
    "    time_fracs = [.9, .05, .05],\n",
    "    space_fracs = [.8, .1, .1]\n",
    ")\n",
    "params.update({'batch_size': 32})\n",
    "rnn_dat2.batch_reshape(\n",
    "    timesteps = params['timesteps'], \n",
    "    batch_size = params['batch_size'],\n",
    "    start_times = np.zeros(len(rnn_dat2.case)).astype(int),\n",
    "    verbose=False\n",
    ")"
   ]
  },
  {
   "cell_type": "code",
   "execution_count": null,
   "id": "72fee44b-4e1f-44c7-bd00-76ae05d5684c",
   "metadata": {},
   "outputs": [],
   "source": [
    "rnn_dat2.X_train.shape"
   ]
  },
  {
   "cell_type": "code",
   "execution_count": null,
   "id": "63994abb-de21-4e37-9e39-83fdc7043d83",
   "metadata": {},
   "outputs": [],
   "source": [
    "rnn_dat2.X_val.shape"
   ]
  },
  {
   "cell_type": "code",
   "execution_count": null,
   "id": "c34b46d6-3ac7-4880-92d9-d75c8897c003",
   "metadata": {},
   "outputs": [],
   "source": [
    "rnn_dat2.X_test[0].shape"
   ]
  },
  {
   "cell_type": "code",
   "execution_count": null,
   "id": "beb357ab-16dc-4c91-a121-6dfc509f4ff6",
   "metadata": {},
   "outputs": [],
   "source": [
    "params.update({'epochs': 25, 'learning_rate': 0.0001, 'verbose_fit': False, 'rnn_layers': 2, 'rnn_units': 20, 'dense_layers': 1, 'dense_units': 10,\n",
    "              'activation': ['relu', 'relu'], 'epochs': 100, 'early_stopping_patience': 20,\n",
    "              'features_list': rnn_dat2.features_list})\n",
    "params.update({'batch_schedule_type': 'exp', 'bmin': 20, 'bmax': rnn_dat2.hours})\n",
    "reproducibility.set_seed(123)\n",
    "rnn = RNN(params)\n",
    "m, errs = rnn.run_model(rnn_dat2, plot_period='predict')"
   ]
  },
  {
   "cell_type": "code",
   "execution_count": null,
   "id": "a319b314-b156-47af-8541-f97145352e5c",
   "metadata": {},
   "outputs": [],
   "source": [
    "errs.mean()"
   ]
  },
  {
   "cell_type": "code",
   "execution_count": null,
   "id": "cc698f4f-7bc3-41e1-85d4-bc891b132f16",
   "metadata": {},
   "outputs": [],
   "source": []
  },
  {
   "cell_type": "code",
   "execution_count": null,
   "id": "4443c7c4-6c25-47d4-b7e0-0cc73b659c3b",
   "metadata": {},
   "outputs": [],
   "source": []
  },
  {
   "cell_type": "code",
   "execution_count": null,
   "id": "321eff04-7c60-482b-8eb4-97c526d161c8",
   "metadata": {
    "scrolled": true
   },
   "outputs": [],
   "source": [
    "from data_funcs import process_train_dict\n",
    "data_params = read_yml(\"params_data.yaml\")\n",
    "data_params.update({\n",
    "    'hours': 720\n",
    "})\n",
    "train = process_train_dict(\"data/fmda_nw_202401-05_f05.pkl\", data_params=data_params, verbose=True)"
   ]
  },
  {
   "cell_type": "code",
   "execution_count": null,
   "id": "d6b886b4-24ae-4eed-8da7-7e26fa6acaea",
   "metadata": {},
   "outputs": [],
   "source": [
    "import importlib\n",
    "import moisture_rnn\n",
    "importlib.reload(moisture_rnn)\n",
    "from moisture_rnn import RNNData"
   ]
  },
  {
   "cell_type": "code",
   "execution_count": null,
   "id": "92a88aa0-1ad4-4446-8191-00acb922c77f",
   "metadata": {},
   "outputs": [],
   "source": [
    "dat = {k: train[k] for k in islice(train, 100)}\n",
    "dd = combine_nested(dat)\n",
    "dd = Dict(dd)\n",
    "rnn_dat = RNNData(dd, scaler=\"standard\", \n",
    "                  features_list = ['Ed', 'Ew', 'rain', 'elev', 'lon', 'lat'])\n",
    "rnn_dat.train_test_split(   \n",
    "    time_fracs = [.9, .05, .05],\n",
    "    space_fracs = [.8, .1, .1]\n",
    ")\n",
    "params.update({'batch_size': 32})\n",
    "rnn_dat.batch_reshape(\n",
    "    timesteps = params['timesteps'], \n",
    "    batch_size = params['batch_size'],\n",
    "    start_times = np.zeros(len(rnn_dat.case)).astype(int),\n",
    "    verbose=False\n",
    ")"
   ]
  },
  {
   "cell_type": "code",
   "execution_count": null,
   "id": "eeceb7c3-24d8-41dc-8e1c-30414ebcc971",
   "metadata": {},
   "outputs": [],
   "source": [
    "rnn_dat.X_train.shape"
   ]
  },
  {
   "cell_type": "code",
   "execution_count": null,
   "id": "29cd269c-595f-4d28-a8ca-03cac12a2095",
   "metadata": {},
   "outputs": [],
   "source": [
    "rnn_dat.X_val.shape"
   ]
  },
  {
   "cell_type": "code",
   "execution_count": null,
   "id": "dec1a3ad-3d91-4a9f-a904-4d7ae5c1c8d7",
   "metadata": {},
   "outputs": [],
   "source": [
    "params.update({'learning_rate': 0.001, 'verbose_fit': True, 'rnn_layers': 1, 'rnn_units': 20, 'dense_layers': 1, 'dense_units': 10,\n",
    "              'activation': ['relu', 'relu'], 'epochs': 100, 'early_stopping_patience': 20,\n",
    "              'features_list': rnn_dat.features_list})\n",
    "params.update({'batch_schedule_type': 'exp', 'bmin': 20, 'bmax': rnn_dat.hours})\n",
    "reproducibility.set_seed(123)\n",
    "rnn = RNN(params)\n",
    "m, errs = rnn.run_model(rnn_dat, plot_period='predict')"
   ]
  },
  {
   "cell_type": "code",
   "execution_count": null,
   "id": "b6922358-b824-4c77-abe4-c9b605a78738",
   "metadata": {},
   "outputs": [],
   "source": [
    "errs.mean()"
   ]
  },
  {
   "cell_type": "code",
   "execution_count": null,
   "id": "a9979ff7-e569-4305-a27c-01710021767f",
   "metadata": {},
   "outputs": [],
   "source": [
    "from moisture_models import run_augmented_kf"
   ]
  },
  {
   "cell_type": "code",
   "execution_count": null,
   "id": "a4636548-2866-48db-951d-18febde16254",
   "metadata": {},
   "outputs": [],
   "source": [
    "test_cases = rnn_dat.loc['test_locs']\n",
    "rmses = []\n",
    "for case in test_cases:\n",
    "    print(\"~\"*50)\n",
    "    print(case)\n",
    "    ind = rnn_dat.case.index(case)\n",
    "    d = train[case]\n",
    "    d['hours']=720\n",
    "    d['h2'] = rnn_dat.test_ind\n",
    "    d['scale_fm'] = 1\n",
    "    m, Ec = run_augmented_kf(d)\n",
    "    y = rnn_dat['y'][ind]\n",
    "    print(f\"KF RMSE: {rmse(m[rnn_dat.test_ind:],y[rnn_dat.test_ind:])}\") \n",
    "    rmses.append(rmse(m[rnn_dat.test_ind:],y[rnn_dat.test_ind:]))"
   ]
  },
  {
   "cell_type": "code",
   "execution_count": null,
   "id": "b2438e5d-0927-4315-a190-c1294effa3f2",
   "metadata": {},
   "outputs": [],
   "source": [
    "np.array(rmses).mean()"
   ]
  },
  {
   "cell_type": "code",
   "execution_count": null,
   "id": "0033db07-cf37-4d53-9130-257f829d9a2b",
   "metadata": {},
   "outputs": [],
   "source": []
  },
  {
   "cell_type": "code",
   "execution_count": null,
   "id": "8d3762e5-6489-4180-97d0-f5a74c6138b9",
   "metadata": {},
   "outputs": [],
   "source": []
  },
  {
   "cell_type": "code",
   "execution_count": null,
   "id": "d3eebe8a-ff12-454b-81b6-6a138924f127",
   "metadata": {},
   "outputs": [],
   "source": []
  },
  {
   "cell_type": "markdown",
   "id": "d2360aef-e9c4-4a71-922d-336e53b82537",
   "metadata": {},
   "source": [
    "## LSTM\n",
    "\n",
    "TODO: FIX BELOW"
   ]
  },
  {
   "cell_type": "code",
   "execution_count": null,
   "id": "71d4e441-9bf1-4d57-bb37-091553e23212",
   "metadata": {},
   "outputs": [],
   "source": [
    "import importlib \n",
    "import moisture_rnn\n",
    "importlib.reload(moisture_rnn)\n",
    "from moisture_rnn import RNN_LSTM"
   ]
  },
  {
   "cell_type": "code",
   "execution_count": null,
   "id": "0f6ba896-e3be-4a9f-8a42-3df64aff7d63",
   "metadata": {},
   "outputs": [],
   "source": [
    "params = read_yml(\"params.yaml\", subkey=\"lstm\")\n",
    "params = RNNParams(params)"
   ]
  },
  {
   "cell_type": "code",
   "execution_count": null,
   "id": "0157a6bc-3a99-4b87-a42c-ab770d19ae37",
   "metadata": {},
   "outputs": [],
   "source": [
    "from moisture_rnn import ResetStatesCallback, EarlyStoppingCallback\n",
    "params.update({'epochs': 50, 'learning_rate': 0.00005, 'verbose_fit': True, 'rnn_layers': 2, 'rnn_units': 20, 'dense_layers': 1, 'dense_units': 10,\n",
    "              'activation': ['relu', 'relu'], 'features_list': rnn_dat.features_list,\n",
    "              'batch_schedule_type':'exp', 'bmin': 10, 'bmax':rnn_dat.hours})\n",
    "reproducibility.set_seed(123)\n",
    "lstm = RNN_LSTM(params)\n",
    "\n",
    "history = lstm.model_train.fit(rnn_dat.X_train, rnn_dat.y_train, \n",
    "                    batch_size = params['batch_size'], epochs=params['epochs'], \n",
    "                    callbacks = [ResetStatesCallback(params),\n",
    "                                EarlyStoppingCallback(patience = 15)],\n",
    "                   validation_data = (rnn_dat.X_val, rnn_dat.y_val))\n",
    "              "
   ]
  },
  {
   "cell_type": "code",
   "execution_count": null,
   "id": "de0c00e7-838f-41b6-9cc5-70594656d155",
   "metadata": {},
   "outputs": [],
   "source": []
  },
  {
   "cell_type": "code",
   "execution_count": null,
   "id": "430a2224-6798-48fa-b198-a32800f88f66",
   "metadata": {},
   "outputs": [],
   "source": []
  },
  {
   "cell_type": "code",
   "execution_count": null,
   "id": "ec95e7d4-6d57-441b-b673-f10625ee5dec",
   "metadata": {},
   "outputs": [],
   "source": []
  },
  {
   "cell_type": "code",
   "execution_count": null,
   "id": "9b3c8d8d-ea50-44ea-8c0c-414e07cd01ac",
   "metadata": {},
   "outputs": [],
   "source": []
  },
  {
   "cell_type": "code",
   "execution_count": null,
   "id": "03063e3c-e8f4-451d-b0cf-25bd965cd9d6",
   "metadata": {},
   "outputs": [],
   "source": []
  },
  {
   "cell_type": "code",
   "execution_count": null,
   "id": "f60a24c6-9a67-45aa-bc5c-8818aa0ca049",
   "metadata": {},
   "outputs": [],
   "source": []
  }
 ],
 "metadata": {
  "kernelspec": {
   "display_name": "Python 3 (ipykernel)",
   "language": "python",
   "name": "python3"
  },
  "language_info": {
   "codemirror_mode": {
    "name": "ipython",
    "version": 3
   },
   "file_extension": ".py",
   "mimetype": "text/x-python",
   "name": "python",
   "nbconvert_exporter": "python",
   "pygments_lexer": "ipython3",
   "version": "3.12.5"
  }
 },
 "nbformat": 4,
 "nbformat_minor": 5
}
