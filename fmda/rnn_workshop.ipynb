{
 "cells": [
  {
   "cell_type": "markdown",
   "id": "244c2fb0-4339-476c-a2db-a641e124e25a",
   "metadata": {},
   "source": [
    "# v2.1 exploration trying to make it work better"
   ]
  },
  {
   "cell_type": "code",
   "execution_count": null,
   "id": "e6cc7920-e380-4b81-bac0-cd6840450e9a",
   "metadata": {},
   "outputs": [],
   "source": [
    "# Environment\n",
    "import os\n",
    "import os.path as osp\n",
    "import numpy as np\n",
    "import pandas as pd\n",
    "import tensorflow as tf\n",
    "import matplotlib.pyplot as plt\n",
    "import sys\n",
    "# Local modules\n",
    "sys.path.append('..')\n",
    "import reproducibility\n",
    "import pandas as pd\n",
    "from utils import print_dict_summary\n",
    "from data_funcs import rmse, process_train_dict\n",
    "from moisture_rnn import RNNParams, RNNData, RNN, RNN_LSTM\n",
    "from moisture_rnn_pkl import pkl2train\n",
    "from tensorflow.keras.callbacks import Callback\n",
    "from utils import hash2\n",
    "import copy\n",
    "import logging\n",
    "import pickle\n",
    "from utils import logging_setup, read_yml, read_pkl, hash_ndarray, hash_weights\n",
    "import yaml\n",
    "import copy"
   ]
  },
  {
   "cell_type": "code",
   "execution_count": null,
   "id": "f58e8839-bf0e-4995-b966-c09e4df001ce",
   "metadata": {},
   "outputs": [],
   "source": [
    "logging_setup()"
   ]
  },
  {
   "cell_type": "markdown",
   "id": "fae67b50-f916-45a7-bcc7-61995ba39449",
   "metadata": {},
   "source": [
    "## Tests"
   ]
  },
  {
   "cell_type": "code",
   "execution_count": null,
   "id": "12992b9a-407f-4131-ac61-e1dc338386bf",
   "metadata": {},
   "outputs": [],
   "source": [
    "params = RNNParams(read_yml(\"params.yaml\", subkey='rnn'))\n",
    "params"
   ]
  },
  {
   "cell_type": "code",
   "execution_count": null,
   "id": "f214fdf8-bb76-4912-8f8c-5d0c8c1230c2",
   "metadata": {},
   "outputs": [],
   "source": [
    "dat = read_pkl(\"data/train.pkl\")"
   ]
  },
  {
   "cell_type": "code",
   "execution_count": null,
   "id": "888b7805-15f6-4c09-a05b-7aed7d253f6e",
   "metadata": {},
   "outputs": [],
   "source": [
    "cases = [*dat.keys()]"
   ]
  },
  {
   "cell_type": "code",
   "execution_count": null,
   "id": "375055d8-c070-4639-9561-e47d3f21f1f8",
   "metadata": {},
   "outputs": [],
   "source": [
    "rnn_dat = RNNData(dat[cases[10]], params['scaler'], params['features_list'])\n",
    "rnn_dat.train_test_split(\n",
    "    time_fracs = [.8, .1, .1]\n",
    ")\n",
    "rnn_dat.scale_data()\n",
    "rnn_dat.batch_reshape(timesteps = params['timesteps'], batch_size = params['batch_size'])"
   ]
  },
  {
   "cell_type": "code",
   "execution_count": null,
   "id": "5488628e-4552-4909-83e9-413fd6878bdd",
   "metadata": {},
   "outputs": [],
   "source": [
    "params.update({\n",
    "    'epochs':100,\n",
    "    'dense_layers': 0,\n",
    "    'activation': ['relu', 'relu'],\n",
    "    'phys_initialize': False,\n",
    "    'dropout': [0,0]\n",
    "})"
   ]
  },
  {
   "cell_type": "code",
   "execution_count": null,
   "id": "56bdf26c-07e7-4e4a-a567-af7dd0f564d9",
   "metadata": {},
   "outputs": [],
   "source": [
    "reproducibility.set_seed()\n",
    "rnn = RNN(params)\n",
    "m, errs = rnn.run_model(rnn_dat)"
   ]
  },
  {
   "cell_type": "code",
   "execution_count": null,
   "id": "01227b79-98f3-4931-bdfc-ff08afa8be5f",
   "metadata": {},
   "outputs": [],
   "source": [
    "rnn.model_train.summary()"
   ]
  },
  {
   "cell_type": "code",
   "execution_count": null,
   "id": "918a8bf0-638b-4b4b-82fe-c6a1965a72dd",
   "metadata": {},
   "outputs": [],
   "source": []
  },
  {
   "cell_type": "code",
   "execution_count": null,
   "id": "0aab34c7-8a09-480a-9d3e-619f7cf82b34",
   "metadata": {},
   "outputs": [],
   "source": [
    "params.update({\n",
    "    'phys_initialize': True,\n",
    "    'scaler': None, # TODO\n",
    "    'dense_layers': 0, # NOT including single Dense output layer which is hard-coded\n",
    "    'activation': ['linear', 'linear'], # TODO tanh, relu the same\n",
    "    'batch_schedule_type': None # Hopefully this isn't a necessity like before, but maybe it will help\n",
    "})"
   ]
  },
  {
   "cell_type": "code",
   "execution_count": null,
   "id": "ab549075-f71f-42ad-b36f-3d1e90247e33",
   "metadata": {},
   "outputs": [],
   "source": [
    "rnn_dat2 = RNNData(dat[cases[10]], params['scaler'], params['features_list'])\n",
    "rnn_dat2.train_test_split(\n",
    "    time_fracs = [.8, .1, .1]\n",
    ")\n",
    "rnn_dat2.batch_reshape(timesteps = params['timesteps'], batch_size = params['batch_size'])"
   ]
  },
  {
   "cell_type": "code",
   "execution_count": null,
   "id": "195f337a-ac8a-4471-8226-94863b9385e2",
   "metadata": {},
   "outputs": [],
   "source": [
    "import importlib\n",
    "import moisture_rnn\n",
    "importlib.reload(moisture_rnn)\n",
    "from moisture_rnn import RNN, RNNData"
   ]
  },
  {
   "cell_type": "code",
   "execution_count": null,
   "id": "9395d147-17a5-44ba-aaa2-a213ffde062b",
   "metadata": {
    "scrolled": true
   },
   "outputs": [],
   "source": [
    "reproducibility.set_seed()\n",
    "\n",
    "rnn = RNN(params)"
   ]
  },
  {
   "cell_type": "code",
   "execution_count": null,
   "id": "d3eebe8a-ff12-454b-81b6-6a138924f127",
   "metadata": {},
   "outputs": [],
   "source": [
    "m, errs = rnn.run_model(rnn_dat2)"
   ]
  },
  {
   "cell_type": "code",
   "execution_count": null,
   "id": "bcbb0159-74c5-4f56-9d69-d85a58ddbd1a",
   "metadata": {},
   "outputs": [],
   "source": [
    "rnn.model_predict.get_weights()"
   ]
  },
  {
   "cell_type": "code",
   "execution_count": null,
   "id": "c25f741a-6280-4cf2-8017-e56672236fdb",
   "metadata": {},
   "outputs": [],
   "source": []
  },
  {
   "cell_type": "code",
   "execution_count": null,
   "id": "e8ed2b03-6123-4bdf-9e26-ef2ce4951663",
   "metadata": {},
   "outputs": [],
   "source": [
    "params['rnn_units']"
   ]
  },
  {
   "cell_type": "code",
   "execution_count": null,
   "id": "e44302bf-af49-4140-ae31-54f7c88a6735",
   "metadata": {},
   "outputs": [],
   "source": [
    "params.update({\n",
    "    'phys_initialize': True,\n",
    "    'scaler': None, # TODO\n",
    "    'dense_layers': 0, # NOT including single Dense output layer which is hard-coded\n",
    "    'activation': ['relu', 'relu'], # TODO tanh, relu the same\n",
    "    'batch_schedule_type': None # Hopefully this isn't a necessity like before, but maybe it will help\n",
    "})"
   ]
  },
  {
   "cell_type": "code",
   "execution_count": null,
   "id": "9a8ac32d-551c-43e8-988e-a3b13e6d9cd9",
   "metadata": {},
   "outputs": [],
   "source": [
    "rnn_dat2 = RNNData(dat[cases[10]], params['scaler'], params['features_list'])\n",
    "rnn_dat2.train_test_split(\n",
    "    time_fracs = [.8, .1, .1]\n",
    ")\n",
    "rnn_dat2.batch_reshape(timesteps = params['timesteps'], batch_size = params['batch_size'])"
   ]
  },
  {
   "cell_type": "code",
   "execution_count": null,
   "id": "ff727da8-38fb-4fda-999b-f712b98de0df",
   "metadata": {
    "scrolled": true
   },
   "outputs": [],
   "source": [
    "reproducibility.set_seed()\n",
    "\n",
    "rnn = RNN(params)\n",
    "m, errs = rnn.run_model(rnn_dat2)"
   ]
  },
  {
   "cell_type": "code",
   "execution_count": null,
   "id": "b165074c-ea88-4b4d-8e41-6b6f22b4d221",
   "metadata": {},
   "outputs": [],
   "source": []
  },
  {
   "cell_type": "code",
   "execution_count": null,
   "id": "aa5cd4e6-4441-4c77-a086-e9edefbeb83b",
   "metadata": {},
   "outputs": [],
   "source": []
  },
  {
   "cell_type": "code",
   "execution_count": null,
   "id": "7bd1e05b-5cd8-48b4-8469-4842313d6097",
   "metadata": {},
   "outputs": [],
   "source": []
  },
  {
   "cell_type": "code",
   "execution_count": null,
   "id": "b399346d-20b8-4c97-898a-606a4be98065",
   "metadata": {},
   "outputs": [],
   "source": []
  },
  {
   "cell_type": "code",
   "execution_count": null,
   "id": "521285e6-6b6a-4d23-b688-9eb84b8eab68",
   "metadata": {},
   "outputs": [],
   "source": []
  },
  {
   "cell_type": "code",
   "execution_count": null,
   "id": "12c66af1-54fd-4398-8ee2-36eeb937c40d",
   "metadata": {},
   "outputs": [],
   "source": []
  },
  {
   "cell_type": "code",
   "execution_count": null,
   "id": "eb21fb8e-05c6-4a39-bdf1-4a57067c786d",
   "metadata": {},
   "outputs": [],
   "source": []
  },
  {
   "cell_type": "code",
   "execution_count": null,
   "id": "628a9105-ca06-44c4-ad00-13808e2f4773",
   "metadata": {},
   "outputs": [],
   "source": []
  },
  {
   "cell_type": "code",
   "execution_count": null,
   "id": "37fdbb3a-3e83-4541-93b2-982b6d4cbe93",
   "metadata": {},
   "outputs": [],
   "source": []
  },
  {
   "cell_type": "code",
   "execution_count": null,
   "id": "a592a4c9-cb3b-4174-8eaa-02afd00a1897",
   "metadata": {},
   "outputs": [],
   "source": []
  },
  {
   "cell_type": "code",
   "execution_count": null,
   "id": "3832fb05-417c-4648-8e2e-7748c06b3768",
   "metadata": {},
   "outputs": [],
   "source": []
  },
  {
   "cell_type": "markdown",
   "id": "d2360aef-e9c4-4a71-922d-336e53b82537",
   "metadata": {},
   "source": [
    "## LSTM\n",
    "\n",
    "TODO: FIX BELOW"
   ]
  },
  {
   "cell_type": "code",
   "execution_count": null,
   "id": "71d4e441-9bf1-4d57-bb37-091553e23212",
   "metadata": {},
   "outputs": [],
   "source": [
    "import importlib \n",
    "import moisture_rnn\n",
    "importlib.reload(moisture_rnn)\n",
    "from moisture_rnn import RNN_LSTM"
   ]
  },
  {
   "cell_type": "code",
   "execution_count": null,
   "id": "0f6ba896-e3be-4a9f-8a42-3df64aff7d63",
   "metadata": {},
   "outputs": [],
   "source": [
    "params = read_yml(\"params.yaml\", subkey=\"lstm\")\n",
    "params = RNNParams(params)"
   ]
  },
  {
   "cell_type": "code",
   "execution_count": null,
   "id": "0157a6bc-3a99-4b87-a42c-ab770d19ae37",
   "metadata": {},
   "outputs": [],
   "source": [
    "from moisture_rnn import ResetStatesCallback, EarlyStoppingCallback\n",
    "params.update({'epochs': 50, 'learning_rate': 0.00005, 'verbose_fit': True, 'rnn_layers': 2, 'rnn_units': 20, 'dense_layers': 1, 'dense_units': 10,\n",
    "              'activation': ['relu', 'relu'], 'features_list': rnn_dat.features_list,\n",
    "              'batch_schedule_type':'exp', 'bmin': 10, 'bmax':rnn_dat.hours})\n",
    "reproducibility.set_seed(123)\n",
    "lstm = RNN_LSTM(params)\n",
    "\n",
    "history = lstm.model_train.fit(rnn_dat.X_train, rnn_dat.y_train, \n",
    "                    batch_size = params['batch_size'], epochs=params['epochs'], \n",
    "                    callbacks = [ResetStatesCallback(params),\n",
    "                                EarlyStoppingCallback(patience = 15)],\n",
    "                   validation_data = (rnn_dat.X_val, rnn_dat.y_val))\n",
    "              "
   ]
  },
  {
   "cell_type": "code",
   "execution_count": null,
   "id": "de0c00e7-838f-41b6-9cc5-70594656d155",
   "metadata": {},
   "outputs": [],
   "source": []
  },
  {
   "cell_type": "code",
   "execution_count": null,
   "id": "430a2224-6798-48fa-b198-a32800f88f66",
   "metadata": {},
   "outputs": [],
   "source": []
  },
  {
   "cell_type": "code",
   "execution_count": null,
   "id": "ec95e7d4-6d57-441b-b673-f10625ee5dec",
   "metadata": {},
   "outputs": [],
   "source": []
  },
  {
   "cell_type": "code",
   "execution_count": null,
   "id": "9b3c8d8d-ea50-44ea-8c0c-414e07cd01ac",
   "metadata": {},
   "outputs": [],
   "source": []
  },
  {
   "cell_type": "code",
   "execution_count": null,
   "id": "03063e3c-e8f4-451d-b0cf-25bd965cd9d6",
   "metadata": {},
   "outputs": [],
   "source": []
  },
  {
   "cell_type": "code",
   "execution_count": null,
   "id": "f60a24c6-9a67-45aa-bc5c-8818aa0ca049",
   "metadata": {},
   "outputs": [],
   "source": []
  }
 ],
 "metadata": {
  "kernelspec": {
   "display_name": "Python 3 (ipykernel)",
   "language": "python",
   "name": "python3"
  },
  "language_info": {
   "codemirror_mode": {
    "name": "ipython",
    "version": 3
   },
   "file_extension": ".py",
   "mimetype": "text/x-python",
   "name": "python",
   "nbconvert_exporter": "python",
   "pygments_lexer": "ipython3",
   "version": "3.12.5"
  }
 },
 "nbformat": 4,
 "nbformat_minor": 5
}
