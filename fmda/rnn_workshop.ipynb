{
 "cells": [
  {
   "cell_type": "markdown",
   "id": "244c2fb0-4339-476c-a2db-a641e124e25a",
   "metadata": {},
   "source": [
    "# v2 exploration trying to make it work better"
   ]
  },
  {
   "cell_type": "code",
   "execution_count": null,
   "id": "e6cc7920-e380-4b81-bac0-cd6840450e9a",
   "metadata": {},
   "outputs": [],
   "source": [
    "# Environment\n",
    "import numpy as np\n",
    "import pandas as pd\n",
    "import tensorflow as tf\n",
    "import matplotlib.pyplot as plt\n",
    "import sys\n",
    "# Local modules\n",
    "sys.path.append('..')\n",
    "import reproducibility\n",
    "import pandas as pd\n",
    "from utils import print_dict_summary\n",
    "from data_funcs import load_and_fix_data, rmse\n",
    "from moisture_rnn import RNN, RNN_LSTM, create_rnn_data2\n",
    "from moisture_rnn_pkl import pkl2train\n",
    "from tensorflow.keras.callbacks import Callback\n",
    "from sklearn.metrics import mean_squared_error\n",
    "from utils import hash2\n",
    "import copy\n",
    "import logging\n",
    "from utils import logging_setup"
   ]
  },
  {
   "cell_type": "code",
   "execution_count": null,
   "id": "f58e8839-bf0e-4995-b966-c09e4df001ce",
   "metadata": {},
   "outputs": [],
   "source": [
    "logging_setup()"
   ]
  },
  {
   "cell_type": "markdown",
   "id": "2298a1a1-b72c-4c7e-bcb6-2cdefe96fe3e",
   "metadata": {},
   "source": [
    "## Test Data Creation"
   ]
  },
  {
   "cell_type": "code",
   "execution_count": null,
   "id": "56444dda-1e57-4b47-ad35-72ae7ed706e6",
   "metadata": {},
   "outputs": [],
   "source": [
    "import yaml\n",
    "\n",
    "with open(\"params.yaml\") as file:\n",
    "    params = yaml.safe_load(file)[\"rnn\"]\n",
    "# params.update({'scale': 1})"
   ]
  },
  {
   "cell_type": "code",
   "execution_count": null,
   "id": "41aba374-c498-4f50-ad3a-5a63a0df5398",
   "metadata": {},
   "outputs": [],
   "source": [
    "import importlib\n",
    "import moisture_rnn_pkl\n",
    "importlib.reload(moisture_rnn_pkl)\n",
    "from moisture_rnn_pkl import pkl2train"
   ]
  },
  {
   "cell_type": "code",
   "execution_count": null,
   "id": "4666d11f-aaa2-426e-a406-70603f2799f9",
   "metadata": {
    "scrolled": true
   },
   "outputs": [],
   "source": [
    "# params.update({'features_list': ['Ed', 'rain', 'solar', 'wind']})\n",
    "train = pkl2train(['data/reproducibility_dict2.pickle', \"data/test_CA_202401.pkl\"])\n",
    "# train = pd.read_pickle('train.pkl')"
   ]
  },
  {
   "cell_type": "code",
   "execution_count": null,
   "id": "58d54d93-067c-4372-b285-5a6e394fdd75",
   "metadata": {},
   "outputs": [],
   "source": [
    "list(train.keys())[0:5]"
   ]
  },
  {
   "cell_type": "code",
   "execution_count": null,
   "id": "cb119a26-c08a-41a1-bea2-c6dfe3b5feb0",
   "metadata": {},
   "outputs": [],
   "source": [
    "print(train['reproducibility']['features_list'])\n",
    "print(train['reproducibility']['X'].shape)"
   ]
  },
  {
   "cell_type": "code",
   "execution_count": null,
   "id": "6fdbff9a-eefe-486a-8b31-b1cf1bd15178",
   "metadata": {},
   "outputs": [],
   "source": [
    "print(train['CRVC1_202401']['features_list'])\n",
    "print(train['CRVC1_202401']['X'].shape)"
   ]
  },
  {
   "cell_type": "code",
   "execution_count": null,
   "id": "83c10ca8-ce5c-4fe8-86be-2d34174914c2",
   "metadata": {},
   "outputs": [],
   "source": [
    "import importlib\n",
    "import moisture_rnn\n",
    "importlib.reload(moisture_rnn)\n",
    "from moisture_rnn import create_rnn_data2"
   ]
  },
  {
   "cell_type": "code",
   "execution_count": null,
   "id": "79e3c25a-cf08-4a6d-be2e-21afb861c976",
   "metadata": {},
   "outputs": [],
   "source": [
    "params.update({'val_frac': .2, 'scale': True, 'scaler': 'standard'})\n",
    "rnn_dat = create_rnn_data2(train['CRVC1_202401'], params)"
   ]
  },
  {
   "cell_type": "code",
   "execution_count": null,
   "id": "418f27e2-40ff-4032-b775-222d6fb2dacf",
   "metadata": {},
   "outputs": [],
   "source": [
    "print(rnn_dat['X'].shape)\n",
    "print(rnn_dat['features_list'])"
   ]
  },
  {
   "cell_type": "code",
   "execution_count": null,
   "id": "54879860-3e25-45bb-97a7-837c8e3c7d43",
   "metadata": {},
   "outputs": [],
   "source": [
    "params.update({'features_list': ['wind', 'Ed', 'Ew', 'solar', 'lat', 'rain']})\n",
    "rnn_dat = create_rnn_data2(train['CRVC1_202401'], params)"
   ]
  },
  {
   "cell_type": "code",
   "execution_count": null,
   "id": "f928a0cc-f8e7-40b6-83dc-fb1a02d0cc9d",
   "metadata": {},
   "outputs": [],
   "source": [
    "print(rnn_dat['X'].shape)\n",
    "print(rnn_dat['features_list'])"
   ]
  },
  {
   "cell_type": "code",
   "execution_count": null,
   "id": "41c213e6-e2b7-42ba-a772-cece78febccd",
   "metadata": {},
   "outputs": [],
   "source": []
  },
  {
   "cell_type": "code",
   "execution_count": null,
   "id": "aef8f17f-321f-40f7-ba9c-48bb2d1c8f7c",
   "metadata": {},
   "outputs": [],
   "source": []
  },
  {
   "cell_type": "markdown",
   "id": "fdbd525c-6c89-4b27-bce1-705aaa2c4501",
   "metadata": {},
   "source": []
  },
  {
   "cell_type": "code",
   "execution_count": null,
   "id": "e0a1147c-e882-4b67-9e77-36a3b4b8bde4",
   "metadata": {},
   "outputs": [],
   "source": [
    "reproducibility.set_seed()\n",
    "rnn = RNN(params)\n",
    "m, errs = rnn.run_model(rnn_dat)"
   ]
  },
  {
   "cell_type": "code",
   "execution_count": null,
   "id": "21ea67c5-26c3-4f2c-a2b8-03be57d7e013",
   "metadata": {},
   "outputs": [],
   "source": [
    "params.update({'scale': False})\n",
    "rnn_dat = create_rnn_data2(train['CRVC1_202401'], params)\n",
    "print(rnn_dat['X_train'][0,:])\n",
    "reproducibility.set_seed()\n",
    "rnn = RNN(params)\n",
    "m, errs = rnn.run_model(rnn_dat)"
   ]
  },
  {
   "cell_type": "code",
   "execution_count": null,
   "id": "888dd72a-4eef-414b-ac33-f6f4bfbefe60",
   "metadata": {},
   "outputs": [],
   "source": [
    "errs"
   ]
  },
  {
   "cell_type": "markdown",
   "id": "d2360aef-e9c4-4a71-922d-336e53b82537",
   "metadata": {},
   "source": [
    "## LSTM"
   ]
  },
  {
   "cell_type": "code",
   "execution_count": null,
   "id": "71d4e441-9bf1-4d57-bb37-091553e23212",
   "metadata": {},
   "outputs": [],
   "source": [
    "import importlib \n",
    "import moisture_rnn\n",
    "importlib.reload(moisture_rnn)\n",
    "from moisture_rnn import RNN_LSTM"
   ]
  },
  {
   "cell_type": "code",
   "execution_count": null,
   "id": "59480f19-3567-4b24-b6ff-d9292dc8c2ec",
   "metadata": {},
   "outputs": [],
   "source": [
    "with open(\"params.yaml\") as file:\n",
    "    params = yaml.safe_load(file)[\"lstm\"]\n",
    "    \n",
    "rnn_dat = create_rnn_data2(train['CRVC1_202401'],params)"
   ]
  },
  {
   "cell_type": "code",
   "execution_count": null,
   "id": "2adff592-7aa4-4e59-a229-cad4a133297e",
   "metadata": {},
   "outputs": [],
   "source": [
    "params"
   ]
  },
  {
   "cell_type": "code",
   "execution_count": null,
   "id": "6a9d612e-8cd2-40ca-a789-91c99c3d6ccd",
   "metadata": {},
   "outputs": [],
   "source": [
    "params.update({'epochs': 200})\n",
    "reproducibility.set_seed()\n",
    "lstm = RNN_LSTM(params)\n",
    "m, errs = lstm.run_model(rnn_dat)"
   ]
  },
  {
   "cell_type": "code",
   "execution_count": null,
   "id": "f60a24c6-9a67-45aa-bc5c-8818aa0ca049",
   "metadata": {},
   "outputs": [],
   "source": []
  }
 ],
 "metadata": {
  "kernelspec": {
   "display_name": "Python 3 (ipykernel)",
   "language": "python",
   "name": "python3"
  },
  "language_info": {
   "codemirror_mode": {
    "name": "ipython",
    "version": 3
   },
   "file_extension": ".py",
   "mimetype": "text/x-python",
   "name": "python",
   "nbconvert_exporter": "python",
   "pygments_lexer": "ipython3",
   "version": "3.10.13"
  }
 },
 "nbformat": 4,
 "nbformat_minor": 5
}
