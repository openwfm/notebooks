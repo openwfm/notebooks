{
 "cells": [
  {
   "cell_type": "markdown",
   "id": "244c2fb0-4339-476c-a2db-a641e124e25a",
   "metadata": {},
   "source": [
    "# v2.1 exploration trying to make it work better"
   ]
  },
  {
   "cell_type": "code",
   "execution_count": null,
   "id": "e6cc7920-e380-4b81-bac0-cd6840450e9a",
   "metadata": {},
   "outputs": [],
   "source": [
    "# Environment\n",
    "import os\n",
    "import os.path as osp\n",
    "import numpy as np\n",
    "import pandas as pd\n",
    "import tensorflow as tf\n",
    "import matplotlib.pyplot as plt\n",
    "import sys\n",
    "# Local modules\n",
    "sys.path.append('..')\n",
    "import reproducibility\n",
    "import pandas as pd\n",
    "from utils import print_dict_summary\n",
    "from data_funcs import rmse\n",
    "from moisture_rnn import RNNParams, RNNData, RNN, RNN_LSTM, create_rnn_data2\n",
    "from moisture_rnn_pkl import pkl2train\n",
    "from tensorflow.keras.callbacks import Callback\n",
    "from utils import hash2\n",
    "import copy\n",
    "import logging\n",
    "import pickle\n",
    "from utils import logging_setup, read_yml, read_pkl, hash_ndarray, hash_weights\n",
    "import yaml\n",
    "import copy"
   ]
  },
  {
   "cell_type": "code",
   "execution_count": null,
   "id": "f58e8839-bf0e-4995-b966-c09e4df001ce",
   "metadata": {},
   "outputs": [],
   "source": [
    "logging_setup()"
   ]
  },
  {
   "cell_type": "markdown",
   "id": "b8fe1011-a0cc-46a4-98b7-d82c2b22f5b0",
   "metadata": {},
   "source": [
    "## Test Batch Size"
   ]
  },
  {
   "cell_type": "code",
   "execution_count": null,
   "id": "0df1c817-d422-4cfa-a4c5-b02549cdaffa",
   "metadata": {
    "scrolled": true
   },
   "outputs": [],
   "source": [
    "train = read_pkl('train.pkl')\n",
    "train.keys()"
   ]
  },
  {
   "cell_type": "code",
   "execution_count": null,
   "id": "4f2623ea-3504-446e-8243-f93ccce6b62e",
   "metadata": {},
   "outputs": [],
   "source": [
    "import importlib\n",
    "import moisture_rnn\n",
    "importlib.reload(moisture_rnn)\n",
    "from moisture_rnn import RNN, RNNData"
   ]
  },
  {
   "cell_type": "code",
   "execution_count": null,
   "id": "948138a6-1854-428c-b5ec-75e87c9c50e7",
   "metadata": {},
   "outputs": [],
   "source": [
    "params = read_yml(\"params.yaml\", subkey=\"rnn\")\n",
    "params = RNNParams(params)\n",
    "params.update({'batch_size': 7})\n",
    "rnn_dat = RNNData(train['PLFI1_202401'], scaler=params['scaler'], features_list = params['features_list'])\n",
    "rnn_dat.train_test_split(\n",
    "    train_frac = .9,\n",
    "    val_frac = .05\n",
    ")\n",
    "rnn_dat.scale_data()\n",
    "rnn_dat.batch_reshape(timesteps = params['timesteps'], batch_size = params['batch_size'])"
   ]
  },
  {
   "cell_type": "code",
   "execution_count": null,
   "id": "edbde39b-984f-4b4e-8403-73e33b93004d",
   "metadata": {},
   "outputs": [],
   "source": [
    "params.update({'epochs': 10})"
   ]
  },
  {
   "cell_type": "code",
   "execution_count": null,
   "id": "5d582e1c-c148-46d3-9533-d79559aebb29",
   "metadata": {},
   "outputs": [],
   "source": [
    "reproducibility.set_seed()\n",
    "rnn = RNN(params)\n",
    "m, errs = rnn.run_model(rnn_dat)"
   ]
  },
  {
   "cell_type": "code",
   "execution_count": null,
   "id": "5cfd0dbe-8e7d-4d9e-a21c-9001a498084c",
   "metadata": {},
   "outputs": [],
   "source": [
    "rnn.model_train.summary()"
   ]
  },
  {
   "cell_type": "code",
   "execution_count": null,
   "id": "db2abad4-16d4-4afc-a0d8-b2dec6b872c2",
   "metadata": {},
   "outputs": [],
   "source": []
  },
  {
   "cell_type": "markdown",
   "id": "b62f4360-e9d1-4510-bb5d-1d79a3a5ac75",
   "metadata": {},
   "source": [
    "## Test Spatial Data"
   ]
  },
  {
   "cell_type": "code",
   "execution_count": null,
   "id": "3a04c2d3-3bf1-451d-88bc-7b1e8701cb52",
   "metadata": {},
   "outputs": [],
   "source": [
    "train = read_pkl('train.pkl')"
   ]
  },
  {
   "cell_type": "code",
   "execution_count": null,
   "id": "4735052a-f046-4d52-8666-ce14e4a0e276",
   "metadata": {},
   "outputs": [],
   "source": [
    "from itertools import islice\n",
    "dat = {k: train[k] for k in islice(train, 3)}"
   ]
  },
  {
   "cell_type": "code",
   "execution_count": null,
   "id": "194f815f-c889-43ed-b0e8-853b1c4a8a81",
   "metadata": {},
   "outputs": [],
   "source": []
  },
  {
   "cell_type": "code",
   "execution_count": null,
   "id": "b8fa155a-0c68-4a80-9416-e8c36217a248",
   "metadata": {},
   "outputs": [],
   "source": [
    "import importlib\n",
    "import moisture_rnn\n",
    "importlib.reload(moisture_rnn)\n",
    "from moisture_rnn import RNNData\n",
    "import data_funcs\n",
    "importlib.reload(data_funcs)\n",
    "from data_funcs import combine_nested"
   ]
  },
  {
   "cell_type": "code",
   "execution_count": null,
   "id": "99819622-555b-4027-a644-5f75c76f7fbc",
   "metadata": {},
   "outputs": [],
   "source": [
    "dd = combine_nested(dat)"
   ]
  },
  {
   "cell_type": "code",
   "execution_count": null,
   "id": "bb747abb-3d76-4583-9368-d6a1f7c560cc",
   "metadata": {},
   "outputs": [],
   "source": [
    "dd.keys()"
   ]
  },
  {
   "cell_type": "code",
   "execution_count": null,
   "id": "a9d02f97-2caf-4a0c-91ea-a6d378792ca9",
   "metadata": {},
   "outputs": [],
   "source": []
  },
  {
   "cell_type": "code",
   "execution_count": null,
   "id": "4a647e8a-61f3-4e5b-abb3-44d43d7e0844",
   "metadata": {},
   "outputs": [],
   "source": []
  },
  {
   "cell_type": "code",
   "execution_count": null,
   "id": "6335deef-ea25-40bd-8a68-842af80cebe8",
   "metadata": {},
   "outputs": [],
   "source": [
    "# d = RNNData(dat)"
   ]
  },
  {
   "cell_type": "code",
   "execution_count": null,
   "id": "16bc08ef-211b-4c40-a89e-94eda5b6f55a",
   "metadata": {},
   "outputs": [],
   "source": []
  },
  {
   "cell_type": "code",
   "execution_count": null,
   "id": "538f56db-ad00-46e6-a03c-f875a6b982ae",
   "metadata": {},
   "outputs": [],
   "source": [
    "def batch_setup(x, batch_size):\n",
    "    # Ensure x is a numpy array\n",
    "    x = np.array(x)\n",
    "    \n",
    "    # Initialize the list to hold the batches\n",
    "    batches = []\n",
    "    \n",
    "    # Use a loop to slice the list/array into batches\n",
    "    for i in range(0, len(x), batch_size):\n",
    "        batch = list(x[i:i + batch_size])\n",
    "        \n",
    "        # If the batch is not full, continue from the start\n",
    "        while len(batch) < batch_size:\n",
    "            # Calculate the remaining number of items needed\n",
    "            remaining = batch_size - len(batch)\n",
    "            # Append the needed number of items from the start of the array\n",
    "            batch.extend(x[:remaining])\n",
    "        \n",
    "        batches.append(batch)\n",
    "    \n",
    "    return batches"
   ]
  },
  {
   "cell_type": "code",
   "execution_count": null,
   "id": "bd904508-4334-4736-8b07-d7b875e616e3",
   "metadata": {},
   "outputs": [],
   "source": [
    "params = read_yml(\"params.yaml\", subkey=\"rnn\")\n",
    "params = RNNParams(params)\n",
    "params"
   ]
  },
  {
   "cell_type": "code",
   "execution_count": null,
   "id": "649cce68-23e6-4701-8d2c-6a5bf8739414",
   "metadata": {},
   "outputs": [],
   "source": [
    "params.update({'batch_size': 2})"
   ]
  },
  {
   "cell_type": "code",
   "execution_count": null,
   "id": "98425520-b06b-48d5-9d64-a092e06b5e4c",
   "metadata": {},
   "outputs": [],
   "source": [
    "loc_ids = np.arange(len(dat.keys()))\n",
    "loc_names = list(dat.keys())\n",
    "start_times = [0,1,2]\n",
    "loc_batches, t_batch =  batch_setup(loc_ids, params['batch_size']), batch_setup(start_times, params['batch_size'])"
   ]
  },
  {
   "cell_type": "code",
   "execution_count": null,
   "id": "8dfbf21e-0230-4932-8514-662a199610d5",
   "metadata": {},
   "outputs": [],
   "source": [
    "print(loc_batches)\n",
    "print(t_batch)"
   ]
  },
  {
   "cell_type": "code",
   "execution_count": null,
   "id": "8f5df912-e201-4785-90d1-02ad1d07e191",
   "metadata": {},
   "outputs": [],
   "source": [
    "from moisture_rnn import staircase_2\n",
    "\n",
    "Xs = []\n",
    "ys = []\n",
    "hours = 100 # number of timesteps to use in training data\n",
    "for i in range(0, params[\"batch_size\"]):\n",
    "    locs = loc_batches[i]\n",
    "    ts = t_batch[i]\n",
    "    for j in range(0, len(locs)):\n",
    "        loc = loc_names[locs[j]]\n",
    "        t0 = ts[j]\n",
    "        tend = t0 + hours\n",
    "        # Create RNNData Dict\n",
    "        # dat_temp = RNNData(dat[loc], scaler = params['scaler'], features_list = params['features_list'])\n",
    "        # Subset data to given location and time from t0 to t0+hours\n",
    "        times = dat[loc]['time'] # get time vector from \n",
    "        times = times[t0:tend] # subset \n",
    "        X_temp = dat[loc]['X'][t0:tend,:]\n",
    "        y_temp = dat[loc]['y'][t0:tend].reshape(-1,1)\n",
    "        # Subset Features\n",
    "        indices = []\n",
    "        for item in params['features_list']:\n",
    "            if item in dat[loc]['features_list']:\n",
    "                indices.append(dat[loc]['features_list'].index(item))\n",
    "        X_temp = X_temp[:, indices]\n",
    "        # Format sequences\n",
    "        Xi, yi = staircase_2(\n",
    "            X_temp, \n",
    "            y_temp, \n",
    "            timesteps = params['timesteps'], \n",
    "            batch_size = 1,  # note: using 1 here to format sequences for a single location, not same as target batch size for training data\n",
    "            verbose=False)\n",
    "    \n",
    "        Xs.append(Xi)\n",
    "        ys.append(yi)"
   ]
  },
  {
   "cell_type": "code",
   "execution_count": null,
   "id": "7b3a1b4a-b845-4c4a-bac2-336883b63418",
   "metadata": {},
   "outputs": [],
   "source": [
    "lens = [yi.shape[0] for yi in ys]\n",
    "min_shape = min(lens)\n",
    "Xs = [Xi[:min_shape] for Xi in Xs]\n",
    "ys = [yi[:min_shape] for yi in ys]"
   ]
  },
  {
   "cell_type": "code",
   "execution_count": null,
   "id": "2a1f8865-a343-4e83-808c-e6f79960cfa9",
   "metadata": {},
   "outputs": [],
   "source": [
    "XXs = []\n",
    "yys = []\n",
    "for i in range(0, len(loc_batches)):\n",
    "    locs = loc_batches[i]\n",
    "    XXi = np.empty((Xs[0].shape[0]*params['batch_size'], 5, params['n_features']))\n",
    "    yyi = np.empty((Xs[0].shape[0]*params['batch_size'], 1))\n",
    "    for j in range(0, len(locs)):\n",
    "        XXi[j::(params['batch_size'])] =  Xs[locs[j]]\n",
    "        yyi[j::(params['batch_size'])] =  ys[locs[j]]\n",
    "    XXs.append(XXi)\n",
    "    yys.append(yyi)"
   ]
  },
  {
   "cell_type": "code",
   "execution_count": null,
   "id": "a6e46ac5-8f04-4980-8e42-8b9814d178b5",
   "metadata": {},
   "outputs": [],
   "source": [
    "# TODO: CONFIRM THIS Y\n",
    "yy = np.concatenate(yys, axis=0)\n",
    "XX = np.concatenate(XXs, axis=0)\n",
    "print(XX.shape)\n",
    "print(yy.shape)"
   ]
  },
  {
   "cell_type": "code",
   "execution_count": null,
   "id": "8a8b176b-75e4-4ab0-8015-e75b7105b7c6",
   "metadata": {},
   "outputs": [],
   "source": [
    "from sklearn.preprocessing import MinMaxScaler, StandardScaler\n",
    "scaler = StandardScaler()\n",
    "X = scaler.fit_transform(XX.reshape(-1, XX.shape[-1])).reshape(XX.shape)"
   ]
  },
  {
   "cell_type": "code",
   "execution_count": null,
   "id": "9db74fab-a030-4f3f-803f-cf5caf706da9",
   "metadata": {},
   "outputs": [],
   "source": []
  },
  {
   "cell_type": "code",
   "execution_count": null,
   "id": "0924e6fa-e058-401e-b96d-5559f83d4976",
   "metadata": {},
   "outputs": [],
   "source": []
  },
  {
   "cell_type": "code",
   "execution_count": null,
   "id": "071d9d3b-bf93-4fbe-9851-9c1a4f2155f2",
   "metadata": {},
   "outputs": [],
   "source": [
    "params.update({'epochs': 50, 'verbose_fit': True, 'rnn_layers': 2, 'dense_layers': 2, 'dense_units': 10,\n",
    "              'activation': ['tanh', 'tanh']})\n",
    "reproducibility.set_seed(123)\n",
    "rnn = RNN(params)"
   ]
  },
  {
   "cell_type": "code",
   "execution_count": null,
   "id": "2d6f4a80-d143-446e-9028-56d93b00facc",
   "metadata": {},
   "outputs": [],
   "source": [
    "rnn.model_train.fit(X, yy, batch_size = params['batch_size'], epochs=100)"
   ]
  },
  {
   "cell_type": "code",
   "execution_count": null,
   "id": "d7193c34-e0f4-401d-b230-9b087fb8ae56",
   "metadata": {},
   "outputs": [],
   "source": [
    "rnn.model_train.loss"
   ]
  },
  {
   "cell_type": "code",
   "execution_count": null,
   "id": "7535131a-0eb1-4a53-9124-48552c01722c",
   "metadata": {},
   "outputs": [],
   "source": [
    "np.sqrt(16.75)"
   ]
  },
  {
   "cell_type": "code",
   "execution_count": null,
   "id": "54c917e9-20a6-4b8d-b6ab-04fdb0333467",
   "metadata": {},
   "outputs": [],
   "source": []
  },
  {
   "cell_type": "code",
   "execution_count": null,
   "id": "7c659050-e74e-4f07-b95a-3f7b57653061",
   "metadata": {},
   "outputs": [],
   "source": []
  },
  {
   "cell_type": "code",
   "execution_count": null,
   "id": "e86c9e4d-4ccd-4d9d-92e1-2e4299549fa4",
   "metadata": {},
   "outputs": [],
   "source": []
  },
  {
   "cell_type": "code",
   "execution_count": null,
   "id": "966c3559-740d-44d3-b98d-cc2efe63afcd",
   "metadata": {},
   "outputs": [],
   "source": []
  },
  {
   "cell_type": "code",
   "execution_count": null,
   "id": "52c1df9f-87ab-4882-aca1-e90cca7bd470",
   "metadata": {},
   "outputs": [],
   "source": []
  },
  {
   "cell_type": "code",
   "execution_count": null,
   "id": "1addf015-b2c1-42df-a769-39df81dd5d14",
   "metadata": {},
   "outputs": [],
   "source": []
  },
  {
   "cell_type": "code",
   "execution_count": null,
   "id": "3262a73f-0bd7-4e78-ade0-ca53a7da2b84",
   "metadata": {},
   "outputs": [],
   "source": []
  },
  {
   "cell_type": "code",
   "execution_count": null,
   "id": "eecfd38b-0a1a-4de3-b568-2f53ffbcc78c",
   "metadata": {},
   "outputs": [],
   "source": []
  },
  {
   "cell_type": "code",
   "execution_count": null,
   "id": "c4645246-edce-4544-9809-5ffb0760ae25",
   "metadata": {},
   "outputs": [],
   "source": [
    "import importlib\n",
    "import moisture_rnn_pkl\n",
    "importlib.reload(moisture_rnn_pkl)\n",
    "from moisture_rnn_pkl import pkl2train"
   ]
  },
  {
   "cell_type": "code",
   "execution_count": null,
   "id": "5b662edb-7a79-4532-b0d7-2492b1ad917d",
   "metadata": {},
   "outputs": [],
   "source": [
    "file_names=['test_CA_202401.pkl', 'test_NW_202401.pkl']\n",
    "file_dir='data'\n",
    "file_paths = [osp.join(file_dir,file_name) for file_name in file_names]"
   ]
  },
  {
   "cell_type": "code",
   "execution_count": null,
   "id": "1185c995-e9fa-4586-96c2-44b159ccf477",
   "metadata": {
    "scrolled": true
   },
   "outputs": [],
   "source": [
    "train = pkl2train(file_paths)"
   ]
  },
  {
   "cell_type": "code",
   "execution_count": null,
   "id": "665291be-0f40-46b5-9a63-27a58965f8ca",
   "metadata": {},
   "outputs": [],
   "source": [
    "train.keys()"
   ]
  },
  {
   "cell_type": "code",
   "execution_count": null,
   "id": "6b61a406-eed8-4595-9c3f-4c11e1aed7c8",
   "metadata": {},
   "outputs": [],
   "source": []
  },
  {
   "cell_type": "code",
   "execution_count": null,
   "id": "e234b0f6-3cc9-46d1-926a-d825c58e3991",
   "metadata": {},
   "outputs": [],
   "source": []
  },
  {
   "cell_type": "code",
   "execution_count": null,
   "id": "7fdf595c-68e1-4e93-a5ec-d6e20e2f1bdf",
   "metadata": {},
   "outputs": [],
   "source": []
  },
  {
   "cell_type": "code",
   "execution_count": null,
   "id": "fc3e8264-da29-4261-a560-ef457f42ed70",
   "metadata": {},
   "outputs": [],
   "source": []
  },
  {
   "cell_type": "code",
   "execution_count": null,
   "id": "7deda359-1e7f-447a-97b7-576b98712a74",
   "metadata": {},
   "outputs": [],
   "source": []
  },
  {
   "cell_type": "code",
   "execution_count": null,
   "id": "7fc05c26-9a54-4863-8956-d76913128701",
   "metadata": {},
   "outputs": [],
   "source": []
  },
  {
   "cell_type": "code",
   "execution_count": null,
   "id": "c6d7d34c-dfae-4370-a398-a287790eff53",
   "metadata": {},
   "outputs": [],
   "source": []
  },
  {
   "cell_type": "markdown",
   "id": "d2360aef-e9c4-4a71-922d-336e53b82537",
   "metadata": {},
   "source": [
    "## LSTM\n",
    "\n",
    "TODO: FIX BELOW"
   ]
  },
  {
   "cell_type": "code",
   "execution_count": null,
   "id": "71d4e441-9bf1-4d57-bb37-091553e23212",
   "metadata": {},
   "outputs": [],
   "source": [
    "import importlib \n",
    "import moisture_rnn\n",
    "importlib.reload(moisture_rnn)\n",
    "from moisture_rnn import RNN_LSTM"
   ]
  },
  {
   "cell_type": "code",
   "execution_count": null,
   "id": "59480f19-3567-4b24-b6ff-d9292dc8c2ec",
   "metadata": {},
   "outputs": [],
   "source": [
    "with open(\"params.yaml\") as file:\n",
    "    params = yaml.safe_load(file)[\"lstm\"]\n",
    "    \n",
    "rnn_dat2 = create_rnn_data2(train[case],params)"
   ]
  },
  {
   "cell_type": "code",
   "execution_count": null,
   "id": "2adff592-7aa4-4e59-a229-cad4a133297e",
   "metadata": {},
   "outputs": [],
   "source": [
    "params.update({'epochs': 10})"
   ]
  },
  {
   "cell_type": "code",
   "execution_count": null,
   "id": "b20539f0-eed2-44de-9269-ae8696c8e7c8",
   "metadata": {},
   "outputs": [],
   "source": []
  },
  {
   "cell_type": "code",
   "execution_count": null,
   "id": "6bfbcbb5-b631-4594-9ae5-618c4fe68e7b",
   "metadata": {},
   "outputs": [],
   "source": [
    "reproducibility.set_seed()\n",
    "rnn = RNN(params)\n",
    "m, errs = rnn.run_model(rnn_dat2)"
   ]
  },
  {
   "cell_type": "code",
   "execution_count": null,
   "id": "dd8a9700-f479-4c11-8655-ca7b45222402",
   "metadata": {},
   "outputs": [],
   "source": []
  },
  {
   "cell_type": "code",
   "execution_count": null,
   "id": "de46c481-74a7-46cc-8334-678ad8230cce",
   "metadata": {},
   "outputs": [],
   "source": [
    "import importlib\n",
    "importlib.reload(moisture_rnn)\n",
    "from moisture_rnn import RNN_LSTM"
   ]
  },
  {
   "cell_type": "code",
   "execution_count": null,
   "id": "2b6a699a-68e8-49ef-95f2-409137502fb6",
   "metadata": {},
   "outputs": [],
   "source": [
    "with open(\"params.yaml\") as file:\n",
    "    params = yaml.safe_load(file)[\"lstm\"]\n",
    "\n",
    "rnn_dat2 = create_rnn_data2(train[case],params)\n",
    "params"
   ]
  },
  {
   "cell_type": "code",
   "execution_count": null,
   "id": "188c0d5d-f3f6-4a61-83b0-b21dfc5d01b7",
   "metadata": {},
   "outputs": [],
   "source": [
    "params.update({\n",
    "    'learning_rate': 0.000001,\n",
    "    'epochs': 10,\n",
    "    'clipvalue':1.0\n",
    "})"
   ]
  },
  {
   "cell_type": "code",
   "execution_count": null,
   "id": "6a9d612e-8cd2-40ca-a789-91c99c3d6ccd",
   "metadata": {},
   "outputs": [],
   "source": [
    "reproducibility.set_seed()\n",
    "lstm = RNN_LSTM(params)\n",
    "m, errs = lstm.run_model(rnn_dat2)"
   ]
  },
  {
   "cell_type": "code",
   "execution_count": null,
   "id": "ec95e7d4-6d57-441b-b673-f10625ee5dec",
   "metadata": {},
   "outputs": [],
   "source": []
  },
  {
   "cell_type": "code",
   "execution_count": null,
   "id": "9b3c8d8d-ea50-44ea-8c0c-414e07cd01ac",
   "metadata": {},
   "outputs": [],
   "source": []
  },
  {
   "cell_type": "code",
   "execution_count": null,
   "id": "03063e3c-e8f4-451d-b0cf-25bd965cd9d6",
   "metadata": {},
   "outputs": [],
   "source": []
  },
  {
   "cell_type": "code",
   "execution_count": null,
   "id": "f60a24c6-9a67-45aa-bc5c-8818aa0ca049",
   "metadata": {},
   "outputs": [],
   "source": []
  }
 ],
 "metadata": {
  "kernelspec": {
   "display_name": "Python 3 (ipykernel)",
   "language": "python",
   "name": "python3"
  },
  "language_info": {
   "codemirror_mode": {
    "name": "ipython",
    "version": 3
   },
   "file_extension": ".py",
   "mimetype": "text/x-python",
   "name": "python",
   "nbconvert_exporter": "python",
   "pygments_lexer": "ipython3",
   "version": "3.12.5"
  }
 },
 "nbformat": 4,
 "nbformat_minor": 5
}
