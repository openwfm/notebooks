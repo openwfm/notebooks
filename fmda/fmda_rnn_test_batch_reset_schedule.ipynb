{
 "cells": [
  {
   "cell_type": "markdown",
   "id": "83b774b3-ef55-480a-b999-506676e49145",
   "metadata": {},
   "source": [
    "# Compare Batch Resetting Schedules\n"
   ]
  },
  {
   "cell_type": "code",
   "execution_count": null,
   "id": "83cc1dc4-3dcb-4325-9263-58101a3dc378",
   "metadata": {},
   "outputs": [],
   "source": [
    "import numpy as np\n",
    "from utils import print_dict_summary, print_first, str2time, logging_setup\n",
    "import pickle\n",
    "import logging\n",
    "import os.path as osp\n",
    "from moisture_rnn_pkl import pkl2train\n",
    "from moisture_rnn import RNNParams, RNNData, RNN \n",
    "from utils import hash2, read_yml, read_pkl, retrieve_url\n",
    "from moisture_rnn import RNN\n",
    "import reproducibility\n",
    "from data_funcs import rmse, to_json, combine_nested, process_train_dict\n",
    "from moisture_models import run_augmented_kf\n",
    "import copy\n",
    "import pandas as pd\n",
    "import matplotlib.pyplot as plt\n",
    "import yaml\n",
    "import time\n",
    "import reproducibility\n",
    "import tensorflow as tf"
   ]
  },
  {
   "cell_type": "code",
   "execution_count": null,
   "id": "17db9b90-a931-4674-a447-5b8ffbcdc86a",
   "metadata": {},
   "outputs": [],
   "source": [
    "logging_setup()"
   ]
  },
  {
   "cell_type": "code",
   "execution_count": null,
   "id": "35319c1c-7849-4b8c-8262-f5aa6656e0c7",
   "metadata": {},
   "outputs": [],
   "source": [
    "retrieve_url(\n",
    "    url = \"https://demo.openwfm.org/web/data/fmda/dicts/test_CA_202401.pkl\", \n",
    "    dest_path = \"fmda_nw_202401-05_f05.pkl\")"
   ]
  },
  {
   "cell_type": "code",
   "execution_count": null,
   "id": "eabdbd9c-07d9-4bae-9851-cca79f321895",
   "metadata": {},
   "outputs": [],
   "source": [
    "repro_file = \"data/reproducibility_dict_v2_TEST.pkl\"\n",
    "file_names=['fmda_nw_202401-05_f05.pkl']\n",
    "file_dir='data'\n",
    "file_paths = [osp.join(file_dir,file_name) for file_name in file_names]"
   ]
  },
  {
   "cell_type": "code",
   "execution_count": null,
   "id": "211a1c2f-ba8d-40b8-b29c-daa38af97a26",
   "metadata": {},
   "outputs": [],
   "source": [
    "params_all = read_yml(\"params.yaml\")\n",
    "params_data = read_yml(\"params_data.yaml\")"
   ]
  },
  {
   "cell_type": "code",
   "execution_count": null,
   "id": "5f3d09b4-c2fd-4556-90b7-e547431ca523",
   "metadata": {
    "scrolled": true
   },
   "outputs": [],
   "source": [
    "data_params = read_yml(\"params_data.yaml\")\n",
    "data_params.update({\n",
    "    'hours': 3000,\n",
    "    'max_intp_time': 24,\n",
    "    'zero_lag_threshold': 24\n",
    "})\n",
    "train = process_train_dict([\"data/fmda_nw_202401-05_f05.pkl\"], params_data=params_data, verbose=True)"
   ]
  },
  {
   "cell_type": "code",
   "execution_count": null,
   "id": "4b0c9a9b-dd02-4251-aa4a-2acc1101e153",
   "metadata": {},
   "outputs": [],
   "source": [
    "from itertools import islice\n",
    "train = {k: train[k] for k in islice(train, 250)}"
   ]
  },
  {
   "cell_type": "code",
   "execution_count": null,
   "id": "22c87832-5cd5-4ed4-b755-25b4a192ddcb",
   "metadata": {},
   "outputs": [],
   "source": [
    "print(f\"Number of Training Cases: {len(train_cases)}\")"
   ]
  },
  {
   "cell_type": "code",
   "execution_count": null,
   "id": "35ae0bdb-a209-429f-8116-c5e1dccafb89",
   "metadata": {},
   "outputs": [],
   "source": [
    "## params = RNNParams(read_yml(\"params.yaml\", subkey=\"rnn\"))\n",
    "params.update({'epochs': 200, \n",
    "               'learning_rate': 0.001,\n",
    "               'activation': ['tanh', 'tanh'], # Activation for RNN Layers, Dense layers respectively.\n",
    "               'recurrent_layers': 1, 'recurrent_units': 30, \n",
    "               'dense_layers': 1, 'dense_units': 30,\n",
    "               'early_stopping_patience': 30, # how many epochs of no validation accuracy gain to wait before stopping\n",
    "               'batch_schedule_type': 'exp', # Hidden state batch reset schedule\n",
    "               'bmin': 20, # Lower bound of hidden state batch reset, \n",
    "               'bmax': params_data['hours'], # Upper bound of hidden state batch reset, using max hours\n",
    "               'features_list': ['Ed', 'Ew', 'rain', 'elev', 'lon', 'lat', 'solar', 'wind'],\n",
    "               'timesteps': 24\n",
    "              })"
   ]
  },
  {
   "cell_type": "markdown",
   "id": "d6751dcc-ba4c-47d5-90d2-60f4a61e96fa",
   "metadata": {},
   "source": [
    "## Handle Data"
   ]
  },
  {
   "cell_type": "code",
   "execution_count": null,
   "id": "cc23e05f-282d-424b-9a50-6e32d9ae4095",
   "metadata": {},
   "outputs": [],
   "source": [
    "train_sp = combine_nested(train)\n",
    "rnn_dat = RNNData(\n",
    "    train_sp, # input dictionary\n",
    "    scaler=\"standard\",  # data scaling type\n",
    "    features_list = params['features_list'] # features for predicting outcome\n",
    ")\n",
    "\n",
    "\n",
    "rnn_dat.train_test_split(   \n",
    "    time_fracs = [.9, .05, .05], # Percent of total time steps used for train/val/test\n",
    "    space_fracs = [.40, .30, .30] # Percent of total timeseries used for train/val/test\n",
    ")\n",
    "rnn_dat.scale_data()\n",
    "\n",
    "rnn_dat.batch_reshape(\n",
    "    timesteps = params['timesteps'], # Timesteps aka sequence length for RNN input data. \n",
    "    batch_size = params['batch_size'], # Number of samples of length timesteps for a single round of grad. descent\n",
    "    start_times = np.zeros(len(rnn_dat.loc['train_locs']))\n",
    ")\n",
    "\n",
    "params.update({\n",
    "    'loc_batch_reset': rnn_dat.n_seqs # Used to reset hidden state when location changes for a given batch\n",
    "})"
   ]
  },
  {
   "cell_type": "markdown",
   "id": "703dca05-5371-409e-b0a6-c430594bb76f",
   "metadata": {},
   "source": [
    "## Non-Stateful"
   ]
  },
  {
   "cell_type": "code",
   "execution_count": null,
   "id": "4eaaf547-1967-4325-be61-b5e8ed33141f",
   "metadata": {},
   "outputs": [],
   "source": [
    "params.update({\n",
    "    'stateful': False,\n",
    "    'batch_schedule_type': None\n",
    "})"
   ]
  },
  {
   "cell_type": "code",
   "execution_count": null,
   "id": "bfebe87d-1bbb-48c5-9b32-836d19d16787",
   "metadata": {},
   "outputs": [],
   "source": [
    "reproducibility.set_seed(123)\n",
    "rnn = RNN(params)\n",
    "m0, errs0, epochs0 = rnn.run_model(rnn_dat, return_epochs=True)"
   ]
  },
  {
   "cell_type": "code",
   "execution_count": null,
   "id": "25581ed5-7fff-402f-b902-ed32bbcf1c0c",
   "metadata": {},
   "outputs": [],
   "source": [
    "errs0.mean()"
   ]
  },
  {
   "cell_type": "markdown",
   "id": "80026da4-e8ec-4803-b791-66110c4b10d9",
   "metadata": {},
   "source": [
    "## Constant Batch Schedule (Stateful)"
   ]
  },
  {
   "cell_type": "code",
   "execution_count": null,
   "id": "e7335f3d-3d8a-4733-9105-faed311a7df3",
   "metadata": {},
   "outputs": [],
   "source": [
    "params.update({\n",
    "    'stateful': True, \n",
    "    'batch_schedule_type':'constant', \n",
    "    'bmin': 20})"
   ]
  },
  {
   "cell_type": "code",
   "execution_count": null,
   "id": "e1febc02-35af-4325-ad02-4f6a2ce065fd",
   "metadata": {},
   "outputs": [],
   "source": [
    "reproducibility.set_seed(123)\n",
    "rnn = RNN(params)\n",
    "m2, errs2, epochs2 = rnn.run_model(rnn_dat, return_epochs=True)"
   ]
  },
  {
   "cell_type": "markdown",
   "id": "7082eeb3-5173-4226-85db-4bb5a26f67a4",
   "metadata": {},
   "source": [
    "## Exp Batch Schedule (Stateful)"
   ]
  },
  {
   "cell_type": "code",
   "execution_count": null,
   "id": "2a428391-400d-476b-990e-c5e1d9cba7f8",
   "metadata": {},
   "outputs": [],
   "source": [
    "params.update({\n",
    "    'stateful': True, \n",
    "    'batch_schedule_type':'exp', \n",
    "    'bmin': 20,\n",
    "    'bmax': rnn_dat.hours\n",
    "})"
   ]
  },
  {
   "cell_type": "code",
   "execution_count": null,
   "id": "9f77ee03-01f8-415f-9748-b986a77f2982",
   "metadata": {},
   "outputs": [],
   "source": [
    "reproducibility.set_seed(123)\n",
    "rnn = RNN(params)\n",
    "m3, errs3, epochs3 = rnn.run_model(rnn_dat, return_epochs=True)"
   ]
  },
  {
   "cell_type": "code",
   "execution_count": null,
   "id": "d2b1eaf5-b710-431a-a10e-0098f713c325",
   "metadata": {},
   "outputs": [],
   "source": [
    "errs3.mean()"
   ]
  }
 ],
 "metadata": {
  "kernelspec": {
   "display_name": "Python 3 (ipykernel)",
   "language": "python",
   "name": "python3"
  },
  "language_info": {
   "codemirror_mode": {
    "name": "ipython",
    "version": 3
   },
   "file_extension": ".py",
   "mimetype": "text/x-python",
   "name": "python",
   "nbconvert_exporter": "python",
   "pygments_lexer": "ipython3",
   "version": "3.12.5"
  }
 },
 "nbformat": 4,
 "nbformat_minor": 5
}
