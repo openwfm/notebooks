{
 "cells": [
  {
   "cell_type": "markdown",
   "id": "0f51f7f4",
   "metadata": {},
   "source": [
    "## Testing staircase"
   ]
  },
  {
   "cell_type": "code",
   "execution_count": null,
   "id": "04a797f1",
   "metadata": {},
   "outputs": [],
   "source": [
    "from moisture_rnn import staircase, staircase_2\n",
    "import numpy as np\n",
    "from data_funcs import plot_data"
   ]
  },
  {
   "cell_type": "code",
   "execution_count": null,
   "id": "70b801e3",
   "metadata": {},
   "outputs": [],
   "source": [
    "# training data shape   [batch_size, sequence_length, features] \n",
    "# also called           [samples,timesteps,features]\n",
    "# input data size       [trainsteps,features] "
   ]
  },
  {
   "cell_type": "code",
   "execution_count": null,
   "id": "b9218f9e",
   "metadata": {},
   "outputs": [],
   "source": [
    "trainsteps=100\n",
    "timesteps=5\n",
    "features=1\n",
    "outputs=1\n",
    "x=np.tile(range(trainsteps), (features, 1)).T\n",
    "y=np.tile(range(trainsteps), (outputs, 1)).T\n",
    "# print('x =',x)\n",
    "print('x shape =',x.shape)\n",
    "# print('y =',y)\n",
    "print('y shape =',y.shape)"
   ]
  },
  {
   "cell_type": "code",
   "execution_count": null,
   "id": "c5874621",
   "metadata": {},
   "outputs": [],
   "source": [
    "x_train, y_train = staircase(x,y,timesteps,trainsteps,return_sequences=False, verbose = True)\n",
    "print('x_train shape =',x_train.shape)\n",
    "print('y_train shape =',y_train.shape)\n",
    "print('x_train =',x_train)\n",
    "print('y_train =',y_train)\n"
   ]
  },
  {
   "cell_type": "code",
   "execution_count": null,
   "id": "fc82b98c",
   "metadata": {},
   "outputs": [],
   "source": [
    "x_train, y_train = staircase_2(x,y,timesteps,return_sequences=False, verbose = True)\n",
    "print('x_train shape =',x_train.shape)\n",
    "print('y_train shape =',y_train.shape)\n",
    "#print('x_train =',x_train)\n",
    "#print('y_train =',y_train)\n",
    "for i in range(x_train.shape[0]):\n",
    "    print('x_train[',i,']:')\n",
    "    print(x_train[i])"
   ]
  },
  {
   "cell_type": "markdown",
   "id": "230abb62",
   "metadata": {},
   "source": [
    "## Testing RNN training on sin cos problem"
   ]
  },
  {
   "cell_type": "code",
   "execution_count": null,
   "id": "1e44181b",
   "metadata": {},
   "outputs": [],
   "source": [
    "import numpy as np\n",
    "from keras.models import Sequential\n",
    "from keras.layers import LSTM, Dense, SimpleRNN\n",
    "from data_funcs import plot_data\n",
    "\n",
    "# Generate sample time series data (replace with your actual data)\n",
    "hours = 500\n",
    "x = 10*(1+np.cos(np.linspace(0, hours, hours)*2*np.pi/24))  # Ensure divisible by batch size and lookback\n",
    "x = x + 2.0*np.random.randn(*x.shape)\n",
    "y = np.zeros((hours))\n",
    "for i in range(1,hours):\n",
    "    y[i] = y[i-1] + (x[i-1] - y[i-1])/10.\n",
    "x=np.reshape(x,[-1,1])\n",
    "y=np.reshape(y,[-1,1])\n",
    "print('x.shape',x.shape)\n",
    "print('y.shape',y.shape)"
   ]
  },
  {
   "cell_type": "code",
   "execution_count": null,
   "id": "cc470846",
   "metadata": {},
   "outputs": [],
   "source": [
    "plot_data({'x':x,'y':y},xlabel='',ylabel='')"
   ]
  },
  {
   "cell_type": "code",
   "execution_count": null,
   "id": "c12e812e",
   "metadata": {},
   "outputs": [],
   "source": [
    "# Create training data with lookback, offset by one, all one batch\n",
    "x_train, y_train = [], []\n",
    "timesteps = 20\n",
    "for i in range(len(x) - timesteps):\n",
    "    x_train.append(x[i:i+timesteps])  # Create sequences of 5 timesteps\n",
    "    y_train.append(y[i+timesteps])\n",
    "x_train, y_train = np.array(x_train), np.array(y_train)\n",
    "\n",
    "# Reshape input data for RNN\n",
    "x_train = x_train.reshape(-1, timesteps, 1)  # Print x_train.shape to verify\n",
    "print(x_train)\n",
    "print('x_train.shape',x_train.shape)\n",
    "print('y_train.shape',y_train.shape)"
   ]
  },
  {
   "cell_type": "code",
   "execution_count": null,
   "id": "ea2f5b32",
   "metadata": {},
   "outputs": [],
   "source": [
    "x_train, y_train = staircase_2(x,y,timesteps,return_sequences=False, verbose = True)"
   ]
  },
  {
   "cell_type": "code",
   "execution_count": null,
   "id": "35076792",
   "metadata": {},
   "outputs": [],
   "source": [
    "# Define the stateful RNN model\n",
    "RNN=SimpleRNN\n",
    "#RNN=LSTM\n",
    "#RNN=GRU\n",
    "batch_size=timesteps  # each time series its own batch\n",
    "epochs=200\n",
    "\n",
    "model = Sequential()\n",
    "model.add(RNN(32, stateful=True, batch_input_shape=(batch_size, timesteps, 1)))  # Adjust batch size if needed\n",
    "model.add(Dense(1))  # Output layer for single-value prediction\n",
    "model.compile(loss='mean_squared_error', optimizer='adam')\n",
    "\n",
    "# Train the model (manual state resetting)'print('x_train.shape',x_train.shape)\n",
    "print('x_train.shape',x_train.shape)\n",
    "print('y_train.shape',y_train.shape)\n",
    "if len(x_train.shape) < 4:\n",
    "    for i in range(epochs):\n",
    "        model.fit(x_train, y_train, epochs=1, batch_size=batch_size, verbose=1, shuffle=False)\n",
    "        model.reset_states()\n",
    "else:\n",
    "    batches = x_train.shape[0]  \n",
    "    print('x_train has',batches,'batches')\n",
    "    for i in range(epochs):\n",
    "        for j in range(batches):\n",
    "            print('iteration',i,'batch',j,'size',batch_size)\n",
    "            model.fit(x_train[j], y_train[j], epochs=1, batch_size=batch_size, verbose=1, shuffle=False)\n",
    "        model.reset_states()  # at the end of each iteration = epoch\n",
    "# print('weights',model.get_weights())\n",
    "\n",
    "# Define the stateless RNN model - to be used on data in a single sequence\n",
    "model2 = Sequential()\n",
    "model2.add(RNN(32, stateful=False,input_shape=(None,1))) \n",
    "model2.add(Dense(1))  # Output layer for single-value prediction\n",
    "model2.compile(loss='mean_squared_error', optimizer='adam')\n",
    "\n",
    "# transfer weights, predict, plot\n",
    "w=model.get_weights()\n",
    "model2.set_weights(w)\n",
    "z = model2.predict(x.reshape((-1,1))) # inout and output need to be shape (-1,1), ie columns\n",
    "plot_data({'x':x,'y':y,'z':z},xlabel='',ylabel='')"
   ]
  },
  {
   "cell_type": "code",
   "execution_count": null,
   "id": "5450bfb1",
   "metadata": {},
   "outputs": [],
   "source": [
    "plot_data({'x':x,'y':y,'z':z},xlabel='',ylabel='')"
   ]
  },
  {
   "cell_type": "code",
   "execution_count": null,
   "id": "0c8ad215",
   "metadata": {},
   "outputs": [],
   "source": []
  },
  {
   "cell_type": "code",
   "execution_count": null,
   "id": "7bcb0075",
   "metadata": {},
   "outputs": [],
   "source": []
  },
  {
   "cell_type": "code",
   "execution_count": null,
   "id": "c22ab512",
   "metadata": {},
   "outputs": [],
   "source": []
  },
  {
   "cell_type": "code",
   "execution_count": null,
   "id": "dd53a91d",
   "metadata": {},
   "outputs": [],
   "source": []
  }
 ],
 "metadata": {
  "kernelspec": {
   "display_name": "Python 3 (ipykernel)",
   "language": "python",
   "name": "python3"
  },
  "language_info": {
   "codemirror_mode": {
    "name": "ipython",
    "version": 3
   },
   "file_extension": ".py",
   "mimetype": "text/x-python",
   "name": "python",
   "nbconvert_exporter": "python",
   "pygments_lexer": "ipython3",
   "version": "3.10.9"
  }
 },
 "nbformat": 4,
 "nbformat_minor": 5
}
