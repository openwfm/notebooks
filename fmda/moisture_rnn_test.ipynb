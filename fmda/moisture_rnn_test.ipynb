{
 "cells": [
  {
   "cell_type": "code",
   "execution_count": null,
   "id": "04a797f1",
   "metadata": {},
   "outputs": [],
   "source": [
    "from moisture_rnn import staircase, staircase_2\n",
    "import numpy as np"
   ]
  },
  {
   "cell_type": "code",
   "execution_count": null,
   "id": "70b801e3",
   "metadata": {},
   "outputs": [],
   "source": [
    "# training data shape   [batch_size, sequence_length, features] \n",
    "# also called           [samples,timesteps,features]\n",
    "# input data size       [trainsteps,features] "
   ]
  },
  {
   "cell_type": "code",
   "execution_count": null,
   "id": "b9218f9e",
   "metadata": {},
   "outputs": [],
   "source": [
    "trainsteps=100\n",
    "timesteps=5\n",
    "features=1\n",
    "outputs=1\n",
    "x=np.tile(range(trainsteps), (features, 1)).T\n",
    "y=np.tile(range(trainsteps), (outputs, 1)).T\n",
    "# print('x =',x)\n",
    "print('x shape =',x.shape)\n",
    "# print('y =',y)\n",
    "print('y shape =',y.shape)\n"
   ]
  },
  {
   "cell_type": "code",
   "execution_count": null,
   "id": "c5874621",
   "metadata": {},
   "outputs": [],
   "source": [
    "x_train, y_train = staircase(x,y,timesteps,trainsteps,return_sequences=False, verbose = True)\n",
    "print('x_train shape =',x_train.shape)\n",
    "print('y_train shape =',y_train.shape)\n",
    "print('x_train =',x_train)\n",
    "print('y_train =',y_train)\n"
   ]
  },
  {
   "cell_type": "code",
   "execution_count": null,
   "id": "fc82b98c",
   "metadata": {},
   "outputs": [],
   "source": [
    "x_train, y_train = staircase_2(x,y,timesteps,return_sequences=False, verbose = True)\n",
    "print('x_train shape =',x_train.shape)\n",
    "print('y_train shape =',y_train.shape)\n",
    "#print('x_train =',x_train)\n",
    "#print('y_train =',y_train)\n",
    "for i in range(x_train.shape[0]):\n",
    "    print('x_train[',i,']:')\n",
    "    print(x_train[i])"
   ]
  },
  {
   "cell_type": "code",
   "execution_count": null,
   "id": "c7283f0f",
   "metadata": {},
   "outputs": [],
   "source": []
  },
  {
   "cell_type": "code",
   "execution_count": null,
   "id": "1e44181b",
   "metadata": {},
   "outputs": [],
   "source": []
  },
  {
   "cell_type": "code",
   "execution_count": null,
   "id": "c12e812e",
   "metadata": {},
   "outputs": [],
   "source": []
  }
 ],
 "metadata": {
  "kernelspec": {
   "display_name": "Python 3 (ipykernel)",
   "language": "python",
   "name": "python3"
  },
  "language_info": {
   "codemirror_mode": {
    "name": "ipython",
    "version": 3
   },
   "file_extension": ".py",
   "mimetype": "text/x-python",
   "name": "python",
   "nbconvert_exporter": "python",
   "pygments_lexer": "ipython3",
   "version": "3.10.9"
  }
 },
 "nbformat": 4,
 "nbformat_minor": 5
}
