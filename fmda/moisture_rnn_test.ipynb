{
 "cells": [
  {
   "cell_type": "code",
   "execution_count": null,
   "id": "04a797f1",
   "metadata": {},
   "outputs": [],
   "source": [
    "from moisture_rnn import staircase\n",
    "import numpy as np"
   ]
  },
  {
   "cell_type": "code",
   "execution_count": null,
   "id": "b9218f9e",
   "metadata": {},
   "outputs": [],
   "source": [
    "trainsteps=15\n",
    "n=2*trainsteps\n",
    "timesteps=5\n",
    "x=np.transpose(np.array([list(range(1, n + 1)), list(range(n + 1, 2 * n + 1))]))\n",
    "y=np.array([range(n)])+100\n",
    "print('x',x,x.shape)\n",
    "print('y',y,y.shape)"
   ]
  },
  {
   "cell_type": "code",
   "execution_count": null,
   "id": "c5874621",
   "metadata": {},
   "outputs": [],
   "source": [
    "x_train, y_train = staircase(x,y,timesteps,trainsteps,return_sequences=False, verbose = True)\n",
    "print(x_train,y_train)"
   ]
  },
  {
   "cell_type": "code",
   "execution_count": null,
   "id": "c7283f0f",
   "metadata": {},
   "outputs": [],
   "source": []
  }
 ],
 "metadata": {
  "kernelspec": {
   "display_name": "Python 3 (ipykernel)",
   "language": "python",
   "name": "python3"
  },
  "language_info": {
   "codemirror_mode": {
    "name": "ipython",
    "version": 3
   },
   "file_extension": ".py",
   "mimetype": "text/x-python",
   "name": "python",
   "nbconvert_exporter": "python",
   "pygments_lexer": "ipython3",
   "version": "3.10.9"
  }
 },
 "nbformat": 4,
 "nbformat_minor": 5
}
