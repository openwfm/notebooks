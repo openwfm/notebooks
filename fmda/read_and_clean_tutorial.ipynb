{
 "cells": [
  {
   "cell_type": "code",
   "execution_count": null,
   "id": "9ddd1d89-abdb-4627-a0ca-23db006b62f4",
   "metadata": {},
   "outputs": [],
   "source": [
    "import yaml\n",
    "import pickle\n",
    "import os.path as osp\n",
    "import subprocess\n",
    "from urllib.parse import urlparse\n",
    "import numpy as np\n",
    "import matplotlib.pyplot as plt"
   ]
  },
  {
   "cell_type": "code",
   "execution_count": null,
   "id": "3c141ad1-b997-485f-a4a7-d0c1ee79eb09",
   "metadata": {},
   "outputs": [],
   "source": []
  },
  {
   "cell_type": "code",
   "execution_count": null,
   "id": "8ef14e43-030f-422e-a3a6-e9802a3df3ac",
   "metadata": {},
   "outputs": [],
   "source": [
    "def retrieve_url(url, dest_path, force_download=False):\n",
    "    if not osp.exists(dest_path) or force_download:\n",
    "        target_extension = osp.splitext(dest_path)[1]\n",
    "        url_extension = osp.splitext(urlparse(url).path)[1]\n",
    "        if target_extension != url_extension:\n",
    "            print(\"Warning: file extension from url does not match destination file extension\")\n",
    "        subprocess.call(f\"wget -O {dest_path}  {url}\", shell=True)\n",
    "        assert osp.exists(dest_path)\n",
    "        print(f\"Successfully downloaded {url} to {dest_path}\")\n",
    "    else:\n",
    "        print(f\"Target data already exists at {dest_path}\")"
   ]
  },
  {
   "cell_type": "code",
   "execution_count": null,
   "id": "41b0d403-7d6b-44f4-963f-8dc492ae0126",
   "metadata": {},
   "outputs": [],
   "source": [
    "retrieve_url(\"https://demo.openwfm.org/web/data/fmda/dicts/fmda_nw_202401-05_f05.pkl\", \"data/fmda_nw_202401-05_f05.pkl\")"
   ]
  },
  {
   "cell_type": "code",
   "execution_count": null,
   "id": "5a2972e2-e360-43b8-9706-01aee586096c",
   "metadata": {},
   "outputs": [],
   "source": [
    "def read_pkl(file_path):\n",
    "    with open(file_path, 'rb') as file:\n",
    "        print(f\"loading file {file_path}\")\n",
    "        d = pickle.load(file)\n",
    "    return d"
   ]
  },
  {
   "cell_type": "code",
   "execution_count": null,
   "id": "6b5c3c82-84ba-426c-b8d9-f540b5026158",
   "metadata": {},
   "outputs": [],
   "source": [
    "dat = read_pkl(\"data/test_CA_202401.pkl\")"
   ]
  },
  {
   "cell_type": "code",
   "execution_count": null,
   "id": "5b2aeecb-89e6-41d0-af88-59a07b929edc",
   "metadata": {},
   "outputs": [],
   "source": [
    "dat['NV040_202401']['RAWS']['fm']"
   ]
  },
  {
   "cell_type": "code",
   "execution_count": null,
   "id": "f8d96900-a05c-44d5-8f20-3b4686569808",
   "metadata": {},
   "outputs": [],
   "source": [
    "dat['NV040_202401']['RAWS'].keys()"
   ]
  },
  {
   "cell_type": "code",
   "execution_count": null,
   "id": "4388c429-4848-4371-a255-f613480e704b",
   "metadata": {},
   "outputs": [],
   "source": [
    "dat['NV040_202401']['RAWS']['time_raws'][1]"
   ]
  },
  {
   "cell_type": "code",
   "execution_count": null,
   "id": "f0939899-6dce-4e2e-9e06-8a011fd662d7",
   "metadata": {},
   "outputs": [],
   "source": [
    "from utils import filter_nan_values, time_intp, str2time"
   ]
  },
  {
   "cell_type": "code",
   "execution_count": null,
   "id": "55ce3b0e-7135-43ff-86ab-379c50b349db",
   "metadata": {},
   "outputs": [],
   "source": [
    "time_raws = str2time(dat['NV040_202401']['RAWS']['time_raws'])\n",
    "time_hrrr = str2time(dat['NV040_202401']['HRRR']['time'])\n",
    "fm = dat['NV040_202401']['RAWS']['fm']"
   ]
  },
  {
   "cell_type": "code",
   "execution_count": null,
   "id": "cc4fd0b0-286b-4cd9-88c4-59e996348235",
   "metadata": {},
   "outputs": [],
   "source": [
    "len(time_raws) == len(fm)"
   ]
  },
  {
   "cell_type": "code",
   "execution_count": null,
   "id": "23f30b6e-82af-447c-9e67-c60416644558",
   "metadata": {},
   "outputs": [],
   "source": [
    "plt.plot(time_raws, fm)"
   ]
  },
  {
   "cell_type": "code",
   "execution_count": null,
   "id": "fa6a68e3-55c8-42e6-928a-35d388338e3b",
   "metadata": {},
   "outputs": [],
   "source": []
  },
  {
   "cell_type": "code",
   "execution_count": null,
   "id": "81dd1ceb-cc5b-42c0-9eab-c540a3dbc061",
   "metadata": {},
   "outputs": [],
   "source": []
  },
  {
   "cell_type": "code",
   "execution_count": null,
   "id": "faf8782f-f051-4e67-b2d2-5cc6fcc32a34",
   "metadata": {},
   "outputs": [],
   "source": [
    "time_hrrr[0]"
   ]
  },
  {
   "cell_type": "code",
   "execution_count": null,
   "id": "06c024d0-dfcb-4046-8fbc-ce2d57429c4d",
   "metadata": {},
   "outputs": [],
   "source": [
    "time_hrrr[-1]"
   ]
  },
  {
   "cell_type": "code",
   "execution_count": null,
   "id": "0d2b52ae-d3b8-4010-a2fc-97b5d6c92198",
   "metadata": {},
   "outputs": [],
   "source": [
    "time_raws[0]"
   ]
  },
  {
   "cell_type": "code",
   "execution_count": null,
   "id": "c16370e5-7efb-49f6-8a53-622d38117f2b",
   "metadata": {},
   "outputs": [],
   "source": [
    "time_raws[1]"
   ]
  },
  {
   "cell_type": "code",
   "execution_count": null,
   "id": "cfea1cdc-e90f-49ad-8e6c-badd54fcc1c2",
   "metadata": {},
   "outputs": [],
   "source": [
    "xx = time_intp(time_raws,fm,time_hrrr)"
   ]
  },
  {
   "cell_type": "code",
   "execution_count": null,
   "id": "86aea8a6-b24f-4cf4-8038-42bfd31acb10",
   "metadata": {},
   "outputs": [],
   "source": [
    "len(xx)"
   ]
  },
  {
   "cell_type": "code",
   "execution_count": null,
   "id": "14b7fa90-22cd-49e8-a338-bbb3860c57b8",
   "metadata": {},
   "outputs": [],
   "source": [
    "yy, zz = filter_nan_values(time_raws,fm)"
   ]
  },
  {
   "cell_type": "code",
   "execution_count": null,
   "id": "70a980f4-93d2-4176-aa1d-3effe08ee82c",
   "metadata": {},
   "outputs": [],
   "source": [
    "len(yy)"
   ]
  },
  {
   "cell_type": "code",
   "execution_count": null,
   "id": "721af8db-00f7-459b-8007-0f224c1b8eca",
   "metadata": {},
   "outputs": [],
   "source": [
    "len(zz)"
   ]
  },
  {
   "cell_type": "code",
   "execution_count": null,
   "id": "1bb49e78-c0a0-4d6d-b0a6-5911df029431",
   "metadata": {},
   "outputs": [],
   "source": [
    "t1_stamps = np.array([t.timestamp() for t in yy])\n",
    "t2_stamps = np.array([t.timestamp() for t in time_hrrr])"
   ]
  },
  {
   "cell_type": "code",
   "execution_count": null,
   "id": "e4cfbcb5-4881-4d27-90a7-b173f748d14f",
   "metadata": {},
   "outputs": [],
   "source": [
    "v2_interpolated = np.interp(t2_stamps, t1_stamps, zz)"
   ]
  },
  {
   "cell_type": "code",
   "execution_count": null,
   "id": "6cb5bfc9-7ec7-4fca-bb02-2e74ab4c3ce6",
   "metadata": {},
   "outputs": [],
   "source": [
    "len(t1_stamps)"
   ]
  },
  {
   "cell_type": "code",
   "execution_count": null,
   "id": "b1d1dafe-fd51-4b8c-acae-4d5dff608042",
   "metadata": {},
   "outputs": [],
   "source": [
    "plt.plot(v2_interpolated)"
   ]
  },
  {
   "cell_type": "code",
   "execution_count": null,
   "id": "7d8cd4d1-3bac-4f41-bc12-f89ff7f5ffaa",
   "metadata": {},
   "outputs": [],
   "source": []
  },
  {
   "cell_type": "code",
   "execution_count": null,
   "id": "d2aac278-fcb4-4bc4-a216-e5d8316ccd93",
   "metadata": {},
   "outputs": [],
   "source": []
  },
  {
   "cell_type": "code",
   "execution_count": null,
   "id": "14f03aa9-a39c-4547-8c8c-52e30acff136",
   "metadata": {},
   "outputs": [],
   "source": [
    "def read_yml(yaml_path, subkey=None):\n",
    "    with open(yaml_path, 'r') as file:\n",
    "        d = yaml.safe_load(file)\n",
    "        if subkey is not None:\n",
    "            d = d[subkey]\n",
    "    return d"
   ]
  },
  {
   "cell_type": "code",
   "execution_count": null,
   "id": "940e36a7-1597-4bac-8a82-3ecb602e124c",
   "metadata": {},
   "outputs": [],
   "source": [
    "data_params = read_yml(\"params_data.yaml\")\n",
    "data_params"
   ]
  },
  {
   "cell_type": "code",
   "execution_count": null,
   "id": "b34546f9-5c28-4c29-9148-0473fa9e00c1",
   "metadata": {},
   "outputs": [],
   "source": [
    "def filter_fmc(x, data_params=data_params):\n",
    "    # Vector to track which values of input x are set to na\n",
    "    na_vec = np.zeros_like(x)\n",
    "    \n",
    "    # Filter extreme lows\n",
    "    condition = x<= data_params['min_fm']\n",
    "    x[condition] = np.nan\n",
    "    na_vec[np.where(condition)] = 1\n",
    "    \n",
    "    # Filter extreme highs\n",
    "    condition = x>= data_params['max_fm']\n",
    "    x[condition] = np.nan\n",
    "    na_vec[condition] = 1\n",
    "    \n",
    "    return x, na_vec"
   ]
  },
  {
   "cell_type": "code",
   "execution_count": null,
   "id": "81a421c8-ed47-40f2-83c2-d258bce764f4",
   "metadata": {},
   "outputs": [],
   "source": [
    "def filter_rain(r, data_params=data_params):\n",
    "    # Vector to track which values of input x are set to na\n",
    "    na_vec = np.zeros_like(r)\n",
    "    \n",
    "    # Filter extreme lows\n",
    "    condition = r<= data_params['min_rain']\n",
    "    r[condition] = np.nan\n",
    "    na_vec[np.where(condition)] = 1\n",
    "    \n",
    "    # Filter extreme highs\n",
    "    condition = r>= data_params['max_rain']\n",
    "    r[condition] = np.nan\n",
    "    na_vec[condition] = 1    \n",
    "\n",
    "    return r, na_vec"
   ]
  },
  {
   "cell_type": "code",
   "execution_count": null,
   "id": "a79180bf-1d75-4bf2-81df-2ecf70a034a4",
   "metadata": {},
   "outputs": [],
   "source": [
    "yy = np.array([.01, 0, 10, 14, .01, 700])"
   ]
  },
  {
   "cell_type": "code",
   "execution_count": null,
   "id": "9efd4e65-928d-422f-864a-52849deb588b",
   "metadata": {},
   "outputs": [],
   "source": [
    "filter_fmc(yy)"
   ]
  },
  {
   "cell_type": "code",
   "execution_count": null,
   "id": "4351786f-20a0-47c8-a7ee-7d60b640ac39",
   "metadata": {},
   "outputs": [],
   "source": [
    "filter_rain(np.array([-1, 1111, 10, 5, 2, 0.01]))"
   ]
  },
  {
   "cell_type": "code",
   "execution_count": null,
   "id": "897f84d1-4ac8-478a-82f1-ed59052b0199",
   "metadata": {},
   "outputs": [],
   "source": [
    "def foo():\n",
    "    d = read_pkl()\n",
    "    dat = format_fmda_data()\n",
    "    dat = filter_data(dat)\n",
    "    return dat"
   ]
  },
  {
   "cell_type": "code",
   "execution_count": null,
   "id": "ed4112af-2b76-4b57-8d2e-1e5e0cba3b42",
   "metadata": {},
   "outputs": [],
   "source": [
    "def format_fmda_data(d):\n",
    "    # Inputs:\n",
    "    #    d: (dict) fmda dictionary, output of process in wrfxpy\n",
    "\n",
    "    return d"
   ]
  },
  {
   "cell_type": "code",
   "execution_count": null,
   "id": "b0ebb758-d1ec-477f-b6af-207dbe2a01d1",
   "metadata": {},
   "outputs": [],
   "source": []
  },
  {
   "cell_type": "code",
   "execution_count": null,
   "id": "e4d704f9-cb10-4b3a-a65d-cf1a26ddb9d4",
   "metadata": {},
   "outputs": [],
   "source": []
  },
  {
   "cell_type": "code",
   "execution_count": null,
   "id": "c5972b2b-eab2-4705-8401-6aa746203ac1",
   "metadata": {},
   "outputs": [],
   "source": []
  },
  {
   "cell_type": "code",
   "execution_count": null,
   "id": "0818c399-be45-4520-9b9e-d847a73ea1bf",
   "metadata": {},
   "outputs": [],
   "source": []
  },
  {
   "cell_type": "code",
   "execution_count": null,
   "id": "94ad78d5-47a0-4c9e-abe8-9f3cfc67208f",
   "metadata": {},
   "outputs": [],
   "source": []
  }
 ],
 "metadata": {
  "kernelspec": {
   "display_name": "Python 3 (ipykernel)",
   "language": "python",
   "name": "python3"
  },
  "language_info": {
   "codemirror_mode": {
    "name": "ipython",
    "version": 3
   },
   "file_extension": ".py",
   "mimetype": "text/x-python",
   "name": "python",
   "nbconvert_exporter": "python",
   "pygments_lexer": "ipython3",
   "version": "3.10.13"
  }
 },
 "nbformat": 4,
 "nbformat_minor": 5
}
