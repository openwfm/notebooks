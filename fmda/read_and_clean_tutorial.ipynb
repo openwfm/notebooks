{
 "cells": [
  {
   "cell_type": "code",
   "execution_count": null,
   "id": "9ddd1d89-abdb-4627-a0ca-23db006b62f4",
   "metadata": {},
   "outputs": [],
   "source": [
    "import yaml\n",
    "import pickle\n",
    "import os.path as osp\n",
    "import subprocess\n",
    "from urllib.parse import urlparse\n",
    "import numpy as np\n",
    "import matplotlib.pyplot as plt\n",
    "from utils import time_intp, str2time, filter_nan_values, read_pkl, read_yml"
   ]
  },
  {
   "cell_type": "code",
   "execution_count": null,
   "id": "3c141ad1-b997-485f-a4a7-d0c1ee79eb09",
   "metadata": {},
   "outputs": [],
   "source": []
  },
  {
   "cell_type": "markdown",
   "id": "609ea544-ed92-40a6-892b-1943e9f6f620",
   "metadata": {},
   "source": [
    "## Setup"
   ]
  },
  {
   "cell_type": "code",
   "execution_count": null,
   "id": "8ef14e43-030f-422e-a3a6-e9802a3df3ac",
   "metadata": {},
   "outputs": [],
   "source": [
    "def retrieve_url(url, dest_path, force_download=False):\n",
    "    if not osp.exists(dest_path) or force_download:\n",
    "        target_extension = osp.splitext(dest_path)[1]\n",
    "        url_extension = osp.splitext(urlparse(url).path)[1]\n",
    "        if target_extension != url_extension:\n",
    "            print(\"Warning: file extension from url does not match destination file extension\")\n",
    "        subprocess.call(f\"wget -O {dest_path}  {url}\", shell=True)\n",
    "        assert osp.exists(dest_path)\n",
    "        print(f\"Successfully downloaded {url} to {dest_path}\")\n",
    "    else:\n",
    "        print(f\"Target data already exists at {dest_path}\")"
   ]
  },
  {
   "cell_type": "code",
   "execution_count": null,
   "id": "41b0d403-7d6b-44f4-963f-8dc492ae0126",
   "metadata": {},
   "outputs": [],
   "source": [
    "retrieve_url(\"https://demo.openwfm.org/web/data/fmda/dicts/fmda_nw_202401-05_f05.pkl\", \"data/fmda_nw_202401-05_f05.pkl\")"
   ]
  },
  {
   "cell_type": "code",
   "execution_count": null,
   "id": "5a2972e2-e360-43b8-9706-01aee586096c",
   "metadata": {},
   "outputs": [],
   "source": []
  },
  {
   "cell_type": "code",
   "execution_count": null,
   "id": "e69e37b9-73ef-45a1-9738-844f26dc3323",
   "metadata": {},
   "outputs": [],
   "source": [
    "data_params = read_yml(\"params_data.yaml\")\n",
    "data_params"
   ]
  },
  {
   "cell_type": "code",
   "execution_count": null,
   "id": "6b5c3c82-84ba-426c-b8d9-f540b5026158",
   "metadata": {},
   "outputs": [],
   "source": [
    "dat = read_pkl(\"data/test_CA_202401.pkl\")"
   ]
  },
  {
   "cell_type": "code",
   "execution_count": null,
   "id": "5b2aeecb-89e6-41d0-af88-59a07b929edc",
   "metadata": {},
   "outputs": [],
   "source": [
    "dat['NV040_202401']['RAWS']['fm']"
   ]
  },
  {
   "cell_type": "markdown",
   "id": "dae0e47b-02eb-4759-9b95-3cc1b281d41e",
   "metadata": {},
   "source": [
    "## Filters"
   ]
  },
  {
   "cell_type": "code",
   "execution_count": null,
   "id": "8d6fbd18-adad-4370-add7-164275fc010d",
   "metadata": {},
   "outputs": [],
   "source": [
    "def filter_fmc(x, data_params=data_params):\n",
    "    # Vector to track which values of input x are set to na\n",
    "    na_vec = np.zeros_like(x)\n",
    "    \n",
    "    # Filter extreme lows\n",
    "    condition = x<= data_params['min_fm']\n",
    "    x[condition] = np.nan\n",
    "    na_vec[np.where(condition)] = 1\n",
    "    \n",
    "    # Filter extreme highs\n",
    "    condition = x>= data_params['max_fm']\n",
    "    x[condition] = np.nan\n",
    "    na_vec[condition] = 1\n",
    "    \n",
    "    return x, na_vec"
   ]
  },
  {
   "cell_type": "code",
   "execution_count": null,
   "id": "e49e7951-228c-44ee-ae54-d941e9a350f2",
   "metadata": {},
   "outputs": [],
   "source": [
    "def filter_rain(r, data_params=data_params):\n",
    "    # Vector to track which values of input x are set to na\n",
    "    na_vec = np.zeros_like(r)\n",
    "    \n",
    "    # Filter extreme lows\n",
    "    condition = r< data_params['min_rain']\n",
    "    r[condition] = np.nan\n",
    "    na_vec[np.where(condition)] = 1\n",
    "    \n",
    "    # Filter extreme highs\n",
    "    condition = r>= data_params['max_rain']\n",
    "    r[condition] = np.nan\n",
    "    na_vec[condition] = 1    \n",
    "\n",
    "    return r, na_vec"
   ]
  },
  {
   "cell_type": "code",
   "execution_count": null,
   "id": "957c0a4f-874c-4cf7-ad73-45053c2fdecc",
   "metadata": {},
   "outputs": [],
   "source": [
    "def filter_wind(w, data_params=data_params):\n",
    "    # Vector to track which values of input x are set to na\n",
    "    na_vec = np.zeros_like(w)\n",
    "    \n",
    "    # Filter extreme lows\n",
    "    condition = w< data_params['min_wind']\n",
    "    w[condition] = np.nan\n",
    "    na_vec[np.where(condition)] = 1\n",
    "    \n",
    "    # Filter extreme highs\n",
    "    condition = w>= data_params['max_wind']\n",
    "    w[condition] = np.nan\n",
    "    na_vec[condition] = 1    \n",
    "\n",
    "    return w, na_vec"
   ]
  },
  {
   "cell_type": "code",
   "execution_count": null,
   "id": "7b6b4347-6abe-4c21-8318-06a766d67d21",
   "metadata": {},
   "outputs": [],
   "source": [
    "# Useful Cases:\n",
    "    # NV040_202401: more raws observations than HRRR, interp should shorten\n",
    "    # NV026_202401: raws 10min obs, interp should shorten\n",
    "    # CGVC1_202401: missing only a few observations, interp should lengthen\n",
    "    # YNWC1_202401: only 2 observations, should be filtered entirely"
   ]
  },
  {
   "cell_type": "code",
   "execution_count": null,
   "id": "74d3b25a-6803-41c5-855b-92ed980d3fcb",
   "metadata": {},
   "outputs": [],
   "source": [
    "def time_intp(t1, v1, t2):\n",
    "    # Check if t1 v1 t2 are 1D arrays\n",
    "    if t1.ndim != 1:\n",
    "        logging.error(\"Error: t1 is not a 1D array. Dimension: %s\", t1.ndim)\n",
    "        return None\n",
    "    if v1.ndim != 1:\n",
    "        logging.error(\"Error: v1 is not a 1D array. Dimension %s:\", v1.ndim)\n",
    "        return None\n",
    "    if t2.ndim != 1:\n",
    "        logging.errorr(\"Error: t2 is not a 1D array. Dimension: %s\", t2.ndim)\n",
    "        return None\n",
    "    # Check if t1 and v1 have the same length\n",
    "    if len(t1) != len(v1):\n",
    "        logging.error(\"Error: t1 and v1 have different lengths: %s %s\",len(t1),len(v1))\n",
    "        return None\n",
    "    t1_no_nan, v1_no_nan = filter_nan_values(t1, v1)\n",
    "    # print('t1_no_nan.dtype=',t1_no_nan.dtype)\n",
    "    # Convert datetime objects to timestamps\n",
    "    t1_stamps = np.array([t.timestamp() for t in t1_no_nan])\n",
    "    t2_stamps = np.array([t.timestamp() for t in t2])\n",
    "    "
   ]
  },
  {
   "cell_type": "code",
   "execution_count": null,
   "id": "2e1a9438-3bfa-4c6d-8f4e-2888409ecb75",
   "metadata": {},
   "outputs": [],
   "source": [
    "len(dat.keys())"
   ]
  },
  {
   "cell_type": "code",
   "execution_count": null,
   "id": "f7e77394-dea3-4b24-82ed-6ce3c7dab21e",
   "metadata": {},
   "outputs": [],
   "source": [
    "def filter_nan_cases(d, data_params=data_params):\n",
    "    # Remove cases with too many NAN relative to interp target. Use to avoid over-interpolating\n",
    "    ks = [] # accumulate keys to remove\n",
    "    for k in dat:\n",
    "        n_fm = dat[k]['RAWS']['fm'].shape[0]\n",
    "        n_obs = dat[k]['HRRR']['time'].shape[0]\n",
    "        pct_na = (1 - n_fm / n_obs)\n",
    "        if pct_na > data_params['max_pct_na']:\n",
    "            print(f\"Removing key {k} due to extensive missing data. Percent NA relative to HRRR: {np.round(pct_na, 3)}\")\n",
    "            ks.append(k)\n",
    "    for k in ks: d.pop(k, None)"
   ]
  },
  {
   "cell_type": "code",
   "execution_count": null,
   "id": "faffc4ea-1b96-4ab4-af44-e2555eba39e1",
   "metadata": {},
   "outputs": [],
   "source": [
    "filter_nan_cases(dat)"
   ]
  },
  {
   "cell_type": "code",
   "execution_count": null,
   "id": "ac4c695e-bcc6-4e53-b934-f3837dac70ca",
   "metadata": {},
   "outputs": [],
   "source": [
    "len(dat.keys())"
   ]
  },
  {
   "cell_type": "code",
   "execution_count": null,
   "id": "c3fb7817-82b4-49ee-8c62-ef7308648c02",
   "metadata": {},
   "outputs": [],
   "source": []
  },
  {
   "cell_type": "code",
   "execution_count": null,
   "id": "a9f0b53b-b291-4592-ab0a-d05a6d2f770c",
   "metadata": {},
   "outputs": [],
   "source": []
  },
  {
   "cell_type": "code",
   "execution_count": null,
   "id": "9b7af652-5836-480f-861c-09bacaf035ea",
   "metadata": {},
   "outputs": [],
   "source": [
    "d = dat['NV026_202401']"
   ]
  },
  {
   "cell_type": "code",
   "execution_count": null,
   "id": "c5d7d2d6-cbae-402c-8585-a48ceba8f431",
   "metadata": {},
   "outputs": [],
   "source": [
    "d['RAWS']['fm'].shape"
   ]
  },
  {
   "cell_type": "code",
   "execution_count": null,
   "id": "ceb44038-b166-4827-a9ab-f62f51971c39",
   "metadata": {},
   "outputs": [],
   "source": [
    "d['RAWS']['time_raws'].shape"
   ]
  },
  {
   "cell_type": "code",
   "execution_count": null,
   "id": "481bb0b6-b5de-4244-89bc-24b6073e5cd4",
   "metadata": {},
   "outputs": [],
   "source": [
    "d['HRRR']['f01']['Ed'].shape"
   ]
  },
  {
   "cell_type": "code",
   "execution_count": null,
   "id": "88d3d4b6-c482-4158-ae13-daf729c2a496",
   "metadata": {},
   "outputs": [],
   "source": [
    "d['HRRR']['time'].shape"
   ]
  },
  {
   "cell_type": "code",
   "execution_count": null,
   "id": "d834581e-eb4a-494f-894a-5c81ff92bf85",
   "metadata": {},
   "outputs": [],
   "source": [
    "from utils import str2time\n",
    "d = dat['NV040_202401']\n",
    "time_raws=str2time(d['RAWS']['time_raws']) \n",
    "time_hrrr=str2time(d['HRRR']['time'])\n",
    "\n",
    "t1 = np.array([t.timestamp() for t in time_raws])\n",
    "t2 = np.array([t.timestamp() for t in time_hrrr])"
   ]
  },
  {
   "cell_type": "code",
   "execution_count": null,
   "id": "266ac8f6-119b-4424-b162-9077ab76b8e4",
   "metadata": {},
   "outputs": [],
   "source": [
    "tnew = np.interp(t2, t1, t1)"
   ]
  },
  {
   "cell_type": "code",
   "execution_count": null,
   "id": "1950759a-a332-4054-aee1-b086fbf4c39c",
   "metadata": {},
   "outputs": [],
   "source": [
    "np.isin(tnew, t1).mean()"
   ]
  },
  {
   "cell_type": "code",
   "execution_count": null,
   "id": "8b93c8ae-cfbb-4344-beda-5d3f60ed8ed9",
   "metadata": {},
   "outputs": [],
   "source": []
  },
  {
   "cell_type": "code",
   "execution_count": null,
   "id": "1c9a2263-9ec2-4c7e-9c79-90f8209a4c87",
   "metadata": {},
   "outputs": [],
   "source": []
  },
  {
   "cell_type": "code",
   "execution_count": null,
   "id": "9e2a78e5-330a-49ce-9dc9-babcb580d0d4",
   "metadata": {},
   "outputs": [],
   "source": [
    "d = dat['LIB03_202401']"
   ]
  },
  {
   "cell_type": "code",
   "execution_count": null,
   "id": "08b4c474-4332-4b45-9110-d8a21432cdf9",
   "metadata": {},
   "outputs": [],
   "source": [
    "d['RAWS']['fm'].shape"
   ]
  },
  {
   "cell_type": "code",
   "execution_count": null,
   "id": "1c12c514-37db-4b13-a35d-bd28651c00b4",
   "metadata": {},
   "outputs": [],
   "source": [
    "d['RAWS']['time_raws'].shape"
   ]
  },
  {
   "cell_type": "code",
   "execution_count": null,
   "id": "9846b2ae-38a8-4f0b-96a6-1c21d0ecb616",
   "metadata": {},
   "outputs": [],
   "source": [
    "d['HRRR']['f01']['Ed'].shape"
   ]
  },
  {
   "cell_type": "code",
   "execution_count": null,
   "id": "614fe317-8233-4dbf-97c8-c2d8d8923fea",
   "metadata": {},
   "outputs": [],
   "source": [
    "d['HRRR']['time'].shape"
   ]
  },
  {
   "cell_type": "code",
   "execution_count": null,
   "id": "40be5a62-06ec-4623-9684-bf186c3bcd1d",
   "metadata": {},
   "outputs": [],
   "source": []
  },
  {
   "cell_type": "code",
   "execution_count": null,
   "id": "081e0202-2bc0-4bd8-b4ab-f5eec289b70c",
   "metadata": {},
   "outputs": [],
   "source": []
  },
  {
   "cell_type": "code",
   "execution_count": null,
   "id": "31a1d814-9028-4213-ad9d-fabf1e35b554",
   "metadata": {},
   "outputs": [],
   "source": []
  },
  {
   "cell_type": "code",
   "execution_count": null,
   "id": "42de9659-3725-4f92-b17c-455126e89c47",
   "metadata": {},
   "outputs": [],
   "source": []
  },
  {
   "cell_type": "code",
   "execution_count": null,
   "id": "37cb45e7-b46b-429b-a9be-6c3a35677a28",
   "metadata": {},
   "outputs": [],
   "source": []
  },
  {
   "cell_type": "code",
   "execution_count": null,
   "id": "3f007941-6682-4022-9b78-48c214152635",
   "metadata": {},
   "outputs": [],
   "source": []
  },
  {
   "cell_type": "code",
   "execution_count": null,
   "id": "20687996-8267-4e93-9e24-b9515259e256",
   "metadata": {},
   "outputs": [],
   "source": []
  },
  {
   "cell_type": "code",
   "execution_count": null,
   "id": "55ce3b0e-7135-43ff-86ab-379c50b349db",
   "metadata": {},
   "outputs": [],
   "source": [
    "time_raws = str2time(dat['NV040_202401']['RAWS']['time_raws'])\n",
    "time_hrrr = str2time(dat['NV040_202401']['HRRR']['time'])\n",
    "fm = dat['NV040_202401']['RAWS']['fm']\n",
    "rain = dat['NV040_202401']['HRRR']['f01']['rain']"
   ]
  },
  {
   "cell_type": "code",
   "execution_count": null,
   "id": "cc4fd0b0-286b-4cd9-88c4-59e996348235",
   "metadata": {},
   "outputs": [],
   "source": [
    "len(time_raws) == len(fm)"
   ]
  },
  {
   "cell_type": "code",
   "execution_count": null,
   "id": "1680ed39-a021-4631-a764-40f354cf6a09",
   "metadata": {},
   "outputs": [],
   "source": [
    "filter_fmc(fm)"
   ]
  },
  {
   "cell_type": "code",
   "execution_count": null,
   "id": "8a3c405a-f976-4756-aaec-63998d58203d",
   "metadata": {},
   "outputs": [],
   "source": [
    "filter_rain(rain)"
   ]
  },
  {
   "cell_type": "code",
   "execution_count": null,
   "id": "5f49d9d4-2edf-434e-8812-c8c6ef3fbb2f",
   "metadata": {},
   "outputs": [],
   "source": [
    "filter_wind(dat['NV040_202401']['HRRR']['f01']['wind'])"
   ]
  },
  {
   "cell_type": "code",
   "execution_count": null,
   "id": "3d6a8fe7-1864-475a-a4f3-0fe04806ad50",
   "metadata": {},
   "outputs": [],
   "source": [
    "dat['NV040_202401']['RAWS']['wind']"
   ]
  },
  {
   "cell_type": "code",
   "execution_count": null,
   "id": "25ad1ce4-2060-4ece-932a-396813e56dc6",
   "metadata": {},
   "outputs": [],
   "source": [
    "dat['CNFC1_202401']['RAWS'].keys()"
   ]
  },
  {
   "cell_type": "code",
   "execution_count": null,
   "id": "a58ca663-074d-4eb4-a644-c9e05a415e65",
   "metadata": {},
   "outputs": [],
   "source": [
    "dat['CNFC1_202401']['RAWS']['solar']"
   ]
  },
  {
   "cell_type": "code",
   "execution_count": null,
   "id": "c2f27bfb-73fc-4bc6-9abc-ac1f5ab46acd",
   "metadata": {},
   "outputs": [],
   "source": [
    "dat['CNFC1_202401']['HRRR']['f01']['wind']"
   ]
  },
  {
   "cell_type": "code",
   "execution_count": null,
   "id": "74b98be4-55b1-4db2-81de-5f650aa00bb2",
   "metadata": {},
   "outputs": [],
   "source": [
    "dat['CNFC1_202401']['HRRR']['f01']['soilm']"
   ]
  },
  {
   "cell_type": "code",
   "execution_count": null,
   "id": "915f9534-ff84-4844-bde4-dce567d222c5",
   "metadata": {},
   "outputs": [],
   "source": []
  },
  {
   "cell_type": "code",
   "execution_count": null,
   "id": "cd2f357d-c813-4aa0-b3f7-cdc72f1f660c",
   "metadata": {},
   "outputs": [],
   "source": [
    "for k in dat:\n",
    "    print(\"~\"*50)\n",
    "    print(k)\n",
    "    print(f\"HRRR Shape: {dat[k]['HRRR']['f01']['Ew'].shape}\")\n",
    "    print(f\"RAWS Shape: {dat[k]['RAWS']['fm'].shape}\")"
   ]
  },
  {
   "cell_type": "code",
   "execution_count": null,
   "id": "1ab4cb8b-1aa8-4541-a5cc-041c493d8894",
   "metadata": {},
   "outputs": [],
   "source": [
    "dat['LIB03_202401']['RAWS']['soil_moisture']"
   ]
  },
  {
   "cell_type": "code",
   "execution_count": null,
   "id": "f62a897e-eeb8-4951-b64f-8b6ee11bc92a",
   "metadata": {},
   "outputs": [],
   "source": [
    "dat['LIB03_202401']['HRRR']['f01']['soilm']"
   ]
  },
  {
   "cell_type": "code",
   "execution_count": null,
   "id": "5037b7f3-a749-4b27-9e4c-f6c8d4fb8b6d",
   "metadata": {},
   "outputs": [],
   "source": [
    "for k in dat:\n",
    "    print(\"~\"*50)\n",
    "    print(k)\n",
    "    # Filter RAWS\n",
    "    fm, filter_vec = filter_fmc(dat[k][\"RAWS\"]['fm'])\n",
    "    print(f\"Percent FMC Observations Filtered: {np.mean(filter_vec)}\")\n",
    "    if 'rain' in dat[k][\"RAWS\"].keys():\n",
    "        rain, filter_vec = filter_rain(dat[k][\"RAWS\"]['rain'])\n",
    "        print(f\"Percent Rain Observations Filtered: {np.mean(filter_vec)}\")\n",
    "    if 'wind' in dat[k][\"RAWS\"].keys():\n",
    "        wind, filter_vec = filter_rain(dat[k][\"RAWS\"]['wind'])\n",
    "        print(f\"Percent Wind Observations Filtered: {np.mean(filter_vec)}\")\n",
    "    # Filter HRRR unncessesary? "
   ]
  },
  {
   "cell_type": "code",
   "execution_count": null,
   "id": "abd5985c-c727-44fb-a1d6-b212dc24d3ac",
   "metadata": {},
   "outputs": [],
   "source": []
  },
  {
   "cell_type": "code",
   "execution_count": null,
   "id": "3e6849f7-e983-446e-9d1b-26a1b4c693fd",
   "metadata": {},
   "outputs": [],
   "source": []
  },
  {
   "cell_type": "code",
   "execution_count": null,
   "id": "3b307ae1-980d-487a-aad4-f2fc0a87cbcf",
   "metadata": {},
   "outputs": [],
   "source": []
  },
  {
   "cell_type": "code",
   "execution_count": null,
   "id": "6d7b7335-589e-49bd-88bd-20b7b2a40611",
   "metadata": {},
   "outputs": [],
   "source": []
  },
  {
   "cell_type": "code",
   "execution_count": null,
   "id": "982de3ce-e883-4eab-88dd-41295da16e7f",
   "metadata": {},
   "outputs": [],
   "source": []
  },
  {
   "cell_type": "code",
   "execution_count": null,
   "id": "940e36a7-1597-4bac-8a82-3ecb602e124c",
   "metadata": {},
   "outputs": [],
   "source": []
  },
  {
   "cell_type": "code",
   "execution_count": null,
   "id": "b34546f9-5c28-4c29-9148-0473fa9e00c1",
   "metadata": {},
   "outputs": [],
   "source": []
  },
  {
   "cell_type": "code",
   "execution_count": null,
   "id": "81a421c8-ed47-40f2-83c2-d258bce764f4",
   "metadata": {},
   "outputs": [],
   "source": []
  },
  {
   "cell_type": "code",
   "execution_count": null,
   "id": "897f84d1-4ac8-478a-82f1-ed59052b0199",
   "metadata": {},
   "outputs": [],
   "source": [
    "def foo():\n",
    "    d = read_pkl()\n",
    "    dat = format_fmda_data()\n",
    "    dat = filter_data(dat)\n",
    "    return dat"
   ]
  },
  {
   "cell_type": "code",
   "execution_count": null,
   "id": "ed4112af-2b76-4b57-8d2e-1e5e0cba3b42",
   "metadata": {},
   "outputs": [],
   "source": [
    "def format_fmda_data(d):\n",
    "    # Inputs:\n",
    "    #    d: (dict) fmda dictionary, output of process in wrfxpy\n",
    "\n",
    "    return d"
   ]
  },
  {
   "cell_type": "code",
   "execution_count": null,
   "id": "b0ebb758-d1ec-477f-b6af-207dbe2a01d1",
   "metadata": {},
   "outputs": [],
   "source": []
  },
  {
   "cell_type": "code",
   "execution_count": null,
   "id": "e4d704f9-cb10-4b3a-a65d-cf1a26ddb9d4",
   "metadata": {},
   "outputs": [],
   "source": []
  },
  {
   "cell_type": "code",
   "execution_count": null,
   "id": "c5972b2b-eab2-4705-8401-6aa746203ac1",
   "metadata": {},
   "outputs": [],
   "source": []
  },
  {
   "cell_type": "code",
   "execution_count": null,
   "id": "0818c399-be45-4520-9b9e-d847a73ea1bf",
   "metadata": {},
   "outputs": [],
   "source": []
  },
  {
   "cell_type": "code",
   "execution_count": null,
   "id": "94ad78d5-47a0-4c9e-abe8-9f3cfc67208f",
   "metadata": {},
   "outputs": [],
   "source": []
  }
 ],
 "metadata": {
  "kernelspec": {
   "display_name": "Python 3 (ipykernel)",
   "language": "python",
   "name": "python3"
  },
  "language_info": {
   "codemirror_mode": {
    "name": "ipython",
    "version": 3
   },
   "file_extension": ".py",
   "mimetype": "text/x-python",
   "name": "python",
   "nbconvert_exporter": "python",
   "pygments_lexer": "ipython3",
   "version": "3.9.12"
  }
 },
 "nbformat": 4,
 "nbformat_minor": 5
}
