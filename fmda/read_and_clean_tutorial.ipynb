{
 "cells": [
  {
   "cell_type": "code",
   "execution_count": null,
   "id": "9ddd1d89-abdb-4627-a0ca-23db006b62f4",
   "metadata": {},
   "outputs": [],
   "source": [
    "import yaml\n",
    "import pickle\n",
    "import os.path as osp\n",
    "import subprocess\n",
    "from datetime import timedelta\n",
    "from urllib.parse import urlparse\n",
    "import numpy as np\n",
    "import matplotlib.pyplot as plt\n",
    "from moisture_rnn_pkl import pkl2train\n",
    "import time\n",
    "from utils import time_intp, str2time, filter_nan_values, read_pkl, read_yml, retrieve_url"
   ]
  },
  {
   "cell_type": "markdown",
   "id": "609ea544-ed92-40a6-892b-1943e9f6f620",
   "metadata": {},
   "source": [
    "## Setup"
   ]
  },
  {
   "cell_type": "code",
   "execution_count": null,
   "id": "41b0d403-7d6b-44f4-963f-8dc492ae0126",
   "metadata": {},
   "outputs": [],
   "source": [
    "retrieve_url(\"https://demo.openwfm.org/web/data/fmda/dicts/fmda_nw_202401-05_f05.pkl\", \"data/fmda_nw_202401-05_f05.pkl\")"
   ]
  },
  {
   "cell_type": "code",
   "execution_count": null,
   "id": "e69e37b9-73ef-45a1-9738-844f26dc3323",
   "metadata": {},
   "outputs": [],
   "source": [
    "data_params = read_yml(\"params_data.yaml\")\n",
    "data_params"
   ]
  },
  {
   "cell_type": "code",
   "execution_count": null,
   "id": "6b5c3c82-84ba-426c-b8d9-f540b5026158",
   "metadata": {},
   "outputs": [],
   "source": [
    "# dat = read_pkl(\"data/test_CA_202401.pkl\")\n",
    "dat = read_pkl(\"data/fmda_nw_202401-05_f05.pkl\")"
   ]
  },
  {
   "cell_type": "markdown",
   "id": "8afeae74-217e-41e5-a140-fd4df30e8148",
   "metadata": {},
   "source": [
    "## Format and Filter"
   ]
  },
  {
   "cell_type": "code",
   "execution_count": null,
   "id": "4003ced7-f08c-4cd3-a785-458c3588b235",
   "metadata": {},
   "outputs": [],
   "source": [
    "train_h = process_train_dict(\"data/test_CA_202401.pkl\", atm_dict=\"HRRR\", data_params=data_params)"
   ]
  },
  {
   "cell_type": "code",
   "execution_count": null,
   "id": "cf33ee50-1b05-4f11-90fb-9cccf355fdd6",
   "metadata": {},
   "outputs": [],
   "source": [
    "train_r = process_train_dict(\"data/test_CA_202401.pkl\", atm_dict=\"RAWS\", data_params=data_params)"
   ]
  },
  {
   "cell_type": "code",
   "execution_count": null,
   "id": "aa0eb65f-a680-4630-beff-c01dabca32aa",
   "metadata": {},
   "outputs": [],
   "source": []
  },
  {
   "cell_type": "code",
   "execution_count": null,
   "id": "c2f20f9c-9d9a-488e-81ae-9aef54253541",
   "metadata": {},
   "outputs": [],
   "source": []
  }
 ],
 "metadata": {
  "kernelspec": {
   "display_name": "Python 3 (ipykernel)",
   "language": "python",
   "name": "python3"
  },
  "language_info": {
   "codemirror_mode": {
    "name": "ipython",
    "version": 3
   },
   "file_extension": ".py",
   "mimetype": "text/x-python",
   "name": "python",
   "nbconvert_exporter": "python",
   "pygments_lexer": "ipython3",
   "version": "3.12.5"
  }
 },
 "nbformat": 4,
 "nbformat_minor": 5
}
