{
 "cells": [
  {
   "cell_type": "code",
   "execution_count": null,
   "id": "9ddd1d89-abdb-4627-a0ca-23db006b62f4",
   "metadata": {},
   "outputs": [],
   "source": [
    "import yaml\n",
    "import pickle\n",
    "import os.path as osp\n",
    "import subprocess\n",
    "from urllib.parse import urlparse\n",
    "import numpy as np\n",
    "import matplotlib.pyplot as plt\n",
    "from utils import time_intp, str2time, filter_nan_values, read_pkl, read_yml, retrieve_url"
   ]
  },
  {
   "cell_type": "markdown",
   "id": "609ea544-ed92-40a6-892b-1943e9f6f620",
   "metadata": {},
   "source": [
    "## Setup"
   ]
  },
  {
   "cell_type": "code",
   "execution_count": null,
   "id": "41b0d403-7d6b-44f4-963f-8dc492ae0126",
   "metadata": {},
   "outputs": [],
   "source": [
    "retrieve_url(\"https://demo.openwfm.org/web/data/fmda/dicts/fmda_nw_202401-05_f05.pkl\", \"data/fmda_nw_202401-05_f05.pkl\")"
   ]
  },
  {
   "cell_type": "code",
   "execution_count": null,
   "id": "e69e37b9-73ef-45a1-9738-844f26dc3323",
   "metadata": {},
   "outputs": [],
   "source": [
    "data_params = read_yml(\"params_data.yaml\")\n",
    "data_params"
   ]
  },
  {
   "cell_type": "code",
   "execution_count": null,
   "id": "6b5c3c82-84ba-426c-b8d9-f540b5026158",
   "metadata": {},
   "outputs": [],
   "source": [
    "# dat = read_pkl(\"data/test_CA_202401.pkl\")\n",
    "dat = read_pkl(\"data/test_NW_202401.pkl\")"
   ]
  },
  {
   "cell_type": "markdown",
   "id": "dae0e47b-02eb-4759-9b95-3cc1b281d41e",
   "metadata": {},
   "source": [
    "## Filters"
   ]
  },
  {
   "cell_type": "code",
   "execution_count": null,
   "id": "7b6b4347-6abe-4c21-8318-06a766d67d21",
   "metadata": {},
   "outputs": [],
   "source": [
    "# Useful Cases:\n",
    "    # NV040_202401: more raws observations than HRRR, interp should shorten\n",
    "    # NV026_202401: raws 10min obs, interp should shorten\n",
    "    # CGVC1_202401: missing only a few observations, interp should lengthen\n",
    "    # YNWC1_202401: only 2 observations, should be filtered entirely"
   ]
  },
  {
   "cell_type": "code",
   "execution_count": null,
   "id": "fc3fbda3-5e93-4122-9278-4b95ec69d25f",
   "metadata": {},
   "outputs": [],
   "source": [
    "def flag_lag_stretches(x, lag = 1, threshold = data_params['zero_lag_threshold']):\n",
    "    lags = np.diff(x, n=lag)\n",
    "    zero_lag_indices = np.where(lags == 0)[0]\n",
    "    current_run_length = 1\n",
    "    for i in range(1, len(zero_lag_indices)):\n",
    "        if zero_lag_indices[i] == zero_lag_indices[i-1] + 1:\n",
    "            current_run_length += 1\n",
    "            if current_run_length > threshold:\n",
    "                return True\n",
    "        else:\n",
    "            current_run_length = 1\n",
    "    else:\n",
    "        return False    "
   ]
  },
  {
   "cell_type": "code",
   "execution_count": null,
   "id": "67689bfe-3971-495f-95ef-0d52f3c7c3b5",
   "metadata": {},
   "outputs": [],
   "source": [
    "cases = list([*dat.keys()])\n",
    "flags = np.zeros(len(cases))\n",
    "for i, case in enumerate(cases):\n",
    "    print(\"~\"*50)\n",
    "    print(f\"Case: {case}\")\n",
    "    time_raws=str2time(dat[case]['RAWS']['time_raws'])\n",
    "    time_hrrr=str2time(dat[case][\"HRRR\"]['time'])\n",
    "    fm = dat[case]['RAWS']['fm']\n",
    "    ynew = time_intp(time_raws,fm,time_hrrr)\n",
    "    dat[case]['y'] = ynew\n",
    "    if flag_lag_stretches(ynew):\n",
    "        print(f\"Flagging case {case} for zero lag stretches greater than `zero_lag_threshold` param {data_params['zero_lag_threshold']}\")\n",
    "        flags[i]=1\n",
    "    if flag_lag_stretches(ynew, lag=2):\n",
    "        print(f\"Flagging case {case} for constant linear stretches greater than `max_intp_time` param {data_params['max_intp_time']}\")\n",
    "        flags[i]=1\n",
    "    if np.any(ynew>=data_params['max_fm']) or np.any(ynew<=data_params['min_fm']):\n",
    "        print(f\"Flagging case {case} for FMC outside param range {data_params['min_fm'],data_params['max_fm']}. FMC range for {case}: {ynew.min(),ynew.max()}\")\n",
    "        flags[i]=1"
   ]
  },
  {
   "cell_type": "code",
   "execution_count": null,
   "id": "246272bf-2f2e-4bab-97e2-b9d7f946618a",
   "metadata": {},
   "outputs": [],
   "source": [
    "flagged_cases = [element for element, flag in zip(cases, flags) if flag == 1]\n",
    "print(flagged_cases)"
   ]
  },
  {
   "cell_type": "code",
   "execution_count": null,
   "id": "bc28bd0a-1673-4414-bbc6-31baf55618ae",
   "metadata": {},
   "outputs": [],
   "source": []
  },
  {
   "cell_type": "code",
   "execution_count": null,
   "id": "1f97877c-89c9-49c1-a141-dac7ee2ea1a1",
   "metadata": {},
   "outputs": [],
   "source": []
  },
  {
   "cell_type": "code",
   "execution_count": null,
   "id": "04a22d48-2ef1-46b4-ab2b-333b240c799f",
   "metadata": {},
   "outputs": [],
   "source": []
  },
  {
   "cell_type": "code",
   "execution_count": null,
   "id": "16f30816-3f94-4238-a0f2-da69632415ba",
   "metadata": {},
   "outputs": [],
   "source": []
  }
 ],
 "metadata": {
  "kernelspec": {
   "display_name": "Python 3 (ipykernel)",
   "language": "python",
   "name": "python3"
  },
  "language_info": {
   "codemirror_mode": {
    "name": "ipython",
    "version": 3
   },
   "file_extension": ".py",
   "mimetype": "text/x-python",
   "name": "python",
   "nbconvert_exporter": "python",
   "pygments_lexer": "ipython3",
   "version": "3.12.5"
  }
 },
 "nbformat": 4,
 "nbformat_minor": 5
}
