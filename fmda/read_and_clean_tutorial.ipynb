{
 "cells": [
  {
   "cell_type": "code",
   "execution_count": null,
   "id": "9ddd1d89-abdb-4627-a0ca-23db006b62f4",
   "metadata": {},
   "outputs": [],
   "source": [
    "import yaml\n",
    "import pickle\n",
    "import os.path as osp\n",
    "import subprocess\n",
    "from datetime import timedelta\n",
    "from urllib.parse import urlparse\n",
    "import numpy as np\n",
    "import matplotlib.pyplot as plt\n",
    "from moisture_rnn_pkl import pkl2train\n",
    "import time\n",
    "from utils import time_intp, str2time, filter_nan_values, read_pkl, read_yml, retrieve_url"
   ]
  },
  {
   "cell_type": "markdown",
   "id": "609ea544-ed92-40a6-892b-1943e9f6f620",
   "metadata": {},
   "source": [
    "## Setup"
   ]
  },
  {
   "cell_type": "code",
   "execution_count": null,
   "id": "41b0d403-7d6b-44f4-963f-8dc492ae0126",
   "metadata": {},
   "outputs": [],
   "source": [
    "retrieve_url(\"https://demo.openwfm.org/web/data/fmda/dicts/fmda_nw_202401-05_f05.pkl\", \"data/fmda_nw_202401-05_f05.pkl\")"
   ]
  },
  {
   "cell_type": "code",
   "execution_count": null,
   "id": "e69e37b9-73ef-45a1-9738-844f26dc3323",
   "metadata": {},
   "outputs": [],
   "source": [
    "data_params = read_yml(\"params_data.yaml\")\n",
    "data_params"
   ]
  },
  {
   "cell_type": "code",
   "execution_count": null,
   "id": "6b5c3c82-84ba-426c-b8d9-f540b5026158",
   "metadata": {},
   "outputs": [],
   "source": [
    "# dat = read_pkl(\"data/test_CA_202401.pkl\")\n",
    "dat = read_pkl(\"data/fmda_nw_202401-05_f05.pkl\")"
   ]
  },
  {
   "cell_type": "markdown",
   "id": "8afeae74-217e-41e5-a140-fd4df30e8148",
   "metadata": {},
   "source": [
    "## Format"
   ]
  },
  {
   "cell_type": "code",
   "execution_count": null,
   "id": "26b7aae2-20ba-481b-9adf-f44970ac8a99",
   "metadata": {},
   "outputs": [],
   "source": [
    "train = pkl2train([\"data/fmda_nw_202401-05_f05.pkl\"])"
   ]
  },
  {
   "cell_type": "code",
   "execution_count": null,
   "id": "1562b272-2ba4-4fb2-a01b-a53542702a25",
   "metadata": {},
   "outputs": [],
   "source": [
    "train['PLFI1_202401'].keys()"
   ]
  },
  {
   "cell_type": "code",
   "execution_count": null,
   "id": "5efe3a48-5a03-480c-80d1-4517de5a9db8",
   "metadata": {},
   "outputs": [],
   "source": [
    "from utils import hash_ndarray\n",
    "\n",
    "hash_ndarray(train['PLFI1_202401']['X'])"
   ]
  },
  {
   "cell_type": "code",
   "execution_count": null,
   "id": "759c2b32-62a5-4e81-a934-b313ab7fff3d",
   "metadata": {},
   "outputs": [],
   "source": [
    "hash_ndarray(train['YTCW1_202401']['X'])"
   ]
  },
  {
   "cell_type": "code",
   "execution_count": null,
   "id": "8c52c508-5e5d-4332-9232-74cd64f72912",
   "metadata": {},
   "outputs": [],
   "source": [
    "len(train.keys())"
   ]
  },
  {
   "cell_type": "code",
   "execution_count": null,
   "id": "037953d4-81b4-4368-a57b-5145cd57209d",
   "metadata": {},
   "outputs": [],
   "source": []
  },
  {
   "cell_type": "code",
   "execution_count": null,
   "id": "bd16d12a-94b0-40d1-ba7e-ebcddbbbeeca",
   "metadata": {
    "scrolled": true
   },
   "outputs": [],
   "source": [
    "dat = read_pkl(\"data/fmda_nw_202401-05_f05.pkl\")"
   ]
  },
  {
   "cell_type": "code",
   "execution_count": null,
   "id": "7e8bbb31-ca2e-43a5-abc2-f9a6a24829e3",
   "metadata": {},
   "outputs": [],
   "source": [
    "import importlib\n",
    "import data_funcs\n",
    "importlib.reload(data_funcs)\n",
    "from data_funcs import build_train_dict"
   ]
  },
  {
   "cell_type": "code",
   "execution_count": null,
   "id": "ee283f6e-fc9a-43ed-8245-e95f2295b35f",
   "metadata": {},
   "outputs": [],
   "source": [
    "# train = build_train_dict(\"data/fmda_nw_202401-05_f05.pkl\", features_all=['Ed', 'Ew', 'solar', 'wind', 'elev', 'lon', 'lat', 'soilm', 'canopyw', 'groundflux', 'rain'])"
   ]
  },
  {
   "cell_type": "code",
   "execution_count": null,
   "id": "bb9bc17f-ce59-4459-a7f1-f90e44e115da",
   "metadata": {
    "scrolled": true
   },
   "outputs": [],
   "source": [
    "train = build_train_dict(\"data/test_CA_202401.pkl\", features_all=['Ed', 'Ew', 'solar', 'wind', 'elev', 'lon', 'lat', 'soilm', 'canopyw', 'groundflux', 'rain'])"
   ]
  },
  {
   "cell_type": "code",
   "execution_count": null,
   "id": "6f14ffb1-5f13-4987-861c-5e320e136a42",
   "metadata": {
    "scrolled": true
   },
   "outputs": [],
   "source": [
    "train2 = build_train_dict(\"data/test_CA_202401.pkl\", atm=\"RAWS\", features_all=['Ed', 'Ew', 'solar', 'wind', 'elev', 'lon', 'lat', 'soilm', 'canopyw', 'groundflux', 'rain'])"
   ]
  },
  {
   "cell_type": "code",
   "execution_count": null,
   "id": "a4f730b0-3f81-4210-8834-c7701d443be7",
   "metadata": {},
   "outputs": [],
   "source": [
    "train2.keys()"
   ]
  },
  {
   "cell_type": "code",
   "execution_count": null,
   "id": "b00ccfc3-f462-41c8-9e0a-13070daf33aa",
   "metadata": {},
   "outputs": [],
   "source": [
    "train2['CRVC1_202401']['features_list']"
   ]
  },
  {
   "cell_type": "code",
   "execution_count": null,
   "id": "443836f2-64b6-4eac-b1c0-378e19026537",
   "metadata": {},
   "outputs": [],
   "source": [
    "train2['CRVC1_202401']['X'].shape"
   ]
  },
  {
   "cell_type": "code",
   "execution_count": null,
   "id": "94d57d52-2825-440e-8998-ca837f438841",
   "metadata": {},
   "outputs": [],
   "source": [
    "import importlib\n",
    "import data_funcs\n",
    "importlib.reload(data_funcs)\n",
    "from data_funcs import process_train_dict"
   ]
  },
  {
   "cell_type": "code",
   "execution_count": null,
   "id": "46dc2197-a66f-4d23-a1ec-b006d70cb3f9",
   "metadata": {},
   "outputs": [],
   "source": [
    "data_params.update({'hours': 168})"
   ]
  },
  {
   "cell_type": "code",
   "execution_count": null,
   "id": "4003ced7-f08c-4cd3-a785-458c3588b235",
   "metadata": {},
   "outputs": [],
   "source": [
    "train_h = process_train_dict(\"data/test_CA_202401.pkl\", atm_dict=\"HRRR\", data_params=data_params)"
   ]
  },
  {
   "cell_type": "code",
   "execution_count": null,
   "id": "cf33ee50-1b05-4f11-90fb-9cccf355fdd6",
   "metadata": {},
   "outputs": [],
   "source": [
    "train_r = process_train_dict(\"data/test_CA_202401.pkl\", atm_dict=\"RAWS\", data_params=data_params)"
   ]
  },
  {
   "cell_type": "code",
   "execution_count": null,
   "id": "cc194c46-9bee-4c76-a5c0-ecd309c0f21d",
   "metadata": {},
   "outputs": [],
   "source": [
    "train['CNFC1_202401'].keys()"
   ]
  },
  {
   "cell_type": "code",
   "execution_count": null,
   "id": "04a7255f-7a16-4718-9cf0-340f8c8ec2fc",
   "metadata": {},
   "outputs": [],
   "source": [
    "train_h['CNFC1_202401'].keys()"
   ]
  },
  {
   "cell_type": "code",
   "execution_count": null,
   "id": "6423b05d-1e0b-4a13-a8a1-30cc0f9bd025",
   "metadata": {},
   "outputs": [],
   "source": []
  },
  {
   "cell_type": "markdown",
   "id": "9a087e1c-4c3d-4c4b-9372-598b1f0cf54d",
   "metadata": {},
   "source": [
    "## Filter"
   ]
  },
  {
   "cell_type": "code",
   "execution_count": null,
   "id": "1f8a5508-5794-458b-a7c7-82c83d7e9660",
   "metadata": {},
   "outputs": [],
   "source": [
    "import importlib\n",
    "import data_funcs\n",
    "importlib.reload(data_funcs)\n",
    "from data_funcs import split_timeseries, flag_lag_stretches, discard_keys_with_short_y, flag_dict_keys"
   ]
  },
  {
   "cell_type": "code",
   "execution_count": null,
   "id": "07aef7a6-d779-4838-baca-7f693cee26ac",
   "metadata": {},
   "outputs": [],
   "source": [
    "data_params.update({\n",
    "    'max_intp_time': 12,\n",
    "    'zero_lag_threshold': 12\n",
    "})"
   ]
  },
  {
   "cell_type": "code",
   "execution_count": null,
   "id": "426b2929-a4c3-4b1e-9273-3f9a8aec2103",
   "metadata": {
    "scrolled": true
   },
   "outputs": [],
   "source": [
    "d = split_timeseries(train, hours=data_params['hours'], verbose=True)"
   ]
  },
  {
   "cell_type": "code",
   "execution_count": null,
   "id": "be7aa5d7-5c8b-4996-8478-2beb88fd6eda",
   "metadata": {},
   "outputs": [],
   "source": [
    "len(d.keys())"
   ]
  },
  {
   "cell_type": "code",
   "execution_count": null,
   "id": "5c5f3781-4cc6-4d13-8ab4-259e6f27085e",
   "metadata": {},
   "outputs": [],
   "source": [
    "d = discard_keys_with_short_y(d, hours=109, verbose=True)"
   ]
  },
  {
   "cell_type": "code",
   "execution_count": null,
   "id": "65999977-e84e-434c-9d8d-887792223789",
   "metadata": {},
   "outputs": [],
   "source": [
    "len(d.keys())"
   ]
  },
  {
   "cell_type": "code",
   "execution_count": null,
   "id": "72149306-df98-413d-9a77-f62695b28634",
   "metadata": {
    "scrolled": true
   },
   "outputs": [],
   "source": [
    "flags = flag_dict_keys(d, data_params['zero_lag_threshold'], data_params['max_intp_time'], \n",
    "                       max_y = data_params['max_fm'], min_y = data_params['min_fm'])"
   ]
  },
  {
   "cell_type": "code",
   "execution_count": null,
   "id": "106a06a0-18bf-4ddc-9df2-517ae53f2eb4",
   "metadata": {},
   "outputs": [],
   "source": [
    "flags"
   ]
  },
  {
   "cell_type": "code",
   "execution_count": null,
   "id": "bd3890ed-552c-4240-a84c-d80d187f60c5",
   "metadata": {
    "scrolled": true
   },
   "outputs": [],
   "source": [
    "cases = list([*d.keys()])\n",
    "flagged_cases = [element for element, flag in zip(cases, flags) if flag == 1]\n",
    "print(len(flagged_cases))"
   ]
  },
  {
   "cell_type": "code",
   "execution_count": null,
   "id": "20b5d1d0-fe9c-4cf9-8c0f-4f2866e53892",
   "metadata": {},
   "outputs": [],
   "source": [
    "flagged_cases"
   ]
  },
  {
   "cell_type": "code",
   "execution_count": null,
   "id": "c70d7695-4122-4981-8344-1bf179b8a744",
   "metadata": {},
   "outputs": [],
   "source": [
    "def remove_key_list(d, ls, verbose=False):\n",
    "    for key in ls:\n",
    "        if key in d:\n",
    "            if verbose:\n",
    "                print(f\"Removing key {key} due to data flags\")\n",
    "            del d[key]"
   ]
  },
  {
   "cell_type": "code",
   "execution_count": null,
   "id": "71e69d7a-3e58-40ae-89ec-ac5a30ca48b8",
   "metadata": {},
   "outputs": [],
   "source": [
    "remove_key_list(d, flagged_cases, verbose=True)"
   ]
  },
  {
   "cell_type": "code",
   "execution_count": null,
   "id": "aa0eb65f-a680-4630-beff-c01dabca32aa",
   "metadata": {},
   "outputs": [],
   "source": []
  },
  {
   "cell_type": "code",
   "execution_count": null,
   "id": "c2f20f9c-9d9a-488e-81ae-9aef54253541",
   "metadata": {},
   "outputs": [],
   "source": []
  }
 ],
 "metadata": {
  "kernelspec": {
   "display_name": "Python 3 (ipykernel)",
   "language": "python",
   "name": "python3"
  },
  "language_info": {
   "codemirror_mode": {
    "name": "ipython",
    "version": 3
   },
   "file_extension": ".py",
   "mimetype": "text/x-python",
   "name": "python",
   "nbconvert_exporter": "python",
   "pygments_lexer": "ipython3",
   "version": "3.12.5"
  }
 },
 "nbformat": 4,
 "nbformat_minor": 5
}
