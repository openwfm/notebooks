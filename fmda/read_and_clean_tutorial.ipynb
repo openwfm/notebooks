{
 "cells": [
  {
   "cell_type": "code",
   "execution_count": null,
   "id": "9ddd1d89-abdb-4627-a0ca-23db006b62f4",
   "metadata": {},
   "outputs": [],
   "source": [
    "import yaml\n",
    "import pickle\n",
    "import os.path as osp\n",
    "import subprocess\n",
    "from urllib.parse import urlparse"
   ]
  },
  {
   "cell_type": "code",
   "execution_count": null,
   "id": "3c141ad1-b997-485f-a4a7-d0c1ee79eb09",
   "metadata": {},
   "outputs": [],
   "source": []
  },
  {
   "cell_type": "code",
   "execution_count": null,
   "id": "8ef14e43-030f-422e-a3a6-e9802a3df3ac",
   "metadata": {},
   "outputs": [],
   "source": [
    "def retrieve_url(url, dest_path, force_download=False):\n",
    "    if not osp.exists(dest_path) or force_download:\n",
    "        target_extension = osp.splitext(dest_path)[1]\n",
    "        url_extension = osp.splitext(urlparse(url).path)[1]\n",
    "        if target_extension != url_extension:\n",
    "            print(\"Warning: file extension from url does not match destination file extension\")\n",
    "        subprocess.call(f\"wget -O {dest_path}  {url}\", shell=True)\n",
    "        assert osp.exists(dest_path)\n",
    "        print(f\"Successfully downloaded {url} to {dest_path}\")\n",
    "    else:\n",
    "        print(f\"Target data already exists at {dest_path}\")"
   ]
  },
  {
   "cell_type": "code",
   "execution_count": null,
   "id": "64c3b587-06e5-4d9a-8c6e-e1dbb0c6430e",
   "metadata": {},
   "outputs": [],
   "source": []
  },
  {
   "cell_type": "code",
   "execution_count": null,
   "id": "ef5b1364-06fe-4729-afb1-5722b5ac097a",
   "metadata": {},
   "outputs": [],
   "source": []
  },
  {
   "cell_type": "code",
   "execution_count": null,
   "id": "bac8c89b-1fa2-4d57-a76d-4735a9c41c6b",
   "metadata": {},
   "outputs": [],
   "source": []
  },
  {
   "cell_type": "code",
   "execution_count": null,
   "id": "5a2972e2-e360-43b8-9706-01aee586096c",
   "metadata": {},
   "outputs": [],
   "source": [
    "def read_pkl(file_path):\n",
    "    with open(file_path, 'rb') as file:\n",
    "        print(f\"loading file {file_path}\")\n",
    "        d = pickle.load(file)\n",
    "    return d"
   ]
  },
  {
   "cell_type": "code",
   "execution_count": null,
   "id": "14f03aa9-a39c-4547-8c8c-52e30acff136",
   "metadata": {},
   "outputs": [],
   "source": [
    "def read_yml(yaml_path, subkey=None):\n",
    "    with open(yaml_path, 'r') as file:\n",
    "        d = yaml.safe_load(file)\n",
    "        if subkey is not None:\n",
    "            d = d[subkey]\n",
    "    return d"
   ]
  },
  {
   "cell_type": "code",
   "execution_count": null,
   "id": "897f84d1-4ac8-478a-82f1-ed59052b0199",
   "metadata": {},
   "outputs": [],
   "source": [
    "def foo():\n",
    "    d = read_pkl()\n",
    "    dat = format_fmda_data()\n",
    "    dat = filter_data(dat)\n",
    "    return dat"
   ]
  },
  {
   "cell_type": "code",
   "execution_count": null,
   "id": "ed4112af-2b76-4b57-8d2e-1e5e0cba3b42",
   "metadata": {},
   "outputs": [],
   "source": [
    "def format_fmda_data(d)\n",
    "    # Inputs:\n",
    "    #    d: (dict) fmda dictionary, output of process in wrfxpy\n",
    "\n",
    "    return d"
   ]
  },
  {
   "cell_type": "code",
   "execution_count": null,
   "id": "56ccc36f-79b7-44f9-b72c-7df45c74d304",
   "metadata": {},
   "outputs": [],
   "source": [
    "read_yml(\"params_data.yaml\")"
   ]
  },
  {
   "cell_type": "code",
   "execution_count": null,
   "id": "ea8e0109-a102-4f40-b2ed-dcfcae7dd8b0",
   "metadata": {},
   "outputs": [],
   "source": [
    "file = 'data/test_CA_202401.pkl'"
   ]
  },
  {
   "cell_type": "code",
   "execution_count": null,
   "id": "ff1b3b31-9e31-466e-b9eb-4f3aa750f4e6",
   "metadata": {},
   "outputs": [],
   "source": [
    "d = read_pkl(file)\n",
    "d"
   ]
  },
  {
   "cell_type": "code",
   "execution_count": null,
   "id": "0818c399-be45-4520-9b9e-d847a73ea1bf",
   "metadata": {},
   "outputs": [],
   "source": []
  },
  {
   "cell_type": "code",
   "execution_count": null,
   "id": "94ad78d5-47a0-4c9e-abe8-9f3cfc67208f",
   "metadata": {},
   "outputs": [],
   "source": []
  }
 ],
 "metadata": {
  "kernelspec": {
   "display_name": "Python 3 (ipykernel)",
   "language": "python",
   "name": "python3"
  },
  "language_info": {
   "codemirror_mode": {
    "name": "ipython",
    "version": 3
   },
   "file_extension": ".py",
   "mimetype": "text/x-python",
   "name": "python",
   "nbconvert_exporter": "python",
   "pygments_lexer": "ipython3",
   "version": "3.9.12"
  }
 },
 "nbformat": 4,
 "nbformat_minor": 5
}
