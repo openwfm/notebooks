{
 "cells": [
  {
   "cell_type": "code",
   "execution_count": null,
   "id": "761f5ca8-5ec1-4eda-a5ce-03207275819a",
   "metadata": {},
   "outputs": [],
   "source": [
    "import data_funcs as datf\n",
    "from data_funcs import format_raws, retrieve_raws, format_precip, fixnan, load_and_fix_data\n",
    "from data_funcs import raws_data, synthetic_data, plot_data, check_data, rmse_data, to_json, from_json\n",
    "from utils import print_dict_summary"
   ]
  },
  {
   "cell_type": "code",
   "execution_count": null,
   "id": "3184b2a0-0049-4964-9b1c-d88b9634f55c",
   "metadata": {},
   "outputs": [],
   "source": [
    "dict_file='data/testing_dict.pickle' # input path of FMDA dictionaries\n",
    "dict_dir='fmda_data_dicts' # input path of FMDA dictionaries"
   ]
  },
  {
   "cell_type": "code",
   "execution_count": null,
   "id": "760e93a5-e347-4ca2-8072-a2ef830e15a3",
   "metadata": {},
   "outputs": [],
   "source": [
    "d=load_and_fix_data(dict_file)"
   ]
  },
  {
   "cell_type": "code",
   "execution_count": null,
   "id": "b6581fab-1cf4-4a8e-96f1-605f13b45e80",
   "metadata": {},
   "outputs": [],
   "source": [
    "import os\n",
    "for file in [path for path in os.listdir(dict_dir) if path.endswith('pickle')]:\n",
    "    filename = os.path.join(dict_dir,os.fsdecode(file))\n",
    "    print(filename)\n",
    "    d=load_and_fix_data(dict_file)\n",
    "    print_dict_summary(d)"
   ]
  },
  {
   "cell_type": "code",
   "execution_count": null,
   "id": "2f446888-2344-4db6-907f-aa258d6561eb",
   "metadata": {},
   "outputs": [],
   "source": [
    "# print_dict_summary(d)"
   ]
  },
  {
   "cell_type": "code",
   "execution_count": null,
   "id": "c679ac3d-b9de-4398-9312-94bcd27b3592",
   "metadata": {},
   "outputs": [],
   "source": [
    "long = -100\n",
    "lat = 40\n",
    "query = ('https://api.open-elevation.com/api/v1/lookup'  f'?locations={lat},{long}')"
   ]
  },
  {
   "cell_type": "code",
   "execution_count": null,
   "id": "4287e2a5-debf-4b50-bf62-9f9ffcfea544",
   "metadata": {},
   "outputs": [],
   "source": [
    "query"
   ]
  },
  {
   "cell_type": "code",
   "execution_count": null,
   "id": "38eab8f1-aab5-429b-986d-0b86e7e8045b",
   "metadata": {},
   "outputs": [],
   "source": [
    "import requests\n",
    "r = requests.get(query).json() "
   ]
  },
  {
   "cell_type": "code",
   "execution_count": null,
   "id": "db90180f-e229-4d2e-82bc-bef7743f1ff4",
   "metadata": {},
   "outputs": [],
   "source": [
    "r"
   ]
  },
  {
   "cell_type": "code",
   "execution_count": null,
   "id": "81bb5466-e2e7-4541-9b4a-0166d6411e68",
   "metadata": {},
   "outputs": [],
   "source": [
    "e=r['results'][0]['elevation']"
   ]
  },
  {
   "cell_type": "code",
   "execution_count": null,
   "id": "a2d1bc08-649f-4e65-9d9b-dcd04d3dd440",
   "metadata": {},
   "outputs": [],
   "source": [
    "type(e)"
   ]
  },
  {
   "cell_type": "code",
   "execution_count": null,
   "id": "32687b73-a1c7-42d1-8806-c292512af36c",
   "metadata": {},
   "outputs": [],
   "source": []
  }
 ],
 "metadata": {
  "kernelspec": {
   "display_name": "Python 3 (ipykernel)",
   "language": "python",
   "name": "python3"
  },
  "language_info": {
   "codemirror_mode": {
    "name": "ipython",
    "version": 3
   },
   "file_extension": ".py",
   "mimetype": "text/x-python",
   "name": "python",
   "nbconvert_exporter": "python",
   "pygments_lexer": "ipython3",
   "version": "3.10.9"
  }
 },
 "nbformat": 4,
 "nbformat_minor": 5
}
