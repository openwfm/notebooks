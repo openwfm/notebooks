{
 "cells": [
  {
   "cell_type": "markdown",
   "id": "83b774b3-ef55-480a-b999-506676e49145",
   "metadata": {},
   "source": [
    "# v2.3 run RNN with Spatial Training\n",
    "\n",
    "This notebook is intended to set up a test where the RNN is run serial by location and compared to the spatial training scheme. Additionally, the ODE model with the augmented KF will be run as a comparison, but note that the RNN models will be predicting entirely without knowledge of the heldout locations, while the augmented KF will be run directly on the test locations.\n"
   ]
  },
  {
   "cell_type": "markdown",
   "id": "bbd84d61-a9cd-47b4-b538-4986fb10b98d",
   "metadata": {},
   "source": [
    "## Environment Setup"
   ]
  },
  {
   "cell_type": "code",
   "execution_count": null,
   "id": "83cc1dc4-3dcb-4325-9263-58101a3dc378",
   "metadata": {},
   "outputs": [],
   "source": [
    "import numpy as np\n",
    "from utils import print_dict_summary, print_first, str2time, logging_setup\n",
    "import pickle\n",
    "import logging\n",
    "import os.path as osp\n",
    "from moisture_rnn_pkl import pkl2train\n",
    "from moisture_rnn import RNNParams, RNNData, RNN, rnn_data_wrap\n",
    "from utils import hash2, read_yml, read_pkl, retrieve_url, Dict\n",
    "from moisture_rnn import RNN\n",
    "import reproducibility\n",
    "from data_funcs import rmse, to_json, combine_nested, build_train_dict\n",
    "from moisture_models import run_augmented_kf\n",
    "import copy\n",
    "import pandas as pd\n",
    "import matplotlib.pyplot as plt\n",
    "import yaml\n",
    "import time"
   ]
  },
  {
   "cell_type": "code",
   "execution_count": null,
   "id": "17db9b90-a931-4674-a447-5b8ffbcdc86a",
   "metadata": {},
   "outputs": [],
   "source": [
    "logging_setup()"
   ]
  },
  {
   "cell_type": "code",
   "execution_count": null,
   "id": "35319c1c-7849-4b8c-8262-f5aa6656e0c7",
   "metadata": {},
   "outputs": [],
   "source": [
    "filename = \"fmda_rocky_202403-05_f05.pkl\"\n",
    "retrieve_url(\n",
    "    url = f\"https://demo.openwfm.org/web/data/fmda/dicts/{filename}\", \n",
    "    dest_path = f\"data/{filename}\")"
   ]
  },
  {
   "cell_type": "code",
   "execution_count": null,
   "id": "eabdbd9c-07d9-4bae-9851-cca79f321895",
   "metadata": {},
   "outputs": [],
   "source": [
    "file_paths = [f\"data/{filename}\"]"
   ]
  },
  {
   "cell_type": "code",
   "execution_count": null,
   "id": "dcca6185-e799-4dd1-8acb-87ad33c411d7",
   "metadata": {},
   "outputs": [],
   "source": [
    "# read/write control\n",
    "train_file='data/train.pkl'\n",
    "train_create=True   # if false, read\n",
    "train_write=False\n",
    "train_read=False"
   ]
  },
  {
   "cell_type": "code",
   "execution_count": null,
   "id": "604388de-11ab-45c3-9f0d-80bdff0cca60",
   "metadata": {},
   "outputs": [],
   "source": [
    "# Params used for data filtering\n",
    "params_data = read_yml(\"params_data.yaml\") \n",
    "params_data.update({'hours':720})"
   ]
  },
  {
   "cell_type": "code",
   "execution_count": null,
   "id": "211a1c2f-ba8d-40b8-b29c-daa38af97a26",
   "metadata": {},
   "outputs": [],
   "source": [
    "# Params used for setting up RNN\n",
    "params = read_yml(\"params.yaml\", subkey='rnn') \n",
    "params"
   ]
  },
  {
   "cell_type": "code",
   "execution_count": null,
   "id": "be81d76c-3123-4467-982b-d2da5b1c08bd",
   "metadata": {
    "scrolled": true
   },
   "outputs": [],
   "source": [
    "train = build_train_dict(file_paths, atm_source=\"HRRR\", params_data = params_data, spatial=False, verbose=True,\n",
    "                        forecast_step = 3)"
   ]
  },
  {
   "cell_type": "code",
   "execution_count": null,
   "id": "23cd60c0-9865-4314-9a96-948c3d400c08",
   "metadata": {},
   "outputs": [],
   "source": [
    "from itertools import islice\n",
    "train = {k: train[k] for k in islice(train, 250)}"
   ]
  },
  {
   "cell_type": "markdown",
   "id": "efc10cdc-f18b-4781-84da-b8e2eef39981",
   "metadata": {},
   "source": [
    "## Setup Validation Runs"
   ]
  },
  {
   "cell_type": "markdown",
   "id": "2d9cd5c5-87ed-41f9-b36c-e0c18d58c841",
   "metadata": {},
   "source": [
    "The following parameters will be used for both serial and spatial models."
   ]
  },
  {
   "cell_type": "code",
   "execution_count": null,
   "id": "66f40c9f-c1c2-4b12-bf14-2ada8c26113d",
   "metadata": {},
   "outputs": [],
   "source": [
    "params = RNNParams(params)"
   ]
  },
  {
   "cell_type": "code",
   "execution_count": null,
   "id": "36823193-b93c-421e-b699-8c1ae5719309",
   "metadata": {},
   "outputs": [],
   "source": [
    "reproducibility.set_seed(123)"
   ]
  },
  {
   "cell_type": "markdown",
   "id": "a24d76fc-6c25-43e7-99df-3cd5dbf84fc3",
   "metadata": {},
   "source": [
    "## Spatial Data Training\n",
    "\n",
    "This method combines the training timeseries data into a single 3-d array, with timeseries at the same location arranged appropriately in the right order for a given `batch_size` hyperparameter. The hidden state of the recurrent layers are set up reset when the location changes. "
   ]
  },
  {
   "cell_type": "code",
   "execution_count": null,
   "id": "3b5371a9-c1e8-4df5-b360-210746f7cd52",
   "metadata": {},
   "outputs": [],
   "source": [
    "# Start timer for code \n",
    "start_time = time.time()"
   ]
  },
  {
   "cell_type": "code",
   "execution_count": null,
   "id": "faf93470-b55f-4770-9fa9-3288a2f13fcc",
   "metadata": {},
   "outputs": [],
   "source": [
    "# Combine Nested Dictionary into Spatial Data\n",
    "# train_sp = Dict(combine_nested(train))"
   ]
  },
  {
   "cell_type": "code",
   "execution_count": null,
   "id": "af82c50e-bcc4-406d-b759-399119d1af81",
   "metadata": {},
   "outputs": [],
   "source": [
    "# params.update({'time_fracs': [.5, .2, .3], 'space_fracs': [.5, .2, .3]})\n",
    "rnn_dat_sp = rnn_data_wrap(combine_nested(train), params)\n",
    "params.update({\n",
    "    'loc_batch_reset': rnn_dat_sp.n_seqs, # Used to reset hidden state when location changes for a given batch\n",
    "    'bmax': rnn_dat_sp.hours\n",
    "})"
   ]
  },
  {
   "cell_type": "code",
   "execution_count": null,
   "id": "4bc11474-fed8-47f2-b9cf-dfdda0d3d3b2",
   "metadata": {},
   "outputs": [],
   "source": [
    "rnn_sp = RNN(params)\n",
    "m_sp, errs = rnn_sp.run_model(rnn_dat_sp)"
   ]
  },
  {
   "cell_type": "code",
   "execution_count": null,
   "id": "704ad662-d81a-488d-be3d-e90bf775a5b8",
   "metadata": {},
   "outputs": [],
   "source": [
    "errs.mean()"
   ]
  },
  {
   "cell_type": "code",
   "execution_count": null,
   "id": "d53571e3-b6cf-49aa-9848-e3c77053283d",
   "metadata": {},
   "outputs": [],
   "source": [
    "# End Timer\n",
    "end_time = time.time()\n",
    "\n",
    "# Calculate Code Runtime\n",
    "elapsed_time_sp = end_time - start_time\n",
    "print(f\"Spatial Training Elapsed time: {elapsed_time_sp:.4f} seconds\")"
   ]
  },
  {
   "cell_type": "markdown",
   "id": "7d8292a2-418c-48ed-aff7-ccbe98b046d3",
   "metadata": {},
   "source": [
    "## Run ODE + KF "
   ]
  },
  {
   "cell_type": "code",
   "execution_count": null,
   "id": "8eaa136b-b496-4543-8970-dac46cb88df8",
   "metadata": {},
   "outputs": [],
   "source": [
    "import importlib\n",
    "import moisture_models\n",
    "importlib.reload(moisture_models)\n",
    "from moisture_models import run_augmented_kf"
   ]
  },
  {
   "cell_type": "code",
   "execution_count": null,
   "id": "cca12d8c-c0e1-4df4-b2ca-20440485f2f3",
   "metadata": {},
   "outputs": [],
   "source": [
    "# Get timeseries IDs from previous RNNData object\n",
    "test_cases = rnn_dat_sp.loc['test_locs']\n",
    "print(len(test_cases))"
   ]
  },
  {
   "cell_type": "code",
   "execution_count": null,
   "id": "997f2534-7e77-45b3-93bf-d988837dfc0b",
   "metadata": {},
   "outputs": [],
   "source": [
    "test_ind = rnn_dat_sp.test_ind # Time index for test period start\n",
    "print(test_ind)"
   ]
  },
  {
   "cell_type": "code",
   "execution_count": null,
   "id": "1e4ffc68-c775-41c6-ac42-f49c76824b43",
   "metadata": {
    "scrolled": true
   },
   "outputs": [],
   "source": [
    "outputs_kf = {}\n",
    "for case in test_cases:\n",
    "    print(\"~\"*50)\n",
    "    print(case)\n",
    "    # Run Augmented KF\n",
    "    print('Running Augmented KF')\n",
    "    train[case]['h2'] = test_ind\n",
    "    train[case]['hours'] =len(train[case]['y'])\n",
    "    train[case]['scale_fm'] = 1\n",
    "    m, Ec = run_augmented_kf(train[case])\n",
    "    y = train[case]['y']        \n",
    "    train[case]['m_kf'] = m\n",
    "    print(f\"KF RMSE: {rmse(m[test_ind:],y[test_ind:])}\")\n",
    "    outputs_kf[case] = {'case':case, 'errs': rmse(m[test_ind:],y[test_ind:])}"
   ]
  },
  {
   "cell_type": "code",
   "execution_count": null,
   "id": "57b19ec5-23f6-44ec-9f71-16d4d69aec68",
   "metadata": {},
   "outputs": [],
   "source": [
    "df_kf = pd.DataFrame.from_dict(outputs_kf).transpose()\n",
    "df_kf.head()"
   ]
  },
  {
   "cell_type": "code",
   "execution_count": null,
   "id": "25a9d2fe-83f7-4ef3-a04b-14c970b6e2ba",
   "metadata": {},
   "outputs": [],
   "source": [
    "df_kf.errs.mean()"
   ]
  },
  {
   "cell_type": "markdown",
   "id": "86795281-f8ea-4141-81ea-c53fae830e80",
   "metadata": {},
   "source": [
    "## Compare"
   ]
  },
  {
   "cell_type": "code",
   "execution_count": null,
   "id": "508a6392-49bc-4471-ad8e-814f60119283",
   "metadata": {},
   "outputs": [],
   "source": [
    "print(f\"Total Test Cases: {len(test_cases)}\")\n",
    "print(f\"Total Test Hours: {rnn_dat_sp.y_test.shape[0]}\")"
   ]
  },
  {
   "cell_type": "code",
   "execution_count": null,
   "id": "73e8ca05-d17b-4e72-8def-fa77664e7bb0",
   "metadata": {},
   "outputs": [],
   "source": [
    "print(f\"Spatial Training RMSE: {errs.mean()}\")\n",
    "print(f\"Augmented KF RMSE: {df_kf.errs.mean()}\")"
   ]
  },
  {
   "cell_type": "code",
   "execution_count": null,
   "id": "a73d22ee-707b-44a3-80ab-ad6e671731cf",
   "metadata": {},
   "outputs": [],
   "source": []
  },
  {
   "cell_type": "code",
   "execution_count": null,
   "id": "272bfb32-e8e2-49dd-8f90-4b5b09c3a2a2",
   "metadata": {},
   "outputs": [],
   "source": [
    "print(f\"Spatial Training Elapsed time: {elapsed_time_sp:.4f} seconds\")"
   ]
  },
  {
   "cell_type": "code",
   "execution_count": null,
   "id": "6b44b134-ff49-4bfd-8de3-2a1624b05629",
   "metadata": {},
   "outputs": [],
   "source": []
  },
  {
   "cell_type": "code",
   "execution_count": null,
   "id": "f63d2b65-9e1a-4eed-85b1-02d7ada59a37",
   "metadata": {},
   "outputs": [],
   "source": []
  },
  {
   "cell_type": "code",
   "execution_count": null,
   "id": "1369a136-81a2-4abe-a9b7-8b57e30f93c8",
   "metadata": {},
   "outputs": [],
   "source": []
  },
  {
   "cell_type": "code",
   "execution_count": null,
   "id": "520d2ccf-ae2e-41d8-8151-e545f507f2a3",
   "metadata": {},
   "outputs": [],
   "source": []
  }
 ],
 "metadata": {
  "kernelspec": {
   "display_name": "Python 3 (ipykernel)",
   "language": "python",
   "name": "python3"
  },
  "language_info": {
   "codemirror_mode": {
    "name": "ipython",
    "version": 3
   },
   "file_extension": ".py",
   "mimetype": "text/x-python",
   "name": "python",
   "nbconvert_exporter": "python",
   "pygments_lexer": "ipython3",
   "version": "3.12.5"
  }
 },
 "nbformat": 4,
 "nbformat_minor": 5
}
