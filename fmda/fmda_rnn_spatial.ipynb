{
 "cells": [
  {
   "cell_type": "markdown",
   "id": "83b774b3-ef55-480a-b999-506676e49145",
   "metadata": {},
   "source": [
    "# v2.1 run RNN with Spatial Training\n",
    "\n",
    "This notebook is intended to set up a test where the RNN is run serial by location and compared to the spatial training scheme. Additionally, the ODE model with the augmented KF will be run as a comparison, but note that the RNN models will be predicting entirely without knowledge of the heldout locations, while the augmented KF will be run directly on the test locations.\n"
   ]
  },
  {
   "cell_type": "markdown",
   "id": "bbd84d61-a9cd-47b4-b538-4986fb10b98d",
   "metadata": {},
   "source": [
    "## Environment Setup"
   ]
  },
  {
   "cell_type": "code",
   "execution_count": null,
   "id": "83cc1dc4-3dcb-4325-9263-58101a3dc378",
   "metadata": {},
   "outputs": [],
   "source": [
    "import numpy as np\n",
    "from utils import print_dict_summary, print_first, str2time, logging_setup\n",
    "import pickle\n",
    "import logging\n",
    "import os.path as osp\n",
    "from moisture_rnn_pkl import pkl2train\n",
    "from moisture_rnn import RNNParams, RNNData, RNN \n",
    "from utils import hash2, read_yml, read_pkl, retrieve_url, Dict\n",
    "from moisture_rnn import RNN\n",
    "import reproducibility\n",
    "from data_funcs import rmse, to_json, combine_nested, process_train_dict\n",
    "from moisture_models import run_augmented_kf\n",
    "import copy\n",
    "import pandas as pd\n",
    "import matplotlib.pyplot as plt\n",
    "import yaml\n",
    "import time"
   ]
  },
  {
   "cell_type": "code",
   "execution_count": null,
   "id": "17db9b90-a931-4674-a447-5b8ffbcdc86a",
   "metadata": {},
   "outputs": [],
   "source": [
    "logging_setup()"
   ]
  },
  {
   "cell_type": "code",
   "execution_count": null,
   "id": "35319c1c-7849-4b8c-8262-f5aa6656e0c7",
   "metadata": {},
   "outputs": [],
   "source": [
    "retrieve_url(\n",
    "    url = \"https://demo.openwfm.org/web/data/fmda/dicts/fmda_nw_202401-05_f05.pkl\", \n",
    "    dest_path = \"data/fmda_nw_202401-05_f05.pkl\")"
   ]
  },
  {
   "cell_type": "code",
   "execution_count": null,
   "id": "eabdbd9c-07d9-4bae-9851-cca79f321895",
   "metadata": {},
   "outputs": [],
   "source": [
    "file_paths = ['data/fmda_nw_202401-05_f05.pkl']"
   ]
  },
  {
   "cell_type": "code",
   "execution_count": null,
   "id": "dcca6185-e799-4dd1-8acb-87ad33c411d7",
   "metadata": {},
   "outputs": [],
   "source": [
    "# read/write control\n",
    "train_file='data/train.pkl'\n",
    "train_create=True   # if false, read\n",
    "train_write=True\n",
    "train_read=True"
   ]
  },
  {
   "cell_type": "code",
   "execution_count": null,
   "id": "604388de-11ab-45c3-9f0d-80bdff0cca60",
   "metadata": {},
   "outputs": [],
   "source": [
    "# Params used for data filtering\n",
    "params_data = read_yml(\"params_data.yaml\") \n",
    "params_data"
   ]
  },
  {
   "cell_type": "code",
   "execution_count": null,
   "id": "211a1c2f-ba8d-40b8-b29c-daa38af97a26",
   "metadata": {},
   "outputs": [],
   "source": [
    "# Params used for setting up RNN\n",
    "params = read_yml(\"params.yaml\", subkey='rnn') \n",
    "params"
   ]
  },
  {
   "cell_type": "code",
   "execution_count": null,
   "id": "bc0a775b-b587-42ef-8576-e36dc0be3a75",
   "metadata": {
    "scrolled": true
   },
   "outputs": [],
   "source": [
    "if train_create:\n",
    "    logging.info('creating the training cases from files %s',file_paths)\n",
    "    # osp.join works on windows too, joins paths using \\ or /\n",
    "    train = process_train_dict(file_paths, params_data = params_data, verbose=True)\n",
    "if train_write:\n",
    "    with open(train_file, 'wb') as file:\n",
    "        logging.info('Writing the rain cases into file %s',train_file)\n",
    "        pickle.dump(train, file)\n",
    "if train_read:\n",
    "    logging.info('Reading the train cases from file %s',train_file)\n",
    "    train = read_pkl(train_file)"
   ]
  },
  {
   "cell_type": "code",
   "execution_count": null,
   "id": "23cd60c0-9865-4314-9a96-948c3d400c08",
   "metadata": {},
   "outputs": [],
   "source": [
    "from itertools import islice\n",
    "train = {k: train[k] for k in islice(train, 150)}"
   ]
  },
  {
   "cell_type": "markdown",
   "id": "efc10cdc-f18b-4781-84da-b8e2eef39981",
   "metadata": {},
   "source": [
    "## Setup Validation Runs"
   ]
  },
  {
   "cell_type": "code",
   "execution_count": null,
   "id": "66f40c9f-c1c2-4b12-bf14-2ada8c26113d",
   "metadata": {},
   "outputs": [],
   "source": [
    "params = RNNParams(params)\n",
    "params.update({'epochs': 200, \n",
    "               'learning_rate': 0.001,\n",
    "               'activation': ['tanh', 'tanh'], # Activation for RNN Layers, Dense layers respectively.\n",
    "               'recurrent_layers': 2, 'recurrent_units': 30, \n",
    "               'dense_layers': 2, 'dense_units': 30,\n",
    "               'early_stopping_patience': 30, # how many epochs of no validation accuracy gain to wait before stopping\n",
    "               'batch_schedule_type': 'exp', # Hidden state batch reset schedule\n",
    "               'bmin': 20, # Lower bound of hidden state batch reset, \n",
    "               'bmax': params_data['hours'], # Upper bound of hidden state batch reset, using max hours\n",
    "               'features_list': ['Ed', 'Ew', 'rain', 'elev', 'lon', 'lat', 'solar', 'wind']\n",
    "              })"
   ]
  },
  {
   "cell_type": "code",
   "execution_count": null,
   "id": "36823193-b93c-421e-b699-8c1ae5719309",
   "metadata": {},
   "outputs": [],
   "source": [
    "reproducibility.set_seed(123)"
   ]
  },
  {
   "cell_type": "markdown",
   "id": "a24d76fc-6c25-43e7-99df-3cd5dbf84fc3",
   "metadata": {},
   "source": [
    "## Spatial Data Training"
   ]
  },
  {
   "cell_type": "code",
   "execution_count": null,
   "id": "3b5371a9-c1e8-4df5-b360-210746f7cd52",
   "metadata": {},
   "outputs": [],
   "source": [
    "# Start timer for code \n",
    "start_time = time.time()"
   ]
  },
  {
   "cell_type": "code",
   "execution_count": null,
   "id": "faf93470-b55f-4770-9fa9-3288a2f13fcc",
   "metadata": {},
   "outputs": [],
   "source": [
    "# Combine Nested Dictionary into Spatial Data\n",
    "train_sp = Dict(combine_nested(train))"
   ]
  },
  {
   "cell_type": "code",
   "execution_count": null,
   "id": "c0c7f5fb-4c33-45f8-9a2e-38c9ab1cd4e3",
   "metadata": {},
   "outputs": [],
   "source": [
    "rnn_dat_sp = RNNData(\n",
    "    train_sp, # input dictionary\n",
    "    scaler=\"standard\",  # data scaling type\n",
    "    features_list = params['features_list'] # features for predicting outcome\n",
    ")\n",
    "\n",
    "\n",
    "rnn_dat_sp.train_test_split(   \n",
    "    time_fracs = [.8, .1, .1], # Percent of total time steps used for train/val/test\n",
    "    space_fracs = [.8, .1, .1] # Percent of total timeseries used for train/val/test\n",
    ")\n",
    "rnn_dat_sp.scale_data()\n",
    "\n",
    "rnn_dat_sp.batch_reshape(\n",
    "    timesteps = params['timesteps'], # Timesteps aka sequence length for RNN input data. \n",
    "    batch_size = params['batch_size'] # Number of samples of length timesteps for a single round of grad. descent\n",
    ")"
   ]
  },
  {
   "cell_type": "code",
   "execution_count": null,
   "id": "7431bc95-d384-40fd-a622-bbc0ee68e5cd",
   "metadata": {},
   "outputs": [],
   "source": [
    "# Update Params specific to spatial training\n",
    "params.update({\n",
    "    'loc_batch_reset': rnn_dat_sp.n_seqs # Used to reset hidden state when location changes for a given batch\n",
    "})"
   ]
  },
  {
   "cell_type": "code",
   "execution_count": null,
   "id": "4bc11474-fed8-47f2-b9cf-dfdda0d3d3b2",
   "metadata": {},
   "outputs": [],
   "source": [
    "rnn_sp = RNN(params)\n",
    "m, errs = rnn_sp.run_model(rnn_dat_sp)"
   ]
  },
  {
   "cell_type": "code",
   "execution_count": null,
   "id": "704ad662-d81a-488d-be3d-e90bf775a5b8",
   "metadata": {},
   "outputs": [],
   "source": [
    "errs.mean()"
   ]
  },
  {
   "cell_type": "code",
   "execution_count": null,
   "id": "d53571e3-b6cf-49aa-9848-e3c77053283d",
   "metadata": {},
   "outputs": [],
   "source": [
    "# End Timer\n",
    "end_time = time.time()\n",
    "\n",
    "# Calculate Code Runtime\n",
    "elapsed_time_sp = end_time - start_time\n",
    "print(f\"Spatial Training Elapsed time: {elapsed_time_sp:.4f} seconds\")"
   ]
  },
  {
   "cell_type": "markdown",
   "id": "7d8292a2-418c-48ed-aff7-ccbe98b046d3",
   "metadata": {},
   "source": [
    "## Run ODE + KF and Compare"
   ]
  },
  {
   "cell_type": "code",
   "execution_count": null,
   "id": "cca12d8c-c0e1-4df4-b2ca-20440485f2f3",
   "metadata": {},
   "outputs": [],
   "source": [
    "# Get timeseries IDs from previous RNNData object\n",
    "test_cases = rnn_dat_sp.loc['test_locs']\n",
    "print(len(test_cases))"
   ]
  },
  {
   "cell_type": "code",
   "execution_count": null,
   "id": "997f2534-7e77-45b3-93bf-d988837dfc0b",
   "metadata": {},
   "outputs": [],
   "source": [
    "test_ind = rnn_dat_sp.test_ind # Time index for test period start\n",
    "print(test_ind)"
   ]
  },
  {
   "cell_type": "code",
   "execution_count": null,
   "id": "1e4ffc68-c775-41c6-ac42-f49c76824b43",
   "metadata": {
    "scrolled": true
   },
   "outputs": [],
   "source": [
    "outputs_kf = {}\n",
    "for case in test_cases:\n",
    "    print(\"~\"*50)\n",
    "    print(case)\n",
    "    # Run Augmented KF\n",
    "    print('Running Augmented KF')\n",
    "    train[case]['h2'] = test_ind\n",
    "    train[case]['scale_fm'] = 1\n",
    "    m, Ec = run_augmented_kf(train[case])\n",
    "    y = train[case]['y']        \n",
    "    train[case]['m_kf'] = m\n",
    "    print(f\"KF RMSE: {rmse(m[test_ind:],y[test_ind:])}\")\n",
    "    outputs_kf[case] = {'case':case, 'errs': rmse(m[test_ind:],y[test_ind:])}"
   ]
  },
  {
   "cell_type": "code",
   "execution_count": null,
   "id": "57b19ec5-23f6-44ec-9f71-16d4d69aec68",
   "metadata": {},
   "outputs": [],
   "source": [
    "df_kf = pd.DataFrame.from_dict(outputs_kf).transpose()\n",
    "df_kf.head()"
   ]
  },
  {
   "cell_type": "code",
   "execution_count": null,
   "id": "25a9d2fe-83f7-4ef3-a04b-14c970b6e2ba",
   "metadata": {},
   "outputs": [],
   "source": [
    "df_kf.errs.mean()"
   ]
  },
  {
   "cell_type": "markdown",
   "id": "f616bbf8-d89e-4c5b-9e47-59f02246b6f2",
   "metadata": {},
   "source": [
    "## Serial Training"
   ]
  },
  {
   "cell_type": "code",
   "execution_count": null,
   "id": "6fa20e9f-604a-4938-ab68-b71fbb7326df",
   "metadata": {},
   "outputs": [],
   "source": [
    "# Start timer for code \n",
    "start_time = time.time()"
   ]
  },
  {
   "cell_type": "code",
   "execution_count": null,
   "id": "f033e78c-a506-4508-a23c-8e6574014872",
   "metadata": {},
   "outputs": [],
   "source": [
    "# Update Params specific to Serial training\n",
    "params.update({\n",
    "    'loc_batch_reset': None, # Used to reset hidden state when location changes for a given batch\n",
    "    'epochs': 2 # less epochs since fit will be run multiple times over locations\n",
    "})"
   ]
  },
  {
   "cell_type": "code",
   "execution_count": null,
   "id": "ff1788ec-081b-403f-bcfa-b625f0e3dbe1",
   "metadata": {},
   "outputs": [],
   "source": [
    "train_cases = rnn_dat_sp.loc['train_locs']\n",
    "test_cases = rnn_dat_sp.loc['test_locs']"
   ]
  },
  {
   "cell_type": "code",
   "execution_count": null,
   "id": "8a2af45e-e81b-421f-b940-e8779177dd5d",
   "metadata": {},
   "outputs": [],
   "source": [
    "# Initialize Model with first train case\n",
    "rnn_dat = RNNData(train[train_cases[0]], params['scaler'], params['features_list'])\n",
    "rnn_dat.train_test_split(\n",
    "    time_fracs = [.8, .1, .1]\n",
    ")\n",
    "rnn_dat.scale_data()\n",
    "rnn_dat.batch_reshape(timesteps = params['timesteps'], batch_size = params['batch_size'])"
   ]
  },
  {
   "cell_type": "code",
   "execution_count": null,
   "id": "ac6fecc2-f614-4506-b5f9-05a6eca3b62e",
   "metadata": {},
   "outputs": [],
   "source": [
    "reproducibility.set_seed()\n",
    "rnn = RNN(params)"
   ]
  },
  {
   "cell_type": "code",
   "execution_count": null,
   "id": "79b5af30-7d52-410c-9595-e89e9756fd38",
   "metadata": {
    "scrolled": true
   },
   "outputs": [],
   "source": [
    "# Train\n",
    "for case in train_cases:\n",
    "    print(\"~\"*50)\n",
    "    print(f\"Training with Case {case}\")\n",
    "    rnn_dat_temp = RNNData(train[case], params['scaler'], params['features_list'])\n",
    "    rnn_dat_temp.train_test_split(\n",
    "        time_fracs = [.8, .1, .1]\n",
    "    )\n",
    "    rnn_dat_temp.scale_data()\n",
    "    rnn_dat_temp.batch_reshape(timesteps = params['timesteps'], batch_size = params['batch_size'])\n",
    "    rnn.fit(rnn_dat_temp['X_train'], rnn_dat_temp['y_train'],\n",
    "           validation_data=(rnn_dat_temp['X_val'], rnn_dat_temp['y_val']))    "
   ]
  },
  {
   "cell_type": "code",
   "execution_count": null,
   "id": "03d716b4-0ff5-4b80-a241-440543ba9b46",
   "metadata": {
    "scrolled": true
   },
   "outputs": [],
   "source": [
    "# Predict\n",
    "outputs_rnn_serial = {}\n",
    "test_ind = rnn_dat.test_ind\n",
    "for i, case in enumerate(test_cases):\n",
    "    print(\"~\"*50)\n",
    "    rnn_dat_temp = RNNData(train[case], params['scaler'], params['features_list'])\n",
    "    rnn_dat_temp.train_test_split(\n",
    "        time_fracs = [.8, .1, .1]\n",
    "    )\n",
    "    rnn_dat_temp.scale_data()\n",
    "    rnn_dat_temp.batch_reshape(timesteps = params['timesteps'], batch_size = params['batch_size'])    \n",
    "    X_temp = rnn_dat_temp.scale_all_X()\n",
    "    m = rnn.predict(X_temp)\n",
    "    outputs_rnn_serial[case] = {'case':case, 'errs': rmse(m[test_ind:], rnn_dat.y_test)}"
   ]
  },
  {
   "cell_type": "code",
   "execution_count": null,
   "id": "e5a80bae-fe1a-4ec9-b9ac-31d540eaba40",
   "metadata": {},
   "outputs": [],
   "source": [
    "df_rnn_serial = pd.DataFrame.from_dict(outputs_rnn_serial).transpose()\n",
    "df_rnn_serial.head()"
   ]
  },
  {
   "cell_type": "code",
   "execution_count": null,
   "id": "0c5b866e-c2bf-4bc1-8f6f-3ba8a9448d07",
   "metadata": {},
   "outputs": [],
   "source": [
    "df_rnn_serial.errs.mean()"
   ]
  },
  {
   "cell_type": "code",
   "execution_count": null,
   "id": "f5a364cb-01bf-49ad-a704-5aa3c9564967",
   "metadata": {},
   "outputs": [],
   "source": [
    "# End Timer\n",
    "end_time = time.time()\n",
    "\n",
    "# Calculate Code Runtime\n",
    "elapsed_time_ser = end_time - start_time\n",
    "print(f\"Serial Training Elapsed time: {elapsed_time_ser:.4f} seconds\")"
   ]
  },
  {
   "cell_type": "markdown",
   "id": "86795281-f8ea-4141-81ea-c53fae830e80",
   "metadata": {},
   "source": [
    "## Compare"
   ]
  },
  {
   "cell_type": "code",
   "execution_count": null,
   "id": "508a6392-49bc-4471-ad8e-814f60119283",
   "metadata": {},
   "outputs": [],
   "source": [
    "print(f\"Total Test Cases: {len(test_cases)}\")\n",
    "print(f\"Total Test Hours: {rnn_dat_temp.y_test.shape[0]}\")"
   ]
  },
  {
   "cell_type": "code",
   "execution_count": null,
   "id": "73e8ca05-d17b-4e72-8def-fa77664e7bb0",
   "metadata": {},
   "outputs": [],
   "source": [
    "print(f\"Spatial Training RMSE: {errs.mean()}\")\n",
    "print(f\"Serial Training RMSE: {df_rnn_serial.errs.mean()}\")\n",
    "print(f\"Augmented KF RMSE: {df_kf.errs.mean()}\")"
   ]
  },
  {
   "cell_type": "code",
   "execution_count": null,
   "id": "a73d22ee-707b-44a3-80ab-ad6e671731cf",
   "metadata": {},
   "outputs": [],
   "source": []
  },
  {
   "cell_type": "code",
   "execution_count": null,
   "id": "272bfb32-e8e2-49dd-8f90-4b5b09c3a2a2",
   "metadata": {},
   "outputs": [],
   "source": [
    "print(f\"Spatial Training Elapsed time: {elapsed_time_sp:.4f} seconds\")\n",
    "print(f\"Serial Training Elapsed time: {elapsed_time_ser:.4f} seconds\")"
   ]
  },
  {
   "cell_type": "code",
   "execution_count": null,
   "id": "38ab08fb-ac97-45be-8907-6f9cd124243b",
   "metadata": {},
   "outputs": [],
   "source": []
  }
 ],
 "metadata": {
  "kernelspec": {
   "display_name": "Python 3 (ipykernel)",
   "language": "python",
   "name": "python3"
  },
  "language_info": {
   "codemirror_mode": {
    "name": "ipython",
    "version": 3
   },
   "file_extension": ".py",
   "mimetype": "text/x-python",
   "name": "python",
   "nbconvert_exporter": "python",
   "pygments_lexer": "ipython3",
   "version": "3.12.5"
  }
 },
 "nbformat": 4,
 "nbformat_minor": 5
}
