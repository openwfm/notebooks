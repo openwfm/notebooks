{
 "cells": [
  {
   "cell_type": "markdown",
   "id": "83b774b3-ef55-480a-b999-506676e49145",
   "metadata": {},
   "source": [
    "# v2.1 run RNN with Spatial Training\n",
    "\n",
    "This notebook is intended to set up a test where the RNN is run serial by location and compared to the spatial training scheme. Additionally, the ODE model with the augmented KF will be run as a comparison, but note that the RNN models will be predicting entirely without knowledge of the heldout locations, while the augmented KF will be run directly on the test locations.\n"
   ]
  },
  {
   "cell_type": "markdown",
   "id": "bbd84d61-a9cd-47b4-b538-4986fb10b98d",
   "metadata": {},
   "source": [
    "## Environment Setup"
   ]
  },
  {
   "cell_type": "code",
   "execution_count": null,
   "id": "83cc1dc4-3dcb-4325-9263-58101a3dc378",
   "metadata": {},
   "outputs": [],
   "source": [
    "import numpy as np\n",
    "from utils import print_dict_summary, print_first, str2time, logging_setup\n",
    "import pickle\n",
    "import logging\n",
    "import os.path as osp\n",
    "from moisture_rnn_pkl import pkl2train\n",
    "from moisture_rnn import RNNParams, RNNData, RNN \n",
    "from utils import hash2, read_yml, read_pkl, retrieve_url, Dict\n",
    "from moisture_rnn import RNN\n",
    "import reproducibility\n",
    "from data_funcs import rmse, to_json, combine_nested\n",
    "from moisture_models import run_augmented_kf\n",
    "import copy\n",
    "import pandas as pd\n",
    "import matplotlib.pyplot as plt\n",
    "import yaml\n",
    "import time"
   ]
  },
  {
   "cell_type": "code",
   "execution_count": null,
   "id": "17db9b90-a931-4674-a447-5b8ffbcdc86a",
   "metadata": {},
   "outputs": [],
   "source": [
    "logging_setup()"
   ]
  },
  {
   "cell_type": "code",
   "execution_count": null,
   "id": "35319c1c-7849-4b8c-8262-f5aa6656e0c7",
   "metadata": {},
   "outputs": [],
   "source": [
    "retrieve_url(\n",
    "    url = \"https://demo.openwfm.org/web/data/fmda/dicts/test_CA_202401.pkl\", \n",
    "    dest_path = \"fmda_nw_202401-05_f05.pkl\")"
   ]
  },
  {
   "cell_type": "code",
   "execution_count": null,
   "id": "eabdbd9c-07d9-4bae-9851-cca79f321895",
   "metadata": {},
   "outputs": [],
   "source": [
    "repro_file = \"data/reproducibility_dict_v2_TEST.pkl\"\n",
    "file_names=['fmda_nw_202401-05_f05.pkl']\n",
    "file_dir='data'\n",
    "file_paths = [osp.join(file_dir,file_name) for file_name in file_names]"
   ]
  },
  {
   "cell_type": "code",
   "execution_count": null,
   "id": "dcca6185-e799-4dd1-8acb-87ad33c411d7",
   "metadata": {},
   "outputs": [],
   "source": [
    "# read/write control\n",
    "train_file='train.pkl'\n",
    "train_create=False   # if false, read\n",
    "train_write=False\n",
    "train_read=True"
   ]
  },
  {
   "cell_type": "code",
   "execution_count": null,
   "id": "bc0a775b-b587-42ef-8576-e36dc0be3a75",
   "metadata": {
    "scrolled": true
   },
   "outputs": [],
   "source": [
    "repro = read_pkl(repro_file)\n",
    "\n",
    "if train_create:\n",
    "    logging.info('creating the training cases from files %s',file_paths)\n",
    "    # osp.join works on windows too, joins paths using \\ or /\n",
    "    train = pkl2train(file_paths)\n",
    "if train_write:\n",
    "    with open(train_file, 'wb') as file:\n",
    "        logging.info('Writing the rain cases into file %s',train_file)\n",
    "        pickle.dump(train, file)\n",
    "if train_read:\n",
    "    logging.info('Reading the train cases from file %s',train_file)\n",
    "    train = read_pkl(train_file)"
   ]
  },
  {
   "cell_type": "code",
   "execution_count": null,
   "id": "211a1c2f-ba8d-40b8-b29c-daa38af97a26",
   "metadata": {},
   "outputs": [],
   "source": [
    "params = read_yml(\"params.yaml\", subkey='rnn')\n",
    "params"
   ]
  },
  {
   "cell_type": "code",
   "execution_count": null,
   "id": "78cf4dbc-4e7d-4c6d-ac2e-0bac513f92dd",
   "metadata": {},
   "outputs": [],
   "source": [
    "# from itertools import islice\n",
    "# train = {k: train[k] for k in islice(train, 100)}\n",
    "dat = Dict(combine_nested(train))"
   ]
  },
  {
   "cell_type": "code",
   "execution_count": null,
   "id": "e11e7c83-183f-48ba-abd8-a6aedff66090",
   "metadata": {},
   "outputs": [],
   "source": [
    "# Set up output dictionaries\n",
    "outputs_kf = {}\n",
    "outputs_rnn_serial = {}\n",
    "outputs_rnn_spatial = {}"
   ]
  },
  {
   "cell_type": "markdown",
   "id": "a24d76fc-6c25-43e7-99df-3cd5dbf84fc3",
   "metadata": {},
   "source": [
    "## Spatial Data Traing"
   ]
  },
  {
   "cell_type": "code",
   "execution_count": null,
   "id": "c58f9f89-46d8-407c-be8b-8e5f16dbcc51",
   "metadata": {},
   "outputs": [],
   "source": [
    "params = RNNParams(params)"
   ]
  },
  {
   "cell_type": "code",
   "execution_count": null,
   "id": "3b5371a9-c1e8-4df5-b360-210746f7cd52",
   "metadata": {},
   "outputs": [],
   "source": [
    "# Start timer\n",
    "start_time = time.time()"
   ]
  },
  {
   "cell_type": "code",
   "execution_count": null,
   "id": "c0c7f5fb-4c33-45f8-9a2e-38c9ab1cd4e3",
   "metadata": {},
   "outputs": [],
   "source": [
    "rnn_dat = RNNData(dat, scaler=\"standard\", \n",
    "                  features_list = ['Ed', 'Ew', 'rain', 'elev', 'lon', 'lat',\n",
    "                                  'solar', 'wind'])\n",
    "\n",
    "rnn_dat.train_test_split(   \n",
    "    time_fracs = [.9, .05, .05],\n",
    "    space_fracs = [.6, .2, .2]\n",
    ")\n",
    "rnn_dat.scale_data()\n",
    "\n",
    "rnn_dat.batch_reshape(\n",
    "    timesteps = params['timesteps'], \n",
    "    batch_size = params['batch_size']\n",
    ")"
   ]
  },
  {
   "cell_type": "code",
   "execution_count": null,
   "id": "59ddf393-2024-4093-927f-69f135a165b8",
   "metadata": {},
   "outputs": [],
   "source": [
    "params.update({'batch_schedule_type': 'exp', 'bmin': 20, 'bmax': rnn_dat.hours,\n",
    "               'loc_batch_reset': rnn_dat.n_seqs, \n",
    "               'epochs': 100, 'learning_rate': 0.0001,\n",
    "               'recurrent_layers': 2, 'recurrent_units': 40, 'dense_layers': 2, 'dense_units': 20,\n",
    "              'features_list': rnn_dat.features_list})"
   ]
  },
  {
   "cell_type": "code",
   "execution_count": null,
   "id": "4bc11474-fed8-47f2-b9cf-dfdda0d3d3b2",
   "metadata": {},
   "outputs": [],
   "source": [
    "reproducibility.set_seed(123)\n",
    "rnn = RNN(params)\n",
    "m, errs = rnn.run_model(rnn_dat)"
   ]
  },
  {
   "cell_type": "code",
   "execution_count": null,
   "id": "704ad662-d81a-488d-be3d-e90bf775a5b8",
   "metadata": {},
   "outputs": [],
   "source": [
    "errs.mean()"
   ]
  },
  {
   "cell_type": "code",
   "execution_count": null,
   "id": "d53571e3-b6cf-49aa-9848-e3c77053283d",
   "metadata": {},
   "outputs": [],
   "source": [
    "# End Timer\n",
    "end_time = time.time()\n",
    "\n",
    "# Calculate Code Runtime\n",
    "elapsed_time = end_time - start_time\n",
    "print(f\"Spatial Training Elapsed time: {elapsed_time:.4f} seconds\")"
   ]
  },
  {
   "cell_type": "markdown",
   "id": "7d8292a2-418c-48ed-aff7-ccbe98b046d3",
   "metadata": {},
   "source": [
    "## Run ODE + KF and Compare"
   ]
  },
  {
   "cell_type": "code",
   "execution_count": null,
   "id": "1e4ffc68-c775-41c6-ac42-f49c76824b43",
   "metadata": {
    "scrolled": true
   },
   "outputs": [],
   "source": [
    "outputs_kf = {}\n",
    "for case in rnn_dat.loc['test_locs']:\n",
    "    print(\"~\"*50)\n",
    "    print(case)\n",
    "    # Run Augmented KF\n",
    "    print('Running Augmented KF')\n",
    "    train[case]['h2'] = train[case]['hours'] // 2\n",
    "    train[case]['scale_fm'] = 1\n",
    "    m, Ec = run_augmented_kf(train[case])\n",
    "    y = train[case]['y']        \n",
    "    train[case]['m'] = m\n",
    "    print(f\"KF RMSE: {rmse(m,y)}\")\n",
    "    outputs_kf[case] = {'case':case, 'errs': rmse(m,y)}"
   ]
  },
  {
   "cell_type": "code",
   "execution_count": null,
   "id": "57b19ec5-23f6-44ec-9f71-16d4d69aec68",
   "metadata": {},
   "outputs": [],
   "source": [
    "df2 = pd.DataFrame.from_dict(outputs_kf).transpose()\n",
    "df2.head()"
   ]
  },
  {
   "cell_type": "markdown",
   "id": "86795281-f8ea-4141-81ea-c53fae830e80",
   "metadata": {},
   "source": [
    "## Compare"
   ]
  },
  {
   "cell_type": "code",
   "execution_count": null,
   "id": "508a6392-49bc-4471-ad8e-814f60119283",
   "metadata": {},
   "outputs": [],
   "source": [
    "df2.errs.mean()"
   ]
  },
  {
   "cell_type": "code",
   "execution_count": null,
   "id": "73e8ca05-d17b-4e72-8def-fa77664e7bb0",
   "metadata": {},
   "outputs": [],
   "source": [
    "df2.shape"
   ]
  },
  {
   "cell_type": "code",
   "execution_count": null,
   "id": "104ea555-1a88-4293-b2a6-dd870fb4b1ed",
   "metadata": {},
   "outputs": [],
   "source": [
    "errs.shape"
   ]
  },
  {
   "cell_type": "code",
   "execution_count": null,
   "id": "dc1d5cd6-2321-43b2-ab88-7f44806dc73f",
   "metadata": {},
   "outputs": [],
   "source": [
    "errs.mean()"
   ]
  },
  {
   "cell_type": "code",
   "execution_count": null,
   "id": "a73d22ee-707b-44a3-80ab-ad6e671731cf",
   "metadata": {},
   "outputs": [],
   "source": []
  },
  {
   "cell_type": "code",
   "execution_count": null,
   "id": "272bfb32-e8e2-49dd-8f90-4b5b09c3a2a2",
   "metadata": {},
   "outputs": [],
   "source": []
  }
 ],
 "metadata": {
  "kernelspec": {
   "display_name": "Python 3 (ipykernel)",
   "language": "python",
   "name": "python3"
  },
  "language_info": {
   "codemirror_mode": {
    "name": "ipython",
    "version": 3
   },
   "file_extension": ".py",
   "mimetype": "text/x-python",
   "name": "python",
   "nbconvert_exporter": "python",
   "pygments_lexer": "ipython3",
   "version": "3.12.5"
  }
 },
 "nbformat": 4,
 "nbformat_minor": 5
}
