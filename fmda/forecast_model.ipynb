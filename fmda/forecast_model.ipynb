{
 "cells": [
  {
   "cell_type": "code",
   "execution_count": null,
   "id": "d6757008-a9ea-4e3a-8724-f5d241df0488",
   "metadata": {},
   "outputs": [],
   "source": [
    "# Environment\n",
    "import numpy as np\n",
    "import pandas as pd\n",
    "import tensorflow as tf\n",
    "import matplotlib.pyplot as plt\n",
    "import sys\n",
    "# Local modules\n",
    "sys.path.append('..')\n",
    "import reproducibility\n",
    "from utils import print_dict_summary\n",
    "from data_funcs import load_and_fix_data, rmse, plot_data\n",
    "from moisture_rnn import create_rnn_data_1, create_rnn_data_2, train_rnn, rnn_predict"
   ]
  },
  {
   "cell_type": "markdown",
   "id": "f15ee8a4-44ff-4186-9962-c19b48acffd8",
   "metadata": {},
   "source": [
    "## Train Model"
   ]
  },
  {
   "cell_type": "code",
   "execution_count": null,
   "id": "8e196ef6-1762-4705-818b-e5485ef64575",
   "metadata": {},
   "outputs": [],
   "source": [
    "reproducibility_file='data/reproducibility_dict.pickle'\n",
    "\n",
    "repro={}\n",
    "repro.update(load_and_fix_data(reproducibility_file))\n",
    "print_dict_summary(repro)"
   ]
  },
  {
   "cell_type": "code",
   "execution_count": null,
   "id": "e763346c-3223-4be0-8300-1e998a58d693",
   "metadata": {},
   "outputs": [],
   "source": [
    "param_sets_ORIG = {'id':0,\n",
    "        'purpose':'reproducibility',\n",
    "        'batch_size':np.inf,\n",
    "        'training':None,\n",
    "        'cases':['case11'],\n",
    "        'scale':0,\n",
    "        'rain_do':False,\n",
    "#        'verbose':False,\n",
    "        'verbose':1,\n",
    "        'timesteps':5,\n",
    "        'activation':['linear','linear'],\n",
    "        'centering':[0.0,0.0],\n",
    "        'hidden_units':6,\n",
    "        'dense_units':1,\n",
    "        'dense_layers':1,\n",
    "        'DeltaE':[0,-1],    # -1.0 is to correct E bias but put at the end\n",
    "        'synthetic':False,  # run also synthetic cases\n",
    "        'T1': 0.1,          # 1/fuel class (10)\n",
    "        'fm_raise_vs_rain': 2.0,         # fm increase per mm rain                              \n",
    "        'epochs':5000,\n",
    "        'verbose_fit':0,\n",
    "        'verbose_weights':False,\n",
    "        'note':'check 5 should give zero error'\n",
    "        }"
   ]
  },
  {
   "cell_type": "code",
   "execution_count": null,
   "id": "402e4c74-ec55-40e7-9c36-5afeacb65ac4",
   "metadata": {},
   "outputs": [],
   "source": [
    "case_data = repro[\"case11\"]\n",
    "h2=case_data['h2']\n",
    "params = param_sets_ORIG\n",
    "reproducibility.set_seed() # Set seed for reproducibility\n",
    "rnn_dat = create_rnn_data_1(case_data,params)\n",
    "create_rnn_data_2(rnn_dat,params)\n",
    "\n",
    "print(rnn_dat[\"x_train\"].shape)\n",
    "print(rnn_dat[\"y_train\"].shape)"
   ]
  },
  {
   "cell_type": "code",
   "execution_count": null,
   "id": "f921b88f-21ef-438d-b657-5ef7dfb5bfb2",
   "metadata": {},
   "outputs": [],
   "source": [
    "model_predict = train_rnn(\n",
    "    rnn_dat,\n",
    "    params,\n",
    "    rnn_dat['hours'],\n",
    "    fit=True\n",
    ")"
   ]
  },
  {
   "cell_type": "code",
   "execution_count": null,
   "id": "62a63c8f-f832-4a8d-9c3e-60202d029957",
   "metadata": {},
   "outputs": [],
   "source": [
    "m = rnn_predict(model_predict, params, rnn_dat)\n",
    "case_data['m'] = m\n",
    "plot_data(case_data)"
   ]
  },
  {
   "cell_type": "markdown",
   "id": "b507a0e6-8830-451b-a557-139b3fd4c310",
   "metadata": {},
   "source": [
    "## Format Data to Predict"
   ]
  },
  {
   "cell_type": "markdown",
   "id": "65386a9b-f0d0-483c-a881-aee2f5432f49",
   "metadata": {},
   "source": [
    "### Test Plot of One HRRR Grid"
   ]
  },
  {
   "cell_type": "code",
   "execution_count": null,
   "id": "f7e3f84b-804b-431c-993e-60ec591280fb",
   "metadata": {},
   "outputs": [],
   "source": [
    "# Destination URL for data files\n",
    "url = \"https://demo.openwfm.org/web/data/fmda/tif/20240101/\"\n",
    "\n",
    "# Get List of files for model with just E's\n",
    "# Need temp and RH band nums from https://www.nco.ncep.noaa.gov/pmb/products/hrrr/hrrr.t00z.wrfprsf00.grib2.shtml\n",
    "bands = [616, 620] # temp, RH\n",
    "\n",
    "# List of hours to predict\n",
    "pred_hours = [0, 1, 2]\n",
    "\n",
    "# Format tif files\n",
    "files = {}\n",
    "for h in pred_hours:\n",
    "    hr = str(h).zfill(2)\n",
    "    files[f\"hour_{hr}\"] = []\n",
    "    for b in bands:\n",
    "        f = f\"{url}hrrr.t{hr}z.wrfprsf00.{b}.tif\"\n",
    "        files[f\"hour_{hr}\"].append(f)\n",
    "        print(f\"Filename: {f}\")"
   ]
  },
  {
   "cell_type": "code",
   "execution_count": null,
   "id": "8ca89988-30bd-45dd-bcd8-6b7fde5c3565",
   "metadata": {},
   "outputs": [],
   "source": [
    "# Ed = 0.924*rh**0.679 + 0.000499*np.exp(0.1*rh) + 0.18*(21.1 + 273.15 - t2)*(1 - np.exp(-0.115*rh))\n",
    "# Ew = 0.618*rh**0.753 + 0.000454*np.exp(0.1*rh) + 0.18*(21.1 + 273.15 - t2)*(1 - np.exp(-0.115*rh))"
   ]
  },
  {
   "cell_type": "code",
   "execution_count": null,
   "id": "eed839a1-35dd-4e1d-83ad-4989a8bdcf12",
   "metadata": {},
   "outputs": [],
   "source": [
    "import rioxarray"
   ]
  },
  {
   "cell_type": "code",
   "execution_count": null,
   "id": "bb67b7d1-a957-46a9-9e52-8e617c08018c",
   "metadata": {},
   "outputs": [],
   "source": [
    "files[\"hour_00\"][0]"
   ]
  },
  {
   "cell_type": "code",
   "execution_count": null,
   "id": "fbc16c08-347c-4e53-aa92-68b17266fab0",
   "metadata": {},
   "outputs": [],
   "source": [
    "temp = rioxarray.open_rasterio(files[\"hour_00\"][0])"
   ]
  },
  {
   "cell_type": "code",
   "execution_count": null,
   "id": "db4779c2-578c-49ee-a54b-e32804697b70",
   "metadata": {},
   "outputs": [],
   "source": [
    "temp"
   ]
  },
  {
   "cell_type": "code",
   "execution_count": null,
   "id": "590fd20e-dbdf-4f4f-bb05-4e49d55d61ea",
   "metadata": {},
   "outputs": [],
   "source": [
    "if np.any(temp < 150):\n",
    "    temp += 273.15\n",
    "plt.imshow(temp.sel(band=1))"
   ]
  },
  {
   "cell_type": "code",
   "execution_count": null,
   "id": "d75b4471-07fa-4d75-8f77-12730d382e06",
   "metadata": {},
   "outputs": [],
   "source": [
    "rh = rioxarray.open_rasterio(files[\"hour_00\"][1])\n",
    "plt.imshow(rh.sel(band=1))"
   ]
  },
  {
   "cell_type": "code",
   "execution_count": null,
   "id": "4ca412f4-f4b2-4269-b19f-e951eb776be1",
   "metadata": {},
   "outputs": [],
   "source": [
    "Ed = 0.924*rh**0.679 + 0.000499*np.exp(0.1*rh) + 0.18*(21.1 + 273.15 - temp)*(1 - np.exp(-0.115*rh))\n",
    "Ew = 0.618*rh**0.753 + 0.000454*np.exp(0.1*rh) + 0.18*(21.1 + 273.15 - temp)*(1 - np.exp(-0.115*rh))"
   ]
  },
  {
   "cell_type": "code",
   "execution_count": null,
   "id": "09b02c01-6b6d-41b5-8948-0a0806b24f0b",
   "metadata": {},
   "outputs": [],
   "source": [
    "plt.imshow(Ed.sel(band=1))\n",
    "plt.title(\"Drying Equilibrium\")"
   ]
  },
  {
   "cell_type": "code",
   "execution_count": null,
   "id": "3a4df045-f2aa-4115-884a-5b8c2889b771",
   "metadata": {},
   "outputs": [],
   "source": [
    "plt.imshow(Ew.sel(band=1))\n",
    "plt.title(\"Wetting Equilibrium\")"
   ]
  },
  {
   "cell_type": "code",
   "execution_count": null,
   "id": "dbe9cf25-86ab-4de0-b956-0b0a87318ecc",
   "metadata": {},
   "outputs": [],
   "source": [
    "def get_eq_from_url(files):\n",
    "\n",
    "    # Get right bands\n",
    "    tfile = [file for file in files if \".616.tif\" in file]\n",
    "    rhfile = [file for file in files if \".620.tif\" in file]\n",
    "\n",
    "    # Data checks\n",
    "    assert len(tfile) == 1, \"More than 1 file found with band 620 (rh), this func only processes 1hr\"\n",
    "    assert len(rhfile) == 1, \"More than 1 file found with band 616 (temp), this func only processes 1hr\"\n",
    "\n",
    "    # Read Data\n",
    "    temp = rioxarray.open_rasterio(tfile[0])\n",
    "    rh = rioxarray.open_rasterio(rhfile[0])\n",
    "    assert temp.data.shape == rh.data.shape, \"Temp and RH data different shapes\"\n",
    "\n",
    "    # Convert C to K if C detected, check is whether any value is less than 150 deg. TODO: do this w metadata\n",
    "    if np.any(temp < 150):\n",
    "        temp += 273.15\n",
    "    \n",
    "    Ed = 0.924*rh**0.679 + 0.000499*np.exp(0.1*rh) + 0.18*(21.1 + 273.15 - temp)*(1 - np.exp(-0.115*rh))\n",
    "    Ew = 0.618*rh**0.753 + 0.000454*np.exp(0.1*rh) + 0.18*(21.1 + 273.15 - temp)*(1 - np.exp(-0.115*rh))\n",
    "\n",
    "    return Ed, Ew"
   ]
  },
  {
   "cell_type": "code",
   "execution_count": null,
   "id": "31a84e0e-ecbc-4b57-9432-bdc6042249ab",
   "metadata": {},
   "outputs": [],
   "source": [
    "Ed, Ew = get_eq_from_url(files[\"hour_00\"])"
   ]
  },
  {
   "cell_type": "code",
   "execution_count": null,
   "id": "8ff42b9f-a8c8-4767-a1d4-2e7b464c5019",
   "metadata": {},
   "outputs": [],
   "source": [
    "from pyproj import Transformer\n",
    "\n",
    "# Subset data with bbox\n",
    "# BBox from GACC\n",
    "bbox = [42,-124.6,49,-116.4] # PNW bbox\n",
    "# Convert to coord system of datasets\n",
    "transform = Ed.rio.transform()\n",
    "crs = Ed.rio.crs\n",
    "transformer = Transformer.from_crs(\"EPSG:4326\", crs, always_xy=True)\n",
    "inv_transform = ~transform\n",
    "# x_low, y_low = inv_transform * transformer.transform(-124.6, 42)\n",
    "# x_up, y_up = inv_transform * transformer.transform(-116.4, 49)\n",
    "x_low, y_low = transformer.transform(-124.6, 42)\n",
    "x_up, y_up = transformer.transform(-116.4, 49)"
   ]
  },
  {
   "cell_type": "code",
   "execution_count": null,
   "id": "c5e93c40",
   "metadata": {},
   "outputs": [],
   "source": [
    "from pyproj import Transformer\n",
    "\n",
    "# Subset data with bbox\n",
    "# BBox from GACC\n",
    "bbox = [42,-124.6,49,-116.4] # PNW bbox\n",
    "# Convert to coord system of datasets\n",
    "transform = Ed.rio.transform()\n",
    "crs = Ed.rio.crs\n",
    "transformer = Transformer.from_crs(\"EPSG:4326\", crs, always_xy=True)\n",
    "inv_transform = ~transform\n",
    "# x_low, y_low = inv_transform * transformer.transform(-124.6, 42)\n",
    "# x_up, y_up = inv_transform * transformer.transform(-116.4, 49)\n",
    "x_low, y_low = transformer.transform(-124.6, 42)\n",
    "x_up, y_up = transformer.transform(-116.4, 49)"
   ]
  },
  {
   "cell_type": "code",
   "execution_count": null,
   "id": "14ba70f9-39b0-4a0f-b95a-db3324027a23",
   "metadata": {},
   "outputs": [],
   "source": [
    "zz = Ed.sel(x=slice(x_low, x_up), y=slice(y_up, y_low))"
   ]
  },
  {
   "cell_type": "code",
   "execution_count": null,
   "id": "23bc285e-a52c-420c-a894-324aa4a8dc88",
   "metadata": {},
   "outputs": [],
   "source": [
    "plt.imshow(Ed.sel(band=1))\n",
    "xx, yy=inv_transform * (x_low, y_low)\n",
    "xx2, yy2=inv_transform * (x_up, y_up)\n",
    "plt.plot(xx, yy, marker='o', color='red', markersize=6)\n",
    "plt.plot(xx2, yy2, marker='o', color='red', markersize=6)\n",
    "# plt.imshow(zz.sel(band=1))\n",
    "plt.show()"
   ]
  },
  {
   "cell_type": "code",
   "execution_count": null,
   "id": "39169958-a2b4-4bb8-af4a-8e6f258b8037",
   "metadata": {},
   "outputs": [],
   "source": [
    "plt.imshow(zz.sel(band=1))\n",
    "plt.plot(xx, yy, marker='o', color='red', markersize=6)\n",
    "plt.plot(xx2, yy2, marker='o', color='red', markersize=6)"
   ]
  },
  {
   "cell_type": "markdown",
   "id": "d2994284-f3ce-4892-86c5-086604e5a2d7",
   "metadata": {},
   "source": [
    "### Get Timeseries for Grid"
   ]
  },
  {
   "cell_type": "code",
   "execution_count": null,
   "id": "510ff586-a327-43ed-8ded-8109fbd6cdb9",
   "metadata": {},
   "outputs": [],
   "source": [
    "# Extract ndarray of Grid Eqs\n",
    "## Subsetting for memory\n",
    "\n",
    "# Get first hour\n",
    "Ed, Ew = get_eq_from_url(files[\"hour_00\"])\n",
    "Ed = Ed.data\n",
    "Ew = Ew.data\n",
    "\n",
    "for hr in files:\n",
    "    if hr == \"hour_00\":\n",
    "        continue\n",
    "    Ed_temp, Ew_temp = get_eq_from_url(files[hr])\n",
    "    Ed = np.concatenate((Ed, Ed_temp), axis=0)\n",
    "    Ew = np.concatenate((Ew, Ew_temp), axis=0)\n",
    "    del(Ed_temp)\n",
    "    del(Ew_temp)"
   ]
  },
  {
   "cell_type": "code",
   "execution_count": null,
   "id": "e9902f4e-ddd1-4f26-bdca-29f92667ee43",
   "metadata": {},
   "outputs": [],
   "source": [
    "print(Ed.shape)\n",
    "print(Ew.shape)"
   ]
  },
  {
   "cell_type": "markdown",
   "id": "acff6d85-2533-4dec-88c1-44f9b421764c",
   "metadata": {},
   "source": [
    "## Apply Model to Grid"
   ]
  },
  {
   "cell_type": "code",
   "execution_count": null,
   "id": "9a07125e-9f1c-4007-9e0a-46949be9e174",
   "metadata": {},
   "outputs": [],
   "source": [
    "# Get one point, convert to 1x2 array and apply model \n",
    "hours = Ed.shape[0]\n",
    "features = 2\n",
    "X_new = np.array([Ed[:, 0, 0], Ew[:, 0, 0]]).reshape(1,hours,features)\n",
    "print(X_new)\n",
    "print(X_new.shape)"
   ]
  },
  {
   "cell_type": "code",
   "execution_count": null,
   "id": "4a74deb2-cd3c-4e8e-845c-705a643f6282",
   "metadata": {},
   "outputs": [],
   "source": [
    "model_predict.predict(X_new)"
   ]
  },
  {
   "cell_type": "markdown",
   "id": "15518f20-736a-4d77-95e4-a2424bba8d4d",
   "metadata": {},
   "source": [
    "### Test Simulated New Data"
   ]
  },
  {
   "cell_type": "code",
   "execution_count": null,
   "id": "7a2a4401-227e-472e-aeab-f35e9f0f2240",
   "metadata": {},
   "outputs": [],
   "source": [
    "hours = 100\n",
    "features = 2\n",
    "XX = np.array([np.repeat(20.0, hours), np.repeat(20.0, hours)]).reshape(1,hours,features)\n",
    "print(XX.shape)"
   ]
  },
  {
   "cell_type": "code",
   "execution_count": null,
   "id": "8e94ad4c-5e44-4139-9ab3-89511fbaeee6",
   "metadata": {},
   "outputs": [],
   "source": [
    "preds = model_predict.predict(XX)"
   ]
  },
  {
   "cell_type": "code",
   "execution_count": null,
   "id": "43a24025-44d0-405d-bbb7-f641037c1d9a",
   "metadata": {},
   "outputs": [],
   "source": [
    "plt.plot(XX[0,:,0], label = \"New Data\")\n",
    "plt.plot(preds.squeeze(), label = \"Preds\")\n",
    "plt.legend()"
   ]
  },
  {
   "cell_type": "code",
   "execution_count": null,
   "id": "9ade0ed6-bb5f-4603-a1e7-64c2e45ca457",
   "metadata": {},
   "outputs": [],
   "source": []
  }
 ],
 "metadata": {
  "kernelspec": {
   "display_name": "Python 3 (ipykernel)",
   "language": "python",
   "name": "python3"
  },
  "language_info": {
   "codemirror_mode": {
    "name": "ipython",
    "version": 3
   },
   "file_extension": ".py",
   "mimetype": "text/x-python",
   "name": "python",
   "nbconvert_exporter": "python",
   "pygments_lexer": "ipython3",
   "version": "3.9.12"
  }
 },
 "nbformat": 4,
 "nbformat_minor": 5
}
