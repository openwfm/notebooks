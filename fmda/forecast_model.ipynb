{
 "cells": [
  {
   "cell_type": "code",
   "execution_count": null,
   "id": "d6757008-a9ea-4e3a-8724-f5d241df0488",
   "metadata": {},
   "outputs": [],
   "source": [
    "# Environment\n",
    "import numpy as np\n",
    "import pandas as pd\n",
    "import tensorflow as tf\n",
    "import matplotlib.pyplot as plt\n",
    "import sys\n",
    "# Local modules\n",
    "sys.path.append('..')\n",
    "import reproducibility\n",
    "from utils import print_dict_summary\n",
    "from data_funcs import load_and_fix_data, rmse\n",
    "from moisture_rnn import create_rnn_data_1, create_rnn_data_2, train_rnn"
   ]
  },
  {
   "cell_type": "markdown",
   "id": "f15ee8a4-44ff-4186-9962-c19b48acffd8",
   "metadata": {},
   "source": [
    "## Train Model"
   ]
  },
  {
   "cell_type": "code",
   "execution_count": null,
   "id": "8e196ef6-1762-4705-818b-e5485ef64575",
   "metadata": {},
   "outputs": [],
   "source": [
    "reproducibility_file='data/reproducibility_dict.pickle'\n",
    "\n",
    "repro={}\n",
    "repro.update(load_and_fix_data(reproducibility_file))\n",
    "print_dict_summary(repro)"
   ]
  },
  {
   "cell_type": "code",
   "execution_count": null,
   "id": "e763346c-3223-4be0-8300-1e998a58d693",
   "metadata": {},
   "outputs": [],
   "source": [
    "param_sets_ORIG = {'id':0,\n",
    "        'purpose':'reproducibility',\n",
    "        'batch_size':np.inf,\n",
    "        'training':None,\n",
    "        'cases':['case11'],\n",
    "        'scale':0,\n",
    "        'rain_do':False,\n",
    "#        'verbose':False,\n",
    "        'verbose':1,\n",
    "        'timesteps':5,\n",
    "        'activation':['linear','linear'],\n",
    "        'centering':[0.0,0.0],\n",
    "        'hidden_units':6,\n",
    "        'dense_units':1,\n",
    "        'dense_layers':1,\n",
    "        'DeltaE':[0,-1],    # -1.0 is to correct E bias but put at the end\n",
    "        'synthetic':False,  # run also synthetic cases\n",
    "        'T1': 0.1,          # 1/fuel class (10)\n",
    "        'fm_raise_vs_rain': 2.0,         # fm increase per mm rain                              \n",
    "        'epochs':5000,\n",
    "        'verbose_fit':0,\n",
    "        'verbose_weights':False,\n",
    "        'note':'check 5 should give zero error'\n",
    "        }"
   ]
  },
  {
   "cell_type": "code",
   "execution_count": null,
   "id": "402e4c74-ec55-40e7-9c36-5afeacb65ac4",
   "metadata": {},
   "outputs": [],
   "source": [
    "case_data = repro[\"case11\"]\n",
    "h2=case_data['h2']\n",
    "params = param_sets_ORIG\n",
    "reproducibility.set_seed() # Set seed for reproducibility\n",
    "rnn_dat = create_rnn_data_1(case_data,params)\n",
    "create_rnn_data_2(rnn_dat,params)\n",
    "\n",
    "print(rnn_dat[\"x_train\"].shape)\n",
    "print(rnn_dat[\"y_train\"].shape)"
   ]
  },
  {
   "cell_type": "code",
   "execution_count": null,
   "id": "f921b88f-21ef-438d-b657-5ef7dfb5bfb2",
   "metadata": {},
   "outputs": [],
   "source": [
    "model_predict = train_rnn(\n",
    "    rnn_dat,\n",
    "    params,\n",
    "    rnn_dat['hours'],\n",
    "    fit=True\n",
    ")"
   ]
  },
  {
   "cell_type": "markdown",
   "id": "b507a0e6-8830-451b-a557-139b3fd4c310",
   "metadata": {},
   "source": [
    "## Format Data to Predict"
   ]
  },
  {
   "cell_type": "code",
   "execution_count": null,
   "id": "f7e3f84b-804b-431c-993e-60ec591280fb",
   "metadata": {},
   "outputs": [],
   "source": [
    "# Destination URL for data files\n",
    "url = \"https://demo.openwfm.org/web/data/fmda/tif/20240101/\"\n",
    "\n",
    "# Get List of files for model with just E's\n",
    "# Need temp and RH band nums from https://www.nco.ncep.noaa.gov/pmb/products/hrrr/hrrr.t00z.wrfprsf00.grib2.shtml\n",
    "bands = [616, 620] # temp, RH\n",
    "\n",
    "# List of hours to predict\n",
    "pred_hours = [0, 1, 2]\n",
    "\n",
    "# Format tif files\n",
    "files = []\n",
    "for h in pred_hours:\n",
    "    hr = str(h).zfill(2)\n",
    "    for b in bands:\n",
    "        f = f\"{url}hrrr.t{hr}z.wrfprsf00.{b}.tif\"\n",
    "        files.append(f)\n",
    "        print(f\"Filename: {f}\")"
   ]
  },
  {
   "cell_type": "code",
   "execution_count": null,
   "id": "8ca89988-30bd-45dd-bcd8-6b7fde5c3565",
   "metadata": {},
   "outputs": [],
   "source": [
    "# Ed = 0.924*rh**0.679 + 0.000499*np.exp(0.1*rh) + 0.18*(21.1 + 273.15 - t2)*(1 - np.exp(-0.115*rh))\n",
    "# Ew = 0.618*rh**0.753 + 0.000454*np.exp(0.1*rh) + 0.18*(21.1 + 273.15 - t2)*(1 - np.exp(-0.115*rh))"
   ]
  },
  {
   "cell_type": "code",
   "execution_count": null,
   "id": "eed839a1-35dd-4e1d-83ad-4989a8bdcf12",
   "metadata": {},
   "outputs": [],
   "source": [
    "import rioxarray"
   ]
  },
  {
   "cell_type": "code",
   "execution_count": null,
   "id": "bb67b7d1-a957-46a9-9e52-8e617c08018c",
   "metadata": {},
   "outputs": [],
   "source": [
    "files[0]"
   ]
  },
  {
   "cell_type": "code",
   "execution_count": null,
   "id": "fbc16c08-347c-4e53-aa92-68b17266fab0",
   "metadata": {},
   "outputs": [],
   "source": [
    "temp = rioxarray.open_rasterio(files[0])"
   ]
  },
  {
   "cell_type": "code",
   "execution_count": null,
   "id": "db4779c2-578c-49ee-a54b-e32804697b70",
   "metadata": {},
   "outputs": [],
   "source": [
    "temp"
   ]
  },
  {
   "cell_type": "code",
   "execution_count": null,
   "id": "590fd20e-dbdf-4f4f-bb05-4e49d55d61ea",
   "metadata": {},
   "outputs": [],
   "source": [
    "plt.imshow(temp.sel(band=1))"
   ]
  },
  {
   "cell_type": "code",
   "execution_count": null,
   "id": "d75b4471-07fa-4d75-8f77-12730d382e06",
   "metadata": {},
   "outputs": [],
   "source": [
    "rh = rioxarray.open_rasterio(files[1])\n",
    "plt.imshow(rh.sel(band=1))"
   ]
  },
  {
   "cell_type": "code",
   "execution_count": null,
   "id": "4ca412f4-f4b2-4269-b19f-e951eb776be1",
   "metadata": {},
   "outputs": [],
   "source": [
    "Ed = 0.924*rh**0.679 + 0.000499*np.exp(0.1*rh) + 0.18*(21.1 + 273.15 - temp)*(1 - np.exp(-0.115*rh))\n",
    "Ew = 0.618*rh**0.753 + 0.000454*np.exp(0.1*rh) + 0.18*(21.1 + 273.15 - temp)*(1 - np.exp(-0.115*rh))"
   ]
  },
  {
   "cell_type": "code",
   "execution_count": null,
   "id": "09b02c01-6b6d-41b5-8948-0a0806b24f0b",
   "metadata": {},
   "outputs": [],
   "source": [
    "plt.imshow(Ed.sel(band=1))\n",
    "plt.title(\"Drying Equilibrium\")"
   ]
  },
  {
   "cell_type": "code",
   "execution_count": null,
   "id": "3a4df045-f2aa-4115-884a-5b8c2889b771",
   "metadata": {},
   "outputs": [],
   "source": [
    "plt.imshow(Ew.sel(band=1))\n",
    "plt.title(\"Wetting Equilibrium\")"
   ]
  },
  {
   "cell_type": "code",
   "execution_count": null,
   "id": "e01fc8cf-aad3-46da-9b33-812bd9528e2e",
   "metadata": {},
   "outputs": [],
   "source": [
    "plt.imshow(rh.sel(band=1))"
   ]
  },
  {
   "cell_type": "code",
   "execution_count": null,
   "id": "c03dcdb1-dfe1-470f-9eb0-9b008a5925d7",
   "metadata": {},
   "outputs": [],
   "source": [
    "Ed"
   ]
  },
  {
   "cell_type": "code",
   "execution_count": null,
   "id": "dbe9cf25-86ab-4de0-b956-0b0a87318ecc",
   "metadata": {},
   "outputs": [],
   "source": [
    "def get_eq_from_url(files):\n",
    "\n",
    "    # Get right bands\n",
    "    tfile = [file for file in files if \".616.tif\" in file]\n",
    "    rhfile = [file for file in files if \".620.tif\" in file]\n",
    "\n",
    "    # Data checks\n",
    "    assert len(tfile) == 1, \"More than 1 file found with band 620 (rh), this func only processes 1hr\"\n",
    "    assert len(rhfile) == 1, \"More than 1 file found with band 616 (temp), this func only processes 1hr\"\n",
    "\n",
    "    # Read Data\n",
    "    temp = rioxarray.open_rasterio(tfile)\n",
    "    rh = rioxarray.open_rasterio(rhfile)\n",
    "    assert temp.data.shape == rh.data.shape, \"Temp and RH data different shapes\"\n",
    "\n",
    "    # Convert C to K if C detected, check is whether any value is less than 150 deg. TODO: do this w metadata\n",
    "    if np.any(temp < 150):\n",
    "        temp += 273.15\n",
    "    \n",
    "    Ed = 0.924*rh**0.679 + 0.000499*np.exp(0.1*rh) + 0.18*(21.1 + 273.15 - temp)*(1 - np.exp(-0.115*rh))\n",
    "    Ew = 0.618*rh**0.753 + 0.000454*np.exp(0.1*rh) + 0.18*(21.1 + 273.15 - temp)*(1 - np.exp(-0.115*rh))\n",
    "\n",
    "    return Ed, Ew"
   ]
  },
  {
   "cell_type": "code",
   "execution_count": null,
   "id": "219bfbca-2821-40a8-ab52-40e918364ebf",
   "metadata": {},
   "outputs": [],
   "source": []
  },
  {
   "cell_type": "code",
   "execution_count": null,
   "id": "0234858b-c8b7-4764-93ba-9dfb2254de10",
   "metadata": {},
   "outputs": [],
   "source": []
  }
 ],
 "metadata": {
  "kernelspec": {
   "display_name": "Python 3 (ipykernel)",
   "language": "python",
   "name": "python3"
  },
  "language_info": {
   "codemirror_mode": {
    "name": "ipython",
    "version": 3
   },
   "file_extension": ".py",
   "mimetype": "text/x-python",
   "name": "python",
   "nbconvert_exporter": "python",
   "pygments_lexer": "ipython3",
   "version": "3.9.12"
  }
 },
 "nbformat": 4,
 "nbformat_minor": 5
}
