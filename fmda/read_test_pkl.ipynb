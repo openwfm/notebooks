{
 "cells": [
  {
   "cell_type": "code",
   "execution_count": null,
   "id": "83cc1dc4-3dcb-4325-9263-58101a3dc378",
   "metadata": {},
   "outputs": [],
   "source": [
    "from utils import print_dict_summary, print_first, str2time\n",
    "import pickle\n",
    "import os.path as osp"
   ]
  },
  {
   "cell_type": "code",
   "execution_count": null,
   "id": "89e3ab9c-dfe0-4327-9ef6-0cd6f7afe1d4",
   "metadata": {},
   "outputs": [],
   "source": [
    "file_name='test_NW_202401.pkl'\n",
    "file_dir='data'"
   ]
  },
  {
   "cell_type": "code",
   "execution_count": null,
   "id": "e0eea49b-bc80-4be0-9977-af5851d3256f",
   "metadata": {},
   "outputs": [],
   "source": [
    "file_name='test_CA_202401.pkl'\n",
    "file_dir='data'"
   ]
  },
  {
   "cell_type": "code",
   "execution_count": null,
   "id": "70e99786-05b3-47a8-b305-31571babd46b",
   "metadata": {},
   "outputs": [],
   "source": [
    "file_path = osp.join(file_dir,file_name)"
   ]
  },
  {
   "cell_type": "code",
   "execution_count": null,
   "id": "4924a95d-e735-4f2a-9102-54dd3f9b5520",
   "metadata": {},
   "outputs": [],
   "source": [
    "from moisture_rnn import pkl2train\n",
    "train = pkl2train([file_path])"
   ]
  },
  {
   "cell_type": "code",
   "execution_count": null,
   "id": "1f9c8765-a414-43a4-b2ce-9fb099f55b20",
   "metadata": {},
   "outputs": [],
   "source": [
    "type(train['CNFC1_202401']['time'][0])"
   ]
  },
  {
   "cell_type": "code",
   "execution_count": null,
   "id": "62e31f16-d887-4552-bc2b-6024992c0a0b",
   "metadata": {},
   "outputs": [],
   "source": [
    "print_dict_summary(train)"
   ]
  },
  {
   "cell_type": "code",
   "execution_count": null,
   "id": "0ea76be6-0a45-49ea-b14c-903304890a81",
   "metadata": {},
   "outputs": [],
   "source": [
    "with open(file_path, 'rb') as file:\n",
    "    dict = pickle.load(file)"
   ]
  },
  {
   "cell_type": "code",
   "execution_count": null,
   "id": "3c92d66b-6ab9-43b4-865a-7a8584e19179",
   "metadata": {},
   "outputs": [],
   "source": [
    "i=list(dict.keys())\n",
    "print_first(i)"
   ]
  },
  {
   "cell_type": "code",
   "execution_count": null,
   "id": "c65dca54-72f5-4121-9f37-89b8fa1f8351",
   "metadata": {},
   "outputs": [],
   "source": [
    "first_key = next(iter(dict))\n",
    "print(first_key)\n",
    "times=dict[first_key]['RAWS']['time']\n",
    "print_first(times)\n",
    "times=list(times)"
   ]
  },
  {
   "cell_type": "code",
   "execution_count": null,
   "id": "3fcc24dd-364a-45c1-ae41-16b0c048a9a5",
   "metadata": {},
   "outputs": [],
   "source": [
    "dict[first_key]['HRRR']['f01']['descr']"
   ]
  },
  {
   "cell_type": "code",
   "execution_count": null,
   "id": "286d472f-0805-4166-880c-5ac9fa8a61b4",
   "metadata": {},
   "outputs": [],
   "source": [
    "timed=str2time(times)\n",
    "print_first(timed)"
   ]
  },
  {
   "cell_type": "code",
   "execution_count": null,
   "id": "b5a6b407-5872-46f9-8823-25c7a9803b9b",
   "metadata": {},
   "outputs": [],
   "source": [
    "print_dict_summary(dict,print_first=['time'])"
   ]
  },
  {
   "cell_type": "code",
   "execution_count": null,
   "id": "c2d62d94-f906-4a7d-950a-b616f3b6cb55",
   "metadata": {},
   "outputs": [],
   "source": []
  },
  {
   "cell_type": "code",
   "execution_count": null,
   "id": "490e700d-30e9-4b38-993f-edd59edf6f54",
   "metadata": {},
   "outputs": [],
   "source": []
  }
 ],
 "metadata": {
  "kernelspec": {
   "display_name": "Python 3 (ipykernel)",
   "language": "python",
   "name": "python3"
  },
  "language_info": {
   "codemirror_mode": {
    "name": "ipython",
    "version": 3
   },
   "file_extension": ".py",
   "mimetype": "text/x-python",
   "name": "python",
   "nbconvert_exporter": "python",
   "pygments_lexer": "ipython3",
   "version": "3.10.9"
  }
 },
 "nbformat": 4,
 "nbformat_minor": 5
}
