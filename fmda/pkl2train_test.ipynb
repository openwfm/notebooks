{
 "cells": [
  {
   "cell_type": "code",
   "execution_count": 1,
   "id": "83cc1dc4-3dcb-4325-9263-58101a3dc378",
   "metadata": {},
   "outputs": [],
   "source": [
    "from utils import print_dict_summary, print_first, str2time\n",
    "import pickle\n",
    "import os.path as osp"
   ]
  },
  {
   "cell_type": "code",
   "execution_count": 2,
   "id": "89e3ab9c-dfe0-4327-9ef6-0cd6f7afe1d4",
   "metadata": {},
   "outputs": [],
   "source": [
    "file_name='test_NW_202401.pkl'\n",
    "file_dir='data'"
   ]
  },
  {
   "cell_type": "code",
   "execution_count": 3,
   "id": "e0eea49b-bc80-4be0-9977-af5851d3256f",
   "metadata": {},
   "outputs": [],
   "source": [
    "file_name='test_CA_202401.pkl'\n",
    "file_dir='data'"
   ]
  },
  {
   "cell_type": "code",
   "execution_count": 4,
   "id": "70e99786-05b3-47a8-b305-31571babd46b",
   "metadata": {},
   "outputs": [],
   "source": [
    "file_path = osp.join(file_dir,file_name)"
   ]
  },
  {
   "cell_type": "code",
   "execution_count": 5,
   "id": "4924a95d-e735-4f2a-9102-54dd3f9b5520",
   "metadata": {},
   "outputs": [
    {
     "name": "stderr",
     "output_type": "stream",
     "text": [
      "2024-04-14 13:07:19.361870: I tensorflow/core/platform/cpu_feature_guard.cc:193] This TensorFlow binary is optimized with oneAPI Deep Neural Network Library (oneDNN) to use the following CPU instructions in performance-critical operations:  AVX2 FMA\n",
      "To enable them in other operations, rebuild TensorFlow with the appropriate compiler flags.\n"
     ]
    },
    {
     "ename": "AttributeError",
     "evalue": "'numpy.datetime64' object has no attribute 'timestamp'",
     "output_type": "error",
     "traceback": [
      "\u001b[0;31m---------------------------------------------------------------------------\u001b[0m",
      "\u001b[0;31mAttributeError\u001b[0m                            Traceback (most recent call last)",
      "Cell \u001b[0;32mIn[5], line 2\u001b[0m\n\u001b[1;32m      1\u001b[0m \u001b[38;5;28;01mfrom\u001b[39;00m \u001b[38;5;21;01mmoisture_rnn\u001b[39;00m \u001b[38;5;28;01mimport\u001b[39;00m pkl2train\n\u001b[0;32m----> 2\u001b[0m train \u001b[38;5;241m=\u001b[39m \u001b[43mpkl2train\u001b[49m\u001b[43m(\u001b[49m\u001b[43m[\u001b[49m\u001b[43mfile_path\u001b[49m\u001b[43m]\u001b[49m\u001b[43m)\u001b[49m\n",
      "File \u001b[0;32m~/Projects/fmda/notebooks/fmda/moisture_rnn.py:290\u001b[0m, in \u001b[0;36mpkl2train\u001b[0;34m(file_paths, fstep, fprev)\u001b[0m\n\u001b[1;32m    288\u001b[0m             raws_time\u001b[38;5;241m=\u001b[39mstr2time(d[key][\u001b[38;5;124m'\u001b[39m\u001b[38;5;124mRAWS\u001b[39m\u001b[38;5;124m'\u001b[39m][\u001b[38;5;124m'\u001b[39m\u001b[38;5;124mtime\u001b[39m\u001b[38;5;124m'\u001b[39m]) \u001b[38;5;66;03m# may not be the same as HRRR\u001b[39;00m\n\u001b[1;32m    289\u001b[0m             \u001b[38;5;66;03m# interpolate RAWS sensors to HRRR time and over NaNs\u001b[39;00m\n\u001b[0;32m--> 290\u001b[0m             train[key][\u001b[38;5;124m'\u001b[39m\u001b[38;5;124mY\u001b[39m\u001b[38;5;124m'\u001b[39m] \u001b[38;5;241m=\u001b[39m \u001b[43mtime_intp\u001b[49m\u001b[43m(\u001b[49m\u001b[43mraws_time\u001b[49m\u001b[43m,\u001b[49m\u001b[43md\u001b[49m\u001b[43m[\u001b[49m\u001b[43mkey\u001b[49m\u001b[43m]\u001b[49m\u001b[43m[\u001b[49m\u001b[38;5;124;43m'\u001b[39;49m\u001b[38;5;124;43mRAWS\u001b[39;49m\u001b[38;5;124;43m'\u001b[39;49m\u001b[43m]\u001b[49m\u001b[43m[\u001b[49m\u001b[38;5;124;43m'\u001b[39;49m\u001b[38;5;124;43mfm\u001b[39;49m\u001b[38;5;124;43m'\u001b[39;49m\u001b[43m]\u001b[49m\u001b[43m,\u001b[49m\u001b[43mhrrr_time\u001b[49m\u001b[43m)\u001b[49m\n\u001b[1;32m    292\u001b[0m \u001b[38;5;28;01mreturn\u001b[39;00m train\n",
      "File \u001b[0;32m~/Projects/fmda/notebooks/fmda/utils.py:170\u001b[0m, in \u001b[0;36mtime_intp\u001b[0;34m(t1, v1, t2)\u001b[0m\n\u001b[1;32m    167\u001b[0m t1_no_nan, v1_no_nan \u001b[38;5;241m=\u001b[39m filter_nan_values(t1, v1)\n\u001b[1;32m    169\u001b[0m \u001b[38;5;66;03m# Convert datetime objects to timestamps\u001b[39;00m\n\u001b[0;32m--> 170\u001b[0m t1_stamps \u001b[38;5;241m=\u001b[39m np\u001b[38;5;241m.\u001b[39marray([t\u001b[38;5;241m.\u001b[39mtimestamp() \u001b[38;5;28;01mfor\u001b[39;00m t \u001b[38;5;129;01min\u001b[39;00m t1_no_nan])\n\u001b[1;32m    171\u001b[0m t2_stamps \u001b[38;5;241m=\u001b[39m np\u001b[38;5;241m.\u001b[39marray([t\u001b[38;5;241m.\u001b[39mtimestamp() \u001b[38;5;28;01mfor\u001b[39;00m t \u001b[38;5;129;01min\u001b[39;00m t2])\n\u001b[1;32m    173\u001b[0m \u001b[38;5;66;03m# Interpolate using the filtered data\u001b[39;00m\n",
      "File \u001b[0;32m~/Projects/fmda/notebooks/fmda/utils.py:170\u001b[0m, in \u001b[0;36m<listcomp>\u001b[0;34m(.0)\u001b[0m\n\u001b[1;32m    167\u001b[0m t1_no_nan, v1_no_nan \u001b[38;5;241m=\u001b[39m filter_nan_values(t1, v1)\n\u001b[1;32m    169\u001b[0m \u001b[38;5;66;03m# Convert datetime objects to timestamps\u001b[39;00m\n\u001b[0;32m--> 170\u001b[0m t1_stamps \u001b[38;5;241m=\u001b[39m np\u001b[38;5;241m.\u001b[39marray([\u001b[43mt\u001b[49m\u001b[38;5;241;43m.\u001b[39;49m\u001b[43mtimestamp\u001b[49m() \u001b[38;5;28;01mfor\u001b[39;00m t \u001b[38;5;129;01min\u001b[39;00m t1_no_nan])\n\u001b[1;32m    171\u001b[0m t2_stamps \u001b[38;5;241m=\u001b[39m np\u001b[38;5;241m.\u001b[39marray([t\u001b[38;5;241m.\u001b[39mtimestamp() \u001b[38;5;28;01mfor\u001b[39;00m t \u001b[38;5;129;01min\u001b[39;00m t2])\n\u001b[1;32m    173\u001b[0m \u001b[38;5;66;03m# Interpolate using the filtered data\u001b[39;00m\n",
      "\u001b[0;31mAttributeError\u001b[0m: 'numpy.datetime64' object has no attribute 'timestamp'"
     ]
    }
   ],
   "source": [
    "from moisture_rnn import pkl2train\n",
    "train = pkl2train([file_path])"
   ]
  },
  {
   "cell_type": "code",
   "execution_count": null,
   "id": "1f9c8765-a414-43a4-b2ce-9fb099f55b20",
   "metadata": {},
   "outputs": [],
   "source": [
    "type(train['CNFC1_202401']['time'][0])"
   ]
  },
  {
   "cell_type": "code",
   "execution_count": null,
   "id": "62e31f16-d887-4552-bc2b-6024992c0a0b",
   "metadata": {},
   "outputs": [],
   "source": [
    "print_dict_summary(train)"
   ]
  },
  {
   "cell_type": "code",
   "execution_count": null,
   "id": "0ea76be6-0a45-49ea-b14c-903304890a81",
   "metadata": {},
   "outputs": [],
   "source": [
    "with open(file_path, 'rb') as file:\n",
    "    dict = pickle.load(file)"
   ]
  },
  {
   "cell_type": "code",
   "execution_count": null,
   "id": "3c92d66b-6ab9-43b4-865a-7a8584e19179",
   "metadata": {},
   "outputs": [],
   "source": [
    "i=list(dict.keys())\n",
    "print_first(i)"
   ]
  },
  {
   "cell_type": "code",
   "execution_count": null,
   "id": "c65dca54-72f5-4121-9f37-89b8fa1f8351",
   "metadata": {},
   "outputs": [],
   "source": [
    "first_key = next(iter(dict))\n",
    "print(first_key)\n",
    "times=dict[first_key]['RAWS']['time']\n",
    "print_first(times)\n",
    "times=list(times)"
   ]
  },
  {
   "cell_type": "code",
   "execution_count": null,
   "id": "3fcc24dd-364a-45c1-ae41-16b0c048a9a5",
   "metadata": {},
   "outputs": [],
   "source": [
    "dict[first_key]['HRRR']['f01']['descr']"
   ]
  },
  {
   "cell_type": "code",
   "execution_count": null,
   "id": "286d472f-0805-4166-880c-5ac9fa8a61b4",
   "metadata": {},
   "outputs": [],
   "source": [
    "timed=str2time(times)\n",
    "print_first(timed)"
   ]
  },
  {
   "cell_type": "code",
   "execution_count": null,
   "id": "b5a6b407-5872-46f9-8823-25c7a9803b9b",
   "metadata": {},
   "outputs": [],
   "source": [
    "print_dict_summary(dict,print_first=['time'])"
   ]
  },
  {
   "cell_type": "code",
   "execution_count": null,
   "id": "c2d62d94-f906-4a7d-950a-b616f3b6cb55",
   "metadata": {},
   "outputs": [],
   "source": []
  },
  {
   "cell_type": "code",
   "execution_count": null,
   "id": "490e700d-30e9-4b38-993f-edd59edf6f54",
   "metadata": {},
   "outputs": [],
   "source": []
  },
  {
   "cell_type": "code",
   "execution_count": null,
   "id": "2e876b3e-3839-4912-bf63-d56b8ea66b14",
   "metadata": {},
   "outputs": [],
   "source": []
  }
 ],
 "metadata": {
  "kernelspec": {
   "display_name": "Python 3 (ipykernel)",
   "language": "python",
   "name": "python3"
  },
  "language_info": {
   "codemirror_mode": {
    "name": "ipython",
    "version": 3
   },
   "file_extension": ".py",
   "mimetype": "text/x-python",
   "name": "python",
   "nbconvert_exporter": "python",
   "pygments_lexer": "ipython3",
   "version": "3.10.9"
  }
 },
 "nbformat": 4,
 "nbformat_minor": 5
}
