{
 "cells": [
  {
   "cell_type": "markdown",
   "id": "a2442d5d-ad18-422a-8972-ac877a5d7772",
   "metadata": {},
   "source": [
    "# Results Analysis"
   ]
  },
  {
   "cell_type": "markdown",
   "id": "b121638e-72c5-4199-b076-5040b30e521e",
   "metadata": {},
   "source": [
    "The purpose of this notebook is to analyze the results from the RNN training experiments.\n",
    "\n",
    "Unless otherwise stated, we will refer to the trained RNN as \"the RNN\". All validation numbers are RMSE."
   ]
  },
  {
   "cell_type": "markdown",
   "id": "b9fcba93-c2ae-4838-a867-c803b9674d43",
   "metadata": {},
   "source": [
    "## Environment Setup"
   ]
  },
  {
   "cell_type": "code",
   "execution_count": null,
   "id": "0c97b226-a139-48aa-9491-7b2a2240f8e4",
   "metadata": {},
   "outputs": [],
   "source": [
    "import sys\n",
    "sys.path.append('..')"
   ]
  },
  {
   "cell_type": "code",
   "execution_count": null,
   "id": "a9a5579c-007b-49fd-a022-0463f430a854",
   "metadata": {},
   "outputs": [],
   "source": [
    "import numpy as np\n",
    "import matplotlib.pyplot as plt\n",
    "import pandas as pd\n",
    "import seaborn as sns\n",
    "\n",
    "from data_funcs import from_json"
   ]
  },
  {
   "cell_type": "code",
   "execution_count": null,
   "id": "1693cc97-a154-4a1f-8dbb-724b4669abb7",
   "metadata": {},
   "outputs": [],
   "source": [
    "results = from_json(\"../outputs/output_FMR.json\")"
   ]
  },
  {
   "cell_type": "markdown",
   "id": "adef561c-e182-4aa8-ab5a-a55a3a9a91c6",
   "metadata": {},
   "source": [
    "## Control Case\n",
    "\n",
    "Case 11 with param set 0 was the reproducibility case."
   ]
  },
  {
   "cell_type": "code",
   "execution_count": null,
   "id": "4031235e-b679-46f2-984a-9529167c3137",
   "metadata": {},
   "outputs": [],
   "source": [
    "pd.DataFrame(results['0']['cases']['case11'])"
   ]
  },
  {
   "cell_type": "markdown",
   "id": "628d1153-b085-42cd-be06-e1a73b3b539a",
   "metadata": {},
   "source": [
    "The RNN outperforms the KF in this case. Note the prediction RMSE is lower than the training RMSE for the RNN, indicating there are not signs of overfitting. The KF, by contrast, has very low training error but a prediction error over 3x larger."
   ]
  },
  {
   "cell_type": "markdown",
   "id": "220ea3e3-f266-4ec5-9738-9f9fb212524f",
   "metadata": {},
   "source": [
    "## Summarise Results\n",
    "\n",
    "### Param Set Descriptions"
   ]
  },
  {
   "cell_type": "code",
   "execution_count": null,
   "id": "ea73ac10-7b75-4819-a4e5-78195cfc1655",
   "metadata": {},
   "outputs": [],
   "source": [
    "for i in range(1, len(results)):\n",
    "    print('~'*50)\n",
    "    print(f\"Param Set {i}\")\n",
    "    print(f\"Activation: {results[str(i)]['params']['activation']}\")\n",
    "    print(f\"FM Increase: {results[str(i)]['params']['fm_raise_vs_rain']}\")"
   ]
  },
  {
   "cell_type": "markdown",
   "id": "53b80168-c2a7-4202-bb17-36703523766d",
   "metadata": {},
   "source": [
    "### Extract Results\n",
    "\n",
    "Excluding param set 0, as that was only run on case 11."
   ]
  },
  {
   "cell_type": "markdown",
   "id": "5fc6c35c-490f-4c33-9f9a-4d3a6d0136b9",
   "metadata": {},
   "source": [
    "We summarise the RMSE for the param sets:"
   ]
  },
  {
   "cell_type": "code",
   "execution_count": null,
   "id": "8edad271-93a0-4fb4-991e-b0d71096a449",
   "metadata": {},
   "outputs": [],
   "source": [
    "pd.DataFrame(results[str(1)]['cases']['WLCC2_202305010000'])"
   ]
  },
  {
   "cell_type": "markdown",
   "id": "cb62add6-6f16-4e19-97b3-b5e285cfc928",
   "metadata": {},
   "source": [
    "We next build a long-format dataframe with all of the results from the results dictionary. For each param set and model there are 3 time periods."
   ]
  },
  {
   "cell_type": "code",
   "execution_count": null,
   "id": "50d8743d-790d-4d73-9a9e-b641f1fb105a",
   "metadata": {},
   "outputs": [],
   "source": [
    "df = pd.DataFrame(columns=['Period', 'Case', 'RMSE', 'Model'])\n",
    "for i in range(1, len(results)):\n",
    "    for case in results[str(i)]['cases']:\n",
    "        df_temp = pd.DataFrame(results[str(i)]['cases'][case])\n",
    "        df_temp=df_temp.rename_axis(\"Period\").reset_index()\n",
    "        df_temp['Case']=np.repeat(case, 3)\n",
    "        df_temp['param_set']=np.repeat(int(i), 3)\n",
    "        df_temp=pd.melt(df_temp, id_vars=['Period', 'Case', 'param_set'], value_vars=['RNN initial', 'RNN trained'],\n",
    "                     var_name='Model', value_name='RMSE')\n",
    "        df = pd.concat((df, df_temp))\n",
    "\n",
    "df"
   ]
  },
  {
   "cell_type": "markdown",
   "id": "a738a933-e880-412c-ba0f-75f0f7548d9d",
   "metadata": {},
   "source": [
    "### Results by Param Set\n",
    "\n",
    "Excluding RNN initial."
   ]
  },
  {
   "cell_type": "code",
   "execution_count": null,
   "id": "6be03ccb-02e8-412d-803d-113a46cee9d6",
   "metadata": {
    "scrolled": true
   },
   "outputs": [],
   "source": [
    "df2 = df[df.Model != 'RNN initial']\n",
    "sns.boxplot(\n",
    "    x=df2['param_set'],\n",
    "    y=df2['RMSE'],\n",
    "    hue=df2['Period']\n",
    ").set_title('Results by Param Set')"
   ]
  },
  {
   "cell_type": "markdown",
   "id": "6fbae04c-5d11-496f-925b-8562d71372ac",
   "metadata": {},
   "source": [
    "Print the group means for trained RNNs."
   ]
  },
  {
   "cell_type": "code",
   "execution_count": null,
   "id": "7a576d0b-d287-44f7-ad7c-94d11697aa01",
   "metadata": {},
   "outputs": [],
   "source": [
    "df2 = df[df.Model != 'RNN initial']\n",
    "# Group by 'param_set' and 'Period' and calculate the mean of 'RMSE'\n",
    "grouped_df = df2.groupby(['param_set', 'Period'])['RMSE'].mean().reset_index()\n",
    "\n",
    "# Reshape the DataFrame using pivot_table\n",
    "pivot_df = grouped_df.pivot_table(index='param_set', columns='Period', values='RMSE').reset_index()\n",
    "\n",
    "# Optional: Rename columns if needed\n",
    "pivot_df.columns.name = None  # Remove the 'Period' name from the columns\n",
    "pivot_df.columns = ['param_set'] + [f'RMSE_{period}' for period in pivot_df.columns[1:]]\n",
    "pivot_df"
   ]
  },
  {
   "cell_type": "code",
   "execution_count": null,
   "id": "63dd4ec8-55ab-4a50-83e4-f801a9135f78",
   "metadata": {},
   "outputs": [],
   "source": []
  }
 ],
 "metadata": {
  "kernelspec": {
   "display_name": "Python 3 (ipykernel)",
   "language": "python",
   "name": "python3"
  },
  "language_info": {
   "codemirror_mode": {
    "name": "ipython",
    "version": 3
   },
   "file_extension": ".py",
   "mimetype": "text/x-python",
   "name": "python",
   "nbconvert_exporter": "python",
   "pygments_lexer": "ipython3",
   "version": "3.9.12"
  }
 },
 "nbformat": 4,
 "nbformat_minor": 5
}
