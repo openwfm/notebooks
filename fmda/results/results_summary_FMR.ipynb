{
 "cells": [
  {
   "cell_type": "markdown",
   "id": "a2442d5d-ad18-422a-8972-ac877a5d7772",
   "metadata": {},
   "source": [
    "# Results Analysis"
   ]
  },
  {
   "cell_type": "markdown",
   "id": "b121638e-72c5-4199-b076-5040b30e521e",
   "metadata": {},
   "source": [
    "The purpose of this notebook is to analyze the results from the RNN training experiments.\n",
    "\n",
    "Unless otherwise stated, we will refer to the trained RNN as \"the RNN\". All validation numbers are RMSE."
   ]
  },
  {
   "cell_type": "markdown",
   "id": "b9fcba93-c2ae-4838-a867-c803b9674d43",
   "metadata": {},
   "source": [
    "## Environment Setup"
   ]
  },
  {
   "cell_type": "code",
   "execution_count": 1,
   "id": "0c97b226-a139-48aa-9491-7b2a2240f8e4",
   "metadata": {},
   "outputs": [],
   "source": [
    "import sys\n",
    "sys.path.append('..')"
   ]
  },
  {
   "cell_type": "code",
   "execution_count": 2,
   "id": "a9a5579c-007b-49fd-a022-0463f430a854",
   "metadata": {},
   "outputs": [
    {
     "name": "stderr",
     "output_type": "stream",
     "text": [
      "C:\\Users\\jhirs\\anaconda3\\lib\\site-packages\\requests\\__init__.py:109: RequestsDependencyWarning: urllib3 (1.26.15) or chardet (5.1.0)/charset_normalizer (2.0.12) doesn't match a supported version!\n",
      "  warnings.warn(\n"
     ]
    }
   ],
   "source": [
    "import numpy as np\n",
    "import matplotlib.pyplot as plt\n",
    "import pandas as pd\n",
    "import seaborn as sns\n",
    "\n",
    "from data_funcs import from_json"
   ]
  },
  {
   "cell_type": "code",
   "execution_count": 3,
   "id": "1693cc97-a154-4a1f-8dbb-724b4669abb7",
   "metadata": {},
   "outputs": [
    {
     "name": "stdout",
     "output_type": "stream",
     "text": [
      "reading  ../outputs/output_FMR.json\n",
      "Hash:  29921943744713725\n"
     ]
    }
   ],
   "source": [
    "results = from_json(\"../outputs/output_FMR.json\")"
   ]
  },
  {
   "cell_type": "markdown",
   "id": "adef561c-e182-4aa8-ab5a-a55a3a9a91c6",
   "metadata": {},
   "source": [
    "## Control Case\n",
    "\n",
    "Case 11 with param set 0 was the reproducibility case."
   ]
  },
  {
   "cell_type": "code",
   "execution_count": 4,
   "id": "4031235e-b679-46f2-984a-9529167c3137",
   "metadata": {},
   "outputs": [
    {
     "data": {
      "text/html": [
       "<div>\n",
       "<style scoped>\n",
       "    .dataframe tbody tr th:only-of-type {\n",
       "        vertical-align: middle;\n",
       "    }\n",
       "\n",
       "    .dataframe tbody tr th {\n",
       "        vertical-align: top;\n",
       "    }\n",
       "\n",
       "    .dataframe thead th {\n",
       "        text-align: right;\n",
       "    }\n",
       "</style>\n",
       "<table border=\"1\" class=\"dataframe\">\n",
       "  <thead>\n",
       "    <tr style=\"text-align: right;\">\n",
       "      <th></th>\n",
       "      <th>RNN initial</th>\n",
       "      <th>RNN trained</th>\n",
       "    </tr>\n",
       "  </thead>\n",
       "  <tbody>\n",
       "    <tr>\n",
       "      <th>all</th>\n",
       "      <td>1.498349</td>\n",
       "      <td>0.757118</td>\n",
       "    </tr>\n",
       "    <tr>\n",
       "      <th>predict</th>\n",
       "      <td>1.583437</td>\n",
       "      <td>0.732981</td>\n",
       "    </tr>\n",
       "    <tr>\n",
       "      <th>train</th>\n",
       "      <td>1.326955</td>\n",
       "      <td>0.799778</td>\n",
       "    </tr>\n",
       "  </tbody>\n",
       "</table>\n",
       "</div>"
      ],
      "text/plain": [
       "         RNN initial  RNN trained\n",
       "all         1.498349     0.757118\n",
       "predict     1.583437     0.732981\n",
       "train       1.326955     0.799778"
      ]
     },
     "execution_count": 4,
     "metadata": {},
     "output_type": "execute_result"
    }
   ],
   "source": [
    "pd.DataFrame(results['0']['cases']['case11'])"
   ]
  },
  {
   "cell_type": "markdown",
   "id": "628d1153-b085-42cd-be06-e1a73b3b539a",
   "metadata": {},
   "source": [
    "The RNN outperforms the KF in this case. Note the prediction RMSE is lower than the training RMSE for the RNN, indicating there are not signs of overfitting. The KF, by contrast, has very low training error but a prediction error over 3x larger."
   ]
  },
  {
   "cell_type": "markdown",
   "id": "220ea3e3-f266-4ec5-9738-9f9fb212524f",
   "metadata": {},
   "source": [
    "## Summarise Results\n",
    "\n",
    "### Param Set Descriptions"
   ]
  },
  {
   "cell_type": "code",
   "execution_count": 5,
   "id": "ea73ac10-7b75-4819-a4e5-78195cfc1655",
   "metadata": {},
   "outputs": [
    {
     "name": "stdout",
     "output_type": "stream",
     "text": [
      "~~~~~~~~~~~~~~~~~~~~~~~~~~~~~~~~~~~~~~~~~~~~~~~~~~\n",
      "Param Set 1\n",
      "Activation: ['linear', 'linear']\n",
      "FM Increase: 2.0\n",
      "~~~~~~~~~~~~~~~~~~~~~~~~~~~~~~~~~~~~~~~~~~~~~~~~~~\n",
      "Param Set 2\n",
      "Activation: ['linear', 'linear']\n",
      "FM Increase: 0.1\n",
      "~~~~~~~~~~~~~~~~~~~~~~~~~~~~~~~~~~~~~~~~~~~~~~~~~~\n",
      "Param Set 3\n",
      "Activation: ['tanh', 'tanh']\n",
      "FM Increase: 2.0\n",
      "~~~~~~~~~~~~~~~~~~~~~~~~~~~~~~~~~~~~~~~~~~~~~~~~~~\n",
      "Param Set 4\n",
      "Activation: ['tanh', 'tanh']\n",
      "FM Increase: 0.1\n"
     ]
    }
   ],
   "source": [
    "for i in range(1, len(results)):\n",
    "    print('~'*50)\n",
    "    print(f\"Param Set {i}\")\n",
    "    print(f\"Activation: {results[str(i)]['params']['activation']}\")\n",
    "    print(f\"FM Increase: {results[str(i)]['params']['fm_raise_vs_rain']}\")"
   ]
  },
  {
   "cell_type": "markdown",
   "id": "53b80168-c2a7-4202-bb17-36703523766d",
   "metadata": {},
   "source": [
    "### Extract Results\n",
    "\n",
    "Excluding param set 0, as that was only run on case 11."
   ]
  },
  {
   "cell_type": "markdown",
   "id": "5fc6c35c-490f-4c33-9f9a-4d3a6d0136b9",
   "metadata": {},
   "source": [
    "We summarise the RMSE for the param sets:"
   ]
  },
  {
   "cell_type": "code",
   "execution_count": 6,
   "id": "8edad271-93a0-4fb4-991e-b0d71096a449",
   "metadata": {},
   "outputs": [
    {
     "data": {
      "text/html": [
       "<div>\n",
       "<style scoped>\n",
       "    .dataframe tbody tr th:only-of-type {\n",
       "        vertical-align: middle;\n",
       "    }\n",
       "\n",
       "    .dataframe tbody tr th {\n",
       "        vertical-align: top;\n",
       "    }\n",
       "\n",
       "    .dataframe thead th {\n",
       "        text-align: right;\n",
       "    }\n",
       "</style>\n",
       "<table border=\"1\" class=\"dataframe\">\n",
       "  <thead>\n",
       "    <tr style=\"text-align: right;\">\n",
       "      <th></th>\n",
       "      <th>RNN initial</th>\n",
       "      <th>RNN trained</th>\n",
       "    </tr>\n",
       "  </thead>\n",
       "  <tbody>\n",
       "    <tr>\n",
       "      <th>all</th>\n",
       "      <td>164.028464</td>\n",
       "      <td>6.151124</td>\n",
       "    </tr>\n",
       "    <tr>\n",
       "      <th>predict</th>\n",
       "      <td>144.227007</td>\n",
       "      <td>6.754375</td>\n",
       "    </tr>\n",
       "    <tr>\n",
       "      <th>train</th>\n",
       "      <td>181.731380</td>\n",
       "      <td>5.479902</td>\n",
       "    </tr>\n",
       "  </tbody>\n",
       "</table>\n",
       "</div>"
      ],
      "text/plain": [
       "         RNN initial  RNN trained\n",
       "all       164.028464     6.151124\n",
       "predict   144.227007     6.754375\n",
       "train     181.731380     5.479902"
      ]
     },
     "execution_count": 6,
     "metadata": {},
     "output_type": "execute_result"
    }
   ],
   "source": [
    "pd.DataFrame(results[str(1)]['cases']['WLCC2_202305010000'])"
   ]
  },
  {
   "cell_type": "markdown",
   "id": "cb62add6-6f16-4e19-97b3-b5e285cfc928",
   "metadata": {},
   "source": [
    "We next build a long-format dataframe with all of the results from the results dictionary. For each param set and model there are 3 time periods."
   ]
  },
  {
   "cell_type": "code",
   "execution_count": 7,
   "id": "50d8743d-790d-4d73-9a9e-b641f1fb105a",
   "metadata": {},
   "outputs": [
    {
     "data": {
      "text/html": [
       "<div>\n",
       "<style scoped>\n",
       "    .dataframe tbody tr th:only-of-type {\n",
       "        vertical-align: middle;\n",
       "    }\n",
       "\n",
       "    .dataframe tbody tr th {\n",
       "        vertical-align: top;\n",
       "    }\n",
       "\n",
       "    .dataframe thead th {\n",
       "        text-align: right;\n",
       "    }\n",
       "</style>\n",
       "<table border=\"1\" class=\"dataframe\">\n",
       "  <thead>\n",
       "    <tr style=\"text-align: right;\">\n",
       "      <th></th>\n",
       "      <th>Period</th>\n",
       "      <th>Case</th>\n",
       "      <th>RMSE</th>\n",
       "      <th>Model</th>\n",
       "      <th>param_set</th>\n",
       "    </tr>\n",
       "  </thead>\n",
       "  <tbody>\n",
       "    <tr>\n",
       "      <th>0</th>\n",
       "      <td>all</td>\n",
       "      <td>AENC2_202305010000</td>\n",
       "      <td>183.857051</td>\n",
       "      <td>RNN initial</td>\n",
       "      <td>1.0</td>\n",
       "    </tr>\n",
       "    <tr>\n",
       "      <th>1</th>\n",
       "      <td>predict</td>\n",
       "      <td>AENC2_202305010000</td>\n",
       "      <td>54.947229</td>\n",
       "      <td>RNN initial</td>\n",
       "      <td>1.0</td>\n",
       "    </tr>\n",
       "    <tr>\n",
       "      <th>2</th>\n",
       "      <td>train</td>\n",
       "      <td>AENC2_202305010000</td>\n",
       "      <td>254.310090</td>\n",
       "      <td>RNN initial</td>\n",
       "      <td>1.0</td>\n",
       "    </tr>\n",
       "    <tr>\n",
       "      <th>3</th>\n",
       "      <td>all</td>\n",
       "      <td>AENC2_202305010000</td>\n",
       "      <td>5.972946</td>\n",
       "      <td>RNN trained</td>\n",
       "      <td>1.0</td>\n",
       "    </tr>\n",
       "    <tr>\n",
       "      <th>4</th>\n",
       "      <td>predict</td>\n",
       "      <td>AENC2_202305010000</td>\n",
       "      <td>6.439739</td>\n",
       "      <td>RNN trained</td>\n",
       "      <td>1.0</td>\n",
       "    </tr>\n",
       "    <tr>\n",
       "      <th>...</th>\n",
       "      <td>...</td>\n",
       "      <td>...</td>\n",
       "      <td>...</td>\n",
       "      <td>...</td>\n",
       "      <td>...</td>\n",
       "    </tr>\n",
       "    <tr>\n",
       "      <th>1</th>\n",
       "      <td>predict</td>\n",
       "      <td>WLCC2_202305010000</td>\n",
       "      <td>6.884011</td>\n",
       "      <td>RNN initial</td>\n",
       "      <td>4.0</td>\n",
       "    </tr>\n",
       "    <tr>\n",
       "      <th>2</th>\n",
       "      <td>train</td>\n",
       "      <td>WLCC2_202305010000</td>\n",
       "      <td>4.951584</td>\n",
       "      <td>RNN initial</td>\n",
       "      <td>4.0</td>\n",
       "    </tr>\n",
       "    <tr>\n",
       "      <th>3</th>\n",
       "      <td>all</td>\n",
       "      <td>WLCC2_202305010000</td>\n",
       "      <td>2.856659</td>\n",
       "      <td>RNN trained</td>\n",
       "      <td>4.0</td>\n",
       "    </tr>\n",
       "    <tr>\n",
       "      <th>4</th>\n",
       "      <td>predict</td>\n",
       "      <td>WLCC2_202305010000</td>\n",
       "      <td>3.311661</td>\n",
       "      <td>RNN trained</td>\n",
       "      <td>4.0</td>\n",
       "    </tr>\n",
       "    <tr>\n",
       "      <th>5</th>\n",
       "      <td>train</td>\n",
       "      <td>WLCC2_202305010000</td>\n",
       "      <td>2.312156</td>\n",
       "      <td>RNN trained</td>\n",
       "      <td>4.0</td>\n",
       "    </tr>\n",
       "  </tbody>\n",
       "</table>\n",
       "<p>1008 rows × 5 columns</p>\n",
       "</div>"
      ],
      "text/plain": [
       "     Period                Case        RMSE        Model  param_set\n",
       "0       all  AENC2_202305010000  183.857051  RNN initial        1.0\n",
       "1   predict  AENC2_202305010000   54.947229  RNN initial        1.0\n",
       "2     train  AENC2_202305010000  254.310090  RNN initial        1.0\n",
       "3       all  AENC2_202305010000    5.972946  RNN trained        1.0\n",
       "4   predict  AENC2_202305010000    6.439739  RNN trained        1.0\n",
       "..      ...                 ...         ...          ...        ...\n",
       "1   predict  WLCC2_202305010000    6.884011  RNN initial        4.0\n",
       "2     train  WLCC2_202305010000    4.951584  RNN initial        4.0\n",
       "3       all  WLCC2_202305010000    2.856659  RNN trained        4.0\n",
       "4   predict  WLCC2_202305010000    3.311661  RNN trained        4.0\n",
       "5     train  WLCC2_202305010000    2.312156  RNN trained        4.0\n",
       "\n",
       "[1008 rows x 5 columns]"
      ]
     },
     "execution_count": 7,
     "metadata": {},
     "output_type": "execute_result"
    }
   ],
   "source": [
    "df = pd.DataFrame(columns=['Period', 'Case', 'RMSE', 'Model'])\n",
    "for i in range(1, len(results)):\n",
    "    for case in results[str(i)]['cases']:\n",
    "        df_temp = pd.DataFrame(results[str(i)]['cases'][case])\n",
    "        df_temp=df_temp.rename_axis(\"Period\").reset_index()\n",
    "        df_temp['Case']=np.repeat(case, 3)\n",
    "        df_temp['param_set']=np.repeat(int(i), 3)\n",
    "        df_temp=pd.melt(df_temp, id_vars=['Period', 'Case', 'param_set'], value_vars=['RNN initial', 'RNN trained'],\n",
    "                     var_name='Model', value_name='RMSE')\n",
    "        df = pd.concat((df, df_temp))\n",
    "\n",
    "df"
   ]
  },
  {
   "cell_type": "markdown",
   "id": "a738a933-e880-412c-ba0f-75f0f7548d9d",
   "metadata": {},
   "source": [
    "### Results by Param Set\n",
    "\n",
    "Excluding RNN initial."
   ]
  },
  {
   "cell_type": "code",
   "execution_count": 8,
   "id": "6be03ccb-02e8-412d-803d-113a46cee9d6",
   "metadata": {
    "scrolled": true
   },
   "outputs": [
    {
     "data": {
      "text/plain": [
       "Text(0.5, 1.0, 'Results by Param Set')"
      ]
     },
     "execution_count": 8,
     "metadata": {},
     "output_type": "execute_result"
    },
    {
     "data": {
      "image/png": "[encoded data removed]",
      "text/plain": [
       "<Figure size 640x480 with 1 Axes>"
      ]
     },
     "metadata": {},
     "output_type": "display_data"
    }
   ],
   "source": [
    "df2 = df[df.Model != 'RNN initial']\n",
    "sns.boxplot(\n",
    "    x=df2['param_set'],\n",
    "    y=df2['RMSE'],\n",
    "    hue=df2['Period']\n",
    ").set_title('Results by Param Set')"
   ]
  },
  {
   "cell_type": "code",
   "execution_count": 9,
   "id": "7b7d3932-e426-4907-9ffc-282205e0687a",
   "metadata": {},
   "outputs": [
    {
     "data": {
      "text/plain": [
       "Text(0.5, 1.0, 'Results by Param Set')"
      ]
     },
     "execution_count": 9,
     "metadata": {},
     "output_type": "execute_result"
    },
    {
     "data": {
      "image/png": "[encoded data removed]",
      "text/plain": [
       "<Figure size 640x480 with 1 Axes>"
      ]
     },
     "metadata": {},
     "output_type": "display_data"
    }
   ],
   "source": [
    "df2 = df[(df.Model != 'RNN initial')&(df.param_set != 1)]\n",
    "sns.boxplot(\n",
    "    x=df2['param_set'],\n",
    "    y=df2['RMSE'],\n",
    "    hue=df2['Period']\n",
    ").set_title('Results by Param Set')"
   ]
  },
  {
   "cell_type": "markdown",
   "id": "6fbae04c-5d11-496f-925b-8562d71372ac",
   "metadata": {},
   "source": [
    "Print the group means for trained RNNs."
   ]
  },
  {
   "cell_type": "code",
   "execution_count": 10,
   "id": "7a576d0b-d287-44f7-ad7c-94d11697aa01",
   "metadata": {},
   "outputs": [
    {
     "data": {
      "text/html": [
       "<div>\n",
       "<style scoped>\n",
       "    .dataframe tbody tr th:only-of-type {\n",
       "        vertical-align: middle;\n",
       "    }\n",
       "\n",
       "    .dataframe tbody tr th {\n",
       "        vertical-align: top;\n",
       "    }\n",
       "\n",
       "    .dataframe thead th {\n",
       "        text-align: right;\n",
       "    }\n",
       "</style>\n",
       "<table border=\"1\" class=\"dataframe\">\n",
       "  <thead>\n",
       "    <tr style=\"text-align: right;\">\n",
       "      <th></th>\n",
       "      <th>param_set</th>\n",
       "      <th>RMSE_all</th>\n",
       "      <th>RMSE_predict</th>\n",
       "      <th>RMSE_train</th>\n",
       "    </tr>\n",
       "  </thead>\n",
       "  <tbody>\n",
       "    <tr>\n",
       "      <th>0</th>\n",
       "      <td>1.0</td>\n",
       "      <td>8.924777</td>\n",
       "      <td>11.109045</td>\n",
       "      <td>4.256886</td>\n",
       "    </tr>\n",
       "    <tr>\n",
       "      <th>1</th>\n",
       "      <td>2.0</td>\n",
       "      <td>3.845006</td>\n",
       "      <td>4.288826</td>\n",
       "      <td>3.138931</td>\n",
       "    </tr>\n",
       "    <tr>\n",
       "      <th>2</th>\n",
       "      <td>3.0</td>\n",
       "      <td>3.383975</td>\n",
       "      <td>4.116094</td>\n",
       "      <td>2.322702</td>\n",
       "    </tr>\n",
       "    <tr>\n",
       "      <th>3</th>\n",
       "      <td>4.0</td>\n",
       "      <td>3.359611</td>\n",
       "      <td>3.944977</td>\n",
       "      <td>2.516139</td>\n",
       "    </tr>\n",
       "  </tbody>\n",
       "</table>\n",
       "</div>"
      ],
      "text/plain": [
       "   param_set  RMSE_all  RMSE_predict  RMSE_train\n",
       "0        1.0  8.924777     11.109045    4.256886\n",
       "1        2.0  3.845006      4.288826    3.138931\n",
       "2        3.0  3.383975      4.116094    2.322702\n",
       "3        4.0  3.359611      3.944977    2.516139"
      ]
     },
     "execution_count": 10,
     "metadata": {},
     "output_type": "execute_result"
    }
   ],
   "source": [
    "df2 = df[df.Model != 'RNN initial']\n",
    "# Group by 'param_set' and 'Period' and calculate the mean of 'RMSE'\n",
    "grouped_df = df2.groupby(['param_set', 'Period'])['RMSE'].mean().reset_index()\n",
    "\n",
    "# Reshape the DataFrame using pivot_table\n",
    "pivot_df = grouped_df.pivot_table(index='param_set', columns='Period', values='RMSE').reset_index()\n",
    "\n",
    "# Optional: Rename columns if needed\n",
    "pivot_df.columns.name = None  # Remove the 'Period' name from the columns\n",
    "pivot_df.columns = ['param_set'] + [f'RMSE_{period}' for period in pivot_df.columns[1:]]\n",
    "pivot_df"
   ]
  },
  {
   "cell_type": "code",
   "execution_count": null,
   "id": "014081fa-9837-4c16-8a49-740c9703cba9",
   "metadata": {},
   "outputs": [],
   "source": []
  },
  {
   "cell_type": "code",
   "execution_count": null,
   "id": "4d5a968c-0b89-4f6f-955c-2fdc949617c3",
   "metadata": {},
   "outputs": [],
   "source": []
  }
 ],
 "metadata": {
  "kernelspec": {
   "display_name": "Python 3 (ipykernel)",
   "language": "python",
   "name": "python3"
  },
  "language_info": {
   "codemirror_mode": {
    "name": "ipython",
    "version": 3
   },
   "file_extension": ".py",
   "mimetype": "text/x-python",
   "name": "python",
   "nbconvert_exporter": "python",
   "pygments_lexer": "ipython3",
   "version": "3.9.12"
  }
 },
 "nbformat": 4,
 "nbformat_minor": 5
}
