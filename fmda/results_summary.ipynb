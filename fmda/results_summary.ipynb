{
 "cells": [
  {
   "cell_type": "code",
   "execution_count": null,
   "id": "af683b2e-8e70-403c-ab28-1cfdc314b4d5",
   "metadata": {},
   "outputs": [],
   "source": [
    "import pandas as pd\n",
    "from data_funcs import from_json\n",
    "import matplotlib.pyplot as plt"
   ]
  },
  {
   "cell_type": "code",
   "execution_count": null,
   "id": "365b3157-b5db-4cd1-8095-4f847f24d682",
   "metadata": {
    "scrolled": true
   },
   "outputs": [],
   "source": [
    "rnn = from_json(\"rnn_errs.json\")\n",
    "kf = from_json(\"kf_errs.json\")"
   ]
  },
  {
   "cell_type": "code",
   "execution_count": null,
   "id": "e4faafed-6678-4164-a6e3-649d01fd63c7",
   "metadata": {},
   "outputs": [],
   "source": [
    "# Remove \"filename\" key\n",
    "del rnn['filename']\n",
    "del kf['filename']"
   ]
  },
  {
   "cell_type": "code",
   "execution_count": null,
   "id": "19b9744c-a4db-4aab-a054-e402269b9f4d",
   "metadata": {},
   "outputs": [],
   "source": [
    "# Prepare lists to store the extracted values\n",
    "cases = []\n",
    "predictions = []\n",
    "\n",
    "# Iterate through the dictionary to extract the needed values\n",
    "for key, value in rnn.items():\n",
    "    cases.append(value['case'])\n",
    "    predictions.append(value['errs']['prediction'])\n",
    "\n",
    "# Create the DataFrame\n",
    "df1 = pd.DataFrame({\n",
    "    'case': cases,\n",
    "    'prediction': predictions\n",
    "})\n"
   ]
  },
  {
   "cell_type": "code",
   "execution_count": null,
   "id": "0b961e18-47c9-40a9-9b63-178d7fad27e4",
   "metadata": {},
   "outputs": [],
   "source": [
    "df1"
   ]
  },
  {
   "cell_type": "code",
   "execution_count": null,
   "id": "690b32ea-4a80-4a44-a7e6-6dd9453041dc",
   "metadata": {},
   "outputs": [],
   "source": [
    "df2 = pd.DataFrame.from_dict(kf).transpose()\n",
    "df2.head()"
   ]
  },
  {
   "cell_type": "code",
   "execution_count": null,
   "id": "6c5b2084-879d-4fb9-a25f-a57c3d239dde",
   "metadata": {},
   "outputs": [],
   "source": [
    "plt.hist(df1.prediction, label = \"RNN\")\n",
    "plt.hist(df2.errs, label = \"KF\")\n",
    "plt.legend()"
   ]
  },
  {
   "cell_type": "code",
   "execution_count": null,
   "id": "403c87cb-85c1-4059-9d9c-087d0fd33f9b",
   "metadata": {},
   "outputs": [],
   "source": [
    "print(df1.prediction.mean())\n",
    "print(df1.prediction.median())"
   ]
  },
  {
   "cell_type": "code",
   "execution_count": null,
   "id": "0a36faff-9b98-4a80-b464-0973909d5e8f",
   "metadata": {},
   "outputs": [],
   "source": [
    "print(df2.errs.mean())\n",
    "print(df2.errs.median())"
   ]
  },
  {
   "cell_type": "code",
   "execution_count": null,
   "id": "4355db09-2232-4526-ba96-42da4cd44ce3",
   "metadata": {},
   "outputs": [],
   "source": []
  },
  {
   "cell_type": "code",
   "execution_count": null,
   "id": "5b7a4469-ad9a-4b6a-8982-31873d39e43d",
   "metadata": {},
   "outputs": [],
   "source": []
  }
 ],
 "metadata": {
  "kernelspec": {
   "display_name": "Python 3 (ipykernel)",
   "language": "python",
   "name": "python3"
  },
  "language_info": {
   "codemirror_mode": {
    "name": "ipython",
    "version": 3
   },
   "file_extension": ".py",
   "mimetype": "text/x-python",
   "name": "python",
   "nbconvert_exporter": "python",
   "pygments_lexer": "ipython3",
   "version": "3.12.5"
  }
 },
 "nbformat": 4,
 "nbformat_minor": 5
}
