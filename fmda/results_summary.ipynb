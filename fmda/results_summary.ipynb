{
 "cells": [
  {
   "cell_type": "markdown",
   "id": "a2442d5d-ad18-422a-8972-ac877a5d7772",
   "metadata": {},
   "source": [
    "# Results Analysis"
   ]
  },
  {
   "cell_type": "markdown",
   "id": "b121638e-72c5-4199-b076-5040b30e521e",
   "metadata": {},
   "source": [
    "The purpose of this notebook is to analyze the results from the RNN training experiments.\n",
    "\n",
    "Unless otherwise stated, we will refer to the trained RNN as \"the RNN\". All validation numbers are RMSE."
   ]
  },
  {
   "cell_type": "markdown",
   "id": "b9fcba93-c2ae-4838-a867-c803b9674d43",
   "metadata": {},
   "source": [
    "## Environment Setup"
   ]
  },
  {
   "cell_type": "code",
   "execution_count": 1,
   "id": "a9a5579c-007b-49fd-a022-0463f430a854",
   "metadata": {},
   "outputs": [],
   "source": [
    "import numpy as np\n",
    "import matplotlib.pyplot as plt\n",
    "import pandas as pd\n",
    "import seaborn as sns\n",
    "\n",
    "from data_funcs import from_json"
   ]
  },
  {
   "cell_type": "code",
   "execution_count": 2,
   "id": "1693cc97-a154-4a1f-8dbb-724b4669abb7",
   "metadata": {},
   "outputs": [
    {
     "name": "stdout",
     "output_type": "stream",
     "text": [
      "reading  data/output.json\n",
      "filename not present\n",
      "title not present\n",
      "note not present\n",
      "hours not present\n",
      "h2 not present\n",
      "case not present\n",
      "E not present\n",
      "Ed not present\n",
      "Ew not present\n",
      "Ec not present\n",
      "rain not present\n",
      "fm not present\n",
      "m not present\n",
      "items: ['0', '1', '2', '3']\n",
      "0 = {'cases': {'case11': {'Augmented KF': {'all': 0.9061249439407393, 'predict': 1.0984268618847821, 'train': 0.33047073142627476}, 'RNN initial': {'all': 1.4983486205665615, 'predict': 1.58343693275214, 'train': 1.3269545567623797}, 'RNN trained': {'all': 0.7571178921192675, 'predict': 0.7329811098096649, 'train': 0.7997781420018454}}}, 'params': {'DeltaE': [0, -1], 'T1': 0.1, 'activation': ['linear', 'linear'], 'cases': ['case11'], 'centering': [0.0, 0.0], 'dense_layers': 1, 'dense_units': 1, 'epochs': 5000, 'fm_raise_vs_rain': 2.0, 'hidden_units': 6, 'id': 0, 'note': 'check 5 should give zero error', 'purpose': 'reproducibility', 'rain_do': False, 'scale': 0, 'synthetic': False, 'timesteps': 5, 'verbose': False, 'verbose_fit': False, 'verbose_weights': False}}   <class 'dict'>\n",
      "1 = {'cases': {'case10': {'Augmented KF': {'all': 1.124729422409734, 'predict': 1.4170835271066387, 'train': 0.72243119012905}, 'RNN initial': {'all': 30.83903197167338, 'predict': 2.894544324191159, 'train': 43.5168174279218}, 'RNN trained': {'all': 2.90253613652941, 'predict': 3.6664786293744047, 'train': 1.8456344459450627}}, 'case11': {'Augmented KF': {'all': 0.9381104126731539, 'predict': 1.2955200737612529, 'train': 0.28588464669028313}, 'RNN initial': {'all': 1.4983481199770357, 'predict': 1.3489755877288487, 'train': 1.6341233249020841}, 'RNN trained': {'all': 0.6857216221008998, 'predict': 0.6705951787400004, 'train': 0.700521514504762}}, 'case12': {'Augmented KF': {'all': 2.6575371949630515, 'predict': 3.6659602477718107, 'train': 0.8280962184317803}, 'RNN initial': {'all': 136.09524048515877, 'predict': 88.52937118059386, 'train': 170.89874020540657}, 'RNN trained': {'all': 6.09247245346906, 'predict': 6.327947991137123, 'train': 5.847522160199333}}, 'case13': {'Augmented KF': {'all': 3.5554592800141718, 'predict': 4.853275693575417, 'train': 1.3146468825611861}, 'RNN initial': {'all': 173.57453882855629, 'predict': 200.5899992054376, 'train': 141.491672114844}, 'RNN trained': {'all': 6.0775474030072925, 'predict': 6.253790490589214, 'train': 5.896038447247208}}, 'case7': {'Augmented KF': {'all': 2.0620328982815086, 'predict': 2.90447407690657, 'train': 0.26074831498632145}, 'RNN initial': {'all': 13.606716766982968, 'predict': 18.89912217076865, 'train': 3.6205888372130537}, 'RNN trained': {'all': 4.559107417552005, 'predict': 6.2597028837411575, 'train': 1.5450050798745212}}, 'case8': {'Augmented KF': {'all': 1.979731766312807, 'predict': 2.716888857723664, 'train': 0.6761587593702059}, 'RNN initial': {'all': 18.031544051061417, 'predict': 16.183832458866224, 'train': 19.70676860051096}, 'RNN trained': {'all': 3.397893271792961, 'predict': 3.5011266617718984, 'train': 3.2914236237867818}}, 'case9': {'Augmented KF': {'all': 5.574818223890552, 'predict': 7.871270021958024, 'train': 0.4475541311052057}, 'RNN initial': {'all': 24.520912753842964, 'predict': 34.044406586465804, 'train': 6.597628720878505}, 'RNN trained': {'all': 3.9772200974609704, 'predict': 5.317467465649063, 'train': 1.8333300736797589}}}, 'params': {'DeltaE': [0, -1], 'T1': 0.1, 'activation': ['linear', 'linear'], 'cases': ['case1', 'case2', 'case3', 'case4', 'case5', 'case6', 'case7', 'case8', 'case9', 'case10', 'case11', 'case12', 'case13'], 'centering': [0.0, 0.0], 'dense_layers': 1, 'dense_units': 1, 'epochs': 1000, 'fm_raise_vs_rain': 2.0, 'hidden_units': 20, 'id': 1, 'purpose': 'test 1', 'rain_do': True, 'scale': 1, 'synthetic': False, 'timesteps': 5, 'train_frac': 0.5, 'verbose': False, 'verbose_fit': False, 'verbose_weights': False}}   <class 'dict'>\n",
      "2 = {'cases': {'case10': {'Augmented KF': {'all': 1.124729422409734, 'predict': 1.4170835271066387, 'train': 0.72243119012905}, 'RNN initial': {'all': 1.8241236805991292, 'predict': 2.2133346582535807, 'train': 1.325143046926834}, 'RNN trained': {'all': 1.7253313707675098, 'predict': 2.241580863662852, 'train': 0.9637696351148917}}, 'case11': {'Augmented KF': {'all': 0.9381104126731539, 'predict': 1.2955200737612529, 'train': 0.28588464669028313}, 'RNN initial': {'all': 0.7204269522195984, 'predict': 0.5547409877209436, 'train': 0.8545714853136812}, 'RNN trained': {'all': 0.7137691212890689, 'predict': 0.6958716226224029, 'train': 0.7312286932556757}}, 'case12': {'Augmented KF': {'all': 2.6575371949630515, 'predict': 3.6659602477718107, 'train': 0.8280962184317803}, 'RNN initial': {'all': 4.01652639254004, 'predict': 4.236918906563983, 'train': 3.7833168917157978}, 'RNN trained': {'all': 1.70044457020774, 'predict': 1.8349090307421931, 'train': 1.554391302600062}}, 'case13': {'Augmented KF': {'all': 3.5554592800141718, 'predict': 4.853275693575417, 'train': 1.3146468825611861}, 'RNN initial': {'all': 5.085018608847537, 'predict': 5.065718362185419, 'train': 5.104245877665862}, 'RNN trained': {'all': 3.0150894414867015, 'predict': 3.7824821912585267, 'train': 1.9683386784649832}}, 'case7': {'Augmented KF': {'all': 2.0620328982815086, 'predict': 2.90447407690657, 'train': 0.26074831498632145}, 'RNN initial': {'all': 2.7130134887563875, 'predict': 3.350607752762744, 'train': 1.8693079113603535}, 'RNN trained': {'all': 2.6105373542787227, 'predict': 3.4590090109841256, 'train': 1.2903748362780978}}, 'case8': {'Augmented KF': {'all': 1.979731766312807, 'predict': 2.716888857723664, 'train': 0.6761587593702059}, 'RNN initial': {'all': 3.3427051891575297, 'predict': 3.066559410875619, 'train': 3.597717240530657}, 'RNN trained': {'all': 2.858883378510482, 'predict': 3.5952853032740015, 'train': 1.8494193499336447}}, 'case9': {'Augmented KF': {'all': 5.574818223890552, 'predict': 7.871270021958024, 'train': 0.4475541311052057}, 'RNN initial': {'all': 2.05550606662954, 'predict': 1.3788553990515775, 'train': 2.5590951854919344}, 'RNN trained': {'all': 1.528108555242094, 'predict': 1.469574388297838, 'train': 1.584481817651183}}}, 'params': {'DeltaE': [0, -1], 'T1': 0.1, 'activation': ['tanh', 'tanh'], 'cases': ['case1', 'case2', 'case3', 'case4', 'case5', 'case6', 'case7', 'case8', 'case9', 'case10', 'case11', 'case12', 'case13'], 'centering': [0.0, 0.0], 'dense_layers': 1, 'dense_units': 1, 'epochs': 10000, 'fm_raise_vs_rain': 2.0, 'hidden_units': 20, 'id': 2, 'purpose': 'test 2', 'rain_do': True, 'scale': 0.8, 'synthetic': False, 'timesteps': 5, 'train_frac': 0.5, 'verbose': False, 'verbose_fit': False, 'verbose_weights': False}}   <class 'dict'>\n",
      "3 = {'cases': {'case10': {'Augmented KF': {'all': 1.124729422409734, 'predict': 1.4170835271066387, 'train': 0.72243119012905}, 'RNN initial': {'all': 5.4611095383986505, 'predict': 5.484881249098956, 'train': 5.4372338982298825}, 'RNN trained': {'all': 1.7480258860971467, 'predict': 2.1256833621994904, 'train': 1.2620060382580185}}, 'case11': {'Augmented KF': {'all': 0.9381104126731539, 'predict': 1.2955200737612529, 'train': 0.28588464669028313}, 'RNN initial': {'all': 3.5281388352563785, 'predict': 3.1906189594941075, 'train': 3.8360758513101914}, 'RNN trained': {'all': 0.7260281290418216, 'predict': 0.7188808796096607, 'train': 0.7331057012815929}}, 'case12': {'Augmented KF': {'all': 2.6575371949630515, 'predict': 3.6659602477718107, 'train': 0.8280962184317803}, 'RNN initial': {'all': 13.379578506704302, 'predict': 14.295612061450944, 'train': 12.396036375496232}, 'RNN trained': {'all': 2.0977753516738646, 'predict': 2.047606613789165, 'train': 2.1467719970569035}}, 'case13': {'Augmented KF': {'all': 3.5554592800141718, 'predict': 4.853275693575417, 'train': 1.3146468825611861}, 'RNN initial': {'all': 13.710723178482063, 'predict': 14.519147995033228, 'train': 12.851544718525208}, 'RNN trained': {'all': 3.368407869589946, 'predict': 3.9731334646394365, 'train': 2.6280322722510827}}, 'case7': {'Augmented KF': {'all': 2.0620328982815086, 'predict': 2.90447407690657, 'train': 0.26074831498632145}, 'RNN initial': {'all': 6.253654488070941, 'predict': 7.555951002516959, 'train': 4.596084568401956}, 'RNN trained': {'all': 2.8354490306075166, 'predict': 3.778795896209985, 'train': 1.3417317113092282}}, 'case8': {'Augmented KF': {'all': 1.979731766312807, 'predict': 2.716888857723664, 'train': 0.6761587593702059}, 'RNN initial': {'all': 8.19491101004976, 'predict': 7.752734780211848, 'train': 8.614420256347092}, 'RNN trained': {'all': 2.0057793895589744, 'predict': 1.9811748191878462, 'train': 2.030085775275308}}, 'case9': {'Augmented KF': {'all': 5.574818223890552, 'predict': 7.871270021958024, 'train': 0.4475541311052057}, 'RNN initial': {'all': 6.250983529849147, 'predict': 5.425545533487346, 'train': 6.979473178180866}, 'RNN trained': {'all': 1.746043888867273, 'predict': 1.6340833595734352, 'train': 1.8512455530444074}}}, 'params': {'DeltaE': [0, 0], 'T1': 0.1, 'activation': ['sigmoid', 'sigmoid'], 'cases': ['case1', 'case2', 'case3', 'case4', 'case5', 'case6', 'case7', 'case8', 'case9', 'case10', 'case11', 'case12', 'case13'], 'centering': [0.5, 0.5], 'dense_layers': 1, 'dense_units': 1, 'epochs': 10000, 'fm_raise_vs_rain': 2.0, 'hidden_units': 20, 'id': 3, 'purpose': 'test 3', 'rain_do': True, 'scale': 0.8, 'synthetic': False, 'timesteps': 5, 'train_frac': 0.5, 'verbose': False, 'verbose_fit': False, 'verbose_weights': False}}   <class 'dict'>\n",
      "Hash:  518478298559297168\n"
     ]
    }
   ],
   "source": [
    "results = from_json(\"data/output.json\")"
   ]
  },
  {
   "cell_type": "markdown",
   "id": "adef561c-e182-4aa8-ab5a-a55a3a9a91c6",
   "metadata": {},
   "source": [
    "## Control Case\n",
    "\n",
    "Case 11 with param set 0 was the reproducibility case."
   ]
  },
  {
   "cell_type": "code",
   "execution_count": 3,
   "id": "4031235e-b679-46f2-984a-9529167c3137",
   "metadata": {},
   "outputs": [
    {
     "data": {
      "text/html": [
       "<div>\n",
       "<style scoped>\n",
       "    .dataframe tbody tr th:only-of-type {\n",
       "        vertical-align: middle;\n",
       "    }\n",
       "\n",
       "    .dataframe tbody tr th {\n",
       "        vertical-align: top;\n",
       "    }\n",
       "\n",
       "    .dataframe thead th {\n",
       "        text-align: right;\n",
       "    }\n",
       "</style>\n",
       "<table border=\"1\" class=\"dataframe\">\n",
       "  <thead>\n",
       "    <tr style=\"text-align: right;\">\n",
       "      <th></th>\n",
       "      <th>Augmented KF</th>\n",
       "      <th>RNN initial</th>\n",
       "      <th>RNN trained</th>\n",
       "    </tr>\n",
       "  </thead>\n",
       "  <tbody>\n",
       "    <tr>\n",
       "      <th>all</th>\n",
       "      <td>0.906125</td>\n",
       "      <td>1.498349</td>\n",
       "      <td>0.757118</td>\n",
       "    </tr>\n",
       "    <tr>\n",
       "      <th>predict</th>\n",
       "      <td>1.098427</td>\n",
       "      <td>1.583437</td>\n",
       "      <td>0.732981</td>\n",
       "    </tr>\n",
       "    <tr>\n",
       "      <th>train</th>\n",
       "      <td>0.330471</td>\n",
       "      <td>1.326955</td>\n",
       "      <td>0.799778</td>\n",
       "    </tr>\n",
       "  </tbody>\n",
       "</table>\n",
       "</div>"
      ],
      "text/plain": [
       "         Augmented KF  RNN initial  RNN trained\n",
       "all          0.906125     1.498349     0.757118\n",
       "predict      1.098427     1.583437     0.732981\n",
       "train        0.330471     1.326955     0.799778"
      ]
     },
     "execution_count": 3,
     "metadata": {},
     "output_type": "execute_result"
    }
   ],
   "source": [
    "pd.DataFrame(results['0']['cases']['case11'])"
   ]
  },
  {
   "cell_type": "markdown",
   "id": "628d1153-b085-42cd-be06-e1a73b3b539a",
   "metadata": {},
   "source": [
    "The RNN outperforms the KF in this case. Note the prediction RMSE is lower than the training RMSE for the RNN, indicating there are not signs of overfitting. The KF, by contrast, has very low training error but a prediction error over 3x larger."
   ]
  },
  {
   "cell_type": "markdown",
   "id": "220ea3e3-f266-4ec5-9738-9f9fb212524f",
   "metadata": {},
   "source": [
    "## Summarise Results\n",
    "\n",
    "### Param Set Descriptions"
   ]
  },
  {
   "cell_type": "code",
   "execution_count": 4,
   "id": "ea73ac10-7b75-4819-a4e5-78195cfc1655",
   "metadata": {},
   "outputs": [
    {
     "name": "stdout",
     "output_type": "stream",
     "text": [
      "~~~~~~~~~~~~~~~~~~~~~~~~~~~~~~~~~~~~~~~~~~~~~~~~~~\n",
      "{'DeltaE': [0, -1], 'T1': 0.1, 'activation': ['linear', 'linear'], 'cases': ['case1', 'case2', 'case3', 'case4', 'case5', 'case6', 'case7', 'case8', 'case9', 'case10', 'case11', 'case12', 'case13'], 'centering': [0.0, 0.0], 'dense_layers': 1, 'dense_units': 1, 'epochs': 1000, 'fm_raise_vs_rain': 2.0, 'hidden_units': 20, 'id': 1, 'purpose': 'test 1', 'rain_do': True, 'scale': 1, 'synthetic': False, 'timesteps': 5, 'train_frac': 0.5, 'verbose': False, 'verbose_fit': False, 'verbose_weights': False}\n",
      "~~~~~~~~~~~~~~~~~~~~~~~~~~~~~~~~~~~~~~~~~~~~~~~~~~\n",
      "{'DeltaE': [0, -1], 'T1': 0.1, 'activation': ['tanh', 'tanh'], 'cases': ['case1', 'case2', 'case3', 'case4', 'case5', 'case6', 'case7', 'case8', 'case9', 'case10', 'case11', 'case12', 'case13'], 'centering': [0.0, 0.0], 'dense_layers': 1, 'dense_units': 1, 'epochs': 10000, 'fm_raise_vs_rain': 2.0, 'hidden_units': 20, 'id': 2, 'purpose': 'test 2', 'rain_do': True, 'scale': 0.8, 'synthetic': False, 'timesteps': 5, 'train_frac': 0.5, 'verbose': False, 'verbose_fit': False, 'verbose_weights': False}\n",
      "~~~~~~~~~~~~~~~~~~~~~~~~~~~~~~~~~~~~~~~~~~~~~~~~~~\n",
      "{'DeltaE': [0, 0], 'T1': 0.1, 'activation': ['sigmoid', 'sigmoid'], 'cases': ['case1', 'case2', 'case3', 'case4', 'case5', 'case6', 'case7', 'case8', 'case9', 'case10', 'case11', 'case12', 'case13'], 'centering': [0.5, 0.5], 'dense_layers': 1, 'dense_units': 1, 'epochs': 10000, 'fm_raise_vs_rain': 2.0, 'hidden_units': 20, 'id': 3, 'purpose': 'test 3', 'rain_do': True, 'scale': 0.8, 'synthetic': False, 'timesteps': 5, 'train_frac': 0.5, 'verbose': False, 'verbose_fit': False, 'verbose_weights': False}\n"
     ]
    }
   ],
   "source": [
    "for i in range(1, len(results)):\n",
    "    print('~'*50)\n",
    "    print(results[str(i)]['params'])"
   ]
  },
  {
   "cell_type": "markdown",
   "id": "e27d6191-98f6-4284-aedf-6137ddf1f183",
   "metadata": {},
   "source": [
    "The main differences in these param sets are:\n",
    "\n",
    "* Activation functions: linear for the first case, then tanh, and then sigmoid.\n",
    "* Epochs: 1,000 for set 1 versus 10,000 for sets 2 and 3\n",
    "* Scaling: 1, .8, .8\n",
    "* Centering: 0, 0, .5\n",
    "\n",
    "Each param set was run on 7 cases:"
   ]
  },
  {
   "cell_type": "markdown",
   "id": "53b80168-c2a7-4202-bb17-36703523766d",
   "metadata": {},
   "source": [
    "### Extract Results\n",
    "\n",
    "Excluding param set 0, as that was only run on case 11."
   ]
  },
  {
   "cell_type": "code",
   "execution_count": 5,
   "id": "6d0d3878-957f-44cc-afca-287b6fa327f2",
   "metadata": {},
   "outputs": [
    {
     "name": "stdout",
     "output_type": "stream",
     "text": [
      "~~~~~~~~~~~~~~~~~~~~~~~~~~~~~~~~~~~~~~~~~~~~~~~~~~\n",
      "dict_keys(['case10', 'case11', 'case12', 'case13', 'case7', 'case8', 'case9'])\n",
      "~~~~~~~~~~~~~~~~~~~~~~~~~~~~~~~~~~~~~~~~~~~~~~~~~~\n",
      "dict_keys(['case10', 'case11', 'case12', 'case13', 'case7', 'case8', 'case9'])\n",
      "~~~~~~~~~~~~~~~~~~~~~~~~~~~~~~~~~~~~~~~~~~~~~~~~~~\n",
      "dict_keys(['case10', 'case11', 'case12', 'case13', 'case7', 'case8', 'case9'])\n"
     ]
    }
   ],
   "source": [
    "for i in range(1, len(results)):\n",
    "    print('~'*50)\n",
    "    print(results[str(i)]['cases'].keys())"
   ]
  },
  {
   "cell_type": "markdown",
   "id": "5fc6c35c-490f-4c33-9f9a-4d3a6d0136b9",
   "metadata": {},
   "source": [
    "We summarise the RMSE for the param sets:"
   ]
  },
  {
   "cell_type": "markdown",
   "id": "67acb399-b14e-4f88-816b-b26ef540c9a8",
   "metadata": {},
   "source": [
    "Each case has 9 RMSE values:"
   ]
  },
  {
   "cell_type": "code",
   "execution_count": 6,
   "id": "8edad271-93a0-4fb4-991e-b0d71096a449",
   "metadata": {},
   "outputs": [
    {
     "data": {
      "text/html": [
       "<div>\n",
       "<style scoped>\n",
       "    .dataframe tbody tr th:only-of-type {\n",
       "        vertical-align: middle;\n",
       "    }\n",
       "\n",
       "    .dataframe tbody tr th {\n",
       "        vertical-align: top;\n",
       "    }\n",
       "\n",
       "    .dataframe thead th {\n",
       "        text-align: right;\n",
       "    }\n",
       "</style>\n",
       "<table border=\"1\" class=\"dataframe\">\n",
       "  <thead>\n",
       "    <tr style=\"text-align: right;\">\n",
       "      <th></th>\n",
       "      <th>Augmented KF</th>\n",
       "      <th>RNN initial</th>\n",
       "      <th>RNN trained</th>\n",
       "    </tr>\n",
       "  </thead>\n",
       "  <tbody>\n",
       "    <tr>\n",
       "      <th>all</th>\n",
       "      <td>1.124729</td>\n",
       "      <td>30.839032</td>\n",
       "      <td>2.902536</td>\n",
       "    </tr>\n",
       "    <tr>\n",
       "      <th>predict</th>\n",
       "      <td>1.417084</td>\n",
       "      <td>2.894544</td>\n",
       "      <td>3.666479</td>\n",
       "    </tr>\n",
       "    <tr>\n",
       "      <th>train</th>\n",
       "      <td>0.722431</td>\n",
       "      <td>43.516817</td>\n",
       "      <td>1.845634</td>\n",
       "    </tr>\n",
       "  </tbody>\n",
       "</table>\n",
       "</div>"
      ],
      "text/plain": [
       "         Augmented KF  RNN initial  RNN trained\n",
       "all          1.124729    30.839032     2.902536\n",
       "predict      1.417084     2.894544     3.666479\n",
       "train        0.722431    43.516817     1.845634"
      ]
     },
     "execution_count": 6,
     "metadata": {},
     "output_type": "execute_result"
    }
   ],
   "source": [
    "pd.DataFrame(results[str(1)]['cases']['case10'])"
   ]
  },
  {
   "cell_type": "markdown",
   "id": "cb62add6-6f16-4e19-97b3-b5e285cfc928",
   "metadata": {},
   "source": [
    "We next build a long-format dataframe with all of the results from the results dictionary. There are 3 param sets, 3 models, 3 time periods, and 7 cases. So we expect a dataframe of $3\\cdot3\\cdot3\\cdot7=189$ rows"
   ]
  },
  {
   "cell_type": "code",
   "execution_count": 7,
   "id": "50d8743d-790d-4d73-9a9e-b641f1fb105a",
   "metadata": {},
   "outputs": [
    {
     "data": {
      "text/html": [
       "<div>\n",
       "<style scoped>\n",
       "    .dataframe tbody tr th:only-of-type {\n",
       "        vertical-align: middle;\n",
       "    }\n",
       "\n",
       "    .dataframe tbody tr th {\n",
       "        vertical-align: top;\n",
       "    }\n",
       "\n",
       "    .dataframe thead th {\n",
       "        text-align: right;\n",
       "    }\n",
       "</style>\n",
       "<table border=\"1\" class=\"dataframe\">\n",
       "  <thead>\n",
       "    <tr style=\"text-align: right;\">\n",
       "      <th></th>\n",
       "      <th>Period</th>\n",
       "      <th>Case</th>\n",
       "      <th>RMSE</th>\n",
       "      <th>Model</th>\n",
       "      <th>param_set</th>\n",
       "    </tr>\n",
       "  </thead>\n",
       "  <tbody>\n",
       "    <tr>\n",
       "      <th>0</th>\n",
       "      <td>all</td>\n",
       "      <td>case10</td>\n",
       "      <td>1.124729</td>\n",
       "      <td>Augmented KF</td>\n",
       "      <td>1.0</td>\n",
       "    </tr>\n",
       "    <tr>\n",
       "      <th>1</th>\n",
       "      <td>predict</td>\n",
       "      <td>case10</td>\n",
       "      <td>1.417084</td>\n",
       "      <td>Augmented KF</td>\n",
       "      <td>1.0</td>\n",
       "    </tr>\n",
       "    <tr>\n",
       "      <th>2</th>\n",
       "      <td>train</td>\n",
       "      <td>case10</td>\n",
       "      <td>0.722431</td>\n",
       "      <td>Augmented KF</td>\n",
       "      <td>1.0</td>\n",
       "    </tr>\n",
       "    <tr>\n",
       "      <th>3</th>\n",
       "      <td>all</td>\n",
       "      <td>case10</td>\n",
       "      <td>30.839032</td>\n",
       "      <td>RNN initial</td>\n",
       "      <td>1.0</td>\n",
       "    </tr>\n",
       "    <tr>\n",
       "      <th>4</th>\n",
       "      <td>predict</td>\n",
       "      <td>case10</td>\n",
       "      <td>2.894544</td>\n",
       "      <td>RNN initial</td>\n",
       "      <td>1.0</td>\n",
       "    </tr>\n",
       "    <tr>\n",
       "      <th>...</th>\n",
       "      <td>...</td>\n",
       "      <td>...</td>\n",
       "      <td>...</td>\n",
       "      <td>...</td>\n",
       "      <td>...</td>\n",
       "    </tr>\n",
       "    <tr>\n",
       "      <th>4</th>\n",
       "      <td>predict</td>\n",
       "      <td>case9</td>\n",
       "      <td>5.425546</td>\n",
       "      <td>RNN initial</td>\n",
       "      <td>3.0</td>\n",
       "    </tr>\n",
       "    <tr>\n",
       "      <th>5</th>\n",
       "      <td>train</td>\n",
       "      <td>case9</td>\n",
       "      <td>6.979473</td>\n",
       "      <td>RNN initial</td>\n",
       "      <td>3.0</td>\n",
       "    </tr>\n",
       "    <tr>\n",
       "      <th>6</th>\n",
       "      <td>all</td>\n",
       "      <td>case9</td>\n",
       "      <td>1.746044</td>\n",
       "      <td>RNN trained</td>\n",
       "      <td>3.0</td>\n",
       "    </tr>\n",
       "    <tr>\n",
       "      <th>7</th>\n",
       "      <td>predict</td>\n",
       "      <td>case9</td>\n",
       "      <td>1.634083</td>\n",
       "      <td>RNN trained</td>\n",
       "      <td>3.0</td>\n",
       "    </tr>\n",
       "    <tr>\n",
       "      <th>8</th>\n",
       "      <td>train</td>\n",
       "      <td>case9</td>\n",
       "      <td>1.851246</td>\n",
       "      <td>RNN trained</td>\n",
       "      <td>3.0</td>\n",
       "    </tr>\n",
       "  </tbody>\n",
       "</table>\n",
       "<p>189 rows × 5 columns</p>\n",
       "</div>"
      ],
      "text/plain": [
       "     Period    Case       RMSE         Model  param_set\n",
       "0       all  case10   1.124729  Augmented KF        1.0\n",
       "1   predict  case10   1.417084  Augmented KF        1.0\n",
       "2     train  case10   0.722431  Augmented KF        1.0\n",
       "3       all  case10  30.839032   RNN initial        1.0\n",
       "4   predict  case10   2.894544   RNN initial        1.0\n",
       "..      ...     ...        ...           ...        ...\n",
       "4   predict   case9   5.425546   RNN initial        3.0\n",
       "5     train   case9   6.979473   RNN initial        3.0\n",
       "6       all   case9   1.746044   RNN trained        3.0\n",
       "7   predict   case9   1.634083   RNN trained        3.0\n",
       "8     train   case9   1.851246   RNN trained        3.0\n",
       "\n",
       "[189 rows x 5 columns]"
      ]
     },
     "execution_count": 7,
     "metadata": {},
     "output_type": "execute_result"
    }
   ],
   "source": [
    "df = pd.DataFrame(columns=['Period', 'Case', 'RMSE', 'Model'])\n",
    "for i in range(1, len(results)):\n",
    "    for case in results[str(i)]['cases']:\n",
    "        df_temp = pd.DataFrame(results[str(i)]['cases'][case])\n",
    "        df_temp=df_temp.rename_axis(\"Period\").reset_index()\n",
    "        df_temp['Case']=np.repeat(case, 3)\n",
    "        df_temp['param_set']=np.repeat(int(i), 3)\n",
    "        df_temp=pd.melt(df_temp, id_vars=['Period', 'Case', 'param_set'], value_vars=['Augmented KF', 'RNN initial', 'RNN trained'],\n",
    "                     var_name='Model', value_name='RMSE')\n",
    "        df = pd.concat((df, df_temp))\n",
    "\n",
    "df"
   ]
  },
  {
   "cell_type": "markdown",
   "id": "a738a933-e880-412c-ba0f-75f0f7548d9d",
   "metadata": {},
   "source": [
    "### Results by Param Set\n",
    "\n",
    "Excluding RNN initial."
   ]
  },
  {
   "cell_type": "code",
   "execution_count": 8,
   "id": "6be03ccb-02e8-412d-803d-113a46cee9d6",
   "metadata": {},
   "outputs": [
    {
     "data": {
      "text/plain": [
       "Text(0.5, 1.0, 'Results by Param Set')"
      ]
     },
     "execution_count": 8,
     "metadata": {},
     "output_type": "execute_result"
    },
    {
     "data": {
      "image/png": "[encoded data removed]",
      "text/plain": [
       "<Figure size 640x480 with 1 Axes>"
      ]
     },
     "metadata": {},
     "output_type": "display_data"
    }
   ],
   "source": [
    "df2 = df[df.Model != 'RNN initial']\n",
    "sns.boxplot(\n",
    "    x=df2['param_set'],\n",
    "    y=df2['RMSE'],\n",
    "    hue=df2['Period']\n",
    ").set_title('Results by Param Set')"
   ]
  },
  {
   "cell_type": "markdown",
   "id": "398bdc79-e3f0-48ce-9edf-d84b0bc445c4",
   "metadata": {},
   "source": [
    "We print the group means..."
   ]
  },
  {
   "cell_type": "code",
   "execution_count": 9,
   "id": "7a576d0b-d287-44f7-ad7c-94d11697aa01",
   "metadata": {},
   "outputs": [
    {
     "data": {
      "text/html": [
       "<div>\n",
       "<style scoped>\n",
       "    .dataframe tbody tr th:only-of-type {\n",
       "        vertical-align: middle;\n",
       "    }\n",
       "\n",
       "    .dataframe tbody tr th {\n",
       "        vertical-align: top;\n",
       "    }\n",
       "\n",
       "    .dataframe thead th {\n",
       "        text-align: right;\n",
       "    }\n",
       "</style>\n",
       "<table border=\"1\" class=\"dataframe\">\n",
       "  <thead>\n",
       "    <tr style=\"text-align: right;\">\n",
       "      <th></th>\n",
       "      <th>Period</th>\n",
       "      <th>Set 1</th>\n",
       "      <th>Set 2</th>\n",
       "      <th>Set 3</th>\n",
       "    </tr>\n",
       "  </thead>\n",
       "  <tbody>\n",
       "    <tr>\n",
       "      <th>0</th>\n",
       "      <td>all</td>\n",
       "      <td>3.256066</td>\n",
       "      <td>2.288899</td>\n",
       "      <td>2.315709</td>\n",
       "    </tr>\n",
       "    <tr>\n",
       "      <th>1</th>\n",
       "      <td>predict</td>\n",
       "      <td>4.051542</td>\n",
       "      <td>2.985942</td>\n",
       "      <td>2.927416</td>\n",
       "    </tr>\n",
       "    <tr>\n",
       "      <th>2</th>\n",
       "      <td>train</td>\n",
       "      <td>1.821071</td>\n",
       "      <td>1.034109</td>\n",
       "      <td>1.180607</td>\n",
       "    </tr>\n",
       "  </tbody>\n",
       "</table>\n",
       "</div>"
      ],
      "text/plain": [
       "    Period     Set 1     Set 2     Set 3\n",
       "0      all  3.256066  2.288899  2.315709\n",
       "1  predict  4.051542  2.985942  2.927416\n",
       "2    train  1.821071  1.034109  1.180607"
      ]
     },
     "execution_count": 9,
     "metadata": {},
     "output_type": "execute_result"
    }
   ],
   "source": [
    "x=df2.groupby(['param_set', 'Period']).agg({'RMSE': 'mean'})\n",
    "pd.DataFrame({\n",
    "    'Period': ['all', 'predict', 'train'],\n",
    "    'Set 1': list(x.RMSE[0:3]),\n",
    "    'Set 2': list(x.RMSE[3:6]),\n",
    "    'Set 3': list(x.RMSE[6:9])\n",
    "})"
   ]
  },
  {
   "cell_type": "markdown",
   "id": "bb1a2f6b-914c-4d36-a9e5-5e4af776a895",
   "metadata": {},
   "source": [
    "Param sets 2 and 3 have similar rates of prediction error, though the boxplots show there is substantial overlap."
   ]
  },
  {
   "cell_type": "markdown",
   "id": "f0b95428-ee27-49b2-ab16-045405bac854",
   "metadata": {},
   "source": [
    "### Results by Model\n",
    "\n",
    "Here we just look at results from Param set 2 so we are not double (triple) counting results.\n",
    "\n",
    "Again we exclude the untrained RNN from the plot as there are extreme values that distort the plot margins."
   ]
  },
  {
   "cell_type": "code",
   "execution_count": 11,
   "id": "6a3ab944-4dc7-459b-aa17-2c85f6e7c681",
   "metadata": {},
   "outputs": [
    {
     "data": {
      "text/plain": [
       "Text(0.5, 1.0, 'Results by Model')"
      ]
     },
     "execution_count": 11,
     "metadata": {},
     "output_type": "execute_result"
    },
    {
     "data": {
      "image/png": "[encoded data removed]",
      "text/plain": [
       "<Figure size 640x480 with 1 Axes>"
      ]
     },
     "metadata": {},
     "output_type": "display_data"
    }
   ],
   "source": [
    "df2 = df[(df.Model != 'RNN initial') & (df.param_set == 2)]\n",
    "sns.boxplot(\n",
    "    x=df2['Model'],\n",
    "    y=df2['RMSE'],\n",
    "    hue=df2['Period']\n",
    ").set_title('Results by Model')"
   ]
  },
  {
   "cell_type": "code",
   "execution_count": 14,
   "id": "67446b8a-a6c5-4963-9d56-8de91d1d9301",
   "metadata": {},
   "outputs": [
    {
     "data": {
      "text/html": [
       "<div>\n",
       "<style scoped>\n",
       "    .dataframe tbody tr th:only-of-type {\n",
       "        vertical-align: middle;\n",
       "    }\n",
       "\n",
       "    .dataframe tbody tr th {\n",
       "        vertical-align: top;\n",
       "    }\n",
       "\n",
       "    .dataframe thead th {\n",
       "        text-align: right;\n",
       "    }\n",
       "</style>\n",
       "<table border=\"1\" class=\"dataframe\">\n",
       "  <thead>\n",
       "    <tr style=\"text-align: right;\">\n",
       "      <th></th>\n",
       "      <th>Period</th>\n",
       "      <th>KF</th>\n",
       "      <th>RNN Trained</th>\n",
       "    </tr>\n",
       "  </thead>\n",
       "  <tbody>\n",
       "    <tr>\n",
       "      <th>0</th>\n",
       "      <td>all</td>\n",
       "      <td>2.556060</td>\n",
       "      <td>2.021738</td>\n",
       "    </tr>\n",
       "    <tr>\n",
       "      <th>1</th>\n",
       "      <td>predict</td>\n",
       "      <td>3.532067</td>\n",
       "      <td>2.439816</td>\n",
       "    </tr>\n",
       "    <tr>\n",
       "      <th>2</th>\n",
       "      <td>train</td>\n",
       "      <td>0.647931</td>\n",
       "      <td>1.420286</td>\n",
       "    </tr>\n",
       "  </tbody>\n",
       "</table>\n",
       "</div>"
      ],
      "text/plain": [
       "    Period        KF  RNN Trained\n",
       "0      all  2.556060     2.021738\n",
       "1  predict  3.532067     2.439816\n",
       "2    train  0.647931     1.420286"
      ]
     },
     "execution_count": 14,
     "metadata": {},
     "output_type": "execute_result"
    }
   ],
   "source": [
    "x=df2.groupby(['Model', 'Period']).agg({'RMSE': 'mean'})\n",
    "pd.DataFrame({\n",
    "    'Period': ['all', 'predict', 'train'],\n",
    "    'KF': list(x.RMSE[0:3]),\n",
    "    'RNN Trained': list(x.RMSE[3:6])\n",
    "})"
   ]
  },
  {
   "cell_type": "markdown",
   "id": "0034c5af-3a14-480f-8e6c-b1b26790de0e",
   "metadata": {},
   "source": [
    "The trained RNN has a lower prediction error on average than the KF. \n",
    "\n",
    "The augmented Kalman Filter gets very low training error, but a much higher prediction error, over 5x. This is clear signs of overfitting."
   ]
  },
  {
   "cell_type": "code",
   "execution_count": 27,
   "id": "6c6d0595-c8ac-4a0b-82e4-6d069089578a",
   "metadata": {},
   "outputs": [
    {
     "name": "stdout",
     "output_type": "stream",
     "text": [
      "True\n",
      "True\n"
     ]
    }
   ],
   "source": [
    "df1=df[(df.Model == \"Augmented KF\") & (df.param_set==2)]\n",
    "df2=df[(df.Model == \"RNN trained\") & (df.param_set==2)]\n",
    "\n",
    "# Check equality of other cols\n",
    "print(df1['Period'].equals(df1['Period']))\n",
    "print(df1['Case'].equals(df1['Case']))"
   ]
  },
  {
   "cell_type": "code",
   "execution_count": 28,
   "id": "fbb1f874-4a3e-4109-82f1-fbc633afc52a",
   "metadata": {},
   "outputs": [],
   "source": [
    "# Rename RMSE's then Add RMSE from df2 to df1\n",
    "df1=df1.rename(columns={\"RMSE\": \"RMSE KF\"})\n",
    "df2=df2.rename(columns={\"RMSE\": \"RMSE RNN\"})\n",
    "# df1.join(df2['RMSE RNN'])\n",
    "df1['RMSE RNN'] = df2['RMSE RNN'].to_numpy()"
   ]
  },
  {
   "cell_type": "code",
   "execution_count": 36,
   "id": "2e6e1fdc-a7d4-4572-ad12-e7c8862e723f",
   "metadata": {},
   "outputs": [
    {
     "data": {
      "text/plain": [
       "Text(6, 1, 'RNN Better')"
      ]
     },
     "execution_count": 36,
     "metadata": {},
     "output_type": "execute_result"
    },
    {
     "data": {
      "image/png": "[encoded data removed]",
      "text/plain": [
       "<Figure size 640x480 with 1 Axes>"
      ]
     },
     "metadata": {},
     "output_type": "display_data"
    }
   ],
   "source": [
    "sns.scatterplot(\n",
    "    data=df1, \n",
    "    x='RMSE KF', \n",
    "    y='RMSE RNN', \n",
    "    hue='Period')\n",
    "plt.legend(loc=\"upper left\")\n",
    "plt.ylim(0,8)\n",
    "plt.xlim(0,8)\n",
    "plt.title(\"RMSE - KF vs RNN (Param Set 2)\")\n",
    "plt.axline((0, 0), slope=1, c='k', linestyle=':', alpha=.6)\n",
    "plt.text(6,6.2,\"equal RMSE\",rotation=37, alpha=.6)\n",
    "plt.text(3,7,\"KF Better\", alpha=.6)\n",
    "plt.text(6,1,\"RNN Better\", alpha=.6)"
   ]
  },
  {
   "cell_type": "code",
   "execution_count": null,
   "id": "59377737-eb73-4b81-88fe-a0d066ab56ce",
   "metadata": {},
   "outputs": [],
   "source": []
  }
 ],
 "metadata": {
  "kernelspec": {
   "display_name": "Python 3 (ipykernel)",
   "language": "python",
   "name": "python3"
  },
  "language_info": {
   "codemirror_mode": {
    "name": "ipython",
    "version": 3
   },
   "file_extension": ".py",
   "mimetype": "text/x-python",
   "name": "python",
   "nbconvert_exporter": "python",
   "pygments_lexer": "ipython3",
   "version": "3.9.12"
  }
 },
 "nbformat": 4,
 "nbformat_minor": 5
}
