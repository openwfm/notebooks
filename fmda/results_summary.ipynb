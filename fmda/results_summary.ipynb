{
 "cells": [
  {
   "cell_type": "markdown",
   "id": "a2442d5d-ad18-422a-8972-ac877a5d7772",
   "metadata": {},
   "source": [
    "# Results Analysis"
   ]
  },
  {
   "cell_type": "markdown",
   "id": "b121638e-72c5-4199-b076-5040b30e521e",
   "metadata": {},
   "source": [
    "The purpose of this notebook is to analyze the results from the RNN training experiments.\n",
    "\n",
    "Unless otherwise stated, we will refer to the trained RNN as \"the RNN\". All validation numbers are RMSE."
   ]
  },
  {
   "cell_type": "markdown",
   "id": "b9fcba93-c2ae-4838-a867-c803b9674d43",
   "metadata": {},
   "source": [
    "## Environment Setup"
   ]
  },
  {
   "cell_type": "code",
   "execution_count": null,
   "id": "a9a5579c-007b-49fd-a022-0463f430a854",
   "metadata": {},
   "outputs": [],
   "source": [
    "import numpy as np\n",
    "import matplotlib.pyplot as plt\n",
    "import pandas as pd\n",
    "import seaborn as sns\n",
    "\n",
    "from data_funcs import from_json"
   ]
  },
  {
   "cell_type": "code",
   "execution_count": null,
   "id": "1693cc97-a154-4a1f-8dbb-724b4669abb7",
   "metadata": {},
   "outputs": [],
   "source": [
    "results = from_json(\"data/output.json\")"
   ]
  },
  {
   "cell_type": "markdown",
   "id": "adef561c-e182-4aa8-ab5a-a55a3a9a91c6",
   "metadata": {},
   "source": [
    "## Control Case\n",
    "\n",
    "Case 11 with param set 0 was the reproducibility case."
   ]
  },
  {
   "cell_type": "code",
   "execution_count": null,
   "id": "4031235e-b679-46f2-984a-9529167c3137",
   "metadata": {},
   "outputs": [],
   "source": [
    "pd.DataFrame(results['0']['cases']['case11'])"
   ]
  },
  {
   "cell_type": "markdown",
   "id": "628d1153-b085-42cd-be06-e1a73b3b539a",
   "metadata": {},
   "source": [
    "The RNN outperforms the KF in this case. Note the prediction RMSE is lower than the training RMSE for the RNN, indicating there are not signs of overfitting. The KF, by contrast, has very low training error but a prediction error over 3x larger."
   ]
  },
  {
   "cell_type": "markdown",
   "id": "220ea3e3-f266-4ec5-9738-9f9fb212524f",
   "metadata": {},
   "source": [
    "## Summarise Results\n",
    "\n",
    "### Param Set Descriptions"
   ]
  },
  {
   "cell_type": "code",
   "execution_count": null,
   "id": "ea73ac10-7b75-4819-a4e5-78195cfc1655",
   "metadata": {},
   "outputs": [],
   "source": [
    "for i in range(1, len(results)):\n",
    "    print('~'*50)\n",
    "    print(results[str(i)]['params'])"
   ]
  },
  {
   "cell_type": "markdown",
   "id": "e27d6191-98f6-4284-aedf-6137ddf1f183",
   "metadata": {},
   "source": [
    "The main differences in these param sets are:\n",
    "\n",
    "* Activation functions: linear for the first case, then tanh, and then sigmoid.\n",
    "* Epochs: 1,000 for set 1 versus 10,000 for sets 2 and 3\n",
    "* Scaling: 1, .8, .8\n",
    "* Centering: 0, 0, .5\n",
    "\n",
    "Each param set was run on 7 cases:"
   ]
  },
  {
   "cell_type": "markdown",
   "id": "53b80168-c2a7-4202-bb17-36703523766d",
   "metadata": {},
   "source": [
    "### Extract Results\n",
    "\n",
    "Excluding param set 0, as that was only run on case 11."
   ]
  },
  {
   "cell_type": "code",
   "execution_count": null,
   "id": "6d0d3878-957f-44cc-afca-287b6fa327f2",
   "metadata": {},
   "outputs": [],
   "source": [
    "for i in range(1, len(results)):\n",
    "    print('~'*50)\n",
    "    print(results[str(i)]['cases'].keys())"
   ]
  },
  {
   "cell_type": "markdown",
   "id": "5fc6c35c-490f-4c33-9f9a-4d3a6d0136b9",
   "metadata": {},
   "source": [
    "We summarise the RMSE for the param sets:"
   ]
  },
  {
   "cell_type": "markdown",
   "id": "67acb399-b14e-4f88-816b-b26ef540c9a8",
   "metadata": {},
   "source": [
    "Each case has 9 RMSE values:"
   ]
  },
  {
   "cell_type": "code",
   "execution_count": null,
   "id": "8edad271-93a0-4fb4-991e-b0d71096a449",
   "metadata": {},
   "outputs": [],
   "source": [
    "pd.DataFrame(results[str(1)]['cases']['case10'])"
   ]
  },
  {
   "cell_type": "markdown",
   "id": "cb62add6-6f16-4e19-97b3-b5e285cfc928",
   "metadata": {},
   "source": [
    "We next build a long-format dataframe with all of the results from the results dictionary. There are 3 param sets, 3 models, 3 time periods, and 7 cases. So we expect a dataframe of $3\\cdot3\\cdot3\\cdot7=189$ rows"
   ]
  },
  {
   "cell_type": "code",
   "execution_count": null,
   "id": "50d8743d-790d-4d73-9a9e-b641f1fb105a",
   "metadata": {},
   "outputs": [],
   "source": [
    "df = pd.DataFrame(columns=['Period', 'Case', 'RMSE', 'Model'])\n",
    "for i in range(1, len(results)):\n",
    "    for case in results[str(i)]['cases']:\n",
    "        df_temp = pd.DataFrame(results[str(i)]['cases'][case])\n",
    "        df_temp=df_temp.rename_axis(\"Period\").reset_index()\n",
    "        df_temp['Case']=np.repeat(case, 3)\n",
    "        df_temp['param_set']=np.repeat(int(i), 3)\n",
    "        df_temp=pd.melt(df_temp, id_vars=['Period', 'Case', 'param_set'], value_vars=['Augmented KF', 'RNN initial', 'RNN trained'],\n",
    "                     var_name='Model', value_name='RMSE')\n",
    "        df = pd.concat((df, df_temp))\n",
    "\n",
    "df"
   ]
  },
  {
   "cell_type": "markdown",
   "id": "a738a933-e880-412c-ba0f-75f0f7548d9d",
   "metadata": {},
   "source": [
    "### Results by Param Set\n",
    "\n",
    "Excluding RNN initial."
   ]
  },
  {
   "cell_type": "code",
   "execution_count": null,
   "id": "6be03ccb-02e8-412d-803d-113a46cee9d6",
   "metadata": {
    "scrolled": true
   },
   "outputs": [],
   "source": [
    "df2 = df[df.Model != 'RNN initial']\n",
    "sns.boxplot(\n",
    "    x=df2['param_set'],\n",
    "    y=df2['RMSE'],\n",
    "    hue=df2['Period']\n",
    ").set_title('Results by Param Set')"
   ]
  },
  {
   "cell_type": "markdown",
   "id": "398bdc79-e3f0-48ce-9edf-d84b0bc445c4",
   "metadata": {},
   "source": [
    "We print the group means..."
   ]
  },
  {
   "cell_type": "code",
   "execution_count": null,
   "id": "7a576d0b-d287-44f7-ad7c-94d11697aa01",
   "metadata": {},
   "outputs": [],
   "source": [
    "x=df2.groupby(['param_set', 'Period']).agg({'RMSE': 'mean'})\n",
    "pd.DataFrame({\n",
    "    'Period': ['all', 'predict', 'train'],\n",
    "    'Set 1': list(x.RMSE[0:3]),\n",
    "    'Set 2': list(x.RMSE[3:6]),\n",
    "    'Set 3': list(x.RMSE[6:9])\n",
    "})"
   ]
  },
  {
   "cell_type": "markdown",
   "id": "bb1a2f6b-914c-4d36-a9e5-5e4af776a895",
   "metadata": {},
   "source": [
    "Param sets 2 and 3 have similar rates of prediction error, though the boxplots show there is substantial overlap."
   ]
  },
  {
   "cell_type": "markdown",
   "id": "f0b95428-ee27-49b2-ab16-045405bac854",
   "metadata": {},
   "source": [
    "### Results by Model\n",
    "\n",
    "Here we just look at results from Param set 2 so we are not double (triple) counting results.\n",
    "\n",
    "Again we exclude the untrained RNN from the plot as there are extreme values that distort the plot margins."
   ]
  },
  {
   "cell_type": "code",
   "execution_count": null,
   "id": "6a3ab944-4dc7-459b-aa17-2c85f6e7c681",
   "metadata": {},
   "outputs": [],
   "source": [
    "df2 = df[(df.Model != 'RNN initial') & (df.param_set == 2)]\n",
    "sns.boxplot(\n",
    "    x=df2['Model'],\n",
    "    y=df2['RMSE'],\n",
    "    hue=df2['Period']\n",
    ").set_title('Results by Model')"
   ]
  },
  {
   "cell_type": "code",
   "execution_count": null,
   "id": "67446b8a-a6c5-4963-9d56-8de91d1d9301",
   "metadata": {},
   "outputs": [],
   "source": [
    "x=df2.groupby(['Model', 'Period']).agg({'RMSE': 'mean'})\n",
    "pd.DataFrame({\n",
    "    'Period': ['all', 'predict', 'train'],\n",
    "    'KF': list(x.RMSE[0:3]),\n",
    "    'RNN Trained': list(x.RMSE[3:6])\n",
    "})"
   ]
  },
  {
   "cell_type": "markdown",
   "id": "0034c5af-3a14-480f-8e6c-b1b26790de0e",
   "metadata": {},
   "source": [
    "The trained RNN has a lower prediction error on average than the KF. \n",
    "\n",
    "The augmented Kalman Filter gets very low training error, but a much higher prediction error, over 5x. This is clear signs of overfitting."
   ]
  },
  {
   "cell_type": "code",
   "execution_count": null,
   "id": "6c6d0595-c8ac-4a0b-82e4-6d069089578a",
   "metadata": {},
   "outputs": [],
   "source": [
    "df1=df[(df.Model == \"Augmented KF\") & (df.param_set==2)]\n",
    "df2=df[(df.Model == \"RNN trained\") & (df.param_set==2)]\n",
    "\n",
    "# Check equality of other cols\n",
    "print(df1['Period'].equals(df1['Period']))\n",
    "print(df1['Case'].equals(df1['Case']))"
   ]
  },
  {
   "cell_type": "code",
   "execution_count": null,
   "id": "fbb1f874-4a3e-4109-82f1-fbc633afc52a",
   "metadata": {},
   "outputs": [],
   "source": [
    "# Rename RMSE's then Add RMSE from df2 to df1\n",
    "df1=df1.rename(columns={\"RMSE\": \"RMSE KF\"})\n",
    "df2=df2.rename(columns={\"RMSE\": \"RMSE RNN\"})\n",
    "# df1.join(df2['RMSE RNN'])\n",
    "df1['RMSE RNN'] = df2['RMSE RNN'].to_numpy()"
   ]
  },
  {
   "cell_type": "code",
   "execution_count": null,
   "id": "2e6e1fdc-a7d4-4572-ad12-e7c8862e723f",
   "metadata": {},
   "outputs": [],
   "source": [
    "sns.scatterplot(\n",
    "    data=df1, \n",
    "    x='RMSE KF', \n",
    "    y='RMSE RNN', \n",
    "    hue='Period')\n",
    "plt.legend(loc=\"upper left\")\n",
    "plt.ylim(0,8)\n",
    "plt.xlim(0,8)\n",
    "plt.title(\"RMSE - KF vs RNN (Param Set 2)\")\n",
    "plt.axline((0, 0), slope=1, c='k', linestyle=':', alpha=.6)\n",
    "plt.text(6,6.2,\"equal RMSE\",rotation=37, alpha=.6)\n",
    "plt.text(3,7,\"KF Better\", alpha=.6)\n",
    "plt.text(6,1,\"RNN Better\", alpha=.6)"
   ]
  },
  {
   "cell_type": "markdown",
   "id": "486568fe-18b6-4cbb-b011-8fab6859e985",
   "metadata": {},
   "source": [
    "## Where the RNN goes wrong\n",
    "\n"
   ]
  },
  {
   "cell_type": "markdown",
   "id": "f6dd5f74-92e9-4546-9239-a88392a35be4",
   "metadata": {},
   "source": [
    "The initial RNN, with physics-initiated weights, has some extreme values for the initial accuracy."
   ]
  },
  {
   "cell_type": "code",
   "execution_count": null,
   "id": "b44c5349-14ad-4dbd-b50d-8566b09487b7",
   "metadata": {},
   "outputs": [],
   "source": [
    "df1 = df[df['Model']!= \"Augmented KF\"]"
   ]
  },
  {
   "cell_type": "code",
   "execution_count": null,
   "id": "59377737-eb73-4b81-88fe-a0d066ab56ce",
   "metadata": {},
   "outputs": [],
   "source": [
    "sns.histplot(df1[df1['Model']==\"RNN initial\"]['RMSE'])"
   ]
  },
  {
   "cell_type": "markdown",
   "id": "e63a8b6a-7c2b-44f3-95ee-e51d0a706176",
   "metadata": {},
   "source": [
    "The pattern is far from clean and linear, but generally the largest RMSE after training corresponds to the largest errors from the initial, untrained RNN models. We should investigate why these large initial RNN errors exist and whether it is indivative of a data issue or modeling issue."
   ]
  },
  {
   "cell_type": "code",
   "execution_count": null,
   "id": "39927f1f-4114-49bd-8371-13efccde6d42",
   "metadata": {},
   "outputs": [],
   "source": [
    "plt.scatter(\n",
    "    df1[df1['Model']==\"RNN initial\"]['RMSE'],\n",
    "    df1[df1['Model']==\"RNN trained\"]['RMSE']\n",
    ")\n",
    "plt.xlabel(\"Initial RMSE\")\n",
    "plt.ylabel(\"Trained RMSE\")\n",
    "plt.title(\"RNN RMSE - Initial vs Trained\")"
   ]
  },
  {
   "cell_type": "code",
   "execution_count": null,
   "id": "4d5a968c-0b89-4f6f-955c-2fdc949617c3",
   "metadata": {},
   "outputs": [],
   "source": []
  }
 ],
 "metadata": {
  "kernelspec": {
   "display_name": "Python 3 (ipykernel)",
   "language": "python",
   "name": "python3"
  },
  "language_info": {
   "codemirror_mode": {
    "name": "ipython",
    "version": 3
   },
   "file_extension": ".py",
   "mimetype": "text/x-python",
   "name": "python",
   "nbconvert_exporter": "python",
   "pygments_lexer": "ipython3",
   "version": "3.9.12"
  }
 },
 "nbformat": 4,
 "nbformat_minor": 5
}
