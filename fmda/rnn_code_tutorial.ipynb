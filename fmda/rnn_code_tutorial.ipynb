{
 "cells": [
  {
   "cell_type": "markdown",
   "id": "7f39c039-5ee5-4b46-bf8f-1ae289db8d17",
   "metadata": {},
   "source": [
    "# v2.3 run RNN Class with Spatial Training\n",
    "\n",
    "This notebook serves as a guide for using the RNN code in this project. It walks through the core functionality for the data pre-processing, setting up model hyperparameters, structuring data to feed into RNN, and evaluating prediction error with spatiotemporal cross-validation. "
   ]
  },
  {
   "cell_type": "markdown",
   "id": "1e98fcc9-3079-45d1-aece-d656d70a4244",
   "metadata": {},
   "source": [
    "## Setup\n",
    "\n",
    "We will import certain functions at code cells in relevant sections for clarity, but everything used will be included in this setup cell."
   ]
  },
  {
   "cell_type": "code",
   "execution_count": 8,
   "id": "31369263-1526-4117-b25d-c3ed71d298b0",
   "metadata": {},
   "outputs": [],
   "source": [
    "import numpy as np\n",
    "from utils import print_dict_summary, print_first, str2time, logging_setup\n",
    "import pickle\n",
    "import logging\n",
    "import os.path as osp\n",
    "from moisture_rnn_pkl import pkl2train\n",
    "from moisture_rnn import RNNParams, RNNData, RNN, rnn_data_wrap\n",
    "from utils import hash2, read_yml, read_pkl, retrieve_url, Dict, print_dict_summary\n",
    "from moisture_rnn import RNN\n",
    "import reproducibility\n",
    "from data_funcs import rmse, to_json, combine_nested, build_train_dict\n",
    "from moisture_models import run_augmented_kf\n",
    "import copy\n",
    "import pandas as pd\n",
    "import matplotlib.pyplot as plt\n",
    "import yaml\n",
    "import time"
   ]
  },
  {
   "cell_type": "code",
   "execution_count": 6,
   "id": "2c14b5e7-5f22-45d2-8bcd-73a94f9b25e8",
   "metadata": {},
   "outputs": [],
   "source": [
    "from IPython.display import Markdown, display\n",
    "\n",
    "# Helper function to make documentation a little prettier\n",
    "def print_markdown_docstring(func):\n",
    "    display(Markdown(f\"```python\\n{func.__doc__}\\n```\"))"
   ]
  },
  {
   "cell_type": "markdown",
   "id": "cede04ca-f1ae-411e-b014-e35493c8b9c9",
   "metadata": {},
   "source": [
    "## Acquiring Data\n",
    "\n",
    "The expected format of the input data for this project is in the form of nested dictionaries with a particular structure. These dictionaries are produced by the process `build_fmda_dicts` within the `wrfxpy` branch `develop-72-jh`. These files are staged remotely as `pickle` files on the OpenWFM Demo site. The data consist of ground-based observations from RAWS stations and atmospheric data from the HRRR weather model interpolated to the location of the RAWS site. These data were collected by specifying a time period and a spatial bounding box, and all RAWS with FMC sensors were collected within those bounds and time frame.\n",
    "\n",
    "<mark>NOTE: as of 2024-10-22 the wrfxpy code is still needs to be merged with the latest changed from Angel. The code that makes fmda dictionaries shouldn't depend much on other changes within wrfxpy</mark>\n",
    "\n",
    "The first step is just to retrieve the files. The method is called `retrieve_url`, and lives in a python module `utils`. The `utils` functions are meant to apply to a general context, not anything specific to this project. It uses a method that calls `wget` as a subprocesses and saves to a target directory if the file doesn't already exist. You can force it to download with a function argument. The function documentation is printed below, then it is called using f-strings to make the code more concise."
   ]
  },
  {
   "cell_type": "code",
   "execution_count": 5,
   "id": "e32267c9-e5ef-475d-a5ec-00e7212996e4",
   "metadata": {},
   "outputs": [
    {
     "data": {
      "text/markdown": [
       "```python\n",
       "\n",
       "    Downloads a file from a specified URL to a destination path.\n",
       "\n",
       "    Parameters:\n",
       "    -----------\n",
       "    url : str\n",
       "        The URL from which to download the file.\n",
       "    dest_path : str\n",
       "        The destination path where the file should be saved.\n",
       "    force_download : bool, optional\n",
       "        If True, forces the download even if the file already exists at the destination path.\n",
       "        Default is False.\n",
       "\n",
       "    Warnings:\n",
       "    ---------\n",
       "    Prints a warning if the file extension of the URL does not match the destination file extension.\n",
       "\n",
       "    Raises:\n",
       "    -------\n",
       "    AssertionError:\n",
       "        If the download fails and the file does not exist at the destination path.\n",
       "\n",
       "    Notes:\n",
       "    ------\n",
       "    This function uses the `wget` command-line tool to download the file. Ensure that `wget` is \n",
       "    installed and accessible from the system's PATH.\n",
       "\n",
       "    Prints:\n",
       "    -------\n",
       "    A message indicating whether the file was downloaded or if it already exists at the \n",
       "    destination path.\n",
       "    \n",
       "```"
      ],
      "text/plain": [
       "<IPython.core.display.Markdown object>"
      ]
     },
     "metadata": {},
     "output_type": "display_data"
    }
   ],
   "source": [
    "print_markdown_docstring(retrieve_url)"
   ]
  },
  {
   "cell_type": "code",
   "execution_count": 7,
   "id": "aa00ee6d-1d13-46fc-a942-64578dfe5b7d",
   "metadata": {},
   "outputs": [
    {
     "name": "stdout",
     "output_type": "stream",
     "text": [
      "Target data already exists at data/fmda_rocky_202403-05_f05.pkl\n"
     ]
    }
   ],
   "source": [
    "filename = \"fmda_rocky_202403-05_f05.pkl\"\n",
    "retrieve_url(\n",
    "    url = f\"https://demo.openwfm.org/web/data/fmda/dicts/{filename}\", \n",
    "    dest_path = f\"data/{filename}\")"
   ]
  },
  {
   "cell_type": "markdown",
   "id": "8ced2117-f36b-427b-86ae-0dca1e9cdccf",
   "metadata": {},
   "source": [
    "### Exploring the Nested Dictionary Structure \n",
    "\n",
    "The data dictionaries have the following structure:\n",
    "\n",
    "* Top level keys are RAWS station IDs and some additional string related to the time period.\n",
    "* For each of the RAWS sites, there are 3 subdictionaries consisting of different types of data that pertain to that location.\n",
    "    - A `loc` subdirectory that consists of static information about the physical location of the RAWS site. This includes station ID name, longitude, latitude, elevation, and two grid coordinates named \"pixel_x\" and \"pixel_y\" <mark>This will be renamed to \"grid_coordinate\" in the future</mark>. These correspond to the transformation of the lon/lat coordinates from the RAWS site onto the regular HRRR grid.\n",
    "    - A `RAWS` subdirectory that includes at least FMC observations and the associated times returned by Synoptic. These times may not line up perfectly with the requested regular hours. In addition to the FMC data, any available ground-based sensor data for variables relevant to FMC were collected. These data are intended to be used as validation for the accuracy of the interpolated HRRR data.\n",
    "    - A `HRRR` subdirectory that includes atmospheric variables relevant to FMC. The formatted table below shows the variables used by this project, where band numbers come from [NOAA documentation](https://www.nco.ncep.noaa.gov/pmb/products/hrrr/hrrr.t00z.wrfprsf00.grib2.shtml). <mark>More variables will be collected in the future</mark>. The HRRR subdirectory is organized into forecast hours. Each forecast hour subdirectory should have all the same information, just at different times from the HRRR forecast. "
   ]
  },
  {
   "cell_type": "code",
   "execution_count": 16,
   "id": "8bebd077-2690-4b91-8779-a1223a5c91dc",
   "metadata": {},
   "outputs": [
    {
     "name": "stdout",
     "output_type": "stream",
     "text": [
      "loading file data/fmda_rocky_202403-05_f05.pkl\n"
     ]
    },
    {
     "data": {
      "text/plain": [
       "dict_keys(['CPTC2_202403', 'CHAC2_202403', 'CHRC2_202403', 'DYKC2_202403', 'LKGC2_202403', 'CCEC2_202403', 'RDKC2_202403', 'RFRC2_202403', 'SAWC2_202403', 'WLCC2_202403', 'CCRU1_202403', 'HSRU1_202403', 'YLSU1_202403', 'BRLW4_202403', 'GTGW4_202403', 'SAWW4_202403', 'SPKW4_202403', 'ESPC2_202403', 'MRFC2_202403', 'PKLC2_202403', 'BRAU1_202403', 'NLPU1_202403', 'TS010_202403', 'CUHC2_202403', 'BAWC2_202403', 'BTAC2_202403', 'SOPC2_202403', 'BMOC2_202403', 'CYNC2_202403', 'TR223_202403', 'TCTM8_202403', 'TR337_202403', 'VLRW4_202403', 'TR383_202403', 'LEIW4_202403', 'TR390_202403', 'TS001_202403', 'HSYN1_202403', 'HRSN1_202403', 'SBFN1_202403', 'DOHS2_202403', 'BKFS2_202403', 'CRRS2_202403', 'NMOS2_202403', 'RDCS2_202403', 'TGSK1_202403', 'QNRK1_202403', 'RESN1_202403', 'VRFN1_202403', 'KSHC2_202403', 'TR563_202403', 'CGLK1_202403', 'MRLS2_202403', 'TR755_202403', 'DEOI4_202403', 'CCYC2_202403', 'HBOM8_202403', 'TR937_202403', 'TR956_202403', 'PINS2_202403', 'DVLW4_202403', 'TS040_202403', 'RLAS2_202403', 'RHUS2_202403', 'JNSC2_202403', 'LSHI4_202403', 'TS305_202403', 'TS343_202403', 'LLKS2_202403', 'AGTN1_202403', 'WCAS2_202403', 'RHRS2_202403', 'TS485_202403', 'TS578_202403', 'TS582_202403', 'HITI4_202403', 'KRNK1_202403', 'AENC2_202403', 'LSTC2_202403', 'LPFC2_202403', 'LOOC2_202403', 'TS661_202403', 'TS872_202403', 'TS897_202403', 'RRAC2_202403', 'FKTC2_202403', 'DMTC2_202403', 'WPKS2_202403', 'KSEC2_202403', 'TS946_202403', 'TS954_202403', 'TS964_202403', 'TT065_202403', 'TT081_202403', 'CSPS2_202403', 'SDSS2_202403', 'SHDS2_202403', 'RWES2_202403', 'TT283_202403', 'PMTW4_202403', 'TT364_202403', 'BEYC2_202403', 'TT456_202403', 'MTRN1_202403', 'MKVN1_202403', 'TT561_202403', 'TT562_202403', 'TT563_202403', 'TT564_202403', 'TT565_202403', 'TT566_202403', 'TT567_202403', 'TT568_202403', 'TT574_202403', 'SFRS2_202403', 'TT590_202403', 'TT591_202403', 'TT610_202403', 'TT681_202403', 'TT689_202403', 'TT695_202403', 'TT696_202403', 'C3SKI_202403', 'TT784_202403', 'TT787_202403', 'TT788_202403', 'TT789_202403', 'TT813_202403', 'TT815_202403', 'TT816_202403'])"
      ]
     },
     "execution_count": 16,
     "metadata": {},
     "output_type": "execute_result"
    }
   ],
   "source": [
    "dat = read_pkl(f\"data/{filename}\")\n",
    "\n",
    "# Print top level keys, each corresponds to a RAWS site\n",
    "dat.keys()"
   ]
  },
  {
   "cell_type": "code",
   "execution_count": 18,
   "id": "e0dda99c-077c-4fdd-a5ae-0c3095c2057f",
   "metadata": {},
   "outputs": [
    {
     "data": {
      "text/plain": [
       "dict_keys(['loc', 'RAWS', 'HRRR'])"
      ]
     },
     "execution_count": 18,
     "metadata": {},
     "output_type": "execute_result"
    }
   ],
   "source": [
    "# Check structure within \n",
    "dat['CPTC2_202403'].keys()"
   ]
  },
  {
   "cell_type": "code",
   "execution_count": 17,
   "id": "e5d9e2e8-90ff-4597-8dd9-4a8f3cec2303",
   "metadata": {},
   "outputs": [
    {
     "name": "stdout",
     "output_type": "stream",
     "text": [
      "loc\n",
      "      STID : CPTC2\n",
      "      lat : 38.45964\n",
      "      lon : -109.04731\n",
      "      elev : 8124\n",
      "      pixel_x : 565.3953218828111\n",
      "      pixel_y : 509.89701435338947\n",
      "RAWS\n",
      "     temp: NumPy array of shape (2206,), min: 265.37199999999996, max: 298.15\n",
      "     fm: NumPy array of shape (2206,), min: nan, max: nan\n",
      "     precip_accum: NumPy array of shape (2206,), min: 234.442, max: 329.692\n",
      "     rh: NumPy array of shape (2206,), min: nan, max: nan\n",
      "     solar: NumPy array of shape (2206,), min: nan, max: nan\n",
      "     wind: NumPy array of shape (2206,), min: 0.0, max: 9.836\n",
      "     time_raws: NumPy array of shape (2206,), type object\n",
      "      hours : 2206\n",
      "     rain: NumPy array of shape (2206,), min: nan, max: nan\n",
      "     time: NumPy array of shape (2208,), type object\n",
      "     Ed: NumPy array of shape (2206,), min: nan, max: nan\n",
      "     Ew: NumPy array of shape (2206,), min: nan, max: nan\n",
      "HRRR\n",
      "     time: NumPy array of shape (2208,), type object\n",
      "     f00\n",
      "          temp: NumPy array of shape (2208,), min: 266.31361616233835, max: 297.0688328224595\n",
      "          rh: NumPy array of shape (2208,), min: 7.522713670093307, max: 100.0\n",
      "          wind: NumPy array of shape (2208,), min: 0.3045713911157861, max: 15.09099812055511\n",
      "          rain: NumPy array of shape (2208,), min: 0.0, max: 0.0\n",
      "          precip_accum: NumPy array of shape (2208,), min: 0.0, max: 0.0\n",
      "          solar: NumPy array of shape (2208,), min: 0.0, max: 1081.7302004975074\n",
      "          soilm: NumPy array of shape (2208,), min: 0.056126406019675175, max: 0.24291703082319627\n",
      "          canopyw: NumPy array of shape (2208,), min: 0.0, max: 0.22516238164522542\n",
      "          groundflux: NumPy array of shape (2208,), min: -233.81325316643472, max: 413.492723688566\n",
      "          Ed: NumPy array of shape (2208,), min: 3.932314579339184, max: 35.68315971965122\n",
      "          Ew: NumPy array of shape (2208,), min: 3.054240651963201, max: 33.45629656041178\n",
      "           descr : Source: HRRR data from 3d pressure model, linear grid interpolated to RAWS location\n",
      "     f01\n",
      "          temp: NumPy array of shape (2208,), min: 266.23398017958317, max: 296.44382028187067\n",
      "          rh: NumPy array of shape (2208,), min: 7.924628703663794, max: 99.89361880234587\n",
      "          wind: NumPy array of shape (2208,), min: 0.857171459405575, max: 17.08500761588227\n",
      "          rain: NumPy array of shape (2208,), min: 0.0, max: 0.0011523953973755687\n",
      "          precip_accum: NumPy array of shape (2208,), min: 0.0, max: 3.818563702589338\n",
      "          solar: NumPy array of shape (2208,), min: 0.0, max: 1085.3123418809882\n",
      "          soilm: NumPy array of shape (2208,), min: 0.05618867931276529, max: 0.24391702788694158\n",
      "          canopyw: NumPy array of shape (2208,), min: 0.0, max: 0.22516238164522542\n",
      "          groundflux: NumPy array of shape (2208,), min: -190.44097420877293, max: 197.81739845084203\n",
      "          Ed: NumPy array of shape (2208,), min: 3.7409142192408273, max: 35.42171589416511\n",
      "          Ew: NumPy array of shape (2208,), min: 2.890177763576445, max: 33.18474475653207\n",
      "           descr : Source: HRRR data from 3d pressure model, linear grid interpolated to RAWS location\n",
      "     f02\n",
      "          temp: NumPy array of shape (2208,), min: 266.3023447171182, max: 296.3819077033915\n",
      "          rh: NumPy array of shape (2208,), min: 8.572388920530683, max: 98.93624709487392\n",
      "          wind: NumPy array of shape (2208,), min: 0.8997371296338974, max: 17.506610622385477\n",
      "          rain: NumPy array of shape (2208,), min: 0.0, max: 0.000808383361969642\n",
      "          precip_accum: NumPy array of shape (2208,), min: 0.0, max: 6.447254505786518\n",
      "          solar: NumPy array of shape (2208,), min: 9999.0, max: 73766.72554235284\n",
      "          soilm: NumPy array of shape (2208,), min: 0.056229391723326284, max: 0.25618360229458087\n",
      "          canopyw: NumPy array of shape (2208,), min: 0.0, max: 0.22516238164522542\n",
      "          groundflux: NumPy array of shape (2208,), min: 0.009999999776482582, max: 1.7789612461724267\n",
      "          Ed: NumPy array of shape (2208,), min: 3.888212152348996, max: 34.55049300780814\n",
      "          Ew: NumPy array of shape (2208,), min: 3.0189887776983633, max: 32.41137694356307\n",
      "           descr : Source: HRRR data from 3d pressure model, linear grid interpolated to RAWS location\n",
      "     f03\n",
      "          temp: NumPy array of shape (2208,), min: 266.49124815086304, max: 296.43641891429814\n",
      "          rh: NumPy array of shape (2208,), min: 8.22678497134034, max: 99.67813077291042\n",
      "          wind: NumPy array of shape (2208,), min: 0.6948617299916177, max: 16.692394681557076\n",
      "          rain: NumPy array of shape (2208,), min: 0.0, max: 0.0019892073336366233\n",
      "          precip_accum: NumPy array of shape (2208,), min: 0.0, max: 6.620534289264193\n",
      "          solar: NumPy array of shape (2208,), min: 9999.0, max: 75118.94727838921\n",
      "          soilm: NumPy array of shape (2208,), min: 0.05633237734665757, max: 0.24704795136399813\n",
      "          canopyw: NumPy array of shape (2208,), min: 0.0, max: 0.22516238164522542\n",
      "          groundflux: NumPy array of shape (2208,), min: 0.009999999776482582, max: 1.82984322300172\n",
      "          Ed: NumPy array of shape (2208,), min: 3.898405875086503, max: 35.3161585254147\n",
      "          Ew: NumPy array of shape (2208,), min: 3.026358431425586, max: 33.1225109478954\n",
      "           descr : Source: HRRR data from 3d pressure model, linear grid interpolated to RAWS location\n",
      "     f04\n",
      "          temp: NumPy array of shape (2208,), min: 266.60861236441275, max: 296.7403710940174\n",
      "          rh: NumPy array of shape (2208,), min: 8.22397927244252, max: 99.218160938994\n",
      "          wind: NumPy array of shape (2208,), min: 0.8755208489425036, max: 16.013336774541347\n",
      "          rain: NumPy array of shape (2208,), min: 0.0, max: 0.0009086639333167349\n",
      "          precip_accum: NumPy array of shape (2208,), min: 0.0, max: 10.47931470944884\n",
      "          solar: NumPy array of shape (2208,), min: 9999.0, max: 74598.02692116056\n",
      "          soilm: NumPy array of shape (2208,), min: 0.05639465063974769, max: 0.26057258465276445\n",
      "          canopyw: NumPy array of shape (2208,), min: 0.0, max: 0.22516238164522542\n",
      "          groundflux: NumPy array of shape (2208,), min: 0.009999999776482582, max: 1.8045979136401873\n",
      "          Ed: NumPy array of shape (2208,), min: 3.685043643149153, max: 35.04682955772404\n",
      "          Ew: NumPy array of shape (2208,), min: 2.841425105087737, max: 32.86979493206988\n",
      "           descr : Source: HRRR data from 3d pressure model, linear grid interpolated to RAWS location\n",
      "     f05\n",
      "          temp: NumPy array of shape (2208,), min: 266.3648542238918, max: 296.2888829803619\n",
      "          rh: NumPy array of shape (2208,), min: 7.537421962815154, max: 99.85815569767279\n",
      "          wind: NumPy array of shape (2208,), min: 0.8003855152656467, max: 16.913225254587914\n",
      "          rain: NumPy array of shape (2208,), min: 0.0, max: 0.0018840534121556014\n",
      "          precip_accum: NumPy array of shape (2208,), min: 0.0, max: 11.387790077406123\n",
      "          solar: NumPy array of shape (2208,), min: 9999.0, max: 64186.98061084289\n",
      "          soilm: NumPy array of shape (2208,), min: 0.05678997317203569, max: 0.27401656887314185\n",
      "          canopyw: NumPy array of shape (2208,), min: 0.0, max: 0.22516238164522542\n",
      "          groundflux: NumPy array of shape (2208,), min: 0.009999999776482582, max: 1.7929638514819835\n",
      "          Ed: NumPy array of shape (2208,), min: 4.116434318104, max: 35.40442852734956\n",
      "          Ew: NumPy array of shape (2208,), min: 3.222569365074795, max: 33.17071185831675\n",
      "           descr : Source: HRRR data from 3d pressure model, linear grid interpolated to RAWS location\n"
     ]
    }
   ],
   "source": [
    "print_dict_summary(dat['CPTC2_202403'])"
   ]
  },
  {
   "cell_type": "code",
   "execution_count": 19,
   "id": "f9b9dafc-1020-4973-84e4-321a903441b1",
   "metadata": {},
   "outputs": [
    {
     "data": {
      "text/html": [
       "<div>\n",
       "<style scoped>\n",
       "    .dataframe tbody tr th:only-of-type {\n",
       "        vertical-align: middle;\n",
       "    }\n",
       "\n",
       "    .dataframe tbody tr th {\n",
       "        vertical-align: top;\n",
       "    }\n",
       "\n",
       "    .dataframe thead th {\n",
       "        text-align: right;\n",
       "    }\n",
       "</style>\n",
       "<table border=\"1\" class=\"dataframe\">\n",
       "  <thead>\n",
       "    <tr style=\"text-align: right;\">\n",
       "      <th></th>\n",
       "      <th>Band</th>\n",
       "      <th>hrrr_name</th>\n",
       "      <th>dict_name</th>\n",
       "      <th>descr</th>\n",
       "    </tr>\n",
       "  </thead>\n",
       "  <tbody>\n",
       "    <tr>\n",
       "      <th>0</th>\n",
       "      <td>616</td>\n",
       "      <td>TMP</td>\n",
       "      <td>temp</td>\n",
       "      <td>2m Temperature [K]</td>\n",
       "    </tr>\n",
       "    <tr>\n",
       "      <th>1</th>\n",
       "      <td>620</td>\n",
       "      <td>RH</td>\n",
       "      <td>rh</td>\n",
       "      <td>2m Relative Humidity [%]</td>\n",
       "    </tr>\n",
       "    <tr>\n",
       "      <th>2</th>\n",
       "      <td>624</td>\n",
       "      <td>WIND</td>\n",
       "      <td>wind</td>\n",
       "      <td>10m Wind Speed [m/s]surface Precip. Rate [kg/m...</td>\n",
       "    </tr>\n",
       "    <tr>\n",
       "      <th>3</th>\n",
       "      <td>628</td>\n",
       "      <td>PRATE</td>\n",
       "      <td>rain</td>\n",
       "      <td>surface Total Precipitation [kg/m^2]</td>\n",
       "    </tr>\n",
       "    <tr>\n",
       "      <th>4</th>\n",
       "      <td>629</td>\n",
       "      <td>APCP</td>\n",
       "      <td>precip_accum</td>\n",
       "      <td>surface Downward Short-Wave Radiation Flux [W/...</td>\n",
       "    </tr>\n",
       "    <tr>\n",
       "      <th>5</th>\n",
       "      <td>661</td>\n",
       "      <td>DSWRF</td>\n",
       "      <td>solar</td>\n",
       "      <td>surface Total Precipitation [kg/m^2]</td>\n",
       "    </tr>\n",
       "    <tr>\n",
       "      <th>6</th>\n",
       "      <td>561</td>\n",
       "      <td>SOILW</td>\n",
       "      <td>soilm</td>\n",
       "      <td>0.0m below ground Volumetric Soil Moisture Con...</td>\n",
       "    </tr>\n",
       "    <tr>\n",
       "      <th>7</th>\n",
       "      <td>612</td>\n",
       "      <td>CNWAT</td>\n",
       "      <td>canopyw</td>\n",
       "      <td>Plant Canopy Surface Water [kg/m^2]</td>\n",
       "    </tr>\n",
       "    <tr>\n",
       "      <th>8</th>\n",
       "      <td>643</td>\n",
       "      <td>GFLUX</td>\n",
       "      <td>groundflux</td>\n",
       "      <td>surface Ground Heat Flux [W/m^2]</td>\n",
       "    </tr>\n",
       "  </tbody>\n",
       "</table>\n",
       "</div>"
      ],
      "text/plain": [
       "   Band hrrr_name     dict_name  \\\n",
       "0   616       TMP          temp   \n",
       "1   620        RH            rh   \n",
       "2   624      WIND          wind   \n",
       "3   628     PRATE          rain   \n",
       "4   629      APCP  precip_accum   \n",
       "5   661     DSWRF         solar   \n",
       "6   561     SOILW         soilm   \n",
       "7   612     CNWAT       canopyw   \n",
       "8   643     GFLUX    groundflux   \n",
       "\n",
       "                                               descr  \n",
       "0                                 2m Temperature [K]  \n",
       "1                           2m Relative Humidity [%]  \n",
       "2  10m Wind Speed [m/s]surface Precip. Rate [kg/m...  \n",
       "3               surface Total Precipitation [kg/m^2]  \n",
       "4  surface Downward Short-Wave Radiation Flux [W/...  \n",
       "5               surface Total Precipitation [kg/m^2]  \n",
       "6  0.0m below ground Volumetric Soil Moisture Con...  \n",
       "7                Plant Canopy Surface Water [kg/m^2]  \n",
       "8                   surface Ground Heat Flux [W/m^2]  "
      ]
     },
     "execution_count": 19,
     "metadata": {},
     "output_type": "execute_result"
    }
   ],
   "source": [
    "# Print dataframe used to organize HRRR band retrievals\n",
    "band_df_hrrr = pd.DataFrame({\n",
    "    'Band': [616, 620, 624, 628, 629, 661, 561, 612, 643],\n",
    "    'hrrr_name': ['TMP', 'RH', \"WIND\", 'PRATE', 'APCP',\n",
    "                  'DSWRF', 'SOILW', 'CNWAT', 'GFLUX'],\n",
    "    'dict_name': [\"temp\", \"rh\", \"wind\", \"rain\", \"precip_accum\",\n",
    "                 \"solar\", \"soilm\", \"canopyw\", \"groundflux\"],\n",
    "    'descr': ['2m Temperature [K]', \n",
    "              '2m Relative Humidity [%]', \n",
    "              '10m Wind Speed [m/s]'\n",
    "              'surface Precip. Rate [kg/m^2/s]',\n",
    "              'surface Total Precipitation [kg/m^2]',\n",
    "              'surface Downward Short-Wave Radiation Flux [W/m^2]',\n",
    "              'surface Total Precipitation [kg/m^2]',\n",
    "              '0.0m below ground Volumetric Soil Moisture Content [Fraction]',\n",
    "              'Plant Canopy Surface Water [kg/m^2]',\n",
    "              'surface Ground Heat Flux [W/m^2]']\n",
    "})\n",
    "\n",
    "band_df_hrrr"
   ]
  },
  {
   "cell_type": "markdown",
   "id": "191d9cb9-bbbd-4a7d-8413-8b508e7be052",
   "metadata": {},
   "source": [
    "## Formatting Data\n",
    "\n",
    "The `build_train_dict` function reads the previously described dictionary and processes it in a few ways. The function lives in the `data_funcs` python module, which is intended to include code that is specific to the particular formatting decisions of this project. The `build_train_dict` function can receive some important parameters that control how it processes the data:\n",
    "\n",
    "* `params_data`: this is a configuration file. An example is saved internally in this project as `params_data.yaml`. This file includes hyperparameters related to data filtering. These hyperparameters control how suspect data is flagged and filtered.\n",
    "* `atm_source`: this specifies the subdictionary source for the atmospheric data. Currently this is one of \"HRRR\" or \"RAWS\".\n",
    "* `forecast_hour`: this specifies which HRRR forecast hour should be used. At the 0th hour, the HRRR weather model is very smooth and there is no accumulated precipitation yet. Within `wrfxpy`, the 3rd forecast hour is used.\n",
    "\n",
    "\n",
    "The `build_train_dict` function performs the following operations:\n",
    "\n",
    "* Reads a list of file names\n",
    "* Extracts FMC and all possible modeling variables. This includes\n",
    "    * Extracting static variables, like elevation, and extending them by the number of timeseries hours to fit a tabular data format for machine learning.\n",
    "    * Calculates derived features like hour of day and day of year.\n",
    "    * Calculates hourly precipitation (mm/hr) from accumulated precipitation.\n",
    "* Temporally interpolate RAWS data, including FMC, to make it line up in time with the HRRR data. The HRRR data is always on a regular hourly interval, but the RAWS data can have missing data or return values not exactly on the hour requested.\n",
    "* Shift the atmospheric data by the given `forecast_hour`. So if you want to build a timeseries at 3pm using the 3hr HRRR forecast data, you would start your data with the 3hr forecast from noon.\n",
    "* Perform a series of data filtering steps:\n",
    "    * If specified, the total timeseries within the input dictioanry is broken up into chunks of a specified number of `hours`. This makes the data filtering much easier, since we want continuous timeseries for training the RNN models, and if chunks of data are missing in time from the RAWS data it is easier to break the whole timeseries into smaller pieces and filter out the bad ones.\n",
    "    * Physically reasonable min and max values for various variables are applied as filters\n",
    "    * Two main parameters control what is fully excluded from the training data:\n",
    "        * `max_intp_time`: this is the maximum number of hours that is allowed for temporal interpolation. Any RAWS site with a longer stretch of missing data will be flagged and removed.\n",
    "        *  `zero_lag_threshold`: this is the maximum number of hours where there can be zero change in a variable before it is flagged as a broken sensor and values are set to NaN for that period.\n",
    "        *  NOTE: since this is training data for a model where ample input data is available, we will air on the side of aggressively filtering out suspect data since more can always be collected if volume is an issue. It is possible that sensors break nonrandomly, maybe more missing data in a particular season of the year. This merits further study. "
   ]
  },
  {
   "cell_type": "code",
   "execution_count": 21,
   "id": "8a9f18e3-be33-4b29-bcda-6f7c7bb72e6a",
   "metadata": {},
   "outputs": [
    {
     "data": {
      "text/plain": [
       "{'max_intp_time': 10,\n",
       " 'zero_lag_threshold': 10,\n",
       " 'hours': 720,\n",
       " 'min_fm': 1,\n",
       " 'max_fm': 90,\n",
       " 'min_rain': 0,\n",
       " 'max_rain': 100,\n",
       " 'min_wind': 0,\n",
       " 'max_wind': 35,\n",
       " 'min_solar': 0,\n",
       " 'max_solar': 1400,\n",
       " 'min_soilm': 0}"
      ]
     },
     "execution_count": 21,
     "metadata": {},
     "output_type": "execute_result"
    }
   ],
   "source": [
    "params_data = read_yml(\"params_data.yaml\") \n",
    "params_data"
   ]
  },
  {
   "cell_type": "code",
   "execution_count": 20,
   "id": "dc3ea077-2475-414d-a440-fcc3678f1348",
   "metadata": {},
   "outputs": [],
   "source": [
    "from data_funcs import build_train_dict\n",
    "\n",
    "file_paths = f\"data/{filename}\""
   ]
  },
  {
   "cell_type": "code",
   "execution_count": null,
   "id": "61ed37a2-7fe1-464e-8b4f-13dfad131311",
   "metadata": {},
   "outputs": [],
   "source": [
    "train = build_train_dict(file_paths, atm_source=\"HRRR\", params_data = params_data, spatial=False, verbose=True,\n",
    "                        forecast_step = 3)"
   ]
  },
  {
   "cell_type": "code",
   "execution_count": null,
   "id": "d8fb4171-d6d5-484c-890b-cc60ec70de69",
   "metadata": {},
   "outputs": [],
   "source": []
  },
  {
   "cell_type": "code",
   "execution_count": null,
   "id": "69b31fc6-f8c6-4d9d-94f8-ebc5e0c8cbb1",
   "metadata": {},
   "outputs": [],
   "source": []
  },
  {
   "cell_type": "code",
   "execution_count": null,
   "id": "a1cbfeff-0560-4bbc-beab-801e9dbc8ef5",
   "metadata": {},
   "outputs": [],
   "source": []
  }
 ],
 "metadata": {
  "kernelspec": {
   "display_name": "Python 3 (ipykernel)",
   "language": "python",
   "name": "python3"
  },
  "language_info": {
   "codemirror_mode": {
    "name": "ipython",
    "version": 3
   },
   "file_extension": ".py",
   "mimetype": "text/x-python",
   "name": "python",
   "nbconvert_exporter": "python",
   "pygments_lexer": "ipython3",
   "version": "3.12.5"
  }
 },
 "nbformat": 4,
 "nbformat_minor": 5
}
