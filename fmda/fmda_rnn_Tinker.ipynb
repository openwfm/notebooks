{
 "cells": [
  {
   "cell_type": "markdown",
   "id": "a9df30a4-c9b1-4bcb-8183-1030ff1c1332",
   "metadata": {},
   "source": [
    "# Tinker with the RNN\n",
    "\n",
    "The point of this notebook is to analyze the Physics-Initiated RNN on a granual scale. In each major section, we will present an issue with the RNN outputs and analyze ways to fix."
   ]
  },
  {
   "cell_type": "markdown",
   "id": "41b6c912-a46b-461f-bde3-9add77ef0af6",
   "metadata": {},
   "source": [
    "## Setup"
   ]
  },
  {
   "cell_type": "code",
   "execution_count": null,
   "id": "f1852edc-a583-4371-9bc8-c802ae6575ae",
   "metadata": {},
   "outputs": [],
   "source": [
    "# Setup\n",
    "import reproducibility\n",
    "\n",
    "# both can change\n",
    "# Environment\n",
    "import numpy as np\n",
    "import pandas as pd\n",
    "import tensorflow as tf\n",
    "from keras.models import Sequential\n",
    "from keras.layers import Dense, SimpleRNN\n",
    "# from keras.utils.vis_utils import plot_model\n",
    "from keras.utils import plot_model\n",
    "\n",
    "from sklearn.preprocessing import MinMaxScaler\n",
    "from sklearn.metrics import mean_squared_error\n",
    "import math\n",
    "import json\n",
    "import matplotlib.pyplot as plt\n",
    "import tensorflow as tf\n",
    "import keras.backend as K\n",
    "# from keras.utils.vis_utils import plot_model\n",
    "from scipy.interpolate import LinearNDInterpolator, interpn\n",
    "from scipy.optimize import root\n",
    "import pickle, os\n",
    "from utils import hash2\n",
    "%matplotlib inline\n",
    "\n",
    "# Local modules for handling data and running moisture models\n",
    "import data_funcs as datf\n",
    "from data_funcs import format_raws, retrieve_raws, format_precip, fixnan, load_and_fix_data\n",
    "from data_funcs import raws_data, synthetic_data, plot_data, check_data, rmse_data, to_json, from_json\n",
    "import moisture_models as mod\n",
    "from moisture_rnn import run_case, run_rnn, create_RNN_2, staircase, create_rnn_data, train_rnn, rnn_predict\n"
   ]
  },
  {
   "cell_type": "code",
   "execution_count": null,
   "id": "d972a09e-205c-4a8d-bad5-6ba3f6ed6681",
   "metadata": {},
   "outputs": [],
   "source": [
    "# Data\n",
    "# Change directory for data read/write\n",
    "\n",
    "dict_file='data/raws_CO_202306.pickle' # input path of FMDA dictionaries\n",
    "reproducibility_file='data/reproducibility_dict.pickle'\n",
    "\n",
    "# read test datasets\n",
    "test_dict={}\n",
    "test_dict.update(load_and_fix_data(dict_file))\n",
    "print(test_dict.keys())\n",
    "\n",
    "repro_dict={}\n",
    "repro_dict.update(load_and_fix_data(reproducibility_file))\n",
    "print(repro_dict.keys())"
   ]
  },
  {
   "cell_type": "markdown",
   "id": "171cb81b-f8b8-4e75-8e12-09daa87f7d01",
   "metadata": {},
   "source": [
    "## Poor initial fits \n",
    "\n",
    "Sometimes the RNN has very poor initial fits. When the activation is linear, this results in largely overestimating the FM. We will examine whether this is an issue with the data or with fitting the initial weights.\n",
    "\n",
    "* Case studies for overestimating: `CPTC2_202306010000`, `CHAC2_202306010000`, `CHRC2_202306010000`, `WLCC2_202306010000`"
   ]
  },
  {
   "cell_type": "code",
   "execution_count": null,
   "id": "c00cbe6f-6f56-4af3-97c8-2ef3306458d5",
   "metadata": {},
   "outputs": [],
   "source": [
    "# Build Case Data\n",
    "id = \"CPTC2_202306010000\"\n",
    "case_data=test_dict[id]\n",
    "case_data[\"hours\"]=len(case_data['fm'])\n",
    "case_data[\"h2\"]=int(24*20)"
   ]
  },
  {
   "cell_type": "markdown",
   "id": "1ea15a94-5296-4134-9d1e-13c68301c726",
   "metadata": {},
   "source": [
    "First, we check how the Augmented KF performs."
   ]
  },
  {
   "cell_type": "code",
   "execution_count": null,
   "id": "987cfd43-5cb0-410d-8835-9468503b06fc",
   "metadata": {},
   "outputs": [],
   "source": [
    "m, Ec =mod.run_augmented_kf(case_data)\n",
    "case_data[\"m\"] = m\n",
    "plot_data(case_data,title2='augmented KF')"
   ]
  },
  {
   "cell_type": "markdown",
   "id": "a8fb6618-e48c-40af-810d-8206bee1d078",
   "metadata": {},
   "source": [
    "The Augmented KF is reasonable."
   ]
  },
  {
   "cell_type": "markdown",
   "id": "0bd36b36-0aee-4849-b049-2b66dad2f64c",
   "metadata": {},
   "source": [
    "### Linear Activation overestimates\n",
    "\n",
    "Next, we initialize the RNN with linear activation and 1 single hidden unit and plot."
   ]
  },
  {
   "cell_type": "code",
   "execution_count": null,
   "id": "6345e4dc-fa6b-49b3-9840-86f84cfc1ca9",
   "metadata": {},
   "outputs": [],
   "source": [
    "# Linear Activation Params\n",
    "params={'id':1,\n",
    "        'purpose':'test 1',\n",
    "        'cases':'all',\n",
    "        'scale':1,        # every feature in [0, scale]\n",
    "        'rain_do':True,\n",
    "        'verbose':False,\n",
    "        'timesteps':5,\n",
    "        'activation':['linear','linear'],\n",
    "        'hidden_units':1,  \n",
    "        'dense_units':1,    # do not change\n",
    "        'dense_layers':1,   # do not change\n",
    "        'centering':[0.0,0.0],  # should be activation at 0\n",
    "        'DeltaE':[0,-1],    # bias correction\n",
    "        'synthetic':False,  # run also synthetic cases\n",
    "        'T1': 0.1,          # 1/fuel class (10)\n",
    "        'fm_raise_vs_rain': 2.0,         # fm increase per mm rain \n",
    "        'train_frac':0.5,  # time fraction to spend on training\n",
    "        'epochs':1000,\n",
    "        'verbose_fit':False,\n",
    "        'verbose_weights':False,\n",
    "}"
   ]
  },
  {
   "cell_type": "code",
   "execution_count": null,
   "id": "3f98aee6-7118-412f-a1ac-de2116608b08",
   "metadata": {},
   "outputs": [],
   "source": [
    "reproducibility.set_seed() # Set seed for reproducibility\n",
    "rnn_dat = create_rnn_data(case_data,params)\n",
    "model1 = train_rnn(\n",
    "    rnn_dat,\n",
    "    params,\n",
    "    rnn_dat['hours'],\n",
    "    fit=False\n",
    ")\n",
    "case_data['m'] = rnn_predict(model1, params, rnn_dat)\n",
    "fit_linear = case_data['m']"
   ]
  },
  {
   "cell_type": "code",
   "execution_count": null,
   "id": "b1f7826b-b951-4cf3-9626-49ff0a84a53b",
   "metadata": {},
   "outputs": [],
   "source": [
    "plot_data(case_data,title2='Initial RNN Linear')"
   ]
  },
  {
   "cell_type": "code",
   "execution_count": null,
   "id": "06de0b51-4e0b-44fc-95d7-269217f5f21f",
   "metadata": {},
   "outputs": [],
   "source": [
    "model1.get_weights()"
   ]
  },
  {
   "cell_type": "markdown",
   "id": "504dc3ad-6ff2-4d4d-afe5-20101e49018b",
   "metadata": {},
   "source": [
    "Try again with different `fm_raise_vs_rain`..."
   ]
  },
  {
   "cell_type": "code",
   "execution_count": null,
   "id": "0f30c02c-cedc-46be-98a4-4a4dcda57657",
   "metadata": {},
   "outputs": [],
   "source": [
    "# Linear Activation Params\n",
    "params={'id':1,\n",
    "        'purpose':'test 1',\n",
    "        'cases':'all',\n",
    "        'scale':1,        # every feature in [0, scale]\n",
    "        'rain_do':True,\n",
    "        'verbose':False,\n",
    "        'timesteps':5,\n",
    "        'activation':['linear','linear'],\n",
    "        'hidden_units':1,  \n",
    "        'dense_units':1,    # do not change\n",
    "        'dense_layers':1,   # do not change\n",
    "        'centering':[0.0,0.0],  # should be activation at 0\n",
    "        'DeltaE':[0,-1],    # bias correction\n",
    "        'synthetic':False,  # run also synthetic cases\n",
    "        'T1': 0.1,          # 1/fuel class (10)\n",
    "        'fm_raise_vs_rain': 0.1,         # fm increase per mm rain \n",
    "        'train_frac':0.5,  # time fraction to spend on training\n",
    "        'epochs':1000,\n",
    "        'verbose_fit':False,\n",
    "        'verbose_weights':False,\n",
    "}"
   ]
  },
  {
   "cell_type": "code",
   "execution_count": null,
   "id": "0a9671b3-c506-4d30-b097-1092836c0124",
   "metadata": {},
   "outputs": [],
   "source": [
    "reproducibility.set_seed() # Set seed for reproducibility\n",
    "rnn_dat = create_rnn_data(case_data,params)\n",
    "model2 = train_rnn(\n",
    "    rnn_dat,\n",
    "    params,\n",
    "    rnn_dat['hours'],\n",
    "    fit=False\n",
    ")\n",
    "case_data['m'] = rnn_predict(model2, params, rnn_dat)\n",
    "plot_data(case_data,title2='Initial RNN Linear')"
   ]
  },
  {
   "cell_type": "code",
   "execution_count": null,
   "id": "49026a00-f2e8-40b2-9421-12a14f498e39",
   "metadata": {},
   "outputs": [],
   "source": [
    "model2.get_weights()"
   ]
  },
  {
   "cell_type": "markdown",
   "id": "f0668b47-5f65-4592-a38c-9e3245f0fcac",
   "metadata": {},
   "source": [
    "The fit is much better. The only initial weight that changed is the 3rd weight in the input layer, which corresponds to rain.\n",
    "\n",
    "Note that .1 inches is about 2.5 mm, so this looks like a units issue.\n",
    "\n",
    "Documentation for MesoWest / Mesonet is inconsistent as to whether precipitation is in units of mm or inches:\n",
    "* [Weather.gov](https://www.weather.gov/media/wrh/mesowest/MesoWest_Data_Variables_Definitions.pdf) says inches\n",
    "* [Synoptic](https://developers.synopticdata.com/mesonet/v2/api-variables/) says mm.\n",
    "\n",
    "We investiage the input data and compare rainfall to historical accounts to see if we can deduce inches vs mm:"
   ]
  },
  {
   "cell_type": "code",
   "execution_count": null,
   "id": "966213db-6b2f-425d-9318-2ae5967fb499",
   "metadata": {},
   "outputs": [],
   "source": [
    "print(f\"RAWS Site {case_data['STID']} lat/lon: {case_data['lat']},{case_data['lon']}\")"
   ]
  },
  {
   "cell_type": "code",
   "execution_count": null,
   "id": "9cd458df-fcbd-4ad0-80f1-7525a85f7072",
   "metadata": {},
   "outputs": [],
   "source": [
    "# Get index of largest rainfall and plot series about it with times\n",
    "ind = case_data['rain'].argmax()\n",
    "x=case_data['rain'][np.max([ind-10, 0]) : np.min([ind+10, len(case_data['rain'])])]\n",
    "dates = case_data['time'][np.max([ind-10, 0]) : np.min([ind+10, len(case_data['rain'])])]\n",
    "plt.plot(dates, x, 'o-')\n",
    "plt.xticks(rotation=90, ha='right')\n",
    "print(x)\n",
    "print(dates)"
   ]
  },
  {
   "cell_type": "markdown",
   "id": "5cc38b95-065a-4f82-b0cd-c3c4267cf1b5",
   "metadata": {},
   "source": [
    "A quick historical weather search says the max rainfall at this location was roughly 5mm: https://open-meteo.com/en/docs/historical-weather-api#start_date=2023-06-14&end_date=2023-06-15&hourly=rain&daily=&timezone=GMT\n",
    "\n",
    "Investigating the output from `MesoPy` (from notebook create_RAWS_dict.ipynb), it says the units are mm. So units might not be the issue."
   ]
  },
  {
   "cell_type": "markdown",
   "id": "0e1581a2-1beb-41dc-ad0e-7fe0e9d57378",
   "metadata": {},
   "source": [
    "The initial weight is set by multiplying the parameter of fm increase per mm rain by the scaled max fm divided by the scaled max rain, so maybe this could be address with scaling."
   ]
  },
  {
   "cell_type": "markdown",
   "id": "5e207728-8eec-4a77-bd18-0b2c19f2deaa",
   "metadata": {},
   "source": [
    "### Overestimate issues with other activations"
   ]
  },
  {
   "cell_type": "code",
   "execution_count": null,
   "id": "bdf319ea-817e-45b2-bf9d-8d4823970db1",
   "metadata": {},
   "outputs": [],
   "source": [
    "# Tanh Activation Params\n",
    "params={'id':1,\n",
    "        'purpose':'test 1',\n",
    "        'cases':'all',\n",
    "        'scale':1,        # every feature in [0, scale]\n",
    "        'rain_do':True,\n",
    "        'verbose':False,\n",
    "        'timesteps':5,\n",
    "        'activation':['tanh','tanh'],\n",
    "        'hidden_units':1,  \n",
    "        'dense_units':1,    # do not change\n",
    "        'dense_layers':1,   # do not change\n",
    "        'centering':[0.0,0.0],  # should be activation at 0\n",
    "        'DeltaE':[0,-1],    # bias correction\n",
    "        'synthetic':False,  # run also synthetic cases\n",
    "        'T1': 0.1,          # 1/fuel class (10)\n",
    "        'fm_raise_vs_rain': 2,         # fm increase per mm rain \n",
    "        'train_frac':0.5,  # time fraction to spend on training\n",
    "        'epochs':1000,\n",
    "        'verbose_fit':False,\n",
    "        'verbose_weights':False,\n",
    "}"
   ]
  },
  {
   "cell_type": "code",
   "execution_count": null,
   "id": "22ab5251-f5a8-4fd1-8eec-75f5f17f95c6",
   "metadata": {},
   "outputs": [],
   "source": [
    "reproducibility.set_seed() # Set seed for reproducibility\n",
    "rnn_dat = create_rnn_data(case_data,params)\n",
    "model3 = train_rnn(\n",
    "    rnn_dat,\n",
    "    params,\n",
    "    rnn_dat['hours'],\n",
    "    fit=False\n",
    ")\n",
    "case_data['m'] = rnn_predict(model3, params, rnn_dat)\n",
    "fit_tanh = case_data['m']\n",
    "plot_data(case_data,title2='Initial RNN Tanh')"
   ]
  },
  {
   "cell_type": "code",
   "execution_count": null,
   "id": "47a2f0e5-b6cb-4c53-a49a-75715c89a9a2",
   "metadata": {},
   "outputs": [],
   "source": [
    "model3.get_weights()"
   ]
  },
  {
   "cell_type": "markdown",
   "id": "f7a8f2d9-ed7e-4beb-b40e-51473e42f06b",
   "metadata": {},
   "source": [
    "The overestimation is no longer present with only changing the activation. The initial weight for rain did not have the dramatic effect seen before.\n",
    "\n",
    "We will reproduce some of the calculations manually below to understand the issue. The hidden state at `t=0` is initialized to `0` (according to ChatGPT, Jan, and other internet sources)"
   ]
  },
  {
   "cell_type": "code",
   "execution_count": null,
   "id": "fcd830d8-bf30-4190-9efb-a789ffa9a0e2",
   "metadata": {},
   "outputs": [],
   "source": [
    "# First model value\n",
    "print(\"~\"*50)\n",
    "print(f\"Linear Model at t=0: {fit_linear[0]}\")\n",
    "print(f\"Tanh Model at t=0: {fit_tanh[0]}\")"
   ]
  },
  {
   "cell_type": "code",
   "execution_count": null,
   "id": "1ac600e9-d652-4549-931f-cc5781b9e83c",
   "metadata": {},
   "outputs": [],
   "source": [
    "weights=model3.get_weights() # Same for both tanh and linear activation\n",
    "data0 = rnn_dat['Et'][0] # Input data at time 0\n",
    "\n",
    "#print(data0[0]*weights[0][0] + data0[1]*weights[0][1] + data0[2]*weights[0][2]) # handcalc\n",
    "#print(np.dot(data0, weights[0])) # with linalg \n",
    "\n",
    "# Dot prod is initial weights \n",
    "# initial state is 0 times weight 1\n",
    "# weight2 is 0 bias at RNN layer\n",
    "# Add em up because of linear activation\n",
    "# weights 3 is weight into the Dense layer, initialized at 1\n",
    "# weight 4 is final bias\n",
    "# Times scale at end\n",
    "print(\n",
    "    f\"Linear: {((np.dot(data0, weights[0]) + 0*weights[1] + weights[2])*weights[3] + weights[4])*rnn_dat['scale_fm']}\"\n",
    ") \n",
    "\n",
    "# Repeat with tanh, same steps except tanh function instead of adding (Linear)\n",
    "foo = model3.get_layer(model3.layers[1].name).activation # extract activation function\n",
    "\n",
    "print(\n",
    "    f\"Tanh: {(foo(np.dot(data0, weights[0]) + 0*weights[1] + weights[2])*weights[3] + weights[4])*rnn_dat['scale_fm']}\"\n",
    ") "
   ]
  },
  {
   "cell_type": "markdown",
   "id": "40e83aa3-3251-493e-bb60-64088d417885",
   "metadata": {},
   "source": [
    "The output is the same to about 7 decimal places.\n",
    "\n",
    "Next we show how blowup happens with linear activation. Currently, tanh activation feeds into a dense unit with weight 1, so for 1 initialized RNN cell the final dense layer does not change the output. The calculation above used the inputs at time zero, which had zero rain. Consider the same calculation for a range of rain values, from 0 to 6, the max observed in the case data"
   ]
  },
  {
   "cell_type": "code",
   "execution_count": null,
   "id": "784eec1f-db0f-4f82-9d40-98075da332be",
   "metadata": {},
   "outputs": [],
   "source": [
    "data0 = rnn_dat['Et'][0]\n",
    "x = np.linspace(0, 6, 20)\n",
    "y_lin = np.zeros(20)\n",
    "y_tanh = np.zeros(20)\n",
    "\n",
    "for i in range(0, 20):\n",
    "    data0[2] = x[i]\n",
    "    y_lin[i]=((np.dot(data0, weights[0]) + 0*weights[1] + weights[2])*weights[3] + weights[4])*rnn_dat['scale_fm']\n",
    "    y_tanh[i]=(foo(np.dot(data0, weights[0]) + 0*weights[1] + weights[2])*weights[3] + weights[4])*rnn_dat['scale_fm']\n",
    "\n",
    "plt.plot(x, y_lin, '-o', label=\"Linear Activation\")\n",
    "plt.plot(x, y_tanh, '-o', label=\"Tanh Activation\")\n",
    "plt.title(\"Initial Values at t=0, varing rain at time 0\")\n",
    "plt.legend()"
   ]
  },
  {
   "cell_type": "markdown",
   "id": "70caf520-7032-4b15-9bbc-aa537374e952",
   "metadata": {},
   "source": [
    "### Discussion of Initial Fit Overestimation\n",
    "\n",
    "Is 2 % fm increase per mm of rain simply too much? Is threshold rainfall accounted for? \n",
    "\n",
    "Is tanh reasonable simply because at the activation step it avoids blow up effect of rain?"
   ]
  },
  {
   "cell_type": "markdown",
   "id": "b3cf7eea-bef8-4ffd-b0a1-c91c86579c6d",
   "metadata": {},
   "source": [
    "### Sigmoid Underestimating in initial fit\n",
    "\n",
    "* Case study: `CPTC2_202306010000`, `CHRC2_202306010000` with sigmoid activation\n",
    "\n",
    "Note first was a case study for overfitting with linear activation."
   ]
  },
  {
   "cell_type": "code",
   "execution_count": null,
   "id": "e91f064a-1d3a-43c2-96e1-e5dd53ea0ef5",
   "metadata": {},
   "outputs": [],
   "source": [
    "# Sigmoid Activation Params\n",
    "params={'id':1,\n",
    "        'purpose':'test 1',\n",
    "        'cases':'all',\n",
    "        'scale':1,        # every feature in [0, scale]\n",
    "        'rain_do':True,\n",
    "        'verbose':False,\n",
    "        'timesteps':5,\n",
    "        'activation':['sigmoid','sigmoid'],\n",
    "        'hidden_units':1,  \n",
    "        'dense_units':1,    # do not change\n",
    "        'dense_layers':1,   # do not change\n",
    "        'centering':[0.5,0.5],  # should be activation at 0\n",
    "        'DeltaE':[0,-1],    # bias correction\n",
    "        'synthetic':False,  # run also synthetic cases\n",
    "        'T1': 0.1,          # 1/fuel class (10)\n",
    "        'fm_raise_vs_rain': 2,         # fm increase per mm rain \n",
    "        'train_frac':0.5,  # time fraction to spend on training\n",
    "        'epochs':1000,\n",
    "        'verbose_fit':False,\n",
    "        'verbose_weights':False,\n",
    "}"
   ]
  },
  {
   "cell_type": "code",
   "execution_count": null,
   "id": "7da7068d-c6d6-4d1b-871b-a6276dfb3152",
   "metadata": {},
   "outputs": [],
   "source": [
    "reproducibility.set_seed() # Set seed for reproducibility\n",
    "id = \"CPTC2_202306010000\"\n",
    "case_data=test_dict[id]\n",
    "rnn_dat = create_rnn_data(case_data,params)\n",
    "model_predict = train_rnn(\n",
    "    rnn_dat,\n",
    "    params,\n",
    "    rnn_dat['hours'],\n",
    "    fit=False\n",
    ")\n",
    "case_data['m'] = rnn_predict(model_predict, params, rnn_dat)\n",
    "plot_data(case_data,title2='Initial RNN Sigmoid')"
   ]
  },
  {
   "cell_type": "code",
   "execution_count": null,
   "id": "a9a190f1-f730-420c-84a2-3bb52dd86e4e",
   "metadata": {},
   "outputs": [],
   "source": [
    "model_predict.get_weights()"
   ]
  },
  {
   "cell_type": "markdown",
   "id": "069661bf-31af-4794-a624-74f96b558fac",
   "metadata": {},
   "source": [
    "The initial weights are the same as before..."
   ]
  },
  {
   "cell_type": "markdown",
   "id": "fc82bccc-3303-4f69-aaf0-5774026a7e11",
   "metadata": {},
   "source": [
    "Decreasing centering..."
   ]
  },
  {
   "cell_type": "code",
   "execution_count": null,
   "id": "b332580c-9749-420a-b104-a5cc8367ba55",
   "metadata": {},
   "outputs": [],
   "source": [
    "# Sigmoid Activation Params\n",
    "params={'id':1,\n",
    "        'purpose':'test 1',\n",
    "        'cases':'all',\n",
    "        'scale':1,        # every feature in [0, scale]\n",
    "        'rain_do':True,\n",
    "        'verbose':False,\n",
    "        'timesteps':5,\n",
    "        'activation':['sigmoid','sigmoid'],\n",
    "        'hidden_units':1,  \n",
    "        'dense_units':1,    # do not change\n",
    "        'dense_layers':1,   # do not change\n",
    "        'centering':[.1,.1],  # should be activation at 0\n",
    "        'DeltaE':[0,-1],    # bias correction\n",
    "        'synthetic':False,  # run also synthetic cases\n",
    "        'T1': 0.1,          # 1/fuel class (10)\n",
    "        'fm_raise_vs_rain': 2,         # fm increase per mm rain \n",
    "        'train_frac':0.5,  # time fraction to spend on training\n",
    "        'epochs':1000,\n",
    "        'verbose_fit':False,\n",
    "        'verbose_weights':False,\n",
    "}\n",
    "model_predict = train_rnn(\n",
    "    rnn_dat,\n",
    "    params,\n",
    "    rnn_dat['hours'],\n",
    "    fit=False\n",
    ")\n",
    "case_data['m'] = rnn_predict(model_predict, params, rnn_dat)\n",
    "plot_data(case_data,title2='Initial RNN Sigmoid')"
   ]
  },
  {
   "cell_type": "markdown",
   "id": "024d5afa-6984-44fb-9f69-557a3506b4f2",
   "metadata": {},
   "source": [
    "The initial fit is dominated by the rain events, and essentially flat everywhere else. \n",
    "\n",
    "Is this just due to the sigmoid activation?"
   ]
  },
  {
   "cell_type": "code",
   "execution_count": null,
   "id": "16692b30-2709-4b1d-b44a-589ae9f376ba",
   "metadata": {},
   "outputs": [],
   "source": [
    "# Manually work with activation function\n",
    "\n",
    "model_predict.layers[1].activation"
   ]
  },
  {
   "cell_type": "markdown",
   "id": "a3207439-b193-4e32-9e27-8d18558c7cfd",
   "metadata": {},
   "source": [
    "## Clipping Issues\n",
    "\n",
    "Some fitted RNN models \"clip\" the model, where values don't go above or below a certain threshold.\n",
    "\n",
    "* Clipped Below case study: `TT590_202306010000` with tanh activation\n",
    "* Clipped Above case study: `CHRC2_202306010000`, `LKGC2_202306010000` with sigmoid\n",
    "\n",
    "Seems to correspond with underestimation initial fits."
   ]
  },
  {
   "cell_type": "code",
   "execution_count": null,
   "id": "1df5e15c-79d4-4f87-8d7d-da59e541d1d0",
   "metadata": {},
   "outputs": [],
   "source": []
  }
 ],
 "metadata": {
  "kernelspec": {
   "display_name": "Python 3 (ipykernel)",
   "language": "python",
   "name": "python3"
  },
  "language_info": {
   "codemirror_mode": {
    "name": "ipython",
    "version": 3
   },
   "file_extension": ".py",
   "mimetype": "text/x-python",
   "name": "python",
   "nbconvert_exporter": "python",
   "pygments_lexer": "ipython3",
   "version": "3.9.12"
  }
 },
 "nbformat": 4,
 "nbformat_minor": 5
}
